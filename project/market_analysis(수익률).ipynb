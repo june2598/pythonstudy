{
 "cells": [
  {
   "cell_type": "code",
   "execution_count": 1,
   "metadata": {},
   "outputs": [],
   "source": [
    "# 데이터 분석을 위한 패키지\n",
    "import numpy as np\n",
    "import pandas as pd"
   ]
  },
  {
   "cell_type": "code",
   "execution_count": 2,
   "metadata": {},
   "outputs": [],
   "source": [
    "# 시각화 패키지\n",
    "import matplotlib.pyplot as plt\n",
    "import seaborn as sns"
   ]
  },
  {
   "cell_type": "code",
   "execution_count": 3,
   "metadata": {},
   "outputs": [],
   "source": [
    "import FinanceDataReader as fdr"
   ]
  },
  {
   "cell_type": "code",
   "execution_count": 4,
   "metadata": {},
   "outputs": [],
   "source": [
    "import koreanize_matplotlib"
   ]
  },
  {
   "cell_type": "code",
   "execution_count": 5,
   "metadata": {},
   "outputs": [],
   "source": [
    "import datetime\n",
    "from dateutil.relativedelta import relativedelta"
   ]
  },
  {
   "cell_type": "code",
   "execution_count": 6,
   "metadata": {},
   "outputs": [],
   "source": [
    "# 모든 컬럼,행을 출력하도록 설정\n",
    "pd.set_option('display.max_columns', None) # None으로 설정하면 모든 컬럼 출력\n",
    "pd.set_option('display.max_rows', None) #None으로 설정하면 모든 행 출력"
   ]
  },
  {
   "cell_type": "code",
   "execution_count": 9,
   "metadata": {},
   "outputs": [],
   "source": [
    "kospi = fdr.StockListing('KOSPI')\n",
    "kosdaq = fdr.StockListing('KOSDAQ')\n",
    "etfs = fdr.StockListing('ETF/KR')"
   ]
  },
  {
   "cell_type": "code",
   "execution_count": 7,
   "metadata": {},
   "outputs": [],
   "source": [
    "# 날짜는 파이썬 표준라이브러리 datetime 사용\n",
    "import datetime\n",
    "# 오늘 날짜 구하기\n",
    "today = datetime.datetime.today()\n",
    "today_str = today.strftime('%Y-%m-%d')"
   ]
  },
  {
   "cell_type": "code",
   "execution_count": 8,
   "metadata": {},
   "outputs": [],
   "source": [
    "# n개월 전 날짜 계산 함수(개월단위위)\n",
    "def calculate_start_date(months_ago, end_date):\n",
    "    start_date = datetime.datetime.strptime(end_date, '%Y-%m-%d') - relativedelta(months=months_ago)\n",
    "    return start_date.strftime('%Y-%m-%d')"
   ]
  },
  {
   "cell_type": "code",
   "execution_count": null,
   "metadata": {},
   "outputs": [],
   "source": [
    "kospi.head()"
   ]
  },
  {
   "cell_type": "code",
   "execution_count": null,
   "metadata": {},
   "outputs": [],
   "source": [
    "kospi['Code'].tolist()"
   ]
  },
  {
   "cell_type": "code",
   "execution_count": 15,
   "metadata": {},
   "outputs": [
    {
     "data": {
      "text/plain": [
       "(750, 17)"
      ]
     },
     "execution_count": 15,
     "metadata": {},
     "output_type": "execute_result"
    }
   ],
   "source": [
    "kospi.shape"
   ]
  },
  {
   "cell_type": "code",
   "execution_count": 13,
   "metadata": {},
   "outputs": [],
   "source": [
    "# 시장과 기간을 입력받아, 모든 종목을 돌면서 수익률을 반환해주는 함수\n",
    "\n",
    "def return_by_stock(market='KOSPI', month_ago = 1, end_date=today_str):\n",
    "  \n",
    "  start_date = calculate_start_date(month_ago, end_date)\n",
    "  \n",
    "  results = [] # 수익률 결과를 저장할 리스트\n",
    "  \n",
    "  market_list= fdr.StockListing(market)\n",
    "  \n",
    "  try:\n",
    "    \n",
    "    for stock in market_list['Code'].tolist():\n",
    "      data = fdr.DataReader(stock, start=start_date, end=end_date)[['Close']]\n",
    "      \n",
    "      # 일일 수익률\n",
    "      data['return'] = data.pct_change()\n",
    "      \n",
    "      # NaN 값 처리: 첫 번째 행 삭제\n",
    "      data = data.dropna()\n",
    "      \n",
    "      # 수익률을 퍼센트로 변환\n",
    "      data['return'] = data['return'] * 100\n",
    "      \n",
    "      # 해당 기간 전체 수익률 계산\n",
    "      total_return = (data['Close'].iloc[-1] - data['Close'].iloc[0]) / data['Close'].iloc[0] * 100\n",
    "\n",
    "      # 통계 정보 추가\n",
    "      average_return = data['return'].mean()\n",
    "      std_dev_return = data['return'].std()\n",
    "      \n",
    "      # 결과 저장\n",
    "      results.append({\n",
    "          '종목': stock,\n",
    "          '총 수익률': total_return,\n",
    "          '평균 수익률': average_return,\n",
    "          '표준편차': std_dev_return\n",
    "      })\n",
    "\n",
    "      # # 결과 출력\n",
    "      # print(f\"종목: {stock}, {month_ago}개월 총 수익률: {total_return:.2f}%, 평균 수익률: {average_return:.2f}%, 표준편차: {std_dev_return:.4f}\")\n",
    "   \n",
    "\n",
    "    return pd.DataFrame(results)\n",
    "  except Exception as e:\n",
    "    print(f\"데이터를 가져오는 중 오류가 발생했습니다: {e}\")\n",
    "    return None\n"
   ]
  },
  {
   "cell_type": "code",
   "execution_count": null,
   "metadata": {},
   "outputs": [],
   "source": [
    "return_by_stock(3)"
   ]
  },
  {
   "cell_type": "code",
   "execution_count": null,
   "metadata": {},
   "outputs": [],
   "source": []
  },
  {
   "cell_type": "code",
   "execution_count": 16,
   "metadata": {},
   "outputs": [
    {
     "ename": "TypeError",
     "evalue": "strptime() argument 1 must be str, not int",
     "output_type": "error",
     "traceback": [
      "\u001b[1;31m---------------------------------------------------------------------------\u001b[0m",
      "\u001b[1;31mTypeError\u001b[0m                                 Traceback (most recent call last)",
      "Cell \u001b[1;32mIn[16], line 14\u001b[0m\n\u001b[0;32m     11\u001b[0m     \u001b[38;5;28;01mreturn\u001b[39;00m \u001b[38;5;28;01mNone\u001b[39;00m, \u001b[38;5;28;01mNone\u001b[39;00m\n\u001b[0;32m     13\u001b[0m \u001b[38;5;66;03m# 시장별 통계 계산\u001b[39;00m\n\u001b[1;32m---> 14\u001b[0m kospi_avg_return, kospi_std_dev \u001b[38;5;241m=\u001b[39m calculate_market_statistics(\u001b[38;5;124m'\u001b[39m\u001b[38;5;124mKOSPI\u001b[39m\u001b[38;5;124m'\u001b[39m, \u001b[38;5;241m3\u001b[39m)\n\u001b[0;32m     15\u001b[0m kosdaq_avg_return, kosdaq_std_dev \u001b[38;5;241m=\u001b[39m calculate_market_statistics(\u001b[38;5;124m'\u001b[39m\u001b[38;5;124mKOSDAQ\u001b[39m\u001b[38;5;124m'\u001b[39m, \u001b[38;5;241m3\u001b[39m)\n\u001b[0;32m     17\u001b[0m \u001b[38;5;66;03m# 결과 출력\u001b[39;00m\n",
      "Cell \u001b[1;32mIn[16], line 4\u001b[0m, in \u001b[0;36mcalculate_market_statistics\u001b[1;34m(market, month_ago)\u001b[0m\n\u001b[0;32m      3\u001b[0m \u001b[38;5;28;01mdef\u001b[39;00m \u001b[38;5;21mcalculate_market_statistics\u001b[39m(market\u001b[38;5;241m=\u001b[39m\u001b[38;5;124m'\u001b[39m\u001b[38;5;124mKOSPI\u001b[39m\u001b[38;5;124m'\u001b[39m, month_ago\u001b[38;5;241m=\u001b[39m\u001b[38;5;241m1\u001b[39m):\n\u001b[1;32m----> 4\u001b[0m     results_df \u001b[38;5;241m=\u001b[39m return_by_stock(market, month_ago)\n\u001b[0;32m      5\u001b[0m     \u001b[38;5;28;01mif\u001b[39;00m results_df \u001b[38;5;129;01mis\u001b[39;00m \u001b[38;5;129;01mnot\u001b[39;00m \u001b[38;5;28;01mNone\u001b[39;00m:\n\u001b[0;32m      6\u001b[0m       \n\u001b[0;32m      7\u001b[0m         \u001b[38;5;66;03m# 평균 수익률 및 표준편차 계산\u001b[39;00m\n\u001b[0;32m      8\u001b[0m         average_return \u001b[38;5;241m=\u001b[39m results_df[\u001b[38;5;124m'\u001b[39m\u001b[38;5;124m총 수익률\u001b[39m\u001b[38;5;124m'\u001b[39m]\u001b[38;5;241m.\u001b[39mmean()\n",
      "Cell \u001b[1;32mIn[13], line 5\u001b[0m, in \u001b[0;36mreturn_by_stock\u001b[1;34m(month_ago, end_date)\u001b[0m\n\u001b[0;32m      3\u001b[0m \u001b[38;5;28;01mdef\u001b[39;00m \u001b[38;5;21mreturn_by_stock\u001b[39m(month_ago \u001b[38;5;241m=\u001b[39m \u001b[38;5;241m1\u001b[39m, end_date\u001b[38;5;241m=\u001b[39mtoday_str):\n\u001b[1;32m----> 5\u001b[0m   start_date \u001b[38;5;241m=\u001b[39m calculate_start_date(month_ago, end_date)\n\u001b[0;32m      7\u001b[0m   results \u001b[38;5;241m=\u001b[39m [] \u001b[38;5;66;03m# 수익률 결과를 저장할 리스트\u001b[39;00m\n\u001b[0;32m      9\u001b[0m   \u001b[38;5;28;01mtry\u001b[39;00m:\n",
      "Cell \u001b[1;32mIn[8], line 3\u001b[0m, in \u001b[0;36mcalculate_start_date\u001b[1;34m(months_ago, end_date)\u001b[0m\n\u001b[0;32m      2\u001b[0m \u001b[38;5;28;01mdef\u001b[39;00m \u001b[38;5;21mcalculate_start_date\u001b[39m(months_ago, end_date):\n\u001b[1;32m----> 3\u001b[0m     start_date \u001b[38;5;241m=\u001b[39m datetime\u001b[38;5;241m.\u001b[39mdatetime\u001b[38;5;241m.\u001b[39mstrptime(end_date, \u001b[38;5;124m'\u001b[39m\u001b[38;5;124m%\u001b[39m\u001b[38;5;124mY-\u001b[39m\u001b[38;5;124m%\u001b[39m\u001b[38;5;124mm-\u001b[39m\u001b[38;5;132;01m%d\u001b[39;00m\u001b[38;5;124m'\u001b[39m) \u001b[38;5;241m-\u001b[39m relativedelta(months\u001b[38;5;241m=\u001b[39mmonths_ago)\n\u001b[0;32m      4\u001b[0m     \u001b[38;5;28;01mreturn\u001b[39;00m start_date\u001b[38;5;241m.\u001b[39mstrftime(\u001b[38;5;124m'\u001b[39m\u001b[38;5;124m%\u001b[39m\u001b[38;5;124mY-\u001b[39m\u001b[38;5;124m%\u001b[39m\u001b[38;5;124mm-\u001b[39m\u001b[38;5;132;01m%d\u001b[39;00m\u001b[38;5;124m'\u001b[39m)\n",
      "\u001b[1;31mTypeError\u001b[0m: strptime() argument 1 must be str, not int"
     ]
    }
   ],
   "source": [
    "# 각 시장의 평균 수익률과 표준편차를 계산하는 함수\n",
    "\n",
    "def calculate_market_statistics(market='KOSPI', month_ago=1):\n",
    "    results_df = return_by_stock(market, month_ago)\n",
    "    if results_df is not None:\n",
    "      \n",
    "        # 평균 수익률 및 표준편차 계산\n",
    "        average_return = results_df['총 수익률'].mean()\n",
    "        std_dev_return = results_df['총 수익률'].std()\n",
    "        return average_return, std_dev_return\n",
    "    return None, None\n",
    "\n",
    "# 시장별 통계 계산\n",
    "kospi_avg_return, kospi_std_dev = calculate_market_statistics('KOSPI', 3)\n",
    "kosdaq_avg_return, kosdaq_std_dev = calculate_market_statistics('KOSDAQ', 3)\n",
    "\n",
    "# 결과 출력\n",
    "print(\"KOSPI 평균 수익률: {:.2f}%, 표준편차: {:.4f}\".format(kospi_avg_return, kospi_std_dev))\n",
    "print(\"KOSDAQ 평균 수익률: {:.2f}%, 표준편차: {:.4f}\".format(kosdaq_avg_return, kosdaq_std_dev))\n"
   ]
  }
 ],
 "metadata": {
  "kernelspec": {
   "display_name": "base",
   "language": "python",
   "name": "python3"
  },
  "language_info": {
   "codemirror_mode": {
    "name": "ipython",
    "version": 3
   },
   "file_extension": ".py",
   "mimetype": "text/x-python",
   "name": "python",
   "nbconvert_exporter": "python",
   "pygments_lexer": "ipython3",
   "version": "3.12.7"
  }
 },
 "nbformat": 4,
 "nbformat_minor": 2
}
