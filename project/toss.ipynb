{
 "cells": [
  {
   "cell_type": "markdown",
   "metadata": {},
   "source": [
    "#### 토스 커뮤니티는 동적으로 생성되므로, selenium"
   ]
  },
  {
   "cell_type": "code",
   "execution_count": 1,
   "metadata": {},
   "outputs": [],
   "source": [
    "from selenium import webdriver\n",
    "from selenium.webdriver.chrome.options import Options\n",
    "from selenium.webdriver.common.by import By\n",
    "from selenium.webdriver.support.ui import WebDriverWait\n",
    "from selenium.webdriver.support import expected_conditions as EC\n",
    "import pandas as pd"
   ]
  },
  {
   "cell_type": "code",
   "execution_count": 64,
   "metadata": {},
   "outputs": [],
   "source": [
    "import datetime\n",
    "from dateutil.relativedelta import relativedelta"
   ]
  },
  {
   "cell_type": "code",
   "execution_count": 2,
   "metadata": {},
   "outputs": [],
   "source": [
    "import time"
   ]
  },
  {
   "cell_type": "code",
   "execution_count": 3,
   "metadata": {},
   "outputs": [],
   "source": [
    "import FinanceDataReader as fdr"
   ]
  },
  {
   "cell_type": "code",
   "execution_count": 4,
   "metadata": {},
   "outputs": [],
   "source": [
    "from data_loader import load_sector_data"
   ]
  },
  {
   "cell_type": "code",
   "execution_count": 5,
   "metadata": {},
   "outputs": [
    {
     "data": {
      "text/html": [
       "<div>\n",
       "<style scoped>\n",
       "    .dataframe tbody tr th:only-of-type {\n",
       "        vertical-align: middle;\n",
       "    }\n",
       "\n",
       "    .dataframe tbody tr th {\n",
       "        vertical-align: top;\n",
       "    }\n",
       "\n",
       "    .dataframe thead th {\n",
       "        text-align: right;\n",
       "    }\n",
       "</style>\n",
       "<table border=\"1\" class=\"dataframe\">\n",
       "  <thead>\n",
       "    <tr style=\"text-align: right;\">\n",
       "      <th></th>\n",
       "      <th>Code</th>\n",
       "      <th>ISU_CD</th>\n",
       "      <th>Name</th>\n",
       "      <th>Market</th>\n",
       "      <th>Dept</th>\n",
       "      <th>Close</th>\n",
       "      <th>ChangeCode</th>\n",
       "      <th>Changes</th>\n",
       "      <th>ChagesRatio</th>\n",
       "      <th>Open</th>\n",
       "      <th>High</th>\n",
       "      <th>Low</th>\n",
       "      <th>Volume</th>\n",
       "      <th>Amount</th>\n",
       "      <th>Marcap</th>\n",
       "      <th>Stocks</th>\n",
       "      <th>MarketId</th>\n",
       "    </tr>\n",
       "  </thead>\n",
       "  <tbody>\n",
       "    <tr>\n",
       "      <th>0</th>\n",
       "      <td>005930</td>\n",
       "      <td>KR7005930003</td>\n",
       "      <td>삼성전자</td>\n",
       "      <td>KOSPI</td>\n",
       "      <td></td>\n",
       "      <td>56200</td>\n",
       "      <td>1</td>\n",
       "      <td>100</td>\n",
       "      <td>0.18</td>\n",
       "      <td>56100</td>\n",
       "      <td>56500</td>\n",
       "      <td>55900</td>\n",
       "      <td>2194654</td>\n",
       "      <td>123260889300</td>\n",
       "      <td>335501779310000</td>\n",
       "      <td>5969782550</td>\n",
       "      <td>STK</td>\n",
       "    </tr>\n",
       "  </tbody>\n",
       "</table>\n",
       "</div>"
      ],
      "text/plain": [
       "     Code        ISU_CD  Name Market Dept  Close ChangeCode  Changes  \\\n",
       "0  005930  KR7005930003  삼성전자  KOSPI       56200          1      100   \n",
       "\n",
       "   ChagesRatio   Open   High    Low   Volume        Amount           Marcap  \\\n",
       "0         0.18  56100  56500  55900  2194654  123260889300  335501779310000   \n",
       "\n",
       "       Stocks MarketId  \n",
       "0  5969782550      STK  "
      ]
     },
     "execution_count": 5,
     "metadata": {},
     "output_type": "execute_result"
    }
   ],
   "source": [
    "kospi = fdr.StockListing('KOSPI')\n",
    "kospi.head(1)"
   ]
  },
  {
   "cell_type": "code",
   "execution_count": 6,
   "metadata": {},
   "outputs": [],
   "source": [
    "kospi_list = kospi[['Code','Name']].head()"
   ]
  },
  {
   "cell_type": "code",
   "execution_count": 7,
   "metadata": {},
   "outputs": [],
   "source": [
    "code = kospi_list[kospi_list['Name'] == '삼성전자']['Code'].values[0]"
   ]
  },
  {
   "cell_type": "code",
   "execution_count": 8,
   "metadata": {},
   "outputs": [
    {
     "data": {
      "text/plain": [
       "'005930'"
      ]
     },
     "execution_count": 8,
     "metadata": {},
     "output_type": "execute_result"
    }
   ],
   "source": [
    "code"
   ]
  },
  {
   "cell_type": "code",
   "execution_count": 9,
   "metadata": {},
   "outputs": [],
   "source": [
    "# 종목명으로 업종코드 찾기\n",
    "\n",
    "def search_code_by_name(market, name) :\n",
    "  market_list = ['KOSPI','KOSDAQ','ETF']\n",
    "  if market in market_list:\n",
    "    if market in ['KOSPI','KOSDAQ']:\n",
    "      df = fdr.StockListing(market)[['Code','Name']]\n",
    "    else:\n",
    "      df = fdr.StockListing('ETF/KR')[['Symbol','Name']]\n",
    "  else:\n",
    "    raise ValueError('시장입력오류')\n",
    "  \n",
    "  code = df[df['Name'] == name]['Code'].values[0]\n",
    "  \n",
    "  return code   \n",
    "  "
   ]
  },
  {
   "cell_type": "code",
   "execution_count": 83,
   "metadata": {},
   "outputs": [],
   "source": [
    "def code_list_by_market(market) :\n",
    "  market_list = ['KOSPI','KOSDAQ','ETF']\n",
    "  if market in market_list:\n",
    "    if market in ['KOSPI','KOSDAQ']:\n",
    "      df = fdr.StockListing(market).sort_values(by='Marcap', ascending=False).head(5)\n",
    "    else:\n",
    "      df = fdr.StockListing('ETF/KR')[['Symbol','Name']]\n",
    "  else:\n",
    "    raise ValueError('시장입력오류')\n",
    "  \n",
    "  code_list = df['Code'].tolist()\n",
    "  return code_list"
   ]
  },
  {
   "cell_type": "code",
   "execution_count": 82,
   "metadata": {},
   "outputs": [
    {
     "data": {
      "text/html": [
       "<div>\n",
       "<style scoped>\n",
       "    .dataframe tbody tr th:only-of-type {\n",
       "        vertical-align: middle;\n",
       "    }\n",
       "\n",
       "    .dataframe tbody tr th {\n",
       "        vertical-align: top;\n",
       "    }\n",
       "\n",
       "    .dataframe thead th {\n",
       "        text-align: right;\n",
       "    }\n",
       "</style>\n",
       "<table border=\"1\" class=\"dataframe\">\n",
       "  <thead>\n",
       "    <tr style=\"text-align: right;\">\n",
       "      <th></th>\n",
       "      <th>Code</th>\n",
       "      <th>ISU_CD</th>\n",
       "      <th>Name</th>\n",
       "      <th>Market</th>\n",
       "      <th>Dept</th>\n",
       "      <th>Close</th>\n",
       "      <th>ChangeCode</th>\n",
       "      <th>Changes</th>\n",
       "      <th>ChagesRatio</th>\n",
       "      <th>Open</th>\n",
       "      <th>High</th>\n",
       "      <th>Low</th>\n",
       "      <th>Volume</th>\n",
       "      <th>Amount</th>\n",
       "      <th>Marcap</th>\n",
       "      <th>Stocks</th>\n",
       "      <th>MarketId</th>\n",
       "    </tr>\n",
       "  </thead>\n",
       "  <tbody>\n",
       "    <tr>\n",
       "      <th>0</th>\n",
       "      <td>005930</td>\n",
       "      <td>KR7005930003</td>\n",
       "      <td>삼성전자</td>\n",
       "      <td>KOSPI</td>\n",
       "      <td></td>\n",
       "      <td>55700</td>\n",
       "      <td>2</td>\n",
       "      <td>-400</td>\n",
       "      <td>-0.71</td>\n",
       "      <td>56100</td>\n",
       "      <td>56500</td>\n",
       "      <td>55200</td>\n",
       "      <td>10502816</td>\n",
       "      <td>584917256700</td>\n",
       "      <td>332516888035000</td>\n",
       "      <td>5969782550</td>\n",
       "      <td>STK</td>\n",
       "    </tr>\n",
       "    <tr>\n",
       "      <th>1</th>\n",
       "      <td>000660</td>\n",
       "      <td>KR7000660001</td>\n",
       "      <td>SK하이닉스</td>\n",
       "      <td>KOSPI</td>\n",
       "      <td></td>\n",
       "      <td>207500</td>\n",
       "      <td>1</td>\n",
       "      <td>2500</td>\n",
       "      <td>1.22</td>\n",
       "      <td>208000</td>\n",
       "      <td>212500</td>\n",
       "      <td>206500</td>\n",
       "      <td>3742728</td>\n",
       "      <td>782465580500</td>\n",
       "      <td>151060490737500</td>\n",
       "      <td>728002365</td>\n",
       "      <td>STK</td>\n",
       "    </tr>\n",
       "    <tr>\n",
       "      <th>2</th>\n",
       "      <td>373220</td>\n",
       "      <td>KR7373220003</td>\n",
       "      <td>LG에너지솔루션</td>\n",
       "      <td>KOSPI</td>\n",
       "      <td></td>\n",
       "      <td>350000</td>\n",
       "      <td>2</td>\n",
       "      <td>-8500</td>\n",
       "      <td>-2.37</td>\n",
       "      <td>356000</td>\n",
       "      <td>357500</td>\n",
       "      <td>348500</td>\n",
       "      <td>163515</td>\n",
       "      <td>57326309500</td>\n",
       "      <td>81900000000000</td>\n",
       "      <td>234000000</td>\n",
       "      <td>STK</td>\n",
       "    </tr>\n",
       "    <tr>\n",
       "      <th>3</th>\n",
       "      <td>207940</td>\n",
       "      <td>KR7207940008</td>\n",
       "      <td>삼성바이오로직스</td>\n",
       "      <td>KOSPI</td>\n",
       "      <td></td>\n",
       "      <td>1011000</td>\n",
       "      <td>1</td>\n",
       "      <td>5000</td>\n",
       "      <td>0.50</td>\n",
       "      <td>1001000</td>\n",
       "      <td>1020000</td>\n",
       "      <td>999000</td>\n",
       "      <td>25028</td>\n",
       "      <td>25249684000</td>\n",
       "      <td>71956914000000</td>\n",
       "      <td>71174000</td>\n",
       "      <td>STK</td>\n",
       "    </tr>\n",
       "    <tr>\n",
       "      <th>4</th>\n",
       "      <td>005380</td>\n",
       "      <td>KR7005380001</td>\n",
       "      <td>현대차</td>\n",
       "      <td>KOSPI</td>\n",
       "      <td></td>\n",
       "      <td>225000</td>\n",
       "      <td>1</td>\n",
       "      <td>12000</td>\n",
       "      <td>5.63</td>\n",
       "      <td>215000</td>\n",
       "      <td>227000</td>\n",
       "      <td>215000</td>\n",
       "      <td>1320309</td>\n",
       "      <td>294050720000</td>\n",
       "      <td>47118642975000</td>\n",
       "      <td>209416191</td>\n",
       "      <td>STK</td>\n",
       "    </tr>\n",
       "  </tbody>\n",
       "</table>\n",
       "</div>"
      ],
      "text/plain": [
       "     Code        ISU_CD      Name Market Dept    Close ChangeCode  Changes  \\\n",
       "0  005930  KR7005930003      삼성전자  KOSPI         55700          2     -400   \n",
       "1  000660  KR7000660001    SK하이닉스  KOSPI        207500          1     2500   \n",
       "2  373220  KR7373220003  LG에너지솔루션  KOSPI        350000          2    -8500   \n",
       "3  207940  KR7207940008  삼성바이오로직스  KOSPI       1011000          1     5000   \n",
       "4  005380  KR7005380001       현대차  KOSPI        225000          1    12000   \n",
       "\n",
       "   ChagesRatio     Open     High     Low    Volume        Amount  \\\n",
       "0        -0.71    56100    56500   55200  10502816  584917256700   \n",
       "1         1.22   208000   212500  206500   3742728  782465580500   \n",
       "2        -2.37   356000   357500  348500    163515   57326309500   \n",
       "3         0.50  1001000  1020000  999000     25028   25249684000   \n",
       "4         5.63   215000   227000  215000   1320309  294050720000   \n",
       "\n",
       "            Marcap      Stocks MarketId  \n",
       "0  332516888035000  5969782550      STK  \n",
       "1  151060490737500   728002365      STK  \n",
       "2   81900000000000   234000000      STK  \n",
       "3   71956914000000    71174000      STK  \n",
       "4   47118642975000   209416191      STK  "
      ]
     },
     "execution_count": 82,
     "metadata": {},
     "output_type": "execute_result"
    }
   ],
   "source": [
    "fdr.StockListing('KOSPI').sort_values(by='Marcap', ascending=False).head(5)"
   ]
  },
  {
   "cell_type": "code",
   "execution_count": 84,
   "metadata": {},
   "outputs": [
    {
     "data": {
      "text/plain": [
       "['005930', '000660', '373220', '207940', '005380']"
      ]
     },
     "execution_count": 84,
     "metadata": {},
     "output_type": "execute_result"
    }
   ],
   "source": [
    "code_list = code_list_by_market('KOSPI')\n",
    "code_list"
   ]
  },
  {
   "cell_type": "code",
   "execution_count": 10,
   "metadata": {},
   "outputs": [
    {
     "data": {
      "text/plain": [
       "'005930'"
      ]
     },
     "execution_count": 10,
     "metadata": {},
     "output_type": "execute_result"
    }
   ],
   "source": [
    "samsung = search_code_by_name('KOSPI', '삼성전자')\n",
    "samsung"
   ]
  },
  {
   "cell_type": "code",
   "execution_count": 11,
   "metadata": {},
   "outputs": [],
   "source": [
    "url = f'https://tossinvest.com/stocks/A005930/community'"
   ]
  },
  {
   "cell_type": "code",
   "execution_count": 51,
   "metadata": {},
   "outputs": [],
   "source": [
    "# 웹드라이버 설정\n",
    "driver = webdriver.Chrome()  # 또는 다른 웹드라이버 사용\n",
    "driver.get(url)"
   ]
  },
  {
   "cell_type": "code",
   "execution_count": 13,
   "metadata": {},
   "outputs": [],
   "source": [
    "# 스크롤을 내리며 데이터 로드\n",
    "last_height = driver.execute_script(\"return document.body.scrollHeight\")"
   ]
  },
  {
   "cell_type": "code",
   "execution_count": 65,
   "metadata": {},
   "outputs": [],
   "source": [
    "# 오늘 날짜 구하기\n",
    "today = datetime.datetime.today()\n",
    "today_str = today.strftime('%Y-%m-%d')"
   ]
  },
  {
   "cell_type": "code",
   "execution_count": null,
   "metadata": {},
   "outputs": [],
   "source": [
    "code_list = code_list_by_market('KOSPI')\n",
    "code_list"
   ]
  },
  {
   "cell_type": "code",
   "execution_count": 78,
   "metadata": {},
   "outputs": [],
   "source": [
    "# 종목명으로 종목 코드를 찾는 함수\n",
    "def search_code_by_name(name):\n",
    "  kospi_df = fdr.StockListing('KOSPI')\n",
    "  kosdaq_df = fdr.StockListing('KOSDAQ')\n",
    "  \n",
    "  all_stocks = pd.concat([kospi_df,kosdaq_df])\n",
    "  \n",
    "  code = all_stocks[all_stocks['Name'] == name]['Code'].values[0]\n",
    "  \n",
    "  return code"
   ]
  },
  {
   "cell_type": "code",
   "execution_count": 79,
   "metadata": {},
   "outputs": [
    {
     "data": {
      "text/plain": [
       "'005930'"
      ]
     },
     "execution_count": 79,
     "metadata": {},
     "output_type": "execute_result"
    }
   ],
   "source": [
    "tmp = search_code_by_name('삼성전자')\n",
    "tmp"
   ]
  },
  {
   "cell_type": "code",
   "execution_count": 91,
   "metadata": {},
   "outputs": [],
   "source": [
    "def crawling_community(market=None, start_date=None, end_date=today_str):\n",
    "    \n",
    "    if start_date is None :\n",
    "        raise ValueError('시작일은 반드시 입력해야 합니다.')\n",
    "    \n",
    "    code_list = code_list_by_market(market)\n",
    "    all_post_data = []\n",
    "    \n",
    "    for code in code_list:\n",
    "        \n",
    "        url = f'https://tossinvest.com/stocks/A{code}/community'\n",
    "        # 웹드라이버 초기화\n",
    "        print(url)\n",
    "        \n",
    "        options = Options()\n",
    "        options.add_argument('--headless')  # 헤드리스 모드\n",
    "        driver = webdriver.Chrome(options=options)\n",
    "        \n",
    "        driver.get(url)  # 실제 URL로 변경\n",
    "\n",
    "        WebDriverWait(driver, 10).until(\n",
    "                EC.presence_of_element_located((By.CSS_SELECTOR, '#stock-content > div > div > section > section > ul > div > div'))\n",
    "            )\n",
    "        # 버튼 요소 찾기\n",
    "        button = driver.find_element(By.CSS_SELECTOR, '#stock-content > div > div > section > section > section > button')\n",
    "\n",
    "        # data-contents-label 속성 값 확인\n",
    "        label = button.get_attribute('data-contents-label')\n",
    "\n",
    "        # '인기순'이라면 버튼 클릭하여 '최신순'으로 변경\n",
    "        if label != '최신순':\n",
    "            button.click()\n",
    "            time.sleep(2)  # 변경 후 로딩 시간 대기\n",
    "            \n",
    "        # 게시글 리스트를 저장할 리스트\n",
    "        all_contents = []\n",
    "        post_nickname = []\n",
    "        post_date = []\n",
    "\n",
    "        # 날짜 기준 설정\n",
    "        start_date = pd.to_datetime(start_date).date()  # tz-naive로 설정\n",
    "        end_date = pd.to_datetime(end_date).date()\n",
    "\n",
    "        # 스크롤 반복을 위한 변수\n",
    "        new_posts_found = True\n",
    "        processed_indices = set()\n",
    "\n",
    "        while new_posts_found:    \n",
    "            # 게시글 리스트 추출\n",
    "            all_posts = driver.find_elements(By.CSS_SELECTOR, '#stock-content > div > div > section > section > ul > div > div')  # 실제 클래스명에 맞게 수정\n",
    "\n",
    "            # article 태그가 포함된 div만 필터링\n",
    "            filtered_posts = [post for post in all_posts if post.find_elements(By.TAG_NAME, 'article')]\n",
    "\n",
    "            new_posts_found = False  # 새로운 게시글 발견 여부 초기화\n",
    "            \n",
    "            for post in filtered_posts:\n",
    "                # data-index 추출\n",
    "                index = post.get_attribute('data-index')\n",
    "                \n",
    "                # print(index)\n",
    "                # 이미 처리한 인덱스인지 확인\n",
    "                if index in processed_indices:\n",
    "                    continue  # 이미 처리한 게시글은 건너뜀\n",
    "                \n",
    "                content = post.find_element(By.CSS_SELECTOR, 'article > div > a > span:nth-of-type(2) > span ')\n",
    "                datetime = post.find_element(By.CSS_SELECTOR, 'article > div > header > div > label > time')\n",
    "                date = datetime.get_attribute('datetime')\n",
    "                nickname = post.find_element(By.CSS_SELECTOR, 'article > div > header > div > label > span:nth-child(1)')\n",
    "                \n",
    "                # print(content.text)\n",
    "                # print(nickname.text)\n",
    "                # 날짜 변환 (tz-naive)\n",
    "                date_obj = pd.to_datetime(date).tz_localize(None).date()  # 날짜만 추출\n",
    "                \n",
    "                # 날짜 필터링\n",
    "                if start_date <= date_obj <= end_date:\n",
    "                    all_contents.append(content.text)\n",
    "                    post_nickname.append(nickname.text)\n",
    "                    post_date.append(date)\n",
    "                    processed_indices.add(index)  # 인덱스를 집합에 추가\n",
    "                    new_posts_found = True  # 새로운 게시글이 발견됨\n",
    "\n",
    "            # 스크롤을 내림\n",
    "            driver.execute_script(\"window.scrollBy(0, 3000);\")\n",
    "            time.sleep(2)  # 로딩 시간 대기\n",
    "\n",
    "            # 특정 요소가 로드될 때까지 대기 (예: 게시글 목록의 특정 요소)\n",
    "            try:\n",
    "                WebDriverWait(driver, 10).until(\n",
    "                    EC.presence_of_all_elements_located((By.CSS_SELECTOR, '#stock-content > div > div > section > section > ul > div > div'))\n",
    "                )\n",
    "            except Exception as e:\n",
    "                print(\"로딩 대기 중 오류 발생:\", e)\n",
    "                break  # 로딩 중 오류가 발생하면 루프 종료\n",
    "\n",
    "        # 데이터프레임 생성\n",
    "        post_infos = {\n",
    "            '닉네임': post_nickname,\n",
    "            '날짜': post_date,\n",
    "            '내용': all_contents,\n",
    "            '종목': code\n",
    "        }\n",
    "\n",
    "        post_df = pd.DataFrame(post_infos)\n",
    "        all_post_data.append(post_df)\n",
    "        driver.quit()\n",
    "        \n",
    "    final_df = pd.concat(all_post_data, ignore_index=True)    \n",
    "    return final_df"
   ]
  },
  {
   "cell_type": "markdown",
   "metadata": {},
   "source": [
    "(시가총액 상위 5종목) - 8분30초( 약 1700건)"
   ]
  },
  {
   "cell_type": "code",
   "execution_count": 92,
   "metadata": {},
   "outputs": [
    {
     "name": "stdout",
     "output_type": "stream",
     "text": [
      "https://tossinvest.com/stocks/A005930/community\n",
      "https://tossinvest.com/stocks/A000660/community\n"
     ]
    },
    {
     "ename": "StaleElementReferenceException",
     "evalue": "Message: stale element reference: stale element not found in the current frame\n  (Session info: chrome=131.0.6778.265); For documentation on this error, please visit: https://www.selenium.dev/documentation/webdriver/troubleshooting/errors#stale-element-reference-exception\nStacktrace:\n\tGetHandleVerifier [0x00007FF6749B80D5+2992373]\n\t(No symbol) [0x00007FF67464BFD0]\n\t(No symbol) [0x00007FF6744E590A]\n\t(No symbol) [0x00007FF6744EC46F]\n\t(No symbol) [0x00007FF6744EF49F]\n\t(No symbol) [0x00007FF674580840]\n\t(No symbol) [0x00007FF67455F36A]\n\t(No symbol) [0x00007FF67457F584]\n\t(No symbol) [0x00007FF67455F113]\n\t(No symbol) [0x00007FF67452A918]\n\t(No symbol) [0x00007FF67452BA81]\n\tGetHandleVerifier [0x00007FF674A16A2D+3379789]\n\tGetHandleVerifier [0x00007FF674A2C32D+3468109]\n\tGetHandleVerifier [0x00007FF674A20043+3418211]\n\tGetHandleVerifier [0x00007FF6747AC78B+847787]\n\t(No symbol) [0x00007FF67465757F]\n\t(No symbol) [0x00007FF674652FC4]\n\t(No symbol) [0x00007FF67465315D]\n\t(No symbol) [0x00007FF674642979]\n\tBaseThreadInitThunk [0x00007FFF62BE259D+29]\n\tRtlUserThreadStart [0x00007FFF6444AF38+40]\n",
     "output_type": "error",
     "traceback": [
      "\u001b[1;31m---------------------------------------------------------------------------\u001b[0m",
      "\u001b[1;31mStaleElementReferenceException\u001b[0m            Traceback (most recent call last)",
      "Cell \u001b[1;32mIn[92], line 1\u001b[0m\n\u001b[1;32m----> 1\u001b[0m result \u001b[38;5;241m=\u001b[39m crawling_community(\u001b[38;5;124m'\u001b[39m\u001b[38;5;124mKOSPI\u001b[39m\u001b[38;5;124m'\u001b[39m, start_date\u001b[38;5;241m=\u001b[39m\u001b[38;5;124m'\u001b[39m\u001b[38;5;124m2024-12-30\u001b[39m\u001b[38;5;124m'\u001b[39m)\n",
      "Cell \u001b[1;32mIn[91], line 59\u001b[0m, in \u001b[0;36mcrawling_community\u001b[1;34m(market, start_date, end_date)\u001b[0m\n\u001b[0;32m     55\u001b[0m new_posts_found \u001b[38;5;241m=\u001b[39m \u001b[38;5;28;01mFalse\u001b[39;00m  \u001b[38;5;66;03m# 새로운 게시글 발견 여부 초기화\u001b[39;00m\n\u001b[0;32m     57\u001b[0m \u001b[38;5;28;01mfor\u001b[39;00m post \u001b[38;5;129;01min\u001b[39;00m filtered_posts:\n\u001b[0;32m     58\u001b[0m     \u001b[38;5;66;03m# data-index 추출\u001b[39;00m\n\u001b[1;32m---> 59\u001b[0m     index \u001b[38;5;241m=\u001b[39m post\u001b[38;5;241m.\u001b[39mget_attribute(\u001b[38;5;124m'\u001b[39m\u001b[38;5;124mdata-index\u001b[39m\u001b[38;5;124m'\u001b[39m)\n\u001b[0;32m     61\u001b[0m     \u001b[38;5;66;03m# print(index)\u001b[39;00m\n\u001b[0;32m     62\u001b[0m     \u001b[38;5;66;03m# 이미 처리한 인덱스인지 확인\u001b[39;00m\n\u001b[0;32m     63\u001b[0m     \u001b[38;5;28;01mif\u001b[39;00m index \u001b[38;5;129;01min\u001b[39;00m processed_indices:\n",
      "File \u001b[1;32md:\\kdt\\anaconda3\\Lib\\site-packages\\selenium\\webdriver\\remote\\webelement.py:178\u001b[0m, in \u001b[0;36mWebElement.get_attribute\u001b[1;34m(self, name)\u001b[0m\n\u001b[0;32m    176\u001b[0m \u001b[38;5;28;01mif\u001b[39;00m getAttribute_js \u001b[38;5;129;01mis\u001b[39;00m \u001b[38;5;28;01mNone\u001b[39;00m:\n\u001b[0;32m    177\u001b[0m     _load_js()\n\u001b[1;32m--> 178\u001b[0m attribute_value \u001b[38;5;241m=\u001b[39m \u001b[38;5;28mself\u001b[39m\u001b[38;5;241m.\u001b[39mparent\u001b[38;5;241m.\u001b[39mexecute_script(\n\u001b[0;32m    179\u001b[0m     \u001b[38;5;124mf\u001b[39m\u001b[38;5;124m\"\u001b[39m\u001b[38;5;124m/* getAttribute */return (\u001b[39m\u001b[38;5;132;01m{\u001b[39;00mgetAttribute_js\u001b[38;5;132;01m}\u001b[39;00m\u001b[38;5;124m).apply(null, arguments);\u001b[39m\u001b[38;5;124m\"\u001b[39m, \u001b[38;5;28mself\u001b[39m, name\n\u001b[0;32m    180\u001b[0m )\n\u001b[0;32m    181\u001b[0m \u001b[38;5;28;01mreturn\u001b[39;00m attribute_value\n",
      "File \u001b[1;32md:\\kdt\\anaconda3\\Lib\\site-packages\\selenium\\webdriver\\remote\\webdriver.py:414\u001b[0m, in \u001b[0;36mWebDriver.execute_script\u001b[1;34m(self, script, *args)\u001b[0m\n\u001b[0;32m    411\u001b[0m converted_args \u001b[38;5;241m=\u001b[39m \u001b[38;5;28mlist\u001b[39m(args)\n\u001b[0;32m    412\u001b[0m command \u001b[38;5;241m=\u001b[39m Command\u001b[38;5;241m.\u001b[39mW3C_EXECUTE_SCRIPT\n\u001b[1;32m--> 414\u001b[0m \u001b[38;5;28;01mreturn\u001b[39;00m \u001b[38;5;28mself\u001b[39m\u001b[38;5;241m.\u001b[39mexecute(command, {\u001b[38;5;124m\"\u001b[39m\u001b[38;5;124mscript\u001b[39m\u001b[38;5;124m\"\u001b[39m: script, \u001b[38;5;124m\"\u001b[39m\u001b[38;5;124margs\u001b[39m\u001b[38;5;124m\"\u001b[39m: converted_args})[\u001b[38;5;124m\"\u001b[39m\u001b[38;5;124mvalue\u001b[39m\u001b[38;5;124m\"\u001b[39m]\n",
      "File \u001b[1;32md:\\kdt\\anaconda3\\Lib\\site-packages\\selenium\\webdriver\\remote\\webdriver.py:354\u001b[0m, in \u001b[0;36mWebDriver.execute\u001b[1;34m(self, driver_command, params)\u001b[0m\n\u001b[0;32m    352\u001b[0m response \u001b[38;5;241m=\u001b[39m \u001b[38;5;28mself\u001b[39m\u001b[38;5;241m.\u001b[39mcommand_executor\u001b[38;5;241m.\u001b[39mexecute(driver_command, params)\n\u001b[0;32m    353\u001b[0m \u001b[38;5;28;01mif\u001b[39;00m response:\n\u001b[1;32m--> 354\u001b[0m     \u001b[38;5;28mself\u001b[39m\u001b[38;5;241m.\u001b[39merror_handler\u001b[38;5;241m.\u001b[39mcheck_response(response)\n\u001b[0;32m    355\u001b[0m     response[\u001b[38;5;124m\"\u001b[39m\u001b[38;5;124mvalue\u001b[39m\u001b[38;5;124m\"\u001b[39m] \u001b[38;5;241m=\u001b[39m \u001b[38;5;28mself\u001b[39m\u001b[38;5;241m.\u001b[39m_unwrap_value(response\u001b[38;5;241m.\u001b[39mget(\u001b[38;5;124m\"\u001b[39m\u001b[38;5;124mvalue\u001b[39m\u001b[38;5;124m\"\u001b[39m, \u001b[38;5;28;01mNone\u001b[39;00m))\n\u001b[0;32m    356\u001b[0m     \u001b[38;5;28;01mreturn\u001b[39;00m response\n",
      "File \u001b[1;32md:\\kdt\\anaconda3\\Lib\\site-packages\\selenium\\webdriver\\remote\\errorhandler.py:229\u001b[0m, in \u001b[0;36mErrorHandler.check_response\u001b[1;34m(self, response)\u001b[0m\n\u001b[0;32m    227\u001b[0m         alert_text \u001b[38;5;241m=\u001b[39m value[\u001b[38;5;124m\"\u001b[39m\u001b[38;5;124malert\u001b[39m\u001b[38;5;124m\"\u001b[39m]\u001b[38;5;241m.\u001b[39mget(\u001b[38;5;124m\"\u001b[39m\u001b[38;5;124mtext\u001b[39m\u001b[38;5;124m\"\u001b[39m)\n\u001b[0;32m    228\u001b[0m     \u001b[38;5;28;01mraise\u001b[39;00m exception_class(message, screen, stacktrace, alert_text)  \u001b[38;5;66;03m# type: ignore[call-arg]  # mypy is not smart enough here\u001b[39;00m\n\u001b[1;32m--> 229\u001b[0m \u001b[38;5;28;01mraise\u001b[39;00m exception_class(message, screen, stacktrace)\n",
      "\u001b[1;31mStaleElementReferenceException\u001b[0m: Message: stale element reference: stale element not found in the current frame\n  (Session info: chrome=131.0.6778.265); For documentation on this error, please visit: https://www.selenium.dev/documentation/webdriver/troubleshooting/errors#stale-element-reference-exception\nStacktrace:\n\tGetHandleVerifier [0x00007FF6749B80D5+2992373]\n\t(No symbol) [0x00007FF67464BFD0]\n\t(No symbol) [0x00007FF6744E590A]\n\t(No symbol) [0x00007FF6744EC46F]\n\t(No symbol) [0x00007FF6744EF49F]\n\t(No symbol) [0x00007FF674580840]\n\t(No symbol) [0x00007FF67455F36A]\n\t(No symbol) [0x00007FF67457F584]\n\t(No symbol) [0x00007FF67455F113]\n\t(No symbol) [0x00007FF67452A918]\n\t(No symbol) [0x00007FF67452BA81]\n\tGetHandleVerifier [0x00007FF674A16A2D+3379789]\n\tGetHandleVerifier [0x00007FF674A2C32D+3468109]\n\tGetHandleVerifier [0x00007FF674A20043+3418211]\n\tGetHandleVerifier [0x00007FF6747AC78B+847787]\n\t(No symbol) [0x00007FF67465757F]\n\t(No symbol) [0x00007FF674652FC4]\n\t(No symbol) [0x00007FF67465315D]\n\t(No symbol) [0x00007FF674642979]\n\tBaseThreadInitThunk [0x00007FFF62BE259D+29]\n\tRtlUserThreadStart [0x00007FFF6444AF38+40]\n"
     ]
    }
   ],
   "source": [
    "result = crawling_community('KOSPI', start_date='2024-12-30')"
   ]
  },
  {
   "cell_type": "code",
   "execution_count": 87,
   "metadata": {},
   "outputs": [
    {
     "data": {
      "text/html": [
       "<div>\n",
       "<style scoped>\n",
       "    .dataframe tbody tr th:only-of-type {\n",
       "        vertical-align: middle;\n",
       "    }\n",
       "\n",
       "    .dataframe tbody tr th {\n",
       "        vertical-align: top;\n",
       "    }\n",
       "\n",
       "    .dataframe thead th {\n",
       "        text-align: right;\n",
       "    }\n",
       "</style>\n",
       "<table border=\"1\" class=\"dataframe\">\n",
       "  <thead>\n",
       "    <tr style=\"text-align: right;\">\n",
       "      <th></th>\n",
       "      <th>닉네임</th>\n",
       "      <th>날짜</th>\n",
       "      <th>내용</th>\n",
       "      <th>종목</th>\n",
       "    </tr>\n",
       "  </thead>\n",
       "  <tbody>\n",
       "    <tr>\n",
       "      <th>0</th>\n",
       "      <td>단타를노린다</td>\n",
       "      <td>2025-01-10T12:42:05+09:00</td>\n",
       "      <td>제바알…. 좀 올라라 ㅠㅠㅠㅠㅠ</td>\n",
       "      <td>005930</td>\n",
       "    </tr>\n",
       "    <tr>\n",
       "      <th>1</th>\n",
       "      <td>아르네슬롯</td>\n",
       "      <td>2025-01-10T12:41:48+09:00</td>\n",
       "      <td>한 달 기다려서 4만원 힘들었네요</td>\n",
       "      <td>005930</td>\n",
       "    </tr>\n",
       "    <tr>\n",
       "      <th>2</th>\n",
       "      <td>두두다14</td>\n",
       "      <td>2025-01-10T12:41:35+09:00</td>\n",
       "      <td>가니깐</td>\n",
       "      <td>005930</td>\n",
       "    </tr>\n",
       "    <tr>\n",
       "      <th>3</th>\n",
       "      <td>오늘은내가고점판독기</td>\n",
       "      <td>2025-01-10T12:41:12+09:00</td>\n",
       "      <td>미장만 하던 주린이는 삼전 들어오니 그저 놀랍습니다\\n여기서 다들 무슨 인내를 쌓고...</td>\n",
       "      <td>005930</td>\n",
       "    </tr>\n",
       "    <tr>\n",
       "      <th>4</th>\n",
       "      <td>주식작전사령부</td>\n",
       "      <td>2025-01-10T12:40:12+09:00</td>\n",
       "      <td>꾸준매 미라클 가즈아!</td>\n",
       "      <td>005930</td>\n",
       "    </tr>\n",
       "    <tr>\n",
       "      <th>...</th>\n",
       "      <td>...</td>\n",
       "      <td>...</td>\n",
       "      <td>...</td>\n",
       "      <td>...</td>\n",
       "    </tr>\n",
       "    <tr>\n",
       "      <th>1611</th>\n",
       "      <td>다시는숏치비않겠습니다</td>\n",
       "      <td>2025-01-09T09:12:52+09:00</td>\n",
       "      <td>머선일이고</td>\n",
       "      <td>005380</td>\n",
       "    </tr>\n",
       "    <tr>\n",
       "      <th>1612</th>\n",
       "      <td>빨간불좋아요좋아</td>\n",
       "      <td>2025-01-09T09:12:12+09:00</td>\n",
       "      <td>드디어 오르네</td>\n",
       "      <td>005380</td>\n",
       "    </tr>\n",
       "    <tr>\n",
       "      <th>1613</th>\n",
       "      <td>진호돌</td>\n",
       "      <td>2025-01-09T09:07:44+09:00</td>\n",
       "      <td>머선129</td>\n",
       "      <td>005380</td>\n",
       "    </tr>\n",
       "    <tr>\n",
       "      <th>1614</th>\n",
       "      <td>어어어어밀지마라</td>\n",
       "      <td>2025-01-09T09:06:08+09:00</td>\n",
       "      <td>네이따ㅏㅏ</td>\n",
       "      <td>005380</td>\n",
       "    </tr>\n",
       "    <tr>\n",
       "      <th>1615</th>\n",
       "      <td>뽀잉보잉뽀잉</td>\n",
       "      <td>2025-01-09T01:22:35+09:00</td>\n",
       "      <td>iccu좀 안 터지게 해라\\n\\n자율주행 능력도 안되면서</td>\n",
       "      <td>005380</td>\n",
       "    </tr>\n",
       "  </tbody>\n",
       "</table>\n",
       "<p>1616 rows × 4 columns</p>\n",
       "</div>"
      ],
      "text/plain": [
       "              닉네임                         날짜  \\\n",
       "0          단타를노린다  2025-01-10T12:42:05+09:00   \n",
       "1           아르네슬롯  2025-01-10T12:41:48+09:00   \n",
       "2           두두다14  2025-01-10T12:41:35+09:00   \n",
       "3      오늘은내가고점판독기  2025-01-10T12:41:12+09:00   \n",
       "4         주식작전사령부  2025-01-10T12:40:12+09:00   \n",
       "...           ...                        ...   \n",
       "1611  다시는숏치비않겠습니다  2025-01-09T09:12:52+09:00   \n",
       "1612     빨간불좋아요좋아  2025-01-09T09:12:12+09:00   \n",
       "1613          진호돌  2025-01-09T09:07:44+09:00   \n",
       "1614     어어어어밀지마라  2025-01-09T09:06:08+09:00   \n",
       "1615       뽀잉보잉뽀잉  2025-01-09T01:22:35+09:00   \n",
       "\n",
       "                                                     내용      종목  \n",
       "0                                     제바알…. 좀 올라라 ㅠㅠㅠㅠㅠ  005930  \n",
       "1                                    한 달 기다려서 4만원 힘들었네요  005930  \n",
       "2                                                   가니깐  005930  \n",
       "3     미장만 하던 주린이는 삼전 들어오니 그저 놀랍습니다\\n여기서 다들 무슨 인내를 쌓고...  005930  \n",
       "4                                          꾸준매 미라클 가즈아!  005930  \n",
       "...                                                 ...     ...  \n",
       "1611                                              머선일이고  005380  \n",
       "1612                                            드디어 오르네  005380  \n",
       "1613                                              머선129  005380  \n",
       "1614                                              네이따ㅏㅏ  005380  \n",
       "1615                    iccu좀 안 터지게 해라\\n\\n자율주행 능력도 안되면서  005380  \n",
       "\n",
       "[1616 rows x 4 columns]"
      ]
     },
     "execution_count": 87,
     "metadata": {},
     "output_type": "execute_result"
    }
   ],
   "source": [
    "result"
   ]
  },
  {
   "cell_type": "code",
   "execution_count": 88,
   "metadata": {},
   "outputs": [],
   "source": [
    "result.to_csv(f'practice_1.csv', index=False, encoding='utf-8-sig')"
   ]
  },
  {
   "cell_type": "code",
   "execution_count": 59,
   "metadata": {},
   "outputs": [
    {
     "data": {
      "text/html": [
       "<div>\n",
       "<style scoped>\n",
       "    .dataframe tbody tr th:only-of-type {\n",
       "        vertical-align: middle;\n",
       "    }\n",
       "\n",
       "    .dataframe tbody tr th {\n",
       "        vertical-align: top;\n",
       "    }\n",
       "\n",
       "    .dataframe thead th {\n",
       "        text-align: right;\n",
       "    }\n",
       "</style>\n",
       "<table border=\"1\" class=\"dataframe\">\n",
       "  <thead>\n",
       "    <tr style=\"text-align: right;\">\n",
       "      <th></th>\n",
       "      <th>닉네임</th>\n",
       "      <th>날짜</th>\n",
       "      <th>내용</th>\n",
       "    </tr>\n",
       "  </thead>\n",
       "  <tbody>\n",
       "    <tr>\n",
       "      <th>0</th>\n",
       "      <td>구부랑길고양이</td>\n",
       "      <td>2025-01-10T11:32:47+09:00</td>\n",
       "      <td>진짜 앞자리 6을 못보네</td>\n",
       "    </tr>\n",
       "    <tr>\n",
       "      <th>1</th>\n",
       "      <td>부자71</td>\n",
       "      <td>2025-01-10T11:31:00+09:00</td>\n",
       "      <td>세상 상황을 아는것도 주식과 연결되듯이\\n중국은 내정간섭중입니다.\\n정치인과 결탁되...</td>\n",
       "    </tr>\n",
       "    <tr>\n",
       "      <th>2</th>\n",
       "      <td>슈랭슈랭</td>\n",
       "      <td>2025-01-10T11:30:20+09:00</td>\n",
       "      <td>울 삼전이는 시간이 약이네요.스트레스 지지~\\n어제 뉴스에 댓글에 댓글보고 혼자 빵...</td>\n",
       "    </tr>\n",
       "    <tr>\n",
       "      <th>3</th>\n",
       "      <td>공동우승</td>\n",
       "      <td>2025-01-10T11:30:16+09:00</td>\n",
       "      <td>4만 가즈아~~~</td>\n",
       "    </tr>\n",
       "    <tr>\n",
       "      <th>4</th>\n",
       "      <td>쓉거지키우기</td>\n",
       "      <td>2025-01-10T11:30:16+09:00</td>\n",
       "      <td>얘네 뭐하냐</td>\n",
       "    </tr>\n",
       "    <tr>\n",
       "      <th>...</th>\n",
       "      <td>...</td>\n",
       "      <td>...</td>\n",
       "      <td>...</td>\n",
       "    </tr>\n",
       "    <tr>\n",
       "      <th>2956</th>\n",
       "      <td>Youngest</td>\n",
       "      <td>2025-01-06T07:47:52+09:00</td>\n",
       "      <td>성과급 자랑하지말자 소액 주주들 피똥싸는 중이다</td>\n",
       "    </tr>\n",
       "    <tr>\n",
       "      <th>2957</th>\n",
       "      <td>단타는몸에좋다</td>\n",
       "      <td>2025-01-06T07:14:48+09:00</td>\n",
       "      <td>단체로 정치에 미쳐서 삼성 이야기는 안하고 정치얘기밖에 없네</td>\n",
       "    </tr>\n",
       "    <tr>\n",
       "      <th>2958</th>\n",
       "      <td>Youngest</td>\n",
       "      <td>2025-01-06T05:49:34+09:00</td>\n",
       "      <td>나 또 왔다 ㅋㅋ</td>\n",
       "    </tr>\n",
       "    <tr>\n",
       "      <th>2959</th>\n",
       "      <td>자민당</td>\n",
       "      <td>2025-01-06T02:00:26+09:00</td>\n",
       "      <td>쩝.</td>\n",
       "    </tr>\n",
       "    <tr>\n",
       "      <th>2960</th>\n",
       "      <td>GROK</td>\n",
       "      <td>2025-01-06T00:05:09+09:00</td>\n",
       "      <td>- 삼성전자는 네덜란드 통신업체 KPN 및 TNO로부터 8건의 특허 침해 소송을 당...</td>\n",
       "    </tr>\n",
       "  </tbody>\n",
       "</table>\n",
       "<p>2961 rows × 3 columns</p>\n",
       "</div>"
      ],
      "text/plain": [
       "           닉네임                         날짜  \\\n",
       "0      구부랑길고양이  2025-01-10T11:32:47+09:00   \n",
       "1         부자71  2025-01-10T11:31:00+09:00   \n",
       "2         슈랭슈랭  2025-01-10T11:30:20+09:00   \n",
       "3         공동우승  2025-01-10T11:30:16+09:00   \n",
       "4       쓉거지키우기  2025-01-10T11:30:16+09:00   \n",
       "...        ...                        ...   \n",
       "2956  Youngest  2025-01-06T07:47:52+09:00   \n",
       "2957   단타는몸에좋다  2025-01-06T07:14:48+09:00   \n",
       "2958  Youngest  2025-01-06T05:49:34+09:00   \n",
       "2959       자민당  2025-01-06T02:00:26+09:00   \n",
       "2960      GROK  2025-01-06T00:05:09+09:00   \n",
       "\n",
       "                                                     내용  \n",
       "0                                         진짜 앞자리 6을 못보네  \n",
       "1     세상 상황을 아는것도 주식과 연결되듯이\\n중국은 내정간섭중입니다.\\n정치인과 결탁되...  \n",
       "2     울 삼전이는 시간이 약이네요.스트레스 지지~\\n어제 뉴스에 댓글에 댓글보고 혼자 빵...  \n",
       "3                                             4만 가즈아~~~  \n",
       "4                                                얘네 뭐하냐  \n",
       "...                                                 ...  \n",
       "2956                         성과급 자랑하지말자 소액 주주들 피똥싸는 중이다  \n",
       "2957                  단체로 정치에 미쳐서 삼성 이야기는 안하고 정치얘기밖에 없네  \n",
       "2958                                          나 또 왔다 ㅋㅋ  \n",
       "2959                                                 쩝.  \n",
       "2960  - 삼성전자는 네덜란드 통신업체 KPN 및 TNO로부터 8건의 특허 침해 소송을 당...  \n",
       "\n",
       "[2961 rows x 3 columns]"
      ]
     },
     "execution_count": 59,
     "metadata": {},
     "output_type": "execute_result"
    }
   ],
   "source": [
    "post_df"
   ]
  },
  {
   "cell_type": "code",
   "execution_count": 32,
   "metadata": {},
   "outputs": [
    {
     "name": "stdout",
     "output_type": "stream",
     "text": [
      "747\n"
     ]
    }
   ],
   "source": [
    "print(len(post_df))"
   ]
  },
  {
   "cell_type": "code",
   "execution_count": 33,
   "metadata": {},
   "outputs": [],
   "source": [
    "# post_df = post_df.drop_duplicates()"
   ]
  },
  {
   "cell_type": "code",
   "execution_count": 61,
   "metadata": {},
   "outputs": [],
   "source": [
    "post_df.to_csv(f'practice_Toss_{code}.csv', index=False, encoding='utf-8-sig')"
   ]
  }
 ],
 "metadata": {
  "kernelspec": {
   "display_name": "base",
   "language": "python",
   "name": "python3"
  },
  "language_info": {
   "codemirror_mode": {
    "name": "ipython",
    "version": 3
   },
   "file_extension": ".py",
   "mimetype": "text/x-python",
   "name": "python",
   "nbconvert_exporter": "python",
   "pygments_lexer": "ipython3",
   "version": "3.12.7"
  }
 },
 "nbformat": 4,
 "nbformat_minor": 2
}
