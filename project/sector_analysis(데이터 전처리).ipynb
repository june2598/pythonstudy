{
 "cells": [
  {
   "cell_type": "code",
   "execution_count": 1,
   "metadata": {},
   "outputs": [],
   "source": [
    "# 데이터 분석을 위한 패키지\n",
    "import numpy as np\n",
    "import pandas as pd"
   ]
  },
  {
   "cell_type": "code",
   "execution_count": 2,
   "metadata": {},
   "outputs": [],
   "source": [
    "# 시각화 패키지\n",
    "import matplotlib.pyplot as plt\n",
    "import seaborn as sns"
   ]
  },
  {
   "cell_type": "code",
   "execution_count": 3,
   "metadata": {},
   "outputs": [],
   "source": [
    "import FinanceDataReader as fdr"
   ]
  },
  {
   "cell_type": "code",
   "execution_count": 4,
   "metadata": {},
   "outputs": [],
   "source": [
    "import koreanize_matplotlib"
   ]
  },
  {
   "cell_type": "code",
   "execution_count": 5,
   "metadata": {},
   "outputs": [],
   "source": [
    "import datetime\n",
    "from dateutil.relativedelta import relativedelta"
   ]
  },
  {
   "cell_type": "code",
   "execution_count": 6,
   "metadata": {},
   "outputs": [],
   "source": [
    "# 모든 컬럼,행을 출력하도록 설정\n",
    "pd.set_option('display.max_columns', None) # None으로 설정하면 모든 컬럼 출력\n",
    "pd.set_option('display.max_rows', None) #None으로 설정하면 모든 행 출력"
   ]
  },
  {
   "cell_type": "code",
   "execution_count": 7,
   "metadata": {},
   "outputs": [],
   "source": [
    "kospi = pd.read_csv('kospi_add_sector_2024-12-28.csv')\n",
    "kosdaq = pd.read_csv('kosdaq_add_sector_2024-12-28.csv')"
   ]
  },
  {
   "cell_type": "code",
   "execution_count": 8,
   "metadata": {},
   "outputs": [],
   "source": [
    "# n개월 전 날짜 계산 함수(개월단위)\n",
    "def calculate_start_date(months_ago, end_date):\n",
    "    start_date = datetime.datetime.strptime(end_date, '%Y-%m-%d') - relativedelta(months=months_ago)\n",
    "    return start_date.strftime('%Y-%m-%d')\n",
    "\n",
    "# 오늘 날짜 구하기\n",
    "today = datetime.datetime.today()\n",
    "today_str = today.strftime('%Y-%m-%d')"
   ]
  },
  {
   "cell_type": "code",
   "execution_count": 12,
   "metadata": {},
   "outputs": [],
   "source": [
    "def combined_stock_analysis(market='KOSPI', month_ago=1, end_date=today_str):\n",
    "    \"\"\"\n",
    "    주어진 시장(KOSPI 또는 KOSDAQ)의 각 종목에 대한 변동성과 수익률을 계산하는 함수.\n",
    "\n",
    "    Parameters:\n",
    "    market (str): 'KOSPI' 또는 'KOSDAQ' 중 하나를 선택하여 해당 시장의 종목을 대상으로 분석.\n",
    "    month_ago (int): 계산할 시작 날짜로부터 몇 개월 전부터 수익률을 계산할 것인지 지정.\n",
    "    end_date (str, optional): 데이터 조회의 종료 날짜 (형식: 'YYYY-MM-DD'). 기본값은 오늘 날짜.\n",
    "\n",
    "    Returns:\n",
    "    pd.DataFrame: 각 종목의 코드, 이름, 변동성, 총 수익률, 평균 수익률 정보를 포함하는 데이터프레임.\n",
    "    \n",
    "    예외 처리:\n",
    "    데이터 로드 중 오류가 발생하면 해당 종목에 대한 오류 메시지를 출력.\n",
    "    \"\"\"\n",
    "    \n",
    "    start_date = calculate_start_date(month_ago, end_date)\n",
    "    results = []  # 결과를 저장할 리스트\n",
    "\n",
    "    # 시장 데이터 선택\n",
    "    if market == 'KOSPI':\n",
    "        sector_data = kospi\n",
    "    elif market == 'KOSDAQ':\n",
    "        sector_data = kosdaq\n",
    "    else:\n",
    "        raise ValueError(\" 'KOSPI', 'KOSDAQ' 두 시장만 지원하는 기능입니다.\")\n",
    "    \n",
    "    # 'Code'를 인덱스로 설정\n",
    "    sector_data = sector_data.set_index('Code')\n",
    "\n",
    "    # 각 종목의 데이터를 가져와 변동성과 수익률 계산\n",
    "    for index, row in sector_data.iterrows():\n",
    "        ticker = index\n",
    "        try:\n",
    "            # 각 종목의 데이터 가져오기\n",
    "            data = fdr.DataReader(ticker, start=start_date, end=end_date)\n",
    "            if data.empty:\n",
    "                print(f\"종목 {ticker}의 데이터가 없습니다. 건너뜁니다.\")\n",
    "                continue\n",
    "            \n",
    "            # 수익률 계산\n",
    "            \n",
    "            data['Returns'] = data['Close'].pct_change() * 100  # 수익률을 퍼센트로 변환\n",
    "            data.dropna(inplace=True)  # NaN 값 제거\n",
    "            \n",
    "            if len(data) == 1:  # 상장이후 일일수익률 데이터가 단 하나라  수익률 계산이 의미가 없는경우\n",
    "                print(f\"종목 {ticker}은 일일수익률 데이터가 하나라, 수익률 계산이 의미가 없기때문에 건너뜁니다.\")\n",
    "                continue\n",
    "      \n",
    "            if len(data) == 0: # 상장이후 종가가 하나라 수익률 계산 자체가 되지 않는경우\n",
    "                print(f\"종목 {ticker}의 데이터가 충분하지 않습니다. 건너뜁니다.\")\n",
    "                continue\n",
    "            \n",
    "            # 변동성 계산 (표준편차)\n",
    "            volatility = data['Returns'].std()\n",
    "            \n",
    "            # 총 수익률 계산\n",
    "            total_return = (data['Close'].iloc[-1] - data['Close'].iloc[0]) / data['Close'].iloc[0] * 100\n",
    "            \n",
    "            # 평균 수익률 계산산\n",
    "            avg_return = data['Returns'].mean()\n",
    "            \n",
    "\n",
    "            # 결과 저장\n",
    "            results.append({\n",
    "                'Code': ticker,                 # 종목코드\n",
    "                'Name': row['Name'],            # 종목명\n",
    "                'Volatility': volatility,       # 변동성(%)\n",
    "                'TotalReturn': total_return,    # 총수익률(%)\n",
    "                'AvgReturn': avg_return,        # 평균수익률(%)      \n",
    "            })\n",
    "\n",
    "        except Exception as e:\n",
    "            print(f\"{ticker} 데이터 오류: {e}\")\n",
    "\n",
    "    # 결과 DataFrame 생성\n",
    "    results_df = pd.DataFrame(results)\n",
    "\n",
    "    return results_df\n"
   ]
  },
  {
   "cell_type": "code",
   "execution_count": 13,
   "metadata": {},
   "outputs": [
    {
     "data": {
      "text/html": [
       "<div>\n",
       "<style scoped>\n",
       "    .dataframe tbody tr th:only-of-type {\n",
       "        vertical-align: middle;\n",
       "    }\n",
       "\n",
       "    .dataframe tbody tr th {\n",
       "        vertical-align: top;\n",
       "    }\n",
       "\n",
       "    .dataframe thead th {\n",
       "        text-align: right;\n",
       "    }\n",
       "</style>\n",
       "<table border=\"1\" class=\"dataframe\">\n",
       "  <thead>\n",
       "    <tr style=\"text-align: right;\">\n",
       "      <th></th>\n",
       "      <th>Code</th>\n",
       "      <th>Name</th>\n",
       "      <th>Volatility</th>\n",
       "      <th>TotalReturn</th>\n",
       "      <th>AvgReturn</th>\n",
       "    </tr>\n",
       "  </thead>\n",
       "  <tbody>\n",
       "    <tr>\n",
       "      <th>0</th>\n",
       "      <td>005930</td>\n",
       "      <td>삼성전자</td>\n",
       "      <td>1.620596</td>\n",
       "      <td>-0.922509</td>\n",
       "      <td>-0.152225</td>\n",
       "    </tr>\n",
       "    <tr>\n",
       "      <th>1</th>\n",
       "      <td>000660</td>\n",
       "      <td>SK하이닉스</td>\n",
       "      <td>2.300046</td>\n",
       "      <td>9.130707</td>\n",
       "      <td>0.425609</td>\n",
       "    </tr>\n",
       "    <tr>\n",
       "      <th>2</th>\n",
       "      <td>373220</td>\n",
       "      <td>LG에너지솔루션</td>\n",
       "      <td>2.717703</td>\n",
       "      <td>-8.781127</td>\n",
       "      <td>-0.690052</td>\n",
       "    </tr>\n",
       "    <tr>\n",
       "      <th>3</th>\n",
       "      <td>207940</td>\n",
       "      <td>삼성바이오로직스</td>\n",
       "      <td>1.389048</td>\n",
       "      <td>-4.205128</td>\n",
       "      <td>-0.331636</td>\n",
       "    </tr>\n",
       "    <tr>\n",
       "      <th>4</th>\n",
       "      <td>005380</td>\n",
       "      <td>현대차</td>\n",
       "      <td>2.109992</td>\n",
       "      <td>-1.601831</td>\n",
       "      <td>-0.071277</td>\n",
       "    </tr>\n",
       "  </tbody>\n",
       "</table>\n",
       "</div>"
      ],
      "text/plain": [
       "     Code      Name  Volatility  TotalReturn  AvgReturn\n",
       "0  005930      삼성전자    1.620596    -0.922509  -0.152225\n",
       "1  000660    SK하이닉스    2.300046     9.130707   0.425609\n",
       "2  373220  LG에너지솔루션    2.717703    -8.781127  -0.690052\n",
       "3  207940  삼성바이오로직스    1.389048    -4.205128  -0.331636\n",
       "4  005380       현대차    2.109992    -1.601831  -0.071277"
      ]
     },
     "execution_count": 13,
     "metadata": {},
     "output_type": "execute_result"
    }
   ],
   "source": [
    "kospi_df = combined_stock_analysis(market='KOSPI')\n",
    "kospi_df.head()"
   ]
  }
 ],
 "metadata": {
  "kernelspec": {
   "display_name": "base",
   "language": "python",
   "name": "python3"
  },
  "language_info": {
   "codemirror_mode": {
    "name": "ipython",
    "version": 3
   },
   "file_extension": ".py",
   "mimetype": "text/x-python",
   "name": "python",
   "nbconvert_exporter": "python",
   "pygments_lexer": "ipython3",
   "version": "3.12.7"
  }
 },
 "nbformat": 4,
 "nbformat_minor": 2
}
