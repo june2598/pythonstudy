{
 "cells": [
  {
   "cell_type": "markdown",
   "metadata": {},
   "source": [
    "\n",
    "각 시장별 업종 점유율을 시각화하여 현재 주목받고 있는 업종을 파악. (KOSPI, KOSDAQ 업종 나누는 방법 필요)\n",
    "\n",
    "업종 나누기 : 네이버증권 업종탭에서, 각 업종별 목록을 받아옴\n",
    "\n",
    "* 있는건 코스닥, * 없는건 코스피\n",
    "\n",
    "데이터 전처리 : fdr.StockListing에 'Sector' 열 추가\n",
    "\n",
    "Sector를 기반으로 groupby 하면 KOSPI, KOSDAQ 시장에서 업종별 점유율을 시각화 할 수 있음 "
   ]
  },
  {
   "cell_type": "markdown",
   "metadata": {},
   "source": [
    "네이버 증권 업종 탭에서 업종 목록을 request, bs4, 안될시 selenium으로 받아옴\n",
    "\n",
    "업종링크를 돌면서 종목명에 *이 있는것과 없는것으로 분류 -> 정규표현식 etc 등의 방법\n",
    "\n",
    "fdr.StockListing 전처리 - kospi, kosdaq에 sector열을 추가 -> 위에서 구분한걸 기준으로 넣음\n",
    "\n",
    "이를 기반으로 sector별 종목수를 계산 (value_counts())\n",
    "\n",
    "이를 시각화"
   ]
  },
  {
   "cell_type": "code",
   "execution_count": 1,
   "metadata": {},
   "outputs": [],
   "source": [
    "# 데이터 분석을 위한 패키지\n",
    "import numpy as np\n",
    "import pandas as pd"
   ]
  },
  {
   "cell_type": "code",
   "execution_count": 2,
   "metadata": {},
   "outputs": [],
   "source": [
    "# 시각화 패키지\n",
    "import matplotlib.pyplot as plt\n",
    "import seaborn as sns\n",
    "import plotly.express as px"
   ]
  },
  {
   "cell_type": "code",
   "execution_count": 3,
   "metadata": {},
   "outputs": [],
   "source": [
    "import FinanceDataReader as fdr"
   ]
  },
  {
   "cell_type": "code",
   "execution_count": 4,
   "metadata": {},
   "outputs": [],
   "source": [
    "import koreanize_matplotlib"
   ]
  },
  {
   "cell_type": "code",
   "execution_count": 5,
   "metadata": {},
   "outputs": [],
   "source": [
    "import datetime\n",
    "from dateutil.relativedelta import relativedelta"
   ]
  },
  {
   "cell_type": "code",
   "execution_count": 7,
   "metadata": {},
   "outputs": [],
   "source": [
    "from data_loader import load_sector_data, get_market_color"
   ]
  },
  {
   "cell_type": "code",
   "execution_count": 8,
   "metadata": {},
   "outputs": [],
   "source": [
    "# 모든 컬럼,행을 출력하도록 설정\n",
    "pd.set_option('display.max_columns', None) # None으로 설정하면 모든 컬럼 출력\n",
    "pd.set_option('display.max_rows', None) #None으로 설정하면 모든 행 출력"
   ]
  },
  {
   "cell_type": "code",
   "execution_count": 9,
   "metadata": {},
   "outputs": [],
   "source": [
    "# 업종별 점유율을 시각화 하는 함수\n",
    "\n",
    "def visualize_sector_share(market=None, month_ago=3):\n",
    "  \n",
    "    df = load_sector_data(market, month_ago=month_ago)\n",
    "  \n",
    "    # 업종별 카운트 계산\n",
    "    df_sector_cnt = df['Sector'].value_counts().sort_values(ascending=True)\n",
    "    \n",
    "    # 시장의 총 종목 수 계산\n",
    "    total_count = len(df)  # 전체 종목 수\n",
    "    \n",
    "    # 업종별 비율 계산\n",
    "    sector_ratio = df_sector_cnt / total_count * 100\n",
    "    \n",
    "    # Figure의 세로 사이즈 조정 (업종수에 따라)\n",
    "    figure_height = 400 + (len(df_sector_cnt) * 30)  \n",
    "    \n",
    "    # 시장별 그래프 색상 설정\n",
    "    color = get_market_color(market)\n",
    "    \n",
    "    # Plotly로 그래프 작성\n",
    "    fig = px.bar(\n",
    "        x=sector_ratio,\n",
    "        y=df_sector_cnt.index,\n",
    "        color_discrete_sequence=[color],\n",
    "        title=f'{market} 시장 업종별 점유율',\n",
    "        labels={'x':'점유율 (%)','y':'업종명'},\n",
    "        height=figure_height\n",
    "    )  \n",
    "    fig.show()\n",
    "    \n",
    "    display(pd.DataFrame(df['Sector'].value_counts().sort_values(ascending=False)))\n",
    "    "
   ]
  },
  {
   "cell_type": "code",
   "execution_count": 10,
   "metadata": {},
   "outputs": [],
   "source": [
    "# 업종별 수익률 평균을 계산하고 시각화하는 함수\n",
    "\n",
    "# 아래 개선된 함수를 사용하세요.\n",
    "\n",
    "# def avg_return_by_sector(market=None) :\n",
    "  \n",
    "#   df = load_sector_data(market)\n",
    "  \n",
    "#   mean_return_by_sector = df.groupby('Sector').agg({'TotalReturn':'mean'}).sort_values(by='TotalReturn',ascending=True)\n",
    "  \n",
    "#   plt.figure(figsize=(8,20))\n",
    "#   plt.barh(mean_return_by_sector.index, mean_return_by_sector['TotalReturn'], color='violet')\n",
    "#   plt.title(f'{market} 업종별 수익률 평균', fontsize=16)\n",
    "#   plt.show()\n",
    "  \n",
    "#   return mean_return_by_sector"
   ]
  },
  {
   "cell_type": "markdown",
   "metadata": {},
   "source": [
    "업종별 수익률 => 색상으로 위험도를 구분 -> 위험도 순으로 정렬 -> 이를 통해 위험도 대비 수익률"
   ]
  },
  {
   "cell_type": "code",
   "execution_count": 10,
   "metadata": {},
   "outputs": [],
   "source": [
    "# 업종별 수익률 평균을 계산하고 시각화하는 함수\n",
    "\n",
    "# plotly를 사용해 사용자에게 좀 더 유용한 정보를 제공\n",
    "\n",
    "def avg_return_by_sector(market=None, month_ago=3, risk=None):\n",
    "    \n",
    "    df = load_sector_data(market, month_ago=month_ago)  # 데이터 로드\n",
    "    \n",
    "    # 시장의 평균 수익률 계산\n",
    "    market_avg_return = df['TotalReturn'].mean()\n",
    "    \n",
    "    # 업종별 평균 수익률, 평균 위험도도 계산\n",
    "    mean_return_by_sector = df.groupby('Sector').agg({'TotalReturn': 'mean', 'Risk':'mean'}).reset_index().sort_values(by='Risk', ascending=True)\n",
    "    \n",
    "    # 위험도 필터링\n",
    "    if risk is not None:\n",
    "        mean_return_by_sector = mean_return_by_sector[mean_return_by_sector['Risk'] <= risk].sort_values(by='TotalReturn')\n",
    "    \n",
    "    # 시장별 그래프 색상 설정\n",
    "    color = get_market_color(market)\n",
    "\n",
    "    # Figure의 세로 사이즈 조정 (업종수에 따라)\n",
    "    figure_height = 400 + (len(mean_return_by_sector) * 30)        \n",
    "    \n",
    "    # Plotly로 그래프 작성\n",
    "    fig = px.bar(\n",
    "        data_frame=mean_return_by_sector,\n",
    "        x='TotalReturn', \n",
    "        y='Sector',\n",
    "        color='Risk',  # 위험도를 색상으로 사용\n",
    "        color_continuous_scale=px.colors.sequential.Reds,  # 색상 스케일 설정\n",
    "        title=f'{market} 업종별 {month_ago}개월 평균 수익률',\n",
    "        labels={'x':'평균 수익률 (%)','y':'업종명'},\n",
    "        height=figure_height\n",
    "    )\n",
    "    \n",
    "    # 평균 수직선 추가\n",
    "    fig.add_shape(type='line', xref='x', yref='y',\n",
    "                  x0=market_avg_return, y0=-0.5, x1=market_avg_return, y1=len(mean_return_by_sector)-0.5,\n",
    "                  line=dict(color='blue', dash='dash'),\n",
    "                  name=f'{market} 평균 수익률(%)')\n",
    "    \n",
    "    # 평균 라벨 추가\n",
    "    fig.add_annotation(\n",
    "        x=market_avg_return,\n",
    "        y=len(mean_return_by_sector) - 0.5,\n",
    "        text=f'{market} 평균 수익률(%) : {market_avg_return:.3f} %',\n",
    "        showarrow=True,\n",
    "        arrowhead=2,\n",
    "        ax=0,\n",
    "        ay=-40,\n",
    "        font=dict(color='blue')\n",
    "    )\n",
    "    \n",
    "    fig.show()"
   ]
  },
  {
   "cell_type": "code",
   "execution_count": 50,
   "metadata": {},
   "outputs": [
    {
     "name": "stdout",
     "output_type": "stream",
     "text": [
      "1개월 간의 data를 불러옵니다.\n"
     ]
    },
    {
     "data": {
      "application/vnd.plotly.v1+json": {
       "config": {
        "plotlyServerURL": "https://plot.ly"
       },
       "data": [
        {
         "alignmentgroup": "True",
         "hovertemplate": "TotalReturn=%{x}<br>Sector=%{y}<br>Risk=%{marker.color}<extra></extra>",
         "legendgroup": "",
         "marker": {
          "color": [
           1,
           1.5,
           2,
           1,
           1,
           1.3333333333333333,
           2,
           1.3333333333333333,
           1.6,
           1.4,
           1.8888888888888888,
           1.6666666666666667,
           1.6666666666666667,
           2,
           1.3928571428571428,
           1.9285714285714286,
           2,
           1.9,
           1.6176470588235294,
           1,
           2,
           2,
           1.6875,
           1.6,
           2,
           1.4545454545454546,
           1.75,
           2,
           1.7,
           2,
           1.9189189189189189,
           1.9074074074074074,
           2,
           1.9166666666666667,
           2,
           2,
           1.6363636363636365,
           2,
           1.8,
           1.7692307692307692,
           1.9183673469387754,
           1.9726027397260273,
           2,
           2
          ],
          "coloraxis": "coloraxis",
          "pattern": {
           "shape": ""
          }
         },
         "name": "",
         "offsetgroup": "",
         "orientation": "h",
         "showlegend": false,
         "textposition": "auto",
         "type": "bar",
         "x": [
          -12.25,
          -5.425,
          -5.26,
          -4.55,
          -3.3499999999999996,
          -1.2133333333333334,
          -0.3600000000000003,
          -0.0433333333333333,
          0.22100000000000009,
          1.848,
          1.8566666666666665,
          2.3477777777777775,
          2.763333333333333,
          3.205,
          3.235,
          3.5942857142857143,
          3.73,
          3.7910000000000004,
          3.901764705882353,
          4.01,
          4.19,
          4.6425,
          4.89,
          4.986000000000001,
          5.31,
          5.351818181818182,
          5.390000000000001,
          5.484999999999999,
          5.679,
          6.797999999999999,
          7.165945945945945,
          7.200555555555555,
          7.23,
          7.355416666666667,
          7.66,
          7.678064516129032,
          8.123636363636363,
          9.177894736842106,
          10.181999999999999,
          10.340000000000002,
          10.434285714285714,
          11.401780821917809,
          13.504,
          19.885
         ],
         "xaxis": "x",
         "y": [
          "담배",
          "소프트웨어",
          "생명보험",
          "카드",
          "무선통신서비스",
          "광고",
          "전문소매",
          "운송인프라",
          "은행",
          "도로와철도운송",
          "항공사",
          "음료",
          "컴퓨터와주변기기",
          "식품과기본식료품소매",
          "부동산",
          "백화점과일반상점",
          "인터넷과카탈로그소매",
          "상업서비스와공급품",
          "증권",
          "사무용전자제품",
          "통신장비",
          "건축제품",
          "포장재",
          "석유와가스",
          "창업투자",
          "가스유틸리티",
          "전기유틸리티",
          "디스플레이패널",
          "손해보험",
          "게임엔터테인먼트",
          "철강",
          "식품",
          "문구류",
          "복합기업",
          "가정용품",
          "건축자재",
          "항공화물운송과물류",
          "화장품",
          "무역회사와판매업체",
          "종이와목재",
          "섬유,의류,신발,호화품",
          "자동차부품",
          "건강관리장비와용품",
          "다각화된통신서비스"
         ],
         "yaxis": "y"
        }
       ],
       "layout": {
        "annotations": [
         {
          "arrowhead": 2,
          "ax": 0,
          "ay": -40,
          "font": {
           "color": "blue"
          },
          "showarrow": true,
          "text": "KOSPI 평균 수익률(%) : 9.456 %",
          "x": 9.455535900104058,
          "y": 43.5
         }
        ],
        "barmode": "relative",
        "coloraxis": {
         "colorbar": {
          "title": {
           "text": "Risk"
          }
         },
         "colorscale": [
          [
           0,
           "rgb(255,245,240)"
          ],
          [
           0.125,
           "rgb(254,224,210)"
          ],
          [
           0.25,
           "rgb(252,187,161)"
          ],
          [
           0.375,
           "rgb(252,146,114)"
          ],
          [
           0.5,
           "rgb(251,106,74)"
          ],
          [
           0.625,
           "rgb(239,59,44)"
          ],
          [
           0.75,
           "rgb(203,24,29)"
          ],
          [
           0.875,
           "rgb(165,15,21)"
          ],
          [
           1,
           "rgb(103,0,13)"
          ]
         ]
        },
        "height": 1720,
        "legend": {
         "tracegroupgap": 0
        },
        "shapes": [
         {
          "line": {
           "color": "blue",
           "dash": "dash"
          },
          "name": "KOSPI 평균 수익률(%)",
          "type": "line",
          "x0": 9.455535900104058,
          "x1": 9.455535900104058,
          "xref": "x",
          "y0": -0.5,
          "y1": 43.5,
          "yref": "y"
         }
        ],
        "template": {
         "data": {
          "bar": [
           {
            "error_x": {
             "color": "#2a3f5f"
            },
            "error_y": {
             "color": "#2a3f5f"
            },
            "marker": {
             "line": {
              "color": "white",
              "width": 0.5
             },
             "pattern": {
              "fillmode": "overlay",
              "size": 10,
              "solidity": 0.2
             }
            },
            "type": "bar"
           }
          ],
          "barpolar": [
           {
            "marker": {
             "line": {
              "color": "white",
              "width": 0.5
             },
             "pattern": {
              "fillmode": "overlay",
              "size": 10,
              "solidity": 0.2
             }
            },
            "type": "barpolar"
           }
          ],
          "carpet": [
           {
            "aaxis": {
             "endlinecolor": "#2a3f5f",
             "gridcolor": "#C8D4E3",
             "linecolor": "#C8D4E3",
             "minorgridcolor": "#C8D4E3",
             "startlinecolor": "#2a3f5f"
            },
            "baxis": {
             "endlinecolor": "#2a3f5f",
             "gridcolor": "#C8D4E3",
             "linecolor": "#C8D4E3",
             "minorgridcolor": "#C8D4E3",
             "startlinecolor": "#2a3f5f"
            },
            "type": "carpet"
           }
          ],
          "choropleth": [
           {
            "colorbar": {
             "outlinewidth": 0,
             "ticks": ""
            },
            "type": "choropleth"
           }
          ],
          "contour": [
           {
            "colorbar": {
             "outlinewidth": 0,
             "ticks": ""
            },
            "colorscale": [
             [
              0,
              "#0d0887"
             ],
             [
              0.1111111111111111,
              "#46039f"
             ],
             [
              0.2222222222222222,
              "#7201a8"
             ],
             [
              0.3333333333333333,
              "#9c179e"
             ],
             [
              0.4444444444444444,
              "#bd3786"
             ],
             [
              0.5555555555555556,
              "#d8576b"
             ],
             [
              0.6666666666666666,
              "#ed7953"
             ],
             [
              0.7777777777777778,
              "#fb9f3a"
             ],
             [
              0.8888888888888888,
              "#fdca26"
             ],
             [
              1,
              "#f0f921"
             ]
            ],
            "type": "contour"
           }
          ],
          "contourcarpet": [
           {
            "colorbar": {
             "outlinewidth": 0,
             "ticks": ""
            },
            "type": "contourcarpet"
           }
          ],
          "heatmap": [
           {
            "colorbar": {
             "outlinewidth": 0,
             "ticks": ""
            },
            "colorscale": [
             [
              0,
              "#0d0887"
             ],
             [
              0.1111111111111111,
              "#46039f"
             ],
             [
              0.2222222222222222,
              "#7201a8"
             ],
             [
              0.3333333333333333,
              "#9c179e"
             ],
             [
              0.4444444444444444,
              "#bd3786"
             ],
             [
              0.5555555555555556,
              "#d8576b"
             ],
             [
              0.6666666666666666,
              "#ed7953"
             ],
             [
              0.7777777777777778,
              "#fb9f3a"
             ],
             [
              0.8888888888888888,
              "#fdca26"
             ],
             [
              1,
              "#f0f921"
             ]
            ],
            "type": "heatmap"
           }
          ],
          "heatmapgl": [
           {
            "colorbar": {
             "outlinewidth": 0,
             "ticks": ""
            },
            "colorscale": [
             [
              0,
              "#0d0887"
             ],
             [
              0.1111111111111111,
              "#46039f"
             ],
             [
              0.2222222222222222,
              "#7201a8"
             ],
             [
              0.3333333333333333,
              "#9c179e"
             ],
             [
              0.4444444444444444,
              "#bd3786"
             ],
             [
              0.5555555555555556,
              "#d8576b"
             ],
             [
              0.6666666666666666,
              "#ed7953"
             ],
             [
              0.7777777777777778,
              "#fb9f3a"
             ],
             [
              0.8888888888888888,
              "#fdca26"
             ],
             [
              1,
              "#f0f921"
             ]
            ],
            "type": "heatmapgl"
           }
          ],
          "histogram": [
           {
            "marker": {
             "pattern": {
              "fillmode": "overlay",
              "size": 10,
              "solidity": 0.2
             }
            },
            "type": "histogram"
           }
          ],
          "histogram2d": [
           {
            "colorbar": {
             "outlinewidth": 0,
             "ticks": ""
            },
            "colorscale": [
             [
              0,
              "#0d0887"
             ],
             [
              0.1111111111111111,
              "#46039f"
             ],
             [
              0.2222222222222222,
              "#7201a8"
             ],
             [
              0.3333333333333333,
              "#9c179e"
             ],
             [
              0.4444444444444444,
              "#bd3786"
             ],
             [
              0.5555555555555556,
              "#d8576b"
             ],
             [
              0.6666666666666666,
              "#ed7953"
             ],
             [
              0.7777777777777778,
              "#fb9f3a"
             ],
             [
              0.8888888888888888,
              "#fdca26"
             ],
             [
              1,
              "#f0f921"
             ]
            ],
            "type": "histogram2d"
           }
          ],
          "histogram2dcontour": [
           {
            "colorbar": {
             "outlinewidth": 0,
             "ticks": ""
            },
            "colorscale": [
             [
              0,
              "#0d0887"
             ],
             [
              0.1111111111111111,
              "#46039f"
             ],
             [
              0.2222222222222222,
              "#7201a8"
             ],
             [
              0.3333333333333333,
              "#9c179e"
             ],
             [
              0.4444444444444444,
              "#bd3786"
             ],
             [
              0.5555555555555556,
              "#d8576b"
             ],
             [
              0.6666666666666666,
              "#ed7953"
             ],
             [
              0.7777777777777778,
              "#fb9f3a"
             ],
             [
              0.8888888888888888,
              "#fdca26"
             ],
             [
              1,
              "#f0f921"
             ]
            ],
            "type": "histogram2dcontour"
           }
          ],
          "mesh3d": [
           {
            "colorbar": {
             "outlinewidth": 0,
             "ticks": ""
            },
            "type": "mesh3d"
           }
          ],
          "parcoords": [
           {
            "line": {
             "colorbar": {
              "outlinewidth": 0,
              "ticks": ""
             }
            },
            "type": "parcoords"
           }
          ],
          "pie": [
           {
            "automargin": true,
            "type": "pie"
           }
          ],
          "scatter": [
           {
            "fillpattern": {
             "fillmode": "overlay",
             "size": 10,
             "solidity": 0.2
            },
            "type": "scatter"
           }
          ],
          "scatter3d": [
           {
            "line": {
             "colorbar": {
              "outlinewidth": 0,
              "ticks": ""
             }
            },
            "marker": {
             "colorbar": {
              "outlinewidth": 0,
              "ticks": ""
             }
            },
            "type": "scatter3d"
           }
          ],
          "scattercarpet": [
           {
            "marker": {
             "colorbar": {
              "outlinewidth": 0,
              "ticks": ""
             }
            },
            "type": "scattercarpet"
           }
          ],
          "scattergeo": [
           {
            "marker": {
             "colorbar": {
              "outlinewidth": 0,
              "ticks": ""
             }
            },
            "type": "scattergeo"
           }
          ],
          "scattergl": [
           {
            "marker": {
             "colorbar": {
              "outlinewidth": 0,
              "ticks": ""
             }
            },
            "type": "scattergl"
           }
          ],
          "scattermapbox": [
           {
            "marker": {
             "colorbar": {
              "outlinewidth": 0,
              "ticks": ""
             }
            },
            "type": "scattermapbox"
           }
          ],
          "scatterpolar": [
           {
            "marker": {
             "colorbar": {
              "outlinewidth": 0,
              "ticks": ""
             }
            },
            "type": "scatterpolar"
           }
          ],
          "scatterpolargl": [
           {
            "marker": {
             "colorbar": {
              "outlinewidth": 0,
              "ticks": ""
             }
            },
            "type": "scatterpolargl"
           }
          ],
          "scatterternary": [
           {
            "marker": {
             "colorbar": {
              "outlinewidth": 0,
              "ticks": ""
             }
            },
            "type": "scatterternary"
           }
          ],
          "surface": [
           {
            "colorbar": {
             "outlinewidth": 0,
             "ticks": ""
            },
            "colorscale": [
             [
              0,
              "#0d0887"
             ],
             [
              0.1111111111111111,
              "#46039f"
             ],
             [
              0.2222222222222222,
              "#7201a8"
             ],
             [
              0.3333333333333333,
              "#9c179e"
             ],
             [
              0.4444444444444444,
              "#bd3786"
             ],
             [
              0.5555555555555556,
              "#d8576b"
             ],
             [
              0.6666666666666666,
              "#ed7953"
             ],
             [
              0.7777777777777778,
              "#fb9f3a"
             ],
             [
              0.8888888888888888,
              "#fdca26"
             ],
             [
              1,
              "#f0f921"
             ]
            ],
            "type": "surface"
           }
          ],
          "table": [
           {
            "cells": {
             "fill": {
              "color": "#EBF0F8"
             },
             "line": {
              "color": "white"
             }
            },
            "header": {
             "fill": {
              "color": "#C8D4E3"
             },
             "line": {
              "color": "white"
             }
            },
            "type": "table"
           }
          ]
         },
         "layout": {
          "annotationdefaults": {
           "arrowcolor": "#2a3f5f",
           "arrowhead": 0,
           "arrowwidth": 1
          },
          "autotypenumbers": "strict",
          "coloraxis": {
           "colorbar": {
            "outlinewidth": 0,
            "ticks": ""
           }
          },
          "colorscale": {
           "diverging": [
            [
             0,
             "#8e0152"
            ],
            [
             0.1,
             "#c51b7d"
            ],
            [
             0.2,
             "#de77ae"
            ],
            [
             0.3,
             "#f1b6da"
            ],
            [
             0.4,
             "#fde0ef"
            ],
            [
             0.5,
             "#f7f7f7"
            ],
            [
             0.6,
             "#e6f5d0"
            ],
            [
             0.7,
             "#b8e186"
            ],
            [
             0.8,
             "#7fbc41"
            ],
            [
             0.9,
             "#4d9221"
            ],
            [
             1,
             "#276419"
            ]
           ],
           "sequential": [
            [
             0,
             "#0d0887"
            ],
            [
             0.1111111111111111,
             "#46039f"
            ],
            [
             0.2222222222222222,
             "#7201a8"
            ],
            [
             0.3333333333333333,
             "#9c179e"
            ],
            [
             0.4444444444444444,
             "#bd3786"
            ],
            [
             0.5555555555555556,
             "#d8576b"
            ],
            [
             0.6666666666666666,
             "#ed7953"
            ],
            [
             0.7777777777777778,
             "#fb9f3a"
            ],
            [
             0.8888888888888888,
             "#fdca26"
            ],
            [
             1,
             "#f0f921"
            ]
           ],
           "sequentialminus": [
            [
             0,
             "#0d0887"
            ],
            [
             0.1111111111111111,
             "#46039f"
            ],
            [
             0.2222222222222222,
             "#7201a8"
            ],
            [
             0.3333333333333333,
             "#9c179e"
            ],
            [
             0.4444444444444444,
             "#bd3786"
            ],
            [
             0.5555555555555556,
             "#d8576b"
            ],
            [
             0.6666666666666666,
             "#ed7953"
            ],
            [
             0.7777777777777778,
             "#fb9f3a"
            ],
            [
             0.8888888888888888,
             "#fdca26"
            ],
            [
             1,
             "#f0f921"
            ]
           ]
          },
          "colorway": [
           "#636efa",
           "#EF553B",
           "#00cc96",
           "#ab63fa",
           "#FFA15A",
           "#19d3f3",
           "#FF6692",
           "#B6E880",
           "#FF97FF",
           "#FECB52"
          ],
          "font": {
           "color": "#2a3f5f"
          },
          "geo": {
           "bgcolor": "white",
           "lakecolor": "white",
           "landcolor": "white",
           "showlakes": true,
           "showland": true,
           "subunitcolor": "#C8D4E3"
          },
          "hoverlabel": {
           "align": "left"
          },
          "hovermode": "closest",
          "mapbox": {
           "style": "light"
          },
          "paper_bgcolor": "white",
          "plot_bgcolor": "white",
          "polar": {
           "angularaxis": {
            "gridcolor": "#EBF0F8",
            "linecolor": "#EBF0F8",
            "ticks": ""
           },
           "bgcolor": "white",
           "radialaxis": {
            "gridcolor": "#EBF0F8",
            "linecolor": "#EBF0F8",
            "ticks": ""
           }
          },
          "scene": {
           "xaxis": {
            "backgroundcolor": "white",
            "gridcolor": "#DFE8F3",
            "gridwidth": 2,
            "linecolor": "#EBF0F8",
            "showbackground": true,
            "ticks": "",
            "zerolinecolor": "#EBF0F8"
           },
           "yaxis": {
            "backgroundcolor": "white",
            "gridcolor": "#DFE8F3",
            "gridwidth": 2,
            "linecolor": "#EBF0F8",
            "showbackground": true,
            "ticks": "",
            "zerolinecolor": "#EBF0F8"
           },
           "zaxis": {
            "backgroundcolor": "white",
            "gridcolor": "#DFE8F3",
            "gridwidth": 2,
            "linecolor": "#EBF0F8",
            "showbackground": true,
            "ticks": "",
            "zerolinecolor": "#EBF0F8"
           }
          },
          "shapedefaults": {
           "line": {
            "color": "#2a3f5f"
           }
          },
          "ternary": {
           "aaxis": {
            "gridcolor": "#DFE8F3",
            "linecolor": "#A2B1C6",
            "ticks": ""
           },
           "baxis": {
            "gridcolor": "#DFE8F3",
            "linecolor": "#A2B1C6",
            "ticks": ""
           },
           "bgcolor": "white",
           "caxis": {
            "gridcolor": "#DFE8F3",
            "linecolor": "#A2B1C6",
            "ticks": ""
           }
          },
          "title": {
           "x": 0.05
          },
          "xaxis": {
           "automargin": true,
           "gridcolor": "#EBF0F8",
           "linecolor": "#EBF0F8",
           "ticks": "",
           "title": {
            "standoff": 15
           },
           "zerolinecolor": "#EBF0F8",
           "zerolinewidth": 2
          },
          "yaxis": {
           "automargin": true,
           "gridcolor": "#EBF0F8",
           "linecolor": "#EBF0F8",
           "ticks": "",
           "title": {
            "standoff": 15
           },
           "zerolinecolor": "#EBF0F8",
           "zerolinewidth": 2
          }
         }
        },
        "title": {
         "text": "KOSPI 업종별 1개월 평균 수익률"
        },
        "xaxis": {
         "anchor": "y",
         "domain": [
          0,
          1
         ],
         "title": {
          "text": "TotalReturn"
         }
        },
        "yaxis": {
         "anchor": "x",
         "domain": [
          0,
          1
         ],
         "title": {
          "text": "Sector"
         }
        }
       }
      }
     },
     "metadata": {},
     "output_type": "display_data"
    }
   ],
   "source": [
    "avg_return_by_sector(market='KOSPI', month_ago=1, risk=2)"
   ]
  },
  {
   "cell_type": "code",
   "execution_count": null,
   "metadata": {},
   "outputs": [],
   "source": []
  },
  {
   "cell_type": "code",
   "execution_count": 50,
   "metadata": {},
   "outputs": [
    {
     "data": {
      "application/vnd.plotly.v1+json": {
       "config": {
        "plotlyServerURL": "https://plot.ly"
       },
       "data": [
        {
         "alignmentgroup": "True",
         "hovertemplate": "평균 수익률 (%)=%{x}<br>업종명=%{y}<extra></extra>",
         "legendgroup": "",
         "marker": {
          "color": "red",
          "pattern": {
           "shape": ""
          }
         },
         "name": "",
         "offsetgroup": "",
         "orientation": "h",
         "showlegend": false,
         "textposition": "auto",
         "type": "bar",
         "x": [
          -12.54,
          -9.76,
          -8.631666666666666,
          -7.19,
          -6.239999999999999,
          -5.886153846153846,
          -5.73,
          -5.60625,
          -5.123333333333333,
          -4.965,
          -4.35,
          -4.257777777777777,
          -4.183999999999999,
          -4.1425,
          -3.9850000000000003,
          -3.733333333333333,
          -3.262857142857143,
          -3.24,
          -2.94,
          -2.657,
          -2.542972972972973,
          -2.3,
          -2.26,
          -2.1350000000000002,
          -2.042222222222222,
          -1.429285714285714,
          -1.2266666666666666,
          -0.7816666666666666,
          -0.2984684684684684,
          -0.24100000000000002,
          -0.14083333333333314,
          -0.029915966386554662,
          -0.0033333333333332624,
          0.15750000000000003,
          0.4113333333333331,
          0.525,
          0.6061538461538462,
          0.8458333333333335,
          0.8882432432432429,
          1.0226666666666666,
          1.0394444444444446,
          1.5379999999999998,
          1.56,
          1.6872222222222222,
          2.162857142857143,
          2.187894736842105,
          2.3000000000000003,
          2.38,
          2.53,
          3.315975609756097,
          3.6035897435897435,
          3.744305555555555,
          4.118307692307693,
          4.49942857142857,
          5.179016393442623,
          5.9484375,
          6.006153846153846,
          6.212465753424658,
          6.2780000000000005,
          6.854788732394367,
          7.28047619047619,
          9.547600000000001,
          13.451999999999998,
          14.894680851063828,
          17.08341463414634,
          23.804242424242425,
          26.821428571428573,
          39.2,
          65.33
         ],
         "xaxis": "x",
         "y": [
          "손해보험",
          "복합기업",
          "석유와가스",
          "다각화된통신서비스",
          "자동차",
          "광고",
          "은행",
          "전기제품",
          "우주항공과국방",
          "도로와철도운송",
          "가스유틸리티",
          "방송과엔터테인먼트",
          "식품과기본식료품소매",
          "기타금융",
          "백화점과일반상점",
          "음료",
          "판매업체",
          "증권",
          "인터넷과카탈로그소매",
          "생물공학",
          "생명과학도구및서비스",
          "다각화된소비자서비스",
          "무선통신서비스",
          "포장재",
          "레저용장비와제품",
          "전기장비",
          "호텔,레스토랑,레저",
          "가정용품",
          "제약",
          "게임엔터테인먼트",
          "건강관리기술",
          "창업투자",
          "건축제품",
          "종이와목재",
          "가정용기기와용품",
          "화학",
          "양방향미디어와서비스",
          "건강관리업체및서비스",
          "건강관리장비와용품",
          "에너지장비및서비스",
          "교육서비스",
          "출판",
          "전문소매",
          "건축자재",
          "전자제품",
          "철강",
          "해운사",
          "디스플레이패널",
          "전기유틸리티",
          "IT서비스",
          "전자장비와기기",
          "소프트웨어",
          "디스플레이장비및부품",
          "건설",
          "핸드셋",
          "섬유,의류,신발,호화품",
          "조선",
          "기계",
          "가구",
          "반도체와반도체장비",
          "상업서비스와공급품",
          "자동차부품",
          "컴퓨터와주변기기",
          "통신장비",
          "화장품",
          "식품",
          "운송인프라",
          "항공화물운송과물류",
          "비철금속"
         ],
         "yaxis": "y"
        }
       ],
       "layout": {
        "annotations": [
         {
          "arrowhead": 2,
          "ax": 0,
          "ay": -40,
          "font": {
           "color": "blue"
          },
          "showarrow": true,
          "text": "KOSDAQ 평균 수익률(%) : 3.892 %",
          "x": 3.8923542600896854,
          "y": 68.5
         }
        ],
        "barmode": "relative",
        "height": 2470,
        "legend": {
         "tracegroupgap": 0
        },
        "shapes": [
         {
          "line": {
           "color": "blue",
           "dash": "dash"
          },
          "name": "KOSDAQ 평균 수익률(%)",
          "type": "line",
          "x0": 3.8923542600896854,
          "x1": 3.8923542600896854,
          "xref": "x",
          "y0": -0.5,
          "y1": 68.5,
          "yref": "y"
         }
        ],
        "showlegend": true,
        "template": {
         "data": {
          "bar": [
           {
            "error_x": {
             "color": "#2a3f5f"
            },
            "error_y": {
             "color": "#2a3f5f"
            },
            "marker": {
             "line": {
              "color": "white",
              "width": 0.5
             },
             "pattern": {
              "fillmode": "overlay",
              "size": 10,
              "solidity": 0.2
             }
            },
            "type": "bar"
           }
          ],
          "barpolar": [
           {
            "marker": {
             "line": {
              "color": "white",
              "width": 0.5
             },
             "pattern": {
              "fillmode": "overlay",
              "size": 10,
              "solidity": 0.2
             }
            },
            "type": "barpolar"
           }
          ],
          "carpet": [
           {
            "aaxis": {
             "endlinecolor": "#2a3f5f",
             "gridcolor": "#C8D4E3",
             "linecolor": "#C8D4E3",
             "minorgridcolor": "#C8D4E3",
             "startlinecolor": "#2a3f5f"
            },
            "baxis": {
             "endlinecolor": "#2a3f5f",
             "gridcolor": "#C8D4E3",
             "linecolor": "#C8D4E3",
             "minorgridcolor": "#C8D4E3",
             "startlinecolor": "#2a3f5f"
            },
            "type": "carpet"
           }
          ],
          "choropleth": [
           {
            "colorbar": {
             "outlinewidth": 0,
             "ticks": ""
            },
            "type": "choropleth"
           }
          ],
          "contour": [
           {
            "colorbar": {
             "outlinewidth": 0,
             "ticks": ""
            },
            "colorscale": [
             [
              0,
              "#0d0887"
             ],
             [
              0.1111111111111111,
              "#46039f"
             ],
             [
              0.2222222222222222,
              "#7201a8"
             ],
             [
              0.3333333333333333,
              "#9c179e"
             ],
             [
              0.4444444444444444,
              "#bd3786"
             ],
             [
              0.5555555555555556,
              "#d8576b"
             ],
             [
              0.6666666666666666,
              "#ed7953"
             ],
             [
              0.7777777777777778,
              "#fb9f3a"
             ],
             [
              0.8888888888888888,
              "#fdca26"
             ],
             [
              1,
              "#f0f921"
             ]
            ],
            "type": "contour"
           }
          ],
          "contourcarpet": [
           {
            "colorbar": {
             "outlinewidth": 0,
             "ticks": ""
            },
            "type": "contourcarpet"
           }
          ],
          "heatmap": [
           {
            "colorbar": {
             "outlinewidth": 0,
             "ticks": ""
            },
            "colorscale": [
             [
              0,
              "#0d0887"
             ],
             [
              0.1111111111111111,
              "#46039f"
             ],
             [
              0.2222222222222222,
              "#7201a8"
             ],
             [
              0.3333333333333333,
              "#9c179e"
             ],
             [
              0.4444444444444444,
              "#bd3786"
             ],
             [
              0.5555555555555556,
              "#d8576b"
             ],
             [
              0.6666666666666666,
              "#ed7953"
             ],
             [
              0.7777777777777778,
              "#fb9f3a"
             ],
             [
              0.8888888888888888,
              "#fdca26"
             ],
             [
              1,
              "#f0f921"
             ]
            ],
            "type": "heatmap"
           }
          ],
          "heatmapgl": [
           {
            "colorbar": {
             "outlinewidth": 0,
             "ticks": ""
            },
            "colorscale": [
             [
              0,
              "#0d0887"
             ],
             [
              0.1111111111111111,
              "#46039f"
             ],
             [
              0.2222222222222222,
              "#7201a8"
             ],
             [
              0.3333333333333333,
              "#9c179e"
             ],
             [
              0.4444444444444444,
              "#bd3786"
             ],
             [
              0.5555555555555556,
              "#d8576b"
             ],
             [
              0.6666666666666666,
              "#ed7953"
             ],
             [
              0.7777777777777778,
              "#fb9f3a"
             ],
             [
              0.8888888888888888,
              "#fdca26"
             ],
             [
              1,
              "#f0f921"
             ]
            ],
            "type": "heatmapgl"
           }
          ],
          "histogram": [
           {
            "marker": {
             "pattern": {
              "fillmode": "overlay",
              "size": 10,
              "solidity": 0.2
             }
            },
            "type": "histogram"
           }
          ],
          "histogram2d": [
           {
            "colorbar": {
             "outlinewidth": 0,
             "ticks": ""
            },
            "colorscale": [
             [
              0,
              "#0d0887"
             ],
             [
              0.1111111111111111,
              "#46039f"
             ],
             [
              0.2222222222222222,
              "#7201a8"
             ],
             [
              0.3333333333333333,
              "#9c179e"
             ],
             [
              0.4444444444444444,
              "#bd3786"
             ],
             [
              0.5555555555555556,
              "#d8576b"
             ],
             [
              0.6666666666666666,
              "#ed7953"
             ],
             [
              0.7777777777777778,
              "#fb9f3a"
             ],
             [
              0.8888888888888888,
              "#fdca26"
             ],
             [
              1,
              "#f0f921"
             ]
            ],
            "type": "histogram2d"
           }
          ],
          "histogram2dcontour": [
           {
            "colorbar": {
             "outlinewidth": 0,
             "ticks": ""
            },
            "colorscale": [
             [
              0,
              "#0d0887"
             ],
             [
              0.1111111111111111,
              "#46039f"
             ],
             [
              0.2222222222222222,
              "#7201a8"
             ],
             [
              0.3333333333333333,
              "#9c179e"
             ],
             [
              0.4444444444444444,
              "#bd3786"
             ],
             [
              0.5555555555555556,
              "#d8576b"
             ],
             [
              0.6666666666666666,
              "#ed7953"
             ],
             [
              0.7777777777777778,
              "#fb9f3a"
             ],
             [
              0.8888888888888888,
              "#fdca26"
             ],
             [
              1,
              "#f0f921"
             ]
            ],
            "type": "histogram2dcontour"
           }
          ],
          "mesh3d": [
           {
            "colorbar": {
             "outlinewidth": 0,
             "ticks": ""
            },
            "type": "mesh3d"
           }
          ],
          "parcoords": [
           {
            "line": {
             "colorbar": {
              "outlinewidth": 0,
              "ticks": ""
             }
            },
            "type": "parcoords"
           }
          ],
          "pie": [
           {
            "automargin": true,
            "type": "pie"
           }
          ],
          "scatter": [
           {
            "fillpattern": {
             "fillmode": "overlay",
             "size": 10,
             "solidity": 0.2
            },
            "type": "scatter"
           }
          ],
          "scatter3d": [
           {
            "line": {
             "colorbar": {
              "outlinewidth": 0,
              "ticks": ""
             }
            },
            "marker": {
             "colorbar": {
              "outlinewidth": 0,
              "ticks": ""
             }
            },
            "type": "scatter3d"
           }
          ],
          "scattercarpet": [
           {
            "marker": {
             "colorbar": {
              "outlinewidth": 0,
              "ticks": ""
             }
            },
            "type": "scattercarpet"
           }
          ],
          "scattergeo": [
           {
            "marker": {
             "colorbar": {
              "outlinewidth": 0,
              "ticks": ""
             }
            },
            "type": "scattergeo"
           }
          ],
          "scattergl": [
           {
            "marker": {
             "colorbar": {
              "outlinewidth": 0,
              "ticks": ""
             }
            },
            "type": "scattergl"
           }
          ],
          "scattermapbox": [
           {
            "marker": {
             "colorbar": {
              "outlinewidth": 0,
              "ticks": ""
             }
            },
            "type": "scattermapbox"
           }
          ],
          "scatterpolar": [
           {
            "marker": {
             "colorbar": {
              "outlinewidth": 0,
              "ticks": ""
             }
            },
            "type": "scatterpolar"
           }
          ],
          "scatterpolargl": [
           {
            "marker": {
             "colorbar": {
              "outlinewidth": 0,
              "ticks": ""
             }
            },
            "type": "scatterpolargl"
           }
          ],
          "scatterternary": [
           {
            "marker": {
             "colorbar": {
              "outlinewidth": 0,
              "ticks": ""
             }
            },
            "type": "scatterternary"
           }
          ],
          "surface": [
           {
            "colorbar": {
             "outlinewidth": 0,
             "ticks": ""
            },
            "colorscale": [
             [
              0,
              "#0d0887"
             ],
             [
              0.1111111111111111,
              "#46039f"
             ],
             [
              0.2222222222222222,
              "#7201a8"
             ],
             [
              0.3333333333333333,
              "#9c179e"
             ],
             [
              0.4444444444444444,
              "#bd3786"
             ],
             [
              0.5555555555555556,
              "#d8576b"
             ],
             [
              0.6666666666666666,
              "#ed7953"
             ],
             [
              0.7777777777777778,
              "#fb9f3a"
             ],
             [
              0.8888888888888888,
              "#fdca26"
             ],
             [
              1,
              "#f0f921"
             ]
            ],
            "type": "surface"
           }
          ],
          "table": [
           {
            "cells": {
             "fill": {
              "color": "#EBF0F8"
             },
             "line": {
              "color": "white"
             }
            },
            "header": {
             "fill": {
              "color": "#C8D4E3"
             },
             "line": {
              "color": "white"
             }
            },
            "type": "table"
           }
          ]
         },
         "layout": {
          "annotationdefaults": {
           "arrowcolor": "#2a3f5f",
           "arrowhead": 0,
           "arrowwidth": 1
          },
          "autotypenumbers": "strict",
          "coloraxis": {
           "colorbar": {
            "outlinewidth": 0,
            "ticks": ""
           }
          },
          "colorscale": {
           "diverging": [
            [
             0,
             "#8e0152"
            ],
            [
             0.1,
             "#c51b7d"
            ],
            [
             0.2,
             "#de77ae"
            ],
            [
             0.3,
             "#f1b6da"
            ],
            [
             0.4,
             "#fde0ef"
            ],
            [
             0.5,
             "#f7f7f7"
            ],
            [
             0.6,
             "#e6f5d0"
            ],
            [
             0.7,
             "#b8e186"
            ],
            [
             0.8,
             "#7fbc41"
            ],
            [
             0.9,
             "#4d9221"
            ],
            [
             1,
             "#276419"
            ]
           ],
           "sequential": [
            [
             0,
             "#0d0887"
            ],
            [
             0.1111111111111111,
             "#46039f"
            ],
            [
             0.2222222222222222,
             "#7201a8"
            ],
            [
             0.3333333333333333,
             "#9c179e"
            ],
            [
             0.4444444444444444,
             "#bd3786"
            ],
            [
             0.5555555555555556,
             "#d8576b"
            ],
            [
             0.6666666666666666,
             "#ed7953"
            ],
            [
             0.7777777777777778,
             "#fb9f3a"
            ],
            [
             0.8888888888888888,
             "#fdca26"
            ],
            [
             1,
             "#f0f921"
            ]
           ],
           "sequentialminus": [
            [
             0,
             "#0d0887"
            ],
            [
             0.1111111111111111,
             "#46039f"
            ],
            [
             0.2222222222222222,
             "#7201a8"
            ],
            [
             0.3333333333333333,
             "#9c179e"
            ],
            [
             0.4444444444444444,
             "#bd3786"
            ],
            [
             0.5555555555555556,
             "#d8576b"
            ],
            [
             0.6666666666666666,
             "#ed7953"
            ],
            [
             0.7777777777777778,
             "#fb9f3a"
            ],
            [
             0.8888888888888888,
             "#fdca26"
            ],
            [
             1,
             "#f0f921"
            ]
           ]
          },
          "colorway": [
           "#636efa",
           "#EF553B",
           "#00cc96",
           "#ab63fa",
           "#FFA15A",
           "#19d3f3",
           "#FF6692",
           "#B6E880",
           "#FF97FF",
           "#FECB52"
          ],
          "font": {
           "color": "#2a3f5f"
          },
          "geo": {
           "bgcolor": "white",
           "lakecolor": "white",
           "landcolor": "white",
           "showlakes": true,
           "showland": true,
           "subunitcolor": "#C8D4E3"
          },
          "hoverlabel": {
           "align": "left"
          },
          "hovermode": "closest",
          "mapbox": {
           "style": "light"
          },
          "paper_bgcolor": "white",
          "plot_bgcolor": "white",
          "polar": {
           "angularaxis": {
            "gridcolor": "#EBF0F8",
            "linecolor": "#EBF0F8",
            "ticks": ""
           },
           "bgcolor": "white",
           "radialaxis": {
            "gridcolor": "#EBF0F8",
            "linecolor": "#EBF0F8",
            "ticks": ""
           }
          },
          "scene": {
           "xaxis": {
            "backgroundcolor": "white",
            "gridcolor": "#DFE8F3",
            "gridwidth": 2,
            "linecolor": "#EBF0F8",
            "showbackground": true,
            "ticks": "",
            "zerolinecolor": "#EBF0F8"
           },
           "yaxis": {
            "backgroundcolor": "white",
            "gridcolor": "#DFE8F3",
            "gridwidth": 2,
            "linecolor": "#EBF0F8",
            "showbackground": true,
            "ticks": "",
            "zerolinecolor": "#EBF0F8"
           },
           "zaxis": {
            "backgroundcolor": "white",
            "gridcolor": "#DFE8F3",
            "gridwidth": 2,
            "linecolor": "#EBF0F8",
            "showbackground": true,
            "ticks": "",
            "zerolinecolor": "#EBF0F8"
           }
          },
          "shapedefaults": {
           "line": {
            "color": "#2a3f5f"
           }
          },
          "ternary": {
           "aaxis": {
            "gridcolor": "#DFE8F3",
            "linecolor": "#A2B1C6",
            "ticks": ""
           },
           "baxis": {
            "gridcolor": "#DFE8F3",
            "linecolor": "#A2B1C6",
            "ticks": ""
           },
           "bgcolor": "white",
           "caxis": {
            "gridcolor": "#DFE8F3",
            "linecolor": "#A2B1C6",
            "ticks": ""
           }
          },
          "title": {
           "x": 0.05
          },
          "xaxis": {
           "automargin": true,
           "gridcolor": "#EBF0F8",
           "linecolor": "#EBF0F8",
           "ticks": "",
           "title": {
            "standoff": 15
           },
           "zerolinecolor": "#EBF0F8",
           "zerolinewidth": 2
          },
          "yaxis": {
           "automargin": true,
           "gridcolor": "#EBF0F8",
           "linecolor": "#EBF0F8",
           "ticks": "",
           "title": {
            "standoff": 15
           },
           "zerolinecolor": "#EBF0F8",
           "zerolinewidth": 2
          }
         }
        },
        "title": {
         "text": "KOSDAQ 업종별 수익률 평균"
        },
        "xaxis": {
         "anchor": "y",
         "domain": [
          0,
          1
         ],
         "title": {
          "text": "평균 수익률(%)"
         }
        },
        "yaxis": {
         "anchor": "x",
         "domain": [
          0,
          1
         ],
         "title": {
          "text": "업종명"
         }
        }
       }
      }
     },
     "metadata": {},
     "output_type": "display_data"
    }
   ],
   "source": [
    "avg_return_by_sector('KOSDAQ')"
   ]
  },
  {
   "cell_type": "code",
   "execution_count": 51,
   "metadata": {},
   "outputs": [
    {
     "data": {
      "application/vnd.plotly.v1+json": {
       "config": {
        "plotlyServerURL": "https://plot.ly"
       },
       "data": [
        {
         "alignmentgroup": "True",
         "hovertemplate": "평균 수익률 (%)=%{x}<br>업종명=%{y}<extra></extra>",
         "legendgroup": "",
         "marker": {
          "color": "lightgreen",
          "pattern": {
           "shape": ""
          }
         },
         "name": "",
         "offsetgroup": "",
         "orientation": "h",
         "showlegend": false,
         "textposition": "auto",
         "type": "bar",
         "x": [
          -3.4926136363636364,
          -3.090241935483871,
          -0.8,
          -0.3416149068322981,
          0.008888888888888847,
          0.20936708860759493,
          1.4804745762711864
         ],
         "xaxis": "x",
         "y": [
          "국내 시장지수",
          "국내 업종/테마",
          "국내파생",
          "채권",
          "원자재",
          "기타",
          "해외주식"
         ],
         "yaxis": "y"
        }
       ],
       "layout": {
        "annotations": [
         {
          "arrowhead": 2,
          "ax": 0,
          "ay": -40,
          "font": {
           "color": "blue"
          },
          "showarrow": true,
          "text": "ETF 평균 수익률(%) : -0.761 %",
          "x": -0.7613455328310011,
          "y": 6.5
         }
        ],
        "barmode": "relative",
        "height": 610,
        "legend": {
         "tracegroupgap": 0
        },
        "shapes": [
         {
          "line": {
           "color": "blue",
           "dash": "dash"
          },
          "name": "ETF 평균 수익률(%)",
          "type": "line",
          "x0": -0.7613455328310011,
          "x1": -0.7613455328310011,
          "xref": "x",
          "y0": -0.5,
          "y1": 6.5,
          "yref": "y"
         }
        ],
        "showlegend": true,
        "template": {
         "data": {
          "bar": [
           {
            "error_x": {
             "color": "#2a3f5f"
            },
            "error_y": {
             "color": "#2a3f5f"
            },
            "marker": {
             "line": {
              "color": "white",
              "width": 0.5
             },
             "pattern": {
              "fillmode": "overlay",
              "size": 10,
              "solidity": 0.2
             }
            },
            "type": "bar"
           }
          ],
          "barpolar": [
           {
            "marker": {
             "line": {
              "color": "white",
              "width": 0.5
             },
             "pattern": {
              "fillmode": "overlay",
              "size": 10,
              "solidity": 0.2
             }
            },
            "type": "barpolar"
           }
          ],
          "carpet": [
           {
            "aaxis": {
             "endlinecolor": "#2a3f5f",
             "gridcolor": "#C8D4E3",
             "linecolor": "#C8D4E3",
             "minorgridcolor": "#C8D4E3",
             "startlinecolor": "#2a3f5f"
            },
            "baxis": {
             "endlinecolor": "#2a3f5f",
             "gridcolor": "#C8D4E3",
             "linecolor": "#C8D4E3",
             "minorgridcolor": "#C8D4E3",
             "startlinecolor": "#2a3f5f"
            },
            "type": "carpet"
           }
          ],
          "choropleth": [
           {
            "colorbar": {
             "outlinewidth": 0,
             "ticks": ""
            },
            "type": "choropleth"
           }
          ],
          "contour": [
           {
            "colorbar": {
             "outlinewidth": 0,
             "ticks": ""
            },
            "colorscale": [
             [
              0,
              "#0d0887"
             ],
             [
              0.1111111111111111,
              "#46039f"
             ],
             [
              0.2222222222222222,
              "#7201a8"
             ],
             [
              0.3333333333333333,
              "#9c179e"
             ],
             [
              0.4444444444444444,
              "#bd3786"
             ],
             [
              0.5555555555555556,
              "#d8576b"
             ],
             [
              0.6666666666666666,
              "#ed7953"
             ],
             [
              0.7777777777777778,
              "#fb9f3a"
             ],
             [
              0.8888888888888888,
              "#fdca26"
             ],
             [
              1,
              "#f0f921"
             ]
            ],
            "type": "contour"
           }
          ],
          "contourcarpet": [
           {
            "colorbar": {
             "outlinewidth": 0,
             "ticks": ""
            },
            "type": "contourcarpet"
           }
          ],
          "heatmap": [
           {
            "colorbar": {
             "outlinewidth": 0,
             "ticks": ""
            },
            "colorscale": [
             [
              0,
              "#0d0887"
             ],
             [
              0.1111111111111111,
              "#46039f"
             ],
             [
              0.2222222222222222,
              "#7201a8"
             ],
             [
              0.3333333333333333,
              "#9c179e"
             ],
             [
              0.4444444444444444,
              "#bd3786"
             ],
             [
              0.5555555555555556,
              "#d8576b"
             ],
             [
              0.6666666666666666,
              "#ed7953"
             ],
             [
              0.7777777777777778,
              "#fb9f3a"
             ],
             [
              0.8888888888888888,
              "#fdca26"
             ],
             [
              1,
              "#f0f921"
             ]
            ],
            "type": "heatmap"
           }
          ],
          "heatmapgl": [
           {
            "colorbar": {
             "outlinewidth": 0,
             "ticks": ""
            },
            "colorscale": [
             [
              0,
              "#0d0887"
             ],
             [
              0.1111111111111111,
              "#46039f"
             ],
             [
              0.2222222222222222,
              "#7201a8"
             ],
             [
              0.3333333333333333,
              "#9c179e"
             ],
             [
              0.4444444444444444,
              "#bd3786"
             ],
             [
              0.5555555555555556,
              "#d8576b"
             ],
             [
              0.6666666666666666,
              "#ed7953"
             ],
             [
              0.7777777777777778,
              "#fb9f3a"
             ],
             [
              0.8888888888888888,
              "#fdca26"
             ],
             [
              1,
              "#f0f921"
             ]
            ],
            "type": "heatmapgl"
           }
          ],
          "histogram": [
           {
            "marker": {
             "pattern": {
              "fillmode": "overlay",
              "size": 10,
              "solidity": 0.2
             }
            },
            "type": "histogram"
           }
          ],
          "histogram2d": [
           {
            "colorbar": {
             "outlinewidth": 0,
             "ticks": ""
            },
            "colorscale": [
             [
              0,
              "#0d0887"
             ],
             [
              0.1111111111111111,
              "#46039f"
             ],
             [
              0.2222222222222222,
              "#7201a8"
             ],
             [
              0.3333333333333333,
              "#9c179e"
             ],
             [
              0.4444444444444444,
              "#bd3786"
             ],
             [
              0.5555555555555556,
              "#d8576b"
             ],
             [
              0.6666666666666666,
              "#ed7953"
             ],
             [
              0.7777777777777778,
              "#fb9f3a"
             ],
             [
              0.8888888888888888,
              "#fdca26"
             ],
             [
              1,
              "#f0f921"
             ]
            ],
            "type": "histogram2d"
           }
          ],
          "histogram2dcontour": [
           {
            "colorbar": {
             "outlinewidth": 0,
             "ticks": ""
            },
            "colorscale": [
             [
              0,
              "#0d0887"
             ],
             [
              0.1111111111111111,
              "#46039f"
             ],
             [
              0.2222222222222222,
              "#7201a8"
             ],
             [
              0.3333333333333333,
              "#9c179e"
             ],
             [
              0.4444444444444444,
              "#bd3786"
             ],
             [
              0.5555555555555556,
              "#d8576b"
             ],
             [
              0.6666666666666666,
              "#ed7953"
             ],
             [
              0.7777777777777778,
              "#fb9f3a"
             ],
             [
              0.8888888888888888,
              "#fdca26"
             ],
             [
              1,
              "#f0f921"
             ]
            ],
            "type": "histogram2dcontour"
           }
          ],
          "mesh3d": [
           {
            "colorbar": {
             "outlinewidth": 0,
             "ticks": ""
            },
            "type": "mesh3d"
           }
          ],
          "parcoords": [
           {
            "line": {
             "colorbar": {
              "outlinewidth": 0,
              "ticks": ""
             }
            },
            "type": "parcoords"
           }
          ],
          "pie": [
           {
            "automargin": true,
            "type": "pie"
           }
          ],
          "scatter": [
           {
            "fillpattern": {
             "fillmode": "overlay",
             "size": 10,
             "solidity": 0.2
            },
            "type": "scatter"
           }
          ],
          "scatter3d": [
           {
            "line": {
             "colorbar": {
              "outlinewidth": 0,
              "ticks": ""
             }
            },
            "marker": {
             "colorbar": {
              "outlinewidth": 0,
              "ticks": ""
             }
            },
            "type": "scatter3d"
           }
          ],
          "scattercarpet": [
           {
            "marker": {
             "colorbar": {
              "outlinewidth": 0,
              "ticks": ""
             }
            },
            "type": "scattercarpet"
           }
          ],
          "scattergeo": [
           {
            "marker": {
             "colorbar": {
              "outlinewidth": 0,
              "ticks": ""
             }
            },
            "type": "scattergeo"
           }
          ],
          "scattergl": [
           {
            "marker": {
             "colorbar": {
              "outlinewidth": 0,
              "ticks": ""
             }
            },
            "type": "scattergl"
           }
          ],
          "scattermapbox": [
           {
            "marker": {
             "colorbar": {
              "outlinewidth": 0,
              "ticks": ""
             }
            },
            "type": "scattermapbox"
           }
          ],
          "scatterpolar": [
           {
            "marker": {
             "colorbar": {
              "outlinewidth": 0,
              "ticks": ""
             }
            },
            "type": "scatterpolar"
           }
          ],
          "scatterpolargl": [
           {
            "marker": {
             "colorbar": {
              "outlinewidth": 0,
              "ticks": ""
             }
            },
            "type": "scatterpolargl"
           }
          ],
          "scatterternary": [
           {
            "marker": {
             "colorbar": {
              "outlinewidth": 0,
              "ticks": ""
             }
            },
            "type": "scatterternary"
           }
          ],
          "surface": [
           {
            "colorbar": {
             "outlinewidth": 0,
             "ticks": ""
            },
            "colorscale": [
             [
              0,
              "#0d0887"
             ],
             [
              0.1111111111111111,
              "#46039f"
             ],
             [
              0.2222222222222222,
              "#7201a8"
             ],
             [
              0.3333333333333333,
              "#9c179e"
             ],
             [
              0.4444444444444444,
              "#bd3786"
             ],
             [
              0.5555555555555556,
              "#d8576b"
             ],
             [
              0.6666666666666666,
              "#ed7953"
             ],
             [
              0.7777777777777778,
              "#fb9f3a"
             ],
             [
              0.8888888888888888,
              "#fdca26"
             ],
             [
              1,
              "#f0f921"
             ]
            ],
            "type": "surface"
           }
          ],
          "table": [
           {
            "cells": {
             "fill": {
              "color": "#EBF0F8"
             },
             "line": {
              "color": "white"
             }
            },
            "header": {
             "fill": {
              "color": "#C8D4E3"
             },
             "line": {
              "color": "white"
             }
            },
            "type": "table"
           }
          ]
         },
         "layout": {
          "annotationdefaults": {
           "arrowcolor": "#2a3f5f",
           "arrowhead": 0,
           "arrowwidth": 1
          },
          "autotypenumbers": "strict",
          "coloraxis": {
           "colorbar": {
            "outlinewidth": 0,
            "ticks": ""
           }
          },
          "colorscale": {
           "diverging": [
            [
             0,
             "#8e0152"
            ],
            [
             0.1,
             "#c51b7d"
            ],
            [
             0.2,
             "#de77ae"
            ],
            [
             0.3,
             "#f1b6da"
            ],
            [
             0.4,
             "#fde0ef"
            ],
            [
             0.5,
             "#f7f7f7"
            ],
            [
             0.6,
             "#e6f5d0"
            ],
            [
             0.7,
             "#b8e186"
            ],
            [
             0.8,
             "#7fbc41"
            ],
            [
             0.9,
             "#4d9221"
            ],
            [
             1,
             "#276419"
            ]
           ],
           "sequential": [
            [
             0,
             "#0d0887"
            ],
            [
             0.1111111111111111,
             "#46039f"
            ],
            [
             0.2222222222222222,
             "#7201a8"
            ],
            [
             0.3333333333333333,
             "#9c179e"
            ],
            [
             0.4444444444444444,
             "#bd3786"
            ],
            [
             0.5555555555555556,
             "#d8576b"
            ],
            [
             0.6666666666666666,
             "#ed7953"
            ],
            [
             0.7777777777777778,
             "#fb9f3a"
            ],
            [
             0.8888888888888888,
             "#fdca26"
            ],
            [
             1,
             "#f0f921"
            ]
           ],
           "sequentialminus": [
            [
             0,
             "#0d0887"
            ],
            [
             0.1111111111111111,
             "#46039f"
            ],
            [
             0.2222222222222222,
             "#7201a8"
            ],
            [
             0.3333333333333333,
             "#9c179e"
            ],
            [
             0.4444444444444444,
             "#bd3786"
            ],
            [
             0.5555555555555556,
             "#d8576b"
            ],
            [
             0.6666666666666666,
             "#ed7953"
            ],
            [
             0.7777777777777778,
             "#fb9f3a"
            ],
            [
             0.8888888888888888,
             "#fdca26"
            ],
            [
             1,
             "#f0f921"
            ]
           ]
          },
          "colorway": [
           "#636efa",
           "#EF553B",
           "#00cc96",
           "#ab63fa",
           "#FFA15A",
           "#19d3f3",
           "#FF6692",
           "#B6E880",
           "#FF97FF",
           "#FECB52"
          ],
          "font": {
           "color": "#2a3f5f"
          },
          "geo": {
           "bgcolor": "white",
           "lakecolor": "white",
           "landcolor": "white",
           "showlakes": true,
           "showland": true,
           "subunitcolor": "#C8D4E3"
          },
          "hoverlabel": {
           "align": "left"
          },
          "hovermode": "closest",
          "mapbox": {
           "style": "light"
          },
          "paper_bgcolor": "white",
          "plot_bgcolor": "white",
          "polar": {
           "angularaxis": {
            "gridcolor": "#EBF0F8",
            "linecolor": "#EBF0F8",
            "ticks": ""
           },
           "bgcolor": "white",
           "radialaxis": {
            "gridcolor": "#EBF0F8",
            "linecolor": "#EBF0F8",
            "ticks": ""
           }
          },
          "scene": {
           "xaxis": {
            "backgroundcolor": "white",
            "gridcolor": "#DFE8F3",
            "gridwidth": 2,
            "linecolor": "#EBF0F8",
            "showbackground": true,
            "ticks": "",
            "zerolinecolor": "#EBF0F8"
           },
           "yaxis": {
            "backgroundcolor": "white",
            "gridcolor": "#DFE8F3",
            "gridwidth": 2,
            "linecolor": "#EBF0F8",
            "showbackground": true,
            "ticks": "",
            "zerolinecolor": "#EBF0F8"
           },
           "zaxis": {
            "backgroundcolor": "white",
            "gridcolor": "#DFE8F3",
            "gridwidth": 2,
            "linecolor": "#EBF0F8",
            "showbackground": true,
            "ticks": "",
            "zerolinecolor": "#EBF0F8"
           }
          },
          "shapedefaults": {
           "line": {
            "color": "#2a3f5f"
           }
          },
          "ternary": {
           "aaxis": {
            "gridcolor": "#DFE8F3",
            "linecolor": "#A2B1C6",
            "ticks": ""
           },
           "baxis": {
            "gridcolor": "#DFE8F3",
            "linecolor": "#A2B1C6",
            "ticks": ""
           },
           "bgcolor": "white",
           "caxis": {
            "gridcolor": "#DFE8F3",
            "linecolor": "#A2B1C6",
            "ticks": ""
           }
          },
          "title": {
           "x": 0.05
          },
          "xaxis": {
           "automargin": true,
           "gridcolor": "#EBF0F8",
           "linecolor": "#EBF0F8",
           "ticks": "",
           "title": {
            "standoff": 15
           },
           "zerolinecolor": "#EBF0F8",
           "zerolinewidth": 2
          },
          "yaxis": {
           "automargin": true,
           "gridcolor": "#EBF0F8",
           "linecolor": "#EBF0F8",
           "ticks": "",
           "title": {
            "standoff": 15
           },
           "zerolinecolor": "#EBF0F8",
           "zerolinewidth": 2
          }
         }
        },
        "title": {
         "text": "ETF 업종별 수익률 평균"
        },
        "xaxis": {
         "anchor": "y",
         "domain": [
          0,
          1
         ],
         "title": {
          "text": "평균 수익률(%)"
         }
        },
        "yaxis": {
         "anchor": "x",
         "domain": [
          0,
          1
         ],
         "title": {
          "text": "업종명"
         }
        }
       }
      }
     },
     "metadata": {},
     "output_type": "display_data"
    }
   ],
   "source": [
    "avg_return_by_sector('ETF')"
   ]
  },
  {
   "cell_type": "code",
   "execution_count": 20,
   "metadata": {},
   "outputs": [
    {
     "name": "stdout",
     "output_type": "stream",
     "text": [
      "3개월 간의 data를 불러옵니다.\n"
     ]
    },
    {
     "data": {
      "application/vnd.plotly.v1+json": {
       "config": {
        "plotlyServerURL": "https://plot.ly"
       },
       "data": [
        {
         "alignmentgroup": "True",
         "hovertemplate": "점유율 (%)=%{x}<br>업종명=%{y}<extra></extra>",
         "legendgroup": "",
         "marker": {
          "color": "skyblue",
          "pattern": {
           "shape": ""
          }
         },
         "name": "",
         "offsetgroup": "",
         "orientation": "h",
         "showlegend": false,
         "textposition": "auto",
         "type": "bar",
         "x": [
          0.10405827263267431,
          0.10405827263267431,
          0.10405827263267431,
          0.10405827263267431,
          0.10405827263267431,
          0.10405827263267431,
          0.10405827263267431,
          0.20811654526534862,
          0.20811654526534862,
          0.20811654526534862,
          0.20811654526534862,
          0.20811654526534862,
          0.20811654526534862,
          0.20811654526534862,
          0.20811654526534862,
          0.20811654526534862,
          0.20811654526534862,
          0.31217481789802287,
          0.31217481789802287,
          0.31217481789802287,
          0.31217481789802287,
          0.31217481789802287,
          0.31217481789802287,
          0.31217481789802287,
          0.31217481789802287,
          0.41623309053069724,
          0.41623309053069724,
          0.41623309053069724,
          0.41623309053069724,
          0.41623309053069724,
          0.41623309053069724,
          0.5202913631633715,
          0.5202913631633715,
          0.5202913631633715,
          0.5202913631633715,
          0.5202913631633715,
          0.72840790842872,
          0.8324661810613945,
          0.8324661810613945,
          0.8324661810613945,
          0.9365244536940687,
          0.9365244536940687,
          0.9365244536940687,
          1.040582726326743,
          1.040582726326743,
          1.040582726326743,
          1.040582726326743,
          1.1446409989594173,
          1.1446409989594173,
          1.1446409989594173,
          1.2486992715920915,
          1.352757544224766,
          1.352757544224766,
          1.45681581685744,
          1.45681581685744,
          1.45681581685744,
          1.45681581685744,
          1.5608740894901143,
          1.664932362122789,
          1.9771071800208115,
          2.497398543184183,
          2.705515088449532,
          2.705515088449532,
          2.8095733610822062,
          2.91363163371488,
          3.225806451612903,
          3.537981269510926,
          3.850156087408949,
          4.37044745057232,
          5.098855359001041,
          5.6191467221644125,
          6.451612903225806,
          7.596253902185223,
          7.596253902185223
         ],
         "xaxis": "x",
         "y": [
          "문구류",
          "카드",
          "창업투자",
          "담배",
          "복합유틸리티",
          "인터넷과카탈로그소매",
          "사무용전자제품",
          "전문소매",
          "식품과기본식료품소매",
          "디스플레이패널",
          "출판",
          "레저용장비와제품",
          "소프트웨어",
          "가정용품",
          "다각화된통신서비스",
          "무선통신서비스",
          "생물공학",
          "양방향미디어와서비스",
          "기타",
          "광고",
          "판매업체",
          "통신장비",
          "컴퓨터와주변기기",
          "운송인프라",
          "핸드셋",
          "생명보험",
          "전기유틸리티",
          "전자제품",
          "디스플레이장비및부품",
          "교육서비스",
          "건축제품",
          "게임엔터테인먼트",
          "무역회사와판매업체",
          "도로와철도운송",
          "가정용기기와용품",
          "건강관리장비와용품",
          "가구",
          "우주항공과국방",
          "해운사",
          "에너지장비및서비스",
          "방송과엔터테인먼트",
          "항공사",
          "음료",
          "손해보험",
          "호텔,레스토랑,레저",
          "은행",
          "상업서비스와공급품",
          "가스유틸리티",
          "항공화물운송과물류",
          "조선",
          "자동차",
          "IT서비스",
          "종이와목재",
          "전기제품",
          "백화점과일반상점",
          "전기장비",
          "반도체와반도체장비",
          "석유와가스",
          "포장재",
          "화장품",
          "복합기업",
          "기계",
          "비철금속",
          "전자장비와기기",
          "부동산",
          "건축자재",
          "증권",
          "철강",
          "건설",
          "섬유,의류,신발,호화품",
          "식품",
          "제약",
          "자동차부품",
          "화학"
         ],
         "yaxis": "y"
        }
       ],
       "layout": {
        "barmode": "relative",
        "height": 2620,
        "legend": {
         "tracegroupgap": 0
        },
        "template": {
         "data": {
          "bar": [
           {
            "error_x": {
             "color": "#2a3f5f"
            },
            "error_y": {
             "color": "#2a3f5f"
            },
            "marker": {
             "line": {
              "color": "white",
              "width": 0.5
             },
             "pattern": {
              "fillmode": "overlay",
              "size": 10,
              "solidity": 0.2
             }
            },
            "type": "bar"
           }
          ],
          "barpolar": [
           {
            "marker": {
             "line": {
              "color": "white",
              "width": 0.5
             },
             "pattern": {
              "fillmode": "overlay",
              "size": 10,
              "solidity": 0.2
             }
            },
            "type": "barpolar"
           }
          ],
          "carpet": [
           {
            "aaxis": {
             "endlinecolor": "#2a3f5f",
             "gridcolor": "#C8D4E3",
             "linecolor": "#C8D4E3",
             "minorgridcolor": "#C8D4E3",
             "startlinecolor": "#2a3f5f"
            },
            "baxis": {
             "endlinecolor": "#2a3f5f",
             "gridcolor": "#C8D4E3",
             "linecolor": "#C8D4E3",
             "minorgridcolor": "#C8D4E3",
             "startlinecolor": "#2a3f5f"
            },
            "type": "carpet"
           }
          ],
          "choropleth": [
           {
            "colorbar": {
             "outlinewidth": 0,
             "ticks": ""
            },
            "type": "choropleth"
           }
          ],
          "contour": [
           {
            "colorbar": {
             "outlinewidth": 0,
             "ticks": ""
            },
            "colorscale": [
             [
              0,
              "#0d0887"
             ],
             [
              0.1111111111111111,
              "#46039f"
             ],
             [
              0.2222222222222222,
              "#7201a8"
             ],
             [
              0.3333333333333333,
              "#9c179e"
             ],
             [
              0.4444444444444444,
              "#bd3786"
             ],
             [
              0.5555555555555556,
              "#d8576b"
             ],
             [
              0.6666666666666666,
              "#ed7953"
             ],
             [
              0.7777777777777778,
              "#fb9f3a"
             ],
             [
              0.8888888888888888,
              "#fdca26"
             ],
             [
              1,
              "#f0f921"
             ]
            ],
            "type": "contour"
           }
          ],
          "contourcarpet": [
           {
            "colorbar": {
             "outlinewidth": 0,
             "ticks": ""
            },
            "type": "contourcarpet"
           }
          ],
          "heatmap": [
           {
            "colorbar": {
             "outlinewidth": 0,
             "ticks": ""
            },
            "colorscale": [
             [
              0,
              "#0d0887"
             ],
             [
              0.1111111111111111,
              "#46039f"
             ],
             [
              0.2222222222222222,
              "#7201a8"
             ],
             [
              0.3333333333333333,
              "#9c179e"
             ],
             [
              0.4444444444444444,
              "#bd3786"
             ],
             [
              0.5555555555555556,
              "#d8576b"
             ],
             [
              0.6666666666666666,
              "#ed7953"
             ],
             [
              0.7777777777777778,
              "#fb9f3a"
             ],
             [
              0.8888888888888888,
              "#fdca26"
             ],
             [
              1,
              "#f0f921"
             ]
            ],
            "type": "heatmap"
           }
          ],
          "heatmapgl": [
           {
            "colorbar": {
             "outlinewidth": 0,
             "ticks": ""
            },
            "colorscale": [
             [
              0,
              "#0d0887"
             ],
             [
              0.1111111111111111,
              "#46039f"
             ],
             [
              0.2222222222222222,
              "#7201a8"
             ],
             [
              0.3333333333333333,
              "#9c179e"
             ],
             [
              0.4444444444444444,
              "#bd3786"
             ],
             [
              0.5555555555555556,
              "#d8576b"
             ],
             [
              0.6666666666666666,
              "#ed7953"
             ],
             [
              0.7777777777777778,
              "#fb9f3a"
             ],
             [
              0.8888888888888888,
              "#fdca26"
             ],
             [
              1,
              "#f0f921"
             ]
            ],
            "type": "heatmapgl"
           }
          ],
          "histogram": [
           {
            "marker": {
             "pattern": {
              "fillmode": "overlay",
              "size": 10,
              "solidity": 0.2
             }
            },
            "type": "histogram"
           }
          ],
          "histogram2d": [
           {
            "colorbar": {
             "outlinewidth": 0,
             "ticks": ""
            },
            "colorscale": [
             [
              0,
              "#0d0887"
             ],
             [
              0.1111111111111111,
              "#46039f"
             ],
             [
              0.2222222222222222,
              "#7201a8"
             ],
             [
              0.3333333333333333,
              "#9c179e"
             ],
             [
              0.4444444444444444,
              "#bd3786"
             ],
             [
              0.5555555555555556,
              "#d8576b"
             ],
             [
              0.6666666666666666,
              "#ed7953"
             ],
             [
              0.7777777777777778,
              "#fb9f3a"
             ],
             [
              0.8888888888888888,
              "#fdca26"
             ],
             [
              1,
              "#f0f921"
             ]
            ],
            "type": "histogram2d"
           }
          ],
          "histogram2dcontour": [
           {
            "colorbar": {
             "outlinewidth": 0,
             "ticks": ""
            },
            "colorscale": [
             [
              0,
              "#0d0887"
             ],
             [
              0.1111111111111111,
              "#46039f"
             ],
             [
              0.2222222222222222,
              "#7201a8"
             ],
             [
              0.3333333333333333,
              "#9c179e"
             ],
             [
              0.4444444444444444,
              "#bd3786"
             ],
             [
              0.5555555555555556,
              "#d8576b"
             ],
             [
              0.6666666666666666,
              "#ed7953"
             ],
             [
              0.7777777777777778,
              "#fb9f3a"
             ],
             [
              0.8888888888888888,
              "#fdca26"
             ],
             [
              1,
              "#f0f921"
             ]
            ],
            "type": "histogram2dcontour"
           }
          ],
          "mesh3d": [
           {
            "colorbar": {
             "outlinewidth": 0,
             "ticks": ""
            },
            "type": "mesh3d"
           }
          ],
          "parcoords": [
           {
            "line": {
             "colorbar": {
              "outlinewidth": 0,
              "ticks": ""
             }
            },
            "type": "parcoords"
           }
          ],
          "pie": [
           {
            "automargin": true,
            "type": "pie"
           }
          ],
          "scatter": [
           {
            "fillpattern": {
             "fillmode": "overlay",
             "size": 10,
             "solidity": 0.2
            },
            "type": "scatter"
           }
          ],
          "scatter3d": [
           {
            "line": {
             "colorbar": {
              "outlinewidth": 0,
              "ticks": ""
             }
            },
            "marker": {
             "colorbar": {
              "outlinewidth": 0,
              "ticks": ""
             }
            },
            "type": "scatter3d"
           }
          ],
          "scattercarpet": [
           {
            "marker": {
             "colorbar": {
              "outlinewidth": 0,
              "ticks": ""
             }
            },
            "type": "scattercarpet"
           }
          ],
          "scattergeo": [
           {
            "marker": {
             "colorbar": {
              "outlinewidth": 0,
              "ticks": ""
             }
            },
            "type": "scattergeo"
           }
          ],
          "scattergl": [
           {
            "marker": {
             "colorbar": {
              "outlinewidth": 0,
              "ticks": ""
             }
            },
            "type": "scattergl"
           }
          ],
          "scattermapbox": [
           {
            "marker": {
             "colorbar": {
              "outlinewidth": 0,
              "ticks": ""
             }
            },
            "type": "scattermapbox"
           }
          ],
          "scatterpolar": [
           {
            "marker": {
             "colorbar": {
              "outlinewidth": 0,
              "ticks": ""
             }
            },
            "type": "scatterpolar"
           }
          ],
          "scatterpolargl": [
           {
            "marker": {
             "colorbar": {
              "outlinewidth": 0,
              "ticks": ""
             }
            },
            "type": "scatterpolargl"
           }
          ],
          "scatterternary": [
           {
            "marker": {
             "colorbar": {
              "outlinewidth": 0,
              "ticks": ""
             }
            },
            "type": "scatterternary"
           }
          ],
          "surface": [
           {
            "colorbar": {
             "outlinewidth": 0,
             "ticks": ""
            },
            "colorscale": [
             [
              0,
              "#0d0887"
             ],
             [
              0.1111111111111111,
              "#46039f"
             ],
             [
              0.2222222222222222,
              "#7201a8"
             ],
             [
              0.3333333333333333,
              "#9c179e"
             ],
             [
              0.4444444444444444,
              "#bd3786"
             ],
             [
              0.5555555555555556,
              "#d8576b"
             ],
             [
              0.6666666666666666,
              "#ed7953"
             ],
             [
              0.7777777777777778,
              "#fb9f3a"
             ],
             [
              0.8888888888888888,
              "#fdca26"
             ],
             [
              1,
              "#f0f921"
             ]
            ],
            "type": "surface"
           }
          ],
          "table": [
           {
            "cells": {
             "fill": {
              "color": "#EBF0F8"
             },
             "line": {
              "color": "white"
             }
            },
            "header": {
             "fill": {
              "color": "#C8D4E3"
             },
             "line": {
              "color": "white"
             }
            },
            "type": "table"
           }
          ]
         },
         "layout": {
          "annotationdefaults": {
           "arrowcolor": "#2a3f5f",
           "arrowhead": 0,
           "arrowwidth": 1
          },
          "autotypenumbers": "strict",
          "coloraxis": {
           "colorbar": {
            "outlinewidth": 0,
            "ticks": ""
           }
          },
          "colorscale": {
           "diverging": [
            [
             0,
             "#8e0152"
            ],
            [
             0.1,
             "#c51b7d"
            ],
            [
             0.2,
             "#de77ae"
            ],
            [
             0.3,
             "#f1b6da"
            ],
            [
             0.4,
             "#fde0ef"
            ],
            [
             0.5,
             "#f7f7f7"
            ],
            [
             0.6,
             "#e6f5d0"
            ],
            [
             0.7,
             "#b8e186"
            ],
            [
             0.8,
             "#7fbc41"
            ],
            [
             0.9,
             "#4d9221"
            ],
            [
             1,
             "#276419"
            ]
           ],
           "sequential": [
            [
             0,
             "#0d0887"
            ],
            [
             0.1111111111111111,
             "#46039f"
            ],
            [
             0.2222222222222222,
             "#7201a8"
            ],
            [
             0.3333333333333333,
             "#9c179e"
            ],
            [
             0.4444444444444444,
             "#bd3786"
            ],
            [
             0.5555555555555556,
             "#d8576b"
            ],
            [
             0.6666666666666666,
             "#ed7953"
            ],
            [
             0.7777777777777778,
             "#fb9f3a"
            ],
            [
             0.8888888888888888,
             "#fdca26"
            ],
            [
             1,
             "#f0f921"
            ]
           ],
           "sequentialminus": [
            [
             0,
             "#0d0887"
            ],
            [
             0.1111111111111111,
             "#46039f"
            ],
            [
             0.2222222222222222,
             "#7201a8"
            ],
            [
             0.3333333333333333,
             "#9c179e"
            ],
            [
             0.4444444444444444,
             "#bd3786"
            ],
            [
             0.5555555555555556,
             "#d8576b"
            ],
            [
             0.6666666666666666,
             "#ed7953"
            ],
            [
             0.7777777777777778,
             "#fb9f3a"
            ],
            [
             0.8888888888888888,
             "#fdca26"
            ],
            [
             1,
             "#f0f921"
            ]
           ]
          },
          "colorway": [
           "#636efa",
           "#EF553B",
           "#00cc96",
           "#ab63fa",
           "#FFA15A",
           "#19d3f3",
           "#FF6692",
           "#B6E880",
           "#FF97FF",
           "#FECB52"
          ],
          "font": {
           "color": "#2a3f5f"
          },
          "geo": {
           "bgcolor": "white",
           "lakecolor": "white",
           "landcolor": "white",
           "showlakes": true,
           "showland": true,
           "subunitcolor": "#C8D4E3"
          },
          "hoverlabel": {
           "align": "left"
          },
          "hovermode": "closest",
          "mapbox": {
           "style": "light"
          },
          "paper_bgcolor": "white",
          "plot_bgcolor": "white",
          "polar": {
           "angularaxis": {
            "gridcolor": "#EBF0F8",
            "linecolor": "#EBF0F8",
            "ticks": ""
           },
           "bgcolor": "white",
           "radialaxis": {
            "gridcolor": "#EBF0F8",
            "linecolor": "#EBF0F8",
            "ticks": ""
           }
          },
          "scene": {
           "xaxis": {
            "backgroundcolor": "white",
            "gridcolor": "#DFE8F3",
            "gridwidth": 2,
            "linecolor": "#EBF0F8",
            "showbackground": true,
            "ticks": "",
            "zerolinecolor": "#EBF0F8"
           },
           "yaxis": {
            "backgroundcolor": "white",
            "gridcolor": "#DFE8F3",
            "gridwidth": 2,
            "linecolor": "#EBF0F8",
            "showbackground": true,
            "ticks": "",
            "zerolinecolor": "#EBF0F8"
           },
           "zaxis": {
            "backgroundcolor": "white",
            "gridcolor": "#DFE8F3",
            "gridwidth": 2,
            "linecolor": "#EBF0F8",
            "showbackground": true,
            "ticks": "",
            "zerolinecolor": "#EBF0F8"
           }
          },
          "shapedefaults": {
           "line": {
            "color": "#2a3f5f"
           }
          },
          "ternary": {
           "aaxis": {
            "gridcolor": "#DFE8F3",
            "linecolor": "#A2B1C6",
            "ticks": ""
           },
           "baxis": {
            "gridcolor": "#DFE8F3",
            "linecolor": "#A2B1C6",
            "ticks": ""
           },
           "bgcolor": "white",
           "caxis": {
            "gridcolor": "#DFE8F3",
            "linecolor": "#A2B1C6",
            "ticks": ""
           }
          },
          "title": {
           "x": 0.05
          },
          "xaxis": {
           "automargin": true,
           "gridcolor": "#EBF0F8",
           "linecolor": "#EBF0F8",
           "ticks": "",
           "title": {
            "standoff": 15
           },
           "zerolinecolor": "#EBF0F8",
           "zerolinewidth": 2
          },
          "yaxis": {
           "automargin": true,
           "gridcolor": "#EBF0F8",
           "linecolor": "#EBF0F8",
           "ticks": "",
           "title": {
            "standoff": 15
           },
           "zerolinecolor": "#EBF0F8",
           "zerolinewidth": 2
          }
         }
        },
        "title": {
         "text": "KOSPI 시장 업종별 점유율"
        },
        "xaxis": {
         "anchor": "y",
         "domain": [
          0,
          1
         ],
         "title": {
          "text": "점유율 (%)"
         }
        },
        "yaxis": {
         "anchor": "x",
         "domain": [
          0,
          1
         ],
         "title": {
          "text": "업종명"
         }
        }
       }
      }
     },
     "metadata": {},
     "output_type": "display_data"
    },
    {
     "data": {
      "text/html": [
       "<div>\n",
       "<style scoped>\n",
       "    .dataframe tbody tr th:only-of-type {\n",
       "        vertical-align: middle;\n",
       "    }\n",
       "\n",
       "    .dataframe tbody tr th {\n",
       "        vertical-align: top;\n",
       "    }\n",
       "\n",
       "    .dataframe thead th {\n",
       "        text-align: right;\n",
       "    }\n",
       "</style>\n",
       "<table border=\"1\" class=\"dataframe\">\n",
       "  <thead>\n",
       "    <tr style=\"text-align: right;\">\n",
       "      <th></th>\n",
       "      <th>count</th>\n",
       "    </tr>\n",
       "    <tr>\n",
       "      <th>Sector</th>\n",
       "      <th></th>\n",
       "    </tr>\n",
       "  </thead>\n",
       "  <tbody>\n",
       "    <tr>\n",
       "      <th>화학</th>\n",
       "      <td>73</td>\n",
       "    </tr>\n",
       "    <tr>\n",
       "      <th>자동차부품</th>\n",
       "      <td>73</td>\n",
       "    </tr>\n",
       "    <tr>\n",
       "      <th>제약</th>\n",
       "      <td>62</td>\n",
       "    </tr>\n",
       "    <tr>\n",
       "      <th>식품</th>\n",
       "      <td>54</td>\n",
       "    </tr>\n",
       "    <tr>\n",
       "      <th>섬유,의류,신발,호화품</th>\n",
       "      <td>49</td>\n",
       "    </tr>\n",
       "    <tr>\n",
       "      <th>건설</th>\n",
       "      <td>42</td>\n",
       "    </tr>\n",
       "    <tr>\n",
       "      <th>철강</th>\n",
       "      <td>37</td>\n",
       "    </tr>\n",
       "    <tr>\n",
       "      <th>증권</th>\n",
       "      <td>34</td>\n",
       "    </tr>\n",
       "    <tr>\n",
       "      <th>건축자재</th>\n",
       "      <td>31</td>\n",
       "    </tr>\n",
       "    <tr>\n",
       "      <th>부동산</th>\n",
       "      <td>28</td>\n",
       "    </tr>\n",
       "    <tr>\n",
       "      <th>전자장비와기기</th>\n",
       "      <td>27</td>\n",
       "    </tr>\n",
       "    <tr>\n",
       "      <th>비철금속</th>\n",
       "      <td>26</td>\n",
       "    </tr>\n",
       "    <tr>\n",
       "      <th>기계</th>\n",
       "      <td>26</td>\n",
       "    </tr>\n",
       "    <tr>\n",
       "      <th>복합기업</th>\n",
       "      <td>24</td>\n",
       "    </tr>\n",
       "    <tr>\n",
       "      <th>화장품</th>\n",
       "      <td>19</td>\n",
       "    </tr>\n",
       "    <tr>\n",
       "      <th>포장재</th>\n",
       "      <td>16</td>\n",
       "    </tr>\n",
       "    <tr>\n",
       "      <th>석유와가스</th>\n",
       "      <td>15</td>\n",
       "    </tr>\n",
       "    <tr>\n",
       "      <th>반도체와반도체장비</th>\n",
       "      <td>14</td>\n",
       "    </tr>\n",
       "    <tr>\n",
       "      <th>전기장비</th>\n",
       "      <td>14</td>\n",
       "    </tr>\n",
       "    <tr>\n",
       "      <th>전기제품</th>\n",
       "      <td>14</td>\n",
       "    </tr>\n",
       "    <tr>\n",
       "      <th>백화점과일반상점</th>\n",
       "      <td>14</td>\n",
       "    </tr>\n",
       "    <tr>\n",
       "      <th>IT서비스</th>\n",
       "      <td>13</td>\n",
       "    </tr>\n",
       "    <tr>\n",
       "      <th>종이와목재</th>\n",
       "      <td>13</td>\n",
       "    </tr>\n",
       "    <tr>\n",
       "      <th>자동차</th>\n",
       "      <td>12</td>\n",
       "    </tr>\n",
       "    <tr>\n",
       "      <th>조선</th>\n",
       "      <td>11</td>\n",
       "    </tr>\n",
       "    <tr>\n",
       "      <th>항공화물운송과물류</th>\n",
       "      <td>11</td>\n",
       "    </tr>\n",
       "    <tr>\n",
       "      <th>가스유틸리티</th>\n",
       "      <td>11</td>\n",
       "    </tr>\n",
       "    <tr>\n",
       "      <th>호텔,레스토랑,레저</th>\n",
       "      <td>10</td>\n",
       "    </tr>\n",
       "    <tr>\n",
       "      <th>손해보험</th>\n",
       "      <td>10</td>\n",
       "    </tr>\n",
       "    <tr>\n",
       "      <th>은행</th>\n",
       "      <td>10</td>\n",
       "    </tr>\n",
       "    <tr>\n",
       "      <th>상업서비스와공급품</th>\n",
       "      <td>10</td>\n",
       "    </tr>\n",
       "    <tr>\n",
       "      <th>음료</th>\n",
       "      <td>9</td>\n",
       "    </tr>\n",
       "    <tr>\n",
       "      <th>항공사</th>\n",
       "      <td>9</td>\n",
       "    </tr>\n",
       "    <tr>\n",
       "      <th>방송과엔터테인먼트</th>\n",
       "      <td>9</td>\n",
       "    </tr>\n",
       "    <tr>\n",
       "      <th>해운사</th>\n",
       "      <td>8</td>\n",
       "    </tr>\n",
       "    <tr>\n",
       "      <th>에너지장비및서비스</th>\n",
       "      <td>8</td>\n",
       "    </tr>\n",
       "    <tr>\n",
       "      <th>우주항공과국방</th>\n",
       "      <td>8</td>\n",
       "    </tr>\n",
       "    <tr>\n",
       "      <th>가구</th>\n",
       "      <td>7</td>\n",
       "    </tr>\n",
       "    <tr>\n",
       "      <th>건강관리장비와용품</th>\n",
       "      <td>5</td>\n",
       "    </tr>\n",
       "    <tr>\n",
       "      <th>도로와철도운송</th>\n",
       "      <td>5</td>\n",
       "    </tr>\n",
       "    <tr>\n",
       "      <th>무역회사와판매업체</th>\n",
       "      <td>5</td>\n",
       "    </tr>\n",
       "    <tr>\n",
       "      <th>게임엔터테인먼트</th>\n",
       "      <td>5</td>\n",
       "    </tr>\n",
       "    <tr>\n",
       "      <th>가정용기기와용품</th>\n",
       "      <td>5</td>\n",
       "    </tr>\n",
       "    <tr>\n",
       "      <th>건축제품</th>\n",
       "      <td>4</td>\n",
       "    </tr>\n",
       "    <tr>\n",
       "      <th>교육서비스</th>\n",
       "      <td>4</td>\n",
       "    </tr>\n",
       "    <tr>\n",
       "      <th>디스플레이장비및부품</th>\n",
       "      <td>4</td>\n",
       "    </tr>\n",
       "    <tr>\n",
       "      <th>전자제품</th>\n",
       "      <td>4</td>\n",
       "    </tr>\n",
       "    <tr>\n",
       "      <th>전기유틸리티</th>\n",
       "      <td>4</td>\n",
       "    </tr>\n",
       "    <tr>\n",
       "      <th>생명보험</th>\n",
       "      <td>4</td>\n",
       "    </tr>\n",
       "    <tr>\n",
       "      <th>운송인프라</th>\n",
       "      <td>3</td>\n",
       "    </tr>\n",
       "    <tr>\n",
       "      <th>통신장비</th>\n",
       "      <td>3</td>\n",
       "    </tr>\n",
       "    <tr>\n",
       "      <th>핸드셋</th>\n",
       "      <td>3</td>\n",
       "    </tr>\n",
       "    <tr>\n",
       "      <th>컴퓨터와주변기기</th>\n",
       "      <td>3</td>\n",
       "    </tr>\n",
       "    <tr>\n",
       "      <th>판매업체</th>\n",
       "      <td>3</td>\n",
       "    </tr>\n",
       "    <tr>\n",
       "      <th>기타</th>\n",
       "      <td>3</td>\n",
       "    </tr>\n",
       "    <tr>\n",
       "      <th>양방향미디어와서비스</th>\n",
       "      <td>3</td>\n",
       "    </tr>\n",
       "    <tr>\n",
       "      <th>광고</th>\n",
       "      <td>3</td>\n",
       "    </tr>\n",
       "    <tr>\n",
       "      <th>레저용장비와제품</th>\n",
       "      <td>2</td>\n",
       "    </tr>\n",
       "    <tr>\n",
       "      <th>전문소매</th>\n",
       "      <td>2</td>\n",
       "    </tr>\n",
       "    <tr>\n",
       "      <th>식품과기본식료품소매</th>\n",
       "      <td>2</td>\n",
       "    </tr>\n",
       "    <tr>\n",
       "      <th>디스플레이패널</th>\n",
       "      <td>2</td>\n",
       "    </tr>\n",
       "    <tr>\n",
       "      <th>출판</th>\n",
       "      <td>2</td>\n",
       "    </tr>\n",
       "    <tr>\n",
       "      <th>소프트웨어</th>\n",
       "      <td>2</td>\n",
       "    </tr>\n",
       "    <tr>\n",
       "      <th>가정용품</th>\n",
       "      <td>2</td>\n",
       "    </tr>\n",
       "    <tr>\n",
       "      <th>다각화된통신서비스</th>\n",
       "      <td>2</td>\n",
       "    </tr>\n",
       "    <tr>\n",
       "      <th>무선통신서비스</th>\n",
       "      <td>2</td>\n",
       "    </tr>\n",
       "    <tr>\n",
       "      <th>생물공학</th>\n",
       "      <td>2</td>\n",
       "    </tr>\n",
       "    <tr>\n",
       "      <th>카드</th>\n",
       "      <td>1</td>\n",
       "    </tr>\n",
       "    <tr>\n",
       "      <th>창업투자</th>\n",
       "      <td>1</td>\n",
       "    </tr>\n",
       "    <tr>\n",
       "      <th>사무용전자제품</th>\n",
       "      <td>1</td>\n",
       "    </tr>\n",
       "    <tr>\n",
       "      <th>복합유틸리티</th>\n",
       "      <td>1</td>\n",
       "    </tr>\n",
       "    <tr>\n",
       "      <th>인터넷과카탈로그소매</th>\n",
       "      <td>1</td>\n",
       "    </tr>\n",
       "    <tr>\n",
       "      <th>담배</th>\n",
       "      <td>1</td>\n",
       "    </tr>\n",
       "    <tr>\n",
       "      <th>문구류</th>\n",
       "      <td>1</td>\n",
       "    </tr>\n",
       "  </tbody>\n",
       "</table>\n",
       "</div>"
      ],
      "text/plain": [
       "              count\n",
       "Sector             \n",
       "화학               73\n",
       "자동차부품            73\n",
       "제약               62\n",
       "식품               54\n",
       "섬유,의류,신발,호화품     49\n",
       "건설               42\n",
       "철강               37\n",
       "증권               34\n",
       "건축자재             31\n",
       "부동산              28\n",
       "전자장비와기기          27\n",
       "비철금속             26\n",
       "기계               26\n",
       "복합기업             24\n",
       "화장품              19\n",
       "포장재              16\n",
       "석유와가스            15\n",
       "반도체와반도체장비        14\n",
       "전기장비             14\n",
       "전기제품             14\n",
       "백화점과일반상점         14\n",
       "IT서비스            13\n",
       "종이와목재            13\n",
       "자동차              12\n",
       "조선               11\n",
       "항공화물운송과물류        11\n",
       "가스유틸리티           11\n",
       "호텔,레스토랑,레저       10\n",
       "손해보험             10\n",
       "은행               10\n",
       "상업서비스와공급품        10\n",
       "음료                9\n",
       "항공사               9\n",
       "방송과엔터테인먼트         9\n",
       "해운사               8\n",
       "에너지장비및서비스         8\n",
       "우주항공과국방           8\n",
       "가구                7\n",
       "건강관리장비와용품         5\n",
       "도로와철도운송           5\n",
       "무역회사와판매업체         5\n",
       "게임엔터테인먼트          5\n",
       "가정용기기와용품          5\n",
       "건축제품              4\n",
       "교육서비스             4\n",
       "디스플레이장비및부품        4\n",
       "전자제품              4\n",
       "전기유틸리티            4\n",
       "생명보험              4\n",
       "운송인프라             3\n",
       "통신장비              3\n",
       "핸드셋               3\n",
       "컴퓨터와주변기기          3\n",
       "판매업체              3\n",
       "기타                3\n",
       "양방향미디어와서비스        3\n",
       "광고                3\n",
       "레저용장비와제품          2\n",
       "전문소매              2\n",
       "식품과기본식료품소매        2\n",
       "디스플레이패널           2\n",
       "출판                2\n",
       "소프트웨어             2\n",
       "가정용품              2\n",
       "다각화된통신서비스         2\n",
       "무선통신서비스           2\n",
       "생물공학              2\n",
       "카드                1\n",
       "창업투자              1\n",
       "사무용전자제품           1\n",
       "복합유틸리티            1\n",
       "인터넷과카탈로그소매        1\n",
       "담배                1\n",
       "문구류               1"
      ]
     },
     "metadata": {},
     "output_type": "display_data"
    }
   ],
   "source": [
    "visualize_sector_share('KOSPI')"
   ]
  },
  {
   "cell_type": "code",
   "execution_count": 18,
   "metadata": {},
   "outputs": [
    {
     "name": "stdout",
     "output_type": "stream",
     "text": [
      "3개월 간의 data를 불러옵니다.\n"
     ]
    },
    {
     "data": {
      "application/vnd.plotly.v1+json": {
       "config": {
        "plotlyServerURL": "https://plot.ly"
       },
       "data": [
        {
         "alignmentgroup": "True",
         "hovertemplate": "점유율 (%)=%{x}<br>업종명=%{y}<extra></extra>",
         "legendgroup": "",
         "marker": {
          "color": "red",
          "pattern": {
           "shape": ""
          }
         },
         "name": "",
         "offsetgroup": "",
         "orientation": "h",
         "showlegend": false,
         "textposition": "auto",
         "type": "bar",
         "x": [
          0.05605381165919283,
          0.05605381165919283,
          0.05605381165919283,
          0.05605381165919283,
          0.05605381165919283,
          0.05605381165919283,
          0.05605381165919283,
          0.05605381165919283,
          0.11210762331838565,
          0.11210762331838565,
          0.11210762331838565,
          0.11210762331838565,
          0.1681614349775785,
          0.1681614349775785,
          0.2242152466367713,
          0.2242152466367713,
          0.2242152466367713,
          0.2242152466367713,
          0.2802690582959641,
          0.2802690582959641,
          0.2802690582959641,
          0.336322869955157,
          0.336322869955157,
          0.336322869955157,
          0.336322869955157,
          0.3923766816143498,
          0.3923766816143498,
          0.5044843049327354,
          0.5044843049327354,
          0.5044843049327354,
          0.5605381165919282,
          0.672645739910314,
          0.672645739910314,
          0.7286995515695067,
          0.7286995515695067,
          0.7286995515695067,
          0.7847533632286996,
          0.7847533632286996,
          0.8408071748878924,
          0.8408071748878924,
          0.8968609865470852,
          1.0089686098654709,
          1.0089686098654709,
          1.0089686098654709,
          1.0650224215246635,
          1.1210762331838564,
          1.1771300448430493,
          1.6816143497757847,
          1.7937219730941705,
          1.8497757847533634,
          1.961883408071749,
          2.0739910313901344,
          2.298206278026906,
          2.522421524663677,
          2.57847533632287,
          2.6345291479820627,
          2.8026905829596416,
          3.1390134529147984,
          3.4192825112107625,
          3.6434977578475336,
          4.0358744394618835,
          4.091928251121076,
          4.147982062780269,
          4.204035874439462,
          4.37219730941704,
          4.596412556053812,
          6.221973094170403,
          6.670403587443946,
          7.959641255605381
         ],
         "xaxis": "x",
         "y": [
          "다각화된소비자서비스",
          "복합기업",
          "전기유틸리티",
          "가스유틸리티",
          "무선통신서비스",
          "다각화된통신서비스",
          "손해보험",
          "은행",
          "디스플레이패널",
          "도로와철도운송",
          "백화점과일반상점",
          "항공화물운송과물류",
          "해운사",
          "자동차",
          "전문소매",
          "기타금융",
          "종이와목재",
          "증권",
          "식품과기본식료품소매",
          "가구",
          "출판",
          "석유와가스",
          "음료",
          "인터넷과카탈로그소매",
          "가정용품",
          "운송인프라",
          "판매업체",
          "호텔,레스토랑,레저",
          "레저용장비와제품",
          "건축제품",
          "포장재",
          "건강관리업체및서비스",
          "건강관리기술",
          "광고",
          "양방향미디어와서비스",
          "조선",
          "전자제품",
          "전기장비",
          "가정용기기와용품",
          "에너지장비및서비스",
          "비철금속",
          "교육서비스",
          "우주항공과국방",
          "건축자재",
          "철강",
          "컴퓨터와주변기기",
          "상업서비스와공급품",
          "게임엔터테인먼트",
          "섬유,의류,신발,호화품",
          "식품",
          "건설",
          "생명과학도구및서비스",
          "화장품",
          "방송과엔터테인먼트",
          "화학",
          "통신장비",
          "생물공학",
          "전기제품",
          "핸드셋",
          "디스플레이장비및부품",
          "소프트웨어",
          "기계",
          "건강관리장비와용품",
          "자동차부품",
          "전자장비와기기",
          "IT서비스",
          "제약",
          "창업투자",
          "반도체와반도체장비"
         ],
         "yaxis": "y"
        }
       ],
       "layout": {
        "barmode": "relative",
        "height": 2470,
        "legend": {
         "tracegroupgap": 0
        },
        "showlegend": true,
        "template": {
         "data": {
          "bar": [
           {
            "error_x": {
             "color": "#2a3f5f"
            },
            "error_y": {
             "color": "#2a3f5f"
            },
            "marker": {
             "line": {
              "color": "white",
              "width": 0.5
             },
             "pattern": {
              "fillmode": "overlay",
              "size": 10,
              "solidity": 0.2
             }
            },
            "type": "bar"
           }
          ],
          "barpolar": [
           {
            "marker": {
             "line": {
              "color": "white",
              "width": 0.5
             },
             "pattern": {
              "fillmode": "overlay",
              "size": 10,
              "solidity": 0.2
             }
            },
            "type": "barpolar"
           }
          ],
          "carpet": [
           {
            "aaxis": {
             "endlinecolor": "#2a3f5f",
             "gridcolor": "#C8D4E3",
             "linecolor": "#C8D4E3",
             "minorgridcolor": "#C8D4E3",
             "startlinecolor": "#2a3f5f"
            },
            "baxis": {
             "endlinecolor": "#2a3f5f",
             "gridcolor": "#C8D4E3",
             "linecolor": "#C8D4E3",
             "minorgridcolor": "#C8D4E3",
             "startlinecolor": "#2a3f5f"
            },
            "type": "carpet"
           }
          ],
          "choropleth": [
           {
            "colorbar": {
             "outlinewidth": 0,
             "ticks": ""
            },
            "type": "choropleth"
           }
          ],
          "contour": [
           {
            "colorbar": {
             "outlinewidth": 0,
             "ticks": ""
            },
            "colorscale": [
             [
              0,
              "#0d0887"
             ],
             [
              0.1111111111111111,
              "#46039f"
             ],
             [
              0.2222222222222222,
              "#7201a8"
             ],
             [
              0.3333333333333333,
              "#9c179e"
             ],
             [
              0.4444444444444444,
              "#bd3786"
             ],
             [
              0.5555555555555556,
              "#d8576b"
             ],
             [
              0.6666666666666666,
              "#ed7953"
             ],
             [
              0.7777777777777778,
              "#fb9f3a"
             ],
             [
              0.8888888888888888,
              "#fdca26"
             ],
             [
              1,
              "#f0f921"
             ]
            ],
            "type": "contour"
           }
          ],
          "contourcarpet": [
           {
            "colorbar": {
             "outlinewidth": 0,
             "ticks": ""
            },
            "type": "contourcarpet"
           }
          ],
          "heatmap": [
           {
            "colorbar": {
             "outlinewidth": 0,
             "ticks": ""
            },
            "colorscale": [
             [
              0,
              "#0d0887"
             ],
             [
              0.1111111111111111,
              "#46039f"
             ],
             [
              0.2222222222222222,
              "#7201a8"
             ],
             [
              0.3333333333333333,
              "#9c179e"
             ],
             [
              0.4444444444444444,
              "#bd3786"
             ],
             [
              0.5555555555555556,
              "#d8576b"
             ],
             [
              0.6666666666666666,
              "#ed7953"
             ],
             [
              0.7777777777777778,
              "#fb9f3a"
             ],
             [
              0.8888888888888888,
              "#fdca26"
             ],
             [
              1,
              "#f0f921"
             ]
            ],
            "type": "heatmap"
           }
          ],
          "heatmapgl": [
           {
            "colorbar": {
             "outlinewidth": 0,
             "ticks": ""
            },
            "colorscale": [
             [
              0,
              "#0d0887"
             ],
             [
              0.1111111111111111,
              "#46039f"
             ],
             [
              0.2222222222222222,
              "#7201a8"
             ],
             [
              0.3333333333333333,
              "#9c179e"
             ],
             [
              0.4444444444444444,
              "#bd3786"
             ],
             [
              0.5555555555555556,
              "#d8576b"
             ],
             [
              0.6666666666666666,
              "#ed7953"
             ],
             [
              0.7777777777777778,
              "#fb9f3a"
             ],
             [
              0.8888888888888888,
              "#fdca26"
             ],
             [
              1,
              "#f0f921"
             ]
            ],
            "type": "heatmapgl"
           }
          ],
          "histogram": [
           {
            "marker": {
             "pattern": {
              "fillmode": "overlay",
              "size": 10,
              "solidity": 0.2
             }
            },
            "type": "histogram"
           }
          ],
          "histogram2d": [
           {
            "colorbar": {
             "outlinewidth": 0,
             "ticks": ""
            },
            "colorscale": [
             [
              0,
              "#0d0887"
             ],
             [
              0.1111111111111111,
              "#46039f"
             ],
             [
              0.2222222222222222,
              "#7201a8"
             ],
             [
              0.3333333333333333,
              "#9c179e"
             ],
             [
              0.4444444444444444,
              "#bd3786"
             ],
             [
              0.5555555555555556,
              "#d8576b"
             ],
             [
              0.6666666666666666,
              "#ed7953"
             ],
             [
              0.7777777777777778,
              "#fb9f3a"
             ],
             [
              0.8888888888888888,
              "#fdca26"
             ],
             [
              1,
              "#f0f921"
             ]
            ],
            "type": "histogram2d"
           }
          ],
          "histogram2dcontour": [
           {
            "colorbar": {
             "outlinewidth": 0,
             "ticks": ""
            },
            "colorscale": [
             [
              0,
              "#0d0887"
             ],
             [
              0.1111111111111111,
              "#46039f"
             ],
             [
              0.2222222222222222,
              "#7201a8"
             ],
             [
              0.3333333333333333,
              "#9c179e"
             ],
             [
              0.4444444444444444,
              "#bd3786"
             ],
             [
              0.5555555555555556,
              "#d8576b"
             ],
             [
              0.6666666666666666,
              "#ed7953"
             ],
             [
              0.7777777777777778,
              "#fb9f3a"
             ],
             [
              0.8888888888888888,
              "#fdca26"
             ],
             [
              1,
              "#f0f921"
             ]
            ],
            "type": "histogram2dcontour"
           }
          ],
          "mesh3d": [
           {
            "colorbar": {
             "outlinewidth": 0,
             "ticks": ""
            },
            "type": "mesh3d"
           }
          ],
          "parcoords": [
           {
            "line": {
             "colorbar": {
              "outlinewidth": 0,
              "ticks": ""
             }
            },
            "type": "parcoords"
           }
          ],
          "pie": [
           {
            "automargin": true,
            "type": "pie"
           }
          ],
          "scatter": [
           {
            "fillpattern": {
             "fillmode": "overlay",
             "size": 10,
             "solidity": 0.2
            },
            "type": "scatter"
           }
          ],
          "scatter3d": [
           {
            "line": {
             "colorbar": {
              "outlinewidth": 0,
              "ticks": ""
             }
            },
            "marker": {
             "colorbar": {
              "outlinewidth": 0,
              "ticks": ""
             }
            },
            "type": "scatter3d"
           }
          ],
          "scattercarpet": [
           {
            "marker": {
             "colorbar": {
              "outlinewidth": 0,
              "ticks": ""
             }
            },
            "type": "scattercarpet"
           }
          ],
          "scattergeo": [
           {
            "marker": {
             "colorbar": {
              "outlinewidth": 0,
              "ticks": ""
             }
            },
            "type": "scattergeo"
           }
          ],
          "scattergl": [
           {
            "marker": {
             "colorbar": {
              "outlinewidth": 0,
              "ticks": ""
             }
            },
            "type": "scattergl"
           }
          ],
          "scattermapbox": [
           {
            "marker": {
             "colorbar": {
              "outlinewidth": 0,
              "ticks": ""
             }
            },
            "type": "scattermapbox"
           }
          ],
          "scatterpolar": [
           {
            "marker": {
             "colorbar": {
              "outlinewidth": 0,
              "ticks": ""
             }
            },
            "type": "scatterpolar"
           }
          ],
          "scatterpolargl": [
           {
            "marker": {
             "colorbar": {
              "outlinewidth": 0,
              "ticks": ""
             }
            },
            "type": "scatterpolargl"
           }
          ],
          "scatterternary": [
           {
            "marker": {
             "colorbar": {
              "outlinewidth": 0,
              "ticks": ""
             }
            },
            "type": "scatterternary"
           }
          ],
          "surface": [
           {
            "colorbar": {
             "outlinewidth": 0,
             "ticks": ""
            },
            "colorscale": [
             [
              0,
              "#0d0887"
             ],
             [
              0.1111111111111111,
              "#46039f"
             ],
             [
              0.2222222222222222,
              "#7201a8"
             ],
             [
              0.3333333333333333,
              "#9c179e"
             ],
             [
              0.4444444444444444,
              "#bd3786"
             ],
             [
              0.5555555555555556,
              "#d8576b"
             ],
             [
              0.6666666666666666,
              "#ed7953"
             ],
             [
              0.7777777777777778,
              "#fb9f3a"
             ],
             [
              0.8888888888888888,
              "#fdca26"
             ],
             [
              1,
              "#f0f921"
             ]
            ],
            "type": "surface"
           }
          ],
          "table": [
           {
            "cells": {
             "fill": {
              "color": "#EBF0F8"
             },
             "line": {
              "color": "white"
             }
            },
            "header": {
             "fill": {
              "color": "#C8D4E3"
             },
             "line": {
              "color": "white"
             }
            },
            "type": "table"
           }
          ]
         },
         "layout": {
          "annotationdefaults": {
           "arrowcolor": "#2a3f5f",
           "arrowhead": 0,
           "arrowwidth": 1
          },
          "autotypenumbers": "strict",
          "coloraxis": {
           "colorbar": {
            "outlinewidth": 0,
            "ticks": ""
           }
          },
          "colorscale": {
           "diverging": [
            [
             0,
             "#8e0152"
            ],
            [
             0.1,
             "#c51b7d"
            ],
            [
             0.2,
             "#de77ae"
            ],
            [
             0.3,
             "#f1b6da"
            ],
            [
             0.4,
             "#fde0ef"
            ],
            [
             0.5,
             "#f7f7f7"
            ],
            [
             0.6,
             "#e6f5d0"
            ],
            [
             0.7,
             "#b8e186"
            ],
            [
             0.8,
             "#7fbc41"
            ],
            [
             0.9,
             "#4d9221"
            ],
            [
             1,
             "#276419"
            ]
           ],
           "sequential": [
            [
             0,
             "#0d0887"
            ],
            [
             0.1111111111111111,
             "#46039f"
            ],
            [
             0.2222222222222222,
             "#7201a8"
            ],
            [
             0.3333333333333333,
             "#9c179e"
            ],
            [
             0.4444444444444444,
             "#bd3786"
            ],
            [
             0.5555555555555556,
             "#d8576b"
            ],
            [
             0.6666666666666666,
             "#ed7953"
            ],
            [
             0.7777777777777778,
             "#fb9f3a"
            ],
            [
             0.8888888888888888,
             "#fdca26"
            ],
            [
             1,
             "#f0f921"
            ]
           ],
           "sequentialminus": [
            [
             0,
             "#0d0887"
            ],
            [
             0.1111111111111111,
             "#46039f"
            ],
            [
             0.2222222222222222,
             "#7201a8"
            ],
            [
             0.3333333333333333,
             "#9c179e"
            ],
            [
             0.4444444444444444,
             "#bd3786"
            ],
            [
             0.5555555555555556,
             "#d8576b"
            ],
            [
             0.6666666666666666,
             "#ed7953"
            ],
            [
             0.7777777777777778,
             "#fb9f3a"
            ],
            [
             0.8888888888888888,
             "#fdca26"
            ],
            [
             1,
             "#f0f921"
            ]
           ]
          },
          "colorway": [
           "#636efa",
           "#EF553B",
           "#00cc96",
           "#ab63fa",
           "#FFA15A",
           "#19d3f3",
           "#FF6692",
           "#B6E880",
           "#FF97FF",
           "#FECB52"
          ],
          "font": {
           "color": "#2a3f5f"
          },
          "geo": {
           "bgcolor": "white",
           "lakecolor": "white",
           "landcolor": "white",
           "showlakes": true,
           "showland": true,
           "subunitcolor": "#C8D4E3"
          },
          "hoverlabel": {
           "align": "left"
          },
          "hovermode": "closest",
          "mapbox": {
           "style": "light"
          },
          "paper_bgcolor": "white",
          "plot_bgcolor": "white",
          "polar": {
           "angularaxis": {
            "gridcolor": "#EBF0F8",
            "linecolor": "#EBF0F8",
            "ticks": ""
           },
           "bgcolor": "white",
           "radialaxis": {
            "gridcolor": "#EBF0F8",
            "linecolor": "#EBF0F8",
            "ticks": ""
           }
          },
          "scene": {
           "xaxis": {
            "backgroundcolor": "white",
            "gridcolor": "#DFE8F3",
            "gridwidth": 2,
            "linecolor": "#EBF0F8",
            "showbackground": true,
            "ticks": "",
            "zerolinecolor": "#EBF0F8"
           },
           "yaxis": {
            "backgroundcolor": "white",
            "gridcolor": "#DFE8F3",
            "gridwidth": 2,
            "linecolor": "#EBF0F8",
            "showbackground": true,
            "ticks": "",
            "zerolinecolor": "#EBF0F8"
           },
           "zaxis": {
            "backgroundcolor": "white",
            "gridcolor": "#DFE8F3",
            "gridwidth": 2,
            "linecolor": "#EBF0F8",
            "showbackground": true,
            "ticks": "",
            "zerolinecolor": "#EBF0F8"
           }
          },
          "shapedefaults": {
           "line": {
            "color": "#2a3f5f"
           }
          },
          "ternary": {
           "aaxis": {
            "gridcolor": "#DFE8F3",
            "linecolor": "#A2B1C6",
            "ticks": ""
           },
           "baxis": {
            "gridcolor": "#DFE8F3",
            "linecolor": "#A2B1C6",
            "ticks": ""
           },
           "bgcolor": "white",
           "caxis": {
            "gridcolor": "#DFE8F3",
            "linecolor": "#A2B1C6",
            "ticks": ""
           }
          },
          "title": {
           "x": 0.05
          },
          "xaxis": {
           "automargin": true,
           "gridcolor": "#EBF0F8",
           "linecolor": "#EBF0F8",
           "ticks": "",
           "title": {
            "standoff": 15
           },
           "zerolinecolor": "#EBF0F8",
           "zerolinewidth": 2
          },
          "yaxis": {
           "automargin": true,
           "gridcolor": "#EBF0F8",
           "linecolor": "#EBF0F8",
           "ticks": "",
           "title": {
            "standoff": 15
           },
           "zerolinecolor": "#EBF0F8",
           "zerolinewidth": 2
          }
         }
        },
        "title": {
         "text": "KOSDAQ 시장 업종별 점유율"
        },
        "xaxis": {
         "anchor": "y",
         "domain": [
          0,
          1
         ],
         "title": {
          "text": "점유율 (%)"
         }
        },
        "yaxis": {
         "anchor": "x",
         "domain": [
          0,
          1
         ],
         "title": {
          "text": "업종명"
         }
        }
       }
      }
     },
     "metadata": {},
     "output_type": "display_data"
    },
    {
     "data": {
      "text/html": [
       "<div>\n",
       "<style scoped>\n",
       "    .dataframe tbody tr th:only-of-type {\n",
       "        vertical-align: middle;\n",
       "    }\n",
       "\n",
       "    .dataframe tbody tr th {\n",
       "        vertical-align: top;\n",
       "    }\n",
       "\n",
       "    .dataframe thead th {\n",
       "        text-align: right;\n",
       "    }\n",
       "</style>\n",
       "<table border=\"1\" class=\"dataframe\">\n",
       "  <thead>\n",
       "    <tr style=\"text-align: right;\">\n",
       "      <th></th>\n",
       "      <th>count</th>\n",
       "    </tr>\n",
       "    <tr>\n",
       "      <th>Sector</th>\n",
       "      <th></th>\n",
       "    </tr>\n",
       "  </thead>\n",
       "  <tbody>\n",
       "    <tr>\n",
       "      <th>반도체와반도체장비</th>\n",
       "      <td>142</td>\n",
       "    </tr>\n",
       "    <tr>\n",
       "      <th>창업투자</th>\n",
       "      <td>119</td>\n",
       "    </tr>\n",
       "    <tr>\n",
       "      <th>제약</th>\n",
       "      <td>111</td>\n",
       "    </tr>\n",
       "    <tr>\n",
       "      <th>IT서비스</th>\n",
       "      <td>82</td>\n",
       "    </tr>\n",
       "    <tr>\n",
       "      <th>전자장비와기기</th>\n",
       "      <td>78</td>\n",
       "    </tr>\n",
       "    <tr>\n",
       "      <th>자동차부품</th>\n",
       "      <td>75</td>\n",
       "    </tr>\n",
       "    <tr>\n",
       "      <th>건강관리장비와용품</th>\n",
       "      <td>74</td>\n",
       "    </tr>\n",
       "    <tr>\n",
       "      <th>기계</th>\n",
       "      <td>73</td>\n",
       "    </tr>\n",
       "    <tr>\n",
       "      <th>소프트웨어</th>\n",
       "      <td>72</td>\n",
       "    </tr>\n",
       "    <tr>\n",
       "      <th>디스플레이장비및부품</th>\n",
       "      <td>65</td>\n",
       "    </tr>\n",
       "    <tr>\n",
       "      <th>핸드셋</th>\n",
       "      <td>61</td>\n",
       "    </tr>\n",
       "    <tr>\n",
       "      <th>전기제품</th>\n",
       "      <td>56</td>\n",
       "    </tr>\n",
       "    <tr>\n",
       "      <th>생물공학</th>\n",
       "      <td>50</td>\n",
       "    </tr>\n",
       "    <tr>\n",
       "      <th>통신장비</th>\n",
       "      <td>47</td>\n",
       "    </tr>\n",
       "    <tr>\n",
       "      <th>화학</th>\n",
       "      <td>46</td>\n",
       "    </tr>\n",
       "    <tr>\n",
       "      <th>방송과엔터테인먼트</th>\n",
       "      <td>45</td>\n",
       "    </tr>\n",
       "    <tr>\n",
       "      <th>화장품</th>\n",
       "      <td>41</td>\n",
       "    </tr>\n",
       "    <tr>\n",
       "      <th>생명과학도구및서비스</th>\n",
       "      <td>37</td>\n",
       "    </tr>\n",
       "    <tr>\n",
       "      <th>건설</th>\n",
       "      <td>35</td>\n",
       "    </tr>\n",
       "    <tr>\n",
       "      <th>식품</th>\n",
       "      <td>33</td>\n",
       "    </tr>\n",
       "    <tr>\n",
       "      <th>섬유,의류,신발,호화품</th>\n",
       "      <td>32</td>\n",
       "    </tr>\n",
       "    <tr>\n",
       "      <th>게임엔터테인먼트</th>\n",
       "      <td>30</td>\n",
       "    </tr>\n",
       "    <tr>\n",
       "      <th>상업서비스와공급품</th>\n",
       "      <td>21</td>\n",
       "    </tr>\n",
       "    <tr>\n",
       "      <th>컴퓨터와주변기기</th>\n",
       "      <td>20</td>\n",
       "    </tr>\n",
       "    <tr>\n",
       "      <th>철강</th>\n",
       "      <td>19</td>\n",
       "    </tr>\n",
       "    <tr>\n",
       "      <th>건축자재</th>\n",
       "      <td>18</td>\n",
       "    </tr>\n",
       "    <tr>\n",
       "      <th>우주항공과국방</th>\n",
       "      <td>18</td>\n",
       "    </tr>\n",
       "    <tr>\n",
       "      <th>교육서비스</th>\n",
       "      <td>18</td>\n",
       "    </tr>\n",
       "    <tr>\n",
       "      <th>비철금속</th>\n",
       "      <td>16</td>\n",
       "    </tr>\n",
       "    <tr>\n",
       "      <th>에너지장비및서비스</th>\n",
       "      <td>15</td>\n",
       "    </tr>\n",
       "    <tr>\n",
       "      <th>가정용기기와용품</th>\n",
       "      <td>15</td>\n",
       "    </tr>\n",
       "    <tr>\n",
       "      <th>전기장비</th>\n",
       "      <td>14</td>\n",
       "    </tr>\n",
       "    <tr>\n",
       "      <th>전자제품</th>\n",
       "      <td>14</td>\n",
       "    </tr>\n",
       "    <tr>\n",
       "      <th>광고</th>\n",
       "      <td>13</td>\n",
       "    </tr>\n",
       "    <tr>\n",
       "      <th>양방향미디어와서비스</th>\n",
       "      <td>13</td>\n",
       "    </tr>\n",
       "    <tr>\n",
       "      <th>조선</th>\n",
       "      <td>13</td>\n",
       "    </tr>\n",
       "    <tr>\n",
       "      <th>건강관리업체및서비스</th>\n",
       "      <td>12</td>\n",
       "    </tr>\n",
       "    <tr>\n",
       "      <th>건강관리기술</th>\n",
       "      <td>12</td>\n",
       "    </tr>\n",
       "    <tr>\n",
       "      <th>포장재</th>\n",
       "      <td>10</td>\n",
       "    </tr>\n",
       "    <tr>\n",
       "      <th>건축제품</th>\n",
       "      <td>9</td>\n",
       "    </tr>\n",
       "    <tr>\n",
       "      <th>레저용장비와제품</th>\n",
       "      <td>9</td>\n",
       "    </tr>\n",
       "    <tr>\n",
       "      <th>호텔,레스토랑,레저</th>\n",
       "      <td>9</td>\n",
       "    </tr>\n",
       "    <tr>\n",
       "      <th>판매업체</th>\n",
       "      <td>7</td>\n",
       "    </tr>\n",
       "    <tr>\n",
       "      <th>운송인프라</th>\n",
       "      <td>7</td>\n",
       "    </tr>\n",
       "    <tr>\n",
       "      <th>인터넷과카탈로그소매</th>\n",
       "      <td>6</td>\n",
       "    </tr>\n",
       "    <tr>\n",
       "      <th>음료</th>\n",
       "      <td>6</td>\n",
       "    </tr>\n",
       "    <tr>\n",
       "      <th>석유와가스</th>\n",
       "      <td>6</td>\n",
       "    </tr>\n",
       "    <tr>\n",
       "      <th>가정용품</th>\n",
       "      <td>6</td>\n",
       "    </tr>\n",
       "    <tr>\n",
       "      <th>식품과기본식료품소매</th>\n",
       "      <td>5</td>\n",
       "    </tr>\n",
       "    <tr>\n",
       "      <th>출판</th>\n",
       "      <td>5</td>\n",
       "    </tr>\n",
       "    <tr>\n",
       "      <th>가구</th>\n",
       "      <td>5</td>\n",
       "    </tr>\n",
       "    <tr>\n",
       "      <th>증권</th>\n",
       "      <td>4</td>\n",
       "    </tr>\n",
       "    <tr>\n",
       "      <th>종이와목재</th>\n",
       "      <td>4</td>\n",
       "    </tr>\n",
       "    <tr>\n",
       "      <th>전문소매</th>\n",
       "      <td>4</td>\n",
       "    </tr>\n",
       "    <tr>\n",
       "      <th>기타금융</th>\n",
       "      <td>4</td>\n",
       "    </tr>\n",
       "    <tr>\n",
       "      <th>자동차</th>\n",
       "      <td>3</td>\n",
       "    </tr>\n",
       "    <tr>\n",
       "      <th>해운사</th>\n",
       "      <td>3</td>\n",
       "    </tr>\n",
       "    <tr>\n",
       "      <th>항공화물운송과물류</th>\n",
       "      <td>2</td>\n",
       "    </tr>\n",
       "    <tr>\n",
       "      <th>백화점과일반상점</th>\n",
       "      <td>2</td>\n",
       "    </tr>\n",
       "    <tr>\n",
       "      <th>도로와철도운송</th>\n",
       "      <td>2</td>\n",
       "    </tr>\n",
       "    <tr>\n",
       "      <th>디스플레이패널</th>\n",
       "      <td>2</td>\n",
       "    </tr>\n",
       "    <tr>\n",
       "      <th>복합기업</th>\n",
       "      <td>1</td>\n",
       "    </tr>\n",
       "    <tr>\n",
       "      <th>전기유틸리티</th>\n",
       "      <td>1</td>\n",
       "    </tr>\n",
       "    <tr>\n",
       "      <th>가스유틸리티</th>\n",
       "      <td>1</td>\n",
       "    </tr>\n",
       "    <tr>\n",
       "      <th>은행</th>\n",
       "      <td>1</td>\n",
       "    </tr>\n",
       "    <tr>\n",
       "      <th>다각화된통신서비스</th>\n",
       "      <td>1</td>\n",
       "    </tr>\n",
       "    <tr>\n",
       "      <th>손해보험</th>\n",
       "      <td>1</td>\n",
       "    </tr>\n",
       "    <tr>\n",
       "      <th>무선통신서비스</th>\n",
       "      <td>1</td>\n",
       "    </tr>\n",
       "    <tr>\n",
       "      <th>다각화된소비자서비스</th>\n",
       "      <td>1</td>\n",
       "    </tr>\n",
       "  </tbody>\n",
       "</table>\n",
       "</div>"
      ],
      "text/plain": [
       "              count\n",
       "Sector             \n",
       "반도체와반도체장비       142\n",
       "창업투자            119\n",
       "제약              111\n",
       "IT서비스            82\n",
       "전자장비와기기          78\n",
       "자동차부품            75\n",
       "건강관리장비와용품        74\n",
       "기계               73\n",
       "소프트웨어            72\n",
       "디스플레이장비및부품       65\n",
       "핸드셋              61\n",
       "전기제품             56\n",
       "생물공학             50\n",
       "통신장비             47\n",
       "화학               46\n",
       "방송과엔터테인먼트        45\n",
       "화장품              41\n",
       "생명과학도구및서비스       37\n",
       "건설               35\n",
       "식품               33\n",
       "섬유,의류,신발,호화품     32\n",
       "게임엔터테인먼트         30\n",
       "상업서비스와공급품        21\n",
       "컴퓨터와주변기기         20\n",
       "철강               19\n",
       "건축자재             18\n",
       "우주항공과국방          18\n",
       "교육서비스            18\n",
       "비철금속             16\n",
       "에너지장비및서비스        15\n",
       "가정용기기와용품         15\n",
       "전기장비             14\n",
       "전자제품             14\n",
       "광고               13\n",
       "양방향미디어와서비스       13\n",
       "조선               13\n",
       "건강관리업체및서비스       12\n",
       "건강관리기술           12\n",
       "포장재              10\n",
       "건축제품              9\n",
       "레저용장비와제품          9\n",
       "호텔,레스토랑,레저        9\n",
       "판매업체              7\n",
       "운송인프라             7\n",
       "인터넷과카탈로그소매        6\n",
       "음료                6\n",
       "석유와가스             6\n",
       "가정용품              6\n",
       "식품과기본식료품소매        5\n",
       "출판                5\n",
       "가구                5\n",
       "증권                4\n",
       "종이와목재             4\n",
       "전문소매              4\n",
       "기타금융              4\n",
       "자동차               3\n",
       "해운사               3\n",
       "항공화물운송과물류         2\n",
       "백화점과일반상점          2\n",
       "도로와철도운송           2\n",
       "디스플레이패널           2\n",
       "복합기업              1\n",
       "전기유틸리티            1\n",
       "가스유틸리티            1\n",
       "은행                1\n",
       "다각화된통신서비스         1\n",
       "손해보험              1\n",
       "무선통신서비스           1\n",
       "다각화된소비자서비스        1"
      ]
     },
     "metadata": {},
     "output_type": "display_data"
    }
   ],
   "source": [
    "visualize_sector_share('KOSDAQ')"
   ]
  },
  {
   "cell_type": "code",
   "execution_count": 17,
   "metadata": {},
   "outputs": [
    {
     "name": "stdout",
     "output_type": "stream",
     "text": [
      "3개월 간의 data를 불러옵니다.\n"
     ]
    },
    {
     "data": {
      "application/vnd.plotly.v1+json": {
       "config": {
        "plotlyServerURL": "https://plot.ly"
       },
       "data": [
        {
         "alignmentgroup": "True",
         "hovertemplate": "점유율 (%)=%{x}<br>업종명=%{y}<extra></extra>",
         "legendgroup": "",
         "marker": {
          "color": "lightgreen",
          "pattern": {
           "shape": ""
          }
         },
         "name": "",
         "offsetgroup": "",
         "orientation": "h",
         "showlegend": false,
         "textposition": "auto",
         "type": "bar",
         "x": [
          1.9375672766415502,
          4.3057050592034445,
          8.503767491926803,
          9.472551130247577,
          17.330462863293864,
          26.695371367061355,
          31.754574811625403
         ],
         "xaxis": "x",
         "y": [
          "원자재",
          "국내파생",
          "기타",
          "국내 시장지수",
          "채권",
          "국내 업종/테마",
          "해외주식"
         ],
         "yaxis": "y"
        }
       ],
       "layout": {
        "barmode": "relative",
        "height": 610,
        "legend": {
         "tracegroupgap": 0
        },
        "showlegend": true,
        "template": {
         "data": {
          "bar": [
           {
            "error_x": {
             "color": "#2a3f5f"
            },
            "error_y": {
             "color": "#2a3f5f"
            },
            "marker": {
             "line": {
              "color": "white",
              "width": 0.5
             },
             "pattern": {
              "fillmode": "overlay",
              "size": 10,
              "solidity": 0.2
             }
            },
            "type": "bar"
           }
          ],
          "barpolar": [
           {
            "marker": {
             "line": {
              "color": "white",
              "width": 0.5
             },
             "pattern": {
              "fillmode": "overlay",
              "size": 10,
              "solidity": 0.2
             }
            },
            "type": "barpolar"
           }
          ],
          "carpet": [
           {
            "aaxis": {
             "endlinecolor": "#2a3f5f",
             "gridcolor": "#C8D4E3",
             "linecolor": "#C8D4E3",
             "minorgridcolor": "#C8D4E3",
             "startlinecolor": "#2a3f5f"
            },
            "baxis": {
             "endlinecolor": "#2a3f5f",
             "gridcolor": "#C8D4E3",
             "linecolor": "#C8D4E3",
             "minorgridcolor": "#C8D4E3",
             "startlinecolor": "#2a3f5f"
            },
            "type": "carpet"
           }
          ],
          "choropleth": [
           {
            "colorbar": {
             "outlinewidth": 0,
             "ticks": ""
            },
            "type": "choropleth"
           }
          ],
          "contour": [
           {
            "colorbar": {
             "outlinewidth": 0,
             "ticks": ""
            },
            "colorscale": [
             [
              0,
              "#0d0887"
             ],
             [
              0.1111111111111111,
              "#46039f"
             ],
             [
              0.2222222222222222,
              "#7201a8"
             ],
             [
              0.3333333333333333,
              "#9c179e"
             ],
             [
              0.4444444444444444,
              "#bd3786"
             ],
             [
              0.5555555555555556,
              "#d8576b"
             ],
             [
              0.6666666666666666,
              "#ed7953"
             ],
             [
              0.7777777777777778,
              "#fb9f3a"
             ],
             [
              0.8888888888888888,
              "#fdca26"
             ],
             [
              1,
              "#f0f921"
             ]
            ],
            "type": "contour"
           }
          ],
          "contourcarpet": [
           {
            "colorbar": {
             "outlinewidth": 0,
             "ticks": ""
            },
            "type": "contourcarpet"
           }
          ],
          "heatmap": [
           {
            "colorbar": {
             "outlinewidth": 0,
             "ticks": ""
            },
            "colorscale": [
             [
              0,
              "#0d0887"
             ],
             [
              0.1111111111111111,
              "#46039f"
             ],
             [
              0.2222222222222222,
              "#7201a8"
             ],
             [
              0.3333333333333333,
              "#9c179e"
             ],
             [
              0.4444444444444444,
              "#bd3786"
             ],
             [
              0.5555555555555556,
              "#d8576b"
             ],
             [
              0.6666666666666666,
              "#ed7953"
             ],
             [
              0.7777777777777778,
              "#fb9f3a"
             ],
             [
              0.8888888888888888,
              "#fdca26"
             ],
             [
              1,
              "#f0f921"
             ]
            ],
            "type": "heatmap"
           }
          ],
          "heatmapgl": [
           {
            "colorbar": {
             "outlinewidth": 0,
             "ticks": ""
            },
            "colorscale": [
             [
              0,
              "#0d0887"
             ],
             [
              0.1111111111111111,
              "#46039f"
             ],
             [
              0.2222222222222222,
              "#7201a8"
             ],
             [
              0.3333333333333333,
              "#9c179e"
             ],
             [
              0.4444444444444444,
              "#bd3786"
             ],
             [
              0.5555555555555556,
              "#d8576b"
             ],
             [
              0.6666666666666666,
              "#ed7953"
             ],
             [
              0.7777777777777778,
              "#fb9f3a"
             ],
             [
              0.8888888888888888,
              "#fdca26"
             ],
             [
              1,
              "#f0f921"
             ]
            ],
            "type": "heatmapgl"
           }
          ],
          "histogram": [
           {
            "marker": {
             "pattern": {
              "fillmode": "overlay",
              "size": 10,
              "solidity": 0.2
             }
            },
            "type": "histogram"
           }
          ],
          "histogram2d": [
           {
            "colorbar": {
             "outlinewidth": 0,
             "ticks": ""
            },
            "colorscale": [
             [
              0,
              "#0d0887"
             ],
             [
              0.1111111111111111,
              "#46039f"
             ],
             [
              0.2222222222222222,
              "#7201a8"
             ],
             [
              0.3333333333333333,
              "#9c179e"
             ],
             [
              0.4444444444444444,
              "#bd3786"
             ],
             [
              0.5555555555555556,
              "#d8576b"
             ],
             [
              0.6666666666666666,
              "#ed7953"
             ],
             [
              0.7777777777777778,
              "#fb9f3a"
             ],
             [
              0.8888888888888888,
              "#fdca26"
             ],
             [
              1,
              "#f0f921"
             ]
            ],
            "type": "histogram2d"
           }
          ],
          "histogram2dcontour": [
           {
            "colorbar": {
             "outlinewidth": 0,
             "ticks": ""
            },
            "colorscale": [
             [
              0,
              "#0d0887"
             ],
             [
              0.1111111111111111,
              "#46039f"
             ],
             [
              0.2222222222222222,
              "#7201a8"
             ],
             [
              0.3333333333333333,
              "#9c179e"
             ],
             [
              0.4444444444444444,
              "#bd3786"
             ],
             [
              0.5555555555555556,
              "#d8576b"
             ],
             [
              0.6666666666666666,
              "#ed7953"
             ],
             [
              0.7777777777777778,
              "#fb9f3a"
             ],
             [
              0.8888888888888888,
              "#fdca26"
             ],
             [
              1,
              "#f0f921"
             ]
            ],
            "type": "histogram2dcontour"
           }
          ],
          "mesh3d": [
           {
            "colorbar": {
             "outlinewidth": 0,
             "ticks": ""
            },
            "type": "mesh3d"
           }
          ],
          "parcoords": [
           {
            "line": {
             "colorbar": {
              "outlinewidth": 0,
              "ticks": ""
             }
            },
            "type": "parcoords"
           }
          ],
          "pie": [
           {
            "automargin": true,
            "type": "pie"
           }
          ],
          "scatter": [
           {
            "fillpattern": {
             "fillmode": "overlay",
             "size": 10,
             "solidity": 0.2
            },
            "type": "scatter"
           }
          ],
          "scatter3d": [
           {
            "line": {
             "colorbar": {
              "outlinewidth": 0,
              "ticks": ""
             }
            },
            "marker": {
             "colorbar": {
              "outlinewidth": 0,
              "ticks": ""
             }
            },
            "type": "scatter3d"
           }
          ],
          "scattercarpet": [
           {
            "marker": {
             "colorbar": {
              "outlinewidth": 0,
              "ticks": ""
             }
            },
            "type": "scattercarpet"
           }
          ],
          "scattergeo": [
           {
            "marker": {
             "colorbar": {
              "outlinewidth": 0,
              "ticks": ""
             }
            },
            "type": "scattergeo"
           }
          ],
          "scattergl": [
           {
            "marker": {
             "colorbar": {
              "outlinewidth": 0,
              "ticks": ""
             }
            },
            "type": "scattergl"
           }
          ],
          "scattermapbox": [
           {
            "marker": {
             "colorbar": {
              "outlinewidth": 0,
              "ticks": ""
             }
            },
            "type": "scattermapbox"
           }
          ],
          "scatterpolar": [
           {
            "marker": {
             "colorbar": {
              "outlinewidth": 0,
              "ticks": ""
             }
            },
            "type": "scatterpolar"
           }
          ],
          "scatterpolargl": [
           {
            "marker": {
             "colorbar": {
              "outlinewidth": 0,
              "ticks": ""
             }
            },
            "type": "scatterpolargl"
           }
          ],
          "scatterternary": [
           {
            "marker": {
             "colorbar": {
              "outlinewidth": 0,
              "ticks": ""
             }
            },
            "type": "scatterternary"
           }
          ],
          "surface": [
           {
            "colorbar": {
             "outlinewidth": 0,
             "ticks": ""
            },
            "colorscale": [
             [
              0,
              "#0d0887"
             ],
             [
              0.1111111111111111,
              "#46039f"
             ],
             [
              0.2222222222222222,
              "#7201a8"
             ],
             [
              0.3333333333333333,
              "#9c179e"
             ],
             [
              0.4444444444444444,
              "#bd3786"
             ],
             [
              0.5555555555555556,
              "#d8576b"
             ],
             [
              0.6666666666666666,
              "#ed7953"
             ],
             [
              0.7777777777777778,
              "#fb9f3a"
             ],
             [
              0.8888888888888888,
              "#fdca26"
             ],
             [
              1,
              "#f0f921"
             ]
            ],
            "type": "surface"
           }
          ],
          "table": [
           {
            "cells": {
             "fill": {
              "color": "#EBF0F8"
             },
             "line": {
              "color": "white"
             }
            },
            "header": {
             "fill": {
              "color": "#C8D4E3"
             },
             "line": {
              "color": "white"
             }
            },
            "type": "table"
           }
          ]
         },
         "layout": {
          "annotationdefaults": {
           "arrowcolor": "#2a3f5f",
           "arrowhead": 0,
           "arrowwidth": 1
          },
          "autotypenumbers": "strict",
          "coloraxis": {
           "colorbar": {
            "outlinewidth": 0,
            "ticks": ""
           }
          },
          "colorscale": {
           "diverging": [
            [
             0,
             "#8e0152"
            ],
            [
             0.1,
             "#c51b7d"
            ],
            [
             0.2,
             "#de77ae"
            ],
            [
             0.3,
             "#f1b6da"
            ],
            [
             0.4,
             "#fde0ef"
            ],
            [
             0.5,
             "#f7f7f7"
            ],
            [
             0.6,
             "#e6f5d0"
            ],
            [
             0.7,
             "#b8e186"
            ],
            [
             0.8,
             "#7fbc41"
            ],
            [
             0.9,
             "#4d9221"
            ],
            [
             1,
             "#276419"
            ]
           ],
           "sequential": [
            [
             0,
             "#0d0887"
            ],
            [
             0.1111111111111111,
             "#46039f"
            ],
            [
             0.2222222222222222,
             "#7201a8"
            ],
            [
             0.3333333333333333,
             "#9c179e"
            ],
            [
             0.4444444444444444,
             "#bd3786"
            ],
            [
             0.5555555555555556,
             "#d8576b"
            ],
            [
             0.6666666666666666,
             "#ed7953"
            ],
            [
             0.7777777777777778,
             "#fb9f3a"
            ],
            [
             0.8888888888888888,
             "#fdca26"
            ],
            [
             1,
             "#f0f921"
            ]
           ],
           "sequentialminus": [
            [
             0,
             "#0d0887"
            ],
            [
             0.1111111111111111,
             "#46039f"
            ],
            [
             0.2222222222222222,
             "#7201a8"
            ],
            [
             0.3333333333333333,
             "#9c179e"
            ],
            [
             0.4444444444444444,
             "#bd3786"
            ],
            [
             0.5555555555555556,
             "#d8576b"
            ],
            [
             0.6666666666666666,
             "#ed7953"
            ],
            [
             0.7777777777777778,
             "#fb9f3a"
            ],
            [
             0.8888888888888888,
             "#fdca26"
            ],
            [
             1,
             "#f0f921"
            ]
           ]
          },
          "colorway": [
           "#636efa",
           "#EF553B",
           "#00cc96",
           "#ab63fa",
           "#FFA15A",
           "#19d3f3",
           "#FF6692",
           "#B6E880",
           "#FF97FF",
           "#FECB52"
          ],
          "font": {
           "color": "#2a3f5f"
          },
          "geo": {
           "bgcolor": "white",
           "lakecolor": "white",
           "landcolor": "white",
           "showlakes": true,
           "showland": true,
           "subunitcolor": "#C8D4E3"
          },
          "hoverlabel": {
           "align": "left"
          },
          "hovermode": "closest",
          "mapbox": {
           "style": "light"
          },
          "paper_bgcolor": "white",
          "plot_bgcolor": "white",
          "polar": {
           "angularaxis": {
            "gridcolor": "#EBF0F8",
            "linecolor": "#EBF0F8",
            "ticks": ""
           },
           "bgcolor": "white",
           "radialaxis": {
            "gridcolor": "#EBF0F8",
            "linecolor": "#EBF0F8",
            "ticks": ""
           }
          },
          "scene": {
           "xaxis": {
            "backgroundcolor": "white",
            "gridcolor": "#DFE8F3",
            "gridwidth": 2,
            "linecolor": "#EBF0F8",
            "showbackground": true,
            "ticks": "",
            "zerolinecolor": "#EBF0F8"
           },
           "yaxis": {
            "backgroundcolor": "white",
            "gridcolor": "#DFE8F3",
            "gridwidth": 2,
            "linecolor": "#EBF0F8",
            "showbackground": true,
            "ticks": "",
            "zerolinecolor": "#EBF0F8"
           },
           "zaxis": {
            "backgroundcolor": "white",
            "gridcolor": "#DFE8F3",
            "gridwidth": 2,
            "linecolor": "#EBF0F8",
            "showbackground": true,
            "ticks": "",
            "zerolinecolor": "#EBF0F8"
           }
          },
          "shapedefaults": {
           "line": {
            "color": "#2a3f5f"
           }
          },
          "ternary": {
           "aaxis": {
            "gridcolor": "#DFE8F3",
            "linecolor": "#A2B1C6",
            "ticks": ""
           },
           "baxis": {
            "gridcolor": "#DFE8F3",
            "linecolor": "#A2B1C6",
            "ticks": ""
           },
           "bgcolor": "white",
           "caxis": {
            "gridcolor": "#DFE8F3",
            "linecolor": "#A2B1C6",
            "ticks": ""
           }
          },
          "title": {
           "x": 0.05
          },
          "xaxis": {
           "automargin": true,
           "gridcolor": "#EBF0F8",
           "linecolor": "#EBF0F8",
           "ticks": "",
           "title": {
            "standoff": 15
           },
           "zerolinecolor": "#EBF0F8",
           "zerolinewidth": 2
          },
          "yaxis": {
           "automargin": true,
           "gridcolor": "#EBF0F8",
           "linecolor": "#EBF0F8",
           "ticks": "",
           "title": {
            "standoff": 15
           },
           "zerolinecolor": "#EBF0F8",
           "zerolinewidth": 2
          }
         }
        },
        "title": {
         "text": "ETF 시장 업종별 점유율"
        },
        "xaxis": {
         "anchor": "y",
         "domain": [
          0,
          1
         ],
         "title": {
          "text": "점유율 (%)"
         }
        },
        "yaxis": {
         "anchor": "x",
         "domain": [
          0,
          1
         ],
         "title": {
          "text": "업종명"
         }
        }
       }
      }
     },
     "metadata": {},
     "output_type": "display_data"
    },
    {
     "data": {
      "text/html": [
       "<div>\n",
       "<style scoped>\n",
       "    .dataframe tbody tr th:only-of-type {\n",
       "        vertical-align: middle;\n",
       "    }\n",
       "\n",
       "    .dataframe tbody tr th {\n",
       "        vertical-align: top;\n",
       "    }\n",
       "\n",
       "    .dataframe thead th {\n",
       "        text-align: right;\n",
       "    }\n",
       "</style>\n",
       "<table border=\"1\" class=\"dataframe\">\n",
       "  <thead>\n",
       "    <tr style=\"text-align: right;\">\n",
       "      <th></th>\n",
       "      <th>count</th>\n",
       "    </tr>\n",
       "    <tr>\n",
       "      <th>Sector</th>\n",
       "      <th></th>\n",
       "    </tr>\n",
       "  </thead>\n",
       "  <tbody>\n",
       "    <tr>\n",
       "      <th>해외주식</th>\n",
       "      <td>295</td>\n",
       "    </tr>\n",
       "    <tr>\n",
       "      <th>국내 업종/테마</th>\n",
       "      <td>248</td>\n",
       "    </tr>\n",
       "    <tr>\n",
       "      <th>채권</th>\n",
       "      <td>161</td>\n",
       "    </tr>\n",
       "    <tr>\n",
       "      <th>국내 시장지수</th>\n",
       "      <td>88</td>\n",
       "    </tr>\n",
       "    <tr>\n",
       "      <th>기타</th>\n",
       "      <td>79</td>\n",
       "    </tr>\n",
       "    <tr>\n",
       "      <th>국내파생</th>\n",
       "      <td>40</td>\n",
       "    </tr>\n",
       "    <tr>\n",
       "      <th>원자재</th>\n",
       "      <td>18</td>\n",
       "    </tr>\n",
       "  </tbody>\n",
       "</table>\n",
       "</div>"
      ],
      "text/plain": [
       "          count\n",
       "Sector         \n",
       "해외주식        295\n",
       "국내 업종/테마    248\n",
       "채권          161\n",
       "국내 시장지수      88\n",
       "기타           79\n",
       "국내파생         40\n",
       "원자재          18"
      ]
     },
     "metadata": {},
     "output_type": "display_data"
    }
   ],
   "source": [
    "visualize_sector_share('ETF')"
   ]
  },
  {
   "cell_type": "code",
   "execution_count": 12,
   "metadata": {},
   "outputs": [
    {
     "data": {
      "image/png": "[encoded data removed]",
      "text/plain": [
       "<Figure size 800x2000 with 1 Axes>"
      ]
     },
     "metadata": {},
     "output_type": "display_data"
    },
    {
     "data": {
      "text/html": [
       "<div>\n",
       "<style scoped>\n",
       "    .dataframe tbody tr th:only-of-type {\n",
       "        vertical-align: middle;\n",
       "    }\n",
       "\n",
       "    .dataframe tbody tr th {\n",
       "        vertical-align: top;\n",
       "    }\n",
       "\n",
       "    .dataframe thead th {\n",
       "        text-align: right;\n",
       "    }\n",
       "</style>\n",
       "<table border=\"1\" class=\"dataframe\">\n",
       "  <thead>\n",
       "    <tr style=\"text-align: right;\">\n",
       "      <th></th>\n",
       "      <th>TotalReturn</th>\n",
       "    </tr>\n",
       "    <tr>\n",
       "      <th>Sector</th>\n",
       "      <th></th>\n",
       "    </tr>\n",
       "  </thead>\n",
       "  <tbody>\n",
       "    <tr>\n",
       "      <th>국내 시장지수</th>\n",
       "      <td>-3.492614</td>\n",
       "    </tr>\n",
       "    <tr>\n",
       "      <th>국내 업종/테마</th>\n",
       "      <td>-3.090242</td>\n",
       "    </tr>\n",
       "    <tr>\n",
       "      <th>국내파생</th>\n",
       "      <td>-0.800000</td>\n",
       "    </tr>\n",
       "    <tr>\n",
       "      <th>채권</th>\n",
       "      <td>-0.341615</td>\n",
       "    </tr>\n",
       "    <tr>\n",
       "      <th>원자재</th>\n",
       "      <td>0.008889</td>\n",
       "    </tr>\n",
       "    <tr>\n",
       "      <th>기타</th>\n",
       "      <td>0.209367</td>\n",
       "    </tr>\n",
       "    <tr>\n",
       "      <th>해외주식</th>\n",
       "      <td>1.480475</td>\n",
       "    </tr>\n",
       "  </tbody>\n",
       "</table>\n",
       "</div>"
      ],
      "text/plain": [
       "          TotalReturn\n",
       "Sector               \n",
       "국내 시장지수     -3.492614\n",
       "국내 업종/테마    -3.090242\n",
       "국내파생        -0.800000\n",
       "채권          -0.341615\n",
       "원자재          0.008889\n",
       "기타           0.209367\n",
       "해외주식         1.480475"
      ]
     },
     "execution_count": 12,
     "metadata": {},
     "output_type": "execute_result"
    }
   ],
   "source": [
    "avg_return_by_sector('ETF')"
   ]
  },
  {
   "cell_type": "code",
   "execution_count": null,
   "metadata": {},
   "outputs": [],
   "source": [
    "# 업종별 수익률을 계산하기\n",
    "# 업종별로 나눔 -> for문 돌려서 해당 업종만 수익률 구하기"
   ]
  },
  {
   "cell_type": "code",
   "execution_count": null,
   "metadata": {},
   "outputs": [],
   "source": [
    "# df = pd.read_csv('sector_by_stock_list_df.csv')"
   ]
  },
  {
   "cell_type": "code",
   "execution_count": null,
   "metadata": {},
   "outputs": [],
   "source": [
    "# 초기에는 데이터를 가공하기위해 불러옴\n",
    "\n",
    "# kospi = fdr.StockListing('KOSPI')\n",
    "# kosdaq = fdr.StockListing('KOSDAQ')\n",
    "# etfs = fdr.StockListing('ETF/KR')"
   ]
  },
  {
   "cell_type": "code",
   "execution_count": null,
   "metadata": {},
   "outputs": [],
   "source": [
    "# 전처리된 데이터 불러오기\n",
    "\n",
    "# kospi = pd.read_csv('new_KOSPI_add_sector_df.csv')\n"
   ]
  },
  {
   "cell_type": "code",
   "execution_count": null,
   "metadata": {},
   "outputs": [],
   "source": [
    "# fdr.StockListing으로 불러온 df - KOSPI와 KOSDAQ에 'Sector' 열 추가 (초기값 None)\n",
    "# 처음 데이터를 가공할때 사용\n",
    "# sector_analysis(데이터 전처리)에 과정이 통합되어 있습니다.\n",
    "\n",
    "for index in range(len(df)):\n",
    "    stock_name = df['종목명'][index]\n",
    "    sector_name = df['업종명'][index]\n",
    "    market = df['코스닥 여부'][index]\n",
    "    \n",
    "    if market:  # KOSDAQ인 경우\n",
    "        if stock_name in kosdaq['Name'].values:\n",
    "            kosdaq.loc[kosdaq['Name'] == stock_name, 'Sector'] = sector_name\n",
    "    else:  # KOSPI인 경우\n",
    "        if stock_name in kospi['Name'].values:\n",
    "            kospi.loc[kospi['Name'] == stock_name, 'Sector'] = sector_name\n",
    "\n",
    "# 오늘 날짜\n",
    "today = datetime.datetime.today()\n",
    "today = today.strftime('%Y-%m-%d')\n",
    "\n",
    "# CSV 파일로 저장\n",
    "kospi.to_csv(f'kospi_add_sector_{today}.csv', index=False, encoding='utf-8-sig')\n",
    "kosdaq.to_csv(f'kosdaq_add_sector_{today}.csv', index=False, encoding='utf-8-sig')"
   ]
  },
  {
   "cell_type": "code",
   "execution_count": 17,
   "metadata": {},
   "outputs": [],
   "source": [
    "# 날짜는 파이썬 표준라이브러리 datetime 사용\n",
    "import datetime\n",
    "\n",
    "# 오늘 날짜 구하기\n",
    "today = datetime.datetime.today()\n",
    "today_str = today.strftime('%Y-%m-%d')\n",
    "\n",
    "\n",
    "# n개월 전 날짜 계산 함수(개월단위)\n",
    "def calculate_start_date(months_ago, end_date):\n",
    "    start_date = datetime.datetime.strptime(end_date, '%Y-%m-%d') - relativedelta(months=months_ago)\n",
    "    return start_date.strftime('%Y-%m-%d')\n",
    "  \n",
    "\n",
    "# 시장과 기간을 입력받아, 모든 종목을 돌면서 수익률을 반환해주는 함수\n",
    "\n",
    "def return_by_stock(market='KOSPI',  month_ago = 1, end_date=today_str):\n",
    "  \n",
    "  start_date = calculate_start_date(month_ago, end_date)\n",
    "  \n",
    "  results = [] # 수익률 결과를 저장할 리스트\n",
    "  \n",
    "  market_list= fdr.StockListing(market)\n",
    "  \n",
    "  try:\n",
    "    \n",
    "    for stock in market_list['Code'].tolist():\n",
    "      data = fdr.DataReader(stock, start=start_date, end=end_date)[['Close']]\n",
    "      \n",
    "      if data.empty:  # 데이터가 비어있는지 확인\n",
    "        print(f\"종목 {stock}의 데이터가 없습니다. 건너뜁니다.\")\n",
    "        continue\n",
    "      \n",
    "      # 일일 수익률\n",
    "      data['return'] = data.pct_change()\n",
    "      \n",
    "      # NaN 값 처리: 첫 번째 행 삭제\n",
    "      data = data.dropna()\n",
    "      \n",
    "      # 수익률을 퍼센트로 변환\n",
    "      data['return'] = data['return'] * 100\n",
    "      \n",
    "      # 499790, 177900, 487360 코드에서 오류발생\n",
    "      # 데이터를 가져오는 중 오류가 발생했습니다: single positional indexer is out-of-bounds : 특정 인덱스에 접근할 때 그 인덱스가 존재하지 않는 경우\n",
    "      # 상장된지 얼마 되지않아, 단 '하루'의 데이터만 존재하는경우, pct_change()를 호출하면 맨처음 NaN이 반환되고, dropna()를 호출하면 데이터프레임이 비게 됩니다.\n",
    "      # 따라서 data가 비어있게 되어, 이후의 수익률 계산에서 single positional indexer is out-of-bounds 오류가 발생합니다. 이는 인덱스 접근을 시도할 때 데이터가 없기 때문에 발생합니다.\n",
    "      \n",
    "      if len(data) == 1:  # 상장이후 일일수익률 데이터가 단 하나라  수익률 계산이 의미가 없는경우\n",
    "        print(f\"종목 {stock}은 일일수익률 데이터가 하나라, 수익률 계산이 의미가 없기때문에 건너뜁니다.\")\n",
    "        continue\n",
    "      \n",
    "      if len(data) == 0: # 상장이후 종가가 하나라 수익률 계산 자체가 되지 않는경우\n",
    "          print(f\"종목 {stock}의 데이터가 충분하지 않습니다. 건너뜁니다.\")\n",
    "          continue\n",
    "        \n",
    "      # 해당 기간 전체 수익률 계산\n",
    "      total_return = (data['Close'].iloc[-1] - data['Close'].iloc[0]) / data['Close'].iloc[0] * 100\n",
    "\n",
    "      # 통계 정보 추가\n",
    "      average_return = data['return'].mean()\n",
    "      std_dev_return = data['return'].std()\n",
    "      \n",
    "      # 결과 저장\n",
    "      results.append({\n",
    "          'Code': stock,\n",
    "          'TotalReturn': total_return,\n",
    "          'AvgReturn': average_return,\n",
    "          'Std': std_dev_return\n",
    "      })\n",
    "\n",
    "      # # 결과 출력\n",
    "      # print(f\"종목: {stock}, {month_ago}개월 총 수익률: {total_return:.2f}%, 평균 수익률: {average_return:.2f}%, 표준편차: {std_dev_return:.4f}\")\n",
    "   \n",
    "    return pd.DataFrame(results)\n",
    "  except Exception as e:\n",
    "    print(f\"데이터를 가져오는 중 오류가 발생했습니다: {e}\")\n",
    "    return None\n"
   ]
  },
  {
   "cell_type": "code",
   "execution_count": 21,
   "metadata": {},
   "outputs": [
    {
     "data": {
      "text/html": [
       "<div>\n",
       "<style scoped>\n",
       "    .dataframe tbody tr th:only-of-type {\n",
       "        vertical-align: middle;\n",
       "    }\n",
       "\n",
       "    .dataframe tbody tr th {\n",
       "        vertical-align: top;\n",
       "    }\n",
       "\n",
       "    .dataframe thead th {\n",
       "        text-align: right;\n",
       "    }\n",
       "</style>\n",
       "<table border=\"1\" class=\"dataframe\">\n",
       "  <thead>\n",
       "    <tr style=\"text-align: right;\">\n",
       "      <th></th>\n",
       "      <th>종목</th>\n",
       "      <th>총 수익률</th>\n",
       "      <th>평균 수익률</th>\n",
       "      <th>표준편차</th>\n",
       "    </tr>\n",
       "  </thead>\n",
       "  <tbody>\n",
       "    <tr>\n",
       "      <th>0</th>\n",
       "      <td>005930</td>\n",
       "      <td>-0.922509</td>\n",
       "      <td>-0.152225</td>\n",
       "      <td>1.620596</td>\n",
       "    </tr>\n",
       "    <tr>\n",
       "      <th>1</th>\n",
       "      <td>000660</td>\n",
       "      <td>9.130707</td>\n",
       "      <td>0.425609</td>\n",
       "      <td>2.300046</td>\n",
       "    </tr>\n",
       "    <tr>\n",
       "      <th>2</th>\n",
       "      <td>373220</td>\n",
       "      <td>-8.781127</td>\n",
       "      <td>-0.690052</td>\n",
       "      <td>2.717703</td>\n",
       "    </tr>\n",
       "    <tr>\n",
       "      <th>3</th>\n",
       "      <td>207940</td>\n",
       "      <td>-4.205128</td>\n",
       "      <td>-0.331636</td>\n",
       "      <td>1.389048</td>\n",
       "    </tr>\n",
       "    <tr>\n",
       "      <th>4</th>\n",
       "      <td>005380</td>\n",
       "      <td>-1.601831</td>\n",
       "      <td>-0.071277</td>\n",
       "      <td>2.109992</td>\n",
       "    </tr>\n",
       "  </tbody>\n",
       "</table>\n",
       "</div>"
      ],
      "text/plain": [
       "       종목     총 수익률    평균 수익률      표준편차\n",
       "0  005930 -0.922509 -0.152225  1.620596\n",
       "1  000660  9.130707  0.425609  2.300046\n",
       "2  373220 -8.781127 -0.690052  2.717703\n",
       "3  207940 -4.205128 -0.331636  1.389048\n",
       "4  005380 -1.601831 -0.071277  2.109992"
      ]
     },
     "execution_count": 21,
     "metadata": {},
     "output_type": "execute_result"
    }
   ],
   "source": [
    "# KOSPI 종목들의 수익률\n",
    "\n",
    "kospi_df = return_by_stock(market='KOSPI', month_ago=1)\n",
    "\n",
    "kospi_df.head()"
   ]
  },
  {
   "cell_type": "code",
   "execution_count": 18,
   "metadata": {},
   "outputs": [
    {
     "data": {
      "text/html": [
       "<div>\n",
       "<style scoped>\n",
       "    .dataframe tbody tr th:only-of-type {\n",
       "        vertical-align: middle;\n",
       "    }\n",
       "\n",
       "    .dataframe tbody tr th {\n",
       "        vertical-align: top;\n",
       "    }\n",
       "\n",
       "    .dataframe thead th {\n",
       "        text-align: right;\n",
       "    }\n",
       "</style>\n",
       "<table border=\"1\" class=\"dataframe\">\n",
       "  <thead>\n",
       "    <tr style=\"text-align: right;\">\n",
       "      <th></th>\n",
       "      <th>Code</th>\n",
       "      <th>Name</th>\n",
       "      <th>Volatility</th>\n",
       "      <th>TotalReturn</th>\n",
       "      <th>AvgReturn</th>\n",
       "    </tr>\n",
       "  </thead>\n",
       "  <tbody>\n",
       "    <tr>\n",
       "      <th>0</th>\n",
       "      <td>005930</td>\n",
       "      <td>삼성전자</td>\n",
       "      <td>1.578523</td>\n",
       "      <td>0.186567</td>\n",
       "      <td>-0.036956</td>\n",
       "    </tr>\n",
       "    <tr>\n",
       "      <th>1</th>\n",
       "      <td>000660</td>\n",
       "      <td>SK하이닉스</td>\n",
       "      <td>2.346059</td>\n",
       "      <td>9.886650</td>\n",
       "      <td>0.487213</td>\n",
       "    </tr>\n",
       "    <tr>\n",
       "      <th>2</th>\n",
       "      <td>373220</td>\n",
       "      <td>LG에너지솔루션</td>\n",
       "      <td>2.568578</td>\n",
       "      <td>-11.111111</td>\n",
       "      <td>-0.451771</td>\n",
       "    </tr>\n",
       "    <tr>\n",
       "      <th>3</th>\n",
       "      <td>207940</td>\n",
       "      <td>삼성바이오로직스</td>\n",
       "      <td>1.327286</td>\n",
       "      <td>-3.810505</td>\n",
       "      <td>-0.217512</td>\n",
       "    </tr>\n",
       "    <tr>\n",
       "      <th>4</th>\n",
       "      <td>005380</td>\n",
       "      <td>현대차</td>\n",
       "      <td>2.167478</td>\n",
       "      <td>-0.462963</td>\n",
       "      <td>-0.063012</td>\n",
       "    </tr>\n",
       "  </tbody>\n",
       "</table>\n",
       "</div>"
      ],
      "text/plain": [
       "     Code      Name  Volatility  TotalReturn  AvgReturn\n",
       "0  005930      삼성전자    1.578523     0.186567  -0.036956\n",
       "1  000660    SK하이닉스    2.346059     9.886650   0.487213\n",
       "2  373220  LG에너지솔루션    2.568578   -11.111111  -0.451771\n",
       "3  207940  삼성바이오로직스    1.327286    -3.810505  -0.217512\n",
       "4  005380       현대차    2.167478    -0.462963  -0.063012"
      ]
     },
     "execution_count": 18,
     "metadata": {},
     "output_type": "execute_result"
    }
   ],
   "source": [
    "# 전처리가 끝난 데이터 불러오기\n",
    "\n",
    "kospi_df = pd.read_csv('new_KOSPI_df.csv')\n",
    "kospi_df.head()"
   ]
  },
  {
   "cell_type": "code",
   "execution_count": 31,
   "metadata": {},
   "outputs": [
    {
     "data": {
      "text/html": [
       "<div>\n",
       "<style scoped>\n",
       "    .dataframe tbody tr th:only-of-type {\n",
       "        vertical-align: middle;\n",
       "    }\n",
       "\n",
       "    .dataframe tbody tr th {\n",
       "        vertical-align: top;\n",
       "    }\n",
       "\n",
       "    .dataframe thead th {\n",
       "        text-align: right;\n",
       "    }\n",
       "</style>\n",
       "<table border=\"1\" class=\"dataframe\">\n",
       "  <thead>\n",
       "    <tr style=\"text-align: right;\">\n",
       "      <th></th>\n",
       "      <th>Code</th>\n",
       "      <th>Name</th>\n",
       "      <th>Volatility</th>\n",
       "      <th>TotalReturn</th>\n",
       "      <th>AvgReturn</th>\n",
       "    </tr>\n",
       "  </thead>\n",
       "  <tbody>\n",
       "    <tr>\n",
       "      <th>0</th>\n",
       "      <td>196170</td>\n",
       "      <td>알테오젠</td>\n",
       "      <td>4.780943</td>\n",
       "      <td>-0.331126</td>\n",
       "      <td>0.486394</td>\n",
       "    </tr>\n",
       "    <tr>\n",
       "      <th>1</th>\n",
       "      <td>247540</td>\n",
       "      <td>에코프로비엠</td>\n",
       "      <td>2.686852</td>\n",
       "      <td>-21.454545</td>\n",
       "      <td>-1.140209</td>\n",
       "    </tr>\n",
       "    <tr>\n",
       "      <th>2</th>\n",
       "      <td>028300</td>\n",
       "      <td>HLB</td>\n",
       "      <td>2.654853</td>\n",
       "      <td>-1.540616</td>\n",
       "      <td>-0.077903</td>\n",
       "    </tr>\n",
       "    <tr>\n",
       "      <th>3</th>\n",
       "      <td>086520</td>\n",
       "      <td>에코프로</td>\n",
       "      <td>2.214570</td>\n",
       "      <td>-24.603175</td>\n",
       "      <td>-1.485840</td>\n",
       "    </tr>\n",
       "    <tr>\n",
       "      <th>4</th>\n",
       "      <td>141080</td>\n",
       "      <td>리가켐바이오</td>\n",
       "      <td>4.850454</td>\n",
       "      <td>5.924413</td>\n",
       "      <td>0.543159</td>\n",
       "    </tr>\n",
       "  </tbody>\n",
       "</table>\n",
       "</div>"
      ],
      "text/plain": [
       "     Code    Name  Volatility  TotalReturn  AvgReturn\n",
       "0  196170    알테오젠    4.780943    -0.331126   0.486394\n",
       "1  247540  에코프로비엠    2.686852   -21.454545  -1.140209\n",
       "2  028300     HLB    2.654853    -1.540616  -0.077903\n",
       "3  086520    에코프로    2.214570   -24.603175  -1.485840\n",
       "4  141080  리가켐바이오    4.850454     5.924413   0.543159"
      ]
     },
     "execution_count": 31,
     "metadata": {},
     "output_type": "execute_result"
    }
   ],
   "source": [
    "kosdaq_df = pd.read_csv('new_KOSDAQ_df.csv')\n",
    "kosdaq_df.head()"
   ]
  },
  {
   "cell_type": "code",
   "execution_count": 2,
   "metadata": {},
   "outputs": [],
   "source": [
    "# 종목별 수익률과 편차를 구한 DataFrame에 파생열 'Sector', 'Name' 추가\n",
    "# 현재 이 함수는 잘 작동하나, 구조가 다소 비효율적으로 보임 \n",
    "# 성능개선을 위한 구조변경이 필요\n",
    "# kospi의 Code와 kospi_df의 종목을 기준으로 merge를 해보면 좀더 괜찮을지도?\n",
    "# deprecated : 아래 개선된 함수를 사용하세요.\n",
    "\n",
    "# def add_sector_info(market=str) :\n",
    "#   if market == 'KOSPI' :\n",
    "#     kospi_df = return_by_stock(market=market, month_ago=1)\n",
    "#     kospi_df['Sector'] = None\n",
    "#     kospi_df['Name'] = None\n",
    "  \n",
    "#     for index in range(len(kospi)) : \n",
    "#       code = kospi['Code'][index]\n",
    "#       sector = kospi['Sector'][index]\n",
    "#       name = kospi['Name'][index]\n",
    "      \n",
    "#       if code in kospi_df['Code'].values :\n",
    "#         kospi_df.loc[kospi_df['Code'] == code, 'Sector'] = sector\n",
    "#         kospi_df.loc[kospi_df['Code'] == code, 'Name'] = name\n",
    "        \n",
    "#     return kospi_df          \n",
    "  \n",
    "#   if market == 'KOSDAQ' : \n",
    "#     kosdaq_df = return_by_stock(market=market, month_ago=1)\n",
    "#     kosdaq_df['Sector'] = None\n",
    "#     kosdaq_df['Name'] = None\n",
    "\n",
    "#     for index in range(len(kosdaq)) : \n",
    "#       code = kosdaq['Code'][index]\n",
    "#       sector = kosdaq['Sector'][index]\n",
    "#       name = kosdaq['Name'][index]\n",
    "      \n",
    "#       if code in kosdaq_df['Code'].values :\n",
    "#         kosdaq_df.loc[kosdaq_df['Code'] == code, 'Sector'] = sector\n",
    "#         kosdaq_df.loc[kosdaq_df['Code'] == code, 'Name'] = name   \n",
    "        \n",
    "#     return kosdaq_df  \n",
    "  "
   ]
  },
  {
   "cell_type": "code",
   "execution_count": 37,
   "metadata": {},
   "outputs": [],
   "source": [
    "# 개선된 함수 - 데이터 전처리\n",
    "\n",
    "# 반복문의 사용을 줄이고, 중복 코드를 줄인 형태\n",
    "\n",
    "# merge를 통해 두 df를 결합하였기 때문에, 대량의 데이터 소화시 성능향상이 기대\n",
    "\n",
    "def add_sector_info(*, market=None, local_df=None, local_market=None) :\n",
    "    \n",
    "    if local_df is None and market is None:\n",
    "        raise ValueError(\"market 또는 local_df중 하나는 반드시 제공되어야 합니다.\")\n",
    "    # 종목 데이터 가져오기\n",
    "    elif local_df is not None :\n",
    "        df = local_df  \n",
    "    elif market in ['KOSPI','KOSDAQ'] :\n",
    "        df = return_by_stock(market=market, month_ago=1)\n",
    "    else:\n",
    "        raise ValueError(\" 'KOSPI', 'KOSDAQ' 두 시장만 지원하는 기능입니다.\")  \n",
    "        \n",
    "    # KOSPI 또는 KOSDAQ 데이터프레임 선택\n",
    "    if local_market is not None:\n",
    "        sector_data = kospi if local_market.lower() == 'kospi' else kosdaq if local_market.lower() == 'kosdaq' else None\n",
    "        if sector_data is None:\n",
    "            raise ValueError(\"local_market은 'KOSPI' 또는 'KOSDAQ'이어야 합니다.\")\n",
    "    elif market == 'KOSPI':\n",
    "        sector_data = kospi\n",
    "    elif market == 'KOSDAQ':\n",
    "        sector_data = kosdaq\n",
    "\n",
    "        \n",
    "    # 'Code'를 인덱스로 설정\n",
    "    sector_data = sector_data.set_index('Code')\n",
    "\n",
    "    # 업종과 시가총액, 거래량, 거래대금 추가\n",
    "    # 이 데이터는 현재 날짜 기준\n",
    "    df = df.merge(sector_data[['Sector','Volume','Amount','Marcap']], left_on='Code', right_index=True, how='left')\n",
    "\n",
    "    return df"
   ]
  },
  {
   "cell_type": "code",
   "execution_count": null,
   "metadata": {},
   "outputs": [],
   "source": [
    "avg_return_by_sector('KOSDAQ')"
   ]
  },
  {
   "cell_type": "code",
   "execution_count": 53,
   "metadata": {},
   "outputs": [
    {
     "data": {
      "image/png": "[encoded data removed]",
      "text/plain": [
       "<Figure size 800x2000 with 1 Axes>"
      ]
     },
     "metadata": {},
     "output_type": "display_data"
    }
   ],
   "source": [
    "# KOSPI 업종별 1개월 수익률 평균 시각화\n",
    "# 0을 기준으로 +인 부분과 -인부분의 색을 다르게 하면 좋을거 같음 \n",
    "\n",
    "plt.figure(figsize=(8,20))\n",
    "plt.barh(kospi_sector_return_mean.index, kospi_sector_return_mean['TotalReturn'], color='violet')\n",
    "plt.title('KOSPI 업종별 수익률 평균', fontsize=16)\n",
    "plt.show()"
   ]
  },
  {
   "cell_type": "code",
   "execution_count": 57,
   "metadata": {},
   "outputs": [
    {
     "data": {
      "image/png": "[encoded data removed]",
      "text/plain": [
       "<Figure size 800x2000 with 1 Axes>"
      ]
     },
     "metadata": {},
     "output_type": "display_data"
    }
   ],
   "source": [
    "# KOSDAQ 업종별 1개월 수익률 평균 시각화\n",
    "# 0을 기준으로 +인 부분과 -인부분의 색을 다르게 하면 좋을거 같음 \n",
    "\n",
    "plt.figure(figsize=(8,20))\n",
    "plt.barh(kosdaq_sector_return_mean.index, kosdaq_sector_return_mean['TotalReturn'], color='red')\n",
    "plt.title('KOSPI 업종별 수익률 평균', fontsize=16)\n",
    "plt.show()"
   ]
  },
  {
   "cell_type": "code",
   "execution_count": 9,
   "metadata": {},
   "outputs": [
    {
     "name": "stdout",
     "output_type": "stream",
     "text": [
      "3개월 간의 data를 불러옵니다.\n"
     ]
    },
    {
     "data": {
      "text/plain": [
       "11.77"
      ]
     },
     "execution_count": 9,
     "metadata": {},
     "output_type": "execute_result"
    }
   ],
   "source": [
    "tmp = load_sector_data('KOSPI', month_ago=3)\n",
    "\n",
    "tmp['Volatility'].max()"
   ]
  },
  {
   "cell_type": "code",
   "execution_count": 12,
   "metadata": {},
   "outputs": [
    {
     "data": {
      "text/html": [
       "<div>\n",
       "<style scoped>\n",
       "    .dataframe tbody tr th:only-of-type {\n",
       "        vertical-align: middle;\n",
       "    }\n",
       "\n",
       "    .dataframe tbody tr th {\n",
       "        vertical-align: top;\n",
       "    }\n",
       "\n",
       "    .dataframe thead th {\n",
       "        text-align: right;\n",
       "    }\n",
       "</style>\n",
       "<table border=\"1\" class=\"dataframe\">\n",
       "  <thead>\n",
       "    <tr style=\"text-align: right;\">\n",
       "      <th></th>\n",
       "      <th>Volatility</th>\n",
       "      <th>TotalReturn</th>\n",
       "      <th>AvgReturn</th>\n",
       "      <th>Volume</th>\n",
       "      <th>Amount</th>\n",
       "      <th>Marcap</th>\n",
       "    </tr>\n",
       "  </thead>\n",
       "  <tbody>\n",
       "    <tr>\n",
       "      <th>count</th>\n",
       "      <td>961.000000</td>\n",
       "      <td>961.000000</td>\n",
       "      <td>961.000000</td>\n",
       "      <td>9.610000e+02</td>\n",
       "      <td>9.610000e+02</td>\n",
       "      <td>9.610000e+02</td>\n",
       "    </tr>\n",
       "    <tr>\n",
       "      <th>mean</th>\n",
       "      <td>2.668033</td>\n",
       "      <td>-4.005130</td>\n",
       "      <td>-0.066073</td>\n",
       "      <td>4.240753e+05</td>\n",
       "      <td>8.564069e+09</td>\n",
       "      <td>2.079216e+12</td>\n",
       "    </tr>\n",
       "    <tr>\n",
       "      <th>std</th>\n",
       "      <td>1.641230</td>\n",
       "      <td>23.352213</td>\n",
       "      <td>0.363349</td>\n",
       "      <td>2.612789e+06</td>\n",
       "      <td>4.635723e+10</td>\n",
       "      <td>1.249500e+13</td>\n",
       "    </tr>\n",
       "    <tr>\n",
       "      <th>min</th>\n",
       "      <td>0.000000</td>\n",
       "      <td>-90.600000</td>\n",
       "      <td>-2.239843</td>\n",
       "      <td>0.000000e+00</td>\n",
       "      <td>0.000000e+00</td>\n",
       "      <td>2.598216e+09</td>\n",
       "    </tr>\n",
       "    <tr>\n",
       "      <th>25%</th>\n",
       "      <td>1.640000</td>\n",
       "      <td>-13.630000</td>\n",
       "      <td>-0.227544</td>\n",
       "      <td>1.120200e+04</td>\n",
       "      <td>9.631254e+07</td>\n",
       "      <td>7.721987e+10</td>\n",
       "    </tr>\n",
       "    <tr>\n",
       "      <th>50%</th>\n",
       "      <td>2.310000</td>\n",
       "      <td>-6.580000</td>\n",
       "      <td>-0.090633</td>\n",
       "      <td>5.555000e+04</td>\n",
       "      <td>3.923429e+08</td>\n",
       "      <td>1.961254e+11</td>\n",
       "    </tr>\n",
       "    <tr>\n",
       "      <th>75%</th>\n",
       "      <td>3.260000</td>\n",
       "      <td>0.670000</td>\n",
       "      <td>0.039373</td>\n",
       "      <td>2.145840e+05</td>\n",
       "      <td>2.470671e+09</td>\n",
       "      <td>7.200931e+11</td>\n",
       "    </tr>\n",
       "    <tr>\n",
       "      <th>max</th>\n",
       "      <td>11.770000</td>\n",
       "      <td>290.220000</td>\n",
       "      <td>2.844218</td>\n",
       "      <td>6.669256e+07</td>\n",
       "      <td>1.047542e+12</td>\n",
       "      <td>3.247562e+14</td>\n",
       "    </tr>\n",
       "  </tbody>\n",
       "</table>\n",
       "</div>"
      ],
      "text/plain": [
       "       Volatility  TotalReturn   AvgReturn        Volume        Amount  \\\n",
       "count  961.000000   961.000000  961.000000  9.610000e+02  9.610000e+02   \n",
       "mean     2.668033    -4.005130   -0.066073  4.240753e+05  8.564069e+09   \n",
       "std      1.641230    23.352213    0.363349  2.612789e+06  4.635723e+10   \n",
       "min      0.000000   -90.600000   -2.239843  0.000000e+00  0.000000e+00   \n",
       "25%      1.640000   -13.630000   -0.227544  1.120200e+04  9.631254e+07   \n",
       "50%      2.310000    -6.580000   -0.090633  5.555000e+04  3.923429e+08   \n",
       "75%      3.260000     0.670000    0.039373  2.145840e+05  2.470671e+09   \n",
       "max     11.770000   290.220000    2.844218  6.669256e+07  1.047542e+12   \n",
       "\n",
       "             Marcap  \n",
       "count  9.610000e+02  \n",
       "mean   2.079216e+12  \n",
       "std    1.249500e+13  \n",
       "min    2.598216e+09  \n",
       "25%    7.721987e+10  \n",
       "50%    1.961254e+11  \n",
       "75%    7.200931e+11  \n",
       "max    3.247562e+14  "
      ]
     },
     "execution_count": 12,
     "metadata": {},
     "output_type": "execute_result"
    }
   ],
   "source": [
    "tmp.describe()"
   ]
  },
  {
   "cell_type": "code",
   "execution_count": 10,
   "metadata": {},
   "outputs": [
    {
     "data": {
      "text/plain": [
       "0.0"
      ]
     },
     "execution_count": 10,
     "metadata": {},
     "output_type": "execute_result"
    }
   ],
   "source": [
    "tmp['Volatility'].min()"
   ]
  },
  {
   "cell_type": "code",
   "execution_count": 30,
   "metadata": {},
   "outputs": [
    {
     "data": {
      "text/plain": [
       "array([ 2.27,  2.92,  3.08,  1.98,  2.08,  2.15,  2.17,  2.2 ,  2.74,\n",
       "        2.07,  3.83,  2.42,  2.07,  2.79,  2.17,  1.67,  9.45,  2.59,\n",
       "        3.29,  2.8 ,  3.21,  2.83,  2.93,  3.88,  2.22,  2.25,  2.59,\n",
       "        2.81,  3.45,  1.87,  3.11,  2.13,  1.37,  3.21,  1.66,  4.71,\n",
       "        1.31,  3.52,  3.71,  1.75,  2.22,  2.32,  2.63,  2.72,  2.14,\n",
       "        1.94,  3.1 ,  2.35,  3.93,  1.79,  2.98,  2.56,  3.28,  2.59,\n",
       "        3.45,  2.11,  2.  ,  2.62,  3.98,  3.37,  1.69,  3.4 ,  2.71,\n",
       "        3.89,  3.08,  0.97,  2.61,  2.25,  2.3 ,  2.06,  4.28,  2.68,\n",
       "        4.31,  2.  ,  1.44,  2.82,  4.7 ,  1.58,  1.55,  4.41,  2.88,\n",
       "        4.81,  3.35,  1.73,  2.05,  3.47,  3.98,  2.07,  2.61,  2.28,\n",
       "        1.49,  4.79,  1.3 ,  3.1 ,  3.19,  3.98,  1.63,  2.17,  2.23,\n",
       "        3.99,  3.35,  3.61,  3.36,  2.29,  4.12,  2.75,  1.86,  2.83,\n",
       "        2.89,  6.1 ,  3.96,  3.3 ,  1.77,  2.43,  3.35,  1.91,  2.55,\n",
       "        1.75,  3.07,  1.85,  2.44,  2.36,  2.05,  4.63,  3.1 ,  5.21,\n",
       "        2.28,  3.94,  2.45,  6.38,  3.02,  3.27,  2.13,  1.39,  2.  ,\n",
       "        3.65,  3.6 ,  3.39,  2.26,  1.7 ,  3.87,  6.86,  2.06,  2.01,\n",
       "        2.92,  3.43,  5.63,  3.83,  2.85,  1.48,  1.51,  2.45,  3.42,\n",
       "        2.01,  2.1 ,  3.05,  2.79,  3.18,  1.89,  2.28,  1.47,  4.16,\n",
       "        2.35,  1.46,  2.78,  2.89,  2.23,  2.86,  5.93,  1.83,  3.26,\n",
       "        2.09,  1.32,  2.91,  1.92,  3.14,  2.84,  2.24,  2.97,  1.98,\n",
       "        3.05,  3.11,  1.83,  3.65,  1.79,  3.7 ,  3.73,  1.6 ,  2.2 ,\n",
       "        1.68,  2.31,  2.15,  2.08,  1.86,  2.51,  1.74,  2.29,  4.26,\n",
       "        2.37,  3.15,  3.05,  5.11,  0.86,  1.9 ,  3.69,  1.2 ,  2.23,\n",
       "        4.74,  2.43,  1.15,  1.67,  2.3 ,  1.81,  2.47,  1.72,  1.54,\n",
       "        1.91,  3.54,  3.26,  3.51,  1.23,  2.41,  1.15,  1.71,  2.57,\n",
       "        3.37,  2.27,  2.65,  4.53,  3.92,  1.22,  2.8 ,  2.15,  2.31,\n",
       "        3.37,  1.08,  3.19,  2.98,  1.66,  1.86,  1.87,  1.89,  1.58,\n",
       "        2.1 ,  4.6 ,  3.73,  1.25,  2.33,  3.94,  2.32,  1.83,  1.82,\n",
       "        2.34,  3.84,  4.22,  1.22,  2.37,  2.61,  1.32,  2.1 ,  0.  ,\n",
       "        2.58,  3.08,  2.63,  9.51,  3.75,  2.53,  2.44,  2.8 ,  2.1 ,\n",
       "        1.1 ,  4.16,  1.38,  1.78,  1.35,  1.86,  4.39,  2.43,  2.43,\n",
       "        5.91,  1.99,  2.34,  1.39,  3.35,  2.22,  2.8 ,  3.8 ,  1.68,\n",
       "        2.52,  2.92,  1.37,  6.69,  4.37,  1.51,  3.84,  2.54,  1.37,\n",
       "        2.72,  3.38,  0.94,  3.01,  3.64,  1.28,  1.42,  1.45,  7.04,\n",
       "        3.39,  2.94,  3.83,  2.19,  2.38,  1.29,  1.3 ,  1.84,  1.28,\n",
       "        4.6 ,  5.53,  1.63,  3.82,  3.76,  1.58,  1.89,  3.  ,  4.84,\n",
       "        5.07,  3.4 ,  2.15,  1.11,  5.86,  2.75,  1.57,  3.36,  2.57,\n",
       "        2.47,  1.51,  1.17,  1.63,  0.77,  2.27,  2.25,  1.2 ,  1.59,\n",
       "        6.66,  2.32,  1.92,  1.18,  2.09,  1.88,  3.49,  2.26,  0.99,\n",
       "        1.38,  1.35,  1.62,  2.32,  2.88,  1.89,  0.  ,  0.94,  3.1 ,\n",
       "        1.36,  2.61,  2.62,  1.71,  1.71,  1.1 ,  2.14,  3.85,  2.7 ,\n",
       "        1.3 ,  2.28,  2.4 ,  2.28,  1.24,  1.72,  2.08,  2.81,  1.49,\n",
       "        1.81,  4.61,  1.55,  2.48,  2.35,  1.77,  1.02,  1.01,  3.08,\n",
       "        1.74,  2.04,  2.96,  1.42,  1.33,  1.4 ,  3.16,  0.93,  1.93,\n",
       "        3.23,  1.89,  0.8 ,  0.83,  1.88,  1.85,  2.84,  2.46,  2.91,\n",
       "        1.46,  4.35,  2.46,  0.91,  2.22,  2.79,  1.01,  1.66,  0.84,\n",
       "        2.91,  1.63,  2.46,  3.26,  3.4 ,  3.34,  1.68,  2.03,  4.09,\n",
       "        1.63,  1.06,  1.55,  1.17,  2.46,  5.04,  8.14,  2.12,  2.05,\n",
       "        1.96,  2.77,  0.81,  0.86,  0.93,  5.16,  1.55,  0.65,  1.66,\n",
       "        2.07,  3.13, 10.54,  2.77,  2.88,  1.48,  1.58,  1.27,  1.75,\n",
       "        1.04,  2.56,  2.33,  1.92,  1.77,  1.92,  1.29,  3.32,  0.  ,\n",
       "        1.1 ,  1.26,  1.4 , 10.94,  3.78,  4.12,  1.17,  5.54,  2.38,\n",
       "        1.14,  3.39, 10.12,  1.23,  2.31,  1.37,  5.58,  1.72,  2.53,\n",
       "        1.39,  1.3 ,  2.6 ,  1.91,  4.07,  5.31,  1.36,  1.61,  3.08,\n",
       "        4.26,  2.47,  2.12,  1.56,  1.54,  3.49,  1.88,  1.37,  3.05,\n",
       "        1.68,  2.68,  1.64,  1.75,  1.22,  1.85,  0.97,  6.67,  0.63,\n",
       "        3.22,  2.35,  2.78,  3.17,  1.47,  1.02,  1.35,  2.29,  3.2 ,\n",
       "        1.41,  2.34,  8.52,  0.89,  2.55,  1.34,  1.  ,  2.64,  5.1 ,\n",
       "        2.47,  4.14,  1.15,  2.84,  6.7 ,  1.29,  2.06,  4.06,  1.61,\n",
       "        5.39,  3.2 ,  2.19,  2.  ,  4.76,  9.28,  2.84,  2.52,  6.81,\n",
       "        1.41,  2.11,  2.51,  1.5 ,  2.18,  0.  ,  0.  ,  3.92,  3.74,\n",
       "        1.6 ,  3.16,  5.62,  3.6 ,  4.28,  2.01,  2.59,  1.12,  2.68,\n",
       "        3.54,  2.33,  2.11,  4.04,  2.33,  0.78,  2.02,  1.07,  1.43,\n",
       "        1.49,  1.8 ,  0.85,  4.02,  3.47,  0.76,  2.88,  1.94,  0.99,\n",
       "        2.97,  0.1 ,  0.82,  3.34,  0.75,  1.96,  2.28,  2.37,  0.17,\n",
       "        1.82,  2.89,  4.06,  2.95,  5.3 ,  2.31,  2.13,  3.66,  1.94,\n",
       "        1.1 ,  1.5 ,  1.06,  2.79,  2.5 ,  2.41,  1.97,  0.  ,  2.92,\n",
       "        3.3 ,  3.42,  1.9 ,  1.93,  0.84,  3.11,  1.58,  2.44,  2.48,\n",
       "        0.89,  1.98,  2.52,  1.05,  4.17,  2.11,  2.5 ,  2.86,  1.64,\n",
       "        8.27,  2.04,  0.  ,  2.41,  3.19,  3.14,  1.7 ,  1.36,  2.8 ,\n",
       "        4.9 ,  1.99,  1.01,  2.06,  1.13,  0.86,  3.14,  1.75,  1.86,\n",
       "        3.32,  4.53,  4.64,  0.52,  1.32,  2.78,  1.12,  3.36,  2.62,\n",
       "        3.02,  1.45,  2.04,  3.37,  0.82,  0.75,  1.9 ,  1.63,  2.53,\n",
       "        1.66,  1.52,  2.74,  1.2 ,  2.07,  1.2 ,  1.82,  2.75,  2.49,\n",
       "        1.27,  2.83,  2.4 ,  2.82,  2.12,  6.56,  3.29,  1.34,  1.99,\n",
       "        1.1 ,  0.  ,  2.07,  0.83,  1.88,  9.8 ,  2.63,  1.54,  1.66,\n",
       "        1.86,  2.45,  3.22,  2.41,  9.43,  6.32,  5.82,  0.91,  1.51,\n",
       "        2.44,  2.09,  3.92,  0.59,  1.34,  1.76,  2.58,  1.13,  6.26,\n",
       "        1.68,  5.51,  1.29,  5.73,  2.21,  7.54,  1.24,  2.2 ,  4.13,\n",
       "        7.11,  2.18,  3.64,  6.11,  2.3 ,  1.82,  1.16,  4.52,  1.88,\n",
       "        2.99,  1.3 ,  5.19,  2.43,  2.89,  2.72,  2.54,  1.18,  4.05,\n",
       "        3.04, 11.77,  1.86,  1.44,  4.31,  2.5 ,  7.49, 11.14,  0.  ,\n",
       "        1.13,  2.25,  5.15,  3.16,  1.32,  6.63,  5.66,  0.  ,  2.53,\n",
       "        5.21,  1.03,  0.46,  2.07,  3.11,  2.56,  1.55,  2.86,  1.88,\n",
       "        0.  ,  1.18,  1.78,  2.26,  1.31,  1.87,  2.45,  2.98,  6.4 ,\n",
       "        2.15,  4.43,  1.73,  2.55,  2.38,  4.31,  1.66,  5.79,  3.27,\n",
       "        1.52,  4.21,  2.68,  2.7 ,  3.57,  5.7 ,  1.42,  1.64,  1.81,\n",
       "        4.16,  0.99,  3.46,  1.52,  2.62,  5.05,  2.36,  2.14,  4.36,\n",
       "        3.72,  1.55,  0.  ,  2.27,  2.11,  1.43,  6.93,  1.08,  2.84,\n",
       "        1.4 ,  0.79,  1.69,  3.43,  0.68,  3.31,  0.  ,  1.8 ,  1.06,\n",
       "        3.96,  1.98,  1.21,  2.85,  1.68,  1.  ,  1.48,  1.86,  2.13,\n",
       "        2.6 ,  1.83,  3.4 ,  1.37,  3.36,  2.07,  3.09,  1.57,  1.36,\n",
       "        5.84,  1.95,  2.12,  1.03,  5.72,  1.82,  1.81,  2.3 ,  2.62,\n",
       "        5.08,  4.38,  1.49,  2.34,  2.68,  2.53,  1.22,  2.43,  2.45,\n",
       "        5.3 ,  0.  ,  5.37,  1.01,  4.78,  2.45,  1.86,  4.93,  1.79,\n",
       "        5.57,  1.71,  2.37,  2.6 ,  1.46,  0.  ,  1.44,  4.16,  3.49,\n",
       "        1.99,  1.75,  2.98,  1.66,  1.53,  2.32,  2.11,  2.81,  3.41,\n",
       "        1.61,  1.21,  1.53,  0.58,  1.96,  2.82,  4.4 ,  2.74,  3.37,\n",
       "        3.07,  2.87,  0.98,  1.99,  2.12,  3.59,  1.97,  0.  ,  1.34,\n",
       "        6.3 ,  3.29,  0.92,  4.58,  1.7 ,  2.19,  1.22,  1.24,  5.43,\n",
       "        2.19,  4.31,  3.77,  8.95,  1.56,  0.82,  6.73,  2.27,  2.09,\n",
       "        1.98,  2.76,  1.29,  2.02,  1.19,  6.62,  0.  ,  1.32,  5.86,\n",
       "        3.49,  2.31,  1.73,  1.32,  6.3 ,  1.31,  8.64,  0.75,  0.84,\n",
       "        8.  ,  5.01,  2.46,  1.62,  1.87,  1.08,  1.01,  3.51,  1.91,\n",
       "        1.91,  1.79,  2.12,  0.87,  2.13,  6.26,  5.48,  1.72,  5.27,\n",
       "        1.65,  5.71,  6.43,  2.74,  2.51,  7.81,  2.65, 11.02,  4.52,\n",
       "        4.28,  3.21,  4.48,  4.44,  4.34,  4.54,  3.62])"
      ]
     },
     "execution_count": 30,
     "metadata": {},
     "output_type": "execute_result"
    }
   ],
   "source": [
    "tmp['Volatility'].values"
   ]
  },
  {
   "cell_type": "code",
   "execution_count": 27,
   "metadata": {},
   "outputs": [
    {
     "data": {
      "text/plain": [
       "numpy.float64"
      ]
     },
     "execution_count": 27,
     "metadata": {},
     "output_type": "execute_result"
    }
   ],
   "source": [
    "quantile = tmp['Volatility'].quantile([0.25, 0.5, 0.75])\n",
    "\n",
    "\n",
    "type(quantile[0.25])"
   ]
  },
  {
   "cell_type": "code",
   "execution_count": null,
   "metadata": {},
   "outputs": [],
   "source": [
    "tmp2 = load_sector_data('KOSPI', month_ago=3)"
   ]
  },
  {
   "cell_type": "code",
   "execution_count": 16,
   "metadata": {},
   "outputs": [
    {
     "data": {
      "text/html": [
       "<div>\n",
       "<style scoped>\n",
       "    .dataframe tbody tr th:only-of-type {\n",
       "        vertical-align: middle;\n",
       "    }\n",
       "\n",
       "    .dataframe tbody tr th {\n",
       "        vertical-align: top;\n",
       "    }\n",
       "\n",
       "    .dataframe thead th {\n",
       "        text-align: right;\n",
       "    }\n",
       "</style>\n",
       "<table border=\"1\" class=\"dataframe\">\n",
       "  <thead>\n",
       "    <tr style=\"text-align: right;\">\n",
       "      <th></th>\n",
       "      <th>Volatility</th>\n",
       "      <th>TotalReturn</th>\n",
       "      <th>AvgReturn</th>\n",
       "      <th>Volume</th>\n",
       "      <th>Amount</th>\n",
       "      <th>Marcap</th>\n",
       "    </tr>\n",
       "  </thead>\n",
       "  <tbody>\n",
       "    <tr>\n",
       "      <th>Volatility</th>\n",
       "      <td>1.000000</td>\n",
       "      <td>0.359845</td>\n",
       "      <td>0.382867</td>\n",
       "      <td>0.328090</td>\n",
       "      <td>0.113148</td>\n",
       "      <td>-0.001114</td>\n",
       "    </tr>\n",
       "    <tr>\n",
       "      <th>TotalReturn</th>\n",
       "      <td>0.359845</td>\n",
       "      <td>1.000000</td>\n",
       "      <td>0.938610</td>\n",
       "      <td>0.475092</td>\n",
       "      <td>0.084901</td>\n",
       "      <td>0.004212</td>\n",
       "    </tr>\n",
       "    <tr>\n",
       "      <th>AvgReturn</th>\n",
       "      <td>0.382867</td>\n",
       "      <td>0.938610</td>\n",
       "      <td>1.000000</td>\n",
       "      <td>0.358464</td>\n",
       "      <td>0.075920</td>\n",
       "      <td>0.006217</td>\n",
       "    </tr>\n",
       "    <tr>\n",
       "      <th>Volume</th>\n",
       "      <td>0.328090</td>\n",
       "      <td>0.475092</td>\n",
       "      <td>0.358464</td>\n",
       "      <td>1.000000</td>\n",
       "      <td>0.350239</td>\n",
       "      <td>0.218321</td>\n",
       "    </tr>\n",
       "    <tr>\n",
       "      <th>Amount</th>\n",
       "      <td>0.113148</td>\n",
       "      <td>0.084901</td>\n",
       "      <td>0.075920</td>\n",
       "      <td>0.350239</td>\n",
       "      <td>1.000000</td>\n",
       "      <td>0.888959</td>\n",
       "    </tr>\n",
       "    <tr>\n",
       "      <th>Marcap</th>\n",
       "      <td>-0.001114</td>\n",
       "      <td>0.004212</td>\n",
       "      <td>0.006217</td>\n",
       "      <td>0.218321</td>\n",
       "      <td>0.888959</td>\n",
       "      <td>1.000000</td>\n",
       "    </tr>\n",
       "  </tbody>\n",
       "</table>\n",
       "</div>"
      ],
      "text/plain": [
       "             Volatility  TotalReturn  AvgReturn    Volume    Amount    Marcap\n",
       "Volatility     1.000000     0.359845   0.382867  0.328090  0.113148 -0.001114\n",
       "TotalReturn    0.359845     1.000000   0.938610  0.475092  0.084901  0.004212\n",
       "AvgReturn      0.382867     0.938610   1.000000  0.358464  0.075920  0.006217\n",
       "Volume         0.328090     0.475092   0.358464  1.000000  0.350239  0.218321\n",
       "Amount         0.113148     0.084901   0.075920  0.350239  1.000000  0.888959\n",
       "Marcap        -0.001114     0.004212   0.006217  0.218321  0.888959  1.000000"
      ]
     },
     "execution_count": 16,
     "metadata": {},
     "output_type": "execute_result"
    }
   ],
   "source": [
    "tmp.select_dtypes(np.number).corr()\n",
    "\n"
   ]
  }
 ],
 "metadata": {
  "kernelspec": {
   "display_name": "base",
   "language": "python",
   "name": "python3"
  },
  "language_info": {
   "codemirror_mode": {
    "name": "ipython",
    "version": 3
   },
   "file_extension": ".py",
   "mimetype": "text/x-python",
   "name": "python",
   "nbconvert_exporter": "python",
   "pygments_lexer": "ipython3",
   "version": "3.12.7"
  }
 },
 "nbformat": 4,
 "nbformat_minor": 2
}
