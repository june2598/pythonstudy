{
 "cells": [
  {
   "cell_type": "code",
   "execution_count": 1,
   "metadata": {},
   "outputs": [],
   "source": [
    "import pandas as pd"
   ]
  },
  {
   "cell_type": "code",
   "execution_count": 3,
   "metadata": {},
   "outputs": [],
   "source": [
    "from tqdm import tqdm\n",
    "tqdm.pandas()"
   ]
  },
  {
   "cell_type": "code",
   "execution_count": 1,
   "metadata": {},
   "outputs": [],
   "source": [
    "from konlpy.tag import Okt"
   ]
  },
  {
   "cell_type": "code",
   "execution_count": 2,
   "metadata": {},
   "outputs": [],
   "source": [
    "okt = Okt()"
   ]
  },
  {
   "cell_type": "code",
   "execution_count": 2,
   "metadata": {},
   "outputs": [],
   "source": [
    "community_df = pd.read_csv('toss_crawling_1m.csv')"
   ]
  },
  {
   "cell_type": "code",
   "execution_count": 6,
   "metadata": {},
   "outputs": [
    {
     "name": "stdout",
     "output_type": "stream",
     "text": [
      "<class 'pandas.core.frame.DataFrame'>\n",
      "RangeIndex: 81072 entries, 0 to 81071\n",
      "Data columns (total 4 columns):\n",
      " #   Column  Non-Null Count  Dtype \n",
      "---  ------  --------------  ----- \n",
      " 0   닉네임     81072 non-null  object\n",
      " 1   날짜      81072 non-null  object\n",
      " 2   내용      81072 non-null  object\n",
      " 3   종목      81072 non-null  object\n",
      "dtypes: object(4)\n",
      "memory usage: 2.5+ MB\n"
     ]
    }
   ],
   "source": [
    "community_df.info()"
   ]
  },
  {
   "cell_type": "code",
   "execution_count": 7,
   "metadata": {},
   "outputs": [
    {
     "name": "stdout",
     "output_type": "stream",
     "text": [
      "\u001b[1;31mType:\u001b[0m        Okt\n",
      "\u001b[1;31mString form:\u001b[0m <konlpy.tag._okt.Okt object at 0x00000118C98D6960>\n",
      "\u001b[1;31mFile:\u001b[0m        d:\\kdt\\anaconda3\\lib\\site-packages\\konlpy\\tag\\_okt.py\n",
      "\u001b[1;31mDocstring:\u001b[0m  \n",
      "Wrapper for `Open Korean Text <https://github.com/open-korean-text/open-korean-text>`_.\n",
      "\n",
      "Open Korean Text is an open source Korean tokenizer written in Scala,\n",
      "developed by Will Hohyon Ryu.\n",
      "\n",
      ".. code-block:: python\n",
      "\n",
      "    >>> from konlpy.tag import Okt\n",
      "    >>> okt = Okt()\n",
      "    >>> print(okt.morphs(u'단독입찰보다 복수입찰의 경우'))\n",
      "    ['단독', '입찰', '보다', '복수', '입찰', '의', '경우']\n",
      "    >>> print(okt.nouns(u'유일하게 항공기 체계 종합개발 경험을 갖고 있는 KAI는'))\n",
      "    ['항공기', '체계', '종합', '개발', '경험']\n",
      "    >>> print(okt.phrases(u'날카로운 분석과 신뢰감 있는 진행으로'))\n",
      "    ['날카로운 분석', '날카로운 분석과 신뢰감', '날카로운 분석과 신뢰감 있는 진행', '분석', '신뢰', '진행']\n",
      "    >>> print(okt.pos(u'이것도 되나욬ㅋㅋ'))\n",
      "    [('이', 'Determiner'), ('것', 'Noun'), ('도', 'Josa'), ('되나욬', 'Noun'), ('ㅋㅋ', 'KoreanParticle')]\n",
      "    >>> print(okt.pos(u'이것도 되나욬ㅋㅋ', norm=True))\n",
      "    [('이', 'Determiner'), ('것', 'Noun'), ('도', 'Josa'), ('되나요', 'Verb'), ('ㅋㅋ', 'KoreanParticle')]\n",
      "    >>> print(okt.pos(u'이것도 되나욬ㅋㅋ', norm=True, stem=True))\n",
      "    [('이', 'Determiner'), ('것', 'Noun'), ('도', 'Josa'), ('되다', 'Verb'), ('ㅋㅋ', 'KoreanParticle')]\n",
      "\n",
      ":param jvmpath: The path of the JVM passed to :py:func:`.init_jvm`.\n",
      ":param max_heap_size: Maximum memory usage limitation (Megabyte) :py:func:`.init_jvm`."
     ]
    }
   ],
   "source": [
    "okt?"
   ]
  },
  {
   "cell_type": "code",
   "execution_count": 13,
   "metadata": {},
   "outputs": [
    {
     "name": "stdout",
     "output_type": "stream",
     "text": [
      "[('-', 'Punctuation'), ('디자인', 'Noun'), ('변화', 'Noun'), (':', 'Punctuation'), ('S', 'Alpha'), ('25', 'Number'), ('울트라', 'Noun'), ('는', 'Josa'), ('기존', 'Noun'), ('의', 'Josa'), ('각', 'Modifier'), ('진', 'Noun'), ('디자인', 'Noun'), ('에서', 'Josa'), ('둥근', 'Adjective'), ('모서리', 'Noun'), ('로', 'Josa'), ('변경', 'Noun'), ('되었으며', 'Verb'), (',', 'Punctuation'), ('카메라', 'Noun'), ('모듈', 'Noun'), ('디자인', 'Noun'), ('에도', 'Josa'), ('변화', 'Noun'), ('가', 'Josa'), ('있습니다', 'Adjective'), ('.', 'Punctuation'), ('S', 'Alpha'), ('25', 'Number'), ('와', 'Verb'), ('S', 'Alpha'), ('25', 'Number'), ('플러스', 'Noun'), ('는', 'Josa'), ('외관', 'Noun'), ('상', 'Suffix'), ('크기', 'Noun'), ('차이', 'Noun'), ('외', 'Noun'), ('에는', 'Josa'), ('거의', 'Noun'), ('동일한', 'Adjective'), ('디자인', 'Noun'), ('으로', 'Josa'), ('보입니다', 'Verb'), ('.', 'Punctuation'), ('\\n\\n', 'Foreign'), ('-', 'Punctuation'), ('프로세서', 'Noun'), (':', 'Punctuation'), ('전', 'Noun'), ('모델', 'Noun'), ('갤럭시', 'Noun'), ('용', 'Noun'), ('퀄컴', 'Noun'), ('스냅드래곤', 'Noun'), ('8', 'Number'), ('엘리트', 'Noun'), ('칩셋', 'Noun'), ('탑재', 'Noun'), ('\\n\\n', 'Foreign'), ('-', 'Punctuation'), ('기본', 'Noun'), ('RAM', 'Alpha'), ('용량', 'Noun'), ('증가', 'Noun'), (':', 'Punctuation'), ('전', 'Noun'), ('모델', 'Noun'), ('기본', 'Noun'), ('12', 'Number'), ('GB', 'Alpha'), ('RAM', 'Alpha'), ('탑재', 'Noun'), ('(', 'Punctuation'), ('울트라', 'Noun'), ('모델', 'Noun'), ('은', 'Josa'), ('일부', 'Noun'), ('지역', 'Noun'), ('에서', 'Josa'), ('16', 'Number'), ('GB', 'Alpha'), ('RAM', 'Alpha'), ('탑재', 'Noun'), ('가능성', 'Noun'), ('있음', 'Adjective'), (')', 'Punctuation'), ('\\n\\n', 'Foreign'), ('-', 'Punctuation'), ('One', 'Alpha'), ('UI', 'Alpha'), ('7', 'Number'), ('및', 'Noun'), ('Android', 'Alpha'), ('15', 'Number'), (':', 'Punctuation'), ('최신', 'Noun'), ('운영체제', 'Noun'), ('및', 'Noun'), ('사용자', 'Noun'), ('인터페이스', 'Noun'), ('탑재', 'Noun'), ('\\n\\n', 'Foreign'), ('-', 'Punctuation'), ('통신', 'Noun'), (':', 'Punctuation'), ('Wi', 'Alpha'), ('-', 'Punctuation'), ('Fi', 'Alpha'), ('7', 'Number'), ('및', 'Noun'), ('Bluetooth', 'Alpha'), ('5.3', 'Number'), ('지원', 'Noun'), ('\\n\\n', 'Foreign'), ('https://m.blog.naver.com/grok_newsfeed/223722891228', 'URL')]\n"
     ]
    }
   ],
   "source": [
    "print(okt.pos(community_df.head(1)['내용'].values[0]))"
   ]
  },
  {
   "cell_type": "code",
   "execution_count": 14,
   "metadata": {},
   "outputs": [],
   "source": [
    "contents = community_df['내용']"
   ]
  },
  {
   "cell_type": "code",
   "execution_count": 36,
   "metadata": {},
   "outputs": [
    {
     "data": {
      "text/html": [
       "<div>\n",
       "<style scoped>\n",
       "    .dataframe tbody tr th:only-of-type {\n",
       "        vertical-align: middle;\n",
       "    }\n",
       "\n",
       "    .dataframe tbody tr th {\n",
       "        vertical-align: top;\n",
       "    }\n",
       "\n",
       "    .dataframe thead th {\n",
       "        text-align: right;\n",
       "    }\n",
       "</style>\n",
       "<table border=\"1\" class=\"dataframe\">\n",
       "  <thead>\n",
       "    <tr style=\"text-align: right;\">\n",
       "      <th></th>\n",
       "      <th>닉네임</th>\n",
       "      <th>날짜</th>\n",
       "      <th>내용</th>\n",
       "      <th>종목</th>\n",
       "    </tr>\n",
       "  </thead>\n",
       "  <tbody>\n",
       "    <tr>\n",
       "      <th>count</th>\n",
       "      <td>81072</td>\n",
       "      <td>81072</td>\n",
       "      <td>81072</td>\n",
       "      <td>81072</td>\n",
       "    </tr>\n",
       "    <tr>\n",
       "      <th>unique</th>\n",
       "      <td>24593</td>\n",
       "      <td>75710</td>\n",
       "      <td>74750</td>\n",
       "      <td>537</td>\n",
       "    </tr>\n",
       "    <tr>\n",
       "      <th>top</th>\n",
       "      <td>특징주알리미</td>\n",
       "      <td>2025-01-02T10:22:42+09:00</td>\n",
       "      <td>.</td>\n",
       "      <td>5930</td>\n",
       "    </tr>\n",
       "    <tr>\n",
       "      <th>freq</th>\n",
       "      <td>306</td>\n",
       "      <td>5</td>\n",
       "      <td>260</td>\n",
       "      <td>10263</td>\n",
       "    </tr>\n",
       "  </tbody>\n",
       "</table>\n",
       "</div>"
      ],
      "text/plain": [
       "           닉네임                         날짜     내용     종목\n",
       "count    81072                      81072  81072  81072\n",
       "unique   24593                      75710  74750    537\n",
       "top     특징주알리미  2025-01-02T10:22:42+09:00      .   5930\n",
       "freq       306                          5    260  10263"
      ]
     },
     "execution_count": 36,
     "metadata": {},
     "output_type": "execute_result"
    }
   ],
   "source": [
    "community_df.describe()"
   ]
  },
  {
   "cell_type": "code",
   "execution_count": 37,
   "metadata": {},
   "outputs": [
    {
     "name": "stdout",
     "output_type": "stream",
     "text": [
      "<class 'pandas.core.frame.DataFrame'>\n",
      "RangeIndex: 81072 entries, 0 to 81071\n",
      "Data columns (total 4 columns):\n",
      " #   Column  Non-Null Count  Dtype \n",
      "---  ------  --------------  ----- \n",
      " 0   닉네임     81072 non-null  object\n",
      " 1   날짜      81072 non-null  object\n",
      " 2   내용      81072 non-null  object\n",
      " 3   종목      81072 non-null  object\n",
      "dtypes: object(4)\n",
      "memory usage: 2.5+ MB\n"
     ]
    }
   ],
   "source": [
    "community_df.info()"
   ]
  },
  {
   "cell_type": "code",
   "execution_count": 39,
   "metadata": {},
   "outputs": [
    {
     "data": {
      "text/plain": [
       "0"
      ]
     },
     "execution_count": 39,
     "metadata": {},
     "output_type": "execute_result"
    }
   ],
   "source": [
    "community_df['내용'].isna().sum()"
   ]
  },
  {
   "cell_type": "code",
   "execution_count": 15,
   "metadata": {},
   "outputs": [
    {
     "data": {
      "text/plain": [
       "0        - 디자인 변화: S25 울트라는 기존의 각진 디자인에서 둥근 모서리로 변경되었으며...\n",
       "1        7만원 8만원에 물려있는게 대부분이라 7만원까지 혹여 올라도 물려있던분들은 원금 회...\n",
       "2        분할매수하기에 좋은 타점이지만.. 얘는 너무느리고 오래걸린다 얘를살바에 살게 너무많...\n",
       "3                                               존버하면 오르겠죠?\n",
       "4                            오를 겁니다. 제가 오늘 열심히 일하고 퇴근했습니다.\n",
       "                               ...                        \n",
       "81067                                연저펀 모으고있는데\\n너무 좋네요 ㅎㅎ\n",
       "81068          이것도 지수추종인가요? 테슬라랑 sp500결합한건가 지금 들어오는거 괜찮겠죠?\n",
       "81069                                  테슬라 3000불 갈 때 까지 홀딩\n",
       "81070                   퇴직연금 첫 투자!\\n안전자산 30%는 이 친구로 결정했습니닷\n",
       "81071                             2만원가즈아 테슬라\\n요새 날라가잖니^^;;\n",
       "Name: 내용, Length: 81072, dtype: object"
      ]
     },
     "execution_count": 15,
     "metadata": {},
     "output_type": "execute_result"
    }
   ],
   "source": [
    "contents"
   ]
  },
  {
   "cell_type": "code",
   "execution_count": 31,
   "metadata": {},
   "outputs": [],
   "source": [
    "# 내용 토큰화 : 명사, 형용사, 부사, 동사 추출\n",
    "def extract_tokens(text):\n",
    "    noun_list = []\n",
    "    adjective_list = []\n",
    "    adverb_list = []\n",
    "    verb_list = []\n",
    "    tokens = okt.pos(text)\n",
    "    # 명사(Noun), 형용사(Adjective), 부사(Adverb), 동사(Verb) 만 필터링\n",
    "    \n",
    "    for word, pos in tokens : \n",
    "        if pos == 'Noun' :\n",
    "            noun_list.append(word)\n",
    "        elif pos == 'Adjective' : \n",
    "            adjective_list.append(word)\n",
    "        elif pos == 'Adverb' :\n",
    "            adverb_list.append(word)\n",
    "        elif pos == 'Verb':\n",
    "            verb_list.append(word)    \n",
    "        else : \n",
    "            continue\n",
    "    \n",
    "    tokens_dict = {\n",
    "        '내용_명사' : noun_list,\n",
    "        '내용_형용사' : adjective_list,\n",
    "        '내용_부사' : adverb_list,\n",
    "        '내용_동사' : verb_list\n",
    "    }\n",
    "    \n",
    "    return tokens_dict\n",
    "  "
   ]
  },
  {
   "cell_type": "code",
   "execution_count": 30,
   "metadata": {},
   "outputs": [],
   "source": [
    "# 데이터 프레임에 내용_명사/ 내용_형용사/ 내용_부사/ 내용_동사 열 추가\n",
    "def insert_token_list(df):\n",
    "    \n",
    "    # 원본 데이터프레임의 복사본 생성\n",
    "    df_copy = df.copy()\n",
    "    \n",
    "    # 토큰화 결과를 저장할 리스트 초기화\n",
    "    noun_list = []\n",
    "    adjective_list = []\n",
    "    adverb_list = []\n",
    "    verb_list = []\n",
    "\n",
    "    # DataFrame의 '내용' 열을 순회\n",
    "    for content in df_copy['내용'].values:\n",
    "        token_dict = extract_tokens(content)                   # 각 내용에 대해 토큰화 수행\n",
    "        noun_list.append(token_dict['내용_명사'])               # 명사 리스트에 추가\n",
    "        adjective_list.append(token_dict['내용_형용사'])        # 형용사 리스트에 추가\n",
    "        adverb_list.append(token_dict['내용_부사'])             # 부사 리스트에 추가\n",
    "        verb_list.append(token_dict['내용_동사'])               # 동사 리스트에 추가\n",
    "\n",
    "    # DataFrame에 새로운 열 추가\n",
    "    df_copy['내용_명사'] = noun_list\n",
    "    df_copy['내용_형용사'] = adjective_list\n",
    "    df_copy['내용_부사'] = adverb_list\n",
    "    df_copy['내용_동사'] = verb_list\n",
    "    \n",
    "    return df_copy"
   ]
  },
  {
   "cell_type": "code",
   "execution_count": 35,
   "metadata": {},
   "outputs": [
    {
     "data": {
      "text/html": [
       "<div>\n",
       "<style scoped>\n",
       "    .dataframe tbody tr th:only-of-type {\n",
       "        vertical-align: middle;\n",
       "    }\n",
       "\n",
       "    .dataframe tbody tr th {\n",
       "        vertical-align: top;\n",
       "    }\n",
       "\n",
       "    .dataframe thead th {\n",
       "        text-align: right;\n",
       "    }\n",
       "</style>\n",
       "<table border=\"1\" class=\"dataframe\">\n",
       "  <thead>\n",
       "    <tr style=\"text-align: right;\">\n",
       "      <th></th>\n",
       "      <th>닉네임</th>\n",
       "      <th>날짜</th>\n",
       "      <th>내용</th>\n",
       "      <th>종목</th>\n",
       "      <th>내용_명사</th>\n",
       "      <th>내용_형용사</th>\n",
       "      <th>내용_부사</th>\n",
       "      <th>내용_동사</th>\n",
       "    </tr>\n",
       "  </thead>\n",
       "  <tbody>\n",
       "    <tr>\n",
       "      <th>0</th>\n",
       "      <td>GROK</td>\n",
       "      <td>2025-01-11T22:59:18+09:00</td>\n",
       "      <td>- 디자인 변화: S25 울트라는 기존의 각진 디자인에서 둥근 모서리로 변경되었으며...</td>\n",
       "      <td>5930</td>\n",
       "      <td>[디자인, 변화, 울트라, 기존, 진, 디자인, 모서리, 변경, 카메라, 모듈, 디...</td>\n",
       "      <td>[둥근, 있습니다, 동일한, 있음]</td>\n",
       "      <td>[]</td>\n",
       "      <td>[되었으며, 와, 보입니다]</td>\n",
       "    </tr>\n",
       "    <tr>\n",
       "      <th>1</th>\n",
       "      <td>공감아</td>\n",
       "      <td>2025-01-11T22:47:22+09:00</td>\n",
       "      <td>7만원 8만원에 물려있는게 대부분이라 7만원까지 혹여 올라도 물려있던분들은 원금 회...</td>\n",
       "      <td>5930</td>\n",
       "      <td>[대부분, 혹, 던, 원금, 회복, 시, 다시, 풀, 매도, 다시]</td>\n",
       "      <td>[]</td>\n",
       "      <td>[]</td>\n",
       "      <td>[물려있는게, 올라도, 물려있]</td>\n",
       "    </tr>\n",
       "    <tr>\n",
       "      <th>2</th>\n",
       "      <td>곰돌이와콩이</td>\n",
       "      <td>2025-01-11T22:41:04+09:00</td>\n",
       "      <td>분할매수하기에 좋은 타점이지만.. 얘는 너무느리고 오래걸린다 얘를살바에 살게 너무많...</td>\n",
       "      <td>5930</td>\n",
       "      <td>[분할, 타점, 얘, 얘, 살바, 살, 단점]</td>\n",
       "      <td>[좋은, 느리고, 많다는]</td>\n",
       "      <td>[너무, 오래, 너무]</td>\n",
       "      <td>[매수하기에, 걸린다]</td>\n",
       "    </tr>\n",
       "    <tr>\n",
       "      <th>3</th>\n",
       "      <td>김브래</td>\n",
       "      <td>2025-01-11T21:31:55+09:00</td>\n",
       "      <td>존버하면 오르겠죠?</td>\n",
       "      <td>5930</td>\n",
       "      <td>[존버하]</td>\n",
       "      <td>[]</td>\n",
       "      <td>[]</td>\n",
       "      <td>[오르겠죠]</td>\n",
       "    </tr>\n",
       "    <tr>\n",
       "      <th>4</th>\n",
       "      <td>김보리씨</td>\n",
       "      <td>2025-01-11T21:07:54+09:00</td>\n",
       "      <td>오를 겁니다. 제가 오늘 열심히 일하고 퇴근했습니다.</td>\n",
       "      <td>5930</td>\n",
       "      <td>[제, 오늘, 일, 퇴근]</td>\n",
       "      <td>[]</td>\n",
       "      <td>[열심히]</td>\n",
       "      <td>[오를, 겁니다, 했습니다]</td>\n",
       "    </tr>\n",
       "  </tbody>\n",
       "</table>\n",
       "</div>"
      ],
      "text/plain": [
       "      닉네임                         날짜  \\\n",
       "0    GROK  2025-01-11T22:59:18+09:00   \n",
       "1     공감아  2025-01-11T22:47:22+09:00   \n",
       "2  곰돌이와콩이  2025-01-11T22:41:04+09:00   \n",
       "3     김브래  2025-01-11T21:31:55+09:00   \n",
       "4    김보리씨  2025-01-11T21:07:54+09:00   \n",
       "\n",
       "                                                  내용    종목  \\\n",
       "0  - 디자인 변화: S25 울트라는 기존의 각진 디자인에서 둥근 모서리로 변경되었으며...  5930   \n",
       "1  7만원 8만원에 물려있는게 대부분이라 7만원까지 혹여 올라도 물려있던분들은 원금 회...  5930   \n",
       "2  분할매수하기에 좋은 타점이지만.. 얘는 너무느리고 오래걸린다 얘를살바에 살게 너무많...  5930   \n",
       "3                                         존버하면 오르겠죠?  5930   \n",
       "4                      오를 겁니다. 제가 오늘 열심히 일하고 퇴근했습니다.  5930   \n",
       "\n",
       "                                               내용_명사               내용_형용사  \\\n",
       "0  [디자인, 변화, 울트라, 기존, 진, 디자인, 모서리, 변경, 카메라, 모듈, 디...  [둥근, 있습니다, 동일한, 있음]   \n",
       "1              [대부분, 혹, 던, 원금, 회복, 시, 다시, 풀, 매도, 다시]                   []   \n",
       "2                          [분할, 타점, 얘, 얘, 살바, 살, 단점]       [좋은, 느리고, 많다는]   \n",
       "3                                              [존버하]                   []   \n",
       "4                                     [제, 오늘, 일, 퇴근]                   []   \n",
       "\n",
       "          내용_부사              내용_동사  \n",
       "0            []    [되었으며, 와, 보입니다]  \n",
       "1            []  [물려있는게, 올라도, 물려있]  \n",
       "2  [너무, 오래, 너무]       [매수하기에, 걸린다]  \n",
       "3            []             [오르겠죠]  \n",
       "4         [열심히]    [오를, 겁니다, 했습니다]  "
      ]
     },
     "execution_count": 35,
     "metadata": {},
     "output_type": "execute_result"
    }
   ],
   "source": [
    "df = insert_token_list(community_df.head(5))\n",
    "df.head()"
   ]
  },
  {
   "cell_type": "code",
   "execution_count": 29,
   "metadata": {},
   "outputs": [
    {
     "data": {
      "text/html": [
       "<div>\n",
       "<style scoped>\n",
       "    .dataframe tbody tr th:only-of-type {\n",
       "        vertical-align: middle;\n",
       "    }\n",
       "\n",
       "    .dataframe tbody tr th {\n",
       "        vertical-align: top;\n",
       "    }\n",
       "\n",
       "    .dataframe thead th {\n",
       "        text-align: right;\n",
       "    }\n",
       "</style>\n",
       "<table border=\"1\" class=\"dataframe\">\n",
       "  <thead>\n",
       "    <tr style=\"text-align: right;\">\n",
       "      <th></th>\n",
       "      <th>닉네임</th>\n",
       "      <th>날짜</th>\n",
       "      <th>내용</th>\n",
       "      <th>종목</th>\n",
       "    </tr>\n",
       "  </thead>\n",
       "  <tbody>\n",
       "    <tr>\n",
       "      <th>0</th>\n",
       "      <td>GROK</td>\n",
       "      <td>2025-01-11T22:59:18+09:00</td>\n",
       "      <td>- 디자인 변화: S25 울트라는 기존의 각진 디자인에서 둥근 모서리로 변경되었으며...</td>\n",
       "      <td>5930</td>\n",
       "    </tr>\n",
       "    <tr>\n",
       "      <th>1</th>\n",
       "      <td>공감아</td>\n",
       "      <td>2025-01-11T22:47:22+09:00</td>\n",
       "      <td>7만원 8만원에 물려있는게 대부분이라 7만원까지 혹여 올라도 물려있던분들은 원금 회...</td>\n",
       "      <td>5930</td>\n",
       "    </tr>\n",
       "  </tbody>\n",
       "</table>\n",
       "</div>"
      ],
      "text/plain": [
       "    닉네임                         날짜  \\\n",
       "0  GROK  2025-01-11T22:59:18+09:00   \n",
       "1   공감아  2025-01-11T22:47:22+09:00   \n",
       "\n",
       "                                                  내용    종목  \n",
       "0  - 디자인 변화: S25 울트라는 기존의 각진 디자인에서 둥근 모서리로 변경되었으며...  5930  \n",
       "1  7만원 8만원에 물려있는게 대부분이라 7만원까지 혹여 올라도 물려있던분들은 원금 회...  5930  "
      ]
     },
     "execution_count": 29,
     "metadata": {},
     "output_type": "execute_result"
    }
   ],
   "source": [
    "community_df.head(2)"
   ]
  },
  {
   "cell_type": "code",
   "execution_count": 20,
   "metadata": {},
   "outputs": [
    {
     "data": {
      "text/plain": [
       "{'내용_명사': ['디자인',\n",
       "  '변화',\n",
       "  '울트라',\n",
       "  '기존',\n",
       "  '진',\n",
       "  '디자인',\n",
       "  '모서리',\n",
       "  '변경',\n",
       "  '카메라',\n",
       "  '모듈',\n",
       "  '디자인',\n",
       "  '변화',\n",
       "  '플러스',\n",
       "  '외관',\n",
       "  '크기',\n",
       "  '차이',\n",
       "  '외',\n",
       "  '거의',\n",
       "  '디자인',\n",
       "  '프로세서',\n",
       "  '전',\n",
       "  '모델',\n",
       "  '갤럭시',\n",
       "  '용',\n",
       "  '퀄컴',\n",
       "  '스냅드래곤',\n",
       "  '엘리트',\n",
       "  '칩셋',\n",
       "  '탑재',\n",
       "  '기본',\n",
       "  '용량',\n",
       "  '증가',\n",
       "  '전',\n",
       "  '모델',\n",
       "  '기본',\n",
       "  '탑재',\n",
       "  '울트라',\n",
       "  '모델',\n",
       "  '일부',\n",
       "  '지역',\n",
       "  '탑재',\n",
       "  '가능성',\n",
       "  '및',\n",
       "  '최신',\n",
       "  '운영체제',\n",
       "  '및',\n",
       "  '사용자',\n",
       "  '인터페이스',\n",
       "  '탑재',\n",
       "  '통신',\n",
       "  '및',\n",
       "  '지원'],\n",
       " '내용_형용사': ['둥근', '있습니다', '동일한', '있음'],\n",
       " '내용_부사': []}"
      ]
     },
     "execution_count": 20,
     "metadata": {},
     "output_type": "execute_result"
    }
   ],
   "source": [
    "token = extract_tokens(community_df.head(1)['내용'].values[0])\n",
    "token"
   ]
  },
  {
   "cell_type": "code",
   "execution_count": null,
   "metadata": {},
   "outputs": [],
   "source": [
    "# 모든 리스트를 하나의 리스트로 평탄화\n",
    "flat_list = [item for sublist in df['내용_명사'] for item in sublist]\n",
    "\n",
    "# 고유한 값 찾기\n",
    "unique_nouns = set(flat_list)\n",
    "print(unique_nouns)"
   ]
  },
  {
   "cell_type": "code",
   "execution_count": null,
   "metadata": {},
   "outputs": [],
   "source": [
    "# 리스트를 문자열로 변환\n",
    "df['내용_명사_str'] = df['내용_명사'].apply(lambda x: ', '.join(x) if isinstance(x, list) else str(x))\n",
    "# 고유한 값 찾기\n",
    "unique_nouns = df['내용_명사_str'].unique()\n",
    "print(unique_nouns)"
   ]
  },
  {
   "cell_type": "code",
   "execution_count": null,
   "metadata": {},
   "outputs": [],
   "source": [
    "# 리스트를 문자열로 변환\n",
    "df['내용_형용사_str'] = df['내용_형용사'].apply(lambda x: ', '.join(x) if isinstance(x, list) else str(x))\n",
    "# 고유한 값\n",
    "unique_adjectives = df['내용_형용사_str'].unique()\n",
    "print(unique_adjectives)"
   ]
  },
  {
   "cell_type": "code",
   "execution_count": null,
   "metadata": {},
   "outputs": [],
   "source": [
    "# 리스트를 문자열로 변환\n",
    "df['내용_부사_str'] = df['내용_부사'].apply(lambda x: ', '.join(x) if isinstance(x, list) else str(x))\n",
    "# 고유한 값\n",
    "unique_adverbs = df['내용_부사_str'].unique()\n",
    "print(unique_adverbs)"
   ]
  },
  {
   "cell_type": "code",
   "execution_count": null,
   "metadata": {},
   "outputs": [],
   "source": [
    "# 리스트를 문자열로 변환\n",
    "df['내용_동사_str'] = df['내용_동사'].apply(lambda x: ', '.join(x) if isinstance(x, list) else str(x))\n",
    "# 고유한 값\n",
    "unique_verbs = df['내용_동사_str'].unique()\n",
    "print(unique_verbs)"
   ]
  },
  {
   "cell_type": "code",
   "execution_count": 7,
   "metadata": {},
   "outputs": [
    {
     "ename": "TypeError",
     "evalue": "'Okt' object is not iterable",
     "output_type": "error",
     "traceback": [
      "\u001b[1;31m---------------------------------------------------------------------------\u001b[0m",
      "\u001b[1;31mTypeError\u001b[0m                                 Traceback (most recent call last)",
      "Cell \u001b[1;32mIn[7], line 1\u001b[0m\n\u001b[1;32m----> 1\u001b[0m \u001b[38;5;28mdict\u001b[39m(okt)\n",
      "\u001b[1;31mTypeError\u001b[0m: 'Okt' object is not iterable"
     ]
    }
   ],
   "source": [
    "dict(okt)"
   ]
  }
 ],
 "metadata": {
  "kernelspec": {
   "display_name": "base",
   "language": "python",
   "name": "python3"
  },
  "language_info": {
   "codemirror_mode": {
    "name": "ipython",
    "version": 3
   },
   "file_extension": ".py",
   "mimetype": "text/x-python",
   "name": "python",
   "nbconvert_exporter": "python",
   "pygments_lexer": "ipython3",
   "version": "3.12.7"
  }
 },
 "nbformat": 4,
 "nbformat_minor": 2
}
