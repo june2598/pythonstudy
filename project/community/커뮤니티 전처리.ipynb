{
 "cells": [
  {
   "cell_type": "code",
   "execution_count": 1,
   "metadata": {},
   "outputs": [],
   "source": [
    "import pandas as pd\n",
    "import numpy as np"
   ]
  },
  {
   "cell_type": "code",
   "execution_count": 2,
   "metadata": {},
   "outputs": [],
   "source": [
    "from konlpy.tag import Okt\n",
    "okt = Okt()"
   ]
  },
  {
   "cell_type": "code",
   "execution_count": 3,
   "metadata": {},
   "outputs": [],
   "source": [
    "from tqdm import tqdm\n",
    "tqdm.pandas()"
   ]
  },
  {
   "cell_type": "code",
   "execution_count": 4,
   "metadata": {},
   "outputs": [],
   "source": [
    "import FinanceDataReader as fdr"
   ]
  },
  {
   "cell_type": "code",
   "execution_count": 4,
   "metadata": {},
   "outputs": [],
   "source": [
    "# community_df = pd.read_csv('toss_crawling_1m.csv')\n",
    "community_df = pd.read_csv('total_community_contents_1m.csv')"
   ]
  },
  {
   "cell_type": "code",
   "execution_count": null,
   "metadata": {},
   "outputs": [],
   "source": [
    "community_df.info()"
   ]
  },
  {
   "cell_type": "code",
   "execution_count": 6,
   "metadata": {},
   "outputs": [
    {
     "name": "stdout",
     "output_type": "stream",
     "text": [
      "[('-', 'Punctuation'), ('디자인', 'Noun'), ('변화', 'Noun'), (':', 'Punctuation'), ('S', 'Alpha'), ('25', 'Number'), ('울트라', 'Noun'), ('는', 'Josa'), ('기존', 'Noun'), ('의', 'Josa'), ('각', 'Modifier'), ('진', 'Noun'), ('디자인', 'Noun'), ('에서', 'Josa'), ('둥근', 'Adjective'), ('모서리', 'Noun'), ('로', 'Josa'), ('변경', 'Noun'), ('되었으며', 'Verb'), (',', 'Punctuation'), ('카메라', 'Noun'), ('모듈', 'Noun'), ('디자인', 'Noun'), ('에도', 'Josa'), ('변화', 'Noun'), ('가', 'Josa'), ('있습니다', 'Adjective'), ('.', 'Punctuation'), ('S', 'Alpha'), ('25', 'Number'), ('와', 'Verb'), ('S', 'Alpha'), ('25', 'Number'), ('플러스', 'Noun'), ('는', 'Josa'), ('외관', 'Noun'), ('상', 'Suffix'), ('크기', 'Noun'), ('차이', 'Noun'), ('외', 'Noun'), ('에는', 'Josa'), ('거의', 'Noun'), ('동일한', 'Adjective'), ('디자인', 'Noun'), ('으로', 'Josa'), ('보입니다', 'Verb'), ('.', 'Punctuation'), ('\\r\\n\\r\\n', 'Foreign'), ('-', 'Punctuation'), ('프로세서', 'Noun'), (':', 'Punctuation'), ('전', 'Noun'), ('모델', 'Noun'), ('갤럭시', 'Noun'), ('용', 'Noun'), ('퀄컴', 'Noun'), ('스냅드래곤', 'Noun'), ('8', 'Number'), ('엘리트', 'Noun'), ('칩셋', 'Noun'), ('탑재', 'Noun'), ('\\r\\n\\r\\n', 'Foreign'), ('-', 'Punctuation'), ('기본', 'Noun'), ('RAM', 'Alpha'), ('용량', 'Noun'), ('증가', 'Noun'), (':', 'Punctuation'), ('전', 'Noun'), ('모델', 'Noun'), ('기본', 'Noun'), ('12', 'Number'), ('GB', 'Alpha'), ('RAM', 'Alpha'), ('탑재', 'Noun'), ('(', 'Punctuation'), ('울트라', 'Noun'), ('모델', 'Noun'), ('은', 'Josa'), ('일부', 'Noun'), ('지역', 'Noun'), ('에서', 'Josa'), ('16', 'Number'), ('GB', 'Alpha'), ('RAM', 'Alpha'), ('탑재', 'Noun'), ('가능성', 'Noun'), ('있음', 'Adjective'), (')', 'Punctuation'), ('\\r\\n\\r\\n', 'Foreign'), ('-', 'Punctuation'), ('One', 'Alpha'), ('UI', 'Alpha'), ('7', 'Number'), ('및', 'Noun'), ('Android', 'Alpha'), ('15', 'Number'), (':', 'Punctuation'), ('최신', 'Noun'), ('운영체제', 'Noun'), ('및', 'Noun'), ('사용자', 'Noun'), ('인터페이스', 'Noun'), ('탑재', 'Noun'), ('\\r\\n\\r\\n', 'Foreign'), ('-', 'Punctuation'), ('통신', 'Noun'), (':', 'Punctuation'), ('Wi', 'Alpha'), ('-', 'Punctuation'), ('Fi', 'Alpha'), ('7', 'Number'), ('및', 'Noun'), ('Bluetooth', 'Alpha'), ('5.3', 'Number'), ('지원', 'Noun'), ('\\r\\n\\r\\n', 'Foreign'), ('https://m.blog.naver.com/grok_newsfeed/223722891228', 'URL')]\n"
     ]
    }
   ],
   "source": [
    "print(okt.pos(community_df.head(1)['내용'].values[0]))"
   ]
  },
  {
   "cell_type": "code",
   "execution_count": 7,
   "metadata": {},
   "outputs": [],
   "source": [
    "contents = community_df['내용']"
   ]
  },
  {
   "cell_type": "code",
   "execution_count": 10,
   "metadata": {},
   "outputs": [
    {
     "data": {
      "text/plain": [
       "80032"
      ]
     },
     "execution_count": 10,
     "metadata": {},
     "output_type": "execute_result"
    }
   ],
   "source": [
    "community_df['내용'].nunique()"
   ]
  },
  {
   "cell_type": "code",
   "execution_count": 11,
   "metadata": {},
   "outputs": [],
   "source": [
    "# 내용이 중복된 행 제거 (광고, 도배등 불용 데이터)\n",
    "community_df.drop_duplicates(subset=['내용'], inplace=True)\n",
    "\n",
    "# '내용' 열의 각 문자열에서 시작 부분의 공백을 제거\n",
    "community_df['내용'] = community_df['내용'].str.replace('^ +', \"\", regex=True)\n",
    "community_df['내용'] = community_df['내용'].replace('', np.nan)"
   ]
  },
  {
   "cell_type": "code",
   "execution_count": null,
   "metadata": {},
   "outputs": [],
   "source": [
    "print(community_df.isnull().sum())"
   ]
  },
  {
   "cell_type": "code",
   "execution_count": 12,
   "metadata": {},
   "outputs": [
    {
     "name": "stdout",
     "output_type": "stream",
     "text": [
      "총 샘플의 수 : 80032\n"
     ]
    }
   ],
   "source": [
    "print('총 샘플의 수 :',len(community_df))"
   ]
  },
  {
   "cell_type": "code",
   "execution_count": 14,
   "metadata": {},
   "outputs": [
    {
     "name": "stderr",
     "output_type": "stream",
     "text": [
      "  0%|          | 0/80032 [00:00<?, ?it/s]"
     ]
    },
    {
     "name": "stderr",
     "output_type": "stream",
     "text": [
      "100%|██████████| 80032/80032 [01:14<00:00, 1079.41it/s]\n"
     ]
    }
   ],
   "source": [
    "# 내용 토큰화\n",
    "X_train = []\n",
    "for sentence in tqdm(community_df['내용']):\n",
    "    tokenized_sentence = okt.morphs(sentence, stem=True) # 토큰화\n",
    "    X_train.append(tokenized_sentence)"
   ]
  },
  {
   "cell_type": "code",
   "execution_count": 15,
   "metadata": {},
   "outputs": [
    {
     "name": "stdout",
     "output_type": "stream",
     "text": [
      "[['-', '디자인', '변화', ':', 'S', '25', '울트라', '는', '기존', '의', '각', '진', '디자인', '에서', '둥글다', '모서리', '로', '변경', '되어다', ',', '카메라', '모듈', '디자인', '에도', '변화', '가', '있다', '.', 'S', '25', '오다', 'S', '25', '플러스', '는', '외관', '상', '크기', '차이', '외', '에는', '거의', '동일하다', '디자인', '으로', '보이다', '.', '\\r\\n\\r\\n', '-', '프로세서', ':', '전', '모델', '갤럭시', '용', '퀄컴', '스냅드래곤', '8', '엘리트', '칩셋', '탑재', '\\r\\n\\r\\n', '-', '기본', 'RAM', '용량', '증가', ':', '전', '모델', '기본', '12', 'GB', 'RAM', '탑재', '(', '울트라', '모델', '은', '일부', '지역', '에서', '16', 'GB', 'RAM', '탑재', '가능성', '있다', ')', '\\r\\n\\r\\n', '-', 'One', 'UI', '7', '및', 'Android', '15', ':', '최신', '운영체제', '및', '사용자', '인터페이스', '탑재', '\\r\\n\\r\\n', '-', '통신', ':', 'Wi', '-', 'Fi', '7', '및', 'Bluetooth', '5.3', '지원', '\\r\\n\\r\\n', 'https://m.blog.naver.com/grok_newsfeed/223722891228'], ['7만원', '8만원', '에', '물리다', '대부분', '이라', '7만원', '까지', '혹', '여', '오르다', '물리다', '던', '분들', '은', '원금', '회복', '시', '다시', '풀', '매도', '...', '다시', '4만', '전자'], ['분할', '매다', '좋다', '타점', '이지만', '..', '얘', '는', '너무', '느리다', '오래', '걸리다', '얘', '를', '살바', '에', '살', '게', '너무', '많다', '단점']]\n"
     ]
    }
   ],
   "source": [
    "print(X_train[:3])"
   ]
  },
  {
   "cell_type": "code",
   "execution_count": 16,
   "metadata": {},
   "outputs": [
    {
     "data": {
      "text/plain": [
       "80032"
      ]
     },
     "execution_count": 16,
     "metadata": {},
     "output_type": "execute_result"
    }
   ],
   "source": [
    "len(X_train)"
   ]
  },
  {
   "cell_type": "code",
   "execution_count": 17,
   "metadata": {},
   "outputs": [],
   "source": [
    "# '내용_토큰' 열에 X_train의 각 행을 리스트 형태로 추가\n",
    "community_df['내용_토큰'] = [row for row in X_train]"
   ]
  },
  {
   "cell_type": "code",
   "execution_count": 18,
   "metadata": {},
   "outputs": [
    {
     "data": {
      "text/html": [
       "<div>\n",
       "<style scoped>\n",
       "    .dataframe tbody tr th:only-of-type {\n",
       "        vertical-align: middle;\n",
       "    }\n",
       "\n",
       "    .dataframe tbody tr th {\n",
       "        vertical-align: top;\n",
       "    }\n",
       "\n",
       "    .dataframe thead th {\n",
       "        text-align: right;\n",
       "    }\n",
       "</style>\n",
       "<table border=\"1\" class=\"dataframe\">\n",
       "  <thead>\n",
       "    <tr style=\"text-align: right;\">\n",
       "      <th></th>\n",
       "      <th>닉네임</th>\n",
       "      <th>날짜</th>\n",
       "      <th>내용</th>\n",
       "      <th>종목</th>\n",
       "      <th>내용_토큰</th>\n",
       "    </tr>\n",
       "  </thead>\n",
       "  <tbody>\n",
       "    <tr>\n",
       "      <th>0</th>\n",
       "      <td>GROK</td>\n",
       "      <td>2025-01-11T22:59:18+09:00</td>\n",
       "      <td>- 디자인 변화: S25 울트라는 기존의 각진 디자인에서 둥근 모서리로 변경되었으며...</td>\n",
       "      <td>5930</td>\n",
       "      <td>[-, 디자인, 변화, :, S, 25, 울트라, 는, 기존, 의, 각, 진, 디자...</td>\n",
       "    </tr>\n",
       "    <tr>\n",
       "      <th>1</th>\n",
       "      <td>공감아</td>\n",
       "      <td>2025-01-11T22:47:22+09:00</td>\n",
       "      <td>7만원 8만원에 물려있는게 대부분이라 7만원까지 혹여 올라도 물려있던분들은 원금 회...</td>\n",
       "      <td>5930</td>\n",
       "      <td>[7만원, 8만원, 에, 물리다, 대부분, 이라, 7만원, 까지, 혹, 여, 오르다...</td>\n",
       "    </tr>\n",
       "    <tr>\n",
       "      <th>2</th>\n",
       "      <td>곰돌이와콩이</td>\n",
       "      <td>2025-01-11T22:41:04+09:00</td>\n",
       "      <td>분할매수하기에 좋은 타점이지만.. 얘는 너무느리고 오래걸린다 얘를살바에 살게 너무많...</td>\n",
       "      <td>5930</td>\n",
       "      <td>[분할, 매다, 좋다, 타점, 이지만, .., 얘, 는, 너무, 느리다, 오래, 걸...</td>\n",
       "    </tr>\n",
       "    <tr>\n",
       "      <th>3</th>\n",
       "      <td>김브래</td>\n",
       "      <td>2025-01-11T21:31:55+09:00</td>\n",
       "      <td>존버하면 오르겠죠?</td>\n",
       "      <td>5930</td>\n",
       "      <td>[존버하, 면, 오르다, ?]</td>\n",
       "    </tr>\n",
       "    <tr>\n",
       "      <th>4</th>\n",
       "      <td>김보리씨</td>\n",
       "      <td>2025-01-11T21:07:54+09:00</td>\n",
       "      <td>오를 겁니다. 제가 오늘 열심히 일하고 퇴근했습니다.</td>\n",
       "      <td>5930</td>\n",
       "      <td>[오르다, 겁니다, ., 제, 가, 오늘, 열심히, 일, 하고, 퇴근, 하다, .]</td>\n",
       "    </tr>\n",
       "  </tbody>\n",
       "</table>\n",
       "</div>"
      ],
      "text/plain": [
       "      닉네임                         날짜  \\\n",
       "0    GROK  2025-01-11T22:59:18+09:00   \n",
       "1     공감아  2025-01-11T22:47:22+09:00   \n",
       "2  곰돌이와콩이  2025-01-11T22:41:04+09:00   \n",
       "3     김브래  2025-01-11T21:31:55+09:00   \n",
       "4    김보리씨  2025-01-11T21:07:54+09:00   \n",
       "\n",
       "                                                  내용    종목  \\\n",
       "0  - 디자인 변화: S25 울트라는 기존의 각진 디자인에서 둥근 모서리로 변경되었으며...  5930   \n",
       "1  7만원 8만원에 물려있는게 대부분이라 7만원까지 혹여 올라도 물려있던분들은 원금 회...  5930   \n",
       "2  분할매수하기에 좋은 타점이지만.. 얘는 너무느리고 오래걸린다 얘를살바에 살게 너무많...  5930   \n",
       "3                                         존버하면 오르겠죠?  5930   \n",
       "4                      오를 겁니다. 제가 오늘 열심히 일하고 퇴근했습니다.  5930   \n",
       "\n",
       "                                               내용_토큰  \n",
       "0  [-, 디자인, 변화, :, S, 25, 울트라, 는, 기존, 의, 각, 진, 디자...  \n",
       "1  [7만원, 8만원, 에, 물리다, 대부분, 이라, 7만원, 까지, 혹, 여, 오르다...  \n",
       "2  [분할, 매다, 좋다, 타점, 이지만, .., 얘, 는, 너무, 느리다, 오래, 걸...  \n",
       "3                                   [존버하, 면, 오르다, ?]  \n",
       "4     [오르다, 겁니다, ., 제, 가, 오늘, 열심히, 일, 하고, 퇴근, 하다, .]  "
      ]
     },
     "execution_count": 18,
     "metadata": {},
     "output_type": "execute_result"
    }
   ],
   "source": [
    "community_df.head()"
   ]
  },
  {
   "cell_type": "code",
   "execution_count": 19,
   "metadata": {},
   "outputs": [],
   "source": [
    "# 리스트를 문자열로 변환하고 한글만 남기기\n",
    "community_df['내용_토큰'] = community_df['내용_토큰'].apply(lambda x: ' '.join(x))  # 리스트를 문자열로 변환\n",
    "community_df['내용_토큰'] = community_df['내용_토큰'].str.replace(r'[^가-힣\\s]', '', regex=True)  # 한글과 공백만 남기기\n",
    "\n",
    "# 한글자 단어 제외\n",
    "community_df['내용_토큰'] = community_df['내용_토큰'].str.findall(r'\\b[가-힣]{2,}\\b').apply(lambda x: ' '.join(x))"
   ]
  },
  {
   "cell_type": "code",
   "execution_count": 20,
   "metadata": {},
   "outputs": [
    {
     "name": "stderr",
     "output_type": "stream",
     "text": [
      "C:\\Users\\hydrl\\AppData\\Local\\Temp\\ipykernel_16484\\361386420.py:2: FutureWarning: A value is trying to be set on a copy of a DataFrame or Series through chained assignment using an inplace method.\n",
      "The behavior will change in pandas 3.0. This inplace method will never work because the intermediate object on which we are setting values always behaves as a copy.\n",
      "\n",
      "For example, when doing 'df[col].method(value, inplace=True)', try using 'df.method({col: value}, inplace=True)' or df[col] = df[col].method(value) instead, to perform the operation inplace on the original object.\n",
      "\n",
      "\n",
      "  community_df['내용_토큰'].replace('', np.nan, inplace=True)\n"
     ]
    }
   ],
   "source": [
    "community_df['내용_토큰'] = community_df['내용_토큰'].str.replace('^ +', \"\", regex=True) # white space 데이터를 empty value로 변경\n",
    "community_df['내용_토큰'] = community_df['내용_토큰'].replace('', np.nan) # 빈 문자열을 NaN으로 변경"
   ]
  },
  {
   "cell_type": "code",
   "execution_count": 35,
   "metadata": {},
   "outputs": [
    {
     "data": {
      "text/html": [
       "<div>\n",
       "<style scoped>\n",
       "    .dataframe tbody tr th:only-of-type {\n",
       "        vertical-align: middle;\n",
       "    }\n",
       "\n",
       "    .dataframe tbody tr th {\n",
       "        vertical-align: top;\n",
       "    }\n",
       "\n",
       "    .dataframe thead th {\n",
       "        text-align: right;\n",
       "    }\n",
       "</style>\n",
       "<table border=\"1\" class=\"dataframe\">\n",
       "  <thead>\n",
       "    <tr style=\"text-align: right;\">\n",
       "      <th></th>\n",
       "      <th>닉네임</th>\n",
       "      <th>날짜</th>\n",
       "      <th>내용</th>\n",
       "      <th>종목</th>\n",
       "      <th>내용_토큰</th>\n",
       "    </tr>\n",
       "  </thead>\n",
       "  <tbody>\n",
       "    <tr>\n",
       "      <th>0</th>\n",
       "      <td>GROK</td>\n",
       "      <td>2025-01-11T22:59:18+09:00</td>\n",
       "      <td>- 디자인 변화: S25 울트라는 기존의 각진 디자인에서 둥근 모서리로 변경되었으며...</td>\n",
       "      <td>005930</td>\n",
       "      <td>디자인 변화 울트라 기존 디자인 에서 둥글다 모서리 변경 되어다 카메라 모듈 디자인...</td>\n",
       "    </tr>\n",
       "    <tr>\n",
       "      <th>1</th>\n",
       "      <td>공감아</td>\n",
       "      <td>2025-01-11T22:47:22+09:00</td>\n",
       "      <td>7만원 8만원에 물려있는게 대부분이라 7만원까지 혹여 올라도 물려있던분들은 원금 회...</td>\n",
       "      <td>005930</td>\n",
       "      <td>만원 만원 물리다 대부분 이라 만원 까지 오르다 물리다 분들 원금 회복 다시 매도 ...</td>\n",
       "    </tr>\n",
       "    <tr>\n",
       "      <th>2</th>\n",
       "      <td>곰돌이와콩이</td>\n",
       "      <td>2025-01-11T22:41:04+09:00</td>\n",
       "      <td>분할매수하기에 좋은 타점이지만.. 얘는 너무느리고 오래걸린다 얘를살바에 살게 너무많...</td>\n",
       "      <td>005930</td>\n",
       "      <td>분할 매다 좋다 타점 이지만 너무 느리다 오래 걸리다 살바 너무 많다 단점</td>\n",
       "    </tr>\n",
       "    <tr>\n",
       "      <th>3</th>\n",
       "      <td>김브래</td>\n",
       "      <td>2025-01-11T21:31:55+09:00</td>\n",
       "      <td>존버하면 오르겠죠?</td>\n",
       "      <td>005930</td>\n",
       "      <td>존버하 오르다</td>\n",
       "    </tr>\n",
       "    <tr>\n",
       "      <th>4</th>\n",
       "      <td>김보리씨</td>\n",
       "      <td>2025-01-11T21:07:54+09:00</td>\n",
       "      <td>오를 겁니다. 제가 오늘 열심히 일하고 퇴근했습니다.</td>\n",
       "      <td>005930</td>\n",
       "      <td>오르다 겁니다 오늘 열심히 하고 퇴근 하다</td>\n",
       "    </tr>\n",
       "  </tbody>\n",
       "</table>\n",
       "</div>"
      ],
      "text/plain": [
       "      닉네임                         날짜  \\\n",
       "0    GROK  2025-01-11T22:59:18+09:00   \n",
       "1     공감아  2025-01-11T22:47:22+09:00   \n",
       "2  곰돌이와콩이  2025-01-11T22:41:04+09:00   \n",
       "3     김브래  2025-01-11T21:31:55+09:00   \n",
       "4    김보리씨  2025-01-11T21:07:54+09:00   \n",
       "\n",
       "                                                  내용      종목  \\\n",
       "0  - 디자인 변화: S25 울트라는 기존의 각진 디자인에서 둥근 모서리로 변경되었으며...  005930   \n",
       "1  7만원 8만원에 물려있는게 대부분이라 7만원까지 혹여 올라도 물려있던분들은 원금 회...  005930   \n",
       "2  분할매수하기에 좋은 타점이지만.. 얘는 너무느리고 오래걸린다 얘를살바에 살게 너무많...  005930   \n",
       "3                                         존버하면 오르겠죠?  005930   \n",
       "4                      오를 겁니다. 제가 오늘 열심히 일하고 퇴근했습니다.  005930   \n",
       "\n",
       "                                               내용_토큰  \n",
       "0  디자인 변화 울트라 기존 디자인 에서 둥글다 모서리 변경 되어다 카메라 모듈 디자인...  \n",
       "1  만원 만원 물리다 대부분 이라 만원 까지 오르다 물리다 분들 원금 회복 다시 매도 ...  \n",
       "2          분할 매다 좋다 타점 이지만 너무 느리다 오래 걸리다 살바 너무 많다 단점  \n",
       "3                                            존버하 오르다  \n",
       "4                            오르다 겁니다 오늘 열심히 하고 퇴근 하다  "
      ]
     },
     "execution_count": 35,
     "metadata": {},
     "output_type": "execute_result"
    }
   ],
   "source": [
    "community_df.head()"
   ]
  },
  {
   "cell_type": "code",
   "execution_count": 22,
   "metadata": {},
   "outputs": [
    {
     "name": "stdout",
     "output_type": "stream",
     "text": [
      "<class 'pandas.core.frame.DataFrame'>\n",
      "Index: 80032 entries, 0 to 87101\n",
      "Data columns (total 5 columns):\n",
      " #   Column  Non-Null Count  Dtype \n",
      "---  ------  --------------  ----- \n",
      " 0   닉네임     80032 non-null  object\n",
      " 1   날짜      80032 non-null  object\n",
      " 2   내용      80032 non-null  object\n",
      " 3   종목      80032 non-null  object\n",
      " 4   내용_토큰   77647 non-null  object\n",
      "dtypes: object(5)\n",
      "memory usage: 3.7+ MB\n"
     ]
    }
   ],
   "source": [
    "community_df.info()"
   ]
  },
  {
   "cell_type": "code",
   "execution_count": 23,
   "metadata": {},
   "outputs": [
    {
     "name": "stdout",
     "output_type": "stream",
     "text": [
      "2385\n"
     ]
    }
   ],
   "source": [
    "print(community_df['내용_토큰'].isnull().sum())  # 원본 DataFrame의 결측값 "
   ]
  },
  {
   "cell_type": "code",
   "execution_count": 27,
   "metadata": {},
   "outputs": [],
   "source": [
    "# 결측값이 있는 행 제거\n",
    "community_df = community_df.dropna(subset=['내용_토큰'])"
   ]
  },
  {
   "cell_type": "code",
   "execution_count": 28,
   "metadata": {},
   "outputs": [
    {
     "name": "stdout",
     "output_type": "stream",
     "text": [
      "0\n"
     ]
    }
   ],
   "source": [
    "print(community_df['내용_토큰'].isnull().sum())  # 원본 DataFrame의 결측값 "
   ]
  },
  {
   "cell_type": "code",
   "execution_count": 36,
   "metadata": {},
   "outputs": [],
   "source": [
    "# 종목코드 자릿수 손실 : 6자리 채우기\n",
    "community_df['종목'] = community_df['종목'].apply(\n",
    "    lambda x: f\"{x.zfill(6)}\" if len(x) < 6 else x\n",
    ")"
   ]
  },
  {
   "cell_type": "code",
   "execution_count": 34,
   "metadata": {},
   "outputs": [
    {
     "data": {
      "text/html": [
       "<div>\n",
       "<style scoped>\n",
       "    .dataframe tbody tr th:only-of-type {\n",
       "        vertical-align: middle;\n",
       "    }\n",
       "\n",
       "    .dataframe tbody tr th {\n",
       "        vertical-align: top;\n",
       "    }\n",
       "\n",
       "    .dataframe thead th {\n",
       "        text-align: right;\n",
       "    }\n",
       "</style>\n",
       "<table border=\"1\" class=\"dataframe\">\n",
       "  <thead>\n",
       "    <tr style=\"text-align: right;\">\n",
       "      <th></th>\n",
       "      <th>Code</th>\n",
       "      <th>ISU_CD</th>\n",
       "      <th>Name</th>\n",
       "      <th>Market</th>\n",
       "      <th>Dept</th>\n",
       "      <th>Close</th>\n",
       "      <th>ChangeCode</th>\n",
       "      <th>Changes</th>\n",
       "      <th>ChagesRatio</th>\n",
       "      <th>Open</th>\n",
       "      <th>High</th>\n",
       "      <th>Low</th>\n",
       "      <th>Volume</th>\n",
       "      <th>Amount</th>\n",
       "      <th>Marcap</th>\n",
       "      <th>Stocks</th>\n",
       "      <th>MarketId</th>\n",
       "    </tr>\n",
       "  </thead>\n",
       "  <tbody>\n",
       "    <tr>\n",
       "      <th>0</th>\n",
       "      <td>005930</td>\n",
       "      <td>KR7005930003</td>\n",
       "      <td>삼성전자</td>\n",
       "      <td>KOSPI</td>\n",
       "      <td></td>\n",
       "      <td>53600</td>\n",
       "      <td>2</td>\n",
       "      <td>-700</td>\n",
       "      <td>-1.29</td>\n",
       "      <td>53800</td>\n",
       "      <td>54100</td>\n",
       "      <td>53500</td>\n",
       "      <td>4364180</td>\n",
       "      <td>234535193900</td>\n",
       "      <td>319980344680000</td>\n",
       "      <td>5969782550</td>\n",
       "      <td>STK</td>\n",
       "    </tr>\n",
       "    <tr>\n",
       "      <th>1</th>\n",
       "      <td>000660</td>\n",
       "      <td>KR7000660001</td>\n",
       "      <td>SK하이닉스</td>\n",
       "      <td>KOSPI</td>\n",
       "      <td></td>\n",
       "      <td>213500</td>\n",
       "      <td>1</td>\n",
       "      <td>3500</td>\n",
       "      <td>1.67</td>\n",
       "      <td>209500</td>\n",
       "      <td>215000</td>\n",
       "      <td>209000</td>\n",
       "      <td>1486457</td>\n",
       "      <td>315912892000</td>\n",
       "      <td>155428504927500</td>\n",
       "      <td>728002365</td>\n",
       "      <td>STK</td>\n",
       "    </tr>\n",
       "  </tbody>\n",
       "</table>\n",
       "</div>"
      ],
      "text/plain": [
       "     Code        ISU_CD    Name Market Dept   Close ChangeCode  Changes  \\\n",
       "0  005930  KR7005930003    삼성전자  KOSPI        53600          2     -700   \n",
       "1  000660  KR7000660001  SK하이닉스  KOSPI       213500          1     3500   \n",
       "\n",
       "   ChagesRatio    Open    High     Low   Volume        Amount  \\\n",
       "0        -1.29   53800   54100   53500  4364180  234535193900   \n",
       "1         1.67  209500  215000  209000  1486457  315912892000   \n",
       "\n",
       "            Marcap      Stocks MarketId  \n",
       "0  319980344680000  5969782550      STK  \n",
       "1  155428504927500   728002365      STK  "
      ]
     },
     "execution_count": 34,
     "metadata": {},
     "output_type": "execute_result"
    }
   ],
   "source": [
    "krx_df = fdr.StockListing('KRX')\n",
    "krx_df.head(2)"
   ]
  },
  {
   "cell_type": "code",
   "execution_count": 37,
   "metadata": {},
   "outputs": [],
   "source": [
    "# df와 krx_df를 '종목'과 'Code'를 기준으로 병합\n",
    "community_df = community_df.merge(\n",
    "    krx_df[['Code', 'Market']],\n",
    "    left_on='종목',\n",
    "    right_on='Code',\n",
    "    how='left'\n",
    ")\n",
    "\n",
    "# '시장' 열 이름을 변경합니다.\n",
    "community_df.rename(columns={'Market': '시장'}, inplace=True)\n",
    "# '시장' 열의 NaN 값을 'ETF'로 채웁니다.\n",
    "community_df['시장'] = community_df['시장'].fillna('ETF')\n",
    "# KOSDAQ GLOBAL의 값을 KOSDAQ에 더하기\n",
    "community_df['시장'] = community_df['시장'].replace('KOSDAQ GLOBAL', 'KOSDAQ')\n",
    "# 'Code' 열 삭제\n",
    "community_df.drop(columns=['Code'], inplace=True)"
   ]
  },
  {
   "cell_type": "code",
   "execution_count": 39,
   "metadata": {},
   "outputs": [
    {
     "data": {
      "text/html": [
       "<div>\n",
       "<style scoped>\n",
       "    .dataframe tbody tr th:only-of-type {\n",
       "        vertical-align: middle;\n",
       "    }\n",
       "\n",
       "    .dataframe tbody tr th {\n",
       "        vertical-align: top;\n",
       "    }\n",
       "\n",
       "    .dataframe thead th {\n",
       "        text-align: right;\n",
       "    }\n",
       "</style>\n",
       "<table border=\"1\" class=\"dataframe\">\n",
       "  <thead>\n",
       "    <tr style=\"text-align: right;\">\n",
       "      <th></th>\n",
       "      <th>닉네임</th>\n",
       "      <th>날짜</th>\n",
       "      <th>내용</th>\n",
       "      <th>종목</th>\n",
       "      <th>내용_토큰</th>\n",
       "      <th>시장</th>\n",
       "    </tr>\n",
       "  </thead>\n",
       "  <tbody>\n",
       "    <tr>\n",
       "      <th>0</th>\n",
       "      <td>GROK</td>\n",
       "      <td>2025-01-11T22:59:18+09:00</td>\n",
       "      <td>- 디자인 변화: S25 울트라는 기존의 각진 디자인에서 둥근 모서리로 변경되었으며...</td>\n",
       "      <td>005930</td>\n",
       "      <td>디자인 변화 울트라 기존 디자인 에서 둥글다 모서리 변경 되어다 카메라 모듈 디자인...</td>\n",
       "      <td>KOSPI</td>\n",
       "    </tr>\n",
       "    <tr>\n",
       "      <th>1</th>\n",
       "      <td>공감아</td>\n",
       "      <td>2025-01-11T22:47:22+09:00</td>\n",
       "      <td>7만원 8만원에 물려있는게 대부분이라 7만원까지 혹여 올라도 물려있던분들은 원금 회...</td>\n",
       "      <td>005930</td>\n",
       "      <td>만원 만원 물리다 대부분 이라 만원 까지 오르다 물리다 분들 원금 회복 다시 매도 ...</td>\n",
       "      <td>KOSPI</td>\n",
       "    </tr>\n",
       "    <tr>\n",
       "      <th>2</th>\n",
       "      <td>곰돌이와콩이</td>\n",
       "      <td>2025-01-11T22:41:04+09:00</td>\n",
       "      <td>분할매수하기에 좋은 타점이지만.. 얘는 너무느리고 오래걸린다 얘를살바에 살게 너무많...</td>\n",
       "      <td>005930</td>\n",
       "      <td>분할 매다 좋다 타점 이지만 너무 느리다 오래 걸리다 살바 너무 많다 단점</td>\n",
       "      <td>KOSPI</td>\n",
       "    </tr>\n",
       "    <tr>\n",
       "      <th>3</th>\n",
       "      <td>김브래</td>\n",
       "      <td>2025-01-11T21:31:55+09:00</td>\n",
       "      <td>존버하면 오르겠죠?</td>\n",
       "      <td>005930</td>\n",
       "      <td>존버하 오르다</td>\n",
       "      <td>KOSPI</td>\n",
       "    </tr>\n",
       "    <tr>\n",
       "      <th>4</th>\n",
       "      <td>김보리씨</td>\n",
       "      <td>2025-01-11T21:07:54+09:00</td>\n",
       "      <td>오를 겁니다. 제가 오늘 열심히 일하고 퇴근했습니다.</td>\n",
       "      <td>005930</td>\n",
       "      <td>오르다 겁니다 오늘 열심히 하고 퇴근 하다</td>\n",
       "      <td>KOSPI</td>\n",
       "    </tr>\n",
       "  </tbody>\n",
       "</table>\n",
       "</div>"
      ],
      "text/plain": [
       "      닉네임                         날짜  \\\n",
       "0    GROK  2025-01-11T22:59:18+09:00   \n",
       "1     공감아  2025-01-11T22:47:22+09:00   \n",
       "2  곰돌이와콩이  2025-01-11T22:41:04+09:00   \n",
       "3     김브래  2025-01-11T21:31:55+09:00   \n",
       "4    김보리씨  2025-01-11T21:07:54+09:00   \n",
       "\n",
       "                                                  내용      종목  \\\n",
       "0  - 디자인 변화: S25 울트라는 기존의 각진 디자인에서 둥근 모서리로 변경되었으며...  005930   \n",
       "1  7만원 8만원에 물려있는게 대부분이라 7만원까지 혹여 올라도 물려있던분들은 원금 회...  005930   \n",
       "2  분할매수하기에 좋은 타점이지만.. 얘는 너무느리고 오래걸린다 얘를살바에 살게 너무많...  005930   \n",
       "3                                         존버하면 오르겠죠?  005930   \n",
       "4                      오를 겁니다. 제가 오늘 열심히 일하고 퇴근했습니다.  005930   \n",
       "\n",
       "                                               내용_토큰     시장  \n",
       "0  디자인 변화 울트라 기존 디자인 에서 둥글다 모서리 변경 되어다 카메라 모듈 디자인...  KOSPI  \n",
       "1  만원 만원 물리다 대부분 이라 만원 까지 오르다 물리다 분들 원금 회복 다시 매도 ...  KOSPI  \n",
       "2          분할 매다 좋다 타점 이지만 너무 느리다 오래 걸리다 살바 너무 많다 단점  KOSPI  \n",
       "3                                            존버하 오르다  KOSPI  \n",
       "4                            오르다 겁니다 오늘 열심히 하고 퇴근 하다  KOSPI  "
      ]
     },
     "execution_count": 39,
     "metadata": {},
     "output_type": "execute_result"
    }
   ],
   "source": [
    "community_df.head()"
   ]
  },
  {
   "cell_type": "code",
   "execution_count": 40,
   "metadata": {},
   "outputs": [],
   "source": [
    "# 파일저장\n",
    "community_df.to_csv('community_token_final3.csv', index=False, encoding='utf-8-sig')"
   ]
  }
 ],
 "metadata": {
  "kernelspec": {
   "display_name": "base",
   "language": "python",
   "name": "python3"
  },
  "language_info": {
   "codemirror_mode": {
    "name": "ipython",
    "version": 3
   },
   "file_extension": ".py",
   "mimetype": "text/x-python",
   "name": "python",
   "nbconvert_exporter": "python",
   "pygments_lexer": "ipython3",
   "version": "3.12.7"
  }
 },
 "nbformat": 4,
 "nbformat_minor": 2
}
