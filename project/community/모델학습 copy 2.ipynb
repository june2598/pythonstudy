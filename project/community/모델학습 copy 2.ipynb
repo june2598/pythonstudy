{
 "cells": [
  {
   "cell_type": "code",
   "execution_count": 1,
   "metadata": {},
   "outputs": [],
   "source": [
    "import pandas as pd\n",
    "import numpy as np\n",
    "import matplotlib.pyplot as plt\n"
   ]
  },
  {
   "cell_type": "code",
   "execution_count": 2,
   "metadata": {},
   "outputs": [],
   "source": [
    "from konlpy.tag import Okt"
   ]
  },
  {
   "cell_type": "code",
   "execution_count": 3,
   "metadata": {},
   "outputs": [],
   "source": [
    "from sklearn.model_selection import train_test_split\n",
    "from sklearn.feature_extraction.text import TfidfVectorizer\n",
    "from sklearn.metrics import classification_report"
   ]
  },
  {
   "cell_type": "code",
   "execution_count": 55,
   "metadata": {},
   "outputs": [],
   "source": [
    "from tensorflow.keras.models import Sequential\n",
    "from tensorflow.keras.layers import Embedding, Dense, Dropout, LSTM\n",
    "from tensorflow.keras.callbacks import EarlyStopping, ModelCheckpoint\n",
    "from tensorflow.keras.preprocessing.text import Tokenizer\n",
    "from tensorflow.keras.preprocessing.sequence import pad_sequences"
   ]
  },
  {
   "cell_type": "code",
   "execution_count": 57,
   "metadata": {},
   "outputs": [],
   "source": [
    "from tensorflow.keras.models import load_model"
   ]
  },
  {
   "cell_type": "code",
   "execution_count": 34,
   "metadata": {},
   "outputs": [],
   "source": [
    "from tqdm import tqdm"
   ]
  },
  {
   "cell_type": "code",
   "execution_count": 5,
   "metadata": {},
   "outputs": [],
   "source": [
    "okt = Okt()"
   ]
  },
  {
   "cell_type": "code",
   "execution_count": 7,
   "metadata": {},
   "outputs": [],
   "source": [
    "result2 = pd.read_csv('community_add_market.csv', low_memory=False)"
   ]
  },
  {
   "cell_type": "code",
   "execution_count": 8,
   "metadata": {},
   "outputs": [],
   "source": [
    "# 학습을 위해 1, 0으로 긍정/ 부정을 재구분\n",
    "result2['긍정점수'] = [1 if label == 1 else 0 if label == -1 else -1 for label in result2['label']]"
   ]
  },
  {
   "cell_type": "code",
   "execution_count": 9,
   "metadata": {},
   "outputs": [
    {
     "data": {
      "text/html": [
       "<div>\n",
       "<style scoped>\n",
       "    .dataframe tbody tr th:only-of-type {\n",
       "        vertical-align: middle;\n",
       "    }\n",
       "\n",
       "    .dataframe tbody tr th {\n",
       "        vertical-align: top;\n",
       "    }\n",
       "\n",
       "    .dataframe thead th {\n",
       "        text-align: right;\n",
       "    }\n",
       "</style>\n",
       "<table border=\"1\" class=\"dataframe\">\n",
       "  <thead>\n",
       "    <tr style=\"text-align: right;\">\n",
       "      <th></th>\n",
       "      <th>닉네임</th>\n",
       "      <th>날짜</th>\n",
       "      <th>내용</th>\n",
       "      <th>종목</th>\n",
       "      <th>내용_토큰</th>\n",
       "      <th>label</th>\n",
       "      <th>시장</th>\n",
       "      <th>명사_추출</th>\n",
       "      <th>긍정점수</th>\n",
       "    </tr>\n",
       "  </thead>\n",
       "  <tbody>\n",
       "    <tr>\n",
       "      <th>0</th>\n",
       "      <td>GROK</td>\n",
       "      <td>2025-01-11T22:59:18+09:00</td>\n",
       "      <td>- 디자인 변화: S25 울트라는 기존의 각진 디자인에서 둥근 모서리로 변경되었으며...</td>\n",
       "      <td>005930</td>\n",
       "      <td>디자인 변화 울트라 기존 디자인 에서 둥글다 모서리 변경 되어다 카메라 모듈 디자인...</td>\n",
       "      <td>1</td>\n",
       "      <td>KOSPI</td>\n",
       "      <td>디자인 변화 울트라 기존 디자인 모서리 변경 카메라 모듈 디자인 변화 플러스 외관 ...</td>\n",
       "      <td>1</td>\n",
       "    </tr>\n",
       "  </tbody>\n",
       "</table>\n",
       "</div>"
      ],
      "text/plain": [
       "    닉네임                         날짜  \\\n",
       "0  GROK  2025-01-11T22:59:18+09:00   \n",
       "\n",
       "                                                  내용      종목  \\\n",
       "0  - 디자인 변화: S25 울트라는 기존의 각진 디자인에서 둥근 모서리로 변경되었으며...  005930   \n",
       "\n",
       "                                               내용_토큰  label     시장  \\\n",
       "0  디자인 변화 울트라 기존 디자인 에서 둥글다 모서리 변경 되어다 카메라 모듈 디자인...      1  KOSPI   \n",
       "\n",
       "                                               명사_추출  긍정점수  \n",
       "0  디자인 변화 울트라 기존 디자인 모서리 변경 카메라 모듈 디자인 변화 플러스 외관 ...     1  "
      ]
     },
     "execution_count": 9,
     "metadata": {},
     "output_type": "execute_result"
    }
   ],
   "source": [
    "result2.head(1)"
   ]
  },
  {
   "cell_type": "code",
   "execution_count": 10,
   "metadata": {},
   "outputs": [
    {
     "data": {
      "text/plain": [
       "긍정점수\n",
       "-1    44198\n",
       " 0    15335\n",
       " 1    12979\n",
       "Name: count, dtype: int64"
      ]
     },
     "execution_count": 10,
     "metadata": {},
     "output_type": "execute_result"
    }
   ],
   "source": [
    "result2['긍정점수'].value_counts()"
   ]
  },
  {
   "cell_type": "code",
   "execution_count": 13,
   "metadata": {},
   "outputs": [],
   "source": [
    "result2 = result2.drop_duplicates(subset=['내용_토큰'])"
   ]
  },
  {
   "cell_type": "code",
   "execution_count": 14,
   "metadata": {},
   "outputs": [
    {
     "data": {
      "text/plain": [
       "긍정점수\n",
       "-1    36103\n",
       " 0    14301\n",
       " 1    12295\n",
       "Name: count, dtype: int64"
      ]
     },
     "execution_count": 14,
     "metadata": {},
     "output_type": "execute_result"
    }
   ],
   "source": [
    "result2['긍정점수'].value_counts()"
   ]
  },
  {
   "cell_type": "code",
   "execution_count": 15,
   "metadata": {},
   "outputs": [],
   "source": [
    "# 언더 샘플링\n",
    "\n",
    "sample_data_positive = result2[result2['긍정점수'] == 1].sample(12295)\n",
    "sample_data_negative = result2[result2['긍정점수'] == 0].sample(12295)\n",
    "\n",
    "total_data = pd.concat([sample_data_positive,sample_data_negative])"
   ]
  },
  {
   "cell_type": "code",
   "execution_count": 20,
   "metadata": {},
   "outputs": [],
   "source": [
    "total_data = total_data.drop_duplicates(subset=['내용'])"
   ]
  },
  {
   "cell_type": "code",
   "execution_count": 21,
   "metadata": {},
   "outputs": [
    {
     "name": "stdout",
     "output_type": "stream",
     "text": [
      "<class 'pandas.core.frame.DataFrame'>\n",
      "Index: 24590 entries, 42986 to 17792\n",
      "Data columns (total 9 columns):\n",
      " #   Column  Non-Null Count  Dtype \n",
      "---  ------  --------------  ----- \n",
      " 0   닉네임     24590 non-null  object\n",
      " 1   날짜      24590 non-null  object\n",
      " 2   내용      24590 non-null  object\n",
      " 3   종목      24590 non-null  object\n",
      " 4   내용_토큰   24590 non-null  object\n",
      " 5   label   24590 non-null  int64 \n",
      " 6   시장      24590 non-null  object\n",
      " 7   명사_추출   23478 non-null  object\n",
      " 8   긍정점수    24590 non-null  int64 \n",
      "dtypes: int64(2), object(7)\n",
      "memory usage: 1.9+ MB\n"
     ]
    }
   ],
   "source": [
    "total_data.info()"
   ]
  },
  {
   "cell_type": "code",
   "execution_count": 22,
   "metadata": {},
   "outputs": [
    {
     "data": {
      "text/plain": [
       "24590"
      ]
     },
     "execution_count": 22,
     "metadata": {},
     "output_type": "execute_result"
    }
   ],
   "source": [
    "total_data['내용'].nunique()"
   ]
  },
  {
   "cell_type": "code",
   "execution_count": 23,
   "metadata": {},
   "outputs": [],
   "source": [
    "# 학습 데이터와, 테스트 데이터를 구분\n",
    "\n",
    "train_data, test_data = train_test_split(total_data, test_size=0.25, random_state=2025)"
   ]
  },
  {
   "cell_type": "code",
   "execution_count": 24,
   "metadata": {},
   "outputs": [
    {
     "data": {
      "text/plain": [
       "(18442, 2)"
      ]
     },
     "execution_count": 24,
     "metadata": {},
     "output_type": "execute_result"
    }
   ],
   "source": [
    "# document 열과 label 열의 중복을 제외한 값의 개수\n",
    "train_data['내용'].nunique(), train_data['긍정점수'].nunique()"
   ]
  },
  {
   "cell_type": "code",
   "execution_count": 25,
   "metadata": {},
   "outputs": [
    {
     "name": "stdout",
     "output_type": "stream",
     "text": [
      "총 샘플의 수 : 18442\n"
     ]
    }
   ],
   "source": [
    "print('총 샘플의 수 :',len(train_data))"
   ]
  },
  {
   "cell_type": "code",
   "execution_count": 26,
   "metadata": {},
   "outputs": [
    {
     "data": {
      "text/plain": [
       "<Axes: xlabel='긍정점수'>"
      ]
     },
     "execution_count": 26,
     "metadata": {},
     "output_type": "execute_result"
    },
    {
     "data": {
      "image/png": "[encoded data removed]",
      "text/plain": [
       "<Figure size 640x480 with 1 Axes>"
      ]
     },
     "metadata": {},
     "output_type": "display_data"
    }
   ],
   "source": [
    "train_data['긍정점수'].value_counts().plot(kind = 'bar')"
   ]
  },
  {
   "cell_type": "code",
   "execution_count": 27,
   "metadata": {},
   "outputs": [
    {
     "name": "stdout",
     "output_type": "stream",
     "text": [
      "   긍정점수  count\n",
      "0     0   9206\n",
      "1     1   9236\n"
     ]
    }
   ],
   "source": [
    "print(train_data.groupby('긍정점수').size().reset_index(name = 'count'))"
   ]
  },
  {
   "cell_type": "code",
   "execution_count": 28,
   "metadata": {},
   "outputs": [
    {
     "name": "stdout",
     "output_type": "stream",
     "text": [
      "True\n"
     ]
    }
   ],
   "source": [
    "print(train_data.isnull().values.any())"
   ]
  },
  {
   "cell_type": "code",
   "execution_count": 29,
   "metadata": {},
   "outputs": [
    {
     "name": "stdout",
     "output_type": "stream",
     "text": [
      "닉네임        0\n",
      "날짜         0\n",
      "내용         0\n",
      "종목         0\n",
      "내용_토큰      0\n",
      "label      0\n",
      "시장         0\n",
      "명사_추출    829\n",
      "긍정점수       0\n",
      "dtype: int64\n"
     ]
    }
   ],
   "source": [
    "print(train_data.isnull().sum())"
   ]
  },
  {
   "cell_type": "code",
   "execution_count": null,
   "metadata": {},
   "outputs": [
    {
     "data": {
      "text/html": [
       "<div>\n",
       "<style scoped>\n",
       "    .dataframe tbody tr th:only-of-type {\n",
       "        vertical-align: middle;\n",
       "    }\n",
       "\n",
       "    .dataframe tbody tr th {\n",
       "        vertical-align: top;\n",
       "    }\n",
       "\n",
       "    .dataframe thead th {\n",
       "        text-align: right;\n",
       "    }\n",
       "</style>\n",
       "<table border=\"1\" class=\"dataframe\">\n",
       "  <thead>\n",
       "    <tr style=\"text-align: right;\">\n",
       "      <th></th>\n",
       "      <th>닉네임</th>\n",
       "      <th>날짜</th>\n",
       "      <th>내용</th>\n",
       "      <th>종목</th>\n",
       "      <th>내용_토큰</th>\n",
       "      <th>label</th>\n",
       "      <th>시장</th>\n",
       "      <th>명사_추출</th>\n",
       "      <th>긍정점수</th>\n",
       "    </tr>\n",
       "  </thead>\n",
       "  <tbody>\n",
       "    <tr>\n",
       "      <th>59448</th>\n",
       "      <td>청사초롱맘</td>\n",
       "      <td>2024-12-26T09:52:40+09:00</td>\n",
       "      <td>연초에 팍 오르겠죠유증 포기할 수 있다면</td>\n",
       "      <td>007660</td>\n",
       "      <td>연초 오르다 유증 포기 하다 있다</td>\n",
       "      <td>-1</td>\n",
       "      <td>KOSPI</td>\n",
       "      <td>연초 오르다 유증 포기</td>\n",
       "      <td>0</td>\n",
       "    </tr>\n",
       "    <tr>\n",
       "      <th>19266</th>\n",
       "      <td>배롱이마찌</td>\n",
       "      <td>2024-12-20T08:53:01+09:00</td>\n",
       "      <td>내 주식도 주식이지만 나라 경제 보는 거 같아 더 안타깝다 이렇게 아무것도 안 하고...</td>\n",
       "      <td>051910</td>\n",
       "      <td>주식 주식 이지만 나라 경제 보다 같다 안타깝다 이렇게 아무 하다 놓다 있다 정부 ...</td>\n",
       "      <td>-1</td>\n",
       "      <td>KOSPI</td>\n",
       "      <td>주식 주식 나라 경제 아무 정부 내란 자기 자리 어이 국민 모두 도탄 도탄</td>\n",
       "      <td>0</td>\n",
       "    </tr>\n",
       "    <tr>\n",
       "      <th>56994</th>\n",
       "      <td>놀러왔다</td>\n",
       "      <td>2024-12-30T15:04:38+09:00</td>\n",
       "      <td>공매도로 떨구고 받아먹고 난리네</td>\n",
       "      <td>066970</td>\n",
       "      <td>공매도 떨구다 받다 먹다 난리</td>\n",
       "      <td>-1</td>\n",
       "      <td>KOSPI</td>\n",
       "      <td>공매도 난리</td>\n",
       "      <td>0</td>\n",
       "    </tr>\n",
       "    <tr>\n",
       "      <th>18137</th>\n",
       "      <td>코인나스닥</td>\n",
       "      <td>2024-12-19T18:50:23+09:00</td>\n",
       "      <td>코로나때 잠깐 빠졌다가 바로 반등 수익 구간이었음 그 전에는 다 지지해줬고 홀딩스는...</td>\n",
       "      <td>005490</td>\n",
       "      <td>코로나 잠깐 빠지다 바로 반등 수익 구간 이다 에는 지지 해주다 홀딩스 장기 추세 ...</td>\n",
       "      <td>1</td>\n",
       "      <td>KOSPI</td>\n",
       "      <td>코로나 잠깐 바로 반등 수익 구간 지지 홀딩스 장기 추세 근처 수익 선물 지금 부터 구간</td>\n",
       "      <td>1</td>\n",
       "    </tr>\n",
       "    <tr>\n",
       "      <th>70896</th>\n",
       "      <td>Ssangttaompyo</td>\n",
       "      <td>2024-12-17T09:56:27+09:00</td>\n",
       "      <td>얼마전부터 주식을 시작한 살 입니다 혹시 와 요놈 중에서 고민중인데 어떤거에 알바비...</td>\n",
       "      <td>360750</td>\n",
       "      <td>얼마 부터 주식 시작 이다 혹시 오다 에서 고민 인데 어떤 알바 투자 하다 괜찮다 ...</td>\n",
       "      <td>1</td>\n",
       "      <td>ETF</td>\n",
       "      <td>얼마 부터 주식 시작 혹시 고민 알바 투자 추천</td>\n",
       "      <td>1</td>\n",
       "    </tr>\n",
       "  </tbody>\n",
       "</table>\n",
       "</div>"
      ],
      "text/plain": [
       "                 닉네임                         날짜  \\\n",
       "59448          청사초롱맘  2024-12-26T09:52:40+09:00   \n",
       "19266          배롱이마찌  2024-12-20T08:53:01+09:00   \n",
       "56994           놀러왔다  2024-12-30T15:04:38+09:00   \n",
       "18137          코인나스닥  2024-12-19T18:50:23+09:00   \n",
       "70896  Ssangttaompyo  2024-12-17T09:56:27+09:00   \n",
       "\n",
       "                                                      내용      종목  \\\n",
       "59448                             연초에 팍 오르겠죠유증 포기할 수 있다면  007660   \n",
       "19266  내 주식도 주식이지만 나라 경제 보는 거 같아 더 안타깝다 이렇게 아무것도 안 하고...  051910   \n",
       "56994                                  공매도로 떨구고 받아먹고 난리네  066970   \n",
       "18137  코로나때 잠깐 빠졌다가 바로 반등 수익 구간이었음 그 전에는 다 지지해줬고 홀딩스는...  005490   \n",
       "70896  얼마전부터 주식을 시작한 살 입니다 혹시 와 요놈 중에서 고민중인데 어떤거에 알바비...  360750   \n",
       "\n",
       "                                                   내용_토큰  label     시장  \\\n",
       "59448                                 연초 오르다 유증 포기 하다 있다     -1  KOSPI   \n",
       "19266  주식 주식 이지만 나라 경제 보다 같다 안타깝다 이렇게 아무 하다 놓다 있다 정부 ...     -1  KOSPI   \n",
       "56994                                   공매도 떨구다 받다 먹다 난리     -1  KOSPI   \n",
       "18137  코로나 잠깐 빠지다 바로 반등 수익 구간 이다 에는 지지 해주다 홀딩스 장기 추세 ...      1  KOSPI   \n",
       "70896  얼마 부터 주식 시작 이다 혹시 오다 에서 고민 인데 어떤 알바 투자 하다 괜찮다 ...      1    ETF   \n",
       "\n",
       "                                                   명사_추출  긍정점수  \n",
       "59448                                       연초 오르다 유증 포기     0  \n",
       "19266          주식 주식 나라 경제 아무 정부 내란 자기 자리 어이 국민 모두 도탄 도탄     0  \n",
       "56994                                             공매도 난리     0  \n",
       "18137  코로나 잠깐 바로 반등 수익 구간 지지 홀딩스 장기 추세 근처 수익 선물 지금 부터 구간     1  \n",
       "70896                         얼마 부터 주식 시작 혹시 고민 알바 투자 추천     1  "
      ]
     },
     "execution_count": 30,
     "metadata": {},
     "output_type": "execute_result"
    }
   ],
   "source": [
    "# 한글과 공백을 제외하고 모두 제거\n",
    "train_data['내용'] = train_data['내용'].str.replace(\"[^ㄱ-ㅎㅏ-ㅣ가-힣 ]\",\"\", regex=True)\n",
    "train_data[:5]"
   ]
  },
  {
   "cell_type": "code",
   "execution_count": 31,
   "metadata": {},
   "outputs": [
    {
     "name": "stdout",
     "output_type": "stream",
     "text": [
      "닉네임        0\n",
      "날짜         0\n",
      "내용         0\n",
      "종목         0\n",
      "내용_토큰      0\n",
      "label      0\n",
      "시장         0\n",
      "명사_추출    829\n",
      "긍정점수       0\n",
      "dtype: int64\n"
     ]
    },
    {
     "name": "stderr",
     "output_type": "stream",
     "text": [
      "C:\\Users\\hydrl\\AppData\\Local\\Temp\\ipykernel_14132\\2465209330.py:2: FutureWarning: A value is trying to be set on a copy of a DataFrame or Series through chained assignment using an inplace method.\n",
      "The behavior will change in pandas 3.0. This inplace method will never work because the intermediate object on which we are setting values always behaves as a copy.\n",
      "\n",
      "For example, when doing 'df[col].method(value, inplace=True)', try using 'df.method({col: value}, inplace=True)' or df[col] = df[col].method(value) instead, to perform the operation inplace on the original object.\n",
      "\n",
      "\n",
      "  train_data['내용'].replace('', np.nan, inplace=True)\n"
     ]
    }
   ],
   "source": [
    "train_data['내용'] = train_data['내용'].str.replace('^ +', \"\", regex=True) # white space 데이터를 empty value로 변경\n",
    "train_data['내용'].replace('', np.nan, inplace=True)\n",
    "print(train_data.isnull().sum())\n"
   ]
  },
  {
   "cell_type": "code",
   "execution_count": 32,
   "metadata": {},
   "outputs": [
    {
     "name": "stdout",
     "output_type": "stream",
     "text": [
      "전처리 후 테스트용 샘플의 개수 : 5865\n"
     ]
    },
    {
     "name": "stderr",
     "output_type": "stream",
     "text": [
      "C:\\Users\\hydrl\\AppData\\Local\\Temp\\ipykernel_14132\\2558759913.py:4: FutureWarning: A value is trying to be set on a copy of a DataFrame or Series through chained assignment using an inplace method.\n",
      "The behavior will change in pandas 3.0. This inplace method will never work because the intermediate object on which we are setting values always behaves as a copy.\n",
      "\n",
      "For example, when doing 'df[col].method(value, inplace=True)', try using 'df.method({col: value}, inplace=True)' or df[col] = df[col].method(value) instead, to perform the operation inplace on the original object.\n",
      "\n",
      "\n",
      "  test_data['내용'].replace('', np.nan, inplace=True) # 공백은 Null 값으로 변경\n"
     ]
    }
   ],
   "source": [
    "test_data.drop_duplicates(subset = ['내용'], inplace=True) # document 열에서 중복인 내용이 있다면 중복 제거\n",
    "test_data['내용'] = test_data['내용'].str.replace(\"[^ㄱ-ㅎㅏ-ㅣ가-힣 ]\",\"\", regex=True) # 정규 표현식 수행\n",
    "test_data['내용'] = test_data['내용'].str.replace('^ +', \"\", regex=True) # 공백은 empty 값으로 변경\n",
    "test_data['내용'].replace('', np.nan, inplace=True) # 공백은 Null 값으로 변경\n",
    "test_data = test_data.dropna(how='any') # Null 값 제거\n",
    "print('전처리 후 테스트용 샘플의 개수 :',len(test_data))\n"
   ]
  },
  {
   "cell_type": "code",
   "execution_count": 33,
   "metadata": {},
   "outputs": [],
   "source": [
    "stopwords = ['의','가','이','은','들','는','좀','잘','걍','과','도','를','으로','자','에','와','한','하다']"
   ]
  },
  {
   "cell_type": "code",
   "execution_count": 35,
   "metadata": {},
   "outputs": [
    {
     "name": "stderr",
     "output_type": "stream",
     "text": [
      "100%|██████████| 18442/18442 [01:11<00:00, 257.11it/s]\n"
     ]
    }
   ],
   "source": [
    "X_train = []\n",
    "for sentence in tqdm(train_data['내용']):\n",
    "    tokenized_sentence = okt.morphs(sentence, stem=True) # 토큰화\n",
    "    stopwords_removed_sentence = [word for word in tokenized_sentence if not word in stopwords] # 불용어 제거\n",
    "    X_train.append(stopwords_removed_sentence)\n"
   ]
  },
  {
   "cell_type": "code",
   "execution_count": 36,
   "metadata": {},
   "outputs": [
    {
     "name": "stdout",
     "output_type": "stream",
     "text": [
      "[['연초', '팍', '오르다', '유증', '포기', '수', '있다'], ['내', '주식', '주식', '이지만', '나라', '경제', '보다', '거', '같다', '더', '안타깝다', '이렇게', '아무', '것', '안', '손', '놓다', '있다', '거', '정부', '이르다', '안', '되다', '내란', '일으키다', '자기', '자리', '지키다', '아직도', '저러다', '있다', '게', '말', '되다', '답답하다', '어이', '없다', '국민', '다', '데려가다', '저러다', '모두', '도탄', '이다', '도탄'], ['공매도', '로', '떨구다', '받다', '먹다', '난리', '네']]\n"
     ]
    }
   ],
   "source": [
    "print(X_train[:3])"
   ]
  },
  {
   "cell_type": "code",
   "execution_count": 37,
   "metadata": {},
   "outputs": [
    {
     "name": "stderr",
     "output_type": "stream",
     "text": [
      "100%|██████████| 5865/5865 [00:22<00:00, 261.06it/s]\n"
     ]
    }
   ],
   "source": [
    "X_test = []\n",
    "for sentence in tqdm(test_data['내용']):\n",
    "    tokenized_sentence = okt.morphs(sentence, stem=True) # 토큰화\n",
    "    stopwords_removed_sentence = [word for word in tokenized_sentence if not word in stopwords] # 불용어 제거\n",
    "    X_test.append(stopwords_removed_sentence)\n"
   ]
  },
  {
   "cell_type": "code",
   "execution_count": 38,
   "metadata": {},
   "outputs": [],
   "source": [
    "tokenizer = Tokenizer()\n",
    "tokenizer.fit_on_texts(X_train)"
   ]
  },
  {
   "cell_type": "code",
   "execution_count": 39,
   "metadata": {},
   "outputs": [
    {
     "name": "stdout",
     "output_type": "stream",
     "text": [
      "{'을': 1, '있다': 2, '되다': 3, '보다': 4, '없다': 5, '로': 6, '이다': 7, '에서': 8, '만': 9, '좋다': 10, '아니다': 11, '오르다': 12, '다': 13, '원': 14, '적': 15, '년': 16, '고': 17, '주가': 18, '떨어지다': 19, '더': 20, '같다': 21, '주식': 22, '것': 23, '주': 24, '가다': 25, '오늘': 26, '투자': 27, '까지': 28, '요': 29, '오다': 30, '안': 31, '매수': 32, '일': 33, '상승': 34, '국장': 35, '때': 36, '않다': 37, '하고': 38, '수': 39, '받다': 40, '인': 41, '생각': 42, '만원': 43, '성': 44, '내': 45, '저': 46, '아': 47, '못': 48, '배당': 49, '나': 50, '시장': 51, '들다': 52, '지금': 53, '진짜': 54, '네': 55, '하': 56, '나오다': 57, '중': 58, '전': 59, '월': 60, '돈': 61, '많다': 62, '거': 63, '하락': 64, '미국': 65, '왜': 66, '수익': 67, '다시': 68, '지': 69, '인데': 70, '사람': 71, '제': 72, '그': 73, '크다': 74, 'ㅋㅋ': 75, '분': 76, '너무': 77, '면': 78, '시': 79, '믿다': 80, '알다': 81, '기업': 82, '말': 83, '그냥': 84, '매도': 85, '또': 86, '많이': 87, '대': 88, '그렇다': 89, '점': 90, '게': 91, '실적': 92, '주주': 93, '등': 94, '기': 95, '먹다': 96, '회사': 97, '이제': 98, '부터': 99, '사다': 100, '미장': 101, '삼성': 102, '올라가다': 103, '장': 104, '성장': 105, '계속': 106, '억': 107, '매출': 108, '기술': 109, '버리다': 110, '주다': 111, '개': 112, '라': 113, '물': 114, '목표': 115, '자다': 116, '정도': 117, '기다리다': 118, 'ㅠㅠ': 119, '뭐': 120, '이번': 121, '호재': 122, '삼': 123, '가능성': 124, '너': 125, '맞다': 126, '서': 127, '현재': 128, '파다': 129, '및': 130, '보이다': 131, '조': 132, '거래': 133, '들어오다': 134, '타다': 135, '상': 136, '기관': 137, '때문': 138, '종목': 139, '날': 140, '내년': 141, '되어다': 142, '평단': 143, '개미': 144, 'ㅠ': 145, '반도체': 146, '예상': 147, '외인': 148, '니': 149, '손절': 150, '위': 151, '해보다': 152, '높다': 153, '망하다': 154, '기대': 155, '이상': 156, '차다': 157, '전망': 158, '앞': 159, '올리다': 160, '내일': 161, '갈다': 162, '임': 163, '전자': 164, '나다': 165, '대비': 166, '이익': 167, '보고': 168, '시작': 169, '치다': 170, '삼전': 171, '글로벌': 172, '가격': 173, '이렇다': 174, '들어가다': 175, '넘다': 176, '한국': 177, '증권': 178, '야': 179, '모르다': 180, '소식': 181, '빠지다': 182, 'ㅋㅋㅋ': 183, '하이닉스': 184, '국내': 185, '프로': 186, '늘다': 187, '이유': 188, '여기': 189, '돼다': 190, '나가다': 191, '에는': 192, '한번': 193, '싶다': 194, '해주다': 195, 'ㅋ': 196, '이네': 197, '마이너스': 198, '이라': 199, '관련': 200, '내리다': 201, '걸': 202, '에도': 203, '층': 204, '양': 205, '후': 206, '안되다': 207, '금': 208, '개인': 209, '토스': 210, '언제': 211, '사업': 212, '분기': 213, '영업': 214, '살다': 215, '아직': 216, '어제': 217, '중국': 218, '어떻다': 219, '하하': 220, '추다': 221, '이렇게': 222, '매': 223, '팔': 224, '물리다': 225, '트럼프': 226, '지다': 227, 'ㅜㅜ': 228, '버티다': 229, '상황': 230, '그래도': 231, '상한': 232, '하나': 233, '모두': 234, '힘들다': 235, '이르다': 236, '환율': 237, '시간': 238, '외국인': 239, '몇': 240, '난': 241, '이나': 242, '사고': 243, '올해': 244, '탈출': 245, '내다': 246, '탄핵': 247, '만들다': 248, '확대': 249, '로봇': 250, '발표': 251, '기사': 252, '선': 253, '차트': 254, '조금': 255, '증가': 256, '평가': 257, '말다': 258, '약': 259, '두': 260, '따르다': 261, '엔': 262, '두다': 263, '통해': 264, '장기': 265, '문제': 266, '주요': 267, '모으다': 268, '안정': 269, '단타': 270, '역시': 271, 'ㅎㅎ': 272, '분들': 273, '답': 274, '반등': 275, '세': 276, '보기': 277, '글': 278, '이고': 279, '바라다': 280, '우리': 281, '다른': 282, '가지': 283, '개발': 284, 'ㅎ': 285, '사': 286, '바닥': 287, '인가': 288, '전략': 289, '기회': 290, '감사하다': 291, '조정': 292, '진입': 293, '털다': 294, '함': 295, '기대하다': 296, '손': 297, '끄다': 298, '분석': 299, '배': 300, '내려가다': 301, '남다': 302, '잡다': 303, '힘': 304, '해': 305, '정치': 306, '빼다': 307, '세력': 308, '뜨다': 309, '예정': 310, '타': 311, '가능하다': 312, '계약': 313, '쉬다': 314, '배당금': 315, '개선': 316, '화': 317, '처럼': 318, '영향': 319, '벌다': 320, '나라': 321, '팔고': 322, '기준': 323, '달': 324, '현': 325, '투자자': 326, '지속': 327, '분할': 328, '대한': 329, '놈': 330, '간': 331, '에게': 332, '듯': 333, '근데': 334, '젠': 335, '떨구다': 336, '생산': 337, '정말': 338, '형': 339, '찍다': 340, '가치': 341, '라고': 342, '하루': 343, '뚫다': 344, '미래': 345, '죽다': 346, '어': 347, '리스크': 348, '신': 349, '공시': 350, '퍼': 351, '급등': 352, '님': 353, '무섭다': 354, '단': 355, '매일': 356, '빠르다': 357, '중요하다': 358, '같이': 359, '빨리': 360, '일단': 361, '배터리': 362, '자리': 363, '물량': 364, '추가': 365, '유지': 366, '속': 367, '게임': 368, '재': 369, '시키다': 370, '괜찮다': 371, 'ㅜ': 372, '계좌': 373, '줄': 374, '알': 375, '계획': 376, '한화': 377, '바이오': 378, '제발': 379, '미치다': 380, '위해': 381, '외': 382, '얘': 383, '죠': 384, '일선': 385, '테슬라': 386, '악재': 387, '회복': 388, '엔비디아': 389, '겁니다': 390, '결국': 391, '공장': 392, '니까': 393, '수요': 394, '올': 395, '이후': 396, '총': 397, '저항': 398, '건': 399, '최근': 400, '데': 401, '씩': 402, '줍다': 403, '력': 404, '뉴스': 405, 'ㅋㅋㅋㅋ': 406, '여': 407, '가장': 408, '냐': 409, '아쉽다': 410, '차': 411, '랑': 412, '애': 413, '가져오다': 414, '번': 415, '이건': 416, '얼마': 417, '보유': 418, '어디': 419, '판단': 420, '없이': 421, '마음': 422, '일이': 423, '건가': 424, '간다': 425, '비중': 426, '크게': 427, '오': 428, '특히': 429, '드리다': 430, '넣다': 431, '손실': 432, '제주항공': 433, '하지만': 434, '새해': 435, '이기다': 436, '담다': 437, 'ㅡㅡ': 438, '경쟁': 439, '공급': 440, '대감': 441, '달러': 442, '카카오': 443, '강하다': 444, '돌파': 445, '쓰다': 446, '이라고': 447, '주님': 448, '비다': 449, '바로': 450, '추세': 451, '한미': 452, '인하다': 453, '이라도': 454, '수익률': 455, '지지': 456, '확인': 457, '투하': 458, '그리고': 459, '곳': 460, '끝': 461, '오전': 462, '꾸준하다': 463, '최고': 464, '우리나라': 465, '끝나다': 466, '이미': 467, '결과': 468, '힘내다': 469, '고맙다': 470, '걸리다': 471, '정리': 472, '긍정': 473, '아프다': 474, '기분': 475, '모든': 476, '대다': 477, '연말': 478, '밉다': 479, '느낌': 480, '가보다': 481, '해외': 482, '다음': 483, '만나다': 484, '메모리': 485, '경쟁력': 486, '걱정': 487, '팔다': 488, '흐름': 489, '얼마나': 490, '야하다': 491, '대단하다': 492, '어렵다': 493, '사주': 494, '라도': 495, '대응': 496, '불': 497, '호': 498, '코스피': 499, '희망': 500, '순': 501, '싸다': 502, '수주': 503, '뿐': 504, '인들': 505, '든': 506, '매력': 507, '놀다': 508, '함께': 509, '권': 510, '욕': 511, '매물': 512, '화이팅': 513, '발행': 514, '이야': 515, '이슈': 516, '명': 517, '만에': 518, '동안': 519, '그룹': 520, '량': 521, '걸다': 522, '적다': 523, '전환': 524, '정책': 525, '관심': 526, '해도': 527, '경우': 528, '가요': 529, '판': 530, '오른': 531, '식': 532, '연': 533, '산업': 534, '회장': 535, '지켜보다': 536, '주목': 537, '율': 538, '전기차': 539, '금리': 540, '용': 541, '아직도': 542, '라는': 543, '대통령': 544, '최대': 545, '던지다': 546, '성과': 547, '출시': 548, '터지다': 549, '치료': 550, '확보': 551, '반영': 552, '고생': 553, '보이': 554, '지만': 555, '지수': 556, '리포트': 557, '건설': 558, '강화': 559, '당하다': 560, '경제': 561, '에코': 562, '무슨': 563, '신규': 564, '증시': 565, '비': 566, '확실하다': 567, '이라는': 568, '개월': 569, '멀다': 570, '조금씩': 571, '고민': 572, '에서는': 573, '밖에': 574, '기록': 575, '절하': 576, '아침': 577, '협력': 578, '아무': 579, '놓다': 580, '정부': 581, '성공': 582, '시원하다': 583, '아래': 584, '폭락': 585, '사실': 586, '판매': 587, '특허': 588, '절대': 589, '곧': 590, '보내다': 591, '국민': 592, '익절': 593, '한테': 594, '반': 595, '양자': 596, '축하': 597, '구': 598, '정보': 599, '대한민국': 600, '손해': 601, '이런': 602, '이랑': 603, '수출': 604, '행복하다': 605, '제품': 606, '늦다': 607, '마지막': 608, '누가': 609, '사서': 610, '중이': 611, '진행': 612, '상장': 613, '자체': 614, '시점': 615, '심하다': 616, '꼭': 617, '대표': 618, '인지': 619, '마감': 620, '욕심': 621, '투': 622, '의미': 623, '만주': 624, '구간': 625, '맘': 626, '모습': 627, '명복': 628, '마이크론': 629, '작년': 630, '기반': 631, '당': 632, '천': 633, '확장': 634, '볼': 635, '구매': 636, '거래량': 637, '뭔': 638, '매입': 639, '거의': 640, '다르다': 641, '경': 642, '네이버': 643, '더욱': 644, '의견': 645, '안타깝다': 646, '공매도': 647, '만큼': 648, '단기': 649, '나쁘다': 650, '깨지다': 651, '급': 652, '여력': 653, '매다': 654, '기존': 655, '새롭다': 656, '나락': 657, '에서도': 658, '종가': 659, '에너지': 660, '강화하다': 661, '또한': 662, '수준': 663, '여러분': 664, '딱': 665, '솔루션': 666, '휴': 667, '규모': 668, '생기다': 669, '겠다': 670, '첫': 671, '효과': 672, '신성': 673, '까지는': 674, '말고': 675, '액': 676, '경영': 677, '기도': 678, '찔끔': 679, '쪽': 680, '싫다': 681, '선택': 682, '요즘': 683, '열': 684, '월요일': 685, '팔로우': 686, '결론': 687, '살': 688, '잇다': 689, '항상': 690, '건지다': 691, '낼': 692, '떠나다': 693, '현대': 694, '이상하다': 695, '아깝다': 696, '민주당': 697, '그렇게': 698, '지키다': 699, '장난': 700, '이지': 701, '전체': 702, '즈': 703, '나스닥': 704, '유증': 705, '이지만': 706, '올라오다': 707, '죄송하다': 708, '잃다': 709, '결정': 710, '승인': 711, '법': 712, '신분': 713, '기다': 714, '엄청': 715, '처음': 716, '따다': 717, '마다': 718, '계': 719, '내용': 720, '실현': 721, '타이밍': 722, '바': 723, '고객': 724, '세계': 725, '잘못': 726, '매집': 727, '상태': 728, '매매': 729, '오후': 730, '다음주': 731, '여기다': 732, '이니': 733, '현대차': 734, '며': 735, '소': 736, '장투': 737, '애도': 738, '팔면': 739, '넌': 740, '대로': 741, '자금': 742, '가능': 743, '언': 744, '어차피': 745, '인가요': 746, '금액': 747, '년도': 748, '필요하다': 749, '에서의': 750, '성공하다': 751, '빌다': 752, '쯤': 753, '짜다': 754, '강세': 755, '존버': 756, '지급': 757, '준비': 758, '사랑': 759, '그때': 760, '혁신': 761, '갑자기': 762, '발생': 763, '매우': 764, '초반': 765, '로보틱스': 766, '대해': 767, '락': 768, '복': 769, '시기': 770, '열심히': 771, '주의': 772, '대박': 773, '초': 774, '필요': 775, '복구': 776, '밑': 777, '향': 778, '위로': 779, '적당하다': 780, '보조금': 781, '바보': 782, '폭': 783, '제공': 784, '그만': 785, '아주': 786, '무조건': 787, '상승세': 788, '보여주다': 789, '브로드컴': 790, '제일': 791, 'ㅋㅋㅋㅋㅋ': 792, '물론': 793, '포기': 794, '혹시': 795, '머': 796, '일부': 797, '포함': 798, '쭉': 799, '자산': 800, '레인보우': 801, '찾다': 802, '슬프다': 803, '일본': 804, '얘기': 805, '본인': 806, '참고': 807, '부문': 808, '뒤': 809, '널': 810, '유럽': 811, '업체': 812, '개다': 813, '최소': 814, '가즈': 815, '현금': 816, '풀': 817, '갖다': 818, '소리': 819, '써다': 820, '내려오다': 821, '구조': 822, '사면': 823, '불안하다': 824, '중심': 825, '예': 826, '어느': 827, '부분': 828, '감': 829, '방': 830, '분위기': 831, '기적': 832, '익': 833, '동': 834, '친구': 835, '테크': 836, '본': 837, '보': 838, '들이다': 839, '누구': 840, '수급': 841, '피': 842, '문': 843, '수도': 844, '재료': 845, '래': 846, '관리': 847, '닉': 848, '솔직하다': 849, '너무하다': 850, '궁금하다': 851, '체결': 852, '부자': 853, '서다': 854, '이야기': 855, '주리다': 856, '라인': 857, '연속': 858, '씨': 859, '비용': 860, '공': 861, '분야': 862, '누르다': 863, '안좋다': 864, '두산': 865, '후회': 866, '돌아오다': 867, '박다': 868, '살리다': 869, '향후': 870, '비싸다': 871, '악': 872, '달다': 873, '제대로': 874, 'ㅡ': 875, '당분간': 876, '데이터': 877, 'ㄷㄷ': 878, '평균': 879, '천당': 880, '뭔가': 881, '편하다': 882, '본격': 883, '감소': 884, '남': 885, '윤석열': 886, '장이': 887, '기간': 888, '음': 889, '억원': 890, '본전': 891, '치고': 892, '지겹다': 893, '장비': 894, '률': 895, '재미': 896, '여러': 897, '핵심': 898, '추천': 899, '쓸다': 900, '외국': 901, '예전': 902, '요인': 903, '낮다': 904, '지표': 905, '나르다': 906, '길': 907, '온': 908, '확률': 909, '으로는': 910, '비율': 911, '커뮤': 912, '금요일': 913, '원금': 914, '충분하다': 915, '달성': 916, '당장': 917, '세금': 918, '양봉': 919, '바뀌다': 920, '겁나다': 921, '떨다': 922, '해결': 923, '감사': 924, '머리': 925, '상향': 926, '연기금': 927, '확정': 928, '밝히다': 929, '집중': 930, '환원': 931, '값': 932, '이란': 933, '천천히': 934, '공부': 935, '자기': 936, '질': 937, '한다는': 938, '모': 939, '공항': 940, '항공': 941, '주로': 942, '국가': 943, '시드': 944, '섹터': 945, '우': 946, '회복하다': 947, '포인트': 948, '봉': 949, '포스코': 950, '금융': 951, '어찌': 952, '재무': 953, '활용': 954, '즐겁다': 955, '그래서': 956, '급하다': 957, '천원': 958, '털리다': 959, '정': 960, '쏘다': 961, '지난': 962, '영': 963, '전부': 964, '히': 965, '발': 966, '빨갛다': 967, '재다': 968, '무너지다': 969, '선물': 970, '방어': 971, '불확실': 972, '조선': 973, '늘리다': 974, '힘드다': 975, '유상증자': 976, '라면': 977, '변동성': 978, '방산': 979, '코인': 980, '작다': 981, '방법': 982, '최악': 983, '변화': 984, '전기': 985, '에선': 986, '저가': 987, '인거': 988, '봄': 989, '황': 990, '현실': 991, '추': 992, '시외': 993, '오래': 994, '계엄': 995, '다행': 996, '심리': 997, '웃다': 998, '눈물': 999, '가면': 1000, '이득': 1001, '디': 1002, '테마': 1003, '다양하다': 1004, '아무리': 1005, '전력': 1006, '늘': 1007, '조건': 1008, '형님': 1009, '삼가다': 1010, '이어지다': 1011, '신고': 1012, '산': 1013, '만이': 1014, '믿음': 1015, '스트레스': 1016, '입장': 1017, '날다': 1018, '이면': 1019, '신뢰': 1020, '인간': 1021, '느끼다': 1022, '시스템': 1023, '업계': 1024, '이평': 1025, '이해': 1026, '드디어': 1027, '이차전지': 1028, '이리': 1029, '크리스마스': 1030, '답답하다': 1031, '만약': 1032, '예측': 1033, '마무리': 1034, '수혜': 1035, '이며': 1036, '낫다': 1037, '탓': 1038, '루닛': 1039, '높이다': 1040, '입': 1041, '여전하다': 1042, '대체': 1043, '땐': 1044, '가야': 1045, '해당': 1046, '이러하다': 1047, '이전': 1048, '적용': 1049, '덥다': 1050, '넘어가다': 1051, '그동안': 1052, '발언': 1053, '증권사': 1054, '지옥': 1055, '이재명': 1056, '올려주다': 1057, '급락': 1058, '중공업': 1059, '점유': 1060, '커지다': 1061, '정상': 1062, '넘기다': 1063, '관세': 1064, '열리다': 1065, '인수': 1066, '순간': 1067, '남기다': 1068, '고인': 1069, '눈': 1070, '전문가': 1071, '환경': 1072, '올라서다': 1073, '째': 1074, '뭘': 1075, '각': 1076, '정신': 1077, '나중': 1078, '박살': 1079, '높이': 1080, '펩트론': 1081, '계시다': 1082, '소액': 1083, '능력': 1084, '맞추다': 1085, '보다는': 1086, '자신': 1087, '초전도체': 1088, '횡보': 1089, '법인': 1090, '반대': 1091, '관망': 1092, '설계': 1093, '도움': 1094, '대기': 1095, '사용': 1096, '운영': 1097, '사이': 1098, '움직이다': 1099, '칩': 1100, '코스닥': 1101, '와의': 1102, '미장이': 1103, '대상': 1104, '오히려': 1105, '맛있다': 1106, '재는': 1107, '북미': 1108, '조만간': 1109, '서비스': 1110, '제약': 1111, '차라리': 1112, '완료': 1113, '작': 1114, '저번': 1115, '책임': 1116, '에스': 1117, '길다': 1118, '조롱': 1119, '짓': 1120, '인생': 1121, '프로그램': 1122, '이쁘다': 1123, '때리다': 1124, '보통': 1125, '이냐': 1126, '안보': 1127, '효율': 1128, '확': 1129, '쇼': 1130, '옵션': 1131, '종': 1132, '그러나': 1133, '가족': 1134, '바꾸다': 1135, '별로': 1136, '닉스': 1137, '신기하다': 1138, '납품': 1139, '밸류': 1140, '키우다': 1141, '좋아하다': 1142, '도전': 1143, '테스트': 1144, '속도': 1145, '언급': 1146, '좋아지다': 1147, 'ㅋㅋㅋㅋㅋㅋ': 1148, '나서다': 1149, '박스': 1150, '거지': 1151, '참사': 1152, '머티': 1153, '처': 1154, '셀트리온': 1155, '리': 1156, '션': 1157, '비만': 1158, '임원': 1159, '다시다': 1160, '최저': 1161, '원래': 1162, '댓글': 1163, '경기': 1164, '호가': 1165, '자회사': 1166, '새': 1167, '점점': 1168, '절반': 1169, 'ㅎㅎㅎ': 1170, '깨다': 1171, '공개': 1172, '실제': 1173, '슬슬': 1174, '추진': 1175, '당연하다': 1176, '통과': 1177, '도대체': 1178, '롯데': 1179, '대가': 1180, '유한양행': 1181, '이하': 1182, '몰다': 1183, '고려': 1184, '돌다': 1185, '지원': 1186, '비슷하다': 1187, '날아가다': 1188, '안전': 1189, '그것': 1190, '조심하다': 1191, '유': 1192, '맨날': 1193, '소각': 1194, '공포': 1195, '원전': 1196, '늘어나다': 1197, '양산': 1198, '도입': 1199, '대량': 1200, '이기': 1201, '자꾸': 1202, '동력': 1203, '기아': 1204, '플랫폼': 1205, '스': 1206, '오션': 1207, '얻다': 1208, '에요': 1209, '지능': 1210, '이벤트': 1211, '무안공항': 1212, '위기': 1213, '브랜드': 1214, '짧다': 1215, '계단': 1216, '원대': 1217, '그래프': 1218, '정찰': 1219, '움직임': 1220, '반복': 1221, '잠깐': 1222, '엄청나다': 1223, '죽이다': 1224, '거기': 1225, '지나다': 1226, '언젠가': 1227, '하방': 1228, '소재': 1229, '꼬': 1230, '홀딩': 1231, '까진': 1232, '타고': 1233, '반응': 1234, '부진': 1235, '부럽다': 1236, '이틀': 1237, '극': 1238, '보수': 1239, '경험': 1240, '돌아가다': 1241, '불다': 1242, '부정': 1243, '대부분': 1244, '요일': 1245, '참다': 1246, '엔진': 1247, '세상': 1248, '금지': 1249, '이정': 1250, '낮추다': 1251, '미리': 1252, '별': 1253, '제조': 1254, '적자': 1255, '하향': 1256, '가져가다': 1257, '과거': 1258, '척': 1259, '수량': 1260, '제자리': 1261, '버스': 1262, '그나마': 1263, '코': 1264, '목적': 1265, '끌다': 1266, '오름': 1267, '직원': 1268, '상반기': 1269, '아시': 1270, '지역': 1271, '애플': 1272, '진심': 1273, '까지만': 1274, '관점': 1275, '동시': 1276, '그런데': 1277, '주말': 1278, '신작': 1279, '허가': 1280, '공정': 1281, '단계': 1282, '가가': 1283, '정비': 1284, '비교': 1285, '인상': 1286, '준': 1287, '먼저': 1288, '변하다': 1289, '지선': 1290, '마': 1291, '싸움': 1292, '태우다': 1293, '나머지': 1294, '행사': 1295, '유리기': 1296, '커뮤니티': 1297, '과연': 1298, '붙다': 1299, '오랜': 1300, '상품': 1301, '차세대': 1302, '그게': 1303, '부족하다': 1304, '한주': 1305, '건강': 1306, '방치': 1307, '냥': 1308, '터': 1309, '보시': 1310, '챙기다': 1311, '발전': 1312, '흔들리다': 1313, '노력': 1314, '저렴하다': 1315, '기원': 1316, '똑같다': 1317, '튀다': 1318, '취임': 1319, '참여': 1320, '맛집': 1321, '무겁다': 1322, '에어로': 1323, '짜증나다': 1324, '렉': 1325, '로는': 1326, '어쩔': 1327, '완전': 1328, '작용': 1329, '이든': 1330, '주도': 1331, '폭등': 1332, '과의': 1333, '고수': 1334, '막히다': 1335, '완성': 1336, '패턴': 1337, '부품': 1338, '공모': 1339, '십': 1340, '기본': 1341, '가지다': 1342, '부터는': 1343, '그리다': 1344, '허다': 1345, '맛': 1346, '변경': 1347, '상치': 1348, '방식': 1349, '무': 1350, '인하': 1351, '주식시장': 1352, '천만원': 1353, '박': 1354, '살짝': 1355, '회로': 1356, '벌써': 1357, '우려': 1358, '티': 1359, '선동': 1360, '착륙': 1361, '꼴': 1362, '식이': 1363, '덜': 1364, '사기': 1365, '겨': 1366, '메': 1367, '싹': 1368, '수가': 1369, '매각': 1370, '일어나다': 1371, '비행기': 1372, '당신': 1373, '젠슨황': 1374, '돌리다': 1375, '놓치다': 1376, '노답': 1377, '하반기': 1378, '일만': 1379, '비트코인': 1380, '이마트': 1381, '원하다': 1382, '검색': 1383, '삼양식품': 1384, '모델': 1385, '다가': 1386, '똥': 1387, '세다': 1388, '설정': 1389, '사건': 1390, '라라': 1391, '줄이다': 1392, '도와주다': 1393, '국': 1394, '께': 1395, '병': 1396, '이여': 1397, '혼자': 1398, '일정': 1399, '건강하다': 1400, '제출': 1401, '길이': 1402, '석': 1403, '리가': 1404, '그거': 1405, '으로도': 1406, '막다': 1407, '쭉쭉': 1408, '시대': 1409, '여서': 1410, '사라지다': 1411, '우선': 1412, '입지': 1413, '연간': 1414, '백': 1415, '유일하다': 1416, '가동': 1417, '흠': 1418, '조선업': 1419, '블록딜': 1420, '응원': 1421, '살아나다': 1422, '일도': 1423, '자사': 1424, '금방': 1425, '꼬리': 1426, '물리': 1427, '일반': 1428, '양전': 1429, '연기': 1430, '만대': 1431, '묵다': 1432, '잡고': 1433, '과정': 1434, '파트너': 1435, '하자': 1436, '조사': 1437, '의심': 1438, '머스크': 1439, '치': 1440, '실망': 1441, '채우다': 1442, '부탁드리다': 1443, '적극': 1444, '터치': 1445, '기여': 1446, '홀딩스': 1447, '아야': 1448, '역대': 1449, '진출': 1450, '항공사': 1451, '묻다': 1452, '업황': 1453, '방향': 1454, '모멘텀': 1455, '음봉': 1456, '신경': 1457, '공유': 1458, '빵': 1459, '잠시': 1460, '다만': 1461, '신호': 1462, '상용': 1463, '갤럭시': 1464, '울다': 1465, '그대로': 1466, '희다': 1467, '이탈': 1468, '전쟁': 1469, '대형': 1470, '어이': 1471, '하니': 1472, '주문': 1473, '굳이': 1474, '군': 1475, '국회': 1476, '일지': 1477, '역할': 1478, '반드시': 1479, '편입': 1480, 'ㅋㅋㅋㅋㅋㅋㅋ': 1481, '인기': 1482, '꾸다': 1483, '강력하다': 1484, '드': 1485, '상당하다': 1486, '여부': 1487, '요구': 1488, '여유': 1489, '플러스': 1490, '호호': 1491, '기르다': 1492, '인증': 1493, '꽤': 1494, '부채': 1495, '후반': 1496, '심화': 1497, '거리': 1498, '우상': 1499, '축소': 1500, '유가족': 1501, '만은': 1502, '젠슨': 1503, '금감원': 1504, '가르다': 1505, '프로젝트': 1506, '고가': 1507, '년전': 1508, '조용하다': 1509, '아이': 1510, '시가총액': 1511, '이름': 1512, '옳다': 1513, '울': 1514, '따뜻하다': 1515, '근거': 1516, '부리다': 1517, '몇개': 1518, '자본': 1519, '자동차': 1520, '심': 1521, '신약': 1522, '정권': 1523, '원인': 1524, '이용': 1525, '피해': 1526, '체포': 1527, '접근': 1528, '대출': 1529, '안팔': 1530, '인정': 1531, '사회': 1532, '녀석': 1533, '집': 1534, '증설': 1535, '뭐라다': 1536, '파': 1537, '라니': 1538, '모건': 1539, '스케': 1540, '지난해': 1541, '위험': 1542, '독점': 1543, '마녀': 1544, '행보': 1545, '고려아연': 1546, '시설': 1547, '실패': 1548, '상폐': 1549, '좀더': 1550, '사도': 1551, '덕분': 1552, '더럽다': 1553, '깔다': 1554, '암': 1555, '다년': 1556, '변동': 1557, '불구': 1558, '특징': 1559, '에만': 1560, '줄다': 1561, '전량': 1562, '창': 1563, '며칠': 1564, '최': 1565, '설비': 1566, '둔화': 1567, '탈': 1568, '또는': 1569, '막': 1570, '신세계': 1571, '연금': 1572, '이에요': 1573, '멋지다': 1574, '말씀': 1575, '불안': 1576, '흐르다': 1577, '회': 1578, '사보다': 1579, '파운드리': 1580, '안녕하다': 1581, '센터': 1582, '흔들다': 1583, '전혀': 1584, '설명': 1585, '어가': 1586, '땜': 1587, '겨우': 1588, '어휴': 1589, '막판': 1590, '괜히': 1591, '하이': 1592, '보고서': 1593, '멈추다': 1594, '갈아타다': 1595, '시도': 1596, '투신': 1597, '설립': 1598, '햇': 1599, '젤': 1600, '부동산': 1601, '화가': 1602, '헬': 1603, '스럽다': 1604, '라서': 1605, '담화': 1606, '징': 1607, '자료': 1608, '주포': 1609, '추모': 1610, '분명': 1611, '말씀드리다': 1612, '과제': 1613, '부담': 1614, '다지다': 1615, '보람': 1616, '부탁': 1617, '시리즈': 1618, '엔비': 1619, '합': 1620, '한마디': 1621, '다그': 1622, '신나다': 1623, '가속': 1624, '겁': 1625, '포디': 1626, '조원': 1627, '벗어나다': 1628, '믄': 1629, '쫌': 1630, '가깝다': 1631, '산타': 1632, '찍': 1633, '직전': 1634, '는걸': 1635, '기쁘다': 1636, '안착': 1637, '배우다': 1638, '제시': 1639, '통한': 1640, '이루다': 1641, '전일': 1642, '금리인하': 1643, '산다': 1644, '승리': 1645, '벽': 1646, '각자': 1647, '수수료': 1648, '안정화': 1649, '장주': 1650, '친': 1651, '적금': 1652, '가까이': 1653, '콘크리트': 1654, '어리다': 1655, '이자': 1656, '기기': 1657, '순이익': 1658, '타도': 1659, '모양': 1660, '향상': 1661, '달리': 1662, '절': 1663, '역사': 1664, '도세': 1665, '할인': 1666, '지난주': 1667, '절감': 1668, '스마트': 1669, '뜻': 1670, '님들': 1671, '약하다': 1672, '혜택': 1673, '선박': 1674, '견디다': 1675, '전반': 1676, '착하다': 1677, '구글': 1678, '안전하다': 1679, '산타랠리': 1680, '파월': 1681, '사주다': 1682, '유튜브': 1683, '빅': 1684, '차지': 1685, '처리': 1686, '컨센서스': 1687, '월급': 1688, '기억': 1689, '둘': 1690, '설레다': 1691, '월일': 1692, '엘': 1693, '얼른': 1694, '려고': 1695, '인프라': 1696, '찌다': 1697, '중간': 1698, '듣다': 1699, '구성': 1700, '밀러': 1701, '포': 1702, '보단': 1703, '풀이': 1704, '조심': 1705, '직접': 1706, '그런': 1707, '서로': 1708, '무시': 1709, '그저': 1710, '델타': 1711, '반토막': 1712, '사태': 1713, '전세계': 1714, '잔고': 1715, '구축': 1716, '사례': 1717, '천억': 1718, '쎄다': 1719, '접다': 1720, '자식': 1721, '스페이스': 1722, '기대다': 1723, '일시': 1724, '잊다': 1725, '만하': 1726, '내란': 1727, '근처': 1728, '은행': 1729, '거나': 1730, '따라가다': 1731, '구나': 1732, '대선': 1733, '경고': 1734, '내내': 1735, '당시': 1736, '상상': 1737, '바람': 1738, '밀다': 1739, '첨단': 1740, '연구': 1741, '에이': 1742, '무엇': 1743, '손가락': 1744, '찾아보다': 1745, '없어지다': 1746, '이라서': 1747, '국민연금': 1748, '빨': 1749, '이대로': 1750, '비엠': 1751, '독감': 1752, '환자': 1753, '자주': 1754, '기능': 1755, '보장': 1756, '재도': 1757, '시스': 1758, '달리다': 1759, '편': 1760, '분명하다': 1761, '번째': 1762, '요약': 1763, '의지': 1764, '양자컴퓨터': 1765, '가결': 1766, '팔지': 1767, '설마': 1768, '현지': 1769, '가운데': 1770, '높아지다': 1771, '점심': 1772, '전날': 1773, '스마트폰': 1774, '대규모': 1775, '가망': 1776, '사들이다': 1777, '해오다': 1778, '리츠': 1779, '채널': 1780, '램': 1781, '작업': 1782, 'ㅠㅠㅠ': 1783, '강': 1784, '누군가': 1785, '깊다': 1786, '시체': 1787, '눈치': 1788, '치킨': 1789, '꺼': 1790, '성능': 1791, '중인': 1792, '공사': 1793, '바라보다': 1794, '따라서': 1795, '떡': 1796, '짜증': 1797, '운': 1798, '버티고': 1799, '페타': 1800, '정정': 1801, '지루하다': 1802, '긋다': 1803, '콜': 1804, '콘텐츠': 1805, '그걸': 1806, '행복': 1807, '위치': 1808, '다다': 1809, '즉': 1810, '업': 1811, '파란': 1812, '대한항공': 1813, '쭈욱': 1814, '조절': 1815, '바탕': 1816, '폐지': 1817, '짓다': 1818, '매달': 1819, '실수': 1820, '지정': 1821, 'ㄷ': 1822, '보험': 1823, '보임': 1824, '가나': 1825, '곡': 1826, '대장': 1827, '끼다': 1828, '보호': 1829, '이끌다': 1830, '지는': 1831, '소화': 1832, '배열': 1833, '로서': 1834, '매하': 1835, '왜케': 1836, '기부': 1837, '윤': 1838, '라지': 1839, '테마주': 1840, '극복': 1841, '보합': 1842, '잉': 1843, '뺏다': 1844, '이니까': 1845, '래야': 1846, '보지': 1847, '자마자': 1848, '지치다': 1849, '불타다': 1850, '규제': 1851, '론': 1852, '금은': 1853, 'ㄹㅇ': 1854, '치르다': 1855, '칭찬': 1856, '굿': 1857, '소비': 1858, '해소': 1859, '입다': 1860, '나락가': 1861, '초기': 1862, '느리다': 1863, '니깐': 1864, '친환경': 1865, '개정': 1866, '한숨': 1867, '즐기다': 1868, '빼': 1869, '차이': 1870, '제기': 1871, '소비자': 1872, '이라니': 1873, '수치': 1874, '나타나다': 1875, '누': 1876, '세대': 1877, '붉다': 1878, '스스로': 1879, '이수': 1880, '만족하다': 1881, '단위': 1882, '오픈': 1883, '자리다': 1884, '꿈': 1885, '원가': 1886, '희망이': 1887, '달라': 1888, '출발': 1889, '확신': 1890, '강조': 1891, '정신차리다': 1892, '가로': 1893, '제한': 1894, '장대': 1895, '된거': 1896, '기다림': 1897, '자율': 1898, '사장': 1899, '항': 1900, '용돈': 1901, '부르다': 1902, '넘어서다': 1903, '포트폴리오': 1904, '리기': 1905, '최초': 1906, '마련': 1907, '성장하다': 1908, '타점': 1909, '이구나': 1910, '잡히다': 1911, '심지어': 1912, '우위': 1913, '코리아': 1914, '년월': 1915, '검토': 1916, '흑자': 1917, '무지': 1918, '사용자': 1919, '등록': 1920, '화하다': 1921, '일봉': 1922, '언제나': 1923, '셀': 1924, '신청': 1925, '상위': 1926, '커머스': 1927, '어떤': 1928, '배당률': 1929, '아저씨': 1930, '등등': 1931, '한해': 1932, '엠': 1933, '앱': 1934, '우울하다': 1935, '랠리': 1936, '버': 1937, '수직': 1938, '작성': 1939, '대역폭': 1940, '부디': 1941, '부각': 1942, '자세하다': 1943, '조언': 1944, '공략': 1945, '이미지': 1946, '컴': 1947, '어쩌': 1948, '갈수': 1949, '그러면': 1950, '해석': 1951, '전이': 1952, '엇': 1953, '매년': 1954, '추정': 1955, '근': 1956, '약물': 1957, '마냥': 1958, '소송': 1959, '자랑': 1960, '사항': 1961, '운용': 1962, '꼴다': 1963, '뿐이다': 1964, '띄우다': 1965, '여행': 1966, '처분': 1967, '죽': 1968, '우와': 1969, '유저': 1970, '김': 1971, '알리바바': 1972, '내놓다': 1973, '고체': 1974, '태양광': 1975, '난리': 1976, '표': 1977, '생각나다': 1978, '틀리다': 1979, '계산': 1980, '로템': 1981, '일주일': 1982, '질문': 1983, '업종': 1984, '정지': 1985, '놀라다': 1986, '흘리다': 1987, '뻔하다': 1988, '철강': 1989, '이던': 1990, '무한': 1991, '유입': 1992, '원화': 1993, '열다': 1994, '효': 1995, '잡': 1996, '언론': 1997, '휴머노이드': 1998, '나누다': 1999, '무증': 2000, '역': 2001, '기회비용': 2002, '애초': 2003, '한계': 2004, '선정': 2005, '앞두다': 2006, '일보': 2007, '적어도': 2008, '국제': 2009, '지점': 2010, '애국': 2011, '싸우다': 2012, '고르다': 2013, '단가': 2014, '지연': 2015, '인도': 2016, '흥행': 2017, '유통': 2018, '칠': 2019, '포지션': 2020, '상관': 2021, '응': 2022, '관계': 2023, '랜': 2024, '디스플레이': 2025, '사라': 2026, '판다': 2027, '행': 2028, '미안하다': 2029, '하나요': 2030, '가도': 2031, '올라타다': 2032, '체크': 2033, '줄어들다': 2034, '상법': 2035, '인공': 2036, '아보': 2037, '활동': 2038, '재건': 2039, '최종': 2040, '다니다': 2041, '올려놓다': 2042, '나노': 2043, '연초': 2044, '코로나': 2045, '굉장하다': 2046, '패': 2047, '인내': 2048, '가리다': 2049, '사지': 2050, '위험하다': 2051, '매번': 2052, '발주': 2053, '해제': 2054, '중반': 2055, '어떻': 2056, '거품': 2057, '이루어지다': 2058, '증': 2059, '연결': 2060, '첫날': 2061, '정확하다': 2062, '사모펀드': 2063, '장하다': 2064, '타임': 2065, '숏': 2066, '통장': 2067, '차익': 2068, '전진': 2069, '최태원': 2070, '유리': 2071, '탑재': 2072, '활주로': 2073, '겪다': 2074, '째다': 2075, '키': 2076, '부근': 2077, '약속': 2078, '종합': 2079, '단순하다': 2080, '구체': 2081, '청산': 2082, '양은': 2083, '자유': 2084, '필수': 2085, '계기': 2086, '간만': 2087, '두렵다': 2088, '품질': 2089, '펄': 2090, '려': 2091, '관계자': 2092, '지긋지긋하다': 2093, '노': 2094, 'ㅋㅋㅋㅋㅋㅋㅋㅋ': 2095, '유리하다': 2096, '기체': 2097, '자동': 2098, '편안하다': 2099, '뒤지다': 2100, '큰일': 2101, '예고': 2102, '숫자': 2103, '죄': 2104, '갓': 2105, '포니': 2106, '폭탄': 2107, '지내다': 2108, '북한': 2109, '탑승': 2110, '사이클': 2111, '이형': 2112, '체계': 2113, '단석': 2114, '가득하다': 2115, '흑': 2116, '만족': 2117, '역겹다': 2118, '숨다': 2119, '가슴': 2120, '으': 2121, '계엄령': 2122, '함정': 2123, '사막': 2124, '개장': 2125, '그만하다': 2126, '스럽게': 2127, '투입': 2128, '몰리다': 2129, '전장': 2130, '만천원': 2131, '꽂다': 2132, '행동': 2133, '뽑다': 2134, '도안': 2135, '광고': 2136, '준공': 2137, '영진': 2138, '무안': 2139, '예산': 2140, '공급망': 2141, '횡': 2142, '안해': 2143, '낮아지다': 2144, '절치': 2145, '선도': 2146, '아마': 2147, '컴퓨팅': 2148, '약간': 2149, '부': 2150, '타격': 2151, '승률': 2152, '희생': 2153, '나름': 2154, '라이': 2155, '남아': 2156, '넷플릭스': 2157, '재미있다': 2158, '떼다': 2159, '딩기': 2160, 'ㄱ': 2161, '완화': 2162, '신중하다': 2163, '팀': 2164, '보상': 2165, '차별': 2166, '방안': 2167, '탄소': 2168, '심사': 2169, '노래': 2170, '만의': 2171, '멘탈': 2172, '제주': 2173, '성탄절': 2174, '으로의': 2175, '껄': 2176, '이동': 2177, '생활': 2178, '가라': 2179, '진': 2180, '대신': 2181, '추락': 2182, '의료': 2183, '미련': 2184, '아오': 2185, '마케팅': 2186, '으로만': 2187, '셧다운': 2188, '소소하다': 2189, '찍히다': 2190, '동체': 2191, '러시아': 2192, '심각하다': 2193, '밸류업': 2194, '버드': 2195, '날씨': 2196, '생': 2197, 'ㅈ': 2198, '밤': 2199, '강점': 2200, '저러다': 2201, '성전': 2202, '삶': 2203, '하늘': 2204, '어디서': 2205, '해봤다': 2206, '급증': 2207, '형성': 2208, '화장품': 2209, '반박': 2210, '도박': 2211, '적립': 2212, '철회': 2213, '취임식': 2214, '치기': 2215, '담': 2216, '불기둥': 2217, '각각': 2218, '이주식': 2219, '번만': 2220, '퀀텀': 2221, '의도': 2222, '월욜': 2223, '완벽하다': 2224, '집권': 2225, '하라': 2226, '의약품': 2227, '만남': 2228, '정상화': 2229, '리지': 2230, '팔리다': 2231, '요소': 2232, '배경': 2233, '라나': 2234, '공격': 2235, '월말': 2236, '프매': 2237, '리테일': 2238, '재고': 2239, '예금': 2240, '까지도': 2241, '빡치다': 2242, '가하다': 2243, '엉덩이': 2244, '실패하다': 2245, '그만큼': 2246, '출원': 2247, '특별하다': 2248, '신성은': 2249, '무빙': 2250, '재산': 2251, '통운': 2252, '가만히': 2253, '주차': 2254, '얜': 2255, '일비': 2256, '내부': 2257, '후보': 2258, '쌍': 2259, '합작': 2260, '눌림목': 2261, '다우존스': 2262, '분쟁': 2263, '합병': 2264, '밥': 2265, '영역': 2266, '분배': 2267, '성과급': 2268, '애경': 2269, '대세': 2270, '훅': 2271, '오늘이': 2272, '빌리다': 2273, '폭발': 2274, '대치': 2275, '시즌': 2276, '망': 2277, '퇴직': 2278, '더하다': 2279, '외부': 2280, '넹': 2281, '배다': 2282, '알파': 2283, '하이브': 2284, '잖다': 2285, '사려': 2286, '상관없다': 2287, '사진': 2288, '협업': 2289, '차량': 2290, '시국': 2291, '물어보다': 2292, '에겐': 2293, '드뎌': 2294, '리게티': 2295, '아이고': 2296, '충전': 2297, '중장': 2298, '마르다': 2299, '둔덕': 2300, '편이': 2301, '속이다': 2302, '솔': 2303, '도벽': 2304, '현상': 2305, '사모': 2306, '아예': 2307, 'ㅇ': 2308, '존재': 2309, '리니지': 2310, '약세': 2311, '프리미엄': 2312, '판매량': 2313, '원칙': 2314, '조차': 2315, '도널드': 2316, '기자': 2317, '다가오다': 2318, '일전': 2319, '갚다': 2320, '밝다': 2321, '대기업': 2322, '징그럽다': 2323, '특별': 2324, '일간': 2325, '묶이다': 2326, '획득': 2327, '관': 2328, '도리': 2329, '거래소': 2330, '란': 2331, '벌': 2332, 'ㅇㅇ': 2333, '사팔': 2334, '제외': 2335, '유의': 2336, '한심하다': 2337, '완전하다': 2338, '읽다': 2339, '월달': 2340, '줄때': 2341, '예약': 2342, '틀다': 2343, '쌓다': 2344, '저녁': 2345, '지도': 2346, '싫어하다': 2347, '대폭': 2348, '쳐다보다': 2349, '이내': 2350, '물류': 2351, '모바일': 2352, '주주총회': 2353, '취소': 2354, '쏟아지다': 2355, '바쁘다': 2356, '대략': 2357, '물다': 2358, '전라도': 2359, '따로': 2360, '대금': 2361, '기타': 2362, '수고': 2363, '재미없다': 2364, '시가': 2365, '가주': 2366, '옮기다': 2367, 'ㅇㅈ': 2368, '성향': 2369, '중단': 2370, '침체': 2371, '끌': 2372, '길어지다': 2373, '헐다': 2374, '앤': 2375, '쥬': 2376, '한참': 2377, '예쁘다': 2378, '측': 2379, '소중하다': 2380, '심장': 2381, '연관': 2382, '치우다': 2383, '말르다': 2384, '과도': 2385, '초전도': 2386, '텍': 2387, '영원하다': 2388, '적정': 2389, '잔': 2390, '넥스': 2391, '불가능하다': 2392, '버튼': 2393, '도망가다': 2394, '골': 2395, '완공': 2396, '분하다': 2397, '거짓말': 2398, '목': 2399, '부양': 2400, '요새': 2401, '더불다': 2402, '류': 2403, '저렇게': 2404, '커피': 2405, '기전': 2406, '교체': 2407, '플랜트': 2408, '알람': 2409, '상단': 2410, '의무': 2411, '락일': 2412, '이래서': 2413, '이군': 2414, '안전성': 2415, '특성': 2416, '일찍': 2417, '순위': 2418, '결함': 2419, '명확하다': 2420, '트리': 2421, '빛': 2422, '얼': 2423, '훨씬': 2424, '장마': 2425, '월봉': 2426, '한도': 2427, '런가': 2428, '충분': 2429, '타이거': 2430, '닫다': 2431, '덕': 2432, '아무튼': 2433, '유동성': 2434, '홍보': 2435, '강제': 2436, '날리다': 2437, '소문': 2438, '트릭': 2439, '공매': 2440, '맞춤': 2441, '풀리다': 2442, '일차': 2443, '금일': 2444, '만기일': 2445, '케미칼': 2446, '와도': 2447, '수입': 2448, 'ㅋㅋㅋㅋㅋㅋㅋㅋㅋ': 2449, '법안': 2450, '푸다': 2451, '개판': 2452, '어려움': 2453, '도덕': 2454, '항공기': 2455, '차례': 2456, '영상': 2457, '종일': 2458, '갖추다': 2459, '유한': 2460, '워낙': 2461, '짱': 2462, '동향': 2463, '하단': 2464, '부합': 2465, '소름': 2466, '커서': 2467, '월간': 2468, '먹거리': 2469, '인사': 2470, '반갑다': 2471, '연설': 2472, '겨울': 2473, '주력': 2474, '차원': 2475, '엠피닥터': 2476, '알려지다': 2477, '클라우드': 2478, '안티': 2479, '놔두다': 2480, '연구원': 2481, '풀다': 2482, '생기': 2483, 'ㅠㅜ': 2484, '삭제': 2485, '최선': 2486, '기장': 2487, '호구': 2488, '지독하다': 2489, '볼때': 2490, '기계': 2491, '화학': 2492, '갱신': 2493, '하루하루': 2494, '주사': 2495, '네트워크': 2496, '이딴': 2497, '이래': 2498, '돌아서다': 2499, '위축': 2500, '충족': 2501, '동반': 2502, '채권': 2503, '오징어': 2504, '범위': 2505, '촉진': 2506, '소신': 2507, '뛰다': 2508, 'ㄷㄷㄷ': 2509, '확산': 2510, '리아': 2511, '정국': 2512, '복수': 2513, '속상하다': 2514, '권고': 2515, '입성': 2516, '깔끔하다': 2517, '당선인': 2518, '변수': 2519, '밀리다': 2520, '공식': 2521, '폴란드': 2522, '쟁이': 2523, '가전': 2524, '초과': 2525, '전문': 2526, '패닉': 2527, '분율': 2528, '페이': 2529, '물질': 2530, '거임': 2531, '텔레콤': 2532, '화나다': 2533, '주행': 2534, '어짜피': 2535, '대행': 2536, '실': 2537, '신용': 2538, '휴지': 2539, '오지': 2540, '펀드': 2541, '주체': 2542, '장기로': 2543, '연상': 2544, '말로': 2545, '뼈': 2546, '토방': 2547, '짐': 2548, '개최': 2549, '한데': 2550, '다해': 2551, '타이어': 2552, '반면': 2553, '튀어': 2554, '뒷': 2555, '제작': 2556, '옆': 2557, '유효': 2558, '제안': 2559, '증언': 2560, '부진하다': 2561, '단체': 2562, '기업가': 2563, '초청': 2564, '많아지다': 2565, '우량': 2566, '몫': 2567, '도약': 2568, '암튼': 2569, '구경': 2570, '갈리다': 2571, '채': 2572, '딱하다': 2573, '녹다': 2574, '삼스디': 2575, '활성화': 2576, '끼': 2577, '투자가': 2578, '혼란': 2579, '끼리': 2580, '옛날': 2581, '가시': 2582, 'ㅏ': 2583, '갑': 2584, '쇼핑': 2585, '상처': 2586, '들리다': 2587, '떠들다': 2588, '습': 2589, '잔치': 2590, '튼튼하다': 2591, '최소한': 2592, '장점': 2593, '도망치다': 2594, '가정': 2595, '정체': 2596, '추종': 2597, '소멸': 2598, '중립': 2599, '망치': 2600, '놀리다': 2601, '파두': 2602, '체제': 2603, '피하': 2604, '그날': 2605, '움': 2606, '아름답다': 2607, '전지': 2608, '가기': 2609, '위원회': 2610, '앉다': 2611, '우주': 2612, '진작': 2613, '울트라': 2614, '과열': 2615, '땅': 2616, '특정': 2617, '다행하다': 2618, '강요': 2619, '빔': 2620, '설거지': 2621, '감기': 2622, '버블': 2623, '마치': 2624, '기념': 2625, '동결': 2626, '품목': 2627, '아이온': 2628, '영차': 2629, '으론': 2630, '멍청하다': 2631, '당선': 2632, '미만': 2633, '출처': 2634, '디지털': 2635, '개관': 2636, '대만': 2637, '젠장': 2638, '계시': 2639, '급격하다': 2640, '조억': 2641, '요청': 2642, '장초': 2643, '불가': 2644, '지마켓': 2645, '홀로': 2646, '알림': 2647, '팍': 2648, '도달': 2649, '엉망': 2650, '나타내다': 2651, '평소': 2652, '윗': 2653, '해군': 2654, '올인': 2655, '충격': 2656, '마저': 2657, '면서': 2658, '의존': 2659, '노트': 2660, '절차': 2661, '분만': 2662, '잠재력': 2663, '힘차다': 2664, '마이': 2665, '억울하다': 2666, '규': 2667, '떡락': 2668, '진실': 2669, '어지럽다': 2670, '썩다': 2671, '평생': 2672, '연구소': 2673, '배신': 2674, '내리막': 2675, '요전': 2676, '보이지': 2677, '사우디': 2678, '검사': 2679, '롱': 2680, '세우다': 2681, '편의': 2682, '파이프라인': 2683, '불쌍하다': 2684, '간절하다': 2685, '재밌다': 2686, '붕괴': 2687, '낫': 2688, '입금': 2689, '한국인': 2690, '팍팍': 2691, '더니': 2692, '벌리다': 2693, '생명': 2694, '도합': 2695, '색': 2696, '이러니': 2697, '본적': 2698, '딱지': 2699, '쉽다': 2700, '주인': 2701, '어비스': 2702, '시행': 2703, '접': 2704, '수익권': 2705, '진리': 2706, '죄다': 2707, '만으로': 2708, '뷰티': 2709, '팩트': 2710, '도로': 2711, '서도': 2712, '몸': 2713, '매가': 2714, '버거': 2715, '인플레이션': 2716, '트렌드': 2717, '중요성': 2718, '지나가다': 2719, '애쓰다': 2720, '엉': 2721, '얇다': 2722, '법적': 2723, '실시간': 2724, '파동': 2725, '민주주의': 2726, '엔씨': 2727, '분봉': 2728, '아치': 2729, '개국': 2730, '비롯': 2731, '만도': 2732, '밥캣': 2733, '집단': 2734, '인내심': 2735, '포홀': 2736, '조억원': 2737, '고요': 2738, '진지하다': 2739, '직스': 2740, '역량': 2741, '슬픔': 2742, '노리다': 2743, '휴장': 2744, '엿': 2745, '원자력': 2746, '먹튀': 2747, '추후': 2748, '겜': 2749, '게시판': 2750, '알아보다': 2751, '혹': 2752, '물이': 2753, '회수': 2754, '빨다': 2755, '해내다': 2756, '당일': 2757, '지경': 2758, '공감': 2759, '과금': 2760, '없애다': 2761, '미루다': 2762, '원자재': 2763, '노후': 2764, '선제': 2765, '아아': 2766, '선두': 2767, '충돌': 2768, '영풍': 2769, '실화': 2770, '위주': 2771, '어떠하다': 2772, 'ㅠㅠㅠㅠ': 2773, '괴롭다': 2774, '백종원': 2775, '라야': 2776, '조치': 2777, '끝내다': 2778, '기업인': 2779, '금도': 2780, '건데': 2781, '사팔사팔': 2782, '도깨비': 2783, '탕': 2784, '뇌': 2785, '만천': 2786, '때매': 2787, '서서히': 2788, '중임': 2789, '릴리': 2790, '장사': 2791, '혜주': 2792, '캔들': 2793, '시나리오': 2794, '전환사채': 2795, '붙이다': 2796, '부족': 2797, '세포': 2798, '애매하다': 2799, '그건': 2800, '약사': 2801, '맞이': 2802, '개추': 2803, '대충': 2804, '혹은': 2805, '맡다': 2806, '보아': 2807, '중순': 2808, '반려': 2809, '그렇다고': 2810, '파이팅': 2811, '유도': 2812, '와이': 2813, '달동': 2814, '빠져나가다': 2815, '와우': 2816, '동네': 2817, '작전': 2818, '케이': 2819, '양심': 2820, '세로': 2821, '전고': 2822, '이제야': 2823, '오랫동안': 2824, '그림': 2825, '찌라시': 2826, '참가': 2827, '료': 2828, '이력': 2829, '회피': 2830, '지르다': 2831, '뵙다': 2832, '냉정하다': 2833, '켐': 2834, '모자라다': 2835, '정밀': 2836, '이론': 2837, '시절': 2838, '분산': 2839, '방향성': 2840, '짝': 2841, '한지': 2842, '비록': 2843, '다차': 2844, '밥값': 2845, '의하다': 2846, '다각': 2847, '카': 2848, '데이': 2849, '홀드': 2850, '상업': 2851, '백만원': 2852, '들어서다': 2853, '가량': 2854, '안주': 2855, '새벽': 2856, '의문': 2857, '정답': 2858, '선보이다': 2859, '협동': 2860, '베팅': 2861, '연동': 2862, '안남다': 2863, '책': 2864, '가스': 2865, '타겟': 2866, '우크라이나': 2867, 'ㅜㅠ': 2868, '최상': 2869, '원년': 2870, '내주다': 2871, '귀신': 2872, '임시': 2873, '결': 2874, '방이': 2875, '연탄': 2876, 'ㄴ': 2877, '최고점': 2878, '윤통': 2879, '위안': 2880, '회의': 2881, '구조조정': 2882, '나아지다': 2883, '삼다': 2884, '자고': 2885, '빨간색': 2886, '과세': 2887, '몇번': 2888, '진정하다': 2889, '알바': 2890, '비정상': 2891, '듯이': 2892, '불리다': 2893, '폐': 2894, '찾아가다': 2895, '지인': 2896, '으로서': 2897, '심정': 2898, '성적': 2899, '애기': 2900, '측면': 2901, '받치다': 2902, '맺다': 2903, '고성능': 2904, '일로': 2905, '시너지': 2906, '일일': 2907, '망치다': 2908, '자가': 2909, '욤': 2910, '실리콘': 2911, '모이다': 2912, '광산': 2913, '뛰어나다': 2914, '돌': 2915, '상환': 2916, '치가': 2917, '비밀': 2918, '감동': 2919, '병용': 2920, '일부러': 2921, '읍니': 2922, '체': 2923, '식품': 2924, '어디가': 2925, '국채': 2926, '숨': 2927, '설치': 2928, '크기': 2929, '일진': 2930, '전달': 2931, '컷': 2932, '주장': 2933, '드론': 2934, '자주포': 2935, '물가': 2936, '감흥': 2937, '읍': 2938, '상방': 2939, '수로': 2940, '표현': 2941, '차단': 2942, '훌륭하다': 2943, '뵈다': 2944, '께서': 2945, '달이': 2946, '왤케': 2947, '엑': 2948, '자르다': 2949, '부다': 2950, 'ㅉㅉ': 2951, '꽉': 2952, '엄마': 2953, '환전': 2954, '뚫리다': 2955, '왠지': 2956, '왠': 2957, '선생님': 2958, '주택': 2959, '괴리율': 2960, '삼전도': 2961, '추매': 2962, '무상증자': 2963, '로만': 2964, '공동': 2965, '내지': 2966, '대의': 2967, '입증': 2968, '어케': 2969, '온라인': 2970, '어쩌면': 2971, '수렴': 2972, '개념': 2973, '쌓이다': 2974, '찬티': 2975, '지구': 2976, '저희': 2977, '슈팅': 2978, '물탈': 2979, '트': 2980, '담당': 2981, '통신': 2982, '쟈': 2983, '너무나': 2984, '개별': 2985, '다운': 2986, '엔켐': 2987, '현명하다': 2988, '신한': 2989, '사의': 2990, '순환': 2991, '만기': 2992, '젊다': 2993, '생존': 2994, '용이': 2995, '말리다': 2996, '만해': 2997, '직투': 2998, '흑우': 2999, '쉬': 3000, '취득': 3001, '단지': 3002, '직': 3003, '마인드': 3004, '갈아': 3005, '오르락': 3006, '해상': 3007, '반납': 3008, '묶다': 3009, '호텔': 3010, '주변': 3011, '꺼지다': 3012, '그대': 3013, '국내외': 3014, '고작': 3015, '만가': 3016, '펩': 3017, '방송': 3018, '악화': 3019, '통합': 3020, '유출': 3021, '종료': 3022, '등급': 3023, '해지': 3024, '밧데리': 3025, '프매금투': 3026, '금기': 3027, '법기': 3028, '워': 3029, '매국노': 3030, '재정': 3031, '저리': 3032, '변압기': 3033, '선방': 3034, '위협': 3035, '어우': 3036, '상이': 3037, '해드리다': 3038, '장애': 3039, '깨': 3040, '총알': 3041, '헌재': 3042, '오기': 3043, '왕': 3044, '투기': 3045, '차리다': 3046, '조작': 3047, '안나': 3048, '피해자': 3049, '호조': 3050, '메타': 3051, '기어': 3052, '라며': 3053, '선호': 3054, '이오': 3055, '주도하다': 3056, '앞서': 3057, '차근차근': 3058, '긁다': 3059, '웃기다': 3060, '술': 3061, '메리트': 3062, '관건': 3063, '춥다': 3064, '뚜렷하다': 3065, '삭감': 3066, '박아': 3067, '폐암': 3068, '용기': 3069, '반전': 3070, '뻔': 3071, '까비': 3072, '등락': 3073, '알리': 3074, '중동': 3075, '노려보다': 3076, '강도': 3077, '천만': 3078, '만큼은': 3079, '수소': 3080, '탄탄하다': 3081, '라인업': 3082, '꼽히다': 3083, '주춤': 3084, '패스': 3085, '오브': 3086, '난이도': 3087, '외치다': 3088, '행정부': 3089, '게시': 3090, '인게': 3091, '첨': 3092, '인정받다': 3093, '지적': 3094, '못자다': 3095, '대화': 3096, '비상': 3097, '저런': 3098, '독보': 3099, '메리크리스마스': 3100, '매장': 3101, '닥터': 3102, '질환': 3103, '적응': 3104, '동맹': 3105, '유가': 3106, '주네': 3107, '윙': 3108, '아마존': 3109, '리튬': 3110, '논문': 3111, '쓰이다': 3112, '형태': 3113, '로부터': 3114, '대책': 3115, '기만': 3116, '먹히다': 3117, '인물': 3118, '앨범': 3119, '정용진': 3120, '넘치다': 3121, '태': 3122, '에게는': 3123, '모드': 3124, '대거': 3125, '끊다': 3126, '쇼크': 3127, '특수': 3128, '감안': 3129, '감격': 3130, '본주': 3131, '까맣다': 3132, '옆집': 3133, '고급': 3134, '합의': 3135, '언능': 3136, '아우': 3137, '주시': 3138, '먹기': 3139, '검증': 3140, '투표': 3141, '클라스': 3142, '조달': 3143, '선배': 3144, '주제': 3145, '장님': 3146, '인식': 3147, '해안': 3148, '식수': 3149, '엘앤': 3150, '살펴보다': 3151, '비트': 3152, '풍산': 3153, '이사회': 3154, '장치': 3155, '신차': 3156, '동일하다': 3157, '정기': 3158, '지나': 3159, '던데': 3160, '충': 3161, '지하': 3162, '복귀': 3163, '킹': 3164, '십년': 3165, '보다도': 3166, '금투세': 3167, '엘리베이터': 3168, '갈수록': 3169, '특별법': 3170, '생태계': 3171, '감정': 3172, '누적': 3173, '큐': 3174, '수요일': 3175, '미스': 3176, '월드': 3177, '환': 3178, '거부': 3179, '년뒤': 3180, '까먹다': 3181, '무난': 3182, '안함': 3183, '다소': 3184, '추격': 3185, '기술이전': 3186, '한잔': 3187, '찬': 3188, '던': 3189, '멀리': 3190, '인텔': 3191, '한순간': 3192, '달라지다': 3193, '아빠': 3194, '그래핀': 3195, '유망': 3196, '케파': 3197, '전시': 3198, '플라스틱': 3199, '껄껄': 3200, '호황': 3201, '지리': 3202, '여름': 3203, '범': 3204, '생물': 3205, '프로비': 3206, '안녕': 3207, '해주': 3208, '금호': 3209, '마리': 3210, '검다': 3211, '굳다': 3212, '사가': 3213, '하아': 3214, '자신감': 3215, '것임': 3216, '자연': 3217, '적절하다': 3218, '일라이': 3219, '기지': 3220, '엠앤': 3221, '밴드': 3222, '돼지': 3223, '뜨겁다': 3224, '배당락': 3225, '의장': 3226, '대표이사': 3227, '시사': 3228, '거야': 3229, '로컬': 3230, '대하': 3231, '가게': 3232, '야무지다': 3233, '벌이': 3234, '임상시험': 3235, '연일': 3236, '피알': 3237, '실시': 3238, '판이': 3239, '만을': 3240, '파마': 3241, '증대': 3242, '논의': 3243, '대처': 3244, '인명': 3245, '토': 3246, '주기': 3247, '칼날': 3248, '이상은': 3249, '근본': 3250, '대안': 3251, '음으로': 3252, 'ㅣ': 3253, '한두': 3254, '일동': 3255, '까불다': 3256, '윤씨': 3257, '정치권': 3258, '소량': 3259, '귀엽다': 3260, '하이브리드': 3261, '으으': 3262, '만이라도': 3263, '아끼다': 3264, '파란색': 3265, '갈등': 3266, '야금야금': 3267, '앗': 3268, '직후': 3269, '야당': 3270, '아무렇다': 3271, '태도': 3272, '정치인': 3273, '삿': 3274, '줌': 3275, '도망': 3276, '마넌': 3277, '터주': 3278, '낭': 3279, '가이던스': 3280, '넘어오다': 3281, '쩝': 3282, '저만': 3283, '가창': 3284, '제철': 3285, '원료': 3286, '드럽다': 3287, '국산': 3288, '자본시장': 3289, '방침': 3290, '도르다': 3291, '표준': 3292, '항암제': 3293, '박차': 3294, '메다': 3295, '큐브': 3296, '방문': 3297, '경신': 3298, '세번': 3299, '고치다': 3300, '복사': 3301, '에다': 3302, '시끄럽다': 3303, '아시아': 3304, '개입': 3305, '거절': 3306, '슴': 3307, '벌어지다': 3308, '욕먹다': 3309, '어유': 3310, '엘지': 3311, '주지': 3312, '불황': 3313, '밖': 3314, '경보': 3315, '으로써': 3316, '국힘': 3317, '어떡하다': 3318, '버드스트라이크': 3319, '부가가치': 3320, '업다': 3321, '사르다': 3322, '도주': 3323, '업무': 3324, '프레': 3325, '번은': 3326, '중요': 3327, '아픔': 3328, '카드': 3329, '문재인': 3330, '예산안': 3331, '가끔': 3332, '담그다': 3333, '하나로': 3334, '수중': 3335, '방위산업': 3336, '자동화': 3337, '장기간': 3338, '주무시다': 3339, '파워': 3340, '소프트웨어': 3341, '간단하다': 3342, '핫': 3343, '반사': 3344, '에프': 3345, '탄력': 3346, '관찰': 3347, '챠트': 3348, '임마': 3349, '상여금': 3350, '나이': 3351, '득': 3352, '저장': 3353, '허허': 3354, '상가': 3355, '몇몇': 3356, '턴': 3357, '와중': 3358, '랬': 3359, '연료': 3360, '따위': 3361, '찾아오다': 3362, '참석': 3363, '앙': 3364, '공업': 3365, '피다': 3366, '운반': 3367, '지네': 3368, '톡': 3369, '경향': 3370, '전주': 3371, '겹': 3372, '냄새': 3373, '협상': 3374, '선점': 3375, '일인': 3376, '한동안': 3377, '염병': 3378, '열사': 3379, '측은': 3380, '떨어뜨리다': 3381, '크로스': 3382, 'ㅜㅜㅜ': 3383, '수정': 3384, '철수': 3385, '자재': 3386, '접합': 3387, '원선': 3388, '강판': 3389, '가입': 3390, '대중': 3391, '철새': 3392, '예수': 3393, '해외여행': 3394, '보로': 3395, '닷': 3396, '징글징글': 3397, '블로그': 3398, '가득': 3399, '에이치': 3400, '가볍다': 3401, '티어': 3402, '필옵틱스': 3403, '한강': 3404, '라이브': 3405, '스톤': 3406, '실력': 3407, '지위': 3408, '좌파': 3409, '눌림': 3410, '오로지': 3411, '쓴다': 3412, '묵묵하다': 3413, '이어서': 3414, '감히': 3415, '인치': 3416, '보너스': 3417, '언플': 3418, '즉시': 3419, '부턴': 3420, '안떨어지다': 3421, '이기도': 3422, '경이': 3423, '달달': 3424, '아모레퍼시픽': 3425, '정해지다': 3426, '구입': 3427, '딸': 3428, '부리': 3429, '너희': 3430, '내야': 3431, '사자': 3432, '틀': 3433, '파업': 3434, '카페': 3435, '배부르다': 3436, '압력': 3437, '가방': 3438, '혀': 3439, '불발': 3440, '배정': 3441, '엔솔': 3442, '보도': 3443, '신제품': 3444, '안다': 3445, '소유': 3446, '기차': 3447, '고함': 3448, '오빠': 3449, '기운': 3450, '티웨이': 3451, '일상': 3452, '곱다': 3453, '국토부': 3454, '최적화': 3455, '스윙': 3456, '나니': 3457, '모레': 3458, '요금': 3459, '진단': 3460, '맥': 3461, '세액': 3462, '공제': 3463, '흘러가다': 3464, '참으로': 3465, '거대': 3466, '국정': 3467, '수록': 3468, '일가': 3469, '치면': 3470, '진정': 3471, '무기': 3472, '이래도': 3473, '정이': 3474, '귀찮다': 3475, '다른사람': 3476, '드라마': 3477, '피곤하다': 3478, '로스': 3479, '성격': 3480, '케': 3481, '탁하다': 3482, '살수': 3483, '여객기': 3484, '논란': 3485, '고고': 3486, '확고하다': 3487, '다지': 3488, '살아가다': 3489, '떨리다': 3490, '가치투자': 3491, '동남아': 3492, '벨': 3493, '빚': 3494, '사정': 3495, '차이다': 3496, '공고': 3497, '넥슨': 3498, '금융감독원': 3499, '증명': 3500, '주일': 3501, '라운드': 3502, '랩': 3503, '로열티': 3504, '바이': 3505, '운전': 3506, '싸지르다': 3507, '어마': 3508, '무려': 3509, '종이': 3510, '셀온': 3511, '어이없다': 3512, '이브': 3513, '예술': 3514, '설': 3515, '되게': 3516, '낙폭': 3517, '여야': 3518, '제로': 3519, '코어': 3520, '뉴': 3521, '과는': 3522, '출신': 3523, '나은': 3524, '차주': 3525, '링': 3526, 'ㄴㄴ': 3527, '투경': 3528, '살껄': 3529, '파악': 3530, '지나치다': 3531, '화로': 3532, '바라지': 3533, '찌르다': 3534, '이사': 3535, '수행': 3536, '독일': 3537, '인터넷': 3538, '웃음': 3539, '지배': 3540, '채택': 3541, '나무': 3542, '부모님': 3543, '퓨처': 3544, '가보': 3545, '마켓': 3546, '연장': 3547, '까지의': 3548, '영향력': 3549, '주간': 3550, '맙시': 3551, '상장폐지': 3552, '후퇴': 3553, '효성': 3554, '에서만': 3555, '고집': 3556, '애가': 3557, '커버': 3558, '가만': 3559, '미당': 3560, '누나': 3561, '체인': 3562, '억이': 3563, '불가능': 3564, '거짓': 3565, '하드웨어': 3566, '특': 3567, '종전': 3568, '리스': 3569, '시선': 3570, '파티': 3571, '내리락': 3572, 'ㅋㅋㅋㅋㅋㅋㅋㅋㅋㅋ': 3573, '이겠다': 3574, '부상': 3575, '힘쓰다': 3576, '자격': 3577, '망설이다': 3578, '로써': 3579, '이노': 3580, '부장': 3581, '패키징': 3582, '서버': 3583, '서울': 3584, '잠정': 3585, '웃기': 3586, '의사': 3587, '어쨌든': 3588, '리노': 3589, '유발': 3590, '잠재': 3591, '나가야': 3592, '백화점': 3593, '날아오르다': 3594, '권한': 3595, '예요': 3596, '어깨': 3597, '점차': 3598, '잠': 3599, '효자': 3600, '분도': 3601, '조선해': 3602, '멍청이': 3603, '땡기다': 3604, '바램': 3605, '안심': 3606, '하필': 3607, '대주': 3608, '치열하다': 3609, '반성': 3610, '손잡다': 3611, '다리': 3612, '주자': 3613, '모듈': 3614, '소득': 3615, '머물다': 3616, '금고': 3617, '디아': 3618, '양갱': 3619, '암호': 3620, '컬': 3621, '활발하다': 3622, '틱': 3623, '소통': 3624, '호들갑': 3625, '밀리': 3626, '대일': 3627, '체코': 3628, '셈': 3629, '일텐데': 3630, '다녀오다': 3631, '뒷받침': 3632, '합계': 3633, '캐': 3634, '연봉': 3635, '열차': 3636, '웨이퍼': 3637, '정치가': 3638, '작품': 3639, '마일': 3640, '소형': 3641, '어닝': 3642, '띠': 3643, '분해': 3644, 'ㅎㅎㅎㅎ': 3645, '팔지마다': 3646, '범죄자': 3647, '몰리': 3648, '초보': 3649, '암울하다': 3650, '도해': 3651, '정작': 3652, '티야': 3653, '든든하다': 3654, '켜다': 3655, '불어': 3656, '밝혀지다': 3657, '구라': 3658, '플레이': 3659, '가늠': 3660, '인걸': 3661, '라스베이거스': 3662, '트이다': 3663, '펩타이드': 3664, '부여': 3665, '덮다': 3666, '땡큐': 3667, '지주': 3668, '해먹': 3669, '몽골': 3670, '지우다': 3671, '파킹': 3672, '배팅': 3673, '부도': 3674, '그땐': 3675, '좌우': 3676, '가사': 3677, '유사': 3678, '리나': 3679, '철저하다': 3680, '특허청': 3681, '잃어버리다': 3682, '에헤': 3683, '행위': 3684, '대차': 3685, '노리': 3686, '도지': 3687, '라그': 3688, '빛나다': 3689, '움직': 3690, '청': 3691, '시험': 3692, '딴': 3693, '석유화학': 3694, '초가': 3695, '런': 3696, '석유': 3697, '퀄': 3698, '쑤다': 3699, '유사하다': 3700, '오직': 3701, '왜냐하면': 3702, '수익금': 3703, '손익': 3704, '으이구': 3705, '고서': 3706, '객관': 3707, '물건': 3708, '의원': 3709, '행정': 3710, '사상': 3711, '위상': 3712, 'ㅁ': 3713, 'ㄹ': 3714, '유명하다': 3715, '바겐세일': 3716, '역전': 3717, '듭니': 3718, '말아먹다': 3719, '모름': 3720, '쏟다': 3721, '점진': 3722, '정신건강': 3723, '저렇다': 3724, '발목': 3725, '허영': 3726, '거들다': 3727, '감옥': 3728, '자원': 3729, '교육': 3730, '날개': 3731, '최후': 3732, '장관': 3733, '비판': 3734, '돌입': 3735, '무리': 3736, '리도': 3737, '그렇지만': 3738, '천억원': 3739, '증말': 3740, '환매': 3741, '블랙': 3742, '재벌': 3743, '모색': 3744, '산정': 3745, '증자': 3746, '부결': 3747, '다투다': 3748, '머크': 3749, '출하': 3750, '쌀': 3751, '유일': 3752, '임원진': 3753, '보잉': 3754, '최신': 3755, '차질': 3756, '필요없다': 3757, '가세': 3758, '이만': 3759, '각종': 3760, '가짜': 3761, '돈좀': 3762, '갇히다': 3763, '압도': 3764, '상식': 3765, '무관': 3766, '한전': 3767, '일리': 3768, '치솟다': 3769, '배제': 3770, '날때': 3771, '장외': 3772, '명의': 3773, '자빠지다': 3774, '예감': 3775, '시추': 3776, '감수': 3777, '머트': 3778, '꺾다': 3779, '털': 3780, '유닛': 3781, '떠오르다': 3782, '의회': 3783, '세월호': 3784, '기세': 3785, '맨': 3786, '소득세': 3787, '회생': 3788, '스텔라': 3789, '챗': 3790, '돈벌': 3791, '거두다': 3792, '귀': 3793, '토요일': 3794, '불편하다': 3795, '사과': 3796, '코앞': 3797, '딸리다': 3798, '하리': 3799, '염': 3800, 'ㅋㅋㅋㅋㅋㅋㅋㅋㅋㅋㅋ': 3801, '총리': 3802, '원통': 3803, '자국': 3804, '파이': 3805, '욧': 3806, '그래픽': 3807, '여기저기': 3808, '속지': 3809, '양사': 3810, '조기': 3811, '시위': 3812, '요호': 3813, '폐해': 3814, '도착': 3815, '찌': 3816, '다수': 3817, '불만': 3818, '도금': 3819, '견해': 3820, '수년': 3821, '출금': 3822, '전용': 3823, '죽음': 3824, 'ㅎㄷㄷ': 3825, '펼치다': 3826, '팬': 3827, '이웃': 3828, '이를': 3829, '겄': 3830, '권리': 3831, '선의': 3832, '악마': 3833, '타치': 3834, '선사': 3835, '최대한': 3836, '외화': 3837, '개설': 3838, '자랑스럽다': 3839, '주가조작': 3840, '펄업': 3841, '저기': 3842, '여쭈다': 3843, '쓰리다': 3844, '봉사': 3845, '목요일': 3846, '계열': 3847, '엔씨소프트': 3848, '틈': 3849, '두번째': 3850, '눌리': 3851, '칩셋': 3852, '기해': 3853, '보고오다': 3854, '반년': 3855, '펌프': 3856, '파산': 3857, '외다': 3858, '멸공': 3859, '골로': 3860, '덜다': 3861, '조정은': 3862, '여파': 3863, '찢다': 3864, '동생': 3865, '도저히': 3866, '쓰러지다': 3867, '국무총리': 3868, '물탈돈': 3869, '레거시': 3870, '지난달': 3871, '형제': 3872, '위대하다': 3873, '우선주': 3874, '호주': 3875, '전선': 3876, '익다': 3877, '든지': 3878, '아버지': 3879, '컴퓨터': 3880, '학습': 3881, '놀래다': 3882, '연산': 3883, '어째': 3884, '레': 3885, '탈탈': 3886, '사인': 3887, '뱅크': 3888, '일으키다': 3889, '구조대': 3890, '다미': 3891, '처벌': 3892, '국익': 3893, '경제위기': 3894, '이목': 3895, '쏠리다': 3896, '점검': 3897, '건드리다': 3898, '수리': 3899, '유족': 3900, '고물': 3901, '왜냐면': 3902, '함주': 3903, '대박나다': 3904, '추측': 3905, '년차': 3906, '통수': 3907, '로운': 3908, '악질': 3909, '홧팅': 3910, '컨트롤': 3911, '경쟁률': 3912, '고도': 3913, '끔찍하다': 3914, '자구': 3915, '룡': 3916, '사두': 3917, '이왕': 3918, '두시': 3919, '싸': 3920, '한편': 3921, '카겜': 3922, '스팀': 3923, '도시': 3924, '시공': 3925, '공간': 3926, '요미': 3927, '안기다': 3928, '요법': 3929, '공주': 3930, '억지로': 3931, '빨르다': 3932, '에나': 3933, '만들어지다': 3934, '스디': 3935, '트루': 3936, '으로부터': 3937, '복제': 3938, '사우디아라비아': 3939, '주입': 3940, '솟다': 3941, '년물': 3942, '수십': 3943, '흘러내리다': 3944, '마이나스': 3945, '무선': 3946, '산이': 3947, '중국산': 3948, '불확실하다': 3949, '살살': 3950, '적기': 3951, '무능하다': 3952, '부정선거': 3953, '질리다': 3954, '양호': 3955, '대형주': 3956, '십만원': 3957, '고통': 3958, '멀쩡하다': 3959, '뒤늦다': 3960, '수사': 3961, '단기간': 3962, '자극': 3963, '전만': 3964, '뛰어넘다': 3965, '정세': 3966, '파네': 3967, 'ㄱㄱ': 3968, '취급': 3969, '캬': 3970, '윈터': 3971, '수령': 3972, '꽃': 3973, '캐릭터': 3974, '서진': 3975, '깨닫다': 3976, '착공': 3977, '기미': 3978, '차마': 3979, '한때': 3980, '덕산': 3981, '룩스': 3982, '손꾸락': 3983, '드네': 3984, '곱': 3985, '이대': 3986, '꺽': 3987, '견인': 3988, '주관': 3989, '급상승': 3990, '위반': 3991, '숨기': 3992, '의혹': 3993, '보통주': 3994, '다모': 3995, '결합': 3996, '독자': 3997, '단독': 3998, '케어': 3999, '대답': 4000, '속보': 4001, '계수': 4002, '광물': 4003, '소켓': 4004, '격차': 4005, '노조': 4006, '이신': 4007, '만만': 4008, '팹': 4009, '우린': 4010, '걸그룹': 4011, '아티스트': 4012, '이러다가': 4013, '죽겠네': 4014, '뛰어들다': 4015, '수많다': 4016, '나와라': 4017, '카메라': 4018, '디자인': 4019, '화면': 4020, '정확성': 4021, '우수': 4022, '날뛰다': 4023, '덩어리': 4024, '퍼센트': 4025, '레버리지': 4026, '발견': 4027, '진의': 4028, '에혀': 4029, '양도': 4030, '조직': 4031, '인터내셔널': 4032, '꾼': 4033, '발사': 4034, '요만': 4035, '할아버지': 4036, '장소': 4037, '디바이스': 4038, '게다가': 4039, '박근혜': 4040, '본업': 4041, '압박': 4042, '투주': 4043, '공화당': 4044, '구리': 4045, '횡보하': 4046, '적임': 4047, '잘나가다': 4048, '승자': 4049, '셀트': 4050, '시각': 4051, '데리': 4052, '협의': 4053, '리더십': 4054, '대머리': 4055, '동월': 4056, '숨기다': 4057, '동일': 4058, '용량': 4059, '관절염': 4060, '마찬가지': 4061, '아버': 4062, '똑똑하다': 4063, '미주': 4064, '수술': 4065, '견제': 4066, '개돼지': 4067, '로이터': 4068, '낯설다': 4069, '만요': 4070, '냠냠': 4071, '상대': 4072, '꺼리다': 4073, '한적': 4074, '지고': 4075, '베트남': 4076, '어머니': 4077, '보라': 4078, '상속': 4079, '신설': 4080, '레전드': 4081, '알루미늄': 4082, '뿌리다': 4083, '요하': 4084, '놀이터': 4085, '실체': 4086, '집행': 4087, '제거': 4088, '서류': 4089, '거만': 4090, '점수': 4091, '어지간하다': 4092, '홍콩': 4093, '잠수함': 4094, '진보': 4095, '사유': 4096, '내후년': 4097, '주년': 4098, '껏': 4099, '단단하다': 4100, '주어': 4101, '임기': 4102, '재인': 4103, '부어': 4104, '미래에셋': 4105, '부과': 4106, '도중': 4107, '논리': 4108, '포착': 4109, '인력': 4110, '통': 4111, '보답': 4112, '싼값': 4113, '절도': 4114, '애국자': 4115, '기한': 4116, '을해': 4117, '뚝': 4118, '오니': 4119, '해명': 4120, '다물다': 4121, '다치다': 4122, '푼': 4123, '통화': 4124, '레벨': 4125, '일제': 4126, '글로비스': 4127, '주신': 4128, '조선소': 4129, '골든': 4130, '출시일': 4131, '침해': 4132, '요물': 4133, '책임지다': 4134, '짓거리': 4135, '보완': 4136, '흥': 4137, '해운': 4138, '왓': 4139, '투심': 4140, '실험': 4141, '현장': 4142, '징징거리다': 4143, '따라오다': 4144, '화폐': 4145, '기밀': 4146, '과실': 4147, '그치다': 4148, '인건비': 4149, '삼각': 4150, '저력': 4151, '답변': 4152, '캐파': 4153, '하든': 4154, '룩': 4155, '나아가다': 4156, '초년': 4157, '나발': 4158, '돌아보다': 4159, '표적': 4160, '수없이': 4161, '린': 4162, '방금': 4163, '두기': 4164, '화성': 4165, '버그': 4166, '안내': 4167, '도쿄': 4168, '꼬이다': 4169, '엮': 4170, '보안': 4171, '용진': 4172, 'ㅅ': 4173, '동기': 4174, '추론': 4175, '어플': 4176, '별개': 4177, '사신': 4178, '프': 4179, '마치다': 4180, '배아': 4181, '부사': 4182, '도체': 4183, '카톡': 4184, '각도': 4185, '파일럿': 4186, '샘플': 4187, '다사': 4188, '팩': 4189, '예방': 4190, '박정희': 4191, '무상': 4192, '무역': 4193, '수상': 4194, '니켈': 4195, '호실': 4196, '계통': 4197, '도람': 4198, '와리': 4199, '건투': 4200, '눈물나다': 4201, '바이든': 4202, '아이러니': 4203, '재개': 4204, '메이저': 4205, '콜라보': 4206, '뇌피셜': 4207, '필라델피아': 4208, '타지': 4209, '상호': 4210, '루': 4211, '연결하다': 4212, '이나마': 4213, '다루다': 4214, '금투': 4215, '가의': 4216, '유안': 4217, '돋다': 4218, '정말로': 4219, '생일': 4220, '이분': 4221, '쪼개다': 4222, '돈버': 4223, '진득': 4224, '다짐': 4225, '신다': 4226, '까지나': 4227, '스러운': 4228, '꺼내다': 4229, '이의': 4230, '가까워지다': 4231, '가치주': 4232, '쥐꼬리': 4233, '한정': 4234, '원만': 4235, '덩': 4236, '보신': 4237, '오우': 4238, '찬스': 4239, '탱': 4240, '예견': 4241, '회항': 4242, '고지': 4243, '월동': 4244, '과감': 4245, '랄': 4246, '엔화': 4247, '유행': 4248, '마진': 4249, '실행': 4250, '도모': 4251, '두께': 4252, '보강': 4253, '앤디': 4254, '중소': 4255, '종류': 4256, '물러나다': 4257, '작동': 4258, '깜짝': 4259, '하차': 4260, '소수점': 4261, '여태': 4262, '애국심': 4263, '이재용': 4264, '리스트': 4265, '괴롭히다': 4266, '현금화': 4267, '중점': 4268, '기아차': 4269, '견고하다': 4270, '상회': 4271, '다라': 4272, '차려': 4273, '자일': 4274, '호평': 4275, '점도': 4276, '빨갱이': 4277, '저축': 4278, '라보': 4279, '출범': 4280, '수습': 4281, '패키지': 4282, 'ㅠㅠㅠㅠㅠ': 4283, '단말': 4284, '병자': 4285, '의외로': 4286, '이돈': 4287, '수백': 4288, '아유': 4289, '품다': 4290, '전후': 4291, '삼바': 4292, '요장': 4293, '혁': 4294, '선언': 4295, '배출': 4296, '걸음': 4297, '여러가지': 4298, '수리온': 4299, '국방': 4300, '주위': 4301, '혐의': 4302, '검찰': 4303, '제도': 4304, '필요성': 4305, '다시금': 4306, '왕창': 4307, '주식회사': 4308, '등장': 4309, '영국': 4310, '탑': 4311, 'ㄱㄱㄱ': 4312, '엥': 4313, '소원': 4314, '기네': 4315, '평안하다': 4316, '폰': 4317, '느껴지다': 4318, '업데이트': 4319, '용하다': 4320, '아이오': 4321, '조지아주': 4322, '연구개발': 4323, '출자': 4324, '명절': 4325, '한결같다': 4326, '괴': 4327, '랏': 4328, '시오': 4329, '조종사': 4330, '자만': 4331, '대학생': 4332, '모양새': 4333, '제법': 4334, '스타': 4335, '이보': 4336, '막상': 4337, '소개': 4338, '잠수': 4339, '크래프톤': 4340, '야수': 4341, '노무': 4342, '말고는': 4343, '시티': 4344, '스퀘어': 4345, '맛보다': 4346, '단순': 4347, '미우다': 4348, '노잼': 4349, '소고기': 4350, '중앙': 4351, '우스': 4352, '황반변성': 4353, '병원': 4354, '면역': 4355, '중남미': 4356, '에스티': 4357, '사기꾼': 4358, '찬성': 4359, '전투': 4360, '인지도': 4361, '지난번': 4362, '기둥': 4363, '한섬': 4364, '뎅': 4365, '디스': 4366, '카운트': 4367, '헛소리': 4368, '금욜': 4369, '아마도': 4370, '기조': 4371, '구먼': 4372, '능': 4373, '운명': 4374, '푼돈': 4375, '물어': 4376, '당당하다': 4377, '소스': 4378, '무게': 4379, '민': 4380, '상온': 4381, '재무제표': 4382, '하고는': 4383, '월배': 4384, '놀이': 4385, '폭망': 4386, '희망고문': 4387, '그다음': 4388, '고층': 4389, '온갖': 4390, '전시회': 4391, '구현': 4392, '진화': 4393, '전신': 4394, '렵': 4395, '저주': 4396, '평': 4397, '소망': 4398, '극대': 4399, '사채': 4400, '캐나다': 4401, '객': 4402, '그린': 4403, '엔터': 4404, '다나': 4405, '성은': 4406, '부활': 4407, '구도': 4408, '업그레이드': 4409, '칼': 4410, '요원': 4411, '오류': 4412, '번역': 4413, '앞서다': 4414, '거치다': 4415, '현황': 4416, '부스': 4417, '밟다': 4418, '한솔': 4419, '국면': 4420, '우수하다': 4421, '상담': 4422, '수단': 4423, '년후': 4424, 'ㅡㅡㅡ': 4425, '유효하다': 4426, '인수합병': 4427, '기초': 4428, '베이': 4429, '다예': 4430, '구상': 4431, '감각': 4432, '멋있다': 4433, '무리하다': 4434, '절망': 4435, '멀티': 4436, '리턴': 4437, '투합': 4438, '기쁨': 4439, '질질': 4440, '환영': 4441, '다변': 4442, '통상': 4443, '지면': 4444, '구만': 4445, '팔껄': 4446, '카지노': 4447, '호제': 4448, '개잡': 4449, '존': 4450, '대놓고': 4451, '아리': 4452, '어둡다': 4453, '용다': 4454, '기준금리': 4455, '요한': 4456, '개편': 4457, '자네': 4458, '당초': 4459, '케이블': 4460, '정시': 4461, '유또속': 4462, '틴': 4463, 'ㅓ': 4464, '확충': 4465, '주민': 4466, '몰래': 4467, '방지': 4468, '따라잡다': 4469, '힘좀': 4470, '기름': 4471, '제조업': 4472, '맘대로': 4473, '치네다': 4474, '벡트': 4475, '분노': 4476, '불안감': 4477, '당국': 4478, '부양책': 4479, '스트라이크': 4480, '처참하다': 4481, '어서': 4482, '사먹다': 4483, '재계': 4484, '슬림': 4485, '안철수': 4486, '테라파워': 4487, '견': 4488, '훨훨': 4489, '개인정보': 4490, '탈시': 4491, '소외': 4492, '아들': 4493, '어색하다': 4494, '핸드폰': 4495, '씁쓸하다': 4496, '슨피': 4497, '활': 4498, '살때': 4499, '늦추다': 4500, '어도': 4501, '엔지니어링': 4502, '풋': 4503, '미디어': 4504, '코스': 4505, '구석': 4506, '머티리얼즈': 4507, '당사': 4508, '하청': 4509, '원망하다': 4510, '냉각': 4511, '한덕수': 4512, '진전': 4513, '어치': 4514, '어요': 4515, '진상': 4516, '지지자': 4517, '치자': 4518, '래지': 4519, '비실': 4520, '붙잡다': 4521, '테': 4522, '쌀때': 4523, '빠져나오다': 4524, '필옵': 4525, '리브': 4526, '위탁': 4527, '액티브': 4528, '청주': 4529, '징징': 4530, '뜯다': 4531, 'ㅆ': 4532, '안감': 4533, '이쯤': 4534, '모로': 4535, '개이득': 4536, '미터': 4537, '비즈': 4538, '마땅하다': 4539, '컨퍼런스': 4540, '피앤': 4541, '그러하다': 4542, '금물': 4543, '오오': 4544, '로또': 4545, '닿다': 4546, '환희': 4547, '함부로': 4548, '재판관': 4549, '임명': 4550, '박히다': 4551, '퉤': 4552, '이건희': 4553, '똑바로': 4554, '여지': 4555, '합치다': 4556, '말함': 4557, '노무현': 4558, '존경': 4559, '선포': 4560, '악몽': 4561, '퍼지다': 4562, '뜸': 4563, '고견': 4564, '파적': 4565, '철': 4566, '지기': 4567, '펩쪽': 4568, '거진': 4569, '신속하다': 4570, '떼': 4571, '기하': 4572, '알파노': 4573, '특이점': 4574, '자유롭다': 4575, '모험': 4576, '격': 4577, '혐오': 4578, '도나': 4579, '바이러스': 4580, '비엘': 4581, '필': 4582, '살피다': 4583, '요가': 4584, '쪼금': 4585, '만전': 4586, '전가': 4587, '고정': 4588, '비소': 4589, '가버리다': 4590, '간이': 4591, '찬양': 4592, '개량': 4593, '토목': 4594, '톤': 4595, '우마': 4596, '능지': 4597, '사제': 4598, '매주': 4599, '비행': 4600, '텐데': 4601, '끝없다': 4602, '컨소시엄': 4603, '에게도': 4604, '카뱅': 4605, '뱉다': 4606, '어수선하다': 4607, '허구': 4608, '멍': 4609, '중소기업': 4610, '비난': 4611, '실리다': 4612, '베스트': 4613, '양반': 4614, '파랗다': 4615, '펀더멘탈': 4616, '전해지다': 4617, '발작': 4618, '데뷔': 4619, '일당': 4620, '월초': 4621, '인류': 4622, '퇴근': 4623, '세라': 4624, '이로': 4625, '목소리': 4626, '사가다': 4627, '스토어': 4628, '용도': 4629, '레이': 4630, '환호': 4631, '어어': 4632, '홈페이지': 4633, '천지': 4634, '을사년': 4635, '낙하': 4636, '요나': 4637, '보안법': 4638, '초점': 4639, 'ㅋㅋㅋㅋㅋㅋㅋㅋㅋㅋㅋㅋㅋ': 4640, '더블': 4641, '박순': 4642, '기법': 4643, '느긋하다': 4644, '방위사업청': 4645, '경찰': 4646, '부끄럽다': 4647, '치도': 4648, '투명': 4649, '꿀': 4650, '펀': 4651, '결산': 4652, '신박꼼': 4653, '부작용': 4654, '러시': 4655, '전역': 4656, '오프라인': 4657, '조가': 4658, '사이드': 4659, '대웅제약': 4660, '조각': 4661, '옵': 4662, '자임': 4663, '이중': 4664, '균': 4665, '걸치다': 4666, '갑작스럽다': 4667, '버시': 4668, '쩌': 4669, '니당다': 4670, '하강': 4671, '줄줄': 4672, '기고': 4673, '뿌리': 4674, '분향소': 4675, '살걸': 4676, '제어': 4677, '장남': 4678, '오르락내리락': 4679, '매크로': 4680, '알고리즘': 4681, '동참': 4682, '요건': 4683, '자제': 4684, '시그널': 4685, '나눔': 4686, '그릇': 4687, '광': 4688, '조성': 4689, '우호': 4690, '하여튼': 4691, '전형': 4692, '당한': 4693, '재기': 4694, '빼먹다': 4695, '소진': 4696, '어딨다': 4697, '사연': 4698, '제이': 4699, '투어': 4700, '부회장': 4701, '둥글다': 4702, '베젤': 4703, '토크': 4704, '칼럼': 4705, '무단': 4706, '배포': 4707, '증빙': 4708, '링크': 4709, '딩': 4710, '징징대다': 4711, '더디다': 4712, '젠알앤': 4713, '엠하이젠알앤엠': 4714, '와는': 4715, '일수': 4716, '합리': 4717, '착각': 4718, '근래': 4719, '기금': 4720, '시프트': 4721, '헉': 4722, '짖다': 4723, '다방': 4724, '마약': 4725, '추구': 4726, '자공시': 4727, '약품': 4728, '무새': 4729, '항체': 4730, '분리': 4731, '위성': 4732, '인체': 4733, '빌어': 4734, '반짝': 4735, '차기': 4736, '위인': 4737, '서민': 4738, '민주': 4739, '지갑': 4740, '빨강': 4741, '홈쇼핑': 4742, '고통스럽다': 4743, '참나': 4744, '로라': 4745, '트론': 4746, '먹이다': 4747, '신년': 4748, '이드': 4749, '일어서다': 4750, '에서나': 4751, '금융투자': 4752, '장창': 4753, '어그': 4754, '는가': 4755, '적도': 4756, '시스템스': 4757, '바르다': 4758, '토막': 4759, '교훈': 4760, '보더': 4761, '한쪽': 4762, '우짜': 4763, '농심': 4764, '보험사': 4765, '가파르': 4766, '므': 4767, '극적': 4768, '표시': 4769, '미세': 4770, '처리장치': 4771, 'ㅇㅋ': 4772, '은근': 4773, '너무나도': 4774, '배당락일': 4775, '남편': 4776, '배고프다': 4777, '씹다': 4778, '커녕': 4779, '까지가': 4780, '가산': 4781, '전염병': 4782, '무릎': 4783, '체감': 4784, '전도성': 4785, '날짜': 4786, '먹이': 4787, '광기': 4788, '결제': 4789, '달려들다': 4790, '포트': 4791, '천이': 4792, '신재생에너지': 4793, '망정': 4794, '비아': 4795, '렷': 4796, '불과하다': 4797, '안도': 4798, '감다': 4799, '후진국': 4800, '극단': 4801, '이용자': 4802, '국제공항': 4803, '택시': 4804, '품절': 4805, '어마어마하다': 4806, '고배': 4807, '재앙': 4808, '마음먹다': 4809, '에잇': 4810, '블랙록': 4811, '일부분': 4812, '도파민': 4813, '군부': 4814, '표결': 4815, '단일': 4816, '트와이스': 4817, '테일러': 4818, '타라': 4819, '끌리다': 4820, '증거': 4821, '여론': 4822, '씨드': 4823, '그중': 4824, '꼬라박': 4825, '협박': 4826, '푸드': 4827, '억대': 4828, '대미': 4829, '누님': 4830, '약해지다': 4831, '사오다': 4832, '땜시': 4833, '밥그릇': 4834, '아시아나': 4835, '해체': 4836, '받아들이다': 4837, '타워': 4838, '무관심': 4839, '후회되다': 4840, '하고프다': 4841, '나인': 4842, '부산': 4843, '후속': 4844, '어쩌구': 4845, '분류': 4846, '정직하다': 4847, '고로': 4848, '고마': 4849, '모비스': 4850, '해주시': 4851, '스냅드래곤': 4852, '릭': 4853, '관측': 4854, '앞날': 4855, '준수': 4856, '린다': 4857, '비꼬다': 4858, '빽': 4859, '조명': 4860, '운행': 4861, '먹음': 4862, '악플': 4863, '슈퍼': 4864, '뎌': 4865, '슬': 4866, '전차': 4867, '천주': 4868, '약화': 4869, '휴일': 4870, '복잡하다': 4871, '잘나오다': 4872, '불투명하다': 4873, '살이': 4874, '담배': 4875, '청구': 4876, '안건': 4877, '상공': 4878, '잭팟': 4879, '어리석다': 4880, '데리다': 4881, '넓히다': 4882, '부재': 4883, '간첩': 4884, '노출': 4885, '승부': 4886, '대도': 4887, '자의': 4888, '잘알다': 4889, '채다': 4890, '겉': 4891, '추미애': 4892, '아내': 4893, '예외': 4894, '상선': 4895, '동맹국': 4896, '호기': 4897, '한층': 4898, '원자로': 4899, '에어': 4900, '시초': 4901, '징조': 4902, '와이프': 4903, '옹': 4904, '마법': 4905, '정오': 4906, '수두': 4907, '스타트': 4908, '피지': 4909, '지지다': 4910, '베다': 4911, '어딘가': 4912, '면세점': 4913, '멘트': 4914, '파랑': 4915, '끼치다': 4916, '이커머스': 4917, '닦다': 4918, '서두르다': 4919, '플스': 4920, '복리': 4921, '파서': 4922, 'ㅐ': 4923, '존국': 4924, '충성': 4925, '어르다': 4926, '머릿속': 4927, '지진': 4928, '규명': 4929, '렉스': 4930, '에센': 4931, '사하다': 4932, '닝': 4933, '눌릴때': 4934, '무대': 4935, '내외': 4936, '족': 4937, '맡기다': 4938, '뻘짓': 4939, '프레임': 4940, '혼다': 4941, '이따': 4942, '반미': 4943, '거부권': 4944, '유나이티드': 4945, '달뒤': 4946, '댐': 4947, '심다': 4948, '별도': 4949, '심심하다': 4950, '유플러스': 4951, '걷다': 4952, '사명': 4953, '고장': 4954, '헷지': 4955, '마크': 4956, '고속': 4957, '듣보잡': 4958, '시골': 4959, '불량': 4960, '아파트': 4961, '화요일': 4962, '장도': 4963, '랜딩': 4964, '사전': 4965, '후기': 4966, '옵니다': 4967, '일치': 4968, '대왕고래': 4969, '친미': 4970, '안달': 4971, '고문': 4972, '시전': 4973, 'ㅉ': 4974, '밀당': 4975, '꼼수': 4976, '붐': 4977, '제노스': 4978, '매월': 4979, '고하': 4980, '증여': 4981, '해성': 4982, '한수원': 4983, '독립': 4984, '토레스': 4985, '만드': 4986, '설득': 4987, '공산당': 4988, '원일': 4989, '시민': 4990, '라네': 4991, '이기주의': 4992, '작살': 4993, '레이크': 4994, '콘퍼런스': 4995, '메인': 4996, '트랙': 4997, '하여간': 4998, '사망자': 4999, '따지다': 5000, '신용등급': 5001, '두려움': 5002, '농': 5003, 'ㅡㅡㅋ': 5004, '눈가': 5005, '잡기': 5006, '곤두박질': 5007, '회계': 5008, '발악': 5009, '올바르다': 5010, '멱살': 5011, '기자간담회': 5012, '거뜬하다': 5013, '졋': 5014, '다누': 5015, '나가요': 5016, '플': 5017, '지니': 5018, '갯수': 5019, '만선': 5020, '답지': 5021, '쥐다': 5022, '작고': 5023, '무리다': 5024, '짐작': 5025, '비주': 5026, '행차': 5027, '인플레': 5028, '이구만': 5029, '라거': 5030, '웨이브': 5031, '고만': 5032, '대덕': 5033, '았': 5034, '사업자': 5035, '큰손': 5036, '본계약': 5037, '상징': 5038, '따리': 5039, '어려워지다': 5040, '고용': 5041, '음성': 5042, '고무': 5043, '윤정': 5044, '거대하다': 5045, '육박': 5046, '인터': 5047, '청약': 5048, '동등': 5049, '아웃': 5050, '인자': 5051, '식사': 5052, '위아래': 5053, '무식하다': 5054, '가관': 5055, '영광': 5056, '주우': 5057, '딛다': 5058, '제왑': 5059, '마네': 5060, '헌': 5061, '형국': 5062, '오리': 5063, '도덕성': 5064, '애널': 5065, '선대인': 5066, '어설프다': 5067, '가쟈': 5068, '신의': 5069, '대면': 5070, '요추': 5071, '근대': 5072, '애증': 5073, '아쉬움': 5074, '그로': 5075, '제네시스': 5076, '플립': 5077, '방영': 5078, '옴': 5079, '엠랩': 5080, '누리다': 5081, '유혹': 5082, '망상': 5083, '리더': 5084, '액션': 5085, '콘솔': 5086, '접속': 5087, '욕구': 5088, '장르': 5089, '핳': 5090, '조속': 5091, '모건스탠리': 5092, '내면': 5093, '전남': 5094, '사망': 5095, '비극': 5096, '으로서의': 5097, '해저': 5098, '뜬금': 5099, '축제': 5100, '눈팅': 5101, '가즈아': 5102, '단점': 5103, '으로가': 5104, '핑': 5105, '각오': 5106, '선임': 5107, '가율': 5108, '연도': 5109, '하고도': 5110, '급전': 5111, '무서움': 5112, '재활용': 5113, '웬일': 5114, '전기요금': 5115, '한시': 5116, '승소': 5117, '가용': 5118, '항공우주': 5119, '기동': 5120, '과학': 5121, '뿌듯하다': 5122, '급감': 5123, '프리': 5124, '불신': 5125, '쥐': 5126, '가액': 5127, '코드': 5128, '조차도': 5129, '재편': 5130, '꼼짝': 5131, '박꼼': 5132, '작정': 5133, '음전': 5134, '올린다': 5135, '쇼핑몰': 5136, '디보': 5137, '균혈증': 5138, '림': 5139, '반코마이신': 5140, '투여': 5141, '미끄럼틀': 5142, '분량': 5143, '고액': 5144, '마벨': 5145, '마저도': 5146, '주전': 5147, '횡령': 5148, '업적': 5149, '코멘트': 5150, '상대로': 5151, '참여자': 5152, '민감하다': 5153, '직행': 5154, '에너지부': 5155, '고비': 5156, '니니': 5157, '절친': 5158, '쩜': 5159, '용인': 5160, '전액': 5161, '마퍼': 5162, '여성': 5163, '쬐다': 5164, '안고': 5165, '앞장서다': 5166, '플랜': 5167, '모서리': 5168, '퍼블리싱': 5169, '가시다': 5170, '축': 5171, '오해': 5172, '흔하다': 5173, '전하': 5174, '박수': 5175, '어느새다': 5176, '출근': 5177, '붓다': 5178, '드래곤': 5179, '번하다': 5180, '기사도': 5181, '애정': 5182, '망조': 5183, '지사': 5184, '원도': 5185, '쫄': 5186, '웬만하다': 5187, '수집': 5188, '남미': 5189, '접합체': 5190, '천궁': 5191, '비야': 5192, '신생': 5193, '폐쇄': 5194, '나크': 5195, '캠페인': 5196, '체력': 5197, '소설': 5198, '입문': 5199, '웃': 5200, '국제선': 5201, '손대다': 5202, '나이스': 5203, '년말': 5204, '벌겋다': 5205, '연방': 5206, '에여': 5207, '이태원': 5208, '몇십': 5209, '만지다': 5210, 'ㅠㅠㅠㅠㅠㅠ': 5211, '세도': 5212, '진행중': 5213, '불닭': 5214, '마을': 5215, '짜릿하다': 5216, '이뤄지다': 5217, '날인': 5218, '디지다': 5219, '나가시': 5220, '사양': 5221, '옥석': 5222, '살벌하다': 5223, '초도': 5224, '피보나치': 5225, '삐': 5226, '되돌리다': 5227, '고압': 5228, '직장': 5229, '지배구조': 5230, '좀비': 5231, '조급하다': 5232, '끝장': 5233, '횟수': 5234, '범용': 5235, '액추에이터': 5236, '재원': 5237, '선행': 5238, '아무래도': 5239, '릴': 5240, '또속': 5241, '재해': 5242, '쌍끌이': 5243, '호흡': 5244, '향방': 5245, '표면': 5246, '얹다': 5247, '글라스': 5248, '성인': 5249, '바리': 5250, '공무원': 5251, '전의': 5252, '헌터': 5253, '에구': 5254, '쫄리': 5255, '우르': 5256, '라이나': 5257, '율촌': 5258, '궁금': 5259, '리플': 5260, '이롭다': 5261, '추적': 5262, '역사상': 5263, '아이템': 5264, '굥': 5265, '터뜨리다': 5266, '폐장': 5267, '뉴욕증시': 5268, '주가지수': 5269, '얄밉다': 5270, '법도': 5271, '배기': 5272, '후련하다': 5273, '기업은행': 5274, '인형': 5275, '주주명부': 5276, '집계': 5277, '다한': 5278, '하므다': 5279, '상하': 5280, '원주': 5281, '분활': 5282, '번의': 5283, '류진': 5284, '택': 5285, '기점': 5286, '전해': 5287, '신세': 5288, '비방': 5289, '건너': 5290, '무료': 5291, '조회': 5292, '설다': 5293, '광주': 5294, '불리하다': 5295, '풍력': 5296, '굶다': 5297, '그러니까': 5298, '곳도': 5299, '근접하다': 5300, '기정': 5301, '훨': 5302, '디램': 5303, '음극': 5304, '실상': 5305, '임금': 5306, '미달': 5307, '무안국제공항': 5308, '끌어내리다': 5309, '페': 5310, '선진': 5311, '들보': 5312, '티비': 5313, '핵폭탄': 5314, '돕다': 5315, '소매': 5316, '대입': 5317, '분간': 5318, '뮤직': 5319, '컴백': 5320, '외면': 5321, '뻥': 5322, '마음대로': 5323, '어둠': 5324, '아싸': 5325, '이래저래': 5326, '환산': 5327, '가늘다': 5328, '농락': 5329, '학생': 5330, '앞당기다': 5331, '마스': 5332, '재탕': 5333, '의결권': 5334, '잊혀지다': 5335, '격려': 5336, '깨끗하다': 5337, '더존': 5338, '절대로': 5339, '문화': 5340, '고릴라': 5341, '휘': 5342, '클리': 5343, '부실': 5344, '울리다': 5345, '물산': 5346, '보구': 5347, '멀어지다': 5348, '음료': 5349, '브': 5350, '팅': 5351, '살길': 5352, '하루빨리': 5353, '새다': 5354, '둘째': 5355, '자산운용': 5356, '규정': 5357, '율도': 5358, '폐업': 5359, '친일': 5360, '곧다': 5361, '운송': 5362, '흐리다': 5363, '승객': 5364, '태국': 5365, '무적': 5366, '뜰': 5367, '터널': 5368, '헤헤': 5369, '엘리트': 5370, '회하': 5371, '부의': 5372, '먼지': 5373, '발의': 5374, '역다': 5375, '어림': 5376, '인구': 5377, '반절': 5378, '짤짤': 5379, '산출': 5380, '건너가다': 5381, '일자리': 5382, '과대': 5383, '묵': 5384, '아기': 5385, '품격': 5386, '일정하다': 5387, '뷰': 5388, '드림': 5389, '잘살다': 5390, '분양': 5391, '수월하다': 5392, '외식': 5393, '주연': 5394, '서명': 5395, '눌려': 5396, '끝없이': 5397, '전화': 5398, '우파': 5399, '훈풍': 5400, '환차손': 5401, '환률': 5402, '먼일': 5403, '차분하다': 5404, '모간': 5405, '기내': 5406, '노랗다': 5407, '원상': 5408, '보중': 5409, '스토': 5410, '헬스': 5411, '간편하다': 5412, '비서': 5413, '재생': 5414, '마나': 5415, '깎다': 5416, '감시': 5417, '품': 5418, '알리다': 5419, '패배': 5420, '끈기': 5421, '돔황챠': 5422, '줄기세포': 5423, '몰려오다': 5424, '으이': 5425, '손절햇': 5426, '리서치': 5427, '간의': 5428, '제의': 5429, '집착': 5430, '스무': 5431, '전개': 5432, '공기': 5433, '깊이': 5434, '담기다': 5435, '자본주의': 5436, '파면': 5437, '백만': 5438, '주먹': 5439, '만화': 5440, '뿌까': 5441, '취하': 5442, '스타일': 5443, '고형': 5444, '전임': 5445, '무언가': 5446, '가온': 5447, '장내': 5448, '캠퍼스': 5449, '정해': 5450, '항암': 5451, '렵니': 5452, '건너다': 5453, '법원': 5454, '지식': 5455, '통곡': 5456, '세월': 5457, '러': 5458, '고개': 5459, '운항': 5460, '그지같다': 5461, '출석': 5462, '끄적': 5463, '이참': 5464, '괘씸하다': 5465, '초고': 5466, '환차익': 5467, '대칭': 5468, '파생상품': 5469, '선뜻': 5470, '막장': 5471, '불꽃': 5472, '체질': 5473, '돔황': 5474, '다다르다': 5475, '랴': 5476, '민간': 5477, '따름': 5478, '배움': 5479, '앱스토어': 5480, '얼음': 5481, '전투기': 5482, '컨테이너선': 5483, '거치': 5484, '메이크업': 5485, '여보': 5486, '닛산': 5487, '녹십자': 5488, '제동': 5489, '간주': 5490, '시세': 5491, '아따': 5492, '대외': 5493, '제주도': 5494, '의연하다': 5495, '해롭다': 5496, '추산': 5497, '임박': 5498, '가입자': 5499, '한밤': 5500, '국룰': 5501, '낚시': 5502, '이십': 5503, '번거': 5504, '공지': 5505, '줄줄이': 5506, '똑같이': 5507, '컴투스': 5508, '무사하다': 5509, '합격': 5510, '남지': 5511, '밑바닥': 5512, '핸들': 5513, '빠': 5514, '뭐임': 5515, '잔뜩': 5516, '파고': 5517, '발열': 5518, '오는': 5519, '에코비': 5520, '만년': 5521, '수해': 5522, '순이': 5523, '노인': 5524, '치고는': 5525, '조상': 5526, '고속도로': 5527, '못내': 5528, '투명하다': 5529, '재수': 5530, '잘나다': 5531, '달콤하다': 5532, '방산수': 5533, '건조': 5534, '단물': 5535, '햐': 5536, '채팅': 5537, '음식': 5538, '그러다가': 5539, '싸이클': 5540, '복행': 5541, '막바지': 5542, '뜬금없이': 5543, '걸어가다': 5544, '김대중': 5545, '혼': 5546, '마시다': 5547, '괜': 5548, '형아': 5549, '것일': 5550, '사이언스': 5551, '유물': 5552, '꾸역꾸역': 5553, '악성': 5554, '백신': 5555, '벌레': 5556, '재능': 5557, '휴가': 5558, '더욱더': 5559, '막심': 5560, '인원': 5561, '오리온': 5562, '근무': 5563, '비관': 5564, '맥스': 5565, '터빈': 5566, '바이오연료': 5567, '신주인수권': 5568, '연습': 5569, '소셜': 5570, '공공': 5571, '헝가리': 5572, '연합': 5573, '무인': 5574, '데려가다': 5575, '어필': 5576, '해저케이블': 5577, '장해': 5578, '모하': 5579, '잣': 5580, '우월감': 5581, '위선': 5582, '환불': 5583, '끝판': 5584, '퉤퉤': 5585, '라다': 5586, '샌프란시스코': 5587, '거주': 5588, '또또': 5589, '한가하다': 5590, '머선': 5591, '내려놓다': 5592, '이격': 5593, '덧붙이다': 5594, '붙들다': 5595, '긴장': 5596, '쥰내': 5597, '편의점': 5598, '시연': 5599, '유력하다': 5600, '진도': 5601, '방위': 5602, '유보': 5603, '드러내다': 5604, '자연스럽다': 5605, '계약금': 5606, '드가즈': 5607, '늦': 5608, '언덕': 5609, '오송': 5610, '수립': 5611, '모션': 5612, '만만원': 5613, '꾹': 5614, '선하다': 5615, '아가시': 5616, '능가': 5617, '붙이': 5618, '조카': 5619, '으쌰으쌰': 5620, '포토': 5621, '무스': 5622, '처넌': 5623, '쩐': 5624, '주임': 5625, '주소': 5626, '어쨋': 5627, '정계': 5628, '급여': 5629, '파라': 5630, '첨부': 5631, '조짐': 5632, '롭': 5633, '대요': 5634, '보관': 5635, '인재': 5636, '이따위': 5637, '얼렁': 5638, '낚': 5639, '룰': 5640, '바다': 5641, '실스크': 5642, '레이저': 5643, '휴대폰': 5644, '예시': 5645, '음주': 5646, '정점': 5647, '깨어나다': 5648, '퀀연': 5649, '종교': 5650, '로다': 5651, '스프레드': 5652, '제품군': 5653, '국토교통부': 5654, '철근콘크리트': 5655, '어느덧다': 5656, '라이선스': 5657, '햄': 5658, '굿럭': 5659, '최고경영자': 5660, '베터리': 5661, '배상': 5662, '몰락': 5663, '우방': 5664, '삼양': 5665, '행운': 5666, '옷': 5667, '타로': 5668, '갑갑하다': 5669, '명분': 5670, '천벌': 5671, '여당': 5672, '마비': 5673, '결코': 5674, '인척': 5675, '앗다': 5676, '일주': 5677, '얼굴': 5678, '오메': 5679, '신저': 5680, '십만': 5681, '화재': 5682, '시기상조': 5683, '무방': 5684, '신인': 5685, '킥': 5686, '어감': 5687, '기주': 5688, '묵은지': 5689, '메시지': 5690, '닙': 5691, '권력': 5692, '초장': 5693, '기공식': 5694, '아이디': 5695, '차고': 5696, '신념': 5697, '한다해': 5698, '딜': 5699, '튜브': 5700, '존중': 5701, '가다가': 5702, '시드머니': 5703, '치매': 5704, '나야': 5705, '몬': 5706, '외적인': 5707, '초입': 5708, '심란하다': 5709, '힘없다': 5710, '폴': 5711, '스타트업': 5712, '데포': 5713, '홀': 5714, '넣기': 5715, '이라크': 5716, '발판': 5717, '막말': 5718, '관사': 5719, '부풀리다': 5720, '산일': 5721, '꼴찌': 5722, '유방암': 5723, '희망사항': 5724, '자도': 5725, '쏜다': 5726, '호점': 5727, '매달리다': 5728, '알루': 5729, '지목': 5730, '다기': 5731, '리드': 5732, '대상자': 5733, '서해': 5734, '무지막지': 5735, '저분자': 5736, '전담': 5737, '차로': 5738, '부지런하다': 5739, '애용': 5740, '수액': 5741, '으앙': 5742, '고기': 5743, '수면': 5744, '상당': 5745, '적지': 5746, '주인공': 5747, '감축': 5748, '지침': 5749, '일자': 5750, '세운': 5751, '억제': 5752, '장공': 5753, '놀랍다': 5754, '꿍': 5755, '만날': 5756, '뇌동': 5757, '겸손하다': 5758, '대한전선': 5759, '조심스럽다': 5760, '이례': 5761, '솔로': 5762, '한발': 5763, '땡': 5764, '절때': 5765, '버핏': 5766, '타개': 5767, '기자회견': 5768, '청년': 5769, '경기도': 5770, '오래오래': 5771, '쫓다': 5772, '늦잠': 5773, '자서': 5774, '개꿀': 5775, '전작': 5776, '색상': 5777, '먹어주다': 5778, '어울리다': 5779, '은애': 5780, '갈라': 5781, '악의': 5782, '얼리다': 5783, '염두': 5784, '이복': 5785, '셧': 5786, '서브': 5787, '유동': 5788, '리다': 5789, '절규': 5790, '퍼플': 5791, '토록': 5792, '롤': 5793, '피티': 5794, '춤': 5795, '이차': 5796, '류광': 5797, '임무': 5798, '테러': 5799, '배분': 5800, '성분': 5801, '멕시코': 5802, '쿵쿵따': 5803, '가만있다': 5804, '미팅': 5805, '별거': 5806, '혈관': 5807, '시력': 5808, '변명': 5809, '반하다': 5810, '성질': 5811, '스타크래프트': 5812, '종족': 5813, '테란': 5814, '선출': 5815, '안남': 5816, '이나라': 5817, '제나': 5818, '패션': 5819, '유독': 5820, '꼽': 5821, '골치': 5822, '대립': 5823, '무산': 5824, '마이너': 5825, '언론사': 5826, '잠그다': 5827, '아슬아슬하다': 5828, '스텔': 5829, '란티스': 5830, '그간': 5831, '일류': 5832, '스테키마': 5833, '리보': 5834, '헷갈리다': 5835, '오예': 5836, '정유': 5837, '섣불리': 5838, '조국': 5839, '거참': 5840, '버들': 5841, '외쿡인': 5842, '희한하다': 5843, '번가': 5844, '역쉬': 5845, '고위': 5846, '회전': 5847, '배치': 5848, '오랫': 5849, '덴마크': 5850, '근접': 5851, '인용': 5852, '드물다': 5853, '현기증': 5854, '이노베이션': 5855, '합산': 5856, '자비': 5857, '잡아가다': 5858, '푸념': 5859, '인위': 5860, '풍문': 5861, '보스턴': 5862, '동의': 5863, '떨이': 5864, '뻥튀기': 5865, '감가상각': 5866, '은하': 5867, '철도': 5868, '전과': 5869, '이런저런': 5870, '카더라': 5871, '내다보다': 5872, '류마티스': 5873, '소아': 5874, '발성': 5875, '그래그래': 5876, '담당자': 5877, '범인': 5878, '구경만': 5879, '일식': 5880, '유증철회': 5881, '블소': 5882, '후딱': 5883, '은혜': 5884, '악물다': 5885, '한창': 5886, '빈': 5887, '부인': 5888, '가차': 5889, '판결': 5890, '메리': 5891, '봉상': 5892, '위메이드': 5893, '채권자': 5894, '순식간': 5895, '강렬하다': 5896, '날수': 5897, '주니어': 5898, '오세훈': 5899, '레인': 5900, '퇴직금': 5901, '판독': 5902, '영업일': 5903, '현물': 5904, '빗나가다': 5905, '배달': 5906, '신경안': 5907, '케일': 5908, '이구': 5909, '사고팔다': 5910, '줄알': 5911, '흐뭇하다': 5912, '푸른': 5913, '뱀': 5914, '물좀': 5915, '타자': 5916, '케이스': 5917, '제재': 5918, '야다': 5919, '후진': 5920, '개발자': 5921, '맛점': 5922, '시상식': 5923, '수상하다': 5924, '팝업': 5925, '신지': 5926, '코웨이': 5927, '메뉴': 5928, '로켓': 5929, '간사하다': 5930, 'ㅂ': 5931, '인천공항': 5932, '꼭지': 5933, '자아': 5934, '절실': 5935, '파기': 5936, '칠만': 5937, '재난': 5938, '천연가스': 5939, '정의': 5940, '학회': 5941, '마당': 5942, '잘해주다': 5943, '살라': 5944, '넼': 5945, '연락': 5946, '꼭대기': 5947, '행진': 5948, '지방': 5949, '특혜': 5950, '보수당': 5951, '김건희': 5952, '컨테이너': 5953, '포괄': 5954, '고해': 5955, '팝': 5956, '과잉': 5957, '폐기': 5958, '부서': 5959, '신년사': 5960, '리밸런싱': 5961, '모니터링': 5962, '불금': 5963, '발굴': 5964, '송구': 5965, '정신병': 5966, '왤다': 5967, '장투용': 5968, '들려오다': 5969, '신기': 5970, '꼴랑': 5971, '성형': 5972, '동물': 5973, '태산': 5974, '스토리': 5975, '외환': 5976, '외환위기': 5977, '월경': 5978, '일환': 5979, '복지': 5980, '교보': 5981, '다정': 5982, '프랑스': 5983, '눈앞': 5984, '이혼': 5985, '최강': 5986, '도산': 5987, '동전주': 5988, '폐가': 5989, '충전기': 5990, '동원': 5991, '겨냥': 5992, '압니': 5993, '억만': 5994, '주중': 5995, '퀴': 5996, '유튜버': 5997, '감추다': 5998, '가벼워지다': 5999, '한가지': 6000, '미수': 6001, '고가도': 6002, '열풍': 6003, '도치': 6004, '거듭': 6005, '문자': 6006, '요기': 6007, '웰': 6008, '어쩌다': 6009, '죽지': 6010, '메롱': 6011, '첫째': 6012, '원활하다': 6013, '난리치다': 6014, '불법': 6015, '령': 6016, 'ㅑ': 6017, '목숨': 6018, '다리다': 6019, '그나저나': 6020, '미소': 6021, '도람프': 6022, '중공': 6023, '미사일': 6024, '세마글루티드': 6025, '타깃': 6026, '출장': 6027, '떳': 6028, '틀림': 6029, '본딩': 6030, '헤드': 6031, '작가': 6032, '세부': 6033, '도일': 6034, '이맘때': 6035, '박자': 6036, 'ㅜㅡㅜ': 6037, '칩스': 6038, '장인': 6039, '언니': 6040, '네오': 6041, '노선': 6042, '정성': 6043, '훗날': 6044, '캐즘': 6045, '거고': 6046, '제철소': 6047, '권장': 6048, '충실하다': 6049, '채령': 6050, '장면': 6051, '당황': 6052, '만장': 6053, '발상': 6054, '뽑히다': 6055, '나빠지다': 6056, '도래': 6057, '포심': 6058, '가공': 6059, '소집': 6060, '일화': 6061, '의안': 6062, '자락': 6063, '욥': 6064, '유튭': 6065, '문득': 6066, '다주': 6067, '중화권': 6068, '사냥': 6069, '식겁하다': 6070, '리딩': 6071, '쪼가리': 6072, '조류': 6073, '차갑다': 6074, '손해배상': 6075, '전보': 6076, '상킷': 6077, '차이나다': 6078, '선인': 6079, '종종': 6080, '감방': 6081, '해치다': 6082, '공약': 6083, 'ㅠㅡㅠ': 6084, '금사': 6085, '캐스': 6086, '화도': 6087, '집다': 6088, '측근': 6089, '천국': 6090, '연휴': 6091, '린지': 6092, '승승장구': 6093, '찾기': 6094, '재의': 6095, '고도화': 6096, '시동': 6097, '얼추': 6098, '생겨나다': 6099, '맴': 6100, '발치': 6101, '다인': 6102, '북': 6103, '파미셀': 6104, '구진': 6105, '이점': 6106, '덜덜': 6107, '손절매': 6108, '사팔이': 6109, '탄생': 6110, '엘비': 6111, '쟤': 6112, '정산': 6113, '도보': 6114, '워렌버핏': 6115, '어처구니': 6116, '저하': 6117, '흐': 6118, '랑은': 6119, '착': 6120, '집회': 6121, '부가': 6122, '스물': 6123, '찌그러지다': 6124, '녹이다': 6125, '미동': 6126, '감사히': 6127, '횽': 6128, '이러니까': 6129, '불타': 6130, '사랑스럽다': 6131, '다오': 6132, '양성': 6133, '암세포': 6134, '설사': 6135, '패러다임': 6136, '개척': 6137, '평택': 6138, '익스': 6139, '입점': 6140, '해피': 6141, '만으로도': 6142, '예민하다': 6143, '이율': 6144, '안타': 6145, '자매': 6146, '한자': 6147, '에스케이': 6148, '비메': 6149, '모리': 6150, '찬물': 6151, '생존자': 6152, '제보': 6153, '질린다': 6154, '나락갈': 6155, '여럿': 6156, '현직': 6157, '해리스': 6158, '먹여주다': 6159, '화장실': 6160, '댜': 6161, '다분하다': 6162, '지지율': 6163, '밀고': 6164, '시나': 6165, '음모론': 6166, '관통': 6167, '구독': 6168, '바이바이': 6169, '하이엔드': 6170, '이리저리': 6171, '도태': 6172, '치이다': 6173, '목욜': 6174, '허위': 6175, '감액': 6176, '국회의원': 6177, '감성': 6178, '평화': 6179, '상생': 6180, '당기다': 6181, '대항': 6182, '초라하다': 6183, '가오': 6184, '인사이트': 6185, '리콜': 6186, '전송': 6187, 'ㄱㅊ': 6188, '우울증': 6189, '가파른': 6190, '중후': 6191, '사이트': 6192, '비축': 6193, '개월차': 6194, '양행': 6195, '간부': 6196, '무능': 6197, '꼴통짓': 6198, '테크놀로지': 6199, '폭증': 6200, '욱': 6201, '참담하다': 6202, '무비': 6203, '홈': 6204, '헌법': 6205, '봄날': 6206, '매연': 6207, '구멍': 6208, '무지개': 6209, '김치': 6210, '해양': 6211, '벌이다': 6212, '그러므로': 6213, '겸': 6214, '하드': 6215, '막대': 6216, '약점': 6217, '아우르다': 6218, '미흡': 6219, '입찰': 6220, '궁': 6221, '만인': 6222, '배우': 6223, '쪼매': 6224, '외주': 6225, '사안': 6226, '앱솔': 6227, '릭스': 6228, '중지': 6229, '레반트': 6230, '한국은행': 6231, '회사채': 6232, '론칭': 6233, '내시': 6234, '누굴': 6235, '거도': 6236, '가구': 6237, '부용': 6238, '증오': 6239, '정년': 6240, '또다시': 6241, '창구': 6242, '자라다': 6243, '쓰기': 6244, '정주': 6245, '소주': 6246, '만만하다': 6247, '띄다': 6248, '유력': 6249, '가상': 6250, '믹스': 6251, '리재': 6252, 'ㅋㅋㅋㅋㅋㅋㅋㅋㅋㅋㅋㅋ': 6253, '악순환': 6254, '삼립': 6255, '개민': 6256, '제사': 6257, '짱구': 6258, '부로': 6259, '승하': 6260, '예의': 6261, '껍': 6262, '기웃': 6263, '지지도': 6264, '프로도': 6265, '저서': 6266, '강력': 6267, '아이폰': 6268, '그림자': 6269, '홀딩하': 6270, '친척': 6271, '더라도': 6272, '가해': 6273, '미세먼지': 6274, '고꾸라지다': 6275, '응용': 6276, '대국민': 6277, '까치': 6278, '늦어지다': 6279, '건조하다': 6280, '망가지다': 6281, '빨강이': 6282, '친하다': 6283, '매직': 6284, '방해': 6285, '강물': 6286, '단어': 6287, '비엠이': 6288, '달려가다': 6289, '수기': 6290, '왜캐': 6291, '이민': 6292, '실어': 6293, '서손': 6294, '세제': 6295, '바퀴': 6296, '스튜디오': 6297, '부총리': 6298, '착수': 6299, '스레기': 6300, '고갈': 6301, '양전하': 6302, '뉴진스': 6303, '약정': 6304, '흐흐': 6305, '동사': 6306, '탈퇴': 6307, '중년': 6308, '저금': 6309, '대구': 6310, '도찌': 6311, '잘리다': 6312, '수순': 6313, '미안': 6314, '올랏다': 6315, '된장': 6316, '육성': 6317, '초대형': 6318, '서프라이즈': 6319, '습관': 6320, '야금': 6321, '부지': 6322, '진영': 6323, '발등': 6324, '무도회': 6325, '경부': 6326, '윤서': 6327, '현성': 6328, '흥미롭다': 6329, '다머': 6330, '원점': 6331, '가두다': 6332, '개똥': 6333, '씨젠': 6334, '신입': 6335, '성급하다': 6336, '빼기': 6337, '슈퍼차저': 6338, '부모': 6339, '어젠': 6340, '재임': 6341, '비웃다': 6342, '건설업': 6343, '하수': 6344, '양자암호': 6345, '그린란드': 6346, '큐셀': 6347, '공구리': 6348, '다난하다': 6349, '전투함': 6350, '제넥스': 6351, '장전': 6352, '병풀': 6353, '추출': 6354, '함유': 6355, '루마니아': 6356, '피자': 6357, '벗기다': 6358, '업자': 6359, '어딜': 6360, '넋': 6361, '자본금': 6362, '돌려막기': 6363, '쫄아': 6364, '중외': 6365, '좀해': 6366, '투자신탁': 6367, '초록': 6368, '입수': 6369, '똥글': 6370, '상무이사': 6371, '더블유': 6372, '경영인': 6373, '농업': 6374, '전극': 6375, '도크': 6376, '동부': 6377, '김영삼': 6378, '드림팩토리': 6379, '루루': 6380, '필립스': 6381, '투라': 6382, '전우': 6383, '굽다': 6384, '지금껏': 6385, '고후': 6386, '오지랖': 6387, '기타등등': 6388, '은퇴': 6389, '부적': 6390, '고조': 6391, '전국': 6392, '껑충': 6393, '얌얌': 6394, '황보': 6395, '지출': 6396, '대다수': 6397, '그럴듯하다': 6398, '구형': 6399, '상쇄': 6400, '풍향계': 6401, '야합': 6402, '도배': 6403, '월보': 6404, '허상': 6405, '만으로는': 6406, '헌신': 6407, '허락': 6408, '레부리': 6409, '은감': 6410, '세종': 6411, '압': 6412, '오잉': 6413, '여가': 6414, '년안': 6415, '섞다': 6416, '어여': 6417, '폭풍': 6418, '어보': 6419, '먹고살다': 6420, '주전자': 6421, '채굴': 6422, '다가가다': 6423, '라기보다는': 6424, '안뇽': 6425, '윈': 6426, '돌려주다': 6427, '공교': 6428, '마이크로소프트': 6429, '유료': 6430, '손절각': 6431, '일수록': 6432, '어거지': 6433, '연차': 6434, '한단': 6435, '어기다': 6436, '초심': 6437, '음모': 6438, '뿌뿌': 6439, '절제': 6440, '숨통': 6441, '막차': 6442, '존슨': 6443, '횡포': 6444, '집안': 6445, '범죄': 6446, '디게': 6447, '장임': 6448, '낭비하다': 6449, '유용하다': 6450, '구동': 6451, '신의한수': 6452, '메릴린치': 6453, '피로': 6454, '권하다': 6455, '합성': 6456, '총수': 6457, '레미콘': 6458, '교수': 6459, '급사': 6460, '소린': 6461, '흡수': 6462, '이뿌다': 6463, '아하': 6464, '포폴': 6465, '금주': 6466, '안드로이드': 6467, '라만': 6468, '지상': 6469, '맥락': 6470, '수장': 6471, '치킨게임': 6472, '주선': 6473, '진창': 6474, '가을': 6475, '두드리다': 6476, '백원': 6477, '쥑': 6478, '자전': 6479, '매도물량': 6480, '부드럽다': 6481, '부러': 6482, '운동': 6483, '엔지니어': 6484, '금수': 6485, '우기다': 6486, '스폐셜': 6487, '기용': 6488, '독': 6489, '붓기': 6490, '상보': 6491, '기특하다': 6492, '인성': 6493, '일방': 6494, '새삼': 6495, '슬금슬금': 6496, '헤치다': 6497, '예능': 6498, '교양': 6499, '꽂히다': 6500, '벚꽃': 6501, '나오니': 6502, '삿는데': 6503, '쪽박': 6504, '공동체': 6505, '자위': 6506, '슬쩍': 6507, '아씨': 6508, 'ㅜㅠㅠ': 6509, '디아블로': 6510, '게이머': 6511, '신도': 6512, '사수': 6513, '버렷': 6514, '할부': 6515, '김용현': 6516, '국방부': 6517, '촉구': 6518, '상기': 6519, '분사': 6520, '인천': 6521, '승진': 6522, '숨쉬다': 6523, '오십': 6524, '미아': 6525, '호재악재': 6526, '팩토리': 6527, '판국': 6528, '눌릴': 6529, '돠': 6530, '고다': 6531, '통제': 6532, '하위': 6533, '백성': 6534, '가안': 6535, '모순': 6536, '젭알': 6537, '빡세': 6538, '여건': 6539, '펀더멘털': 6540, '장난감': 6541, '도감': 6542, '시르다': 6543, '호랑말코': 6544, '하염없이': 6545, '부러지다': 6546, '투도': 6547, '신임': 6548, '인도네시아': 6549, '벌음': 6550, '정석': 6551, '원초': 6552, '독사': 6553, '팔자': 6554, '온실가스': 6555, '니요': 6556, '형강': 6557, '강재': 6558, '부금': 6559, '마지노선': 6560, '천재': 6561, '들여다보다': 6562, '헬기': 6563, '송치': 6564, '사법': 6565, '초래': 6566, '부각시키다': 6567, '우왕': 6568, '성하다': 6569, '런던': 6570, '모이': 6571, '구심': 6572, '하이브로': 6573, '파크': 6574, '또다른': 6575, '명칭': 6576, '약동학': 6577, '델파졸': 6578, '위함': 6579, '배양': 6580, '나은지': 6581, '엠피': 6582, '포모': 6583, '컨디션': 6584, '아무쪼록': 6585, '화합물': 6586, '혁명': 6587, '스펙': 6588, '평온하다': 6589, '악덕': 6590, '정확': 6591, '타입': 6592, '소문나다': 6593, '니야': 6594, '싣다': 6595, '심법': 6596, '거지같다': 6597, '대목': 6598, '점프': 6599, '선원': 6600, '이직': 6601, '용어': 6602, '투매': 6603, '차종': 6604, '억제제': 6605, '미국인': 6606, '블루': 6607, '한개': 6608, '불과': 6609, '까마득하다': 6610, '체면': 6611, '도호': 6612, '조세일보': 6613, '낳다': 6614, '답답': 6615, '클러스터': 6616, '일대': 6617, '마이크로': 6618, '망햇': 6619, '태반': 6620, '쫙': 6621, '자중': 6622, '이변': 6623, '두드러지다': 6624, '베': 6625, '머뭇거리다': 6626, '양쪽': 6627, '메뉴얼': 6628, '탈수': 6629, '수의': 6630, '여섯': 6631, '패널': 6632, '더듬다': 6633, '전면': 6634, '고프다': 6635, '강원랜드': 6636, '오시': 6637, '바카라': 6638, '목도': 6639, '민가': 6640, 'ㅏㅏ': 6641, '액세스': 6642, '수반': 6643, '후자': 6644, '후의': 6645, '갇': 6646, '노티': 6647, '균형': 6648, '적합하다': 6649, 'ㅜㅜㅜㅜㅜ': 6650, '비명': 6651, '위엔': 6652, '때론': 6653, '모회사': 6654, '에이스': 6655, '기와': 6656, '레고': 6657, '감당': 6658, '년생': 6659, '혼돈': 6660, '다트': 6661, '카비': 6662, '의료기기': 6663, '연령': 6664, '조로': 6665, '거려': 6666, '말고도': 6667, '년더': 6668, 'ㅈㄴ': 6669, '에야': 6670, '살포시': 6671, '엘에스': 6672, '뉴욕': 6673, '망막': 6674, '부종': 6675, '천무': 6676, '터키': 6677, '무정부상태': 6678, '어르신': 6679, '삽': 6680, '모빌리티': 6681, '허브': 6682, '감전': 6683, '보병': 6684, '해병': 6685, '다름없다': 6686, '대사': 6687, '적합': 6688, '한동훈': 6689, '이상자': 6690, '다언': 6691, '비젼': 6692, '탁': 6693, '심술': 6694, '뽀삐': 6695, '하원': 6696, '무덥다': 6697, '도생': 6698, '황사': 6699, '이유나': 6700, '매해': 6701, '엑스': 6702, '켜지다': 6703, '화끈하다': 6704, '공존': 6705, '지옥불': 6706, '한텐': 6707, '욕좀': 6708, '오르막': 6709, '지남': 6710, '피스': 6711, '송도': 6712, '간암': 6713, '날뻔': 6714, '조리': 6715, '장기전': 6716, '잠들다': 6717, '음양': 6718, '성도': 6719, '이정애': 6720, '여요': 6721, '픽': 6722, '유튜': 6723, '하이에나': 6724, '불닭볶음면': 6725, '보라매': 6726, '전도': 6727, '오스': 6728, '티앤': 6729, '섬유': 6730, '기울이다': 6731, '바치다': 6732, '원화로': 6733, '증도': 6734, '도장': 6735, '전향': 6736, '똑': 6737, '사외이사': 6738, '독립성': 6739, '이행': 6740, '기약': 6741, '진즉': 6742, '러브콜': 6743, '스케줄': 6744, '순수하다': 6745, '구별': 6746, '기악': 6747, '항공사고': 6748, '지용': 6749, '사이비': 6750, '다날': 6751, '샘': 6752, '들먹이다': 6753, '확약': 6754, '수법': 6755, '다반': 6756, '극성': 6757, '불가피하다': 6758, '년치': 6759, '전군': 6760, '세라믹': 6761, '커패시터': 6762, '지니다': 6763, '최첨단': 6764, '고래': 6765, '장부기': 6766, '내버리다': 6767, '재현': 6768, '필터': 6769, '수전': 6770, '웃어요': 6771, '융': 6772, '결말': 6773, '세용': 6774, '구속': 6775, '가죽': 6776, '돌이키다': 6777, '강경': 6778, '보조': 6779, '도구': 6780, '언넝': 6781, '인베스트먼트': 6782, '교환': 6783, '조항': 6784, '만치': 6785, '보렵': 6786, '때메': 6787, '좌절': 6788, '안팎': 6789, '먹고다': 6790, '안산': 6791, '힘스': 6792, '분기도': 6793, '제인': 6794, '가뿐하다': 6795, '성탄': 6796, '내기': 6797, '뭉': 6798, '개뿔': 6799, '징계': 6800, '낌': 6801, '폭포수': 6802, '본받다': 6803, '빠졋': 6804, '비즈니스': 6805, '고호': 6806, '반발': 6807, '사나': 6808, '신주': 6809, '가전제품': 6810, '차용': 6811, '해초': 6812, '불보듯': 6813, '닉네임': 6814, '허무하다': 6815, '미워하다': 6816, '오천': 6817, '저니': 6818, '맵': 6819, '자선': 6820, '이실': 6821, '원월드': 6822, '매끄럽다': 6823, '엉뚱하다': 6824, '반기': 6825, '중대하다': 6826, '이외': 6827, '입국': 6828, '식당': 6829, '넘어지다': 6830, '만회': 6831, '천사': 6832, '미개하다': 6833, '주물': 6834, '억천': 6835, '통령': 6836, '포커스': 6837, '당주': 6838, '책임자': 6839, '자칭': 6840, '국부펀드': 6841, '과산화수소': 6842, '생산량': 6843, '항만': 6844, '시한': 6845, '타결': 6846, '파생': 6847, '묵고': 6848, '리쥬란': 6849, '강남': 6850, '이상만': 6851, '번속': 6852, '공범': 6853, '나날': 6854, '금쪽': 6855, '특화': 6856, '호남': 6857, '출산율': 6858, '반정': 6859, '우물': 6860, '들어주다': 6861, '특검': 6862, '원내대표': 6863, '사적': 6864, '장의': 6865, '공연': 6866, '스키': 6867, '발매': 6868, '콱': 6869, '김승연': 6870, '왠만하다': 6871, '순전하다': 6872, '인적': 6873, '하트': 6874, '포부': 6875, '기획': 6876, '브리핑': 6877, '낮': 6878, '고기술': 6879, '강행': 6880, '처지다': 6881, '할껄': 6882, '아줌마': 6883, 'ㅠㅠㅠㅠㅠㅠㅠ': 6884, '쯔쯔': 6885, '꾸리다': 6886, '쌈': 6887, '대학': 6888, '아이디어': 6889, '주작': 6890, '진자': 6891, '뚜껑': 6892, '엘리': 6893, '산지': 6894, '눈데': 6895, '무능력하다': 6896, '어쩌고저쩌고': 6897, '장미': 6898, '하남': 6899, '언어': 6900, '요나라': 6901, '아숩': 6902, '보가': 6903, '접근성': 6904, '끊임없다': 6905, '설치다': 6906, '액트': 6907, '시들다': 6908, '시올': 6909, '닮다': 6910, '이케': 6911, '꿈꾸다': 6912, '정장': 6913, '문어': 6914, '요리': 6915, '손님': 6916, '요지': 6917, '마누라': 6918, '개시': 6919, '각형': 6920, '흔': 6921, '노란색': 6922, '한식': 6923, '삼고': 6924, '비수': 6925, '뉴비': 6926, '꼬박꼬박': 6927, '양강': 6928, '다양': 6929, '거론': 6930, '둘리': 6931, '제정': 6932, '도데': 6933, '대서': 6934, '미끄러지다': 6935, '똥볼': 6936, '지주사': 6937, '분가': 6938, '오우야': 6939, '전사': 6940, '노릇': 6941, '재수없다': 6942, '불운': 6943, '과자': 6944, '연내': 6945, '씨아이': 6946, '실질': 6947, '민생': 6948, '자력': 6949, '박주': 6950, '조장': 6951, '궁극': 6952, '루빈': 6953, '할로': 6954, '소송도': 6955, '물타': 6956, '기우제': 6957, '둣': 6958, '두루': 6959, '면밀하다': 6960, '경력': 6961, '나뉘다': 6962, '승계': 6963, '줄기': 6964, '센스': 6965, '피똥': 6966, '일과': 6967, '액수': 6968, '토끼다': 6969, '가중': 6970, '알텡': 6971, '양키': 6972, '노동자': 6973, '우연': 6974, '보살': 6975, '장단': 6976, '이륙': 6977, '선회': 6978, '승무원': 6979, '숨막히다': 6980, '퉷': 6981, '탐욕': 6982, '펀더': 6983, '잘만': 6984, '신가': 6985, '안되겠니': 6986, '프로세서': 6987, '노노': 6988, '리라': 6989, '건조기': 6990, '이서': 6991, '르': 6992, '컨콜': 6993, '차곡차곡': 6994, '토론': 6995, '태블릿': 6996, '환신': 6997, '완만': 6998, '소방관': 6999, '살돈': 7000, '시일': 7001, '얌전하다': 7002, '에서부터': 7003, '나락간': 7004, '징글': 7005, '야기': 7006, '리좀': 7007, '리얼': 7008, '끝내주다': 7009, '전설': 7010, '드릅': 7011, '야행': 7012, '거릴': 7013, '조천억원': 7014, '곤란하다': 7015, '버겁다': 7016, '오른쪽': 7017, '케리': 7018, '부서지다': 7019, '파도': 7020, '휩쓸다': 7021, '두창': 7022, '덕인': 7023, '거저': 7024, '유량': 7025, '놀': 7026, '수호': 7027, '김밥': 7028, '대결': 7029, '근원': 7030, '모범': 7031, '만성': 7032, '잡지': 7033, '포퓰리즘': 7034, '보상금': 7035, '쑤시다': 7036, '인근': 7037, '낙': 7038, '오오오': 7039, '제자': 7040, '갈고': 7041, '쫄보': 7042, '구분': 7043, '어음': 7044, '기울기': 7045, '야물다': 7046, '대국': 7047, '설탕': 7048, '도외': 7049, '대통': 7050, '쿠팡': 7051, '냇': 7052, '북핵': 7053, '내보내다': 7054, '내미다': 7055, '결심': 7056, '네나': 7057, '꼬시기': 7058, '차서': 7059, '자녀': 7060, '전자서명': 7061, '결의': 7062, '마트': 7063, '매일유업': 7064, '각성': 7065, '누르기': 7066, '가습기': 7067, 'ㅅㄱ': 7068, '전무': 7069, '할배': 7070, '제룡': 7071, '주니': 7072, '수수': 7073, '가분': 7074, '한탄': 7075, '음달': 7076, '녹아내리다': 7077, '프로모션': 7078, '럼프형': 7079, '장투주': 7080, '천연': 7081, '업주': 7082, '바이오디젤': 7083, '바지': 7084, '하소': 7085, '조의': 7086, '알쪽': 7087, '들어맞다': 7088, '전통': 7089, '관해': 7090, '구름': 7091, '군단': 7092, '빗각': 7093, '상여': 7094, '교류': 7095, '싸이': 7096, '이로써': 7097, '성금': 7098, '스엠': 7099, '일장': 7100, '자연재해': 7101, '반란': 7102, '팔로워': 7103, '스포': 7104, '럼': 7105, '포럼': 7106, '지스타': 7107, '흥미': 7108, '절의': 7109, '원수': 7110, '경제정책': 7111, '어지르다': 7112, '썩이다': 7113, '타령': 7114, '옛': 7115, '선조': 7116, '뿌듯': 7117, '맏': 7118, '꼼꼼하다': 7119, '여개': 7120, '대강': 7121, '익숙하다': 7122, '긴급': 7123, '본부': 7124, '이탈리아': 7125, '험난하다': 7126, '요지부동': 7127, '대고': 7128, '절세': 7129, '숨죽': 7130, '지저분하다': 7131, '모주': 7132, '되찾다': 7133, '분전': 7134, '자년': 7135, '여의도': 7136, '혼동': 7137, '간식': 7138, '펩트': 7139, '살다보면': 7140, '부질없다': 7141, '국밥': 7142, '추위': 7143, '어간': 7144, '뱃지': 7145, '타이틀': 7146, '유툽': 7147, '카이': 7148, '낙하산': 7149, '튀어나오다': 7150, '포즈': 7151, '존버해': 7152, '음전하': 7153, '게뭐': 7154, '야만': 7155, '어딘': 7156, '오만': 7157, '컨': 7158, '윤썩': 7159, '쟁': 7160, '화해': 7161, '나마': 7162, '네이처': 7163, '고난': 7164, '세뇌': 7165, '뭡': 7166, '몇퍼': 7167, '한결같이': 7168, '사우나': 7169, '퍼씩': 7170, '도아': 7171, '생애': 7172, '골드': 7173, '재아': 7174, '녀': 7175, '갈림길': 7176, '지그': 7177, '정진': 7178, '피크': 7179, '재야': 7180, '넘사벽': 7181, '변태': 7182, '년봉': 7183, '엮는': 7184, '쏠': 7185, '평일': 7186, '공산주의': 7187, '깃': 7188, '청소': 7189, '코오롱': 7190, '드러눕다': 7191, '등지': 7192, '보류': 7193, '재판': 7194, '양곡': 7195, '상정': 7196, '암시': 7197, '중앙은행': 7198, '호의': 7199, '정당': 7200, '모트': 7201, '단디': 7202, '본질': 7203, '굿데이': 7204, '출마': 7205, '오만원': 7206, '산업부': 7207, '도량': 7208, '악하다': 7209, '이빨': 7210, '소시오패스': 7211, '각하': 7212, '토론회': 7213, '만큼의': 7214, '보충': 7215, '진에어': 7216, '갈리': 7217, '파고들다': 7218, '감지': 7219, '배전': 7220, '참전': 7221, '대북': 7222, '송금': 7223, '전자기기': 7224, '괴리': 7225, '커플링': 7226, '미미하다': 7227, '창업': 7228, '관계없이': 7229, '명령': 7230, '뒷북': 7231, '호흡기': 7232, '재주': 7233, '외치': 7234, '트럭': 7235, '조율': 7236, '시주': 7237, '쓸데없다': 7238, '롭고': 7239, '에게서': 7240, '감독': 7241, '허용': 7242, '위원장': 7243, '회귀': 7244, '가이드': 7245, '잔인하다': 7246, '침팬지': 7247, '무렵': 7248, '화려하다': 7249, '핀': 7250, '보즈': 7251, '번인': 7252, '장인화': 7253, '리해': 7254, '곁': 7255, '촛불': 7256, '물동량': 7257, '비추다': 7258, '보넹': 7259, '어딧': 7260, '낭만': 7261, '셋': 7262, '분식회계': 7263, '해피뉴이어': 7264, '천정': 7265, '튜토리얼': 7266, '팁': 7267, '신호탄': 7268, '면개': 7269, '만일': 7270, '볼린': 7271, '굴러가다': 7272, '계층': 7273, '억만원': 7274, '실천': 7275, '단백질': 7276, '효능': 7277, 'ㄱㅅ': 7278, '루머': 7279, 'ㅂㄷㅂㄷ': 7280, '황금': 7281, '재차': 7282, '기재': 7283, '횡보할': 7284, '지아': 7285, '원희룡': 7286, '지온': 7287, '목돈': 7288, '데미': 7289, '보태': 7290, '배드': 7291, '테스': 7292, '만난': 7293, '이정재': 7294, '마시기': 7295, '웃프': 7296, '큐비트': 7297, '골드만삭스': 7298, '퀄컴': 7299, '잊어버리다': 7300, '년대': 7301, '파니': 7302, '오르내리다': 7303, '호주머니': 7304, '본드': 7305, '줏대': 7306, '벤처캐피탈': 7307, '슈퍼마켓': 7308, '와인': 7309, '인연': 7310, '눌': 7311, '사활': 7312, '보편': 7313, '트릴': 7314, '주마': 7315, '묵념': 7316, '간격': 7317, '간신히': 7318, '엉엉': 7319, '유주': 7320, '우수수': 7321, '로꾸거': 7322, '연달': 7323, '얘넨': 7324, '클레': 7325, '씨부리다': 7326, '숲': 7327, '외환보유고': 7328, '세차': 7329, '지스트': 7330, '창피하다': 7331, '고령화': 7332, '커피한잔': 7333, '유형': 7334, '가유': 7335, '쳇': 7336, '널다': 7337, '짝짝': 7338, '꽈': 7339, '외상': 7340, '남발': 7341, '보행': 7342, '지롱': 7343, '스틸': 7344, '지하실': 7345, '특약': 7346, '앤비': 7347, '재배': 7348, '성명': 7349, '검열': 7350, '만타': 7351, '블레이드': 7352, '발가락': 7353, '사탄': 7354, '식약처': 7355, '모닝': 7356, '휴보': 7357, '옵티머스': 7358, '휴식': 7359, '쨋': 7360, '하야': 7361, '대란': 7362, '족속': 7363, '색조': 7364, '환하다': 7365, '잇따르다': 7366, '분탕': 7367, '프렌즈': 7368, '개점': 7369, '실탄': 7370, '무지하다': 7371, '힌트': 7372, '아우성': 7373, '갈대': 7374, '넉': 7375, '몰입': 7376, '번돈': 7377, '클린룸': 7378, '센서': 7379, '돌격': 7380, '안사면': 7381, '일론': 7382, '마디': 7383, '탈환': 7384, '적절': 7385, '몽': 7386, '졸리다': 7387, '군생활': 7388, '마침': 7389, '주랑': 7390, '고양이': 7391, '타협': 7392, '안치': 7393, '발전기': 7394, '월욜날': 7395, '입맛': 7396, '라니까': 7397, '인터뷰': 7398, '통찰': 7399, '주거': 7400, '도박장': 7401, '번지': 7402, '미분': 7403, '아모레': 7404, '스텝': 7405, '직구': 7406, '삼중': 7407, '차도': 7408, '파급': 7409, '족족': 7410, '게다': 7411, '사관': 7412, '업보': 7413, '테라': 7414, '옥': 7415, '웨이': 7416, '거래처': 7417, '로보': 7418, '화염': 7419, '관제탑': 7420, '교신': 7421, '외벽': 7422, '퇴사': 7423, '간편': 7424, '항공모함': 7425, '법칙': 7426, '회담': 7427, '관저': 7428, '코마': 7429, '나아': 7430, '모질다': 7431, '등골': 7432, '물량들': 7433, '촉': 7434, '풍': 7435, '황씨': 7436, '글삭': 7437, '카이스트': 7438, '아자': 7439, '냉철하다': 7440, '일동제약': 7441, '뭐시': 7442, '물탄': 7443, '가부': 7444, '중국어': 7445, '빙': 7446, '닉값': 7447, '못범': 7448, '푹': 7449, '무력': 7450, '민희진': 7451, '미국증시': 7452, '익절잔': 7453, '어의': 7454, '더더': 7455, '재단': 7456, '자원부': 7457, '겹친': 7458, '초대': 7459, '산유': 7460, '대론': 7461, '워드': 7462, '의리': 7463, '레버': 7464, '래서': 7465, '점포': 7466, '펴다': 7467, '중견': 7468, '널뛰기': 7469, '인제': 7470, '뒤통수': 7471, '스팅': 7472, '롤러코스터': 7473, '발라': 7474, '산도': 7475, '진짜루': 7476, '방한': 7477, 'ㅡㅜ': 7478, '뒈지다': 7479, '담배값': 7480, '으아': 7481, '주저': 7482, '노태우': 7483, '포항': 7484, '족치다': 7485, '역활': 7486, '개정안': 7487, '환차': 7488, '달래다': 7489, '성실': 7490, '벌점': 7491, '삼일제약': 7492, '발암': 7493, '무기한': 7494, '논': 7495, '중국인': 7496, '가르치다': 7497, '쪽팔리다': 7498, '껍데기': 7499, '특이': 7500, '문제점': 7501, '뭣': 7502, '땅굴': 7503, '말기': 7504, '야호': 7505, '알트': 7506, '편향': 7507, '로구나': 7508, '해운업': 7509, '온건': 7510, '사발': 7511, '다야': 7512, '등세': 7513, '제로섬': 7514, '블라인드': 7515, '꼬봉': 7516, '중하': 7517, 'ㄹㅈㄷ': 7518, '장일': 7519, '나일': 7520, '한마음': 7521, '도마': 7522, '쿡': 7523, '참가자': 7524, '평판': 7525, '찬찬하다': 7526, '코덱스': 7527, '시원시원하다': 7528, '익명': 7529, '꿈쩍': 7530, 'ㅏㅏㅏ': 7531, '타네': 7532, '확율': 7533, '주야': 7534, '로봇청소기': 7535, '살아오다': 7536, '벅차다': 7537, '이글': 7538, '어쩌라고': 7539, '애플리케이션': 7540, '작작': 7541, '만큼만': 7542, '부터가': 7543, '식초': 7544, '사십': 7545, '다자': 7546, '울면': 7547, '엑스코': 7548, '아수라': 7549, '돕기': 7550, '희토류': 7551, '제목': 7552, '모시다': 7553, '백퍼': 7554, '시원찮다': 7555, '표명': 7556, '마안': 7557, '도표': 7558, '비타민': 7559, '함량': 7560, '화장': 7561, '즐거움': 7562, '뜰때': 7563, '강국': 7564, '선적': 7565, '키트': 7566, '캔두': 7567, '체르나': 7568, '대적': 7569, '안위': 7570, '회임': 7571, '장열': 7572, '블': 7573, '오라': 7574, '생때': 7575, '지대': 7576, '우세': 7577, '수작': 7578, '김범수': 7579, '부추기다': 7580, '출자전환': 7581, '군대': 7582, '이동성': 7583, '뉘': 7584, '설날': 7585, '하량': 7586, '양상': 7587, '혹평': 7588, '지누': 7589, '재일': 7590, '유트브': 7591, '쓸모없다': 7592, '수명': 7593, '모터': 7594, '홈피': 7595, '댕기': 7596, '원정': 7597, '도우': 7598, '양도소득세': 7599, '선관위': 7600, '군사': 7601, '마린': 7602, '서운하다': 7603, '한일': 7604, '민간인': 7605, '발동': 7606, '리뷰': 7607, '에스엠': 7608, '기재부': 7609, '튀르키예': 7610, '상황보고': 7611, 'ㅜㅜㅜㅜ': 7612, '화이트': 7613, '노동': 7614, '무례하다': 7615, '넓다': 7616, '충당': 7617, '양보': 7618, '유투브': 7619, '윈윈': 7620, '내란죄': 7621, '안녕하십니까': 7622, '유통업': 7623, '재생에너지': 7624, '명언': 7625, '파랭': 7626, '과반': 7627, '투척': 7628, '고모': 7629, '야야': 7630, '롤러': 7631, '서럽다': 7632, '뮤': 7633, '협약': 7634, '볼린저': 7635, '매국': 7636, '댕': 7637, '매니저': 7638, '멤버': 7639, '미군': 7640, '실업률': 7641, '쓸리다': 7642, '구걸': 7643, '들키다': 7644, '획기': 7645, '경계': 7646, '밀도': 7647, '대량생산': 7648, '쳣': 7649, '탐지': 7650, '유투': 7651, '니케': 7652, '빼꼼': 7653, '얘길': 7654, '울란바토르': 7655, '게이': 7656, '권리락': 7657, '감자': 7658, '빅파마': 7659, '우드': 7660, 'ㅂㅂ': 7661, '악제': 7662, '오염': 7663, '도탄': 7664, '오만하다': 7665, '이자율': 7666, '하찮다': 7667, '황화리튬': 7668, '지향': 7669, '한소리': 7670, '태원': 7671, '척척': 7672, '따내다': 7673, '이별': 7674, '엣지': 7675, '거사': 7676, '폭팔': 7677, '유차': 7678, '환경부': 7679, '절박': 7680, '빨래': 7681, '대견하다': 7682, '지역별': 7683, '착실하다': 7684, '유나': 7685, '원툴': 7686, '솔솔': 7687, '멘붕': 7688, '간간히': 7689, '군불': 7690, '가뜩이나': 7691, '버전': 7692, '이징': 7693, '손절함': 7694, '욕망': 7695, '고간': 7696, '다애': 7697, '쌔': 7698, '말문': 7699, '프로파일': 7700, '밑도': 7701, '위층': 7702, '가누다': 7703, '이산': 7704, '터미널': 7705, '개조': 7706, '최우': 7707, '개미지옥': 7708, '흔적': 7709, '하늘나라': 7710, '어어어어': 7711, '신라': 7712, '스킨': 7713, '고등': 7714, '각시': 7715, '잠잠하다': 7716, '폼': 7717, '보일러': 7718, '샤워': 7719, '콩고': 7720, '짜임새': 7721, '일개': 7722, '스톡': 7723, '창창하다': 7724, '사임': 7725, '건들': 7726, '영감': 7727, '연중': 7728, '소프트': 7729, '베이스': 7730, '청개구리': 7731, '불리': 7732, '고스톱': 7733, '임의': 7734, '찜찜하다': 7735, '연명': 7736, '의사소통': 7737, '일어나서': 7738, '적정가격': 7739, '혹독하다': 7740, '쥥': 7741, '소릴': 7742, '이거지': 7743, '앤드': 7744, '자성': 7745, '티닙': 7746, '라즈': 7747, '통계': 7748, '재끼': 7749, '일기장': 7750, '다다다': 7751, '신성하다': 7752, '전파': 7753, '편리하다': 7754, '두산만': 7755, '리트': 7756, '보정': 7757, '아미': 7758, '심해지다': 7759, '정규': 7760, '간과': 7761, '백주': 7762, '정제': 7763, '상판': 7764, '타설량': 7765, '조물': 7766, '부딪히다': 7767, '초월': 7768, '침습': 7769, '약효': 7770, '수용체': 7771, '독창': 7772, '텐버거': 7773, '좁히다': 7774, '제이알': 7775, '위험관리': 7776, '기일': 7777, '윤두광': 7778, '싱글벙글': 7779, '만오': 7780, '대출받다': 7781, '솔이': 7782, '보도자료': 7783, '자석': 7784, '호환': 7785, '나부': 7786, '미학': 7787, '탄약': 7788, '몰두하다': 7789, '콩': 7790, '힘겹다': 7791, '철폐': 7792, '수난': 7793, '굽신굽신': 7794, '미세하다': 7795, '콕': 7796, '옛말': 7797, '젖다': 7798, '야속하다': 7799, '에의': 7800, '열시미': 7801, '갈건': 7802, '편안': 7803, '고이': 7804, '저항권': 7805, '달리기': 7806, '당파싸움': 7807, '단합': 7808, '조선시대': 7809, '손가락질': 7810, '강의': 7811, '느': 7812, '아득바득': 7813, '병합': 7814, '판사': 7815, '당하': 7816, '세기': 7817, '요렇게': 7818, '윤가': 7819, '꺼억': 7820, '버는거': 7821, '부부': 7822, '팬심': 7823, '도살': 7824, '넌센스': 7825, '관광': 7826, '하이마트': 7827, '햇던': 7828, '차우': 7829, '유연하다': 7830, '원동력': 7831, '팰리세이드': 7832, '필사': 7833, '장독': 7834, '즁': 7835, '매파': 7836, '텅스텐': 7837, '부류': 7838, '뉴질랜드': 7839, '격감': 7840, '이크': 7841, '화제': 7842, '즈음': 7843, '쵸': 7844, '롤링': 7845, '조교': 7846, '입대': 7847, '훌쩍': 7848, '끼리끼리': 7849, '각인': 7850, '수천억': 7851, '시경': 7852, '비유': 7853, '대변인': 7854, '해달라다': 7855, '냉': 7856, '했쥬': 7857, '일때': 7858, '시지': 7859, '퍼렇다': 7860, '건승': 7861, '표정': 7862, '생리': 7863, '선반': 7864, '기별': 7865, '으아아': 7866, '종말': 7867, '독단': 7868, '익절후': 7869, '굿굿': 7870, '천장': 7871, '티니': 7872, '몀': 7873, '이라고는': 7874, '교통': 7875, '주급': 7876, '강건': 7877, '전문성': 7878, '보증': 7879, '간문제': 7880, '삼만원': 7881, '볼일': 7882, '후년': 7883, '무크': 7884, '캐시': 7885, '킹이버': 7886, '발리다': 7887, '임팩트': 7888, '죄수': 7889, '초초': 7890, '엠앤엠': 7891, '력도': 7892, '소방': 7893, 'ㅊ': 7894, '선진국': 7895, '심상': 7896, '기소': 7897, '유치': 7898, '훼손': 7899, '나나': 7900, '액면가': 7901, '일월': 7902, '유산': 7903, '세습': 7904, '레포트': 7905, '정맥': 7906, '서하': 7907, '우월하다': 7908, '마구로': 7909, '라이프스타일': 7910, '토건': 7911, '디스크': 7912, '당뇨': 7913, '석권': 7914, '메티': 7915, '황색포도상구균': 7916, '제상': 7917, '식품의약품안전처': 7918, '증상': 7919, '징후': 7920, '혈액': 7921, '기저귀': 7922, '찰': 7923, '핑계': 7924, '영구': 7925, '뻗다': 7926, '도어': 7927, '반역': 7928, '샘숭': 7929, '에스오에스': 7930, '록히드': 7931, '이바': 7932, '잠자다': 7933, '상무부': 7934, '김포': 7935, 'ㅅㅅ': 7936, '사단': 7937, '대유': 7938, '드러나다': 7939, '사견': 7940, '소요': 7941, '송사': 7942, '본론': 7943, '실전': 7944, '속단': 7945, '스텀': 7946, '거가': 7947, '취약': 7948, '연재': 7949, '유이': 7950, '파이낸셜뉴스': 7951, '명단': 7952, '양수': 7953, '외형': 7954, '풍부하다': 7955, '찢어지다': 7956, '트위터': 7957, '혈당': 7958, '호르몬': 7959, '삭': 7960, '당뇨병': 7961, '이어진': 7962, '인벤': 7963, '임나': 7964, '잉여': 7965, '고스': 7966, '감언이설': 7967, '팔팔하다': 7968, '보나': 7969, '넘침': 7970, '굴리': 7971, '베이비': 7972, '회계부정': 7973, '브론즈': 7974, '안넘': 7975, '경상도': 7976, '쩜상': 7977, '바사': 7978, '질병': 7979, '근들갑': 7980, '파괴': 7981, '꽝': 7982, '이체': 7983, '에바': 7984, '손자': 7985, '안속': 7986, '뺨': 7987, '잏': 7988, '븐': 7989, '다이어트': 7990, '요안': 7991, '구마': 7992, '껭': 7993, '수인': 7994, '온기': 7995, '극찬': 7996, '피드백': 7997, '엘리엇': 7998, '펄스': 7999, '오래간만': 8000, '정수리': 8001, '피우다': 8002, '서요': 8003, '난하다': 8004, '라이즈': 8005, '무제': 8006, '뱃속': 8007, '분주하다': 8008, '바삐': 8009, '찬사': 8010, '의사결정': 8011, '하이퍼': 8012, '영원': 8013, '중간배당': 8014, '딸라': 8015, '자발': 8016, '이성': 8017, '아멘': 8018, '차악': 8019, '지긋지긋': 8020, '생겻': 8021, 'ㅋㅋㅋㅋㅋㅋㅋㅋㅋㅋㅋㅋㅋㅋ': 8022, '사이버': 8023, '부처': 8024, '중증': 8025, '리제': 8026, '습성': 8027, '리버': 8028, '바이엘': 8029, '바비': 8030, '스모': 8031, '따블': 8032, '앵': 8033, '캠': 8034, '불길하다': 8035, '나노테크': 8036, '훈수': 8037, '성품': 8038, '리진': 8039, '꿈속': 8040, '위약금': 8041, '머트만': 8042, '라스베가스': 8043, '거여': 8044, '정은': 8045, '전번': 8046, '지형': 8047, '황반': 8048, '근시': 8049, '혈': 8050, '니오브': 8051, '현질': 8052, '엔딩': 8053, '군인': 8054, '결혼': 8055, '예비': 8056, '신혼부부': 8057, '대공': 8058, '통틀어': 8059, '플레이어': 8060, '샤라': 8061, '무안군': 8062, '전격': 8063, '스켈핑': 8064, '사료': 8065, '빡빡이': 8066, '상관관계': 8067, '긴박하다': 8068, '침수': 8069, '백이': 8070, '지체': 8071, '절로': 8072, '으음': 8073, '살바': 8074, '너머': 8075, '한남동': 8076, '결판': 8077, '달말': 8078, '남다르다': 8079, '선발': 8080, '신델': 8081, '이라곤': 8082, '짜파게티': 8083, '간섭': 8084, '괄목': 8085, '자가면역': 8086, '레나': 8087, '태초': 8088, '마이크': 8089, '로스트': 8090, '국영': 8091, '미라': 8092, '외가': 8093, '마쇼': 8094, '소리내다': 8095, '이왕이면': 8096, '사팔사팔해': 8097, '뮛': 8098, '투톱': 8099, '공상': 8100, '영화': 8101, '밀접하다': 8102, '단정': 8103, '직결': 8104, '패권': 8105, '아낌없이': 8106, '금감위': 8107, '통보': 8108, '감탄': 8109, '클래스': 8110, '극심하다': 8111, '매진': 8112, '젠슨형': 8113, '엇군': 8114, '완제': 8115, '말레이시아': 8116, '제물': 8117, '코카콜라': 8118, '조립': 8119, '조바심': 8120, '지혜': 8121, '무니': 8122, '재건축': 8123, '구조도': 8124, '돌보다': 8125, '재무성': 8126, '급량': 8127, '겨자': 8128, '다비': 8129, '우두머리': 8130, '박씨': 8131, '누굴탓': 8132, '태위': 8133, '전월': 8134, '만들기': 8135, '손상': 8136, '임현재': 8137, '습니': 8138, '판단력': 8139, '눌렸': 8140, '중시': 8141, '신랑': 8142, '제피': 8143, '동전': 8144, '여행사': 8145, '다이내믹스': 8146, '스럽지': 8147, '강가': 8148, '서글프다': 8149, '드가': 8150, '정녕': 8151, '대못': 8152, '광업권': 8153, '금년': 8154, '에스엠랩': 8155, '떠벌리다': 8156, '발포': 8157, '쉬움': 8158, '두둑하다': 8159, '담담하다': 8160, '가빠지다': 8161, '연애': 8162, '계세': 8163, '파멸': 8164, '듣기': 8165, '적층': 8166, '소자': 8167, '토즈': 8168, '마주': 8169, '악템': 8170, '관절': 8171, '애니': 8172, '취지': 8173, '성장동력': 8174, '굴뚝': 8175, '김대': 8176, '비치다': 8177, '여유롭다': 8178, '미이라': 8179, '해인': 8180, '사형': 8181, '산전수전': 8182, '김정일': 8183, '허덕이다': 8184, '숭숭': 8185, '갈팡질팡': 8186, '떨치다': 8187, '어허': 8188, '상부': 8189, '넘버원': 8190, '코베': 8191, '무지무지': 8192, '인터페이스': 8193, '쭈우욱': 8194, '악세다': 8195, '댓글알바': 8196, '절호': 8197, '보드': 8198, '모호하다': 8199, '경쟁자': 8200, '짚다': 8201, '걔네': 8202, '개미꼬셔': 8203, '스레': 8204, '김어준': 8205, '신한지주': 8206, '라이트': 8207, '천하': 8208, '구조체': 8209, '짭잘하다': 8210, '무언': 8211, '알짜': 8212, '항의': 8213, '횡보장': 8214, '재직': 8215, '카운트다운': 8216, '천천만원': 8217, '번지점프': 8218, '양하다': 8219, '실하다': 8220, '널리': 8221, '안중': 8222, '껀': 8223, '주된': 8224, '남일': 8225, '잦다': 8226, '줫': 8227, '우편': 8228, '뚝심': 8229, '통지': 8230, '난후': 8231, '야단': 8232, '파장': 8233, '턱': 8234, '상승기류': 8235, '고오': 8236, '다급하다': 8237, '적당': 8238, '후우': 8239, '특보': 8240, '성주식': 8241, '빅테크': 8242, '크리': 8243, '보우': 8244, '머트리얼즈': 8245, '출력': 8246, '버티브': 8247, '시트': 8248, '불가하다': 8249, '라우': 8250, '저조하다': 8251, '도돌이표': 8252, '미네르바': 8253, '깍이다': 8254, '재소': 8255, '눈부시다': 8256, '계정': 8257, '피부': 8258, '땅땅': 8259, '이씨': 8260, '짭짤하다': 8261, '기류': 8262, '금시': 8263, '하란': 8264, '필드': 8265, '원격': 8266, '동작': 8267, '작성자': 8268, '엿보다': 8269, '존립': 8270, '귀국': 8271, '탑승교': 8272, '소굴': 8273, '에스컬레이터': 8274, '칼레': 8275, '철거': 8276, '조정시기': 8277, '시퍼렇다': 8278, '보이시': 8279, '뚱뚱하다': 8280, '사회주의': 8281, '관전': 8282, '조마조마': 8283, '진짴': 8284, '부패': 8285, '모조리': 8286, '찾아내다': 8287, '추억': 8288, '노르웨이': 8289, '위원': 8290, '좌지우지': 8291, '요양': 8292, '운임': 8293, '노사': 8294, '단행': 8295, '웅': 8296, '겁쟁이': 8297, '왜또': 8298, '쇼부': 8299, '일기': 8300, '밧다': 8301, '대리': 8302, '지유': 8303, '리하': 8304, '벽보': 8305, '식히다': 8306, '투사': 8307, '득세': 8308, '핍박': 8309, '치부': 8310, '자하': 8311, '다도': 8312, '남녀': 8313, '투애니원': 8314, '좁다': 8315, '벙커': 8316, '에두': 8317, '서머': 8318, '의총': 8319, '발휘': 8320, '수억': 8321, '노하우': 8322, '성악설': 8323, '아메리카': 8324, '빌보드': 8325, '스위프트': 8326, '라마': 8327, '초동': 8328, '장어': 8329, '나연': 8330, '베스트셀러': 8331, '뮤직비디오': 8332, '본사': 8333, '재화': 8334, '얄팍하다': 8335, '포식': 8336, '묵직하다': 8337, '주더': 8338, '누루': 8339, '팔만': 8340, '몆': 8341, '그저께': 8342, '거시경제': 8343, '등를': 8344, '프로세스': 8345, '동남아시아': 8346, '오죽하다': 8347, '차곡': 8348, '형주': 8349, '농협': 8350, '뭐시기': 8351, '노멀': 8352, '질리': 8353, '내려앉다': 8354, '단번': 8355, '한진': 8356, '나노미터': 8357, '구애': 8358, '투지': 8359, '콘테스트': 8360, '연구기관': 8361, '승질': 8362, '어른': 8363, '미취': 8364, '관짝': 8365, '배임': 8366, '사내': 8367, '건수': 8368, '대원': 8369, '코스피지수': 8370, '탈걸': 8371, '로고': 8372, '어쩐지': 8373, '배려': 8374, '막연하다': 8375, '단오': 8376, '개스피': 8377, '두근두근': 8378, '사죄': 8379, '오천원': 8380, '의아': 8381, '상벌': 8382, '괴물': 8383, '맥아': 8384, '고소': 8385, '상해': 8386, '금강': 8387, '시킴': 8388, '쌍봉': 8389, '율과': 8390, '체류': 8391, '브로': 8392, '포스터': 8393, '버벅': 8394, '효력': 8395, '쪼끔': 8396, '남고': 8397, '예매': 8398, '고자': 8399, '심리전': 8400, '재용': 8401, '문걸': 8402, '엊그제': 8403, '실용': 8404, '거르': 8405, '국가신용등급': 8406, '귀하다': 8407, '철칙': 8408, '압수': 8409, '흥분': 8410, '짜지다': 8411, '꼬드': 8412, '랍시고': 8413, '매체': 8414, '값어치': 8415, '인디애나주': 8416, '불투명': 8417, '협': 8418, '다듬다': 8419, '캔': 8420, '어흑': 8421, '는데': 8422, '나하': 8423, '두근거리다': 8424, '억울': 8425, '로비': 8426, '뚝뚝': 8427, '나락감': 8428, '최하': 8429, '가든': 8430, '자고로': 8431, '피땀': 8432, '공후': 8433, '몸통': 8434, '마자': 8435, '아두': 8436, '클릭': 8437, '고국': 8438, '도사': 8439, '쪼': 8440, '건희': 8441, '교촌': 8442, '고질': 8443, '마는': 8444, '콜마': 8445, '소박하다': 8446, '열쇠': 8447, '바짝': 8448, '정보기술': 8449, '눈길': 8450, '배출량': 8451, '소용': 8452, '지장': 8453, '돌풍': 8454, '천대': 8455, '탈출성': 8456, '아동': 8457, 'ㄹㅇㅋㅋ': 8458, '클럽': 8459, '반듯이': 8460, '인디언': 8461, '가계부채': 8462, '어쩌려': 8463, '안이': 8464, '광범위하다': 8465, '물밑': 8466, '총재': 8467, '최적': 8468, '맛좀': 8469, '거꾸로': 8470, '능거': 8471, '지미': 8472, '메우다': 8473, '목구멍': 8474, '시브': 8475, '업도': 8476, '난감하다': 8477, '젠알앤엠': 8478, '외쿡': 8479, '궁리': 8480, '참되다': 8481, '플루': 8482, '증식': 8483, '쌍둥이': 8484, '기장군': 8485, '잔금': 8486, '납입': 8487, '어언': 8488, '묶여서': 8489, '뛰어내리다': 8490, '종식': 8491, '그러기에': 8492, '누군지': 8493, '재성': 8494, '부동': 8495, '생살': 8496, '알징': 8497, '훈장': 8498, '꼴통': 8499, '적대': 8500, '제련소': 8501, '제련': 8502, '여타': 8503, '그네': 8504, '단골': 8505, '브이': 8506, '똘': 8507, '일찍이': 8508, '불경기': 8509, '개피': 8510, '분계': 8511, '플로': 8512, '광각': 8513, '렌즈': 8514, '화질': 8515, '인텔리전스': 8516, '빅스': 8517, '만료': 8518, 'ㅡㅡㅠ': 8519, '일체': 8520, '비도': 8521, '세븐': 8522, '방탄': 8523, '성적표': 8524, '힐링': 8525, '오신': 8526, '위장': 8527, '쓰레': 8528, '시시하다': 8529, '환급': 8530, '담보': 8531, '금융기관': 8532, '닥': 8533, '정면': 8534, '서울중앙지법': 8535, '급성': 8536, '의류': 8537, '조예': 8538, '행세': 8539, '관료': 8540, '위쪽': 8541, '늙다': 8542, '시적': 8543, '분탕질': 8544, '하기는': 8545, '지렁이': 8546, '꿈틀': 8547, '유지나': 8548, '거너': 8549, '장가': 8550, '하얼빈': 8551, '구두': 8552, '보련': 8553, '침몰': 8554, '미처': 8555, '나후': 8556, '도참': 8557, '영혼': 8558, '게속': 8559, '단속': 8560, '하나님': 8561, '퍼다': 8562, '민중': 8563, '달랑': 8564, '한신포차': 8565, '상권': 8566, '코닝': 8567, '칙': 8568, '야동': 8569, '패딩': 8570, '댓': 8571, '빈약하다': 8572, '낭비': 8573, '고전': 8574, '형편': 8575, '헛': 8576, '엄밀하다': 8577, '내자': 8578, '제적': 8579, '상남자': 8580, '울부짖다': 8581, '스틴': 8582, '넷제': 8583, '선대': 8584, '종업': 8585, '이프': 8586, '한파': 8587, '에스오일': 8588, '엠년': 8589, '웹': 8590, '보드게임': 8591, '미흡하다': 8592, '긍': 8593, '폭주': 8594, '출타': 8595, '순간이동': 8596, '토람프': 8597, '협조': 8598, '천마': 8599, '연습생': 8600, '지껄이다': 8601, '자못': 8602, '잡것': 8603, '포탑': 8604, '트롤': 8605, '니지': 8606, '가천': 8607, '폭풍전야': 8608, '섯': 8609, '기습': 8610, '기웃기웃': 8611, '경은': 8612, '실과': 8613, '영은': 8614, '금탁': 8615, '연출': 8616, '울림': 8617, '세율': 8618, '벌금': 8619, '노이즈': 8620, '평온': 8621, '김치냉장고': 8622, '종배': 8623, '안팍': 8624, '하그': 8625, '한없이': 8626, '국민성': 8627, '축구': 8628, '불변': 8629, '머니투데이': 8630, '김지훈': 8631, '백광': 8632, '적어지다': 8633, '제국': 8634, '점심시간': 8635, '넉넉하다': 8636, '연말정산': 8637, '나우': 8638, '존스': 8639, '돌아다니다': 8640, '정관': 8641, '건제': 8642, '투표제': 8643, '화의': 8644, '완죤': 8645, '인맥': 8646, '으로라도': 8647, '손절침': 8648, '한몫': 8649, '으로나': 8650, '압살': 8651, '년초': 8652, '처럼만': 8653, '더살껄': 8654, '민국': 8655, '남북': 8656, '분단': 8657, '종자': 8658, '섣부르다': 8659, '랜드': 8660, '실사': 8661, '판정': 8662, '관문': 8663, '다임': 8664, '뚝배기': 8665, '증폭': 8666, '블랙프라이데이': 8667, '심해': 8668, '핸들링': 8669, '수시': 8670, '봉투': 8671, '등주': 8672, '부당하다': 8673, '좌': 8674, '선물지수': 8675, '어쩌다가': 8676, '벗다': 8677, '까지라도': 8678, '수소차': 8679, '만듬': 8680, '우매': 8681, '과를': 8682, '멧돼지': 8683, '팔음': 8684, '아연': 8685, '명태': 8686, '미역국': 8687, '선생': 8688, '강하': 8689, '헤지': 8690, '한눈': 8691, 'ㅋㅋㅋㅋㅋㅋㅋㅋㅋㅋㅋㅋㅋㅋㅋㅋㅋㅋㅋㅋㅋㅋㅋㅋ': 8692, '떳으': 8693, '사범': 8694, '참모': 8695, '썩열': 8696, '산적': 8697, '반증': 8698, '웅덩이': 8699, '리조트': 8700, '친분': 8701, '연결고리': 8702, '정의선': 8703, '대중화': 8704, '폭도': 8705, '여하간': 8706, '개도': 8707, '콘서트': 8708, '물린': 8709, '무시무시하다': 8710, '중양': 8711, '눌렸다': 8712, '골자': 8713, '불행': 8714, '가성': 8715, '박정원': 8716, '줄곧': 8717, '학점': 8718, '수만': 8719, '정식': 8720, '바랬는데': 8721, '얼치기': 8722, '직업': 8723, '사리': 8724, '무차별': 8725, '알제': 8726, '웨스팅하우스': 8727, '이치': 8728, '인대': 8729, 'ㅇㅅㅇ': 8730, '존속': 8731, '심각해지다': 8732, '볼라': 8733, '속병': 8734, '장악': 8735, '성지': 8736, '끝내': 8737, '흥분하다': 8738, '스테롤': 8739, '오키': 8740, '가이거': 8741, '라바': 8742, '무리수': 8743, '평상시': 8744, '날벼락': 8745, '무거워': 8746, '털린': 8747, '꾸미다': 8748, '왜곡': 8749, '무법': 8750, '릴레이': 8751, '패닐셀': 8752, '라무': 8753, '지피다': 8754, '종업원': 8755, '홍어': 8756, '짱깨': 8757, '빠리': 8758, '한글': 8759, '개떡': 8760, '악연': 8761, '황제': 8762, '집사': 8763, '퇴보': 8764, '그니까': 8765, '비상하다': 8766, '현혹': 8767, '명치': 8768, '꼬리치다': 8769, '똥개': 8770, '그딴': 8771, '흉내': 8772, '저딴': 8773, '행여': 8774, '효도': 8775, '그토록': 8776, '테슬': 8777, '동갑': 8778, '저쩌구': 8779, '훼방': 8780, '고향': 8781, '지시': 8782, '느그': 8783, '아바': 8784, '반값': 8785, '가물': 8786, '찍기': 8787, '데일': 8788, '잘생기다': 8789, '담장': 8790, '전라남도': 8791, '나기': 8792, '델': 8793, '토욜': 8794, '소멸하다': 8795, '열광하다': 8796, '으악': 8797, '태극기': 8798, '염원': 8799, '스닥': 8800, '이노텍': 8801, '광학': 8802, '해상도': 8803, '위엄': 8804, '투과': 8805, '따끈따끈하다': 8806, '업턴': 8807, '방사청': 8808, '지하철': 8809, '간호': 8810, '끙': 8811, '면제': 8812, '그랜드': 8813, '이원': 8814, '패인': 8815, '밀양': 8816, '둔하다': 8817, '침': 8818, '원장': 8819, '비어': 8820, '소용없다': 8821, '공짜': 8822, '런칭': 8823, '나누기': 8824, '의식': 8825, '마녀사냥': 8826, '판박이': 8827, '깝': 8828, '쫄려': 8829, '바꿈': 8830, '박빙': 8831, '역행': 8832, '만자': 8833, '익주': 8834, '화투': 8835, '코스트코': 8836, '창궐': 8837, '개막': 8838, '구급대원': 8839, '약손': 8840, '리수': 8841, '슨피을': 8842, '허물': 8843, '슥': 8844, '굿바이': 8845, '잘해야': 8846, '덤비다': 8847, '들락날락': 8848, '급부': 8849, '진성': 8850, '커리어': 8851, '간수': 8852, '단치': 8853, '눈감다': 8854, '제제': 8855, '음원': 8856, '드라마틱하다': 8857, '유라시아': 8858, '늘어지다': 8859, '최고다': 8860, '대접': 8861, '가드': 8862, '켜': 8863, '직책': 8864, '토요타': 8865, '제바': 8866, '윤건': 8867, '한결': 8868, '큰소리': 8869, '티슈': 8870, '카를': 8871, '이스라엘': 8872, '이창영': 8873, '낼층': 8874, '겧': 8875, '다분': 8876, '원로': 8877, '날로': 8878, '사법부': 8879, '분열': 8880, '선례': 8881, '구제': 8882, '증발': 8883, '발효': 8884, '짜르': 8885, '꾸벅': 8886, '쥬쥬': 8887, '차피': 8888, '촬영': 8889, '소듐': 8890, '무고': 8891, '만이천원': 8892, '험담': 8893, 'ㅊㅊ': 8894, '데니': 8895, '쭈': 8896, '엄두': 8897, '어구': 8898, '못햇': 8899, '잔잔하다': 8900, '개웃': 8901, '장래': 8902, '닌': 8903, '파리': 8904, '쒸': 8905, '더기': 8906, '는바': 8907, '대로는': 8908, '이안': 8909, '밤새': 8910, '싸가지': 8911, '호한': 8912, '타오르다': 8913, '마소': 8914, '동기간': 8915, '체리': 8916, '예스': 8917, '응급실': 8918, '늬': 8919, '조정만': 8920, '하나투어': 8921, '여리다': 8922, '드가자': 8923, '보복': 8924, '도발': 8925, '머신': 8926, '러닝': 8927, '기입': 8928, '아이구': 8929, '일왕': 8930, '십중팔구': 8931, '패가망신': 8932, '훈련': 8933, '속성': 8934, '주기도': 8935, '미란': 8936, '들썩이다': 8937, '부조리': 8938, '드니': 8939, '건전하다': 8940, '일삼': 8941, '융합': 8942, '빽빽': 8943, '면담': 8944, '행시': 8945, '역풍': 8946, '치명': 8947, '톡방': 8948, '런웨이': 8949, '컵라면': 8950, '냉장고': 8951, '토큰': 8952, '입법': 8953, '어질어질하다': 8954, '근황': 8955, '갠': 8956, '심각': 8957, '태어나다': 8958, 'ㅃㅃ': 8959, '무당': 8960, '보그': 8961, '펀드매니저': 8962, '벗꽃': 8963, '마로': 8964, '드가야': 8965, '조그만': 8966, '로손': 8967, '벼': 8968, '물고기': 8969, '험하다': 8970, '헤드앤숄더': 8971, '씌우다': 8972, '수천': 8973, '우뚝': 8974, '비겁하다': 8975, '해대': 8976, '팬오션': 8977, '주노': 8978, '폴라리스': 8979, '뱅': 8980, '승': 8981, '규칙': 8982, '맹목': 8983, '포스': 8984, '양지': 8985, '돌핀': 8986, 'ㅠㅠㅋㅋ': 8987, '주심': 8988, '그녀': 8989, '더리': 8990, '명도': 8991, '가버렷': 8992, '개월전': 8993, '의의': 8994, '벚어나': 8995, '여명': 8996, '명목': 8997, '글쎄': 8998, '귝': 8999, '부스터': 9000, '둘러보다': 9001, '천백억': 9002, '개메': 9003, '어후': 9004, '관종': 9005, '알레르기': 9006, '노바티스': 9007, '츠': 9008, '위암': 9009, '고셔병': 9010, '눈꼽': 9011, '가히': 9012, '노벨상': 9013, '크리스마스이브': 9014, '웃돈': 9015, '쯧쯧': 9016, '호도': 9017, '화물': 9018, '초유': 9019, '깍': 9020, '쫓아내다': 9021, '로컬라이즈': 9022, '역서': 9023, '철근': 9024, '중량': 9025, '캐다': 9026, '드릴': 9027, '제르': 9028, '몰이': 9029, '기획사': 9030, '게임개발': 9031, '권유': 9032, '선거': 9033, '유엔': 9034, '저조': 9035, '다이아몬드': 9036, '메르': 9037, '썩을': 9038, '당첨': 9039, '탑층': 9040, '안지': 9041, '데모': 9042, '바나나': 9043, '우습다': 9044, '철강업': 9045, '시니어': 9046, '금식': 9047, '빌어먹을': 9048, '참혹하다': 9049, '두발': 9050, '군산': 9051, '이태리': 9052, '가인': 9053, '삼박자': 9054, '채무': 9055, '견조': 9056, '미미': 9057, '낸드': 9058, '쿼리': 9059, '월물': 9060, '체급': 9061, '배설물': 9062, '한가롭다': 9063, '버니': 9064, '애인': 9065, '꼬셔': 9066, '어버버': 9067, '쏠쏠': 9068, '일해': 9069, 'ㅎㅎㅎㅎㅎ': 9070, '순삭': 9071, '사이즈': 9072, '의기양양하다': 9073, '나불대다': 9074, '그려지다': 9075, '마침내': 9076, '레기': 9077, '난층': 9078, '문건': 9079, '금새': 9080, '한자리': 9081, '와르르': 9082, '기온': 9083, '싱귤': 9084, '고제': 9085, '돈버는': 9086, '버억': 9087, '방기': 9088, '보법': 9089, '타가': 9090, '펭귄': 9091, '훈훈하다': 9092, '타락하다': 9093, '데려오다': 9094, '계약서': 9095, '군용': 9096, '외적': 9097, '깜깜': 9098, '지명': 9099, '끊어지다': 9100, '헤아리다': 9101, '쫙쫙': 9102, '친절하다': 9103, '방면': 9104, '사하라': 9105, '이코노미석': 9106, '사보': 9107, '성의': 9108, '옹호': 9109, '미나': 9110, '종북': 9111, '원리': 9112, '실례': 9113, '폭염': 9114, '오피셜': 9115, '랫': 9116, '운전기사': 9117, '모야': 9118, '구한말': 9119, '왜구': 9120, '냅다': 9121, '람': 9122, '밸트': 9123, '거세': 9124, '우직하다': 9125, '무심하다': 9126, '절연': 9127, '대체재': 9128, '손절마렵': 9129, '이개': 9130, '위법': 9131, '하등': 9132, '부수': 9133, '구리다': 9134, '장기호': 9135, '출연': 9136, '강변': 9137, '재개발': 9138, '한남': 9139, '구역': 9140, '캐리': 9141, '중심부': 9142, '랜드마크': 9143, '주정': 9144, '드갑니': 9145, '핏': 9146, '전산': 9147, '출렁이다': 9148, '사업인': 9149, '블랙웰': 9150, '참내': 9151, '못버': 9152, '즉각': 9153, '건아': 9154, '지끈': 9155, '몬헌': 9156, '네일': 9157, '깨달': 9158, '블럭': 9159, '듀': 9160, '디도': 9161, '곽노': 9162, '동지': 9163, '골다공증': 9164, '남성': 9165, '싫어지다': 9166, '죄인': 9167, '싸이코패스': 9168, '회복기': 9169, '소년': 9170, '신흥': 9171, '자시다': 9172, '서든': 9173, '약시': 9174, '양말': 9175, '냠': 9176, '한인': 9177, '우여곡절': 9178, '이완용': 9179, '엘전': 9180, '관외': 9181, '꼬꾸라지다': 9182, '다난': 9183, '년년': 9184, '폐점': 9185, '오케이': 9186, '숴': 9187, '무운': 9188, '비니': 9189, '윌리엄': 9190, '오닐': 9191, '노랑': 9192, '가로서다': 9193, '일명': 9194, '확실': 9195, '예언자': 9196, '눈사람': 9197, '장식': 9198, '텅텅': 9199, '버젼': 9200, '금붕어': 9201, '피곤': 9202, '쩔다': 9203, '시라': 9204, '긴밀하다': 9205, '다이내믹': 9206, '불감증': 9207, '대들다': 9208, '쏟아내다': 9209, '여자': 9210, '아이돌': 9211, '핑크': 9212, '공익': 9213, '사하나': 9214, '을사': 9215, '리만': 9216, '화낼': 9217, '글래스': 9218, '출국': 9219, '망령': 9220, '창사': 9221, '이명박': 9222, '천치': 9223, '바느질': 9224, '임자': 9225, '고사': 9226, '허니': 9227, '셰일': 9228, '인터네셔널': 9229, '그러자': 9230, '부강': 9231, '국가경쟁력': 9232, '니오르': 9233, '예수금': 9234, '무한도전': 9235, '환입': 9236, '하마': 9237, '해고': 9238, '직관': 9239, '가발': 9240, '명색': 9241, '오인수': 9242, '도매': 9243, '친환': 9244, '경차': 9245, '만천이': 9246, '방일': 9247, '부손': 9248, '시럽': 9249, '정모': 9250, '조만이': 9251, '짬': 9252, '소요량': 9253, '센티': 9254, '세트': 9255, '펌핑': 9256, '트레이드': 9257, '중도': 9258, '나스': 9259, '거구': 9260, '인스타': 9261, '사과문': 9262, '울분': 9263, '패자': 9264, '블라디미르': 9265, '푸틴': 9266, '만리장성': 9267, '곤': 9268, '노고': 9269, '훈': 9270, '방긋': 9271, '옥포': 9272, '칙칙폭폭': 9273, '미용': 9274, '엠엔씨': 9275, '일어나고': 9276, '등사': 9277, '아가': 9278, '박박': 9279, 'ㅃㅇ': 9280, '그래픽카드': 9281, '투앱': 9282, '잡스': 9283, '젭': 9284, '바운드': 9285, '우측': 9286, '딩시': 9287, '수동': 9288, '감속': 9289, '더군다나': 9290, '일감': 9291, '떳다': 9292, '피겨': 9293, '쇠': 9294, '장타': 9295, '개인화': 9296, '보탬': 9297, '공휴일': 9298, '만큼이나': 9299, '스타얼라이언스': 9300, '온대': 9301, '안부': 9302, '굴': 9303, '별루': 9304, '경건하다': 9305, '증후군': 9306, '어닐링': 9307, '오든': 9308, '식빵': 9309, '조성하': 9310, '립': 9311, '엎어지다': 9312, '목포': 9313, '검객': 9314, '부캐': 9315, '신성만': 9316, '분동': 9317, '궁디': 9318, '이요': 9319, '사시': 9320, '단돈': 9321, '프러스': 9322, '지평': 9323, '자부심': 9324, '추진단': 9325, '분발': 9326, '계절': 9327, '벤치마킹': 9328, '메모': 9329, '써주다': 9330, '자비롭다': 9331, '어서어서': 9332, '동유럽': 9333, '달함': 9334, '추서': 9335, '수능': 9336, '광화문': 9337, '떳나': 9338, '준비운동': 9339, '후반기': 9340, '모형': 9341, '앞전': 9342, '엎친데': 9343, '비리': 9344, '줄라': 9345, '박하다': 9346, '나좀': 9347, '똥값': 9348, '둬': 9349, '깝깝': 9350, '집값': 9351, '편성': 9352, '대작': 9353, '재계약': 9354, '나소': 9355, '드럼통': 9356, '팔구': 9357, '하늬': 9358, '템': 9359, '곰인형': 9360, '승부사': 9361, '이재현': 9362, '처지': 9363, '주구': 9364, '라비': 9365, '나그네': 9366, '나날이': 9367, '자진': 9368, '임종': 9369, '스치다': 9370, '서킷': 9371, '꽃길': 9372, '삿더': 9373, '필승': 9374, '청정': 9375, '금융위': 9376, '양국': 9377, '국무부': 9378, '오토메이션': 9379, '분경': 9380, '뜻대로': 9381, '반찬': 9382, '예수님': 9383, '고치': 9384, '불평': 9385, '상범': 9386, '거두어들이다': 9387, '컄': 9388, '소가': 9389, '아스': 9390, '계란': 9391, '끝물': 9392, '떄': 9393, '주서': 9394, '단발': 9395, '전자부품': 9396, '얀': 9397, 'ㅋㅋㅋㅋㅋㅋㅋㅋㅋㅋㅋㅋㅋㅋㅋㅋ': 9398, '산불': 9399, '아작': 9400, '남탓': 9401, '일관': 9402, '획': 9403, '고우리': 9404, '하내': 9405, '정치이념': 9406, '대우건설': 9407, '푸근하다': 9408, '외놈': 9409, '요시': 9410, '까지로': 9411, '은상': 9412, '몸값': 9413, '상무': 9414, '불러일으키다': 9415, '정비사': 9416, '숍': 9417, '고성': 9418, '미치광이': 9419, '난장판': 9420, '운영자': 9421, '전원': 9422, '에어부산': 9423, '냉큼': 9424, '삼키다': 9425, '평등하다': 9426, '콜도': 9427, '코스모스': 9428, '인베': 9429, '한수': 9430, '오드': 9431, '예기': 9432, '자포자기': 9433, '뜻밖': 9434, '부리고': 9435, '페라리': 9436, '면상': 9437, '동화책': 9438, '넥게': 9439, '는고': 9440, '진핑': 9441, '비전하': 9442, '로우': 9443, '주해': 9444, '소생': 9445, '프렌': 9446, '왕따': 9447, '개표기': 9448, '지로': 9449, '시달리다': 9450, '어닝쇼크': 9451, '월안': 9452, '벼락': 9453, '윗사람': 9454, '미끼': 9455, '파르': 9456, '스탠스': 9457, '알기': 9458, '퍽': 9459, '등록금': 9460, '니다': 9461, '삼식이': 9462, '별다르다': 9463, '트레이딩': 9464, '스트리밍': 9465, '태그': 9466, '군산공항': 9467, '여수공항': 9468, '게이트': 9469, '나요': 9470, '영업비밀': 9471, '마진콜': 9472, '틈타다': 9473, '슈': 9474, '시비': 9475, '잠기다': 9476, '심의': 9477, '응답': 9478, '난건': 9479, '상세': 9480, '앞길': 9481, '제명': 9482, '후시': 9483, '주둥이': 9484, '개중': 9485, '도끼': 9486, '정책금융': 9487, '삼이': 9488, '동서': 9489, '경산': 9490, '중산': 9491, '마구': 9492, '취해': 9493, '만포': 9494, '잡음': 9495, '자잘하다': 9496, '바바라': 9497, '윤나': 9498, '설령': 9499, '온나라': 9500, '난민': 9501, '살기': 9502, '프라': 9503, '이즈': 9504, '따라다니다': 9505, '켄': 9506, '수상자': 9507, '덤핑': 9508, '중주': 9509, '오스코텍': 9510, '퍼포먼스': 9511, '가모': 9512, '불매': 9513, '와플': 9514, '치유': 9515, '젠알앤엠월': 9516, '오버': 9517, '빚투': 9518, '종사': 9519, '털털': 9520, '퇴학': 9521, '수다': 9522, '주목할만하다': 9523, '거액': 9524, '퓨틱스': 9525, '갈증': 9526, '고누': 9527, '곶감': 9528, '사납다': 9529, '차관': 9530, '분투': 9531, '조굼': 9532, '개패': 9533, '웹툰': 9534, '포쉬': 9535, '독립운동가': 9536, '전방': 9537, '공채': 9538, '원본초': 9539, '화공': 9540, '강심장': 9541, '구르다': 9542, 'ㅠㅠㅠㅜ': 9543, '기비': 9544, '오호': 9545, '박제': 9546, '아랫': 9547, '사나이': 9548, '요다음': 9549, '채운': 9550, '퓨처엠': 9551, '잔량': 9552, '상중': 9553, '운송계약': 9554, '달전': 9555, '상주': 9556, '입력': 9557, '엄격하다': 9558, '모임': 9559, '명심': 9560, '글러먹': 9561, '신문': 9562, '회원': 9563, 'ㅠㅡㅜ': 9564, '하고만': 9565, '금제': 9566, '딱이다': 9567, '차안': 9568, '차등': 9569, '바가지': 9570, '시원': 9571, '제대': 9572, '개역': 9573, '태양': 9574, '발바닥': 9575, '이자나': 9576, '리움': 9577, '낙찰': 9578, '불우': 9579, '팽배': 9580, '살림살이': 9581, '월월': 9582, '숄더': 9583, '컵': 9584, '윤리': 9585, '대체로': 9586, '증축': 9587, '유니': 9588, '텐배거': 9589, '억억': 9590, '고구마': 9591, '디즈니': 9592, '월화드라마': 9593, '보전': 9594, '종양': 9595, '뇨': 9596, '마오': 9597, '찬란하다': 9598, '주무': 9599, '미챠': 9600, '따갑다': 9601, '포지셔닝': 9602, '개무시': 9603, '딜러': 9604, '안쓰럽다': 9605, '조합': 9606, '로슈': 9607, '풀배팅': 9608, '윤돼': 9609, '스트리머': 9610, '상암': 9611, '라디오': 9612, '독도함': 9613, '상륙정': 9614, '참조': 9615, '말리': 9616, '주너': 9617, '천백만원': 9618, '스포크': 9619, '정보보호': 9620, '진흥': 9621, '항목': 9622, '부착': 9623, '넥실': 9624, '군함': 9625, '관제': 9626, '칠면조': 9627, '분과': 9628, '듭': 9629, '늠': 9630, '에다가': 9631, '재질': 9632, '군수': 9633, '필리핀': 9634, '부응': 9635, '세무조사': 9636, '질적': 9637, '군데': 9638, '닥치다': 9639, '크아': 9640, '송년회': 9641, '눈썹': 9642, '나신': 9643, '소거': 9644, '요긴': 9645, '특허권': 9646, '발명': 9647, '전화하다': 9648, '지루': 9649, '선단': 9650, '재발': 9651, '단수': 9652, '공정하다': 9653, '캡': 9654, '이색': 9655, '일련': 9656, '올랏': 9657, '국수': 9658, '뉴클리어': 9659, '폐기물': 9660, '껄무새': 9661, '추하다': 9662, 'ㅜㅡㅠ': 9663, '에가': 9664, '외신': 9665, '지반': 9666, '공대생': 9667, '추이': 9668, '경제성장률': 9669, '까지만이라도': 9670, '우글우글': 9671, '짠하다': 9672, '와쿠': 9673, '활기': 9674, '방콕': 9675, '사업가': 9676, '아리다': 9677, '관리종목': 9678, '요정': 9679, '욕설': 9680, '영호': 9681, '에이지': 9682, '프론데': 9683, '안테나': 9684, '솟아오르다': 9685, '일별': 9686, '주접': 9687, '쟁점': 9688, '프로야': 9689, '펼쳐지다': 9690, '계륵': 9691, '시냇물': 9692, '여객선': 9693, '나머진': 9694, '라미': 9695, '채용': 9696, '공전': 9697, '단순화': 9698, '데미지': 9699, '표기': 9700, '로직': 9701, '형호': 9702, '유념': 9703, '신조': 9704, '이준호': 9705, '간밤': 9706, '덩달아': 9707, '스캠': 9708, '미가': 9709, '상과': 9710, '트랙터': 9711, '코바': 9712, '할렐루야': 9713, '주르륵': 9714, '건의': 9715, '감가상각비': 9716, '장시': 9717, '천억이': 9718, '움츠리다': 9719, '핸들러': 9720, '둘러싸다': 9721, '놀러와': 9722, '툴': 9723, '넷마블': 9724, '돈버는거': 9725, '뭐합': 9726, '블록': 9727, '양치': 9728, '노크': 9729, '개꿀잼': 9730, '공신': 9731, '병증': 9732, '레이브': 9733, '셀프': 9734, '자영': 9735, '시어': 9736, '결여': 9737, '정덕': 9738, '변모': 9739, '기구': 9740, '억지': 9741, '융통성': 9742, '조마': 9743, '선수': 9744, '로지': 9745, '객기': 9746, '러버': 9747, '요요': 9748, '스탠': 9749, '종결': 9750, '아래쪽': 9751, '갤럭시탭': 9752, '들르다': 9753, '쇄신': 9754, '티끌': 9755, '허겁지겁': 9756, '도록': 9757, '고영': 9758, '대장님': 9759, 'ㅈㅅ': 9760, '틀어지다': 9761, '실업': 9762, '당청': 9763, '구건': 9764, '중심선': 9765, '반도': 9766, '안당': 9767, '총선': 9768, '불안정하다': 9769, '변형': 9770, '전락': 9771, '순수': 9772, '갉아먹다': 9773, '누리': 9774, '고고씽': 9775, '입히다': 9776, '고참': 9777, '무의식': 9778, '마침표': 9779, '프론티어': 9780, '가조': 9781, '건물': 9782, '우유': 9783, '너넨': 9784, '매입량': 9785, '작일': 9786, '어나': 9787, '허공': 9788, '메시': 9789, '이또': 9790, '중독': 9791, '벤치마크': 9792, '데스': 9793, '서한': 9794, '브컴': 9795, '말임': 9796, '처량하다': 9797, '홀딩입니': 9798, '두껍다': 9799, '바짓가랑이': 9800, '날아다니다': 9801, '메인보드': 9802, '공중': 9803, '비코': 9804, '존버하': 9805, '독하다': 9806, '지속가능성': 9807, '수여': 9808, '탐구': 9809, '조도': 9810, '반중': 9811, '무장': 9812, '솔리드': 9813, '중원': 9814, '리즈': 9815, '자로': 9816, '바톤': 9817, '구체화': 9818, '선처': 9819, '확증': 9820, '꽁꽁': 9821, '얼다': 9822, '비밀번호': 9823, '신중': 9824, '굳히다': 9825, '편리': 9826, '차입': 9827, '코크': 9828, '중개': 9829, '혈안': 9830, '수임': 9831, '제일제당': 9832, '유예': 9833, '삼화': 9834, '가증': 9835, '임대': 9836, '성사': 9837, '보쌈': 9838, '요청서': 9839, '커다랗다': 9840, '가맹': 9841, '최연': 9842, '유진': 9843, '트럼트': 9844, '맑다': 9845, '최상급': 9846, '사비': 9847, '보건': 9848, '부풀다': 9849, '곳임': 9850, '렌더링': 9851, '별반': 9852, '순조': 9853, '자존심': 9854, '공세': 9855, '하느님': 9856, '라든가': 9857, '지지마': 9858, '어댑터': 9859, '원치않다': 9860, '비보': 9861, '이노션': 9862, '다현': 9863, '거점': 9864, '쿠웨이트': 9865, '오현': 9866, '데도': 9867, '투스': 9868, '유치하다': 9869, '모래주머니': 9870, '공통점': 9871, '꿋꿋': 9872, '신동아': 9873, '법정관리': 9874, '엑셀': 9875, '이온': 9876, '최윤': 9877, '스턴': 9878, '체인지': 9879, '민심': 9880, '오백만원': 9881, '버는건': 9882, '이미르': 9883, '베이글': 9884, '지엄': 9885, '고온': 9886, '회주': 9887, '서론': 9888, '하순': 9889, '으리': 9890, '진하다': 9891, '알아내다': 9892, '정돈': 9893, '서울대': 9894, '연세대': 9895, '버세': 9896, '쌍욕': 9897, '평등': 9898, '두세': 9899, '록': 9900, '수안': 9901, '트라우마': 9902, '당근': 9903, '책임감': 9904, '까지야': 9905, '마통': 9906, '색깔': 9907, '른': 9908, '삼풍백화점': 9909, '코스터': 9910, '기인': 9911, '포스텍': 9912, '물리학': 9913, '켄지': 9914, '국립': 9915, '조셉슨': 9916, '양자역학': 9917, '통신업': 9918, '무무': 9919, '헛깨비': 9920, '물자': 9921, '축적': 9922, '황상': 9923, '주제가': 9924, '통째': 9925, '사운드': 9926, '웨어': 9927, '뚜': 9928, '유선': 9929, '투더문': 9930, '에라도': 9931, '풀기': 9932, '이니셔티브': 9933, '한중': 9934, '안구': 9935, '티엔': 9936, '채금': 9937, '호위함': 9938, '충남': 9939, '처절하다': 9940, '쓰래': 9941, '우원식': 9942, '힝': 9943, '구글플레이': 9944, '랑귀': 9945, '돌리지': 9946, '극우': 9947, '앨앤': 9948, '여상': 9949, '어쩌지': 9950, '득달': 9951, '디안': 9952, '정신과': 9953, '넥센': 9954, '조르다': 9955, '닥치고': 9956, '뿌': 9957, '측정': 9958, '할인점': 9959, '입구': 9960, '봣': 9961, '적국': 9962, '명당': 9963, '실컷': 9964, '봇주': 9965, '안랩': 9966, '다방면': 9967, '올림픽': 9968, '재한': 9969, '앓다': 9970, '패착': 9971, '홀랑': 9972, '등신': 9973, '조이다': 9974, '타인': 9975, '타당': 9976, '감개': 9977, '무량': 9978, '어찌어찌': 9979, '톨': 9980, '점안': 9981, '리틀': 9982, '계훈': 9983, '작곡': 9984, '디테일': 9985, '유턴': 9986, 'ㄱㅈㅇ': 9987, '감치': 9988, '농사': 9989, '농경': 9990, '엊': 9991, '손바닥': 9992, '프로필': 9993, '폐렴': 9994, '솔루선': 9995, '녹취': 9996, '헤드셋': 9997, '요조': 9998, '베이징': 9999, '꾀': 10000, '삿다': 10001, '맥쿼리인프라': 10002, '간선': 10003, '뱀띠': 10004, '뾰족': 10005, '항구': 10006, '엇갈리다': 10007, '블룸': 10008, '발발': 10009, '부글': 10010, '게재': 10011, '김병탁': 10012, '신문사': 10013, '모라': 10014, '호캉스': 10015, '그랬는데': 10016, '인수위': 10017, '풍산홀딩스': 10018, '협회장': 10019, '유인': 10020, '보오': 10021, '납부': 10022, '퓨': 10023, '컨트롤러': 10024, '프로바이오틱스': 10025, '표창': 10026, '잔고기': 10027, '시마': 10028, '서프': 10029, '축복': 10030, '홍준표': 10031, '장땡': 10032, '여겨지다': 10033, '타일러': 10034, '빠때리': 10035, '머함': 10036, 'ㅜㅜㅋ': 10037, '흉': 10038, '저승사자': 10039, '달아욤': 10040, '버셨나': 10041, '소수만': 10042, '한장': 10043, '체인점': 10044, '을기': 10045, '용서': 10046, '기레기': 10047, '동이': 10048, '그랜저': 10049, '사림': 10050, '잡아먹다': 10051, '음호': 10052, '걔': 10053, '이사고': 10054, '평행이론': 10055, '나리': 10056, '강등': 10057, '몆초': 10058, '조쿠': 10059, '시내버스': 10060, '어린이': 10061, '통학': 10062, '사용제한': 10063, '실감': 10064, '나위': 10065, '워딩': 10066, '업설': 10067, '광광': 10068, '습하다': 10069, '은정': 10070, '말끝': 10071, '돈너': 10072, '토끼': 10073, '훼': 10074, '광풍': 10075, '섭외': 10076, '트레일러': 10077, '개망': 10078, '허풍': 10079, '혼신': 10080, '잘뽑다': 10081, '지난날': 10082, '전적': 10083, '랄부': 10084, '땔': 10085, '고부': 10086, '입해': 10087, '양으로': 10088, '궈런': 10089, '호재글': 10090, '퐉': 10091, '눈썰매장': 10092, '조약': 10093, '열광': 10094, '사그라들다': 10095, '잡채': 10096, '왜내': 10097, '계약해지': 10098, '수식어': 10099, '매경': 10100, '손데': 10101, '별일': 10102, '정복': 10103, '낮췃': 10104, '네네': 10105, '물탸기': 10106, '직도': 10107, '케이엘': 10108, '관도': 10109, '특수강': 10110, '로안': 10111, '감선': 10112, '박용': 10113, '대업': 10114, '유지연': 10115, '줜': 10116, 'ㅠㅜㅜㅠ': 10117, '범석': 10118, '용산': 10119, '승승': 10120, '회식': 10121, '신입사원': 10122, '횡보한다': 10123, '불허': 10124, '다스': 10125, '세무사': 10126, '회계사': 10127, '가족사': 10128, '이상태': 10129, '라피': 10130, '게리온': 10131, '칠해': 10132, '넝': 10133, '묵힌다': 10134, '임제': 10135, '따숩': 10136, '기술적분석': 10137, '변환': 10138, '신종': 10139, '엔데믹': 10140, '넌도': 10141, '나비': 10142, '매트': 10143, '따틋해짐': 10144, '북유럽': 10145, '만윈': 10146, '가턴': 10147, '보물': 10148, '신급': 10149, '대우': 10150, '함볼': 10151, '인화': 10152, '스코': 10153, '참변': 10154, '믿어지다': 10155, '쿵쾅거리다': 10156, '씨디': 10157, '김성집': 10158, '얼액키': 10159, '음가': 10160, '월년봉': 10161, '우연히': 10162, '면소': 10163, '리게이': 10164, '멋': 10165, 'ㅠㅋㅋㅋ': 10166, 'ㅊㅋ': 10167, '대당': 10168, '소감': 10169, '소심하다': 10170, '브이아이': 10171, '죄란': 10172, '질풍': 10173, '노도': 10174, '닉쪽': 10175, '오우이': 10176, '디플레': 10177, '스테그휘둘려': 10178, '빵빵': 10179, '마새': 10180, '첨으로': 10181, '다깜': 10182, '교도관': 10183, '음모론자': 10184, '보따리': 10185, '틔우다': 10186, '어렵닼': 10187, '속슬': 10188, '해나': 10189, '루즈': 10190, '상적': 10191, '보각': 10192, '건데기': 10193, '꿋꿋하다': 10194, '관련성': 10195, '오개': 10196, '몆년': 10197, '팔았늬프': 10198, '등따숩': 10199, '토독토독': 10200, '우숩': 10201, '허수': 10202, '탈세': 10203, '버넌스': 10204, '통증': 10205, '금금': 10206, '궁딩이': 10207, '엄하': 10208, '준겨': 10209, '닦이다': 10210, '쫄아서내렷': 10211, '얼마만큼': 10212, '동도': 10213, '도지후': 10214, '권일': 10215, '계명': 10216, '에디': 10217, '헛되이': 10218, '외심': 10219, '거룩하다': 10220, '오늘날': 10221, '오용': 10222, '과소': 10223, '지탱': 10224, '풍요롭': 10225, '어웅': 10226, '약국': 10227, '으로부터도': 10228, '거산': 10229, '현성은': 10230, '콤플렉스': 10231, '쫄릴': 10232, '빵터지다': 10233, '친김': 10234, '겟습니': 10235, '페놀': 10236, '아세톤': 10237, '박창근': 10238, '관동대': 10239, '방글': 10240, '의향': 10241, '한돌': 10242, '접혔음': 10243, '빠따맥': 10244, '기이': 10245, '슬기롭다': 10246, '경구': 10247, '용제': 10248, '모여들다': 10249, '아례': 10250, '경험치': 10251, '라기보단': 10252, '람보': 10253, '실망하다': 10254, '진압': 10255, '팡팡': 10256, '히트': 10257, '벨트': 10258, '지요다': 10259, '펠로우': 10260, '기술표준': 10261, '방증': 10262, '웬수': 10263, '여깄는': 10264, '중대사': 10265, '일날': 10266, '뭐랬': 10267, '노초': 10268, '낼끼': 10269, '토붕이': 10270, '쾰컴': 10271, '앞세우다': 10272, 'ㅡㅡㅡㅡㅡㅡㅡㅡㅡㅡㅡㅡㅡㅡㅡㅡㅡ': 10273, '미샬': 10274, '세이프': 10275, '스카이라인': 10276, '뇸뇸': 10277, '희노애락': 10278, '문구로': 10279, '하이테크': 10280, '단연': 10281, '커넥션': 10282, '의거': 10283, '샤머니즘': 10284, '독식': 10285, '이길자': 10286, '겹겹이': 10287, '잠재우다': 10288, '에먼': 10289, '가령': 10290, '작아지다': 10291, '가랑비': 10292, '없다잉': 10293, '변덕': 10294, '궁둥짝': 10295, '방귀만': 10296, '뀌고반': 10297, '낼월욜': 10298, '초슬람': 10299, '미드': 10300, '릅': 10301, '옷넹': 10302, '에메랄드': 10303, '동그라미': 10304, '미디': 10305, '헐값': 10306, '로이': 10307, '누무': 10308, '찣': 10309, '샤': 10310, '이기술': 10311, '골든타임': 10312, '지도자': 10313, '한나라': 10314, '십상시': 10315, '탐관': 10316, '간신': 10317, '편진': 10318, '절약': 10319, '마켓팅': 10320, '선비': 10321, '적대시': 10322, '피로하다': 10323, '래일': 10324, 'ㅣㄴ': 10325, '폭마': 10326, '불사조': 10327, '통속': 10328, '휴무': 10329, '블어물량': 10330, '이랑은': 10331, '분류군': 10332, '이수화학': 10333, '야망': 10334, '따른': 10335, '차일': 10336, '자리아': 10337, '스뤠기들': 10338, '누마': 10339, '폭등윤': 10340, '커맨드정리': 10341, '조잡': 10342, '패드': 10343, '뺌가즈': 10344, '나엿다': 10345, '농후': 10346, '돈줄': 10347, '빈한': 10348, '우선하다': 10349, '맥주': 10350, '소박': 10351, '십오만': 10352, '띠용': 10353, '개척지': 10354, '매실': 10355, '뭐년': 10356, '쪼매씩': 10357, '이화': 10358, '정문': 10359, '소영': 10360, '콰당': 10361, '읍내': 10362, '불회': 10363, '아미장': 10364, '호금': 10365, '힝로': 10366, '찌릿하': 10367, '오십억이': 10368, '곰돌이': 10369, '케이크': 10370, '들갑': 10371, '자아도취': 10372, '다져지다': 10373, '걸왜': 10374, '으휴펩쪽': 10375, '줭': 10376, '음울하다': 10377, '소울': 10378, '웹사이트': 10379, '숨소리': 10380, '생김새': 10381, '주름': 10382, '울음소리': 10383, '초여름': 10384, '출몰': 10385, '목격': 10386, '온순하다': 10387, '삼청교육대': 10388, '스윗': 10389, '마리네': 10390, '국자': 10391, '스템': 10392, '법석이다': 10393, '푸푸': 10394, '도둑': 10395, '떡수': 10396, '난간': 10397, '물귀신': 10398, '액화천연가스': 10399, '페이스북': 10400, '공소장': 10401, '김대식': 10402, '박상수': 10403, '각계': 10404, '빅다이': 10405, '발걸음': 10406, '엘또속': 10407, '살아생전': 10408, '등제': 10409, '만천백원': 10410, '광야': 10411, '쪽빡': 10412, '아사': 10413, '리판': 10414, '물품': 10415, '헷징': 10416, '거미줄': 10417, '개운하다': 10418, '냉혹하다': 10419, '남탓좀': 10420, '것송하준': 10421, '당년': 10422, '쩌리': 10423, '아메리칸': 10424, '부족함': 10425, '밤사이': 10426, '힙니': 10427, '찡그리다': 10428, '안정감': 10429, '사랑받다': 10430, '맴돌다': 10431, '턴거': 10432, '진흙탕': 10433, '존버하싶쇼': 10434, '빤짝': 10435, '겄다버리': 10436, '독불장군': 10437, 'ㅋㅋㅋㅋㅋㅋㅋㅋㅋㅋㅋㅋㅋㅋㅋㅋㅋㅋㅋㅋㅋㅋㅋㅋㅋㅋㅋㅋㅋㅋㅋㅋㅋㅋㅋㅋ': 10438, '랜덤': 10439, '얍': 10440, '디스패치': 10441, '설선물': 10442, '찜콩': 10443, '크레파스': 10444, '박상준': 10445, '놓이다': 10446, '털끝': 10447, '만큼도': 10448, '이희근': 10449, '짐쨔': 10450, '대장동': 10451, '나락장': 10452, '따돌림': 10453, '에투': 10454, '터보': 10455, '무색': 10456, '철광석': 10457, '강관': 10458, '드간당': 10459, '우힛': 10460, 'ㄴㄴㄴㄴㄴ': 10461, '답임': 10462, '계위': 10463, '입하': 10464, '제깟': 10465, '줘보슈': 10466, '꽃밭': 10467, '못지않다': 10468, '도기': 10469, '녹화': 10470, '식생활': 10471, '금욜날': 10472, '이기전': 10473, '홀딩매수': 10474, '개스엠': 10475, '그리네': 10476, '상륙': 10477, '후송': 10478, '타국': 10479, '연루': 10480, '서식': 10481, '말일': 10482, '주식매수선택권': 10483, '단축': 10484, '은반': 10485, '아침밥': 10486, '그럭저럭': 10487, '혈연': 10488, '악습': 10489, '역원': 10490, '희귀질환': 10491, '조온나': 10492, '스래기같': 10493, '핰': 10494, '닼': 10495, '원투': 10496, '에든': 10497, '삼봉': 10498, '웰빙': 10499, '시아': 10500, '입점해': 10501, '삼부': 10502, '제약회사': 10503, '단군': 10504, '노보': 10505, '서방': 10506, '우월': 10507, '초음파': 10508, '분무': 10509, '루피': 10510, '유추': 10511, '심혈관계': 10512, '만능': 10513, '송파': 10514, '델파졸리드': 10515, '무작위': 10516, '평행': 10517, '위약': 10518, '대조군': 10519, '부풀리기': 10520, '수위': 10521, '이제껏': 10522, '스쳐보다': 10523, '하루살이': 10524, '은지': 10525, '뇌절': 10526, '선시': 10527, '호섹말': 10528, '절절': 10529, '줄평': 10530, '마틴': 10531, '가난': 10532, '너랑엮': 10533, '정아': 10534, '손절주': 10535, '너덜너덜': 10536, '근방': 10537, '괜찬': 10538, '형사': 10539, '뚜렁': 10540, '목금': 10541, '홀더': 10542, '서른': 10543, '최측근': 10544, '변호사': 10545, '맥점': 10546, '폴드': 10547, '형식': 10548, '슈도': 10549, '순전': 10550, '봄퀀연': 10551, '혜자': 10552, '태평양': 10553, '지적재산': 10554, '천백': 10555, '페이지': 10556, '생소하다': 10557, '전문용어': 10558, '전술': 10559, '스크립트': 10560, '블랙먼데이': 10561, '권트': 10562, '레이더': 10563, '꾝': 10564, '로작': 10565, '취재': 10566, '원산지': 10567, '조지아': 10568, '일각': 10569, '식욕': 10570, '전립선암': 10571, '엠텍': 10572, '오자': 10573, '딴딴하다': 10574, '신데렐라': 10575, '배찌': 10576, '사칭': 10577, '미니': 10578, '일부인': 10579, '뉴꽝': 10580, '전무하다': 10581, '식비': 10582, '것도': 10583, '파나마': 10584, '다르죵': 10585, '빙과': 10586, '문과': 10587, '더쌤': 10588, '페이크': 10589, '매혈': 10590, '압주': 10591, '황금알': 10592, '거위': 10593, '유단': 10594, '유우': 10595, '용인시': 10596, '처인구': 10597, '원삼면': 10598, '꽉찻': 10599, '약과': 10600, '온전': 10601, '업황를': 10602, '충고': 10603, '찍어내다': 10604, '장담': 10605, '동학': 10606, '개밥': 10607, '방심하다': 10608, '얼척': 10609, '섞이다': 10610, '머시': 10611, '폭사': 10612, '꼬접임미': 10613, '스샤앗': 10614, '랄줄': 10615, '헨델': 10616, '그랫델': 10617, '로브식스': 10618, '멜론': 10619, '아이콘': 10620, '활약': 10621, '고행': 10622, '북도': 10623, '왓는데': 10624, '깨우치다': 10625, '앓이': 10626, '개개': 10627, '개개다': 10628, '하치': 10629, '땡땡': 10630, '원데이': 10631, '투데이': 10632, '무념무상': 10633, '스릴': 10634, '워렛': 10635, '건국': 10636, '빠져들다': 10637, '난국': 10638, '양주': 10639, '웬': 10640, '요단강': 10641, '득실': 10642, '득실하다': 10643, '매미': 10644, '조종석': 10645, '탑승객': 10646, '벌받을껀받': 10647, '군입대': 10648, '홉': 10649, '신곡': 10650, '완전체': 10651, '시반': 10652, '은비': 10653, '반말': 10654, '닭': 10655, '개똥글좀': 10656, '렁': 10657, '뱅이': 10658, '컴팩트': 10659, '용이하다': 10660, '실버': 10661, '쩝쩝': 10662, '심난하다': 10663, '개봉일': 10664, '얌마': 10665, '허리': 10666, '왜케들': 10667, '어중간하다': 10668, '백마': 10669, '머뭇머뭇': 10670, '만점': 10671, '진차': 10672, '탭댄스': 10673, '월지': 10674, '물량입니': 10675, '겁낼': 10676, '광경': 10677, '것이므': 10678, '정차': 10679, '수하': 10680, '확연': 10681, '줏어': 10682, '순리': 10683, '재적': 10684, '되는즉슨': 10685, '전치': 10686, '스코어': 10687, '싱당히': 10688, '올리브영': 10689, '스드민': 10690, '팽': 10691, '개새': 10692, '삼베': 10693, '열띤': 10694, '일본인': 10695, '네이버뉴스': 10696, '구글검색': 10697, '좀전': 10698, '위메': 10699, '크롬': 10700, '시크릿': 10701, '노트북': 10702, '락업': 10703, '김형태': 10704, '당부': 10705, '줘랏': 10706, '놨으': 10707, '집어넣다': 10708, '외양': 10709, '얍삽': 10710, '포양': 10711, '티켓': 10712, '종보': 10713, '쏠땐': 10714, '롸끈이잖': 10715, '밖앤': 10716, '황쌤': 10717, '럼프햄': 10718, '낼껍': 10719, '너므': 10720, '넌덜': 10721, '이거쫌': 10722, '정보기관': 10723, '방첩': 10724, '군축': 10725, '현안': 10726, '다량': 10727, '안과': 10728, '각장': 10729, '루센': 10730, '티스': 10731, '내약': 10732, '원성': 10733, '을미': 10734, '브라질': 10735, '아르헨티나': 10736, '칠레': 10737, '파라과이': 10738, '콜롬비아': 10739, '상회사': 10740, '왱알': 10741, '은젠': 10742, '잘빠지다': 10743, '예나': 10744, '돌부리': 10745, '탓내': 10746, '이하고': 10747, 'ㅇㅓ': 10748, '몬할낀데': 10749, '리모': 10750, '기관사': 10751, '코딱지': 10752, '도하': 10753, 'ㅇㄹㅈ': 10754, '비참하다': 10755, '때그': 10756, '올핸': 10757, '놀림': 10758, '존버끝': 10759, '낼때': 10760, '아버님': 10761, '로드맵': 10762, '쉴드': 10763, '비함': 10764, '덴젤트': 10765, '맥락막': 10766, '먆은돈': 10767, '빌라': 10768, '해마': 10769, '패쓰': 10770, '들뜨다': 10771, '월남': 10772, 'ㅇㅅㄹ': 10773, '사대': 10774, '강화복': 10775, '착용': 10776, '경보병': 10777, '동영상': 10778, '묘사': 10779, '허약하다': 10780, '밀집': 10781, '원거리': 10782, '프로토스': 10783, '광전사': 10784, '용기병': 10785, '저그': 10786, '히드라': 10787, '저글링': 10788, '선무': 10789, '저지': 10790, '범국민적': 10791, '김종인': 10792, '후보자': 10793, '치고받다': 10794, '주지맙시': 10795, '이명박정부': 10796, '이착륙': 10797, '전라남도의회': 10798, '어렷을적': 10799, '퓨처넷': 10800, '넷': 10801, '홀딩는': 10802, '존버존버': 10803, '주보': 10804, '서여': 10805, '승리자': 10806, '좌송': 10807, '맛보기': 10808, '꼽노': 10809, '사흘': 10810, '돌발': 10811, '애프터': 10812, '초당': 10813, '요구사항': 10814, '내의': 10815, '지하차도': 10816, '해병대': 10817, '수색': 10818, '강남역': 10819, '무관심하다': 10820, '해쉬태그': 10821, '구려': 10822, '늘렷습': 10823, '와동': 10824, '빠르기': 10825, '퉁': 10826, '쫄깃': 10827, '해지니': 10828, '한우': 10829, '란다': 10830, '잡담': 10831, '복코': 10832, '삼원': 10833, '들고나다': 10834, '보쟈': 10835, '갈껀데': 10836, '원츄': 10837, '햇습니': 10838, '때로는': 10839, '더크': 10840, '그라프': 10841, '파트나': 10842, '누지': 10843, '히히히': 10844, '조인': 10845, '피즈': 10846, '치바': 10847, '라자로': 10848, '에페': 10849, '승화': 10850, '무한정': 10851, '못뚷': 10852, '시호': 10853, '택한걸': 10854, '구기다': 10855, '리순': 10856, '엽': 10857, '애통하다': 10858, '사빅': 10859, '메탈': 10860, '촉매': 10861, '엑손모빌': 10862, '코닥': 10863, '존버할거임': 10864, '망은': 10865, '눈높이': 10866, '토니모리': 10867, '기절': 10868, '결점': 10869, '염장': 10870, '게타': 10871, '삼백만원': 10872, '튜버': 10873, '오슈': 10874, '중신': 10875, '쓸모': 10876, '계쏙': 10877, '찿아야지': 10878, '현시': 10879, '궁굼합니': 10880, '치조': 10881, '쌈쪽': 10882, '맷집': 10883, '부들': 10884, '해직': 10885, '묵인': 10886, '팔사팔': 10887, '가위바위보': 10888, '마스터': 10889, '빗': 10890, '정익': 10891, '제작사': 10892, '헬리콥터': 10893, '조현준': 10894, '테드': 10895, '테네시주': 10896, '멤피스': 10897, '스판덱스': 10898, '페트병': 10899, '폴리에스터': 10900, '원사': 10901, '학수고대': 10902, '달주': 10903, '반경': 10904, '사람과': 10905, '메로나': 10906, '함몰': 10907, '천오백': 10908, '곰': 10909, '배치기': 10910, '븜': 10911, '이룋': 10912, '잔치국수': 10913, '지석': 10914, '충실': 10915, '대리인': 10916, '미비': 10917, '지워지다': 10918, '분즘': 10919, '역설': 10920, '때팔': 10921, '엠포홀손': 10922, '사이비종교': 10923, '현란하다': 10924, '주술': 10925, '수저': 10926, '장고': 10927, '창병': 10928, '임현': 10929, '심산': 10930, '도자기': 10931, '어쩐': 10932, '정반대': 10933, '태엽': 10934, '테엽': 10935, '데이타': 10936, '전동기': 10937, '한미관계': 10938, '힙': 10939, '다세': 10940, '쇳': 10941, '타용': 10942, '신라면': 10943, '툼바': 10944, '조류충돌': 10945, '끄으읕': 10946, '만오천원': 10947, '늄': 10948, '헥슬게임': 10949, '롱런': 10950, '뮤지': 10951, '펩쪽이': 10952, '산위': 10953, '네트웍': 10954, '하산': 10955, '가봉': 10956, '장량': 10957, '표상': 10958, '판돈': 10959, '대여': 10960, '다단': 10961, '술상': 10962, '묵음': 10963, '무형': 10964, '상각': 10965, '파스': 10966, '흐미': 10967, '땔려': 10968, '호재속': 10969, '새뱃돈': 10970, '루타': 10971, '장부': 10972, '부정행위': 10973, '연대': 10974, '고아라': 10975, '음봉처': 10976, '나락길': 10977, '셋업': 10978, '헤체쪽': 10979, '떨어트린': 10980, '난걸': 10981, '랏다': 10982, '알았드': 10983, '인의': 10984, '악용': 10985, '살인': 10986, '철밥통': 10987, '흙더미': 10988, '쇠봉': 10989, '산산조각': 10990, '걸끝': 10991, '유리창': 10992, '이첩': 10993, '씹덕': 10994, '포화': 10995, '던파': 10996, '돈독': 10997, '듯또': 10998, '이그': 10999, '김일성': 11000, '주석': 11001, '떠지다': 11002, '알즤': 11003, '수선': 11004, '신창섭': 11005, '학년': 11006, '간간': 11007, '가담': 11008, '닉말': 11009, '아국': 11010, '도벌': 11011, '수당': 11012, '공법': 11013, '적립금': 11014, '어째서': 11015, '기센': 11016, '오천이': 11017, '시급': 11018, '코걸이': 11019, '귀걸이': 11020, '빗썸': 11021, '헤데라': 11022, '오피': 11023, '셜': 11024, '악착같이': 11025, '호버': 11026, '숫점': 11027, '넋두리': 11028, '외과': 11029, '진과': 11030, '특혀좀': 11031, '내드': 11032, '만월': 11033, '말경': 11034, '스텝업': 11035, '꺼벙이쉐끼': 11036, '거짓말쟁이': 11037, '강원도': 11038, '묻히다': 11039, '성안': 11040, '워랜버핏': 11041, '밀치다': 11042, '대사관': 11043, '무궁무진': 11044, '데코': 11045, '급선무': 11046, '다말': 11047, '뜨넼': 11048, 'ㅌㅋㅋㅋ': 11049, '물량좀': 11050, 'ㅌㅌ': 11051, '박막': 11052, '야권': 11053, '서울시장': 11054, '대권': 11055, '가겄다': 11056, '빨렸': 11057, '혼백': 11058, '비밀리': 11059, '만무': 11060, '멸종': 11061, '쯧': 11062, '고현재': 11063, '선옵': 11064, '물탈게루닛': 11065, '라이언': 11066, '엘리펀트': 11067, '옹키': 11068, '한울': 11069, '주성': 11070, '동료': 11071, '다팔껄': 11072, '등차': 11073, '일언': 11074, '불문': 11075, '손절칠껄겁': 11076, '뜷': 11077, '있나욤': 11078, '카오스': 11079, '두리': 11080, '스트로': 11081, '숙박업': 11082, '롱스톤': 11083, '불좀': 11084, '봤으묜': 11085, '조정구': 11086, '엏으': 11087, '제때': 11088, '줫다': 11089, '독촉': 11090, '종잇조각': 11091, '주고받다': 11092, '주소지': 11093, '제해': 11094, '삿음된다': 11095, '풍경': 11096, '인쟈': 11097, '업빝빗썸': 11098, '실실': 11099, '쉬고잏다': 11100, '드릉거리길': 11101, '규주': 11102, '무마': 11103, '탁상': 11104, '배수': 11105, '사래': 11106, '가년': 11107, '건덕': 11108, '날익': 11109, '미꾸라지': 11110, '똔똔일때': 11111, '거인': 11112, '팔앗슴다': 11113, '카리나': 11114, '플래쉬': 11115, '언켐가즈': 11116, '눈독': 11117, '메가트렌드': 11118, '내향성': 11119, '개인주의': 11120, '용한': 11121, '뿐그': 11122, '구니': 11123, '왜쭉쭉': 11124, '먄': 11125, '안산대': 11126, '성덕': 11127, '달새': 11128, '만세': 11129, '통큰': 11130, '끝왜': 11131, '임삼': 11132, '추격자': 11133, '치빠': 11134, '메가와트': 11135, '그리드': 11136, '무정': 11137, '전전': 11138, '믹': 11139, '거릴시간': 11140, '고여': 11141, '버는돈': 11142, '좀처럼': 11143, '연비': 11144, '떨구넴': 11145, '뮨': 11146, 'ㅜㅋㅋ': 11147, '걸너': 11148, '재밋겠다': 11149, '쩨발': 11150, '사조': 11151, '고저': 11152, '갈아엎다': 11153, '무능력': 11154, '검': 11155, 'ㅋㅋㅋㅋㅋㅋㅋㅋㅋㅋㅋㅋㅋㅋㅋㅋㅋㅋㅋ': 11156, '관여': 11157, '방탄소년단': 11158, '복무': 11159, '불치': 11160, '아브라카타브라': 11161, '압략': 11162, '겨눠': 11163, '이듭': 11164, '되세욧퍼': 11165, '감지덕지': 11166, '낚시질': 11167, '비비고': 11168, '판매물량': 11169, '범수': 11170, '버섯': 11171, '랭커': 11172, '부자연스럽다': 11173, '힘겨루기': 11174, '상장법인': 11175, '권익': 11176, '강릉공항': 11177, '환전소': 11178, '공항리무진': 11179, '셔틀': 11180, '랜딩후': 11181, '협소': 11182, '검역': 11183, '상시': 11184, '존치': 11185, '편도': 11186, '광주시': 11187, '리무진': 11188, '이용도': 11189, '씨익': 11190, '할증': 11191, '터잣': 11192, '나왓네': 11193, '재좀': 11194, '식상하다': 11195, '한랭전선': 11196, '드갔다': 11197, '준지': 11198, '링무증': 11199, '품절남': 11200, '털렷': 11201, 'ㄱㅔ': 11202, '이습': 11203, '닠': 11204, '원보': 11205, '드라마틱': 11206, '뒬락날락': 11207, '개잡코': 11208, '주사파': 11209, '곳간': 11210, '칠만원': 11211, '년놈': 11212, '잡아들이다': 11213, '무척': 11214, '증산': 11215, '앜': 11216, '항공권': 11217, '섭씨': 11218, '만웡': 11219, '올라뿌노': 11220, '뿌노': 11221, '가연': 11222, '지씨': 11223, '거북하다': 11224, '탈피': 11225, '닉넴': 11226, '재명쿤': 11227, '개월안': 11228, '훈쿤': 11229, '반격': 11230, '명세': 11231, '바구니': 11232, '달걀': 11233, '망쬬': 11234, '고공': 11235, '리폿': 11236, '개월더': 11237, '귓방망': 11238, '영남': 11239, '기득권': 11240, '탄압': 11241, '운동권': 11242, '균형발전': 11243, '미명': 11244, '성역': 11245, '쓴소리': 11246, '일배': 11247, '약자': 11248, '베몬': 11249, '올랏으': 11250, '잠도': 11251, '지언': 11252, '돈셈': 11253, '특출나다': 11254, '저온': 11255, '접착제': 11256, '적재': 11257, '고객감동': 11258, '독려': 11259, '합치': 11260, '자두': 11261, '자판': 11262, '플러그인': 11263, '트레인': 11264, '드가기': 11265, '버십쇼': 11266, '급변': 11267, '젠알앤엠월일': 11268, '서보모터': 11269, '중전': 11270, '서클': 11271, '앨범차트': 11272, '켄드릭': 11273, '수선하다': 11274, '송인': 11275, '미사': 11276, '쯔위': 11277, '오리콘': 11278, '쿠거': 11279, '버터': 11280, '뽀록': 11281, '이아': 11282, '모자이크': 11283, '돈범': 11284, '멸망': 11285, '빠샤': 11286, '비걸': 11287, '완장': 11288, '파선': 11289, '가자미': 11290, '드루': 11291, '버실려': 11292, '깉': 11293, '덩시': 11294, '뽀록나다': 11295, '쪽임': 11296, '만지작': 11297, '쉬것쥬': 11298, '둘껄': 11299, '메모장': 11300, '공공안전': 11301, '더후': 11302, '리브랜딩': 11303, '패스트': 11304, '잘핬따': 11305, '왓다': 11306, '총계': 11307, '비연': 11308, '너덜너덜하다': 11309, '솜': 11310, '참말': 11311, '다대기': 11312, '초콜렛': 11313, '들썩': 11314, '순서대로': 11315, '딜레마': 11316, '면배': 11317, '전채': 11318, '뜻함': 11319, '필패': 11320, '뚫어지다': 11321, '외국산': 11322, '학': 11323, '기어오르다': 11324, '시뮬레이션': 11325, '시행착오': 11326, '존버손절': 11327, '마렵다': 11328, '붕괴하다': 11329, 'ㅠㅜㅠㅜㅜㅜㅜ': 11330, '서지수': 11331, '룸': 11332, '애잔하다': 11333, '버렷넹': 11334, '왜인': 11335, '과보': 11336, '티보': 11337, '간지나다': 11338, '청사진': 11339, '속삭임': 11340, '스피': 11341, 'ㅠㅠㅠㅠㅜㅜㅠ': 11342, 'ㅋㅋㄴ': 11343, '협작': 11344, '찰지다': 11345, '급행열차': 11346, '뭐꼬': 11347, '게얼': 11348, 'ㅈㅍ': 11349, 'ㅅㅁㅎ': 11350, 'ㅇㅌㅇ': 11351, '후판': 11352, '어닝시즌': 11353, '한프로': 11354, '글로벌화': 11355, '두르다': 11356, '국격': 11357, '개추좀': 11358, '상폐각': 11359, '듯살': 11360, '승훈': 11361, '방장': 11362, '강퇴': 11363, '이진': 11364, '카나': 11365, '법석': 11366, '판도': 11367, '주권': 11368, '곡선': 11369, '그만두다': 11370, '러키': 11371, '비키': 11372, '고뭐': 11373, '쑥': 11374, '날쑥': 11375, '붕': 11376, '난이': 11377, '가급적': 11378, '쪼록': 11379, '귀염이': 11380, '백인': 11381, '떄문': 11382, '국한': 11383, '먀': 11384, '렷넹': 11385, '어쩌란말': 11386, '빈틈': 11387, '그르케': 11388, '치하': 11389, '방구': 11390, '펀디': 11391, '현행': 11392, '변기': 11393, '통닭': 11394, '라기': 11395, '꼬북': 11396, '쩌구': 11397, '이양': 11398, '꼭앤': 11399, '기가맠힌': 11400, '무주': 11401, '공산': 11402, '바이두': 11403, '개쯘': 11404, '전립선비대증': 11405, '젬백스방문': 11406, '현수막': 11407, '망연자실': 11408, '불상': 11409, '기물': 11410, '윤똥열이': 11411, '칼라일': 11412, '쓸쓸': 11413, '왓더': 11414, '네오위즈': 11415, '진흙': 11416, '못셔': 11417, 'ㅡㅋ': 11418, '일상생활': 11419, '미니카': 11420, '킁킁': 11421, '누대': 11422, '장팔': 11423, '참치': 11424, '즉석밥': 11425, '할랄': 11426, '비건': 11427, '글루텐': 11428, '정이오': 11429, '감염병': 11430, '찮다': 11431, '보채다': 11432, '놀러왓습니': 11433, '버고': 11434, '절재': 11435, '얼씬': 11436, '시대정신': 11437, '취했다': 11438, '둘쨋': 11439, '성주': 11440, '륵화륵': 11441, '말껄': 11442, '대계': 11443, '산후조리원': 11444, '쭈욱쭈욱': 11445, '말림': 11446, '또열': 11447, '시약': 11448, '처갓집': 11449, 'ㅌㅋ': 11450, '템보': 11451, '육만': 11452, '각기': 11453, '왕인': 11454, '삿으': 11455, '직작': 11456, '냉주': 11457, '섬뜩하다': 11458, '도담': 11459, '액등': 11460, '풍악': 11461, '긌': 11462, '매물도': 11463, '하우스': 11464, '타짜': 11465, '뿌리치다': 11466, '전선주': 11467, '가왜': 11468, '재상': 11469, '어쩜': 11470, '월봉선': 11471, '억측': 11472, '갑드': 11473, '얠': 11474, '해투': 11475, '느거': 11476, '통일한국': 11477, '나나라': 11478, '준표': 11479, 'ㅋㅁ': 11480, '이마이': 11481, '있긔없긔': 11482, '파랭이': 11483, '개손절': 11484, '명불허전': 11485, '아흐': 11486, '인간성': 11487, '구미': 11488, '열시': 11489, '깜놀': 11490, '컬처': 11491, '제과': 11492, '타임스스퀘어': 11493, '조아': 11494, '장덕': 11495, '이처럼': 11496, '메이커': 11497, '랙형': 11498, '이엠': 11499, '경량': 11500, '프로세싱': 11501, '바이오매스': 11502, '포집': 11503, '장성': 11504, '안드로메다': 11505, '용년': 11506, '못하넹': 11507, '귀차니즘': 11508, '돔황칠껄': 11509, '선민의식': 11510, '계몽': 11511, '생업': 11512, '내렦다': 11513, '하묜': 11514, '프라임': 11515, '치노': 11516, '반한': 11517, '간질': 11518, '공성': 11519, '한당': 11520, '직빵': 11521, '일똥': 11522, '휘발': 11523, '윤개': 11524, 'ㅅㅏㄴ': 11525, '놀다왔드': 11526, '분거': 11527, '빵빠레': 11528, '군악대': 11529, '구역질': 11530, '왜비': 11531, '일맥상통': 11532, '자본이동': 11533, '흡사': 11534, '여실히': 11535, '영웅문': 11536, '쉑는': 11537, '정신승리': 11538, '뭉실': 11539, '방점': 11540, '건전성': 11541, '엄중하다': 11542, '투성이': 11543, '이창용': 11544, '아태': 11545, '능통하다': 11546, '콘투': 11547, '환멸': 11548, '처임': 11549, '탁월하다': 11550, '나무라다': 11551, '소파': 11552, '대파': 11553, '제갈': 11554, '월욜시작': 11555, '횐': 11556, '차오르다': 11557, '명퇴': 11558, '떡하니': 11559, '덜하다': 11560, '부처님': 11561, '말슴': 11562, '정체캐즘': 11563, '막스': 11564, '쫄지마': 11565, '나락갈꺼': 11566, '개업': 11567, '빠이빠': 11568, '튀기다': 11569, '퍼기': 11570, '펀더먼털': 11571, '교집합': 11572, '언론보도': 11573, '이글스': 11574, '나가이': 11575, '보험료': 11576, '껌값': 11577, '담백하다': 11578, '한조': 11579, '가속도': 11580, '정찰기': 11581, '질후': 11582, '기전력': 11583, '나전': 11584, '다독이다': 11585, '누누': 11586, '쪼그라들다': 11587, '다스리다': 11588, '안개': 11589, '알찌': 11590, '탑픽': 11591, '환경보전': 11592, '조업': 11593, '환경오염': 11594, '초심자': 11595, '어캐': 11596, '카악': 11597, '스키즈': 11598, '물량임': 11599, '갓럼프': 11600, '죙': 11601, '분식집': 11602, '튀김': 11603, '이십만': 11604, '대피': 11605, '원체': 11606, '짓덕': 11607, '주방': 11608, '드가셨': 11609, '윽박': 11610, '닐': 11611, '필살기': 11612, '외전': 11613, 'ㄷㅋ': 11614, '묵힐': 11615, '동질감': 11616, '혼나다': 11617, '줄다리기': 11618, '염전': 11619, '성아': 11620, '체포영장': 11621, '두통': 11622, '멀티태스킹': 11623, '화소': 11624, '어시스턴트': 11625, '단장': 11626, '질주': 11627, '삼천': 11628, '루티드': 11629, '세탁': 11630, '리비도': 11631, '랜다': 11632, '출격': 11633, '뉴진': 11634, '스프': 11635, '릿': 11636, '세라핌': 11637, '퍼오르': 11638, '정일': 11639, '죨려': 11640, '허시': 11641, '쩜하': 11642, '군내': 11643, '퍼손절갈기': 11644, '화웨이': 11645, '포비': 11646, '수혜자': 11647, '금융정책': 11648, '인플레이션율': 11649, '시네마': 11650, '지지난': 11651, '발버둥치다': 11652, '제소': 11653, '적층해': 11654, '위추': 11655, '싱가포르': 11656, '외관': 11657, '기계로': 11658, '전직': 11659, '흔드': 11660, '떻': 11661, '안내면': 11662, '제군': 11663, '도상': 11664, '위국': 11665, '수자': 11666, '세법': 11667, '법률': 11668, '매기': 11669, '홧팅합시': 11670, '워렌': 11671, '열심': 11672, '때일': 11673, '요실금': 11674, 'ㅜㅠㅜㅜ': 11675, '끝낫': 11676, '죠스': 11677, '한양': 11678, '할까말까': 11679, '참을성': 11680, '프로버': 11681, '쑤욱': 11682, '몾미쳐': 11683, '힘든님': 11684, '다처': 11685, '뚷는다': 11686, '왜이랭': 11687, '어렇': 11688, '달구다': 11689, '횟팅': 11690, '레간자': 11691, '것년': 11692, '익숙해지다': 11693, '프래': 11694, '옆구리': 11695, '서로서로': 11696, '갈': 11697, '붕붕': 11698, '봉기': 11699, '남극': 11700, '셰프': 11701, '쥐약': 11702, '루미': 11703, '실리케이트': 11704, '기능기': 11705, '현저': 11706, '야외': 11707, '만족도': 11708, '고화질': 11709, '선명하다': 11710, '땅콩': 11711, '였음': 11712, '여동생': 11713, '중그': 11714, '음료수': 11715, '테네시': 11716, '량좀': 11717, '어헤야디': 11718, '지불': 11719, '호시노': 11720, '모듀': 11721, '애석하다': 11722, '낙지': 11723, '선심': 11724, '카르텔': 11725, '유착': 11726, '관계도': 11727, '여수': 11728, '집앞': 11729, '돌이': 11730, '쫒다': 11731, '주역': 11732, '허허벌판': 11733, '공주시': 11734, '문제안': 11735, '지밀': 11736, '힌': 11737, '위험성': 11738, '엮지마': 11739, '내재가치': 11740, '미지': 11741, '어딘지몰': 11742, '가묘': 11743, '나유': 11744, '적정하다': 11745, '나락일듯': 11746, '칠십': 11747, '자탈': 11748, '또확': 11749, '키스트': 11750, '데이즈': 11751, '헛깨': 11752, '톱': 11753, '돋보이다': 11754, '신봉': 11755, '비법': 11756, '굿밤': 11757, '하늘뜷': 11758, '모친': 11759, '워프': 11760, '뉘앙스': 11761, '존버할생각': 11762, '응징': 11763, '섭폭': 11764, '차헬': 11765, '주을껄': 11766, '오디션': 11767, '한국말': 11768, '독학': 11769, '살껀데': 11770, '계발': 11771, '삐끗': 11772, '재니': 11773, '진땀': 11774, '쏠다': 11775, '면도기': 11776, '강인하다': 11777, '면모': 11778, '단호': 11779, '심경': 11780, '이방원': 11781, '눈빛': 11782, '회암사': 11783, '판수': 11784, '말미': 11785, '이성계': 11786, '주영': 11787, '연기력': 11788, '강약': 11789, '긴장감': 11790, '시청자': 11791, '섬세하다': 11792, '몰입도': 11793, '친전': 11794, '미대': 11795, '대관': 11796, '거왜': 11797, 'ㅋㅎ': 11798, '팰일': 11799, '차업황': 11800, '뉴르': 11801, '듯검머': 11802, '검머': 11803, '외지': 11804, '소일': 11805, '진행형': 11806, '류업': 11807, '허울': 11808, '경사': 11809, '너무쌔': 11810, '여하나': 11811, '다이렉트': 11812, '해외진출': 11813, '반대말': 11814, '거슬리다': 11815, '우둔하다': 11816, '천년': 11817, '침대': 11818, '후난': 11819, '삼성로': 11820, '김선웅': 11821, '그이': 11822, '답나오쥬': 11823, '퍼갭': 11824, '강은지': 11825, '지라': 11826, '절케': 11827, '판겨익': 11828, '재떨이': 11829, '벅벅': 11830, '온몸': 11831, '킨다': 11832, '자존감': 11833, '분주': 11834, '정서': 11835, '제호': 11836, '명문': 11837, '건액트': 11838, '개똥주': 11839, '말덩': 11840, '지만지': 11841, '블랙박스': 11842, '취부': 11843, '알수없음': 11844, '굥님': 11845, '엔무브': 11846, '전시관': 11847, '산석': 11848, 'ㅉㅉㅉ': 11849, '체성': 11850, '코리안리': 11851, '바부': 11852, '무모하다': 11853, '매집량': 11854, '출연료': 11855, '아지': 11856, '상장도': 11857, '댕겨': 11858, '겔국': 11859, '대미지': 11860, '항문': 11861, '휴전': 11862, '주안': 11863, '팔긴할껀데': 11864, '컬래버레이션': 11865, '굿즈': 11866, '재심사': 11867, '에버': 11868, '형기': 11869, '글피': 11870, '구렁이': 11871, '쌈빡하다': 11872, 'ㄷㅔ': 11873, '눌렸던': 11874, '민감': 11875, '스탠리': 11876, '배추': 11877, '려리': 11878, '다달이': 11879, '똥망': 11880, '던붕': 11881, '덤벼': 11882, '웅장': 11883, '에이프릴': 11884, '요게': 11885, '바켐': 11886, '부락': 11887, '늪지': 11888, '청문회': 11889, '딴지': 11890, '미치나': 11891, '지물': 11892, '덩치': 11893, '챠': 11894, '트윈': 11895, '수공': 11896, '후횡보': 11897, '단석산': 11898, '중유': 11899, '킵고잉': 11900, '뻘짓이젠': 11901, '사모아': 11902, '풀코': 11903, '달림': 11904, '변비': 11905, '말랑하다': 11906, '하렵니': 11907, '검시': 11908, '다빨렸': 11909, '표함': 11910, '은결': 11911, '알콜중독': 11912, '듸': 11913, '갈비': 11914, '전복장': 11915, '찌개': 11916, '청국장': 11917, '결실': 11918, '앞서서': 11919, '수비': 11920, '오래되다': 11921, '탄력성': 11922, '돌변': 11923, '오늘밤': 11924, 'ㅋㄱ': 11925, '변색': 11926, '문씨': 11927, '몃달': 11928, '동안거': 11929, '아리송': 11930, '갈분': 11931, '퍼란불': 11932, '졸이다': 11933, '서온': 11934, '침착하다': 11935, '뚤렸으': 11936, '하부': 11937, '경위': 11938, '국운': 11939, '속절없다': 11940, '호갱': 11941, '조약돌': 11942, '궁딩': 11943, '꼬박': 11944, '구매력': 11945, '플로리다': 11946, '가교': 11947, '듯슈카형': 11948, '와이지': 11949, '뛰어오르다': 11950, '범띠': 11951, '돈복': 11952, '띠이다': 11953, '규돈': 11954, '자연어': 11955, '샤오미': 11956, 'ㄹㅇㄴ': 11957, '멋대로': 11958, '패무빙': 11959, '열애설': 11960, '타운': 11961, '투족': 11962, '쨩': 11963, '씽': 11964, '하다못해': 11965, '짝산': 11966, '동화': 11967, '십삼만오천이백원': 11968, '가끄얌': 11969, '영아': 11970, '트럼뿌': 11971, '우럭': 11972, '구진스': 11973, '절개': 11974, '문도': 11975, '차후': 11976, '빠뜨리다': 11977, '짜샤': 11978, '음하하': 11979, '밥켓': 11980, '백지': 11981, '끼들': 11982, '늬들': 11983, '용역': 11984, '증기': 11985, '냉각재': 11986, '원자': 11987, '알쥬원': 11988, '거버넌': 11989, '스캇': 11990, '패기': 11991, '기요': 11992, '조선인': 11993, '이십여': 11994, '민노총': 11995, '분별': 11996, '꼭두각시': 11997, '남침': 11998, '도퇴': 11999, '크레센도': 12000, '재량': 12001, '금융업': 12002, '장구': 12003, '타마': 12004, '요로': 12005, '문제해결': 12006, '이경우': 12007, '퇼': 12008, '가필': 12009, '후후': 12010, '브리': 12011, '이종': 12012, '하티': 12013, '그램': 12014, '실투': 12015, '압니다하': 12016, '퇴': 12017, '주춤거리다': 12018, '더맏': 12019, '브레이크': 12020, '과오': 12021, '석영이': 12022, '울엇어': 12023, '가그라': 12024, '츠물리': 12025, '지붕': 12026, '넨': 12027, '거잔': 12028, '침사추이': 12029, '하버': 12030, '임더': 12031, '유사성': 12032, '자싱시': 12033, '노동교화형': 12034, '천궄': 12035, '넘버': 12036, 'ㅂㅏㄴ': 12037, '삿네물렷': 12038, '텼': 12039, '점안액': 12040, '안압': 12041, '병변': 12042, '체중': 12043, '감량': 12044, '데단': 12045, '기억나다': 12046, '정신차려라': 12047, '루돌프': 12048, '장갑차': 12049, '연후': 12050, '재빨리': 12051, '요망': 12052, '숙지': 12053, '평상': 12054, '가외': 12055, '금산': 12056, '보마': 12057, '멀엇어': 12058, '찿아야': 12059, '길몽': 12060, '릉언릉': 12061, '오바': 12062, '하지시': 12063, '쓱': 12064, '다형': 12065, '이두': 12066, '상페': 12067, '로미': 12068, '법치': 12069, '졸다': 12070, '칭구': 12071, '낙수': 12072, '영전': 12073, '추임': 12074, '해답': 12075, '돌림노래': 12076, '화물차': 12077, '승용': 12078, '픽업': 12079, '비숫': 12080, '안판': 12081, '단숨': 12082, '뚫었슴사': 12083, '우만': 12084, '손절액': 12085, '쪼잔틱함': 12086, '훌러덩': 12087, '메꿀': 12088, '타래': 12089, '막손': 12090, '로년': 12091, '진주': 12092, '히든': 12093, '챔피언': 12094, 'ㅂㅅㅎ': 12095, '몬데': 12096, '공가': 12097, '탄핵안됫으': 12098, '궁그': 12099, '파혼': 12100, '유임': 12101, '쉐키': 12102, '직성': 12103, '떵': 12104, '손주': 12105, '며느리': 12106, '식민': 12107, '청춘': 12108, '비위': 12109, '후천': 12110, '살랑살랑': 12111, '앞집': 12112, '악취': 12113, '액정': 12114, '콧속': 12115, '유튜부': 12116, '지식인': 12117, '흉내내': 12118, '논걸': 12119, '공화국': 12120, '파릇파릇하다': 12121, '번다': 12122, '마롱': 12123, '함정임': 12124, '재물': 12125, '한살이': 12126, '대중교통': 12127, '짜장면': 12128, '젠더': 12129, '거거래량': 12130, '쵝오': 12131, '발끝': 12132, '걸사': 12133, '슬사': 12134, '테슬삿어': 12135, '텟': 12136, '뗏': 12137, '고수로': 12138, '세려': 12139, '프로그래밍': 12140, '스위트': 12141, '허깨비': 12142, '사전예약': 12143, '빅딜': 12144, '죄파': 12145, '맞대다': 12146, '응고': 12147, '새우등': 12148, '결론존버': 12149, '만이구': 12150, '킬러': 12151, '번동': 12152, '용쪽': 12153, '굿모닝': 12154, '구치소': 12155, '구금': 12156, '슙': 12157, '아닥하': 12158, '잼버리': 12159, '중고차': 12160, '뺏겻': 12161, '분들껜': 12162, '엑싯': 12163, '껜': 12164, '있넴': 12165, '들어왓다': 12166, '짤': 12167, '헤어지다': 12168, '헤어스타일': 12169, '깜찍하다': 12170, '뽐내다': 12171, '사로자다': 12172, '뿎까': 12173, '동그랗다': 12174, '특유': 12175, '고척': 12176, '스카이': 12177, '돔': 12178, '희로애락': 12179, '시캬': 12180, '고유': 12181, '이천만원': 12182, '마커': 12183, '피부염': 12184, '물렷는데': 12185, '두엄': 12186, '임번돈': 12187, '어따': 12188, '스마트워치': 12189, '신품': 12190, '다운턴': 12191, '저축은행': 12192, '연하다': 12193, '활짝': 12194, '빠져랏': 12195, '희생양': 12196, '엘에스전선': 12197, '제롬': 12198, '산걸': 12199, '꼿을거면': 12200, '음수': 12201, '하는겆': 12202, '졸업': 12203, '취업': 12204, '학과': 12205, '깜빵가': 12206, '지휘': 12207, '전자전': 12208, '오푸스': 12209, '평균값': 12210, '데드': 12211, '수평선': 12212, '문밖': 12213, '네온': 12214, '대무': 12215, '수족': 12216, '녭': 12217, '파헤치다': 12218, '오차': 12219, '비비다': 12220, '친해지다': 12221, '킹숩': 12222, '휴양지': 12223, '완치': 12224, '기즈': 12225, '달안': 12226, '입틀막': 12227, '우직': 12228, '당사자': 12229, '개처': 12230, '스티': 12231, '엠티': 12232, '워트': 12233, '뾰': 12234, '갇다': 12235, '증착': 12236, '왜왜': 12237, '프락치': 12238, '행태': 12239, '오하': 12240, '마치니': 12241, '아하이아': 12242, '얘때매': 12243, '화병': 12244, '글른': 12245, '미끄럽다': 12246, '지드': 12247, '굼': 12248, '일요일': 12249, '분지': 12250, '아인슈타인': 12251, '뉴턴': 12252, '에디슨': 12253, '바름': 12254, '현기': 12255, '태생': 12256, '가랬더': 12257, '엇그제': 12258, '나니가': 12259, '요말': 12260, '점짐': 12261, '우세하다': 12262, '방송사': 12263, '영어': 12264, '번역기': 12265, '수련': 12266, '보루': 12267, '펩처음': 12268, '재산권': 12269, '월마트': 12270, '곳좀': 12271, '저렴': 12272, '함빡': 12273, '오분': 12274, '다액': 12275, '변': 12276, '텐션': 12277, '되돌아오다': 12278, '서늘하다': 12279, '나왓': 12280, '김현구': 12281, '믿어드믄': 12282, '고리': 12283, '스토리텔링': 12284, '고백': 12285, '더밀': 12286, '로얄티': 12287, '개차반': 12288, '한라공조': 12289, '려면': 12290, '골프': 12291, '덢곧': 12292, '팟드': 12293, '멍하니': 12294, '물르다': 12295, '생초': 12296, '항시': 12297, '쌍벽': 12298, '어진': 12299, '신풍': 12300, '낮술': 12301, '나라시': 12302, '백분': 12303, '얼레': 12304, '오늘내일': 12305, '동해': 12306, '결단': 12307, '담대하다': 12308, '놀이기구': 12309, 'ㅋㄱㅋㅋㄲㅋㅋㅋㅋㅋㅋㅋㅋㅋ': 12310, '굵다': 12311, '님들말': 12312, '호재투': 12313, '럴': 12314, '헿헤': 12315, '깜방': 12316, '청장': 12317, '넵': 12318, '개인실': 12319, '뷔페': 12320, '목욕탕': 12321, '깜': 12322, '국씨': 12323, '보좌': 12324, '쇼존국': 12325, '지존': 12326, '그득그득': 12327, '제입': 12328, '이우': 12329, '악재쪽': 12330, '정말루': 12331, '듬': 12332, '로보트': 12333, '띄우기': 12334, '소위': 12335, '수천만': 12336, '달도': 12337, '이예': 12338, '씹히다': 12339, '인덱스펀드': 12340, '남아프리카': 12341, '과묵': 12342, '택했다먼': 12343, '되돌아보다': 12344, '택했다': 12345, '간직': 12346, '끝내기': 12347, '날그': 12348, '무소유': 12349, '거왜삼': 12350, '룰임': 12351, '중환': 12352, '고려국': 12353, '렉끼': 12354, '뭉치': 12355, '관려주': 12356, '별의별': 12357, '망상가': 12358, '해박': 12359, '줫문': 12360, '라모': 12361, '회한': 12362, '벌맛': 12363, '요드': 12364, '액션게임': 12365, '환장하다': 12366, '제아': 12367, '고항': 12368, '중순즘': 12369, '세력가': 12370, '챙챙': 12371, 'ㅇㅁㅇ': 12372, '술통': 12373, '새파랗케': 12374, '삐리': 12375, '란동': 12376, '조범': 12377, '행인': 12378, '띱땣끼들': 12379, '비커스': 12380, '요트': 12381, '닙꽈': 12382, '갛습': 12383, '마선': 12384, '화근': 12385, '홧병나': 12386, '탈츨': 12387, '할슨있음': 12388, '교통체증': 12389, '경과': 12390, '층판': 12391, '물성': 12392, '렌보': 12393, '클립': 12394, '헬스장': 12395, '탕질': 12396, '긷느': 12397, '킬낫': 12398, '이념': 12399, '거덜': 12400, '산조': 12401, '뇨자': 12402, '사만팔천': 12403, '출현': 12404, '임시국회': 12405, '총력': 12406, '사퇴': 12407, '간곡히': 12408, '재난사': 12409, '태시': 12410, '태마': 12411, '단주': 12412, '돌라': 12413, '삼겹살': 12414, '정다운': 12415, '고발': 12416, '무디스': 12417, '포스팅': 12418, '말장난': 12419, '놉': 12420, '한반도': 12421, '탁핵': 12422, '군부독재': 12423, '옵저버': 12424, '꿀맛': 12425, '얌': 12426, '전진호': 12427, '릴때호': 12428, 'ㅓㄱ': 12429, '오를때쬐굼': 12430, '이의제기': 12431, '꽉꽉': 12432, '고상': 12433, '점답': 12434, '변론': 12435, '깡': 12436, '클스마스': 12437, '시해': 12438, '안햇': 12439, '을건데': 12440, '펩형': 12441, '팍치': 12442, '탎출': 12443, '혐': 12444, '비행기표': 12445, '짐차': 12446, '가타': 12447, '부타': 12448, '희박': 12449, '김동연': 12450, '뚫렀으': 12451, '유포': 12452, '과기부': 12453, '현미경': 12454, '기죽다': 12455, '던디': 12456, '명사회': 12457, '께선': 12458, '대월': 12459, '원대하다': 12460, '쭈웈': 12461, '천희': 12462, '오픈런때': 12463, '데디': 12464, 'ㄷㅣ': 12465, '종근당': 12466, '다이소': 12467, '학계': 12468, '정설': 12469, '중학교': 12470, '물렷어': 12471, '에드': 12472, '횡보만': 12473, '다생': 12474, '슈만': 12475, '내리꼽던': 12476, '거닌': 12477, '갈꺼닌깐': 12478, '물좀타': 12479, '헛웃음': 12480, '요성': 12481, '주상': 12482, '쓰윽빡': 12483, '함월일': 12484, '투시': 12485, '브라보': 12486, '아놔물렿구': 12487, '군물': 12488, '타키': 12489, '초과수': 12490, '칭함': 12491, '숙의': 12492, '걥': 12493, '갯빛': 12494, '늙은이': 12495, '외제차': 12496, 'ㅈㅂ': 12497, '생색': 12498, '징거': 12499, '수미': 12500, '장무': 12501, '화살': 12502, '에게로': 12503, '자부': 12504, '새마을': 12505, '간위': 12506, '품위': 12507, '가식': 12508, '술렁이다': 12509, '나락날': 12510, '춤추다': 12511, '발라당': 12512, '불침번': 12513, '나락점': 12514, '사방': 12515, '팔방': 12516, '오방': 12517, '작태': 12518, '쯔': 12519, '기에': 12520, '컴퍼스': 12521, '각도기': 12522, '싸매다': 12523, '팔근육': 12524, '이모티콘': 12525, '아이참': 12526, '컥': 12527, '반포': 12528, '맥애': 12529, '배율': 12530, '걸삿': 12531, '조선대': 12532, '넘겨받다': 12533, '없넹': 12534, '블프': 12535, '싸대기': 12536, '방송사고': 12537, '부터라도': 12538, '글쎄요': 12539, '벌렵': 12540, '듀랑고': 12541, '물탓': 12542, '극도': 12543, '암담하다': 12544, '만루': 12545, '닛': 12546, '하여금': 12547, '목표량': 12548, '퍼뜨려': 12549, '참좋은여행': 12550, '모두투어': 12551, '풍선': 12552, '죽겄다': 12553, '깃발': 12554, '러우전쟁': 12555, '드가자역해숄': 12556, '등판': 12557, '가설': 12558, '보이콧': 12559, '뭉개기': 12560, '불똥': 12561, '음대': 12562, '양안문제': 12563, '어깃장': 12564, '으름장': 12565, '함지': 12566, '중조': 12567, '양안': 12568, '일어': 12569, '서고': 12570, '패씽': 12571, '에어포스': 12572, '이경수': 12573, '한전기술': 12574, '함예': 12575, '딥': 12576, '영위': 12577, '계승': 12578, '계지': 12579, '술사': 12580, '암만': 12581, '값니': 12582, '스프링': 12583, '고차': 12584, '출발점': 12585, '모래': 12586, '광반': 12587, '다녀가다': 12588, '미국식품의약국': 12589, '글쓰기': 12590, '려니': 12591, '해포': 12592, '해갈': 12593, '따라쟁': 12594, '애완': 12595, '망언': 12596, '추악하다': 12597, '좀제': 12598, '집산': 12599, '일괄': 12600, '주발': 12601, '고번': 12602, '말투': 12603, '찝찝하다': 12604, '하물며': 12605, '감액날': 12606, '밤샘': 12607, '멸': 12608, '금전': 12609, '분뒤': 12610, '갈껀대': 12611, '유니세프': 12612, '세이브': 12613, '누칼협누': 12614, '세진': 12615, '당선자': 12616, '상원의원': 12617, '신시': 12618, '회의론': 12619, '상호작용': 12620, '애킨스': 12621, '힁': 12622, '동진': 12623, '종특': 12624, '맞춤법': 12625, '상계관세': 12626, '홍보팀': 12627, '일경': 12628, '울고불고': 12629, '터럼프': 12630, '머쓱하다': 12631, '본능': 12632, '조공': 12633, '녹록': 12634, '컨버런스': 12635, '어로': 12636, '아앙': 12637, '실속': 12638, '귀환': 12639, '활발': 12640, '과도기': 12641, '다이나믹': 12642, '양분': 12643, '시쭈': 12644, '또오르락': 12645, '질임': 12646, '바깥': 12647, '들것': 12648, '관광객': 12649, '신앙심': 12650, '재판소': 12651, '차신': 12652, '구룹주': 12653, '읖': 12654, '뽀': 12655, '극한': 12656, '비리다': 12657, '부둣가': 12658, '누벼': 12659, '뒷골목': 12660, '헤매다': 12661, '내한': 12662, '내생': 12663, '심보': 12664, '대한해운': 12665, '밀림': 12666, '해운회사': 12667, '철장': 12668, '동강': 12669, '퍼퍼': 12670, '통신사': 12671, '광케이블': 12672, '뒷돈': 12673, '아니먄': 12674, '거만하다': 12675, '항아리': 12676, '난겨': 12677, '저지르다': 12678, '난동': 12679, '서일': 12680, '댓글달다': 12681, '소견': 12682, '농단': 12683, '합처': 12684, '풍요': 12685, '거북이': 12686, '코란': 12687, '백도': 12688, '은월': 12689, '본명': 12690, '박혜민': 12691, '유튜버입니': 12692, '런칭하': 12693, '창의': 12694, '한눈팔다': 12695, '궈애': 12696, '존버갑니': 12697, '빼앗다': 12698, '유무': 12699, '부치다': 12700, '부터의': 12701, '산업혁명': 12702, '튜이티브': 12703, '리치': 12704, '아이로봇': 12705, '커스': 12706, '코그': 12707, '아브': 12708, '탈락': 12709, '확확': 12710, '치받다': 12711, '버셨으': 12712, '캘리포니아주': 12713, '개쫄았는데': 12714, '엔피': 12715, '믿을껀': 12716, '콜로': 12717, '연수': 12718, '팟': 12719, '징수': 12720, '음좀': 12721, '상등': 12722, '미쓰비시': 12723, '진장': 12724, '빵집': 12725, '렷엇': 12726, '음컴': 12727, '장수': 12728, '달렷음': 12729, '희소성': 12730, '아숩네': 12731, '얼릉': 12732, '쏘와줭': 12733, '장학금': 12734, '학대': 12735, '자립': 12736, '심장병': 12737, '세이브더칠드런': 12738, '굿네이버스': 12739, '김정영': 12740, '일출': 12741, '바프': 12742, '졸레어': 12743, '저해': 12744, '발현': 12745, '사멸': 12746, '바끼': 12747, '쑤레기': 12748, '텍사스주': 12749, '탓네': 12750, '스위치': 12751, '야니': 12752, '껀데': 12753, '딸피': 12754, '자라': 12755, '몰카': 12756, '명성': 12757, '자택': 12758, '플로리다주': 12759, '팜비치': 12760, 'ㄱㄱㄱㄱ': 12761, '불보': 12762, '뭉개놓': 12763, '사탕': 12764, '설레임': 12765, '연인': 12766, '올리브': 12767, '뚥': 12768, '리자': 12769, '미띤': 12770, '글구': 12771, '밈': 12772, '불분명': 12773, '팬데믹': 12774, '기괴하다': 12775, 'ㅋㅇㅋ': 12776, '자상하다': 12777, '랐': 12778, '몰랐넹': 12779, '어능': 12780, '생심': 12781, '나어뜨케': 12782, '멸할것': 12783, '나반': 12784, '법조인': 12785, '파도타기': 12786, '결전': 12787, '학교': 12788, '천만다행': 12789, '오줌': 12790, '안배': 12791, '얜왜': 12792, '버여': 12793, '굿굿굿': 12794, '라오': 12795, '알쏭달쏭': 12796, '이상민': 12797, '행안부': 12798, '김주현': 12799, '민정수': 12800, '석조': 12801, '남관': 12802, '부정부패': 12803, '국민일보': 12804, '활주': 12805, '필쪽': 12806, '겨우내': 12807, '도면': 12808, '돈다': 12809, '돌때': 12810, '실물': 12811, '류영준': 12812, '낌새': 12813, '원문': 12814, '가지가지': 12815, '치과': 12816, '손절끝': 12817, '격추': 12818, 'ㄸ': 12819, '호서': 12820, '천삼백': 12821, '다마': 12822, '너스': 12823, '자백': 12824, '개물': 12825, '션찮': 12826, '매니지먼트사': 12827, '처넌일': 12828, '도스': 12829, '골든디스크': 12830, '족보': 12831, '놨습니': 12832, '꼽주는': 12833, '원안': 12834, '샘슝': 12835, '다가서다': 12836, '정함': 12837, '포차': 12838, '물량없다': 12839, '이상승': 12840, '의순': 12841, '라이드': 12842, '라틴': 12843, '가에이': 12844, '훨낫다': 12845, '정교하다': 12846, '버셧': 12847, '드렷': 12848, '버셧으': 12849, '정맥주사': 12850, '투약': 12851, '엑세스': 12852, '인방': 12853, '배급': 12854, '로컬라이징': 12855, '개혁': 12856, '궤': 12857, 'ㄱㄱㄱㄱㄱ': 12858, '뿌엥': 12859, 'ㅠㅠㅠㅠㅠㅠㅠㅠ': 12860, '웡년': 12861, '경호처': 12862, '종북좌파': 12863, '북베트남': 12864, '통일': 12865, '투야': 12866, '퍼정': 12867, '라이언에어': 12868, '중고': 12869, '극악': 12870, '굴린': 12871, '에어버스': 12872, '사우스': 12873, '웨스트': 12874, '연속극': 12875, '다리미': 12876, '패밀리': 12877, '보았슴': 12878, '이해억': 12879, '엌': 12880, '기념비': 12881, '날후훗': 12882, '호랭이': 12883, '하늘높이': 12884, '우주선': 12885, '빈살': 12886, '취향': 12887, '어도비': 12888, '구성은': 12889, '태운': 12890, '경솔하다': 12891, '물들다': 12892, '계획성': 12893, '교물': 12894, '증액': 12895, '차환': 12896, '트렌치': 12897, '민평': 12898, '머리털': 12899, '빛볼때': 12900, '하하호호': 12901, '판명': 12902, '우리동네': 12903, '퀵': 12904, '시련': 12905, '체념하다': 12906, '이만원': 12907, '조준': 12908, '에서젠슨황': 12909, '법금': 12910, '목조': 12911, '밀어넛드': 12912, '망혀': 12913, '국도': 12914, '대공황': 12915, '유례': 12916, '씩씩하다': 12917, '반입': 12918, '틀렷': 12919, '눌린': 12920, '눌리던': 12921, '유상': 12922, '향임': 12923, '가치재': 12924, '스파': 12925, '플래시': 12926, '클래식': 12927, '문상': 12928, '택배': 12929, '도컨센하회': 12930, '수성': 12931, '턱밑': 12932, '년년물': 12933, '거버넌스': 12934, '누락': 12935, '싱크': 12936, '씨티': 12937, '유비': 12938, '콘탱': 12939, '숙연': 12940, '탐사': 12941, '머피': 12942, '걸레': 12943, '차범근': 12944, '구주': 12945, '오냐': 12946, '착착': 12947, '고취': 12948, '배설': 12949, '불쾌하다': 12950, '바람직하다': 12951, '글달': 12952, '수면제': 12953, '정박': 12954, '유튜버들': 12955, '신축': 12956, '조소': 12957, '핑곗': 12958, '합리화': 12959, '노약': 12960, '역임': 12961, '메이트': 12962, '빡': 12963, '통가리': 12964, '빡시다': 12965, '젠슨황형님': 12966, '심폐소생': 12967, '코텍': 12968, '전소': 12969, '우도': 12970, '몬일': 12971, '사버럿다': 12972, '국물': 12973, '숫': 12974, '가락': 12975, '주의보': 12976, '발령': 12977, '슈카테이버': 12978, 'ㅡㅡㅉㅉㅉ': 12979, '예성': 12980, '대개': 12981, '배신자': 12982, '삼각형': 12983, '불규칙하다': 12984, '소행': 12985, '숏친': 12986, '머땜시': 12987, '헤지펀드': 12988, '고혈': 12989, '어딤': 12990, '땐쭉쭉': 12991, '꼰대': 12992, '참견': 12993, '맹세': 12994, '넷플호재': 12995, '액티브세': 12996, '환매조건부채권': 12997, '실비': 12998, '대동소이하다': 12999, '기막히다': 13000, '이다지': 13001, '맹글': 13002, '설레설레': 13003, '통화량': 13004, '윤전': 13005, '앏다는': 13006, '사팔사팔이': 13007, '뚝깨즈': 13008, '웃음소리': 13009, '절벽': 13010, '립니': 13011, '팔쟈': 13012, '요란': 13013, '혀더': 13014, '마인': 13015, '타미힐피거': 13016, '장원영': 13017, '신기루': 13018, '쫄림': 13019, '션절삭': 13020, '이쁜이': 13021, '뭐징왜': 13022, '동양': 13023, '자칫': 13024, '대뜸': 13025, '음음': 13026, 'ㅠㅠㅜ': 13027, '이주': 13028, '팽신': 13029, '겅': 13030, '리게팅': 13031, '횡보할때': 13032, '람프': 13033, '어쩝': 13034, '얼짱': 13035, '식구': 13036, '썸네일': 13037, '찍찍': 13038, '팬티': 13039, '돈마늠': 13040, '처셀': 13041, '할껀': 13042, '셧길': 13043, '지층': 13044, '텐데그': 13045, '동진쎄미켐': 13046, '아이쿠': 13047, '땟': 13048, '조고': 13049, '돈대': 13050, '굴릴수': 13051, '공습': 13052, '루나': 13053, '이레': 13054, '고딩': 13055, '때됏잔': 13056, '구절': 13057, '악행': 13058, '직급': 13059, '사악하다': 13060, '부도덕하다': 13061, '이따가': 13062, '피빨': 13063, '삼천만원': 13064, '개빨림': 13065, '우주여행': 13066, '맛없다': 13067, '식도': 13068, '이집': 13069, '진격': 13070, '환경보호': 13071, '폭스바겐': 13072, '목록': 13073, '아님루닛': 13074, '고점': 13075, '별명': 13076, '하루속히': 13077, '슬적': 13078, '해둘': 13079, '헝제': 13080, '편집증': 13081, '고러취': 13082, '각박하다': 13083, '갈라지다': 13084, '만조': 13085, '준치': 13086, '횡보해': 13087, '표본': 13088, '미성년': 13089, '쇼핑중독': 13090, '훅감': 13091, '탓길': 13092, '도니': 13093, '뻑하': 13094, '이윤': 13095, '초창': 13096, '게멍': 13097, '똥몽청': 13098, '지역감정': 13099, '인민군': 13100, '제복': 13101, '리졸브': 13102, '암기': 13103, '가파른게좋습': 13104, '페이도': 13105, '빠트렸던': 13106, '싱글': 13107, '비스': 13108, '보사': 13109, '이소영': 13110, '부리면': 13111, '위약벌': 13112, '하겄소': 13113, '적신호': 13114, '물러서다': 13115, '실정': 13116, '탓음': 13117, '오타': 13118, '지포스': 13119, '찰때': 13120, '친일파': 13121, '디드어': 13122, '바니': 13123, '라떼': 13124, '이쇄끼': 13125, '에잉익절': 13126, '사봣으': 13127, '하디': 13128, '초로': 13129, '컵앤': 13130, '밖엔': 13131, '채끝': 13132, '들려주다': 13133, '차틀': 13134, '걸물': 13135, '극혐': 13136, '마구마구': 13137, '꼴등': 13138, '너얌': 13139, '도타': 13140, '거좀': 13141, '삼은': 13142, '외투': 13143, '요동치다': 13144, '수배': 13145, '금값': 13146, '불소': 13147, '내열성': 13148, '화학물질': 13149, '유해하다': 13150, '자외선': 13151, '린스': 13152, '식각': 13153, '년텐베거': 13154, '정표': 13155, '왕놀음': 13156, '보편화': 13157, '관념': 13158, '조각가': 13159, '조경': 13160, '앙이다': 13161, '조각품': 13162, '황금마차': 13163, '형상': 13164, '워터': 13165, '테라스': 13166, '인피니티': 13167, '라운지': 13168, '크리스탈': 13169, '수목': 13170, '산책로': 13171, '아웃도어': 13172, '어우러지다': 13173, '고품격': 13174, '완': 13175, '절정': 13176, '땐헌': 13177, '이동수': 13178, '졸': 13179, '대루': 13180, '정도선': 13181, '스튜': 13182, '통신비': 13183, '에이전트': 13184, '컨택': 13185, '또르르': 13186, '넷플믿고간다홀딩': 13187, '무자': 13188, '그른': 13189, '에틸렌': 13190, '척도': 13191, '벤저민': 13192, '그레이엄': 13193, '꽁초': 13194, '다중': 13195, '열압착': 13196, '접착': 13197, '필름': 13198, '치한': 13199, '떳는데': 13200, '손절칫다': 13201, '그랴': 13202, '나주고': 13203, '갈래': 13204, '약체': 13205, '결방': 13206, '욜': 13207, '바로잡다': 13208, '여느': 13209, '넥션': 13210, '현재현': 13211, '주테슬': 13212, '뉘물': 13213, '경제대공황': 13214, '닌지': 13215, '밤낮': 13216, '보탰다이날': 13217, '함저': 13218, '사물': 13219, '권재진': 13220, '단시간': 13221, '프로미': 13222, '꽁': 13223, '교육비': 13224, '갠찮나': 13225, 'ㅠㅠㅠㅠㅠㅠㅠㅠㅠㅠㅠ': 13226, '윤관': 13227, '퍼여': 13228, '셋째': 13229, '넷째': 13230, '호재란': 13231, '고소하다': 13232, '웅렬': 13233, '폐경': 13234, '골절': 13235, '글루코코르티코이드': 13236, '향해': 13237, '단거리': 13238, '국내선': 13239, '제상태': 13240, '불로': 13241, '좋다잉': 13242, '개이쉑기': 13243, '젠손절': 13244, '숑': 13245, '거수': 13246, '왼쪽': 13247, '세시': 13248, '결핍': 13249, '사주팔자': 13250, '닷컴버블': 13251, '횡보할까': 13252, '신기록': 13253, '그닥': 13254, '때저': 13255, '팩폭': 13256, '박멸': 13257, '진군': 13258, '적장': 13259, '선견지명': 13260, '디다': 13261, '배때': 13262, '후임': 13263, '수우미양가': 13264, '래요': 13265, '지리다': 13266, '사고사': 13267, '느좋': 13268, '유관순': 13269, '국적': 13270, '풀롱': 13271, '재슨황': 13272, '같잖다': 13273, '청원시': 13274, '청원': 13275, '아센': 13276, '디오': 13277, 'ㅋㄱㅋㄱㄱ': 13278, '전등': 13279, '멱': 13280, '유지아': 13281, '플래그': 13282, '샵': 13283, '소캣': 13284, '포근하다': 13285, '정겹다': 13286, '마려': 13287, '답글': 13288, '못터': 13289, '경상수지': 13290, '둘겨': 13291, '무오': 13292, '스디형': 13293, '가상하다': 13294, '나락임': 13295, '스리': 13296, '얼티': 13297, '정열': 13298, '치의': 13299, '여유도': 13300, '구덩이': 13301, '차손': 13302, '싶슴다': 13303, '가비': 13304, '지원이': 13305, '듬뿍': 13306, '빳떼머리': 13307, '쉐끼': 13308, '피벗': 13309, '하늘색': 13310, '지루함': 13311, '향기': 13312, '청렴': 13313, '일꾼': 13314, '펜키': 13315, '풍력발전': 13316, '위력': 13317, '원오': 13318, '선위': 13319, '리쪽': 13320, '부셧는': 13321, '쩔': 13322, '만두': 13323, '낮밤': 13324, '백수': 13325, '폐인': 13326, '갈때가됫다': 13327, '몰려드': 13328, '캐쉬': 13329, '롯데렌탈': 13330, '롯데리아': 13331, '떳길래': 13332, '굴렸으': 13333, '하이텍': 13334, '헬프': 13335, '예아': 13336, '애착': 13337, '도급계약': 13338, '물량늘리': 13339, '민낯': 13340, '세련되다': 13341, '아몰레드': 13342, '림화': 13343, '우메': 13344, '제브알': 13345, '배면': 13346, '비상창륙': 13347, '생기지': 13348, '해유': 13349, '성언': 13350, '비사': 13351, '산부인과': 13352, '여혐': 13353, '비빔밥': 13354, '노숙자': 13355, '자밍땜시': 13356, '적그': 13357, '을사오적': 13358, '눔들': 13359, '단두': 13360, '눈거': 13361, '태웟': 13362, '기력': 13363, '몰아치다': 13364, '뭐건': 13365, '개화': 13366, '회산': 13367, '스포티지': 13368, '쏘렌토': 13369, '카니발': 13370, '애덜': 13371, '미해군': 13372, '론데': 13373, '스승': 13374, '영장류': 13375, '가겠넴': 13376, '국토': 13377, '야광': 13378, '뭘알': 13379, '아뢰다': 13380, '얽매이다': 13381, '거스': 13382, '개슈레기': 13383, '이랬는데': 13384, '임개': 13385, '러우': 13386, '부하': 13387, '네트워킹': 13388, '생산비': 13389, '텍스트': 13390, '스케일': 13391, '기가와트': 13392, '쫌층위': 13393, '차야': 13394, '엇네': 13395, '중차': 13396, '음우': 13397, '훗': 13398, '부전자전': 13399, '개그': 13400, '까닭': 13401, '서자': 13402, '동문': 13403, '문구': 13404, '초면': 13405, '끝그': 13406, '음울': 13407, '가랑이': 13408, '양극화': 13409, '파탄': 13410, '영장': 13411, '훔치다': 13412, '눌릴수': 13413, '졸졸': 13414, '갔다왓': 13415, '손절할랫더': 13416, '그랭': 13417, '밴댕이': 13418, '어지간': 13419, '화중': 13420, '존버성공다들': 13421, '애니콜': 13422, '어머나': 13423, '웜': 13424, '낭보': 13425, '하우리': 13426, '심리학': 13427, '동떨어지다': 13428, '호나': 13429, '에게의': 13430, '미부': 13431, '하쟈': 13432, '젊음의행진': 13433, '잠자리': 13434, '돈나': 13435, '쌈썽': 13436, '사주면': 13437, '건축': 13438, '빠젔습니': 13439, '윤석욜': 13440, '충붖히': 13441, '꿀잼': 13442, '바겐': 13443, '빵꾸똥꾸': 13444, '작자': 13445, '저쩌': 13446, '텔레그램': 13447, '군사정권': 13448, '아무렴': 13449, '몽둥이': 13450, '죽창': 13451, '엎': 13452, '지배자': 13453, '부득부득': 13454, '대망': 13455, '베렸': 13456, '즐겨찾기': 13457, '빼놓다': 13458, '폭삭': 13459, '만상': 13460, '치산': 13461, '쿄': 13462, '소라면': 13463, '구독료': 13464, 'ㄹㄱㄴ': 13465, '장례식': 13466, '사회생활': 13467, '가정교육': 13468, '과매': 13469, '보주': 13470, '응가': 13471, '얘왜케': 13472, '밸': 13473, '런싱': 13474, '샆': 13475, '촘촘도': 13476, '블룸버그': 13477, '배칩': 13478, '물살': 13479, '맑음': 13480, '낙엽': 13481, '모래성': 13482, '임목': 13483, '펙트': 13484, '샛별': 13485, '멍부': 13486, '날월': 13487, '총서': 13488, '국정원': 13489, '블박까보': 13490, '즈그': 13491, '잡배': 13492, '블박': 13493, '훼리': 13494, '오도': 13495, '선장': 13496, '가라앉다': 13497, '폴리': 13498, '위자료': 13499, '거물': 13500, '나능': 13501, '브렁': 13502, '에식스': 13503, '루시드': 13504, '무뎌져': 13505, '악랄하다': 13506, '창초': 13507, '당락일': 13508, '어미': 13509, '고추': 13510, '사필귀정': 13511, '인과응보': 13512, '떳구': 13513, '싼타': 13514, '껍니': 13515, '여윳돈': 13516, '버마': 13517, '으앜': 13518, '크킇': 13519, '정전': 13520, '휭': 13521, '패임': 13522, '랜딩기': 13523, '낫질': 13524, '아군': 13525, '데흠': 13526, '드높아지다': 13527, '퍼워': 13528, '풍기': 13529, '카카': 13530, '치익치익': 13531, '함자': 13532, '방대하다': 13533, '캘리포니아': 13534, '모의': 13535, '재규어': 13536, '파나소닉': 13537, '퇴화': 13538, '버려지다': 13539, '맟추고잏': 13540, '겧습니': 13541, '이긍': 13542, '커니': 13543, '금영': 13544, '꺼팔': 13545, '꼭더': 13546, '청구권': 13547, '업로드': 13548, '열람': 13549, '이오니': 13550, '자라나다': 13551, '전자양': 13552, '자연스레': 13553, '낭패': 13554, '라리': 13555, 'ㅇㅅㅍㅌㅅㅅ': 13556, '클스': 13557, '외종': 13558, '원악': 13559, '마임': 13560, '우정': 13561, '사감': 13562, '사익': 13563, '뗏다': 13564, '사네이': 13565, '마비노기': 13566, '새우깡': 13567, '불가결': 13568, '장본인': 13569, '바잉해': 13570, '해쥬': 13571, '신병': 13572, '다뻈다': 13573, '퍼때팔껄': 13574, '제약업': 13575, '스케쥴': 13576, '기수': 13577, '차랜': 13578, '유압계': 13579, '먹통': 13580, '마찰계수': 13581, '도포': 13582, '급박': 13583, '유독가스': 13584, '급박하다': 13585, 'ㅡㅡㅡㅡㅡ': 13586, '어리석음': 13587, '침공': 13588, '서방국가': 13589, '거란': 13590, '줄어드': 13591, '훨씨': 13592, '실책': 13593, '얼매': 13594, '복통': 13595, '크윽': 13596, '초단': 13597, '하류': 13598, '렸': 13599, '외우다': 13600, '촘촘하': 13601, '송충이': 13602, '무증때매': 13603, '영웅호걸': 13604, '후다닥': 13605, '반나절': 13606, '가배': 13607, '프로야구': 13608, '아까븐데': 13609, '속세': 13610, '시래기': 13611, '되엇': 13612, '염불': 13613, '즘': 13614, '이재': 13615, '탭': 13616, '오르겄': 13617, '감세': 13618, '근로자': 13619, '임년': 13620, '스탈': 13621, '루퍼': 13622, '명소': 13623, '몸집': 13624, '이우선': 13625, '스카이팀': 13626, '회정': 13627, '햄버거': 13628, '오동환': 13629, '포털': 13630, '서치': 13631, '해피해피': 13632, '원님': 13633, '스윽': 13634, '훑다': 13635, '도난': 13636, '불매운동': 13637, '국부': 13638, '이맥': 13639, '네임드': 13640, '아니묜': 13641, '부대': 13642, '에고': 13643, '바른': 13644, '자세': 13645, '여사': 13646, '찐빵': 13647, '재중': 13648, '슨황': 13649, '철야': 13650, '어두워지다': 13651, '이소리': 13652, '천조국': 13653, '미움': 13654, '오싹하다': 13655, '아주아주': 13656, '금리정책': 13657, '스런': 13658, '뚤림': 13659, '홀딩아': 13660, '던졋': 13661, '임외놈': 13662, '열매': 13663, '담번': 13664, '단기매매': 13665, '뮌': 13666, '데우다': 13667, '역주행': 13668, '장만': 13669, '충언': 13670, '부안': 13671, '쮸': 13672, '해드앤숄': 13673, '이샠': 13674, '수명연장': 13675, 'ㅍ': 13676, '어데': 13677, '추태입': 13678, '죽겄': 13679, '득도': 13680, '천와드뎌': 13681, '보험금': 13682, '털렿는데': 13683, '별수': 13684, '난널': 13685, 'ㅋㅋㅋㅋㅋㅋㅋㅋㅋㅋㅋㅋㅋㅋㅋㅋㅋㅋㅋㅋㅋ': 13686, '제패': 13687, '니모': 13688, '당면': 13689, '별장': 13690, '티케': 13691, '유니티': 13692, '삼위일체': 13693, '임용': 13694, '엔비디어': 13695, '위위': 13696, '소말리아': 13697, '여주': 13698, '죱': 13699, '유네스코': 13700, '단도': 13701, '교대': 13702, '돈더': 13703, 'ㄱㄱㅇㄱㅇ': 13704, '원만똫': 13705, '무뇌아': 13706, '자업자득': 13707, '금욜저녁': 13708, '성무': 13709, '리빙': 13710, '꼬옥': 13711, '소나라': 13712, '이물': 13713, '땀남': 13714, '한기대': 13715, '난기': 13716, '장완': 13717, '조명하': 13718, '좀살걸': 13719, '풀북': 13720, '뱃값': 13721, '낚였다': 13722, '에보니': 13723, '터트려': 13724, '라스트': 13725, '분리수거': 13726, '제휴': 13727, '개구': 13728, '쌔하': 13729, '부럽슴니': 13730, '홧팅입니': 13731, '구해': 13732, '부스러기': 13733, '삥땅': 13734, '친북': 13735, '빵꾸': 13736, '홀딩했던': 13737, '채결': 13738, '테그': 13739, '풀림': 13740, '물량풀릴': 13741, '구공탄': 13742, '석탄': 13743, '머에씌': 13744, '다이버전스': 13745, '몈댐': 13746, '미확정': 13747, '낸스': 13748, '김항': 13749, '예정일': 13750, '별빛': 13751, '쫓아가다': 13752, '미진': 13753, '죄송': 13754, '서양': 13755, '브라더스': 13756, '방학': 13757, '학비': 13758, '월세': 13759, '나닸다': 13760, '죤나': 13761, '까믁': 13762, '개씹스캠': 13763, '번건': 13764, '일렉트로닉': 13765, '영양가': 13766, '비량': 13767, '되겠죵': 13768, '관매도': 13769, '덮친격': 13770, '방벽': 13771, '부딛히다': 13772, '이백': 13773, '어똑하': 13774, '다우지수': 13775, '중진국': 13776, '틈틈하다': 13777, '젛겠냐': 13778, '알단': 13779, '정신질환': 13780, '횔': 13781, '주정뱅이': 13782, 'ㅛ': 13783, '운장': 13784, '쨘쨘년': 13785, '네사': 13786, '루프': 13787, '희귀': 13788, '버세요저': 13789, '불면증': 13790, '신경계': 13791, '흡연': 13792, '알고싶다': 13793, '뒷목잡다': 13794, '조우리': 13795, '운전대': 13796, '문제기': 13797, 'ㅎㅎㅎㅎㅎㅎ': 13798, '파킹용': 13799, '회차': 13800, '김은숙': 13801, '김은희': 13802, '돈버네': 13803, '더사버령': 13804, '불기': 13805, '붕일때': 13806, '세팅': 13807, '금웅': 13808, '스테이션': 13809, '정다이': 13810, '프랑': 13811, '전시장': 13812, '아다리': 13813, '옶': 13814, '전념': 13815, '갖가지': 13816, '무신': 13817, '경하': 13818, '삐지다': 13819, '스레기같으': 13820, '진절머리': 13821, 'ㅋㅋㅋㅋㄱ': 13822, '싸이코': 13823, '체머': 13824, '과외': 13825, '캡처': 13826, '실스큐때문': 13827, '월내': 13828, '부업': 13829, '미약': 13830, '하늘이시여': 13831, '벌주다': 13832, '엄': 13833, '일본여행': 13834, '인보': 13835, '꼭익절': 13836, '주름살': 13837, '롱롱': 13838, '물소': 13839, '격의': 13840, '불록딜': 13841, '수괴': 13842, '괴롭힘': 13843, '홀가분하다': 13844, '마스코트': 13845, '존버탈': 13846, '작작하다': 13847, '음고': 13848, '해산': 13849, '해열제': 13850, '다대고': 13851, '상수': 13852, '하노': 13853, '볼놈': 13854, '암내': 13855, '데달': 13856, '마등': 13857, '심신': 13858, '수양': 13859, '오토바이': 13860, '붕뜬': 13861, '엿당': 13862, '무안국': 13863, '호벽': 13864, '한화갑': 13865, '개월뒤': 13866, '뉴시스': 13867, '오르비': 13868, '우진': 13869, '태광': 13870, '성광벤드': 13871, '프레임워크': 13872, '코러스': 13873, '장깆보유': 13874, '낄낄': 13875, '우익': 13876, '엇습': 13877, '엎친': 13878, '비틀어지다': 13879, '깨우다': 13880, '차즘': 13881, '구내': 13882, '기필코': 13883, '납작하다': 13884, '생일상': 13885, '석가탄신일': 13886, '존엄성': 13887, '자애': 13888, '데뷰': 13889, '분수령': 13890, '차이점': 13891, '유명': 13892, '정합': 13893, '최원': 13894, '빈국': 13895, '경제성': 13896, '사주지': 13897, '상임': 13898, '참에쭈욱': 13899, '존버할걸': 13900, '오노': 13901, '옼': 13902, '천연고무': 13903, '슈드': 13904, '빵칠': 13905, '화목': 13906, '글등': 13907, '글귀': 13908, '인신공격': 13909, '신체': 13910, '하얗다': 13911, '흰눈': 13912, '새싹': 13913, '파릇파릇': 13914, '거북': 13915, '이임': 13916, '느릿느릿': 13917, '까오': 13918, '어종상': 13919, '위세': 13920, '리세': 13921, '이듬': 13922, '소환': 13923, '일원': 13924, '물약': 13925, '나무아미타불': 13926, '관세음보살': 13927, '인샬라': 13928, '박약': 13929, '엎은거': 13930, '백금': 13931, '팽팽하': 13932, '클루': 13933, '장재': 13934, '아닐런': 13935, '마라도': 13936, '박누호재': 13937, '쏙': 13938, '차자': 13939, '착혔': 13940, '명품': 13941, '라박': 13942, '김성근': 13943, '존버할거닌깐': 13944, '급발진': 13945, '지보면': 13946, '유난히': 13947, '나로': 13948, '기우': 13949, '펀데': 13950, '하와이': 13951, '하와': 13952, '부호': 13953, '최선일': 13954, '상항': 13955, '뿜': 13956, '질의': 13957, '상극': 13958, '일본말': 13959, '의연': 13960, '크레임거': 13961, '수시로': 13962, '감감': 13963, '무소식': 13964, '안동': 13965, '화창하다': 13966, 'ㅇㅣ': 13967, '쓰레기통': 13968, '가래': 13969, '실존': 13970, '글렀': 13971, '퍈': 13972, '서기대': 13973, '위로뿡': 13974, '지리하다': 13975, '세배': 13976, '북항': 13977, '스위스': 13978, '로주': 13979, '제조업체': 13980, '쉽사리': 13981, '수도권': 13982, '담날': 13983, '중대': 13984, '배민': 13985, '흑두루미': 13986, '음봉밑': 13987, '연체': 13988, '지문': 13989, '사드': 13990, '장차': 13991, '괴로움': 13992, '육식': 13993, '소모품': 13994, '아람': 13995, '교두보': 13996, '에쿠스': 13997, '러쉬': 13998, '발쭉': 13999, '에게해': 14000, '방감': 14001, '옥션': 14002, '줄타기': 14003, '한수현': 14004, '방판': 14005, '땅바닥': 14006, '철철': 14007, '다소니': 14008, '플래티넘': 14009, '잔당': 14010, '만물': 14011, '돗': 14012, '비치': 14013, '마귀': 14014, '아대': 14015, '길드': 14016, '일어나지': 14017, '방시혁': 14018, '에게나': 14019, '콜주': 14020, '무도': 14021, '가상세계': 14022, '장려': 14023, '므찌다': 14024, 'ㄹㅔ': 14025, '광정': 14026, '유뭐': 14027, '유맘': 14028, '궁굼': 14029, '쑤트레쓰': 14030, '장투겸': 14031, '겸사': 14032, '갑툭': 14033, '열렷으': 14034, '싸늘하다': 14035, '척악재': 14036, '들쭉날쭉하다': 14037, '종잡': 14038, '익절합': 14039, '중기': 14040, '보딩패스': 14041, '강보': 14042, '합세': 14043, '쐬다': 14044, '우레': 14045, '한가인': 14046, '프사': 14047, '몰루짤방': 14048, '애지중지': 14049, '이형은': 14050, '말라가': 14051, '한치': 14052, '미장러': 14053, '보름': 14054, '줸': 14055, '이쓔': 14056, '런치진': 14057, '드가요껄': 14058, '죗값': 14059, '에훈': 14060, '티점': 14061, 'ㅕ': 14062, '명작': 14063, '난발': 14064, '부실하다': 14065, '속속': 14066, '핥다': 14067, '님드': 14068, '안뚤리': 14069, '삿다나': 14070, '산쿄': 14071, '테르': 14072, '가제': 14073, '판권': 14074, 'ㅆㄹㄱ': 14075, '첫걸음': 14076, '생중계': 14077, '개표': 14078, '얔': 14079, '끈질기다': 14080, '이남': 14081, '핫바': 14082, '박쥐': 14083, '제일기획': 14084, '생전': 14085, '원유': 14086, '자폭': 14087, '안떰': 14088, '묵자': 14089, '북극': 14090, '속편': 14091, '자시': 14092, '숙취': 14093, '퍼렁': 14094, '께서는': 14095, '우리네': 14096, '본디': 14097, '자윤데': 14098, '관습': 14099, '십퍼빔': 14100, '왐마': 14101, '글러': 14102, '구원': 14103, '쥽쥽': 14104, '요또': 14105, '무가': 14106, '롤코': 14107, '이칭구': 14108, '웨': 14109, '어쩌고누': 14110, '임시변통': 14111, '멍텅구리': 14112, '후안': 14113, '무치': 14114, '위연': 14115, '주스': 14116, '악쓰다': 14117, '어이할꼬': 14118, '윽': 14119, '래미': 14120, '살금살금': 14121, '런했다': 14122, '유한락스': 14123, '이십오만': 14124, '피존': 14125, '랭킹': 14126, '갈기': 14127, '어슬렁거리다': 14128, '산책': 14129, '짓궂다': 14130, '등처': 14131, '간도': 14132, '콩알': 14133, '경주': 14134, '버드스': 14135, '다츠': 14136, '둘걸': 14137, '본회의': 14138, '국무회의': 14139, '동행': 14140, '상의': 14141, '자기결정권': 14142, '소지': 14143, '고심': 14144, '희박하다': 14145, '난도질': 14146, '인석': 14147, '루고': 14148, '물탈걸': 14149, '자능': 14150, '살찌다': 14151, '헝헝헝': 14152, '식주': 14153, '알재': 14154, '치아': 14155, '난치': 14156, '슈카': 14157, '기침': 14158, '물량정리': 14159, '펨트론': 14160, '가요대전': 14161, '휘둘릴수': 14162, '읎따': 14163, '정통하다': 14164, '비공개': 14165, '신원': 14166, '논평': 14167, '가범': 14168, '의심스럽다': 14169, 'ㄲ': 14170, '이샊': 14171, '듀듀듁': 14172, '움뭐': 14173, '자가면역질환': 14174, '버는': 14175, 'ㅇㅏ': 14176, '시계': 14177, '경제지표': 14178, '년차때': 14179, '성률': 14180, '있넹': 14181, '잔꾀': 14182, '대승': 14183, '도라에몽': 14184, '본드걸': 14185, '초속': 14186, '돈데손절': 14187, '람프형': 14188, '가닥': 14189, '갔슈그': 14190, '호신': 14191, '흙흙': 14192, 'ㅅㄱㅅㄱ': 14193, '쫄쫄오르': 14194, '쏠때': 14195, '식다': 14196, '허조': 14197, '졸리쟎': 14198, '분기점': 14199, '덩치값': 14200, '해랏': 14201, '줘쩜상하': 14202, '살맛': 14203, '싹싹': 14204, '정쟁': 14205, '토악질': 14206, '영업정지': 14207, '사이클링': 14208, '시차': 14209, '소맥': 14210, '봄더': 14211, 'ㅈㅈㅈㅈㅈㅈ': 14212, '질서': 14213, '배롱': 14214, '돈벌놈': 14215, '발음': 14216, '성열': 14217, '아나운서': 14218, 'ㅜㅜㅜㅜㅜㅜ': 14219, '쓰시': 14220, '전복': 14221, '화교': 14222, '조선족': 14223, '로빈후드': 14224, '외풍': 14225, '체점': 14226, '역성': 14227, '화상회의': 14228, '증원': 14229, '증말층': 14230, '쩌네더': 14231, '놀때': 14232, '좆망': 14233, '피라미드': 14234, '좆창': 14235, '답게': 14236, '궁굼해': 14237, '가미': 14238, '승차': 14239, '썽': 14240, '욤손절합': 14241, '팔로잉': 14242, '짜이다': 14243, '회초리': 14244, '케인스': 14245, '오랑우탄': 14246, '숏티지': 14247, '전제': 14248, '끝단': 14249, '테크닉': 14250, '평준화': 14251, '답니': 14252, '스톡옵션': 14253, '북밸류': 14254, '영안': 14255, '디스커버리': 14256, '무의미': 14257, '가이드라인': 14258, '아델': 14259, '과학자': 14260, '으루': 14261, '또람프': 14262, '유전': 14263, '대통령령': 14264, '비밀요원': 14265, '토벽': 14266, '항공도': 14267, '친것': 14268, '종장': 14269, '세종시': 14270, '회시': 14271, '분란': 14272, '후일': 14273, '탈지': 14274, '걸러놓른': 14275, '찌릿찌릿': 14276, '신변': 14277, '컨설팅': 14278, '슨': 14279, '금공': 14280, '슨붕': 14281, '짜깁다': 14282, '기교': 14283, '허비하다': 14284, '과장': 14285, '다반사': 14286, '겉멋': 14287, '개밥그릇': 14288, '슨피오': 14289, '아반떼': 14290, '소나타': 14291, '살림': 14292, '금괴': 14293, '꼴봬기': 14294, '보유물량': 14295, '왜관': 14296, 'ㄴㄷㅇ': 14297, '입사': 14298, '만삼천원': 14299, '레베': 14300, '봉합': 14301, '걸껄': 14302, '바코드': 14303, 'ㅣㅣㅣㅣㅣㅣ': 14304, '글렀어': 14305, '뭐또': 14306, '링거꼽': 14307, '노환': 14308, '끝임': 14309, '슛팅': 14310, '시엔': 14311, '굥웅섭': 14312, '굥통령': 14313, '댁': 14314, '이타': 14315, '프로파간다': 14316, '간체': 14317, '현생': 14318, '비토': 14319, '덜려': 14320, '방관': 14321, '체결량': 14322, '비호': 14323, '유통물량': 14324, '현중': 14325, '난관': 14326, '발안': 14327, '주옥': 14328, '감때': 14329, '도로공사': 14330, '선녀': 14331, '사졌넹': 14332, '국가부도': 14333, '안삿': 14334, '기어이': 14335, '평화롭다': 14336, '제유': 14337, '기윤': 14338, '스톱': 14339, '글로': 14340, '락슈마': 14341, '나미': 14342, '장서': 14343, '벌때': 14344, '쌘': 14345, '개구리': 14346, '만삼': 14347, '뇸': 14348, '힌스': 14349, '쫄면': 14350, '일제강점기': 14351, '봉쥬르': 14352, '맘것': 14353, '면죄부': 14354, '면죄': 14355, '타의': 14356, '괌': 14357, '사이판': 14358, '증좌': 14359, '컨퍼': 14360, '눈썰미': 14361, '범주': 14362, '이머징마켓': 14363, '뎁스': 14364, '카테고리': 14365, '지칭': 14366, '호기롭': 14367, '무한대': 14368, '판치다': 14369, '장투할랜다': 14370, '배팅해': 14371, '빨린': 14372, '비화': 14373, '줌줌': 14374, '과표': 14375, '안변': 14376, '벌린': 14377, '매슈': 14378, '자본잠식': 14379, '업성': 14380, '윤창': 14381, '개월년': 14382, '정도전': 14383, '고만하다': 14384, '남아공': 14385, '비퍼': 14386, '족발': 14387, '편육': 14388, '행렬': 14389, '백악관': 14390, '당론': 14391, '이천원': 14392, '드갈': 14393, '한국전력': 14394, '도시가스': 14395, '서번': 14396, '함수': 14397, '김냉': 14398, '짱개': 14399, '모자': 14400, '알약': 14401, '안전벨트': 14402, '아곧': 14403, '용감하다': 14404, '유압': 14405, '난해': 14406, '비례': 14407, '자전거': 14408, '통정': 14409, '꼽음주': 14410, '길바': 14411, '대문': 14412, '럽습': 14413, '분명해지다': 14414, '인도차이나': 14415, '실성하다': 14416, '항사': 14417, '핫핫': 14418, '사하': 14419, '울음': 14420, '힘들엇눈데': 14421, 'ㅜㅜㅜㅜㅜㅜㅜㅜㅜㅜ': 14422, '무햐무햐': 14423, '엔간하다': 14424, '주저앉다': 14425, '리포터': 14426, '흐으': 14427, '은폐': 14428, '과장하다': 14429, '육싶스': 14430, '주리': 14431, '퐈리': 14432, '혈압': 14433, '양산도': 14434, '레보년': 14435, '직속': 14436, 'ㄱㅇㅎ': 14437, '움찔움찔': 14438, '움찔거리다': 14439, '캐즘탓': 14440, '고독': 14441, '과언': 14442, '합심': 14443, '재봉': 14444, '오일': 14445, 'ㅋㅋㄱㅋ': 14446, '흐앙': 14447, '목선': 14448, '엠큐': 14449, '실권': 14450, '순항': 14451, '살려줭': 14452, '밑단': 14453, '김부': 14454, '득남': 14455, '마음속': 14456, '시큐리티': 14457, '거역': 14458, '서나': 14459, '옛적': 14460, '부증': 14461, '막강': 14462, '바당락일': 14463, '낄낄대다': 14464, '겐': 14465, '과로': 14466, '처우': 14467, '술자리': 14468, '중내': 14469, '시뻘겋다': 14470, '전봇대': 14471, '널널': 14472, '힘드넹': 14473, 'ㅋㅅㅋ': 14474, '층일때': 14475, '감솨': 14476, '킵하': 14477, '허벅지': 14478, '하방경직성': 14479, '그렇케': 14480, '갘': 14481, '슬림폰': 14482, '경선': 14483, '상하이': 14484, 'ㅡㅡㅡㅡㅡㅡㅡㅡㅡㅡㅡㅡㅡㅡㅡㅡㅡㅡㅡㅡ': 14485, '휑': 14486, '외롭다': 14487, '배타': 14488, '게장': 14489, '숙성': 14490, '근삿값': 14491, '재삼': 14492, '소개팅': 14493, '세분': 14494, '식자': 14495, '컨텐츠': 14496, '쿠킹': 14497, '장보기': 14498, '대대손손': 14499, '녹지': 14500, '선봬': 14501, '째지다': 14502, '존버할': 14503, '어흐': 14504, '강주': 14505, '울산': 14506, '목공': 14507, '울화': 14508, '치밀다': 14509, '포도': 14510, '힘빠지다': 14511, '배우자': 14512, '걔넨': 14513, '또떡': 14514, '곽동신': 14515, '괞찮네': 14516, '주가펌핑': 14517, '부들부들': 14518, '주길레': 14519, '혼내다': 14520, '너프': 14521, '우적': 14522, '섭섭': 14523, '소나기': 14524, '우야꼬': 14525, '계심': 14526, '최부': 14527, '격하': 14528, '나쭤': 14529, '광명': 14530, '갈비탕': 14531, '그렷': 14532, '물탈때': 14533, '필슈': 14534, '읎': 14535, '이모': 14536, '알텡한테': 14537, '앤팀': 14538, '팬싸': 14539, '뭐꼬또': 14540, '예사': 14541, '불행하다': 14542, '사르': 14543, '손절눌리': 14544, '디즈니랜드': 14545, '때손': 14546, '발달': 14547, '뭐사': 14548, 'ㅋㅋㅡㅡ': 14549, '배탈': 14550, '서퍼': 14551, '기껏': 14552, '알뜰하다': 14553, '토닥토닥': 14554, '금리액티브': 14555, '특권': 14556, '방위각': 14557, '하슈': 14558, '했슴': 14559, '얍쌉하': 14560, '뿌러': 14561, '쭹궈': 14562, '야근': 14563, '소강': 14564, '성취': 14565, '설전': 14566, '저물다': 14567, '렿': 14568, '정곡': 14569, '붓물': 14570, '이정현': 14571, '믿는딘년': 14572, '권력자': 14573, '헛플루언서들': 14574, '오쪼': 14575, '우릴': 14576, '다관': 14577, '동맥': 14578, '사이토카인': 14579, '방출': 14580, '코로나바이러스': 14581, '감염증': 14582, '가난하다': 14583, '홍성': 14584, '중간층': 14585, 'ㅋㅋㅠㅠ': 14586, '꾀다': 14587, '때끼': 14588, '이왕가': 14589, '것돈': 14590, '잭슨': 14591, '테오': 14592, '접때': 14593, '소화도': 14594, '임앞': 14595, '산가지': 14596, '정도안': 14597, '스팸': 14598, '환울': 14599, '추어': 14600, '민국이': 14601, '허탈': 14602, '해탈': 14603, '경지': 14604, '개폭': 14605, '똥물': 14606, '이털리': 14607, '슬그머니': 14608, '썩렬이': 14609, '오겠슴': 14610, '로군': 14611, '더하기': 14612, '호재및': 14613, '에궁': 14614, '컨센': 14615, '용매': 14616, '보이스피싱': 14617, '제작비': 14618, '아타': 14619, '까운': 14620, '전진부대': 14621, '이호재': 14622, '앖다': 14623, '포코': 14624, '장투할빠': 14625, '베찌': 14626, '애프킬': 14627, '전멸': 14628, '왜안풀': 14629, '하나짐펜트': 14630, '파산하다': 14631, '미르': 14632, '띤놈': 14633, '투연': 14634, '이상주': 14635, '초석': 14636, '이상없다': 14637, '개봉': 14638, '박두': 14639, '싸쿄': 14640, '보삼': 14641, '아딘짜좋다': 14642, '햇노': 14643, '드갔으': 14644, '풀돌': 14645, '격렬하다': 14646, '어찌하여': 14647, '트집': 14648, '측은하다': 14649, '점처': 14650, '총괄': 14651, '동탄': 14652, '축구장': 14653, '용지': 14654, '면적': 14655, '백작': 14656, '푸하하하': 14657, '겹호': 14658, '컬렉션': 14659, '스냅': 14660, '왜사': 14661, '본다뇽': 14662, '가파르건': 14663, '팔로': 14664, '애혀': 14665, '변이체': 14666, '브리스톨': 14667, '어스': 14668, '스퀴브': 14669, '티그': 14670, '곰국': 14671, '우렸으': 14672, '스비놈': 14673, '개잡주': 14674, '짐퀸텀': 14675, '유통업체': 14676, '갤러리아': 14677, '강화도': 14678, '옮는다': 14679, '날줄': 14680, '컷팅후': 14681, '재눌림': 14682, '착잡하다': 14683, '발버퉁': 14684, '특가세일할때': 14685, '던저': 14686, '상고': 14687, '방통': 14688, '노스캐롤라이나주': 14689, '적색': 14690, '개요': 14691, '마포구': 14692, '플렉스': 14693, '콜로세움': 14694, '아프리카': 14695, '과즙': 14696, '납치': 14697, '발톱': 14698, '대물리다': 14699, '여물': 14700, '이마': 14701, '캣': 14702, '처가': 14703, '양산가': 14704, '가격결정': 14705, '완전경쟁': 14706, '공분산': 14707, '기대값': 14708, '가짐': 14709, '효용': 14710, '소비재': 14711, '윈드': 14712, '롱샹': 14713, '글섭': 14714, '프라이버시': 14715, '녹스': 14716, '종단': 14717, '라벨': 14718, '장연': 14719, '두운': 14720, '아집': 14721, '가처분': 14722, '라이프': 14723, '보건부': 14724, '님블': 14725, '뉴런': 14726, '판호': 14727, '라자스탄': 14728, '알츠하이머병': 14729, '레켐비': 14730, '처방': 14731, '콜라겐': 14732, 'ㅋㅋㅋㅋㅋㅋㅋㅋㅋㅋㅌ': 14733, '빅사': 14734, '태클': 14735, '징용': 14736, '라이브러리': 14737, '도의': 14738, '두뇌': 14739, '모유': 14740, '집입': 14741, '가쥬앙': 14742, '슈우웃': 14743, '종몬들': 14744, '월임': 14745, '디어': 14746, '텐센트': 14747, '엔터테인먼트': 14748, '위너': 14749, '허무': 14750, '가바': 14751, '뭐볼때': 14752, '메달': 14753, '은줄': 14754, '스캠회사': 14755, '년내': 14756, '스샷': 14757, '버릇': 14758, '닥치': 14759, '한가운데': 14760, '중세': 14761, '영주': 14762, '원우': 14763, '아쫌': 14764, '진쯔': 14765, '얏': 14766, '홀린': 14767, '진또': 14768, '최단': 14769, '시청': 14770, '자수': 14771, '꺄': 14772, '끼워죵': 14773, '프레스코': 14774, '책정': 14775, '헌혈': 14776, '눙물': 14777, '살랬는데': 14778, '후벼파다': 14779, '란놈': 14780, '수출량': 14781, '끓이다': 14782, '둥': 14783, '바이어': 14784, '무한궤도': 14785, '창고': 14786, '바잉': 14787, '오낰': 14788, '조쿠조쿠': 14789, '박람회': 14790, '스탬프드': 14791, '진양': 14792, '효소': 14793, '카탈': 14794, '락타': 14795, '스탑': 14796, '양적': 14797, '가공비': 14798, '감고': 14799, '님돈쩔드': 14800, 'ㅇㄷㄹ': 14801, '새빗켐': 14802, '유연성': 14803, '해봣자': 14804, '지이미': 14805, '늠짜형': 14806, '숱': 14807, '아스라하다': 14808, '안갯속': 14809, '뿌옇다': 14810, '뚝방': 14811, '논밭': 14812, '쾌지나칭칭나네': 14813, 'ㅡㅡㅡㅡㅡㅡㅡㅡㅡㅡㅡㅡㅡㅡ': 14814, '탕지븜': 14815, '인증샷': 14816, '손탓': 14817, '백프로': 14818, '꿇다': 14819, '햇음': 14820, '안목': 14821, '참신하다': 14822, '도읍': 14823, '선저': 14824, '항도': 14825, '분풀이': 14826, '구만원': 14827, '찌밤': 14828, '걘': 14829, '쌔지': 14830, '매라': 14831, '묵힌': 14832, '위도': 14833, '륩주': 14834, '미관': 14835, '나락딥딥': 14836, '기름값': 14837, '두둑': 14838, '종각': 14839, '팽이': 14840, '이삼천': 14841, '특정하다': 14842, '산자': 14843, '증진': 14844, '인더스트리얼': 14845, '못난이': 14846, '단념하다': 14847, '환갑': 14848, '해감': 14849, '최손': 14850, '딸내미': 14851, '원단': 14852, '허전하다': 14853, '후배': 14854, '가수': 14855, '노라조': 14856, '신명': 14857, '방정': 14858, '가렌': 14859, '중개인': 14860, '은시': 14861, '어쯔': 14862, '벨루': 14863, '아웃소싱': 14864, '순차': 14865, '전자상거래': 14866, '트림': 14867, '흥정': 14868, '소매업': 14869, '칸': 14870, '엄지': 14871, '좃': 14872, '절기': 14873, '회도': 14874, '회삿돈': 14875, '남용': 14876, '주환': 14877, '구자열': 14878, '꼬맹이': 14879, '모델링': 14880, '부쿠레슈티': 14881, '방사성': 14882, '월성': 14883, '중수로': 14884, '방사성폐기물': 14885, '수주로': 14886, '밖에도': 14887, '한영혜': 14888, '슈퍼세이브': 14889, '삼도': 14890, '채씨': 14891, '외양간': 14892, '희소식': 14893, '애니플러스': 14894, '사심': 14895, '럼프': 14896, '오를껀데': 14897, '알구': 14898, '바즈라': 14899, '내각': 14900, '경비': 14901, '노미네이트': 14902, '종합예술': 14903, '음향': 14904, '감명': 14905, '모티브': 14906, '깨문': 14907, '글자': 14908, '저레': 14909, '막무가내': 14910, '따따': 14911, '무플': 14912, '존경심': 14913, '버는데': 14914, '책상': 14915, '다이슨': 14916, '허지만': 14917, '안탈': 14918, '까꾸로': 14919, '삼중고': 14920, 'ㅔ': 14921, '다뺴': 14922, '해피엔딩': 14923, '입건': 14924, '전인대': 14925, '요팔': 14926, '송전': 14927, '줄리': 14928, '몬살것': 14929, '낯': 14930, '돌잡이': 14931, '발린': 14932, '죄명': 14933, '바나': 14934, '머선일': 14935, '있긔': 14936, '개핵': 14937, '입질': 14938, '새해인사': 14939, '삽겹살': 14940, '찌게': 14941, '뻥뚤리다': 14942, '호빵': 14943, '임글': 14944, '임윌요일': 14945, '퍼밑': 14946, '고삐': 14947, '상실': 14948, '송파구': 14949, '경상': 14950, '대산': 14951, '평탄': 14952, '제만': 14953, '겹처': 14954, '물려뿟다': 14955, '막막하다': 14956, '바사삭': 14957, '낼더': 14958, '오이오이': 14959, '스위칭': 14960, '나선': 14961, '대학교': 14962, '트레이너': 14963, '템플스테이': 14964, '귀중하다': 14965, '밤차': 14966, '가운': 14967, '합동': 14968, '성불': 14969, '라가': 14970, '연구윤리': 14971, '특화된': 14972, '분화': 14973, '혼합': 14974, '기후변화': 14975, '영세': 14976, '꼬붕': 14977, '천단': 14978, '하이고': 14979, '곪': 14980, '조화': 14981, '뜷리': 14982, '이도': 14983, '도못': 14984, 'ㅋㅋㅋㅋㅋㅋㅋㅋㅋㅋㅋㅋㅋㅋㅋㅋㅋ': 14985, '출주': 14986, '마함': 14987, '평선': 14988, '알맞다': 14989, '속마음': 14990, '구로': 14991, '무덤': 14992, '벌떡': 14993, '예토전생': 14994, '효심': 14995, '유교': 14996, '훤히': 14997, '보수파': 14998, '습습니': 14999, '구고': 15000, '피트니스': 15001, '호응': 15002, '본토': 15003, '번더': 15004, '가칭': 15005, '눔': 15006, '락걸렸': 15007, 'ㅋㅋㅋㅋㅋㅋㅋㅋㅋㅋㅋㅋㅋㅋㅋ': 15008, '떠가다': 15009, '가줄': 15010, '좋겠슴': 15011, '유학': 15012, '정해진': 15013, '씌': 15014, '치루제약': 15015, '곱절': 15016, '똥차': 15017, '폐차': 15018, '전인': 15019, '구성원': 15020, '미지수': 15021, '애드': 15022, '용수': 15023, '소홀하다': 15024, '에서라도': 15025, '다우': 15026, '데무빙': 15027, '용광로': 15028, '펌': 15029, '점복': 15030, '금악': 15031, '초초초호': 15032, '초악': 15033, '좋아쭈욱': 15034, '암벽': 15035, '바로미터': 15036, '피햇': 15037, '크림': 15038, '듯함': 15039, '것좀': 15040, '엇음': 15041, '삼숑': 15042, '해너': 15043, '시루': 15044, '있을껀뎅': 15045, '불참': 15046, '징존': 15047, '유입됫': 15048, '벌엇어': 15049, '무죄': 15050, '작별': 15051, '비비': 15052, '장주시': 15053, '냇물': 15054, '부산광역시': 15055, '에로': 15056, '상금': 15057, '쟈하하햐': 15058, '호효': 15059, '군번': 15060, '알바로': 15061, '퍼근데': 15062, '규어': 15063, '보스톤': 15064, '다이나믹스': 15065, '필아': 15066, '섹시하다': 15067, '양일': 15068, 'ㄱㅏ': 15069, '생굴': 15070, '끈': 15071, '뜨끈하다': 15072, '비틀리다': 15073, '우아': 15074, '스닥형': 15075, '진일': 15076, '육두문자': 15077, '어턴결과': 15078, '도거': 15079, '짜내다': 15080, '생가': 15081, '신비롭다': 15082, '순순하다': 15083, '투항': 15084, '차바': 15085, '쥐금': 15086, '앤숄더': 15087, '이용수': 15088, '탈것': 15089, '애리조나': 15090, '네이션': 15091, '스태': 15092, '킹스': 15093, '태킹': 15094, '파우치': 15095, '코엠': 15096, '베스': 15097, '코윈': 15098, '고성현': 15099, '간첩죄': 15100, '풍부': 15101, '페스': 15102, '패치': 15103, '몽상': 15104, '운수': 15105, '피셔': 15106, '너무도': 15107, '난뒤': 15108, '확증편향': 15109, '쥐똥': 15110, '용선': 15111, '슈스': 15112, '평당': 15113, '금융시장': 15114, '족하': 15115, '더러': 15116, '짝거려': 15117, '기븐': 15118, '글좀': 15119, '백전백승': 15120, '잘맞다': 15121, '다과': 15122, '버즈': 15123, '지리멸렬하다': 15124, '두드러기': 15125, '비적': 15126, '눈뜨다': 15127, '슈가': 15128, '쥐랠': 15129, '속수무책': 15130, '마렵네': 15131, '연어': 15132, '천안함': 15133, '국군': 15134, '바오': 15135, '투게더': 15136, '알랍': 15137, '웃돌': 15138, '엠트론': 15139, '페이저': 15140, '쫄딱': 15141, '파이다': 15142, '전성기': 15143, '로봇산업': 15144, '원천': 15145, '머또': 15146, 'ㅋㅋㅋㅋㅜㅜ': 15147, '럼프트님': 15148, '머티돈': 15149, '뉘우치다': 15150, '더역함': 15151, '불가항력': 15152, '정형식': 15153, '쫄기': 15154, '이데일리': 15155, '딘슥': 15156, 'ㄴㄷㅅㄷ': 15157, 'ㅅㄱㄷㅅ': 15158, '곰방': 15159, '일임': 15160, '블록버스터': 15161, '원혼': 15162, '잡아내다': 15163, '꼬레아': 15164, '꿀팁': 15165, '초보자': 15166, '리즘': 15167, '경전': 15168, '여간': 15169, '게시판글': 15170, '패마': 15171, '포크': 15172, '신자': 15173, '공개처형': 15174, '멤버십': 15175, '깽깽': 15176, '비로소': 15177, '프로그램매매': 15178, '허파': 15179, '뒤집어지다': 15180, '개렌': 15181, '삿느데': 15182, '프로브': 15183, '박해': 15184, '츄': 15185, '알파벳': 15186, '티모': 15187, '바일': 15188, '번거롭다': 15189, '인컴': 15190, '정보화': 15191, '어려웡': 15192, '자명하다': 15193, '퀄리티': 15194, '상업성': 15195, '명백하다': 15196, '임김': 15197, '뽑기': 15198, '기성세대': 15199, '불모': 15200, '스티브': 15201, '이성도': 15202, '돈임': 15203, '빼팅합시다쫄리': 15204, '남겨지다': 15205, '위맥': 15206, '쩨': 15207, '힘믈': 15208, '익수': 15209, '중월': 15210, '징글벨': 15211, '세탁기': 15212, '곸': 15213, '타파': 15214, '고윤': 15215, '분통': 15216, '대지': 15217, '뜷기': 15218, '고씨': 15219, '징해': 15220, '수익모델': 15221, '대인': 15222, '약오르다': 15223, '응급': 15224, '원픽': 15225, '가챠': 15226, '사냥터': 15227, '몹': 15228, '콩나물': 15229, '올랏구': 15230, '윤지': 15231, '지자': 15232, '괴범': 15233, '나락갔음': 15234, '목판': 15235, '햘일': 15236, '들쑥날쑥': 15237, '우씨': 15238, '추매간드': 15239, '다시키': 15240, '바토': 15241, '맙': 15242, '갑상선': 15243, '병상': 15244, '염증': 15245, '다발': 15246, '차업': 15247, '내연': 15248, '주유소': 15249, '유업': 15250, '보심': 15251, '이지나': 15252, '식대': 15253, '빗투저': 15254, '어장': 15255, '향연': 15256, '구정': 15257, '파로': 15258, '상도': 15259, '차좃': 15260, '무쟈': 15261, '붇': 15262, '짜져': 15263, '켘': 15264, '윤똘': 15265, '정운': 15266, '해사': 15267, '뎃': 15268, '어머': 15269, '바인': 15270, '치켜세우다': 15271, '롯': 15272, '야박하다': 15273, '상표권': 15274, '톨파': 15275, 'ㅎㅋㅋㅋㅋㅋㅋㅋ': 15276, '힝공': 15277, '그랗': 15278, '개쓰레': 15279, '틴핵': 15280, '삼상': 15281, '스트래스': 15282, '켁': 15283, '부화': 15284, '신파': 15285, '노무현정부': 15286, '생시': 15287, '참관': 15288, '경직': 15289, '비인간': 15290, '으로서는': 15291, '재탕하다': 15292, '사후': 15293, '해하': 15294, '매스컴': 15295, '분오': 15296, '홀딩해': 15297, '반타작': 15298, '율위': 15299, '가치관': 15300, '묵도': 15301, '감정이입': 15302, '송출': 15303, '곰팡이': 15304, '번일': 15305, '개통': 15306, '다가는': 15307, '턴듯': 15308, '핵산': 15309, '콜레스테롤': 15310, '하제': 15311, '지장보살': 15312, '슴쪽': 15313, '지모': 15314, '쐐기': 15315, '정호윤': 15316, '전기자동차': 15317, '인포': 15318, '메이': 15319, '모니터': 15320, '스피커': 15321, '하만카돈': 15322, '차체': 15323, '지자체': 15324, '페오엑': 15325, '불편': 15326, '티익스프레스': 15327, '송': 15328, '소속사': 15329, '보네아': 15330, '속임수': 15331, '늪': 15332, '젊은이': 15333, '주먹구구': 15334, '악재속': 15335, '조세': 15336, '로익': 15337, '월년': 15338, '손절칠': 15339, '토박이': 15340, '동면': 15341, '암모니아': 15342, '뻘건색': 15343, '지드래곤': 15344, '포장': 15345, '상속세': 15346, '기후': 15347, '녹색': 15348, '대대': 15349, '은거': 15350, '제하': 15351, '량주': 15352, '공비': 15353, '싸하다': 15354, '멈칫': 15355, '시더': 15356, '키노트': 15357, '코호': 15358, '톱질': 15359, '고연': 15360, '서원': 15361, '와봤슴': 15362, '비챠멤': 15363, '남양': 15364, 'ㅋㅋㅋㅋㅋㅋㅋㅋㅋㅋㅋㅋㅋㅌㅋㅌ': 15365, '우선권': 15366, '죽장': 15367, '광산구': 15368, '자금난': 15369, '초코송이': 15370, '퍼넘는': 15371, '굿임': 15372, 'ㅠㅜㅜ': 15373, '진가': 15374, '크으': 15375, '곳말': 15376, '어정쩡하다': 15377, 'ㅎㅇㅌ': 15378, 'ㅅㅅㅅㅅㅅㅅㅅㅅㅅㅅ': 15379, '길밖': 15380, '관상': 15381, '킥스비율': 15382, '알아듣다': 15383, '롸': 15384, '벽두': 15385, '그르': 15386, '콘트리트': 15387, '순직': 15388, '비통하다': 15389, 'ㅌ': 15390, '익숙': 15391, '버는거임': 15392, '정치사': 15393, '찌푸리다': 15394, '핑크색': 15395, '횡보중': 15396, '컨데': 15397, '과반수': 15398, '짬짜면': 15399, '후라이드': 15400, '양념': 15401, '팡': 15402, '황교안': 15403, '통관': 15404, '압수수색': 15405, '노태악': 15406, '헌법재판관': 15407, '천중': 15408, '뭣같': 15409, '럼프말': 15410, '화상': 15411, '덕화': 15412, '복잡': 15413, '꿈찍': 15414, '선체': 15415, '껄쩍대': 15416, '태세': 15417, '크크': 15418, '지긍': 15419, '암거': 15420, '사령': 15421, '보호무역': 15422, '일원화': 15423, '점접날': 15424, '파바박': 15425, '으어': 15426, '간발': 15427, '뽀디': 15428, '청주국제공항': 15429, '미공군': 15430, '주둔': 15431, '전대통령': 15432, '교통부': 15433, '족처': 15434, '대햐': 15435, '화욜': 15436, '삼정': 15437, '차좀': 15438, '시방': 15439, '빙그레': 15440, '감사용': 15441, '상자': 15442, '흥미진진': 15443, '호랑': 15444, '페닉셀': 15445, '거제도': 15446, '외놈때매': 15447, '엄금': 15448, 'ㅂㅕㅇ': 15449, '짐승': 15450, '하직': 15451, '유감': 15452, '자칫하면': 15453, '허우적거리다': 15454, '조종': 15455, '빠꾸': 15456, '황송': 15457, '오픈월드': 15458, '어드벤처': 15459, '연년': 15460, '가겠슴다': 15461, '기왕': 15462, '은행권': 15463, '무족': 15464, '아리송하다': 15465, '닉없': 15466, '중어': 15467, '건임': 15468, '어쩜좋': 15469, '나마스떼': 15470, '등산': 15471, '개열': 15472, '천차만별': 15473, '있어펩': 15474, '산뜻하다': 15475, '갓난아이': 15476, '나라정보': 15477, '가끔가다': 15478, '자그맣다': 15479, '땡벌': 15480, '밑보': 15481, '송년': 15482, '준매': 15483, '파견': 15484, '티빙': 15485, '에잉': 15486, '에이치엘비': 15487, '인종': 15488, '별문제': 15489, '괴랄': 15490, '장정': 15491, '차차': 15492, '붕떠': 15493, '백배': 15494, '호날두': 15495, '농구': 15496, '조던': 15497, '야구': 15498, '출중하다': 15499, '수금': 15500, '만족스럽다': 15501, '오버클럭': 15502, '주식매수청구권': 15503, '가스터빈': 15504, '거일': 15505, '침묵': 15506, '수석': 15507, '하원의원': 15508, '에릭': 15509, '스왈웰': 15510, '호세': 15511, '페르': 15512, '로나': 15513, '낼또': 15514, '사돈': 15515, '촌': 15516, '몸뚱이': 15517, '런할까': 15518, '크리스': 15519, '안바': 15520, '만금': 15521, '은유': 15522, '래그': 15523, '몽실': 15524, '어재': 15525, '허망': 15526, '염언히': 15527, '주머니': 15528, '활개': 15529, '구가': 15530, '명과': 15531, '박현': 15532, '박승균': 15533, '유동근': 15534, '팽경현': 15535, '이정인': 15536, '가즈야': 15537, '읺을까': 15538, '중환자실': 15539, '눕다': 15540, '뭐함': 15541, '킵': 15542, '어닝서프': 15543, '층수': 15544, '손아귀': 15545, '띵가띵': 15546, '동북아': 15547, '부숴': 15548, '다단계': 15549, '꼬시': 15550, '응대': 15551, '네비게이션': 15552, '버크셔': 15553, '헤': 15554, '낙뎀': 15555, '마일리지': 15556, '정전기': 15557, '노래방': 15558, '장세': 15559, '반의': 15560, '씻다': 15561, '눌렸기': 15562, '화인': 15563, '세럭': 15564, '도박중독': 15565, '약주': 15566, '드갈까': 15567, '본성': 15568, '겜판': 15569, '헤까닥': 15570, '마스크': 15571, '잔득': 15572, '직하다': 15573, '경찰특공대': 15574, '병력': 15575, '콘': 15576, '차출': 15577, '세계대전': 15578, '미키': 15579, '구자': 15580, '사다리': 15581, '읖어': 15582, '직격탄': 15583, '워치': 15584, '신경과학': 15585, '주최': 15586, '협회': 15587, '과학기술': 15588, '뷰노': 15589, '딥로': 15590, '쿠나': 15591, '유니슨': 15592, '고원': 15593, '기민': 15594, '감주': 15595, '익절못': 15596, '오로라': 15597, '아잉': 15598, '베이스볼': 15599, '드림파크': 15600, '시보': 15601, '데헷': 15602, '서진아': 15603, '하녀': 15604, '차보': 15605, '도야': 15606, '월등하다': 15607, '숏쟁': 15608, '그렁': 15609, '헛날': 15610, '중굥': 15611, '정렬': 15612, '순서': 15613, '반품': 15614, '까다롭다': 15615, '생수': 15616, '팬덤': 15617, '파트': 15618, '살렷데': 15619, '횬': 15620, '굴착기': 15621, '갖': 15622, 'ㄳ': 15623, '사중': 15624, '시간대': 15625, '치졸하다': 15626, '크레딧': 15627, '켐트': 15628, '난방': 15629, '입시': 15630, '영향휴켐스': 15631, '아산화질소': 15632, '벌었겄다': 15633, '상품권': 15634, '게엄령': 15635, '자멸': 15636, '요란하다': 15637, '니미': 15638, '왈칵': 15639, '꽃히': 15640, '쿡쿡': 15641, '아려': 15642, '캡쳐': 15643, '숏배팅': 15644, '비꼬기': 15645, '화염방사기': 15646, '팍시': 15647, '주얼': 15648, '그릴': 15649, '희미하다': 15650, '눈내': 15651, '속삭이다': 15652, '입술': 15653, '난너': 15654, '가만두다': 15655, '사이버펑크': 15656, '신물': 15657, '물놀이': 15658, '혼탁': 15659, '텐데어느': 15660, '꽉쥐': 15661, '고맙슴돠': 15662, '싱스': 15663, '돌연변이': 15664, '중요시': 15665, '스멀스멀': 15666, '룔': 15667, '근까': 15668, '용용': 15669, '처넣엇냐': 15670, '함보': 15671, '정예': 15672, '장지수': 15673, '인법': 15674, '불합리': 15675, '대황': 15676, '인버스숏': 15677, '서기': 15678, '후성': 15679, '구구구구': 15680, '양좀': 15681, '빠수니': 15682, '절묘하다': 15683, '용융': 15684, '탁금': 15685, '융자': 15686, '십원': 15687, '윤통가결': 15688, '분초': 15689, '오리엔트': 15690, '정공': 15691, '원효': 15692, '성오': 15693, '루닛퓨런': 15694, '웡': 15695, '알리오': 15696, '리오': 15697, '만들엇은데': 15698, '맹맛': 15699, '맛맛': 15700, '양조': 15701, '폐일': 15702, 'ㅆㄴ': 15703, '스닥이': 15704, '읎드다': 15705, '나물': 15706, 'ㅜㅠㅠㅠ': 15707, '금사면': 15708, '라피더스': 15709, '방덕': 15710, '판걸': 15711, '말궁': 15712, '괴뢰': 15713, '빼앗기다': 15714, '흡족하다': 15715, '신학': 15716, '양식': 15717, '정교': 15718, '축하파티': 15719, '서불': 15720, '볼륨': 15721, '량거래량': 15722, '유성': 15723, '엔걸핑': 15724, '호일': 15725, '빠밤빰딱': 15726, '횽림들': 15727, '병들다': 15728, '탠': 15729, '렬': 15730, '적막하다': 15731, '정단': 15732, '레드': 15733, '읍소': 15734, '임정': 15735, '서프뜨': 15736, '공기업': 15737, '꼬추': 15738, '가루': 15739, '후두': 15740, '내포': 15741, '잠식': 15742, '뿐떡': 15743, '회계기준': 15744, '코소': 15745, '곤장': 15746, '쫄았는데': 15747, '네버셀': 15748, '흑백': 15749, '화략': 15750, '활활': 15751, '커브': 15752, '드콜': 15753, '대오': 15754, '살란': 15755, '핫팅': 15756, '특임대사': 15757, '리처드': 15758, '그레넬': 15759, '앞당겨지다': 15760, '저출산': 15761, '쪽쪽': 15762, '해자': 15763, '단햐널': 15764, '주루룩': 15765, '나와랏': 15766, '존심': 15767, '횡보할듯': 15768, '꼭지점': 15769, '펜트하우스': 15770, '도시락': 15771, '듀랑': 15772, '아라드': 15773, '데님': 15774, '뉴진즈': 15775, '르트': 15776, '캅탄': 15777, '체현': 15778, '권텀': 15779, '프로토타입': 15780, '핸다': 15781, '모시': 15782, 'ㄷㄱ': 15783, '좇는': 15784, '귀감': 15785, '엄연하다': 15786, '호불호': 15787, '점주': 15788, '갑질': 15789, '늑대': 15790, '골짜기': 15791, '봉우리': 15792, '사츠키': 15793, '깃카임': 15794, '더비': 15795, '룸메이트': 15796, '이국': 15797, '왕녀': 15798, '곽정현': 15799, '손녀': 15800, '겸직': 15801, '상근직': 15802, '홍길동': 15803, '축지법': 15804, '소유자': 15805, '인조': 15806, '아크': 15807, '블랙마켓': 15808, '평정': 15809, '재민': 15810, '네이버웹툰': 15811, '어익후': 15812, '지프': 15813, '렌': 15814, '프차': 15815, '라는데': 15816, '야큰': 15817, '쪼메': 15818, 'ㅈㄴㄱ': 15819, '십구만': 15820, '어안': 15821, '윤핑핑': 15822, '불의': 15823, '헤이헤이': 15824, '장파': 15825, '마더': 15826, '시운전': 15827, '구글어스': 15828, '공통': 15829, '간결하다': 15830, '촌스럽다': 15831, '한국어': 15832, '시리다': 15833, '즌': 15834, '에쿠': 15835, '애원': 15836, '크래프톤갓': 15837, '엔켐단타쳐': 15838, '빵때림': 15839, '깨달음': 15840, '사이코': 15841, '시공사': 15842, '간담': 15843, '꼬임': 15844, '오늘아침': 15845, 'ㄲㅃㅇ': 15846, '한낱': 15847, '빛깔': 15848, '운세': 15849, '원버스': 15850, '쑥스럽다': 15851, '개끼': 15852, '어그러지다': 15853, '팁스터': 15854, '아이스': 15855, '유니버스': 15856, '슈피겐': 15857, '살껍': 15858, '국룰임': 15859, '했슴다': 15860, '길거니': 15861, '어닝플': 15862, '가형': 15863, '다면': 15864, '어떨': 15865, '노화': 15866, '꼭꼭': 15867, '가두': 15868, '우하하': 15869, '머리카락': 15870, '빡빡': 15871, '슴부처핸': 15872, '최호': 15873, '나답': 15874, 'ㅋㅋㅋㅋㅋㅋㅋㅋㅋㅋㅋㅋㅋㅋㅋㅋㅋㅋㅋㅋㅋㅋㅋㅋㅋㅋㅋㅋㅋㅋ': 15875, '햇내': 15876, 'ㅌㅎ': 15877, '실발후': 15878, '떳어': 15879, '핸드': 15880, '박순혁': 15881, '황주': 15882, '돈벌이': 15883, '마니버세': 15884, '껌': 15885, '그리스': 15886, '베네수엘라': 15887, '키키': 15888, '플라톤': 15889, '소크라테스': 15890, '중우정치': 15891, '섭': 15892, '어지': 15893, '드갈라': 15894, '미쳣다': 15895, '점일': 15896, '좋은딩': 15897, '작물': 15898, '탈껄': 15899, '아랫쪽': 15900, '농담': 15901, '꼬락서니': 15902, '개생쇼': 15903, '줏어줏어': 15904, '줏하': 15905, '니넨': 15906, '어줏어줏': 15907, '빛진': 15908, '별풍': 15909, '유기': 15910, '핸님들': 15911, '메꿀때': 15912, '미국법': 15913, '출고': 15914, '두프': 15915, '퇴진': 15916, '주춤주춤': 15917, '파죽지세': 15918, '체질개선': 15919, '구비': 15920, '기뿌': 15921, '올런': 15922, '영점': 15923, '왤케맘에들': 15924, '가물다': 15925, '씌리': 15926, 'ㅠㅋㅋㅋㅋ': 15927, '까마귀': 15928, '암수': 15929, '접수': 15930, '도지사': 15931, '상준': 15932, '모으렵니': 15933, '투입량': 15934, '자자하다': 15935, '필연': 15936, '코난테크놀로지': 15937, '솔트룩스': 15938, '브리지': 15939, '카리스마': 15940, '또사': 15941, '긔': 15942, '자기야': 15943, '잡혀가다': 15944, '클스마스전': 15945, '즉석요리': 15946, '동동': 15947, '잠드소': 15948, '엔메틸': 15949, '롤리': 15950, '나사': 15951, '왁싱': 15952, '라차': 15953, '키위': 15954, '다람쥐': 15955, '다이아': 15956, '모에모에': 15957, '횡보할끼': 15958, '떡락이누': 15959, '안떳': 15960, '뿌실거라능거': 15961, '만평': 15962, '부산시': 15963, '알탱': 15964, '뻘겋': 15965, '뻘겋게알탱': 15966, '출근길': 15967, '떡락빔': 15968, 'ㅅㅂㄹ': 15969, '즙': 15970, '선선': 15971, 'ㅎㅎㅎㅎㅎㅎㅎㅎㅎㅎㅎㅎ': 15972, '피값': 15973, '꼬꼬': 15974, '니사': 15975, '음지': 15976, '식후': 15977, '개럼': 15978, '부둥키다': 15979, '슝': 15980, '승해주': 15981, '뭉치다': 15982, '헤숄': 15983, '투스뉴': 15984, '퍼내다': 15985, '횡사': 15986, '히죽': 15987, '엄벌': 15988, '파격': 15989, '상대방': 15990, '지혜롭': 15991, '곰곰하다': 15992, '특집': 15993, '천가면': 15994, '자장면': 15995, '덜컥': 15996, '은총': 15997, '당무': 15998, '트황': 15999, '버랴야하': 16000, '깜박': 16001, '심증': 16002, '물증': 16003, '대속': 16004, '밎': 16005, '고영상': 16006, '편집': 16007, '추접': 16008, '낙후': 16009, '부흥': 16010, '햐너': 16011, '인마': 16012, '팔만원': 16013, '점화': 16014, '가뭄': 16015, '마제': 16016, '바알': 16017, '걸슈드': 16018, '쬬': 16019, '캐피털': 16020, '기가와트시': 16021, 'ㅜㅡ': 16022, '한에쨩': 16023, '수갑': 16024, '개포': 16025, '리용': 16026, '굴지': 16027, '쪼끔씩': 16028, '퍼일때': 16029, '와장창': 16030, '만호': 16031, '나왓는데': 16032, '중궈꺼': 16033, '장특': 16034, '찡찡대다': 16035, '유능하다': 16036, '아무나': 16037, '달아오르다': 16038, '표심': 16039, '부적절하다': 16040, '진정서': 16041, '둘이서': 16042, '치루네': 16043, '사원': 16044, '넣르': 16045, '쌍용': 16046, '갈이': 16047, '액티언': 16048, '게이지': 16049, '둔갑': 16050, '뿌엥거리': 16051, '계서': 16052, '직무': 16053, '후광': 16054, '엄천': 16055, '짜장': 16056, '제조법': 16057, '화학식': 16058, '선전': 16059, '라이센스': 16060, '크립': 16061, '어태': 16062, '개한민국': 16063, '어쨌던간': 16064, '안횡보': 16065, '제임스': 16066, '앨런': 16067, '하닌까': 16068, '빅바': 16069, '실낱': 16070, '빠이': 16071, '올겡': 16072, '여자친구': 16073, '락일좀': 16074, '근로': 16075, '증여세': 16076, '결른': 16077, '유근': 16078, '유아': 16079, '젬백스': 16080, '반죽': 16081, '노물': 16082, '응모': 16083, '파마슈티컬스': 16084, '불응': 16085, '림프종': 16086, '면접': 16087, '보초': 16088, '쫄지': 16089, '해전': 16090, '겨빠': 16091, 'ㅅㅅㅅㅅㅅㅅ': 16092, '교': 16093, '몲빵횽': 16094, '진진': 16095, '기울다': 16096, '때슬때': 16097, '윤개새': 16098, '처서': 16099, '전권': 16100, '퐝': 16101, '엘비엠': 16102, '믹싱': 16103, '오븐': 16104, '계량': 16105, '골격계': 16106, '무자비하다': 16107, '전략슈드': 16108, '커버드콜슈드': 16109, '유서': 16110, '모내기': 16111, '뭘좀': 16112, '당호': 16113, '베테': 16114, '독박': 16115, '제닉스': 16116, '슴승': 16117, '빚각': 16118, '빠졋을까': 16119, '일일일분': 16120, '겨울잠': 16121, '코낼': 16122, 'ㄱㅈㅇㄱㅈㅇ': 16123, '유기발광다이오드': 16124, '년존버': 16125, '취미': 16126, '인버': 16127, '듯타': 16128, '알콜중독자': 16129, '볼걸': 16130, '콘덴서': 16131, '한신': 16132, '객단': 16133, '닳다': 16134, '빠빠': 16135, '어쩌누': 16136, '야유': 16137, '솔향': 16138, '습니다': 16139, '특사': 16140, '개빡센': 16141, '박지원': 16142, '승관': 16143, '븨내': 16144, '약골': 16145, '불개미': 16146, '스마': 16147, '않을꺄튼': 16148, '마무': 16149, '둘째딸': 16150, '싱가폴': 16151, '미실': 16152, '보트': 16153, '공행': 16154, '쿨터': 16155, '던진': 16156, '담굼': 16157, '나단': 16158, '문지방': 16159, '증세': 16160, '추풍낙엽': 16161, '하랬더': 16162, '있냐엨읔읔엨': 16163, '못혀': 16164, '준가': 16165, '조삼모사': 16166, '질결': 16167, '현식': 16168, '옵티': 16169, '럭키': 16170, '비키다': 16171, 'ㅊㅋㅊㅋ': 16172, '다음가다': 16173, '차칸': 16174, '특례': 16175, '입학': 16176, '의대': 16177, '국가보안법': 16178, '교실': 16179, '전남도청': 16180, '기본소득제': 16181, '일반인': 16182, '있을껄': 16183, '몽말': 16184, '일후': 16185, '경매': 16186, '분담': 16187, '시리': 16188, '트린후': 16189, '스무살': 16190, '복사기': 16191, '식중독': 16192, '바하': 16193, '말실수': 16194, '평범하다': 16195, 'ㅋㅋㅜㅜ': 16196, '악조건': 16197, '할딱이다': 16198, '장벽': 16199, '승용차': 16200, '역학': 16201, '출품': 16202, '하도급': 16203, '당분': 16204, '갈모': 16205, '십오분': 16206, '이상기': 16207, '다린': 16208, '틴핵감': 16209, '불합격': 16210, '빳빳': 16211, '랬제': 16212, '잔존': 16213, '가내': 16214, '고보장': 16215, '칵': 16216, '대항도': 16217, '가렴': 16218, '샌드위치': 16219, '맹글었어': 16220, '퍼때': 16221, '성숙': 16222, '리케티': 16223, '비격': 16224, '서비스업': 16225, '졸트': 16226, '구인': 16227, '구직': 16228, '미시간': 16229, '연매출': 16230, '뒤지겄다': 16231, '개인물량': 16232, '이버지': 16233, '워터파크': 16234, '워싱턴포스트': 16235, '걷히다': 16236, '이졔': 16237, '롯바': 16238, '불씨': 16239, '속결': 16240, '치열': 16241, '공개매수': 16242, '썪': 16243, '여편네': 16244, '연예인': 16245, 'ㅈㄱ': 16246, '절얼릉': 16247, '누칼협': 16248, '구조이': 16249, '파버나': 16250, '사귀다': 16251, '극구': 16252, '해방': 16253, '이단옆차기': 16254, '갈라고': 16255, '캐나다인': 16256, '오랜만': 16257, '원지': 16258, '징허다잉': 16259, '줘팰지': 16260, '구진회': 16261, '망년': 16262, '사향': 16263, 'ㅅㅏ': 16264, '여론몰이': 16265, '스택': 16266, '방열': 16267, '에주을껄': 16268, '차라': 16269, '보다야': 16270, '옅다': 16271, '챨스': 16272, '수박': 16273, '쑝': 16274, '옥탑': 16275, '주륵주륵': 16276, '주황': 16277, '진배': 16278, '분분': 16279, '미파': 16280, '앤지': 16281, '도무지': 16282, '성공사례': 16283, '유매': 16284, '수일': 16285, '하나마이크론': 16286, '무참': 16287, '화만': 16288, '용총': 16289, '봣어잘': 16290, '롤로': 16291, '거또': 16292, '쳐박는겅': 16293, '헐랭': 16294, '하사': 16295, '해경': 16296, '엄써': 16297, '앞섯': 16298, '쥰내웃겨': 16299, '피신': 16300, '기질': 16301, '탈주': 16302, '건중': 16303, '시각장애': 16304, '악성종양': 16305, '골격': 16306, '일년': 16307, '죵': 16308, '암암리': 16309, '온도': 16310, '해뜰': 16311, '야차': 16312, '박정연': 16313, '글씨': 16314, '게티': 16315, '와타나베': 16316, '재료과학': 16317, '특수하다': 16318, '삽입': 16319, '도핑': 16320, '계면': 16321, '부도체': 16322, '육방정계': 16323, '질화붕소': 16324, '노출하다': 16325, '전압': 16326, '전출': 16327, '자릿수': 16328, '장현': 16329, '시기하다': 16330, '락스': 16331, '앤트로픽': 16332, '가우디': 16333, '스케일링': 16334, '적덩': 16335, '고고싱': 16336, '가좡': 16337, '힘빨': 16338, '불가피': 16339, '씨말': 16340, '한다인': 16341, '조천억': 16342, '던지기': 16343, '뿌수': 16344, '메스': 16345, '서너': 16346, '마갈': 16347, '쑥쑥': 16348, '상패': 16349, '어워드': 16350, '망향': 16351, '예정작': 16352, '찿을': 16353, '윤썩열': 16354, '총독부': 16355, '상당수': 16356, '수나': 16357, '베이커리': 16358, '제빵': 16359, '왕성': 16360, '젖': 16361, '칭얼대다': 16362, '적히다': 16363, '익항': 16364, '골고루': 16365, '호소': 16366, '히힛': 16367, '윈도우': 16368, '드레싱': 16369, '오디오': 16370, '소니': 16371, '콘셉트': 16372, '장거리': 16373, '전자제품': 16374, '반지': 16375, '러블': 16376, '도시화': 16377, '읍노': 16378, '효우': 16379, '슈주': 16380, '최대성': 16381, '취합': 16382, '정병': 16383, '몆천': 16384, '아뇨': 16385, '호감': 16386, '렷규': 16387, '박쌤': 16388, '나갈랭': 16389, '쉘': 16390, '존버갑시': 16391, '엑시노스': 16392, '생동감': 16393, '금속': 16394, '고급스럽다': 16395, '어쩌실건가': 16396, '상일': 16397, '급체': 16398, '겟': 16399, '악플러': 16400, '광신도': 16401, '남아도': 16402, '리버티': 16403, '크로스플랫폼': 16404, '원작': 16405, '안대': 16406, '은사': 16407, '우디': 16408, '아랍': 16409, '카타르': 16410, '바레인': 16411, '걸프': 16412, '표준화': 16413, '급속': 16414, '존버중': 16415, '초컷': 16416, '한고비': 16417, '훈훈': 16418, '베풀다': 16419, '뺐드': 16420, '여니': 16421, '솟구치다': 16422, '전함': 16423, '비우다': 16424, '왜그랴': 16425, '모럴헤저드': 16426, '깜빵': 16427, '콩밥': 16428, '달반': 16429, '시진핑': 16430, '질투': 16431, '실무': 16432, '공공기관': 16433, '룰것': 16434, '모빌': 16435, '고라': 16436, '리오르': 16437, '마프': 16438, '죽겐': 16439, '밀면': 16440, '간당간당': 16441, '화석연료': 16442, '남은': 16443, '무사이': 16444, '저격': 16445, '개쩌': 16446, '격리': 16447, '간걸': 16448, '자치권': 16449, '섬': 16450, '보노': 16451, '도륙': 16452, '징혀': 16453, '고재': 16454, '유로': 16455, '몽땅': 16456, '종원': 16457, '보배': 16458, '반점': 16459, '입좀': 16460, '살점': 16461, '대인배': 16462, '목포공항': 16463, '참극': 16464, '부메랑': 16465, '천리': 16466, '앰': 16467, '폭스': 16468, '음주주': 16469, '닮음': 16470, '원함': 16471, '함대': 16472, '급유': 16473, '다각도로': 16474, '시장조사': 16475, '모도': 16476, '보급': 16477, '사령부': 16478, '안정국': 16479, '자강': 16480, '두천': 16481, '대남': 16482, '나얼': 16483, '너란': 16484, '늠하잔': 16485, '절체절명': 16486, '쓰루풋': 16487, '명때매': 16488, '상원': 16489, '폐시': 16490, '껀수물었': 16491, '퍼시픽': 16492, '생물다양성': 16493, '날아오다': 16494, '뻘글': 16495, '윤희': 16496, '망국': 16497, '도막': 16498, '오백원': 16499, '프랜차이즈': 16500, '너비': 16501, '코스프레': 16502, '띠워': 16503, '신형': 16504, '신채호': 16505, '정조대왕': 16506, '복합': 16507, '마스트': 16508, '발사체': 16509, '소나': 16510, '대잠전': 16511, '겸비': 16512, '남아프리카공화국': 16513, '실스크익절': 16514, '점때': 16515, '대두': 16516, '버실': 16517, '됫다': 16518, '산만': 16519, '전경련': 16520, '트리오': 16521, '해조': 16522, '아누': 16523, '수근': 16524, '막대기': 16525, '가즈으': 16526, 'ㅏㅏㅏㅡㅏ': 16527, '로얄': 16528, '캄캄하다': 16529, '췌장암': 16530, '신청서': 16531, '이골': 16532, '왘': 16533, '소진하': 16534, '멀엇으니층': 16535, '글로버': 16536, '일읍': 16537, '중소기업청': 16538, '국립보건원': 16539, '농부': 16540, '교육부': 16541, '학자금': 16542, '보건복지부': 16543, '지방정부': 16544, '재정난': 16545, '직면': 16546, '위키': 16547, '중개사': 16548, '병목현상': 16549, '라우팅': 16550, '윤거니': 16551, '고기잡이배': 16552, '구함': 16553, '쉣기': 16554, '재도입': 16555, '런처': 16556, '호환성': 16557, '바로바로': 16558, '기술자': 16559, '넣어쥬세': 16560, '라니깐': 16561, '버는것': 16562, '이른바': 16563, '정무': 16564, '잠기': 16565, '투자할빠': 16566, '레저': 16567, 'ㅎㄷ': 16568, '직잡': 16569, '오락가락': 16570, '어트케': 16571, '셀제': 16572, '역리': 16573, '노동시장': 16574, '갈애': 16575, '충만': 16576, '도리어': 16577, '사냥꾼': 16578, '녈': 16579, '매질': 16580, '유린': 16581, '초콤': 16582, '포콤': 16583, '아조': 16584, '알곡': 16585, '진기': 16586, '측소': 16587, '상반': 16588, '앖어': 16589, '풀밭': 16590, '시법': 16591, '치환': 16592, '웃쟈': 16593, '몹쓸': 16594, '만신창이': 16595, '봉사자': 16596, '깨작깨작': 16597, '고려대': 16598, '매그': 16599, '엑소더스': 16600, '괸련없다': 16601, '한국사': 16602, '공황': 16603, '떤다': 16604, '엮여있': 16605, '욱해': 16606, '콱마': 16607, '만억': 16608, '젝슨': 16609, '빅컷': 16610, '내비': 16611, '이일': 16612, '우야몬': 16613, '예언가': 16614, '조울증': 16615, '라곤': 16616, '등대': 16617, '블루아': 16618, '남원': 16619, '찌산쿄': 16620, '노름': 16621, '파민': 16622, '흐려지다': 16623, '됫는데': 16624, '포디물': 16625, '진빠': 16626, '이방면': 16627, 'ㅃ': 16628, '치찍': 16629, '젔다': 16630, '보료': 16631, '쿨러': 16632, '코미디': 16633, '솓': 16634, '구치': 16635, '어란': 16636, '군침': 16637, '서학': 16638, '븅신들': 16639, '나가노': 16640, '오침': 16641, '슈바': 16642, '중형차': 16643, '나불': 16644, '거령': 16645, '사야딩': 16646, '을텐': 16647, '엔시': 16648, '강박증': 16649, '하씨': 16650, '쿨하다': 16651, '효자손': 16652, '오만칠천': 16653, '개떡락': 16654, '법카': 16655, '둿': 16656, '미래년': 16657, '슨피같': 16658, '관순': 16659, '초조하다': 16660, '견고': 16661, '배감': 16662, '띠기': 16663, '루닛하곤': 16664, '고안': 16665, '쿼드데믹': 16666, '니드': 16667, '우우': 16668, '수업료': 16669, '생활비': 16670, '김밥천국': 16671, '비저항': 16672, '번호': 16673, '공인': 16674, '적재적소': 16675, '광촉매': 16676, '자등': 16677, '폭넓다': 16678, '대갈': 16679, '임왜': 16680, '넷플': 16681, '관대하다': 16682, '수니': 16683, '일개미': 16684, '다합': 16685, '만삼천이': 16686, '사재기': 16687, '쪼꼼': 16688, '줏을려': 16689, '편임': 16690, '달인': 16691, '외곽': 16692, '떡볶이': 16693, '몽치': 16694, '뿅': 16695, '나불나불': 16696, '상폐때': 16697, '신아': 16698, '맞닿다': 16699, '레이져': 16700, '총살': 16701, '뇌란': 16702, '랑께': 16703, '통조림': 16704, '노골': 16705, '레밍': 16706, '트통': 16707, '사사건건': 16708, '존버한다': 16709, '도람프취임': 16710, '어기': 16711, '건실': 16712, '됫': 16713, '넥스틸': 16714, '정립': 16715, '무빙청': 16716, '불일때': 16717, '주물럭거리다': 16718, '달남짓': 16719, '쌈짓돈': 16720, '나약하다': 16721, '조심조심': 16722, '산타렐리': 16723, '신탁': 16724, '하이웨이': 16725, '보탭시': 16726, '용평': 16727, '에서만큼은': 16728, '놨다': 16729, '다공': 16730, '파손': 16731, '릂못': 16732, '볕': 16733, '이늄': 16734, 'ㅠㅠㅠㅠㅠㅠㅠㅠㅠ': 16735, '찔금': 16736, '셰르파': 16737, '뒷산': 16738, '돈데': 16739, '음운': 16740, '리테': 16741, '트리플': 16742, '바텀': 16743, '부두': 16744, '정보보안': 16745, '고냥이': 16746, '침략': 16747, '윤딴딴': 16748, '합병증': 16749, '골질': 16750, '성숙하다': 16751, '청소년': 16752, '반동': 16753, '달월': 16754, '정보라': 16755, '게을리': 16756, '보되': 16757, '주절거리다': 16758, '까탈': 16759, '쿠데타': 16760, '아역': 16761, '낚엿다': 16762, '어째댓': 16763, '스트': 16764, '키즈': 16765, '케익': 16766, '재곱': 16767, '중호재': 16768, '포드': 16769, '볼보': 16770, '있는뎁': 16771, '계부': 16772, '수완': 16773, 'ㅅㅌㅊ': 16774, '탄탄': 16775, '가슴앓이': 16776, '소서': 16777, '당나귀': 16778, '언성': 16779, '애슐리': 16780, '안좋읏': 16781, '카툭': 16782, '듣보다': 16783, '믈': 16784, '쫄리긴': 16785, '분다': 16786, '햌': 16787, '시유': 16788, '이천': 16789, '부양시': 16790, '민정': 16791, '만스엠': 16792, '설마설마': 16793, '월드컵': 16794, '김연아': 16795, '박태환': 16796, '원조': 16797, '이승만': 16798, '윤보선': 16799, '전두환': 16800, '모더뜨릴러': 16801, '볼만하겄': 16802, '퉥': 16803, '발도': 16804, '대수': 16805, '줄놈': 16806, '조안': 16807, '오아시스': 16808, '포승': 16809, '줄달': 16810, '거등': 16811, '달차': 16812, '것때매': 16813, '지지리': 16814, '엘바': 16815, '밍': 16816, '보다만': 16817, '가트': 16818, '한오': 16819, '미래세': 16820, '색키': 16821, '나갓': 16822, '지정학적': 16823, '컨쥬올': 16824, '각광': 16825, '해검': 16826, '저궤도': 16827, '상정이': 16828, '무기체계': 16829, '허참': 16830, '줏가': 16831, '충북': 16832, '완판': 16833, '자호': 16834, '블밴': 16835, '장후': 16836, '몫돈좀': 16837, '오어': 16838, '입안': 16839, '홀딩굳': 16840, '솒해': 16841, '메꿩': 16842, '만여': 16843, '굽히다': 16844, '환기': 16845, '오구': 16846, '몬가삘임': 16847, '발광': 16848, '컄퉤': 16849, '케미컬': 16850, '정화': 16851, '계집': 16852, '대령': 16853, '영웅': 16854, '호걸': 16855, '네이쳐': 16856, '단소': 16857, '린디': 16858, '과락': 16859, '희락': 16860, '하나라': 16861, '디유': 16862, '해오': 16863, '렐리': 16864, '넘김': 16865, '매가리': 16866, '이스': 16867, '아찔하다': 16868, '끠': 16869, '대척점': 16870, '함상기': 16871, '컴퍼니': 16872, '시판': 16873, '허무맹랑': 16874, '유트버': 16875, '두텁다': 16876, '낡다': 16877, '넣어놧으': 16878, '기함': 16879, '부놜': 16880, '머트물': 16881, '이신가': 16882, 'ㅌㅋㅋㅋㅋㅋ': 16883, '해분': 16884, '샀르': 16885, '야심': 16886, '박재현': 16887, '엇으': 16888, '이야말로': 16889, '심취': 16890, '걸로': 16891, '스르': 16892, '압사': 16893, '성수대교': 16894, '아른거리다': 16895, '닫히다': 16896, '쫄았': 16897, '용케': 16898, '서위': 16899, '미션': 16900, '다잡다': 16901, '퍼스트': 16902, '리어카': 16903, '됫건': 16904, '목하': 16905, '껄허리뿌러': 16906, '완벽': 16907, '눌린목나': 16908, '빵목': 16909, '가쟈금양': 16910, '스트레칭': 16911, '쥬더': 16912, '위임': 16913, '정치성향': 16914, '호적': 16915, '파내다': 16916, '죽여주다': 16917, '비자': 16918, '추방': 16919, '아이즈': 16920, '일본도': 16921, '지윤': 16922, '풀어지다': 16923, '소시민': 16924, '음미': 16925, '줏': 16926, '깜빡': 16927, '손절못': 16928, '게머임': 16929, '시름': 16930, '죄책감': 16931, '명주': 16932, '늘바람': 16933, '껄이상껄': 16934, '님말': 16935, 'ㅁㅈㄷ': 16936, '호기심': 16937, '하이센스': 16938, '펜데믹': 16939, '사만': 16940, '뱃터리': 16941, '침입': 16942, '처단': 16943, '손흥민': 16944, '매드무비': 16945, '동아': 16946, '주나욤': 16947, '에러': 16948, '되쁫노': 16949, '살빠': 16950, '삐용삐용': 16951, '시구': 16952, '교정': 16953, '병행': 16954, '행적': 16955, '신섭': 16956, '이명': 16957, '작업장': 16958, '교통사고': 16959, '덤': 16960, '베이비페이스': 16961, '잘추다': 16962, '필릭': 16963, '스임': 16964, '순하다': 16965, '입덕': 16966, '삘': 16967, '킹덤': 16968, '광탈': 16969, '리더쉽': 16970, '찬가': 16971, '능라': 16972, '엮어대': 16973, '최면': 16974, '현주': 16975, '맘씨': 16976, '바랬': 16977, '실신': 16978, '칭': 16979, '거두': 16980, '성찬': 16981, '뻥카': 16982, '흐지부지': 16983, '하지맙시': 16984, '금번': 16985, '유럽연합': 16986, '거시': 16987, '철학자': 16988, '스와프': 16989, '고이왕': 16990, 'ㅋㅋㅋㅈ': 16991, '짬뽕': 16992, 'ㅆㄺ': 16993, '과분': 16994, '치맥': 16995, '포석': 16996, '가공생산': 16997, '차감': 16998, '시몬스': 16999, '발보': 17000, '안덕': 17001, '여년': 17002, 'ㅆㄹ': 17003, '신경질': 17004, '말좀': 17005, '고스트': 17006, '서브컬처': 17007, '모토': 17008, '의왕': 17009, '리튬이온': 17010, '시범': 17011, '장넌': 17012, '소녀': 17013, '죙일': 17014, '어케하': 17015, '파토': 17016, '오케': 17017, '경제부총리': 17018, '함달': 17019, '쥐띠': 17020, '재복': 17021, '등땀': 17022, '웃픈': 17023, '비우자': 17024, '플레티넘': 17025, '손절해': 17026, '날락': 17027, '금석': 17028, '꺼림칙하다': 17029, '배금': 17030, '터덕': 17031, '연속성': 17032, '술처': 17033, '복기': 17034, '징창': 17035, '어딘지': 17036, '금반지': 17037, '노반': 17038, '스병': 17039, '등반': 17040, '장인어른': 17041, '아주머니': 17042, '고마치': 17043, '다대': 17044, '외출': 17045, '만우절': 17046, '교묘하다': 17047, '슈퍼카': 17048, '기이하다': 17049, '윤진핑': 17050, '암살': 17051, '조지': 17052, '봉인': 17053, '내사': 17054, '윤똥': 17055, '라일': 17056, '우쭈쭈': 17057, '담하다': 17058, '어떻든': 17059, '귀농': 17060, '되돌아가다': 17061, '탐재': 17062, '정악': 17063, '소홀': 17064, '고양시': 17065, '노로바이러스': 17066, '비엠빼고': 17067, '틔었습니다비엠': 17068, '기보': 17069, '극명하다': 17070, '독립운동': 17071, '자미': 17072, '국보': 17073, '어째꺼': 17074, '걸엇습니': 17075, '자궁': 17076, '조루': 17077, '김장': 17078, '오백': 17079, '겸허': 17080, '불찰': 17081, '무속': 17082, '수확': 17083, '그깟': 17084, '에서까지': 17085, '어늘': 17086, '과점': 17087, '액츄에이터': 17088, '중추': 17089, '이여상': 17090, '궁금스': 17091, '다음생': 17092, '메이데이': 17093, '기안': 17094, '테두리': 17095, '운영체제': 17096, '백정': 17097, '환가': 17098, '깡패': 17099, '겨논걸': 17100, '지겨웟다': 17101, '한달묵힌': 17102, '블랙리스트': 17103, '비공식': 17104, '캐리어': 17105, '섹히': 17106, '기상청': 17107, '예보': 17108, '간혹': 17109, '얻어먹다': 17110, '전업': 17111, '냄겨놧어': 17112, '책망': 17113, '기다렷는': 17114, '여우': 17115, '대역': 17116, '몸둥': 17117, '바퀴벌레': 17118, '뉴스특보': 17119, '쪼개지다': 17120, '넬료': 17121, '커넥': 17122, '터졋내': 17123, '추카': 17124, '저장장치': 17125, '부임': 17126, '달채': 17127, '초증반': 17128, '윗줄': 17129, '악담': 17130, '레드우드': 17131, '이끼': 17132, '물량재고': 17133, '존버각': 17134, '못턴물량': 17135, '물량털': 17136, '임캐즘': 17137, '넘겨주다': 17138, '이해해': 17139, '진대제': 17140, 'ㄹㅂ': 17141, '주누': 17142, '되돌림': 17143, '콘트롤할': 17144, '징놈': 17145, '썩': 17146, '층임': 17147, '미티': 17148, '겟음': 17149, '당원': 17150, '듬뿍하다': 17151, '종필': 17152, '천문학': 17153, '율못': 17154, '허허헣': 17155, '대부': 17156, '엮이': 17157, '인공위성': 17158, '염따': 17159, '뀽': 17160, '숙련': 17161, '달려오다': 17162, '망토': 17163, '모가지': 17164, '똥손': 17165, '텍사스': 17166, '중심지': 17167, '노해': 17168, '법규': 17169, '오픈소스': 17170, '실리콘밸리': 17171, '텐': 17172, '나락갔던': 17173, '나레이션': 17174, '물량팔': 17175, '쇼티': 17176, '코스트': 17177, '돌멩이': 17178, '돌대가리': 17179, '뒤로': 17180, '트렁프': 17181, '후훗': 17182, '아포텍스': 17183, '아포': 17184, '텍스': 17185, '전인석': 17186, '쉐어': 17187, '링일': 17188, '물때': 17189, '도딱': 17190, 'ㅆㅂㄹㄷㅇ': 17191, '욯': 17192, '국고': 17193, '하이트맥주': 17194, '진로': 17195, '체증': 17196, '만끽': 17197, '쪼매삐': 17198, '느킴': 17199, '진찌': 17200, '덴': 17201, '보원': 17202, '상을받앟다': 17203, '꼬시는구': 17204, '명부': 17205, '충주': 17206, '소의': 17207, '빌런': 17208, '못드가겠': 17209, '자괴': 17210, '나요나': 17211, '붕신': 17212, '개지': 17213, '십이': 17214, '왜힘': 17215, '구런데': 17216, '조성자': 17217, '성신': 17218, '종베': 17219, '햬': 17220, 'ㅁㅣㅊ': 17221, '개속': 17222, '휠씬': 17223, '깨숑님': 17224, '하장': 17225, '삼삼삼칠': 17226, '스노우': 17227, '짯습니': 17228, '등임': 17229, '실스큐': 17230, '네덜란드': 17231, '모면': 17232, '소장': 17233, '모욕': 17234, '알아주다': 17235, '위악': 17236, '압니다서': 17237, '문명인': 17238, '체적': 17239, '윌': 17240, '어쩌겠': 17241, '말미잘': 17242, '가공업': 17243, '레쉬': 17244, '미트': 17245, '리뉴얼': 17246, '신선': 17247, '하우': 17248, '최고재': 17249, '무책임': 17250, '김원식': 17251, '멸망하다': 17252, '변신': 17253, '유후': 17254, '켐년': 17255, '올띾다': 17256, '젠슨형님': 17257, '설계도': 17258, '결탁': 17259, '난거지': 17260, '평년': 17261, '장안읍': 17262, '부득이': 17263, '나노텍': 17264, '한판': 17265, '물의': 17266, '멕': 17267, '스트림': 17268, '반환받다': 17269, '연이율': 17270, '전체주의': 17271, '몾': 17272, '기뷴': 17273, '히바': 17274, '감금': 17275, '독해': 17276, '꼴갑': 17277, '좀덜': 17278, '볼때팔껄': 17279, '개콘': 17280, '여깄': 17281, '정주영': 17282, '이병철': 17283, '나잇': 17284, '을지': 17285, '차암': 17286, '몸살': 17287, '닝겔': 17288, 'ㅠㅠㅠㅠㅠㅠㅠㅠㅠㅠ': 17289, '지보': 17290, '우무': 17291, '괘씸': 17292, '공표': 17293, '지은': 17294, '오함마': 17295, '에손': 17296, '뭇': 17297, '안전띠': 17298, '꽈악': 17299, '이입': 17300, '아하하': 17301, '햤는데': 17302, '필옵파': 17303, '엘베': 17304, '닷컴': 17305, '인즉': 17306, '이화여대': 17307, '반타': 17308, '화대': 17309, '명신': 17310, '기증': 17311, '불우하다': 17312, '물처리': 17313, '예치': 17314, '유영진': 17315, '음악': 17316, '츠쿠요미': 17317, '약조': 17318, '스따뜨': 17319, '덤덤': 17320, '우짤꼬': 17321, '물탓노': 17322, '구채': 17323, '손짓': 17324, '귓속': 17325, 'ㄷㄹ': 17326, '숏스': 17327, '퀴즈': 17328, '아메리카노': 17329, '한구석': 17330, '짓누르다': 17331, '제중': 17332, '가파르기': 17333, '올려버렷': 17334, '이석기': 17335, '내세': 17336, '추종자': 17337, '프매또': 17338, '원효대사': 17339, '신진대사': 17340, '고카': 17341, '우회': 17342, '바이트': 17343, '댄스': 17344, '신경망': 17345, '지만원': 17346, '솜씨': 17347, '이상일': 17348, '종지': 17349, '쭉홀딩': 17350, '은번': 17351, '교과서': 17352, '튀넹': 17353, '윽시': 17354, '라팔': 17355, 'ㄱㅅㅋ': 17356, '토대': 17357, '공개시장': 17358, '대가리': 17359, '드렁': 17360, '집합': 17361, '요놈': 17362, '답보': 17363, '되풀이': 17364, 'ㅅㅋ': 17365, '폭덩': 17366, '큰코다치다': 17367, '원숭이': 17368, '젬백': 17369, '자존': 17370, '금보': 17371, '버텄': 17372, '초록색': 17373, '출입': 17374, '대통령관저': 17375, '쥐때': 17376, '두고두고': 17377, '나돌다': 17378, '될껄': 17379, '군사시설': 17380, '요엘': 17381, '헤어지자': 17382, '우하하하': 17383, '넘어얼렁': 17384, '구질구질하다': 17385, '사라장': 17386, '뭐해': 17387, '무책임하다': 17388, '망각': 17389, '싱겁다': 17390, '극락': 17391, '어지럽히다': 17392, '홀딩할려구': 17393, '안랩윤통': 17394, '섬기다': 17395, '의계': 17396, '절임': 17397, '수파': 17398, '강제존버': 17399, 'ㅁㅊㄴ': 17400, '미녀': 17401, '현판': 17402, '달후': 17403, '마셈': 17404, '줫던': 17405, '밀': 17406, '스님': 17407, '수거': 17408, '에멘': 17409, '기업펀데멘턴': 17410, '돈버는데': 17411, '약진': 17412, '연례': 17413, '공작': 17414, '이같이': 17415, '호재년': 17416, '발할라': 17417, '서바이벌': 17418, '가디스': 17419, '오디세이': 17420, '라스': 17421, '방심': 17422, '오경': 17423, '물물': 17424, '빼박': 17425, '판매완': 17426, '어찌될런': 17427, '행벅': 17428, '얽다': 17429, '섥켜': 17430, '슨데': 17431, '묵묵': 17432, '무답': 17433, '버려진': 17434, '깨물다': 17435, '맵다': 17436, '페미': 17437, '기형': 17438, '지극히': 17439, '컨셉': 17440, '어쩌나': 17441, '스트라이커': 17442, '얼떨떨하다': 17443, '팔트레이딩': 17444, '뿜었': 17445, '사옥': 17446, '이쌔귀': 17447, '죽방': 17448, '쌔리고싶': 17449, '짓뇌': 17450, '접촉': 17451, '헛꿈': 17452, '면오': 17453, '중흥': 17454, '들쑥날쑥하다': 17455, '어케하조': 17456, '달라짐': 17457, '우울': 17458, '두어': 17459, '카겜때매': 17460, '레오': 17461, '필독': 17462, '침투': 17463, '소모': 17464, '말종': 17465, '말짱하다': 17466, '아구': 17467, '전지수': 17468, '희한': 17469, '퍼대': 17470, '헤딩': 17471, '균주': 17472, '유전자': 17473, '교차': 17474, '유산균': 17475, '황당하다': 17476, '김대우': 17477, '린준청': 17478, '실직': 17479, '나락행': 17480, '꾸르르르': 17481, '성기훈': 17482, '왤케많': 17483, '정착': 17484, '티볼리': 17485, '코란도': 17486, '록차': 17487, '잔액': 17488, '산월': 17489, '임경욱': 17490, '중거리': 17491, '류성욱': 17492, '민관': 17493, '실스큐사': 17494, '애시': 17495, '발인': 17496, '노파': 17497, '촉발': 17498, '에어팟': 17499, '수스': 17500, '핵호': 17501, '퇴짜': 17502, '나누어지다': 17503, '행주': 17504, '쭈욱나두': 17505, '량이왜케': 17506, '창립': 17507, '올락말락': 17508, '초토': 17509, '걸처': 17510, '효년': 17511, '기니': 17512, '퇴치': 17513, '발족': 17514, '퉁치': 17515, '이어도': 17516, '에게만': 17517, '명예': 17518, '더럽히다': 17519, '포텐': 17520, '나주': 17521, '나노튜브': 17522, '인쇄회로기판': 17523, '오르넹': 17524, '리가켐': 17525, 'ㅅㅎ': 17526, '큐븡': 17527, '일단락': 17528, '우군': 17529, '취할': 17530, '젠슨황땜': 17531, '투해': 17532, '보티': 17533, '괜시리': 17534, '바치': 17535, '론자': 17536, '억천만': 17537, '기리': 17538, '소드': 17539, '범의': 17540, '더욱이': 17541, '레츠고': 17542, '활황': 17543, '로그': 17544, '왜케팔': 17545, '라선': 17546, '뚜둘겨': 17547, '도국': 17548, '홀딩합니': 17549, '혼수상태': 17550, '이순신': 17551, '역적': 17552, '발림': 17553, '셧으': 17554, '되겠쬬': 17555, '홍': 17556, '나파': 17557, '도루묵': 17558, '듼데': 17559, '번외': 17560, '주요한': 17561, '분출': 17562, '임해': 17563, '한다윗': 17564, '뮬려': 17565, '상철': 17566, '서주': 17567, '쏠쏠하다': 17568, '고본': 17569, '성립': 17570, '공예': 17571, '슬쩍슬쩍': 17572, '사멵됨': 17573, '이이이': 17574, '언나': 17575, '유욱츠응': 17576, '음바': 17577, '경협주': 17578, '진통제': 17579, '티앤앤': 17580, '메이지': 17581, '바이오테크놀로지': 17582, '배지': 17583, '눤선': 17584, '십자': 17585, '꺽일': 17586, '있읏': 17587, '고수형': 17588, '와아': 17589, '요량': 17590, '얼빠지다': 17591, '소만': 17592, '또온': 17593, 'ㄷㅏ': 17594, '후발국': 17595, '초상': 17596}\n"
     ]
    }
   ],
   "source": [
    "print(tokenizer.word_index)\n"
   ]
  },
  {
   "cell_type": "code",
   "execution_count": 40,
   "metadata": {},
   "outputs": [
    {
     "name": "stdout",
     "output_type": "stream",
     "text": [
      "단어 집합(vocabulary)의 크기 : 17596\n",
      "등장 빈도가 2번 이하인 희귀 단어의 수: 9933\n",
      "단어 집합에서 희귀 단어의 비율: 56.450329620368265\n",
      "전체 등장 빈도에서 희귀 단어 등장 빈도 비율: 3.712549177085818\n"
     ]
    }
   ],
   "source": [
    "threshold = 3\n",
    "total_cnt = len(tokenizer.word_index) # 단어의 수\n",
    "rare_cnt = 0 # 등장 빈도수가 threshold보다 작은 단어의 개수를 카운트\n",
    "total_freq = 0 # 훈련 데이터의 전체 단어 빈도수 총 합\n",
    "rare_freq = 0 # 등장 빈도수가 threshold보다 작은 단어의 등장 빈도수의 총 합\n",
    "\n",
    "# 단어와 빈도수의 쌍(pair)을 key와 value로 받는다.\n",
    "for key, value in tokenizer.word_counts.items():\n",
    "    total_freq = total_freq + value\n",
    "\n",
    "    # 단어의 등장 빈도수가 threshold보다 작으면\n",
    "    if(value < threshold):\n",
    "        rare_cnt = rare_cnt + 1\n",
    "        rare_freq = rare_freq + value\n",
    "\n",
    "print('단어 집합(vocabulary)의 크기 :',total_cnt)\n",
    "print('등장 빈도가 %s번 이하인 희귀 단어의 수: %s'%(threshold - 1, rare_cnt))\n",
    "print(\"단어 집합에서 희귀 단어의 비율:\", (rare_cnt / total_cnt)*100)\n",
    "print(\"전체 등장 빈도에서 희귀 단어 등장 빈도 비율:\", (rare_freq / total_freq)*100)\n"
   ]
  },
  {
   "cell_type": "code",
   "execution_count": 41,
   "metadata": {},
   "outputs": [
    {
     "name": "stdout",
     "output_type": "stream",
     "text": [
      "단어 집합의 크기 : 7664\n"
     ]
    }
   ],
   "source": [
    "# 전체 단어 개수 중 빈도수 2이하인 단어는 제거.\n",
    "# 0번 패딩 토큰을 고려하여 + 1\n",
    "vocab_size = total_cnt - rare_cnt + 1\n",
    "print('단어 집합의 크기 :',vocab_size)"
   ]
  },
  {
   "cell_type": "code",
   "execution_count": 42,
   "metadata": {},
   "outputs": [],
   "source": [
    "tokenizer = Tokenizer(vocab_size) \n",
    "tokenizer.fit_on_texts(X_train)\n",
    "X_train = tokenizer.texts_to_sequences(X_train)\n",
    "X_test = tokenizer.texts_to_sequences(X_test)\n"
   ]
  },
  {
   "cell_type": "code",
   "execution_count": 43,
   "metadata": {},
   "outputs": [
    {
     "name": "stdout",
     "output_type": "stream",
     "text": [
      "[[2044, 2648, 12, 705, 794, 39, 2], [45, 22, 22, 706, 321, 561, 4, 63, 21, 20, 646, 222, 579, 23, 31, 297, 580, 2, 63, 581, 236, 31, 3, 1727, 3889, 936, 363, 699, 542, 2201, 2, 91, 83, 3, 1031, 1471, 5, 592, 13, 5575, 2201, 234, 7], [647, 6, 336, 40, 96, 1976, 55]]\n"
     ]
    }
   ],
   "source": [
    "print(X_train[:3])\n"
   ]
  },
  {
   "cell_type": "code",
   "execution_count": 44,
   "metadata": {},
   "outputs": [],
   "source": [
    "y_train = np.array(train_data['긍정점수'])\n",
    "y_test = np.array(test_data['긍정점수'])"
   ]
  },
  {
   "cell_type": "code",
   "execution_count": 45,
   "metadata": {},
   "outputs": [],
   "source": [
    "drop_train = [index for index, sentence in enumerate(X_train) if len(sentence) < 1]"
   ]
  },
  {
   "cell_type": "code",
   "execution_count": 47,
   "metadata": {},
   "outputs": [
    {
     "name": "stdout",
     "output_type": "stream",
     "text": [
      "18429\n",
      "18429\n"
     ]
    }
   ],
   "source": [
    "# 빈 샘플들을 제거\n",
    "X_train = np.array(X_train, dtype=object)\n",
    "X_train = np.delete(X_train, drop_train, axis=0)\n",
    "y_train = np.delete(y_train, drop_train, axis=0)\n",
    "print(len(X_train))\n",
    "print(len(y_train))\n"
   ]
  },
  {
   "cell_type": "code",
   "execution_count": 48,
   "metadata": {},
   "outputs": [
    {
     "name": "stdout",
     "output_type": "stream",
     "text": [
      "리뷰의 최대 길이 : 301\n",
      "리뷰의 평균 길이 : 17.30452004992132\n"
     ]
    },
    {
     "data": {
      "image/png": "[encoded data removed]",
      "text/plain": [
       "<Figure size 640x480 with 1 Axes>"
      ]
     },
     "metadata": {},
     "output_type": "display_data"
    }
   ],
   "source": [
    "print('리뷰의 최대 길이 :',max(len(review) for review in X_train))\n",
    "print('리뷰의 평균 길이 :',sum(map(len, X_train))/len(X_train))\n",
    "plt.hist([len(review) for review in X_train], bins=50)\n",
    "plt.xlabel('length of samples')\n",
    "plt.ylabel('number of samples')\n",
    "plt.show()\n"
   ]
  },
  {
   "cell_type": "code",
   "execution_count": 49,
   "metadata": {},
   "outputs": [],
   "source": [
    "def below_threshold_len(max_len, nested_list):\n",
    "  count = 0\n",
    "  for sentence in nested_list:\n",
    "    if(len(sentence) <= max_len):\n",
    "        count = count + 1\n",
    "  print('전체 샘플 중 길이가 %s 이하인 샘플의 비율: %s'%(max_len, (count / len(nested_list))*100))\n"
   ]
  },
  {
   "cell_type": "code",
   "execution_count": 52,
   "metadata": {},
   "outputs": [
    {
     "name": "stdout",
     "output_type": "stream",
     "text": [
      "전체 샘플 중 길이가 70 이하인 샘플의 비율: 95.44739269629389\n"
     ]
    }
   ],
   "source": [
    "max_len = 70\n",
    "below_threshold_len(max_len, X_train)\n"
   ]
  },
  {
   "cell_type": "code",
   "execution_count": 53,
   "metadata": {},
   "outputs": [],
   "source": [
    "X_train = pad_sequences(X_train, maxlen=max_len)\n",
    "X_test = pad_sequences(X_test, maxlen=max_len)"
   ]
  },
  {
   "cell_type": "code",
   "execution_count": 56,
   "metadata": {},
   "outputs": [
    {
     "name": "stdout",
     "output_type": "stream",
     "text": [
      "Epoch 1/15\n",
      "\u001b[1m230/231\u001b[0m \u001b[32m━━━━━━━━━━━━━━━━━━━\u001b[0m\u001b[37m━\u001b[0m \u001b[1m0s\u001b[0m 39ms/step - acc: 0.6883 - loss: 0.5839\n",
      "Epoch 1: val_acc improved from -inf to 0.93435, saving model to best_model.keras\n",
      "\u001b[1m231/231\u001b[0m \u001b[32m━━━━━━━━━━━━━━━━━━━━\u001b[0m\u001b[37m\u001b[0m \u001b[1m12s\u001b[0m 44ms/step - acc: 0.6892 - loss: 0.5828 - val_acc: 0.9343 - val_loss: 0.1984\n",
      "Epoch 2/15\n",
      "\u001b[1m231/231\u001b[0m \u001b[32m━━━━━━━━━━━━━━━━━━━━\u001b[0m\u001b[37m\u001b[0m \u001b[1m0s\u001b[0m 40ms/step - acc: 0.9448 - loss: 0.1745\n",
      "Epoch 2: val_acc improved from 0.93435 to 0.95524, saving model to best_model.keras\n",
      "\u001b[1m231/231\u001b[0m \u001b[32m━━━━━━━━━━━━━━━━━━━━\u001b[0m\u001b[37m\u001b[0m \u001b[1m10s\u001b[0m 43ms/step - acc: 0.9448 - loss: 0.1745 - val_acc: 0.9552 - val_loss: 0.1301\n",
      "Epoch 3/15\n",
      "\u001b[1m230/231\u001b[0m \u001b[32m━━━━━━━━━━━━━━━━━━━\u001b[0m\u001b[37m━\u001b[0m \u001b[1m0s\u001b[0m 43ms/step - acc: 0.9728 - loss: 0.0869\n",
      "Epoch 3: val_acc did not improve from 0.95524\n",
      "\u001b[1m231/231\u001b[0m \u001b[32m━━━━━━━━━━━━━━━━━━━━\u001b[0m\u001b[37m\u001b[0m \u001b[1m11s\u001b[0m 46ms/step - acc: 0.9728 - loss: 0.0869 - val_acc: 0.9536 - val_loss: 0.1243\n",
      "Epoch 4/15\n",
      "\u001b[1m231/231\u001b[0m \u001b[32m━━━━━━━━━━━━━━━━━━━━\u001b[0m\u001b[37m\u001b[0m \u001b[1m0s\u001b[0m 49ms/step - acc: 0.9838 - loss: 0.0555\n",
      "Epoch 4: val_acc improved from 0.95524 to 0.95768, saving model to best_model.keras\n",
      "\u001b[1m231/231\u001b[0m \u001b[32m━━━━━━━━━━━━━━━━━━━━\u001b[0m\u001b[37m\u001b[0m \u001b[1m12s\u001b[0m 53ms/step - acc: 0.9838 - loss: 0.0555 - val_acc: 0.9577 - val_loss: 0.1144\n",
      "Epoch 5/15\n",
      "\u001b[1m231/231\u001b[0m \u001b[32m━━━━━━━━━━━━━━━━━━━━\u001b[0m\u001b[37m\u001b[0m \u001b[1m0s\u001b[0m 44ms/step - acc: 0.9900 - loss: 0.0375\n",
      "Epoch 5: val_acc improved from 0.95768 to 0.96717, saving model to best_model.keras\n",
      "\u001b[1m231/231\u001b[0m \u001b[32m━━━━━━━━━━━━━━━━━━━━\u001b[0m\u001b[37m\u001b[0m \u001b[1m11s\u001b[0m 48ms/step - acc: 0.9900 - loss: 0.0375 - val_acc: 0.9672 - val_loss: 0.1012\n",
      "Epoch 6/15\n",
      "\u001b[1m231/231\u001b[0m \u001b[32m━━━━━━━━━━━━━━━━━━━━\u001b[0m\u001b[37m\u001b[0m \u001b[1m0s\u001b[0m 46ms/step - acc: 0.9919 - loss: 0.0254\n",
      "Epoch 6: val_acc improved from 0.96717 to 0.96772, saving model to best_model.keras\n",
      "\u001b[1m231/231\u001b[0m \u001b[32m━━━━━━━━━━━━━━━━━━━━\u001b[0m\u001b[37m\u001b[0m \u001b[1m12s\u001b[0m 50ms/step - acc: 0.9919 - loss: 0.0254 - val_acc: 0.9677 - val_loss: 0.1011\n",
      "Epoch 7/15\n",
      "\u001b[1m230/231\u001b[0m \u001b[32m━━━━━━━━━━━━━━━━━━━\u001b[0m\u001b[37m━\u001b[0m \u001b[1m0s\u001b[0m 54ms/step - acc: 0.9926 - loss: 0.0253\n",
      "Epoch 7: val_acc did not improve from 0.96772\n",
      "\u001b[1m231/231\u001b[0m \u001b[32m━━━━━━━━━━━━━━━━━━━━\u001b[0m\u001b[37m\u001b[0m \u001b[1m14s\u001b[0m 58ms/step - acc: 0.9926 - loss: 0.0253 - val_acc: 0.9677 - val_loss: 0.1070\n",
      "Epoch 8/15\n",
      "\u001b[1m231/231\u001b[0m \u001b[32m━━━━━━━━━━━━━━━━━━━━\u001b[0m\u001b[37m\u001b[0m \u001b[1m0s\u001b[0m 45ms/step - acc: 0.9942 - loss: 0.0183\n",
      "Epoch 8: val_acc did not improve from 0.96772\n",
      "\u001b[1m231/231\u001b[0m \u001b[32m━━━━━━━━━━━━━━━━━━━━\u001b[0m\u001b[37m\u001b[0m \u001b[1m11s\u001b[0m 49ms/step - acc: 0.9942 - loss: 0.0183 - val_acc: 0.9639 - val_loss: 0.1333\n",
      "Epoch 9/15\n",
      "\u001b[1m231/231\u001b[0m \u001b[32m━━━━━━━━━━━━━━━━━━━━\u001b[0m\u001b[37m\u001b[0m \u001b[1m0s\u001b[0m 40ms/step - acc: 0.9951 - loss: 0.0165\n",
      "Epoch 9: val_acc did not improve from 0.96772\n",
      "\u001b[1m231/231\u001b[0m \u001b[32m━━━━━━━━━━━━━━━━━━━━\u001b[0m\u001b[37m\u001b[0m \u001b[1m10s\u001b[0m 44ms/step - acc: 0.9951 - loss: 0.0166 - val_acc: 0.9650 - val_loss: 0.1119\n",
      "Epoch 10/15\n",
      "\u001b[1m230/231\u001b[0m \u001b[32m━━━━━━━━━━━━━━━━━━━\u001b[0m\u001b[37m━\u001b[0m \u001b[1m0s\u001b[0m 40ms/step - acc: 0.9967 - loss: 0.0099\n",
      "Epoch 10: val_acc did not improve from 0.96772\n",
      "\u001b[1m231/231\u001b[0m \u001b[32m━━━━━━━━━━━━━━━━━━━━\u001b[0m\u001b[37m\u001b[0m \u001b[1m10s\u001b[0m 43ms/step - acc: 0.9967 - loss: 0.0100 - val_acc: 0.9674 - val_loss: 0.1160\n",
      "Epoch 10: early stopping\n"
     ]
    }
   ],
   "source": [
    "embedding_dim = 100\n",
    "hidden_units = 128\n",
    "\n",
    "model = Sequential()\n",
    "model.add(Embedding(vocab_size, embedding_dim))\n",
    "model.add(LSTM(hidden_units))\n",
    "model.add(Dense(1, activation='sigmoid'))\n",
    "\n",
    "es = EarlyStopping(monitor='val_loss', mode='min', verbose=1, patience=4)\n",
    "mc = ModelCheckpoint('best_model.keras', monitor='val_acc', mode='max', verbose=1, save_best_only=True)\n",
    "\n",
    "model.compile(optimizer='rmsprop', loss='binary_crossentropy', metrics=['acc'])\n",
    "history = model.fit(X_train, y_train, epochs=15, callbacks=[es, mc], batch_size=64, validation_split=0.2)"
   ]
  },
  {
   "cell_type": "code",
   "execution_count": 58,
   "metadata": {},
   "outputs": [
    {
     "name": "stdout",
     "output_type": "stream",
     "text": [
      "\u001b[1m184/184\u001b[0m \u001b[32m━━━━━━━━━━━━━━━━━━━━\u001b[0m\u001b[37m\u001b[0m \u001b[1m2s\u001b[0m 9ms/step - acc: 0.9621 - loss: 0.1176\n",
      "\n",
      " 테스트 정확도: 0.9640\n"
     ]
    }
   ],
   "source": [
    "loaded_model = load_model('best_model.keras')\n",
    "print(\"\\n 테스트 정확도: %.4f\" % (loaded_model.evaluate(X_test, y_test)[1]))"
   ]
  },
  {
   "cell_type": "code",
   "execution_count": 59,
   "metadata": {},
   "outputs": [],
   "source": [
    "import pickle"
   ]
  },
  {
   "cell_type": "code",
   "execution_count": 60,
   "metadata": {},
   "outputs": [],
   "source": [
    "with open('tokenizer.pickle', 'wb') as handle:\n",
    "    pickle.dump(tokenizer, handle)"
   ]
  },
  {
   "cell_type": "code",
   "execution_count": 61,
   "metadata": {},
   "outputs": [],
   "source": [
    "import re"
   ]
  },
  {
   "cell_type": "code",
   "execution_count": 67,
   "metadata": {},
   "outputs": [],
   "source": [
    "def sentiment_predict(new_sentence):\n",
    "    # 특수 문자 제거\n",
    "    new_sentence = re.sub(r'[^ㄱ-ㅎㅏ-ㅣ가-힣 ]', '', new_sentence)\n",
    "    # 토큰화\n",
    "    new_sentence = okt.morphs(new_sentence, stem=True)\n",
    "    # 정수 인코딩\n",
    "    encoded = tokenizer.texts_to_sequences([new_sentence])\n",
    "    # 패딩\n",
    "    pad_new = pad_sequences(encoded, maxlen=max_len)\n",
    "    # 예측\n",
    "    predicted_value = loaded_model.predict(pad_new)\n",
    "    # 예측 결과에서 첫 번째 요소 선택\n",
    "    score = predicted_value[0]  # 안전하게 scalar로 변환\n",
    "    \n",
    "    # 결과 출력\n",
    "    if score > 0.5:\n",
    "        print(\"{:.2f}% 확률로 긍정 리뷰입니다.\\n\".format(score * 100))\n",
    "    else:\n",
    "        print(\"{:.2f}% 확률로 부정 리뷰입니다.\\n\".format((1 - score) * 100))\n"
   ]
  },
  {
   "cell_type": "code",
   "execution_count": 76,
   "metadata": {},
   "outputs": [],
   "source": [
    "def sentiment_predict(new_sentence):\n",
    "  new_sentence = re.sub(r'[^ㄱ-ㅎㅏ-ㅣ가-힣 ]','', new_sentence)\n",
    "  new_sentence = okt.morphs(new_sentence, stem=True) # 토큰화\n",
    "  new_sentence = [word for word in new_sentence if not word in stopwords] # 불용어 제거\n",
    "  encoded = tokenizer.texts_to_sequences([new_sentence]) # 정수 인코딩\n",
    "  pad_new = pad_sequences(encoded, maxlen = max_len) # 패딩\n",
    "  score = float(loaded_model.predict(pad_new)) # 예측\n",
    "  if(score > 0.5):\n",
    "    print(\"{:.2f}% 확률로 긍정 리뷰입니다.\\n\".format(score * 100))\n",
    "  else:\n",
    "    print(\"{:.2f}% 확률로 부정 리뷰입니다.\\n\".format((1 - score) * 100))\n"
   ]
  },
  {
   "cell_type": "code",
   "execution_count": 77,
   "metadata": {},
   "outputs": [
    {
     "name": "stdout",
     "output_type": "stream",
     "text": [
      "\u001b[1m1/1\u001b[0m \u001b[32m━━━━━━━━━━━━━━━━━━━━\u001b[0m\u001b[37m\u001b[0m \u001b[1m0s\u001b[0m 39ms/step\n",
      "99.96% 확률로 긍정 리뷰입니다.\n",
      "\n"
     ]
    },
    {
     "name": "stderr",
     "output_type": "stream",
     "text": [
      "C:\\Users\\hydrl\\AppData\\Local\\Temp\\ipykernel_14132\\2334245811.py:7: DeprecationWarning: Conversion of an array with ndim > 0 to a scalar is deprecated, and will error in future. Ensure you extract a single element from your array before performing this operation. (Deprecated NumPy 1.25.)\n",
      "  score = float(loaded_model.predict(pad_new)) # 예측\n"
     ]
    }
   ],
   "source": [
    "sentiment_predict('이 회사의 성장 가능성이 정말 기대돼요! 앞으로 주가가 오를 것 같습니다.')\n"
   ]
  },
  {
   "cell_type": "code",
   "execution_count": 78,
   "metadata": {},
   "outputs": [
    {
     "name": "stdout",
     "output_type": "stream",
     "text": [
      "\u001b[1m1/1\u001b[0m \u001b[32m━━━━━━━━━━━━━━━━━━━━\u001b[0m\u001b[37m\u001b[0m \u001b[1m0s\u001b[0m 37ms/step\n",
      "100.00% 확률로 부정 리뷰입니다.\n",
      "\n"
     ]
    },
    {
     "name": "stderr",
     "output_type": "stream",
     "text": [
      "C:\\Users\\hydrl\\AppData\\Local\\Temp\\ipykernel_14132\\2334245811.py:7: DeprecationWarning: Conversion of an array with ndim > 0 to a scalar is deprecated, and will error in future. Ensure you extract a single element from your array before performing this operation. (Deprecated NumPy 1.25.)\n",
      "  score = float(loaded_model.predict(pad_new)) # 예측\n"
     ]
    }
   ],
   "source": [
    "sentiment_predict(\"주가가 너무 비싸요. 조정이 올 것 같아서 걱정입니다.\")"
   ]
  },
  {
   "cell_type": "code",
   "execution_count": 79,
   "metadata": {},
   "outputs": [
    {
     "name": "stdout",
     "output_type": "stream",
     "text": [
      "\u001b[1m1/1\u001b[0m \u001b[32m━━━━━━━━━━━━━━━━━━━━\u001b[0m\u001b[37m\u001b[0m \u001b[1m0s\u001b[0m 37ms/step\n",
      "100.00% 확률로 긍정 리뷰입니다.\n",
      "\n"
     ]
    },
    {
     "name": "stderr",
     "output_type": "stream",
     "text": [
      "C:\\Users\\hydrl\\AppData\\Local\\Temp\\ipykernel_14132\\2334245811.py:7: DeprecationWarning: Conversion of an array with ndim > 0 to a scalar is deprecated, and will error in future. Ensure you extract a single element from your array before performing this operation. (Deprecated NumPy 1.25.)\n",
      "  score = float(loaded_model.predict(pad_new)) # 예측\n"
     ]
    }
   ],
   "source": [
    "sentiment_predict('이 주식은 장기 투자로 정말 좋은 선택입니다. 믿고 투자하세요!')"
   ]
  },
  {
   "cell_type": "code",
   "execution_count": 80,
   "metadata": {},
   "outputs": [
    {
     "name": "stdout",
     "output_type": "stream",
     "text": [
      "\u001b[1m1/1\u001b[0m \u001b[32m━━━━━━━━━━━━━━━━━━━━\u001b[0m\u001b[37m\u001b[0m \u001b[1m0s\u001b[0m 33ms/step\n",
      "99.99% 확률로 긍정 리뷰입니다.\n",
      "\n"
     ]
    },
    {
     "name": "stderr",
     "output_type": "stream",
     "text": [
      "C:\\Users\\hydrl\\AppData\\Local\\Temp\\ipykernel_14132\\2334245811.py:7: DeprecationWarning: Conversion of an array with ndim > 0 to a scalar is deprecated, and will error in future. Ensure you extract a single element from your array before performing this operation. (Deprecated NumPy 1.25.)\n",
      "  score = float(loaded_model.predict(pad_new)) # 예측\n"
     ]
    }
   ],
   "source": [
    "sentiment_predict(\"이번 분기 실적이 예상보다 좋아서 주가가 오를 것 같아요.\")"
   ]
  },
  {
   "cell_type": "code",
   "execution_count": 81,
   "metadata": {},
   "outputs": [
    {
     "name": "stdout",
     "output_type": "stream",
     "text": [
      "\u001b[1m1/1\u001b[0m \u001b[32m━━━━━━━━━━━━━━━━━━━━\u001b[0m\u001b[37m\u001b[0m \u001b[1m0s\u001b[0m 37ms/step\n",
      "99.98% 확률로 긍정 리뷰입니다.\n",
      "\n"
     ]
    },
    {
     "name": "stderr",
     "output_type": "stream",
     "text": [
      "C:\\Users\\hydrl\\AppData\\Local\\Temp\\ipykernel_14132\\2334245811.py:7: DeprecationWarning: Conversion of an array with ndim > 0 to a scalar is deprecated, and will error in future. Ensure you extract a single element from your array before performing this operation. (Deprecated NumPy 1.25.)\n",
      "  score = float(loaded_model.predict(pad_new)) # 예측\n"
     ]
    }
   ],
   "source": [
    "sentiment_predict(\"주식 시장이 불안정한데, 어떤 종목을 사는 게 좋을까요?\")"
   ]
  },
  {
   "cell_type": "code",
   "execution_count": 82,
   "metadata": {},
   "outputs": [
    {
     "name": "stdout",
     "output_type": "stream",
     "text": [
      "\u001b[1m1/1\u001b[0m \u001b[32m━━━━━━━━━━━━━━━━━━━━\u001b[0m\u001b[37m\u001b[0m \u001b[1m0s\u001b[0m 37ms/step\n",
      "92.68% 확률로 부정 리뷰입니다.\n",
      "\n"
     ]
    },
    {
     "name": "stderr",
     "output_type": "stream",
     "text": [
      "C:\\Users\\hydrl\\AppData\\Local\\Temp\\ipykernel_14132\\2334245811.py:7: DeprecationWarning: Conversion of an array with ndim > 0 to a scalar is deprecated, and will error in future. Ensure you extract a single element from your array before performing this operation. (Deprecated NumPy 1.25.)\n",
      "  score = float(loaded_model.predict(pad_new)) # 예측\n"
     ]
    }
   ],
   "source": [
    "sentiment_predict(\"최근 뉴스에 따르면 이 회사가 새로운 제품을 출시한다고 하더군요.\")"
   ]
  },
  {
   "cell_type": "code",
   "execution_count": 83,
   "metadata": {},
   "outputs": [
    {
     "name": "stdout",
     "output_type": "stream",
     "text": [
      "\u001b[1m1/1\u001b[0m \u001b[32m━━━━━━━━━━━━━━━━━━━━\u001b[0m\u001b[37m\u001b[0m \u001b[1m0s\u001b[0m 33ms/step\n",
      "99.86% 확률로 부정 리뷰입니다.\n",
      "\n"
     ]
    },
    {
     "name": "stderr",
     "output_type": "stream",
     "text": [
      "C:\\Users\\hydrl\\AppData\\Local\\Temp\\ipykernel_14132\\2334245811.py:7: DeprecationWarning: Conversion of an array with ndim > 0 to a scalar is deprecated, and will error in future. Ensure you extract a single element from your array before performing this operation. (Deprecated NumPy 1.25.)\n",
      "  score = float(loaded_model.predict(pad_new)) # 예측\n"
     ]
    }
   ],
   "source": [
    "sentiment_predict(\"이번 분기 실적이 예상보다 나빠서 주가가 크게 하락할 것 같아요.\"\n",
    ")"
   ]
  },
  {
   "cell_type": "code",
   "execution_count": 89,
   "metadata": {},
   "outputs": [
    {
     "name": "stdout",
     "output_type": "stream",
     "text": [
      "\u001b[1m1/1\u001b[0m \u001b[32m━━━━━━━━━━━━━━━━━━━━\u001b[0m\u001b[37m\u001b[0m \u001b[1m0s\u001b[0m 33ms/step\n",
      "99.86% 확률로 부정 리뷰입니다.\n",
      "\n",
      "\u001b[1m1/1\u001b[0m \u001b[32m━━━━━━━━━━━━━━━━━━━━\u001b[0m\u001b[37m\u001b[0m \u001b[1m0s\u001b[0m 34ms/step\n",
      "92.74% 확률로 부정 리뷰입니다.\n",
      "\n",
      "\u001b[1m1/1\u001b[0m \u001b[32m━━━━━━━━━━━━━━━━━━━━\u001b[0m\u001b[37m\u001b[0m \u001b[1m0s\u001b[0m 33ms/step\n",
      "95.86% 확률로 긍정 리뷰입니다.\n",
      "\n"
     ]
    },
    {
     "name": "stderr",
     "output_type": "stream",
     "text": [
      "C:\\Users\\hydrl\\AppData\\Local\\Temp\\ipykernel_14132\\2334245811.py:7: DeprecationWarning: Conversion of an array with ndim > 0 to a scalar is deprecated, and will error in future. Ensure you extract a single element from your array before performing this operation. (Deprecated NumPy 1.25.)\n",
      "  score = float(loaded_model.predict(pad_new)) # 예측\n"
     ]
    },
    {
     "name": "stdout",
     "output_type": "stream",
     "text": [
      "\u001b[1m1/1\u001b[0m \u001b[32m━━━━━━━━━━━━━━━━━━━━\u001b[0m\u001b[37m\u001b[0m \u001b[1m0s\u001b[0m 37ms/step\n",
      "99.91% 확률로 부정 리뷰입니다.\n",
      "\n",
      "\u001b[1m1/1\u001b[0m \u001b[32m━━━━━━━━━━━━━━━━━━━━\u001b[0m\u001b[37m\u001b[0m \u001b[1m0s\u001b[0m 31ms/step\n",
      "90.22% 확률로 부정 리뷰입니다.\n",
      "\n",
      "\u001b[1m1/1\u001b[0m \u001b[32m━━━━━━━━━━━━━━━━━━━━\u001b[0m\u001b[37m\u001b[0m \u001b[1m0s\u001b[0m 34ms/step\n",
      "61.46% 확률로 긍정 리뷰입니다.\n",
      "\n",
      "\u001b[1m1/1\u001b[0m \u001b[32m━━━━━━━━━━━━━━━━━━━━\u001b[0m\u001b[37m\u001b[0m \u001b[1m0s\u001b[0m 37ms/step\n",
      "99.59% 확률로 부정 리뷰입니다.\n",
      "\n",
      "\u001b[1m1/1\u001b[0m \u001b[32m━━━━━━━━━━━━━━━━━━━━\u001b[0m\u001b[37m\u001b[0m \u001b[1m0s\u001b[0m 34ms/step\n",
      "99.94% 확률로 부정 리뷰입니다.\n",
      "\n",
      "\u001b[1m1/1\u001b[0m \u001b[32m━━━━━━━━━━━━━━━━━━━━\u001b[0m\u001b[37m\u001b[0m \u001b[1m0s\u001b[0m 35ms/step\n",
      "99.87% 확률로 긍정 리뷰입니다.\n",
      "\n",
      "\u001b[1m1/1\u001b[0m \u001b[32m━━━━━━━━━━━━━━━━━━━━\u001b[0m\u001b[37m\u001b[0m \u001b[1m0s\u001b[0m 34ms/step\n",
      "99.90% 확률로 부정 리뷰입니다.\n",
      "\n",
      "\u001b[1m1/1\u001b[0m \u001b[32m━━━━━━━━━━━━━━━━━━━━\u001b[0m\u001b[37m\u001b[0m \u001b[1m0s\u001b[0m 31ms/step\n",
      "62.42% 확률로 긍정 리뷰입니다.\n",
      "\n",
      "\u001b[1m1/1\u001b[0m \u001b[32m━━━━━━━━━━━━━━━━━━━━\u001b[0m\u001b[37m\u001b[0m \u001b[1m0s\u001b[0m 39ms/step\n",
      "100.00% 확률로 부정 리뷰입니다.\n",
      "\n",
      "\u001b[1m1/1\u001b[0m \u001b[32m━━━━━━━━━━━━━━━━━━━━\u001b[0m\u001b[37m\u001b[0m \u001b[1m0s\u001b[0m 36ms/step\n",
      "99.86% 확률로 부정 리뷰입니다.\n",
      "\n",
      "\u001b[1m1/1\u001b[0m \u001b[32m━━━━━━━━━━━━━━━━━━━━\u001b[0m\u001b[37m\u001b[0m \u001b[1m0s\u001b[0m 43ms/step\n",
      "92.74% 확률로 부정 리뷰입니다.\n",
      "\n",
      "\u001b[1m1/1\u001b[0m \u001b[32m━━━━━━━━━━━━━━━━━━━━\u001b[0m\u001b[37m\u001b[0m \u001b[1m0s\u001b[0m 40ms/step\n",
      "95.86% 확률로 긍정 리뷰입니다.\n",
      "\n",
      "\u001b[1m1/1\u001b[0m \u001b[32m━━━━━━━━━━━━━━━━━━━━\u001b[0m\u001b[37m\u001b[0m \u001b[1m0s\u001b[0m 31ms/step\n",
      "99.91% 확률로 부정 리뷰입니다.\n",
      "\n",
      "\u001b[1m1/1\u001b[0m \u001b[32m━━━━━━━━━━━━━━━━━━━━\u001b[0m\u001b[37m\u001b[0m \u001b[1m0s\u001b[0m 33ms/step\n",
      "90.22% 확률로 부정 리뷰입니다.\n",
      "\n",
      "\u001b[1m1/1\u001b[0m \u001b[32m━━━━━━━━━━━━━━━━━━━━\u001b[0m\u001b[37m\u001b[0m \u001b[1m0s\u001b[0m 32ms/step\n",
      "61.46% 확률로 긍정 리뷰입니다.\n",
      "\n",
      "\u001b[1m1/1\u001b[0m \u001b[32m━━━━━━━━━━━━━━━━━━━━\u001b[0m\u001b[37m\u001b[0m \u001b[1m0s\u001b[0m 32ms/step\n",
      "99.59% 확률로 부정 리뷰입니다.\n",
      "\n",
      "\u001b[1m1/1\u001b[0m \u001b[32m━━━━━━━━━━━━━━━━━━━━\u001b[0m\u001b[37m\u001b[0m \u001b[1m0s\u001b[0m 28ms/step\n",
      "99.94% 확률로 부정 리뷰입니다.\n",
      "\n",
      "\u001b[1m1/1\u001b[0m \u001b[32m━━━━━━━━━━━━━━━━━━━━\u001b[0m\u001b[37m\u001b[0m \u001b[1m0s\u001b[0m 40ms/step\n",
      "99.87% 확률로 긍정 리뷰입니다.\n",
      "\n",
      "\u001b[1m1/1\u001b[0m \u001b[32m━━━━━━━━━━━━━━━━━━━━\u001b[0m\u001b[37m\u001b[0m \u001b[1m0s\u001b[0m 35ms/step\n",
      "99.90% 확률로 부정 리뷰입니다.\n",
      "\n",
      "\u001b[1m1/1\u001b[0m \u001b[32m━━━━━━━━━━━━━━━━━━━━\u001b[0m\u001b[37m\u001b[0m \u001b[1m0s\u001b[0m 50ms/step\n",
      "99.96% 확률로 긍정 리뷰입니다.\n",
      "\n",
      "\u001b[1m1/1\u001b[0m \u001b[32m━━━━━━━━━━━━━━━━━━━━\u001b[0m\u001b[37m\u001b[0m \u001b[1m0s\u001b[0m 35ms/step\n",
      "100.00% 확률로 긍정 리뷰입니다.\n",
      "\n",
      "\u001b[1m1/1\u001b[0m \u001b[32m━━━━━━━━━━━━━━━━━━━━\u001b[0m\u001b[37m\u001b[0m \u001b[1m0s\u001b[0m 34ms/step\n",
      "100.00% 확률로 긍정 리뷰입니다.\n",
      "\n",
      "\u001b[1m1/1\u001b[0m \u001b[32m━━━━━━━━━━━━━━━━━━━━\u001b[0m\u001b[37m\u001b[0m \u001b[1m0s\u001b[0m 36ms/step\n",
      "100.00% 확률로 긍정 리뷰입니다.\n",
      "\n",
      "\u001b[1m1/1\u001b[0m \u001b[32m━━━━━━━━━━━━━━━━━━━━\u001b[0m\u001b[37m\u001b[0m \u001b[1m0s\u001b[0m 34ms/step\n",
      "100.00% 확률로 긍정 리뷰입니다.\n",
      "\n",
      "\u001b[1m1/1\u001b[0m \u001b[32m━━━━━━━━━━━━━━━━━━━━\u001b[0m\u001b[37m\u001b[0m \u001b[1m0s\u001b[0m 58ms/step\n",
      "99.89% 확률로 긍정 리뷰입니다.\n",
      "\n",
      "\u001b[1m1/1\u001b[0m \u001b[32m━━━━━━━━━━━━━━━━━━━━\u001b[0m\u001b[37m\u001b[0m \u001b[1m0s\u001b[0m 35ms/step\n",
      "98.44% 확률로 긍정 리뷰입니다.\n",
      "\n",
      "\u001b[1m1/1\u001b[0m \u001b[32m━━━━━━━━━━━━━━━━━━━━\u001b[0m\u001b[37m\u001b[0m \u001b[1m0s\u001b[0m 34ms/step\n",
      "99.77% 확률로 긍정 리뷰입니다.\n",
      "\n",
      "\u001b[1m1/1\u001b[0m \u001b[32m━━━━━━━━━━━━━━━━━━━━\u001b[0m\u001b[37m\u001b[0m \u001b[1m0s\u001b[0m 33ms/step\n",
      "99.98% 확률로 긍정 리뷰입니다.\n",
      "\n",
      "\u001b[1m1/1\u001b[0m \u001b[32m━━━━━━━━━━━━━━━━━━━━\u001b[0m\u001b[37m\u001b[0m \u001b[1m0s\u001b[0m 29ms/step\n",
      "99.98% 확률로 긍정 리뷰입니다.\n",
      "\n",
      "\u001b[1m1/1\u001b[0m \u001b[32m━━━━━━━━━━━━━━━━━━━━\u001b[0m\u001b[37m\u001b[0m \u001b[1m0s\u001b[0m 34ms/step\n",
      "100.00% 확률로 긍정 리뷰입니다.\n",
      "\n",
      "\u001b[1m1/1\u001b[0m \u001b[32m━━━━━━━━━━━━━━━━━━━━\u001b[0m\u001b[37m\u001b[0m \u001b[1m0s\u001b[0m 30ms/step\n",
      "99.98% 확률로 긍정 리뷰입니다.\n",
      "\n",
      "\u001b[1m1/1\u001b[0m \u001b[32m━━━━━━━━━━━━━━━━━━━━\u001b[0m\u001b[37m\u001b[0m \u001b[1m0s\u001b[0m 35ms/step\n",
      "100.00% 확률로 긍정 리뷰입니다.\n",
      "\n"
     ]
    }
   ],
   "source": [
    "negative_sentences = [\n",
    "    \"이번 분기 실적이 예상보다 나빠서 주가가 크게 하락할 것 같아요.\", # 부정\n",
    "    \"이 기업의 경영진이 믿을 수 없어서 투자하기가 망설여집니다.\", # 부정\n",
    "    \"최근 뉴스에서 부정적인 이슈가 많아 주식이 불안정합니다.\",  # 부정\n",
    "    \"주가가 계속 하락세인데, 더 이상 보유할 이유가 없네요.\",    # 부정\n",
    "    \"이 회사의 제품이 소비자에게 외면받고 있어서 걱정입니다.\",  # 부정\n",
    "    \"전문가들이 이 종목을 추천하지 않아서 매도해야 할 것 같아요.\",  # 부정\n",
    "    \"지속적인 적자에 시달리고 있어서 회복이 힘들 것 같습니다.\", # 부정  \n",
    "    \"주식 시장 전반이 불안정한데 이 종목은 더 위험해 보입니다.\",    # 부정\n",
    "    \"배당금이 줄어들었고, 앞으로도 회복 가능성이 낮아 보입니다.\",   # 부정\n",
    "    \"외국인 투자자들이 빠져나가고 있어 주가에 부정적인 영향을 미칠 것 같습니다.\",   # 부정\n",
    "    \"이 회사는 실적이 계속 나빠지고 있어요. 이제는 매도해야 할 때인 것 같습니다.\",  # 부정\n",
    "    \"주가가 너무 비싸요. 조정이 올 것 같아서 걱정입니다.\",  # 부정\n",
    "    \"이번 분기 실적이 예상보다 나빠서 주가가 크게 하락할 것 같아요.\",   # 부정\n",
    "    \"이 기업의 경영진이 믿을 수 없어서 투자하기가 망설여집니다.\",   # 부정\n",
    "    \"최근 뉴스에서 부정적인 이슈가 많아 주식이 불안정합니다.\",  # 부정\n",
    "    \"주가가 계속 하락세인데, 더 이상 보유할 이유가 없네요.\",    # 부정\n",
    "    \"이 회사의 제품이 소비자에게 외면받고 있어서 걱정입니다.\",  # 부정\n",
    "    \"전문가들이 이 종목을 추천하지 않아서 매도해야 할 것 같아요.\",  # 부정\n",
    "    \"지속적인 적자에 시달리고 있어서 회복이 힘들 것 같습니다.\", # 부정\n",
    "    \"주식 시장 전반이 불안정한데 이 종목은 더 위험해 보입니다.\",    # 부정\n",
    "    \"배당금이 줄어들었고, 앞으로도 회복 가능성이 낮아 보입니다.\",   # 부정\n",
    "    \"외국인 투자자들이 빠져나가고 있어 주가에 부정적인 영향을 미칠 것 같습니다.\",    # 부정\n",
    "    \"이 회사의 성장 가능성이 정말 기대돼요! 앞으로 주가가 오를 것 같습니다.\",  # 긍정\n",
    "    \"이번 분기 실적이 예상보다 좋았어요. 강력한 매수 추천합니다!\",  # 긍정\n",
    "    \"이 주식은 장기 투자로 정말 좋은 선택입니다. 믿고 투자하세요!\",  # 긍정\n",
    "    \"이번 분기 실적이 기대 이상이라 주가가 상승할 것 같아요.\",\n",
    "    \"이 회사의 기술력이 탁월해서 앞으로의 성장 가능성이 큽니다.\",\n",
    "    \"주식이 오랜만에 반등해서 너무 기쁘네요!\",\n",
    "    \"상장 이후 꾸준히 오르는 모습에 투자하기 잘했다는 생각이 들어요.\",\n",
    "    \"외국인 투자자들이 많이 들어오고 있어서 긍정적인 신호입니다.\",\n",
    "    \"배당금이 증가해서 안정적인 투자처로 보입니다.\",\n",
    "    \"이 기업의 새로운 제품이 시장에서 좋은 반응을 얻고 있습니다.\",\n",
    "    \"전문가들이 추천하는 종목이라 믿고 투자하고 있습니다.\",\n",
    "    \"최근 긍정적인 뉴스가 많아 주가가 더 오를 것 같아요.\",\n",
    "    \"이 회사의 비전이 확실해서 장기 투자로 괜찮다고 생각해요.\"\n",
    "]\n",
    "\n",
    "for sentence in negative_sentences:\n",
    "    sentiment_predict(sentence)"
   ]
  },
  {
   "cell_type": "code",
   "execution_count": null,
   "metadata": {},
   "outputs": [],
   "source": [
    "긍정은 잘 찾는데 부정을 잘 못찾는다\n",
    "\n",
    "부정단어에 큰 감점"
   ]
  },
  {
   "cell_type": "code",
   "execution_count": null,
   "metadata": {},
   "outputs": [],
   "source": [
    "\"이번 분기 실적이 예상보다 나빠서 주가가 크게 하락할 것 같아요.\"\n",
    "\"이 기업의 경영진이 믿을 수 없어서 투자하기가 망설여집니다.\"\n",
    "\"최근 뉴스에서 부정적인 이슈가 많아 주식이 불안정합니다.\"\n",
    "\"주가가 계속 하락세인데, 더 이상 보유할 이유가 없네요.\"\n",
    "\"이 회사의 제품이 소비자에게 외면받고 있어서 걱정입니다.\"\n",
    "\"전문가들이 이 종목을 추천하지 않아서 매도해야 할 것 같아요.\"\n",
    "\"지속적인 적자에 시달리고 있어서 회복이 힘들 것 같습니다.\"\n",
    "\"주식 시장 전반이 불안정한데 이 종목은 더 위험해 보입니다.\"\n",
    "\"배당금이 줄어들었고, 앞으로도 회복 가능성이 낮아 보입니다.\"\n",
    "\"외국인 투자자들이 빠져나가고 있어 주가에 부정적인 영향을 미칠 것 같습니다.\""
   ]
  },
  {
   "cell_type": "code",
   "execution_count": 22,
   "metadata": {},
   "outputs": [],
   "source": [
    "# 주식 커뮤니티 샘플 문장\n",
    "test_samples = [\n",
    "    \"이 회사의 성장 가능성이 정말 기대돼요! 앞으로 주가가 오를 것 같습니다.\",  # 긍정\n",
    "    \"이번 분기 실적이 예상보다 좋았어요. 강력한 매수 추천합니다!\",  # 긍정\n",
    "    \"이 주식은 장기 투자로 정말 좋은 선택입니다. 믿고 투자하세요!\",  # 긍정\n",
    "    \"이 회사는 실적이 계속 나빠지고 있어요. 이제는 매도해야 할 때인 것 같습니다.\",  # 부정\n",
    "    \"주가가 너무 비싸요. 조정이 올 것 같아서 걱정입니다.\"  # 부정\n",
    "]"
   ]
  },
  {
   "cell_type": "code",
   "execution_count": null,
   "metadata": {},
   "outputs": [],
   "source": []
  },
  {
   "cell_type": "code",
   "execution_count": 23,
   "metadata": {},
   "outputs": [],
   "source": [
    "X_test_samples = vectorizer.transform(test_samples)"
   ]
  },
  {
   "cell_type": "code",
   "execution_count": 24,
   "metadata": {},
   "outputs": [
    {
     "name": "stdout",
     "output_type": "stream",
     "text": [
      "\u001b[1m1/1\u001b[0m \u001b[32m━━━━━━━━━━━━━━━━━━━━\u001b[0m\u001b[37m\u001b[0m \u001b[1m0s\u001b[0m 68ms/step\n",
      "문장: '이 회사의 성장 가능성이 정말 기대돼요! 앞으로 주가가 오를 것 같습니다.' -> 예측: 긍정\n",
      "문장: '이번 분기 실적이 예상보다 좋았어요. 강력한 매수 추천합니다!' -> 예측: 긍정\n",
      "문장: '이 주식은 장기 투자로 정말 좋은 선택입니다. 믿고 투자하세요!' -> 예측: 부정\n",
      "문장: '이 회사는 실적이 계속 나빠지고 있어요. 이제는 매도해야 할 때인 것 같습니다.' -> 예측: 부정\n",
      "문장: '주가가 너무 비싸요. 조정이 올 것 같아서 걱정입니다.' -> 예측: 긍정\n"
     ]
    }
   ],
   "source": [
    "# 예측\n",
    "y_pred = model.predict(X_test_samples)\n",
    "y_pred_classes = [1 if p > 0.5 else 0 for p in y_pred]\n",
    "\n",
    "# 결과 출력\n",
    "for sample, pred in zip(test_samples, y_pred_classes):\n",
    "    sentiment = \"긍정\" if pred == 1 else \"부정\"\n",
    "    print(f\"문장: '{sample}' -> 예측: {sentiment}\")"
   ]
  },
  {
   "cell_type": "code",
   "execution_count": null,
   "metadata": {},
   "outputs": [],
   "source": []
  }
 ],
 "metadata": {
  "kernelspec": {
   "display_name": "base",
   "language": "python",
   "name": "python3"
  },
  "language_info": {
   "codemirror_mode": {
    "name": "ipython",
    "version": 3
   },
   "file_extension": ".py",
   "mimetype": "text/x-python",
   "name": "python",
   "nbconvert_exporter": "python",
   "pygments_lexer": "ipython3",
   "version": "3.12.7"
  }
 },
 "nbformat": 4,
 "nbformat_minor": 2
}
