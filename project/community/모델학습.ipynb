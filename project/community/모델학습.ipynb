{
 "cells": [
  {
   "cell_type": "code",
   "execution_count": 1,
   "metadata": {},
   "outputs": [],
   "source": [
    "import pandas as pd\n",
    "import numpy as np\n",
    "import matplotlib.pyplot as plt"
   ]
  },
  {
   "cell_type": "code",
   "execution_count": 2,
   "metadata": {},
   "outputs": [],
   "source": [
    "from konlpy.tag import Okt"
   ]
  },
  {
   "cell_type": "code",
   "execution_count": 3,
   "metadata": {},
   "outputs": [],
   "source": [
    "from sklearn.model_selection import train_test_split\n",
    "from sklearn.feature_extraction.text import TfidfVectorizer\n",
    "from sklearn.metrics import classification_report"
   ]
  },
  {
   "cell_type": "code",
   "execution_count": 4,
   "metadata": {},
   "outputs": [],
   "source": [
    "from tensorflow.keras.models import Sequential\n",
    "from tensorflow.keras.layers import Embedding, Dense, LSTM\n",
    "from tensorflow.keras.callbacks import EarlyStopping, ModelCheckpoint\n",
    "from tensorflow.keras.preprocessing.text import Tokenizer\n",
    "from tensorflow.keras.preprocessing.sequence import pad_sequences"
   ]
  },
  {
   "cell_type": "code",
   "execution_count": 9,
   "metadata": {},
   "outputs": [],
   "source": [
    "import pickle\n",
    "import re\n",
    "import os\n",
    "import json"
   ]
  },
  {
   "cell_type": "code",
   "execution_count": 6,
   "metadata": {},
   "outputs": [],
   "source": [
    "from tensorflow.keras.models import load_model"
   ]
  },
  {
   "cell_type": "code",
   "execution_count": 7,
   "metadata": {},
   "outputs": [],
   "source": [
    "from tqdm import tqdm"
   ]
  },
  {
   "cell_type": "code",
   "execution_count": 8,
   "metadata": {},
   "outputs": [],
   "source": [
    "okt = Okt()"
   ]
  },
  {
   "cell_type": "code",
   "execution_count": 10,
   "metadata": {},
   "outputs": [],
   "source": [
    "result2 = pd.read_csv('community_add_market2.csv')"
   ]
  },
  {
   "cell_type": "code",
   "execution_count": 13,
   "metadata": {},
   "outputs": [
    {
     "data": {
      "text/html": [
       "<div>\n",
       "<style scoped>\n",
       "    .dataframe tbody tr th:only-of-type {\n",
       "        vertical-align: middle;\n",
       "    }\n",
       "\n",
       "    .dataframe tbody tr th {\n",
       "        vertical-align: top;\n",
       "    }\n",
       "\n",
       "    .dataframe thead th {\n",
       "        text-align: right;\n",
       "    }\n",
       "</style>\n",
       "<table border=\"1\" class=\"dataframe\">\n",
       "  <thead>\n",
       "    <tr style=\"text-align: right;\">\n",
       "      <th></th>\n",
       "      <th>닉네임</th>\n",
       "      <th>날짜</th>\n",
       "      <th>내용</th>\n",
       "      <th>종목</th>\n",
       "      <th>내용_토큰</th>\n",
       "      <th>label</th>\n",
       "      <th>시장</th>\n",
       "    </tr>\n",
       "  </thead>\n",
       "  <tbody>\n",
       "    <tr>\n",
       "      <th>0</th>\n",
       "      <td>GROK</td>\n",
       "      <td>2025-01-11T22:59:18+09:00</td>\n",
       "      <td>- 디자인 변화: S25 울트라는 기존의 각진 디자인에서 둥근 모서리로 변경되었으며...</td>\n",
       "      <td>005930</td>\n",
       "      <td>디자인 변화 울트라 기존 디자인 에서 둥글다 모서리 변경 되어다 카메라 모듈 디자인...</td>\n",
       "      <td>1</td>\n",
       "      <td>KOSPI</td>\n",
       "    </tr>\n",
       "    <tr>\n",
       "      <th>1</th>\n",
       "      <td>공감아</td>\n",
       "      <td>2025-01-11T22:47:22+09:00</td>\n",
       "      <td>7만원 8만원에 물려있는게 대부분이라 7만원까지 혹여 올라도 물려있던분들은 원금 회...</td>\n",
       "      <td>005930</td>\n",
       "      <td>만원 만원 물리다 대부분 이라 만원 까지 오르다 물리다 분들 원금 회복 다시 매도 ...</td>\n",
       "      <td>-2</td>\n",
       "      <td>KOSPI</td>\n",
       "    </tr>\n",
       "  </tbody>\n",
       "</table>\n",
       "</div>"
      ],
      "text/plain": [
       "    닉네임                         날짜  \\\n",
       "0  GROK  2025-01-11T22:59:18+09:00   \n",
       "1   공감아  2025-01-11T22:47:22+09:00   \n",
       "\n",
       "                                                  내용      종목  \\\n",
       "0  - 디자인 변화: S25 울트라는 기존의 각진 디자인에서 둥근 모서리로 변경되었으며...  005930   \n",
       "1  7만원 8만원에 물려있는게 대부분이라 7만원까지 혹여 올라도 물려있던분들은 원금 회...  005930   \n",
       "\n",
       "                                               내용_토큰  label     시장  \n",
       "0  디자인 변화 울트라 기존 디자인 에서 둥글다 모서리 변경 되어다 카메라 모듈 디자인...      1  KOSPI  \n",
       "1  만원 만원 물리다 대부분 이라 만원 까지 오르다 물리다 분들 원금 회복 다시 매도 ...     -2  KOSPI  "
      ]
     },
     "execution_count": 13,
     "metadata": {},
     "output_type": "execute_result"
    }
   ],
   "source": [
    "result2.head(2)"
   ]
  },
  {
   "cell_type": "code",
   "execution_count": 14,
   "metadata": {},
   "outputs": [
    {
     "data": {
      "text/plain": [
       "label\n",
       "-2    46574\n",
       " 0    17397\n",
       " 1    13676\n",
       "Name: count, dtype: int64"
      ]
     },
     "execution_count": 14,
     "metadata": {},
     "output_type": "execute_result"
    }
   ],
   "source": [
    "result2['label'].value_counts()"
   ]
  },
  {
   "cell_type": "code",
   "execution_count": 15,
   "metadata": {},
   "outputs": [],
   "source": [
    "result2 = result2.drop_duplicates(subset=['내용_토큰'])"
   ]
  },
  {
   "cell_type": "code",
   "execution_count": 16,
   "metadata": {},
   "outputs": [
    {
     "data": {
      "text/plain": [
       "label\n",
       "-2    37840\n",
       " 0    16149\n",
       " 1    12916\n",
       "Name: count, dtype: int64"
      ]
     },
     "execution_count": 16,
     "metadata": {},
     "output_type": "execute_result"
    }
   ],
   "source": [
    "result2['label'].value_counts()"
   ]
  },
  {
   "cell_type": "code",
   "execution_count": 31,
   "metadata": {},
   "outputs": [],
   "source": [
    "# label 열의 값 개수 세기\n",
    "label_counts = result2['label'].value_counts()"
   ]
  },
  {
   "cell_type": "code",
   "execution_count": 32,
   "metadata": {},
   "outputs": [
    {
     "data": {
      "image/png": "[encoded data removed]",
      "text/plain": [
       "<Figure size 800x600 with 1 Axes>"
      ]
     },
     "metadata": {},
     "output_type": "display_data"
    }
   ],
   "source": [
    "# 파이차트 그리기\n",
    "plt.figure(figsize=(8, 6))\n",
    "plt.pie(label_counts, labels=label_counts.index, autopct='%1.1f%%', startangle=90)\n",
    "plt.title('긍정/부정 label 비율')\n",
    "plt.axis('equal')  # 원형으로 만들기\n",
    "plt.show()"
   ]
  },
  {
   "cell_type": "code",
   "execution_count": 17,
   "metadata": {},
   "outputs": [],
   "source": [
    "# 언더 샘플링\n",
    "\n",
    "sample_data_positive = result2[result2['label'] == 1].sample(12916)\n",
    "sample_data_negative = result2[result2['label'] == 0].sample(12916)\n",
    "\n",
    "total_data = pd.concat([sample_data_positive,sample_data_negative])"
   ]
  },
  {
   "cell_type": "code",
   "execution_count": 20,
   "metadata": {},
   "outputs": [
    {
     "name": "stdout",
     "output_type": "stream",
     "text": [
      "<class 'pandas.core.frame.DataFrame'>\n",
      "Index: 25832 entries, 47043 to 59391\n",
      "Data columns (total 7 columns):\n",
      " #   Column  Non-Null Count  Dtype \n",
      "---  ------  --------------  ----- \n",
      " 0   닉네임     25832 non-null  object\n",
      " 1   날짜      25832 non-null  object\n",
      " 2   내용      25832 non-null  object\n",
      " 3   종목      25832 non-null  object\n",
      " 4   내용_토큰   25832 non-null  object\n",
      " 5   label   25832 non-null  int64 \n",
      " 6   시장      25832 non-null  object\n",
      "dtypes: int64(1), object(6)\n",
      "memory usage: 1.6+ MB\n"
     ]
    }
   ],
   "source": [
    "total_data.info()"
   ]
  },
  {
   "cell_type": "code",
   "execution_count": 21,
   "metadata": {},
   "outputs": [
    {
     "data": {
      "text/plain": [
       "25832"
      ]
     },
     "execution_count": 21,
     "metadata": {},
     "output_type": "execute_result"
    }
   ],
   "source": [
    "total_data['내용'].nunique()"
   ]
  },
  {
   "cell_type": "code",
   "execution_count": 22,
   "metadata": {},
   "outputs": [],
   "source": [
    "# 학습 데이터와, 테스트 데이터를 구분\n",
    "train_data, test_data = train_test_split(total_data, test_size=0.25, random_state=2025)"
   ]
  },
  {
   "cell_type": "code",
   "execution_count": 38,
   "metadata": {},
   "outputs": [
    {
     "data": {
      "text/plain": [
       "<Axes: xlabel='label'>"
      ]
     },
     "execution_count": 38,
     "metadata": {},
     "output_type": "execute_result"
    },
    {
     "data": {
      "image/png": "[encoded data removed]",
      "text/plain": [
       "<Figure size 640x480 with 1 Axes>"
      ]
     },
     "metadata": {},
     "output_type": "display_data"
    }
   ],
   "source": [
    "train_data['label'].value_counts().plot(kind = 'bar')"
   ]
  },
  {
   "cell_type": "code",
   "execution_count": 23,
   "metadata": {},
   "outputs": [
    {
     "data": {
      "text/plain": [
       "(19374, 2)"
      ]
     },
     "execution_count": 23,
     "metadata": {},
     "output_type": "execute_result"
    }
   ],
   "source": [
    "# 내용 열과 label 열의 중복을 제외한 값의 개수\n",
    "train_data['내용'].nunique(), train_data['label'].nunique()"
   ]
  },
  {
   "cell_type": "code",
   "execution_count": 24,
   "metadata": {},
   "outputs": [
    {
     "name": "stdout",
     "output_type": "stream",
     "text": [
      "총 샘플의 수 : 19374\n"
     ]
    }
   ],
   "source": [
    "print('총 샘플의 수 :',len(train_data))"
   ]
  },
  {
   "cell_type": "code",
   "execution_count": 25,
   "metadata": {},
   "outputs": [
    {
     "name": "stdout",
     "output_type": "stream",
     "text": [
      "   label  count\n",
      "0      0   9634\n",
      "1      1   9740\n"
     ]
    }
   ],
   "source": [
    "print(train_data.groupby('label').size().reset_index(name = 'count'))"
   ]
  },
  {
   "cell_type": "code",
   "execution_count": 26,
   "metadata": {},
   "outputs": [
    {
     "name": "stdout",
     "output_type": "stream",
     "text": [
      "False\n"
     ]
    }
   ],
   "source": [
    "print(train_data.isnull().values.any())"
   ]
  },
  {
   "cell_type": "code",
   "execution_count": 43,
   "metadata": {},
   "outputs": [
    {
     "name": "stdout",
     "output_type": "stream",
     "text": [
      "닉네임      0\n",
      "날짜       0\n",
      "내용       0\n",
      "종목       0\n",
      "내용_토큰    0\n",
      "label    0\n",
      "시장       0\n",
      "dtype: int64\n"
     ]
    }
   ],
   "source": [
    "print(train_data.isnull().sum())"
   ]
  },
  {
   "cell_type": "code",
   "execution_count": 27,
   "metadata": {},
   "outputs": [
    {
     "name": "stdout",
     "output_type": "stream",
     "text": [
      "<class 'pandas.core.frame.DataFrame'>\n",
      "Index: 19374 entries, 46839 to 5758\n",
      "Data columns (total 7 columns):\n",
      " #   Column  Non-Null Count  Dtype \n",
      "---  ------  --------------  ----- \n",
      " 0   닉네임     19374 non-null  object\n",
      " 1   날짜      19374 non-null  object\n",
      " 2   내용      19374 non-null  object\n",
      " 3   종목      19374 non-null  object\n",
      " 4   내용_토큰   19374 non-null  object\n",
      " 5   label   19374 non-null  int64 \n",
      " 6   시장      19374 non-null  object\n",
      "dtypes: int64(1), object(6)\n",
      "memory usage: 1.2+ MB\n"
     ]
    }
   ],
   "source": [
    "# 한글과 공백을 제외하고 모두 제거\n",
    "train_data['내용'] = train_data['내용'].str.replace(\"[^ㄱ-ㅎㅏ-ㅣ가-힣 ]\",\"\", regex=True)\n",
    "# train_data[:5]\n",
    "train_data.info()"
   ]
  },
  {
   "cell_type": "code",
   "execution_count": null,
   "metadata": {},
   "outputs": [
    {
     "name": "stdout",
     "output_type": "stream",
     "text": [
      "닉네임      0\n",
      "날짜       0\n",
      "내용       0\n",
      "종목       0\n",
      "내용_토큰    0\n",
      "label    0\n",
      "시장       0\n",
      "dtype: int64\n"
     ]
    }
   ],
   "source": [
    "# train_data['내용'] = train_data['내용'].str.replace('^ +', \"\", regex=True) # white space 데이터를 empty value로 변경\n",
    "# train_data['내용'] = train_data['내용'].replace('', np.nan)\n",
    "# print(train_data.isnull().sum())"
   ]
  },
  {
   "cell_type": "code",
   "execution_count": 29,
   "metadata": {},
   "outputs": [
    {
     "name": "stdout",
     "output_type": "stream",
     "text": [
      "전처리 후 테스트용 샘플의 개수 : 6458\n"
     ]
    }
   ],
   "source": [
    "test_data.drop_duplicates(subset = ['내용'], inplace=True) # document 열에서 중복인 내용이 있다면 중복 제거\n",
    "test_data['내용'] = test_data['내용'].str.replace(\"[^ㄱ-ㅎㅏ-ㅣ가-힣 ]\",\"\", regex=True) # 정규 표현식 수행\n",
    "test_data['내용'] = test_data['내용'].str.replace('^ +', \"\", regex=True) # 공백은 empty 값으로 변경\n",
    "test_data['내용'] = test_data['내용'].replace('', np.nan) # 공백은 Null 값으로 변경\n",
    "test_data = test_data.dropna(how='any') # Null 값 제거\n",
    "print('전처리 후 테스트용 샘플의 개수 :',len(test_data))\n"
   ]
  },
  {
   "cell_type": "code",
   "execution_count": 31,
   "metadata": {},
   "outputs": [],
   "source": [
    "stopwords = ['의','가','이','은','들','는',\n",
    "             '좀','잘','걍','과','도','를',\n",
    "             '으로','자','에','와','한','하다',\n",
    "             '을','있다','되다','보다','로','이다',\n",
    "             '요','일','안','것','주','다','년','속',\n",
    "             '합', '니', '딘','저', '두', '적','고',\n",
    "             '나', '인', '멱', '기'\n",
    "             ]"
   ]
  },
  {
   "cell_type": "code",
   "execution_count": 32,
   "metadata": {},
   "outputs": [
    {
     "name": "stderr",
     "output_type": "stream",
     "text": [
      "100%|██████████| 19374/19374 [00:57<00:00, 338.67it/s]\n"
     ]
    }
   ],
   "source": [
    "X_train = []\n",
    "for sentence in tqdm(train_data['내용']):\n",
    "    tokenized_sentence = okt.morphs(sentence, stem=True) # 토큰화\n",
    "    stopwords_removed_sentence = [word for word in tokenized_sentence if not word in stopwords] # 불용어 제거\n",
    "    X_train.append(stopwords_removed_sentence)\n"
   ]
  },
  {
   "cell_type": "code",
   "execution_count": 33,
   "metadata": {},
   "outputs": [
    {
     "name": "stdout",
     "output_type": "stream",
     "text": [
      "[['기', '관외', '인', '멱', '많다', '크다', '먹다', '이제', '슬슬', '파다', '시작', '그래서', '개미', '만', '죽다'], ['아래', '개', '계좌', '에서', '모으다', '현재', '각', '수익', '중', '인데', '나스닥', '밉다', '배당금', '세', '개다', '조정', '오다', '같다', '번', '싹', '파다', '밉다', '배당', '빼다', '나스닥', '밉다', '배당금', '미국', '채년', '선물'], ['아', '진짜', '모', '냐', '단', '타', '안치', '믿다']]\n"
     ]
    }
   ],
   "source": [
    "print(X_train[:3])"
   ]
  },
  {
   "cell_type": "code",
   "execution_count": 34,
   "metadata": {},
   "outputs": [
    {
     "name": "stderr",
     "output_type": "stream",
     "text": [
      "  0%|          | 0/6458 [00:00<?, ?it/s]"
     ]
    },
    {
     "name": "stderr",
     "output_type": "stream",
     "text": [
      "100%|██████████| 6458/6458 [00:18<00:00, 348.80it/s]\n"
     ]
    }
   ],
   "source": [
    "X_test = []\n",
    "for sentence in tqdm(test_data['내용']):\n",
    "    tokenized_sentence = okt.morphs(sentence, stem=True) # 토큰화\n",
    "    stopwords_removed_sentence = [word for word in tokenized_sentence if not word in stopwords] # 불용어 제거\n",
    "    X_test.append(stopwords_removed_sentence)\n"
   ]
  },
  {
   "cell_type": "code",
   "execution_count": 35,
   "metadata": {},
   "outputs": [],
   "source": [
    "tokenizer = Tokenizer()\n",
    "tokenizer.fit_on_texts(X_train)"
   ]
  },
  {
   "cell_type": "code",
   "execution_count": 36,
   "metadata": {},
   "outputs": [
    {
     "name": "stdout",
     "output_type": "stream",
     "text": [
      "{'없다': 1, '만': 2, '에서': 3, '좋다': 4, '원': 5, '아니다': 6, '오르다': 7, '주가': 8, '떨어지다': 9, '주식': 10, '투자': 11, '더': 12, '같다': 13, '가다': 14, '오늘': 15, '오다': 16, '매수': 17, '까지': 18, '상승': 19, '인': 20, '때': 21, '하고': 22, '받다': 23, '국장': 24, '않다': 25, '수': 26, '성': 27, '생각': 28, '배당': 29, '들다': 30, '만원': 31, '시장': 32, '아': 33, '못': 34, '내': 35, '진짜': 36, '월': 37, '하': 38, '지금': 39, '네': 40, '중': 41, '나오다': 42, '전': 43, '거': 44, '돈': 45, '많다': 46, '미국': 47, '하락': 48, '수익': 49, '분': 50, '왜': 51, '다시': 52, '지': 53, '제': 54, 'ㅋㅋ': 55, '사람': 56, '크다': 57, '인데': 58, '실적': 59, '회사': 60, '성장': 61, '그': 62, '믿다': 63, '시': 64, '기업': 65, '너무': 66, '먹다': 67, '게': 68, '주주': 69, '알다': 70, '면': 71, '또': 72, '그냥': 73, '매출': 74, '매도': 75, '많이': 76, '말': 77, '그렇다': 78, '기': 79, '대': 80, '탈출': 81, '목표': 82, '올라가다': 83, '점': 84, '삼성': 85, '이제': 86, '부터': 87, '등': 88, '억': 89, '장': 90, '사다': 91, '기술': 92, '미장': 93, '주다': 94, '이번': 95, '물': 96, '계속': 97, '개': 98, 'ㅠㅠ': 99, '기다리다': 100, '라': 101, '및': 102, '자다': 103, '버리다': 104, '글로벌': 105, '정도': 106, '삼': 107, '가능성': 108, '너': 109, '기대': 110, '거래': 111, '타다': 112, '종목': 113, '뭐': 114, '호재': 115, '서': 116, 'ㅠ': 117, '날': 118, '예상': 119, '들어오다': 120, '전자': 121, '전망': 122, '맞다': 123, '파다': 124, '현재': 125, '내년': 126, '조': 127, '반도체': 128, '보이다': 129, '되어다': 130, '때문': 131, '대비': 132, '해보다': 133, '상': 134, '증권': 135, '이익': 136, '앞': 137, '기관': 138, '평단': 139, '높다': 140, '올리다': 141, '가격': 142, '이렇다': 143, '이상': 144, '위': 145, '개미': 146, '망하다': 147, '소식': 148, '갈다': 149, '임': 150, '손절': 151, '나다': 152, '보고': 153, '국내': 154, '차다': 155, '치다': 156, '하이닉스': 157, '프로': 158, '여기': 159, '삼전': 160, '내일': 161, '외인': 162, '넘다': 163, '싶다': 164, '야': 165, '늘다': 166, '빠지다': 167, 'ㅋㅋㅋ': 168, '이네': 169, '사업': 170, '나가다': 171, '시작': 172, '한국': 173, '안되다': 174, '들어가다': 175, '모르다': 176, '층': 177, '이라': 178, '이유': 179, '토스': 180, 'ㅋ': 181, '마이너스': 182, '언제': 183, '한번': 184, '영업': 185, 'ㅜㅜ': 186, '확대': 187, '추다': 188, '분기': 189, '에는': 190, '양': 191, '후': 192, '해주다': 193, '하나': 194, '살다': 195, '증가': 196, '어제': 197, '걸': 198, '매': 199, '시간': 200, '개인': 201, '중국': 202, '아직': 203, '올해': 204, '돼다': 205, '금': 206, '모두': 207, '에도': 208, '내리다': 209, '약': 210, '팔': 211, '관련': 212, '이렇게': 213, '어떻다': 214, '그래도': 215, '환율': 216, '몇': 217, '주요': 218, '엔': 219, '이르다': 220, '버티다': 221, '평가': 222, '배당금': 223, '문제': 224, '로봇': 225, '기사': 226, '전략': 227, '외국인': 228, '안정': 229, '개발': 230, '물리다': 231, '내다': 232, '잡다': 233, '상한': 234, '사': 235, '장기': 236, '상황': 237, '지다': 238, '발표': 239, '난': 240, '트럼프': 241, '힘들다': 242, '만들다': 243, '보기': 244, '진입': 245, '말다': 246, 'ㅎㅎ': 247, '기회': 248, '사고': 249, '두다': 250, '분들': 251, '빼다': 252, '통해': 253, '조금': 254, '배': 255, '모으다': 256, '탄핵': 257, '반등': 258, '역시': 259, '세': 260, '함': 261, '차트': 262, '가지': 263, '기준': 264, '따르다': 265, '예정': 266, '분석': 267, '지속': 268, 'ㅎ': 269, '다른': 270, '손': 271, '이나': 272, '기대하다': 273, '화': 274, '매일': 275, '세력': 276, '답': 277, '대한': 278, '투자자': 279, '바라다': 280, '남다': 281, '조정': 282, '이고': 283, '개선': 284, '분할': 285, '해': 286, '급등': 287, '놈': 288, '계약': 289, '게임': 290, '쉬다': 291, '타': 292, '감사하다': 293, '우리': 294, '글': 295, '하하': 296, '바이오': 297, '힘': 298, '리스크': 299, '벌다': 300, '털다': 301, '뜨다': 302, '라고': 303, '젠': 304, '가능하다': 305, '생산': 306, '간': 307, '현': 308, '팔고': 309, '시키다': 310, '죽다': 311, '정말': 312, '바닥': 313, '인가': 314, '듯': 315, '일단': 316, '영향': 317, '얘': 318, '선': 319, '번': 320, '빨리': 321, '달': 322, '유지': 323, '정치': 324, '처럼': 325, '자리': 326, '단': 327, '근데': 328, '빠르다': 329, '나라': 330, '뚫다': 331, '회복': 332, '단타': 333, '드리다': 334, '내려가다': 335, '무섭다': 336, '끄다': 337, '하루': 338, '신': 339, '퍼': 340, '가치': 341, '같이': 342, '형': 343, '어': 344, '가져오다': 345, '계좌': 346, '추가': 347, '공시': 348, '차': 349, '공급': 350, '공장': 351, '재': 352, '중요하다': 353, '줄': 354, '겁니다': 355, '떨구다': 356, '에게': 357, '수요': 358, '일선': 359, 'ㅜ': 360, '보유': 361, '님': 362, '제발': 363, 'ㅋㅋㅋㅋ': 364, '괜찮다': 365, '냐': 366, '미래': 367, '찍다': 368, '알': 369, '넣다': 370, '물량': 371, '주님': 372, '외': 373, '계획': 374, '새해': 375, '결국': 376, '위해': 377, '뉴스': 378, '이건': 379, '씩': 380, '오': 381, '랑': 382, '간다': 383, '니까': 384, '경쟁': 385, '엔비디아': 386, '카카오': 387, '판단': 388, '없이': 389, '경쟁력': 390, '여': 391, '올': 392, '데': 393, '건': 394, '줍다': 395, '대감': 396, '매력': 397, '애': 398, '손실': 399, '리포트': 400, '이후': 401, '악재': 402, '쓰다': 403, '얼마': 404, '배터리': 405, '비중': 406, '건가': 407, '마음': 408, '바로': 409, '발행': 410, '강하다': 411, '아쉽다': 412, '힘내다': 413, '만나다': 414, '가장': 415, '총': 416, '최근': 417, '력': 418, '강화': 419, '어디': 420, '제주항공': 421, '죠': 422, '한화': 423, '특히': 424, '이라고': 425, '산업': 426, '담다': 427, '인하다': 428, '성과': 429, '최대': 430, '일이': 431, '테슬라': 432, '미치다': 433, '메모리': 434, '대다': 435, '만에': 436, '놀다': 437, '비다': 438, '이라도': 439, '이야': 440, '다음': 441, '가보다': 442, '싸다': 443, '확보': 444, '관심': 445, '고맙다': 446, '흐름': 447, 'ㅡㅡ': 448, '동안': 449, '함께': 450, '크게': 451, '추세': 452, '긍정': 453, '저항': 454, '하지만': 455, '달러': 456, '수익률': 457, '코스피': 458, '희망': 459, '그리고': 460, '율': 461, '걱정': 462, '대응': 463, '출시': 464, '밉다': 465, '이기다': 466, '곳': 467, '오른': 468, '얼마나': 469, '사주': 470, '신규': 471, '오전': 472, '규모': 473, '인들': 474, '금리': 475, '최고': 476, '어렵다': 477, '솔루션': 478, '기록': 479, '끝나다': 480, '돌파': 481, '전기차': 482, '정리': 483, '기반': 484, '대단하다': 485, '투하': 486, '호': 487, '기분': 488, '걸리다': 489, '꾸준하다': 490, '반': 491, '성공': 492, '익절': 493, '곧': 494, '이라는': 495, '화이팅': 496, '야하다': 497, '한미': 498, '가요': 499, '량': 500, '결과': 501, '용': 502, '끝': 503, '경우': 504, '여력': 505, '식': 506, '밖에': 507, '라는': 508, '강화하다': 509, '정책': 510, '무슨': 511, '이미': 512, '느낌': 513, '수출': 514, '확인': 515, '절하': 516, '대통령': 517, '행복하다': 518, '팔로우': 519, '기존': 520, '제품': 521, '축하': 522, '주목': 523, '월요일': 524, '든': 525, '해도': 526, '결론': 527, '확장': 528, '에코': 529, '증시': 530, '걸다': 531, '상태': 532, '연': 533, '정보': 534, '지만': 535, '협력': 536, '지수': 537, '지지': 538, '기다': 539, '새롭다': 540, '이슈': 541, '불': 542, '순': 543, '던지다': 544, '수준': 545, '대표': 546, '이런': 547, '해외': 548, '수주': 549, '고생': 550, '사서': 551, '마다': 552, '권': 553, '만큼': 554, '손해': 555, '싫다': 556, '반영': 557, '우리나라': 558, '누가': 559, '양자': 560, '고민': 561, '라도': 562, '뿐': 563, '첫': 564, '팔다': 565, '인가요': 566, '액': 567, '늦다': 568, '아침': 569, '사실': 570, '까지는': 571, '건설': 572, '연말': 573, '판매': 574, '보내다': 575, '치료': 576, '종가': 577, '적다': 578, '회장': 579, '욕': 580, '언': 581, '고객': 582, '작년': 583, '경제': 584, '말고': 585, '모든': 586, '네이버': 587, '제일': 588, '당하다': 589, '전환': 590, '아프다': 591, '구': 592, '시원하다': 593, '절대': 594, '살': 595, '꼭': 596, '보이': 597, '의미': 598, '에너지': 599, '의견': 600, '터지다': 601, '놓다': 602, '그룹': 603, '오후': 604, '확실하다': 605, '에서의': 606, '특허': 607, '에서는': 608, '매물': 609, '마감': 610, '또한': 611, '매다': 612, '익': 613, '조금씩': 614, '욕심': 615, '이랑': 616, '올라오다': 617, '맘': 618, '진행': 619, '현대': 620, '폭': 621, '지켜보다': 622, '마이크론': 623, '중이': 624, '자체': 625, '아직도': 626, '구매': 627, '천': 628, '아깝다': 629, '판': 630, '기도': 631, '투': 632, '에서도': 633, '아무': 634, '비': 635, '신성': 636, '대한민국': 637, '여러분': 638, '지급': 639, '강세': 640, '더욱': 641, '개월': 642, '한테': 643, '매매': 644, '모습': 645, '심하다': 646, '상장': 647, '경영': 648, '떠나다': 649, '락': 650, '항상': 651, '아래': 652, '나스닥': 653, '복': 654, '건지다': 655, '인지': 656, '볼': 657, '바': 658, '세계': 659, '어차피': 660, '따다': 661, '주의': 662, '당': 663, '승인': 664, '멀다': 665, '구간': 666, '열': 667, '갖다': 668, '뭔': 669, '결정': 670, '즈': 671, '가능': 672, '나락': 673, '아주': 674, '그때': 675, '거의': 676, '내용': 677, '경': 678, '금액': 679, '마지막': 680, '중심': 681, '정부': 682, '명': 683, '혁신': 684, '며': 685, '그렇게': 686, '현대차': 687, '생기다': 688, '거래량': 689, '쯤': 690, '열심히': 691, '장난': 692, '선택': 693, '요즘': 694, '폭락': 695, '매입': 696, '실현': 697, '급': 698, '국민': 699, '낼': 700, '엄청': 701, '포인트': 702, '명복': 703, '효과': 704, '존버': 705, '향': 706, '온': 707, '쭉': 708, '다음주': 709, '피': 710, '전체': 711, '자금': 712, '이지만': 713, '안타깝다': 714, '달다': 715, '단기': 716, '잇다': 717, '필요': 718, '대해': 719, '추천': 720, '빌다': 721, '보여주다': 722, '대박': 723, '신분': 724, '이니': 725, '찔끔': 726, '시점': 727, '본인': 728, '쪽': 729, '타이밍': 730, '부문': 731, '구조': 732, '자산': 733, '유증': 734, '겠다': 735, '준비': 736, '성공하다': 737, '분위기': 738, '휴': 739, '솔직하다': 740, '누구': 741, '기적': 742, '핵심': 743, '계': 744, '장비': 745, '데이터': 746, '밑': 747, '초반': 748, '넌': 749, '레인보우': 750, '나쁘다': 751, '매우': 752, '비싸다': 753, '소': 754, '제공': 755, '공매도': 756, '사랑': 757, '테크': 758, '상승세': 759, '로보틱스': 760, '처음': 761, '애도': 762, '그만': 763, '다르다': 764, '잃다': 765, '필요하다': 766, '공': 767, '법': 768, '서다': 769, '만주': 770, '풀': 771, '문': 772, '본': 773, '여기다': 774, '기간': 775, '초': 776, '개다': 777, '참고': 778, '어느': 779, '짜다': 780, '률': 781, '편하다': 782, '업체': 783, '낮다': 784, '년도': 785, '보': 786, '소리': 787, '시기': 788, '감사': 789, '이지': 790, '예': 791, '장투': 792, '천원': 793, '써다': 794, '포함': 795, '발': 796, '물론': 797, '이상하다': 798, '무조건': 799, '가즈': 800, '재료': 801, '래': 802, '지키다': 803, '유럽': 804, '내려오다': 805, '음': 806, '현금': 807, '닉': 808, '깨지다': 809, '비용': 810, '위로': 811, '관리': 812, '불확실': 813, 'ㅋㅋㅋㅋㅋ': 814, '억원': 815, '활용': 816, '적당하다': 817, '매집': 818, '밝히다': 819, '주리다': 820, '시스템': 821, '포기': 822, '바보': 823, '궁금하다': 824, '양봉': 825, '당분간': 826, '잘못': 827, '재무': 828, '남': 829, '수도': 830, '체결': 831, '갑자기': 832, '최소': 833, '딱': 834, '연속': 835, '대로': 836, '요인': 837, '발생': 838, '드디어': 839, '다시다': 840, '브로드컴': 841, '제대로': 842, '일부': 843, '일본': 844, '지표': 845, '복구': 846, '이야기': 847, '후회': 848, '팔면': 849, '지겹다': 850, '혹시': 851, '부분': 852, '수급': 853, '동': 854, '맛있다': 855, '금융': 856, '머': 857, '봉': 858, '비율': 859, '본격': 860, '원금': 861, '안좋다': 862, '라인': 863, '감소': 864, '회복하다': 865, '인수': 866, '씨': 867, '금요일': 868, '향후': 869, '너무하다': 870, '사면': 871, '찾다': 872, '천당': 873, '이득': 874, '불안하다': 875, '친구': 876, '각': 877, '얘기': 878, '플랫폼': 879, '환원': 880, '정': 881, '외국': 882, '평균': 883, '빨갛다': 884, '으로는': 885, '모': 886, '힘드다': 887, '세금': 888, '연기금': 889, '악': 890, '업계': 891, '충분하다': 892, '널': 893, '재미': 894, '돌아오다': 895, '답답하다': 896, '쏘다': 897, '박다': 898, '살리다': 899, '집중': 900, '떨다': 901, '다행': 902, '지난': 903, '자기': 904, '자회사': 905, '봄': 906, '정상': 907, '형님': 908, '길': 909, '확정': 910, '뒤': 911, '산': 912, '감': 913, '슬프다': 914, '여러': 915, '민주당': 916, '값': 917, '예전': 918, '윤석열': 919, '들이다': 920, '사용': 921, '선물': 922, '우': 923, '섹터': 924, '방어': 925, '수혜': 926, '머리': 927, '완료': 928, '책임': 929, '겁나다': 930, '이란': 931, '항공': 932, 'ㅡ': 933, '전부': 934, '커뮤': 935, '뭔가': 936, '히': 937, '저가': 938, '방': 939, '누르다': 940, '오래': 941, '계시다': 942, '디': 943, '변화': 944, '지능': 945, '이어지다': 946, '영': 947, '그동안': 948, '재다': 949, '이리': 950, '늘': 951, '쓸다': 952, '달성': 953, '한다는': 954, '즐겁다': 955, '국가': 956, '그래서': 957, '넘어가다': 958, '방법': 959, '본전': 960, '분야': 961, '신뢰': 962, '믿음': 963, '부자': 964, '계엄': 965, '점유': 966, '째': 967, '크리스마스': 968, '공부': 969, '장이': 970, '확률': 971, '순간': 972, '인거': 973, '어찌': 974, '시드': 975, '웃다': 976, '조선': 977, '눈': 978, '치고': 979, '당장': 980, '박살': 981, '유상증자': 982, '적용': 983, '황': 984, '원래': 985, '아무리': 986, '주로': 987, '공정': 988, '늘리다': 989, '보조금': 990, '해결': 991, '쇼': 992, '심리': 993, '뭘': 994, '부럽다': 995, '눈물': 996, '대상': 997, '날다': 998, '코인': 999, '횡보': 1000, '가면': 1001, 'ㄷㄷ': 1002, '셀트리온': 1003, '상향': 1004, '소액': 1005, '변동성': 1006, '바뀌다': 1007, '이차전지': 1008, '입장': 1009, '능력': 1010, '와의': 1011, '밸류': 1012, '관세': 1013, '이러하다': 1014, '느끼다': 1015, '다양하다': 1016, '천천히': 1017, '움직임': 1018, '예측': 1019, '이며': 1020, '방산': 1021, '션': 1022, '소재': 1023, '사이': 1024, '나르다': 1025, '직원': 1026, '급하다': 1027, '속도': 1028, '가야': 1029, '임원': 1030, '옵션': 1031, '이재명': 1032, '관망': 1033, '이해': 1034, '움직이다': 1035, '중공업': 1036, '전기': 1037, '나서다': 1038, 'ㅎㅎㅎ': 1039, '증권사': 1040, '해당': 1041, '마무리': 1042, '나중': 1043, '자신': 1044, '홀딩스': 1045, '시외': 1046, '올려주다': 1047, '공항': 1048, '입지': 1049, '포스코': 1050, '까진': 1051, '하자': 1052, '적자': 1053, '챙기다': 1054, '인간': 1055, '관점': 1056, '연간': 1057, '이기': 1058, '이전': 1059, '신작': 1060, '상품': 1061, '질': 1062, '여전하다': 1063, '대형': 1064, '지옥': 1065, '낮추다': 1066, '무너지다': 1067, '비슷하다': 1068, '맞추다': 1069, '몰다': 1070, '삼가다': 1071, '과거': 1072, '조만간': 1073, '키우다': 1074, '지원': 1075, '경기': 1076, '오랜': 1077, '운영': 1078, '조건': 1079, '재는': 1080, '응원': 1081, '저번': 1082, '전력': 1083, '부품': 1084, '입': 1085, '열리다': 1086, '남기다': 1087, '양산': 1088, '벌써': 1089, '타고': 1090, '처': 1091, '비교': 1092, '정신': 1093, '전문가': 1094, '대기': 1095, '오히려': 1096, '목적': 1097, '높이다': 1098, '테스트': 1099, '신고': 1100, '원대': 1101, '상치': 1102, '추': 1103, '펩트론': 1104, '공포': 1105, '작다': 1106, '도움': 1107, '준': 1108, '설계': 1109, '가족': 1110, '라면': 1111, '제약': 1112, '바꾸다': 1113, '코스닥': 1114, '이면': 1115, '맨날': 1116, '미리': 1117, '도입': 1118, '칩': 1119, '아시': 1120, '급락': 1121, '소각': 1122, '테마': 1123, '공모': 1124, '차세대': 1125, '털리다': 1126, '대가': 1127, '에스': 1128, '환경': 1129, '대출': 1130, '얻다': 1131, '보다는': 1132, '자꾸': 1133, '때리다': 1134, '참다': 1135, '올라서다': 1136, '높이': 1137, '으로도': 1138, '경험': 1139, '기원': 1140, '상반기': 1141, '플러스': 1142, '언급': 1143, '공개': 1144, '리': 1145, '인생': 1146, '치': 1147, '이하': 1148, '짧다': 1149, '스': 1150, '납품': 1151, '회': 1152, '엄청나다': 1153, '추진': 1154, '종': 1155, '안보': 1156, '일정': 1157, '짓': 1158, '넘기다': 1159, '연금': 1160, '다만': 1161, '덥다': 1162, '요일': 1163, '머티': 1164, '법인': 1165, '확': 1166, '인하': 1167, '방치': 1168, '고인': 1169, '현실': 1170, '유': 1171, '붙다': 1172, '루닛': 1173, '조롱': 1174, '깨다': 1175, '길다': 1176, '북미': 1177, '좋아하다': 1178, '작': 1179, '부탁드리다': 1180, '그게': 1181, '안전': 1182, '일만': 1183, '제조': 1184, '낫다': 1185, '겨': 1186, '노력': 1187, '인증': 1188, '에요': 1189, '사라지다': 1190, '신기하다': 1191, '대량': 1192, '커지다': 1193, '허가': 1194, '콜': 1195, '댓글': 1196, '기아': 1197, '애플': 1198, '버스': 1199, '좋아지다': 1200, '그러나': 1201, '슬슬': 1202, '거지': 1203, '서비스': 1204, '스트레스': 1205, '에선': 1206, '탓': 1207, '부진': 1208, '아이': 1209, '일어나다': 1210, '하방': 1211, '보통': 1212, '대부분': 1213, '반대': 1214, '돌리다': 1215, '새': 1216, '그리다': 1217, '튀다': 1218, '흠': 1219, '자동차': 1220, '동력': 1221, '가져가다': 1222, '십': 1223, '심화': 1224, '꼬': 1225, '하향': 1226, '두산': 1227, '초전도체': 1228, '패턴': 1229, '만이': 1230, '양전': 1231, '날아가다': 1232, '무안공항': 1233, '동시': 1234, '짜증나다': 1235, '주말': 1236, '그나마': 1237, '돌아가다': 1238, '따라가다': 1239, '메': 1240, '돌다': 1241, '도전': 1242, '미장이': 1243, '완성': 1244, '유한양행': 1245, '만약': 1246, '희다': 1247, '자율': 1248, '언젠가': 1249, '그래프': 1250, '첨단': 1251, '별로': 1252, '끌다': 1253, '늘어나다': 1254, '특징': 1255, '효율': 1256, '디스플레이': 1257, '완전': 1258, '이냐': 1259, '센터': 1260, '찍': 1261, '프로젝트': 1262, '우려': 1263, '참여': 1264, '아야': 1265, '지나다': 1266, '주도': 1267, '막다': 1268, '진출': 1269, '상폐': 1270, '허다': 1271, '정찰': 1272, '거기': 1273, '방향': 1274, '그것': 1275, '척': 1276, '프로그램': 1277, '일반': 1278, '나머지': 1279, '막히다': 1280, '극': 1281, '식이': 1282, '닉스': 1283, '꼴': 1284, '연기': 1285, '진심': 1286, '땐': 1287, '인상': 1288, '롯데': 1289, '근거': 1290, '고수': 1291, '전일': 1292, '변동': 1293, '기본': 1294, '마': 1295, '가르다': 1296, '시대': 1297, '기여': 1298, '잡고': 1299, '당연하다': 1300, '세대': 1301, '이틀': 1302, '반복': 1303, '적극': 1304, '취임': 1305, '무겁다': 1306, '의심': 1307, '고려': 1308, '겨우': 1309, '변하다': 1310, '하니': 1311, '석': 1312, '신약': 1313, '파트너': 1314, '하반기': 1315, '대체': 1316, '별': 1317, '최초': 1318, '똑같다': 1319, 'ㅋㅋㅋㅋㅋㅋ': 1320, '쭉쭉': 1321, '부터는': 1322, '주식시장': 1323, '행사': 1324, '다가': 1325, '빵': 1326, '옳다': 1327, '이정': 1328, '점점': 1329, '접근': 1330, '굳이': 1331, '절반': 1332, '발전': 1333, '태우다': 1334, '막': 1335, '보시': 1336, '실망': 1337, '실제': 1338, '세상': 1339, '위기': 1340, '티': 1341, '거리': 1342, '세다': 1343, '제자리': 1344, '최악': 1345, '사기': 1346, '변경': 1347, '까지만': 1348, '금지': 1349, '혼자': 1350, '역대': 1351, '살짝': 1352, '터': 1353, '방식': 1354, '참사': 1355, '금방': 1356, '코': 1357, '이벤트': 1358, '구축': 1359, '최저': 1360, '싹': 1361, '여서': 1362, '따뜻하다': 1363, '맛집': 1364, '수량': 1365, '가가': 1366, '가지다': 1367, '드': 1368, '여부': 1369, '무': 1370, '암': 1371, '차라리': 1372, '과의': 1373, '오름': 1374, '당신': 1375, '죽이다': 1376, '부담': 1377, '지선': 1378, '설레다': 1379, '이든': 1380, '이평': 1381, '홀딩': 1382, '그거': 1383, '창': 1384, '어쩔': 1385, '원하다': 1386, '부정': 1387, '가동': 1388, '터치': 1389, '박스': 1390, '이쁘다': 1391, '오션': 1392, '조용하다': 1393, '엔진': 1394, '줄이다': 1395, '냥': 1396, '커뮤니티': 1397, '는걸': 1398, '설비': 1399, '놓치다': 1400, '조심하다': 1401, '일도': 1402, '병': 1403, '적금': 1404, '편입': 1405, '묵다': 1406, '원전': 1407, '설정': 1408, '폭등': 1409, '녀석': 1410, '비만': 1411, '물리': 1412, '묻다': 1413, '백': 1414, '지역': 1415, '먼저': 1416, '과연': 1417, '대장': 1418, '설명': 1419, '주포': 1420, '역할': 1421, '건강': 1422, '우선': 1423, '일지': 1424, '리가': 1425, '유일하다': 1426, '떡': 1427, '안녕하다': 1428, '발언': 1429, '저렴하다': 1430, '비행기': 1431, '사건': 1432, '햇': 1433, '흐르다': 1434, '안팔': 1435, '지난주': 1436, '듣다': 1437, '계단': 1438, '지난해': 1439, '라라': 1440, '벗어나다': 1441, '잠깐': 1442, '몇개': 1443, '단계': 1444, '작용': 1445, '께': 1446, '도대체': 1447, '정비': 1448, '보단': 1449, '전장': 1450, '줄다': 1451, '역': 1452, '배당률': 1453, '좀더': 1454, '더럽다': 1455, '그런': 1456, '셀': 1457, '불다': 1458, '흔들리다': 1459, '은행': 1460, '최': 1461, '우상': 1462, '부족하다': 1463, '검색': 1464, '심': 1465, '덜': 1466, '첫날': 1467, '위치': 1468, '블록딜': 1469, '꾸다': 1470, '사회': 1471, '도와주다': 1472, '과제': 1473, '위험': 1474, '통과': 1475, '모멘텀': 1476, '직전': 1477, '긋다': 1478, '기억': 1479, '업황': 1480, '대한항공': 1481, '라서': 1482, '그런데': 1483, '구성': 1484, '운용': 1485, '상당하다': 1486, '살아나다': 1487, '이에요': 1488, '과정': 1489, '인정': 1490, '삼양식품': 1491, '한주': 1492, '이용': 1493, '며칠': 1494, '반응': 1495, '대규모': 1496, '시도': 1497, '호가': 1498, '에이': 1499, '징': 1500, '군': 1501, '차이': 1502, '년전': 1503, '재도': 1504, '보수': 1505, '그대로': 1506, '콘텐츠': 1507, '모델': 1508, '유리기': 1509, '선동': 1510, '건강하다': 1511, '시설': 1512, '넥스': 1513, '싸움': 1514, '부채': 1515, '사도': 1516, '왜케': 1517, '라니': 1518, '피해': 1519, '선박': 1520, '덕분': 1521, '부리다': 1522, '잊다': 1523, '각자': 1524, '렉': 1525, '멈추다': 1526, '장주': 1527, '갈아타다': 1528, '울다': 1529, '여유': 1530, '존재': 1531, '음봉': 1532, '탈': 1533, '울': 1534, '전반': 1535, '신경': 1536, '회로': 1537, '체포': 1538, '즐기다': 1539, '해상': 1540, '주행': 1541, '월일': 1542, '전쟁': 1543, '정권': 1544, '버드': 1545, '역사': 1546, '금리인하': 1547, '스케': 1548, '스페이스': 1549, '브랜드': 1550, '전혀': 1551, '천만원': 1552, '가운데': 1553, '또는': 1554, '이자': 1555, '담화': 1556, '가속': 1557, '다그': 1558, '실수': 1559, '막판': 1560, '절감': 1561, '잠시': 1562, '경고': 1563, '현지': 1564, '수가': 1565, '자마자': 1566, '헬': 1567, '항공사': 1568, '제출': 1569, '금감원': 1570, '국': 1571, '전량': 1572, '보람': 1573, '환자': 1574, '뭐라다': 1575, '신나다': 1576, '부각': 1577, '바탕': 1578, '젤': 1579, '코리아': 1580, '합병': 1581, '시국': 1582, '처리': 1583, '다년': 1584, '중인': 1585, '곡': 1586, '로는': 1587, '한해': 1588, '맛': 1589, '검토': 1590, '약하다': 1591, '자본': 1592, '통한': 1593, '노': 1594, '유튜브': 1595, '에어로': 1596, '매년': 1597, '순이익': 1598, '노답': 1599, '강력하다': 1600, '포디': 1601, '어이': 1602, '인기': 1603, '월급': 1604, '산타랠리': 1605, '고가': 1606, '배우다': 1607, '무엇': 1608, '증설': 1609, '규제': 1610, '승리': 1611, '착륙': 1612, '견디다': 1613, '기대다': 1614, '괜히': 1615, '찌다': 1616, '원인': 1617, '만대': 1618, '델타': 1619, '상용': 1620, '박': 1621, '불안': 1622, '인프라': 1623, '공사': 1624, '주문': 1625, '분명': 1626, '어가': 1627, '높아지다': 1628, '파운드리': 1629, '채': 1630, '요약': 1631, '가도': 1632, '하이': 1633, '젠슨황': 1634, '애초': 1635, '행동': 1636, '똥': 1637, '자료': 1638, '조선업': 1639, '혜택': 1640, '조원': 1641, '산다': 1642, '조사': 1643, '양자컴퓨터': 1644, '선정': 1645, '이여': 1646, '친': 1647, '요구': 1648, '사례': 1649, '파': 1650, '눈치': 1651, '소비': 1652, '둔화': 1653, '자유': 1654, '제시': 1655, '에만': 1656, '사태': 1657, '보장': 1658, '실패': 1659, '해오다': 1660, '유가족': 1661, '뜻': 1662, '램': 1663, '엘': 1664, '보합': 1665, '시가총액': 1666, '언론': 1667, '쫌': 1668, '출발': 1669, '언제나': 1670, '설마': 1671, '포트폴리오': 1672, '부동산': 1673, '안전하다': 1674, '보험': 1675, '도세': 1676, '채우다': 1677, '자동': 1678, '꼬리': 1679, '필수': 1680, '이미지': 1681, '속상하다': 1682, '엠': 1683, '고려아연': 1684, '극복': 1685, '포': 1686, '미안하다': 1687, '조언': 1688, '분배': 1689, '근처': 1690, '강': 1691, '공유': 1692, '클라우드': 1693, '신세계': 1694, '페타': 1695, '시스': 1696, '싸우다': 1697, '지점': 1698, '안착': 1699, '각각': 1700, '마련': 1701, '일주일': 1702, '꿈': 1703, '예고': 1704, '반토막': 1705, '흔들다': 1706, '이마트': 1707, '신호': 1708, '틀다': 1709, '작성': 1710, '깔다': 1711, '비엠': 1712, '기르다': 1713, '이니까': 1714, '지치다': 1715, '로서': 1716, '내란': 1717, '설립': 1718, '누군가': 1719, '만은': 1720, '태양광': 1721, '콘크리트': 1722, '더블': 1723, '스마트폰': 1724, '장대': 1725, '잉': 1726, '커머스': 1727, '달리다': 1728, '신용': 1729, '리츠': 1730, '의료': 1731, '전세계': 1732, '영상': 1733, '말씀드리다': 1734, '중간': 1735, '보임': 1736, '직접': 1737, '만의': 1738, '인공': 1739, '이루다': 1740, '팔지': 1741, '어리다': 1742, '만족하다': 1743, '행보': 1744, '된거': 1745, '내놓다': 1746, '원가': 1747, '절': 1748, '집': 1749, '어휴': 1750, '라이': 1751, '빨': 1752, '흘리다': 1753, '멋지다': 1754, '기쁘다': 1755, '독점': 1756, '나노': 1757, '소송': 1758, '만하': 1759, '가결': 1760, '사용자': 1761, '처분': 1762, '이탈': 1763, '제기': 1764, '용돈': 1765, '가로': 1766, '상위': 1767, '부근': 1768, '타이거': 1769, '약속': 1770, '향상': 1771, '출원': 1772, '나타나다': 1773, '대역폭': 1774, '내내': 1775, '안정화': 1776, '지정': 1777, '말씀': 1778, '오늘이': 1779, '채널': 1780, '약물': 1781, '일시': 1782, '국민연금': 1783, '어떤': 1784, '펀드': 1785, '타도': 1786, '부탁': 1787, '무한': 1788, '하나요': 1789, '기능': 1790, '착하다': 1791, '천억': 1792, '머스크': 1793, '입다': 1794, '이름': 1795, '윤': 1796, '쎄다': 1797, '모건': 1798, '추정': 1799, '적립': 1800, '우주': 1801, '깊다': 1802, '흥행': 1803, '제한': 1804, '취임식': 1805, '행': 1806, '추모': 1807, '째다': 1808, '모양': 1809, '방안': 1810, '풀이': 1811, '해소': 1812, '드론': 1813, '화가': 1814, '보호': 1815, '가망': 1816, '차지': 1817, '엔비': 1818, '밀러': 1819, '그저': 1820, '넘어서다': 1821, '효': 1822, '무시': 1823, '축소': 1824, '젠슨': 1825, '희망이': 1826, '땜': 1827, '확신': 1828, 'ㅋㅋㅋㅋㅋㅋㅋ': 1829, '안해': 1830, '얼른': 1831, '다니다': 1832, '표': 1833, '흑자': 1834, '친환경': 1835, '잔고': 1836, '자주': 1837, '관계': 1838, '컨센서스': 1839, '외부': 1840, '흑': 1841, '매각': 1842, '사보다': 1843, '의지': 1844, '다다': 1845, '이라니': 1846, '약간': 1847, '그걸': 1848, '탑재': 1849, '기회비용': 1850, 'ㄱ': 1851, '님들': 1852, '지연': 1853, '초기': 1854, '짜증': 1855, '치킨': 1856, '자사': 1857, '줄때': 1858, '스럽다': 1859, '가까이': 1860, '보고서': 1861, '공급망': 1862, '수고': 1863, '반드시': 1864, '후반': 1865, '접다': 1866, '등등': 1867, '나락가': 1868, '자식': 1869, '없어지다': 1870, '찾아보다': 1871, '기부': 1872, '뽑다': 1873, '꽤': 1874, '독감': 1875, '겁': 1876, '둘': 1877, '래야': 1878, '붉다': 1879, '개판': 1880, '거나': 1881, '랠리': 1882, '한숨': 1883, '매번': 1884, '이끌다': 1885, '길이': 1886, '분명하다': 1887, '해봤다': 1888, '굿': 1889, '메다': 1890, '리튬': 1891, '폴': 1892, '할인': 1893, '이구나': 1894, '보지': 1895, '엉덩이': 1896, '솔': 1897, '징그럽다': 1898, '광고': 1899, '사라': 1900, '수수료': 1901, '타점': 1902, '호호': 1903, '느리다': 1904, '강조': 1905, '인도': 1906, '컴': 1907, '랜': 1908, '철강': 1909, '형성': 1910, '불구': 1911, '국회': 1912, '칭찬': 1913, '잡': 1914, '배경': 1915, '패닉': 1916, '빅': 1917, '이수': 1918, '넷플릭스': 1919, '협업': 1920, '테마주': 1921, '차량': 1922, '틀리다': 1923, '사주다': 1924, '가전': 1925, '정신차리다': 1926, '단가': 1927, '불타다': 1928, '더하다': 1929, '계산': 1930, '뺏다': 1931, '회의': 1932, '기체': 1933, '읽다': 1934, '안티': 1935, '빼': 1936, '갤럭시': 1937, '일보': 1938, '우울하다': 1939, '다지다': 1940, '응': 1941, '매달': 1942, '화하다': 1943, '한마디': 1944, '신청': 1945, '조절': 1946, '시리즈': 1947, '업': 1948, '선도': 1949, '애국': 1950, '통합': 1951, '올라타다': 1952, '멘탈': 1953, '찍히다': 1954, '묶이다': 1955, '기다림': 1956, '차익': 1957, '무지': 1958, '이대로': 1959, '오징어': 1960, '절치': 1961, '도약': 1962, '벽': 1963, '지루하다': 1964, '성장하다': 1965, '상상': 1966, '간만': 1967, '딩기': 1968, '열다': 1969, '밥': 1970, '나누다': 1971, '유리하다': 1972, '달라': 1973, '대세': 1974, '려': 1975, '투자가': 1976, '라나': 1977, '무증': 1978, '대신': 1979, '유통': 1980, '물류': 1981, '판매량': 1982, '휴머노이드': 1983, '공략': 1984, '신성은': 1985, 'ㄹㅇ': 1986, '상관': 1987, '믄': 1988, '버튼': 1989, '펄': 1990, '수치': 1991, '버티고': 1992, '헐다': 1993, '습': 1994, '특성': 1995, '짓다': 1996, '손가락': 1997, '마녀': 1998, '공격': 1999, '북한': 2000, '버': 2001, '굉장하다': 2002, '최종': 2003, '꺼': 2004, '대선': 2005, '앞두다': 2006, '나름': 2007, '밀다': 2008, '정확하다': 2009, '구글': 2010, '등록': 2011, '존': 2012, '컴퓨팅': 2013, '완화': 2014, '전날': 2015, '산타': 2016, '근': 2017, '소소하다': 2018, '고체': 2019, '계기': 2020, '전이': 2021, '투신': 2022, '소화': 2023, '옛날': 2024, '금은': 2025, '채권': 2026, '빡치다': 2027, '꼴다': 2028, '볼때': 2029, '서로': 2030, '겨울': 2031, '목': 2032, '무빙': 2033, '수술': 2034, '작전': 2035, '횡': 2036, '저리': 2037, '만족': 2038, '차별': 2039, '두렵다': 2040, '알파': 2041, '구나': 2042, '한계': 2043, '탑승': 2044, '사막': 2045, '누': 2046, '여행': 2047, '포지션': 2048, '놀라다': 2049, '폭발': 2050, '훨씬': 2051, '포니': 2052, '끼다': 2053, '려고': 2054, '치르다': 2055, '예금': 2056, '잡히다': 2057, '하라': 2058, '띄우다': 2059, '이래서': 2060, '평소': 2061, '아마': 2062, '사지': 2063, '떼다': 2064, '시체': 2065, '당시': 2066, '이던': 2067, '일봉': 2068, '파란': 2069, 'ㅋㅋㅋㅋㅋㅋㅋㅋ': 2070, '이라서': 2071, '연구': 2072, '재산': 2073, '오픈': 2074, '가나': 2075, '사장': 2076, '컬': 2077, '동반': 2078, '뻔하다': 2079, '따라서': 2080, '잖다': 2081, '가정': 2082, '조심': 2083, '구체': 2084, '중장': 2085, '해석': 2086, '이주식': 2087, '폭탄': 2088, '죽': 2089, '질문': 2090, '신중하다': 2091, '단순하다': 2092, '길어지다': 2093, '부': 2094, '월봉': 2095, '저축': 2096, '약세': 2097, '벌': 2098, '배다': 2099, '종일': 2100, '일비': 2101, '시가': 2102, '배열': 2103, '충족': 2104, '유리': 2105, '인식': 2106, '칠': 2107, '적어도': 2108, '범위': 2109, '다각': 2110, '대금': 2111, '드뎌': 2112, '한참': 2113, '비트코인': 2114, '금일': 2115, '위축': 2116, '완공': 2117, '요소': 2118, '커서': 2119, '억울하다': 2120, '죄송하다': 2121, '가깝다': 2122, '달리': 2123, '매하': 2124, '이형': 2125, '아보': 2126, '바라보다': 2127, '부디': 2128, '관계자': 2129, '그림': 2130, '결함': 2131, '고작': 2132, '아오': 2133, '뿐이다': 2134, 'ㅠㅠㅠ': 2135, '인내': 2136, '만기': 2137, '재건': 2138, '숨다': 2139, '수입': 2140, '순위': 2141, '추락': 2142, '영역': 2143, '심사': 2144, '소중하다': 2145, '코로나': 2146, '론': 2147, '성능': 2148, '팩트': 2149, '월욜': 2150, '화나다': 2151, '어떻': 2152, '원화': 2153, '뛰다': 2154, '도망가다': 2155, '정정': 2156, '빛': 2157, '으': 2158, '편이': 2159, '케미칼': 2160, '일전': 2161, '번째': 2162, '넹': 2163, '주인': 2164, '노래': 2165, '화장품': 2166, '충분': 2167, '그만큼': 2168, '한데': 2169, '아저씨': 2170, '모바일': 2171, '대폭': 2172, '유입': 2173, '입성': 2174, '역겹다': 2175, '망': 2176, '해드리다': 2177, '체계': 2178, '큰일': 2179, '태': 2180, '그러면': 2181, '밤': 2182, '제외': 2183, '주주총회': 2184, '판다': 2185, 'ㅇㅇ': 2186, '국제': 2187, '고르다': 2188, '항공기': 2189, '물다': 2190, '타임': 2191, '타격': 2192, '거임': 2193, '심각하다': 2194, '급증': 2195, '마냥': 2196, '사진': 2197, '치기': 2198, '발주': 2199, '사모': 2200, '니깐': 2201, '편안하다': 2202, '사이클': 2203, '다우존스': 2204, '예산': 2205, '로부터': 2206, '주차': 2207, '이래': 2208, '완전하다': 2209, '카': 2210, '하늘': 2211, '지긋지긋하다': 2212, '가하다': 2213, '개정': 2214, '체': 2215, '영진': 2216, '물어보다': 2217, '파월': 2218, '우위': 2219, '트렌드': 2220, '마케팅': 2221, '부르다': 2222, '제주': 2223, '날리다': 2224, '의약품': 2225, '위험하다': 2226, '란': 2227, '침체': 2228, '라지': 2229, '가라': 2230, '정지': 2231, '어비스': 2232, '성전': 2233, '로템': 2234, '유의': 2235, '트리': 2236, '체크': 2237, '기장': 2238, '죄': 2239, '급격하다': 2240, '멍청하다': 2241, '난리': 2242, '유한': 2243, '와도': 2244, '연초': 2245, '첨': 2246, '행복': 2247, '가기': 2248, 'ㄷㄷㄷ': 2249, '대기업': 2250, '함정': 2251, '불가': 2252, '기기': 2253, '최상': 2254, '마르다': 2255, '이루어지다': 2256, '껄껄': 2257, '껄': 2258, '정상화': 2259, '연결': 2260, '방향성': 2261, '발사': 2262, '의하다': 2263, '프리미엄': 2264, '사항': 2265, '진': 2266, '자세하다': 2267, '단위': 2268, 'ㅠㅜ': 2269, '단지': 2270, '최선': 2271, '구경': 2272, '회수': 2273, '중반': 2274, '맡다': 2275, '마치': 2276, '낮아지다': 2277, '엇': 2278, '나타내다': 2279, '집단': 2280, '획득': 2281, '활동': 2282, '품질': 2283, '입증': 2284, '애경': 2285, '저렇게': 2286, '닫다': 2287, '공매': 2288, '풍력': 2289, '짐': 2290, '도리': 2291, '퀀텀': 2292, '재미있다': 2293, '그만하다': 2294, '네트워크': 2295, '갖추다': 2296, '의무': 2297, '통장': 2298, '엉': 2299, '영차': 2300, '죄다': 2301, '그날': 2302, '컷': 2303, '관': 2304, '얼': 2305, '유동성': 2306, '가슴': 2307, '도박': 2308, '러시아': 2309, '소신': 2310, '전문': 2311, '자리다': 2312, '트': 2313, '모듈': 2314, '성과급': 2315, '거품': 2316, '안함': 2317, '희생': 2318, '민주주의': 2319, '만천원': 2320, '증': 2321, '빔': 2322, '스럽게': 2323, '소문': 2324, '지나가다': 2325, '편': 2326, '내지': 2327, '장하다': 2328, '셈': 2329, '생각나다': 2330, '기전': 2331, '가시': 2332, '심장': 2333, '런가': 2334, '팔리다': 2335, '개장': 2336, '쇼핑': 2337, '행정부': 2338, '집권': 2339, '투입': 2340, '실화': 2341, '끊다': 2342, '와우': 2343, '텔레콤': 2344, '노트': 2345, '대의': 2346, '최태원': 2347, '도벽': 2348, '지도': 2349, '전지': 2350, '겜': 2351, '평생': 2352, '사팔': 2353, '땅': 2354, '역량': 2355, '밝다': 2356, '리기': 2357, '완벽하다': 2358, '망치': 2359, '장치': 2360, '개관': 2361, '우와': 2362, '퇴직': 2363, '따로': 2364, '즉': 2365, '기타': 2366, '반박': 2367, '가만히': 2368, '꽂다': 2369, '숏': 2370, '겪다': 2371, '실시': 2372, '딱지': 2373, '어디서': 2374, '일차': 2375, '비롯': 2376, '직': 2377, '운': 2378, '합계': 2379, '요새': 2380, '지내다': 2381, '전고': 2382, 'ㄷ': 2383, '겹': 2384, '검사': 2385, '키': 2386, '재고': 2387, '년월': 2388, '점심': 2389, '몫': 2390, '담당': 2391, 'ㅇㅈ': 2392, '쭈욱': 2393, '이동': 2394, '비보': 2395, '무안': 2396, '담': 2397, '한잔': 2398, '계엄령': 2399, '만도': 2400, '적정': 2401, '패': 2402, '스마트': 2403, '저녁': 2404, '생활': 2405, '상처': 2406, '탄소': 2407, '삭감': 2408, '분쟁': 2409, '스스로': 2410, '철회': 2411, '성탄절': 2412, '먹거리': 2413, '엿': 2414, '끼': 2415, '생': 2416, '특별하다': 2417, '아이고': 2418, '환': 2419, '세포': 2420, '동결': 2421, '판이': 2422, '수직': 2423, '토방': 2424, '강점': 2425, '이군': 2426, '만남': 2427, '으로의': 2428, '현장': 2429, '선방': 2430, '쩝': 2431, '지인': 2432, '거래소': 2433, '소비자': 2434, '쌍': 2435, '초청': 2436, '듯이': 2437, '일동': 2438, '원년': 2439, '의존': 2440, '다해': 2441, '락일': 2442, '팍': 2443, '월달': 2444, '번만': 2445, '쥬': 2446, '사들이다': 2447, '라야': 2448, '보이지': 2449, '미련': 2450, '실': 2451, '준공': 2452, '싫어하다': 2453, '숨': 2454, '아무튼': 2455, '와중': 2456, '시나리오': 2457, '인사': 2458, '고성능': 2459, '올려놓다': 2460, '빨간색': 2461, '한국인': 2462, '일찍': 2463, '분산': 2464, '해내다': 2465, '캔들': 2466, '생물': 2467, '삼다': 2468, '진작': 2469, '대치': 2470, '약사': 2471, '홍보': 2472, '이러니': 2473, '울트라': 2474, '줄어들다': 2475, '풀리다': 2476, '어쩌': 2477, '소름': 2478, '사모펀드': 2479, '속이다': 2480, '노리다': 2481, '한심하다': 2482, '작업': 2483, '가주': 2484, '들리다': 2485, '재밌다': 2486, '녹다': 2487, '김': 2488, '상관없다': 2489, '보상': 2490, '갈수': 2491, '권고': 2492, '몸': 2493, '상법': 2494, '도망치다': 2495, '가득하다': 2496, '이력': 2497, '해제': 2498, '에겐': 2499, '바쁘다': 2500, '숨기다': 2501, '포홀': 2502, '동체': 2503, '가리다': 2504, '촉진': 2505, '위원회': 2506, '아이온': 2507, '큐': 2508, '류': 2509, '장기로': 2510, '깔끔하다': 2511, '소멸': 2512, '서서히': 2513, '오지': 2514, '바람': 2515, '쉬': 2516, '물탈': 2517, '진지하다': 2518, '아아': 2519, '아치': 2520, '갓': 2521, '편의': 2522, '연구원': 2523, '센서': 2524, 'ㅏ': 2525, '현상': 2526, '복수': 2527, '잔': 2528, '강요': 2529, '논의': 2530, '쌓다': 2531, '부양': 2532, '계시': 2533, '들어서다': 2534, '치솟다': 2535, '상업': 2536, '제작': 2537, '풀다': 2538, '매국노': 2539, '더불다': 2540, '발견': 2541, '기념': 2542, '일간': 2543, '깨': 2544, '제안': 2545, '특별': 2546, '갱신': 2547, '젠장': 2548, '정체': 2549, '유가': 2550, '성향': 2551, 'ㅠㅠㅠㅠ': 2552, '아름답다': 2553, '자랑': 2554, '측면': 2555, '워낙': 2556, '웃기다': 2557, '합작': 2558, '면서': 2559, '맞이': 2560, '조차': 2561, '에서만': 2562, '쟁이': 2563, '왠': 2564, '한지': 2565, '께서': 2566, '든든하다': 2567, '뚫리다': 2568, '앤': 2569, '까지도': 2570, '귀엽다': 2571, '주변': 2572, '날개': 2573, '턴': 2574, '켐': 2575, '다차': 2576, '숫자': 2577, '갈리다': 2578, '업종': 2579, '빌리다': 2580, '출처': 2581, '지는': 2582, '으로만': 2583, '참가': 2584, '항': 2585, '하루하루': 2586, '리지': 2587, '앱': 2588, '잠재력': 2589, '몰리다': 2590, '잔치': 2591, '넥스트': 2592, '전진': 2593, '특수': 2594, '인플레이션': 2595, '가스': 2596, '진리': 2597, '혹': 2598, '복귀': 2599, '그렇다고': 2600, '읍': 2601, '우량': 2602, '만기일': 2603, '라운드': 2604, '대만': 2605, '충격': 2606, '기어': 2607, '의도': 2608, '힘차다': 2609, '놀리다': 2610, '미루다': 2611, '병용': 2612, '타겟': 2613, '파이프라인': 2614, '튼튼하다': 2615, '요전': 2616, '당선인': 2617, '피다': 2618, '상대': 2619, '큐브': 2620, '엠피닥터': 2621, '상단': 2622, '수요일': 2623, '목요일': 2624, '슬픔': 2625, '공감': 2626, '엔켐': 2627, '안주': 2628, '주력': 2629, '장초': 2630, '대행': 2631, '던': 2632, '실패하다': 2633, '멀리': 2634, '알림': 2635, '연설': 2636, '전시': 2637, '연장': 2638, '엔씨': 2639, '주네': 2640, '도로': 2641, '상환': 2642, '밀리다': 2643, '훅': 2644, '특정': 2645, '리게티': 2646, '커피': 2647, '만으로': 2648, '날씨': 2649, '골': 2650, '쏟아지다': 2651, '시행': 2652, '대표이사': 2653, '세우다': 2654, '이딴': 2655, '낙폭': 2656, '다가오다': 2657, '그건': 2658, '폴란드': 2659, '벌리다': 2660, '엘앤': 2661, '조치': 2662, '안전성': 2663, '종합': 2664, '폐지': 2665, '액션': 2666, '청산': 2667, '인게': 2668, '부가가치': 2669, '탄력': 2670, '백화점': 2671, '안남다': 2672, '한도': 2673, '치우다': 2674, '대략': 2675, '가창': 2676, '건데': 2677, '휴지': 2678, '감흥': 2679, '공식': 2680, '후보': 2681, '도널드': 2682, '유저': 2683, '활주로': 2684, '휴장': 2685, '뒤지다': 2686, '순환': 2687, '눌림목': 2688, '기만': 2689, '운전': 2690, '반납': 2691, '용이': 2692, '반려': 2693, '국산': 2694, '트릭': 2695, '시절': 2696, '밧데리': 2697, '리테일': 2698, '스퀘어': 2699, '기계': 2700, '만가': 2701, '박아': 2702, '쟈': 2703, '마저': 2704, '라며': 2705, '메리크리스마스': 2706, '동일하다': 2707, '요청': 2708, '확산': 2709, '이오': 2710, '서도': 2711, '금도': 2712, '불가능하다': 2713, '암튼': 2714, '장마': 2715, '넘어오다': 2716, '크기': 2717, '항암제': 2718, '간절하다': 2719, '놔두다': 2720, '빨다': 2721, '취소': 2722, '계열': 2723, '꽉': 2724, '영원하다': 2725, 'ㅇ': 2726, '강도': 2727, '괴리율': 2728, '덕': 2729, '반갑다': 2730, '투기': 2731, '마넌': 2732, '먹튀': 2733, '먹기': 2734, '주간': 2735, '변수': 2736, '추매': 2737, '이러다가': 2738, '혹은': 2739, '온라인': 2740, '무난': 2741, '맞춤': 2742, '추후': 2743, '초과': 2744, '종료': 2745, '새벽': 2746, '시너지': 2747, '연구개발': 2748, '이론': 2749, '개념': 2750, '반면': 2751, '장점': 2752, '끼리': 2753, '무상증자': 2754, '삭제': 2755, '낭': 2756, '개최': 2757, '터주': 2758, '조억원': 2759, '옮기다': 2760, '치면': 2761, '말로': 2762, '양은': 2763, '푸다': 2764, '워': 2765, '료': 2766, '아예': 2767, '알바': 2768, '품목': 2769, '심지어': 2770, '교체': 2771, '분만': 2772, '빠져나가다': 2773, '장사': 2774, '공동': 2775, '페이': 2776, '중요': 2777, '안떨어지다': 2778, '호조': 2779, '혜주': 2780, '아시아': 2781, '정국': 2782, '어떠하다': 2783, '도깨비': 2784, '어깨': 2785, '부과': 2786, '움': 2787, '저러다': 2788, '쇼크': 2789, '바이': 2790, '식품': 2791, '디지털': 2792, '물질': 2793, '굳다': 2794, '내주다': 2795, '감동': 2796, '각종': 2797, '카메라': 2798, '애매하다': 2799, '어려움': 2800, '백종원': 2801, '안녕': 2802, '돌아서다': 2803, '물가': 2804, '맺다': 2805, '죽음': 2806, '명확하다': 2807, '선보이다': 2808, '텍': 2809, 'ㅜㅠ': 2810, '끝내다': 2811, '형태': 2812, '파이팅': 2813, '전선': 2814, '아마존': 2815, '과열': 2816, '설치': 2817, '당일': 2818, '효성': 2819, '감기': 2820, '당선': 2821, '칼날': 2822, '예쁘다': 2823, '발목': 2824, '쌓이다': 2825, '도달': 2826, '롱': 2827, '용기': 2828, '썩다': 2829, '사려': 2830, '충전': 2831, '땡큐': 2832, '튀어': 2833, '이내': 2834, '퀄': 2835, '슴': 2836, '변압기': 2837, '대화': 2838, '협의': 2839, '상여금': 2840, '강제': 2841, '홀드': 2842, '달동': 2843, '까먹다': 2844, '사우디': 2845, 'ㅋㅋㅋㅋㅋㅋㅋㅋㅋ': 2846, '어짜피': 2847, '핫': 2848, '유망': 2849, '엔솔': 2850, '동향': 2851, '유효': 2852, '플랜트': 2853, '신제품': 2854, '부족': 2855, '얜': 2856, '안나': 2857, '개추': 2858, '불기둥': 2859, '시세': 2860, '시즌': 2861, '이노': 2862, '로만': 2863, '주체': 2864, '티어': 2865, '남아': 2866, '모레': 2867, '고통': 2868, '지하': 2869, '와이': 2870, '투경': 2871, '위안': 2872, '입금': 2873, '주무시다': 2874, '결': 2875, '알리바바': 2876, '뵙다': 2877, '앉다': 2878, '귀신': 2879, '슈팅': 2880, '예약': 2881, '불쌍하다': 2882, '내부': 2883, '만천': 2884, '우린': 2885, '닷': 2886, '얇다': 2887, '연상': 2888, '데이': 2889, '중동': 2890, '올인': 2891, '지마켓': 2892, '조억': 2893, '차단': 2894, '분해': 2895, '최적화': 2896, '아버': 2897, '최소한': 2898, '카지노': 2899, '월말': 2900, '감정': 2901, '디자인': 2902, '묶다': 2903, '훌륭하다': 2904, '누적': 2905, '화로': 2906, '정답': 2907, '전라도': 2908, '해안': 2909, '살아가다': 2910, '뛰어나다': 2911, '모자라다': 2912, '법안': 2913, '비상': 2914, '여객기': 2915, '어지럽다': 2916, '실시간': 2917, '에게는': 2918, '부합': 2919, '폐해': 2920, '경보': 2921, '생태계': 2922, '범': 2923, '제로': 2924, '국힘': 2925, '착공': 2926, '하이브': 2927, '위주': 2928, '야당': 2929, '마인드': 2930, '원자재': 2931, '한두': 2932, '버블': 2933, '통신': 2934, '놀이터': 2935, '주사': 2936, '해주': 2937, '연관': 2938, '논리': 2939, '움직': 2940, '탕': 2941, '추격': 2942, '살껄': 2943, '에다': 2944, '월간': 2945, '분율': 2946, '주도하다': 2947, '밀리': 2948, '다짐': 2949, '상이': 2950, '추종': 2951, '보아': 2952, '아픔': 2953, '덱스터': 2954, '폐암': 2955, '양심': 2956, '많아지다': 2957, '방위산업': 2958, '대주': 2959, '환전': 2960, '정용진': 2961, '화성': 2962, '업다': 2963, '앗': 2964, '마치다': 2965, '자원': 2966, '대하': 2967, '아무렇다': 2968, '소형': 2969, '쓰리다': 2970, '던데': 2971, '임마': 2972, '윤씨': 2973, '일부러': 2974, '년뒤': 2975, '절차': 2976, '점차': 2977, '드라마': 2978, '파워': 2979, '시사': 2980, '보도': 2981, '떡락': 2982, '일텐데': 2983, '임시': 2984, '팀': 2985, '일리': 2986, '왕': 2987, '수익권': 2988, '최대한': 2989, '알아보다': 2990, '모이다': 2991, '몰래': 2992, '여기저기': 2993, '혀': 2994, '달라지다': 2995, '다수': 2996, '삼전도': 2997, '좌파': 2998, '연동': 2999, '선호': 3000, '의문': 3001, '파란색': 3002, '한강': 3003, '알람': 3004, '감안': 3005, '받치다': 3006, '평': 3007, '기지': 3008, '동네': 3009, '달달': 3010, '피하': 3011, 'ㅉㅉ': 3012, '복사': 3013, '점검': 3014, '버거': 3015, '해지': 3016, '케이블': 3017, '쉽다': 3018, '없애다': 3019, '주장': 3020, '귀': 3021, '미만': 3022, '말르다': 3023, '술': 3024, '공고': 3025, '악질': 3026, '기차': 3027, '릴리': 3028, '법적': 3029, '측': 3030, '세월호': 3031, '대처': 3032, '개국': 3033, '과세': 3034, '본적': 3035, '어색하다': 3036, '하단': 3037, '철저하다': 3038, '정밀': 3039, '화학': 3040, '우크라이나': 3041, '가볍다': 3042, '갚다': 3043, '거절': 3044, '고요': 3045, '치열하다': 3046, '애쓰다': 3047, '매가': 3048, '수정': 3049, '에프': 3050, '마이': 3051, '처참하다': 3052, '아이폰': 3053, '의사': 3054, '줌': 3055, '관건': 3056, '카드': 3057, '등락': 3058, '배신': 3059, '전주': 3060, '사르다': 3061, '배정': 3062, '중단': 3063, '지적': 3064, '킹': 3065, '공간': 3066, '무역': 3067, '중국산': 3068, '실리콘': 3069, '손익': 3070, '거두다': 3071, '뻔': 3072, '몇번': 3073, '엉망': 3074, '이제야': 3075, '자고': 3076, '비밀': 3077, '짱': 3078, '주택': 3079, '만해': 3080, '퍼센트': 3081, '적응': 3082, '일로': 3083, '찌라시': 3084, '주기': 3085, '대안': 3086, '날아오르다': 3087, '재미없다': 3088, '헷지': 3089, 'ㅈ': 3090, '호텔': 3091, '리니지': 3092, '캠퍼스': 3093, '프레임': 3094, '이상은': 3095, '나무': 3096, '다모': 3097, '방문': 3098, '노잼': 3099, '뵈다': 3100, '그대': 3101, '야무지다': 3102, '퓨처': 3103, '밸류업': 3104, '어우': 3105, '진실': 3106, '종이': 3107, '다행하다': 3108, '나아가다': 3109, '규': 3110, '출신': 3111, '인정받다': 3112, '레버리지': 3113, '맙시': 3114, '냉정하다': 3115, '양사': 3116, '레전드': 3117, '파악': 3118, '웃기': 3119, '생기': 3120, '교육': 3121, '보너스': 3122, '밴드': 3123, '더니': 3124, '만큼은': 3125, '재정': 3126, '국내외': 3127, '트이다': 3128, '저희': 3129, '메타': 3130, '딴': 3131, '한편': 3132, '뚜렷하다': 3133, '뿌리다': 3134, '허허': 3135, '기아차': 3136, '대거': 3137, '체제': 3138, '가량': 3139, '조직': 3140, '소프트웨어': 3141, '조달': 3142, '표현': 3143, '기업인': 3144, '어케': 3145, '자주포': 3146, '애기': 3147, '출시일': 3148, '진정하다': 3149, '유사하다': 3150, '결합': 3151, '어쨌든': 3152, '도덕': 3153, '광산': 3154, '떨리다': 3155, '다미': 3156, '금기': 3157, '냄새': 3158, '대박나다': 3159, '넘치다': 3160, '과도': 3161, '책': 3162, '왜냐하면': 3163, '보안법': 3164, '으로서': 3165, '문화': 3166, '엘지': 3167, '클라스': 3168, '과금': 3169, '똑똑하다': 3170, '피알': 3171, '일인': 3172, '오랫동안': 3173, '이사회': 3174, '베팅': 3175, '방지': 3176, '불리다': 3177, '악화': 3178, '반성': 3179, '패스': 3180, '엑': 3181, '비행': 3182, '징글징글': 3183, '홀로': 3184, '쳐다보다': 3185, '림': 3186, '도안': 3187, '설거지': 3188, '내리막': 3189, '어유': 3190, '소량': 3191, '고도': 3192, '가입': 3193, '참석': 3194, '인텔': 3195, '보다도': 3196, '대중': 3197, '예감': 3198, '초전도': 3199, '샘플': 3200, '활발하다': 3201, '급상승': 3202, '보안': 3203, '낫': 3204, '챠트': 3205, '통상': 3206, '어디가': 3207, '사의': 3208, '라스베이거스': 3209, '자신감': 3210, '최고점': 3211, '뼈': 3212, '오리온': 3213, '저장': 3214, '접': 3215, '주시': 3216, '선점': 3217, '자극': 3218, '으으': 3219, '치가': 3220, '버드스트라이크': 3221, '로스': 3222, '국채': 3223, '알리': 3224, '나이': 3225, '감격': 3226, '원료': 3227, '부다': 3228, 'ㄱㄱ': 3229, '현황': 3230, '대책': 3231, '독일': 3232, '갑': 3233, '꼽히다': 3234, '가이던스': 3235, '뷰티': 3236, '반전': 3237, '자동화': 3238, '고치다': 3239, '마진': 3240, '지르다': 3241, '억이': 3242, '멀티': 3243, '청주': 3244, '차근차근': 3245, '적절하다': 3246, '틱': 3247, '팍팍': 3248, '승률': 3249, '패키징': 3250, '어떡하다': 3251, '작품': 3252, '힘좀': 3253, '베트남': 3254, '프매': 3255, '차주': 3256, '옆': 3257, '톡': 3258, '호구': 3259, '보잉': 3260, '혼란': 3261, '정기': 3262, '정이': 3263, '장관': 3264, '마린': 3265, '전차': 3266, '랩': 3267, '리파': 3268, '임상시험': 3269, '여파': 3270, '푼': 3271, '너희': 3272, '거들다': 3273, '자르다': 3274, '외치다': 3275, '딱하다': 3276, '슈퍼': 3277, '서버': 3278, '선두': 3279, '가짜': 3280, '선배': 3281, '크래프톤': 3282, '감옥': 3283, '윤통': 3284, '호황': 3285, '셧다운': 3286, '세로': 3287, '가보': 3288, '개별': 3289, '으로써': 3290, '증대': 3291, '고층': 3292, '철수': 3293, '연탄': 3294, '경향': 3295, '정치권': 3296, '이왕': 3297, '유명하다': 3298, '뜯다': 3299, '인내심': 3300, '다지': 3301, '동기': 3302, '애국자': 3303, '앙': 3304, '삶': 3305, 'ㅅ': 3306, '단체': 3307, '리스': 3308, '거짓말': 3309, '카톡': 3310, '왠지': 3311, '골든': 3312, '까비': 3313, '하이브리드': 3314, '백만원': 3315, '멸공': 3316, '아빠': 3317, '권한': 3318, '염': 3319, '사팔사팔': 3320, '일라이': 3321, '이쯤': 3322, '단석': 3323, '부산': 3324, '증명': 3325, '앞서': 3326, '자본시장': 3327, '과는': 3328, '회피': 3329, '수익금': 3330, '뒷': 3331, '차기': 3332, '위협': 3333, '감히': 3334, '도르다': 3335, '정치인': 3336, '필요없다': 3337, '암울하다': 3338, '효자': 3339, '언능': 3340, '요미': 3341, '프매금투': 3342, '법기': 3343, '중임': 3344, '반사': 3345, '도주': 3346, '체인': 3347, '지리': 3348, '레': 3349, '쑤다': 3350, '유도': 3351, '검다': 3352, '투심': 3353, '취득': 3354, '정시': 3355, '돌': 3356, '기네': 3357, '모드': 3358, '오기': 3359, '앨범': 3360, '호평': 3361, '기업가': 3362, '연구소': 3363, '이만': 3364, '장기간': 3365, '할아버지': 3366, '물이': 3367, '해먹': 3368, '링': 3369, '고배': 3370, '벨': 3371, '보답': 3372, '아쉬움': 3373, '유출': 3374, '에센': 3375, '책임지다': 3376, '헌재': 3377, '천억원': 3378, '밖': 3379, '마찬가지': 3380, '제철': 3381, '강판': 3382, '일일': 3383, '윗': 3384, '용량': 3385, '신한': 3386, '읍니': 3387, '웃음': 3388, '사기꾼': 3389, '홧팅': 3390, '가게': 3391, '체코': 3392, '삿': 3393, '빛나다': 3394, '성적': 3395, '말리다': 3396, '별개': 3397, '서울': 3398, '장님': 3399, '붙이다': 3400, '본주': 3401, '벌이': 3402, '돼지': 3403, '간단하다': 3404, '투표': 3405, '게시판': 3406, '갈수록': 3407, '컨퍼런스': 3408, '의장': 3409, '청약': 3410, '조작': 3411, '인력': 3412, '충': 3413, '하아': 3414, '듭니': 3415, '한층': 3416, '압도': 3417, '쥐': 3418, '그린': 3419, '무려': 3420, '유일': 3421, '한동안': 3422, '풍산': 3423, '지우다': 3424, '어닝': 3425, '중앙': 3426, '원칙': 3427, '알려지다': 3428, '갈등': 3429, '연료': 3430, '부진하다': 3431, '원선': 3432, '손잡다': 3433, '스타': 3434, '여야': 3435, '라이브': 3436, '탄탄하다': 3437, '형제': 3438, '나은': 3439, '사이언스': 3440, '쓰이다': 3441, '여름': 3442, '불만': 3443, '파동': 3444, '아끼다': 3445, '리도': 3446, '테라': 3447, '이사': 3448, '지배구조': 3449, '부도': 3450, '욤': 3451, '제도': 3452, '자가': 3453, '타입': 3454, '랜딩': 3455, '상가': 3456, '베다': 3457, '필옵틱스': 3458, '권리': 3459, '셀온': 3460, '합의': 3461, '부장': 3462, '희망고문': 3463, '도면': 3464, '모니터링': 3465, '영풍': 3466, '동생': 3467, '기초': 3468, '분하다': 3469, '방금': 3470, '꿀': 3471, '무관': 3472, '통화': 3473, '오는': 3474, '왤케': 3475, '이재용': 3476, '스러운': 3477, '펄업': 3478, '차례': 3479, '걸치다': 3480, '금융감독원': 3481, '요물': 3482, '신다': 3483, '기해': 3484, '케': 3485, '탁하다': 3486, '진단': 3487, '해군': 3488, '귀찮다': 3489, '피해자': 3490, '모름': 3491, '강경': 3492, '소통': 3493, '예술': 3494, '설': 3495, '호주': 3496, '흑우': 3497, '재개': 3498, '중립': 3499, '장창': 3500, '에어': 3501, '맥': 3502, '금물': 3503, '가득': 3504, '머물다': 3505, '프레': 3506, '크로스': 3507, '임박': 3508, '든지': 3509, '저렇다': 3510, '소득세': 3511, '물탈돈': 3512, '이기도': 3513, '패키지': 3514, '당초': 3515, '표준': 3516, '찬스': 3517, '빚': 3518, '린': 3519, '치자': 3520, '끔찍하다': 3521, '상방': 3522, '반년': 3523, '색': 3524, '홈쇼핑': 3525, '디아': 3526, '인터내셔널': 3527, '내외': 3528, '하리': 3529, '부턴': 3530, '신차': 3531, '음으로': 3532, '띠': 3533, '마리': 3534, '우수': 3535, '예방': 3536, '여러가지': 3537, '독보': 3538, '뿌듯하다': 3539, '부끄럽다': 3540, '진득': 3541, '딸리다': 3542, '보험사': 3543, '다녀오다': 3544, '쏟다': 3545, '미당': 3546, '연일': 3547, '가방': 3548, '시각': 3549, '연봉': 3550, '이겠다': 3551, '어요': 3552, '사인': 3553, '학습': 3554, '오브': 3555, '일가': 3556, '고급': 3557, '수소': 3558, '가치주': 3559, '가끔': 3560, '복제': 3561, '룩': 3562, '노후': 3563, '파두': 3564, '출하': 3565, '구입': 3566, '안다': 3567, '방침': 3568, '다투다': 3569, '초보': 3570, '단단하다': 3571, '붕괴': 3572, '이래도': 3573, '푼돈': 3574, '쓴다': 3575, '인명': 3576, '지경': 3577, '손꾸락': 3578, '수중': 3579, '피곤하다': 3580, '전달': 3581, '직후': 3582, '원자력': 3583, '보조': 3584, '시공': 3585, '협상': 3586, '기자': 3587, '라인업': 3588, '잠': 3589, '선생님': 3590, '채택': 3591, '폰': 3592, '경쟁률': 3593, '잘나오다': 3594, '부리': 3595, '업무': 3596, '근본': 3597, '지위': 3598, '동맹': 3599, '케이': 3600, '선제': 3601, '금욜': 3602, '고집': 3603, '전화': 3604, '린다': 3605, '웨이퍼': 3606, '바르다': 3607, '눌림': 3608, '여론': 3609, '배당락일': 3610, '의회': 3611, '만들어지다': 3612, '자연': 3613, '뜨겁다': 3614, '오르락': 3615, '주민': 3616, '위대하다': 3617, '전환사채': 3618, '리턴': 3619, '으로부터': 3620, '충돌': 3621, '좌우': 3622, '단점': 3623, '견제': 3624, '떨어뜨리다': 3625, '수년': 3626, '양갱': 3627, '보구': 3628, '물건': 3629, '천만': 3630, 'ㅜㅜㅜ': 3631, '제어': 3632, '다소': 3633, '로운': 3634, '지나': 3635, '초가': 3636, '살때': 3637, '토': 3638, '상식': 3639, '으로가': 3640, '폐': 3641, '스톤': 3642, '펩': 3643, '번은': 3644, '어쩌면': 3645, '유행': 3646, '직투': 3647, '마네': 3648, '냉각': 3649, '리더십': 3650, '추구': 3651, '바라지': 3652, '행위': 3653, '박차': 3654, '플라스틱': 3655, '소득': 3656, '기세': 3657, '타치': 3658, '살펴보다': 3659, '활성화': 3660, '국토부': 3661, '티웨이': 3662, '엠앤': 3663, '월드': 3664, '철도': 3665, '땡기다': 3666, '리노': 3667, '에게도': 3668, '신재생에너지': 3669, '부회장': 3670, '무기': 3671, '정치가': 3672, '케어': 3673, '항체': 3674, '빨갱이': 3675, '자유롭다': 3676, '망설이다': 3677, '소유': 3678, '옵니다': 3679, '감당': 3680, '떠들다': 3681, '가시다': 3682, '거짓': 3683, '참으로': 3684, '토막': 3685, '가사': 3686, '도합': 3687, '비소': 3688, '사가': 3689, '리스트': 3690, '톤': 3691, '수행': 3692, '이롭다': 3693, '틀': 3694, '까지의': 3695, '차리다': 3696, '저런': 3697, '랬': 3698, '그치다': 3699, '만회': 3700, '재무제표': 3701, '전용': 3702, '이웃': 3703, '혼다': 3704, '괴롭히다': 3705, '원통': 3706, '이신': 3707, '화투': 3708, '부재': 3709, '위성': 3710, '시험': 3711, '따름': 3712, '지주': 3713, '대충': 3714, '자랑스럽다': 3715, '자재': 3716, '푸드': 3717, '외식': 3718, '인건비': 3719, '어머니': 3720, '탈시': 3721, '때매': 3722, '아버지': 3723, '행차': 3724, '수십': 3725, '총리': 3726, '패널': 3727, '팔껄': 3728, '식수': 3729, '보신': 3730, '뛰어들다': 3731, '플': 3732, '말아먹다': 3733, '개편': 3734, '차질': 3735, '가파른': 3736, '환매': 3737, '깜짝': 3738, '분봉': 3739, '무리하다': 3740, '다변': 3741, '고고': 3742, '다리': 3743, '확고하다': 3744, '찾아가다': 3745, '부상': 3746, '경신': 3747, '지고': 3748, '절망': 3749, '대학생': 3750, 'ㅎㅎㅎㅎ': 3751, '품다': 3752, '동그라미': 3753, '소개': 3754, '메리트': 3755, '싸지르다': 3756, '셀트': 3757, '뜬금없이': 3758, '열사': 3759, '만만': 3760, '소망': 3761, '등급': 3762, '매월': 3763, '돌입': 3764, '파티': 3765, '밟다': 3766, '당당하다': 3767, '개이득': 3768, '미래에셋': 3769, '중순': 3770, '유닛': 3771, '곱다': 3772, '옆집': 3773, '사상': 3774, 'ㅠㅠㅠㅠㅠ': 3775, '오류': 3776, '애증': 3777, '너무나도': 3778, '찌르다': 3779, '끌': 3780, '압력': 3781, '불확실하다': 3782, '이따': 3783, '언플': 3784, '훨훨': 3785, '박근혜': 3786, '따위': 3787, '휴가': 3788, 'ㄴ': 3789, '사신': 3790, '화요일': 3791, '갇히다': 3792, '어둡다': 3793, '증말': 3794, '괴롭다': 3795, '재판관': 3796, '임명': 3797, '불황': 3798, '꺼지다': 3799, '외화': 3800, '잠재': 3801, '세라믹': 3802, '찬': 3803, '레벨': 3804, '다운': 3805, '격차': 3806, '차이다': 3807, '에스티': 3808, '로써': 3809, '낯설다': 3810, '십만원': 3811, '제조업': 3812, 'ㅣ': 3813, '성격': 3814, '링크': 3815, '검증': 3816, '것임': 3817, '살수': 3818, '밥캣': 3819, '계통': 3820, '탑런': 3821, '토탈': 3822, '잠정': 3823, '엔씨소프트': 3824, '드럽다': 3825, '장외': 3826, '까맣다': 3827, '고장': 3828, '수리': 3829, '수습': 3830, '앞서다': 3831, '저력': 3832, '돋다': 3833, '망치다': 3834, 'ㄹ': 3835, '필요성': 3836, '파마': 3837, '소외': 3838, '악마': 3839, '호실': 3840, '압박': 3841, '어마': 3842, '만이라도': 3843, '등장': 3844, '인치': 3845, '간첩': 3846, '보로': 3847, '꽃': 3848, '임기': 3849, '배당락': 3850, '가만': 3851, '견인': 3852, '짓거리': 3853, '약해지다': 3854, '절도': 3855, '세번': 3856, '긴급': 3857, '닥터': 3858, '정신건강': 3859, '직스': 3860, '주어': 3861, '커녕': 3862, '무인': 3863, '한때': 3864, 'ㅋㅋㅋㅋㅋㅋㅋㅋㅋㅋ': 3865, '몇몇': 3866, '비정상': 3867, '근래': 3868, '찾아오다': 3869, '다치다': 3870, '지난달': 3871, '차원': 3872, '질리다': 3873, '바램': 3874, '하나로': 3875, '탱': 3876, '보고오다': 3877, '어수선하다': 3878, '스팀': 3879, '단독': 3880, '지나치다': 3881, '저만': 3882, '조성': 3883, '뇌': 3884, '하루빨리': 3885, '뛰어넘다': 3886, '로이터': 3887, '터널': 3888, '엮': 3889, '블랙': 3890, '로열티': 3891, '배제': 3892, '찌': 3893, '방이': 3894, '하필': 3895, '출범': 3896, '고정': 3897, '스텔라': 3898, '횡보하': 3899, '버그': 3900, '기술이전': 3901, '측은': 3902, '프': 3903, '기금': 3904, '엄마': 3905, '불발': 3906, '꺾다': 3907, '인터넷': 3908, '팹': 3909, '현명하다': 3910, '감다': 3911, '실력': 3912, '요호': 3913, '누나': 3914, '테': 3915, '파네': 3916, '글로비스': 3917, '동남아': 3918, '환산': 3919, '퀄컴': 3920, '에잇': 3921, '로컬': 3922, '둔덕': 3923, '운행': 3924, '지독하다': 3925, '하드': 3926, '포착': 3927, '상장폐지': 3928, '일진': 3929, '카페': 3930, '과잉': 3931, '동일': 3932, '따라잡다': 3933, '주지': 3934, '공업': 3935, '화합물': 3936, '도금': 3937, '리아': 3938, '발판': 3939, '평택': 3940, '동월': 3941, '주가조작': 3942, '인자': 3943, '전시회': 3944, '작동': 3945, '이드': 3946, '지구': 3947, '년물': 3948, '산정': 3949, '여태': 3950, '침해': 3951, '하우': 3952, '부양책': 3953, '알루': 3954, '타이어': 3955, '표적': 3956, '구조조정': 3957, '매장': 3958, '한덕수': 3959, '경이': 3960, '윈터': 3961, '쪼개다': 3962, '몰려오다': 3963, '정해지다': 3964, '세라': 3965, '요만': 3966, '먹이': 3967, '익다': 3968, '장내': 3969, '왕창': 3970, '고서': 3971, '트론': 3972, '담그다': 3973, '밥값': 3974, '깨닫다': 3975, '초년': 3976, '장도': 3977, '비난': 3978, '털': 3979, 'ㅡㅡㅡ': 3980, '주일': 3981, '내야': 3982, '한창': 3983, '한솔': 3984, '국무총리': 3985, '발사체': 3986, '전투': 3987, '오리': 3988, '윙': 3989, '멋있다': 3990, '닛산': 3991, '순식간': 3992, '탑': 3993, '애널': 3994, '호들갑': 3995, '뱉다': 3996, '거만': 3997, '구라': 3998, '기미': 3999, '헛소리': 4000, 'ㅐ': 4001, '태어나다': 4002, '쌀': 4003, '한순간': 4004, '알파노': 4005, '특이점': 4006, '당사': 4007, '안기다': 4008, '달이': 4009, '감수': 4010, '리나': 4011, '더디다': 4012, '비판': 4013, '비엘': 4014, '지난번': 4015, '공지': 4016, '용다': 4017, '지지다': 4018, '거진': 4019, '짖다': 4020, '특': 4021, '생명': 4022, '본부': 4023, '실질': 4024, '고마': 4025, '고물': 4026, '절로': 4027, '출금': 4028, '실망하다': 4029, '런': 4030, '사채': 4031, '홍콩': 4032, '맛보다': 4033, '마시다': 4034, '탈탈': 4035, '짝': 4036, '캐나다': 4037, '어도': 4038, '신설': 4039, '수록': 4040, '증거': 4041, '인물': 4042, '눈물나다': 4043, '생일': 4044, '참나': 4045, '아티스트': 4046, '국정': 4047, '부활': 4048, '전형': 4049, '두번째': 4050, '곱': 4051, '철새': 4052, '홈페이지': 4053, '자격': 4054, '가세': 4055, '찬티': 4056, '맨': 4057, '멍청이': 4058, '도모': 4059, '심다': 4060, '십년': 4061, '태국': 4062, '긁다': 4063, '화면': 4064, '부모님': 4065, '주입': 4066, '팬': 4067, '도파민': 4068, '땜시': 4069, '허영': 4070, '퍼블리싱': 4071, '정작': 4072, '환희': 4073, 'ㄴㄴ': 4074, '종전': 4075, '요건': 4076, '브이': 4077, '대한전선': 4078, '잘만': 4079, '그렇지만': 4080, 'ㅋㅋㅋㅋㅋㅋㅋㅋㅋㅋㅋㅋㅋ': 4081, '고문': 4082, '아모레퍼시픽': 4083, '미우다': 4084, '끝없이': 4085, '정확성': 4086, '줄줄이': 4087, '노려보다': 4088, '미주': 4089, '잘알다': 4090, '오우': 4091, '수두': 4092, '뒷받침': 4093, '차마': 4094, '마스': 4095, '생존': 4096, '메이저': 4097, '기름': 4098, '무능하다': 4099, '논문': 4100, '캐': 4101, '수많다': 4102, '화재': 4103, '벌어지다': 4104, '욕먹다': 4105, '꼬이다': 4106, '쏠리다': 4107, '봉상': 4108, '어플': 4109, '돌아보다': 4110, '컴퓨터': 4111, '싸': 4112, '물탄': 4113, '슬': 4114, '관절염': 4115, '조각': 4116, '만을': 4117, '번거': 4118, '애국심': 4119, '선사': 4120, '한전': 4121, '총알': 4122, '영향력': 4123, '원도': 4124, '둥글다': 4125, '궁금': 4126, '거뜬하다': 4127, '포트': 4128, '도착': 4129, '묵묵하다': 4130, '알루미늄': 4131, '투주': 4132, '표결': 4133, '왓': 4134, '안심': 4135, '눈앞': 4136, '엥': 4137, '욱': 4138, '성은': 4139, '누리다': 4140, '담보': 4141, '어마어마하다': 4142, '즉시': 4143, '넥슨': 4144, '위반': 4145, '재생': 4146, '빌어': 4147, '도데': 4148, '용진': 4149, '아시아나': 4150, '중점': 4151, '적지': 4152, '동맹국': 4153, '월배': 4154, '에코비': 4155, '우마': 4156, '기고': 4157, '게시': 4158, '고해': 4159, '피지': 4160, '개꿀': 4161, '증언': 4162, '조선해': 4163, '발의': 4164, '북': 4165, '으론': 4166, '중요성': 4167, '배부르다': 4168, '사과': 4169, '꺼내다': 4170, '두기': 4171, '무릎': 4172, '민주': 4173, '디바이스': 4174, '니당다': 4175, '여쭈다': 4176, '아유': 4177, '아스': 4178, '컨트롤': 4179, '나발': 4180, '니켈': 4181, '만전': 4182, '기쁨': 4183, '이태원': 4184, '쫄': 4185, '세액': 4186, '배출': 4187, '팔지마다': 4188, '별도': 4189, '기조': 4190, '가치투자': 4191, '요원': 4192, '어이없다': 4193, '영광': 4194, '작살': 4195, '날인': 4196, '정세': 4197, '막상': 4198, '이로': 4199, '마일': 4200, '비야': 4201, '다물다': 4202, '스트라이크': 4203, '나아지다': 4204, '이나마': 4205, '해외여행': 4206, '불안감': 4207, '영국': 4208, '게다가': 4209, '우선주': 4210, '파킹': 4211, '그래픽': 4212, '가까워지다': 4213, '일자리': 4214, '국룰': 4215, '레버': 4216, '도망': 4217, '최신': 4218, '케파': 4219, '어지간하다': 4220, '시위': 4221, '불편하다': 4222, '비실': 4223, '구먼': 4224, '청': 4225, '출근': 4226, '일치': 4227, '칩셋': 4228, '당주': 4229, '자국': 4230, '어서': 4231, '오로지': 4232, '펩타이드': 4233, '객관': 4234, '벡트': 4235, '증자': 4236, '인걸': 4237, '개설': 4238, '뎌': 4239, '천주': 4240, '구속': 4241, '나가야': 4242, '꼬라박': 4243, '일환': 4244, '이노베이션': 4245, '운송': 4246, '충성': 4247, '구조대': 4248, '장애': 4249, '냠냠': 4250, '대웅제약': 4251, '아무래도': 4252, '저기': 4253, '분도': 4254, '다예': 4255, '하든': 4256, '스판덱스': 4257, '엘리베이터': 4258, '견해': 4259, '헤드': 4260, '주관': 4261, '머티리얼즈': 4262, '감축': 4263, '음극': 4264, '정공': 4265, '액티브': 4266, '시추': 4267, '뉴': 4268, '금투세': 4269, '잠수함': 4270, '전후': 4271, '훈련': 4272, '이노텍': 4273, '년후': 4274, '왜냐면': 4275, '우호': 4276, '작정': 4277, '대놓고': 4278, '덩어리': 4279, '놀이': 4280, '후회되다': 4281, '전신': 4282, '야금야금': 4283, '막장': 4284, '매일유업': 4285, '나니': 4286, '지사': 4287, '요법': 4288, '공기': 4289, '전국': 4290, '여성': 4291, '쬐다': 4292, '답변': 4293, '통': 4294, '굥': 4295, '꺼리다': 4296, '발작': 4297, '흘러가다': 4298, '코앞': 4299, '재편': 4300, '뒤늦다': 4301, '고개': 4302, '어느새다': 4303, '징징거리다': 4304, '욧': 4305, '그간': 4306, '양호': 4307, '겄': 4308, '난이도': 4309, '후진국': 4310, '후퇴': 4311, '전해지다': 4312, '국익': 4313, '영화': 4314, '검열': 4315, '수립': 4316, '제목': 4317, '모간': 4318, '오니': 4319, '쓰러지다': 4320, '본딩': 4321, '토요일': 4322, '주신': 4323, '안건': 4324, '억지로': 4325, '쥐꼬리': 4326, '도해': 4327, '랏': 4328, '껏': 4329, '고기': 4330, '모색': 4331, '무상': 4332, '증여': 4333, '계수': 4334, '혼합': 4335, '파생상품': 4336, '씨젠': 4337, '정성': 4338, '고견': 4339, '타지': 4340, '붙잡다': 4341, '필옵': 4342, '관찰': 4343, '우파': 4344, '이브': 4345, '산출': 4346, '괴': 4347, '감각': 4348, '까불다': 4349, '따리': 4350, '몽골': 4351, '먹히다': 4352, '창업': 4353, '선임': 4354, '고로': 4355, '본업': 4356, '해주시': 4357, '걸그룹': 4358, '자네': 4359, '안내': 4360, '뚝': 4361, '소수점': 4362, '저주': 4363, '삼바': 4364, '용하다': 4365, '무리': 4366, '아우': 4367, '힘쓰다': 4368, '씹다': 4369, '취하': 4370, '드네': 4371, '플스': 4372, '어어': 4373, '혁': 4374, '뻘짓': 4375, '이의': 4376, '유사': 4377, '커버': 4378, '징징': 4379, '통수': 4380, '아기': 4381, '트와이스': 4382, '뿌리': 4383, '조선소': 4384, '협동': 4385, '애가': 4386, '올린다': 4387, '심심하다': 4388, '코덱스': 4389, '단순': 4390, '비트': 4391, '부어': 4392, '빨르다': 4393, '심해': 4394, '여지': 4395, '안타': 4396, '더욱더': 4397, '수리온': 4398, '외다': 4399, '월동': 4400, '덜다': 4401, '덩': 4402, '넓다': 4403, '토크': 4404, '칼럼': 4405, '무단': 4406, '배포': 4407, '증빙': 4408, '가늠': 4409, '주자': 4410, '점도': 4411, '되게': 4412, '벌레': 4413, '켜다': 4414, '불투명하다': 4415, '극대': 4416, '전의': 4417, '몇십': 4418, '십만': 4419, '적도': 4420, '날수': 4421, '수로': 4422, '시초': 4423, 'ㅂㄷㅂㄷ': 4424, '용도': 4425, '떼': 4426, '장소': 4427, '개잡': 4428, '결산': 4429, '다른사람': 4430, '두시': 4431, '노리': 4432, '춥다': 4433, '불금': 4434, 'ㅁ': 4435, '동운': 4436, '나텍': 4437, '배치': 4438, '슬림': 4439, '인체': 4440, '파산': 4441, '중국인': 4442, '사유': 4443, '헝가리': 4444, '챗': 4445, '때메': 4446, '노선': 4447, '블로그': 4448, '이중': 4449, '원자로': 4450, '새다': 4451, '당국': 4452, '임원진': 4453, '요하': 4454, '양도': 4455, '너무나': 4456, '팩': 4457, '거부': 4458, '체질': 4459, '국회의원': 4460, '병원': 4461, '불어': 4462, '스타일': 4463, '재주': 4464, '펼치다': 4465, 'ㅓ': 4466, '담배': 4467, '와인': 4468, '휘': 4469, '동참': 4470, '하여간': 4471, '팅': 4472, '공주': 4473, '지네': 4474, '금고': 4475, '능': 4476, '사우디아라비아': 4477, '부결': 4478, '보통주': 4479, '꺽': 4480, '날짜': 4481, '버들': 4482, '착각': 4483, '유발': 4484, '스틸': 4485, '철': 4486, '예요': 4487, '미사일': 4488, '족': 4489, '소설': 4490, '주전': 4491, '시끄럽다': 4492, '닝': 4493, '수없이': 4494, '진보': 4495, '운항': 4496, '박순': 4497, '파일럿': 4498, '이어서': 4499, '시민': 4500, '운명': 4501, '중소': 4502, '격': 4503, '독자': 4504, '월초': 4505, '흘러내리다': 4506, '다나': 4507, '전만': 4508, '교훈': 4509, '석유화학': 4510, '시들다': 4511, '곤두박질': 4512, '사탄': 4513, '치도': 4514, '감성': 4515, '대머리': 4516, '전염병': 4517, '공제': 4518, '취급': 4519, '음료': 4520, '주춤': 4521, '재난': 4522, '레거시': 4523, '면역': 4524, '끼치다': 4525, '프로비': 4526, '물어': 4527, '따라오다': 4528, '펀': 4529, '해저케이블': 4530, '캬': 4531, '상선': 4532, '잠수': 4533, '현금화': 4534, '나와라': 4535, '도래': 4536, '거야': 4537, '내미다': 4538, '거치': 4539, '년말': 4540, '제닉스': 4541, '운반': 4542, '안달': 4543, '불가능': 4544, '특허청': 4545, '개돼지': 4546, '범죄': 4547, '충실': 4548, '제의': 4549, '랄': 4550, '힘없다': 4551, '제거': 4552, '보라': 4553, '으이구': 4554, '부스': 4555, '부사': 4556, '표시': 4557, '각도': 4558, '방영': 4559, '눌리': 4560, '에헤': 4561, '실체': 4562, '안감': 4563, '범죄자': 4564, '그러하다': 4565, '조정은': 4566, '퓨틱스': 4567, '업데이트': 4568, '시그널': 4569, '요금': 4570, '국제선': 4571, '기동': 4572, '존경': 4573, '연산': 4574, '이목': 4575, '엔터': 4576, '합성': 4577, '전해': 4578, '선언': 4579, '드래곤': 4580, '사정': 4581, '커플링': 4582, '분활': 4583, '뎅': 4584, '간이': 4585, '캐릭터': 4586, '옴': 4587, '붐': 4588, '금융투자': 4589, '핸드폰': 4590, '기둥': 4591, '명의': 4592, '최후': 4593, '부정선거': 4594, '재원': 4595, '빌드윈': 4596, '전자기기': 4597, '급감': 4598, '쏠': 4599, '수사': 4600, '피스': 4601, '수상': 4602, '유물': 4603, '도메인': 4604, '빗각': 4605, '악성': 4606, '바이러스': 4607, '렵': 4608, '숨기': 4609, '반절': 4610, '펴다': 4611, '도토리': 4612, '정석': 4613, '기점': 4614, '스윙': 4615, '두드러지다': 4616, '마땅하다': 4617, '무서움': 4618, '햄': 4619, '채다': 4620, '유효하다': 4621, '거대하다': 4622, '처넌': 4623, '구분': 4624, '느긋하다': 4625, '당한': 4626, '머트': 4627, '조기': 4628, '추적': 4629, '팔자': 4630, '눈뜨다': 4631, '오랫': 4632, '불량': 4633, '바겐세일': 4634, '에나': 4635, '열차': 4636, '이돈': 4637, '모비스': 4638, '티비': 4639, '봉사': 4640, '데리': 4641, '돈좀': 4642, '못자다': 4643, '멘트': 4644, '명절': 4645, '횟수': 4646, '겟': 4647, '예견': 4648, '일상': 4649, '무대': 4650, 'ㅉ': 4651, '안고': 4652, 'ㅋㅋㅋㅋㅋㅋㅋㅋㅋㅋㅋㅋ': 4653, '약화': 4654, '점진': 4655, '도저히': 4656, '정신병': 4657, '고사': 4658, '걸음': 4659, '주연': 4660, '함부로': 4661, '은근': 4662, '하여튼': 4663, '온갖': 4664, '주제': 4665, '정의': 4666, '스토': 4667, '준수': 4668, '내면': 4669, '능지': 4670, '제법': 4671, '중화권': 4672, '서류': 4673, '메리': 4674, '디오': 4675, '그러다가': 4676, '곳도': 4677, '몰리': 4678, '파라': 4679, '투명하다': 4680, '단일': 4681, '산이': 4682, '에스케이': 4683, '구리': 4684, '군부': 4685, '통운': 4686, '가쟈': 4687, '추진단': 4688, '멤버': 4689, '징조': 4690, '텐데': 4691, '김범수': 4692, '아자': 4693, '데뷔': 4694, '작고': 4695, '닿다': 4696, '비록': 4697, '고속': 4698, '포모': 4699, '졋': 4700, '하고는': 4701, '전가': 4702, '씨드': 4703, '가유': 4704, '과대': 4705, '총수': 4706, '고압': 4707, '뭣': 4708, '프로도': 4709, '틈': 4710, '시동': 4711, '뮤': 4712, '루': 4713, '마비': 4714, '미스': 4715, '테일러': 4716, '전작': 4717, '컴백': 4718, '구만': 4719, '첨부': 4720, '겸': 4721, '상온': 4722, '이를': 4723, '는가': 4724, '을사년': 4725, '차려': 4726, '을해': 4727, '직행': 4728, '펌프': 4729, '석유': 4730, '안철수': 4731, '보즈': 4732, '마약': 4733, '아마도': 4734, '어쩌구': 4735, '어째': 4736, '식사': 4737, '균': 4738, '배팅': 4739, '들려오다': 4740, '쫄보': 4741, '권장': 4742, '폭망': 4743, '자의': 4744, '심정': 4745, '기특하다': 4746, '이대': 4747, '의혹': 4748, '서민': 4749, '방송': 4750, '남지': 4751, '신의': 4752, '실리다': 4753, '가공': 4754, '개척': 4755, '본질': 4756, '고통스럽다': 4757, '행정': 4758, '양반': 4759, '우유': 4760, '단백질': 4761, '위상': 4762, '판결': 4763, '겸손하다': 4764, '빨강': 4765, '후속': 4766, '전도성': 4767, '더블유': 4768, '활': 4769, '풋': 4770, '각오': 4771, '신라': 4772, '오빠': 4773, '깎다': 4774, '임금': 4775, '원주': 4776, '기준금리': 4777, '선하다': 4778, '평범하다': 4779, '상속': 4780, '솟다': 4781, '품절': 4782, '보스턴': 4783, '굶다': 4784, '케일': 4785, '기자간담회': 4786, '드러내다': 4787, '축제': 4788, '그다음': 4789, '착': 4790, '프리': 4791, '한수원': 4792, '되돌리다': 4793, '일어서다': 4794, '회생': 4795, '추측': 4796, '파면': 4797, '베젤': 4798, '모서리': 4799, '억대': 4800, '지식': 4801, '와는': 4802, '제이': 4803, '날때': 4804, '떠오르다': 4805, '그중': 4806, '타자': 4807, '쌀때': 4808, '군용': 4809, '스카이': 4810, '감전': 4811, '야수': 4812, '플레이': 4813, '율도': 4814, '하고프다': 4815, '농락': 4816, '점수': 4817, '데리다': 4818, '뒤통수': 4819, '뻥': 4820, '원만': 4821, '어르다': 4822, '스토어': 4823, '잡기': 4824, '필라델피아': 4825, '받아들이다': 4826, '붙이': 4827, '조카': 4828, '덮다': 4829, '무스': 4830, '인수합병': 4831, '국제공항': 4832, '미세': 4833, '건조': 4834, '물좀': 4835, '헉': 4836, '늦잠': 4837, '서프라이즈': 4838, '스프레드': 4839, '전기요금': 4840, '아우르다': 4841, '내리락': 4842, '기밀': 4843, '천궁': 4844, '출자': 4845, '티야': 4846, '잭팟': 4847, '리서치': 4848, '발라': 4849, '중남미': 4850, '틴': 4851, '코멘트': 4852, '홀': 4853, '아랫': 4854, '연휴': 4855, '막바지': 4856, '수단': 4857, '역사상': 4858, '국면': 4859, '리플': 4860, '빼먹다': 4861, '흐리다': 4862, '시기하다': 4863, '에이스': 4864, '가산': 4865, '원망하다': 4866, '밑바닥': 4867, '아리': 4868, '진영': 4869, '기법': 4870, '승부': 4871, '정유': 4872, '된장': 4873, '최강': 4874, '거듭': 4875, '다사': 4876, '자일': 4877, '딩': 4878, '디지다': 4879, '짜릿하다': 4880, '외쿡인': 4881, '나야': 4882, '신년': 4883, '가계': 4884, 'ㅎㄷㄷ': 4885, '포커스': 4886, '목소리': 4887, '선의': 4888, '로드맵': 4889, '모양새': 4890, '저하': 4891, '휴일': 4892, '모주': 4893, '웰': 4894, '발열': 4895, '대답': 4896, 'ㅠㅠㅠㅠㅠㅠ': 4897, '재인': 4898, '자만': 4899, '요한': 4900, '버시': 4901, '천이': 4902, '트루': 4903, '원점': 4904, '쩜': 4905, '마저도': 4906, '변명': 4907, '살이': 4908, '묵': 4909, '일수록': 4910, '고지': 4911, '렵니': 4912, '판독': 4913, '감방': 4914, '보더': 4915, '합리': 4916, '삼스디': 4917, '안남': 4918, '살길': 4919, '견고하다': 4920, '띄다': 4921, '긴장': 4922, '손절매': 4923, '금투': 4924, '끌리다': 4925, '부실': 4926, '투명': 4927, '상공': 4928, '타워': 4929, '발굴': 4930, '큰손': 4931, '사두': 4932, '노무현': 4933, '두께': 4934, '날뛰다': 4935, '질질': 4936, '노조': 4937, '명품': 4938, '극적': 4939, '개입': 4940, '클리': 4941, '끝장': 4942, '인형': 4943, '보강': 4944, '실스크': 4945, '시오': 4946, '복지': 4947, '퍼지다': 4948, '년차': 4949, '천국': 4950, '과감': 4951, '주위': 4952, '스토리': 4953, '꿈꾸다': 4954, '건의': 4955, '항공우주': 4956, '다루다': 4957, '요장': 4958, '전역': 4959, '해체': 4960, '사망': 4961, '폐기': 4962, '까지가': 4963, '위메이드': 4964, 'ㅋㅋㅋㅋㅋㅋㅋㅋㅋㅋㅋ': 4965, '부여': 4966, '예수': 4967, '삼일제약': 4968, '로또': 4969, '쓰기': 4970, '중독': 4971, '싸이클': 4972, '체력': 4973, '사자': 4974, '소주': 4975, '콜라보': 4976, '하므다': 4977, '감추다': 4978, '멀쩡하다': 4979, '빅테크': 4980, '유나이티드': 4981, '헌터': 4982, '한적': 4983, '덕산': 4984, '광주': 4985, '함주': 4986, '감지': 4987, '족족': 4988, '티앤': 4989, '한결같다': 4990, '추카': 4991, '싱': 4992, '어여': 4993, '진전': 4994, '합격': 4995, '하드웨어': 4996, '금주': 4997, '고갈': 4998, '존국': 4999, '에혀': 5000, '오리엔트': 5001, '지배': 5002, '호제': 5003, '합금': 5004, '고용': 5005, '백만': 5006, '앞날': 5007, '일부분': 5008, '백신': 5009, '줄기세포': 5010, '개략': 5011, '무새': 5012, '엘비': 5013, '에이치': 5014, '니오븀': 5015, '빠져나오다': 5016, '맘대로': 5017, '약품': 5018, '해성': 5019, '손대다': 5020, '조종수': 5021, '지기': 5022, '해운': 5023, '잔뜩': 5024, '인터': 5025, '하수': 5026, '아따': 5027, '만지다': 5028, '놀랍다': 5029, '리보': 5030, '닙': 5031, '나가요': 5032, '그로': 5033, '권하다': 5034, '몬': 5035, '요나': 5036, '논란': 5037, '벌겋다': 5038, '울면': 5039, '알리다': 5040, '치네다': 5041, '흔': 5042, '충전기': 5043, '푸른': 5044, '토론': 5045, '노출': 5046, '마이나스': 5047, '억제제': 5048, '전임': 5049, '과산화수소': 5050, '하량': 5051, '재탕': 5052, '흐': 5053, '기웃': 5054, '앞당기다': 5055, '이로써': 5056, '업적': 5057, '먹음': 5058, '나마': 5059, '패션': 5060, '무언가': 5061, '태도': 5062, '장남': 5063, '측근': 5064, '재계': 5065, '연결하다': 5066, '의원': 5067, '로보': 5068, '인도네시아': 5069, '항암': 5070, '고월': 5071, '얍': 5072, '객': 5073, '노스페이스': 5074, '진도': 5075, '끝없다': 5076, '왤다': 5077, '웨이': 5078, '리뷰': 5079, '면밀하다': 5080, '입문': 5081, '무리다': 5082, '씁쓸하다': 5083, '류광': 5084, '익절잔': 5085, '그땐': 5086, '여럿': 5087, '사먹다': 5088, '정직하다': 5089, '소집': 5090, '서명': 5091, '농심': 5092, '이참': 5093, '고비': 5094, '유튜버': 5095, '순조': 5096, '수상하다': 5097, '배분': 5098, '굴러가다': 5099, '따따': 5100, '끝내주다': 5101, '래서': 5102, '거대': 5103, '목숨': 5104, '돈벌': 5105, '골로': 5106, '배고프다': 5107, '제적': 5108, '압': 5109, '힘겹다': 5110, '막대': 5111, '단기간': 5112, '밥그릇': 5113, '차이나다': 5114, '더더': 5115, '디스': 5116, '대형주': 5117, '축': 5118, '주가지수': 5119, '미달': 5120, '웃': 5121, '찢다': 5122, '박수': 5123, '레이크': 5124, '쯧쯧': 5125, '기한': 5126, '으악': 5127, '장가': 5128, '명예': 5129, '젠알앤엠': 5130, '지하실': 5131, '지출': 5132, '확충': 5133, '강력': 5134, '임무': 5135, '까지나': 5136, '끈': 5137, '놀': 5138, '진정': 5139, '만으로도': 5140, '후딱': 5141, '공공': 5142, '캠페인': 5143, '선진': 5144, '동지': 5145, '가버리다': 5146, '타로': 5147, '역쉬': 5148, '갯수': 5149, '무기한': 5150, '니니': 5151, '고릴라': 5152, '조명': 5153, '고난': 5154, '국방': 5155, '나인': 5156, '딸': 5157, '에서나': 5158, '인지도': 5159, '뮤직': 5160, '주년': 5161, '지갑': 5162, '카운트': 5163, '구석': 5164, '하야': 5165, '오르락내리락': 5166, '얼리다': 5167, '싼값': 5168, '내시': 5169, '물러나다': 5170, '느껴지다': 5171, '사연': 5172, '휴식': 5173, '안도': 5174, '릴': 5175, '호흡': 5176, '쫙': 5177, '보초': 5178, '한텐': 5179, '라그': 5180, '진통제': 5181, '덜하다': 5182, '잘나다': 5183, '분투': 5184, '소고기': 5185, '민감하다': 5186, '꼭꼭': 5187, 'ㅂ': 5188, '꾼': 5189, '어리석다': 5190, '훈풍': 5191, '업그레이드': 5192, '시연': 5193, '이보': 5194, '제자': 5195, '밝혀지다': 5196, '둘째': 5197, '도람': 5198, '닦다': 5199, '뜰': 5200, '문재인': 5201, '반발': 5202, '치킨게임': 5203, '노무': 5204, '삼양': 5205, '중지': 5206, '전통': 5207, '사명': 5208, '신념': 5209, '엘리트': 5210, '면세점': 5211, '대왕고래': 5212, '훨': 5213, '실험': 5214, '커패시터': 5215, '과학': 5216, '소셜': 5217, '옥석': 5218, '건투': 5219, '잘리다': 5220, '어딘가': 5221, '의식': 5222, '궁': 5223, '실상': 5224, '늦추다': 5225, '토레스': 5226, '우짜': 5227, '쌍욕': 5228, '양보': 5229, '주우': 5230, '수기': 5231, '그러니까': 5232, '화도': 5233, '불우': 5234, '돕기': 5235, '급성': 5236, '보완': 5237, '쪼금': 5238, '비주': 5239, '만장': 5240, '머선': 5241, '이혼': 5242, '누굴': 5243, '던지기': 5244, '떳': 5245, '자원부': 5246, '터빈': 5247, '수월하다': 5248, '냇': 5249, '어젠': 5250, '제주도': 5251, '인구': 5252, '경은': 5253, '것일': 5254, '루머': 5255, '착잡하다': 5256, '제인': 5257, '발등': 5258, '타라': 5259, '넓히다': 5260, '나락갈': 5261, '승소': 5262, '되찾다': 5263, '비즈니스': 5264, '못내': 5265, '갑작스럽다': 5266, '은혜': 5267, '질환': 5268, '브': 5269, '빽': 5270, '마음대로': 5271, '회계': 5272, '포심': 5273, '먼지': 5274, '겨냥': 5275, '주작': 5276, '상하': 5277, '에가': 5278, '범용': 5279, '학회': 5280, '댜': 5281, '둘리': 5282, '도지': 5283, '걷다': 5284, '필': 5285, '흐뭇하다': 5286, '전과': 5287, '헤헤': 5288, '추미애': 5289, '한동훈': 5290, '신기': 5291, '구르다': 5292, '공산당': 5293, '개인정보': 5294, '들보': 5295, '가관': 5296, '국밥': 5297, '문득': 5298, '으쌰으쌰': 5299, '수능': 5300, '파적': 5301, '도록': 5302, '터미널': 5303, '욕구': 5304, '레이': 5305, '연락': 5306, '접속': 5307, '인원': 5308, '놀래다': 5309, '재활용': 5310, '파고': 5311, '적임': 5312, '넉넉하다': 5313, '어딨다': 5314, '설득': 5315, '이라크': 5316, '오해': 5317, '도산': 5318, '재해': 5319, '대미': 5320, '똑같이': 5321, '배상': 5322, '장공': 5323, '세월': 5324, '건드리다': 5325, '사탕': 5326, '가용': 5327, '조물': 5328, '인근': 5329, '하소': 5330, '먼일': 5331, '수집': 5332, '배달': 5333, '오직': 5334, '모회사': 5335, '진의': 5336, '어처구니': 5337, '지방': 5338, '구독': 5339, '쇼핑몰': 5340, '한정': 5341, '일제': 5342, '유또속': 5343, '고만': 5344, '이나라': 5345, '무지막지': 5346, '반하다': 5347, '유족': 5348, '다오': 5349, '튀어나오다': 5350, '이런저런': 5351, '법도': 5352, '감가상각': 5353, '패배': 5354, '맡기다': 5355, '달뒤': 5356, '부지런하다': 5357, '멕시코': 5358, '율촌': 5359, '오오': 5360, '앤비': 5361, '부러': 5362, '발악': 5363, '뇌피셜': 5364, '잃어버리다': 5365, '정제': 5366, '미세먼지': 5367, '진과': 5368, '고속도로': 5369, '퉤퉤': 5370, '푹': 5371, '비상하다': 5372, '회항': 5373, '이성': 5374, '희망사항': 5375, '테스': 5376, '돕다': 5377, '분탕질': 5378, '뜬금': 5379, '분리': 5380, '노인': 5381, '이건희': 5382, '속보': 5383, '득': 5384, '진행중': 5385, '알고리즘': 5386, '큐비트': 5387, '넼': 5388, '이격': 5389, '바디': 5390, '갑갑하다': 5391, '카토': 5392, '이구만': 5393, '앞장서다': 5394, '조회': 5395, '폐하': 5396, '뻥튀기': 5397, '사이드': 5398, '제노스': 5399, '았': 5400, '부의': 5401, '흔하다': 5402, '으앙': 5403, '슬금슬금': 5404, '빠': 5405, '음전하': 5406, '식다': 5407, '손절햇': 5408, '가입자': 5409, '마법': 5410, '동물': 5411, '관측': 5412, '핑계': 5413, '아이템': 5414, '잘살다': 5415, '은하': 5416, '만요': 5417, '친미': 5418, '천연가스': 5419, '매달리다': 5420, '룡': 5421, '블': 5422, '마당': 5423, '잔잔하다': 5424, '종류': 5425, '미수': 5426, '성의': 5427, '재끼': 5428, '잘나가다': 5429, '상담': 5430, '껀데': 5431, '고액': 5432, '청년': 5433, '개웃': 5434, '액침': 5435, '민': 5436, '대면': 5437, '듣보잡': 5438, '비즈': 5439, '선적': 5440, '생산량': 5441, '승하': 5442, '압니': 5443, '돈버': 5444, '자비': 5445, '형편': 5446, '매연': 5447, '프로야': 5448, '해저': 5449, '당황': 5450, '이분': 5451, '쫄리': 5452, '두려움': 5453, '성질': 5454, '자구': 5455, '그래그래': 5456, '하차': 5457, '용인': 5458, '그릇': 5459, 'ㄱㄱㄱ': 5460, '어쩌다가': 5461, '로라': 5462, '넵튠': 5463, '낙하산': 5464, '쑤시다': 5465, '엔화': 5466, '황제': 5467, '주주명부': 5468, '증액': 5469, '어그': 5470, '인척': 5471, '공세': 5472, '황씨': 5473, '에이프릴': 5474, '나빠지다': 5475, '승자': 5476, '빨강이': 5477, '다시금': 5478, '선행': 5479, '떨이': 5480, '얼음': 5481, '만년': 5482, '수동': 5483, '안드로이드': 5484, '주중': 5485, '토목': 5486, '소원': 5487, '엉엉': 5488, '괜': 5489, '또다시': 5490, '고도화': 5491, '바퀴': 5492, '나눔': 5493, '멱살': 5494, '경제위기': 5495, '마을': 5496, '투어': 5497, '단말': 5498, '기업은행': 5499, '신한지주': 5500, '뜸': 5501, '흡수': 5502, '유치': 5503, '시브': 5504, '특화': 5505, '바이든': 5506, '수령': 5507, '머크': 5508, '옥': 5509, '장르': 5510, '대일': 5511, '낮': 5512, '플랜': 5513, '시르다': 5514, '마자': 5515, '연내': 5516, '므': 5517, '구현': 5518, '다비': 5519, '일동제약': 5520, '쌔': 5521, '업주': 5522, '선포': 5523, '부모': 5524, '문제점': 5525, '심의': 5526, '웬일': 5527, '미개하다': 5528, '낸드': 5529, '진화': 5530, '소진': 5531, '로다': 5532, '눈가': 5533, '본계약': 5534, '거구': 5535, '막심': 5536, '매주': 5537, '콘퍼런스': 5538, '토비': 5539, '토비스': 5540, '메이크업': 5541, '바치다': 5542, '와이프': 5543, '세제': 5544, '평안하다': 5545, '폐쇄': 5546, '금속': 5547, '가파르': 5548, '브릿지': 5549, '고함': 5550, '장전': 5551, '클레': 5552, '꿈틀': 5553, '역전': 5554, '존슨': 5555, '오송': 5556, '주식회사': 5557, '머릿속': 5558, '이프': 5559, '만큼의': 5560, '랴': 5561, '기하': 5562, '돌려주다': 5563, '핵폭탄': 5564, '재발': 5565, '방위사업청': 5566, '무산': 5567, '시드머니': 5568, '실행': 5569, '의결권': 5570, '보편': 5571, '참담하다': 5572, '쟤': 5573, '펀더': 5574, '공약': 5575, '러': 5576, '결제': 5577, '다방': 5578, '피앤': 5579, '독립': 5580, '본사': 5581, '스탠바이': 5582, '결심': 5583, '다한': 5584, '눌려': 5585, '작가': 5586, 'ㅇㅅㅇ': 5587, '두드리다': 5588, '방산수': 5589, '약국': 5590, '소켓': 5591, '필러': 5592, '혐오': 5593, '매크로': 5594, '디램': 5595, '박히다': 5596, '간신히': 5597, '사이버': 5598, '자빠지다': 5599, '기정': 5600, '녹십자': 5601, '거치다': 5602, '헤어지다': 5603, '해피': 5604, '건승': 5605, '인재': 5606, '혐의': 5607, '제품군': 5608, '감사히': 5609, '아이비': 5610, '젼웍스': 5611, '리드': 5612, '품': 5613, '중소기업': 5614, '집행': 5615, '두둑하다': 5616, '균혈증': 5617, '반코마이신': 5618, '간의': 5619, '리다': 5620, '믹스': 5621, '오프라인': 5622, '청소': 5623, '위탁': 5624, '연합': 5625, '어쩌다': 5626, '대차': 5627, '절세': 5628, '엣지': 5629, '머신': 5630, '뱀': 5631, '상회': 5632, '촉매': 5633, '전액': 5634, '스테키마': 5635, '만화': 5636, '뿌까': 5637, '안치': 5638, '로구나': 5639, '페': 5640, '쑥쑥': 5641, '더듬다': 5642, '녹이다': 5643, '간암': 5644, '산지': 5645, '수선': 5646, '세차': 5647, '식겁하다': 5648, '써주다': 5649, '만들기': 5650, '구상': 5651, '찬란하다': 5652, '한밤': 5653, '셋': 5654, '부드럽다': 5655, '미디어': 5656, '쪼가리': 5657, '유독': 5658, '남미': 5659, '억제': 5660, '암세포': 5661, '핳': 5662, '선뜻': 5663, '로켓': 5664, '레기': 5665, '급여': 5666, '불꽃': 5667, '회하': 5668, '수해': 5669, '리트': 5670, '탁': 5671, '안랩': 5672, '오예': 5673, '나좀': 5674, '분간': 5675, '사고팔다': 5676, '모로': 5677, '금융위': 5678, '뉴진스': 5679, '육박': 5680, '폐가': 5681, '승': 5682, '예수금': 5683, '해나': 5684, '가인': 5685, '선대인': 5686, '불사조': 5687, '브라질': 5688, '해초': 5689, '볼린': 5690, '사랑스럽다': 5691, '에라도': 5692, '비방': 5693, '정말로': 5694, '논': 5695, '이라곤': 5696, '환하다': 5697, '피자': 5698, '영업일': 5699, '하얼빈': 5700, '형식': 5701, '타이틀': 5702, '통틀어': 5703, '앗다': 5704, '소매': 5705, '다리다': 5706, '거사': 5707, '롭': 5708, '부딪히다': 5709, '야다': 5710, '부총리': 5711, '캡티브': 5712, '렷': 5713, '정녕': 5714, '종종': 5715, '제룡': 5716, '시뻘겋다': 5717, '개시': 5718, '카뱅': 5719, '청구': 5720, '의안': 5721, '신주': 5722, '하고도': 5723, '바다': 5724, '공무원': 5725, '덴마크': 5726, '령': 5727, '냉장고': 5728, '채결': 5729, '코스': 5730, '거만하다': 5731, '집안': 5732, '학생': 5733, '승객': 5734, '비아': 5735, '늙다': 5736, '징계': 5737, '널다': 5738, '드림팩토리': 5739, '캐즘': 5740, '맥스': 5741, '응용': 5742, '파고들다': 5743, '표면': 5744, '완만': 5745, '삐': 5746, '복잡하다': 5747, '지용': 5748, '비꼬다': 5749, '탄약': 5750, '콩': 5751, '꿍': 5752, '제재': 5753, '닉값': 5754, '그래픽카드': 5755, '내버리다': 5756, '동부': 5757, '대덕': 5758, '조상': 5759, '배기': 5760, '초입': 5761, '시전': 5762, '상당': 5763, '시올': 5764, '기공식': 5765, '항목': 5766, '캐파': 5767, '관저': 5768, '테러': 5769, '팔구': 5770, '카이스트': 5771, '교수': 5772, '골치': 5773, '조가': 5774, '분류': 5775, '제로섬': 5776, '메롱': 5777, '서킷': 5778, '햐': 5779, 'ㅠㅡㅠ': 5780, '오케이': 5781, '두창': 5782, '대국민': 5783, '다날': 5784, '발치': 5785, '꾹': 5786, '이상자': 5787, '쌍봉': 5788, '송도': 5789, '연방': 5790, '배아': 5791, '가즈아': 5792, '개구리': 5793, '상생': 5794, '사하다': 5795, '민심': 5796, '흉': 5797, '부작용': 5798, '줄줄': 5799, '틀림': 5800, '일당': 5801, '절대로': 5802, '만료': 5803, '가뿐하다': 5804, '방위': 5805, '전인': 5806, '무식하다': 5807, '좌': 5808, '예외': 5809, '치고는': 5810, '컴투스': 5811, '닌': 5812, '초장': 5813, '건조하다': 5814, '가구': 5815, '기와': 5816, '민생': 5817, '품격': 5818, '아씨': 5819, '액세스': 5820, '지주회사': 5821, '투합': 5822, 'ㅋㅋㅋㅋㅋㅋㅋㅋㅋㅋㅋㅋㅋㅋ': 5823, '따지다': 5824, '서진': 5825, '강물': 5826, '시골': 5827, '꼬시': 5828, '벗다': 5829, '신임': 5830, '초점': 5831, '퍼포먼스': 5832, '카이': 5833, '보라매': 5834, '전투기': 5835, '짤짤': 5836, '사가다': 5837, '욥': 5838, '쏜다': 5839, '까마득하다': 5840, '먹고다': 5841, '불닭': 5842, '인적': 5843, '유증철회': 5844, '이십': 5845, '쪽박': 5846, '돔황챠': 5847, '구로': 5848, '뷰': 5849, '구도': 5850, '불신': 5851, '뽑히다': 5852, '아파트': 5853, '뿌': 5854, '불닭볶음면': 5855, '후기': 5856, 'ㅅㄱ': 5857, '근접': 5858, '어나': 5859, '어쩌라고': 5860, '살살': 5861, '크리스마스이브': 5862, '부가': 5863, '오줌': 5864, '요가': 5865, '예산안': 5866, '대도': 5867, '체감': 5868, '달전': 5869, '순삭': 5870, '셧': 5871, '까치': 5872, '재앙': 5873, '재임': 5874, '타깃': 5875, '인플레': 5876, '개똥': 5877, '아가시': 5878, '고양이': 5879, '스디': 5880, '간사하다': 5881, '관전': 5882, '한다해': 5883, '법칙': 5884, '제왑': 5885, '제철소': 5886, '차용': 5887, '즐거움': 5888, '점심시간': 5889, '가율': 5890, '기운': 5891, '핑': 5892, '림화': 5893, '불과하다': 5894, '전립선암': 5895, '신속하다': 5896, '헌신': 5897, '다주': 5898, '자본주의': 5899, '계약금': 5900, '고위': 5901, '식약처': 5902, '엑스코': 5903, '격려': 5904, '컨소시엄': 5905, '루마니아': 5906, '이탈리아': 5907, '호기': 5908, '발전기': 5909, '대적': 5910, '슨피': 5911, '자서': 5912, '평화': 5913, '사안': 5914, '케이스': 5915, '건물': 5916, '선출': 5917, '명령': 5918, '묶여서': 5919, '차고': 5920, '댕': 5921, '장미': 5922, '지지도': 5923, '낚시': 5924, '퇴사': 5925, '신저': 5926, '짠하다': 5927, '한몫': 5928, '경기도': 5929, '전개': 5930, '도나': 5931, '각하': 5932, '반짝': 5933, '만날': 5934, '랑은': 5935, '흥미': 5936, '쩌': 5937, '켜': 5938, '히트': 5939, '주된': 5940, '출자전환': 5941, '재벌': 5942, '도중': 5943, '우우': 5944, '모험': 5945, 'ㅜㅡㅜ': 5946, '일어나서': 5947, '여당': 5948, '구름': 5949, '자가면역': 5950, '구제': 5951, '유투브': 5952, '담기다': 5953, '부로': 5954, '이도': 5955, '음모론': 5956, '다다르다': 5957, '지지자': 5958, '포토': 5959, '직무': 5960, '불법': 5961, '불리하다': 5962, '환차손': 5963, '형국': 5964, '도보': 5965, '구경만': 5966, '타인': 5967, '무지하다': 5968, '손님': 5969, '결실': 5970, '꾸리다': 5971, '모하': 5972, '류진': 5973, '오피셜': 5974, '순수하다': 5975, '전보': 5976, '웃프': 5977, '탈걸': 5978, '미안': 5979, '난건': 5980, '에구': 5981, '교환': 5982, '말함': 5983, '악하다': 5984, '시티': 5985, '코웨이': 5986, '우직하다': 5987, '달려가다': 5988, '어려워지다': 5989, '손해배상': 5990, '노랗다': 5991, '보행': 5992, '비관': 5993, '불과': 5994, '잣': 5995, '유니': 5996, '망조': 5997, '고가도': 5998, '우스': 5999, '옷': 6000, '한쪽': 6001, '서두르다': 6002, '마음먹다': 6003, '동의': 6004, '데포': 6005, '입맛': 6006, '기울이다': 6007, '애용': 6008, '성급하다': 6009, '발림': 6010, '잊혀지다': 6011, '반미': 6012, '말고는': 6013, '의외로': 6014, '자칭': 6015, '권력': 6016, '보수당': 6017, '회전': 6018, '정오': 6019, '감자': 6020, '수작': 6021, '대들다': 6022, '한자': 6023, '꼭지': 6024, '러버': 6025, '슈퍼차저': 6026, '엠텍': 6027, '졸리다': 6028, '택시': 6029, '견': 6030, '피티': 6031, '꾀': 6032, '연중': 6033, '이글': 6034, '쒸': 6035, '튜브': 6036, '마퍼': 6037, '다라': 6038, '천정': 6039, '조급하다': 6040, '존중': 6041, '춤': 6042, '갈리': 6043, '애정': 6044, '시퍼렇다': 6045, '오지랖': 6046, '도구': 6047, '침습': 6048, '낭비': 6049, '소요': 6050, '저장장치': 6051, '험난하다': 6052, '투여': 6053, '네이처': 6054, '다난하다': 6055, '행운': 6056, '단물': 6057, '해양': 6058, '발휘': 6059, '노하우': 6060, 'ㅆㄹㄱ': 6061, '어서어서': 6062, '보증': 6063, '원정': 6064, '단어': 6065, '망가지다': 6066, '자전': 6067, '고이': 6068, '순이': 6069, '말장난': 6070, '카더라': 6071, '순인': 6072, '문자': 6073, '평온하다': 6074, '장악': 6075, '악제': 6076, '이율': 6077, '라네': 6078, '재수': 6079, '훌쩍': 6080, '곤란하다': 6081, '짐작': 6082, '흥미롭다': 6083, '다머': 6084, '뒈지다': 6085, '부실하다': 6086, '코바': 6087, '여섯': 6088, '고하': 6089, '재능': 6090, '파랭': 6091, '도치': 6092, '배전': 6093, '뱅크': 6094, '쳇': 6095, '인디애나주': 6096, '내후년': 6097, '딜': 6098, '환장하다': 6099, '음성': 6100, '뜰때': 6101, '야호': 6102, '끝물': 6103, '베터리': 6104, '조짐': 6105, '방면': 6106, '수명': 6107, '타용': 6108, '뭐임': 6109, '개무시': 6110, '어울리다': 6111, '내란죄': 6112, '탄생': 6113, '현직': 6114, '색조': 6115, '주너': 6116, '이어진': 6117, '대외': 6118, '여건': 6119, '돌핀': 6120, '요나라': 6121, '주소': 6122, '묵념': 6123, '쪼끔': 6124, '뉴욕증시': 6125, '얄밉다': 6126, '최고경영자': 6127, '악몽': 6128, 'ㅆ': 6129, '한발': 6130, '닷컴': 6131, '수의': 6132, '답답': 6133, '습성': 6134, '한국은행': 6135, '년대': 6136, '요정': 6137, '거주': 6138, '매국': 6139, '칼': 6140, '고우리': 6141, '환영': 6142, '마벨': 6143, '전담': 6144, '깊이': 6145, '재무성': 6146, '이러니까': 6147, '니지': 6148, '우르': 6149, '라이나': 6150, '색상': 6151, '전면': 6152, '스케줄': 6153, '인위': 6154, '참전': 6155, '대북': 6156, '욜': 6157, '코오롱': 6158, '성명': 6159, '돌격': 6160, 'ㅇㅋ': 6161, '아이디어': 6162, '언니': 6163, '제조업체': 6164, '강행': 6165, '돈버는거': 6166, '구멍': 6167, '앱솔': 6168, '릭스': 6169, '지금껏': 6170, '익숙하다': 6171, '앱스토어': 6172, '돔황': 6173, '장인': 6174, '갈라': 6175, '쥐다': 6176, '간문제': 6177, '신생': 6178, '보나': 6179, '주머니': 6180, '경영인': 6181, '껍': 6182, '자부심': 6183, '봄날': 6184, '도매': 6185, '선원': 6186, '수백': 6187, '화염': 6188, '감속': 6189, '스냅드래곤': 6190, '비서': 6191, '윤정': 6192, '개량': 6193, '철근콘크리트': 6194, '한가지': 6195, '도량': 6196, '시나': 6197, '에의': 6198, '타령': 6199, '캐스': 6200, '모건스탠리': 6201, '광': 6202, '과반': 6203, '스팩': 6204, '블소': 6205, '명분': 6206, '처벌': 6207, '아가': 6208, '촉': 6209, '어필': 6210, '폭팔': 6211, '승진': 6212, '군대': 6213, '매니저': 6214, '정산': 6215, '드물다': 6216, '리밸런싱': 6217, '어쩜': 6218, '펩쪽': 6219, '초도': 6220, '레인': 6221, '사업자': 6222, '건너다': 6223, '코크': 6224, '쫄려': 6225, '급전': 6226, '유동': 6227, '맛점': 6228, '보류': 6229, '클러스터': 6230, '피크': 6231, 'ㅑ': 6232, '게뭐': 6233, '이크': 6234, '얼굴': 6235, '당첨': 6236, '갤러리아': 6237, '제나': 6238, '일식': 6239, '오만': 6240, '블루': 6241, '간부': 6242, '무능': 6243, '꼴통짓': 6244, '로지': 6245, '어딜': 6246, '어보': 6247, '자로': 6248, '대립': 6249, '당뇨': 6250, '다분하다': 6251, '폭스바겐': 6252, '킹이버': 6253, '꼼짝': 6254, '위아래': 6255, '그러므로': 6256, '하위': 6257, '남편': 6258, '일자': 6259, '불순': 6260, '꼼수': 6261, '원상': 6262, '우수수': 6263, '정규': 6264, '깃': 6265, '유치하다': 6266, '극우': 6267, '갈아': 6268, '멍': 6269, '어치': 6270, 'ㄱㅊ': 6271, '다기': 6272, '어의': 6273, '유투': 6274, '파랑': 6275, '침': 6276, '등세': 6277, '선단': 6278, '종교': 6279, '나크': 6280, '웹툰': 6281, '광화문': 6282, '쫓다': 6283, '여개': 6284, '효능': 6285, '트릴': 6286, '해롭다': 6287, '마구': 6288, '살걸': 6289, '일정하다': 6290, '지아': 6291, '배우': 6292, '판국': 6293, '글라스': 6294, '관통': 6295, '꼭대기': 6296, '구심': 6297, '여유롭다': 6298, '일으키다': 6299, '상대방': 6300, '할껄': 6301, '점포': 6302, '음주': 6303, '사이비': 6304, '텐배거': 6305, '전월': 6306, '샌프란시스코': 6307, '시상식': 6308, '거지같다': 6309, '무관심': 6310, '년년': 6311, '먹어주다': 6312, '직하다': 6313, '절친': 6314, '승승장구': 6315, '스타크래프트': 6316, '종족': 6317, '테란': 6318, '다름없다': 6319, '분량': 6320, '부처': 6321, '소스': 6322, '근접하다': 6323, '룩스': 6324, '파이': 6325, '아들': 6326, '스물': 6327, '어설프다': 6328, '자석': 6329, '찬양': 6330, '촬영': 6331, '하청': 6332, '번역': 6333, '채팅': 6334, '교통': 6335, '모빌리티': 6336, '장현': 6337, '파키': 6338, '수렴': 6339, '악연': 6340, '핸들': 6341, '흥': 6342, '망상': 6343, '지역별': 6344, '샘': 6345, '프랑스': 6346, '베이': 6347, '악플': 6348, '자위': 6349, '장용': 6350, '뭉': 6351, '에고': 6352, '회귀': 6353, '필립스': 6354, '쌈': 6355, '파니': 6356, '카겜': 6357, '삼각': 6358, '전격': 6359, '천지': 6360, '깨어나다': 6361, '먹이다': 6362, '파미셀': 6363, '선관위': 6364, '꼽': 6365, '아모레': 6366, '올런': 6367, '눌릴때': 6368, '짭짤하다': 6369, '신주인수권': 6370, '오세훈': 6371, '곧다': 6372, '젊다': 6373, '금쪽': 6374, '도시': 6375, '엄격하다': 6376, '정계': 6377, '모이': 6378, '분향소': 6379, '스무': 6380, '경찰': 6381, '주인공': 6382, '벌이다': 6383, '살피다': 6384, '사외이사': 6385, '요추': 6386, '상황보고': 6387, '간직': 6388, '포스': 6389, '증오': 6390, '유안': 6391, '탈환': 6392, '중외': 6393, '주정': 6394, '아내': 6395, '기자회견': 6396, '후진': 6397, '이용자': 6398, '스튜디오': 6399, '러시': 6400, '거꾸로': 6401, '장타': 6402, '어느덧다': 6403, '가을': 6404, '개민': 6405, '착수': 6406, '힌트': 6407, '기주': 6408, '용어': 6409, '통제': 6410, '좁히다': 6411, '허용': 6412, '불리': 6413, '명언': 6414, '트랙': 6415, '코어': 6416, '선진국': 6417, '자임': 6418, '쩔다': 6419, '한시': 6420, '세율': 6421, '악덕': 6422, '도찌': 6423, '고형': 6424, '복리': 6425, '규정': 6426, '대칭': 6427, '그나저나': 6428, '밤새': 6429, '가온': 6430, '헬기': 6431, '주선': 6432, '이맘때': 6433, '쪼매': 6434, '채령': 6435, '분노': 6436, '전하': 6437, '씨앤': 6438, '차분하다': 6439, '간주': 6440, '우연히': 6441, '리브': 6442, '항생제': 6443, '사팔이': 6444, '은애': 6445, '참여자': 6446, '페미': 6447, '불타': 6448, '정면': 6449, '무덤': 6450, '데려가다': 6451, '부풀리다': 6452, '테크놀로지': 6453, '일수': 6454, '미미하다': 6455, '메인': 6456, '버는': 6457, '미끄럼틀': 6458, '달콤하다': 6459, '가상': 6460, '약정': 6461, '초심': 6462, '호점': 6463, '아이오': 6464, '손절해': 6465, '닛': 6466, '래지': 6467, '한개': 6468, '얌전하다': 6469, '민간': 6470, '병자': 6471, '빙그레': 6472, '카본': 6473, '레이저': 6474, '듭': 6475, '교보': 6476, '홈피': 6477, '버핏': 6478, '만큼만': 6479, '삼립': 6480, '국부펀드': 6481, '특이': 6482, '대전': 6483, '둘러싸다': 6484, '핀': 6485, '경력': 6486, '번가': 6487, '루루': 6488, '바리': 6489, '군인': 6490, '근대': 6491, '농업': 6492, '부서지다': 6493, '무도회': 6494, '막스': 6495, '조종': 6496, '생명과학': 6497, '비수': 6498, '떳는데': 6499, '근들갑': 6500, '급사': 6501, '레고': 6502, '땡': 6503, '아찔하다': 6504, '지침': 6505, '무방': 6506, '아이구': 6507, '수호': 6508, '침몰': 6509, '환불': 6510, '이상만': 6511, '주무': 6512, '시주': 6513, '미가': 6514, '적기': 6515, '개봉': 6516, '딱이다': 6517, '교': 6518, '시냇물': 6519, '브리': 6520, '진하다': 6521, '강추': 6522, '속성': 6523, '칠만': 6524, '오메': 6525, '무지개': 6526, '소리내다': 6527, '비온': 6528, '종양': 6529, '유전자': 6530, '증폭': 6531, '약효': 6532, '위암': 6533, '내다보다': 6534, '걸레': 6535, '하트': 6536, '허구': 6537, '호위함': 6538, '복합': 6539, '아악': 6540, '오이오이': 6541, '지진': 6542, '가의': 6543, '오죽하다': 6544, '리조트': 6545, '친분': 6546, '교류': 6547, '왠만하다': 6548, '기재부': 6549, '할배': 6550, '어림': 6551, '먹여주다': 6552, '분탕': 6553, '허위': 6554, '꼴랑': 6555, '차우': 6556, '만인': 6557, '음전': 6558, '송': 6559, '스레기': 6560, '바잉': 6561, '둣': 6562, '초고': 6563, '아미': 6564, '극단': 6565, '건너': 6566, '행태': 6567, '사전': 6568, '나대다': 6569, '마시기': 6570, '꽈': 6571, 'ㅏㅏㅏ': 6572, '뇌동': 6573, '굿데이': 6574, '세트': 6575, '리얼': 6576, '가오': 6577, '아우성': 6578, '급식': 6579, '키친': 6580, '영감': 6581, '가해': 6582, '예능': 6583, '교양': 6584, '조지아주': 6585, '미국증시': 6586, '마이크로소프트': 6587, '베이스': 6588, '천장': 6589, '중후': 6590, '쪽팔리다': 6591, '벅차다': 6592, '태위': 6593, '운임': 6594, '이차': 6595, '찾아내다': 6596, '주해': 6597, '고래': 6598, '로직': 6599, '납부': 6600, '이륙': 6601, '전자서명': 6602, '일화': 6603, '결의': 6604, '제호': 6605, '투표제': 6606, '안중': 6607, '그린란드': 6608, '스포크': 6609, '검찰': 6610, '산일': 6611, '굿바이': 6612, '찬물': 6613, '망정': 6614, '냉철하다': 6615, '똥글': 6616, '텐': 6617, '안녕하십니까': 6618, '상세': 6619, '모터': 6620, '세부': 6621, '마코위츠': 6622, '계란': 6623, '단기채': 6624, '곡선': 6625, '살라': 6626, '거저': 6627, '지면': 6628, '동전주': 6629, '조리': 6630, '심리전': 6631, '통보': 6632, '번호': 6633, '우방': 6634, '맥락': 6635, '모야': 6636, '짝짝': 6637, '승계': 6638, '실전': 6639, '갈림길': 6640, '맥쿼리인프라': 6641, '하남': 6642, '근무': 6643, '삼화': 6644, '라니까': 6645, '재야': 6646, '가차': 6647, '마지노선': 6648, '인천': 6649, '쫄아': 6650, '호랑말코': 6651, '해산': 6652, '고꾸라지다': 6653, '냉': 6654, '절실': 6655, '합산': 6656, '파생': 6657, '일대': 6658, '중하': 6659, '나일': 6660, '민간인': 6661, '스타트': 6662, '손바닥': 6663, '규명': 6664, '파괴': 6665, '조의': 6666, '납입': 6667, '오준호': 6668, '단장': 6669, '시스템스': 6670, 'ㅈㄴ': 6671, 'ㅋㅋㅋㅋㅋㅋㅋㅋㅋㅋㅋㅋㅋㅋㅋㅋㅋ': 6672, '마진콜': 6673, '빌보드': 6674, '보전': 6675, '충실하다': 6676, '싸하다': 6677, '도호': 6678, '이변': 6679, '이례': 6680, '솔로': 6681, '널뛰기': 6682, '단디': 6683, '모닝': 6684, '매직': 6685, '꼬꾸라지다': 6686, '국토교통부': 6687, '보건': 6688, '횡보후': 6689, '흉하다': 6690, '유방암': 6691, '라이선스': 6692, '아웃': 6693, '담배값': 6694, '장기전': 6695, '인스타': 6696, '사과문': 6697, '브리핑': 6698, '소방관': 6699, '잊어버리다': 6700, '열시미': 6701, '두세': 6702, '신탁': 6703, '간장': 6704, '가드': 6705, '얌얌': 6706, '대론': 6707, '허물': 6708, '벗기다': 6709, '턱': 6710, '헷갈리다': 6711, '지니': 6712, '군산': 6713, '이태리': 6714, '기저귀': 6715, '갈고': 6716, '지껄이다': 6717, '장의': 6718, '서브': 6719, '헌': 6720, '공연': 6721, '스키': 6722, '썩열': 6723, '꾸역꾸역': 6724, '인류': 6725, '뽀삐': 6726, '사료': 6727, '혈안': 6728, '사심': 6729, '블랙록': 6730, '차서': 6731, '펀더멘탈': 6732, '렉스': 6733, '악의': 6734, '전문성': 6735, '리재': 6736, '주먹': 6737, '조천억': 6738, '패치': 6739, '자락': 6740, '급량': 6741, '점프': 6742, '하이에나': 6743, '이기주의': 6744, '전번': 6745, '죽겠네': 6746, '간섭': 6747, '지남': 6748, '신도': 6749, '지시': 6750, '차곡차곡': 6751, '조심스럽다': 6752, '섣불리': 6753, '베스트': 6754, '첫째': 6755, '후자': 6756, '꿀잼': 6757, '침착하다': 6758, '횡포': 6759, '달래다': 6760, '대강': 6761, '별다르다': 6762, '제보': 6763, '요것': 6764, '공중': 6765, '퇴': 6766, '외상': 6767, '스팅': 6768, '한수': 6769, '오라': 6770, '생활비': 6771, '부응': 6772, '한인': 6773, '굳히다': 6774, '정해진': 6775, '책임감': 6776, '괘씸하다': 6777, '역다': 6778, '자존심': 6779, '지리다': 6780, '입안': 6781, '분식회계': 6782, 'ㅜㅜㅜㅜㅜㅜ': 6783, '측정': 6784, '간편하다': 6785, '정식': 6786, '구진': 6787, '튀르키예': 6788, '빈': 6789, 'ㅜㅜㅜㅜ': 6790, '널리': 6791, '갈대': 6792, '내자': 6793, '대장님': 6794, '파업': 6795, '주임': 6796, '일어나고': 6797, '체인지': 6798, '차도': 6799, '강국': 6800, '농': 6801, '헬프': 6802, '살아오다': 6803, '댐': 6804, '쇠': 6805, '구별': 6806, '다이내믹스': 6807, '노동': 6808, '하느님': 6809, '빠이': 6810, '결판': 6811, '폭포수': 6812, '쥑': 6813, '내기': 6814, '공존': 6815, '어기': 6816, '화웨이': 6817, '박제': 6818, '자연스럽다': 6819, '여의도': 6820, '이빨': 6821, '맏': 6822, '드라마틱하다': 6823, '류마티스': 6824, '황반변성': 6825, '라무': 6826, '지피다': 6827, '워렌버핏': 6828, '리움': 6829, '악착같이': 6830, '검머': 6831, '터뜨리다': 6832, '캔두': 6833, '체르나': 6834, '대상자': 6835, '사오다': 6836, '가부': 6837, '굿굿': 6838, '비어': 6839, '적당': 6840, '롭고': 6841, '호재악재': 6842, '훼손': 6843, '펀더멘털': 6844, '티끌': 6845, '태산': 6846, '뻗다': 6847, '개중': 6848, '신지': 6849, '가분': 6850, '속지': 6851, '일주': 6852, '내려앉다': 6853, '불필요하다': 6854, '혼동': 6855, '마셈': 6856, '조속': 6857, '주니': 6858, '백성': 6859, '롤코': 6860, '이소리': 6861, '꼬박꼬박': 6862, '조그만': 6863, '일류': 6864, '한가롭다': 6865, '중시': 6866, '평등': 6867, '타국': 6868, '신문': 6869, '처지다': 6870, '말임': 6871, '일개': 6872, '싸가지': 6873, '짚다': 6874, '금융위기': 6875, '라박': 6876, '장일': 6877, '연도': 6878, '불안정하다': 6879, '얘넨': 6880, '과실': 6881, '태평양': 6882, '시어': 6883, '주니어': 6884, '묵고': 6885, '폭증': 6886, '풍향계': 6887, '오늘내일': 6888, '피우다': 6889, '책임자': 6890, '합류': 6891, '포스코엠텍': 6892, '마안': 6893, '티웨이항공': 6894, '삼중': 6895, '보호무역': 6896, '친일': 6897, '시킴': 6898, '특혜': 6899, '특권': 6900, '발상': 6901, '설탕': 6902, '도외': 6903, '헌법': 6904, '앓다': 6905, '개인화': 6906, '지저분하다': 6907, '제제': 6908, '엮는': 6909, '표명': 6910, '유튜': 6911, '완벽': 6912, '추하다': 6913, '빼기': 6914, '네나': 6915, '일어나지': 6916, '자도': 6917, '패권': 6918, '성도': 6919, '레포트': 6920, '마켓': 6921, '미소': 6922, '고질': 6923, '년봉': 6924, '이복': 6925, '자라': 6926, '맛없다': 6927, '볼일': 6928, '안바': 6929, '기억나다': 6930, '거란': 6931, '이치': 6932, '상킷': 6933, '쯔쯔': 6934, '캐리어': 6935, '마침내': 6936, '불행하다': 6937, '남은': 6938, '예시': 6939, '식히다': 6940, '잡음': 6941, '젭알': 6942, '지스트': 6943, '신용물량': 6944, '지그': 6945, '이외': 6946, '오현': 6947, '김승연': 6948, '자년': 6949, '퇴보': 6950, '오시': 6951, '쓰래': 6952, '트럭': 6953, '치명': 6954, '최우': 6955, '매해': 6956, '럭키': 6957, '에바': 6958, '후련하다': 6959, '형강': 6960, '그지같다': 6961, '아줌마': 6962, '의사결정': 6963, '기재': 6964, '덧붙이다': 6965, '성사': 6966, '궁리': 6967, '항만': 6968, '앵': 6969, '자라다': 6970, '무정부상태': 6971, '빅파마': 6972, '늦어지다': 6973, '개떡': 6974, '대란': 6975, '해명': 6976, '예매': 6977, '뺨': 6978, '사망자': 6979, '주재': 6980, '메시지': 6981, '바인': 6982, '잦다': 6983, '천사': 6984, '굽다': 6985, '천무': 6986, '미군': 6987, '무제': 6988, '황보': 6989, '퍼플': 6990, '익주': 6991, '투사': 6992, '치부': 6993, '출산율': 6994, '남녀': 6995, '팝업': 6996, '유기': 6997, '경쟁자': 6998, '어기다': 6999, '스타트업': 7000, '건들': 7001, '신경안': 7002, '눈팅': 7003, '조장': 7004, '차안': 7005, '요리': 7006, '클래스': 7007, '패러다임': 7008, '윈윈': 7009, '기약': 7010, '옵티머스': 7011, '슬쩍': 7012, '미국인': 7013, '원동력': 7014, '기사도': 7015, '결단': 7016, '습관': 7017, '무례하다': 7018, '달려들다': 7019, '촛불': 7020, '국토': 7021, '좁다': 7022, '만성': 7023, '애물': 7024, '인천공항': 7025, '바가지': 7026, '출몰': 7027, '장해': 7028, '퉷': 7029, '년안': 7030, '방기': 7031, '풀배팅': 7032, '황금': 7033, '드니': 7034, '프라': 7035, '부각시키다': 7036, '피드백': 7037, '수액': 7038, '호흡기': 7039, '가중': 7040, '저온': 7041, '사적': 7042, '인제': 7043, '위함': 7044, '고기술': 7045, '어감': 7046, '우월감': 7047, '맴': 7048, '명도': 7049, '헐값': 7050, '찢어지다': 7051, '비대': 7052, '오오오': 7053, '상남자': 7054, '울부짖다': 7055, '파르': 7056, '숨쉬다': 7057, '과자': 7058, '열풍': 7059, '뉴욕': 7060, '어닝쇼크': 7061, '들어주다': 7062, '초대형': 7063, '정해': 7064, '디어': 7065, '텍메드': 7066, '잠잠하다': 7067, '철칙': 7068, '원치않다': 7069, '슈도': 7070, '겨자': 7071, '환차익': 7072, '이천': 7073, '채용': 7074, '정당': 7075, '숙지': 7076, '율과': 7077, '궁뎅': 7078, '감탄': 7079, '인베스트먼트': 7080, '영구': 7081, '조항': 7082, '머뭇거리다': 7083, '붓다': 7084, '동등': 7085, '컨테이너선': 7086, '듣기': 7087, '염두': 7088, '수반': 7089, '토욜': 7090, '나날': 7091, '캡쳐': 7092, '박자': 7093, '이거지': 7094, '피보나치': 7095, '설날': 7096, '서글프다': 7097, '좀해': 7098, '한마음': 7099, '가르치다': 7100, '부류': 7101, '백퍼': 7102, '돈줄': 7103, '캐쉬': 7104, '으로나': 7105, '업보': 7106, '자녀': 7107, '때론': 7108, '동사': 7109, '비엠이': 7110, '세뇌': 7111, '수수': 7112, '치이다': 7113, '저금': 7114, '년치': 7115, '도람프': 7116, '몆': 7117, '자본금': 7118, '위엄': 7119, '라이트': 7120, '주랑': 7121, '나락감': 7122, '징글': 7123, '아하': 7124, '정신과': 7125, '지장': 7126, '뱃지': 7127, '너넨': 7128, '윽시': 7129, '깨달음': 7130, '서나': 7131, '어후': 7132, '삭': 7133, '클리오': 7134, '누님': 7135, '생애': 7136, '미팅': 7137, '라기': 7138, '큐셀': 7139, '에너지부': 7140, '각시': 7141, '어쨋': 7142, '라기보다는': 7143, '야합': 7144, '여가': 7145, '베': 7146, '에스엠': 7147, '대결': 7148, '도쿄': 7149, '확율': 7150, '올랏다': 7151, '걸어가다': 7152, '긍': 7153, '폐업': 7154, '핸들링': 7155, '추산': 7156, '일과': 7157, '균형': 7158, '즉각': 7159, '들여다보다': 7160, '다인': 7161, '시원찮다': 7162, '양행': 7163, '보중': 7164, '만일': 7165, '크리': 7166, '각성': 7167, '사우나': 7168, '유혹': 7169, '지요다': 7170, '태양': 7171, '휴대폰': 7172, '남탓': 7173, '상부': 7174, '판호': 7175, '일장': 7176, '유압': 7177, '손상': 7178, '레이더': 7179, '만으로는': 7180, '외적인': 7181, '입수': 7182, '언덕': 7183, '유플러스': 7184, '정은': 7185, '분사': 7186, '자세': 7187, '피똥': 7188, '보넹': 7189, '푸념': 7190, '일때': 7191, '아숩': 7192, '건설업': 7193, '유통업': 7194, '신용등급': 7195, '암호': 7196, '나나': 7197, '만만하다': 7198, '원수': 7199, '천벌': 7200, '경제정책': 7201, '이따위': 7202, '이행': 7203, '허무하다': 7204, '야만': 7205, '구걸': 7206, '프로모션': 7207, '육성': 7208, '융합': 7209, '진창': 7210, '호의': 7211, '설사': 7212, '꽁꽁': 7213, '노동자': 7214, '오르내리다': 7215, '절때': 7216, '두근거리다': 7217, '낭만': 7218, '차로': 7219, '월안': 7220, '찝찝하다': 7221, '흐흐': 7222, '설령': 7223, '가든': 7224, '양전하': 7225, '죄인': 7226, '모순': 7227, '외환': 7228, '창구': 7229, '코마': 7230, '으이': 7231, '곳임': 7232, '지불': 7233, '조국': 7234, '조류충돌': 7235, '선회': 7236, '소방': 7237, '우측': 7238, '나유': 7239, '브레이크': 7240, '고조': 7241, '민가': 7242, '외벽': 7243, '자폭': 7244, '응답': 7245, '어딘': 7246, '레미콘': 7247, 'ㅠㅠㅠㅜ': 7248, '무능력하다': 7249, '고프다': 7250, '현성': 7251, '제조법': 7252, '우왕': 7253, '덜덜': 7254, '독특하다': 7255, '사나': 7256, '기내': 7257, '오토메이션': 7258, '허락': 7259, '유력': 7260, '사냥': 7261, '등지': 7262, '영혼': 7263, '흥분하다': 7264, '중앙은행': 7265, '종업원': 7266, '으아': 7267, '만만원': 7268, '서럽다': 7269, '똥손': 7270, '이리저리': 7271, '태초': 7272, '유튭': 7273, '민희진': 7274, '번하다': 7275, '장투용': 7276, '잠그다': 7277, '재위': 7278, '오디세이': 7279, '발할라': 7280, '찬성': 7281, '롤러': 7282, '보가': 7283, '이커머스': 7284, '고호': 7285, '포탑': 7286, '코닉': 7287, 'ㄱㅏ': 7288, '나뉘다': 7289, '상과': 7290, '혼': 7291, '분전': 7292, '칩스': 7293, '컄': 7294, '유보': 7295, '독': 7296, '적합하다': 7297, '시계': 7298, '필리핀': 7299, '전자상거래': 7300, '은상': 7301, '텐버거': 7302, '사양': 7303, '더군다나': 7304, '헛된': 7305, '신앙심': 7306, '어쩌고저쩌고': 7307, '프로필': 7308, '분열': 7309, '꼴통': 7310, '정장': 7311, '이스': 7312, '미끄러지다': 7313, '도리어': 7314, '서주': 7315, '타가': 7316, '닥': 7317, '한가하다': 7318, '신델': 7319, '미아': 7320, '만드': 7321, '홀딩하': 7322, '토록': 7323, '홀랑': 7324, '자중': 7325, '주물': 7326, '상무부': 7327, '이뤄지다': 7328, '뚜': 7329, '갈건': 7330, '넘버원': 7331, '상호': 7332, '가외': 7333, '다져지다': 7334, '회임': 7335, '펩트': 7336, '쵸': 7337, '아이디': 7338, '찾기': 7339, '이점': 7340, '한눈': 7341, '예의': 7342, '앤드': 7343, '사시': 7344, '이방': 7345, '부금': 7346, '슈가': 7347, '재산권': 7348, '처가': 7349, '진상': 7350, '여윳돈': 7351, '조합': 7352, '위원장': 7353, '쨋': 7354, '티나': 7355, '노머스': 7356, '대국': 7357, '룰': 7358, '세도': 7359, '양비론': 7360, '메릴린치': 7361, '가두다': 7362, '울리다': 7363, '공동체': 7364, '상조업': 7365, '말고도': 7366, '훈수': 7367, '쌍끌이': 7368, '도덕성': 7369, '월욜날': 7370, '정주': 7371, '안속': 7372, '튀기다': 7373, '자아': 7374, '나이스': 7375, '개막': 7376, '총괄': 7377, '거점': 7378, '버전': 7379, '가증': 7380, '다반': 7381, '리콜': 7382, '처리장치': 7383, '추론': 7384, '솔이': 7385, '내려놓다': 7386, '에여': 7387, '신가': 7388, '이정재': 7389, '혹평': 7390, '손절각': 7391, '상속세': 7392, '언론사': 7393, '동아': 7394, '당근': 7395, '중고': 7396, '하순': 7397, '군생활': 7398, '무운': 7399, '가성': 7400, '석권': 7401, '재현': 7402, '필터': 7403, '다정': 7404, '만큼이나': 7405, '채무': 7406, '몰락': 7407, '싸이': 7408, '안되겠니': 7409, '엔시': 7410, '박주': 7411, '눈부시다': 7412, '기구': 7413, '투라': 7414, '보병': 7415, '상징': 7416, '해병': 7417, '플레이어': 7418, '대사': 7419, '하강': 7420, '협박': 7421, '와리': 7422, '외면': 7423, '현생': 7424, '입점': 7425, '정보기술': 7426, '팁': 7427, '알짜': 7428, '성장동력': 7429, '대서': 7430, '무선': 7431, '부용': 7432, '양하': 7433, '대고': 7434, '만듬': 7435, '포집': 7436, '휴보': 7437, '삼고': 7438, '강원랜드': 7439, '눈데': 7440, '꽂히다': 7441, '퇴직금': 7442, '액트': 7443, '주둥이': 7444, '환상': 7445, '넌센스': 7446, '원활하다': 7447, '운전자': 7448, '랜드마크': 7449, '할까말까': 7450, '성지': 7451, '강원': 7452, '광기': 7453, '척수': 7454, '필연': 7455, '이케': 7456, '반기': 7457, '원일': 7458, '화해': 7459, '다임': 7460, '수일': 7461, '우세': 7462, '일명': 7463, '조차도': 7464, '씌우다': 7465, '실물': 7466, '건너가다': 7467, '무비': 7468, '웃돈': 7469, '굿럭': 7470, '각형': 7471, '대우건설': 7472, '무거워': 7473, '노이즈': 7474, 'ㅅㅅ': 7475, '전남': 7476, '인사이트': 7477, '간식': 7478, '거참': 7479, '재직': 7480, '예비': 7481, '식품의약품안전처': 7482, '울산': 7483, '퉤': 7484, '부서': 7485, '숄더': 7486, '방탄': 7487, '종북': 7488, '장단점': 7489, '우연': 7490, '실업률': 7491, '거래처': 7492, '언넝': 7493, '목도': 7494, '이민': 7495, '완': 7496, '감시': 7497, '얼씬': 7498, '권리락': 7499, '법원': 7500, '마침': 7501, '연달': 7502, '월보': 7503, '오래되다': 7504, '게이머': 7505, '표창': 7506, '칼리': 7507, '들키다': 7508, '쿨러': 7509, '얘길': 7510, '참가자': 7511, '위인': 7512, '창궐': 7513, '서학': 7514, '터키': 7515, '이스라엘': 7516, '요지부동': 7517, '들먹이다': 7518, '에러': 7519, '영웅': 7520, '티아이': 7521, '남북': 7522, '는바': 7523, '양상': 7524, '고모': 7525, '아무쪼록': 7526, '엠랩': 7527, '당기다': 7528, '모가지': 7529, '천백억': 7530, '포즈': 7531, '훗날': 7532, '시적': 7533, '차갑다': 7534, '캠': 7535, '수면': 7536, '황반': 7537, '어거지': 7538, '가액': 7539, '환호': 7540, '감독': 7541, '블라인드': 7542, '이직': 7543, '원망': 7544, '마크': 7545, '시니어': 7546, '초대': 7547, '흔적': 7548, '값어치': 7549, '신입': 7550, '버세': 7551, 'ㅡㅡㅋ': 7552, '라보': 7553, '고전': 7554, '도감': 7555, '목돈': 7556, '마나': 7557, '대작': 7558, '재계약': 7559, '뚜껑': 7560, '겉': 7561, '게다': 7562, '업자': 7563, '정모': 7564, '형주': 7565, '한탄': 7566, 'ㄹㅈㄷ': 7567, '로꾸거': 7568, '벡스': 7569, '분통': 7570, '애플리케이션': 7571, '프로세서': 7572, '세종': 7573, '제네시스': 7574, '오잉': 7575, '신년사': 7576, '이별': 7577, '자공시': 7578, '옵': 7579, '로봇청소기': 7580, '토끼다': 7581, '투지': 7582, '하부': 7583, '헬스': 7584, '법률': 7585, '바사': 7586, '템': 7587, '지향': 7588, '댓': 7589, '개도': 7590, '질리': 7591, '거여': 7592, '사납다': 7593, '껄무새': 7594, '노노': 7595, '론칭': 7596, '히알루론산': 7597, '할로': 7598, '홧팅입니': 7599, '오냐': 7600, '즁': 7601, '백주': 7602, '담담하다': 7603, '면제': 7604, '개사': 7605, '누리': 7606, '반정': 7607, '갇': 7608, '숭숭': 7609, '비우다': 7610, '공산주의': 7611, '옹호': 7612, '퍼렇다': 7613, '애매': 7614, '인간성': 7615, '녀': 7616, '반도': 7617, '실어': 7618, '끌어내리다': 7619, '쉴드': 7620, '모범': 7621, '천하': 7622, '만포': 7623, '네오': 7624, '사제': 7625, '잡지': 7626, '둘러보다': 7627, '낙': 7628, '직장': 7629, '시프트': 7630, '안대': 7631, '약손': 7632, '광물': 7633, '지온': 7634, '장면': 7635, '강렬하다': 7636, '오스': 7637, '재생에너지': 7638, '엑셀': 7639, '추경': 7640, '편향': 7641, '블랙웰': 7642, '군사': 7643, '끝내': 7644, '스텝': 7645, '적대': 7646, '돌려막기': 7647, '고소': 7648, '희한하다': 7649, '나부': 7650, '도둑': 7651, '상보': 7652, '인대': 7653, '우드': 7654, '보충': 7655, '만오': 7656, '플래시': 7657, '장식': 7658, '가습기': 7659, '분발': 7660, '호주머니': 7661, '가원': 7662, '발명': 7663, '포장': 7664, '부처님': 7665, '산업부': 7666, '얼렁': 7667, '호일': 7668, '평등하다': 7669, '액추에이터': 7670, '딛다': 7671, '자매': 7672, '화이트': 7673, '철근': 7674, '운동': 7675, '선인': 7676, '꿈쩍': 7677, '퍼다': 7678, '거가': 7679, '저조하다': 7680, '최첨단': 7681, '할인점': 7682, '쓱': 7683, '헤치다': 7684, '델파졸': 7685, '혈액': 7686, '패싱': 7687, '전락': 7688, '거론': 7689, '조율': 7690, '오십': 7691, '가전제품': 7692, '보우': 7693, '용한': 7694, '허리': 7695, '디게': 7696, '슈드': 7697, '원희룡': 7698, '기악': 7699, '미지': 7700, '석렬': 7701, '유연하다': 7702, '늦': 7703, '겁쟁이': 7704, '훔치다': 7705, '폴리오': 7706, '지루': 7707, '죽지': 7708, '다언': 7709, '지형': 7710, '시력': 7711, '무죄': 7712, '집다': 7713, '전향': 7714, 'ㅡㅜ': 7715, '트레일러': 7716, '엎어지다': 7717, '느그': 7718, '위선': 7719, '클린룸': 7720, '숨통': 7721, '백광': 7722, '씨아이': 7723, '확약': 7724, '발포': 7725, '개요': 7726, '에서부터': 7727, '김대중': 7728, '부지': 7729, '박정희': 7730, '멋': 7731, '인터뷰': 7732, '미터': 7733, '제후국': 7734, '줏대': 7735, '최윤': 7736, '오천원': 7737, '억만': 7738, '담날': 7739, '클루': 7740, '낙하': 7741, '항공모함': 7742, '제약기업': 7743, '정년': 7744, '익스': 7745, '개인물량': 7746, '입찰': 7747, '가칭': 7748, '음식': 7749, '통계': 7750, '헤드앤숄더': 7751, '천마': 7752, '들어맞다': 7753, '이동성': 7754, '선조': 7755, '과학기술원': 7756, '인핸즈': 7757, '울란바토르': 7758, '접근성': 7759, '마녀사냥': 7760, '태안': 7761, '안마': 7762, '나아': 7763, '가락': 7764, '으로서의': 7765, '가벼워지다': 7766, '윤리': 7767, '출마': 7768, '사법': 7769, '장투주': 7770, '드릅': 7771, '켐트': 7772, '래미': 7773, '헛': 7774, '네일': 7775, '저분자': 7776, '무도': 7777, '게이': 7778, '건아': 7779, '오래간만': 7780, '사단': 7781, '황사': 7782, '파랗다': 7783, '타네': 7784, '엘에스': 7785, '리딩': 7786, '발해': 7787, '보이시': 7788, '양쪽': 7789, '설선': 7790, '계층': 7791, '전광훈': 7792, '접합체': 7793, '눌릴': 7794, '횡보구': 7795, '상여': 7796, '꾹꾹': 7797, '지끈': 7798, '헤매다': 7799, '아스트로': 7800, '스케일': 7801, '판박이': 7802, '모션': 7803, '관외': 7804, '이마': 7805, '비례': 7806, '금사': 7807, '콕': 7808, '하그': 7809, '보살': 7810, '배너': 7811, '친일파': 7812, '랑께': 7813, '불의': 7814, '수양': 7815, '디테일': 7816, '제동': 7817, '허겁지겁': 7818, '환기': 7819, '깨달': 7820, '발가락': 7821, '왜구': 7822, '메모': 7823, '리좀': 7824, '초석': 7825, '나로': 7826, '띄우기': 7827, '노란색': 7828, '비참하다': 7829, '댕기': 7830, '주구': 7831, '바꿈': 7832, '나누기': 7833, '무덥다': 7834, '퓨': 7835, '나불대다': 7836, 'ㄷㄷㄷㄷ': 7837, '악물다': 7838, '하염없이': 7839, '상의': 7840, '발현': 7841, '남겨지다': 7842, '시한': 7843, '충남': 7844, '탐지': 7845, '공전': 7846, '겸비': 7847, '붙들다': 7848, '금수': 7849, '담당자': 7850, '꼼꼼하다': 7851, '다방면': 7852, '박하다': 7853, '라이프스타일': 7854, '런칭': 7855, '시반': 7856, '자연재해': 7857, '근황': 7858, '관광': 7859, '연결고리': 7860, '잘생기다': 7861, '캣': 7862, '리만': 7863, '뿌뿌': 7864, '미쓰비시': 7865, '놓이다': 7866, '자선': 7867, '태극기': 7868, '메시': 7869, '탈출성': 7870, '빠졋': 7871, '눈독': 7872, '전우': 7873, '반의': 7874, '조교': 7875, '입대': 7876, '자진': 7877, '타나': 7878, '딱좋다': 7879, '안개': 7880, '완치': 7881, '근로자': 7882, '통속': 7883, '뢋': 7884, '벙커': 7885, '고수형': 7886, '기입': 7887, '지옥불': 7888, '쓰레': 7889, '쥰내': 7890, '가물': 7891, '쌤쌤': 7892, '낼또': 7893, '불지': 7894, '맛좀': 7895, '아싸': 7896, '마누라': 7897, '프로파일': 7898, '대입': 7899, '아메리카': 7900, '탐욕': 7901, '일기': 7902, '단골': 7903, '튀김': 7904, '반중': 7905, '공교': 7906, '뻘': 7907, '향수': 7908, '연차': 7909, '컵라면': 7910, '일원': 7911, '하기는': 7912, '버겁다': 7913, '참조': 7914, '감때': 7915, '선녀': 7916, '족발': 7917, '정서': 7918, '정관': 7919, '건제': 7920, '화의': 7921, '깨끗하다': 7922, '보따리': 7923, '취해': 7924, '애원': 7925, '공대생': 7926, '블룸': 7927, '집착': 7928, '재일': 7929, '간걸': 7930, '디스크': 7931, '젭': 7932, '바운드': 7933, '끄적': 7934, '층입': 7935, '떳나': 7936, '듀': 7937, '하내': 7938, '어쩌나': 7939, '튜버': 7940, '양치': 7941, '여간': 7942, '초단': 7943, '방학': 7944, '귀중하다': 7945, '돋보이다': 7946, '기장군': 7947, '대량생산': 7948, '잔금': 7949, '불길하다': 7950, '낭패': 7951, '바구니': 7952, '바람직하다': 7953, '모형': 7954, '엄연하다': 7955, '무수': 7956, '이일': 7957, '인맥': 7958, '유량': 7959, '왜캐': 7960, '사무실': 7961, '지상': 7962, '음모': 7963, '구한말': 7964, '충고': 7965, '무크': 7966, '유이': 7967, '간선': 7968, '상관관계': 7969, '콘덴서': 7970, '장래': 7971, '편안': 7972, '멍멍': 7973, '도일': 7974, '굴지': 7975, '홀린': 7976, '이랬는데': 7977, '돌이키다': 7978, '백인': 7979, '재차': 7980, '공정하다': 7981, '대공황': 7982, '발걸음': 7983, '즐겨찾기': 7984, '단수': 7985, '순차': 7986, '부수': 7987, '구리다': 7988, '장기호': 7989, '관념': 7990, '색깔': 7991, '민국': 7992, '방해': 7993, '담장': 7994, '두고두고': 7995, '화장실': 7996, '두산만': 7997, '신의한수': 7998, '양키': 7999, '채굴': 8000, '가죽': 8001, '에잉': 8002, '갈이': 8003, '맹목': 8004, '반란': 8005, '너프': 8006, '단행': 8007, '파리': 8008, '알바로': 8009, '대학교': 8010, '통학': 8011, '둥': 8012, '메우다': 8013, '어간': 8014, '카테고리': 8015, '원본초': 8016, '국무회의': 8017, '맵다': 8018, '오슈': 8019, '횽': 8020, '숴': 8021, '꼬드': 8022, '시럽': 8023, 'ㅋㅋㅋㅋㅋㅋㅋㅋㅋㅋㅋㅋㅋㅋㅋㅋ': 8024, '적어지다': 8025, '이해해': 8026, '이처럼': 8027, '욕망': 8028, '아래쪽': 8029, '끊기다': 8030, '리라': 8031, '미정': 8032, '노약': 8033, '역임': 8034, '고다': 8035, '오하': 8036, '사비': 8037, '간담': 8038, '거고': 8039, '정맥': 8040, '울분': 8041, '꼬리치다': 8042, '자업자득': 8043, '라기보단': 8044, '보험금': 8045, '반증': 8046, '차입': 8047, '마이크': 8048, '다단계': 8049, '감지덕지': 8050, '장시': 8051, '천억이': 8052, '스샷': 8053, '버릇': 8054, '슨피을': 8055, '활기': 8056, '변신': 8057, '콜도': 8058, '야근': 8059, '제바': 8060, '아연': 8061, '코닝': 8062, '코난': 8063, '간간히': 8064, '스파이': 8065, '거림': 8066, '연습생': 8067, '줫': 8068, '자못': 8069, '본과': 8070, '자부': 8071, '미네르바': 8072, '팝': 8073, '스위프트': 8074, '초동': 8075, '장어': 8076, '나연': 8077, '베스트셀러': 8078, '뮤직비디오': 8079, '삽': 8080, '심해지다': 8081, '답글': 8082, '졸업': 8083, '죄송': 8084, '그토록': 8085, '소시오패스': 8086, '기일': 8087, '윤돼': 8088, '포텐': 8089, '각인': 8090, 'ㅠㅠㅠㅠㅠㅠㅠㅠ': 8091, '휩싸이다': 8092, '날로': 8093, '생겻': 8094, '익금': 8095, '현질': 8096, '이아': 8097, '버는거': 8098, '벤처캐피탈': 8099, '진짜루': 8100, '속임수': 8101, '고스트': 8102, '오버': 8103, '바지': 8104, '일관': 8105, '움츠리다': 8106, '강건': 8107, '환률': 8108, '일요일': 8109, '천조국': 8110, '도어': 8111, '태광': 8112, '양강': 8113, '확실': 8114, '절호': 8115, '사이즈': 8116, '이레': 8117, '척결': 8118, '사다리': 8119, '따블': 8120, '박셀': 8121, '흔드': 8122, '싱글벙글': 8123, '저쩌구': 8124, '전군': 8125, '저물다': 8126, '팽배': 8127, '명태': 8128, '참모': 8129, '산후': 8130, '오르막': 8131, '년초': 8132, '군단': 8133, '호재글': 8134, '호금': 8135, '호랑이': 8136, '안팍': 8137, '류업': 8138, '허울': 8139, '쿠팡': 8140, '직관': 8141, '지은': 8142, '모처럼': 8143, '드가': 8144, '이명박': 8145, '미흡': 8146, '자싱시': 8147, '생때': 8148, '트랩': 8149, '가끔가다': 8150, '거시': 8151, '상페': 8152, '여해': 8153, '봣': 8154, '불참': 8155, '컨트롤러': 8156, '눌렸': 8157, '서론': 8158, '두껍다': 8159, '으로라도': 8160, '탈주': 8161, '지라': 8162, '선반': 8163, '증도': 8164, '수다': 8165, '클스': 8166, '저출산': 8167, '고령화': 8168, '전체주의': 8169, '지누': 8170, '모시': 8171, '잡아먹다': 8172, '몸값': 8173, '징징대다': 8174, '어린이': 8175, '수산화나트륨': 8176, '농도': 8177, '식도': 8178, '위장': 8179, '유제품': 8180, '크림': 8181, '조세일보': 8182, '해피뉴이어': 8183, '산유': 8184, '경제성': 8185, '바퀴벌레': 8186, '짭잘하다': 8187, '려면': 8188, '협조': 8189, '보탬': 8190, '망향': 8191, '진즉': 8192, '러쉬': 8193, '끈기': 8194, '의심스럽다': 8195, '한국어': 8196, '윤건': 8197, '불개미': 8198, '으리': 8199, '고영': 8200, '섣부르다': 8201, '껍데기': 8202, '숨죽': 8203, '쌍용': 8204, '똥볼': 8205, '배려': 8206, '아이러니': 8207, '점일': 8208, '계절': 8209, '송충이': 8210, '구해': 8211, '레저': 8212, '험담': 8213, '금산': 8214, '말종': 8215, '일해': 8216, '철강업': 8217, '후배': 8218, '가수': 8219, '한남동': 8220, '유임': 8221, '따내다': 8222, '슬림화': 8223, '줌줌': 8224, '퓨쳐켐': 8225, '월등하다': 8226, '학교': 8227, '항공사고': 8228, '파혼': 8229, '비도': 8230, '쉬움': 8231, '훅훅': 8232, '되풀이': 8233, '활짝': 8234, '연령': 8235, '골다공증': 8236, '위약금': 8237, '심판': 8238, '윤나': 8239, '극심하다': 8240, '매진': 8241, '아잉': 8242, '죵': 8243, '국수': 8244, '뉴클리어': 8245, '폐기물': 8246, '물산': 8247, '수주로': 8248, '헛깨비': 8249, '집계': 8250, '접수': 8251, '다급하다': 8252, '생수': 8253, '옹': 8254, '단정': 8255, '왜곡': 8256, '코미': 8257, '탁핵': 8258, '도끼': 8259, '잡아가다': 8260, '깍이다': 8261, '사수': 8262, '미치광이': 8263, '요안': 8264, '아이스': 8265, '렌더링': 8266, '몰입': 8267, '론데': 8268, 'ㄱㄱㄱㄱ': 8269, '작작': 8270, '관계없이': 8271, '새삼': 8272, '어쩐지': 8273, '서머': 8274, '돠': 8275, '이정애': 8276, '장부기': 8277, '비치다': 8278, '막말': 8279, '토론회': 8280, '사중': 8281, '구니': 8282, '멤버십': 8283, '편리하다': 8284, '캡': 8285, '놀러와': 8286, '탑층': 8287, '발리다': 8288, '르': 8289, '용서': 8290, '오호': 8291, '시마': 8292, '노릇': 8293, '피곤': 8294, '수시로': 8295, '건축': 8296, '제때': 8297, '쪼꼼': 8298, '똥값': 8299, '희귀': 8300, '익절햇': 8301, '이엠': 8302, 'ㅜㅠㅠ': 8303, '댓글알바': 8304, '초창': 8305, '프랜차이즈': 8306, '가맹': 8307, '면상': 8308, '알징': 8309, '임종': 8310, '주환': 8311, '아집': 8312, '봉합': 8313, '체류': 8314, '색기': 8315, '당하': 8316, '초라하다': 8317, '플루': 8318, '장인화': 8319, '니케': 8320, '지루함': 8321, '막손': 8322, '검지': 8323, '두둑': 8324, '오래오래': 8325, '백승': 8326, '서범석': 8327, '부별': 8328, '주역': 8329, '이걸루': 8330, '위원': 8331, '장난감': 8332, '라비': 8333, '단거리': 8334, '장거리': 8335, '주마': 8336, '성실': 8337, '회계법인': 8338, '능거': 8339, '꼬봉': 8340, '자전거': 8341, '총보': 8342, '분가': 8343, '절제': 8344, '호감': 8345, '그저께': 8346, '참내': 8347, '꿀꺽': 8348, '이서': 8349, '장열': 8350, '리하': 8351, '운영자': 8352, '게속': 8353, '청사진': 8354, '나선': 8355, '상쇄': 8356, '폴리': 8357, '겠슴': 8358, '별의별': 8359, '실속': 8360, '난널': 8361, '창피하다': 8362, '비겁하다': 8363, '안위': 8364, '우울증': 8365, '거너': 8366, '전무': 8367, '회식': 8368, '찮아다': 8369, '투톱': 8370, '음양': 8371, '밀접하다': 8372, '불응': 8373, '몰락하다': 8374, '수인': 8375, '서하': 8376, '우월하다': 8377, '마는': 8378, '슥': 8379, '나랏님': 8380, '아슬아슬하다': 8381, '아작': 8382, '아사': 8383, '싼타': 8384, '거뭐': 8385, '고국': 8386, '개개인': 8387, '여겨지다': 8388, '하나님': 8389, '엊그제': 8390, '젓다': 8391, '임오': 8392, '사보': 8393, '전화하다': 8394, '스트': 8395, '파급': 8396, '덩치': 8397, '대출받다': 8398, '빡빡이': 8399, '존스': 8400, '재단': 8401, '해운업': 8402, '회담': 8403, '멧돼지': 8404, '대대손손': 8405, '낮술': 8406, '개스피': 8407, '코스모스': 8408, '호빵': 8409, '키트': 8410, '향방': 8411, '납치': 8412, '부질없다': 8413, '제명': 8414, '뉘': 8415, '강재': 8416, '조르다': 8417, '천오백': 8418, '나머진': 8419, '이요': 8420, '파기': 8421, '등주': 8422, '비궁': 8423, '무기체계': 8424, '화려하다': 8425, '우뚝': 8426, '솟아오르다': 8427, '웃픈': 8428, '살벌하다': 8429, '설법': 8430, '원초': 8431, '노바티스': 8432, '혈관': 8433, 'ㅈㅂ': 8434, '로우': 8435, '자본잠식': 8436, '타개': 8437, '고스': 8438, '출장': 8439, '예스': 8440, '재용': 8441, '일찍이': 8442, '셋째': 8443, '넷째': 8444, '갈기': 8445, '소린': 8446, '넣기': 8447, '무안국제공항': 8448, '총력': 8449, '방콕': 8450, '경위': 8451, '미학': 8452, '삼풍백화점': 8453, '면개': 8454, '명세': 8455, '팔로': 8456, '주주클럽': 8457, '곽노': 8458, '스템': 8459, '명치': 8460, '득세': 8461, '핍박': 8462, '자하': 8463, '다도': 8464, '쏟아내다': 8465, '하나투어': 8466, '풍선': 8467, '모호하다': 8468, '잇따르다': 8469, '알트': 8470, '리수': 8471, '물타': 8472, '리해': 8473, '재물': 8474, '야야': 8475, '찍기': 8476, '여행사': 8477, '이개': 8478, '상해': 8479, '컨텐츠': 8480, '찰': 8481, '제련': 8482, '바부': 8483, '성금': 8484, '잘해주다': 8485, '도태': 8486, '빅뱅': 8487, '찜찜하다': 8488, '가속도': 8489, '어물': 8490, '나기': 8491, '반성은': 8492, '고치': 8493, '만치': 8494, '둬': 8495, '막대기': 8496, '판사': 8497, '저걸': 8498, '망신': 8499, '어질어질하다': 8500, '생겨나다': 8501, '상금': 8502, '윤활': 8503, '기유': 8504, '무의식': 8505, '올바르다': 8506, '재기': 8507, '외과': 8508, '의료기기': 8509, '선거': 8510, '돈대': 8511, '시호': 8512, '현혹': 8513, '야속하다': 8514, '기리': 8515, '약과': 8516, '온전': 8517, '양말': 8518, '야금': 8519, '금년': 8520, 'ㅈㅅ': 8521, '컨센': 8522, '가모': 8523, '이즈': 8524, '극찬': 8525, '미란': 8526, '들썩이다': 8527, '쓰시': 8528, '수억': 8529, '포괄': 8530, '독려': 8531, '승차': 8532, '그랴': 8533, '인용': 8534, '통증': 8535, '파우더': 8536, '피어': 8537, '힘스': 8538, '스님': 8539, '머니투데이': 8540, '바랬는데': 8541, '절의': 8542, '홀딩입니': 8543, '매도물량': 8544, '저항권': 8545, '달리기': 8546, '자제': 8547, '까지로': 8548, '전세': 8549, '스캠': 8550, '또르르': 8551, '굴': 8552, '종식': 8553, '제과': 8554, '호르몬': 8555, '남성': 8556, '조굼': 8557, '투더문': 8558, '의연하다': 8559, '치과': 8560, '요긴': 8561, '뭥미': 8562, '덤핑': 8563, '달랑': 8564, '시원시원하다': 8565, '경제성장률': 8566, '셰일': 8567, '인터네셔널': 8568, '손절마렵': 8569, '짱깨': 8570, '빠리': 8571, '한글': 8572, '부적': 8573, '다현': 8574, '어르신': 8575, '괴물': 8576, '실업': 8577, '당청': 8578, '구건': 8579, '나위': 8580, '젠알앤엠월': 8581, '혼나다': 8582, '진에어': 8583, '관문': 8584, '소용없다': 8585, 'ㅊㅋㅊㅋ': 8586, '지롱': 8587, '중개': 8588, '에야': 8589, '카타르': 8590, '기습': 8591, '더라도': 8592, '어뜩하다': 8593, '통째': 8594, '였음': 8595, '재밋': 8596, '선고': 8597, '반감기': 8598, '무리수': 8599, '정상인': 8600, '중주': 8601, '오스코텍': 8602, '가이드라인': 8603, '행여': 8604, '나락간': 8605, '온실가스': 8606, '덩달아': 8607, '라든가': 8608, '국가부도': 8609, '사후': 8610, '가히': 8611, '살기': 8612, '탈수': 8613, '중월': 8614, '껍니': 8615, '판권': 8616, '산도': 8617, '심난하다': 8618, '엊': 8619, '바짝': 8620, '여객선': 8621, '탈것': 8622, '순전하다': 8623, '방통': 8624, '규칙': 8625, '노스캐롤라이나주': 8626, '가누다': 8627, '벤치마킹': 8628, '갈증': 8629, '유용하다': 8630, '텍사스주': 8631, '일베': 8632, '껑충': 8633, '들르다': 8634, '김밥': 8635, '안사면': 8636, '돌이': 8637, '거물': 8638, '거르': 8639, '별반': 8640, '여명': 8641, '가양': 8642, '송금': 8643, '죽여주다': 8644, '뉴질랜드': 8645, '일본도': 8646, '어찌어찌': 8647, '톨': 8648, '그럴듯하다': 8649, '소시민': 8650, '방관': 8651, '삼박자': 8652, '핸드': 8653, '진압': 8654, '도려내다': 8655, '탕후루': 8656, '블레이드': 8657, '일반인': 8658, '아물다': 8659, '때기': 8660, '게임쇼': 8661, '장세': 8662, '뚝뚝': 8663, '정차': 8664, '다큐': 8665, '롤': 8666, '거부권': 8667, '동이': 8668, '에어부산': 8669, '관종': 8670, '증후군': 8671, '이그': 8672, '싣다': 8673, '현기증': 8674, '단속': 8675, '북핵': 8676, '상사': 8677, '신조': 8678, '안테나': 8679, '단합': 8680, '출주': 8681, '침략': 8682, '날뻔': 8683, '호캉스': 8684, 'ㅜㅜㅜㅜㅜ': 8685, '빨래': 8686, '환차': 8687, '등처': 8688, '금전': 8689, '분분': 8690, '외환위기': 8691, '김치': 8692, '안이': 8693, '갱생': 8694, '이완용': 8695, '국적': 8696, '권유': 8697, '뿌듯': 8698, '쌤': 8699, '놉': 8700, '톱': 8701, '쌍둥이': 8702, '리즈': 8703, '탈껄': 8704, '가안': 8705, '계정': 8706, '주저': 8707, '낚였': 8708, '해고': 8709, '키키': 8710, '내보내다': 8711, '게재': 8712, '김병탁': 8713, '신문사': 8714, '나노튜브': 8715, '멋대로': 8716, '확좀': 8717, '악플러': 8718, '또또': 8719, '끊임없다': 8720, '연수': 8721, '야동': 8722, '이모': 8723, '몹쓸': 8724, '궁극': 8725, '루빈': 8726, '주저앉다': 8727, '보법': 8728, '즈음': 8729, '줄기': 8730, '넘사벽': 8731, '나가시': 8732, '스리': 8733, '직업': 8734, '불행': 8735, '여자친구': 8736, '썩이다': 8737, '크으': 8738, '훈': 8739, '출판': 8740, '외자': 8741, '망햇': 8742, '정돈': 8743, '게시판글': 8744, '초월': 8745, '허공': 8746, '축구': 8747, '야구': 8748, '이또': 8749, '전설': 8750, '구광모': 8751, 'ㅎㅎㅎㅎㅎ': 8752, '상패': 8753, '성우': 8754, '일각': 8755, '중도': 8756, '명상': 8757, '글렀': 8758, '불경기': 8759, '최하': 8760, '대유': 8761, '장독': 8762, '말좀': 8763, '세탁기': 8764, '쥬쥬': 8765, '가뜩이나': 8766, '설다': 8767, '일케': 8768, '신동아': 8769, '법정관리': 8770, '징후': 8771, '금호': 8772, '미분': 8773, '한파': 8774, '어음': 8775, '이오니': 8776, '촉구': 8777, '화폐': 8778, '눈감다': 8779, '합리화': 8780, '삼일': 8781, '아리송하다': 8782, '어지르다': 8783, '민노총': 8784, '사리': 8785, '보령': 8786, '허상': 8787, '회주': 8788, '책정': 8789, '대장동': 8790, '센스': 8791, '전자부품': 8792, '엔지니어링': 8793, '맵': 8794, '동조': 8795, '불로': 8796, '용산': 8797, '승승': 8798, '블랙프라이데이': 8799, '조류': 8800, '미치나': 8801, '직속': 8802, '창립': 8803, '구성원': 8804, '선생': 8805, '운송계약': 8806, '공화당': 8807, '암시': 8808, '포화': 8809, '폼팩터': 8810, '이주': 8811, '고무': 8812, '에스오일': 8813, '시루': 8814, '굽신굽신': 8815, '웬수': 8816, '후우': 8817, '에이지': 8818, '환갑': 8819, '번인': 8820, '고추': 8821, '지긋지긋': 8822, '더기': 8823, '싫어지다': 8824, '수안': 8825, '더리': 8826, '맥아': 8827, '등골': 8828, '프렌': 8829, '은월': 8830, '개꿀잼': 8831, '지지마': 8832, '할부': 8833, '오백': 8834, '오백만원': 8835, '세용': 8836, '조만': 8837, '비추다': 8838, '탈세': 8839, '우물': 8840, '팰리세이드': 8841, '스럽지': 8842, '행렬': 8843, '무게': 8844, '실례': 8845, '탭': 8846, '픽': 8847, '적합': 8848, '주급': 8849, '차이나': 8850, '상일': 8851, '아침밥': 8852, '대로는': 8853, '구덩이': 8854, '유형': 8855, '가다가': 8856, '분풀이': 8857, '전성기': 8858, '추이': 8859, '유압계': 8860, '유독가스': 8861, '먹통': 8862, '헤드셋': 8863, '운영체제': 8864, '외환보유고': 8865, '캘린더': 8866, '드갔다': 8867, '영주': 8868, '장단': 8869, '상판': 8870, '타설량': 8871, '클릭': 8872, '존버중': 8873, '향임': 8874, '양주': 8875, '공후': 8876, '이코노미석': 8877, '수순': 8878, '사나이': 8879, '실성하다': 8880, '몀': 8881, '군데': 8882, '꼬셔': 8883, '웨이브': 8884, '사이트': 8885, '뭉치다': 8886, '어째서': 8887, '밸': 8888, '런싱': 8889, '정진': 8890, '글카': 8891, '횽님들': 8892, '묵직하다': 8893, '비비': 8894, '사십': 8895, '안지': 8896, '스닥': 8897, '대요': 8898, '메이커': 8899, '헤지펀드': 8900, '필쪽': 8901, '나하': 8902, '얏': 8903, '덩실': 8904, '요망': 8905, '어로': 8906, '럼프': 8907, '얄팍하다': 8908, '알아내다': 8909, '끝판': 8910, '지목': 8911, '수전': 8912, '자잘하다': 8913, '항공권': 8914, '웅': 8915, '살바': 8916, '난뒤': 8917, '소용': 8918, '권력자': 8919, '정자': 8920, '유차': 8921, '환경부': 8922, '금시': 8923, '사이버펑크': 8924, 'ㅋㅎ': 8925, '다단': 8926, '변태': 8927, '왓더': 8928, '우리금융': 8929, '금융기관': 8930, '오드': 8931, '에손': 8932, '난치': 8933, '식당': 8934, '무시무시하다': 8935, '미처': 8936, '스트리밍': 8937, '강심장': 8938, '게티': 8939, '맛보기': 8940, '비웃다': 8941, '부스터': 8942, '에틸렌': 8943, '니요': 8944, '가이드': 8945, '어어어어': 8946, '거액': 8947, '일방': 8948, '지지율': 8949, '완제': 8950, '돌리지': 8951, '다가가다': 8952, '허니': 8953, '차후': 8954, '삘': 8955, '간격': 8956, '소자': 8957, '붓기': 8958, '간겨': 8959, '맑다': 8960, '사바': 8961, '럼프형': 8962, '꺄': 8963, '용인시': 8964, '경제지표': 8965, '한양': 8966, '림프종': 8967, '율위': 8968, '농사': 8969, '아이돌': 8970, '물량들': 8971, '은감': 8972, '삼겹살': 8973, '요지': 8974, '보오': 8975, '프론데': 8976, '김대': 8977, '법치': 8978, '중대하다': 8979, '횡보장': 8980, '유주': 8981, '골자': 8982, '이온': 8983, '계약서': 8984, '투데이': 8985, '선선': 8986, '개뿔': 8987, '곁': 8988, '영원': 8989, '나신': 8990, '잠자다': 8991, '묵은지': 8992, '케이크': 8993, '판돈': 8994, '일어': 8995, '상중': 8996, '창고': 8997, '붙잡히다': 8998, '엑스': 8999, '게이트': 9000, '미지수': 9001, '박꼼': 9002, '신박꼼': 9003, '쿵쿵따': 9004, '쐐기': 9005, '종결': 9006, '선발': 9007, '바바라': 9008, '주전자': 9009, '아수라': 9010, '발발': 9011, '염전': 9012, '방열': 9013, '짤': 9014, '늘어지다': 9015, '전방': 9016, '알쪽': 9017, '어렇': 9018, '넘침': 9019, '모임': 9020, '제국': 9021, '퀀연': 9022, '아파타이트': 9023, '손구락': 9024, '조도': 9025, '중유': 9026, '세운': 9027, '저지르다': 9028, '쩔': 9029, '강성': 9030, '지층': 9031, 'ㅋㅎㅋㅎ': 9032, '껭': 9033, '신세': 9034, '기절': 9035, '극좌': 9036, '단층': 9037, '안삿는데': 9038, '사래': 9039, '골드만삭스': 9040, '바톤': 9041, '못지않다': 9042, '역풍': 9043, '안전벨트': 9044, '그니까': 9045, '토세': 9046, '코리안': 9047, '조업': 9048, '나노테크': 9049, '상주': 9050, '무척': 9051, '락스': 9052, '두근두근': 9053, '간전': 9054, '출국': 9055, '무사하다': 9056, '식초': 9057, 'ㄷㅏ': 9058, '투스': 9059, '노멀': 9060, '우수하다': 9061, '사회주의': 9062, '악세다': 9063, '적정가격': 9064, '쳣': 9065, '수목': 9066, '신랑': 9067, 'ㅠㅡㅜ': 9068, '동탄': 9069, '중기': 9070, '원작': 9071, '상존': 9072, '재질': 9073, '시야': 9074, '허덕이다': 9075, '역설': 9076, '대항': 9077, '보드': 9078, '밀당': 9079, '뭐시': 9080, '명심': 9081, '쭈우욱': 9082, '얌': 9083, '종배': 9084, '콩알': 9085, '구조체': 9086, '일다': 9087, '굿밤': 9088, '부대': 9089, '우원식': 9090, '주야': 9091, '노화': 9092, '충당': 9093, '실천': 9094, '웃어요': 9095, '괴뢰': 9096, '서불': 9097, '드러나다': 9098, '는고': 9099, '부기': 9100, '콘트리트': 9101, '미이라': 9102, '팡': 9103, '벚어나': 9104, '방구': 9105, '지주사': 9106, '신한은행': 9107, '비엔': 9108, '살투스': 9109, '코피': 9110, '이래저래': 9111, '발부': 9112, '앞세우다': 9113, '격추': 9114, '나미': 9115, '장서': 9116, '데미': 9117, '푸근하다': 9118, '럼': 9119, '비비고': 9120, '인터페이스': 9121, '질린다': 9122, '외양간': 9123, '껀': 9124, '삼키다': 9125, '억억': 9126, '도돌이표': 9127, '획': 9128, '실하다': 9129, '화창하다': 9130, '세무조사': 9131, '왼쪽': 9132, '싸이코패스': 9133, '오른쪽': 9134, '별루': 9135, '하이고': 9136, '가왜': 9137, '조이다': 9138, '대공': 9139, '어워드': 9140, '닫히다': 9141, '모니터': 9142, '코스트코': 9143, '밀양': 9144, '외치': 9145, '부조리': 9146, '해갈': 9147, '왜인': 9148, '가빠지다': 9149, '기술자': 9150, '면담': 9151, '니오브': 9152, '엔딩': 9153, '그녀': 9154, '튜토리얼': 9155, '저니': 9156, '응급실': 9157, '뚝배기': 9158, '너머': 9159, '찌그러지다': 9160, '그딴': 9161, '흉내': 9162, '저딴': 9163, '라만': 9164, '호환': 9165, '횡령': 9166, '아군': 9167, '그르케': 9168, '라이언': 9169, '한상태': 9170, '혜지': 9171, '버는건': 9172, '부글': 9173, '달안': 9174, '영위': 9175, '연말정산': 9176, '군번': 9177, '번돈': 9178, '무적': 9179, '옥포': 9180, '칙칙폭폭': 9181, '다이내믹': 9182, '화질': 9183, '한신': 9184, '경아': 9185, '우기다': 9186, '롱런': 9187, '티켓': 9188, '하찮다': 9189, '다난': 9190, '변모': 9191, '구글플레이': 9192, '호환성': 9193, '센싱': 9194, '표정': 9195, '관람객': 9196, '백이': 9197, '친하다': 9198, '고온': 9199, '별거': 9200, '넥겜': 9201, 'ㅎㅇㅌ': 9202, '시시하다': 9203, '또다른': 9204, '수확': 9205, '뾰족': 9206, '유툽': 9207, '조울증': 9208, '컵': 9209, '침수': 9210, '도생': 9211, '신흥': 9212, '송사': 9213, '사모아': 9214, '보상금': 9215, '원본': 9216, '전봇대': 9217, '강변': 9218, '한남': 9219, '구역': 9220, '캐리': 9221, '중심부': 9222, '그랜드': 9223, '연출': 9224, '아웃도어': 9225, '에버': 9226, '의기양양하다': 9227, '위자료': 9228, '패가망신': 9229, '익명': 9230, '부터가': 9231, '복도': 9232, '돈복': 9233, '나주': 9234, '부풀다': 9235, '메달': 9236, '번의': 9237, '원월드': 9238, '스타얼라이언스': 9239, '다이아몬드': 9240, '바스': 9241, '성하다': 9242, '얹다': 9243, '경제부총리': 9244, '펭귄': 9245, '굴리': 9246, '감고': 9247, '소생': 9248, '서운하다': 9249, '누루': 9250, '쿼리': 9251, '제이알': 9252, '급박하다': 9253, '비명': 9254, '거릴': 9255, '뇨': 9256, '무안군': 9257, '갈까말까': 9258, '파산하다': 9259, '글쎄요': 9260, '장만': 9261, '바로잡다': 9262, '차차': 9263, '남발': 9264, '위법': 9265, '볼순': 9266, '포퓨': 9267, '앓이': 9268, '은퇴': 9269, '외가': 9270, 'ㄱㅅ': 9271, '결혼': 9272, '신혼부부': 9273, '요러': 9274, '에두': 9275, '후의': 9276, '조준': 9277, '거왜': 9278, '혼입': 9279, '자발': 9280, '코젠': 9281, '한류': 9282, '잔인하다': 9283, '팔팔하다': 9284, '츠': 9285, '무색': 9286, '시비': 9287, '무너': 9288, '특활비': 9289, '무차별': 9290, '듬': 9291, '입법': 9292, '기각': 9293, '신풍': 9294, '특유': 9295, '윈': 9296, '전선주': 9297, '이노션': 9298, '스윽': 9299, '플래그': 9300, '탄력성': 9301, '오차': 9302, '두발': 9303, '라바': 9304, '숨막히다': 9305, '킥': 9306, '플립': 9307, '버고': 9308, '재의': 9309, '소문나다': 9310, '휩쓸다': 9311, '호도': 9312, '백원': 9313, '페라리': 9314, '정의선': 9315, '폐장': 9316, '안팎': 9317, '박막': 9318, '천대': 9319, '꽝': 9320, '급변': 9321, '마이너': 9322, '음향': 9323, '정덕': 9324, '사원': 9325, '기막히다': 9326, '잭슨': 9327, '공휴일': 9328, '쭈': 9329, '섞이다': 9330, '정신차려라': 9331, '둔갑': 9332, '베이트': 9333, '급속': 9334, '결핍': 9335, '스치다': 9336, '드갑니': 9337, '자비롭다': 9338, '장임': 9339, '이바': 9340, '플로': 9341, '유학': 9342, '유학생': 9343, '혈': 9344, '저지': 9345, '소수': 9346, '뭇': 9347, '되돌아보다': 9348, '깨작깨작': 9349, '힝': 9350, '카를': 9351, '꾸미다': 9352, '무법': 9353, '졸다': 9354, '호걸': 9355, '어쩌지': 9356, '깡패': 9357, '동원': 9358, '유상': 9359, '뷔페': 9360, '간수': 9361, '아동': 9362, '마스크': 9363, '데스': 9364, '되돌림': 9365, '독립성': 9366, '변덕': 9367, '장담': 9368, '훑다': 9369, '취업': 9370, '스텔': 9371, '란티스': 9372, '화낼': 9373, '시기상조': 9374, '일론': 9375, '고향': 9376, '랫': 9377, '고간': 9378, '가버렷': 9379, '가천': 9380, '훼방': 9381, '록': 9382, '침팬지': 9383, '유라시아': 9384, '떠벌리다': 9385, '버티브': 9386, '손절함': 9387, '채권자': 9388, '콘': 9389, '코미디': 9390, '총계': 9391, '뭐함': 9392, '양도소득세': 9393, '소멸하다': 9394, '소가': 9395, '혁명': 9396, '포쉬': 9397, '열쇠': 9398, '퇴근': 9399, '발전소': 9400, '잠기다': 9401, '나스': 9402, '미트': 9403, '리뉴얼': 9404, '주거': 9405, '포부': 9406, '매입량': 9407, '우두머리': 9408, '박씨': 9409, '누굴탓': 9410, '고후': 9411, '피로': 9412, '유산': 9413, '월년': 9414, '법규': 9415, '개한민국': 9416, '이진': 9417, '똘': 9418, '찬찬하다': 9419, '스탠드': 9420, '해상도': 9421, '액세서리': 9422, '태블릿': 9423, '완판': 9424, '특별법': 9425, '슈': 9426, '일별': 9427, '여정': 9428, '쏠다': 9429, '콘솔': 9430, '노티': 9431, '쿡': 9432, '킵': 9433, '젠알앤': 9434, '엠하이젠알앤엠': 9435, '도의': 9436, '티니': 9437, '급발진': 9438, '편성': 9439, '부담스럽다': 9440, '손톱': 9441, '참혹하다': 9442, '모텔': 9443, '모자': 9444, '글삭': 9445, '주안': 9446, '성남': 9447, '소년': 9448, '형아': 9449, '다발': 9450, '불가하다': 9451, '김포': 9452, '자립': 9453, '걱정스럽다': 9454, '미동': 9455, '경로': 9456, '껄무새들': 9457, '어딘지': 9458, '에게서': 9459, '증축': 9460, '행세': 9461, '빚투': 9462, '종사': 9463, '털털': 9464, '퇴학': 9465, '우주선': 9466, '마오': 9467, '주석': 9468, '테슬': 9469, '저조': 9470, '빗나가다': 9471, '이재현': 9472, '엘리': 9473, '킵고잉': 9474, '쫒다': 9475, '캄캄하다': 9476, '정보보호': 9477, '진흥': 9478, '녹스': 9479, '종단': 9480, '주기도': 9481, '악용': 9482, '가만있다': 9483, '부강': 9484, '마프': 9485, '업턴': 9486, '휴메딕스': 9487, '중대': 9488, '외신': 9489, '곽동신': 9490, '눌렸던': 9491, '데헷': 9492, '심장병': 9493, '수여': 9494, '과학기술': 9495, '프론티어': 9496, '탐구': 9497, '뷰노': 9498, '프러스': 9499, '살림살이': 9500, '한결': 9501, '화끈하다': 9502, '만천이': 9503, '명칭': 9504, '친척': 9505, '원내대표': 9506, '싱겁다': 9507, '조성하': 9508, '춤추다': 9509, '뉴비': 9510, '니다': 9511, '맞닿다': 9512, '물러서다': 9513, '라다': 9514, '한소리': 9515, '떳다': 9516, '도박장': 9517, '횡보할': 9518, '원화로': 9519, '현안': 9520, '말기': 9521, '호한': 9522, '외형': 9523, '열광하다': 9524, '휴먼': 9525, '보관': 9526, '컨디션': 9527, '텐센트': 9528, '무형': 9529, '조아': 9530, '양하다': 9531, '연매출': 9532, '물자': 9533, '축적': 9534, '어닐링': 9535, '문어': 9536, '재아': 9537, '눈꼽': 9538, '지대': 9539, '롤링': 9540, '민감': 9541, '린지': 9542, '피겨': 9543, '정책금융': 9544, '벽두': 9545, '소심하다': 9546, '진핑': 9547, '러브콜': 9548, '집앞': 9549, '틀림없다': 9550, '쌩': 9551, '결과물': 9552, '으음': 9553, '짜임새': 9554, '훈훈하다': 9555, '김정일': 9556, '역행': 9557, '어김없이': 9558, '줄어드': 9559, '의리': 9560, '토람프': 9561, '재화': 9562, '응징': 9563, '시선': 9564, '알기': 9565, '유산균': 9566, '대접': 9567, '주어지다': 9568, '알레르기': 9569, '고셔병': 9570, '에다가': 9571, '매체': 9572, '방망이': 9573, '어이구': 9574, '소름끼치다': 9575, '내겐': 9576, '대여': 9577, '태반': 9578, '버니': 9579, '명색': 9580, '한단': 9581, '해방': 9582, '풍': 9583, '해발': 9584, '케랄라': 9585, '기후': 9586, '잉여': 9587, '람': 9588, '포폴': 9589, '단돈': 9590, '디아블로': 9591, '섞다': 9592, '백프로': 9593, '국가신용등급': 9594, '따갑다': 9595, '곶감': 9596, '쑤욱': 9597, '거세': 9598, '막무가내': 9599, '지체': 9600, '양성': 9601, '제상': 9602, '특화된': 9603, '넷플': 9604, '버억': 9605, '지게': 9606, '집어넣다': 9607, '추억': 9608, '합동': 9609, '원지': 9610, '김형태': 9611, '젖다': 9612, '쿠웨이트': 9613, '온나라': 9614, '소송도': 9615, '비키': 9616, '테라파워': 9617, '청정': 9618, '딜러': 9619, '목욜': 9620, 'ㅠㅠㅋㅋ': 9621, '라우': 9622, '퀴': 9623, '케이피': 9624, '늙은이': 9625, '마이크로': 9626, '브론즈': 9627, '실과': 9628, '영은': 9629, '금탁': 9630, '시청자': 9631, '다자': 9632, '밸트': 9633, '줄타기': 9634, '유착': 9635, '비리': 9636, '누군지': 9637, '당락일': 9638, '유엔': 9639, '비호': 9640, '자그맣다': 9641, '뮛': 9642, '다중': 9643, '필름': 9644, '창사': 9645, '잔량': 9646, '콘서트': 9647, '쫙쫙': 9648, '메로나': 9649, '연세': 9650, '쓸모없다': 9651, '설루션': 9652, '웹': 9653, '보드게임': 9654, '투도': 9655, '집합': 9656, '재한': 9657, '조화': 9658, '정체전선': 9659, '바카라': 9660, '에서라도': 9661, '꾸벅': 9662, '생살': 9663, '닉네임': 9664, '목포': 9665, '검객': 9666, '부캐': 9667, '월경': 9668, '핸들러': 9669, '불능': 9670, '만초': 9671, '리틀': 9672, '도살': 9673, '몰이': 9674, '광탈': 9675, '계훈': 9676, '작곡': 9677, '얼다': 9678, '화제': 9679, '인베': 9680, '사만': 9681, '수만': 9682, '겟습니': 9683, '소장': 9684, '무모하다': 9685, '레나': 9686, '짓누르다': 9687, '똑바로': 9688, '제약업': 9689, '리소': 9690, '하이비젼': 9691, '변곡점': 9692, '폼': 9693, '펼쳐지다': 9694, '면도': 9695, '접힌': 9696, '온도': 9697, '만리장성': 9698, '쏠쏠': 9699, '끼리끼리': 9700, '박테리아': 9701, '사퇴': 9702, '어딧': 9703, '눈사람': 9704, '수위': 9705, '의류': 9706, '형호': 9707, '주류': 9708, '안덕': 9709, '여행가': 9710, '비메': 9711, '모리': 9712, '차곡': 9713, '체면': 9714, '내사': 9715, '쪼매씩': 9716, '부리고': 9717, '조바심': 9718, '확답': 9719, '툭툭': 9720, '참견': 9721, '빠빠': 9722, '괴리': 9723, '팩토리': 9724, '블록버스터': 9725, '감가상각비': 9726, '판단력': 9727, '지보': 9728, '도루묵': 9729, '인컴': 9730, '제일제당': 9731, '무당': 9732, '일련': 9733, '지역화폐': 9734, '독하다': 9735, '현물': 9736, '수식어': 9737, '신인': 9738, '재소': 9739, '방긋': 9740, '공구리': 9741, '증식': 9742, '가바': 9743, '빡세': 9744, '고순': 9745, '미대': 9746, '감쟈': 9747, '랜드': 9748, '양수': 9749, '횡보해': 9750, '단발': 9751, '배짱': 9752, '한섬': 9753, '불균형': 9754, '민중': 9755, '다누': 9756, '메티': 9757, '황색포도상구균': 9758, '약동학': 9759, '배양': 9760, '힘쫌내': 9761, '외교': 9762, '공백': 9763, '파도': 9764, '폭풍': 9765, '문맹': 9766, '그랬는데': 9767, '변형': 9768, '씻다': 9769, '본드': 9770, '송전탑': 9771, '힘빠지다': 9772, '퓨처엠': 9773, '주노': 9774, '지명': 9775, '임대': 9776, '벚꽃': 9777, '폭염': 9778, '물고기': 9779, '단치': 9780, '물린': 9781, '직책': 9782, '톡방': 9783, '웬': 9784, '활기차다': 9785, '통화량': 9786, '더존': 9787, '클립': 9788, '는데': 9789, '못버': 9790, '간편': 9791, '온대': 9792, '묻히다': 9793, '까지야': 9794, '마통': 9795, '성인': 9796, '콘테스트': 9797, '대학': 9798, '연구기관': 9799, '메가트렌드': 9800, '내향성': 9801, '개인주의': 9802, '물소': 9803, '말일': 9804, '유지나': 9805, '전자제품': 9806, '가늘다': 9807, '텅': 9808, '오키': 9809, '이상민': 9810, '행안부': 9811, '김주현': 9812, '민정수': 9813, '석조': 9814, '남관': 9815, '부정부패': 9816, '공익': 9817, '밍': 9818, '입력': 9819, '겐': 9820, '해달라다': 9821, '인공위성': 9822, '만호': 9823, '사람과': 9824, '흥미진진': 9825, '복사기': 9826, '앤디': 9827, '페이스': 9828, '필사': 9829, '광학': 9830, '고딩': 9831, '성탄': 9832, '프라임': 9833, '정교하다': 9834, '상실': 9835, '독도함': 9836, '상륙정': 9837, '베이비': 9838, '착실하다': 9839, '실직': 9840, '대견하다': 9841, '스엠': 9842, '폴라리스': 9843, '변기': 9844, '구체화': 9845, '웨스팅하우스': 9846, '나불': 9847, '신아': 9848, '개발자': 9849, '스택': 9850, '임의': 9851, '갈팡질팡': 9852, '지렁이': 9853, '불보듯': 9854, '쇼부': 9855, '총서': 9856, '웅덩이': 9857, '닼': 9858, '마구로': 9859, '부종': 9860, '당뇨병': 9861, '근시': 9862, '효력': 9863, '거제도': 9864, '차종': 9865, '온기': 9866, '배움': 9867, '정비사': 9868, '총재': 9869, '잡것': 9870, '땅바닥': 9871, '혼돈': 9872, '접목': 9873, '아주아주': 9874, '트위터': 9875, '금식': 9876, '감개': 9877, '무량': 9878, '칭호': 9879, '싱스': 9880, '손쉽다': 9881, '확립': 9882, '구가': 9883, '익절후': 9884, '악조건': 9885, '불일때': 9886, '상자': 9887, '우매': 9888, '긴밀하다': 9889, '보루': 9890, '른': 9891, '융자': 9892, '합치다': 9893, '쪽쪽': 9894, '공신': 9895, '트윈': 9896, '여리다': 9897, '제물': 9898, '무니': 9899, '도표': 9900, '근원': 9901, '매설': 9902, '폐렴': 9903, '삐지다': 9904, '서손': 9905, '뱀띠': 9906, '유예': 9907, '채운': 9908, '절구': 9909, '나트륨': 9910, '시리': 9911, '광업권': 9912, '조로': 9913, '에스엠랩': 9914, '수법': 9915, '보렵': 9916, '커피한잔': 9917, '자성': 9918, '티닙': 9919, '얀': 9920, '무언': 9921, '안뇽': 9922, '숲': 9923, '스텀': 9924, '출렁이다': 9925, '스트리머': 9926, '상암': 9927, '스레': 9928, '주름': 9929, '대지': 9930, '다양': 9931, '노태우': 9932, '포항': 9933, '클램쉘': 9934, '폴드': 9935, '아이패드': 9936, '메탈': 9937, '강하': 9938, '관리자': 9939, '조식': 9940, '리오': 9941, '만선': 9942, '롯': 9943, '한없이': 9944, '거도': 9945, '괄목': 9946, '섬유': 9947, '에든': 9948, '방황': 9949, '투앱': 9950, '본론': 9951, '분기도': 9952, '사임': 9953, '달려오다': 9954, '순간이동': 9955, '물밑': 9956, '땅굴': 9957, '요청서': 9958, '칸': 9959, '탁월하다': 9960, '일감': 9961, '투애니원': 9962, '할렐루야': 9963, '박람회': 9964, '불좀': 9965, '화병': 9966, '솔루선': 9967, '스탠스': 9968, '아앙': 9969, '억천': 9970, '도참': 9971, '냅다': 9972, '음수': 9973, '쑥': 9974, '컴퍼니': 9975, '쟁점': 9976, '평판': 9977, '로손': 9978, '옛': 9979, '조마조마': 9980, '콜로': 9981, '걸사': 9982, '이형은': 9983, '주더': 9984, '위메': 9985, '여자': 9986, '생리': 9987, '예언': 9988, '싱가포르': 9989, '거짓말쟁이': 9990, '초심자': 9991, '십중팔구': 9992, '뒷북': 9993, '유트브': 9994, '폭도': 9995, '라즈': 9996, '실감': 9997, '삐용삐용': 9998, '항구': 9999, '엇습': 10000, '보건복지부': 10001, '윤썩': 10002, '저서': 10003, '대체로': 10004, '선장': 10005, '삼식이': 10006, '팔만': 10007, '조천억원': 10008, '인증샷': 10009, '중량': 10010, '전자전': 10011, '폭주': 10012, '걔넨': 10013, '나후': 10014, '융': 10015, '무주': 10016, '국방부': 10017, 'ㅏㅏ': 10018, '포털': 10019, '비전하': 10020, '하란': 10021, '몸통': 10022, '만이천원': 10023, '장구': 10024, '느므': 10025, '투매': 10026, '유인': 10027, '통신업': 10028, '자릿수': 10029, '도아': 10030, '솔트룩스': 10031, 'ㅋㅋㅋㅋㅋㅋㅋㅋㅋㅋㅋㅋㅋㅋㅋㅋㅋㅋㅋㅋㅋㅋㅋㅋㅋㅋㅋㅋㅋㅋㅋㅋㅋㅋㅋㅋ': 10032, '특약': 10033, '사업인': 10034, '트롤': 10035, '중간배당': 10036, '전사': 10037, '혹독하다': 10038, '제대': 10039, '총선': 10040, '헌법재판관': 10041, '고고싱': 10042, '만타': 10043, '순항': 10044, '서바이벌': 10045, '가디스': 10046, '신호탄': 10047, 'ㅊ': 10048, '심상': 10049, '커리어': 10050, '환입': 10051, '배임': 10052, '말문': 10053, '느': 10054, '우기': 10055, '이실': 10056, '뱅': 10057, '살아생전': 10058, '하나라': 10059, '좌절': 10060, '손목': 10061, '유력하다': 10062, '바겐': 10063, '하노': 10064, '숏스': 10065, '퀴즈': 10066, '상적': 10067, '당단백질': 10068, '유사성': 10069, '기질': 10070, '공통점': 10071, '쏠쏠하다': 10072, '꼼지락': 10073, '메뉴': 10074, '유료': 10075, '배설물': 10076, '위험관리': 10077, '발효': 10078, '막차': 10079, '뛰어오르다': 10080, '난민': 10081, '승무원': 10082, '데일': 10083, '질적': 10084, '토건': 10085, '여보': 10086, '모라': 10087, '큰소리': 10088, '숫': 10089, '부당하다': 10090, '싱귤': 10091, '아바': 10092, '쥐똥': 10093, '평일': 10094, '린스': 10095, '시일': 10096, '초래': 10097, '프로바이오틱스': 10098, '오염': 10099, '더유': 10100, '참을성': 10101, '윳돈': 10102, '유진': 10103, '투척': 10104, '핵': 10105, '쭉쭉쭉': 10106, '최적': 10107, '돌보다': 10108, '홈': 10109, '나락행': 10110, '구마': 10111, '사고방식': 10112, '지유': 10113, '인스타그램': 10114, '가미': 10115, '내주': 10116, '조세': 10117, '안쓰럽다': 10118, '외관': 10119, '상대로': 10120, '하늬': 10121, '조만이': 10122, '잏': 10123, '예언가': 10124, '나오니': 10125, '리쥬란': 10126, '슝': 10127, '기타등등': 10128, '거려': 10129, '브룽': 10130, '피부': 10131, '년생': 10132, '깍': 10133, '깝': 10134, '공짜': 10135, '통령': 10136, '벌금': 10137, '위층': 10138, '와쿠': 10139, '자가면역질환': 10140, '대오': 10141, '전라남도': 10142, '앤티': 10143, '적절': 10144, '베이징': 10145, '실스큐': 10146, '쟁': 10147, '유료도로': 10148, '그리핀': 10149, '노르웨이': 10150, '메르': 10151, '번지점프': 10152, '스톡': 10153, '국영': 10154, '일기장': 10155, '취약': 10156, '그득그득': 10157, '하고만': 10158, '멀어지다': 10159, '유턴': 10160, '광범위하다': 10161, '개표기': 10162, '유럽연합': 10163, '쌔해': 10164, '꼬옥': 10165, '가계부채': 10166, '건전성': 10167, '부흥': 10168, '열광': 10169, '인바디': 10170, '사망률': 10171, '머피': 10172, '택': 10173, '토요타': 10174, '병사': 10175, '차체': 10176, '방공': 10177, '사격': 10178, '무장': 10179, '글좀': 10180, '분양': 10181, '분기점': 10182, '제사': 10183, '투바': 10184, '걔네': 10185, '회사채': 10186, '초유': 10187, '피즈': 10188, '치바': 10189, '라스베가스': 10190, '디지털화': 10191, '전송': 10192, '러닝': 10193, '무심코': 10194, '퉁퉁': 10195, '코맹맹이': 10196, '첫걸음': 10197, '디보': 10198, '로슈': 10199, '엠엔씨': 10200, '데모': 10201, '바나나': 10202, '녹아내리다': 10203, '발암': 10204, '젤루': 10205, '텅스텐': 10206, '표기': 10207, '소아': 10208, '발성': 10209, '천천만원': 10210, '나보타': 10211, '펙': 10212, '죄수': 10213, '곽': 10214, '김지훈': 10215, '눌': 10216, '황상': 10217, '비밀번호': 10218, '무료': 10219, '옹벽': 10220, '개조': 10221, '예민하다': 10222, '최상급': 10223, '금제': 10224, '질병': 10225, '달착륙선': 10226, '쓰레기': 10227, '흩어지다': 10228, '황화리튬': 10229, '지반': 10230, '득달': 10231, '캐피탈': 10232, '트랙터': 10233, '우산': 10234, '납득': 10235, '편도': 10236, '윤두환': 10237, '교신': 10238, '딩시': 10239, '출고': 10240, '학원': 10241, '후년': 10242, '시라': 10243, '대체재': 10244, '공성전': 10245, '싸이월드': 10246, '배출량': 10247, '어댑터': 10248, '중원': 10249, '연명': 10250, '성형': 10251, '화공': 10252, '추서': 10253, '년돈': 10254, '기비': 10255, '구동': 10256, '대법원': 10257, '머트리얼즈': 10258, '넥센': 10259, '멱': 10260, '채년': 10261, '양조': 10262, '꼴갑': 10263, '방글': 10264, '의향': 10265, '거거래량': 10266, '존버당': 10267, '김건희': 10268, '나갈렵니': 10269, '오일': 10270, '난거지': 10271, '평년': 10272, '이분법': 10273, '돈독하다': 10274, '로남': 10275, '개월차': 10276, '하산': 10277, '제중': 10278, '들갑': 10279, '슈퍼카': 10280, '하이엔드': 10281, '기이하다': 10282, '쇳': 10283, '동전': 10284, '괜찬구': 10285, '천백만원': 10286, '만억': 10287, '순결': 10288, '빤쓰런': 10289, '회복기': 10290, 'ㅆㄴ': 10291, '설치다': 10292, '조인': 10293, '만여': 10294, '굽히다': 10295, '교육비': 10296, '배틀': 10297, '블루홀': 10298, '혼수상태': 10299, '이순신': 10300, '역적': 10301, '하방경직성': 10302, '투연': 10303, '이상주': 10304, '이상없다': 10305, '이뿌다': 10306, '박두': 10307, '배팅해': 10308, '로보트': 10309, '절개': 10310, '일상생활': 10311, '미니카': 10312, '꽁무니': 10313, '졸졸졸': 10314, '팟드': 10315, '듀듀듁': 10316, '큰코다치다': 10317, '왁싱': 10318, '라차': 10319, '키위': 10320, '다람쥐': 10321, '아몬드': 10322, '초코': 10323, '나무늘보': 10324, '쭉쭉뻣': 10325, '피햇': 10326, '주보': 10327, '사고사': 10328, '나어뜨케': 10329, '못정': 10330, '변': 10331, '독성': 10332, '간세포암': 10333, '또물': 10334, '부터만': 10335, '용돔': 10336, '아난': 10337, '유능하다': 10338, '바코드': 10339, 'ㅣㅣㅣㅣㅣㅣ': 10340, '달라붙다': 10341, '헛날': 10342, '버러': 10343, '신형': 10344, '신채호': 10345, '정조대왕': 10346, '마스트': 10347, '소나': 10348, '대잠전': 10349, '금영': 10350, '씨앗': 10351, '민준': 10352, '여운': 10353, '펄펄': 10354, '푹푹': 10355, '퍽퍽': 10356, '흐아아': 10357, '땀': 10358, '식은땀': 10359, '쫘': 10360, '귝장': 10361, '정보보안': 10362, '유영진': 10363, '켄지': 10364, '음악': 10365, '바로미터': 10366, '네사': 10367, '게리온': 10368, '정신질환': 10369, '파멸': 10370, '읺을까': 10371, '왜또': 10372, '셋업': 10373, '헤체쪽': 10374, '랬제': 10375, '베이스볼': 10376, '드림파크': 10377, '하이마트': 10378, '맥주': 10379, '플로리다': 10380, '가교': 10381, '단두': 10382, '눈거': 10383, '태웟': 10384, '블프': 10385, '싸대기': 10386, '커넥': 10387, '병아리': 10388, '뱃터리': 10389, '침입': 10390, '처단': 10391, '손흥민': 10392, '매드무비': 10393, '란말': 10394, '국채선물': 10395, '물의': 10396, '멕': 10397, '이소영': 10398, '햏는데': 10399, '깔딱': 10400, '삼청교육대': 10401, '스윗': 10402, '어도비': 10403, '앤지': 10404, '도무지': 10405, '회한': 10406, '유림': 10407, '컨': 10408, '이월': 10409, '식목일': 10410, '앖애': 10411, '보트': 10412, '당산': 10413, 'ㅡㅡㅡㅡㅡ': 10414, '안떰': 10415, '광반': 10416, '고흥': 10417, '환경청': 10418, '공률': 10419, '폭파': 10420, '개스닥아': 10421, '역주행': 10422, '슴쪽': 10423, '지모': 10424, '백정': 10425, '명사회': 10426, '스테이': 10427, '재니': 10428, '자리야': 10429, '이듭': 10430, '나락딥딥': 10431, '빨대': 10432, '흐물': 10433, '일개미': 10434, '더웃': 10435, '머에씌': 10436, '백전백승': 10437, '잘맞다': 10438, '다과': 10439, '소파': 10440, '대파': 10441, '주빅': 10442, '낼돈': 10443, '걸삿': 10444, '패마': 10445, '더문': 10446, '하이라이트': 10447, '보주': 10448, '인화': 10449, '스코': 10450, '나눠지다': 10451, '이세': 10452, '상수': 10453, '라이브러리': 10454, '플러그인': 10455, '트레인': 10456, '셀때': 10457, '사멵됨': 10458, '무족': 10459, '죙': 10460, '분식집': 10461, '씨디': 10462, '소프트': 10463, '김성집': 10464, '대당': 10465, '줘쩜상하': 10466, '살맛': 10467, '헛꿈': 10468, '면오': 10469, '장고': 10470, '태양전지': 10471, '눈귀': 10472, '손색': 10473, '발톱': 10474, '초상': 10475, '도로공사': 10476, '편육': 10477, '늪': 10478, '분주': 10479, '명문': 10480, '건액트': 10481, '뿌리치다': 10482, '카겜놈': 10483, 'ㅈㅔ': 10484, '음모론자': 10485, '소맥': 10486, '안하무인': 10487, '버는데': 10488, '책상': 10489, '다이슨': 10490, '나용': 10491, '뤼': 10492, '자치권': 10493, '섬': 10494, '보노': 10495, '패무빙': 10496, '쓰윽빡': 10497, '남양': 10498, '갈껀대': 10499, '분한': 10500, '출두': 10501, '빌런': 10502, '이동수': 10503, '무쟈': 10504, '붇': 10505, '짜져': 10506, '따라다니다': 10507, '달더': 10508, '외양': 10509, '얍삽': 10510, '전세기': 10511, '망사': 10512, '따잡다': 10513, '사회생활': 10514, '렌트': 10515, '홍카': 10516, '연애': 10517, '장안읍': 10518, '블록': 10519, '부득이': 10520, '나노텍': 10521, '해리': 10522, '노벨': 10523, '경제학상': 10524, '격언': 10525, '장선': 10526, '가격결정': 10527, '이자율': 10528, '듀레이션': 10529, '할인채': 10530, '이표채': 10531, '복리채': 10532, '수익률곡선': 10533, '기초자산': 10534, '좌수': 10535, '펀드매니저': 10536, '일일이': 10537, '우야몬': 10538, '쎄리': 10539, '곰방': 10540, '것년': 10541, '쌔하': 10542, '하다못해': 10543, '발신': 10544, '원씨': 10545, '콜록콜록': 10546, '싸늘하다': 10547, '문구로': 10548, '하이테크': 10549, '몰두하다': 10550, '단연': 10551, '커넥션': 10552, '의거': 10553, '샤머니즘': 10554, '수지분': 10555, '상계관세': 10556, '마소': 10557, '산적': 10558, '국고': 10559, '월전': 10560, '관련성': 10561, '은총': 10562, '다음가다': 10563, '수천억': 10564, '아센': 10565, '진또': 10566, '터임': 10567, '마무주': 10568, '실낱': 10569, '기두': 10570, '금융자본': 10571, '디유': 10572, '좌송': 10573, '질서': 10574, '궁딩이': 10575, '다소니': 10576, '빅다이': 10577, '주접': 10578, '두현': 10579, '발라드': 10580, '넘올랏넹': 10581, '개자식': 10582, '아웃소싱': 10583, '읎따': 10584, '출연': 10585, '보편화': 10586, '밑도': 10587, '가연': 10588, '탎출': 10589, '어찌나': 10590, '초록색': 10591, '요조': 10592, '출입': 10593, '대통령관저': 10594, '쥐때': 10595, '나돌다': 10596, '트라우마': 10597, '될껄': 10598, '군사시설': 10599, '한일': 10600, '알곡': 10601, '거산': 10602, '손절안': 10603, '마려': 10604, '룰것': 10605, '깝깝': 10606, '플래티넘': 10607, '하장': 10608, '삼삼삼칠': 10609, '스노우': 10610, '빌어먹을': 10611, '초당': 10612, '악담': 10613, '뿅': 10614, '누굴탓해': 10615, '왓다갓다': 10616, 'ㅇㅓ': 10617, '꼬임': 10618, '썩': 10619, '본가': 10620, '집입': 10621, '눈썰미': 10622, '범주': 10623, '공채': 10624, '이머징마켓': 10625, '뎁스': 10626, '지칭': 10627, '엄밀하다': 10628, '호기롭': 10629, '무한대': 10630, '판치다': 10631, '주동': 10632, '장보고': 10633, '매원': 10634, '주원': 10635, '듣보다': 10636, '간위': 10637, '어머나': 10638, '명작': 10639, '문방구': 10640, '은데': 10641, '몸서리': 10642, '멈칫': 10643, '새해인사': 10644, '대항도': 10645, '밑장빼기': 10646, '멜론': 10647, '낳다': 10648, '아이콘': 10649, '활약': 10650, '허황': 10651, '청개구리': 10652, '출현': 10653, '데번': 10654, '죙일': 10655, '어케하': 10656, '파토': 10657, '듬허': 10658, '실로': 10659, '겨울잠': 10660, '웅크리다': 10661, '이지나': 10662, '토끼': 10663, '미라클': 10664, '쫄쫄오르': 10665, '빵치': 10666, '되돌아오다': 10667, '시공사': 10668, '노크': 10669, '물량늘리': 10670, 'ㄱㅅㄱㅅ': 10671, '감액날': 10672, '오가다': 10673, '역원': 10674, '희귀질환': 10675, '휭': 10676, '패임': 10677, '음주주': 10678, '만단': 10679, '올려버렷': 10680, '평탄': 10681, '팍치': 10682, '뭍': 10683, '캬악퉷곧': 10684, '뜷': 10685, '기전력': 10686, '봉인': 10687, '함더': 10688, '소나기': 10689, '쿵': 10690, '장재': 10691, '존버하': 10692, '장지수': 10693, '선물지수': 10694, '인법': 10695, '불합리': 10696, '대황': 10697, '인버스숏': 10698, '로스트': 10699, '숏쳐': 10700, '액면병합': 10701, '흐갔다': 10702, '존버탈게용': 10703, '넣어쥬세': 10704, '쇼티': 10705, '유후': 10706, '귀국': 10707, '믿엇군': 10708, '성아': 10709, '은색': 10710, '푸른색': 10711, '망햇데': 10712, '움잠': 10713, 'ㅁㅂ': 10714, '루미': 10715, '실리케이트': 10716, '기능기': 10717, '현저': 10718, '야외': 10719, '만족도': 10720, '고화질': 10721, '선명하다': 10722, '쫄지': 10723, '해전': 10724, '겨빠': 10725, '해커': 10726, '치안': 10727, '오디션': 10728, '한국말': 10729, '독학': 10730, '넥실리스': 10731, '나갈랭': 10732, '개이쉑기': 10733, '젠손절': 10734, '서클': 10735, '앨범차트': 10736, '켄드릭': 10737, '라마': 10738, '수선하다': 10739, '송인': 10740, '미사': 10741, '쯔위': 10742, '오리콘': 10743, '발매': 10744, '쿠거': 10745, '다이빙': 10746, 'ㅇㅅㄹ': 10747, '고심': 10748, '중흥': 10749, '나팔': 10750, '간드앗': 10751, '직감': 10752, '대남': 10753, '우습다': 10754, '지킴': 10755, '싸잡다': 10756, '찿을': 10757, '사졌넹': 10758, '뿌엥': 10759, '웡년': 10760, '차순': 10761, '나열하다': 10762, '판명': 10763, '존버할': 10764, '적립금': 10765, '내리꼽던': 10766, '거닌': 10767, '갈꺼닌깐': 10768, '물좀타': 10769, '숱': 10770, '아스라하다': 10771, '안갯속': 10772, '뿌옇다': 10773, '뚝방': 10774, '논밭': 10775, '쾌지나칭칭나네': 10776, 'ㅡㅡㅡㅡㅡㅡㅡㅡㅡㅡㅡㅡㅡㅡ': 10777, '다욕': 10778, '개짜슥들': 10779, '감상': 10780, '모래성': 10781, 'ㅂㄱ': 10782, '산전수전': 10783, '이희근': 10784, '듯비엠이': 10785, '상당수': 10786, '넷플호재': 10787, '이유나': 10788, '쇼저': 10789, '쉘': 10790, '일단쪼끔': 10791, '발빼': 10792, '화사': 10793, '감밋다': 10794, '안횡보': 10795, '토붕이': 10796, '말덩': 10797, '사하나': 10798, '더역함': 10799, '개콘': 10800, '여깄': 10801, '보원': 10802, '상을받앟다': 10803, '상말': 10804, '렿': 10805, '정곡': 10806, '붓물': 10807, '이정현': 10808, '케이엘': 10809, '보태': 10810, '래그': 10811, '떼돈': 10812, '널널': 10813, '엇을': 10814, '짜파게티': 10815, '욕좀': 10816, '때로는': 10817, '숨소리': 10818, '고독': 10819, '과언': 10820, '버실려': 10821, '낄낄': 10822, '해쥬': 10823, '송구': 10824, '물탸기': 10825, '분채': 10826, '분신': 10827, '시장님': 10828, '진행형': 10829, '경사': 10830, '너무쌔': 10831, '원화도': 10832, '졸이다': 10833, '서온': 10834, '신성만': 10835, '응가': 10836, '짬': 10837, '오함마': 10838, '눔': 10839, '아아리랑': 10840, '아리랑': 10841, '몰리나': 10842, '타협': 10843, '저장성': 10844, '스근하': 10845, '슈카테이버': 10846, '오만원': 10847, '기괴하다': 10848, '특이하다': 10849, '막론': 10850, '저쪽': 10851, '등차': 10852, '카운트다운': 10853, '증세': 10854, '쪼께': 10855, '욯': 10856, '애니': 10857, '광정': 10858, '필독': 10859, '음운': 10860, '리테': 10861, '트리플': 10862, '바텀': 10863, '으아아': 10864, '기함': 10865, '람보': 10866, '적중': 10867, '허무': 10868, '몬드': 10869, '강은지': 10870, '어트케': 10871, '히힛': 10872, '쌍벽': 10873, '어진': 10874, '번외': 10875, '부유': 10876, '윤병운': 10877, '수장': 10878, '우여곡절': 10879, '동훈': 10880, '어머': 10881, '혼탁': 10882, '텐데어느': 10883, '외종': 10884, '원악': 10885, '마임': 10886, '커튼': 10887, '삶다': 10888, '누기': 10889, '십오만': 10890, '반동': 10891, '고러취': 10892, '는지': 10893, '가필': 10894, '원츄': 10895, '양잿물': 10896, '치즈': 10897, '버터': 10898, '아이스크림': 10899, '농단': 10900, '빈국': 10901, '지국': 10902, '더움': 10903, '뉴진즈': 10904, '성주식': 10905, '골프': 10906, '작성자': 10907, '비저항': 10908, '공인': 10909, '적재적소': 10910, '광촉매': 10911, '자등': 10912, '폭넓다': 10913, '팍시': 10914, '주얼': 10915, '열씨': 10916, '애인': 10917, '통닭': 10918, '발쭉': 10919, '에게해': 10920, '방감': 10921, '실용': 10922, '돌진': 10923, '로또번호': 10924, '전복': 10925, '전파': 10926, '우연이': 10927, '범석': 10928, '스마': 10929, '않을꺄튼': 10930, '마무': 10931, '빼팅합시다쫄리': 10932, '진흙탕': 10933, '퍼넘는': 10934, '노사': 10935, '굿임': 10936, '갈래': 10937, '스턴': 10938, '액티언': 10939, '게이지': 10940, '난처하다': 10941, '가쥬앙': 10942, '날줄': 10943, '배드': 10944, '영업정지': 10945, '크아': 10946, '바하': 10947, '말실수': 10948, '밖애': 10949, '장안': 10950, '자리아': 10951, '풀북': 10952, '하류': 10953, '렸': 10954, '외우다': 10955, '촘촘하': 10956, '가조': 10957, '전멸': 10958, '주가펌핑': 10959, '허전하다': 10960, '노라조': 10961, '달리도': 10962, '소녀': 10963, '전시장': 10964, '카오스': 10965, '꿩': 10966, '도랑': 10967, '씨말': 10968, '한다인': 10969, '필승': 10970, '타마': 10971, '프리즘': 10972, '렌즈': 10973, '돌출': 10974, '폴디드줌': 10975, '레부리': 10976, '멧세라': 10977, '오랄': 10978, '점심식사': 10979, '델': 10980, '징글벨': 10981, '집회': 10982, '구구구구': 10983, '밖앤': 10984, '일파': 10985, '정박': 10986, '유튜버들': 10987, '땔려': 10988, '익절각': 10989, '햇다': 10990, '수저': 10991, '답보': 10992, '빠져랏': 10993, '건중': 10994, '시각장애': 10995, '악성종양': 10996, '골격': 10997, '개렌': 10998, '해답': 10999, '돌림노래': 11000, '캄솨': 11001, '영압': 11002, '시더': 11003, 'ㅇㄹㅈ': 11004, '루닛대표': 11005, '부들': 11006, '해직': 11007, '묵인': 11008, '와아': 11009, '오천': 11010, '국상': 11011, '비제': 11012, '붐일': 11013, '승해': 11014, 'ㅜㅜㅜㅜㅜㅜㅜ': 11015, '포지셔닝': 11016, '모델링': 11017, '부쿠레슈티': 11018, '방사성': 11019, '월성': 11020, '중수로': 11021, '방사성폐기물': 11022, '여타': 11023, '밖에도': 11024, '한영혜': 11025, '예정작': 11026, '불쌍': 11027, '겨쟁': 11028, '존버할걸': 11029, '까마귀': 11030, '암수': 11031, '도지사': 11032, '상준': 11033, '쫄딱': 11034, '극락': 11035, '엄써': 11036, '페스': 11037, '유니세프': 11038, '세이브': 11039, '줄라': 11040, '엽': 11041, '애통하다': 11042, '타당': 11043, '비공식': 11044, '미호': 11045, '장특': 11046, '물탓': 11047, '숏친다': 11048, '일언': 11049, '보네아': 11050, '잔당': 11051, '난장판': 11052, '촛불시위': 11053, '으딘교': 11054, '불범': 11055, '거북': 11056, '이임': 11057, '느릿느릿': 11058, '까오': 11059, '팁스터': 11060, '유니버스': 11061, '슈피겐': 11062, '왜삼': 11063, '핸폰': 11064, '고대로': 11065, '오천이': 11066, '도컨센하회': 11067, '루닛등': 11068, '잡아내다': 11069, '정가': 11070, '왜안': 11071, '뇌졸중': 11072, '나락장': 11073, '임걱정': 11074, '계승': 11075, '선대': 11076, '계지': 11077, '술사': 11078, '봉쥬르': 11079, '맘것': 11080, '청구권': 11081, '지언': 11082, '돈셈': 11083, '척악재': 11084, '다우': 11085, '선봉': 11086, '인애': 11087, '쵸상집': 11088, '데내': 11089, '흙더미': 11090, '쇠봉': 11091, '산산조각': 11092, '걸끝': 11093, '유리창': 11094, '돈나': 11095, '해감': 11096, '최손': 11097, '꼴등': 11098, '자자하다': 11099, '마함': 11100, '속절없다': 11101, '남원': 11102, '계세': 11103, '장영실': 11104, '경제적자유': 11105, '은시계': 11106, '깁다': 11107, '시방': 11108, '했는뎈': 11109, '송두리째': 11110, '다섯': 11111, '아곧': 11112, '유로': 11113, '베터': 11114, '하는겆': 11115, '어리숙하다': 11116, '끠': 11117, '조명하': 11118, '막중': 11119, '조아리다': 11120, '비앙카': 11121, '개미꼬셔': 11122, '쫌더': 11123, '추매간드': 11124, '버세요저': 11125, '불면증': 11126, '신경계': 11127, '리먼': 11128, '브러더스': 11129, '줄땨': 11130, '기다렷드': 11131, '랙형': 11132, '눈길': 11133, '경량': 11134, '와금뱡': 11135, '시급': 11136, '인석': 11137, '센티': 11138, '항의': 11139, '너비': 11140, '코스프레': 11141, '경직': 11142, '손절후': 11143, '나락폭': 11144, '만추': 11145, '그닥': 11146, '벌받을껀받': 11147, '고자': 11148, '왜사': 11149, '고스톱': 11150, '꿋꿋하다': 11151, '법조인': 11152, '짤렸': 11153, '무딩': 11154, '루팡': 11155, '쐉': 11156, '실세': 11157, '덯': 11158, '자택': 11159, '플로리다주': 11160, '팜비치': 11161, '몰아치다': 11162, 'ㅋㅋㅋㅋㅌㅌ': 11163, '계심': 11164, '쯔': 11165, '기에': 11166, '컴퍼스': 11167, '각도기': 11168, '싸매다': 11169, '타오르다': 11170, '팔근육': 11171, '이모티콘': 11172, 'ㄱㅐ': 11173, '리용': 11174, '로드': 11175, '콤': 11176, '기울다': 11177, '공습': 11178, '심보': 11179, '월월': 11180, '아른거리다': 11181, '몬데': 11182, '공가': 11183, '결코': 11184, '줄다리기': 11185, '대등하다': 11186, '벨트': 11187, '횐': 11188, '있나욤': 11189, '락일좀': 11190, '꽃길': 11191, '왜힘': 11192, '부총': 11193, '성실하다': 11194, '육': 11195, '좋겠슴': 11196, '작시': 11197, '딴딴하다': 11198, '좌지우지': 11199, '아차': 11200, '형기': 11201, '일원화': 11202, '쫄지마': 11203, '시엔': 11204, '굥웅섭': 11205, '굥통령': 11206, '댁': 11207, '안뜰': 11208, '신발': 11209, '깔창': 11210, '퇴진': 11211, 'ㅇㅈㄹ': 11212, '리쪽': 11213, '타파': 11214, '중개인': 11215, '단햐널': 11216, '다뻈다': 11217, '빗': 11218, '소일': 11219, '대통': 11220, '재판소': 11221, '길드': 11222, '꼬꼬': 11223, '니사': 11224, '못하겟': 11225, '때단': 11226, 'ㅇㅂㅎㅅㄲㅡㅡ': 11227, '칵테일': 11228, '네트워킹': 11229, '이기전': 11230, '초초': 11231, '홀딩매수': 11232, '가요제': 11233, '갑갑': 11234, '연회': 11235, '스캠주': 11236, '워터파크': 11237, '고부': 11238, '구형': 11239, '퍼때팔껄': 11240, '동동': 11241, '잠드소': 11242, '용신': 11243, '패볼': 11244, '아가서': 11245, '난발': 11246, '이골': 11247, '왘': 11248, '망상가': 11249, '해박': 11250, '줫문': 11251, '라모': 11252, '갠차다': 11253, '쿠데타': 11254, '정치이념': 11255, '츠암': 11256, '저촉': 11257, '합법': 11258, '중병': 11259, '도딱': 11260, '항거': 11261, '신입사원': 11262, '횡보한다': 11263, '불허': 11264, '다스': 11265, '머괞': 11266, '시베리아': 11267, '벌판': 11268, '안중근': 11269, '버틸렵니': 11270, '중신': 11271, '공상': 11272, '직결': 11273, '달걀': 11274, '퍼퍼': 11275, '억울': 11276, '십언': 11277, '군소': 11278, '얼매': 11279, '쑝': 11280, '현이': 11281, '후거': 11282, '래일': 11283, '과일': 11284, '수덕': 11285, '에훈': 11286, '인격': 11287, '공평하다': 11288, '불문': 11289, '불상': 11290, '법무부': 11291, '여객': 11292, '요사': 11293, '글자': 11294, '듭니다삶': 11295, '처절하다': 11296, '미고': 11297, '갈겻으': 11298, '서로서로': 11299, '갈': 11300, '배신자': 11301, '조팡맹': 11302, '나아쁜': 11303, '빠꼼이들': 11304, '인덱스펀드': 11305, '동진쎄미켐': 11306, '장깆보유': 11307, '키즈': 11308, '날아다니다': 11309, '달단': 11310, '자명하다': 11311, '서하면': 11312, '탓네': 11313, '쿼드데믹': 11314, '니드': 11315, '엠피': 11316, '산만': 11317, '전경련': 11318, '트리오': 11319, '궁금증': 11320, '타래': 11321, '실스크익절': 11322, '롱샹': 11323, '글섭': 11324, '짬밥': 11325, '육싶스': 11326, '단념하다': 11327, '존속': 11328, '수감자': 11329, '여비': 11330, '스피': 11331, '삿으': 11332, '직작': 11333, '킁킁': 11334, '버십쇼': 11335, '요량': 11336, '별수': 11337, '페지': 11338, '불보': 11339, '더밀': 11340, '손절눌리': 11341, '알맞다': 11342, '완저이': 11343, '비키니': 11344, '비행기표': 11345, '짐차': 11346, '철광석': 11347, '강관': 11348, '다뺴': 11349, '미해군': 11350, '숏충': 11351, '달린다': 11352, '광신도': 11353, '사옥': 11354, '맞춤법': 11355, '까지라도': 11356, '그럭저럭': 11357, '동료': 11358, '걸엇습니': 11359, '경남': 11360, '서기': 11361, '틴다': 11362, '고저': 11363, '봉투': 11364, '존버할거임': 11365, '바이두': 11366, '악어': 11367, '용광로': 11368, '가혹하다': 11369, '비우자': 11370, '주양자': 11371, '해자': 11372, '핵산': 11373, '콜레스테롤': 11374, '하제': 11375, '독립운동가': 11376, '보잉사': 11377, '워크아웃': 11378, '버젼': 11379, '다우지수': 11380, '뒷목잡다': 11381, '데빌': 11382, '십구만': 11383, '자슥들': 11384, '미제': 11385, '홀디이잉': 11386, '업성': 11387, '윤창': 11388, '개월년': 11389, '정도전': 11390, '고만하다': 11391, '면소': 11392, '일부인': 11393, '뉴꽝': 11394, '전무하다': 11395, '감언이설': 11396, '켘': 11397, '아포텍스': 11398, '아포': 11399, '텍스': 11400, '카비': 11401, '전인석': 11402, '핏': 11403, '쉐어': 11404, '링일': 11405, '뜨레기같': 11406, '움뭐': 11407, '진군': 11408, '적장': 11409, '선견지명': 11410, '먹혓': 11411, '체강': 11412, '특출나다': 11413, '대통령직': 11414, '박탈': 11415, '왼손': 11416, '오른손': 11417, '세시': 11418, '이배': 11419, '탑승객': 11420, '봐듀': 11421, '셧길': 11422, '트린후': 11423, '우럭': 11424, '진배': 11425, '천궄': 11426, '보수파': 11427, '그네': 11428, '계죄': 11429, '젛을까': 11430, '구합': 11431, '멕이려': 11432, '벼르': 11433, '생초': 11434, '몇퍼': 11435, '유기발광다이오드': 11436, '더보': 11437, '픈디': 11438, '빈사': 11439, '채금': 11440, '노무현정부': 11441, '케익': 11442, '일본인': 11443, '네이버뉴스': 11444, '구글검색': 11445, '엔지니어': 11446, '좀전': 11447, '하이퍼': 11448, '펩처음': 11449, '영남': 11450, '기득권': 11451, '탄압': 11452, '운동권': 11453, '호남': 11454, '균형발전': 11455, '미명': 11456, '성역': 11457, '쓴소리': 11458, '일배': 11459, '약자': 11460, '비커스': 11461, '요트': 11462, '침사추이': 11463, '하버': 11464, '참좋은여행': 11465, '모두투어': 11466, '어쩌란': 11467, '김수희': 11468, '치고받다': 11469, '주지맙시': 11470, '악재쪽': 11471, '로군요': 11472, '뭐징왜': 11473, '나랏돈': 11474, '질투': 11475, '중고차': 11476, '이긍': 11477, '로얄티': 11478, '덱쪽': 11479, '재빠르다': 11480, '하여금': 11481, '조정만': 11482, '목표량': 11483, '퍼뜨려': 11484, '분란': 11485, '인생게임': 11486, '반타': 11487, '찬무': 11488, '무고': 11489, '바친격': 11490, '공항폐쇄': 11491, '까만색': 11492, '만우절': 11493, '운수': 11494, '세스코': 11495, '타월': 11496, '그럼횡보': 11497, '서진아': 11498, '때끼': 11499, '택한걸': 11500, '바짓가랑이': 11501, '개추좀': 11502, '족보': 11503, '비극': 11504, '태클': 11505, '달려듭': 11506, '꿍꿍': 11507, '있는겐': 11508, '계옇사': 11509, '곻': 11510, '세분': 11511, '식자': 11512, '쿠킹': 11513, '장보기': 11514, '차등': 11515, '할딱이다': 11516, '처량하다': 11517, '나노미터': 11518, '모빌': 11519, '고라': 11520, '갯빛': 11521, '불가결': 11522, '넉': 11523, '스트림': 11524, '반환받다': 11525, '연이율': 11526, '태운': 11527, '경솔하다': 11528, '우앜': 11529, '하겄': 11530, '릴때호': 11531, 'ㅓㄱ': 11532, '오를때쬐굼': 11533, '공법': 11534, '짤꼬': 11535, '몸둥': 11536, '가요대전': 11537, '맙니': 11538, '산짐승': 11539, '기민하다': 11540, '결점': 11541, '나날이': 11542, '씌': 11543, '레보': 11544, '해조': 11545, '아누': 11546, '수근': 11547, '퀸덤': 11548, '올름': 11549, '또살': 11550, '삿대질': 11551, '엄지': 11552, '민데': 11553, '이성도': 11554, '왜그': 11555, '못범': 11556, '불록딜': 11557, '수괴': 11558, '아뇨': 11559, '냇물': 11560, '부산광역시': 11561, '에로': 11562, '쟈하하햐': 11563, '호효': 11564, '배럴': 11565, '마침표': 11566, '젬백스': 11567, '인성': 11568, '후성': 11569, '윽박': 11570, '애시': 11571, '가당': 11572, '동서남북': 11573, '바글바글': 11574, '화약고': 11575, '불꽃놀이': 11576, '유지비': 11577, '시갸': 11578, '떼쓰다': 11579, '기표': 11580, '폐쇄해': 11581, '삼척동자': 11582, '째지다': 11583, 'ㅋㄱ': 11584, '저떻': 11585, '십삼만오천이백원': 11586, '치실': 11587, '날껍': 11588, '로년': 11589, '진주': 11590, '히든': 11591, '챔피언': 11592, '이단옆차기': 11593, '갈라고': 11594, '종근당': 11595, '다이소': 11596, '얼척': 11597, '업황를': 11598, '알구': 11599, '웨': 11600, '돌멩이': 11601, '돌대가리': 11602, '뒤로': 11603, '똥물': 11604, '알겄다': 11605, '실사': 11606, '솔홀': 11607, '중증': 11608, '형득': 11609, '정체캐즘': 11610, '이연': 11611, '분지': 11612, '접착제': 11613, '컨테이너': 11614, '적재': 11615, '고객감동': 11616, '볼모': 11617, '입법부': 11618, '고자국': 11619, '간나': 11620, '에잉익절': 11621, '앵꼬': 11622, '하슈': 11623, '정매': 11624, 'ㅍ': 11625, '물량터진': 11626, '반수': 11627, '윽': 11628, '색전': 11629, '준걸': 11630, '줫던': 11631, '밀': 11632, '빛진': 11633, '지스타': 11634, '팬심': 11635, '중어': 11636, '건임': 11637, '땩': 11638, '띵하다': 11639, '만금': 11640, '에메랄드': 11641, '미디': 11642, '로이': 11643, '우리은행': 11644, '통지': 11645, '젬백': 11646, '자존': 11647, '무한도전': 11648, '마라도': 11649, '금붕어': 11650, '뒹그르르': 11651, '걸음걸이': 11652, '무가': 11653, '임번돈': 11654, '어따': 11655, '똘끼': 11656, '틔우다': 11657, '얌마': 11658, '컬처': 11659, '타임스스퀘어': 11660, '폐경': 11661, '골절': 11662, '글루코코르티코이드': 11663, '뇸': 11664, '메꿀때': 11665, '낌새': 11666, '원문': 11667, '가지가지': 11668, '드릴': 11669, '제노': 11670, '콜주': 11671, '러우': 11672, '존버갑시': 11673, '초조하다': 11674, '싹싹': 11675, '렐리': 11676, '전제': 11677, '뚤': 11678, '훌러네리': 11679, '서안': 11680, '홍어': 11681, '오낰': 11682, '안전띠': 11683, '꽈악': 11684, '장성': 11685, '평온': 11686, '워딩': 11687, '지드래곤': 11688, '선저': 11689, '항도': 11690, '꼬붕': 11691, '딩딩딩딩': 11692, '버여': 11693, '모씨': 11694, '단축': 11695, '코스모': 11696, '일후': 11697, '맛깔나다': 11698, '원자력청': 11699, '방사선': 11700, '괴드': 11701, '때팔': 11702, '상표권': 11703, '요관': 11704, '사흘': 11705, '원유': 11706, '번건': 11707, '타일러': 11708, '악년': 11709, '쏠땐': 11710, '롸끈이잖': 11711, '두프': 11712, '아으': 11713, '주제가': 11714, '골고루': 11715, '거른다': 11716, '나뿌진않앗자': 11717, '글차': 11718, '생색': 11719, '스텝업': 11720, '이의제기': 11721, '꽉꽉': 11722, '고상': 11723, '멍하니': 11724, '성기훈': 11725, '왤케많': 11726, '빠이빠': 11727, '때펌핑': 11728, '이안': 11729, '끽해야': 11730, '삼봉': 11731, '손빨': 11732, '스톡옵션': 11733, '북밸류': 11734, '영안': 11735, '디스커버리': 11736, '무의미': 11737, '치매': 11738, '아델': 11739, '과학자': 11740, '팔았늬프': 11741, '머트물': 11742, '증신': 11743, '도크': 11744, '숙련': 11745, '물량좀': 11746, 'ㄱㅓ': 11747, '짜이다': 11748, '송료': 11749, '고리': 11750, '루퍼': 11751, '기다렷는': 11752, '물량입니': 11753, '겁낼': 11754, '광경': 11755, '것이므': 11756, '쫓아내다': 11757, '안배': 11758, '넋': 11759, '재탕하다': 11760, '철학': 11761, '박진영': 11762, '뭐랬': 11763, '노초': 11764, '낼끼': 11765, '회계부정': 11766, '막연하다': 11767, '속삭임': 11768, '데님': 11769, '문걸': 11770, '주물럭거리다': 11771, '띠기': 11772, '줏': 11773, '요드': 11774, '어구': 11775, '듀랑고': 11776, '설레임': 11777, '노벨상': 11778, '연인': 11779, '포차': 11780, '내리꼿던': 11781, '버는법': 11782, '뺘길': 11783, '마른핏물': 11784, '의욕': 11785, '힌': 11786, '천안함': 11787, '국군': 11788, '바오': 11789, '난하다': 11790, '합처': 11791, '풍요': 11792, '산쿄': 11793, '테르': 11794, '가제': 11795, '몆억': 11796, '크나크다': 11797, '칠하다': 11798, '문구': 11799, 'ㅅㅅㅅㅅㅅㅅ': 11800, '하겠죵저': 11801, '이용수': 11802, '삿다나': 11803, '길바': 11804, '퍼밑': 11805, '낚엿다': 11806, '어째댓': 11807, '이타': 11808, '프로파간다': 11809, '간체': 11810, '천와드뎌': 11811, '방어선': 11812, '피뢰침': 11813, '마르': 11814, '유리보': 11815, '딜이였음': 11816, '스브스': 11817, '넷플빨': 11818, '빠졌느데': 11819, '사필귀정': 11820, '인과응보': 11821, '참물': 11822, '하브': 11823, '리튬이온': 11824, '식지': 11825, '무순': 11826, '괴한': 11827, '프래': 11828, '옆구리': 11829, '락슈마': 11830, '차관': 11831, '신물': 11832, '물놀이': 11833, '대자': 11834, '밀고': 11835, '뉘앙스': 11836, '도급': 11837, '서울역': 11838, '힐튼': 11839, '정치성향': 11840, '호적': 11841, '파내다': 11842, '비자': 11843, '적국': 11844, '추방': 11845, '아이즈': 11846, '지윤': 11847, '풀어지다': 11848, '코르스': 11849, '가라이': 11850, '중차': 11851, '생기지': 11852, '병들다': 11853, '이체': 11854, '돌연변이': 11855, '잔존': 11856, '슈퍼스타': 11857, '종기': 11858, '찍엇으': 11859, '신봉': 11860, '엎었': 11861, '예지': 11862, '이를테면': 11863, '뙇': 11864, '꼴임': 11865, '군불': 11866, '득도': 11867, '혐': 11868, '차피': 11869, '제군': 11870, '성년': 11871, '콧대': 11872, '또람프': 11873, '속병': 11874, '빋는': 11875, 'ㅡㅃㅏ': 11876, '숙의': 11877, '반듯이': 11878, '몰랏네': 11879, '대갈': 11880, '임왜': 11881, '로비': 11882, '개쩌넹일': 11883, '봣엇': 11884, '안됫': 11885, '뺏겻': 11886, '털렷': 11887, '아숩네': 11888, '노광': 11889, '벌벌': 11890, '뻗치다': 11891, '포트만': 11892, '직그': 11893, '사악하다': 11894, '했쥬': 11895, '유뭐': 11896, '유맘': 11897, '올랒줘': 11898, '목선': 11899, '털린': 11900, '하지시': 11901, '투자할빠': 11902, '직격탄': 11903, '워치': 11904, '인더스트리얼': 11905, '못난이': 11906, '살땐': 11907, '주드': 11908, '님하': 11909, '년내': 11910, '양회': 11911, '중정부': 11912, '고냥이': 11913, '증산': 11914, '오자': 11915, '예치': 11916, '퐈리': 11917, '분다': 11918, '어째꺼': 11919, '제욕': 11920, '누렁이': 11921, '입꾹': 11922, '걸곳': 11923, '대물': 11924, '대인': 11925, '하나같이': 11926, '또럼프': 11927, '직잡': 11928, '구치소': 11929, '구금': 11930, '뭉개놓': 11931, '고창': 11932, '으러': 11933, '양지': 11934, '물동량': 11935, '알고싶다': 11936, '이쇄끼': 11937, '텐데그': 11938, '썩을': 11939, '유관순': 11940, '오늘밤': 11941, '중소형주': 11942, '니미럴': 11943, '기술적분석': 11944, '변환': 11945, '중투': 11946, '왈가': 11947, '왈부': 11948, '굴릴려구': 11949, '것좀': 11950, '재좀': 11951, '식상하다': 11952, '전당': 11953, '기왕': 11954, '풀코': 11955, '달림': 11956, '햇내': 11957, '관도': 11958, '특수강': 11959, '밍밍': 11960, '쒯': 11961, '에브리데이': 11962, '팬덤': 11963, '박론': 11964, '코스피지수': 11965, '달라짐': 11966, '우울': 11967, '두어': 11968, '더워지다': 11969, '알러지': 11970, '딩콜마': 11971, '트러블': 11972, '매가리': 11973, '인마': 11974, '오게임': 11975, '등재': 11976, '상납': 11977, '입해': 11978, '양으로': 11979, '연체': 11980, '추풍낙엽': 11981, '티엔': 11982, '인즉': 11983, '이화여대': 11984, '괞찮네': 11985, '냠': 11986, '인쇄회로기판': 11987, '수박': 11988, '포코': 11989, '살돈': 11990, '굿모닝': 11991, '날자': 11992, '뿐떡': 11993, '개혁': 11994, '궤': 11995, '공표': 11996, '늦게떳다': 11997, '생시': 11998, '억지': 11999, '썸': 12000, '홀딩아': 12001, '홍보팀': 12002, '일경': 12003, '몲빵횽': 12004, '진진': 12005, '늠': 12006, '융통성': 12007, '범수': 12008, '장본인': 12009, '직빵': 12010, '지보면': 12011, '라리': 12012, 'ㅇㅅㅍㅌㅅㅅ': 12013, '없넹': 12014, '쵝오': 12015, '조안': 12016, '오아시스': 12017, '조예': 12018, '몸추': 12019, '오로라': 12020, '이여기': 12021, '돔황칠껄': 12022, '부호': 12023, '최선일': 12024, '칼빵': 12025, '마려워용': 12026, '곳말': 12027, '어정쩡하다': 12028, '은비': 12029, '현모': 12030, '질임': 12031, '퍼워': 12032, '풍기': 12033, '짝산': 12034, '여하나': 12035, '했넹': 12036, '뽀뽀': 12037, '작물': 12038, '건축물': 12039, '인민재판': 12040, '붕떠': 12041, '덤비다': 12042, '백배': 12043, '호날두': 12044, '농구': 12045, '조던': 12046, '출중하다': 12047, '회원': 12048, '수금': 12049, '윤썩열': 12050, '총독부': 12051, '님돈쩔드': 12052, 'ㅇㄷㄹ': 12053, '겧': 12054, '텻': 12055, '문턱': 12056, '시급하다': 12057, '만사': 12058, '저렴': 12059, '함빡': 12060, '누르기': 12061, '질도': 12062, '조온나': 12063, '스래기같': 12064, '엠년': 12065, '위도': 12066, '컴팩트': 12067, '용이하다': 12068, '실버': 12069, '실존': 12070, '퍈': 12071, '동녘': 12072, '정반대': 12073, '태엽': 12074, '테엽': 12075, '데이타': 12076, '퍼얼랏는데': 12077, '곸': 12078, '상벌': 12079, '깃발': 12080, '러우전쟁': 12081, 'ㅋㅋㅋㅋㅋㅋㅋㅋㅋㅋㅋㅋㅋㅋㅋㅋㅋㅋㅋㅋㅋㅋㅋ': 12082, '고목': 12083, '점화': 12084, '가뭄': 12085, '업로드': 12086, '열람': 12087, '등사': 12088, '열렷으': 12089, '핑곗': 12090, '진차': 12091, '조선인': 12092, '부패': 12093, '이십여': 12094, '얼치기': 12095, '분별': 12096, '좀비': 12097, '발달': 12098, '당호': 12099, '황송': 12100, '비걸': 12101, '완장': 12102, '문의': 12103, '애완': 12104, 'ㄹㅇㅋㅋ': 12105, '교통사고': 12106, '발송': 12107, '부족함': 12108, '못뚷': 12109, '왜널': 12110, '짱구': 12111, '비상계엄': 12112, '시간표': 12113, '몇달': 12114, '스킨': 12115, '부락': 12116, '늪지': 12117, '이쫘이밍': 12118, '청문회': 12119, '딴지': 12120, '필아': 12121, '도울': 12122, '수면제': 12123, '한반도': 12124, '군부독재': 12125, '쥐약': 12126, '해대': 12127, '일돈': 12128, '자그마치': 12129, '턴듯': 12130, '만난': 12131, '매끄럽다': 12132, '비량': 12133, '한국전력': 12134, '도시가스': 12135, '로나': 12136, '이이이': 12137, '언나': 12138, '유욱츠응': 12139, '음바': 12140, '익절해': 12141, '존버합니당': 12142, '두근': 12143, '맟추고잏': 12144, '잘해야': 12145, '겧습니': 12146, '자라나다': 12147, '해너': 12148, '요엘': 12149, '헤어지자': 12150, '피트니스': 12151, '호응': 12152, '본토': 12153, '코베': 12154, '쩌구': 12155, '삼만': 12156, '요말': 12157, '점짐': 12158, '어미': 12159, '슬쩍슬쩍': 12160, '헨젤': 12161, '그레텔': 12162, '고참': 12163, '재거': 12164, '들쑥날쑥': 12165, '우씨': 12166, '샀르': 12167, '잘못삿': 12168, '퍼정': 12169, '패기': 12170, '다듬다': 12171, '장팔': 12172, '모으렵니': 12173, '지평': 12174, '한눈팔다': 12175, '궈애': 12176, '낼때': 12177, '아버님': 12178, '이십만원': 12179, '크롬': 12180, '시크릿': 12181, '노트북': 12182, '햄버거': 12183, '자괴': 12184, '좇는': 12185, '귀감': 12186, '호불호': 12187, '점주': 12188, '갑질': 12189, '늑대': 12190, '찍자잉': 12191, '줏어줏어': 12192, '줏하': 12193, '니넨': 12194, '어줏어줏': 12195, '푸푸': 12196, '되삣': 12197, '겸허': 12198, '불찰': 12199, '땡려쳥': 12200, '넥신': 12201, '화인': 12202, '품절남': 12203, '핏줄': 12204, '혈통': 12205, '마르크스': 12206, '친환': 12207, '경차': 12208, '백악관': 12209, '매파': 12210, '주춤주춤': 12211, '파죽지세': 12212, '소박': 12213, '다트': 12214, '감감': 12215, '무소식': 12216, '적정하다': 12217, '점처': 12218, '키노트': 12219, '중국사람': 12220, '빤짝': 12221, '겄다버리': 12222, '독불장군': 12223, '독단': 12224, '걔': 12225, '기관사': 12226, '슬기롭다': 12227, '정열': 12228, '치의': 12229, '여유도': 12230, '차손': 12231, 'ㅎㅎㅎㅎㅎㅎㅎ': 12232, '수업료': 12233, '빠따좀': 12234, '몸빵좀': 12235, '때우다': 12236, '알빠': 12237, '또슬': 12238, '앵벌이': 12239, '편차': 12240, '년은갱녕기같': 12241, '오백만': 12242, '텼': 12243, '분경': 12244, '고어': 12245, '복행': 12246, '도기': 12247, '생법': 12248, '흡': 12249, '테두리': 12250, '미나': 12251, '가렌': 12252, '후일': 12253, '탈지': 12254, '템보': 12255, '버크셔': 12256, '박하': 12257, '쿨하다': 12258, '효자손': 12259, '오만칠천': 12260, '개떡락': 12261, '밭': 12262, '양치질': 12263, '물렷는데': 12264, '엘베': 12265, '퉤결국': 12266, '박창근': 12267, '관동대': 12268, '설문': 12269, '공행': 12270, '짜임': 12271, '장완': 12272, '밈': 12273, '산소': 12274, '불합격': 12275, '분명해지다': 12276, '인도차이나': 12277, '항사': 12278, '핫핫': 12279, '사하': 12280, '정렬': 12281, '순서': 12282, '반품': 12283, '까다롭다': 12284, '수소차': 12285, '그러기에': 12286, '예언자': 12287, '만삼천원': 12288, '출타': 12289, '저격': 12290, '개쩌': 12291, '안구': 12292, '격리': 12293, '화학식': 12294, '왕성': 12295, '더살껄': 12296, '묶인': 12297, '어덯': 12298, '거늘': 12299, '미니': 12300, '기업펀데멘턴': 12301, '돈버는데': 12302, '외적': 12303, '약진': 12304, '에리': 12305, '찿아야': 12306, '잘잘못': 12307, '과매': 12308, '구음': 12309, '완체': 12310, '펩쪽이': 12311, '팔랑거리다': 12312, '신경질': 12313, '께선': 12314, '웅장': 12315, '심쿵': 12316, '장주시': 12317, '물량없다': 12318, '끝낫': 12319, '죠스': 12320, '토벽': 12321, '불매': 12322, '항공도': 12323, '친것': 12324, '여주': 12325, '독주': 12326, '앙앙': 12327, '찡': 12328, '찡얼거리다': 12329, '피값': 12330, '공개시장': 12331, '정례': 12332, '천명': 12333, '빅사': 12334, '램버스': 12335, '육군': 12336, '양자암호': 12337, '와이파이': 12338, '라우터': 12339, '있을껀뎅': 12340, '징존': 12341, '겨루다': 12342, '분뒤': 12343, '동기부여': 12344, '지워지다': 12345, '물렷어': 12346, '돈독': 12347, '벌었겄다': 12348, '솔솔': 12349, '탈춤': 12350, '빅엿을주': 12351, '세배': 12352, '멸망': 12353, '홧팅합시': 12354, '머머': 12355, '졓': 12356, '철자': 12357, '미워하다': 12358, '난층': 12359, '먹고살다': 12360, '방북후': 12361, '달남짓': 12362, '쌈짓돈': 12363, '나약하다': 12364, '뽀록': 12365, '쉽사리': 12366, '주요한': 12367, '분출': 12368, '임해': 12369, '한다윗': 12370, '사드': 12371, '교물': 12372, '아이참': 12373, '금감위': 12374, '펑단': 12375, '유난히': 12376, '송파': 12377, '파크': 12378, '로빈후드': 12379, '외풍': 12380, '체점': 12381, '섭씨': 12382, '엄': 12383, '못함쩜': 12384, '사리다': 12385, '시내버스': 12386, '사용제한': 12387, '아담': 12388, '출연료': 12389, '아지': 12390, '상장도': 12391, '특사': 12392, '개빡센': 12393, '박지원': 12394, '세븐': 12395, '승관': 12396, '븨내': 12397, '난가': 12398, '나한탠': 12399, '엄따': 12400, '대개': 12401, '어이할꼬': 12402, '와장창': 12403, '유통물량': 12404, '이신가': 12405, 'ㅌㅋㅋㅋㅋㅋ': 12406, '뿌러': 12407, '기뷴': 12408, '쓸쓸': 12409, '당위': 12410, '독식': 12411, '이해도': 12412, '줬늨데넌당췌': 12413, '개지': 12414, '홍준표': 12415, '년기': 12416, 'ㄹㅔ': 12417, '매집량': 12418, '그라프': 12419, '상범': 12420, '버벅': 12421, '치아': 12422, '쩌네더': 12423, '끓이다': 12424, '스킬': 12425, '오딘': 12426, '동화': 12427, '엔비디어': 12428, '유근': 12429, '유아': 12430, '존바': 12431, '부양시': 12432, '못혀': 12433, '태그': 12434, '셧습': 12435, 'ㄹㅇㄴ': 12436, '시험대': 12437, '병호': 12438, '톨파': 12439, '음좀': 12440, '하녀': 12441, '랜덤': 12442, '짐승': 12443, '하직': 12444, '유감': 12445, '프로필렌': 12446, '다이렉트': 12447, '해외진출': 12448, '두드러기': 12449, '비적': 12450, '다시키': 12451, '퇴각': 12452, '샤워': 12453, '대미지': 12454, '줄알': 12455, '통법': 12456, '적막하다': 12457, '앤트로픽': 12458, '가우디': 12459, '스케일링': 12460, '낼껍': 12461, '정익': 12462, '제작사': 12463, '말레이시아': 12464, '헬리콥터': 12465, '데단': 12466, '떠나오다': 12467, '경건하다': 12468, '유밑': 12469, '나부랭이': 12470, '끼들': 12471, '넝': 12472, '스코어': 12473, '싱당히': 12474, '스탠': 12475, '우대금리': 12476, '투한': 12477, '샌드위치': 12478, '맹글었어': 12479, '팬티': 12480, '걸왜': 12481, '쪼르르': 12482, '고영상': 12483, '편집': 12484, '처인구': 12485, '원삼면': 12486, '년차때': 12487, '성률': 12488, '후시': 12489, '괌': 12490, '사이판': 12491, '턴거': 12492, '임현재': 12493, '차바': 12494, '혈액암': 12495, '반려견': 12496, '비퍼': 12497, '릴레이': 12498, '올핸': 12499, '함월일': 12500, '투시': 12501, '반찬': 12502, '낯': 12503, '환가': 12504, '신앙': 12505, '유통업체': 12506, '강화도': 12507, '슈만': 12508, '돌라': 12509, 'ㅠㅋㅋㅋ': 12510, '채취': 12511, '수송': 12512, 'ㅊㅋ': 12513, '등반': 12514, '수욜': 12515, '손데': 12516, '커니': 12517, '라이센스': 12518, '크립': 12519, '이미르': 12520, '이상인': 12521, '손하': 12522, '편협': 12523, '대변': 12524, '통용': 12525, '이현재': 12526, '분노하다': 12527, '물약': 12528, '정전': 12529, '압살': 12530, '샹': 12531, '유기농': 12532, '시들시들하다': 12533, '주누': 12534, '박정원': 12535, '동질감': 12536, '갈애': 12537, '충만': 12538, '사네이': 12539, '시네마': 12540, '바프': 12541, '징놈': 12542, '줄뭘': 12543, '개잡코': 12544, '양산도': 12545, '개그': 12546, '미취': 12547, '최대원': 12548, '주의보': 12549, '발령': 12550, '라오': 12551, '원데이': 12552, '우적': 12553, '즙': 12554, '쥐띠': 12555, '재복': 12556, '등땀': 12557, '검': 12558, '첨예하다': 12559, '치유': 12560, '박약': 12561, '나락갔던': 12562, '나레이션': 12563, '물량팔': 12564, '리바운드': 12565, '구자열': 12566, '손절침': 12567, '날그': 12568, '성신': 12569, '야광': 12570, '메꿀': 12571, '쥰내웃겨': 12572, '평행이론': 12573, '곰돌이': 12574, '번듯': 12575, '계약해지': 12576, '빗발': 12577, '빠떼리': 12578, 'ㄱㅅㄲ': 12579, '프제': 12580, '수석': 12581, '데려오다': 12582, '판매완': 12583, '퍼내다': 12584, '튀넹': 12585, '헬조센': 12586, '떳떳하다': 12587, '멸시': 12588, '하우스': 12589, '타짜': 12590, '발버퉁': 12591, '일년': 12592, '나요': 12593, '으흐': 12594, 'ㅋㅋㅋㄱ': 12595, '흐규': 12596, '하물며': 12597, '런웨이': 12598, '너랑엮': 12599, '몆달전': 12600, '그립다': 12601, '분단': 12602, '샅': 12603, '널렸다': 12604, '정주영': 12605, '이병철': 12606, '오런거': 12607, '깨숑님': 12608, '임제': 12609, '고등': 12610, '따숩': 12611, '인보': 12612, '신들': 12613, '만족스럽다': 12614, '넣어놧으': 12615, '궁굼해': 12616, '어드밴스드': 12617, '휨': 12618, '산내': 12619, '매치': 12620, '뱃값': 12621, '꼬셔놓': 12622, '외주': 12623, '스팸': 12624, '살금살금': 12625, '식비': 12626, '것도': 12627, '회이팅': 12628, 'ㅂㄹ': 12629, '준표': 12630, '사돈': 12631, '촌': 12632, '귀가': 12633, '용선': 12634, '엔간하다': 12635, '일순간': 12636, '파이다': 12637, '빱': 12638, '타이': 12639, '트계': 12640, '폭발력': 12641, '임팩트': 12642, '듭니다이': 12643, '련된': 12644, '전기저항': 12645, '마이스너': 12646, '불러일으키다': 12647, '반자성': 12648, '자기장': 12649, '백서': 12650, '하의': 12651, '건문제': 12652, '물탈걸': 12653, '니놈': 12654, '궁굼합니': 12655, '얼추': 12656, '낫질': 12657, '선근': 12658, 'ㄱㅈㅇㄱㅈㅇ': 12659, '퉥': 12660, '땟': 12661, '어웅': 12662, '무얼': 12663, '될런': 12664, 'ㅋㅋㅋㅋㅋㅎㅎ': 12665, '안다잉': 12666, '단석산': 12667, '바이오디젤': 12668, '들것': 12669, '전략슈드': 12670, '커버드콜슈드': 12671, '하루살이': 12672, '게엄령': 12673, '가이거': 12674, 'ㄴㅏ': 12675, '하지맙시': 12676, '멘붕': 12677, '발광': 12678, '본부장': 12679, '조우리': 12680, '없쥬': 12681, '똑': 12682, '찰때': 12683, '인쟈': 12684, '어케타': 12685, '아구': 12686, '그렁': 12687, '잠들다': 12688, '눙물': 12689, '로남불': 12690, '대표자': 12691, '패거리': 12692, 'ㅋㅋㅋㅋㅋㅋㅋㅋㅋㅋㅋㅋㅋㅋㅋㅋㅋㅋ': 12693, '봄왓': 12694, '졸올랏': 12695, '량이왜케': 12696, '시간대': 12697, '치졸하다': 12698, '슛팅': 12699, 'ㅇㅣ': 12700, '인감': 12701, '해오': 12702, '미끼': 12703, '쥽쥽': 12704, '버셨나': 12705, '소수만': 12706, '문과': 12707, '더쌤': 12708, '낙엽': 12709, '덢곧': 12710, '알약': 12711, '홋카이도': 12712, '에어포트': 12713, '수하물': 12714, '저비용항공사': 12715, '애기야': 12716, '볼걸': 12717, '날이갈수록': 12718, '명줄': 12719, '뜷기': 12720, '은가': 12721, '대척점': 12722, '함상기': 12723, '도부': 12724, '쫄면': 12725, '난감하다': 12726, '피존': 12727, '이버지': 12728, '치조': 12729, '쌈쪽': 12730, '우문': 12731, '얼핏': 12732, '어늘': 12733, '퍼네': 12734, '투스뉴': 12735, '중견': 12736, '멧': 12737, '꼬투리': 12738, '서기대': 12739, '찌릿찌릿하다': 12740, '총살': 12741, '김어준': 12742, '뇌란': 12743, '부연': 12744, '월화': 12745, '죽겄다': 12746, '전현재': 12747, '기흥': 12748, '본진': 12749, '천안': 12750, '전열': 12751, '쫄릴': 12752, '웹젠': 12753, '소드': 12754, '턴제': 12755, '도굴': 12756, '아크엔젤': 12757, '개운하다': 12758, '군입대': 12759, '홉': 12760, '신곡': 12761, '완전체': 12762, '도읍': 12763, '만수무강': 12764, '불거지다': 12765, '개킹': 12766, '셧으': 12767, '감솨': 12768, '괜시리': 12769, '휏불': 12770, '앖넹': 12771, '서번': 12772, '함수': 12773, '김치냉장고': 12774, '김냉': 12775, '짱개': 12776, '도우': 12777, '커브': 12778, '드콜': 12779, '드갈라': 12780, '미쳣다': 12781, '남아도': 12782, '중추': 12783, '니엄': 12784, '고거': 12785, '개수': 12786, '심술': 12787, '존버한다': 12788, '오구': 12789, '알즤': 12790, '신데렐라': 12791, '배찌': 12792, '사칭': 12793, '마로': 12794, '바이트': 12795, '댄스': 12796, '신경망': 12797, '닥치다': 12798, '준가': 12799, '리진': 12800, '조삼모사': 12801, '질결': 12802, '낚': 12803, '월욜시작': 12804, '천안문': 12805, '산후조리원': 12806, 'ㅠㅠㅠㅠㅠㅠㅠㅠㅠㅠㅠㅠ': 12807, '도라에몽': 12808, '본드걸': 12809, '해유': 12810, '드가요껄': 12811, '되세욧퍼': 12812, '디도': 12813, '산석': 12814, '트럼뿌': 12815, '액면가': 12816, '알뜰하다': 12817, '생전': 12818, '나얼': 12819, '너란': 12820, '퍼씩': 12821, '요란': 12822, '유령': 12823, '엇갈리다': 12824, '간도': 12825, '짐퀸텀': 12826, '분초': 12827, '토마토': 12828, '스글': 12829, '취재': 12830, '조루': 12831, '텐트': 12832, '게임개발': 12833, '솔향': 12834, '습니다': 12835, '는커녕': 12836, '죱': 12837, '유네스코': 12838, '단도': 12839, '교대': 12840, '돈더': 12841, '전극': 12842, '성숙': 12843, '군함': 12844, '반말': 12845, '웨어': 12846, '글로버': 12847, '어떨': 12848, '건전하다': 12849, '가두': 12850, '우하하': 12851, '머리카락': 12852, '빡빡': 12853, '슴부처핸': 12854, '국내선': 12855, '남조선': 12856, '개쫄았는데': 12857, '엔피': 12858, '믿을껀': 12859, '할리': 12860, '탈때': 12861, '마르고': 12862, '하소연': 12863, '성투': 12864, '발끝': 12865, '대구': 12866, '완죤': 12867, '안절': 12868, '부절': 12869, '때왜': 12870, '못턴물량': 12871, '물량털': 12872, '제약회사': 12873, '단군': 12874, '노보': 12875, '서방': 12876, '우월': 12877, '초음파': 12878, '분무': 12879, '루피': 12880, '유추': 12881, '심혈관계': 12882, '만능': 12883, '좋은딩': 12884, '사팔사팔이': 12885, '아웅': 12886, '해인': 12887, '듯또': 12888, '지팡': 12889, '추스리느': 12890, '추첨': 12891, '젠슨황탓': 12892, '오경': 12893, '라던가': 12894, '패보': 12895, '뒤죽박죽': 12896, '꿀잠': 12897, '버시구': 12898, '안떳': 12899, '원만하다': 12900, '쩝쩝': 12901, '돌풍': 12902, '종각': 12903, '체포영장': 12904, '겨울방학': 12905, '봄끗': 12906, '쾰컴': 12907, 'ㅡㅡㅡㅡㅡㅡㅡㅡㅡㅡㅡㅡㅡㅡㅡㅡㅡ': 12908, '전판': 12909, '리게팅사': 12910, '국내정세': 12911, '불평': 12912, '주란': 12913, '와이지': 12914, '제르': 12915, 'ㄸ': 12916, '호서': 12917, '살포시': 12918, '두통': 12919, '애혀': 12920, 'ㄱㅔ': 12921, '이습': 12922, '커넥트': 12923, '건립': 12924, '북구': 12925, '아울렛': 12926, '나또': 12927, '산거얌': 12928, '뜻대로': 12929, '이쌔귀': 12930, '죽방': 12931, '쌔리고싶': 12932, '제다': 12933, '잘빠지다': 12934, '환멸': 12935, '안늦엇어': 12936, '날아오다': 12937, '장판': 12938, '거유': 12939, '쩜상쩜상': 12940, '익수': 12941, '마렵네': 12942, '부터라도': 12943, '빨갱': 12944, 'ㅋㅋㅋㅋㅋㅋㅋㅋㅋㅋㅋㅋㅋㅋㅋㅋㅋㅋㅋㅋㅋㅋ': 12945, '왤케맘에들': 12946, '그려지다': 12947, '부화': 12948, '신파': 12949, '꼬시는거': 12950, '븅신들': 12951, '나가노': 12952, '거수': 12953, '가두리': 12954, 'ㅜㅡ': 12955, '갔슈그': 12956, '나주고': 12957, '트림': 12958, '흥정': 12959, '소매업': 12960, '용년': 12961, '가불': 12962, '존버일까': 12963, '풍파': 12964, '인싸력': 12965, '곪': 12966, '감금': 12967, '얘내': 12968, '나라정보': 12969, '위태': 12970, '나잇': 12971, '을지': 12972, '강화복': 12973, '착용': 12974, '경보병': 12975, '동영상': 12976, '묘사': 12977, '허약하다': 12978, '밀집': 12979, '원거리': 12980, '프로토스': 12981, '광전사': 12982, '용기병': 12983, '저그': 12984, '히드라': 12985, '저글링': 12986, '코소': 12987, '햇음': 12988, '관리종목': 12989, '이두': 12990, '마비노기': 12991, '것송하준': 12992, '비엠땜': 12993, '득실': 12994, '빠트렸던': 12995, '퀸텀': 12996, '퍼오거': 12997, '뇨자': 12998, '뒷돈': 12999, '월마트': 13000, '읍노': 13001, '먆은돈': 13002, '질의': 13003, '꼿을거면': 13004, '청렴': 13005, '일꾼': 13006, '본명': 13007, '박혜민': 13008, '유튜버입니': 13009, '런칭하': 13010, '창의': 13011, '히믈내': 13012, '중환자실': 13013, '눕다': 13014, '뿌수': 13015, '터보': 13016, '했슴다': 13017, '울고불고': 13018, '호기심': 13019, '흥분': 13020, '하이센스': 13021, '펜데믹': 13022, '손주': 13023, '며느리': 13024, '식민': 13025, '청춘': 13026, '비위': 13027, '후천': 13028, '살랑살랑': 13029, '앞집': 13030, '똥개': 13031, '악취': 13032, '액정': 13033, '콧속': 13034, '유튜부': 13035, '지식인': 13036, '흉내내': 13037, '논걸': 13038, '공화국': 13039, '파릇파릇하다': 13040, '뭐건': 13041, '미샬': 13042, '보도자료': 13043, '세이프': 13044, '스카이라인': 13045, '지물': 13046, '수시': 13047, '어쩌란말': 13048, '맘씨': 13049, '가내': 13050, '마구잡이': 13051, '빡통': 13052, '적군': 13053, '마렵게글': 13054, '국평오': 13055, '퍼수익': 13056, '치맥': 13057, '달아욤': 13058, '삼도': 13059, '더벨': 13060, '생태': 13061, '팔이': 13062, '이거쫌': 13063, '따따블': 13064, '퍼렁이': 13065, '안땐': 13066, '기울어지다': 13067, '꼿': 13068, '홧김': 13069, '사이클링': 13070, '병폐': 13071, '나우': 13072, '김용범': 13073, '었': 13074, '띠용': 13075, '퍼근데': 13076, '해분': 13077, '치익치익': 13078, '엑시노스': 13079, '생동감': 13080, '유선': 13081, '고급스럽다': 13082, '대웅': 13083, '치구': 13084, '돛나': 13085, '힌국': 13086, '나쁜사람': 13087, '식물': 13088, '객단': 13089, 'ㅂㅅㅎ': 13090, '껄쩍대': 13091, '냉큼': 13092, '퍼여': 13093, '초컷': 13094, '앰': 13095, '폭스': 13096, '겡': 13097, '가겠슴다': 13098, '선례': 13099, '코호': 13100, '국부': 13101, '솟구치다': 13102, '오픈런때': 13103, 'ㅡㅋ': 13104, '넘버': 13105, 'ㅂㅏㄴ': 13106, '코닥': 13107, '기린': 13108, '본다뇽': 13109, '잇속': 13110, '위엔': 13111, '재도입': 13112, '런처': 13113, '바로바로': 13114, '인캐빈': 13115, '심박수': 13116, '부주의하다': 13117, '표지판': 13118, '살빠': 13119, '교촌': 13120, '에어포스': 13121, '또속': 13122, '봇주': 13123, '퍼때': 13124, '벌맛': 13125, '쫄앗군': 13126, '무브': 13127, '마이코': 13128, '대원': 13129, '이제껏': 13130, '스쳐보다': 13131, '셀제': 13132, '수산화': 13133, '퇴마': 13134, '그라드': 13135, '쓰루풋': 13136, '묵묵': 13137, '무답': 13138, '다생': 13139, '포스터': 13140, '숟가락': 13141, '이천만원': 13142, '탓음': 13143, '자력': 13144, '차일': 13145, '철철': 13146, '눈글럿': 13147, '천됏다': 13148, '새빗켐': 13149, '그깟': 13150, '밀치다': 13151, '아중': 13152, '천사백만': 13153, '북도': 13154, '블랙홀': 13155, '근삿값': 13156, '딸라': 13157, '헤숄': 13158, '도륙': 13159, '징혀': 13160, '자살골': 13161, '지하차도': 13162, '해병대': 13163, '수색': 13164, '강남역': 13165, '무관심하다': 13166, '해쉬태그': 13167, '결부': 13168, '빵터지다': 13169, '헤이헤이': 13170, 'ㅅㄱㅅㄱ': 13171, '브렁': 13172, '뻘짓이젠': 13173, '활황': 13174, '로그': 13175, '랏습': 13176, '다실': 13177, '과음': 13178, '믿음직하다': 13179, '옥션': 13180, 'ㅌㅌ': 13181, '류씨': 13182, '방지책': 13183, '욱해': 13184, '콱마': 13185, '니모': 13186, 'ㄹㅂ': 13187, '거스': 13188, '재개발': 13189, '조각가': 13190, '조경': 13191, '앙이다': 13192, '조각품': 13193, '황금마차': 13194, '형상': 13195, '워터': 13196, '테라스': 13197, '인피니티': 13198, '리버': 13199, '라운지': 13200, '힐링': 13201, '크리스탈': 13202, '산책로': 13203, '에스컬레이터': 13204, '어우러지다': 13205, '고품격': 13206, '팔로워': 13207, '이다지': 13208, '한랭전선': 13209, '해봣자': 13210, '행투행투': 13211, '가좡': 13212, '고맙슴돠': 13213, '영웅호걸': 13214, '파국': 13215, '보련': 13216, '횟팅': 13217, '성공사례': 13218, '유매': 13219, '하나마이크론': 13220, '놀이기구': 13221, '체전': 13222, '허망': 13223, '염언히': 13224, '활개': 13225, '기보': 13226, '극명하다': 13227, '독립운동': 13228, '복은': 13229, '부활동': 13230, '물논': 13231, '캬캬': 13232, '엄두': 13233, '결른': 13234, '습니': 13235, '빛깔': 13236, '뭐볼때': 13237, '사선': 13238, '명소': 13239, '몸집': 13240, '이우선': 13241, '스카이팀': 13242, '회정': 13243, '방한': 13244, '오만하다': 13245, '비엠보': 13246, '미꾸라지': 13247, '은반': 13248, '빅바': 13249, '솔임': 13250, '버즈': 13251, '무벡': 13252, '영영': 13253, '야드': 13254, '에주을껄': 13255, '신중': 13256, '세습': 13257, '안당': 13258, '힘빨': 13259, '피빨': 13260, '삼천만원': 13261, '개빨림': 13262, 'ㅋㅋㄱ': 13263, '킬낫': 13264, '북항': 13265, '웁니': 13266, '개똥글좀': 13267, '렁': 13268, '뱅이': 13269, '홀딩합니': 13270, '금융시장': 13271, '젠슨형': 13272, '족속': 13273, '님드': 13274, '던붕': 13275, '안넘': 13276, '릉언릉': 13277, '칠십': 13278, '절대영도': 13279, '시름': 13280, '활공': 13281, '재테크': 13282, '허수': 13283, '버넌스': 13284, '에투': 13285, '떄': 13286, '허리띠': 13287, '횡사': 13288, '히죽': 13289, '엄벌': 13290, '이랑은': 13291, '이명박정부': 13292, '이착륙': 13293, '전라남도의회': 13294, '퍼오르': 13295, '고연': 13296, '인의': 13297, '많넹': 13298, '한자리': 13299, '현금퍼': 13300, '손절손절': 13301, '싸구려': 13302, '거르세': 13303, '노므시키들': 13304, '무쇼': 13305, '대포동': 13306, '대포': 13307, '동호': 13308, '헌제': 13309, '군괜차나': 13310, '배배': 13311, '정표': 13312, '왕놀음': 13313, '글쎄': 13314, '젊은이': 13315, '중년': 13316, '암모니아': 13317, '승부사': 13318, '삼중고': 13319, '구렁이': 13320, '쌈빡하다': 13321, '특가세일할때': 13322, '급체': 13323, '이데일리': 13324, '백대': 13325, '건방': 13326, '일등': 13327, '작별': 13328, '솓': 13329, '구치': 13330, '입질': 13331, '번지': 13332, '아하하': 13333, '깨우치다': 13334, '명일': 13335, '하안': 13336, '긴햇': 13337, '와써여퍼': 13338, '세팅': 13339, '금웅': 13340, '꽉쥐': 13341, '안동': 13342, '들뜨다': 13343, '월남': 13344, '귀항': 13345, '태세': 13346, '분오': 13347, '홀딩해': 13348, 'ㅜㄴ': 13349, '멸균': 13350, '이취': 13351, '냉장': 13352, '심려': 13353, '스닥이': 13354, '잔고기': 13355, '서프': 13356, '기분조타': 13357, '무궁': 13358, '미접': 13359, '오류로': 13360, '음달': 13361, '다달이': 13362, '개끼': 13363, '어그러지다': 13364, '이샠': 13365, '수명연장': 13366, '국힘쪽': 13367, '암내': 13368, '후판': 13369, '어닝시즌': 13370, '백마': 13371, '어데': 13372, '목공': 13373, '황도': 13374, '바르게': 13375, '아가리': 13376, '파이터': 13377, 'ㅠㅋㅋㅋㅋ': 13378, '결전': 13379, '작태': 13380, '존버갑니': 13381, '와플': 13382, '과를': 13383, '남반구': 13384, '죽은': 13385, '텍메': 13386, '드갈': 13387, '고역': 13388, '산림': 13389, '회손': 13390, '대통령실': 13391, '특경': 13392, '북중러': 13393, '적대시': 13394, '내통': 13395, '전교조': 13396, '셀프': 13397, '주사파': 13398, '파시': 13399, '친북': 13400, '닮다': 13401, '여상': 13402, '역리': 13403, '견조': 13404, '노동시장': 13405, '모음': 13406, '요게': 13407, 'ㅋㅋㅜㅜ': 13408, '트린거': 13409, '견학': 13410, '의원님': 13411, '솔리드': 13412, '어안': 13413, '삼월': 13414, '십이삼만원': 13415, '특혀좀': 13416, '내드': 13417, '비틀어지다': 13418, '아파치': 13419, 'ㄱㅅㅋ': 13420, '임일': 13421, '쫄리긴': 13422, '라곤': 13423, '회망': 13424, '리소스': 13425, '만지작': 13426, '쉬것쥬': 13427, '눌린목나': 13428, '빵목': 13429, '가쟈금양': 13430, '스트레칭': 13431, '어능': 13432, '사직': 13433, '삿느데': 13434, '던디': 13435, '절재': 13436, '달월': 13437, '정보라': 13438, '게을리': 13439, '글구': 13440, '주길레': 13441, '야권': 13442, '서울시장': 13443, '대권': 13444, '나열': 13445, '프리뷰': 13446, '데우다': 13447, '축구장': 13448, '용지': 13449, '면적': 13450, '점임': 13451, '스위스': 13452, '떳노': 13453, '경호처': 13454, '종북좌파': 13455, '북베트남': 13456, '통일': 13457, '가난하다': 13458, '노미네이트': 13459, '종합예술': 13460, '감명': 13461, '모티브': 13462, '엘전': 13463, '위쪽': 13464, '송전': 13465, '화승': 13466, '메뉴얼': 13467, '베레': 13468, '만웡': 13469, '올라뿌노': 13470, '뿌노': 13471, '파트': 13472, '살렷데': 13473, '횬': 13474, '텔레': 13475, '항시': 13476, '공단': 13477, '유연': 13478, '근로시간': 13479, '공로': 13480, '경상북도지사': 13481, '우정': 13482, '귝': 13483, '클스마스전': 13484, '카악': 13485, '이동석': 13486, '설상가상': 13487, '트랜스': 13488, '메이': 13489, '고고씽': 13490, '안변': 13491, '마니버세': 13492, '뮌': 13493, '데달': 13494, '마등': 13495, '심신': 13496, '종자': 13497, '부스러기': 13498, '계략': 13499, '손짓': 13500, '귓속': 13501, '아멘': 13502, '구문': 13503, '롯데렌탈': 13504, '롯데리아': 13505, '연예': 13506, '불이익': 13507, '하와이': 13508, '들추다': 13509, '은거': 13510, '마렵다': 13511, '쫌씩': 13512, '랬음': 13513, '소릴': 13514, '선무': 13515, '범국민적': 13516, '김종인': 13517, '후보자': 13518, '샤라': 13519, '포고령': 13520, '자유도': 13521, '시국선언': 13522, '질타': 13523, '어리둥절': 13524, '동학': 13525, '사부작사부작': 13526, '역성': 13527, '화상회의': 13528, '증원': 13529, 'ㅈㄴㄱ': 13530, '진가': 13531, '나가이': 13532, '화욜': 13533, '주모': 13534, '벨루': 13535, '뚤리긴': 13536, '로미': 13537, '주나욤': 13538, '전산': 13539, '믿는딘년': 13540, '삥땅': 13541, '상번': 13542, '왓뜨올해': 13543, '바나': 13544, '머선일': 13545, '계집': 13546, '대령': 13547, '생해': 13548, '거양': 13549, '깜방': 13550, '청장': 13551, '넵': 13552, '개인실': 13553, '목욕탕': 13554, '깜': 13555, '국씨': 13556, '보좌': 13557, '쇼존국': 13558, '지존': 13559, '아호': 13560, '어카': 13561, '냉주': 13562, '쭈욱나두': 13563, '시노펙': 13564, '개포': 13565, '대리인': 13566, '미비': 13567, '대아': 13568, '상음': 13569, '생방': 13570, '도도하다': 13571, '떡락할거': 13572, '음봉때': 13573, '모아갈랍미': 13574, '찌릿찌릿': 13575, '신변': 13576, '컨설팅': 13577, '구채': 13578, '젠슨형님': 13579, '설계도': 13580, '멸할것': 13581, '스테이션': 13582, '정다이': 13583, '기인': 13584, '일삼': 13585, '암암리': 13586, '남아공': 13587, '성찬': 13588, '넷플믿고간다홀딩': 13589, '난이': 13590, '가급적': 13591, '쪼록': 13592, '션찮': 13593, '불가항력': 13594, '잰': 13595, '절교': 13596, 'ㅔ': 13597, '성무': 13598, '다다다': 13599, '까믁어': 13600, '전도': 13601, '하치': 13602, '속세': 13603, '서행': 13604, '한우': 13605, '지미': 13606, '올겡': 13607, '빵집': 13608, '렷엇': 13609, '음컴': 13610, '장수': 13611, '개메': 13612, '달렷음': 13613, '희소성': 13614, '리판': 13615, '물품': 13616, '헷징': 13617, '서비스업': 13618, '졸트': 13619, '구인': 13620, '구직': 13621, '미시간': 13622, '은시': 13623, '모유': 13624, '남아프리카': 13625, '과묵': 13626, '택했다먼': 13627, '택했다': 13628, '투입량': 13629, '손탓': 13630, '오르겄': 13631, '나락길': 13632, '볼라': 13633, '항아리': 13634, '난겨': 13635, '쫌샹': 13636, '옥상': 13637, '하루속히': 13638, '사전예약': 13639, '제상태': 13640, '스티': 13641, '엠티': 13642, '워트': 13643, '창수': 13644, '세미': 13645, '남탓좀': 13646, '럼주': 13647, '따스하다': 13648, '몹날': 13649, '창원': 13650, '랍시고': 13651, '범인': 13652, '아조': 13653, '밑보': 13654, '장투할랜다': 13655, '김성근': 13656, '그림자': 13657, '오우야': 13658, '홀딩할려구': 13659, '화목': 13660, '글등': 13661, '글귀': 13662, '인신공격': 13663, '신체': 13664, '하얗다': 13665, '흰눈': 13666, '새싹': 13667, '파릇파릇': 13668, '렉끼': 13669, '돈데손절': 13670, '뻐기다': 13671, '절케': 13672, '판겨익': 13673, '가공업': 13674, '레쉬': 13675, '신선': 13676, '최고재': 13677, '무책임': 13678, '김원식': 13679, '엠포홀손': 13680, '사이비종교': 13681, '현란하다': 13682, '주술': 13683, '호재떳어': 13684, '어캐': 13685, '브로': 13686, '나락갈꺼': 13687, '개업': 13688, '국징': 13689, '빳떼머리': 13690, '쉐끼': 13691, '이형도': 13692, '팔다리': 13693, '쌍끌': 13694, '원체': 13695, '짓덕': 13696, '치산': 13697, '쿄': 13698, '마루': 13699, '비슷꽉': 13700, '나시': 13701, '하겠쥬': 13702, '여느': 13703, '넥션': 13704, '부와': 13705, '스트랩': 13706, '액자': 13707, '후속작': 13708, '이동형': 13709, '스크린': 13710, '엘바': 13711, '독도': 13712, 'ㅈㅍ': 13713, 'ㅅㅁㅎ': 13714, 'ㅇㅌㅇ': 13715, '요타': 13716, '법치국가': 13717, '묵자': 13718, '이상기': 13719, '다린': 13720, '슈카': 13721, '왜왜': 13722, '업설': 13723, '거슬리다': 13724, '한가득': 13725, '동감': 13726, '미래엔': 13727, 'ㅡㅁ': 13728, '얼렐': 13729, '햘일': 13730, '진격': 13731, '엘앤애프': 13732, '되겠쬬': 13733, '두뇌': 13734, '쑤레기': 13735, '설선물': 13736, '찜콩': 13737, '크레파스': 13738, '어재': 13739, '럴때': 13740, '손절칫다': 13741, '보쌈': 13742, '도시락': 13743, '못햇': 13744, '잠기': 13745, '회차': 13746, '김은숙': 13747, '김은희': 13748, '둘째딸': 13749, '성안': 13750, '워랜버핏': 13751, '만드넹': 13752, '여한': 13753, '우주여행': 13754, '년새': 13755, '묘미': 13756, '재미나': 13757, '소시': 13758, '매버': 13759, '타고나다': 13760, '으로야': 13761, '허세': 13762, '발광하다': 13763, '구타': 13764, '독촉': 13765, '심정은': 13766, '뚜겅': 13767, '뭐또': 13768, '제갈': 13769, '기요': 13770, '변속': 13771, '팔긴할껀데': 13772, '나이키': 13773, '오마이갓': 13774, '쌍버프': 13775, '새로이': 13776, '사모님': 13777, '울금': 13778, '라울': 13779, '함박': 13780, '침공': 13781, '서방국가': 13782, '랜딩기': 13783, '주포헝': 13784, '나흘': 13785, '은밀': 13786, '탈중국화': 13787, '알쏭달쏭': 13788, '버려진': 13789, '올리브': 13790, '왜줌': 13791, '위지윅': 13792, '베풀다': 13793, '야사': 13794, '골도': 13795, '눈썰매': 13796, '좀값시': 13797, '도하': 13798, '오개': 13799, '몆년': 13800, '징창': 13801, '나폭': 13802, '참신하다': 13803, '콘트롤할': 13804, '궁둥짝': 13805, '방귀만': 13806, '뀌고반': 13807, '개월뒤': 13808, '밖엔': 13809, '채끝': 13810, '들려주다': 13811, '차틀': 13812, '걸물': 13813, '앜': 13814, '목전': 13815, '핸다': 13816, '금공': 13817, '슨붕': 13818, '짜깁다': 13819, '기교': 13820, '허비하다': 13821, '과장': 13822, '다반사': 13823, '겉멋': 13824, '개밥그릇': 13825, '슨피오': 13826, '아반떼': 13827, '소나타': 13828, '살림': 13829, '금괴': 13830, '엄하': 13831, '모듀': 13832, '떡락이누': 13833, '나로호': 13834, '매조': 13835, '궈런': 13836, '구역질': 13837, '해열제': 13838, '이어도': 13839, '중좀': 13840, '리빙': 13841, '어리석음': 13842, '현재현': 13843, '주테슬': 13844, '빈틈': 13845, '치노': 13846, '궁굼': 13847, '햇노': 13848, '때삿': 13849, '팔쟈': 13850, '가십': 13851, '기어이': 13852, '신학': 13853, '양식': 13854, '정교': 13855, '크크': 13856, '말림': 13857, '여론몰이': 13858, '빨린': 13859, '천리': 13860, '뉸': 13861, 'ㄱㅈㅅㄷㅇ': 13862, '면도기': 13863, '전원': 13864, '종북세력': 13865, '로얄': 13866, '한미관계': 13867, '테멘삼스디': 13868, '쇠질': 13869, '부들부들': 13870, '낼더': 13871, '요시': 13872, '기획': 13873, '프라이버시': 13874, '라벨': 13875, '부착': 13876, '합치': 13877, '럐량': 13878, '우글우글': 13879, '생심': 13880, '공예': 13881, '잰슨황': 13882, '외칠껍니': 13883, '쯧': 13884, '따끈따끈하다': 13885, '스마트워치': 13886, '신품': 13887, '다운턴': 13888, '소모품': 13889, '꿀맛': 13890, '꺼억': 13891, 'ㅅㅣ': 13892, '자양': 13893, '배민': 13894, '바즈라': 13895, '내각': 13896, '멀엇어': 13897, '터럼프': 13898, '약주': 13899, '오후스': 13900, '출혈': 13901, '허허헣': 13902, '됫는데': 13903, '개처': 13904, '빼놓다': 13905, '부놜': 13906, '화물차': 13907, '승용': 13908, '픽업': 13909, '이었음': 13910, '천조': 13911, '침대': 13912, '수출량': 13913, '겔국': 13914, '승천': 13915, '층수': 13916, '최고다': 13917, '호버': 13918, '물길': 13919, '고안': 13920, '들쑥날쑥하다': 13921, '명백하다': 13922, '원로': 13923, '명감': 13924, '아부지': 13925, '탈모증': 13926, '디르리': 13927, '장성만': 13928, '신경과학': 13929, '주최': 13930, '협회': 13931, '지속가능성': 13932, '딥로': 13933, '라고는': 13934, '불쌍타': 13935, '헛플루언서들': 13936, '빵때림': 13937, '세련되다': 13938, '아몰레드': 13939, '세법': 13940, '매기': 13941, '관료': 13942, '고재': 13943, '가배': 13944, '관광객': 13945, '둘쨋': 13946, '성주': 13947, '륵화륵': 13948, '포푹': 13949, '남다르다': 13950, '가랬더': 13951, '뚱뚱하다': 13952, '맞서다': 13953, '기레기': 13954, '뿌엥거리': 13955, '만월': 13956, 'ㅜㅜㅜㅜㅜㅜㅜㅜ': 13957, '휴무': 13958, '넌나': 13959, '법석이다': 13960, '각기': 13961, '분안': 13962, '톡톡하다': 13963, '정보기관': 13964, '방첩': 13965, '군축': 13966, '이삼': 13967, '어흥': 13968, '월년봉': 13969, '후임': 13970, '좋아쭈욱': 13971, '석영이': 13972, '사야딩': 13973, '탈피': 13974, '당나귀': 13975, '랑귀': 13976, '언성': 13977, '한오': 13978, '있다뿌슝빠슝피슝': 13979, '펑속': 13980, '롸잇': 13981, '햇징': 13982, '훪신': 13983, '진짜진짜': 13984, '규율': 13985, '돝': 13986, '간자': 13987, '뇌절': 13988, '선시': 13989, '호섹말': 13990, '엔터테인먼트': 13991, '출제': 13992, '깜깜': 13993, '효소': 13994, '원성': 13995, '온스': 13996, '탈락': 13997, '거니': 13998, '면접': 13999, '기피': 14000, '레이져': 14001, '몾': 14002, '레믿어봣': 14003, '홀가분하다': 14004, '뿔': 14005, '화낼일': 14006, '안오쥬': 14007, '함정임': 14008, '신혼여행': 14009, '도박중독': 14010, '화중': 14011, '거등': 14012, '요성': 14013, '용감하다': 14014, '당상': 14015, '시로': 14016, '동양': 14017, '고제': 14018, '자칫': 14019, '마패': 14020, '상심': 14021, '둥가둥': 14022, '롱스톤': 14023, '그랜저': 14024, '사림': 14025, '요실금': 14026, '글러': 14027, '간과': 14028, '스탈': 14029, '닐': 14030, '낚였다': 14031, 'ㅌ': 14032, '줍줍할거얌': 14033, '이물': 14034, '강정': 14035, '어떡': 14036, '욘': 14037, '짓뇌': 14038, '접촉': 14039, '등대': 14040, '그르': 14041, '판걸': 14042, '말궁': 14043, '따라쟁': 14044, '몾미쳐': 14045, '구연': 14046, '번영': 14047, '수천': 14048, '거또': 14049, '쫓겨나다': 14050, '재생산': 14051, '장투저': 14052, 'ㅎㄹㄹㄹ': 14053, '퍼더': 14054, '온천동': 14055, '닥치고': 14056, '스노우볼': 14057, '흐으': 14058, '혜자': 14059, '가턴': 14060, '콩고': 14061, '보물': 14062, '신급': 14063, '대우': 14064, '정강': 14065, '코낼': 14066, '대계': 14067, '쇄신': 14068, '서요': 14069, '죽장': 14070, '불변': 14071, '슈우웃': 14072, '명때매': 14073, '상원': 14074, '김일성': 14075, '떠지다': 14076, '올려줭': 14077, '껄이상껄': 14078, '티점': 14079, 'ㅕ': 14080, '즉석요리': 14081, '지극히': 14082, '효년': 14083, '간밤': 14084, '살점': 14085, '대인배': 14086, '자밍땜시': 14087, '을사': 14088, '적그': 14089, '을사오적': 14090, '눔들': 14091, '물왜': 14092, '팔물량': 14093, '아님루닛': 14094, '고점': 14095, '별명': 14096, '아득바득': 14097, '대견': 14098, '국운': 14099, '엘레나': 14100, '테아닌': 14101, '스켈핑': 14102, '탄핵안됫으': 14103, '평강': 14104, '만칠천칠백원': 14105, '시쭈': 14106, '밤사이': 14107, '넘갸주': 14108, '라이즈': 14109, '드간당': 14110, '졸레어': 14111, '저해': 14112, '사멸': 14113, '한호': 14114, '짐쨔': 14115, '떻': 14116, '가체': 14117, '뉴스특보': 14118, '야큰': 14119, '원만똫': 14120, '용총': 14121, '홈런': 14122, '답지': 14123, '어쨋건': 14124, '멀리뛰기': 14125, '누에': 14126, '중내': 14127, '미용': 14128, '음고': 14129, '까탈': 14130, '힘내숑': 14131, '구시': 14132, '유나': 14133, '씹히다': 14134, '마리네': 14135, '애드': 14136, '작자': 14137, '저쩌': 14138, '텔레그램': 14139, '가발': 14140, '군사정권': 14141, '아무렴': 14142, '몽둥이': 14143, '죽창': 14144, '엎': 14145, '지배자': 14146, '작작하다': 14147, '극구': 14148, '흠좀무': 14149, '일억': 14150, '암살': 14151, '초과수': 14152, '칭함': 14153, '뮈': 14154, '라다크': 14155, '움링': 14156, '쿠타': 14157, '대륙': 14158, '히말라야': 14159, '영하': 14160, '기온': 14161, '산길': 14162, '극한': 14163, '식주': 14164, '알재': 14165, '네오위즈': 14166, '서터레스': 14167, '장난꾸러기': 14168, '삽질': 14169, '성이름': 14170, '외쿡형': 14171, '기니': 14172, '캐페시터': 14173, '고걸': 14174, '서양': 14175, '브라더스': 14176, '위위': 14177, '소말리아': 14178, '총동원': 14179, '떨어트린': 14180, '플럭스': 14181, '전자기파': 14182, '차폐': 14183, '산업혁명': 14184, '군내': 14185, '우왕이': 14186, '용평': 14187, '에서만큼은': 14188, '마디': 14189, '놨다': 14190, '관상': 14191, 'ㄱㅈㅇ': 14192, '졸졸': 14193, '치겄': 14194, '어흐': 14195, '육개': 14196, '펀디': 14197, '현행': 14198, '쫄깃': 14199, '해지니': 14200, '뜯기다': 14201, '커맨드정리': 14202, '조잡': 14203, '패드': 14204, '끄으읕': 14205, '포식': 14206, '답글좀': 14207, '물르다': 14208, '진자': 14209, '나왓': 14210, '김현구': 14211, '믿어드믄': 14212, '빗썸': 14213, '헤데라': 14214, '크윽': 14215, '연속성': 14216, '준치': 14217, '틀어지다': 14218, '형도': 14219, '보잡': 14220, '소지': 14221, '워드': 14222, '요동치다': 14223, '쪽파': 14224, '이원': 14225, '봥': 14226, '처주': 14227, '디그': 14228, '기윤': 14229, '실무': 14230, '힙니': 14231, '팽신': 14232, '송년': 14233, '상륙': 14234, '후송': 14235, '알맹이': 14236, '엇음': 14237, '나본': 14238, '태마': 14239, '단주': 14240, '중양': 14241, '떨치다': 14242, '연구윤리': 14243, '분화': 14244, '카악퉤': 14245, '섹시하다': 14246, '양일': 14247, '치찍': 14248, '젔다': 14249, '필요비': 14250, '원천': 14251, '친지': 14252, '횡보할끼': 14253, '랍': 14254, '다희': 14255, '안뚤리': 14256, '레간자': 14257, '응원글': 14258, '주번': 14259, '슨데': 14260, '갔다왓': 14261, '손절할랫더': 14262, '드릉드릉': 14263, '숨쉬기': 14264, '구질구질하다': 14265, '사라장': 14266, '펜트하우스': 14267, '급행열차': 14268, '완수': 14269, '준매': 14270, '무소유': 14271, '탭댄스': 14272, '분과': 14273, '사업가': 14274, '트레이너': 14275, '아리다': 14276, '템플스테이': 14277, '밤차': 14278, '가운': 14279, '성불': 14280, '쬬': 14281, '마사지': 14282, '매니지먼트사': 14283, '슨황': 14284, '립': 14285, '땅땅': 14286, '구우리': 14287, '적반하장': 14288, '락업': 14289, '당부': 14290, '흑백': 14291, '둘때': 14292, '미하': 14293, '금융업': 14294, '안판': 14295, '미세하다': 14296, '가령': 14297, '작아지다': 14298, '옛말': 14299, '가랑비': 14300, '다처': 14301, '젠슨황형님': 14302, '심폐소생': 14303, '저대로': 14304, '수기사': 14305, '참말': 14306, '이적': 14307, '수자': 14308, '악재붇술중': 14309, '은사': 14310, '우디': 14311, '아랍': 14312, '바레인': 14313, '걸프': 14314, '표준화': 14315, '고윤': 14316, '봣어잘': 14317, '공과': 14318, '시래기': 14319, '되엇': 14320, '염불': 14321, '뭣같': 14322, '럼프말': 14323, '지성인': 14324, '포양': 14325, '고소하다': 14326, '웅렬': 14327, '사마': 14328, '혈육': 14329, '피셜': 14330, '신논현역': 14331, '나들이': 14332, '주식매수청구권': 14333, '가스터빈': 14334, '갸빡치': 14335, '턴핵': 14336, '놨습니': 14337, '쥐랠': 14338, '밑단': 14339, '김부': 14340, '득남': 14341, '럼프트님': 14342, '머티돈': 14343, '코코모': 14344, '오벌': 14345, '하늘나라': 14346, '또열': 14347, '꽉찻': 14348, '강인하다': 14349, '면모': 14350, '단호': 14351, '심경': 14352, '이방원': 14353, '눈빛': 14354, '회암사': 14355, '판수': 14356, '말미': 14357, '이성계': 14358, '긴박하다': 14359, '주영': 14360, '연기력': 14361, '강약': 14362, '긴장감': 14363, '울림': 14364, '섬세하다': 14365, '몰입도': 14366, '코텍': 14367, '전소': 14368, '우도': 14369, '횡보할듯': 14370, '철공': 14371, '상인': 14372, '불굴': 14373, '버팀목': 14374, '상기': 14375, '정경': 14376, '부국': 14377, '강병': 14378, '퍼되있': 14379, '사만팔천': 14380, '아인슈타인': 14381, '뉴턴': 14382, '에디슨': 14383, '바름': 14384, '현기': 14385, '태생': 14386, '알탱': 14387, '뻘겋': 14388, '뻘겋게알탱': 14389, '판관': 14390, '털때': 14391, '캐피털': 14392, '기가와트시': 14393, '건실': 14394, '순탄': 14395, '구씨': 14396, '신이얌': 14397, '알레그로': 14398, '어쩌구저쩌구': 14399, '다가서다': 14400, '정함': 14401, '밤샘': 14402, '탑픽': 14403, '금금': 14404, '극혐': 14405, '부인': 14406, '출석': 14407, '상정': 14408, '닉없': 14409, '뭐시기': 14410, '땡벌': 14411, '금새': 14412, '쪽지': 14413, '열압착': 14414, '접착': 14415, '재배': 14416, '치한': 14417, '달함': 14418, '민니': 14419, '소개팅': 14420, '나능': 14421, '올랏': 14422, '슬사': 14423, '테슬삿어': 14424, '텟': 14425, '뗏': 14426, '슈퍼컴퓨터': 14427, '천문학': 14428, '율못': 14429, 'ㅋㅋㅋㅋㅋㅋㅋㅋㅋㅋㅋㅋㅋㅋㅋㅋㅋㅋㅋㅋㅋㅋㅋㅋㅋㅋㅋㅋㅋㅋ': 14430, '런했다': 14431, '적색': 14432, '가치재': 14433, '시약': 14434, '체머': 14435, '엘에스전선': 14436, '프로버': 14437, '네이쳐': 14438, '하등': 14439, '코스닥시장': 14440, '체인점': 14441, '애덜': 14442, '키스트': 14443, '데이즈': 14444, '리게팅': 14445, '요놈': 14446, '제련소': 14447, '환경보전': 14448, '환경오염': 14449, '간첩죄': 14450, '요동': 14451, '엇으': 14452, '국민성': 14453, '삼송': 14454, '비건': 14455, '프레스티지': 14456, '원부': 14457, '신창섭': 14458, '고기압': 14459, '입건': 14460, '윤핑핑': 14461, '용수': 14462, '소홀하다': 14463, '세럭': 14464, '동갑': 14465, 'ㅋㅋㄴ': 14466, '네네': 14467, '헛웃음': 14468, '몸부림': 14469, '말랬': 14470, '감언': 14471, '눌릴수': 14472, '식구': 14473, '프로브': 14474, '밀어넛드': 14475, '망혀': 14476, '것그': 14477, '웰컴': 14478, '듸': 14479, '막막하다': 14480, '쌍방': 14481, '국경': 14482, '다화': 14483, '이예': 14484, '어뜨케': 14485, '미니게임': 14486, '능지처참': 14487, '발진': 14488, '정배': 14489, '줄기차다': 14490, '덤': 14491, '베이비페이스': 14492, '잘추다': 14493, '필릭': 14494, '스임': 14495, '순하다': 14496, '입덕': 14497, '킹덤': 14498, '리더쉽': 14499, '찬가': 14500, '능라': 14501, '빈약하다': 14502, '충언': 14503, '부안': 14504, '도담': 14505, '가상세계': 14506, '장려': 14507, '메이져': 14508, '캐다': 14509, '생굴': 14510, '뜨끈하다': 14511, '비틀리다': 14512, '우아': 14513, '쩐': 14514, '띠워': 14515, '그날그날': 14516, '리버티': 14517, '크로스플랫폼': 14518, '훨씨': 14519, '라거': 14520, '스파': 14521, '클래식': 14522, '할껀': 14523, '안좋읏': 14524, '카툭': 14525, '덩치값': 14526, '해랏': 14527, '육퍼': 14528, '그득': 14529, '손글': 14530, '올리브영': 14531, '옼': 14532, '렷규': 14533, '루지': 14534, '액수': 14535, '에쿠스': 14536, '뾰': 14537, '한구석': 14538, '이왕이면': 14539, '야물다': 14540, '하닌까': 14541, '내디디다': 14542, '나란하다': 14543, '자태': 14544, '풍산홀딩스': 14545, '협회장': 14546, '바꼇': 14547, '관리직': 14548, '호령': 14549, '기용': 14550, '손절액': 14551, '스펙': 14552, '접이식': 14553, '팩터': 14554, '임계': 14555, '각속도': 14556, '폴딩': 14557, '기압': 14558, '생체': 14559, '습도': 14560, '지문': 14561, '툴': 14562, '오분': 14563, '사대': 14564, '흡사하다': 14565, '어버버': 14566, '하이브로': 14567, '초전': 14568, '수조': 14569, '다이로': 14570, '꼽노': 14571, '관행': 14572, '까믁': 14573, '사내': 14574, '적신호': 14575, '켜지다': 14576, '실정': 14577, '부셧는': 14578, 'ㅠㅜㅜ': 14579, '네미': 14580, '명목': 14581, '느거': 14582, '삿는데': 14583, '와쥬는거': 14584, '달월앞': 14585, '아무나': 14586, '포카': 14587, '롯바': 14588, '불씨': 14589, '하원': 14590, '속결': 14591, '치열': 14592, '병행수입': 14593, 'ㅠㅠㅠㅠㅠㅠㅠㅠㅠ': 14594, '질풍': 14595, '노도': 14596, '닉쪽': 14597, '님들호재': 14598, '깡': 14599, '개일': 14600, '어흑': 14601, '으루': 14602, '너덜너덜하다': 14603, '떠다니다': 14604, '어렵슴다': 14605, '봉변': 14606, '엔걸핑강': 14607, '업뎃': 14608, '필반': 14609, '이상각': 14610, '닮음': 14611, '사이다': 14612, '이햐야': 14613, '폭폭': 14614, '행군': 14615, '윤두광': 14616, '네비게이션': 14617, '여가부': 14618, '미소녀': 14619, '미소년': 14620, '오타쿠': 14621, '쳐박는겅': 14622, '국한': 14623, '명부': 14624, '침팬': 14625, '치인': 14626, '올랏구': 14627, '디안': 14628, '섬기다': 14629, '상조': 14630, '쓸데없다': 14631, '슨생님들': 14632, '보이스피싱': 14633, '저승사자': 14634, '발리': 14635, '빼액': 14636, '이경수': 14637, '한전기술': 14638, '자아도취': 14639, '방사청': 14640, '연하다': 14641, '도자기': 14642, '홀딩는': 14643, '존버존버': 14644, '호시노': 14645, '우무': 14646, '구미': 14647, '소박하다': 14648, '대목': 14649, '강경하다': 14650, '공급원': 14651, '원추': 14652, '희노애락': 14653, '무력': 14654, '펌': 14655, '우리네': 14656, '친위쿠데타': 14657, '진압당': 14658, '알파벳': 14659, '티모': 14660, '바일': 14661, '번거롭다': 14662, '정단': 14663, '레드': 14664, '사활': 14665, '화대': 14666, '명신': 14667, '무심하다': 14668, '도니': 14669, '뻑하': 14670, '뭡': 14671, '이윤': 14672, '소환': 14673, '맹훈련': 14674, '노스': 14675, '건담': 14676, '왕자': 14677, '헤': 14678, '스프': 14679, '내추럴': 14680, '다축': 14681, '흉악하다': 14682, '독고': 14683, '이정진': 14684, '우리형': 14685, '닭': 14686, '살입': 14687, '보디빌딩': 14688, '과햄': 14689, '갈라지다': 14690, '컨디셔닝': 14691, '드하': 14692, '데뷰': 14693, '오래됨': 14694, '전자양': 14695, '자연스레': 14696, '정물': 14697, '탈돈': 14698, '봄태영': 14699, '솜': 14700, '오타': 14701, '조선대': 14702, '넘겨받다': 14703, '보정': 14704, '안드로메다': 14705, '승전': 14706, '남고': 14707, '객기': 14708, '코스트': 14709, '맞대다': 14710, '응고': 14711, '새우등': 14712, '결론존버': 14713, '갈아엎다': 14714, '씩씩하다': 14715, '쇼핑중독': 14716, '질책': 14717, '앤숄더': 14718, '야단': 14719, '늠하잔': 14720, '꺼팔': 14721, '꼭더': 14722, 'ㅋㅅㅋ': 14723, '병크': 14724, '리가켐': 14725, '본받다': 14726, '운장': 14727, '사관': 14728, '미반': 14729, '뇌교육': 14730, '피싱': 14731, '혐여혐': 14732, '유행어': 14733, '조선족': 14734, '장함': 14735, '투쟁': 14736, '라스트': 14737, '주성분': 14738, '피란': 14739, '빠꾸': 14740, '필살기': 14741, '외전': 14742, '빙과': 14743, '이겆': 14744, '본디': 14745, '드리프트': 14746, '심은주': 14747, '고기잡이배': 14748, '구함': 14749, '영점': 14750, '원효': 14751, '성오': 14752, '루닛퓨런': 14753, '에스오에스': 14754, '광야': 14755, '하림': 14756, '종필': 14757, '처지': 14758, '근까': 14759, '용용': 14760, '처넣엇냐': 14761, '리어카': 14762, '도조': 14763, '마차': 14764, '십오분': 14765, '녹지': 14766, '늬': 14767, '악랄하다': 14768, '저만큼': 14769, '초콤': 14770, '포콤': 14771, '뒤셀도르프': 14772, '지방법원': 14773, '난왜': 14774, '어중간': 14775, '빼앗기다': 14776, '텍사스': 14777, '중심지': 14778, '집값': 14779, '어떻든': 14780, 'ㅡㅡㅋㅋ': 14781, '퓨처넷': 14782, '넷': 14783, '풍부하다': 14784, '쏘우': 14785, '발담': 14786, '이제하': 14787, '진쩌': 14788, '양산가': 14789, '했슴당': 14790, '레이더스': 14791, '스타벅스': 14792, '봉기': 14793, '래요': 14794, '외제차': 14795, '왜놈': 14796, '해투': 14797, '걸너': 14798, '개차반': 14799, '한라공조': 14800, '축하파티': 14801, '뻘건색': 14802, '부동': 14803, '델파졸리드': 14804, '무작위': 14805, '평행': 14806, '위약': 14807, '증상': 14808, '대조군': 14809, '에피소드': 14810, '게타': 14811, '삼백만원': 14812, '미투': 14813, '수퍼': 14814, '뱅기': 14815, '교휸': 14816, '안목': 14817, '증표': 14818, '드감': 14819, '바당락일': 14820, '가렴': 14821, '파도타기': 14822, '틈새': 14823, '마심': 14824, '사치': 14825, '빈곤하다': 14826, '빈곤': 14827, '문화생활': 14828, '복잡': 14829, '꿈찍': 14830, '순수': 14831, '돌석': 14832, '치워지다': 14833, '응응': 14834, '퍼주디': 14835, '착혔': 14836, '게임기': 14837, '후난': 14838, '삼성로': 14839, '보일러': 14840, '깻': 14841, '조진': 14842, '파바박': 14843, '몆년째': 14844, '개미탑': 14845, '천배': 14846, '철거': 14847, '눌림후': 14848, '쩜프': 14849, '때사': 14850, '굴릴수': 14851, '분리수거': 14852, '컄퉤': 14853, '강제존버': 14854, '비연': 14855, '구세군': 14856, '도배': 14857, '특임대사': 14858, '리처드': 14859, '그레넬': 14860, '협': 14861, '앞당겨지다': 14862, '규영': 14863, '윤떡렬': 14864, '저항선틇': 14865, '스드민': 14866, '소위': 14867, '수천만': 14868, '망설엿는데': 14869, '해배': 14870, '베렸': 14871, '말슴': 14872, '인플': 14873, '질겁': 14874, '식빵': 14875, '군수': 14876, '물탈게루닛': 14877, '주발': 14878, '행시': 14879, '고번': 14880, '말투': 14881, '원단': 14882, '김현': 14883, '황소': 14884, '뮬려': 14885, '법카': 14886, '가겠죵': 14887, '꼰대': 14888, '맹세': 14889, '진찌': 14890, '몰려드': 14891, '짤막하다': 14892, '문장': 14893, '비결': 14894, '핸님들': 14895, '횔': 14896, '주정뱅이': 14897, 'ㅛ': 14898, '전환율': 14899, '수취': 14900, '배송': 14901, '간질': 14902, '쌔지': 14903, '영세': 14904, '쪽임': 14905, '스프링': 14906, '새기다': 14907, '같넹': 14908, '경협주': 14909, '티앤앤': 14910, '메이지': 14911, '바이오테크놀로지': 14912, '배지': 14913, '협약': 14914, '통큰': 14915, '끝왜': 14916, '임삼': 14917, '추격자': 14918, '분배락때': 14919, '샘숭': 14920, '제원': 14921, '쉐꺄': 14922, '데꼬': 14923, '입좀': 14924, '환윤때문': 14925, '학': 14926, '뻘글': 14927, '착착': 14928, '라선': 14929, '아쫌': 14930, '진쯔': 14931, '영호': 14932, '줘팰지': 14933, '합병증': 14934, '골질': 14935, '성숙하다': 14936, '청소년': 14937, '굼뜨': 14938, '줘보슈': 14939, '우쭈쭈': 14940, '음원': 14941, '차자': 14942, '치중': 14943, '닦이다': 14944, '드럼통': 14945, '손절못': 14946, '힣': 14947, '비밀리': 14948, '숏쟁': 14949, '섯': 14950, '홧이팅': 14951, '슙': 14952, '슺니': 14953, '은장': 14954, '이본': 14955, '부메랑': 14956, '예정아': 14957, '재건축': 14958, '븜': 14959, '구조도': 14960, '이룋': 14961, '전투함': 14962, '초지': 14963, '능화': 14964, '디글': 14965, '루스': 14966, '테롤': 14967, '경계': 14968, '음가': 14969, '고원': 14970, '죽일런': 14971, '떳어': 14972, '개패': 14973, '존버성공다들': 14974, '터졋내': 14975, '윤석욜': 14976, '리짓': 14977, '나마스떼': 14978, '꼴리다': 14979, '서천': 14980, '우둔하다': 14981, '흑두루미': 14982, '발바닥': 14983, '고이왕': 14984, '간단': 14985, '행벅': 14986, '천재': 14987, '엮이': 14988, '뮤지': 14989, '쇼전': 14990, '트렁프': 14991, '필드': 14992, '방도': 14993, '철통': 14994, '횡보기': 14995, '팝콘': 14996, '실투': 14997, '쩌리': 14998, '삼정': 14999, '찌들다': 15000, '고씨': 15001, '룸': 15002, '애잔하다': 15003, '퍼손절갈기': 15004, '엿당': 15005, '함깨해': 15006, 'ㅓㅓ': 15007, '개체': 15008, '통곡': 15009, '동아시아': 15010, '작심': 15011, '개척지': 15012, '좀덜': 15013, '볼때팔껄': 15014, '넌또뭐': 15015, '대가리': 15016, '드렁': 15017, '윤통가결': 15018, '할애': 15019, '으로선': 15020, '빽턴': 15021, '큐븡': 15022, '킥스비율': 15023, '알아듣다': 15024, '체결량': 15025, '승훈': 15026, '방장': 15027, '강퇴': 15028, '화조': 15029, '다세대': 15030, '획기': 15031, '병변': 15032, '집도': 15033, '의의': 15034, '공함': 15035, '이정호': 15036, '척추': 15037, '건너오다': 15038, '오신': 15039, '가누쫌': 15040, '위좀': 15041, '털렿는데': 15042, '뺐드': 15043, '차범근': 15044, '계서': 15045, '분매': 15046, '돈데': 15047, '했엇으': 15048, '여물': 15049, '비엠머티': 15050, '다사면': 15051, '읍내': 15052, '관대하다': 15053, '용상': 15054, '암거': 15055, '이햐박셀': 15056, '개멋': 15057, '처넌일': 15058, '도스': 15059, '기획사': 15060, '골든디스크': 15061, '스노': 15062, '휴양지': 15063, '드가기': 15064, '곤': 15065, '빳빳': 15066, '츠쿠요미': 15067, '본회의': 15068, '날락': 15069, '반역': 15070, '개피': 15071, '양국': 15072, '줏어먹': 15073, '잔꾀': 15074, 'ㅌㅌㅌ': 15075, '보그': 15076, '엔켐때문': 15077, '나엿다': 15078, '하반': 15079, '주르륵': 15080, '과표': 15081, '돈마늠': 15082, '오침': 15083, '만물': 15084, 'ㅗㅗ': 15085, '후안': 15086, '무치': 15087, '퍽': 15088, '수갑': 15089, '거왜삼': 15090, 'ㄷㅋ': 15091, '허당': 15092, '훼': 15093, '에식스': 15094, '좀처럼': 15095, '연비': 15096, '남선': 15097, '용품': 15098, '복달': 15099, '행인': 15100, '띱땣끼들': 15101, '멍부': 15102, '날월': 15103, '써머타임': 15104, '플레티넘': 15105, '혀유': 15106, '가끄얌': 15107, '이칭구': 15108, '기껏': 15109, '손절칠껄겁': 15110, '핰': 15111, '부심': 15112, '기죽다': 15113, '남아프리카공화국': 15114, '충북': 15115, '벌점': 15116, '계부': 15117, '수완': 15118, 'ㅅㅌㅊ': 15119, '탄탄': 15120, '섬뜩하다': 15121, '법조': 15122, '형배': 15123, '헌법재판소장': 15124, '이미선': 15125, '런던': 15126, '웰빙': 15127, '시아': 15128, '입점해': 15129, '덴젤트': 15130, '망막': 15131, '맥락막': 15132, '가처분': 15133, '환경보호': 15134, '목록': 15135, '점접날': 15136, '조약돌': 15137, '궁딩': 15138, '해치다': 15139, '삼각형': 15140, '불규칙하다': 15141, '소행': 15142, '도요타': 15143, '한선': 15144, '박순혁': 15145, '데디': 15146, '그레이': 15147, '훤히': 15148, '버럭': 15149, '옵티': 15150, '라피더스': 15151, '고발': 15152, '무디스': 15153, '케리': 15154, '포스팅': 15155, '익절못': 15156, 'ㅋㄱㅋㄱㄱ': 15157, '개개': 15158, '개개다': 15159, '낮췃': 15160, '숏들': 15161, '자강': 15162, '두천': 15163, '정다운': 15164, '파격': 15165, '지혜롭': 15166, '정일': 15167, '부루': 15168, '인포': 15169, '히히히': 15170, '튭': 15171, '사주팔자': 15172, '데브': 15173, '스타즈': 15174, '잉잉': 15175, '킹숩': 15176, '셐': 15177, '맼': 15178, 'ㅋㅋㅋㅋㅋㅋㅋㅋㅋㅋㅋㅋㅋㅋㅋㅋㅋㅋㅋㅋㅋㅋㅋㅋㅋㅋㅋㅋㅋㅋㅋㅋㅋㅋㅋㅋㅋㅋㅋㅋㅋㅋㅋㅋ': 15179, '지리하다': 15180, '천차만별': 15181, '이렬거': 15182, '여적': 15183, '호선': 15184, '지하철': 15185, '개통': 15186, '호치민': 15187, '하노이': 15188, '개발도상국': 15189, '풍요롭': 15190, '쿠': 15191, '패착': 15192, '다음생': 15193, '만으론': 15194, '퀀트': 15195, '이징': 15196, '방산액티브': 15197, '베이비붐': 15198, '상시': 15199, '우주개발': 15200, '걘': 15201, '모방': 15202, '산타렐리': 15203, '철야': 15204, '어두워지다': 15205, '미움': 15206, '오싹하다': 15207, '진절머리': 15208, '니오르': 15209, '왈왈': 15210, '학계': 15211, '정설': 15212, '됫건': 15213, '전범': 15214, '보복': 15215, '별자리': 15216, '징수': 15217, '보쟈': 15218, '백도': 15219, '주심': 15220, '되겠죵': 15221, '걸른듯': 15222, '권법': 15223, '온건': 15224, '자연어': 15225, '찬사': 15226, '빅스': 15227, '저변': 15228, '리더': 15229, '찿아야지': 15230, '겹친': 15231, '전자인증': 15232, '포근하다': 15233, '기침': 15234, '러키': 15235, '근방': 15236, '몆천': 15237, '가쥬': 15238, '진득해': 15239, '겨울철': 15240, '취지': 15241, '두리': 15242, '스트로': 15243, '숙박업': 15244, '정보화': 15245, '죄파': 15246, '멍텅구리': 15247, '하이텍': 15248, '가년': 15249, '건덕': 15250, '편리': 15251, '미티': 15252, '겟음': 15253, '싶슴다': 15254, '가비': 15255, '사형선고': 15256, '통정': 15257, '버마': 15258, '사이코': 15259, '스무살': 15260, '악플달다': 15261, '젠알앤엠월일': 15262, '서보모터': 15263, '중전': 15264, '포도': 15265, '제일기획': 15266, '선봬': 15267, '리오르': 15268, '빅데이터': 15269, '재정권': 15270, '원리': 15271, '리졸브': 15272, '눌렸다': 15273, '암기': 15274, '기울기': 15275, '가파른게좋습': 15276, '일괄': 15277, '신기다': 15278, '장덕': 15279, '지니다': 15280, '헝제': 15281, '부귀': 15282, '품위': 15283, '가식': 15284, '술렁이다': 15285, '나락날': 15286, '발라당': 15287, '불침번': 15288, '나락점': 15289, '사방': 15290, '팔방': 15291, '오방': 15292, '되쥬뭐': 15293, '신라면': 15294, '툼바': 15295, '원대하다': 15296, '층물': 15297, '굼뱅': 15298, 'ㅡㅋㅋ': 15299, '알텡이왕': 15300, '헬쓰': 15301, '현식': 15302, '짜르': 15303, '재형': 15304, '서원': 15305, '업력': 15306, '육상': 15307, '짧아지다': 15308, '즌': 15309, '에쿠': 15310, '뉴르': 15311, '듯검머': 15312, '외지': 15313, '아뿔싸': 15314, '샆': 15315, '엘리펀트': 15316, '옹키': 15317, '참이슬': 15318, '캘리': 15319, '처음처럼': 15320, '카스': 15321, '하이트': 15322, '전조': 15323, '변색': 15324, '좋다잉': 15325, '티웽': 15326, '사팔사팔해': 15327, '격감': 15328, '음울하다': 15329, '소울': 15330, '웹사이트': 15331, '지혜': 15332, '점때': 15333, '레전': 15334, '프로야구': 15335, '암담하다': 15336, '만루': 15337, '이방면': 15338, '트레이드': 15339, '썻던글': 15340, '는야': 15341, '대두': 15342, '윤똥': 15343, '벗꽃': 15344, '라일': 15345, '감치': 15346, '방일': 15347, '합심': 15348, '허시': 15349, '흐지부지': 15350, '자애': 15351, '장량': 15352, '표상': 15353, '술상': 15354, '묵음': 15355, '상각': 15356, '양자역학': 15357, '놀림': 15358, '시판': 15359, '정도선': 15360, '초보자': 15361, '말리': 15362, '넌도': 15363, '뭘알': 15364, '금리정책': 15365, '스런': 15366, '압략': 15367, '음봉밑': 15368, '마포구': 15369, '플렉스': 15370, '콜로세움': 15371, '아프리카': 15372, '과즙': 15373, '라디오': 15374, 'ㅜㅡㅠ': 15375, '장투할빠': 15376, '님블': 15377, '뉴런': 15378, '전말': 15379, '이스포츠': 15380, '루마': 15381, '숑': 15382, '륩주': 15383, '미관': 15384, '루시드': 15385, '스와프': 15386, '엮여있': 15387, '변호사': 15388, '생김새': 15389, '울음소리': 15390, '초여름': 15391, '목격': 15392, '온순하다': 15393, '이원화': 15394, '이늄': 15395, '웃돌': 15396, '드림': 15397, '선전': 15398, '작일': 15399, '쑥스럽다': 15400, '군산공항': 15401, '경주': 15402, '여수공항': 15403, '족치다': 15404, '버드스': 15405, '역활': 15406, '테오': 15407, '차기작': 15408, '음파': 15409, '승수': 15410, '클렘쉘': 15411, '화면비': 15412, '인폴딩': 15413, '래퍼런스': 15414, '블랙리스트': 15415, '줄곧': 15416, '끈질기다': 15417, '이남': 15418, '빙': 15419, '핫바': 15420, '지로': 15421, '느은': 15422, '정준': 15423, '밑밥': 15424, 'ㅠㅠㅠㅠㅜㅜㅠ': 15425, '리게이': 15426, '명성': 15427, '이듬': 15428, '땐등': 15429, '궁둥이': 15430, '자판기': 15431, '달이다': 15432, '고성': 15433, '빵꾸': 15434, '홀딩했던': 15435, '조지아': 15436, '현판': 15437, '한중': 15438, '꽃밭': 15439, '지지리': 15440, '야니': 15441, '딸피': 15442, '엇네': 15443, '임나': 15444, '야박하다': 15445, '평선': 15446, '실탄': 15447, '진흙': 15448, '어둠': 15449, '못셔': 15450, '망쬬': 15451, '랏능': 15452, '구려': 15453, '제리': 15454, '위로뿡': 15455, '기지개': 15456, '조현준': 15457, '테드': 15458, '테네시주': 15459, '멤피스': 15460, '페트병': 15461, '폴리에스터': 15462, '원사': 15463, '조고': 15464, '누맘': 15465, '넢은편': 15466, '다팔껄': 15467, '마구마구': 15468, '계좌루': 15469, '닳다': 15470, '문지방': 15471, '승질': 15472, '요로': 15473, '문제해결': 15474, '끝발': 15475, '귓방망': 15476, '워싱턴포스트': 15477, '걷히다': 15478, '업제': 15479, '망토': 15480, '유니티': 15481, '삼위일체': 15482, '임용': 15483, '여우': 15484, '개맛': 15485, '현주': 15486, '펄업얘': 15487, '데브캣': 15488, '년존버': 15489, '홀더': 15490, '심법': 15491, '시지': 15492, '과오': 15493, '치하': 15494, '하이웨이': 15495, '주스': 15496, '악쓰다': 15497, '구룹주': 15498, '읖': 15499, '마중': 15500, '뿌셔': 15501, '난점': 15502, '한과': 15503, '꼭익절': 15504, '물탓노': 15505, '뭐사': 15506, '버실': 15507, '이집': 15508, '왓다': 15509, '베몬': 15510, '천만다행': 15511, '로브식스': 15512, '김대우': 15513, '상무': 15514, '린준청': 15515, '승리자': 15516, '난걸': 15517, '랏다': 15518, '스탬프드': 15519, '어쩐': 15520, '일쫌해': 15521, '추위': 15522, '기상청': 15523, '예보': 15524, '간혹': 15525, '얻어먹다': 15526, '전업': 15527, 'ㅅㅎ': 15528, '뚥': 15529, '리자': 15530, '나소': 15531, '돈버네': 15532, '낡다': 15533, '어닝플': 15534, '가형': 15535, '다면': 15536, '리신': 15537, '미납': 15538, '그득하다': 15539, '얘때매': 15540, '과점': 15541, '액츄에이터': 15542, '티익스프레스': 15543, '라이벌': 15544, '채비': 15545, '건배': 15546, '뭐얘': 15547, '뭐탓': 15548, '삼류': 15549, '보유물량': 15550, '젠슨빔': 15551, '차즘': 15552, '냉혹하다': 15553, '어쨌던간': 15554, '차령': 15555, '보얗다': 15556, '정보처리': 15557, '자랑거리다': 15558, '우대': 15559, '깊숙하다': 15560, '이그리': 15561, '절정': 15562, '땐헌': 15563, '컥': 15564, '날쑥': 15565, '붕': 15566, '졸': 15567, '인버': 15568, '달아오르다': 15569, '표심': 15570, '부적절하다': 15571, '진정서': 15572, '벌떡': 15573, '예토전생': 15574, '효심': 15575, '유교': 15576, '왕인': 15577, '깨물다': 15578, '곧저': 15579, '줘랏': 15580, '식생활': 15581, '힘드넹': 15582, '누칼협': 15583, '구조이': 15584, '시원': 15585, 'ㅌㅋ': 15586, '옮는다': 15587, '보딩패스': 15588, '철퇴': 15589, '청송': 15590, '보내쥬': 15591, '오노': 15592, '어종상': 15593, '츄핑': 15594, '미도': 15595, '굿굿굿': 15596, '타결': 15597, '두텁다': 15598, '쵸딩': 15599, '힘키': 15600, '변론': 15601, '안정감': 15602, '사랑받다': 15603, '맴돌다': 15604, '다음해': 15605, '마치니': 15606, '근로': 15607, '증여세': 15608, '그러자': 15609, '평타': 15610, '졸라': 15611, '존버는뭐': 15612, '쩨발': 15613, '차암': 15614, '방심': 15615, '족하': 15616, '더러': 15617, '짝거려': 15618, '스포티지': 15619, '쏘렌토': 15620, '카니발': 15621, '끓다': 15622, '반항': 15623, '장인어른': 15624, '아주머니': 15625, '고마치': 15626, '오쪼': 15627, '우릴': 15628, '배감': 15629, '맑은': 15630, '결여': 15631, '해사': 15632, '간간': 15633, '홀렸습니': 15634, '덴장': 15635, '개쓰레': 15636, '뭐해': 15637, '무책임하다': 15638, '장파': 15639, '마더': 15640, '시운전': 15641, '구글어스': 15642, '의사소통': 15643, '공통': 15644, '간결하다': 15645, '촌스럽다': 15646, '만삼천이': 15647, '사재기': 15648, '나이아가라': 15649, '중국어': 15650, '넷마블': 15651, '과징금': 15652, '엎은거': 15653, '백금': 15654, '팽팽하': 15655, '분주하다': 15656, '욬': 15657, '망부석': 15658, '무한정': 15659, '천보': 15660, '천만이': 15661, 'ㅡㅡㅡㅡ': 15662, '드가자역해숄': 15663, '드가자': 15664, '절박': 15665, '섭폭': 15666, '가담': 15667, '성분': 15668, '이종': 15669, '하티': 15670, '그램': 15671, '칠면조': 15672, '뻔햇': 15673, '부추기다': 15674, '곱절': 15675, '똥차': 15676, '폐차': 15677, 'ㅂㅂ': 15678, '초딩': 15679, '실책': 15680, '시보': 15681, '랐': 15682, '잇엇습니': 15683, '왓엇': 15684, '싸이트': 15685, '봣습': 15686, '지역감정': 15687, '인민군': 15688, '제복': 15689, '만점': 15690, '살려줭': 15691, '정상회담': 15692, '협주': 15693, '수아': 15694, '일신': 15695, '석재': 15696, '권재진': 15697, '단시간': 15698, '프로미': 15699, '익숙해지다': 15700, '이호재': 15701, '앖다': 15702, '이구': 15703, '몽': 15704, '동진': 15705, '헤지': 15706, '벌렵': 15707, '동해': 15708, '가스전': 15709, '해포': 15710, '산걸': 15711, '초토': 15712, '걸처': 15713, '힌스': 15714, '꼴값': 15715, '성매매': 15716, '캔': 15717, '피셔': 15718, '너무도': 15719, '유념': 15720, '확증편향': 15721, '여의': 15722, '메이데이': 15723, '금리액티브': 15724, '윈도우': 15725, '드레싱': 15726, '명석': 15727, '셰르파': 15728, '뒷산': 15729, '늦엇당': 15730, '대다수': 15731, '헤딩': 15732, 'ㅏㅏㅏㅏㅏ': 15733, '침묵': 15734, 'ㅋㅋㅋㅋㅋㅋㅋㅋㅋㅋㅋㅋㅋㅋㅋㅋㅋㅋㅋ': 15735, '망각': 15736, '운전대': 15737, '늄': 15738, '더치': 15739, '참변': 15740, '믿어지다': 15741, '쿵쾅거리다': 15742, 'ㅋㅅㅋㅅㅋㅅㅋㅅㅋㅅㅋ': 15743, '종몬들': 15744, '월임': 15745, '대리': 15746, '바트': 15747, '갑드': 15748, '양방': 15749, '농협': 15750, '따돌림': 15751, '프럼프': 15752, '챠': 15753, '로컬라이즈': 15754, '국민일보': 15755, '역서': 15756, '활주': 15757, '머또': 15758, '비법': 15759, '푸하하하': 15760, '배우자': 15761, '줄때털': 15762, '순서대로': 15763, '취항': 15764, '확연': 15765, '줏어': 15766, '순리': 15767, '재적': 15768, '되는즉슨': 15769, '코딱지': 15770, '광광': 15771, '장난없다': 15772, '이천원': 15773, '격의': 15774, '느못할': 15775, '나댓으': 15776, '똥꾸': 15777, '녕': 15778, '찍어내다': 15779, '안정국': 15780, '퍼랴형': 15781, '빠따': 15782, '팩폭': 15783, '박멸': 15784, '정호윤': 15785, '설국열차': 15786, '씹덕': 15787, '던파': 15788, '트레이딩': 15789, '염원': 15790, '고유': 15791, '선체': 15792, '원개': 15793, '그다지': 15794, '반나절': 15795, '국화': 15796, '크래프톤갓': 15797, '보름': 15798, '친절하다': 15799, '줸': 15800, '이쓔': 15801, '거미': 15802, '잘쓰다': 15803, '월봉선': 15804, '모럴헤저드': 15805, '깜빵': 15806, '콩밥': 15807, '패닐셀': 15808, '도야': 15809, '알리오': 15810, '만들엇은데': 15811, '맹맛': 15812, '맛맛': 15813, '편집증': 15814, '짜지다': 15815, '주옥': 15816, '페오엑': 15817, '불편': 15818, '조문': 15819, '진짴': 15820, '자윤데': 15821, '유치원': 15822, '봐랔': 15823, '민족': 15824, '똘똘': 15825, '뭉치': 15826, '하사': 15827, '해경': 15828, '작문': 15829, '고이즈미': 15830, '맷': 15831, '주리': 15832, '다산': 15833, '축복': 15834, '부풀': 15835, '물물': 15836, '탐색': 15837, '파이브가이즈': 15838, '퓨어': 15839, '파서': 15840, '쪼끔씩': 15841, '퍼일때': 15842, '전출': 15843, '주식매수선택권': 15844, '모여들다': 15845, '아례': 15846, '이지마': 15847, '무궁화': 15848, '차라': 15849, '마인': 15850, '컬래버레이션': 15851, '굿즈': 15852, '정이오': 15853, '구고': 15854, '친자': 15855, '붕뜬': 15856, '척도': 15857, '벤저민': 15858, '그레이엄': 15859, '꽁초': 15860, '뚜둘겨': 15861, '비사': 15862, '규어': 15863, '보스톤': 15864, '다이나믹스': 15865, '자판': 15866, '성악설': 15867, '베이커리': 15868, '제빵': 15869, '매혈': 15870, '압주': 15871, '신종': 15872, '엔데믹': 15873, '난도질': 15874, '둘이서': 15875, '치루네': 15876, '회계기준': 15877, '황교안': 15878, '통관': 15879, '압수수색': 15880, '노태악': 15881, '원장': 15882, '도장': 15883, '판정': 15884, '양곡': 15885, '탕해': 15886, '사조': 15887, '모시다': 15888, '헌혈': 15889, '원오': 15890, '사귀다': 15891, '임자': 15892, '임개': 15893, '로벌': 15894, '꿈속': 15895, '부부': 15896, '길몽': 15897, '개스엠': 15898, '대물리다': 15899, '할꼬': 15900, '류영준': 15901, '또확': 15902, '다합': 15903, '재량': 15904, '공개매수': 15905, '상충': 15906, '나파': 15907, '비키다': 15908, '에서젠슨황': 15909, '겨우내': 15910, '영아': 15911, '지정학적': 15912, '바느질': 15913, '있넹': 15914, '초슬람': 15915, '하숑': 15916, '윗사람': 15917, '구원': 15918, '돔황처': 15919, '셧다': 15920, '실명': 15921, '야망': 15922, '뇸뇸': 15923, '신기루': 15924, '쫄림': 15925, '매경': 15926, '트럼트': 15927, '궁금스': 15928, 'ㅡㅡㅉㅉㅉ': 15929, '예성': 15930, '다이어트': 15931, '재성': 15932, '세종시': 15933, '회시': 15934, '습습니': 15935, '손절주': 15936, '너덜너덜': 15937, '기가맠힌': 15938, '망연자실': 15939, '페업': 15940, '뎁': 15941, '챙챙': 15942, 'ㅇㅁㅇ': 15943, '까꾸로': 15944, '임글': 15945, '임윌요일': 15946, 'ㅋㅋㄱㄱ': 15947, '펀데': 15948, '미성년': 15949, '늠짜형': 15950, '수렵': 15951, '주하': 15952, '월선': 15953, '얼빠지다': 15954, '소만': 15955, '풍년': 15956, '아니묜': 15957, '렌': 15958, '나왓네': 15959, '빼박': 15960, '등제': 15961, '만천백원': 15962, '응모': 15963, '잠식': 15964, '별풍': 15965, '새마을': 15966, '어으': 15967, '뭘좀': 15968, '특급': 15969, '쩌억': 15970, 'ㄱㄴ': 15971, '가자미': 15972, '엑세스': 15973, '인방': 15974, '배급': 15975, '로컬라이징': 15976, '왕따': 15977, '몽말': 15978, '멸망하다': 15979, '힐': 15980, '이산': 15981, '특검': 15982, '수용': 15983, '선결': 15984, '당년': 15985, '츄리': 15986, '못함': 15987, '재곱': 15988, '중호재': 15989, '기승': 15990, '봉사자': 15991, '인쇄': 15992, '성빈': 15993, '형남': 15994, '태경': 15995, '김나윤': 15996, '김규': 15997, '과학부': 15998, '공과대학': 15999, '생물학': 16000, '석사': 16001, '텍스트': 16002, '폴리머': 16003, '관여': 16004, '표피': 16005, '현미경': 16006, '잔기': 16007, '보존': 16008, '황화': 16009, '헤어': 16010, '서열': 16011, '매개': 16012, '앨': 16013, '토템으러': 16014, '어캐던짐': 16015, '천가면': 16016, '자장면': 16017, '고본': 16018, '아두': 16019, '좀제': 16020, '집산': 16021, '빽빽': 16022, '희롱': 16023, '갠': 16024, '팬층': 16025, '클론': 16026, '송년회': 16027, '꿇다': 16028, '사죄': 16029, '구국': 16030, '혼내다': 16031, '쪼메': 16032, '개점': 16033, '외곽': 16034, '상권': 16035, '입구': 16036, '떡볶이': 16037, '몽치': 16038, '수상자': 16039, '임경욱': 16040, '중거리': 16041, '류성욱': 16042, '민관': 16043, '버텄': 16044, '못드가겠': 16045, '죄책감': 16046, '픽쳐스': 16047, '웹소설': 16048, '뉴미디어': 16049, '계산기': 16050, '고취': 16051, '배설': 16052, '불쾌하다': 16053, '있긔': 16054, '트황': 16055, '다드': 16056, '렀습': 16057, '층닌데': 16058, '계곡': 16059, '규돈': 16060, '곰': 16061, '배치기': 16062, '고여': 16063, 'ㅜㅠㅜㅜ': 16064, '펠로우': 16065, '기술표준': 16066, '방증': 16067, '이우': 16068, 'ㄷㄹ': 16069, '해진': 16070, '공이': 16071, '영전': 16072, '추임': 16073, '해피엔딩': 16074, '낚시질': 16075, '빠뜨리다': 16076, '끝시': 16077, '쫄아서내렷': 16078, '얼마만큼': 16079, '오온': 16080, '록차': 16081, '잔액': 16082, '산월': 16083, '애내': 16084, '관절': 16085, '심란하다': 16086, '그루': 16087, '버렷넹': 16088, '정나미': 16089, '뒷발까락': 16090, '이버': 16091, '놀때': 16092, '좆망': 16093, '피라미드': 16094, '좆창': 16095, '답게': 16096, '므찌다': 16097, '말짱하다': 16098, '구매력': 16099, '배탈': 16100, '순직': 16101, '비통하다': 16102, '쩜상': 16103, '고보장': 16104, '칵': 16105, '이마이': 16106, '있긔없긔': 16107, '원툴': 16108, '깜박': 16109, '원재': 16110, '터셨나': 16111, '젝슨': 16112, '갓난아이': 16113, 'ㅋㅋㅋㅈ': 16114, '바닥나다': 16115, '듯슈카형': 16116, '해피해피': 16117, '양적': 16118, '가공비': 16119, '국민은행': 16120, '가일': 16121, '우편': 16122, '머무르다': 16123, '질후': 16124, '삼부': 16125, '폭등윤': 16126, '윤가': 16127, '상등': 16128, '재축': 16129, '절묘하다': 16130, '용융': 16131, '탁금': 16132, '똥국': 16133, '썩렬이': 16134, '오겠슴': 16135, '실스큐사': 16136, '다대고': 16137, '숏츠': 16138, '국물': 16139, '산사': 16140, '수공': 16141, '후횡보': 16142, '액화천연가스': 16143, '팔꿈치': 16144, '부위': 16145, '재활': 16146, '회사원': 16147, '펄스': 16148, '미취겄': 16149, '애리조나': 16150, '라미': 16151, '네이션': 16152, '스태': 16153, '킹스': 16154, '태킹': 16155, '적층': 16156, '파우치': 16157, '코엠': 16158, '베스': 16159, '코윈': 16160, '고성현': 16161, '상승기류': 16162, '최호': 16163, '번더': 16164, '제하': 16165, '어쯔': 16166, '퍼년후': 16167, '골짜기': 16168, '봉우리': 16169, '허조': 16170, '마트': 16171, '디즈니랜드': 16172, '개폭': 16173, '왜호재': 16174, '캄': 16175, '협치': 16176, 'ㅅㅋ': 16177, '결탁': 16178, '분동': 16179, 'ㅋㅋㅋㅋㄱ': 16180, '녹색': 16181, '화남': 16182, '한판': 16183, '딜레마': 16184, '면배': 16185, '전채': 16186, 'ㅇㅏ': 16187, '슬적': 16188, '들통': 16189, '가물다': 16190, '덴': 16191, '안햇': 16192, '을건데': 16193, '희박': 16194, '김동연': 16195, '관사': 16196, '송치': 16197, '기소': 16198, '연루': 16199, '서식': 16200, '미숙아': 16201, '분유': 16202, '고마움': 16203, '월욜일': 16204, '원함': 16205, '폭풍전야': 16206, '진땀': 16207, '간호': 16208, '학과': 16209, '우당': 16210, '균주': 16211, '교차': 16212, '보채다': 16213, '맑음': 16214, '기우': 16215, '쏫꾸처뢋': 16216, '윤희': 16217, '망국': 16218, '미파': 16219, '달말': 16220, '인내력': 16221, '기복': 16222, '참패': 16223, 'ㅡㅡㅡㅡㅡㅡㅡㅡㅡㅡㅡㅡㅡ': 16224, '위력': 16225, '인조': 16226, '아크': 16227, '블랙마켓': 16228, '평정': 16229, '제임스': 16230, '앨런': 16231, '발칙하다': 16232, '할갑다': 16233, '문뜩문뜩': 16234, '있는뎁': 16235, '몸싸움': 16236, 'ㄴㄴㄴㄴㄴ': 16237, '지휘': 16238, '상딩': 16239, '행적': 16240, '살해': 16241, '블밴': 16242, '장후': 16243, '수거': 16244, '이니셔티브': 16245, '기증': 16246, '불우하다': 16247, '야심': 16248, '박재현': 16249, '정도안': 16250, '음하하': 16251, '코리안리': 16252, '다이버전스': 16253, '신후': 16254, '만발': 16255, '숏친거': 16256, '향해': 16257, '크레딧': 16258, '난방': 16259, '입시': 16260, '영향휴켐스': 16261, '아산화질소': 16262, '엉뚱하다': 16263, '스따뜨': 16264, '껄덕': 16265, '이쉗': 16266, '중진국': 16267, '후반기': 16268, '앞섯': 16269, '꼴찌': 16270, '중환': 16271, '고려국': 16272, '있넴': 16273, '어슬렁거리다': 16274, '산책': 16275, '갈껀데': 16276, '슈화': 16277, '목구멍': 16278, '난관': 16279, '웍스': 16280, '노년': 16281, '곳곳': 16282, '음성인식': 16283, '타임즈': 16284, '전동기': 16285, '꼬시기': 16286, '쿄박': 16287, '쿄박이형': 16288, '후빨': 16289, '법막차': 16290, '능데': 16291, '상장법인': 16292, '권익': 16293, '존립': 16294, '아니옄': 16295, '이씨': 16296, '구독료': 16297, 'ㄹㄱㄴ': 16298, '곧바로': 16299, '클로케': 16300, '재우다': 16301, '낼겸': 16302, '둘걸': 16303, '흡족하다': 16304, '에이치엘비': 16305, '투야': 16306, '기별': 16307, '밥켓': 16308, '백지': 16309, '대명': 16310, '블라디미르': 16311, '푸틴': 16312, '시피': 16313, '오르쟈': 16314, '이상갑': 16315, '몸뚱이': 16316, '최대일': 16317, '벼락': 16318, '등임': 16319, '초콜렛': 16320, '굴뚝': 16321, '함보': 16322, '과외': 16323, '카리스마': 16324, '떳으': 16325, '레보년': 16326, '미션': 16327, '정초': 16328, '곳좀': 16329, '루닛하곤': 16330, '멸콩멸콩': 16331, '시진핑': 16332, '국가주석': 16333, '조선노동당': 16334, '총비서': 16335, '국무위원': 16336, '소국': 16337, '칭': 16338, '반감': 16339, '세수': 16340, '지덕': 16341, '신명': 16342, '귀책사유': 16343, '구자': 16344, '둿': 16345, '세진': 16346, '매라': 16347, '묵힌': 16348, '파로': 16349, '상도': 16350, '부둥키다': 16351, '리안': 16352, '윤지': 16353, '지자': 16354, '괴범': 16355, '갸우뚱': 16356, '패딩': 16357, '여동생': 16358, '중그': 16359, '바로크': 16360, '인분': 16361, '청겨': 16362, '감임': 16363, '투약': 16364, '라팔': 16365, '마갈': 16366, '콜업': 16367, '때됏잔': 16368, '화끈': 16369, '집팔': 16370, '세컨': 16371, '부풀리기': 16372, '테네시': 16373, '결말': 16374, '썽': 16375, '강의': 16376, '리제': 16377, '보탰다이날': 16378, '주먹구구': 16379, '악재속': 16380, '로익': 16381, '돈발': 16382, '서정진': 16383, '서울중앙지법': 16384, '제소': 16385, '적층해': 16386, '접합': 16387, '위추': 16388, '기계로': 16389, '전직': 16390, '박대': 16391, '일언방구': 16392, '턴업하': 16393, '법석': 16394, '피우지': 16395, '묵힌다': 16396, '딸내미': 16397, '오동환': 16398, '서치': 16399, '등산': 16400, '마음속': 16401, '시큐리티': 16402, '거역': 16403, '옛적': 16404, '부증': 16405, '막강': 16406, '액션게임': 16407, '제아': 16408, '위임': 16409, '바치': 16410, '븐': 16411, '초겨울': 16412, '나초': 16413, '산전': 16414, '골든글러브': 16415, '최우수': 16416, '횡보만': 16417, '대문': 16418, '럽습': 16419, '위험성': 16420, '듀랑': 16421, '아라드': 16422, '무안국': 16423, '호벽': 16424, '한화갑': 16425, '분계': 16426, '초속': 16427, '징허다잉': 16428, '찔금': 16429, '주서': 16430, '치켜세우다': 16431, '쓸리다': 16432, '형사고소': 16433, '반비례': 16434, '롱롱': 16435, '맷집': 16436, '왱알': 16437, '은젠': 16438, '유니슨': 16439, '안부': 16440, '도난': 16441, '정확도': 16442, '무궁무진': 16443, '데코': 16444, '급선무': 16445, '약체': 16446, '결방': 16447, '십퍼빔': 16448, '왜케들': 16449, '불치': 16450, '아브라카타브라': 16451, '부두': 16452, '횡보뿐': 16453, '만오천원': 16454, '깜놀': 16455, '차이점': 16456, '명단': 16457, '오래전': 16458, '드가즈': 16459, '큐리': 16460, '헉헉': 16461, '후광': 16462, '엄천': 16463, '짜장': 16464, '후론': 16465, '도로아미타불': 16466, 'ㄲ': 16467, '이샊': 16468, '쫄기': 16469, '호랑': 16470, 'ㅁㅊㄴ': 16471, '턱밑': 16472, '놨더': 16473, '강박증': 16474, '매실': 16475, '뭐년': 16476, '천희': 16477, '느킴': 16478, '서랍': 16479, '종특': 16480, '팹리스': 16481, '처방전': 16482, '연포': 16483, '포퓰리즘': 16484, '그리스': 16485, '베네수엘라': 16486, '플라톤': 16487, '소크라테스': 16488, '타락하다': 16489, '중우정치': 16490, '비합리적': 16491, '열폭': 16492, '윤개': 16493, 'ㅅㅏㄴ': 16494, '친전': 16495, '대관': 16496, '삽하': 16497, '올라뿌': 16498, '자능': 16499, '포승': 16500, '줄달': 16501, '힁': 16502, '쩜하': 16503, '몽땅': 16504, '나루': 16505, '반값': 16506, '만이구': 16507, '자상하다': 16508, '옥탑': 16509, '바이엘': 16510, '살란': 16511, '핫팅': 16512, '갓럼프': 16513, '어태': 16514, '어딘지몰': 16515, '아파해': 16516, '목금': 16517, '약점': 16518, '아닥하': 16519, '잼버리': 16520, '통조림': 16521, '커다랗다': 16522, '카겜때매': 16523, '레오': 16524, '빵꾸똥꾸': 16525, '사하라': 16526, '뒤지겄다': 16527, '출구': 16528, '급부': 16529, '리세': 16530, '여하간': 16531, '일임': 16532, '버셧': 16533, '드렷': 16534, '버셧으': 16535, '제롬': 16536, '성언': 16537, '에드': 16538, '다야': 16539, '중소기업청': 16540, '국립보건원': 16541, '농부': 16542, '국립': 16543, '교육부': 16544, '학자금': 16545, '지방정부': 16546, '재정난': 16547, '직면': 16548, '란다': 16549, '짜샤': 16550, '용케': 16551, '뮨': 16552, 'ㅜㅋㅋ': 16553, '달구다': 16554, '구두': 16555, '러브': 16556, '앤텐더': 16557, '정심': 16558, '풀기': 16559, '연례': 16560, '공작': 16561, '이같이': 16562, '호재년': 16563, '눌림횡': 16564, '속편': 16565, '퍼잉데': 16566, '미래년': 16567, '맹글': 16568, '우야꼬': 16569, '기물': 16570, '총회': 16571, '난장': 16572, '아이쿠': 16573, '구경만해': 16574, '청사': 16575, '염장': 16576, '루즈': 16577, '박상준': 16578, '떳길래': 16579, '리포터': 16580, '와르르': 16581, '웃음소리': 16582, '절벽': 16583, '립니': 16584, '뚤렸으': 16585, '에구머니': 16586, '토종': 16587, '기반시설': 16588, '남양주': 16589, '용마터널': 16590, '산성': 16591, '수원': 16592, '외곽순환': 16593, '북부': 16594, '지리멸렬하다': 16595, '별일': 16596, '정복': 16597, '가슴앓이': 16598, '자멸': 16599, '몬헌': 16600, '뭐꼬또': 16601, '과도기': 16602, '다이나믹': 16603, '양분': 16604, '넘겨보다': 16605, '술자리': 16606, '재슨황': 16607, '데인': 16608, '준지': 16609, '존버할생각': 16610, '직도': 16611, 'ㅋㅋㅋㅋㅋㅋㅋㅋㅋㅋㅌ': 16612, '뿐그': 16613, '이상승': 16614, '의총': 16615, '의순': 16616, '라이드': 16617, '라틴': 16618, '닥치': 16619, '한가운데': 16620, '중세': 16621, '어캐함': 16622, '줏을려': 16623, '낄낄대다': 16624, '란동': 16625, '조범': 16626, '동강': 16627, '충붖히': 16628, '중현': 16629, '쉣기': 16630, '로봇틱스': 16631, '아이작': 16632, '우후': 16633, '훗': 16634, '삿구': 16635, '고등학생': 16636, '말나': 16637, '옷넹': 16638, '스기': 16639, '답손절': 16640, '강추년안': 16641, '길밖': 16642, '엘또속': 16643, '쫄았슴': 16644, '윤서': 16645, '정무': 16646, '보탭시': 16647, '머쪽': 16648, '앞길': 16649, '저압': 16650, '회전기': 16651, '넘김': 16652, '글로': 16653, '뭐좀': 16654, '육만육': 16655, '오껨': 16656, '우리동네': 16657, '편의점': 16658, '슈퍼마켓': 16659, '퀵': 16660, '건수': 16661, '두루': 16662, '뭉실': 16663, '화증': 16664, '아토피': 16665, '혈중': 16666, '횡보할까': 16667, '딘장': 16668, '제휴': 16669, '사빅': 16670, '엑손모빌': 16671, '스샤앗': 16672, '랄줄': 16673, '헨델': 16674, '그랫델': 16675, '겸손': 16676, '깔보다': 16677, '뽕': 16678, '맞죵': 16679, '일왕': 16680, '다녀가다': 16681, '계획성': 16682, '워렛': 16683, '건국': 16684, '억만원': 16685, '장학금': 16686, '학대': 16687, '세이브더칠드런': 16688, '굿네이버스': 16689, '김정영': 16690, '아니먄': 16691, '성찰': 16692, '쇼생': 16693, '보냇었던': 16694, '우익': 16695, '꼬시는구': 16696, '브컴': 16697, '션절삭': 16698, '언어': 16699, '카나': 16700, '괞히': 16701, '매몰': 16702, '보통사람': 16703, '데드': 16704, '의결': 16705, '아이리스': 16706, '근적외선': 16707, '오프': 16708, '수배': 16709, '님블뉴런': 16710, '나누어지다': 16711, '행주': 16712, '양좀': 16713, '꼬기': 16714, '레시피': 16715, '불완전하다': 16716, '순도': 16717, '연세대': 16718, '렀': 16719, '학문': 16720, '명운': 16721, '렬': 16722, '노반': 16723, '레이브': 16724, '스병': 16725, '제넥스': 16726, '벤츠': 16727, '변비': 16728, '말랑하다': 16729, '빠밤빰딱': 16730, '횽림들': 16731, '전지수': 16732, '물처리': 16733, '냴보겠': 16734, '생중계': 16735, '개표': 16736, '아람': 16737, '교두보': 16738, '내세': 16739, '지하방': 16740, '빠수니': 16741, '이음': 16742, 'ㅡㅡㅎ': 16743, '등따숩': 16744, '토독토독': 16745, '우숩': 16746, '로주': 16747, '닉말': 16748, '나왓는데': 16749, '중궈꺼': 16750, '유단': 16751, '유우': 16752, '금번': 16753, '뺴는구': 16754, '애교': 16755, '상투': 16756, '테슬란': 16757, '콘투': 16758, '스위칭': 16759, '모래': 16760, '꼬레아패싱': 16761, '도국': 16762, '격하': 16763, '박박': 16764, 'ㅎㅎㅎㅎㅎㅎ': 16765, '공수': 16766, '밸런스': 16767, '물렷네하': 16768, '재수없다': 16769, '기웃기웃': 16770, '캐나다인': 16771, '도발': 16772, '향기': 16773, '들차다': 16774, '겁내': 16775, '가그라': 16776, '츠물리': 16777, '대못': 16778, '겅': 16779, '강주': 16780, '이럸수': 16781, '건일': 16782, '출렁': 16783, '조증': 16784, 'ㄱㄱㅇㄱㅇ': 16785, 'ㅎㅋㅋㅋㅋㅋㅋㅋ': 16786, '기름값': 16787, '납': 16788, '입하': 16789, '크드': 16790, '코다': 16791, '임시변통': 16792, '청해': 16793, '듯함': 16794, '조현병': 16795, '등록금': 16796, '방점': 16797, '어쩌려': 16798, '엄중하다': 16799, '투성이': 16800, '이창용': 16801, '아태': 16802, '거시경제': 16803, '능통하다': 16804, '메스': 16805, '멸': 16806, '쓸모': 16807, '계쏙': 16808, '다이아': 16809, '모에모에': 16810, '하워드': 16811, '그니': 16812, '센트': 16813, '묵적': 16814, '음료수': 16815, '둘껄': 16816, '고수로': 16817, '특집': 16818, '조성자': 16819, '고분자': 16820, '느좋': 16821, '디센딩': 16822, '워렌': 16823, '나리': 16824, '해리슨': 16825, '통솔': 16826, '인파': 16827, '극도': 16828, '높힌': 16829, '제다이': 16830, '해프닝': 16831, '펩형': 16832, '노름': 16833, '원보': 16834, '드라마틱': 16835, '몹시': 16836, '갑진년': 16837, '고단': 16838, '선비': 16839, '영웅문': 16840, '황최': 16841, '데니': 16842, '듼데': 16843, '호재투': 16844, '럴': 16845, '퐉': 16846, '수주량': 16847, '수비대': 16848, '밤송이': 16849, '맨손': 16850, '체급': 16851, '탐사': 16852, '빙빙': 16853, '교묘하다': 16854, '장물': 16855, '정수리': 16856, '파마슈티컬스': 16857, '이등병': 16858, '여단': 16859, '부사관': 16860, '천마도': 16861, '포신': 16862, '현대인': 16863, '후방': 16864, '야간': 16865, '사거리': 16866, '포사': 16867, '수애': 16868, '제어장치': 16869, '경북': 16870, '김천시': 16871, '어모면': 16872, '김천': 16873, '차보': 16874, '동유럽': 16875, '동남아시아': 16876, '췌장암': 16877, '신청서': 16878, '기븐': 16879, '아놔물렿구': 16880, '군물': 16881, '타키': 16882, '비엠빼고': 16883, '틔었습니다비엠': 16884, '홀딩한달': 16885, '후차': 16886, 'ㅋㅋㅌ': 16887, '퍼먹': 16888, '아하이아': 16889, '혈압': 16890, '소홀': 16891, '무인기': 16892, '꿋꿋': 16893, '잔득': 16894, '경찰특공대': 16895, '병력': 16896, '디즈니': 16897, '발동': 16898, '차출': 16899, '세계대전': 16900, '미키': 16901, '범띠': 16902, '띠이다': 16903, '앞서서': 16904, '수비': 16905, '돌변': 16906, '대수': 16907, '뒷다리': 16908, '별빛': 16909, '쫓아가다': 16910, '덱스': 16911, '부임': 16912, '달채': 16913, '소나라': 16914, '뇌전증': 16915, '내정': 16916, '스피어': 16917, '엘피': 16918, '토모': 16919, '오르넹': 16920, '천치': 16921, '아뢰다': 16922, '얽매이다': 16923, '마땅치': 16924, '있다루닛': 16925, '조지': 16926, '학년': 16927, '패인': 16928, '개잡주': 16929, '버는거임': 16930, '칙': 16931, '땅콩': 16932, '아타': 16933, '까운': 16934, '지씨': 16935, '거북하다': 16936, '날벼락': 16937, '도퇴': 16938, '투좀': 16939, '어케버텨': 16940, '블핑': 16941, '버스터': 16942, '샤이니': 16943, '하이픈': 16944, '운동회': 16945, '떠가다': 16946, '가줄': 16947, '원숭이': 16948, '번동': 16949, '용쪽': 16950, '명중': 16951, '손절맨': 16952, '곤장': 16953, '쫄았는데': 16954, '퍼시픽': 16955, '생물다양성': 16956, '차환': 16957, '트렌치': 16958, '민평': 16959, '트집': 16960, '측은하다': 16961, '취미': 16962, '경상도': 16963, '오케': 16964, '롤러코스터': 16965, '종잡': 16966, '짯습니': 16967, '해검': 16968, '저궤도': 16969, '상정이': 16970, '마주': 16971, '여윽시': 16972, '나물': 16973, 'ㅜㅠㅠㅠ': 16974, '팬데믹': 16975, '화물': 16976, '숭배': 16977, '추잡하다': 16978, '이만원': 16979, '일똥': 16980, '크리티컬': 16981, '반타작': 16982, '치받다': 16983, '쑤트레쓰': 16984, '이왕가': 16985, '것돈': 16986, '회견': 16987, '쏙': 16988, '핵호': 16989, '번주': 16990, '개정안': 16991, '꼽음주': 16992, '떨구넴': 16993, '민낯': 16994, '달마': 16995, '서브컬처': 16996, '모토': 16997, '겜존버': 16998, '격화되': 16999, '비밀요원': 17000, '에서까지': 17001, '커뷰': 17002, '역도': 17003, '라니깐': 17004, '이삼천만': 17005, '디싹': 17006, '히틀러': 17007, '시늉': 17008, '일날': 17009, '뚤림': 17010, '햇볕': 17011, '가야겄': 17012, '피신': 17013, '라자로': 17014, '에페': 17015, '심폐소생술': 17016, '채씨': 17017, '마쇼': 17018, '노해': 17019, '메이트': 17020, '진구': 17021, '말미잘': 17022, '선처': 17023, '확증': 17024, '츄': 17025, '장넌': 17026, '콕핏': 17027, '내연기관': 17028, '살균제': 17029, '소라면': 17030, '이자나': 17031, '버업이버': 17032, '덤덤': 17033, '중책': 17034, '바텍': 17035, '껀덕': 17036, '화교': 17037, '해드앤숄': 17038, '기력': 17039, 'ㅂㅕㅇ': 17040, 'ㄲㅂ': 17041, '헥슬게임': 17042, '방바닥': 17043, '청국장': 17044, '조립': 17045, '함예': 17046, '딥': 17047, '얽다': 17048, '섥켜': 17049, '홀딩했': 17050, '하기야': 17051, '마날': 17052, '꼬깃꼬깃': 17053, '구기다': 17054, '사견': 17055, '지적재산': 17056, '천백': 17057, '페이지': 17058, '생소하다': 17059, '전문용어': 17060, '전술': 17061, '속단': 17062, '스크립트': 17063, '블랙먼데이': 17064, '권트': 17065, '연재': 17066, '벌때': 17067, '쌘': 17068, '촤': 17069, '삼성산': 17070, '독해': 17071, '짓게펌핑': 17072, '노루': 17073, '속속': 17074, '와이즈넛': 17075, '위너스': 17076, '피아': 17077, '이이': 17078, '지넷': 17079, '동국': 17080, '구본능': 17081, '못벌': 17082, '애국인': 17083, '계륵': 17084, '십원': 17085, '경험치': 17086, '케미컬': 17087, '정화': 17088, '풍력발전': 17089, '무뇌아': 17090, '심각': 17091, '배롱': 17092, '앵무새': 17093, '등원': 17094, '카카': 17095, '변이체': 17096, '브리스톨': 17097, '어스': 17098, '스퀴브': 17099, '티그': 17100, '방전': 17101, '수냉식': 17102, '자산운용': 17103, '읽히다': 17104, '물살': 17105, '볼륨': 17106, '량거래량': 17107, '유성': 17108, '엔걸핑': 17109, '등를': 17110, '회산': 17111, '흐앙': 17112, '미띤': 17113, '애니플러스': 17114, '태웅': 17115, '경제범죄': 17116, '특경법': 17117, '주의자': 17118, '윤관': 17119, '정정당당하다': 17120, '블럭': 17121, '시내': 17122, '과테말라': 17123, '텅텅': 17124, '다르죵': 17125, '스위치': 17126, '개봉일': 17127, '쿤': 17128, '엎을수': 17129, '어렷을적': 17130, '예사': 17131, '인역': 17132, '탕지븜': 17133, '흑연': 17134, '손절칠': 17135, '더사버령': 17136, '연속극': 17137, '다리미': 17138, '패밀리': 17139, '보았슴': 17140, '이해억': 17141, '엌': 17142, '기념비': 17143, '날후훗': 17144, '호랭이': 17145, '하늘높이': 17146, '빈살': 17147, '진용': 17148, '레쓰': 17149, '열흘': 17150, '이입': 17151, '룰루': 17152, '탐사선': 17153, '신자': 17154, '공개처형': 17155, '발보': 17156, '테리': 17157, '사익': 17158, '그리하여': 17159, '하렵니다몆': 17160, '궐련': 17161, '전자담배': 17162, '원안': 17163, '베테': 17164, '독박': 17165, '샌드': 17166, '경국': 17167, 'ㅋㄱㅋㅋㄲㅋㅋㅋㅋㅋㅋㅋㅋㅋ': 17168, '과로': 17169, '처우': 17170, '정예': 17171, '화들짝': 17172, 'ㅜㅋㅋㅋㅋ': 17173, '주름살': 17174, '나쭤': 17175, '자기야': 17176, '잡혀가다': 17177, '재상': 17178, '피땀': 17179, '수련': 17180, '만자': 17181, '파립': 17182, '피소': 17183, '새뱃돈': 17184, '귀하다': 17185, '후후': 17186, '주목할만하다': 17187, '입사': 17188, '어딤': 17189, '퍼대': 17190, '층임': 17191, '정쟁': 17192, '경부': 17193, '삼이': 17194, '드러눕다': 17195, '토악질': 17196, '사냥꾼': 17197, '녈': 17198, '매질': 17199, '유린': 17200, '불가피하다': 17201, '하늘이시여': 17202, '벌주다': 17203, '원님': 17204, '룔': 17205, '유전': 17206, '대통령령': 17207, '요양': 17208, '뿌러졌': 17209, '몬살것': 17210, '들어왓다': 17211, '깝치': 17212, '힝로': 17213, '찌릿하': 17214, '시궁창': 17215, '연후': 17216, '재빨리': 17217, '평상': 17218, '평상시': 17219, '민망하다': 17220, '인민공화국': 17221, '달도': 17222, '이유현': 17223, '밀면': 17224, '정보공': 17225, '만사팔사팔': 17226, '모모': 17227, '정금': 17228, '워프': 17229, '주춤거리다': 17230, '서른': 17231, '검시': 17232, '다빨렸': 17233, '표함': 17234, '씌리': 17235, '요요': 17236, '보사': 17237, '순위도': 17238, '시장점유율': 17239, '애착': 17240, '뎄을까엉': 17241, '볼놈': 17242, '햬': 17243, '만신창이': 17244, '강원도': 17245, '구만원': 17246, '얼처': 17247, '선량하다': 17248, '중순즘': 17249, '세력가': 17250, '부스러지다': 17251, '롯봇': 17252, '던저': 17253, '순순하다': 17254, '투항': 17255, '블어물량': 17256, '취했다': 17257, '비토': 17258, '덜려': 17259, '러브텐더': 17260, '다관': 17261, '동맥': 17262, '사이토카인': 17263, '방출': 17264, '코로나바이러스': 17265, '감염증': 17266, '옷값': 17267, '벌값': 17268, '디드어': 17269, '바니': 17270, '라떼': 17271, '지포스': 17272, '킵고잉만원': 17273, '디톡스': 17274, '톡신': 17275, '실발후': 17276, '모내기': 17277, '어허': 17278, '정밀도': 17279, '애프터서비스': 17280, '발버둥치다': 17281, '한에쨩': 17282, '정겹다': 17283, '귀요미': 17284, '함볼': 17285, '창창하다': 17286, '중공': 17287, '후다닥': 17288, '김선웅': 17289, '음음': 17290, 'ㅋㅋㄱㅋ': 17291, '눌린': 17292, '눌리던': 17293, '한돌': 17294, '접혔음': 17295, '빠따맥': 17296, '기이': 17297, '불가피': 17298, '만평': 17299, '부산시': 17300, '진성': 17301, '스멜스': 17302, '참관': 17303, '엠큐': 17304, '실권': 17305, '엮어대': 17306, '최면': 17307, '루프': 17308, '럼프햄': 17309, '서금': 17310, '요란하다': 17311, '니미': 17312, '왈칵': 17313, '꽃히': 17314, '쿡쿡': 17315, '아려': 17316, '연습': 17317, 'ㅌㅋㅋㅋ': 17318, '내연': 17319, '상판번': 17320, '코난테크놀로지': 17321, '브리지': 17322, '경제대공황': 17323, '닌지': 17324, '밤낮': 17325, '위연': 17326, '방덕': 17327, '또온': 17328, '태원': 17329, '졕스': 17330, '태보': 17331, '왜못탓': 17332, '껄무새되지': 17333, '아애': 17334, '점깨': 17335, '엄금': 17336, '엮지마': 17337, '내재가치': 17338, '간당간당': 17339, '뽀록나다': 17340, '니아': 17341, '네덜란드': 17342, '모면': 17343, '공조': 17344, '승격': 17345, '중복': 17346, '오픈소스': 17347, '실리콘밸리': 17348, '군침': 17349, '닉산': 17350, '버틸껄': 17351, '다형': 17352, '천햐': 17353, '분후': 17354, '앖': 17355, '말함즉': 17356, '연어': 17357, '감선': 17358, '박용': 17359, '대업': 17360, '유지연': 17361, '내놩': 17362, 'ㅠㅋㅋ': 17363, '암흑': 17364, '빛볼때': 17365, '비리다': 17366, '부둣가': 17367, '누벼': 17368, '뒷골목': 17369, '내한': 17370, '아낌없이': 17371, '내생': 17372, '높다얼릉': 17373, '고삐': 17374, '지장보살': 17375, '드르': 17376, '꼬박': 17377, '룰임': 17378, '조류인플루엔자': 17379, '오픈월드': 17380, '어드벤처': 17381, '독창': 17382, '연년': 17383, '얼릉': 17384, '쏘와줭': 17385, '박유악': 17386, '애지중지': 17387, '말라가': 17388, '한치': 17389, '미장러': 17390, '물귀신': 17391, '개럼': 17392, '익항': 17393, '불똥': 17394, '머시': 17395, '폭사': 17396, '꼬접임미': 17397, '한고비': 17398, 'ㅊㅊ': 17399, '뽀': 17400, '떡수': 17401, '난간': 17402, '낙후': 17403, '지만지': 17404, '블랙박스': 17405, '취부': 17406, '알수없음': 17407, '쨩': 17408, '캘리포니아주': 17409, '탈퇴': 17410, '컨콜': 17411, '평화롭다': 17412, '근간': 17413, '키다': 17414, '인생역전': 17415, '글럿는데': 17416, '불도': 17417, '헤까닥': 17418, '경비': 17419, '넬료': 17420, '끙': 17421, '껄그룹짓': 17422, '일단락': 17423, '우군': 17424, '취할': 17425, '단숨': 17426, '레츠고': 17427, '방시혁': 17428, '에게나': 17429, '베찌': 17430, '빌라': 17431, '해마': 17432, '안간힘': 17433, '슨': 17434, '무뎌': 17435, '요또': 17436, '바켐': 17437, '신평': 17438, '이명': 17439, '산부인과': 17440, '여혐': 17441, '비빔밥': 17442, '노숙자': 17443, '핑크': 17444, '존경심': 17445, '소거': 17446, '파민': 17447, '흐려지다': 17448, '서예': 17449, '샀엇': 17450, '용매': 17451, '등각': 17452, '존버중담달': 17453, '마하': 17454, '욕설': 17455, '러더': 17456, 'ㅠㅜㅠㅜㅜㅜㅜ': 17457, '관순': 17458, '스냅': 17459, '호소': 17460, '심각해지다': 17461, '코스터': 17462, '관려주': 17463, '매그': 17464, '자포자기': 17465, '정당하다': 17466, '두유': 17467, '자켓': 17468, '포문': 17469, '열기': 17470, '젛겠냐': 17471, '알단': 17472, '인고': 17473, '개쭐': 17474, '입쩍': 17475, 'ㅣㄴ': 17476, '폭마': 17477, '담번': 17478, '단기매매': 17479, '우유팩': 17480, '농축': 17481, '수용액': 17482, '생화학': 17483, '생존자': 17484, '관짝': 17485, '더맏': 17486, '장금': 17487, '신축': 17488, '가림': 17489, '무한궤도': 17490, '젖': 17491, '잼': 17492, '가즈으': 17493, 'ㅏㅏㅏㅡㅏ': 17494, '유서': 17495, '지령': 17496, '숏친': 17497, '일월': 17498, '갇다': 17499, '쫌층위': 17500, '차야': 17501, '절체절명': 17502, '소속사': 17503, '이눔': 17504, '깉': 17505, '원효대사': 17506, '신진대사': 17507, '으로부터도': 17508, '넣르': 17509, '녹붕': 17510, '샘슝': 17511, '팔사팔': 17512, '패자': 17513, '월지': 17514, '포크': 17515, '바이바이': 17516, '차감': 17517, '시몬스': 17518, '번다': 17519, '마롱': 17520, '함평': 17521, '엠트론': 17522, '페이저': 17523, '들쭉날쭉하다': 17524, '부랴부랴': 17525, '출동': 17526, '종지': 17527, '조정시기': 17528, '씨켐': 17529, '덕인': 17530, '빈총': 17531, '쿠데': 17532, '놀음': 17533, '홍': 17534, '의병': 17535, '창가': 17536, '홰손': 17537, '여론재판': 17538, '양대': 17539, '악의축': 17540, '쌔쌔명': 17541, '스케쥴': 17542, '기수': 17543, '관제탑': 17544, '차랜': 17545, '약시': 17546, '마찰계수': 17547, '도포': 17548, '급박': 17549, '왜그랴': 17550, '직종': 17551, '휘핑크림': 17552, '생크림': 17553, '우유곽': 17554, '테트라': 17555, '세척': 17556, '서생': 17557, '업도': 17558, '사촌': 17559, '깽': 17560, '항항': 17561, '눌렸기': 17562, '톈옌를': 17563, '자정': 17564, '보양': 17565, '퀀텀시텍': 17566, '가겄다': 17567, '독사': 17568, '개래량': 17569, '죨려': 17570, '차신': 17571, '삼만원': 17572, '재작년': 17573, '왐마': 17574, '올랜만에보넼': 17575, '어케하조': 17576, '저축은행': 17577, '이따가': 17578, '하랬더': 17579, '있냐엨읔읔엨': 17580, '만두': 17581, '낮밤': 17582, '백수': 17583, '폐인': 17584, '난리치다': 17585, '갈때가됫다': 17586, '유방': 17587, '성루': 17588, '성과루닛': 17589, '협력루닛': 17590, '프락치': 17591, '킬러': 17592, '빨립니': 17593, '헬조선': 17594, '안삿': 17595, '이삼십': 17596, '없넼': 17597, '칭구': 17598, '함뭐': 17599, '슈주': 17600, '최대성': 17601, '베베': 17602, '공산': 17603, '능성': 17604, '견고': 17605, '찡찡대다': 17606, '애석하다': 17607, '낙지': 17608, '선심': 17609, '카르텔': 17610, '관계도': 17611, '여수': 17612, '허허벌판': 17613, '공주시': 17614, '몬가삘임': 17615, '려리': 17616, '피기': 17617, '천연고무': 17618, '국도': 17619, '유례': 17620, 'ㄲㅃㅇ': 17621, '개속': 17622, '휠씬': 17623, '간발': 17624, 'ㅋㅋㄱㅋㅋㅋㅋㄱㄱ': 17625, '휑': 17626, '외롭다': 17627, '지붕': 17628, '진기': 17629, '측소': 17630, '쪼금씩': 17631, '땡땡': 17632, '즐토': 17633, '년텐베거': 17634, '죽죽': 17635, '종원': 17636, '보배': 17637, '반점': 17638, '장시간': 17639, '나와랏': 17640, '숙취': 17641, '소제': 17642, '쇠주': 17643, '찌질하다': 17644, '얘보': 17645, '꼬맹이': 17646, '샛별': 17647, '닉놈': 17648, '아프간': 17649, '군중': 17650, '곰인형': 17651, '갠찮': 17652, '행진': 17653, 'ㅈㄱ': 17654, '네버셀': 17655, '불매운동': 17656, '리듬': 17657, '납기': 17658, '스탠리': 17659, '가신': 17660, '믈': 17661, '알찌': 17662, '라이언에어': 17663, '극악': 17664, '굴린': 17665, '에어버스': 17666, '사우스': 17667, '웨스트': 17668, '기념품': 17669, '힘든님': 17670, '프로세싱': 17671, '바이오매스': 17672, '사봣으': 17673, '점복': 17674, '금악': 17675, '초초초호': 17676, '초악': 17677, '서비스로봇': 17678, '못하넹': 17679, '가비아': 17680, '낌': 17681, 'ㄷㅔ': 17682, '굴삭기': 17683, '휠': 17684, '로더': 17685, '지게차': 17686, '콰당': 17687, '퍼일': 17688, '퀄리티': 17689, '미국법': 17690, '도체': 17691, '중굥': 17692, '빅컷': 17693, '미라': 17694, '내비': 17695, '쿠쿠': 17696, '좀살걸': 17697, '볕': 17698, '내부고발자': 17699, '주차장': 17700, '숨지다': 17701, '댐그': 17702, '디나': 17703, '황쌤': 17704, '가위바위보': 17705, '마스터': 17706, '액등': 17707, '르트': 17708, '캅탄': 17709, '낙찰': 17710, '체현': 17711, '권텀': 17712, '프로토타입': 17713, '폐시': 17714, '껀수물었': 17715, '식욕': 17716, '혈당': 17717, '인벤': 17718, '문밖': 17719, '네온': 17720, '켐년': 17721, '링거꼽': 17722, '노환': 17723, '끝임': 17724, '이념': 17725, '헤어스타일': 17726, '깜찍하다': 17727, '뽐내다': 17728, '사로자다': 17729, '뿎까': 17730, '동그랗다': 17731, '고척': 17732, '돔': 17733, '들썩': 17734, '훌러덩': 17735, '집사': 17736, '빵빵': 17737, '낼층': 17738, '걥': 17739, '찬밥': 17740, '때슬때': 17741, '윤개새': 17742, '처서': 17743, '전권': 17744, '선민의식': 17745, '계몽': 17746, '공범': 17747, '매달다': 17748, '재판': 17749, '콜마': 17750, '반입': 17751, '함자': 17752, '방대하다': 17753, '캘리포니아': 17754, '돌아다니다': 17755, '모의': 17756, '재규어': 17757, '파나소닉': 17758, '소굴': 17759, '퇴화': 17760, '버려지다': 17761, '체성': 17762, '머리털': 17763, '천중': 17764, '영장': 17765, '조마조마하다': 17766, '나락갔나': 17767, '이러케': 17768, '오우이': 17769, '디플레': 17770, '스테그휘둘려': 17771, '설마설마': 17772, '능가': 17773, '올림픽': 17774, '월드컵': 17775, '김연아': 17776, '선수': 17777, '박태환': 17778, '원조': 17779, '이승만': 17780, '윤보선': 17781, '전두환': 17782, '김영삼': 17783, '모더뜨릴러': 17784, '소감': 17785, '추접': 17786, '스고이': 17787, '엿보다': 17788, '엄니': 17789, '티스': 17790, 'ㄱㅇㄷ': 17791, '렌탈': 17792, '정점': 17793, '담대하다': 17794, '긔': 17795, '목폿': 17796, '겨층': 17797, '물량풀리': 17798, '붕붕': 17799, '괴롭힘': 17800, '거능': 17801, '남일': 17802, '라가': 17803, '열심': 17804, '도못': 17805, '미국식품의약국': 17806, '실비': 17807, '크리스': 17808, '왜케팔': 17809, '이색': 17810, '어메': 17811, '비화': 17812, '이른바': 17813, '고의': 17814, '때일': 17815, '쉴드치다': 17816, 'ㅋㅌㅌㅋㅌㅋㅋㅋㅋㅋ': 17817, '칼라일': 17818, '악템': 17819, '쌈썽': 17820, '사주면': 17821, '물량임': 17822, '펩트야쟤': 17823, '쓰레기통': 17824, '구공탄': 17825, '석탄': 17826, '훈장': 17827, '부손': 17828, '서초구': 17829, '한종': 17830, '망년': 17831, '사향': 17832, '풀밭': 17833, '감염병': 17834, '찮다': 17835, '연지역': 17836, '압축': 17837, '방호벽': 17838, '싸이코': 17839, '맞는겅': 17840, '죽겐': 17841, '휑하': 17842, '틈틈이': 17843, '노야': 17844, 'ㅠㅠㅠㅠㅠㅠㅠ': 17845, '물렸더랬': 17846, '이창영': 17847, '풍부': 17848, '청원시': 17849, '청원': 17850, '토닥토닥': 17851, '버러지': 17852, '환급': 17853, '오푸스': 17854, '메리츠화재': 17855, '마시스': 17856, 'ㅅㅂㄹ': 17857, '펨트론': 17858, '당론': 17859, '난해': 17860, '스닥형': 17861, 'ㅋㅁㅔㄹ': 17862, '택지': 17863, '조성도': 17864, '배후': 17865, '주거지': 17866, '밴댕이': 17867, '어지간': 17868, '이엠텍': 17869, '점지': 17870, '수당': 17871, '노동계': 17872, '주권': 17873, '엔무브': 17874, '전시관': 17875, '사츠키': 17876, '깃카임': 17877, '더비': 17878, '룸메이트': 17879, '이국': 17880, '왕녀': 17881, '나른하다': 17882, '징왜': 17883, '메가와트': 17884, '그리드': 17885, '출력': 17886, '무정': 17887, '전전': 17888, '개역': 17889, '몰랐넹': 17890, '찌밤': 17891, '꼽는': 17892, '장벽': 17893, '승용차': 17894, '역학': 17895, '출품': 17896, '울화': 17897, '치밀다': 17898, '어쩌고': 17899, '외궈': 17900, '같잖다': 17901, '돈임': 17902, '뭐합': 17903, '가묘': 17904, '이쁜이': 17905, '훅감': 17906, '무속': 17907, '승연': 17908, '아드님': 17909, '므나도': 17910, '지민': 17911, '수니': 17912, '불소': 17913, '내열성': 17914, '절연': 17915, '화학물질': 17916, '유해하다': 17917, '자외선': 17918, '식각': 17919, '원투': 17920, '트슴': 17921, '금석': 17922, '물더타봄': 17923, '앞전': 17924}\n"
     ]
    }
   ],
   "source": [
    "print(tokenizer.word_index)\n"
   ]
  },
  {
   "cell_type": "code",
   "execution_count": 37,
   "metadata": {},
   "outputs": [
    {
     "name": "stdout",
     "output_type": "stream",
     "text": [
      "단어 집합(vocabulary)의 크기 : 17924\n",
      "등장 빈도가 1번 이하인 희귀 단어의 수: 7665\n",
      "단어 집합에서 희귀 단어의 비율: 42.76389198839545\n",
      "전체 등장 빈도에서 희귀 단어 등장 빈도 비율: 2.4709386665635096\n"
     ]
    }
   ],
   "source": [
    "threshold = 2\n",
    "total_cnt = len(tokenizer.word_index) # 단어의 수\n",
    "rare_cnt = 0 # 등장 빈도수가 threshold보다 작은 단어의 개수를 카운트\n",
    "total_freq = 0 # 훈련 데이터의 전체 단어 빈도수 총 합\n",
    "rare_freq = 0 # 등장 빈도수가 threshold보다 작은 단어의 등장 빈도수의 총 합\n",
    "\n",
    "# key,value : 단어, 빈도수\n",
    "for key, value in tokenizer.word_counts.items():\n",
    "    total_freq = total_freq + value\n",
    "\n",
    "    # 등장 빈도수 < threshold보다 작으면\n",
    "    if(value < threshold):\n",
    "        rare_cnt = rare_cnt + 1\n",
    "        rare_freq = rare_freq + value\n",
    "\n",
    "print('단어 집합(vocabulary)의 크기 :',total_cnt)\n",
    "print('등장 빈도가 %s번 이하인 희귀 단어의 수: %s'%(threshold - 1, rare_cnt))\n",
    "print(\"단어 집합에서 희귀 단어의 비율:\", (rare_cnt / total_cnt)*100)\n",
    "print(\"전체 등장 빈도에서 희귀 단어 등장 빈도 비율:\", (rare_freq / total_freq)*100)\n"
   ]
  },
  {
   "cell_type": "code",
   "execution_count": 38,
   "metadata": {},
   "outputs": [
    {
     "name": "stdout",
     "output_type": "stream",
     "text": [
      "단어 집합의 크기 : 10260\n"
     ]
    }
   ],
   "source": [
    "# 전체 단어 개수 중 빈도수 2이하인 단어는 제거.\n",
    "# 0번 패딩 토큰을 고려하여 + 1\n",
    "vocab_size = total_cnt - rare_cnt + 1\n",
    "print('단어 집합의 크기 :',vocab_size)"
   ]
  },
  {
   "cell_type": "code",
   "execution_count": 39,
   "metadata": {},
   "outputs": [],
   "source": [
    "tokenizer = Tokenizer(vocab_size) \n",
    "tokenizer.fit_on_texts(X_train)\n",
    "X_train = tokenizer.texts_to_sequences(X_train)\n",
    "X_test = tokenizer.texts_to_sequences(X_test)"
   ]
  },
  {
   "cell_type": "code",
   "execution_count": 40,
   "metadata": {},
   "outputs": [
    {
     "name": "stdout",
     "output_type": "stream",
     "text": [
      "[[79, 7804, 20, 46, 57, 67, 86, 1202, 124, 172, 957, 146, 2, 311], [652, 98, 346, 3, 256, 125, 877, 49, 41, 58, 653, 465, 223, 260, 777, 282, 16, 13, 320, 1361, 124, 465, 29, 252, 653, 465, 223, 47, 922], [33, 36, 886, 366, 327, 292, 5638, 63]]\n"
     ]
    }
   ],
   "source": [
    "print(X_train[:3])\n"
   ]
  },
  {
   "cell_type": "code",
   "execution_count": 41,
   "metadata": {},
   "outputs": [],
   "source": [
    "y_train = np.array(train_data['label'])\n",
    "y_test = np.array(test_data['label'])"
   ]
  },
  {
   "cell_type": "code",
   "execution_count": 42,
   "metadata": {},
   "outputs": [],
   "source": [
    "drop_train = [index for index, sentence in enumerate(X_train) if len(sentence) < 1]"
   ]
  },
  {
   "cell_type": "code",
   "execution_count": 43,
   "metadata": {},
   "outputs": [
    {
     "name": "stdout",
     "output_type": "stream",
     "text": [
      "19366\n",
      "19366\n"
     ]
    }
   ],
   "source": [
    "# 빈 샘플들을 제거\n",
    "X_train = np.array(X_train, dtype=object)\n",
    "X_train = np.delete(X_train, drop_train, axis=0)\n",
    "y_train = np.delete(y_train, drop_train, axis=0)\n",
    "print(len(X_train))\n",
    "print(len(y_train))\n"
   ]
  },
  {
   "cell_type": "code",
   "execution_count": 44,
   "metadata": {},
   "outputs": [
    {
     "name": "stdout",
     "output_type": "stream",
     "text": [
      "내용의 최대 길이 : 268\n",
      "내용의 평균 길이 : 15.622276154084478\n"
     ]
    }
   ],
   "source": [
    "print('내용의 최대 길이 :',max(len(review) for review in X_train))\n",
    "print('내용의 평균 길이 :',sum(map(len, X_train))/len(X_train))"
   ]
  },
  {
   "cell_type": "code",
   "execution_count": 45,
   "metadata": {},
   "outputs": [
    {
     "data": {
      "image/png": "[encoded data removed]",
      "text/plain": [
       "<Figure size 640x480 with 1 Axes>"
      ]
     },
     "metadata": {},
     "output_type": "display_data"
    }
   ],
   "source": [
    "\n",
    "plt.hist([len(review) for review in X_train], bins=50)\n",
    "plt.xlabel('샘플의 길이')\n",
    "plt.ylabel('샘플 수')\n",
    "plt.show()\n"
   ]
  },
  {
   "cell_type": "code",
   "execution_count": 46,
   "metadata": {},
   "outputs": [
    {
     "name": "stdout",
     "output_type": "stream",
     "text": [
      "전체 샘플 중 길이가 100 이하인 샘플의 비율: 97.61953939894661\n"
     ]
    }
   ],
   "source": [
    "def below_threshold_len(max_len, nested_list):\n",
    "  count = 0\n",
    "  for sentence in nested_list:\n",
    "    if(len(sentence) <= max_len):\n",
    "        count = count + 1\n",
    "  print('전체 샘플 중 길이가 %s 이하인 샘플의 비율: %s'%(max_len, (count / len(nested_list))*100))\n",
    "  \n",
    "max_len = 100\n",
    "below_threshold_len(max_len, X_train)\n"
   ]
  },
  {
   "cell_type": "code",
   "execution_count": 65,
   "metadata": {},
   "outputs": [
    {
     "name": "stdout",
     "output_type": "stream",
     "text": [
      "전체 샘플 중 길이가 100 이하인 샘플의 비율: 97.58855726531034\n"
     ]
    }
   ],
   "source": [
    "max_len = 100\n",
    "below_threshold_len(max_len, X_train)"
   ]
  },
  {
   "cell_type": "code",
   "execution_count": 64,
   "metadata": {},
   "outputs": [
    {
     "name": "stdout",
     "output_type": "stream",
     "text": [
      "전체 샘플 중 길이가 70 이하인 샘플의 비율: 96.04461427243622\n"
     ]
    }
   ],
   "source": [
    "max_len = 70\n",
    "below_threshold_len(max_len, X_train)\n"
   ]
  },
  {
   "cell_type": "code",
   "execution_count": 47,
   "metadata": {},
   "outputs": [],
   "source": [
    "X_train = pad_sequences(X_train, maxlen=max_len)\n",
    "X_test = pad_sequences(X_test, maxlen=max_len)"
   ]
  },
  {
   "cell_type": "code",
   "execution_count": 48,
   "metadata": {},
   "outputs": [
    {
     "name": "stdout",
     "output_type": "stream",
     "text": [
      "Epoch 1/4\n",
      "\u001b[1m242/243\u001b[0m \u001b[32m━━━━━━━━━━━━━━━━━━━\u001b[0m\u001b[37m━\u001b[0m \u001b[1m0s\u001b[0m 53ms/step - acc: 0.7014 - loss: 0.5701\n",
      "Epoch 1: val_acc improved from -inf to 0.84047, saving model to best_model.keras\n",
      "\u001b[1m243/243\u001b[0m \u001b[32m━━━━━━━━━━━━━━━━━━━━\u001b[0m\u001b[37m\u001b[0m \u001b[1m16s\u001b[0m 59ms/step - acc: 0.7023 - loss: 0.5690 - val_acc: 0.8405 - val_loss: 0.3637\n",
      "Epoch 2/4\n",
      "\u001b[1m242/243\u001b[0m \u001b[32m━━━━━━━━━━━━━━━━━━━\u001b[0m\u001b[37m━\u001b[0m \u001b[1m0s\u001b[0m 64ms/step - acc: 0.9322 - loss: 0.2003\n",
      "Epoch 2: val_acc improved from 0.84047 to 0.93598, saving model to best_model.keras\n",
      "\u001b[1m243/243\u001b[0m \u001b[32m━━━━━━━━━━━━━━━━━━━━\u001b[0m\u001b[37m\u001b[0m \u001b[1m17s\u001b[0m 69ms/step - acc: 0.9323 - loss: 0.1999 - val_acc: 0.9360 - val_loss: 0.1700\n",
      "Epoch 3/4\n",
      "\u001b[1m242/243\u001b[0m \u001b[32m━━━━━━━━━━━━━━━━━━━\u001b[0m\u001b[37m━\u001b[0m \u001b[1m0s\u001b[0m 60ms/step - acc: 0.9768 - loss: 0.0697\n",
      "Epoch 3: val_acc improved from 0.93598 to 0.95973, saving model to best_model.keras\n",
      "\u001b[1m243/243\u001b[0m \u001b[32m━━━━━━━━━━━━━━━━━━━━\u001b[0m\u001b[37m\u001b[0m \u001b[1m16s\u001b[0m 65ms/step - acc: 0.9768 - loss: 0.0697 - val_acc: 0.9597 - val_loss: 0.1298\n",
      "Epoch 4/4\n",
      "\u001b[1m242/243\u001b[0m \u001b[32m━━━━━━━━━━━━━━━━━━━\u001b[0m\u001b[37m━\u001b[0m \u001b[1m0s\u001b[0m 62ms/step - acc: 0.9895 - loss: 0.0385\n",
      "Epoch 4: val_acc improved from 0.95973 to 0.96051, saving model to best_model.keras\n",
      "\u001b[1m243/243\u001b[0m \u001b[32m━━━━━━━━━━━━━━━━━━━━\u001b[0m\u001b[37m\u001b[0m \u001b[1m16s\u001b[0m 67ms/step - acc: 0.9895 - loss: 0.0386 - val_acc: 0.9605 - val_loss: 0.1293\n"
     ]
    }
   ],
   "source": [
    "embedding_dim = 100\n",
    "hidden_units = 128\n",
    "\n",
    "model = Sequential()\n",
    "model.add(Embedding(vocab_size, embedding_dim))\n",
    "model.add(LSTM(hidden_units))\n",
    "model.add(Dense(1, activation='sigmoid'))\n",
    "\n",
    "es = EarlyStopping(monitor='val_loss', mode='min', verbose=1, patience=4)\n",
    "mc = ModelCheckpoint('best_model.keras', monitor='val_acc', mode='max', verbose=1, save_best_only=True)\n",
    "\n",
    "model.compile(optimizer='rmsprop', loss='binary_crossentropy', metrics=['acc'])\n",
    "history = model.fit(X_train, y_train, epochs=4, callbacks=[es, mc], batch_size=64, validation_split=0.2)"
   ]
  },
  {
   "cell_type": "code",
   "execution_count": 49,
   "metadata": {},
   "outputs": [
    {
     "name": "stdout",
     "output_type": "stream",
     "text": [
      "\u001b[1m202/202\u001b[0m \u001b[32m━━━━━━━━━━━━━━━━━━━━\u001b[0m\u001b[37m\u001b[0m \u001b[1m3s\u001b[0m 12ms/step - acc: 0.9594 - loss: 0.1169\n",
      "\n",
      " 테스트 손실 : 0.1178\n",
      "\n",
      " 테스트 정확도: 0.9616\n"
     ]
    }
   ],
   "source": [
    "loaded_model = load_model('best_model.keras')\n",
    "test_loss, test_acc= loaded_model.evaluate(X_test, y_test)\n",
    "print('\\n 테스트 손실 : %.4f' % test_loss)\n",
    "print('\\n 테스트 정확도: %.4f' % test_acc)"
   ]
  },
  {
   "cell_type": "code",
   "execution_count": 50,
   "metadata": {},
   "outputs": [
    {
     "name": "stdout",
     "output_type": "stream",
     "text": [
      "모델, 토크나이저, 학습 정보, 데이터 전처리 정보가 저장되었습니다.\n"
     ]
    }
   ],
   "source": [
    "# 저장할 디렉토리 설정\n",
    "save_dir = 'saved_models'\n",
    "os.makedirs(save_dir, exist_ok=True)\n",
    "\n",
    "# 1. 모델 저장\n",
    "model.save(os.path.join(save_dir, 'best_model.keras'))\n",
    "\n",
    "# 2. 토크나이저 저장\n",
    "with open(os.path.join(save_dir, 'tokenizer.pkl'), 'wb') as handle:\n",
    "    pickle.dump(tokenizer, handle, protocol=pickle.HIGHEST_PROTOCOL)\n",
    "\n",
    "# 3. 학습 정보 저장\n",
    "with open(os.path.join(save_dir, 'history.pkl'), 'wb') as handle:\n",
    "    pickle.dump(history.history, handle, protocol=pickle.HIGHEST_PROTOCOL)\n",
    "\n",
    "# 4. 데이터 전처리 정보 저장\n",
    "preprocessing_info = {\n",
    "    'stopwords': stopwords,\n",
    "    'max_len': max_len,\n",
    "    'vocab_size': vocab_size\n",
    "}\n",
    "\n",
    "with open(os.path.join(save_dir, 'preprocessing_info.json'), 'w') as json_file:\n",
    "    json.dump(preprocessing_info, json_file)\n",
    "\n",
    "print(\"모델, 토크나이저, 학습 정보, 데이터 전처리 정보가 저장되었습니다.\")"
   ]
  },
  {
   "cell_type": "code",
   "execution_count": null,
   "metadata": {},
   "outputs": [],
   "source": [
    "# 모델 로드\n",
    "loaded_model = load_model(os.path.join(save_dir, 'best_model.keras'))\n",
    "\n",
    "# 토크나이저 로드\n",
    "with open(os.path.join(save_dir, 'tokenizer.pkl'), 'rb') as handle:\n",
    "    tokenizer = pickle.load(handle)\n",
    "\n",
    "# 학습 정보 로드\n",
    "with open(os.path.join(save_dir, 'history.pkl'), 'rb') as handle:\n",
    "    loaded_history = pickle.load(handle)\n",
    "\n",
    "# 데이터 전처리 정보 로드\n",
    "with open(os.path.join(save_dir, 'preprocessing_info.json'), 'r') as json_file:\n",
    "    loaded_preprocessing_info = json.load(json_file)"
   ]
  },
  {
   "cell_type": "code",
   "execution_count": null,
   "metadata": {},
   "outputs": [],
   "source": [
    "# 손실률 그래프\n",
    "plt.figure(figsize=(12, 5))\n",
    "\n",
    "# 오버피팅 발생 에포크 (직접 확인)\n",
    "overfitting_epoch_loss = 4 \n",
    "\n",
    "# 손실률\n",
    "plt.subplot(1, 2, 1)\n",
    "plt.plot(history.history['loss'], label='훈련 손실')\n",
    "plt.plot(history.history['val_loss'], label='검증 손실')\n",
    "plt.axvline(x=overfitting_epoch_loss, color='r', linestyle='--')\n",
    "plt.title('손실률 변화')\n",
    "plt.xlabel('에포크')\n",
    "plt.ylabel('손실')\n",
    "plt.legend()\n",
    "\n",
    "# 정확도 그래프\n",
    "plt.subplot(1, 2, 2)\n",
    "plt.plot(history.history['acc'], label='훈련 정확도')\n",
    "plt.plot(history.history['val_acc'], label='검증 정확도')\n",
    "plt.axvline(x=overfitting_epoch_loss, color='r', linestyle='--')\n",
    "plt.title('정확도 변화')\n",
    "plt.xlabel('에포크')\n",
    "plt.ylabel('정확도')\n",
    "plt.legend()\n",
    "\n",
    "plt.tight_layout()\n",
    "plt.show()"
   ]
  },
  {
   "cell_type": "code",
   "execution_count": 52,
   "metadata": {},
   "outputs": [],
   "source": [
    "sample_sentences = [\n",
    "    \"이번 분기 실적이 예상보다 나빠서 주가가 크게 하락할 것 같아요.\",               # 부정\n",
    "    \"이 기업의 경영진이 믿을 수 없어서 투자하기가 망설여집니다.\",                   # 부정\n",
    "    \"최근 뉴스에서 부정적인 이슈가 많아 주식이 불안정합니다.\",                      # 부정\n",
    "    \"주가가 계속 하락세인데, 더 이상 보유할 이유가 없네요.\",                        # 부정\n",
    "    \"이 회사의 제품이 소비자에게 외면받고 있어서 걱정입니다.\",                      # 부정\n",
    "    \"전문가들이 이 종목을 추천하지 않아서 매도해야 할 것 같아요.\",                  # 부정\n",
    "    \"지속적인 적자에 시달리고 있어서 회복이 힘들 것 같습니다.\",                     # 부정  \n",
    "    \"주식 시장 전반이 불안정한데 이 종목은 더 위험해 보입니다.\",                    # 부정\n",
    "    \"배당금이 줄어들었고, 앞으로도 회복 가능성이 낮아 보입니다.\",                   # 부정\n",
    "    \"외국인 투자자들이 빠져나가고 있어 주가에 부정적인 영향을 미칠 것 같습니다.\",    # 부정\n",
    "    \"이 회사는 실적이 계속 나빠지고 있어요. 이제는 매도해야 할 때인 것 같습니다.\",   # 부정\n",
    "    \"주가가 너무 비싸요. 조정이 올 것 같아서 걱정입니다.\",                          # 부정\n",
    "    \"이번 분기 실적이 예상보다 나빠서 주가가 크게 하락할 것 같아요.\",               # 부정\n",
    "    \"이 기업의 경영진이 믿을 수 없어서 투자하기가 망설여집니다.\",                   # 부정\n",
    "    \"최근 뉴스에서 부정적인 이슈가 많아 주식이 불안정합니다.\",                      # 부정\n",
    "    \"주가가 계속 하락세인데, 더 이상 보유할 이유가 없네요.\",                        # 부정\n",
    "    \"이 회사의 제품이 소비자에게 외면받고 있어서 걱정입니다.\",                      # 부정\n",
    "    \"전문가들이 이 종목을 추천하지 않아서 매도해야 할 것 같아요.\",                  # 부정\n",
    "    \"지속적인 적자에 시달리고 있어서 회복이 힘들 것 같습니다.\",                     # 부정\n",
    "    \"주식 시장 전반이 불안정한데 이 종목은 더 위험해 보입니다.\",                    # 부정\n",
    "    \"배당금이 줄어들었고, 앞으로도 회복 가능성이 낮아 보입니다.\",                   # 부정\n",
    "    \"외국인 투자자들이 빠져나가고 있어 주가에 부정적인 영향을 미칠 것 같습니다.\",    # 부정\n",
    "    \"이 회사의 성장 가능성이 정말 기대돼요! 앞으로 주가가 오를 것 같습니다.\",       # 긍정\n",
    "    \"이번 분기 실적이 예상보다 좋았어요. 강력한 매수 추천합니다!\",                  # 긍정\n",
    "    \"이 주식은 장기 투자로 정말 좋은 선택입니다. 믿고 투자하세요!\",                 # 긍정\n",
    "    \"이번 분기 실적이 기대 이상이라 주가가 상승할 것 같아요.\",                      # 긍정\n",
    "    \"이 회사의 기술력이 탁월해서 앞으로의 성장 가능성이 큽니다.\",                   # 긍정\n",
    "    \"주식이 오랜만에 반등해서 너무 기쁘네요!\",                                      # 긍정\n",
    "    \"상장 이후 꾸준히 오르는 모습에 투자하기 잘했다는 생각이 들어요.\",              # 긍정\n",
    "    \"외국인 투자자들이 많이 들어오고 있어서 긍정적인 신호입니다.\",                  # 긍정\n",
    "    \"배당금이 증가해서 안정적인 투자처로 보입니다.\",                                # 긍정\n",
    "    \"이 기업의 새로운 제품이 시장에서 좋은 반응을 얻고 있습니다.\",                  # 긍정\n",
    "    \"전문가들이 추천하는 종목이라 믿고 투자하고 있습니다.\",                         # 긍정\n",
    "    \"최근 긍정적인 뉴스가 많아 주가가 더 오를 것 같아요.\",                          # 긍정\n",
    "    \"이 회사의 비전이 확실해서 장기 투자로 괜찮다고 생각해요.\"                      # 긍정\n",
    "    \"이 회사는 지속적으로 좋은 실적을 내고 있어서 앞으로도 기대가 됩니다.\",          # 긍정\n",
    "    \"최근 주가 상승세가 눈에 띄어 투자자들의 관심이 집중되고 있습니다.\",             # 긍정\n",
    "    \"이 기업의 혁신적인 기술이 시장에서 큰 주목을 받고 있습니다.\",                   # 긍정\n",
    "    \"배당금이 꾸준히 증가하고 있어 안정적인 투자처로 손색이 없습니다.\",              # 긍정\n",
    "    \"주식이 안정적으로 오르고 있어서 마음 편하게 투자하고 있습니다.\",                # 긍정\n",
    "    \"이 종목은 전문가들의 추천을 받으며 긍정적인 평가를 받고 있습니다.\",             # 긍정\n",
    "    \"회사의 장기적인 비전이 확고해 투자할 가치가 충분합니다.\",                       # 긍정\n",
    "    \"최근에 발표된 실적이 예상보다 좋았고, 이는 긍정적인 신호입니다.\",               # 긍정\n",
    "    \"이 기업의 성장 가능성이 매우 높아 보이기 때문에 투자할 기회입니다.\",             # 긍정\n",
    "    \"이 회사의 새로운 프로젝트가 큰 성공을 거두고 있어 앞으로의 성장에 기대가 큽니다.\" # 긍정\n",
    "]"
   ]
  },
  {
   "cell_type": "code",
   "execution_count": 53,
   "metadata": {},
   "outputs": [],
   "source": [
    "sample = pd.DataFrame(sample_sentences, columns=['문장'])\n",
    "sample['실제 레이블'] = 0  # 기본값으로 0 설정\n",
    "for idx, comment in enumerate(sample['문장'].values):\n",
    "  if idx >= 22:  \n",
    "    sample.loc[idx, '실제 레이블'] = 1  # 인덱스가 22 이상인 경우 1로 설정\n",
    "  "
   ]
  },
  {
   "cell_type": "code",
   "execution_count": 54,
   "metadata": {},
   "outputs": [
    {
     "data": {
      "image/png": "[encoded data removed]",
      "text/plain": [
       "<Figure size 800x600 with 1 Axes>"
      ]
     },
     "metadata": {},
     "output_type": "display_data"
    }
   ],
   "source": [
    "# 레이블 비율 계산\n",
    "label_counts = sample['실제 레이블'].value_counts()\n",
    "\n",
    "# 파이 차트 시각화\n",
    "plt.figure(figsize=(8, 6))\n",
    "plt.pie(label_counts, labels=['부정(0)', '긍정(1)'], startangle=90)\n",
    "plt.title('샘플의 실제 긍정/부정 비율')\n",
    "plt.axis('equal')\n",
    "plt.show()"
   ]
  },
  {
   "cell_type": "code",
   "execution_count": 55,
   "metadata": {},
   "outputs": [
    {
     "name": "stdout",
     "output_type": "stream",
     "text": [
      "\u001b[1m1/1\u001b[0m \u001b[32m━━━━━━━━━━━━━━━━━━━━\u001b[0m\u001b[37m\u001b[0m \u001b[1m0s\u001b[0m 144ms/step\n",
      "\u001b[1m1/1\u001b[0m \u001b[32m━━━━━━━━━━━━━━━━━━━━\u001b[0m\u001b[37m\u001b[0m \u001b[1m0s\u001b[0m 35ms/step\n",
      "\u001b[1m1/1\u001b[0m \u001b[32m━━━━━━━━━━━━━━━━━━━━\u001b[0m\u001b[37m\u001b[0m \u001b[1m0s\u001b[0m 32ms/step\n"
     ]
    },
    {
     "name": "stderr",
     "output_type": "stream",
     "text": [
      "C:\\Users\\hydrl\\AppData\\Local\\Temp\\ipykernel_8660\\417387600.py:8: DeprecationWarning: Conversion of an array with ndim > 0 to a scalar is deprecated, and will error in future. Ensure you extract a single element from your array before performing this operation. (Deprecated NumPy 1.25.)\n",
      "  score = float(predicted_value[0])\n"
     ]
    },
    {
     "name": "stdout",
     "output_type": "stream",
     "text": [
      "\u001b[1m1/1\u001b[0m \u001b[32m━━━━━━━━━━━━━━━━━━━━\u001b[0m\u001b[37m\u001b[0m \u001b[1m0s\u001b[0m 35ms/step\n",
      "\u001b[1m1/1\u001b[0m \u001b[32m━━━━━━━━━━━━━━━━━━━━\u001b[0m\u001b[37m\u001b[0m \u001b[1m0s\u001b[0m 33ms/step\n",
      "\u001b[1m1/1\u001b[0m \u001b[32m━━━━━━━━━━━━━━━━━━━━\u001b[0m\u001b[37m\u001b[0m \u001b[1m0s\u001b[0m 29ms/step\n",
      "\u001b[1m1/1\u001b[0m \u001b[32m━━━━━━━━━━━━━━━━━━━━\u001b[0m\u001b[37m\u001b[0m \u001b[1m0s\u001b[0m 31ms/step\n",
      "\u001b[1m1/1\u001b[0m \u001b[32m━━━━━━━━━━━━━━━━━━━━\u001b[0m\u001b[37m\u001b[0m \u001b[1m0s\u001b[0m 33ms/step\n",
      "\u001b[1m1/1\u001b[0m \u001b[32m━━━━━━━━━━━━━━━━━━━━\u001b[0m\u001b[37m\u001b[0m \u001b[1m0s\u001b[0m 30ms/step\n",
      "\u001b[1m1/1\u001b[0m \u001b[32m━━━━━━━━━━━━━━━━━━━━\u001b[0m\u001b[37m\u001b[0m \u001b[1m0s\u001b[0m 36ms/step\n",
      "\u001b[1m1/1\u001b[0m \u001b[32m━━━━━━━━━━━━━━━━━━━━\u001b[0m\u001b[37m\u001b[0m \u001b[1m0s\u001b[0m 34ms/step\n",
      "\u001b[1m1/1\u001b[0m \u001b[32m━━━━━━━━━━━━━━━━━━━━\u001b[0m\u001b[37m\u001b[0m \u001b[1m0s\u001b[0m 35ms/step\n",
      "\u001b[1m1/1\u001b[0m \u001b[32m━━━━━━━━━━━━━━━━━━━━\u001b[0m\u001b[37m\u001b[0m \u001b[1m0s\u001b[0m 35ms/step\n",
      "\u001b[1m1/1\u001b[0m \u001b[32m━━━━━━━━━━━━━━━━━━━━\u001b[0m\u001b[37m\u001b[0m \u001b[1m0s\u001b[0m 39ms/step\n",
      "\u001b[1m1/1\u001b[0m \u001b[32m━━━━━━━━━━━━━━━━━━━━\u001b[0m\u001b[37m\u001b[0m \u001b[1m0s\u001b[0m 31ms/step\n",
      "\u001b[1m1/1\u001b[0m \u001b[32m━━━━━━━━━━━━━━━━━━━━\u001b[0m\u001b[37m\u001b[0m \u001b[1m0s\u001b[0m 30ms/step\n",
      "\u001b[1m1/1\u001b[0m \u001b[32m━━━━━━━━━━━━━━━━━━━━\u001b[0m\u001b[37m\u001b[0m \u001b[1m0s\u001b[0m 40ms/step\n",
      "\u001b[1m1/1\u001b[0m \u001b[32m━━━━━━━━━━━━━━━━━━━━\u001b[0m\u001b[37m\u001b[0m \u001b[1m0s\u001b[0m 28ms/step\n",
      "\u001b[1m1/1\u001b[0m \u001b[32m━━━━━━━━━━━━━━━━━━━━\u001b[0m\u001b[37m\u001b[0m \u001b[1m0s\u001b[0m 33ms/step\n",
      "\u001b[1m1/1\u001b[0m \u001b[32m━━━━━━━━━━━━━━━━━━━━\u001b[0m\u001b[37m\u001b[0m \u001b[1m0s\u001b[0m 39ms/step\n",
      "\u001b[1m1/1\u001b[0m \u001b[32m━━━━━━━━━━━━━━━━━━━━\u001b[0m\u001b[37m\u001b[0m \u001b[1m0s\u001b[0m 34ms/step\n",
      "\u001b[1m1/1\u001b[0m \u001b[32m━━━━━━━━━━━━━━━━━━━━\u001b[0m\u001b[37m\u001b[0m \u001b[1m0s\u001b[0m 33ms/step\n",
      "\u001b[1m1/1\u001b[0m \u001b[32m━━━━━━━━━━━━━━━━━━━━\u001b[0m\u001b[37m\u001b[0m \u001b[1m0s\u001b[0m 31ms/step\n",
      "\u001b[1m1/1\u001b[0m \u001b[32m━━━━━━━━━━━━━━━━━━━━\u001b[0m\u001b[37m\u001b[0m \u001b[1m0s\u001b[0m 35ms/step\n",
      "\u001b[1m1/1\u001b[0m \u001b[32m━━━━━━━━━━━━━━━━━━━━\u001b[0m\u001b[37m\u001b[0m \u001b[1m0s\u001b[0m 33ms/step\n",
      "\u001b[1m1/1\u001b[0m \u001b[32m━━━━━━━━━━━━━━━━━━━━\u001b[0m\u001b[37m\u001b[0m \u001b[1m0s\u001b[0m 32ms/step\n",
      "\u001b[1m1/1\u001b[0m \u001b[32m━━━━━━━━━━━━━━━━━━━━\u001b[0m\u001b[37m\u001b[0m \u001b[1m0s\u001b[0m 30ms/step\n",
      "\u001b[1m1/1\u001b[0m \u001b[32m━━━━━━━━━━━━━━━━━━━━\u001b[0m\u001b[37m\u001b[0m \u001b[1m0s\u001b[0m 32ms/step\n",
      "\u001b[1m1/1\u001b[0m \u001b[32m━━━━━━━━━━━━━━━━━━━━\u001b[0m\u001b[37m\u001b[0m \u001b[1m0s\u001b[0m 30ms/step\n",
      "\u001b[1m1/1\u001b[0m \u001b[32m━━━━━━━━━━━━━━━━━━━━\u001b[0m\u001b[37m\u001b[0m \u001b[1m0s\u001b[0m 39ms/step\n",
      "\u001b[1m1/1\u001b[0m \u001b[32m━━━━━━━━━━━━━━━━━━━━\u001b[0m\u001b[37m\u001b[0m \u001b[1m0s\u001b[0m 35ms/step\n",
      "\u001b[1m1/1\u001b[0m \u001b[32m━━━━━━━━━━━━━━━━━━━━\u001b[0m\u001b[37m\u001b[0m \u001b[1m0s\u001b[0m 32ms/step\n",
      "\u001b[1m1/1\u001b[0m \u001b[32m━━━━━━━━━━━━━━━━━━━━\u001b[0m\u001b[37m\u001b[0m \u001b[1m0s\u001b[0m 33ms/step\n",
      "\u001b[1m1/1\u001b[0m \u001b[32m━━━━━━━━━━━━━━━━━━━━\u001b[0m\u001b[37m\u001b[0m \u001b[1m0s\u001b[0m 35ms/step\n",
      "\u001b[1m1/1\u001b[0m \u001b[32m━━━━━━━━━━━━━━━━━━━━\u001b[0m\u001b[37m\u001b[0m \u001b[1m0s\u001b[0m 31ms/step\n",
      "\u001b[1m1/1\u001b[0m \u001b[32m━━━━━━━━━━━━━━━━━━━━\u001b[0m\u001b[37m\u001b[0m \u001b[1m0s\u001b[0m 32ms/step\n",
      "\u001b[1m1/1\u001b[0m \u001b[32m━━━━━━━━━━━━━━━━━━━━\u001b[0m\u001b[37m\u001b[0m \u001b[1m0s\u001b[0m 32ms/step\n",
      "\u001b[1m1/1\u001b[0m \u001b[32m━━━━━━━━━━━━━━━━━━━━\u001b[0m\u001b[37m\u001b[0m \u001b[1m0s\u001b[0m 31ms/step\n",
      "\u001b[1m1/1\u001b[0m \u001b[32m━━━━━━━━━━━━━━━━━━━━\u001b[0m\u001b[37m\u001b[0m \u001b[1m0s\u001b[0m 32ms/step\n",
      "\u001b[1m1/1\u001b[0m \u001b[32m━━━━━━━━━━━━━━━━━━━━\u001b[0m\u001b[37m\u001b[0m \u001b[1m0s\u001b[0m 39ms/step\n",
      "\u001b[1m1/1\u001b[0m \u001b[32m━━━━━━━━━━━━━━━━━━━━\u001b[0m\u001b[37m\u001b[0m \u001b[1m0s\u001b[0m 32ms/step\n",
      "\u001b[1m1/1\u001b[0m \u001b[32m━━━━━━━━━━━━━━━━━━━━\u001b[0m\u001b[37m\u001b[0m \u001b[1m0s\u001b[0m 33ms/step\n",
      "\u001b[1m1/1\u001b[0m \u001b[32m━━━━━━━━━━━━━━━━━━━━\u001b[0m\u001b[37m\u001b[0m \u001b[1m0s\u001b[0m 32ms/step\n",
      "\u001b[1m1/1\u001b[0m \u001b[32m━━━━━━━━━━━━━━━━━━━━\u001b[0m\u001b[37m\u001b[0m \u001b[1m0s\u001b[0m 33ms/step\n"
     ]
    },
    {
     "data": {
      "text/html": [
       "<div>\n",
       "<style scoped>\n",
       "    .dataframe tbody tr th:only-of-type {\n",
       "        vertical-align: middle;\n",
       "    }\n",
       "\n",
       "    .dataframe tbody tr th {\n",
       "        vertical-align: top;\n",
       "    }\n",
       "\n",
       "    .dataframe thead th {\n",
       "        text-align: right;\n",
       "    }\n",
       "</style>\n",
       "<table border=\"1\" class=\"dataframe\">\n",
       "  <thead>\n",
       "    <tr style=\"text-align: right;\">\n",
       "      <th></th>\n",
       "      <th>문장</th>\n",
       "      <th>예측 확률</th>\n",
       "      <th>예측 레이블</th>\n",
       "      <th>실제 레이블</th>\n",
       "    </tr>\n",
       "  </thead>\n",
       "  <tbody>\n",
       "    <tr>\n",
       "      <th>0</th>\n",
       "      <td>이번 분기 실적이 예상보다 나빠서 주가가 크게 하락할 것 같아요.</td>\n",
       "      <td>99.99%</td>\n",
       "      <td>0</td>\n",
       "      <td>0</td>\n",
       "    </tr>\n",
       "    <tr>\n",
       "      <th>1</th>\n",
       "      <td>이 기업의 경영진이 믿을 수 없어서 투자하기가 망설여집니다.</td>\n",
       "      <td>96.77%</td>\n",
       "      <td>0</td>\n",
       "      <td>0</td>\n",
       "    </tr>\n",
       "    <tr>\n",
       "      <th>2</th>\n",
       "      <td>최근 뉴스에서 부정적인 이슈가 많아 주식이 불안정합니다.</td>\n",
       "      <td>97.47%</td>\n",
       "      <td>1</td>\n",
       "      <td>0</td>\n",
       "    </tr>\n",
       "    <tr>\n",
       "      <th>3</th>\n",
       "      <td>주가가 계속 하락세인데, 더 이상 보유할 이유가 없네요.</td>\n",
       "      <td>99.91%</td>\n",
       "      <td>0</td>\n",
       "      <td>0</td>\n",
       "    </tr>\n",
       "    <tr>\n",
       "      <th>4</th>\n",
       "      <td>이 회사의 제품이 소비자에게 외면받고 있어서 걱정입니다.</td>\n",
       "      <td>94.47%</td>\n",
       "      <td>0</td>\n",
       "      <td>0</td>\n",
       "    </tr>\n",
       "    <tr>\n",
       "      <th>5</th>\n",
       "      <td>전문가들이 이 종목을 추천하지 않아서 매도해야 할 것 같아요.</td>\n",
       "      <td>87.76%</td>\n",
       "      <td>0</td>\n",
       "      <td>0</td>\n",
       "    </tr>\n",
       "    <tr>\n",
       "      <th>6</th>\n",
       "      <td>지속적인 적자에 시달리고 있어서 회복이 힘들 것 같습니다.</td>\n",
       "      <td>100.00%</td>\n",
       "      <td>0</td>\n",
       "      <td>0</td>\n",
       "    </tr>\n",
       "    <tr>\n",
       "      <th>7</th>\n",
       "      <td>주식 시장 전반이 불안정한데 이 종목은 더 위험해 보입니다.</td>\n",
       "      <td>99.37%</td>\n",
       "      <td>0</td>\n",
       "      <td>0</td>\n",
       "    </tr>\n",
       "    <tr>\n",
       "      <th>8</th>\n",
       "      <td>배당금이 줄어들었고, 앞으로도 회복 가능성이 낮아 보입니다.</td>\n",
       "      <td>99.97%</td>\n",
       "      <td>1</td>\n",
       "      <td>0</td>\n",
       "    </tr>\n",
       "    <tr>\n",
       "      <th>9</th>\n",
       "      <td>외국인 투자자들이 빠져나가고 있어 주가에 부정적인 영향을 미칠 것 같습니다.</td>\n",
       "      <td>95.16%</td>\n",
       "      <td>0</td>\n",
       "      <td>0</td>\n",
       "    </tr>\n",
       "    <tr>\n",
       "      <th>10</th>\n",
       "      <td>이 회사는 실적이 계속 나빠지고 있어요. 이제는 매도해야 할 때인 것 같습니다.</td>\n",
       "      <td>95.29%</td>\n",
       "      <td>0</td>\n",
       "      <td>0</td>\n",
       "    </tr>\n",
       "    <tr>\n",
       "      <th>11</th>\n",
       "      <td>주가가 너무 비싸요. 조정이 올 것 같아서 걱정입니다.</td>\n",
       "      <td>100.00%</td>\n",
       "      <td>0</td>\n",
       "      <td>0</td>\n",
       "    </tr>\n",
       "    <tr>\n",
       "      <th>12</th>\n",
       "      <td>이번 분기 실적이 예상보다 나빠서 주가가 크게 하락할 것 같아요.</td>\n",
       "      <td>99.99%</td>\n",
       "      <td>0</td>\n",
       "      <td>0</td>\n",
       "    </tr>\n",
       "    <tr>\n",
       "      <th>13</th>\n",
       "      <td>이 기업의 경영진이 믿을 수 없어서 투자하기가 망설여집니다.</td>\n",
       "      <td>96.77%</td>\n",
       "      <td>0</td>\n",
       "      <td>0</td>\n",
       "    </tr>\n",
       "    <tr>\n",
       "      <th>14</th>\n",
       "      <td>최근 뉴스에서 부정적인 이슈가 많아 주식이 불안정합니다.</td>\n",
       "      <td>97.47%</td>\n",
       "      <td>1</td>\n",
       "      <td>0</td>\n",
       "    </tr>\n",
       "    <tr>\n",
       "      <th>15</th>\n",
       "      <td>주가가 계속 하락세인데, 더 이상 보유할 이유가 없네요.</td>\n",
       "      <td>99.91%</td>\n",
       "      <td>0</td>\n",
       "      <td>0</td>\n",
       "    </tr>\n",
       "    <tr>\n",
       "      <th>16</th>\n",
       "      <td>이 회사의 제품이 소비자에게 외면받고 있어서 걱정입니다.</td>\n",
       "      <td>94.47%</td>\n",
       "      <td>0</td>\n",
       "      <td>0</td>\n",
       "    </tr>\n",
       "    <tr>\n",
       "      <th>17</th>\n",
       "      <td>전문가들이 이 종목을 추천하지 않아서 매도해야 할 것 같아요.</td>\n",
       "      <td>87.76%</td>\n",
       "      <td>0</td>\n",
       "      <td>0</td>\n",
       "    </tr>\n",
       "    <tr>\n",
       "      <th>18</th>\n",
       "      <td>지속적인 적자에 시달리고 있어서 회복이 힘들 것 같습니다.</td>\n",
       "      <td>100.00%</td>\n",
       "      <td>0</td>\n",
       "      <td>0</td>\n",
       "    </tr>\n",
       "    <tr>\n",
       "      <th>19</th>\n",
       "      <td>주식 시장 전반이 불안정한데 이 종목은 더 위험해 보입니다.</td>\n",
       "      <td>99.37%</td>\n",
       "      <td>0</td>\n",
       "      <td>0</td>\n",
       "    </tr>\n",
       "    <tr>\n",
       "      <th>20</th>\n",
       "      <td>배당금이 줄어들었고, 앞으로도 회복 가능성이 낮아 보입니다.</td>\n",
       "      <td>99.97%</td>\n",
       "      <td>1</td>\n",
       "      <td>0</td>\n",
       "    </tr>\n",
       "    <tr>\n",
       "      <th>21</th>\n",
       "      <td>외국인 투자자들이 빠져나가고 있어 주가에 부정적인 영향을 미칠 것 같습니다.</td>\n",
       "      <td>95.16%</td>\n",
       "      <td>0</td>\n",
       "      <td>0</td>\n",
       "    </tr>\n",
       "    <tr>\n",
       "      <th>22</th>\n",
       "      <td>이 회사의 성장 가능성이 정말 기대돼요! 앞으로 주가가 오를 것 같습니다.</td>\n",
       "      <td>99.92%</td>\n",
       "      <td>1</td>\n",
       "      <td>1</td>\n",
       "    </tr>\n",
       "    <tr>\n",
       "      <th>23</th>\n",
       "      <td>이번 분기 실적이 예상보다 좋았어요. 강력한 매수 추천합니다!</td>\n",
       "      <td>100.00%</td>\n",
       "      <td>1</td>\n",
       "      <td>1</td>\n",
       "    </tr>\n",
       "    <tr>\n",
       "      <th>24</th>\n",
       "      <td>이 주식은 장기 투자로 정말 좋은 선택입니다. 믿고 투자하세요!</td>\n",
       "      <td>100.00%</td>\n",
       "      <td>1</td>\n",
       "      <td>1</td>\n",
       "    </tr>\n",
       "    <tr>\n",
       "      <th>25</th>\n",
       "      <td>이번 분기 실적이 기대 이상이라 주가가 상승할 것 같아요.</td>\n",
       "      <td>99.99%</td>\n",
       "      <td>1</td>\n",
       "      <td>1</td>\n",
       "    </tr>\n",
       "    <tr>\n",
       "      <th>26</th>\n",
       "      <td>이 회사의 기술력이 탁월해서 앞으로의 성장 가능성이 큽니다.</td>\n",
       "      <td>100.00%</td>\n",
       "      <td>1</td>\n",
       "      <td>1</td>\n",
       "    </tr>\n",
       "    <tr>\n",
       "      <th>27</th>\n",
       "      <td>주식이 오랜만에 반등해서 너무 기쁘네요!</td>\n",
       "      <td>98.41%</td>\n",
       "      <td>1</td>\n",
       "      <td>1</td>\n",
       "    </tr>\n",
       "    <tr>\n",
       "      <th>28</th>\n",
       "      <td>상장 이후 꾸준히 오르는 모습에 투자하기 잘했다는 생각이 들어요.</td>\n",
       "      <td>99.24%</td>\n",
       "      <td>1</td>\n",
       "      <td>1</td>\n",
       "    </tr>\n",
       "    <tr>\n",
       "      <th>29</th>\n",
       "      <td>외국인 투자자들이 많이 들어오고 있어서 긍정적인 신호입니다.</td>\n",
       "      <td>99.39%</td>\n",
       "      <td>1</td>\n",
       "      <td>1</td>\n",
       "    </tr>\n",
       "    <tr>\n",
       "      <th>30</th>\n",
       "      <td>배당금이 증가해서 안정적인 투자처로 보입니다.</td>\n",
       "      <td>99.99%</td>\n",
       "      <td>1</td>\n",
       "      <td>1</td>\n",
       "    </tr>\n",
       "    <tr>\n",
       "      <th>31</th>\n",
       "      <td>이 기업의 새로운 제품이 시장에서 좋은 반응을 얻고 있습니다.</td>\n",
       "      <td>99.98%</td>\n",
       "      <td>1</td>\n",
       "      <td>1</td>\n",
       "    </tr>\n",
       "    <tr>\n",
       "      <th>32</th>\n",
       "      <td>전문가들이 추천하는 종목이라 믿고 투자하고 있습니다.</td>\n",
       "      <td>100.00%</td>\n",
       "      <td>1</td>\n",
       "      <td>1</td>\n",
       "    </tr>\n",
       "    <tr>\n",
       "      <th>33</th>\n",
       "      <td>최근 긍정적인 뉴스가 많아 주가가 더 오를 것 같아요.</td>\n",
       "      <td>99.96%</td>\n",
       "      <td>1</td>\n",
       "      <td>1</td>\n",
       "    </tr>\n",
       "    <tr>\n",
       "      <th>34</th>\n",
       "      <td>이 회사의 비전이 확실해서 장기 투자로 괜찮다고 생각해요.이 회사는 지속적으로 좋은...</td>\n",
       "      <td>100.00%</td>\n",
       "      <td>1</td>\n",
       "      <td>1</td>\n",
       "    </tr>\n",
       "    <tr>\n",
       "      <th>35</th>\n",
       "      <td>최근 주가 상승세가 눈에 띄어 투자자들의 관심이 집중되고 있습니다.</td>\n",
       "      <td>98.81%</td>\n",
       "      <td>1</td>\n",
       "      <td>1</td>\n",
       "    </tr>\n",
       "    <tr>\n",
       "      <th>36</th>\n",
       "      <td>이 기업의 혁신적인 기술이 시장에서 큰 주목을 받고 있습니다.</td>\n",
       "      <td>100.00%</td>\n",
       "      <td>1</td>\n",
       "      <td>1</td>\n",
       "    </tr>\n",
       "    <tr>\n",
       "      <th>37</th>\n",
       "      <td>배당금이 꾸준히 증가하고 있어 안정적인 투자처로 손색이 없습니다.</td>\n",
       "      <td>99.14%</td>\n",
       "      <td>1</td>\n",
       "      <td>1</td>\n",
       "    </tr>\n",
       "    <tr>\n",
       "      <th>38</th>\n",
       "      <td>주식이 안정적으로 오르고 있어서 마음 편하게 투자하고 있습니다.</td>\n",
       "      <td>100.00%</td>\n",
       "      <td>1</td>\n",
       "      <td>1</td>\n",
       "    </tr>\n",
       "    <tr>\n",
       "      <th>39</th>\n",
       "      <td>이 종목은 전문가들의 추천을 받으며 긍정적인 평가를 받고 있습니다.</td>\n",
       "      <td>100.00%</td>\n",
       "      <td>1</td>\n",
       "      <td>1</td>\n",
       "    </tr>\n",
       "    <tr>\n",
       "      <th>40</th>\n",
       "      <td>회사의 장기적인 비전이 확고해 투자할 가치가 충분합니다.</td>\n",
       "      <td>100.00%</td>\n",
       "      <td>1</td>\n",
       "      <td>1</td>\n",
       "    </tr>\n",
       "    <tr>\n",
       "      <th>41</th>\n",
       "      <td>최근에 발표된 실적이 예상보다 좋았고, 이는 긍정적인 신호입니다.</td>\n",
       "      <td>100.00%</td>\n",
       "      <td>1</td>\n",
       "      <td>1</td>\n",
       "    </tr>\n",
       "    <tr>\n",
       "      <th>42</th>\n",
       "      <td>이 기업의 성장 가능성이 매우 높아 보이기 때문에 투자할 기회입니다.</td>\n",
       "      <td>100.00%</td>\n",
       "      <td>1</td>\n",
       "      <td>1</td>\n",
       "    </tr>\n",
       "    <tr>\n",
       "      <th>43</th>\n",
       "      <td>이 회사의 새로운 프로젝트가 큰 성공을 거두고 있어 앞으로의 성장에 기대가 큽니다.</td>\n",
       "      <td>100.00%</td>\n",
       "      <td>1</td>\n",
       "      <td>1</td>\n",
       "    </tr>\n",
       "  </tbody>\n",
       "</table>\n",
       "</div>"
      ],
      "text/plain": [
       "                                                   문장    예측 확률  예측 레이블  실제 레이블\n",
       "0                이번 분기 실적이 예상보다 나빠서 주가가 크게 하락할 것 같아요.   99.99%       0       0\n",
       "1                   이 기업의 경영진이 믿을 수 없어서 투자하기가 망설여집니다.   96.77%       0       0\n",
       "2                     최근 뉴스에서 부정적인 이슈가 많아 주식이 불안정합니다.   97.47%       1       0\n",
       "3                     주가가 계속 하락세인데, 더 이상 보유할 이유가 없네요.   99.91%       0       0\n",
       "4                     이 회사의 제품이 소비자에게 외면받고 있어서 걱정입니다.   94.47%       0       0\n",
       "5                  전문가들이 이 종목을 추천하지 않아서 매도해야 할 것 같아요.   87.76%       0       0\n",
       "6                    지속적인 적자에 시달리고 있어서 회복이 힘들 것 같습니다.  100.00%       0       0\n",
       "7                   주식 시장 전반이 불안정한데 이 종목은 더 위험해 보입니다.   99.37%       0       0\n",
       "8                   배당금이 줄어들었고, 앞으로도 회복 가능성이 낮아 보입니다.   99.97%       1       0\n",
       "9          외국인 투자자들이 빠져나가고 있어 주가에 부정적인 영향을 미칠 것 같습니다.   95.16%       0       0\n",
       "10       이 회사는 실적이 계속 나빠지고 있어요. 이제는 매도해야 할 때인 것 같습니다.   95.29%       0       0\n",
       "11                     주가가 너무 비싸요. 조정이 올 것 같아서 걱정입니다.  100.00%       0       0\n",
       "12               이번 분기 실적이 예상보다 나빠서 주가가 크게 하락할 것 같아요.   99.99%       0       0\n",
       "13                  이 기업의 경영진이 믿을 수 없어서 투자하기가 망설여집니다.   96.77%       0       0\n",
       "14                    최근 뉴스에서 부정적인 이슈가 많아 주식이 불안정합니다.   97.47%       1       0\n",
       "15                    주가가 계속 하락세인데, 더 이상 보유할 이유가 없네요.   99.91%       0       0\n",
       "16                    이 회사의 제품이 소비자에게 외면받고 있어서 걱정입니다.   94.47%       0       0\n",
       "17                 전문가들이 이 종목을 추천하지 않아서 매도해야 할 것 같아요.   87.76%       0       0\n",
       "18                   지속적인 적자에 시달리고 있어서 회복이 힘들 것 같습니다.  100.00%       0       0\n",
       "19                  주식 시장 전반이 불안정한데 이 종목은 더 위험해 보입니다.   99.37%       0       0\n",
       "20                  배당금이 줄어들었고, 앞으로도 회복 가능성이 낮아 보입니다.   99.97%       1       0\n",
       "21         외국인 투자자들이 빠져나가고 있어 주가에 부정적인 영향을 미칠 것 같습니다.   95.16%       0       0\n",
       "22          이 회사의 성장 가능성이 정말 기대돼요! 앞으로 주가가 오를 것 같습니다.   99.92%       1       1\n",
       "23                 이번 분기 실적이 예상보다 좋았어요. 강력한 매수 추천합니다!  100.00%       1       1\n",
       "24                이 주식은 장기 투자로 정말 좋은 선택입니다. 믿고 투자하세요!  100.00%       1       1\n",
       "25                   이번 분기 실적이 기대 이상이라 주가가 상승할 것 같아요.   99.99%       1       1\n",
       "26                  이 회사의 기술력이 탁월해서 앞으로의 성장 가능성이 큽니다.  100.00%       1       1\n",
       "27                             주식이 오랜만에 반등해서 너무 기쁘네요!   98.41%       1       1\n",
       "28               상장 이후 꾸준히 오르는 모습에 투자하기 잘했다는 생각이 들어요.   99.24%       1       1\n",
       "29                  외국인 투자자들이 많이 들어오고 있어서 긍정적인 신호입니다.   99.39%       1       1\n",
       "30                          배당금이 증가해서 안정적인 투자처로 보입니다.   99.99%       1       1\n",
       "31                 이 기업의 새로운 제품이 시장에서 좋은 반응을 얻고 있습니다.   99.98%       1       1\n",
       "32                      전문가들이 추천하는 종목이라 믿고 투자하고 있습니다.  100.00%       1       1\n",
       "33                     최근 긍정적인 뉴스가 많아 주가가 더 오를 것 같아요.   99.96%       1       1\n",
       "34  이 회사의 비전이 확실해서 장기 투자로 괜찮다고 생각해요.이 회사는 지속적으로 좋은...  100.00%       1       1\n",
       "35              최근 주가 상승세가 눈에 띄어 투자자들의 관심이 집중되고 있습니다.   98.81%       1       1\n",
       "36                 이 기업의 혁신적인 기술이 시장에서 큰 주목을 받고 있습니다.  100.00%       1       1\n",
       "37               배당금이 꾸준히 증가하고 있어 안정적인 투자처로 손색이 없습니다.   99.14%       1       1\n",
       "38                주식이 안정적으로 오르고 있어서 마음 편하게 투자하고 있습니다.  100.00%       1       1\n",
       "39              이 종목은 전문가들의 추천을 받으며 긍정적인 평가를 받고 있습니다.  100.00%       1       1\n",
       "40                    회사의 장기적인 비전이 확고해 투자할 가치가 충분합니다.  100.00%       1       1\n",
       "41               최근에 발표된 실적이 예상보다 좋았고, 이는 긍정적인 신호입니다.  100.00%       1       1\n",
       "42             이 기업의 성장 가능성이 매우 높아 보이기 때문에 투자할 기회입니다.  100.00%       1       1\n",
       "43     이 회사의 새로운 프로젝트가 큰 성공을 거두고 있어 앞으로의 성장에 기대가 큽니다.  100.00%       1       1"
      ]
     },
     "metadata": {},
     "output_type": "display_data"
    },
    {
     "name": "stdout",
     "output_type": "stream",
     "text": [
      "부정리뷰 정답률: 81.82%\n",
      "긍정리뷰 정답률: 100.00%\n"
     ]
    }
   ],
   "source": [
    "def sentiment_predict(new_sentence):\n",
    "  new_sentence = re.sub(r'[^ㄱ-ㅎㅏ-ㅣ가-힣 ]', '', new_sentence) # 특수 문자 제거\n",
    "  new_sentence = okt.morphs(new_sentence, stem=True)             # 토큰화\n",
    "  encoded = tokenizer.texts_to_sequences([new_sentence])         # 정수 인코딩 \n",
    "  pad_new = pad_sequences(encoded, maxlen=max_len)               # 패딩 \n",
    "  predicted_value = loaded_model.predict(pad_new)                # 예측\n",
    "  \n",
    "  score = float(predicted_value[0])\n",
    "  return score  \n",
    "\n",
    "# 예측 결과를 저장할 리스트\n",
    "results = []\n",
    "\n",
    "# 각 샘플 문장에 대해 예측 수행\n",
    "for idx, sentence in enumerate(sample['문장'].values):\n",
    "  # 예측 수행\n",
    "  score = sentiment_predict(sentence)\n",
    "  \n",
    "  if score > 0.5 : \n",
    "    score_persentage =  score * 100\n",
    "  else:\n",
    "    score_persentage =  (1 - score) * 100\n",
    "  \n",
    "  # 결과 저장\n",
    "  results.append({\n",
    "      '문장': sentence,\n",
    "      '예측 확률': score_persentage,\n",
    "      '예측 레이블': 1 if score > 0.5 else 0,\n",
    "      '실제 레이블': sample.loc[idx, '실제 레이블']\n",
    "  })\n",
    "# 결과를 데이터프레임으로 변환\n",
    "results_df = pd.DataFrame(results)\n",
    "\n",
    "# 확률을 소수점 두 자리로 포맷하여 백분율로 변환\n",
    "results_df['예측 확률'] = results_df['예측 확률'] \\\n",
    "                        .apply(lambda x: \"{:.2f}%\".format(x))\n",
    "# 각 레이블에 대한 정답률 계산\n",
    "accuracy_0 = (results_df[results_df['실제 레이블'] == 0]['예측 레이블'] == 0) \\\n",
    "              .sum() / (results_df['실제 레이블'] == 0).sum() * 100\n",
    "accuracy_1 = (results_df[results_df['실제 레이블'] == 1]['예측 레이블'] == 1) \\\n",
    "              .sum()  / (results_df['실제 레이블'] == 1).sum() * 100\n",
    "              \n",
    "display(results_df)\n",
    "# 정답률 출력\n",
    "print('부정리뷰 정답률: {:.2f}%'.format(accuracy_0))\n",
    "print('긍정리뷰 정답률: {:.2f}%'.format(accuracy_1))"
   ]
  },
  {
   "cell_type": "code",
   "execution_count": 56,
   "metadata": {},
   "outputs": [],
   "source": [
    "df = pd.read_csv('practice_Toss_KOSPI_2025-01-18.csv')"
   ]
  },
  {
   "cell_type": "code",
   "execution_count": 57,
   "metadata": {},
   "outputs": [
    {
     "data": {
      "text/html": [
       "<div>\n",
       "<style scoped>\n",
       "    .dataframe tbody tr th:only-of-type {\n",
       "        vertical-align: middle;\n",
       "    }\n",
       "\n",
       "    .dataframe tbody tr th {\n",
       "        vertical-align: top;\n",
       "    }\n",
       "\n",
       "    .dataframe thead th {\n",
       "        text-align: right;\n",
       "    }\n",
       "</style>\n",
       "<table border=\"1\" class=\"dataframe\">\n",
       "  <thead>\n",
       "    <tr style=\"text-align: right;\">\n",
       "      <th></th>\n",
       "      <th>닉네임</th>\n",
       "      <th>날짜</th>\n",
       "      <th>내용</th>\n",
       "      <th>종목</th>\n",
       "    </tr>\n",
       "  </thead>\n",
       "  <tbody>\n",
       "    <tr>\n",
       "      <th>0</th>\n",
       "      <td>짜호룽</td>\n",
       "      <td>2025-01-18T14:10:20+09:00</td>\n",
       "      <td>배당금 받은걸로 조금씩 추매하고..</td>\n",
       "      <td>5930</td>\n",
       "    </tr>\n",
       "  </tbody>\n",
       "</table>\n",
       "</div>"
      ],
      "text/plain": [
       "   닉네임                         날짜                   내용    종목\n",
       "0  짜호룽  2025-01-18T14:10:20+09:00  배당금 받은걸로 조금씩 추매하고..  5930"
      ]
     },
     "execution_count": 57,
     "metadata": {},
     "output_type": "execute_result"
    }
   ],
   "source": [
    "df.head(1)"
   ]
  },
  {
   "cell_type": "code",
   "execution_count": 58,
   "metadata": {},
   "outputs": [
    {
     "name": "stdout",
     "output_type": "stream",
     "text": [
      "\u001b[1m1/1\u001b[0m \u001b[32m━━━━━━━━━━━━━━━━━━━━\u001b[0m\u001b[37m\u001b[0m \u001b[1m0s\u001b[0m 42ms/step\n",
      "\u001b[1m1/1\u001b[0m \u001b[32m━━━━━━━━━━━━━━━━━━━━\u001b[0m\u001b[37m\u001b[0m \u001b[1m0s\u001b[0m 32ms/step\n",
      "\u001b[1m1/1\u001b[0m \u001b[32m━━━━━━━━━━━━━━━━━━━━\u001b[0m\u001b[37m\u001b[0m \u001b[1m0s\u001b[0m 31ms/step\n"
     ]
    },
    {
     "name": "stderr",
     "output_type": "stream",
     "text": [
      "C:\\Users\\hydrl\\AppData\\Local\\Temp\\ipykernel_8660\\3839959439.py:22: DeprecationWarning: Conversion of an array with ndim > 0 to a scalar is deprecated, and will error in future. Ensure you extract a single element from your array before performing this operation. (Deprecated NumPy 1.25.)\n",
      "  score = float(predicted_value[0])\n"
     ]
    },
    {
     "name": "stdout",
     "output_type": "stream",
     "text": [
      "\u001b[1m1/1\u001b[0m \u001b[32m━━━━━━━━━━━━━━━━━━━━\u001b[0m\u001b[37m\u001b[0m \u001b[1m0s\u001b[0m 36ms/step\n",
      "\u001b[1m1/1\u001b[0m \u001b[32m━━━━━━━━━━━━━━━━━━━━\u001b[0m\u001b[37m\u001b[0m \u001b[1m0s\u001b[0m 32ms/step\n",
      "\u001b[1m1/1\u001b[0m \u001b[32m━━━━━━━━━━━━━━━━━━━━\u001b[0m\u001b[37m\u001b[0m \u001b[1m0s\u001b[0m 33ms/step\n",
      "\u001b[1m1/1\u001b[0m \u001b[32m━━━━━━━━━━━━━━━━━━━━\u001b[0m\u001b[37m\u001b[0m \u001b[1m0s\u001b[0m 31ms/step\n",
      "\u001b[1m1/1\u001b[0m \u001b[32m━━━━━━━━━━━━━━━━━━━━\u001b[0m\u001b[37m\u001b[0m \u001b[1m0s\u001b[0m 40ms/step\n",
      "\u001b[1m1/1\u001b[0m \u001b[32m━━━━━━━━━━━━━━━━━━━━\u001b[0m\u001b[37m\u001b[0m \u001b[1m0s\u001b[0m 32ms/step\n",
      "\u001b[1m1/1\u001b[0m \u001b[32m━━━━━━━━━━━━━━━━━━━━\u001b[0m\u001b[37m\u001b[0m \u001b[1m0s\u001b[0m 35ms/step\n",
      "\u001b[1m1/1\u001b[0m \u001b[32m━━━━━━━━━━━━━━━━━━━━\u001b[0m\u001b[37m\u001b[0m \u001b[1m0s\u001b[0m 33ms/step\n",
      "\u001b[1m1/1\u001b[0m \u001b[32m━━━━━━━━━━━━━━━━━━━━\u001b[0m\u001b[37m\u001b[0m \u001b[1m0s\u001b[0m 38ms/step\n",
      "\u001b[1m1/1\u001b[0m \u001b[32m━━━━━━━━━━━━━━━━━━━━\u001b[0m\u001b[37m\u001b[0m \u001b[1m0s\u001b[0m 35ms/step\n",
      "\u001b[1m1/1\u001b[0m \u001b[32m━━━━━━━━━━━━━━━━━━━━\u001b[0m\u001b[37m\u001b[0m \u001b[1m0s\u001b[0m 36ms/step\n",
      "\u001b[1m1/1\u001b[0m \u001b[32m━━━━━━━━━━━━━━━━━━━━\u001b[0m\u001b[37m\u001b[0m \u001b[1m0s\u001b[0m 39ms/step\n",
      "\u001b[1m1/1\u001b[0m \u001b[32m━━━━━━━━━━━━━━━━━━━━\u001b[0m\u001b[37m\u001b[0m \u001b[1m0s\u001b[0m 41ms/step\n",
      "\u001b[1m1/1\u001b[0m \u001b[32m━━━━━━━━━━━━━━━━━━━━\u001b[0m\u001b[37m\u001b[0m \u001b[1m0s\u001b[0m 33ms/step\n",
      "\u001b[1m1/1\u001b[0m \u001b[32m━━━━━━━━━━━━━━━━━━━━\u001b[0m\u001b[37m\u001b[0m \u001b[1m0s\u001b[0m 34ms/step\n",
      "\u001b[1m1/1\u001b[0m \u001b[32m━━━━━━━━━━━━━━━━━━━━\u001b[0m\u001b[37m\u001b[0m \u001b[1m0s\u001b[0m 35ms/step\n",
      "\u001b[1m1/1\u001b[0m \u001b[32m━━━━━━━━━━━━━━━━━━━━\u001b[0m\u001b[37m\u001b[0m \u001b[1m0s\u001b[0m 33ms/step\n",
      "\u001b[1m1/1\u001b[0m \u001b[32m━━━━━━━━━━━━━━━━━━━━\u001b[0m\u001b[37m\u001b[0m \u001b[1m0s\u001b[0m 33ms/step\n",
      "\u001b[1m1/1\u001b[0m \u001b[32m━━━━━━━━━━━━━━━━━━━━\u001b[0m\u001b[37m\u001b[0m \u001b[1m0s\u001b[0m 31ms/step\n",
      "\u001b[1m1/1\u001b[0m \u001b[32m━━━━━━━━━━━━━━━━━━━━\u001b[0m\u001b[37m\u001b[0m \u001b[1m0s\u001b[0m 35ms/step\n",
      "\u001b[1m1/1\u001b[0m \u001b[32m━━━━━━━━━━━━━━━━━━━━\u001b[0m\u001b[37m\u001b[0m \u001b[1m0s\u001b[0m 32ms/step\n",
      "\u001b[1m1/1\u001b[0m \u001b[32m━━━━━━━━━━━━━━━━━━━━\u001b[0m\u001b[37m\u001b[0m \u001b[1m0s\u001b[0m 33ms/step\n",
      "\u001b[1m1/1\u001b[0m \u001b[32m━━━━━━━━━━━━━━━━━━━━\u001b[0m\u001b[37m\u001b[0m \u001b[1m0s\u001b[0m 33ms/step\n",
      "\u001b[1m1/1\u001b[0m \u001b[32m━━━━━━━━━━━━━━━━━━━━\u001b[0m\u001b[37m\u001b[0m \u001b[1m0s\u001b[0m 32ms/step\n",
      "\u001b[1m1/1\u001b[0m \u001b[32m━━━━━━━━━━━━━━━━━━━━\u001b[0m\u001b[37m\u001b[0m \u001b[1m0s\u001b[0m 31ms/step\n",
      "\u001b[1m1/1\u001b[0m \u001b[32m━━━━━━━━━━━━━━━━━━━━\u001b[0m\u001b[37m\u001b[0m \u001b[1m0s\u001b[0m 35ms/step\n",
      "\u001b[1m1/1\u001b[0m \u001b[32m━━━━━━━━━━━━━━━━━━━━\u001b[0m\u001b[37m\u001b[0m \u001b[1m0s\u001b[0m 37ms/step\n",
      "\u001b[1m1/1\u001b[0m \u001b[32m━━━━━━━━━━━━━━━━━━━━\u001b[0m\u001b[37m\u001b[0m \u001b[1m0s\u001b[0m 33ms/step\n",
      "\u001b[1m1/1\u001b[0m \u001b[32m━━━━━━━━━━━━━━━━━━━━\u001b[0m\u001b[37m\u001b[0m \u001b[1m0s\u001b[0m 36ms/step\n",
      "\u001b[1m1/1\u001b[0m \u001b[32m━━━━━━━━━━━━━━━━━━━━\u001b[0m\u001b[37m\u001b[0m \u001b[1m0s\u001b[0m 38ms/step\n",
      "\u001b[1m1/1\u001b[0m \u001b[32m━━━━━━━━━━━━━━━━━━━━\u001b[0m\u001b[37m\u001b[0m \u001b[1m0s\u001b[0m 33ms/step\n",
      "\u001b[1m1/1\u001b[0m \u001b[32m━━━━━━━━━━━━━━━━━━━━\u001b[0m\u001b[37m\u001b[0m \u001b[1m0s\u001b[0m 31ms/step\n",
      "\u001b[1m1/1\u001b[0m \u001b[32m━━━━━━━━━━━━━━━━━━━━\u001b[0m\u001b[37m\u001b[0m \u001b[1m0s\u001b[0m 32ms/step\n",
      "\u001b[1m1/1\u001b[0m \u001b[32m━━━━━━━━━━━━━━━━━━━━\u001b[0m\u001b[37m\u001b[0m \u001b[1m0s\u001b[0m 35ms/step\n",
      "\u001b[1m1/1\u001b[0m \u001b[32m━━━━━━━━━━━━━━━━━━━━\u001b[0m\u001b[37m\u001b[0m \u001b[1m0s\u001b[0m 35ms/step\n",
      "\u001b[1m1/1\u001b[0m \u001b[32m━━━━━━━━━━━━━━━━━━━━\u001b[0m\u001b[37m\u001b[0m \u001b[1m0s\u001b[0m 31ms/step\n",
      "\u001b[1m1/1\u001b[0m \u001b[32m━━━━━━━━━━━━━━━━━━━━\u001b[0m\u001b[37m\u001b[0m \u001b[1m0s\u001b[0m 34ms/step\n",
      "\u001b[1m1/1\u001b[0m \u001b[32m━━━━━━━━━━━━━━━━━━━━\u001b[0m\u001b[37m\u001b[0m \u001b[1m0s\u001b[0m 32ms/step\n",
      "\u001b[1m1/1\u001b[0m \u001b[32m━━━━━━━━━━━━━━━━━━━━\u001b[0m\u001b[37m\u001b[0m \u001b[1m0s\u001b[0m 35ms/step\n",
      "\u001b[1m1/1\u001b[0m \u001b[32m━━━━━━━━━━━━━━━━━━━━\u001b[0m\u001b[37m\u001b[0m \u001b[1m0s\u001b[0m 33ms/step\n",
      "\u001b[1m1/1\u001b[0m \u001b[32m━━━━━━━━━━━━━━━━━━━━\u001b[0m\u001b[37m\u001b[0m \u001b[1m0s\u001b[0m 36ms/step\n",
      "\u001b[1m1/1\u001b[0m \u001b[32m━━━━━━━━━━━━━━━━━━━━\u001b[0m\u001b[37m\u001b[0m \u001b[1m0s\u001b[0m 32ms/step\n",
      "\u001b[1m1/1\u001b[0m \u001b[32m━━━━━━━━━━━━━━━━━━━━\u001b[0m\u001b[37m\u001b[0m \u001b[1m0s\u001b[0m 30ms/step\n",
      "\u001b[1m1/1\u001b[0m \u001b[32m━━━━━━━━━━━━━━━━━━━━\u001b[0m\u001b[37m\u001b[0m \u001b[1m0s\u001b[0m 32ms/step\n",
      "\u001b[1m1/1\u001b[0m \u001b[32m━━━━━━━━━━━━━━━━━━━━\u001b[0m\u001b[37m\u001b[0m \u001b[1m0s\u001b[0m 35ms/step\n",
      "\u001b[1m1/1\u001b[0m \u001b[32m━━━━━━━━━━━━━━━━━━━━\u001b[0m\u001b[37m\u001b[0m \u001b[1m0s\u001b[0m 28ms/step\n",
      "\u001b[1m1/1\u001b[0m \u001b[32m━━━━━━━━━━━━━━━━━━━━\u001b[0m\u001b[37m\u001b[0m \u001b[1m0s\u001b[0m 30ms/step\n",
      "\u001b[1m1/1\u001b[0m \u001b[32m━━━━━━━━━━━━━━━━━━━━\u001b[0m\u001b[37m\u001b[0m \u001b[1m0s\u001b[0m 31ms/step\n",
      "\u001b[1m1/1\u001b[0m \u001b[32m━━━━━━━━━━━━━━━━━━━━\u001b[0m\u001b[37m\u001b[0m \u001b[1m0s\u001b[0m 31ms/step\n",
      "\u001b[1m1/1\u001b[0m \u001b[32m━━━━━━━━━━━━━━━━━━━━\u001b[0m\u001b[37m\u001b[0m \u001b[1m0s\u001b[0m 32ms/step\n",
      "\u001b[1m1/1\u001b[0m \u001b[32m━━━━━━━━━━━━━━━━━━━━\u001b[0m\u001b[37m\u001b[0m \u001b[1m0s\u001b[0m 30ms/step\n",
      "\u001b[1m1/1\u001b[0m \u001b[32m━━━━━━━━━━━━━━━━━━━━\u001b[0m\u001b[37m\u001b[0m \u001b[1m0s\u001b[0m 32ms/step\n",
      "\u001b[1m1/1\u001b[0m \u001b[32m━━━━━━━━━━━━━━━━━━━━\u001b[0m\u001b[37m\u001b[0m \u001b[1m0s\u001b[0m 30ms/step\n",
      "\u001b[1m1/1\u001b[0m \u001b[32m━━━━━━━━━━━━━━━━━━━━\u001b[0m\u001b[37m\u001b[0m \u001b[1m0s\u001b[0m 29ms/step\n",
      "\u001b[1m1/1\u001b[0m \u001b[32m━━━━━━━━━━━━━━━━━━━━\u001b[0m\u001b[37m\u001b[0m \u001b[1m0s\u001b[0m 29ms/step\n",
      "\u001b[1m1/1\u001b[0m \u001b[32m━━━━━━━━━━━━━━━━━━━━\u001b[0m\u001b[37m\u001b[0m \u001b[1m0s\u001b[0m 29ms/step\n",
      "\u001b[1m1/1\u001b[0m \u001b[32m━━━━━━━━━━━━━━━━━━━━\u001b[0m\u001b[37m\u001b[0m \u001b[1m0s\u001b[0m 32ms/step\n",
      "\u001b[1m1/1\u001b[0m \u001b[32m━━━━━━━━━━━━━━━━━━━━\u001b[0m\u001b[37m\u001b[0m \u001b[1m0s\u001b[0m 32ms/step\n",
      "\u001b[1m1/1\u001b[0m \u001b[32m━━━━━━━━━━━━━━━━━━━━\u001b[0m\u001b[37m\u001b[0m \u001b[1m0s\u001b[0m 32ms/step\n",
      "\u001b[1m1/1\u001b[0m \u001b[32m━━━━━━━━━━━━━━━━━━━━\u001b[0m\u001b[37m\u001b[0m \u001b[1m0s\u001b[0m 35ms/step\n",
      "\u001b[1m1/1\u001b[0m \u001b[32m━━━━━━━━━━━━━━━━━━━━\u001b[0m\u001b[37m\u001b[0m \u001b[1m0s\u001b[0m 38ms/step\n",
      "\u001b[1m1/1\u001b[0m \u001b[32m━━━━━━━━━━━━━━━━━━━━\u001b[0m\u001b[37m\u001b[0m \u001b[1m0s\u001b[0m 35ms/step\n",
      "\u001b[1m1/1\u001b[0m \u001b[32m━━━━━━━━━━━━━━━━━━━━\u001b[0m\u001b[37m\u001b[0m \u001b[1m0s\u001b[0m 32ms/step\n",
      "\u001b[1m1/1\u001b[0m \u001b[32m━━━━━━━━━━━━━━━━━━━━\u001b[0m\u001b[37m\u001b[0m \u001b[1m0s\u001b[0m 34ms/step\n",
      "\u001b[1m1/1\u001b[0m \u001b[32m━━━━━━━━━━━━━━━━━━━━\u001b[0m\u001b[37m\u001b[0m \u001b[1m0s\u001b[0m 43ms/step\n",
      "\u001b[1m1/1\u001b[0m \u001b[32m━━━━━━━━━━━━━━━━━━━━\u001b[0m\u001b[37m\u001b[0m \u001b[1m0s\u001b[0m 30ms/step\n",
      "\u001b[1m1/1\u001b[0m \u001b[32m━━━━━━━━━━━━━━━━━━━━\u001b[0m\u001b[37m\u001b[0m \u001b[1m0s\u001b[0m 30ms/step\n",
      "\u001b[1m1/1\u001b[0m \u001b[32m━━━━━━━━━━━━━━━━━━━━\u001b[0m\u001b[37m\u001b[0m \u001b[1m0s\u001b[0m 30ms/step\n",
      "\u001b[1m1/1\u001b[0m \u001b[32m━━━━━━━━━━━━━━━━━━━━\u001b[0m\u001b[37m\u001b[0m \u001b[1m0s\u001b[0m 29ms/step\n",
      "\u001b[1m1/1\u001b[0m \u001b[32m━━━━━━━━━━━━━━━━━━━━\u001b[0m\u001b[37m\u001b[0m \u001b[1m0s\u001b[0m 35ms/step\n",
      "\u001b[1m1/1\u001b[0m \u001b[32m━━━━━━━━━━━━━━━━━━━━\u001b[0m\u001b[37m\u001b[0m \u001b[1m0s\u001b[0m 38ms/step\n",
      "\u001b[1m1/1\u001b[0m \u001b[32m━━━━━━━━━━━━━━━━━━━━\u001b[0m\u001b[37m\u001b[0m \u001b[1m0s\u001b[0m 34ms/step\n",
      "\u001b[1m1/1\u001b[0m \u001b[32m━━━━━━━━━━━━━━━━━━━━\u001b[0m\u001b[37m\u001b[0m \u001b[1m0s\u001b[0m 34ms/step\n",
      "\u001b[1m1/1\u001b[0m \u001b[32m━━━━━━━━━━━━━━━━━━━━\u001b[0m\u001b[37m\u001b[0m \u001b[1m0s\u001b[0m 31ms/step\n",
      "\u001b[1m1/1\u001b[0m \u001b[32m━━━━━━━━━━━━━━━━━━━━\u001b[0m\u001b[37m\u001b[0m \u001b[1m0s\u001b[0m 36ms/step\n",
      "\u001b[1m1/1\u001b[0m \u001b[32m━━━━━━━━━━━━━━━━━━━━\u001b[0m\u001b[37m\u001b[0m \u001b[1m0s\u001b[0m 31ms/step\n",
      "\u001b[1m1/1\u001b[0m \u001b[32m━━━━━━━━━━━━━━━━━━━━\u001b[0m\u001b[37m\u001b[0m \u001b[1m0s\u001b[0m 30ms/step\n",
      "\u001b[1m1/1\u001b[0m \u001b[32m━━━━━━━━━━━━━━━━━━━━\u001b[0m\u001b[37m\u001b[0m \u001b[1m0s\u001b[0m 33ms/step\n",
      "\u001b[1m1/1\u001b[0m \u001b[32m━━━━━━━━━━━━━━━━━━━━\u001b[0m\u001b[37m\u001b[0m \u001b[1m0s\u001b[0m 30ms/step\n",
      "\u001b[1m1/1\u001b[0m \u001b[32m━━━━━━━━━━━━━━━━━━━━\u001b[0m\u001b[37m\u001b[0m \u001b[1m0s\u001b[0m 36ms/step\n",
      "\u001b[1m1/1\u001b[0m \u001b[32m━━━━━━━━━━━━━━━━━━━━\u001b[0m\u001b[37m\u001b[0m \u001b[1m0s\u001b[0m 36ms/step\n",
      "\u001b[1m1/1\u001b[0m \u001b[32m━━━━━━━━━━━━━━━━━━━━\u001b[0m\u001b[37m\u001b[0m \u001b[1m0s\u001b[0m 33ms/step\n",
      "\u001b[1m1/1\u001b[0m \u001b[32m━━━━━━━━━━━━━━━━━━━━\u001b[0m\u001b[37m\u001b[0m \u001b[1m0s\u001b[0m 32ms/step\n",
      "\u001b[1m1/1\u001b[0m \u001b[32m━━━━━━━━━━━━━━━━━━━━\u001b[0m\u001b[37m\u001b[0m \u001b[1m0s\u001b[0m 33ms/step\n",
      "\u001b[1m1/1\u001b[0m \u001b[32m━━━━━━━━━━━━━━━━━━━━\u001b[0m\u001b[37m\u001b[0m \u001b[1m0s\u001b[0m 38ms/step\n",
      "\u001b[1m1/1\u001b[0m \u001b[32m━━━━━━━━━━━━━━━━━━━━\u001b[0m\u001b[37m\u001b[0m \u001b[1m0s\u001b[0m 32ms/step\n",
      "\u001b[1m1/1\u001b[0m \u001b[32m━━━━━━━━━━━━━━━━━━━━\u001b[0m\u001b[37m\u001b[0m \u001b[1m0s\u001b[0m 32ms/step\n",
      "\u001b[1m1/1\u001b[0m \u001b[32m━━━━━━━━━━━━━━━━━━━━\u001b[0m\u001b[37m\u001b[0m \u001b[1m0s\u001b[0m 33ms/step\n",
      "\u001b[1m1/1\u001b[0m \u001b[32m━━━━━━━━━━━━━━━━━━━━\u001b[0m\u001b[37m\u001b[0m \u001b[1m0s\u001b[0m 31ms/step\n",
      "\u001b[1m1/1\u001b[0m \u001b[32m━━━━━━━━━━━━━━━━━━━━\u001b[0m\u001b[37m\u001b[0m \u001b[1m0s\u001b[0m 36ms/step\n",
      "\u001b[1m1/1\u001b[0m \u001b[32m━━━━━━━━━━━━━━━━━━━━\u001b[0m\u001b[37m\u001b[0m \u001b[1m0s\u001b[0m 34ms/step\n",
      "\u001b[1m1/1\u001b[0m \u001b[32m━━━━━━━━━━━━━━━━━━━━\u001b[0m\u001b[37m\u001b[0m \u001b[1m0s\u001b[0m 29ms/step\n",
      "\u001b[1m1/1\u001b[0m \u001b[32m━━━━━━━━━━━━━━━━━━━━\u001b[0m\u001b[37m\u001b[0m \u001b[1m0s\u001b[0m 28ms/step\n",
      "\u001b[1m1/1\u001b[0m \u001b[32m━━━━━━━━━━━━━━━━━━━━\u001b[0m\u001b[37m\u001b[0m \u001b[1m0s\u001b[0m 32ms/step\n",
      "\u001b[1m1/1\u001b[0m \u001b[32m━━━━━━━━━━━━━━━━━━━━\u001b[0m\u001b[37m\u001b[0m \u001b[1m0s\u001b[0m 34ms/step\n",
      "\u001b[1m1/1\u001b[0m \u001b[32m━━━━━━━━━━━━━━━━━━━━\u001b[0m\u001b[37m\u001b[0m \u001b[1m0s\u001b[0m 35ms/step\n",
      "\u001b[1m1/1\u001b[0m \u001b[32m━━━━━━━━━━━━━━━━━━━━\u001b[0m\u001b[37m\u001b[0m \u001b[1m0s\u001b[0m 29ms/step\n",
      "\u001b[1m1/1\u001b[0m \u001b[32m━━━━━━━━━━━━━━━━━━━━\u001b[0m\u001b[37m\u001b[0m \u001b[1m0s\u001b[0m 31ms/step\n",
      "\u001b[1m1/1\u001b[0m \u001b[32m━━━━━━━━━━━━━━━━━━━━\u001b[0m\u001b[37m\u001b[0m \u001b[1m0s\u001b[0m 27ms/step\n",
      "\u001b[1m1/1\u001b[0m \u001b[32m━━━━━━━━━━━━━━━━━━━━\u001b[0m\u001b[37m\u001b[0m \u001b[1m0s\u001b[0m 38ms/step\n",
      "\u001b[1m1/1\u001b[0m \u001b[32m━━━━━━━━━━━━━━━━━━━━\u001b[0m\u001b[37m\u001b[0m \u001b[1m0s\u001b[0m 29ms/step\n",
      "\u001b[1m1/1\u001b[0m \u001b[32m━━━━━━━━━━━━━━━━━━━━\u001b[0m\u001b[37m\u001b[0m \u001b[1m0s\u001b[0m 29ms/step\n",
      "\u001b[1m1/1\u001b[0m \u001b[32m━━━━━━━━━━━━━━━━━━━━\u001b[0m\u001b[37m\u001b[0m \u001b[1m0s\u001b[0m 30ms/step\n",
      "\u001b[1m1/1\u001b[0m \u001b[32m━━━━━━━━━━━━━━━━━━━━\u001b[0m\u001b[37m\u001b[0m \u001b[1m0s\u001b[0m 30ms/step\n",
      "\u001b[1m1/1\u001b[0m \u001b[32m━━━━━━━━━━━━━━━━━━━━\u001b[0m\u001b[37m\u001b[0m \u001b[1m0s\u001b[0m 30ms/step\n",
      "\u001b[1m1/1\u001b[0m \u001b[32m━━━━━━━━━━━━━━━━━━━━\u001b[0m\u001b[37m\u001b[0m \u001b[1m0s\u001b[0m 32ms/step\n",
      "\u001b[1m1/1\u001b[0m \u001b[32m━━━━━━━━━━━━━━━━━━━━\u001b[0m\u001b[37m\u001b[0m \u001b[1m0s\u001b[0m 28ms/step\n",
      "\u001b[1m1/1\u001b[0m \u001b[32m━━━━━━━━━━━━━━━━━━━━\u001b[0m\u001b[37m\u001b[0m \u001b[1m0s\u001b[0m 30ms/step\n",
      "\u001b[1m1/1\u001b[0m \u001b[32m━━━━━━━━━━━━━━━━━━━━\u001b[0m\u001b[37m\u001b[0m \u001b[1m0s\u001b[0m 30ms/step\n",
      "\u001b[1m1/1\u001b[0m \u001b[32m━━━━━━━━━━━━━━━━━━━━\u001b[0m\u001b[37m\u001b[0m \u001b[1m0s\u001b[0m 29ms/step\n",
      "\u001b[1m1/1\u001b[0m \u001b[32m━━━━━━━━━━━━━━━━━━━━\u001b[0m\u001b[37m\u001b[0m \u001b[1m0s\u001b[0m 28ms/step\n",
      "\u001b[1m1/1\u001b[0m \u001b[32m━━━━━━━━━━━━━━━━━━━━\u001b[0m\u001b[37m\u001b[0m \u001b[1m0s\u001b[0m 30ms/step\n",
      "\u001b[1m1/1\u001b[0m \u001b[32m━━━━━━━━━━━━━━━━━━━━\u001b[0m\u001b[37m\u001b[0m \u001b[1m0s\u001b[0m 32ms/step\n",
      "\u001b[1m1/1\u001b[0m \u001b[32m━━━━━━━━━━━━━━━━━━━━\u001b[0m\u001b[37m\u001b[0m \u001b[1m0s\u001b[0m 32ms/step\n",
      "\u001b[1m1/1\u001b[0m \u001b[32m━━━━━━━━━━━━━━━━━━━━\u001b[0m\u001b[37m\u001b[0m \u001b[1m0s\u001b[0m 33ms/step\n",
      "\u001b[1m1/1\u001b[0m \u001b[32m━━━━━━━━━━━━━━━━━━━━\u001b[0m\u001b[37m\u001b[0m \u001b[1m0s\u001b[0m 32ms/step\n",
      "\u001b[1m1/1\u001b[0m \u001b[32m━━━━━━━━━━━━━━━━━━━━\u001b[0m\u001b[37m\u001b[0m \u001b[1m0s\u001b[0m 28ms/step\n",
      "\u001b[1m1/1\u001b[0m \u001b[32m━━━━━━━━━━━━━━━━━━━━\u001b[0m\u001b[37m\u001b[0m \u001b[1m0s\u001b[0m 31ms/step\n",
      "\u001b[1m1/1\u001b[0m \u001b[32m━━━━━━━━━━━━━━━━━━━━\u001b[0m\u001b[37m\u001b[0m \u001b[1m0s\u001b[0m 30ms/step\n",
      "\u001b[1m1/1\u001b[0m \u001b[32m━━━━━━━━━━━━━━━━━━━━\u001b[0m\u001b[37m\u001b[0m \u001b[1m0s\u001b[0m 29ms/step\n",
      "\u001b[1m1/1\u001b[0m \u001b[32m━━━━━━━━━━━━━━━━━━━━\u001b[0m\u001b[37m\u001b[0m \u001b[1m0s\u001b[0m 28ms/step\n",
      "\u001b[1m1/1\u001b[0m \u001b[32m━━━━━━━━━━━━━━━━━━━━\u001b[0m\u001b[37m\u001b[0m \u001b[1m0s\u001b[0m 30ms/step\n",
      "\u001b[1m1/1\u001b[0m \u001b[32m━━━━━━━━━━━━━━━━━━━━\u001b[0m\u001b[37m\u001b[0m \u001b[1m0s\u001b[0m 28ms/step\n",
      "\u001b[1m1/1\u001b[0m \u001b[32m━━━━━━━━━━━━━━━━━━━━\u001b[0m\u001b[37m\u001b[0m \u001b[1m0s\u001b[0m 29ms/step\n",
      "\u001b[1m1/1\u001b[0m \u001b[32m━━━━━━━━━━━━━━━━━━━━\u001b[0m\u001b[37m\u001b[0m \u001b[1m0s\u001b[0m 29ms/step\n",
      "\u001b[1m1/1\u001b[0m \u001b[32m━━━━━━━━━━━━━━━━━━━━\u001b[0m\u001b[37m\u001b[0m \u001b[1m0s\u001b[0m 30ms/step\n",
      "\u001b[1m1/1\u001b[0m \u001b[32m━━━━━━━━━━━━━━━━━━━━\u001b[0m\u001b[37m\u001b[0m \u001b[1m0s\u001b[0m 30ms/step\n",
      "\u001b[1m1/1\u001b[0m \u001b[32m━━━━━━━━━━━━━━━━━━━━\u001b[0m\u001b[37m\u001b[0m \u001b[1m0s\u001b[0m 27ms/step\n",
      "\u001b[1m1/1\u001b[0m \u001b[32m━━━━━━━━━━━━━━━━━━━━\u001b[0m\u001b[37m\u001b[0m \u001b[1m0s\u001b[0m 32ms/step\n",
      "\u001b[1m1/1\u001b[0m \u001b[32m━━━━━━━━━━━━━━━━━━━━\u001b[0m\u001b[37m\u001b[0m \u001b[1m0s\u001b[0m 30ms/step\n",
      "\u001b[1m1/1\u001b[0m \u001b[32m━━━━━━━━━━━━━━━━━━━━\u001b[0m\u001b[37m\u001b[0m \u001b[1m0s\u001b[0m 31ms/step\n",
      "\u001b[1m1/1\u001b[0m \u001b[32m━━━━━━━━━━━━━━━━━━━━\u001b[0m\u001b[37m\u001b[0m \u001b[1m0s\u001b[0m 29ms/step\n",
      "\u001b[1m1/1\u001b[0m \u001b[32m━━━━━━━━━━━━━━━━━━━━\u001b[0m\u001b[37m\u001b[0m \u001b[1m0s\u001b[0m 31ms/step\n",
      "\u001b[1m1/1\u001b[0m \u001b[32m━━━━━━━━━━━━━━━━━━━━\u001b[0m\u001b[37m\u001b[0m \u001b[1m0s\u001b[0m 31ms/step\n",
      "\u001b[1m1/1\u001b[0m \u001b[32m━━━━━━━━━━━━━━━━━━━━\u001b[0m\u001b[37m\u001b[0m \u001b[1m0s\u001b[0m 29ms/step\n",
      "\u001b[1m1/1\u001b[0m \u001b[32m━━━━━━━━━━━━━━━━━━━━\u001b[0m\u001b[37m\u001b[0m \u001b[1m0s\u001b[0m 28ms/step\n",
      "\u001b[1m1/1\u001b[0m \u001b[32m━━━━━━━━━━━━━━━━━━━━\u001b[0m\u001b[37m\u001b[0m \u001b[1m0s\u001b[0m 31ms/step\n",
      "\u001b[1m1/1\u001b[0m \u001b[32m━━━━━━━━━━━━━━━━━━━━\u001b[0m\u001b[37m\u001b[0m \u001b[1m0s\u001b[0m 33ms/step\n",
      "\u001b[1m1/1\u001b[0m \u001b[32m━━━━━━━━━━━━━━━━━━━━\u001b[0m\u001b[37m\u001b[0m \u001b[1m0s\u001b[0m 32ms/step\n",
      "\u001b[1m1/1\u001b[0m \u001b[32m━━━━━━━━━━━━━━━━━━━━\u001b[0m\u001b[37m\u001b[0m \u001b[1m0s\u001b[0m 31ms/step\n",
      "\u001b[1m1/1\u001b[0m \u001b[32m━━━━━━━━━━━━━━━━━━━━\u001b[0m\u001b[37m\u001b[0m \u001b[1m0s\u001b[0m 31ms/step\n",
      "\u001b[1m1/1\u001b[0m \u001b[32m━━━━━━━━━━━━━━━━━━━━\u001b[0m\u001b[37m\u001b[0m \u001b[1m0s\u001b[0m 31ms/step\n",
      "\u001b[1m1/1\u001b[0m \u001b[32m━━━━━━━━━━━━━━━━━━━━\u001b[0m\u001b[37m\u001b[0m \u001b[1m0s\u001b[0m 27ms/step\n",
      "\u001b[1m1/1\u001b[0m \u001b[32m━━━━━━━━━━━━━━━━━━━━\u001b[0m\u001b[37m\u001b[0m \u001b[1m0s\u001b[0m 29ms/step\n",
      "\u001b[1m1/1\u001b[0m \u001b[32m━━━━━━━━━━━━━━━━━━━━\u001b[0m\u001b[37m\u001b[0m \u001b[1m0s\u001b[0m 32ms/step\n",
      "\u001b[1m1/1\u001b[0m \u001b[32m━━━━━━━━━━━━━━━━━━━━\u001b[0m\u001b[37m\u001b[0m \u001b[1m0s\u001b[0m 31ms/step\n",
      "\u001b[1m1/1\u001b[0m \u001b[32m━━━━━━━━━━━━━━━━━━━━\u001b[0m\u001b[37m\u001b[0m \u001b[1m0s\u001b[0m 29ms/step\n",
      "\u001b[1m1/1\u001b[0m \u001b[32m━━━━━━━━━━━━━━━━━━━━\u001b[0m\u001b[37m\u001b[0m \u001b[1m0s\u001b[0m 27ms/step\n",
      "\u001b[1m1/1\u001b[0m \u001b[32m━━━━━━━━━━━━━━━━━━━━\u001b[0m\u001b[37m\u001b[0m \u001b[1m0s\u001b[0m 29ms/step\n",
      "\u001b[1m1/1\u001b[0m \u001b[32m━━━━━━━━━━━━━━━━━━━━\u001b[0m\u001b[37m\u001b[0m \u001b[1m0s\u001b[0m 30ms/step\n",
      "\u001b[1m1/1\u001b[0m \u001b[32m━━━━━━━━━━━━━━━━━━━━\u001b[0m\u001b[37m\u001b[0m \u001b[1m0s\u001b[0m 29ms/step\n",
      "\u001b[1m1/1\u001b[0m \u001b[32m━━━━━━━━━━━━━━━━━━━━\u001b[0m\u001b[37m\u001b[0m \u001b[1m0s\u001b[0m 29ms/step\n",
      "\u001b[1m1/1\u001b[0m \u001b[32m━━━━━━━━━━━━━━━━━━━━\u001b[0m\u001b[37m\u001b[0m \u001b[1m0s\u001b[0m 32ms/step\n",
      "\u001b[1m1/1\u001b[0m \u001b[32m━━━━━━━━━━━━━━━━━━━━\u001b[0m\u001b[37m\u001b[0m \u001b[1m0s\u001b[0m 30ms/step\n",
      "\u001b[1m1/1\u001b[0m \u001b[32m━━━━━━━━━━━━━━━━━━━━\u001b[0m\u001b[37m\u001b[0m \u001b[1m0s\u001b[0m 29ms/step\n",
      "\u001b[1m1/1\u001b[0m \u001b[32m━━━━━━━━━━━━━━━━━━━━\u001b[0m\u001b[37m\u001b[0m \u001b[1m0s\u001b[0m 31ms/step\n",
      "\u001b[1m1/1\u001b[0m \u001b[32m━━━━━━━━━━━━━━━━━━━━\u001b[0m\u001b[37m\u001b[0m \u001b[1m0s\u001b[0m 29ms/step\n",
      "\u001b[1m1/1\u001b[0m \u001b[32m━━━━━━━━━━━━━━━━━━━━\u001b[0m\u001b[37m\u001b[0m \u001b[1m0s\u001b[0m 29ms/step\n",
      "\u001b[1m1/1\u001b[0m \u001b[32m━━━━━━━━━━━━━━━━━━━━\u001b[0m\u001b[37m\u001b[0m \u001b[1m0s\u001b[0m 33ms/step\n",
      "\u001b[1m1/1\u001b[0m \u001b[32m━━━━━━━━━━━━━━━━━━━━\u001b[0m\u001b[37m\u001b[0m \u001b[1m0s\u001b[0m 32ms/step\n",
      "\u001b[1m1/1\u001b[0m \u001b[32m━━━━━━━━━━━━━━━━━━━━\u001b[0m\u001b[37m\u001b[0m \u001b[1m0s\u001b[0m 30ms/step\n",
      "\u001b[1m1/1\u001b[0m \u001b[32m━━━━━━━━━━━━━━━━━━━━\u001b[0m\u001b[37m\u001b[0m \u001b[1m0s\u001b[0m 29ms/step\n",
      "\u001b[1m1/1\u001b[0m \u001b[32m━━━━━━━━━━━━━━━━━━━━\u001b[0m\u001b[37m\u001b[0m \u001b[1m0s\u001b[0m 32ms/step\n",
      "\u001b[1m1/1\u001b[0m \u001b[32m━━━━━━━━━━━━━━━━━━━━\u001b[0m\u001b[37m\u001b[0m \u001b[1m0s\u001b[0m 30ms/step\n",
      "\u001b[1m1/1\u001b[0m \u001b[32m━━━━━━━━━━━━━━━━━━━━\u001b[0m\u001b[37m\u001b[0m \u001b[1m0s\u001b[0m 33ms/step\n",
      "\u001b[1m1/1\u001b[0m \u001b[32m━━━━━━━━━━━━━━━━━━━━\u001b[0m\u001b[37m\u001b[0m \u001b[1m0s\u001b[0m 32ms/step\n",
      "\u001b[1m1/1\u001b[0m \u001b[32m━━━━━━━━━━━━━━━━━━━━\u001b[0m\u001b[37m\u001b[0m \u001b[1m0s\u001b[0m 30ms/step\n",
      "\u001b[1m1/1\u001b[0m \u001b[32m━━━━━━━━━━━━━━━━━━━━\u001b[0m\u001b[37m\u001b[0m \u001b[1m0s\u001b[0m 32ms/step\n",
      "\u001b[1m1/1\u001b[0m \u001b[32m━━━━━━━━━━━━━━━━━━━━\u001b[0m\u001b[37m\u001b[0m \u001b[1m0s\u001b[0m 34ms/step\n",
      "\u001b[1m1/1\u001b[0m \u001b[32m━━━━━━━━━━━━━━━━━━━━\u001b[0m\u001b[37m\u001b[0m \u001b[1m0s\u001b[0m 29ms/step\n",
      "\u001b[1m1/1\u001b[0m \u001b[32m━━━━━━━━━━━━━━━━━━━━\u001b[0m\u001b[37m\u001b[0m \u001b[1m0s\u001b[0m 32ms/step\n",
      "\u001b[1m1/1\u001b[0m \u001b[32m━━━━━━━━━━━━━━━━━━━━\u001b[0m\u001b[37m\u001b[0m \u001b[1m0s\u001b[0m 52ms/step\n",
      "\u001b[1m1/1\u001b[0m \u001b[32m━━━━━━━━━━━━━━━━━━━━\u001b[0m\u001b[37m\u001b[0m \u001b[1m0s\u001b[0m 31ms/step\n",
      "\u001b[1m1/1\u001b[0m \u001b[32m━━━━━━━━━━━━━━━━━━━━\u001b[0m\u001b[37m\u001b[0m \u001b[1m0s\u001b[0m 30ms/step\n",
      "\u001b[1m1/1\u001b[0m \u001b[32m━━━━━━━━━━━━━━━━━━━━\u001b[0m\u001b[37m\u001b[0m \u001b[1m0s\u001b[0m 31ms/step\n",
      "\u001b[1m1/1\u001b[0m \u001b[32m━━━━━━━━━━━━━━━━━━━━\u001b[0m\u001b[37m\u001b[0m \u001b[1m0s\u001b[0m 27ms/step\n",
      "\u001b[1m1/1\u001b[0m \u001b[32m━━━━━━━━━━━━━━━━━━━━\u001b[0m\u001b[37m\u001b[0m \u001b[1m0s\u001b[0m 31ms/step\n",
      "\u001b[1m1/1\u001b[0m \u001b[32m━━━━━━━━━━━━━━━━━━━━\u001b[0m\u001b[37m\u001b[0m \u001b[1m0s\u001b[0m 30ms/step\n",
      "\u001b[1m1/1\u001b[0m \u001b[32m━━━━━━━━━━━━━━━━━━━━\u001b[0m\u001b[37m\u001b[0m \u001b[1m0s\u001b[0m 31ms/step\n",
      "\u001b[1m1/1\u001b[0m \u001b[32m━━━━━━━━━━━━━━━━━━━━\u001b[0m\u001b[37m\u001b[0m \u001b[1m0s\u001b[0m 28ms/step\n",
      "\u001b[1m1/1\u001b[0m \u001b[32m━━━━━━━━━━━━━━━━━━━━\u001b[0m\u001b[37m\u001b[0m \u001b[1m0s\u001b[0m 29ms/step\n",
      "\u001b[1m1/1\u001b[0m \u001b[32m━━━━━━━━━━━━━━━━━━━━\u001b[0m\u001b[37m\u001b[0m \u001b[1m0s\u001b[0m 30ms/step\n",
      "\u001b[1m1/1\u001b[0m \u001b[32m━━━━━━━━━━━━━━━━━━━━\u001b[0m\u001b[37m\u001b[0m \u001b[1m0s\u001b[0m 32ms/step\n",
      "\u001b[1m1/1\u001b[0m \u001b[32m━━━━━━━━━━━━━━━━━━━━\u001b[0m\u001b[37m\u001b[0m \u001b[1m0s\u001b[0m 30ms/step\n",
      "\u001b[1m1/1\u001b[0m \u001b[32m━━━━━━━━━━━━━━━━━━━━\u001b[0m\u001b[37m\u001b[0m \u001b[1m0s\u001b[0m 31ms/step\n",
      "\u001b[1m1/1\u001b[0m \u001b[32m━━━━━━━━━━━━━━━━━━━━\u001b[0m\u001b[37m\u001b[0m \u001b[1m0s\u001b[0m 33ms/step\n",
      "\u001b[1m1/1\u001b[0m \u001b[32m━━━━━━━━━━━━━━━━━━━━\u001b[0m\u001b[37m\u001b[0m \u001b[1m0s\u001b[0m 34ms/step\n",
      "\u001b[1m1/1\u001b[0m \u001b[32m━━━━━━━━━━━━━━━━━━━━\u001b[0m\u001b[37m\u001b[0m \u001b[1m0s\u001b[0m 30ms/step\n",
      "\u001b[1m1/1\u001b[0m \u001b[32m━━━━━━━━━━━━━━━━━━━━\u001b[0m\u001b[37m\u001b[0m \u001b[1m0s\u001b[0m 31ms/step\n",
      "\u001b[1m1/1\u001b[0m \u001b[32m━━━━━━━━━━━━━━━━━━━━\u001b[0m\u001b[37m\u001b[0m \u001b[1m0s\u001b[0m 30ms/step\n",
      "\u001b[1m1/1\u001b[0m \u001b[32m━━━━━━━━━━━━━━━━━━━━\u001b[0m\u001b[37m\u001b[0m \u001b[1m0s\u001b[0m 30ms/step\n",
      "\u001b[1m1/1\u001b[0m \u001b[32m━━━━━━━━━━━━━━━━━━━━\u001b[0m\u001b[37m\u001b[0m \u001b[1m0s\u001b[0m 29ms/step\n",
      "\u001b[1m1/1\u001b[0m \u001b[32m━━━━━━━━━━━━━━━━━━━━\u001b[0m\u001b[37m\u001b[0m \u001b[1m0s\u001b[0m 28ms/step\n",
      "\u001b[1m1/1\u001b[0m \u001b[32m━━━━━━━━━━━━━━━━━━━━\u001b[0m\u001b[37m\u001b[0m \u001b[1m0s\u001b[0m 29ms/step\n",
      "\u001b[1m1/1\u001b[0m \u001b[32m━━━━━━━━━━━━━━━━━━━━\u001b[0m\u001b[37m\u001b[0m \u001b[1m0s\u001b[0m 29ms/step\n",
      "\u001b[1m1/1\u001b[0m \u001b[32m━━━━━━━━━━━━━━━━━━━━\u001b[0m\u001b[37m\u001b[0m \u001b[1m0s\u001b[0m 28ms/step\n",
      "\u001b[1m1/1\u001b[0m \u001b[32m━━━━━━━━━━━━━━━━━━━━\u001b[0m\u001b[37m\u001b[0m \u001b[1m0s\u001b[0m 30ms/step\n",
      "\u001b[1m1/1\u001b[0m \u001b[32m━━━━━━━━━━━━━━━━━━━━\u001b[0m\u001b[37m\u001b[0m \u001b[1m0s\u001b[0m 32ms/step\n",
      "\u001b[1m1/1\u001b[0m \u001b[32m━━━━━━━━━━━━━━━━━━━━\u001b[0m\u001b[37m\u001b[0m \u001b[1m0s\u001b[0m 28ms/step\n",
      "\u001b[1m1/1\u001b[0m \u001b[32m━━━━━━━━━━━━━━━━━━━━\u001b[0m\u001b[37m\u001b[0m \u001b[1m0s\u001b[0m 31ms/step\n",
      "\u001b[1m1/1\u001b[0m \u001b[32m━━━━━━━━━━━━━━━━━━━━\u001b[0m\u001b[37m\u001b[0m \u001b[1m0s\u001b[0m 32ms/step\n",
      "\u001b[1m1/1\u001b[0m \u001b[32m━━━━━━━━━━━━━━━━━━━━\u001b[0m\u001b[37m\u001b[0m \u001b[1m0s\u001b[0m 42ms/step\n",
      "\u001b[1m1/1\u001b[0m \u001b[32m━━━━━━━━━━━━━━━━━━━━\u001b[0m\u001b[37m\u001b[0m \u001b[1m0s\u001b[0m 41ms/step\n",
      "\u001b[1m1/1\u001b[0m \u001b[32m━━━━━━━━━━━━━━━━━━━━\u001b[0m\u001b[37m\u001b[0m \u001b[1m0s\u001b[0m 28ms/step\n",
      "\u001b[1m1/1\u001b[0m \u001b[32m━━━━━━━━━━━━━━━━━━━━\u001b[0m\u001b[37m\u001b[0m \u001b[1m0s\u001b[0m 28ms/step\n",
      "\u001b[1m1/1\u001b[0m \u001b[32m━━━━━━━━━━━━━━━━━━━━\u001b[0m\u001b[37m\u001b[0m \u001b[1m0s\u001b[0m 28ms/step\n",
      "\u001b[1m1/1\u001b[0m \u001b[32m━━━━━━━━━━━━━━━━━━━━\u001b[0m\u001b[37m\u001b[0m \u001b[1m0s\u001b[0m 35ms/step\n",
      "\u001b[1m1/1\u001b[0m \u001b[32m━━━━━━━━━━━━━━━━━━━━\u001b[0m\u001b[37m\u001b[0m \u001b[1m0s\u001b[0m 31ms/step\n",
      "\u001b[1m1/1\u001b[0m \u001b[32m━━━━━━━━━━━━━━━━━━━━\u001b[0m\u001b[37m\u001b[0m \u001b[1m0s\u001b[0m 30ms/step\n",
      "\u001b[1m1/1\u001b[0m \u001b[32m━━━━━━━━━━━━━━━━━━━━\u001b[0m\u001b[37m\u001b[0m \u001b[1m0s\u001b[0m 29ms/step\n",
      "\u001b[1m1/1\u001b[0m \u001b[32m━━━━━━━━━━━━━━━━━━━━\u001b[0m\u001b[37m\u001b[0m \u001b[1m0s\u001b[0m 32ms/step\n",
      "\u001b[1m1/1\u001b[0m \u001b[32m━━━━━━━━━━━━━━━━━━━━\u001b[0m\u001b[37m\u001b[0m \u001b[1m0s\u001b[0m 36ms/step\n",
      "\u001b[1m1/1\u001b[0m \u001b[32m━━━━━━━━━━━━━━━━━━━━\u001b[0m\u001b[37m\u001b[0m \u001b[1m0s\u001b[0m 31ms/step\n",
      "\u001b[1m1/1\u001b[0m \u001b[32m━━━━━━━━━━━━━━━━━━━━\u001b[0m\u001b[37m\u001b[0m \u001b[1m0s\u001b[0m 29ms/step\n",
      "\u001b[1m1/1\u001b[0m \u001b[32m━━━━━━━━━━━━━━━━━━━━\u001b[0m\u001b[37m\u001b[0m \u001b[1m0s\u001b[0m 28ms/step\n",
      "\u001b[1m1/1\u001b[0m \u001b[32m━━━━━━━━━━━━━━━━━━━━\u001b[0m\u001b[37m\u001b[0m \u001b[1m0s\u001b[0m 27ms/step\n",
      "\u001b[1m1/1\u001b[0m \u001b[32m━━━━━━━━━━━━━━━━━━━━\u001b[0m\u001b[37m\u001b[0m \u001b[1m0s\u001b[0m 32ms/step\n",
      "\u001b[1m1/1\u001b[0m \u001b[32m━━━━━━━━━━━━━━━━━━━━\u001b[0m\u001b[37m\u001b[0m \u001b[1m0s\u001b[0m 29ms/step\n",
      "\u001b[1m1/1\u001b[0m \u001b[32m━━━━━━━━━━━━━━━━━━━━\u001b[0m\u001b[37m\u001b[0m \u001b[1m0s\u001b[0m 28ms/step\n",
      "\u001b[1m1/1\u001b[0m \u001b[32m━━━━━━━━━━━━━━━━━━━━\u001b[0m\u001b[37m\u001b[0m \u001b[1m0s\u001b[0m 31ms/step\n",
      "\u001b[1m1/1\u001b[0m \u001b[32m━━━━━━━━━━━━━━━━━━━━\u001b[0m\u001b[37m\u001b[0m \u001b[1m0s\u001b[0m 28ms/step\n",
      "\u001b[1m1/1\u001b[0m \u001b[32m━━━━━━━━━━━━━━━━━━━━\u001b[0m\u001b[37m\u001b[0m \u001b[1m0s\u001b[0m 31ms/step\n",
      "\u001b[1m1/1\u001b[0m \u001b[32m━━━━━━━━━━━━━━━━━━━━\u001b[0m\u001b[37m\u001b[0m \u001b[1m0s\u001b[0m 29ms/step\n",
      "\u001b[1m1/1\u001b[0m \u001b[32m━━━━━━━━━━━━━━━━━━━━\u001b[0m\u001b[37m\u001b[0m \u001b[1m0s\u001b[0m 30ms/step\n",
      "\u001b[1m1/1\u001b[0m \u001b[32m━━━━━━━━━━━━━━━━━━━━\u001b[0m\u001b[37m\u001b[0m \u001b[1m0s\u001b[0m 31ms/step\n",
      "\u001b[1m1/1\u001b[0m \u001b[32m━━━━━━━━━━━━━━━━━━━━\u001b[0m\u001b[37m\u001b[0m \u001b[1m0s\u001b[0m 29ms/step\n",
      "\u001b[1m1/1\u001b[0m \u001b[32m━━━━━━━━━━━━━━━━━━━━\u001b[0m\u001b[37m\u001b[0m \u001b[1m0s\u001b[0m 29ms/step\n",
      "\u001b[1m1/1\u001b[0m \u001b[32m━━━━━━━━━━━━━━━━━━━━\u001b[0m\u001b[37m\u001b[0m \u001b[1m0s\u001b[0m 27ms/step\n",
      "\u001b[1m1/1\u001b[0m \u001b[32m━━━━━━━━━━━━━━━━━━━━\u001b[0m\u001b[37m\u001b[0m \u001b[1m0s\u001b[0m 30ms/step\n",
      "\u001b[1m1/1\u001b[0m \u001b[32m━━━━━━━━━━━━━━━━━━━━\u001b[0m\u001b[37m\u001b[0m \u001b[1m0s\u001b[0m 27ms/step\n",
      "\u001b[1m1/1\u001b[0m \u001b[32m━━━━━━━━━━━━━━━━━━━━\u001b[0m\u001b[37m\u001b[0m \u001b[1m0s\u001b[0m 31ms/step\n",
      "\u001b[1m1/1\u001b[0m \u001b[32m━━━━━━━━━━━━━━━━━━━━\u001b[0m\u001b[37m\u001b[0m \u001b[1m0s\u001b[0m 29ms/step\n",
      "\u001b[1m1/1\u001b[0m \u001b[32m━━━━━━━━━━━━━━━━━━━━\u001b[0m\u001b[37m\u001b[0m \u001b[1m0s\u001b[0m 30ms/step\n",
      "\u001b[1m1/1\u001b[0m \u001b[32m━━━━━━━━━━━━━━━━━━━━\u001b[0m\u001b[37m\u001b[0m \u001b[1m0s\u001b[0m 31ms/step\n",
      "\u001b[1m1/1\u001b[0m \u001b[32m━━━━━━━━━━━━━━━━━━━━\u001b[0m\u001b[37m\u001b[0m \u001b[1m0s\u001b[0m 29ms/step\n",
      "\u001b[1m1/1\u001b[0m \u001b[32m━━━━━━━━━━━━━━━━━━━━\u001b[0m\u001b[37m\u001b[0m \u001b[1m0s\u001b[0m 28ms/step\n",
      "\u001b[1m1/1\u001b[0m \u001b[32m━━━━━━━━━━━━━━━━━━━━\u001b[0m\u001b[37m\u001b[0m \u001b[1m0s\u001b[0m 30ms/step\n",
      "\u001b[1m1/1\u001b[0m \u001b[32m━━━━━━━━━━━━━━━━━━━━\u001b[0m\u001b[37m\u001b[0m \u001b[1m0s\u001b[0m 30ms/step\n",
      "\u001b[1m1/1\u001b[0m \u001b[32m━━━━━━━━━━━━━━━━━━━━\u001b[0m\u001b[37m\u001b[0m \u001b[1m0s\u001b[0m 46ms/step\n",
      "\u001b[1m1/1\u001b[0m \u001b[32m━━━━━━━━━━━━━━━━━━━━\u001b[0m\u001b[37m\u001b[0m \u001b[1m0s\u001b[0m 28ms/step\n",
      "\u001b[1m1/1\u001b[0m \u001b[32m━━━━━━━━━━━━━━━━━━━━\u001b[0m\u001b[37m\u001b[0m \u001b[1m0s\u001b[0m 31ms/step\n",
      "\u001b[1m1/1\u001b[0m \u001b[32m━━━━━━━━━━━━━━━━━━━━\u001b[0m\u001b[37m\u001b[0m \u001b[1m0s\u001b[0m 29ms/step\n",
      "\u001b[1m1/1\u001b[0m \u001b[32m━━━━━━━━━━━━━━━━━━━━\u001b[0m\u001b[37m\u001b[0m \u001b[1m0s\u001b[0m 30ms/step\n",
      "\u001b[1m1/1\u001b[0m \u001b[32m━━━━━━━━━━━━━━━━━━━━\u001b[0m\u001b[37m\u001b[0m \u001b[1m0s\u001b[0m 31ms/step\n",
      "\u001b[1m1/1\u001b[0m \u001b[32m━━━━━━━━━━━━━━━━━━━━\u001b[0m\u001b[37m\u001b[0m \u001b[1m0s\u001b[0m 30ms/step\n",
      "\u001b[1m1/1\u001b[0m \u001b[32m━━━━━━━━━━━━━━━━━━━━\u001b[0m\u001b[37m\u001b[0m \u001b[1m0s\u001b[0m 28ms/step\n",
      "\u001b[1m1/1\u001b[0m \u001b[32m━━━━━━━━━━━━━━━━━━━━\u001b[0m\u001b[37m\u001b[0m \u001b[1m0s\u001b[0m 32ms/step\n",
      "\u001b[1m1/1\u001b[0m \u001b[32m━━━━━━━━━━━━━━━━━━━━\u001b[0m\u001b[37m\u001b[0m \u001b[1m0s\u001b[0m 26ms/step\n",
      "\u001b[1m1/1\u001b[0m \u001b[32m━━━━━━━━━━━━━━━━━━━━\u001b[0m\u001b[37m\u001b[0m \u001b[1m0s\u001b[0m 28ms/step\n",
      "\u001b[1m1/1\u001b[0m \u001b[32m━━━━━━━━━━━━━━━━━━━━\u001b[0m\u001b[37m\u001b[0m \u001b[1m0s\u001b[0m 28ms/step\n",
      "\u001b[1m1/1\u001b[0m \u001b[32m━━━━━━━━━━━━━━━━━━━━\u001b[0m\u001b[37m\u001b[0m \u001b[1m0s\u001b[0m 30ms/step\n",
      "\u001b[1m1/1\u001b[0m \u001b[32m━━━━━━━━━━━━━━━━━━━━\u001b[0m\u001b[37m\u001b[0m \u001b[1m0s\u001b[0m 30ms/step\n",
      "\u001b[1m1/1\u001b[0m \u001b[32m━━━━━━━━━━━━━━━━━━━━\u001b[0m\u001b[37m\u001b[0m \u001b[1m0s\u001b[0m 30ms/step\n",
      "\u001b[1m1/1\u001b[0m \u001b[32m━━━━━━━━━━━━━━━━━━━━\u001b[0m\u001b[37m\u001b[0m \u001b[1m0s\u001b[0m 28ms/step\n",
      "\u001b[1m1/1\u001b[0m \u001b[32m━━━━━━━━━━━━━━━━━━━━\u001b[0m\u001b[37m\u001b[0m \u001b[1m0s\u001b[0m 31ms/step\n",
      "\u001b[1m1/1\u001b[0m \u001b[32m━━━━━━━━━━━━━━━━━━━━\u001b[0m\u001b[37m\u001b[0m \u001b[1m0s\u001b[0m 29ms/step\n",
      "\u001b[1m1/1\u001b[0m \u001b[32m━━━━━━━━━━━━━━━━━━━━\u001b[0m\u001b[37m\u001b[0m \u001b[1m0s\u001b[0m 29ms/step\n",
      "\u001b[1m1/1\u001b[0m \u001b[32m━━━━━━━━━━━━━━━━━━━━\u001b[0m\u001b[37m\u001b[0m \u001b[1m0s\u001b[0m 30ms/step\n",
      "\u001b[1m1/1\u001b[0m \u001b[32m━━━━━━━━━━━━━━━━━━━━\u001b[0m\u001b[37m\u001b[0m \u001b[1m0s\u001b[0m 28ms/step\n",
      "\u001b[1m1/1\u001b[0m \u001b[32m━━━━━━━━━━━━━━━━━━━━\u001b[0m\u001b[37m\u001b[0m \u001b[1m0s\u001b[0m 29ms/step\n",
      "\u001b[1m1/1\u001b[0m \u001b[32m━━━━━━━━━━━━━━━━━━━━\u001b[0m\u001b[37m\u001b[0m \u001b[1m0s\u001b[0m 30ms/step\n",
      "\u001b[1m1/1\u001b[0m \u001b[32m━━━━━━━━━━━━━━━━━━━━\u001b[0m\u001b[37m\u001b[0m \u001b[1m0s\u001b[0m 30ms/step\n",
      "\u001b[1m1/1\u001b[0m \u001b[32m━━━━━━━━━━━━━━━━━━━━\u001b[0m\u001b[37m\u001b[0m \u001b[1m0s\u001b[0m 30ms/step\n",
      "\u001b[1m1/1\u001b[0m \u001b[32m━━━━━━━━━━━━━━━━━━━━\u001b[0m\u001b[37m\u001b[0m \u001b[1m0s\u001b[0m 30ms/step\n",
      "\u001b[1m1/1\u001b[0m \u001b[32m━━━━━━━━━━━━━━━━━━━━\u001b[0m\u001b[37m\u001b[0m \u001b[1m0s\u001b[0m 40ms/step\n",
      "\u001b[1m1/1\u001b[0m \u001b[32m━━━━━━━━━━━━━━━━━━━━\u001b[0m\u001b[37m\u001b[0m \u001b[1m0s\u001b[0m 29ms/step\n",
      "\u001b[1m1/1\u001b[0m \u001b[32m━━━━━━━━━━━━━━━━━━━━\u001b[0m\u001b[37m\u001b[0m \u001b[1m0s\u001b[0m 31ms/step\n",
      "\u001b[1m1/1\u001b[0m \u001b[32m━━━━━━━━━━━━━━━━━━━━\u001b[0m\u001b[37m\u001b[0m \u001b[1m0s\u001b[0m 29ms/step\n",
      "\u001b[1m1/1\u001b[0m \u001b[32m━━━━━━━━━━━━━━━━━━━━\u001b[0m\u001b[37m\u001b[0m \u001b[1m0s\u001b[0m 45ms/step\n",
      "\u001b[1m1/1\u001b[0m \u001b[32m━━━━━━━━━━━━━━━━━━━━\u001b[0m\u001b[37m\u001b[0m \u001b[1m0s\u001b[0m 30ms/step\n",
      "\u001b[1m1/1\u001b[0m \u001b[32m━━━━━━━━━━━━━━━━━━━━\u001b[0m\u001b[37m\u001b[0m \u001b[1m0s\u001b[0m 31ms/step\n",
      "\u001b[1m1/1\u001b[0m \u001b[32m━━━━━━━━━━━━━━━━━━━━\u001b[0m\u001b[37m\u001b[0m \u001b[1m0s\u001b[0m 29ms/step\n",
      "\u001b[1m1/1\u001b[0m \u001b[32m━━━━━━━━━━━━━━━━━━━━\u001b[0m\u001b[37m\u001b[0m \u001b[1m0s\u001b[0m 28ms/step\n",
      "\u001b[1m1/1\u001b[0m \u001b[32m━━━━━━━━━━━━━━━━━━━━\u001b[0m\u001b[37m\u001b[0m \u001b[1m0s\u001b[0m 29ms/step\n",
      "\u001b[1m1/1\u001b[0m \u001b[32m━━━━━━━━━━━━━━━━━━━━\u001b[0m\u001b[37m\u001b[0m \u001b[1m0s\u001b[0m 30ms/step\n",
      "\u001b[1m1/1\u001b[0m \u001b[32m━━━━━━━━━━━━━━━━━━━━\u001b[0m\u001b[37m\u001b[0m \u001b[1m0s\u001b[0m 29ms/step\n",
      "\u001b[1m1/1\u001b[0m \u001b[32m━━━━━━━━━━━━━━━━━━━━\u001b[0m\u001b[37m\u001b[0m \u001b[1m0s\u001b[0m 30ms/step\n",
      "\u001b[1m1/1\u001b[0m \u001b[32m━━━━━━━━━━━━━━━━━━━━\u001b[0m\u001b[37m\u001b[0m \u001b[1m0s\u001b[0m 33ms/step\n",
      "\u001b[1m1/1\u001b[0m \u001b[32m━━━━━━━━━━━━━━━━━━━━\u001b[0m\u001b[37m\u001b[0m \u001b[1m0s\u001b[0m 30ms/step\n",
      "\u001b[1m1/1\u001b[0m \u001b[32m━━━━━━━━━━━━━━━━━━━━\u001b[0m\u001b[37m\u001b[0m \u001b[1m0s\u001b[0m 30ms/step\n",
      "\u001b[1m1/1\u001b[0m \u001b[32m━━━━━━━━━━━━━━━━━━━━\u001b[0m\u001b[37m\u001b[0m \u001b[1m0s\u001b[0m 31ms/step\n",
      "\u001b[1m1/1\u001b[0m \u001b[32m━━━━━━━━━━━━━━━━━━━━\u001b[0m\u001b[37m\u001b[0m \u001b[1m0s\u001b[0m 30ms/step\n",
      "\u001b[1m1/1\u001b[0m \u001b[32m━━━━━━━━━━━━━━━━━━━━\u001b[0m\u001b[37m\u001b[0m \u001b[1m0s\u001b[0m 29ms/step\n",
      "\u001b[1m1/1\u001b[0m \u001b[32m━━━━━━━━━━━━━━━━━━━━\u001b[0m\u001b[37m\u001b[0m \u001b[1m0s\u001b[0m 30ms/step\n",
      "\u001b[1m1/1\u001b[0m \u001b[32m━━━━━━━━━━━━━━━━━━━━\u001b[0m\u001b[37m\u001b[0m \u001b[1m0s\u001b[0m 26ms/step\n",
      "\u001b[1m1/1\u001b[0m \u001b[32m━━━━━━━━━━━━━━━━━━━━\u001b[0m\u001b[37m\u001b[0m \u001b[1m0s\u001b[0m 29ms/step\n",
      "\u001b[1m1/1\u001b[0m \u001b[32m━━━━━━━━━━━━━━━━━━━━\u001b[0m\u001b[37m\u001b[0m \u001b[1m0s\u001b[0m 33ms/step\n",
      "\u001b[1m1/1\u001b[0m \u001b[32m━━━━━━━━━━━━━━━━━━━━\u001b[0m\u001b[37m\u001b[0m \u001b[1m0s\u001b[0m 31ms/step\n",
      "\u001b[1m1/1\u001b[0m \u001b[32m━━━━━━━━━━━━━━━━━━━━\u001b[0m\u001b[37m\u001b[0m \u001b[1m0s\u001b[0m 29ms/step\n",
      "\u001b[1m1/1\u001b[0m \u001b[32m━━━━━━━━━━━━━━━━━━━━\u001b[0m\u001b[37m\u001b[0m \u001b[1m0s\u001b[0m 30ms/step\n",
      "\u001b[1m1/1\u001b[0m \u001b[32m━━━━━━━━━━━━━━━━━━━━\u001b[0m\u001b[37m\u001b[0m \u001b[1m0s\u001b[0m 32ms/step\n",
      "\u001b[1m1/1\u001b[0m \u001b[32m━━━━━━━━━━━━━━━━━━━━\u001b[0m\u001b[37m\u001b[0m \u001b[1m0s\u001b[0m 28ms/step\n",
      "\u001b[1m1/1\u001b[0m \u001b[32m━━━━━━━━━━━━━━━━━━━━\u001b[0m\u001b[37m\u001b[0m \u001b[1m0s\u001b[0m 28ms/step\n",
      "\u001b[1m1/1\u001b[0m \u001b[32m━━━━━━━━━━━━━━━━━━━━\u001b[0m\u001b[37m\u001b[0m \u001b[1m0s\u001b[0m 33ms/step\n",
      "\u001b[1m1/1\u001b[0m \u001b[32m━━━━━━━━━━━━━━━━━━━━\u001b[0m\u001b[37m\u001b[0m \u001b[1m0s\u001b[0m 29ms/step\n",
      "\u001b[1m1/1\u001b[0m \u001b[32m━━━━━━━━━━━━━━━━━━━━\u001b[0m\u001b[37m\u001b[0m \u001b[1m0s\u001b[0m 34ms/step\n",
      "\u001b[1m1/1\u001b[0m \u001b[32m━━━━━━━━━━━━━━━━━━━━\u001b[0m\u001b[37m\u001b[0m \u001b[1m0s\u001b[0m 34ms/step\n",
      "\u001b[1m1/1\u001b[0m \u001b[32m━━━━━━━━━━━━━━━━━━━━\u001b[0m\u001b[37m\u001b[0m \u001b[1m0s\u001b[0m 31ms/step\n",
      "\u001b[1m1/1\u001b[0m \u001b[32m━━━━━━━━━━━━━━━━━━━━\u001b[0m\u001b[37m\u001b[0m \u001b[1m0s\u001b[0m 28ms/step\n",
      "\u001b[1m1/1\u001b[0m \u001b[32m━━━━━━━━━━━━━━━━━━━━\u001b[0m\u001b[37m\u001b[0m \u001b[1m0s\u001b[0m 28ms/step\n",
      "\u001b[1m1/1\u001b[0m \u001b[32m━━━━━━━━━━━━━━━━━━━━\u001b[0m\u001b[37m\u001b[0m \u001b[1m0s\u001b[0m 29ms/step\n",
      "\u001b[1m1/1\u001b[0m \u001b[32m━━━━━━━━━━━━━━━━━━━━\u001b[0m\u001b[37m\u001b[0m \u001b[1m0s\u001b[0m 28ms/step\n",
      "\u001b[1m1/1\u001b[0m \u001b[32m━━━━━━━━━━━━━━━━━━━━\u001b[0m\u001b[37m\u001b[0m \u001b[1m0s\u001b[0m 29ms/step\n",
      "\u001b[1m1/1\u001b[0m \u001b[32m━━━━━━━━━━━━━━━━━━━━\u001b[0m\u001b[37m\u001b[0m \u001b[1m0s\u001b[0m 29ms/step\n",
      "\u001b[1m1/1\u001b[0m \u001b[32m━━━━━━━━━━━━━━━━━━━━\u001b[0m\u001b[37m\u001b[0m \u001b[1m0s\u001b[0m 30ms/step\n",
      "\u001b[1m1/1\u001b[0m \u001b[32m━━━━━━━━━━━━━━━━━━━━\u001b[0m\u001b[37m\u001b[0m \u001b[1m0s\u001b[0m 32ms/step\n",
      "\u001b[1m1/1\u001b[0m \u001b[32m━━━━━━━━━━━━━━━━━━━━\u001b[0m\u001b[37m\u001b[0m \u001b[1m0s\u001b[0m 30ms/step\n",
      "\u001b[1m1/1\u001b[0m \u001b[32m━━━━━━━━━━━━━━━━━━━━\u001b[0m\u001b[37m\u001b[0m \u001b[1m0s\u001b[0m 38ms/step\n",
      "\u001b[1m1/1\u001b[0m \u001b[32m━━━━━━━━━━━━━━━━━━━━\u001b[0m\u001b[37m\u001b[0m \u001b[1m0s\u001b[0m 29ms/step\n",
      "\u001b[1m1/1\u001b[0m \u001b[32m━━━━━━━━━━━━━━━━━━━━\u001b[0m\u001b[37m\u001b[0m \u001b[1m0s\u001b[0m 30ms/step\n",
      "\u001b[1m1/1\u001b[0m \u001b[32m━━━━━━━━━━━━━━━━━━━━\u001b[0m\u001b[37m\u001b[0m \u001b[1m0s\u001b[0m 32ms/step\n",
      "\u001b[1m1/1\u001b[0m \u001b[32m━━━━━━━━━━━━━━━━━━━━\u001b[0m\u001b[37m\u001b[0m \u001b[1m0s\u001b[0m 35ms/step\n",
      "\u001b[1m1/1\u001b[0m \u001b[32m━━━━━━━━━━━━━━━━━━━━\u001b[0m\u001b[37m\u001b[0m \u001b[1m0s\u001b[0m 29ms/step\n",
      "\u001b[1m1/1\u001b[0m \u001b[32m━━━━━━━━━━━━━━━━━━━━\u001b[0m\u001b[37m\u001b[0m \u001b[1m0s\u001b[0m 41ms/step\n",
      "\u001b[1m1/1\u001b[0m \u001b[32m━━━━━━━━━━━━━━━━━━━━\u001b[0m\u001b[37m\u001b[0m \u001b[1m0s\u001b[0m 32ms/step\n",
      "\u001b[1m1/1\u001b[0m \u001b[32m━━━━━━━━━━━━━━━━━━━━\u001b[0m\u001b[37m\u001b[0m \u001b[1m0s\u001b[0m 43ms/step\n",
      "\u001b[1m1/1\u001b[0m \u001b[32m━━━━━━━━━━━━━━━━━━━━\u001b[0m\u001b[37m\u001b[0m \u001b[1m0s\u001b[0m 31ms/step\n",
      "\u001b[1m1/1\u001b[0m \u001b[32m━━━━━━━━━━━━━━━━━━━━\u001b[0m\u001b[37m\u001b[0m \u001b[1m0s\u001b[0m 33ms/step\n",
      "\u001b[1m1/1\u001b[0m \u001b[32m━━━━━━━━━━━━━━━━━━━━\u001b[0m\u001b[37m\u001b[0m \u001b[1m0s\u001b[0m 32ms/step\n",
      "\u001b[1m1/1\u001b[0m \u001b[32m━━━━━━━━━━━━━━━━━━━━\u001b[0m\u001b[37m\u001b[0m \u001b[1m0s\u001b[0m 34ms/step\n",
      "\u001b[1m1/1\u001b[0m \u001b[32m━━━━━━━━━━━━━━━━━━━━\u001b[0m\u001b[37m\u001b[0m \u001b[1m0s\u001b[0m 31ms/step\n",
      "\u001b[1m1/1\u001b[0m \u001b[32m━━━━━━━━━━━━━━━━━━━━\u001b[0m\u001b[37m\u001b[0m \u001b[1m0s\u001b[0m 31ms/step\n",
      "\u001b[1m1/1\u001b[0m \u001b[32m━━━━━━━━━━━━━━━━━━━━\u001b[0m\u001b[37m\u001b[0m \u001b[1m0s\u001b[0m 31ms/step\n",
      "\u001b[1m1/1\u001b[0m \u001b[32m━━━━━━━━━━━━━━━━━━━━\u001b[0m\u001b[37m\u001b[0m \u001b[1m0s\u001b[0m 32ms/step\n",
      "\u001b[1m1/1\u001b[0m \u001b[32m━━━━━━━━━━━━━━━━━━━━\u001b[0m\u001b[37m\u001b[0m \u001b[1m0s\u001b[0m 57ms/step\n",
      "\u001b[1m1/1\u001b[0m \u001b[32m━━━━━━━━━━━━━━━━━━━━\u001b[0m\u001b[37m\u001b[0m \u001b[1m0s\u001b[0m 30ms/step\n",
      "\u001b[1m1/1\u001b[0m \u001b[32m━━━━━━━━━━━━━━━━━━━━\u001b[0m\u001b[37m\u001b[0m \u001b[1m0s\u001b[0m 30ms/step\n",
      "\u001b[1m1/1\u001b[0m \u001b[32m━━━━━━━━━━━━━━━━━━━━\u001b[0m\u001b[37m\u001b[0m \u001b[1m0s\u001b[0m 33ms/step\n",
      "\u001b[1m1/1\u001b[0m \u001b[32m━━━━━━━━━━━━━━━━━━━━\u001b[0m\u001b[37m\u001b[0m \u001b[1m0s\u001b[0m 31ms/step\n",
      "\u001b[1m1/1\u001b[0m \u001b[32m━━━━━━━━━━━━━━━━━━━━\u001b[0m\u001b[37m\u001b[0m \u001b[1m0s\u001b[0m 29ms/step\n",
      "\u001b[1m1/1\u001b[0m \u001b[32m━━━━━━━━━━━━━━━━━━━━\u001b[0m\u001b[37m\u001b[0m \u001b[1m0s\u001b[0m 32ms/step\n",
      "\u001b[1m1/1\u001b[0m \u001b[32m━━━━━━━━━━━━━━━━━━━━\u001b[0m\u001b[37m\u001b[0m \u001b[1m0s\u001b[0m 33ms/step\n",
      "\u001b[1m1/1\u001b[0m \u001b[32m━━━━━━━━━━━━━━━━━━━━\u001b[0m\u001b[37m\u001b[0m \u001b[1m0s\u001b[0m 32ms/step\n",
      "\u001b[1m1/1\u001b[0m \u001b[32m━━━━━━━━━━━━━━━━━━━━\u001b[0m\u001b[37m\u001b[0m \u001b[1m0s\u001b[0m 38ms/step\n",
      "\u001b[1m1/1\u001b[0m \u001b[32m━━━━━━━━━━━━━━━━━━━━\u001b[0m\u001b[37m\u001b[0m \u001b[1m0s\u001b[0m 31ms/step\n",
      "\u001b[1m1/1\u001b[0m \u001b[32m━━━━━━━━━━━━━━━━━━━━\u001b[0m\u001b[37m\u001b[0m \u001b[1m0s\u001b[0m 28ms/step\n",
      "\u001b[1m1/1\u001b[0m \u001b[32m━━━━━━━━━━━━━━━━━━━━\u001b[0m\u001b[37m\u001b[0m \u001b[1m0s\u001b[0m 30ms/step\n",
      "\u001b[1m1/1\u001b[0m \u001b[32m━━━━━━━━━━━━━━━━━━━━\u001b[0m\u001b[37m\u001b[0m \u001b[1m0s\u001b[0m 34ms/step\n",
      "\u001b[1m1/1\u001b[0m \u001b[32m━━━━━━━━━━━━━━━━━━━━\u001b[0m\u001b[37m\u001b[0m \u001b[1m0s\u001b[0m 32ms/step\n",
      "\u001b[1m1/1\u001b[0m \u001b[32m━━━━━━━━━━━━━━━━━━━━\u001b[0m\u001b[37m\u001b[0m \u001b[1m0s\u001b[0m 27ms/step\n",
      "\u001b[1m1/1\u001b[0m \u001b[32m━━━━━━━━━━━━━━━━━━━━\u001b[0m\u001b[37m\u001b[0m \u001b[1m0s\u001b[0m 34ms/step\n",
      "\u001b[1m1/1\u001b[0m \u001b[32m━━━━━━━━━━━━━━━━━━━━\u001b[0m\u001b[37m\u001b[0m \u001b[1m0s\u001b[0m 32ms/step\n",
      "\u001b[1m1/1\u001b[0m \u001b[32m━━━━━━━━━━━━━━━━━━━━\u001b[0m\u001b[37m\u001b[0m \u001b[1m0s\u001b[0m 31ms/step\n",
      "\u001b[1m1/1\u001b[0m \u001b[32m━━━━━━━━━━━━━━━━━━━━\u001b[0m\u001b[37m\u001b[0m \u001b[1m0s\u001b[0m 29ms/step\n",
      "\u001b[1m1/1\u001b[0m \u001b[32m━━━━━━━━━━━━━━━━━━━━\u001b[0m\u001b[37m\u001b[0m \u001b[1m0s\u001b[0m 29ms/step\n",
      "\u001b[1m1/1\u001b[0m \u001b[32m━━━━━━━━━━━━━━━━━━━━\u001b[0m\u001b[37m\u001b[0m \u001b[1m0s\u001b[0m 30ms/step\n",
      "\u001b[1m1/1\u001b[0m \u001b[32m━━━━━━━━━━━━━━━━━━━━\u001b[0m\u001b[37m\u001b[0m \u001b[1m0s\u001b[0m 29ms/step\n",
      "\u001b[1m1/1\u001b[0m \u001b[32m━━━━━━━━━━━━━━━━━━━━\u001b[0m\u001b[37m\u001b[0m \u001b[1m0s\u001b[0m 31ms/step\n",
      "\u001b[1m1/1\u001b[0m \u001b[32m━━━━━━━━━━━━━━━━━━━━\u001b[0m\u001b[37m\u001b[0m \u001b[1m0s\u001b[0m 29ms/step\n",
      "\u001b[1m1/1\u001b[0m \u001b[32m━━━━━━━━━━━━━━━━━━━━\u001b[0m\u001b[37m\u001b[0m \u001b[1m0s\u001b[0m 31ms/step\n",
      "\u001b[1m1/1\u001b[0m \u001b[32m━━━━━━━━━━━━━━━━━━━━\u001b[0m\u001b[37m\u001b[0m \u001b[1m0s\u001b[0m 47ms/step\n",
      "\u001b[1m1/1\u001b[0m \u001b[32m━━━━━━━━━━━━━━━━━━━━\u001b[0m\u001b[37m\u001b[0m \u001b[1m0s\u001b[0m 31ms/step\n",
      "\u001b[1m1/1\u001b[0m \u001b[32m━━━━━━━━━━━━━━━━━━━━\u001b[0m\u001b[37m\u001b[0m \u001b[1m0s\u001b[0m 30ms/step\n",
      "\u001b[1m1/1\u001b[0m \u001b[32m━━━━━━━━━━━━━━━━━━━━\u001b[0m\u001b[37m\u001b[0m \u001b[1m0s\u001b[0m 30ms/step\n",
      "\u001b[1m1/1\u001b[0m \u001b[32m━━━━━━━━━━━━━━━━━━━━\u001b[0m\u001b[37m\u001b[0m \u001b[1m0s\u001b[0m 32ms/step\n",
      "\u001b[1m1/1\u001b[0m \u001b[32m━━━━━━━━━━━━━━━━━━━━\u001b[0m\u001b[37m\u001b[0m \u001b[1m0s\u001b[0m 31ms/step\n",
      "\u001b[1m1/1\u001b[0m \u001b[32m━━━━━━━━━━━━━━━━━━━━\u001b[0m\u001b[37m\u001b[0m \u001b[1m0s\u001b[0m 32ms/step\n",
      "\u001b[1m1/1\u001b[0m \u001b[32m━━━━━━━━━━━━━━━━━━━━\u001b[0m\u001b[37m\u001b[0m \u001b[1m0s\u001b[0m 32ms/step\n",
      "\u001b[1m1/1\u001b[0m \u001b[32m━━━━━━━━━━━━━━━━━━━━\u001b[0m\u001b[37m\u001b[0m \u001b[1m0s\u001b[0m 28ms/step\n",
      "\u001b[1m1/1\u001b[0m \u001b[32m━━━━━━━━━━━━━━━━━━━━\u001b[0m\u001b[37m\u001b[0m \u001b[1m0s\u001b[0m 31ms/step\n",
      "\u001b[1m1/1\u001b[0m \u001b[32m━━━━━━━━━━━━━━━━━━━━\u001b[0m\u001b[37m\u001b[0m \u001b[1m0s\u001b[0m 29ms/step\n",
      "\u001b[1m1/1\u001b[0m \u001b[32m━━━━━━━━━━━━━━━━━━━━\u001b[0m\u001b[37m\u001b[0m \u001b[1m0s\u001b[0m 28ms/step\n",
      "\u001b[1m1/1\u001b[0m \u001b[32m━━━━━━━━━━━━━━━━━━━━\u001b[0m\u001b[37m\u001b[0m \u001b[1m0s\u001b[0m 27ms/step\n",
      "\u001b[1m1/1\u001b[0m \u001b[32m━━━━━━━━━━━━━━━━━━━━\u001b[0m\u001b[37m\u001b[0m \u001b[1m0s\u001b[0m 28ms/step\n",
      "\u001b[1m1/1\u001b[0m \u001b[32m━━━━━━━━━━━━━━━━━━━━\u001b[0m\u001b[37m\u001b[0m \u001b[1m0s\u001b[0m 41ms/step\n",
      "\u001b[1m1/1\u001b[0m \u001b[32m━━━━━━━━━━━━━━━━━━━━\u001b[0m\u001b[37m\u001b[0m \u001b[1m0s\u001b[0m 37ms/step\n",
      "\u001b[1m1/1\u001b[0m \u001b[32m━━━━━━━━━━━━━━━━━━━━\u001b[0m\u001b[37m\u001b[0m \u001b[1m0s\u001b[0m 33ms/step\n",
      "\u001b[1m1/1\u001b[0m \u001b[32m━━━━━━━━━━━━━━━━━━━━\u001b[0m\u001b[37m\u001b[0m \u001b[1m0s\u001b[0m 40ms/step\n",
      "\u001b[1m1/1\u001b[0m \u001b[32m━━━━━━━━━━━━━━━━━━━━\u001b[0m\u001b[37m\u001b[0m \u001b[1m0s\u001b[0m 37ms/step\n",
      "\u001b[1m1/1\u001b[0m \u001b[32m━━━━━━━━━━━━━━━━━━━━\u001b[0m\u001b[37m\u001b[0m \u001b[1m0s\u001b[0m 40ms/step\n",
      "\u001b[1m1/1\u001b[0m \u001b[32m━━━━━━━━━━━━━━━━━━━━\u001b[0m\u001b[37m\u001b[0m \u001b[1m0s\u001b[0m 33ms/step\n",
      "\u001b[1m1/1\u001b[0m \u001b[32m━━━━━━━━━━━━━━━━━━━━\u001b[0m\u001b[37m\u001b[0m \u001b[1m0s\u001b[0m 34ms/step\n",
      "\u001b[1m1/1\u001b[0m \u001b[32m━━━━━━━━━━━━━━━━━━━━\u001b[0m\u001b[37m\u001b[0m \u001b[1m0s\u001b[0m 38ms/step\n",
      "\u001b[1m1/1\u001b[0m \u001b[32m━━━━━━━━━━━━━━━━━━━━\u001b[0m\u001b[37m\u001b[0m \u001b[1m0s\u001b[0m 34ms/step\n",
      "\u001b[1m1/1\u001b[0m \u001b[32m━━━━━━━━━━━━━━━━━━━━\u001b[0m\u001b[37m\u001b[0m \u001b[1m0s\u001b[0m 37ms/step\n",
      "\u001b[1m1/1\u001b[0m \u001b[32m━━━━━━━━━━━━━━━━━━━━\u001b[0m\u001b[37m\u001b[0m \u001b[1m0s\u001b[0m 29ms/step\n",
      "\u001b[1m1/1\u001b[0m \u001b[32m━━━━━━━━━━━━━━━━━━━━\u001b[0m\u001b[37m\u001b[0m \u001b[1m0s\u001b[0m 50ms/step\n",
      "\u001b[1m1/1\u001b[0m \u001b[32m━━━━━━━━━━━━━━━━━━━━\u001b[0m\u001b[37m\u001b[0m \u001b[1m0s\u001b[0m 35ms/step\n",
      "\u001b[1m1/1\u001b[0m \u001b[32m━━━━━━━━━━━━━━━━━━━━\u001b[0m\u001b[37m\u001b[0m \u001b[1m0s\u001b[0m 29ms/step\n",
      "\u001b[1m1/1\u001b[0m \u001b[32m━━━━━━━━━━━━━━━━━━━━\u001b[0m\u001b[37m\u001b[0m \u001b[1m0s\u001b[0m 29ms/step\n",
      "\u001b[1m1/1\u001b[0m \u001b[32m━━━━━━━━━━━━━━━━━━━━\u001b[0m\u001b[37m\u001b[0m \u001b[1m0s\u001b[0m 30ms/step\n",
      "\u001b[1m1/1\u001b[0m \u001b[32m━━━━━━━━━━━━━━━━━━━━\u001b[0m\u001b[37m\u001b[0m \u001b[1m0s\u001b[0m 35ms/step\n",
      "\u001b[1m1/1\u001b[0m \u001b[32m━━━━━━━━━━━━━━━━━━━━\u001b[0m\u001b[37m\u001b[0m \u001b[1m0s\u001b[0m 35ms/step\n",
      "\u001b[1m1/1\u001b[0m \u001b[32m━━━━━━━━━━━━━━━━━━━━\u001b[0m\u001b[37m\u001b[0m \u001b[1m0s\u001b[0m 33ms/step\n",
      "\u001b[1m1/1\u001b[0m \u001b[32m━━━━━━━━━━━━━━━━━━━━\u001b[0m\u001b[37m\u001b[0m \u001b[1m0s\u001b[0m 44ms/step\n",
      "\u001b[1m1/1\u001b[0m \u001b[32m━━━━━━━━━━━━━━━━━━━━\u001b[0m\u001b[37m\u001b[0m \u001b[1m0s\u001b[0m 53ms/step\n",
      "\u001b[1m1/1\u001b[0m \u001b[32m━━━━━━━━━━━━━━━━━━━━\u001b[0m\u001b[37m\u001b[0m \u001b[1m0s\u001b[0m 27ms/step\n",
      "\u001b[1m1/1\u001b[0m \u001b[32m━━━━━━━━━━━━━━━━━━━━\u001b[0m\u001b[37m\u001b[0m \u001b[1m0s\u001b[0m 28ms/step\n",
      "\u001b[1m1/1\u001b[0m \u001b[32m━━━━━━━━━━━━━━━━━━━━\u001b[0m\u001b[37m\u001b[0m \u001b[1m0s\u001b[0m 31ms/step\n",
      "\u001b[1m1/1\u001b[0m \u001b[32m━━━━━━━━━━━━━━━━━━━━\u001b[0m\u001b[37m\u001b[0m \u001b[1m0s\u001b[0m 29ms/step\n",
      "\u001b[1m1/1\u001b[0m \u001b[32m━━━━━━━━━━━━━━━━━━━━\u001b[0m\u001b[37m\u001b[0m \u001b[1m0s\u001b[0m 31ms/step\n",
      "\u001b[1m1/1\u001b[0m \u001b[32m━━━━━━━━━━━━━━━━━━━━\u001b[0m\u001b[37m\u001b[0m \u001b[1m0s\u001b[0m 34ms/step\n",
      "\u001b[1m1/1\u001b[0m \u001b[32m━━━━━━━━━━━━━━━━━━━━\u001b[0m\u001b[37m\u001b[0m \u001b[1m0s\u001b[0m 28ms/step\n",
      "\u001b[1m1/1\u001b[0m \u001b[32m━━━━━━━━━━━━━━━━━━━━\u001b[0m\u001b[37m\u001b[0m \u001b[1m0s\u001b[0m 32ms/step\n",
      "\u001b[1m1/1\u001b[0m \u001b[32m━━━━━━━━━━━━━━━━━━━━\u001b[0m\u001b[37m\u001b[0m \u001b[1m0s\u001b[0m 39ms/step\n",
      "\u001b[1m1/1\u001b[0m \u001b[32m━━━━━━━━━━━━━━━━━━━━\u001b[0m\u001b[37m\u001b[0m \u001b[1m0s\u001b[0m 28ms/step\n",
      "\u001b[1m1/1\u001b[0m \u001b[32m━━━━━━━━━━━━━━━━━━━━\u001b[0m\u001b[37m\u001b[0m \u001b[1m0s\u001b[0m 33ms/step\n",
      "\u001b[1m1/1\u001b[0m \u001b[32m━━━━━━━━━━━━━━━━━━━━\u001b[0m\u001b[37m\u001b[0m \u001b[1m0s\u001b[0m 28ms/step\n",
      "\u001b[1m1/1\u001b[0m \u001b[32m━━━━━━━━━━━━━━━━━━━━\u001b[0m\u001b[37m\u001b[0m \u001b[1m0s\u001b[0m 31ms/step\n",
      "\u001b[1m1/1\u001b[0m \u001b[32m━━━━━━━━━━━━━━━━━━━━\u001b[0m\u001b[37m\u001b[0m \u001b[1m0s\u001b[0m 32ms/step\n",
      "\u001b[1m1/1\u001b[0m \u001b[32m━━━━━━━━━━━━━━━━━━━━\u001b[0m\u001b[37m\u001b[0m \u001b[1m0s\u001b[0m 31ms/step\n",
      "\u001b[1m1/1\u001b[0m \u001b[32m━━━━━━━━━━━━━━━━━━━━\u001b[0m\u001b[37m\u001b[0m \u001b[1m0s\u001b[0m 35ms/step\n",
      "\u001b[1m1/1\u001b[0m \u001b[32m━━━━━━━━━━━━━━━━━━━━\u001b[0m\u001b[37m\u001b[0m \u001b[1m0s\u001b[0m 28ms/step\n",
      "\u001b[1m1/1\u001b[0m \u001b[32m━━━━━━━━━━━━━━━━━━━━\u001b[0m\u001b[37m\u001b[0m \u001b[1m0s\u001b[0m 29ms/step\n",
      "\u001b[1m1/1\u001b[0m \u001b[32m━━━━━━━━━━━━━━━━━━━━\u001b[0m\u001b[37m\u001b[0m \u001b[1m0s\u001b[0m 29ms/step\n",
      "\u001b[1m1/1\u001b[0m \u001b[32m━━━━━━━━━━━━━━━━━━━━\u001b[0m\u001b[37m\u001b[0m \u001b[1m0s\u001b[0m 29ms/step\n",
      "\u001b[1m1/1\u001b[0m \u001b[32m━━━━━━━━━━━━━━━━━━━━\u001b[0m\u001b[37m\u001b[0m \u001b[1m0s\u001b[0m 34ms/step\n",
      "\u001b[1m1/1\u001b[0m \u001b[32m━━━━━━━━━━━━━━━━━━━━\u001b[0m\u001b[37m\u001b[0m \u001b[1m0s\u001b[0m 29ms/step\n",
      "\u001b[1m1/1\u001b[0m \u001b[32m━━━━━━━━━━━━━━━━━━━━\u001b[0m\u001b[37m\u001b[0m \u001b[1m0s\u001b[0m 38ms/step\n",
      "\u001b[1m1/1\u001b[0m \u001b[32m━━━━━━━━━━━━━━━━━━━━\u001b[0m\u001b[37m\u001b[0m \u001b[1m0s\u001b[0m 37ms/step\n",
      "\u001b[1m1/1\u001b[0m \u001b[32m━━━━━━━━━━━━━━━━━━━━\u001b[0m\u001b[37m\u001b[0m \u001b[1m0s\u001b[0m 31ms/step\n",
      "\u001b[1m1/1\u001b[0m \u001b[32m━━━━━━━━━━━━━━━━━━━━\u001b[0m\u001b[37m\u001b[0m \u001b[1m0s\u001b[0m 32ms/step\n",
      "\u001b[1m1/1\u001b[0m \u001b[32m━━━━━━━━━━━━━━━━━━━━\u001b[0m\u001b[37m\u001b[0m \u001b[1m0s\u001b[0m 30ms/step\n",
      "\u001b[1m1/1\u001b[0m \u001b[32m━━━━━━━━━━━━━━━━━━━━\u001b[0m\u001b[37m\u001b[0m \u001b[1m0s\u001b[0m 30ms/step\n",
      "\u001b[1m1/1\u001b[0m \u001b[32m━━━━━━━━━━━━━━━━━━━━\u001b[0m\u001b[37m\u001b[0m \u001b[1m0s\u001b[0m 30ms/step\n",
      "\u001b[1m1/1\u001b[0m \u001b[32m━━━━━━━━━━━━━━━━━━━━\u001b[0m\u001b[37m\u001b[0m \u001b[1m0s\u001b[0m 33ms/step\n",
      "\u001b[1m1/1\u001b[0m \u001b[32m━━━━━━━━━━━━━━━━━━━━\u001b[0m\u001b[37m\u001b[0m \u001b[1m0s\u001b[0m 30ms/step\n",
      "\u001b[1m1/1\u001b[0m \u001b[32m━━━━━━━━━━━━━━━━━━━━\u001b[0m\u001b[37m\u001b[0m \u001b[1m0s\u001b[0m 33ms/step\n",
      "\u001b[1m1/1\u001b[0m \u001b[32m━━━━━━━━━━━━━━━━━━━━\u001b[0m\u001b[37m\u001b[0m \u001b[1m0s\u001b[0m 39ms/step\n",
      "\u001b[1m1/1\u001b[0m \u001b[32m━━━━━━━━━━━━━━━━━━━━\u001b[0m\u001b[37m\u001b[0m \u001b[1m0s\u001b[0m 45ms/step\n",
      "\u001b[1m1/1\u001b[0m \u001b[32m━━━━━━━━━━━━━━━━━━━━\u001b[0m\u001b[37m\u001b[0m \u001b[1m0s\u001b[0m 44ms/step\n",
      "\u001b[1m1/1\u001b[0m \u001b[32m━━━━━━━━━━━━━━━━━━━━\u001b[0m\u001b[37m\u001b[0m \u001b[1m0s\u001b[0m 31ms/step\n",
      "\u001b[1m1/1\u001b[0m \u001b[32m━━━━━━━━━━━━━━━━━━━━\u001b[0m\u001b[37m\u001b[0m \u001b[1m0s\u001b[0m 30ms/step\n",
      "\u001b[1m1/1\u001b[0m \u001b[32m━━━━━━━━━━━━━━━━━━━━\u001b[0m\u001b[37m\u001b[0m \u001b[1m0s\u001b[0m 30ms/step\n",
      "\u001b[1m1/1\u001b[0m \u001b[32m━━━━━━━━━━━━━━━━━━━━\u001b[0m\u001b[37m\u001b[0m \u001b[1m0s\u001b[0m 31ms/step\n",
      "\u001b[1m1/1\u001b[0m \u001b[32m━━━━━━━━━━━━━━━━━━━━\u001b[0m\u001b[37m\u001b[0m \u001b[1m0s\u001b[0m 30ms/step\n",
      "\u001b[1m1/1\u001b[0m \u001b[32m━━━━━━━━━━━━━━━━━━━━\u001b[0m\u001b[37m\u001b[0m \u001b[1m0s\u001b[0m 29ms/step\n",
      "\u001b[1m1/1\u001b[0m \u001b[32m━━━━━━━━━━━━━━━━━━━━\u001b[0m\u001b[37m\u001b[0m \u001b[1m0s\u001b[0m 33ms/step\n",
      "\u001b[1m1/1\u001b[0m \u001b[32m━━━━━━━━━━━━━━━━━━━━\u001b[0m\u001b[37m\u001b[0m \u001b[1m0s\u001b[0m 45ms/step\n",
      "\u001b[1m1/1\u001b[0m \u001b[32m━━━━━━━━━━━━━━━━━━━━\u001b[0m\u001b[37m\u001b[0m \u001b[1m0s\u001b[0m 30ms/step\n",
      "\u001b[1m1/1\u001b[0m \u001b[32m━━━━━━━━━━━━━━━━━━━━\u001b[0m\u001b[37m\u001b[0m \u001b[1m0s\u001b[0m 35ms/step\n",
      "\u001b[1m1/1\u001b[0m \u001b[32m━━━━━━━━━━━━━━━━━━━━\u001b[0m\u001b[37m\u001b[0m \u001b[1m0s\u001b[0m 29ms/step\n",
      "\u001b[1m1/1\u001b[0m \u001b[32m━━━━━━━━━━━━━━━━━━━━\u001b[0m\u001b[37m\u001b[0m \u001b[1m0s\u001b[0m 32ms/step\n",
      "\u001b[1m1/1\u001b[0m \u001b[32m━━━━━━━━━━━━━━━━━━━━\u001b[0m\u001b[37m\u001b[0m \u001b[1m0s\u001b[0m 36ms/step\n",
      "\u001b[1m1/1\u001b[0m \u001b[32m━━━━━━━━━━━━━━━━━━━━\u001b[0m\u001b[37m\u001b[0m \u001b[1m0s\u001b[0m 40ms/step\n",
      "\u001b[1m1/1\u001b[0m \u001b[32m━━━━━━━━━━━━━━━━━━━━\u001b[0m\u001b[37m\u001b[0m \u001b[1m0s\u001b[0m 30ms/step\n",
      "\u001b[1m1/1\u001b[0m \u001b[32m━━━━━━━━━━━━━━━━━━━━\u001b[0m\u001b[37m\u001b[0m \u001b[1m0s\u001b[0m 32ms/step\n",
      "\u001b[1m1/1\u001b[0m \u001b[32m━━━━━━━━━━━━━━━━━━━━\u001b[0m\u001b[37m\u001b[0m \u001b[1m0s\u001b[0m 36ms/step\n",
      "\u001b[1m1/1\u001b[0m \u001b[32m━━━━━━━━━━━━━━━━━━━━\u001b[0m\u001b[37m\u001b[0m \u001b[1m0s\u001b[0m 28ms/step\n",
      "\u001b[1m1/1\u001b[0m \u001b[32m━━━━━━━━━━━━━━━━━━━━\u001b[0m\u001b[37m\u001b[0m \u001b[1m0s\u001b[0m 32ms/step\n",
      "\u001b[1m1/1\u001b[0m \u001b[32m━━━━━━━━━━━━━━━━━━━━\u001b[0m\u001b[37m\u001b[0m \u001b[1m0s\u001b[0m 30ms/step\n",
      "\u001b[1m1/1\u001b[0m \u001b[32m━━━━━━━━━━━━━━━━━━━━\u001b[0m\u001b[37m\u001b[0m \u001b[1m0s\u001b[0m 33ms/step\n",
      "\u001b[1m1/1\u001b[0m \u001b[32m━━━━━━━━━━━━━━━━━━━━\u001b[0m\u001b[37m\u001b[0m \u001b[1m0s\u001b[0m 29ms/step\n",
      "\u001b[1m1/1\u001b[0m \u001b[32m━━━━━━━━━━━━━━━━━━━━\u001b[0m\u001b[37m\u001b[0m \u001b[1m0s\u001b[0m 31ms/step\n",
      "\u001b[1m1/1\u001b[0m \u001b[32m━━━━━━━━━━━━━━━━━━━━\u001b[0m\u001b[37m\u001b[0m \u001b[1m0s\u001b[0m 40ms/step\n",
      "\u001b[1m1/1\u001b[0m \u001b[32m━━━━━━━━━━━━━━━━━━━━\u001b[0m\u001b[37m\u001b[0m \u001b[1m0s\u001b[0m 31ms/step\n",
      "\u001b[1m1/1\u001b[0m \u001b[32m━━━━━━━━━━━━━━━━━━━━\u001b[0m\u001b[37m\u001b[0m \u001b[1m0s\u001b[0m 32ms/step\n",
      "\u001b[1m1/1\u001b[0m \u001b[32m━━━━━━━━━━━━━━━━━━━━\u001b[0m\u001b[37m\u001b[0m \u001b[1m0s\u001b[0m 33ms/step\n",
      "\u001b[1m1/1\u001b[0m \u001b[32m━━━━━━━━━━━━━━━━━━━━\u001b[0m\u001b[37m\u001b[0m \u001b[1m0s\u001b[0m 38ms/step\n",
      "\u001b[1m1/1\u001b[0m \u001b[32m━━━━━━━━━━━━━━━━━━━━\u001b[0m\u001b[37m\u001b[0m \u001b[1m0s\u001b[0m 28ms/step\n",
      "\u001b[1m1/1\u001b[0m \u001b[32m━━━━━━━━━━━━━━━━━━━━\u001b[0m\u001b[37m\u001b[0m \u001b[1m0s\u001b[0m 33ms/step\n",
      "\u001b[1m1/1\u001b[0m \u001b[32m━━━━━━━━━━━━━━━━━━━━\u001b[0m\u001b[37m\u001b[0m \u001b[1m0s\u001b[0m 36ms/step\n",
      "\u001b[1m1/1\u001b[0m \u001b[32m━━━━━━━━━━━━━━━━━━━━\u001b[0m\u001b[37m\u001b[0m \u001b[1m0s\u001b[0m 32ms/step\n",
      "\u001b[1m1/1\u001b[0m \u001b[32m━━━━━━━━━━━━━━━━━━━━\u001b[0m\u001b[37m\u001b[0m \u001b[1m0s\u001b[0m 32ms/step\n",
      "\u001b[1m1/1\u001b[0m \u001b[32m━━━━━━━━━━━━━━━━━━━━\u001b[0m\u001b[37m\u001b[0m \u001b[1m0s\u001b[0m 36ms/step\n",
      "\u001b[1m1/1\u001b[0m \u001b[32m━━━━━━━━━━━━━━━━━━━━\u001b[0m\u001b[37m\u001b[0m \u001b[1m0s\u001b[0m 30ms/step\n",
      "\u001b[1m1/1\u001b[0m \u001b[32m━━━━━━━━━━━━━━━━━━━━\u001b[0m\u001b[37m\u001b[0m \u001b[1m0s\u001b[0m 34ms/step\n",
      "\u001b[1m1/1\u001b[0m \u001b[32m━━━━━━━━━━━━━━━━━━━━\u001b[0m\u001b[37m\u001b[0m \u001b[1m0s\u001b[0m 32ms/step\n",
      "\u001b[1m1/1\u001b[0m \u001b[32m━━━━━━━━━━━━━━━━━━━━\u001b[0m\u001b[37m\u001b[0m \u001b[1m0s\u001b[0m 32ms/step\n",
      "\u001b[1m1/1\u001b[0m \u001b[32m━━━━━━━━━━━━━━━━━━━━\u001b[0m\u001b[37m\u001b[0m \u001b[1m0s\u001b[0m 32ms/step\n",
      "\u001b[1m1/1\u001b[0m \u001b[32m━━━━━━━━━━━━━━━━━━━━\u001b[0m\u001b[37m\u001b[0m \u001b[1m0s\u001b[0m 42ms/step\n",
      "\u001b[1m1/1\u001b[0m \u001b[32m━━━━━━━━━━━━━━━━━━━━\u001b[0m\u001b[37m\u001b[0m \u001b[1m0s\u001b[0m 30ms/step\n",
      "\u001b[1m1/1\u001b[0m \u001b[32m━━━━━━━━━━━━━━━━━━━━\u001b[0m\u001b[37m\u001b[0m \u001b[1m0s\u001b[0m 33ms/step\n",
      "\u001b[1m1/1\u001b[0m \u001b[32m━━━━━━━━━━━━━━━━━━━━\u001b[0m\u001b[37m\u001b[0m \u001b[1m0s\u001b[0m 37ms/step\n",
      "\u001b[1m1/1\u001b[0m \u001b[32m━━━━━━━━━━━━━━━━━━━━\u001b[0m\u001b[37m\u001b[0m \u001b[1m0s\u001b[0m 36ms/step\n",
      "\u001b[1m1/1\u001b[0m \u001b[32m━━━━━━━━━━━━━━━━━━━━\u001b[0m\u001b[37m\u001b[0m \u001b[1m0s\u001b[0m 38ms/step\n",
      "\u001b[1m1/1\u001b[0m \u001b[32m━━━━━━━━━━━━━━━━━━━━\u001b[0m\u001b[37m\u001b[0m \u001b[1m0s\u001b[0m 32ms/step\n",
      "\u001b[1m1/1\u001b[0m \u001b[32m━━━━━━━━━━━━━━━━━━━━\u001b[0m\u001b[37m\u001b[0m \u001b[1m0s\u001b[0m 33ms/step\n",
      "\u001b[1m1/1\u001b[0m \u001b[32m━━━━━━━━━━━━━━━━━━━━\u001b[0m\u001b[37m\u001b[0m \u001b[1m0s\u001b[0m 34ms/step\n",
      "\u001b[1m1/1\u001b[0m \u001b[32m━━━━━━━━━━━━━━━━━━━━\u001b[0m\u001b[37m\u001b[0m \u001b[1m0s\u001b[0m 29ms/step\n",
      "\u001b[1m1/1\u001b[0m \u001b[32m━━━━━━━━━━━━━━━━━━━━\u001b[0m\u001b[37m\u001b[0m \u001b[1m0s\u001b[0m 32ms/step\n",
      "\u001b[1m1/1\u001b[0m \u001b[32m━━━━━━━━━━━━━━━━━━━━\u001b[0m\u001b[37m\u001b[0m \u001b[1m0s\u001b[0m 42ms/step\n",
      "\u001b[1m1/1\u001b[0m \u001b[32m━━━━━━━━━━━━━━━━━━━━\u001b[0m\u001b[37m\u001b[0m \u001b[1m0s\u001b[0m 30ms/step\n",
      "\u001b[1m1/1\u001b[0m \u001b[32m━━━━━━━━━━━━━━━━━━━━\u001b[0m\u001b[37m\u001b[0m \u001b[1m0s\u001b[0m 30ms/step\n",
      "\u001b[1m1/1\u001b[0m \u001b[32m━━━━━━━━━━━━━━━━━━━━\u001b[0m\u001b[37m\u001b[0m \u001b[1m0s\u001b[0m 34ms/step\n",
      "\u001b[1m1/1\u001b[0m \u001b[32m━━━━━━━━━━━━━━━━━━━━\u001b[0m\u001b[37m\u001b[0m \u001b[1m0s\u001b[0m 33ms/step\n",
      "\u001b[1m1/1\u001b[0m \u001b[32m━━━━━━━━━━━━━━━━━━━━\u001b[0m\u001b[37m\u001b[0m \u001b[1m0s\u001b[0m 32ms/step\n",
      "\u001b[1m1/1\u001b[0m \u001b[32m━━━━━━━━━━━━━━━━━━━━\u001b[0m\u001b[37m\u001b[0m \u001b[1m0s\u001b[0m 39ms/step\n",
      "\u001b[1m1/1\u001b[0m \u001b[32m━━━━━━━━━━━━━━━━━━━━\u001b[0m\u001b[37m\u001b[0m \u001b[1m0s\u001b[0m 33ms/step\n",
      "\u001b[1m1/1\u001b[0m \u001b[32m━━━━━━━━━━━━━━━━━━━━\u001b[0m\u001b[37m\u001b[0m \u001b[1m0s\u001b[0m 33ms/step\n",
      "\u001b[1m1/1\u001b[0m \u001b[32m━━━━━━━━━━━━━━━━━━━━\u001b[0m\u001b[37m\u001b[0m \u001b[1m0s\u001b[0m 47ms/step\n",
      "\u001b[1m1/1\u001b[0m \u001b[32m━━━━━━━━━━━━━━━━━━━━\u001b[0m\u001b[37m\u001b[0m \u001b[1m0s\u001b[0m 32ms/step\n",
      "\u001b[1m1/1\u001b[0m \u001b[32m━━━━━━━━━━━━━━━━━━━━\u001b[0m\u001b[37m\u001b[0m \u001b[1m0s\u001b[0m 30ms/step\n",
      "\u001b[1m1/1\u001b[0m \u001b[32m━━━━━━━━━━━━━━━━━━━━\u001b[0m\u001b[37m\u001b[0m \u001b[1m0s\u001b[0m 34ms/step\n",
      "\u001b[1m1/1\u001b[0m \u001b[32m━━━━━━━━━━━━━━━━━━━━\u001b[0m\u001b[37m\u001b[0m \u001b[1m0s\u001b[0m 35ms/step\n",
      "\u001b[1m1/1\u001b[0m \u001b[32m━━━━━━━━━━━━━━━━━━━━\u001b[0m\u001b[37m\u001b[0m \u001b[1m0s\u001b[0m 30ms/step\n",
      "\u001b[1m1/1\u001b[0m \u001b[32m━━━━━━━━━━━━━━━━━━━━\u001b[0m\u001b[37m\u001b[0m \u001b[1m0s\u001b[0m 41ms/step\n",
      "\u001b[1m1/1\u001b[0m \u001b[32m━━━━━━━━━━━━━━━━━━━━\u001b[0m\u001b[37m\u001b[0m \u001b[1m0s\u001b[0m 33ms/step\n",
      "\u001b[1m1/1\u001b[0m \u001b[32m━━━━━━━━━━━━━━━━━━━━\u001b[0m\u001b[37m\u001b[0m \u001b[1m0s\u001b[0m 32ms/step\n",
      "\u001b[1m1/1\u001b[0m \u001b[32m━━━━━━━━━━━━━━━━━━━━\u001b[0m\u001b[37m\u001b[0m \u001b[1m0s\u001b[0m 45ms/step\n",
      "\u001b[1m1/1\u001b[0m \u001b[32m━━━━━━━━━━━━━━━━━━━━\u001b[0m\u001b[37m\u001b[0m \u001b[1m0s\u001b[0m 32ms/step\n",
      "\u001b[1m1/1\u001b[0m \u001b[32m━━━━━━━━━━━━━━━━━━━━\u001b[0m\u001b[37m\u001b[0m \u001b[1m0s\u001b[0m 29ms/step\n",
      "\u001b[1m1/1\u001b[0m \u001b[32m━━━━━━━━━━━━━━━━━━━━\u001b[0m\u001b[37m\u001b[0m \u001b[1m0s\u001b[0m 39ms/step\n",
      "\u001b[1m1/1\u001b[0m \u001b[32m━━━━━━━━━━━━━━━━━━━━\u001b[0m\u001b[37m\u001b[0m \u001b[1m0s\u001b[0m 47ms/step\n",
      "\u001b[1m1/1\u001b[0m \u001b[32m━━━━━━━━━━━━━━━━━━━━\u001b[0m\u001b[37m\u001b[0m \u001b[1m0s\u001b[0m 41ms/step\n",
      "\u001b[1m1/1\u001b[0m \u001b[32m━━━━━━━━━━━━━━━━━━━━\u001b[0m\u001b[37m\u001b[0m \u001b[1m0s\u001b[0m 35ms/step\n",
      "\u001b[1m1/1\u001b[0m \u001b[32m━━━━━━━━━━━━━━━━━━━━\u001b[0m\u001b[37m\u001b[0m \u001b[1m0s\u001b[0m 30ms/step\n",
      "\u001b[1m1/1\u001b[0m \u001b[32m━━━━━━━━━━━━━━━━━━━━\u001b[0m\u001b[37m\u001b[0m \u001b[1m0s\u001b[0m 32ms/step\n",
      "\u001b[1m1/1\u001b[0m \u001b[32m━━━━━━━━━━━━━━━━━━━━\u001b[0m\u001b[37m\u001b[0m \u001b[1m0s\u001b[0m 32ms/step\n",
      "\u001b[1m1/1\u001b[0m \u001b[32m━━━━━━━━━━━━━━━━━━━━\u001b[0m\u001b[37m\u001b[0m \u001b[1m0s\u001b[0m 46ms/step\n",
      "\u001b[1m1/1\u001b[0m \u001b[32m━━━━━━━━━━━━━━━━━━━━\u001b[0m\u001b[37m\u001b[0m \u001b[1m0s\u001b[0m 33ms/step\n",
      "\u001b[1m1/1\u001b[0m \u001b[32m━━━━━━━━━━━━━━━━━━━━\u001b[0m\u001b[37m\u001b[0m \u001b[1m0s\u001b[0m 35ms/step\n",
      "\u001b[1m1/1\u001b[0m \u001b[32m━━━━━━━━━━━━━━━━━━━━\u001b[0m\u001b[37m\u001b[0m \u001b[1m0s\u001b[0m 45ms/step\n",
      "\u001b[1m1/1\u001b[0m \u001b[32m━━━━━━━━━━━━━━━━━━━━\u001b[0m\u001b[37m\u001b[0m \u001b[1m0s\u001b[0m 34ms/step\n",
      "\u001b[1m1/1\u001b[0m \u001b[32m━━━━━━━━━━━━━━━━━━━━\u001b[0m\u001b[37m\u001b[0m \u001b[1m0s\u001b[0m 33ms/step\n",
      "\u001b[1m1/1\u001b[0m \u001b[32m━━━━━━━━━━━━━━━━━━━━\u001b[0m\u001b[37m\u001b[0m \u001b[1m0s\u001b[0m 42ms/step\n",
      "\u001b[1m1/1\u001b[0m \u001b[32m━━━━━━━━━━━━━━━━━━━━\u001b[0m\u001b[37m\u001b[0m \u001b[1m0s\u001b[0m 36ms/step\n",
      "\u001b[1m1/1\u001b[0m \u001b[32m━━━━━━━━━━━━━━━━━━━━\u001b[0m\u001b[37m\u001b[0m \u001b[1m0s\u001b[0m 30ms/step\n",
      "\u001b[1m1/1\u001b[0m \u001b[32m━━━━━━━━━━━━━━━━━━━━\u001b[0m\u001b[37m\u001b[0m \u001b[1m0s\u001b[0m 44ms/step\n",
      "\u001b[1m1/1\u001b[0m \u001b[32m━━━━━━━━━━━━━━━━━━━━\u001b[0m\u001b[37m\u001b[0m \u001b[1m0s\u001b[0m 30ms/step\n",
      "\u001b[1m1/1\u001b[0m \u001b[32m━━━━━━━━━━━━━━━━━━━━\u001b[0m\u001b[37m\u001b[0m \u001b[1m0s\u001b[0m 33ms/step\n",
      "\u001b[1m1/1\u001b[0m \u001b[32m━━━━━━━━━━━━━━━━━━━━\u001b[0m\u001b[37m\u001b[0m \u001b[1m0s\u001b[0m 39ms/step\n",
      "\u001b[1m1/1\u001b[0m \u001b[32m━━━━━━━━━━━━━━━━━━━━\u001b[0m\u001b[37m\u001b[0m \u001b[1m0s\u001b[0m 33ms/step\n",
      "\u001b[1m1/1\u001b[0m \u001b[32m━━━━━━━━━━━━━━━━━━━━\u001b[0m\u001b[37m\u001b[0m \u001b[1m0s\u001b[0m 31ms/step\n",
      "\u001b[1m1/1\u001b[0m \u001b[32m━━━━━━━━━━━━━━━━━━━━\u001b[0m\u001b[37m\u001b[0m \u001b[1m0s\u001b[0m 40ms/step\n",
      "\u001b[1m1/1\u001b[0m \u001b[32m━━━━━━━━━━━━━━━━━━━━\u001b[0m\u001b[37m\u001b[0m \u001b[1m0s\u001b[0m 33ms/step\n",
      "\u001b[1m1/1\u001b[0m \u001b[32m━━━━━━━━━━━━━━━━━━━━\u001b[0m\u001b[37m\u001b[0m \u001b[1m0s\u001b[0m 43ms/step\n",
      "\u001b[1m1/1\u001b[0m \u001b[32m━━━━━━━━━━━━━━━━━━━━\u001b[0m\u001b[37m\u001b[0m \u001b[1m0s\u001b[0m 32ms/step\n",
      "\u001b[1m1/1\u001b[0m \u001b[32m━━━━━━━━━━━━━━━━━━━━\u001b[0m\u001b[37m\u001b[0m \u001b[1m0s\u001b[0m 34ms/step\n",
      "\u001b[1m1/1\u001b[0m \u001b[32m━━━━━━━━━━━━━━━━━━━━\u001b[0m\u001b[37m\u001b[0m \u001b[1m0s\u001b[0m 35ms/step\n",
      "\u001b[1m1/1\u001b[0m \u001b[32m━━━━━━━━━━━━━━━━━━━━\u001b[0m\u001b[37m\u001b[0m \u001b[1m0s\u001b[0m 32ms/step\n",
      "\u001b[1m1/1\u001b[0m \u001b[32m━━━━━━━━━━━━━━━━━━━━\u001b[0m\u001b[37m\u001b[0m \u001b[1m0s\u001b[0m 29ms/step\n",
      "\u001b[1m1/1\u001b[0m \u001b[32m━━━━━━━━━━━━━━━━━━━━\u001b[0m\u001b[37m\u001b[0m \u001b[1m0s\u001b[0m 35ms/step\n",
      "\u001b[1m1/1\u001b[0m \u001b[32m━━━━━━━━━━━━━━━━━━━━\u001b[0m\u001b[37m\u001b[0m \u001b[1m0s\u001b[0m 34ms/step\n",
      "\u001b[1m1/1\u001b[0m \u001b[32m━━━━━━━━━━━━━━━━━━━━\u001b[0m\u001b[37m\u001b[0m \u001b[1m0s\u001b[0m 44ms/step\n",
      "\u001b[1m1/1\u001b[0m \u001b[32m━━━━━━━━━━━━━━━━━━━━\u001b[0m\u001b[37m\u001b[0m \u001b[1m0s\u001b[0m 36ms/step\n",
      "\u001b[1m1/1\u001b[0m \u001b[32m━━━━━━━━━━━━━━━━━━━━\u001b[0m\u001b[37m\u001b[0m \u001b[1m0s\u001b[0m 32ms/step\n",
      "\u001b[1m1/1\u001b[0m \u001b[32m━━━━━━━━━━━━━━━━━━━━\u001b[0m\u001b[37m\u001b[0m \u001b[1m0s\u001b[0m 38ms/step\n",
      "\u001b[1m1/1\u001b[0m \u001b[32m━━━━━━━━━━━━━━━━━━━━\u001b[0m\u001b[37m\u001b[0m \u001b[1m0s\u001b[0m 36ms/step\n",
      "\u001b[1m1/1\u001b[0m \u001b[32m━━━━━━━━━━━━━━━━━━━━\u001b[0m\u001b[37m\u001b[0m \u001b[1m0s\u001b[0m 43ms/step\n",
      "\u001b[1m1/1\u001b[0m \u001b[32m━━━━━━━━━━━━━━━━━━━━\u001b[0m\u001b[37m\u001b[0m \u001b[1m0s\u001b[0m 53ms/step\n",
      "\u001b[1m1/1\u001b[0m \u001b[32m━━━━━━━━━━━━━━━━━━━━\u001b[0m\u001b[37m\u001b[0m \u001b[1m0s\u001b[0m 40ms/step\n",
      "\u001b[1m1/1\u001b[0m \u001b[32m━━━━━━━━━━━━━━━━━━━━\u001b[0m\u001b[37m\u001b[0m \u001b[1m0s\u001b[0m 36ms/step\n",
      "\u001b[1m1/1\u001b[0m \u001b[32m━━━━━━━━━━━━━━━━━━━━\u001b[0m\u001b[37m\u001b[0m \u001b[1m0s\u001b[0m 46ms/step\n",
      "\u001b[1m1/1\u001b[0m \u001b[32m━━━━━━━━━━━━━━━━━━━━\u001b[0m\u001b[37m\u001b[0m \u001b[1m0s\u001b[0m 31ms/step\n",
      "\u001b[1m1/1\u001b[0m \u001b[32m━━━━━━━━━━━━━━━━━━━━\u001b[0m\u001b[37m\u001b[0m \u001b[1m0s\u001b[0m 31ms/step\n",
      "\u001b[1m1/1\u001b[0m \u001b[32m━━━━━━━━━━━━━━━━━━━━\u001b[0m\u001b[37m\u001b[0m \u001b[1m0s\u001b[0m 34ms/step\n",
      "\u001b[1m1/1\u001b[0m \u001b[32m━━━━━━━━━━━━━━━━━━━━\u001b[0m\u001b[37m\u001b[0m \u001b[1m0s\u001b[0m 31ms/step\n",
      "\u001b[1m1/1\u001b[0m \u001b[32m━━━━━━━━━━━━━━━━━━━━\u001b[0m\u001b[37m\u001b[0m \u001b[1m0s\u001b[0m 42ms/step\n",
      "\u001b[1m1/1\u001b[0m \u001b[32m━━━━━━━━━━━━━━━━━━━━\u001b[0m\u001b[37m\u001b[0m \u001b[1m0s\u001b[0m 32ms/step\n",
      "\u001b[1m1/1\u001b[0m \u001b[32m━━━━━━━━━━━━━━━━━━━━\u001b[0m\u001b[37m\u001b[0m \u001b[1m0s\u001b[0m 35ms/step\n",
      "\u001b[1m1/1\u001b[0m \u001b[32m━━━━━━━━━━━━━━━━━━━━\u001b[0m\u001b[37m\u001b[0m \u001b[1m0s\u001b[0m 36ms/step\n",
      "\u001b[1m1/1\u001b[0m \u001b[32m━━━━━━━━━━━━━━━━━━━━\u001b[0m\u001b[37m\u001b[0m \u001b[1m0s\u001b[0m 37ms/step\n",
      "\u001b[1m1/1\u001b[0m \u001b[32m━━━━━━━━━━━━━━━━━━━━\u001b[0m\u001b[37m\u001b[0m \u001b[1m0s\u001b[0m 39ms/step\n",
      "\u001b[1m1/1\u001b[0m \u001b[32m━━━━━━━━━━━━━━━━━━━━\u001b[0m\u001b[37m\u001b[0m \u001b[1m0s\u001b[0m 35ms/step\n",
      "\u001b[1m1/1\u001b[0m \u001b[32m━━━━━━━━━━━━━━━━━━━━\u001b[0m\u001b[37m\u001b[0m \u001b[1m0s\u001b[0m 32ms/step\n",
      "\u001b[1m1/1\u001b[0m \u001b[32m━━━━━━━━━━━━━━━━━━━━\u001b[0m\u001b[37m\u001b[0m \u001b[1m0s\u001b[0m 30ms/step\n",
      "\u001b[1m1/1\u001b[0m \u001b[32m━━━━━━━━━━━━━━━━━━━━\u001b[0m\u001b[37m\u001b[0m \u001b[1m0s\u001b[0m 45ms/step\n",
      "\u001b[1m1/1\u001b[0m \u001b[32m━━━━━━━━━━━━━━━━━━━━\u001b[0m\u001b[37m\u001b[0m \u001b[1m0s\u001b[0m 35ms/step\n",
      "\u001b[1m1/1\u001b[0m \u001b[32m━━━━━━━━━━━━━━━━━━━━\u001b[0m\u001b[37m\u001b[0m \u001b[1m0s\u001b[0m 32ms/step\n",
      "\u001b[1m1/1\u001b[0m \u001b[32m━━━━━━━━━━━━━━━━━━━━\u001b[0m\u001b[37m\u001b[0m \u001b[1m0s\u001b[0m 32ms/step\n",
      "\u001b[1m1/1\u001b[0m \u001b[32m━━━━━━━━━━━━━━━━━━━━\u001b[0m\u001b[37m\u001b[0m \u001b[1m0s\u001b[0m 29ms/step\n",
      "\u001b[1m1/1\u001b[0m \u001b[32m━━━━━━━━━━━━━━━━━━━━\u001b[0m\u001b[37m\u001b[0m \u001b[1m0s\u001b[0m 35ms/step\n",
      "\u001b[1m1/1\u001b[0m \u001b[32m━━━━━━━━━━━━━━━━━━━━\u001b[0m\u001b[37m\u001b[0m \u001b[1m0s\u001b[0m 43ms/step\n"
     ]
    },
    {
     "data": {
      "text/html": [
       "<div>\n",
       "<style scoped>\n",
       "    .dataframe tbody tr th:only-of-type {\n",
       "        vertical-align: middle;\n",
       "    }\n",
       "\n",
       "    .dataframe tbody tr th {\n",
       "        vertical-align: top;\n",
       "    }\n",
       "\n",
       "    .dataframe thead th {\n",
       "        text-align: right;\n",
       "    }\n",
       "</style>\n",
       "<table border=\"1\" class=\"dataframe\">\n",
       "  <thead>\n",
       "    <tr style=\"text-align: right;\">\n",
       "      <th></th>\n",
       "      <th>문장</th>\n",
       "      <th>예측 확률</th>\n",
       "      <th>예측 레이블</th>\n",
       "    </tr>\n",
       "  </thead>\n",
       "  <tbody>\n",
       "    <tr>\n",
       "      <th>0</th>\n",
       "      <td>배당금 받은걸로 조금씩 추매하고..</td>\n",
       "      <td>99.65%</td>\n",
       "      <td>1</td>\n",
       "    </tr>\n",
       "    <tr>\n",
       "      <th>1</th>\n",
       "      <td>https://m.site.naver.com/1AS4j</td>\n",
       "      <td>nan%</td>\n",
       "      <td>advertisement</td>\n",
       "    </tr>\n",
       "    <tr>\n",
       "      <th>2</th>\n",
       "      <td>망햇다</td>\n",
       "      <td>53.36%</td>\n",
       "      <td>0</td>\n",
       "    </tr>\n",
       "    <tr>\n",
       "      <th>3</th>\n",
       "      <td>민노총에게 구타당하고.\\n보수집회에는 시비거는 이상한 경찰.\\n세금을 민노총ㆍ중공에...</td>\n",
       "      <td>nan%</td>\n",
       "      <td>advertisement</td>\n",
       "    </tr>\n",
       "    <tr>\n",
       "      <th>4</th>\n",
       "      <td>아 묶였네 언제 오르나</td>\n",
       "      <td>71.71%</td>\n",
       "      <td>0</td>\n",
       "    </tr>\n",
       "    <tr>\n",
       "      <th>...</th>\n",
       "      <td>...</td>\n",
       "      <td>...</td>\n",
       "      <td>...</td>\n",
       "    </tr>\n",
       "    <tr>\n",
       "      <th>575</th>\n",
       "      <td>오이한번만 오이주이소</td>\n",
       "      <td>80.50%</td>\n",
       "      <td>1</td>\n",
       "    </tr>\n",
       "    <tr>\n",
       "      <th>576</th>\n",
       "      <td>삼전평단\\n62000\\n삼물평단170000\\n상성그룹경영진의소액주주홀대피해를당하면서...</td>\n",
       "      <td>99.32%</td>\n",
       "      <td>0</td>\n",
       "    </tr>\n",
       "    <tr>\n",
       "      <th>577</th>\n",
       "      <td>삼성 액시노스 거부한 TSMC https://kekewo.net/tsmc-%ec%8...</td>\n",
       "      <td>nan%</td>\n",
       "      <td>advertisement</td>\n",
       "    </tr>\n",
       "    <tr>\n",
       "      <th>578</th>\n",
       "      <td>곧 봄이다 내 삼전주에도 빨간 물이들길..</td>\n",
       "      <td>88.77%</td>\n",
       "      <td>0</td>\n",
       "    </tr>\n",
       "    <tr>\n",
       "      <th>579</th>\n",
       "      <td>먼저 갑니다 수고</td>\n",
       "      <td>75.63%</td>\n",
       "      <td>1</td>\n",
       "    </tr>\n",
       "  </tbody>\n",
       "</table>\n",
       "<p>580 rows × 3 columns</p>\n",
       "</div>"
      ],
      "text/plain": [
       "                                                    문장   예측 확률         예측 레이블\n",
       "0                                  배당금 받은걸로 조금씩 추매하고..  99.65%              1\n",
       "1                       https://m.site.naver.com/1AS4j    nan%  advertisement\n",
       "2                                                  망햇다  53.36%              0\n",
       "3    민노총에게 구타당하고.\\n보수집회에는 시비거는 이상한 경찰.\\n세금을 민노총ㆍ중공에...    nan%  advertisement\n",
       "4                                         아 묶였네 언제 오르나  71.71%              0\n",
       "..                                                 ...     ...            ...\n",
       "575                                        오이한번만 오이주이소  80.50%              1\n",
       "576  삼전평단\\n62000\\n삼물평단170000\\n상성그룹경영진의소액주주홀대피해를당하면서...  99.32%              0\n",
       "577  삼성 액시노스 거부한 TSMC https://kekewo.net/tsmc-%ec%8...    nan%  advertisement\n",
       "578                            곧 봄이다 내 삼전주에도 빨간 물이들길..  88.77%              0\n",
       "579                                          먼저 갑니다 수고  75.63%              1\n",
       "\n",
       "[580 rows x 3 columns]"
      ]
     },
     "metadata": {},
     "output_type": "display_data"
    },
    {
     "name": "stdout",
     "output_type": "stream",
     "text": [
      "이 종목의 긍정 점수 : 35.01% \n"
     ]
    }
   ],
   "source": [
    "# 실제 샘플테스트\n",
    "\n",
    "def sentiment_predict(new_sentence):\n",
    "  \n",
    "  # URL 패턴 확인\n",
    "  if re.search(r'http[s]?://|www\\.|\\.com|\\.net', new_sentence):\n",
    "    return None, 'advertisement'  # 광고성 내용 처리\n",
    "    \n",
    "  # 특수 문자와 공백 체크\n",
    "  if re.match(r'^[^ㄱ-ㅎㅏ-ㅣ가-힣]+$', new_sentence.strip()):\n",
    "    return None, 'empty'  # 빈 문장 처리  \n",
    "    \n",
    "  new_sentence = re.sub(r'[^ㄱ-ㅎㅏ-ㅣ가-힣 ]', '', new_sentence) # 특수 문자 제거\n",
    "  \n",
    "  if not new_sentence.strip():  # 특수 문자 제거 후 빈 문자열인지 확인\n",
    "    return None, 'empty'  # 빈 문장 처리\n",
    "  new_sentence = okt.morphs(new_sentence, stem=True)             # 토큰화\n",
    "  encoded = tokenizer.texts_to_sequences([new_sentence])         # 정수 인코딩 \n",
    "  pad_new = pad_sequences(encoded, maxlen=max_len)               # 패딩 \n",
    "  predicted_value = loaded_model.predict(pad_new)                # 예측\n",
    "  \n",
    "  score = float(predicted_value[0])\n",
    "  return score, None  \n",
    "\n",
    "# 예측 결과를 저장할 리스트\n",
    "results = []\n",
    "\n",
    "# 각 샘플 문장에 대해 예측 수행\n",
    "for idx, sentence in enumerate(df['내용'].values):\n",
    "  \n",
    "  # 예측 수행\n",
    "  score, tag = sentiment_predict(sentence)\n",
    "\n",
    "  if tag == 'advertisement':\n",
    "      results.append({\n",
    "          '문장': sentence,\n",
    "          '예측 확률': None,\n",
    "          '예측 레이블': 'advertisement'\n",
    "      })\n",
    "      continue\n",
    "  elif tag == 'empty':\n",
    "      results.append({\n",
    "          '문장': sentence,\n",
    "          '예측 확률': None,\n",
    "          '예측 레이블': 'empty'\n",
    "      })\n",
    "      continue\n",
    "\n",
    "  if score is not None:\n",
    "      score_percentage = score * 100 if score > 0.5 else (1 - score) * 100\n",
    "      results.append({\n",
    "          '문장': sentence,\n",
    "          '예측 확률': score_percentage,\n",
    "          '예측 레이블': 1 if score > 0.5 else 0,\n",
    "      })\n",
    "    \n",
    "# 결과를 데이터프레임으로 변환\n",
    "results_df = pd.DataFrame(results)\n",
    "\n",
    "# 확률을 소수점 두 자리로 포맷하여 백분율로 변환\n",
    "results_df['예측 확률'] = results_df['예측 확률']\\\n",
    "                      .apply(lambda x: \"{:.2f}%\".format(x) if x is not None else 'N/A')\n",
    "                      \n",
    "# 예측 라벨링 기반 긍정점수 계산\n",
    "# 라벨이 1인 레이블의 비율 계산\n",
    "total_count = len(results_df[results_df['예측 레이블'].isin([0, 1])])  # 0과 1 레이블의 수\n",
    "positive_count = len(results_df[results_df['예측 레이블'] == 1])  # 라벨이 1인 경우의 수\n",
    "\n",
    "if total_count > 0:\n",
    "    positive_ratio = (positive_count / total_count) * 100\n",
    "else:\n",
    "    positive_ratio = 0\n",
    "\n",
    "display(results_df)\n",
    "print(f'이 종목의 긍정 점수 : {positive_ratio:.2f}% ')\n",
    "# # 정답률 출력\n",
    "# print('부정리뷰 정답률: {:.2f}%'.format(accuracy_0))\n",
    "# print('긍정리뷰 정답률: {:.2f}%'.format(accuracy_1))"
   ]
  },
  {
   "cell_type": "code",
   "execution_count": 81,
   "metadata": {},
   "outputs": [
    {
     "name": "stdout",
     "output_type": "stream",
     "text": [
      "<class 'pandas.core.frame.DataFrame'>\n",
      "RangeIndex: 580 entries, 0 to 579\n",
      "Data columns (total 3 columns):\n",
      " #   Column  Non-Null Count  Dtype \n",
      "---  ------  --------------  ----- \n",
      " 0   문장      580 non-null    object\n",
      " 1   예측 확률   580 non-null    object\n",
      " 2   예측 레이블  580 non-null    object\n",
      "dtypes: object(3)\n",
      "memory usage: 13.7+ KB\n"
     ]
    }
   ],
   "source": [
    "results_df.info()"
   ]
  },
  {
   "cell_type": "code",
   "execution_count": 82,
   "metadata": {},
   "outputs": [
    {
     "data": {
      "text/plain": [
       "예측 레이블\n",
       "0                404\n",
       "1                167\n",
       "advertisement      9\n",
       "Name: count, dtype: int64"
      ]
     },
     "execution_count": 82,
     "metadata": {},
     "output_type": "execute_result"
    }
   ],
   "source": [
    "results_df['예측 레이블'].value_counts()"
   ]
  },
  {
   "cell_type": "code",
   "execution_count": 88,
   "metadata": {},
   "outputs": [],
   "source": [
    "results_df.to_csv('sample_test.csv',index=False, encoding='utf-8-sig')"
   ]
  }
 ],
 "metadata": {
  "kernelspec": {
   "display_name": "base",
   "language": "python",
   "name": "python3"
  },
  "language_info": {
   "codemirror_mode": {
    "name": "ipython",
    "version": 3
   },
   "file_extension": ".py",
   "mimetype": "text/x-python",
   "name": "python",
   "nbconvert_exporter": "python",
   "pygments_lexer": "ipython3",
   "version": "3.12.7"
  }
 },
 "nbformat": 4,
 "nbformat_minor": 2
}
