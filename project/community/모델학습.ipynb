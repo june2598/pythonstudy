{
 "cells": [
  {
   "cell_type": "code",
   "execution_count": 1,
   "metadata": {},
   "outputs": [],
   "source": [
    "import pandas as pd\n",
    "from konlpy.tag import Okt"
   ]
  },
  {
   "cell_type": "code",
   "execution_count": 2,
   "metadata": {},
   "outputs": [],
   "source": [
    "from sklearn.model_selection import train_test_split"
   ]
  },
  {
   "cell_type": "code",
   "execution_count": 3,
   "metadata": {},
   "outputs": [],
   "source": [
    "from sklearn.feature_extraction.text import TfidfVectorizer"
   ]
  },
  {
   "cell_type": "code",
   "execution_count": 4,
   "metadata": {},
   "outputs": [],
   "source": [
    "from tensorflow.keras.models import Sequential\n",
    "from tensorflow.keras.layers import Dense, Dropout\n",
    "from tensorflow.keras.callbacks import EarlyStopping\n",
    "from sklearn.metrics import classification_report"
   ]
  },
  {
   "cell_type": "code",
   "execution_count": 5,
   "metadata": {},
   "outputs": [],
   "source": [
    "okt = Okt()"
   ]
  },
  {
   "cell_type": "code",
   "execution_count": 2,
   "metadata": {},
   "outputs": [],
   "source": [
    "positive_dict = pd.read_csv('positive_score_dict.csv')\n",
    "positive_dict = positive_dict.drop_duplicates(subset='단어')\n",
    "positive_dict.set_index('단어', inplace=True)\n",
    "\n",
    "result2 = pd.read_csv('community_token_final.csv', low_memory=False)"
   ]
  },
  {
   "cell_type": "code",
   "execution_count": 4,
   "metadata": {},
   "outputs": [],
   "source": [
    "# 각 열에 대해 okt.morphs(stem=True) 적용 및 문자열 변환\n",
    "\n",
    "result2['형용사_어간'] = result2['내용_형용사_str'].apply(\n",
    "lambda x: ', '.join(okt.morphs(x, stem=True)) if isinstance(x, str) and x != 'NaN' else ''\n",
    ")\n",
    "\n",
    "result2['부사_어간'] = result2['내용_부사_str'].apply(\n",
    "lambda x: ', '.join(okt.morphs(x, stem=True)) if isinstance(x, str) and x != 'NaN' else ''\n",
    ")\n",
    "\n",
    "result2['동사_어간'] = result2['내용_동사_str'].apply(\n",
    "lambda x: ', '.join(okt.morphs(x, stem=True)) if isinstance(x, str) and x != 'NaN' else ''\n",
    ")"
   ]
  },
  {
   "cell_type": "code",
   "execution_count": 7,
   "metadata": {},
   "outputs": [
    {
     "data": {
      "text/html": [
       "<div>\n",
       "<style scoped>\n",
       "    .dataframe tbody tr th:only-of-type {\n",
       "        vertical-align: middle;\n",
       "    }\n",
       "\n",
       "    .dataframe tbody tr th {\n",
       "        vertical-align: top;\n",
       "    }\n",
       "\n",
       "    .dataframe thead th {\n",
       "        text-align: right;\n",
       "    }\n",
       "</style>\n",
       "<table border=\"1\" class=\"dataframe\">\n",
       "  <thead>\n",
       "    <tr style=\"text-align: right;\">\n",
       "      <th></th>\n",
       "      <th>닉네임</th>\n",
       "      <th>날짜</th>\n",
       "      <th>내용</th>\n",
       "      <th>종목</th>\n",
       "      <th>내용_명사</th>\n",
       "      <th>내용_형용사</th>\n",
       "      <th>내용_부사</th>\n",
       "      <th>내용_동사</th>\n",
       "      <th>내용_명사_str</th>\n",
       "      <th>내용_형용사_str</th>\n",
       "      <th>내용_부사_str</th>\n",
       "      <th>내용_동사_str</th>\n",
       "      <th>형용사_어간</th>\n",
       "      <th>부사_어간</th>\n",
       "      <th>동사_어간</th>\n",
       "      <th>긍정점수</th>\n",
       "    </tr>\n",
       "  </thead>\n",
       "  <tbody>\n",
       "    <tr>\n",
       "      <th>0</th>\n",
       "      <td>GROK</td>\n",
       "      <td>2025-01-11T22:59:18+09:00</td>\n",
       "      <td>- 디자인 변화: S25 울트라는 기존의 각진 디자인에서 둥근 모서리로 변경되었으며...</td>\n",
       "      <td>5930</td>\n",
       "      <td>['디자인', '변화', '울트라', '기존', '진', '디자인', '모서리', ...</td>\n",
       "      <td>['둥근', '있습니다', '동일한', '있음']</td>\n",
       "      <td>[]</td>\n",
       "      <td>['되었으며', '와', '보입니다']</td>\n",
       "      <td>디자인, 변화, 울트라, 기존, 진, 디자인, 모서리, 변경, 카메라, 모듈, 디자...</td>\n",
       "      <td>둥근, 있습니다, 동일한, 있음</td>\n",
       "      <td>NaN</td>\n",
       "      <td>되었으며, 와, 보입니다</td>\n",
       "      <td>둥글다, ,, 있다, ,, 동일하다, ,, 있다</td>\n",
       "      <td></td>\n",
       "      <td>되어다, ,, 오다, ,, 보이다</td>\n",
       "      <td>-1</td>\n",
       "    </tr>\n",
       "  </tbody>\n",
       "</table>\n",
       "</div>"
      ],
      "text/plain": [
       "    닉네임                         날짜  \\\n",
       "0  GROK  2025-01-11T22:59:18+09:00   \n",
       "\n",
       "                                                  내용    종목  \\\n",
       "0  - 디자인 변화: S25 울트라는 기존의 각진 디자인에서 둥근 모서리로 변경되었으며...  5930   \n",
       "\n",
       "                                               내용_명사  \\\n",
       "0  ['디자인', '변화', '울트라', '기존', '진', '디자인', '모서리', ...   \n",
       "\n",
       "                        내용_형용사 내용_부사                  내용_동사  \\\n",
       "0  ['둥근', '있습니다', '동일한', '있음']    []  ['되었으며', '와', '보입니다']   \n",
       "\n",
       "                                           내용_명사_str         내용_형용사_str  \\\n",
       "0  디자인, 변화, 울트라, 기존, 진, 디자인, 모서리, 변경, 카메라, 모듈, 디자...  둥근, 있습니다, 동일한, 있음   \n",
       "\n",
       "  내용_부사_str      내용_동사_str                      형용사_어간 부사_어간  \\\n",
       "0       NaN  되었으며, 와, 보입니다  둥글다, ,, 있다, ,, 동일하다, ,, 있다         \n",
       "\n",
       "                동사_어간  긍정점수  \n",
       "0  되어다, ,, 오다, ,, 보이다    -1  "
      ]
     },
     "execution_count": 7,
     "metadata": {},
     "output_type": "execute_result"
    }
   ],
   "source": [
    "result2.head(1)"
   ]
  },
  {
   "cell_type": "code",
   "execution_count": null,
   "metadata": {},
   "outputs": [],
   "source": [
    "# 행별 총 긍정 점수를 계산할 파생열 추가\n",
    "row_scores = [0] * len(result2)  # 초기화\n",
    "\n",
    "for idx in range(len(result2)):  # 데이터프레임 행 반복\n",
    "    row_score = 0  # 행별 총 점수 초기화\n",
    "\n",
    "    for column in ['내용_명사_str', '형용사_어간', '부사_어간', '동사_어간']:\n",
    "        word_list = result2.loc[idx, column]  # 각 열의 데이터 가져오기\n",
    "        print(f\"\\n행 {idx}, 열 {column} 처리 중: {word_list}\")\n",
    "        \n",
    "        if pd.isna(word_list) or word_list.strip() == \"\":  # Null 또는 빈 문자열 처리\n",
    "            print(f\"행 {idx}, 열 {column}은 결측값 또는 빈 문자열입니다. 건너뜁니다.\")\n",
    "            continue\n",
    "        \n",
    "        words = word_list.split(', ')  # 쉼표와 공백으로 구분\n",
    "        for word in words:\n",
    "            word = word.strip()  # 공백 제거\n",
    "            if word in positive_dict.index:\n",
    "                score = positive_dict.loc[word, '점수']\n",
    "                row_score += score  # 점수 합산\n",
    "                print(f\"  단어: {word}, 점수: {score}, 누적 점수: {row_score}\")\n",
    "            else:\n",
    "                print(f\"  단어: {word}는 사전에 없음\")\n",
    "\n",
    "    row_scores[idx] = row_score  # 행별 총 점수 저장\n",
    "    print(f\"행 {idx}의 총 점수: {row_score}\")\n",
    "\n",
    "# 점수 변환: 음수는 -1, 0은 0, 양수는 1\n",
    "try:\n",
    "    result2['긍정점수'] = [1 if score > 0 else 0 if score < 0 else -1 for score in row_scores]\n",
    "except Exception as e:\n",
    "    print(f\"점수 변환 중 에러 발생: {e}\")\n",
    "    print(f\"row_scores 내용: {row_scores}\")\n",
    "    print(f\"tmp 길이: {len(result2)}, row_scores 길이: {len(row_scores)}\")\n",
    "\n",
    "# 최종 점수 출력\n",
    "print(\"\\n행별 긍정점수:\")\n",
    "print(result2[['긍정점수']])"
   ]
  },
  {
   "cell_type": "code",
   "execution_count": 11,
   "metadata": {},
   "outputs": [
    {
     "data": {
      "text/plain": [
       "긍정점수\n",
       "-1    52095\n",
       " 0    15583\n",
       " 1    13394\n",
       "Name: count, dtype: int64"
      ]
     },
     "execution_count": 11,
     "metadata": {},
     "output_type": "execute_result"
    }
   ],
   "source": [
    "result2['긍정점수'].value_counts()"
   ]
  },
  {
   "cell_type": "code",
   "execution_count": 23,
   "metadata": {},
   "outputs": [
    {
     "data": {
      "text/html": [
       "<div>\n",
       "<style scoped>\n",
       "    .dataframe tbody tr th:only-of-type {\n",
       "        vertical-align: middle;\n",
       "    }\n",
       "\n",
       "    .dataframe tbody tr th {\n",
       "        vertical-align: top;\n",
       "    }\n",
       "\n",
       "    .dataframe thead th {\n",
       "        text-align: right;\n",
       "    }\n",
       "</style>\n",
       "<table border=\"1\" class=\"dataframe\">\n",
       "  <thead>\n",
       "    <tr style=\"text-align: right;\">\n",
       "      <th></th>\n",
       "      <th>닉네임</th>\n",
       "      <th>날짜</th>\n",
       "      <th>내용</th>\n",
       "      <th>종목</th>\n",
       "      <th>내용_명사</th>\n",
       "      <th>내용_형용사</th>\n",
       "      <th>내용_부사</th>\n",
       "      <th>내용_동사</th>\n",
       "      <th>내용_명사_str</th>\n",
       "      <th>내용_형용사_str</th>\n",
       "      <th>내용_부사_str</th>\n",
       "      <th>내용_동사_str</th>\n",
       "      <th>형용사_어간</th>\n",
       "      <th>부사_어간</th>\n",
       "      <th>동사_어간</th>\n",
       "      <th>긍정점수</th>\n",
       "    </tr>\n",
       "  </thead>\n",
       "  <tbody>\n",
       "    <tr>\n",
       "      <th>0</th>\n",
       "      <td>GROK</td>\n",
       "      <td>2025-01-11T22:59:18+09:00</td>\n",
       "      <td>- 디자인 변화: S25 울트라는 기존의 각진 디자인에서 둥근 모서리로 변경되었으며...</td>\n",
       "      <td>5930</td>\n",
       "      <td>['디자인', '변화', '울트라', '기존', '진', '디자인', '모서리', ...</td>\n",
       "      <td>['둥근', '있습니다', '동일한', '있음']</td>\n",
       "      <td>[]</td>\n",
       "      <td>['되었으며', '와', '보입니다']</td>\n",
       "      <td>디자인, 변화, 울트라, 기존, 진, 디자인, 모서리, 변경, 카메라, 모듈, 디자...</td>\n",
       "      <td>둥근, 있습니다, 동일한, 있음</td>\n",
       "      <td>NaN</td>\n",
       "      <td>되었으며, 와, 보입니다</td>\n",
       "      <td>둥글다, ,, 있다, ,, 동일하다, ,, 있다</td>\n",
       "      <td></td>\n",
       "      <td>되어다, ,, 오다, ,, 보이다</td>\n",
       "      <td>1</td>\n",
       "    </tr>\n",
       "  </tbody>\n",
       "</table>\n",
       "</div>"
      ],
      "text/plain": [
       "    닉네임                         날짜  \\\n",
       "0  GROK  2025-01-11T22:59:18+09:00   \n",
       "\n",
       "                                                  내용    종목  \\\n",
       "0  - 디자인 변화: S25 울트라는 기존의 각진 디자인에서 둥근 모서리로 변경되었으며...  5930   \n",
       "\n",
       "                                               내용_명사  \\\n",
       "0  ['디자인', '변화', '울트라', '기존', '진', '디자인', '모서리', ...   \n",
       "\n",
       "                        내용_형용사 내용_부사                  내용_동사  \\\n",
       "0  ['둥근', '있습니다', '동일한', '있음']    []  ['되었으며', '와', '보입니다']   \n",
       "\n",
       "                                           내용_명사_str         내용_형용사_str  \\\n",
       "0  디자인, 변화, 울트라, 기존, 진, 디자인, 모서리, 변경, 카메라, 모듈, 디자...  둥근, 있습니다, 동일한, 있음   \n",
       "\n",
       "  내용_부사_str      내용_동사_str                      형용사_어간 부사_어간  \\\n",
       "0       NaN  되었으며, 와, 보입니다  둥글다, ,, 있다, ,, 동일하다, ,, 있다         \n",
       "\n",
       "                동사_어간  긍정점수  \n",
       "0  되어다, ,, 오다, ,, 보이다     1  "
      ]
     },
     "execution_count": 23,
     "metadata": {},
     "output_type": "execute_result"
    }
   ],
   "source": [
    "result2.head(1)"
   ]
  },
  {
   "cell_type": "code",
   "execution_count": 50,
   "metadata": {},
   "outputs": [],
   "source": [
    "# 내용 토큰화 \n",
    "\n",
    "result2['토큰_어간'] = (\n",
    "    result2['내용_명사_str'] + ', ' + \n",
    "    result2['형용사_어간'] + ', ' + \n",
    "    result2['부사_어간'] + ', ' + \n",
    "    result2['동사_어간']\n",
    ")"
   ]
  },
  {
   "cell_type": "code",
   "execution_count": 52,
   "metadata": {},
   "outputs": [],
   "source": [
    "result2['토큰_어간'] = result2['토큰_어간'].str.replace(r',\\s*,+', ',', regex=True)  # 연속된 쉼표 제거"
   ]
  },
  {
   "cell_type": "code",
   "execution_count": null,
   "metadata": {},
   "outputs": [],
   "source": [
    "result2.head(5)['토큰_어간'].values"
   ]
  },
  {
   "cell_type": "code",
   "execution_count": null,
   "metadata": {},
   "outputs": [],
   "source": [
    "result2.info()"
   ]
  },
  {
   "cell_type": "code",
   "execution_count": 58,
   "metadata": {},
   "outputs": [
    {
     "name": "stdout",
     "output_type": "stream",
     "text": [
      "<class 'pandas.core.series.Series'>\n",
      "RangeIndex: 81072 entries, 0 to 81071\n",
      "Series name: 토큰_어간\n",
      "Non-Null Count  Dtype \n",
      "--------------  ----- \n",
      "71966 non-null  object\n",
      "dtypes: object(1)\n",
      "memory usage: 633.5+ KB\n"
     ]
    }
   ],
   "source": [
    "result2['토큰_어간'].info()"
   ]
  },
  {
   "cell_type": "code",
   "execution_count": 54,
   "metadata": {},
   "outputs": [
    {
     "data": {
      "text/plain": [
       "긍정점수\n",
       "-1    52095\n",
       " 0    15583\n",
       " 1    13394\n",
       "Name: count, dtype: int64"
      ]
     },
     "execution_count": 54,
     "metadata": {},
     "output_type": "execute_result"
    }
   ],
   "source": [
    "result2['긍정점수'].value_counts()"
   ]
  },
  {
   "cell_type": "code",
   "execution_count": 60,
   "metadata": {},
   "outputs": [],
   "source": [
    "# '토큰_어간'이 NaN인 행 제거\n",
    "result3 = result2.dropna(subset=['토큰_어간'])"
   ]
  },
  {
   "cell_type": "code",
   "execution_count": 61,
   "metadata": {},
   "outputs": [
    {
     "data": {
      "text/plain": [
       "긍정점수\n",
       "-1    44283\n",
       " 0    14858\n",
       " 1    12825\n",
       "Name: count, dtype: int64"
      ]
     },
     "execution_count": 61,
     "metadata": {},
     "output_type": "execute_result"
    }
   ],
   "source": [
    "result3['긍정점수'].value_counts()"
   ]
  },
  {
   "cell_type": "code",
   "execution_count": 65,
   "metadata": {},
   "outputs": [],
   "source": [
    "# 언더 샘플링\n",
    "\n",
    "sample_data_positive = result3[result3['긍정점수'] == 1].sample(12825)\n",
    "sample_data_negative = result3[result3['긍정점수'] == 0].sample(12825)\n",
    "\n",
    "total_data = pd.concat([sample_data_positive,sample_data_negative])"
   ]
  },
  {
   "cell_type": "code",
   "execution_count": 66,
   "metadata": {},
   "outputs": [],
   "source": [
    "# 학습 데이터와, 테스트 데이터를 구분\n",
    "\n",
    "train_data, test_data = train_test_split(total_data, test_size=0.25, random_state=2025)"
   ]
  },
  {
   "cell_type": "code",
   "execution_count": 67,
   "metadata": {},
   "outputs": [],
   "source": [
    "# TF-IDF 변환\n",
    "\n",
    "vectorizer = TfidfVectorizer()\n",
    "# 학습 데이터 벡터화\n",
    "\n",
    "X_train = vectorizer.fit_transform(train_data['토큰_어간'])\n",
    "y_train = train_data['긍정점수'].values\n",
    "# 테스트 데이터 벡터화\n",
    "\n",
    "X_test = vectorizer.transform(test_data['토큰_어간'])\n",
    "y_test = test_data['긍정점수'].values"
   ]
  },
  {
   "cell_type": "code",
   "execution_count": 68,
   "metadata": {},
   "outputs": [
    {
     "name": "stderr",
     "output_type": "stream",
     "text": [
      "d:\\kdt\\anaconda3\\Lib\\site-packages\\keras\\src\\layers\\core\\dense.py:87: UserWarning: Do not pass an `input_shape`/`input_dim` argument to a layer. When using Sequential models, prefer using an `Input(shape)` object as the first layer in the model instead.\n",
      "  super().__init__(activity_regularizer=activity_regularizer, **kwargs)\n"
     ]
    }
   ],
   "source": [
    "# 모델 구축\n",
    "\n",
    "model = Sequential()\n",
    "model.add(Dense(128, activation='relu', input_shape=(X_train.shape[1],)))\n",
    "model.add(Dropout(0.5))\n",
    "model.add(Dense(64, activation='relu'))  # 추가된 레이어\n",
    "model.add(Dropout(0.5))  # 드롭아웃 추가\n",
    "model.add(Dense(1, activation='sigmoid'))  # 이진 분류"
   ]
  },
  {
   "cell_type": "code",
   "execution_count": 69,
   "metadata": {},
   "outputs": [
    {
     "name": "stdout",
     "output_type": "stream",
     "text": [
      "Epoch 1/20\n",
      "\u001b[1m481/481\u001b[0m \u001b[32m━━━━━━━━━━━━━━━━━━━━\u001b[0m\u001b[37m\u001b[0m \u001b[1m5s\u001b[0m 8ms/step - accuracy: 0.7953 - loss: 0.4540 - val_accuracy: 0.9680 - val_loss: 0.0901\n",
      "Epoch 2/20\n",
      "\u001b[1m481/481\u001b[0m \u001b[32m━━━━━━━━━━━━━━━━━━━━\u001b[0m\u001b[37m\u001b[0m \u001b[1m4s\u001b[0m 8ms/step - accuracy: 0.9885 - loss: 0.0410 - val_accuracy: 0.9592 - val_loss: 0.1018\n",
      "Epoch 3/20\n",
      "\u001b[1m481/481\u001b[0m \u001b[32m━━━━━━━━━━━━━━━━━━━━\u001b[0m\u001b[37m\u001b[0m \u001b[1m4s\u001b[0m 8ms/step - accuracy: 0.9971 - loss: 0.0122 - val_accuracy: 0.9683 - val_loss: 0.0982\n",
      "Epoch 4/20\n",
      "\u001b[1m481/481\u001b[0m \u001b[32m━━━━━━━━━━━━━━━━━━━━\u001b[0m\u001b[37m\u001b[0m \u001b[1m4s\u001b[0m 8ms/step - accuracy: 0.9993 - loss: 0.0048 - val_accuracy: 0.9717 - val_loss: 0.1010\n"
     ]
    },
    {
     "data": {
      "text/plain": [
       "<keras.src.callbacks.history.History at 0x21a0977dc70>"
      ]
     },
     "execution_count": 69,
     "metadata": {},
     "output_type": "execute_result"
    }
   ],
   "source": [
    "# 모델 컴파일\n",
    "model.compile(loss='binary_crossentropy', optimizer='adam', metrics=['accuracy'])\n",
    "# 조기 종료 콜백 설정\n",
    "early_stopping = EarlyStopping(monitor='val_loss', patience=3, restore_best_weights=True)\n",
    "# 모델 학습\n",
    "model.fit(X_train, y_train, epochs=20, batch_size=32, validation_split=0.2, callbacks=[early_stopping])  # 20%를 검증 데이터로 사용"
   ]
  },
  {
   "cell_type": "code",
   "execution_count": 70,
   "metadata": {},
   "outputs": [
    {
     "name": "stdout",
     "output_type": "stream",
     "text": [
      "\u001b[1m201/201\u001b[0m \u001b[32m━━━━━━━━━━━━━━━━━━━━\u001b[0m\u001b[37m\u001b[0m \u001b[1m1s\u001b[0m 3ms/step\n"
     ]
    }
   ],
   "source": [
    "# 모델 평가\n",
    "\n",
    "y_pred = model.predict(X_test)\n",
    "y_pred_classes = [1 if p > 0.5 else 0 for p in y_pred]"
   ]
  },
  {
   "cell_type": "code",
   "execution_count": 71,
   "metadata": {},
   "outputs": [
    {
     "name": "stdout",
     "output_type": "stream",
     "text": [
      "              precision    recall  f1-score   support\n",
      "\n",
      "           0       0.97      0.96      0.97      3284\n",
      "           1       0.96      0.97      0.96      3129\n",
      "\n",
      "    accuracy                           0.97      6413\n",
      "   macro avg       0.97      0.97      0.97      6413\n",
      "weighted avg       0.97      0.97      0.97      6413\n",
      "\n"
     ]
    }
   ],
   "source": [
    "# 성능 평가\n",
    "\n",
    "# classification_report :  정밀도(precision), 재현율(recall), F1 점수(F1 score) 등의 다양한 지표를 포함\n",
    "print(classification_report(y_test, y_pred_classes))"
   ]
  },
  {
   "cell_type": "code",
   "execution_count": 72,
   "metadata": {},
   "outputs": [],
   "source": [
    "# 주식 커뮤니티 샘플 문장\n",
    "test_samples = [\n",
    "    \"이 회사의 성장 가능성이 정말 기대돼요! 앞으로 주가가 오를 것 같습니다.\",  # 긍정\n",
    "    \"이번 분기 실적이 예상보다 좋았어요. 강력한 매수 추천합니다!\",  # 긍정\n",
    "    \"이 주식은 장기 투자로 정말 좋은 선택입니다. 믿고 투자하세요!\",  # 긍정\n",
    "    \"이 회사는 실적이 계속 나빠지고 있어요. 이제는 매도해야 할 때인 것 같습니다.\",  # 부정\n",
    "    \"주가가 너무 비싸요. 조정이 올 것 같아서 걱정입니다.\"  # 부정\n",
    "]"
   ]
  },
  {
   "cell_type": "code",
   "execution_count": 73,
   "metadata": {},
   "outputs": [],
   "source": [
    "X_test_samples = vectorizer.transform(test_samples)"
   ]
  },
  {
   "cell_type": "code",
   "execution_count": 74,
   "metadata": {},
   "outputs": [
    {
     "name": "stdout",
     "output_type": "stream",
     "text": [
      "\u001b[1m1/1\u001b[0m \u001b[32m━━━━━━━━━━━━━━━━━━━━\u001b[0m\u001b[37m\u001b[0m \u001b[1m0s\u001b[0m 130ms/step\n",
      "문장: '이 회사의 성장 가능성이 정말 기대돼요! 앞으로 주가가 오를 것 같습니다.' -> 예측: 긍정\n",
      "문장: '이번 분기 실적이 예상보다 좋았어요. 강력한 매수 추천합니다!' -> 예측: 긍정\n",
      "문장: '이 주식은 장기 투자로 정말 좋은 선택입니다. 믿고 투자하세요!' -> 예측: 긍정\n",
      "문장: '이 회사는 실적이 계속 나빠지고 있어요. 이제는 매도해야 할 때인 것 같습니다.' -> 예측: 부정\n",
      "문장: '주가가 너무 비싸요. 조정이 올 것 같아서 걱정입니다.' -> 예측: 부정\n"
     ]
    }
   ],
   "source": [
    "# 예측\n",
    "y_pred = model.predict(X_test_samples)\n",
    "y_pred_classes = [1 if p > 0.5 else 0 for p in y_pred]\n",
    "\n",
    "# 결과 출력\n",
    "for sample, pred in zip(test_samples, y_pred_classes):\n",
    "    sentiment = \"긍정\" if pred == 1 else \"부정\"\n",
    "    print(f\"문장: '{sample}' -> 예측: {sentiment}\")"
   ]
  },
  {
   "cell_type": "code",
   "execution_count": null,
   "metadata": {},
   "outputs": [],
   "source": []
  }
 ],
 "metadata": {
  "kernelspec": {
   "display_name": "base",
   "language": "python",
   "name": "python3"
  },
  "language_info": {
   "codemirror_mode": {
    "name": "ipython",
    "version": 3
   },
   "file_extension": ".py",
   "mimetype": "text/x-python",
   "name": "python",
   "nbconvert_exporter": "python",
   "pygments_lexer": "ipython3",
   "version": "3.12.7"
  }
 },
 "nbformat": 4,
 "nbformat_minor": 2
}
