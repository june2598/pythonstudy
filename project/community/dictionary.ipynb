{
 "cells": [
  {
   "cell_type": "code",
   "execution_count": 1,
   "metadata": {},
   "outputs": [],
   "source": [
    "import pandas as pd"
   ]
  },
  {
   "cell_type": "code",
   "execution_count": 2,
   "metadata": {},
   "outputs": [],
   "source": [
    "file_path = 'SentiWord_Dict.txt'"
   ]
  },
  {
   "cell_type": "code",
   "execution_count": 3,
   "metadata": {},
   "outputs": [],
   "source": [
    "# 사전 데이터 불러오기\n",
    "df = pd.read_csv('SentiWord_Dict.txt', delimiter='\\t', names=['단어', '점수'], header=None)"
   ]
  },
  {
   "cell_type": "code",
   "execution_count": 4,
   "metadata": {},
   "outputs": [],
   "source": [
    "# 한글 부분만 필요하기 때문에, 사전에서 한글필터링 - 정규표현식\n",
    "df = df[df['단어'].str.match(r'^[가-힣]+$')]"
   ]
  },
  {
   "cell_type": "code",
   "execution_count": 13,
   "metadata": {},
   "outputs": [
    {
     "data": {
      "text/html": [
       "<div>\n",
       "<style scoped>\n",
       "    .dataframe tbody tr th:only-of-type {\n",
       "        vertical-align: middle;\n",
       "    }\n",
       "\n",
       "    .dataframe tbody tr th {\n",
       "        vertical-align: top;\n",
       "    }\n",
       "\n",
       "    .dataframe thead th {\n",
       "        text-align: right;\n",
       "    }\n",
       "</style>\n",
       "<table border=\"1\" class=\"dataframe\">\n",
       "  <thead>\n",
       "    <tr style=\"text-align: right;\">\n",
       "      <th></th>\n",
       "      <th>단어</th>\n",
       "      <th>점수</th>\n",
       "    </tr>\n",
       "  </thead>\n",
       "  <tbody>\n",
       "    <tr>\n",
       "      <th>44</th>\n",
       "      <td>가까스로</td>\n",
       "      <td>0.0</td>\n",
       "    </tr>\n",
       "    <tr>\n",
       "      <th>46</th>\n",
       "      <td>가까이하다</td>\n",
       "      <td>1.0</td>\n",
       "    </tr>\n",
       "    <tr>\n",
       "      <th>47</th>\n",
       "      <td>가꾸러뜨리다</td>\n",
       "      <td>-1.0</td>\n",
       "    </tr>\n",
       "    <tr>\n",
       "      <th>48</th>\n",
       "      <td>가꾸러트리다</td>\n",
       "      <td>-1.0</td>\n",
       "    </tr>\n",
       "    <tr>\n",
       "      <th>49</th>\n",
       "      <td>가난</td>\n",
       "      <td>-2.0</td>\n",
       "    </tr>\n",
       "    <tr>\n",
       "      <th>50</th>\n",
       "      <td>가난뱅이</td>\n",
       "      <td>-2.0</td>\n",
       "    </tr>\n",
       "    <tr>\n",
       "      <th>51</th>\n",
       "      <td>가난살이</td>\n",
       "      <td>-2.0</td>\n",
       "    </tr>\n",
       "    <tr>\n",
       "      <th>52</th>\n",
       "      <td>가난살이하다</td>\n",
       "      <td>-2.0</td>\n",
       "    </tr>\n",
       "    <tr>\n",
       "      <th>53</th>\n",
       "      <td>가난설음</td>\n",
       "      <td>-2.0</td>\n",
       "    </tr>\n",
       "    <tr>\n",
       "      <th>54</th>\n",
       "      <td>가난에</td>\n",
       "      <td>-2.0</td>\n",
       "    </tr>\n",
       "  </tbody>\n",
       "</table>\n",
       "</div>"
      ],
      "text/plain": [
       "        단어   점수\n",
       "44    가까스로  0.0\n",
       "46   가까이하다  1.0\n",
       "47  가꾸러뜨리다 -1.0\n",
       "48  가꾸러트리다 -1.0\n",
       "49      가난 -2.0\n",
       "50    가난뱅이 -2.0\n",
       "51    가난살이 -2.0\n",
       "52  가난살이하다 -2.0\n",
       "53    가난설음 -2.0\n",
       "54     가난에 -2.0"
      ]
     },
     "execution_count": 13,
     "metadata": {},
     "output_type": "execute_result"
    }
   ],
   "source": [
    "df.head(10)"
   ]
  },
  {
   "cell_type": "code",
   "execution_count": 14,
   "metadata": {},
   "outputs": [
    {
     "name": "stderr",
     "output_type": "stream",
     "text": [
      "C:\\Users\\hydrl\\AppData\\Local\\Temp\\ipykernel_2036\\287724821.py:1: DtypeWarning: Columns (3) have mixed types. Specify dtype option on import or set low_memory=False.\n",
      "  community_contents = pd.read_csv('community_token_final.csv')\n"
     ]
    }
   ],
   "source": [
    "community_contents = pd.read_csv('community_token_final.csv')"
   ]
  },
  {
   "cell_type": "code",
   "execution_count": 15,
   "metadata": {},
   "outputs": [
    {
     "name": "stdout",
     "output_type": "stream",
     "text": [
      "닉네임           object\n",
      "날짜            object\n",
      "내용            object\n",
      "종목            object\n",
      "내용_명사         object\n",
      "내용_형용사        object\n",
      "내용_부사         object\n",
      "내용_동사         object\n",
      "내용_명사_str     object\n",
      "내용_형용사_str    object\n",
      "내용_부사_str     object\n",
      "내용_동사_str     object\n",
      "dtype: object\n"
     ]
    }
   ],
   "source": [
    "# 데이터 타입 확인\n",
    "print(community_contents.dtypes)"
   ]
  },
  {
   "cell_type": "code",
   "execution_count": 5,
   "metadata": {},
   "outputs": [],
   "source": [
    "community_contents = pd.read_csv('community_token_final.csv', low_memory=False)"
   ]
  },
  {
   "cell_type": "code",
   "execution_count": 17,
   "metadata": {},
   "outputs": [
    {
     "name": "stdout",
     "output_type": "stream",
     "text": [
      "닉네임           object\n",
      "날짜            object\n",
      "내용            object\n",
      "종목            object\n",
      "내용_명사         object\n",
      "내용_형용사        object\n",
      "내용_부사         object\n",
      "내용_동사         object\n",
      "내용_명사_str     object\n",
      "내용_형용사_str    object\n",
      "내용_부사_str     object\n",
      "내용_동사_str     object\n",
      "dtype: object\n"
     ]
    }
   ],
   "source": [
    "# 데이터 타입 확인\n",
    "print(community_contents.dtypes)"
   ]
  },
  {
   "cell_type": "code",
   "execution_count": 21,
   "metadata": {},
   "outputs": [
    {
     "data": {
      "text/html": [
       "<div>\n",
       "<style scoped>\n",
       "    .dataframe tbody tr th:only-of-type {\n",
       "        vertical-align: middle;\n",
       "    }\n",
       "\n",
       "    .dataframe tbody tr th {\n",
       "        vertical-align: top;\n",
       "    }\n",
       "\n",
       "    .dataframe thead th {\n",
       "        text-align: right;\n",
       "    }\n",
       "</style>\n",
       "<table border=\"1\" class=\"dataframe\">\n",
       "  <thead>\n",
       "    <tr style=\"text-align: right;\">\n",
       "      <th></th>\n",
       "      <th>닉네임</th>\n",
       "      <th>날짜</th>\n",
       "      <th>내용</th>\n",
       "      <th>종목</th>\n",
       "      <th>내용_명사</th>\n",
       "      <th>내용_형용사</th>\n",
       "      <th>내용_부사</th>\n",
       "      <th>내용_동사</th>\n",
       "      <th>내용_명사_str</th>\n",
       "      <th>내용_형용사_str</th>\n",
       "      <th>내용_부사_str</th>\n",
       "      <th>내용_동사_str</th>\n",
       "    </tr>\n",
       "  </thead>\n",
       "  <tbody>\n",
       "    <tr>\n",
       "      <th>0</th>\n",
       "      <td>GROK</td>\n",
       "      <td>2025-01-11T22:59:18+09:00</td>\n",
       "      <td>- 디자인 변화: S25 울트라는 기존의 각진 디자인에서 둥근 모서리로 변경되었으며...</td>\n",
       "      <td>5930</td>\n",
       "      <td>['디자인', '변화', '울트라', '기존', '진', '디자인', '모서리', ...</td>\n",
       "      <td>['둥근', '있습니다', '동일한', '있음']</td>\n",
       "      <td>[]</td>\n",
       "      <td>['되었으며', '와', '보입니다']</td>\n",
       "      <td>디자인, 변화, 울트라, 기존, 진, 디자인, 모서리, 변경, 카메라, 모듈, 디자...</td>\n",
       "      <td>둥근, 있습니다, 동일한, 있음</td>\n",
       "      <td>NaN</td>\n",
       "      <td>되었으며, 와, 보입니다</td>\n",
       "    </tr>\n",
       "    <tr>\n",
       "      <th>1</th>\n",
       "      <td>공감아</td>\n",
       "      <td>2025-01-11T22:47:22+09:00</td>\n",
       "      <td>7만원 8만원에 물려있는게 대부분이라 7만원까지 혹여 올라도 물려있던분들은 원금 회...</td>\n",
       "      <td>5930</td>\n",
       "      <td>['대부분', '혹', '던', '원금', '회복', '시', '다시', '풀', ...</td>\n",
       "      <td>[]</td>\n",
       "      <td>[]</td>\n",
       "      <td>['물려있는게', '올라도', '물려있']</td>\n",
       "      <td>대부분, 혹, 던, 원금, 회복, 시, 다시, 풀, 매도, 다시</td>\n",
       "      <td>NaN</td>\n",
       "      <td>NaN</td>\n",
       "      <td>물려있는게, 올라도, 물려있</td>\n",
       "    </tr>\n",
       "  </tbody>\n",
       "</table>\n",
       "</div>"
      ],
      "text/plain": [
       "    닉네임                         날짜  \\\n",
       "0  GROK  2025-01-11T22:59:18+09:00   \n",
       "1   공감아  2025-01-11T22:47:22+09:00   \n",
       "\n",
       "                                                  내용    종목  \\\n",
       "0  - 디자인 변화: S25 울트라는 기존의 각진 디자인에서 둥근 모서리로 변경되었으며...  5930   \n",
       "1  7만원 8만원에 물려있는게 대부분이라 7만원까지 혹여 올라도 물려있던분들은 원금 회...  5930   \n",
       "\n",
       "                                               내용_명사  \\\n",
       "0  ['디자인', '변화', '울트라', '기존', '진', '디자인', '모서리', ...   \n",
       "1  ['대부분', '혹', '던', '원금', '회복', '시', '다시', '풀', ...   \n",
       "\n",
       "                        내용_형용사 내용_부사                    내용_동사  \\\n",
       "0  ['둥근', '있습니다', '동일한', '있음']    []    ['되었으며', '와', '보입니다']   \n",
       "1                           []    []  ['물려있는게', '올라도', '물려있']   \n",
       "\n",
       "                                           내용_명사_str         내용_형용사_str  \\\n",
       "0  디자인, 변화, 울트라, 기존, 진, 디자인, 모서리, 변경, 카메라, 모듈, 디자...  둥근, 있습니다, 동일한, 있음   \n",
       "1                대부분, 혹, 던, 원금, 회복, 시, 다시, 풀, 매도, 다시                NaN   \n",
       "\n",
       "  내용_부사_str        내용_동사_str  \n",
       "0       NaN    되었으며, 와, 보입니다  \n",
       "1       NaN  물려있는게, 올라도, 물려있  "
      ]
     },
     "execution_count": 21,
     "metadata": {},
     "output_type": "execute_result"
    }
   ],
   "source": [
    "community_contents.head(2)"
   ]
  },
  {
   "cell_type": "markdown",
   "metadata": {},
   "source": [
    "df.head()"
   ]
  },
  {
   "cell_type": "code",
   "execution_count": 22,
   "metadata": {},
   "outputs": [
    {
     "data": {
      "text/html": [
       "<div>\n",
       "<style scoped>\n",
       "    .dataframe tbody tr th:only-of-type {\n",
       "        vertical-align: middle;\n",
       "    }\n",
       "\n",
       "    .dataframe tbody tr th {\n",
       "        vertical-align: top;\n",
       "    }\n",
       "\n",
       "    .dataframe thead th {\n",
       "        text-align: right;\n",
       "    }\n",
       "</style>\n",
       "<table border=\"1\" class=\"dataframe\">\n",
       "  <thead>\n",
       "    <tr style=\"text-align: right;\">\n",
       "      <th></th>\n",
       "      <th>단어</th>\n",
       "      <th>점수</th>\n",
       "    </tr>\n",
       "  </thead>\n",
       "  <tbody>\n",
       "    <tr>\n",
       "      <th>44</th>\n",
       "      <td>가까스로</td>\n",
       "      <td>0.0</td>\n",
       "    </tr>\n",
       "    <tr>\n",
       "      <th>46</th>\n",
       "      <td>가까이하다</td>\n",
       "      <td>1.0</td>\n",
       "    </tr>\n",
       "    <tr>\n",
       "      <th>47</th>\n",
       "      <td>가꾸러뜨리다</td>\n",
       "      <td>-1.0</td>\n",
       "    </tr>\n",
       "    <tr>\n",
       "      <th>48</th>\n",
       "      <td>가꾸러트리다</td>\n",
       "      <td>-1.0</td>\n",
       "    </tr>\n",
       "    <tr>\n",
       "      <th>49</th>\n",
       "      <td>가난</td>\n",
       "      <td>-2.0</td>\n",
       "    </tr>\n",
       "  </tbody>\n",
       "</table>\n",
       "</div>"
      ],
      "text/plain": [
       "        단어   점수\n",
       "44    가까스로  0.0\n",
       "46   가까이하다  1.0\n",
       "47  가꾸러뜨리다 -1.0\n",
       "48  가꾸러트리다 -1.0\n",
       "49      가난 -2.0"
      ]
     },
     "execution_count": 22,
     "metadata": {},
     "output_type": "execute_result"
    }
   ],
   "source": [
    "df.head()"
   ]
  },
  {
   "cell_type": "code",
   "execution_count": 23,
   "metadata": {},
   "outputs": [],
   "source": [
    "def calculate_positive_score(contents):\n",
    "  total_score = 0.0\n",
    "  \n",
    "  positive_dict = pd.read_csv('SentiWord_Dict.txt', delimiter='\\t', names=['단어', '점수'], header=None)\n",
    "  positive_dict = positive_dict[positive_dict['단어'].str.match(r'^[가-힣]+$')]\n",
    "  \n",
    "  positive_scores = []\n",
    "  \n",
    "  for nouns in contents['내용_명사']:\n",
    "    total_score = 0.0\n",
    "\n",
    "    for noun in nouns:  # nouns는 리스트\n",
    "        score = positive_dict.loc[positive_dict['단어'] == noun, '점수']\n",
    "        if not score.empty:\n",
    "            total_score += score.values[0]  # 점수 합산\n",
    "    positive_scores.append(total_score)\n",
    "  \n",
    "  \n",
    "  # 긍정 점수에 따라 새로운 열 추가\n",
    "  contents['긍정점수_명사'] = [1 if score > 0 else (0 if score == 0 else -1) for score in positive_scores]\n",
    "  \n",
    "  return contents"
   ]
  },
  {
   "cell_type": "code",
   "execution_count": 24,
   "metadata": {},
   "outputs": [
    {
     "data": {
      "text/html": [
       "<div>\n",
       "<style scoped>\n",
       "    .dataframe tbody tr th:only-of-type {\n",
       "        vertical-align: middle;\n",
       "    }\n",
       "\n",
       "    .dataframe tbody tr th {\n",
       "        vertical-align: top;\n",
       "    }\n",
       "\n",
       "    .dataframe thead th {\n",
       "        text-align: right;\n",
       "    }\n",
       "</style>\n",
       "<table border=\"1\" class=\"dataframe\">\n",
       "  <thead>\n",
       "    <tr style=\"text-align: right;\">\n",
       "      <th></th>\n",
       "      <th>닉네임</th>\n",
       "      <th>날짜</th>\n",
       "      <th>내용</th>\n",
       "      <th>종목</th>\n",
       "      <th>내용_명사</th>\n",
       "      <th>내용_형용사</th>\n",
       "      <th>내용_부사</th>\n",
       "      <th>내용_동사</th>\n",
       "      <th>내용_명사_str</th>\n",
       "      <th>내용_형용사_str</th>\n",
       "      <th>내용_부사_str</th>\n",
       "      <th>내용_동사_str</th>\n",
       "      <th>긍정점수_명사</th>\n",
       "    </tr>\n",
       "  </thead>\n",
       "  <tbody>\n",
       "    <tr>\n",
       "      <th>0</th>\n",
       "      <td>GROK</td>\n",
       "      <td>2025-01-11T22:59:18+09:00</td>\n",
       "      <td>- 디자인 변화: S25 울트라는 기존의 각진 디자인에서 둥근 모서리로 변경되었으며...</td>\n",
       "      <td>5930</td>\n",
       "      <td>['디자인', '변화', '울트라', '기존', '진', '디자인', '모서리', ...</td>\n",
       "      <td>['둥근', '있습니다', '동일한', '있음']</td>\n",
       "      <td>[]</td>\n",
       "      <td>['되었으며', '와', '보입니다']</td>\n",
       "      <td>디자인, 변화, 울트라, 기존, 진, 디자인, 모서리, 변경, 카메라, 모듈, 디자...</td>\n",
       "      <td>둥근, 있습니다, 동일한, 있음</td>\n",
       "      <td>NaN</td>\n",
       "      <td>되었으며, 와, 보입니다</td>\n",
       "      <td>-3.0</td>\n",
       "    </tr>\n",
       "    <tr>\n",
       "      <th>1</th>\n",
       "      <td>공감아</td>\n",
       "      <td>2025-01-11T22:47:22+09:00</td>\n",
       "      <td>7만원 8만원에 물려있는게 대부분이라 7만원까지 혹여 올라도 물려있던분들은 원금 회...</td>\n",
       "      <td>5930</td>\n",
       "      <td>['대부분', '혹', '던', '원금', '회복', '시', '다시', '풀', ...</td>\n",
       "      <td>[]</td>\n",
       "      <td>[]</td>\n",
       "      <td>['물려있는게', '올라도', '물려있']</td>\n",
       "      <td>대부분, 혹, 던, 원금, 회복, 시, 다시, 풀, 매도, 다시</td>\n",
       "      <td>NaN</td>\n",
       "      <td>NaN</td>\n",
       "      <td>물려있는게, 올라도, 물려있</td>\n",
       "      <td>0.0</td>\n",
       "    </tr>\n",
       "  </tbody>\n",
       "</table>\n",
       "</div>"
      ],
      "text/plain": [
       "    닉네임                         날짜  \\\n",
       "0  GROK  2025-01-11T22:59:18+09:00   \n",
       "1   공감아  2025-01-11T22:47:22+09:00   \n",
       "\n",
       "                                                  내용    종목  \\\n",
       "0  - 디자인 변화: S25 울트라는 기존의 각진 디자인에서 둥근 모서리로 변경되었으며...  5930   \n",
       "1  7만원 8만원에 물려있는게 대부분이라 7만원까지 혹여 올라도 물려있던분들은 원금 회...  5930   \n",
       "\n",
       "                                               내용_명사  \\\n",
       "0  ['디자인', '변화', '울트라', '기존', '진', '디자인', '모서리', ...   \n",
       "1  ['대부분', '혹', '던', '원금', '회복', '시', '다시', '풀', ...   \n",
       "\n",
       "                        내용_형용사 내용_부사                    내용_동사  \\\n",
       "0  ['둥근', '있습니다', '동일한', '있음']    []    ['되었으며', '와', '보입니다']   \n",
       "1                           []    []  ['물려있는게', '올라도', '물려있']   \n",
       "\n",
       "                                           내용_명사_str         내용_형용사_str  \\\n",
       "0  디자인, 변화, 울트라, 기존, 진, 디자인, 모서리, 변경, 카메라, 모듈, 디자...  둥근, 있습니다, 동일한, 있음   \n",
       "1                대부분, 혹, 던, 원금, 회복, 시, 다시, 풀, 매도, 다시                NaN   \n",
       "\n",
       "  내용_부사_str        내용_동사_str  긍정점수_명사  \n",
       "0       NaN    되었으며, 와, 보입니다     -3.0  \n",
       "1       NaN  물려있는게, 올라도, 물려있      0.0  "
      ]
     },
     "execution_count": 24,
     "metadata": {},
     "output_type": "execute_result"
    }
   ],
   "source": [
    "# 20분소요\n",
    "result = calculate_positive_score(community_contents)\n",
    "result.head(2)"
   ]
  },
  {
   "cell_type": "code",
   "execution_count": 6,
   "metadata": {},
   "outputs": [
    {
     "ename": "NameError",
     "evalue": "name 'result' is not defined",
     "output_type": "error",
     "traceback": [
      "\u001b[1;31m---------------------------------------------------------------------------\u001b[0m",
      "\u001b[1;31mNameError\u001b[0m                                 Traceback (most recent call last)",
      "Cell \u001b[1;32mIn[6], line 1\u001b[0m\n\u001b[1;32m----> 1\u001b[0m result[\u001b[38;5;124m'\u001b[39m\u001b[38;5;124m긍정점수_명사\u001b[39m\u001b[38;5;124m'\u001b[39m]\u001b[38;5;241m.\u001b[39mvalue_counts()\n",
      "\u001b[1;31mNameError\u001b[0m: name 'result' is not defined"
     ]
    }
   ],
   "source": [
    "result['긍정점수_명사'].value_counts()"
   ]
  },
  {
   "cell_type": "code",
   "execution_count": 23,
   "metadata": {},
   "outputs": [],
   "source": [
    "# 사전에 없는 단어를 저장할 집합\n",
    "missing_nouns = set()"
   ]
  },
  {
   "cell_type": "code",
   "execution_count": 24,
   "metadata": {},
   "outputs": [],
   "source": [
    "existing_words = set(df['단어'])"
   ]
  },
  {
   "cell_type": "code",
   "execution_count": 25,
   "metadata": {},
   "outputs": [],
   "source": [
    "# 모든 행을 돌면서 사전에 없는 단어 찾기\n",
    "for nouns in community_contents['내용_명사']:\n",
    "    for noun in nouns:  # 내부 리스트의 각 단어 순회\n",
    "        clean_noun = noun.strip()  # 공백 제거\n",
    "        if len(clean_noun) > 1 and clean_noun not in existing_words:  # 1글자 단어 제외\n",
    "            missing_nouns.add(clean_noun)"
   ]
  },
  {
   "cell_type": "code",
   "execution_count": 26,
   "metadata": {},
   "outputs": [
    {
     "data": {
      "text/plain": [
       "set()"
      ]
     },
     "execution_count": 26,
     "metadata": {},
     "output_type": "execute_result"
    }
   ],
   "source": [
    "missing_nouns"
   ]
  },
  {
   "cell_type": "code",
   "execution_count": 51,
   "metadata": {},
   "outputs": [
    {
     "name": "stdout",
     "output_type": "stream",
     "text": [
      "'디자인'는 existing_words에 존재하지 않습니다.\n"
     ]
    }
   ],
   "source": [
    "# 특정 단어 확인\n",
    "specific_word = '디자인'  # 확인하고자 하는 단어\n",
    "\n",
    "if specific_word in existing_words:\n",
    "    print(f\"'{specific_word}'는 existing_words에 존재합니다.\")\n",
    "else:\n",
    "    print(f\"'{specific_word}'는 existing_words에 존재하지 않습니다.\")"
   ]
  },
  {
   "cell_type": "code",
   "execution_count": null,
   "metadata": {},
   "outputs": [],
   "source": [
    "existing_words = set(df['단어'])  # 중복 제거를 위해 set으로 변환\n",
    "\n",
    "# 사전에 없는 단어를 저장할 집합\n",
    "missing_nouns = set()\n",
    "\n",
    "# 모든 행을 돌면서 사전에 없는 단어 찾기\n",
    "for nouns in result['내용_명사']:\n",
    "    for noun in nouns:\n",
    "        if noun not in existing_words:\n",
    "            missing_nouns.add(noun)"
   ]
  },
  {
   "cell_type": "code",
   "execution_count": null,
   "metadata": {},
   "outputs": [],
   "source": []
  }
 ],
 "metadata": {
  "kernelspec": {
   "display_name": "base",
   "language": "python",
   "name": "python3"
  },
  "language_info": {
   "codemirror_mode": {
    "name": "ipython",
    "version": 3
   },
   "file_extension": ".py",
   "mimetype": "text/x-python",
   "name": "python",
   "nbconvert_exporter": "python",
   "pygments_lexer": "ipython3",
   "version": "3.12.7"
  }
 },
 "nbformat": 4,
 "nbformat_minor": 2
}
