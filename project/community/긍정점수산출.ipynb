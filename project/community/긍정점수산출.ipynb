{
 "cells": [
  {
   "cell_type": "code",
   "execution_count": 1,
   "metadata": {},
   "outputs": [],
   "source": [
    "import pandas as pd\n",
    "from konlpy.tag import Okt"
   ]
  },
  {
   "cell_type": "code",
   "execution_count": 12,
   "metadata": {},
   "outputs": [],
   "source": [
    "import numpy as np"
   ]
  },
  {
   "cell_type": "code",
   "execution_count": 2,
   "metadata": {},
   "outputs": [],
   "source": [
    "okt = Okt()"
   ]
  },
  {
   "cell_type": "code",
   "execution_count": 3,
   "metadata": {},
   "outputs": [],
   "source": [
    "# 긍정 점수 사전 읽기\n",
    "positive_dict = pd.read_csv('positive_score_dict.csv')\n",
    "positive_dict = positive_dict.drop_duplicates(subset='단어')\n",
    "positive_dict.set_index('단어', inplace=True)"
   ]
  },
  {
   "cell_type": "code",
   "execution_count": 27,
   "metadata": {},
   "outputs": [],
   "source": [
    "result2 = pd.read_csv('community_token_final2.csv')"
   ]
  },
  {
   "cell_type": "code",
   "execution_count": 28,
   "metadata": {},
   "outputs": [
    {
     "name": "stdout",
     "output_type": "stream",
     "text": [
      "<class 'pandas.core.frame.DataFrame'>\n",
      "RangeIndex: 74750 entries, 0 to 74749\n",
      "Data columns (total 5 columns):\n",
      " #   Column  Non-Null Count  Dtype \n",
      "---  ------  --------------  ----- \n",
      " 0   닉네임     74750 non-null  object\n",
      " 1   날짜      74750 non-null  object\n",
      " 2   내용      74750 non-null  object\n",
      " 3   종목      74750 non-null  object\n",
      " 4   내용_토큰   72512 non-null  object\n",
      "dtypes: object(5)\n",
      "memory usage: 2.9+ MB\n"
     ]
    }
   ],
   "source": [
    "result2.info()"
   ]
  },
  {
   "cell_type": "code",
   "execution_count": 29,
   "metadata": {},
   "outputs": [
    {
     "name": "stdout",
     "output_type": "stream",
     "text": [
      "2238\n"
     ]
    }
   ],
   "source": [
    "print(result2['내용_토큰'].isnull().sum())      # 불러온 DataFrame의 결측값 수"
   ]
  },
  {
   "cell_type": "code",
   "execution_count": 30,
   "metadata": {},
   "outputs": [
    {
     "data": {
      "text/html": [
       "<div>\n",
       "<style scoped>\n",
       "    .dataframe tbody tr th:only-of-type {\n",
       "        vertical-align: middle;\n",
       "    }\n",
       "\n",
       "    .dataframe tbody tr th {\n",
       "        vertical-align: top;\n",
       "    }\n",
       "\n",
       "    .dataframe thead th {\n",
       "        text-align: right;\n",
       "    }\n",
       "</style>\n",
       "<table border=\"1\" class=\"dataframe\">\n",
       "  <thead>\n",
       "    <tr style=\"text-align: right;\">\n",
       "      <th></th>\n",
       "      <th>닉네임</th>\n",
       "      <th>날짜</th>\n",
       "      <th>내용</th>\n",
       "      <th>종목</th>\n",
       "      <th>내용_토큰</th>\n",
       "    </tr>\n",
       "  </thead>\n",
       "  <tbody>\n",
       "    <tr>\n",
       "      <th>7</th>\n",
       "      <td>삼전35만원</td>\n",
       "      <td>2025-01-11T17:26:18+09:00</td>\n",
       "      <td>https://youtu.be/f-8vau3NfMY?si=-dLlQD9Ph5OU1Wes</td>\n",
       "      <td>5930</td>\n",
       "      <td>NaN</td>\n",
       "    </tr>\n",
       "    <tr>\n",
       "      <th>23</th>\n",
       "      <td>세쓰봉</td>\n",
       "      <td>2025-01-11T12:12:07+09:00</td>\n",
       "      <td>…</td>\n",
       "      <td>5930</td>\n",
       "      <td>NaN</td>\n",
       "    </tr>\n",
       "    <tr>\n",
       "      <th>42</th>\n",
       "      <td>우엉차우엉차</td>\n",
       "      <td>2025-01-10T21:35:48+09:00</td>\n",
       "      <td>켁</td>\n",
       "      <td>5930</td>\n",
       "      <td>NaN</td>\n",
       "    </tr>\n",
       "    <tr>\n",
       "      <th>52</th>\n",
       "      <td>씁쓸하구만</td>\n",
       "      <td>2025-01-10T18:03:34+09:00</td>\n",
       "      <td>.</td>\n",
       "      <td>5930</td>\n",
       "      <td>NaN</td>\n",
       "    </tr>\n",
       "    <tr>\n",
       "      <th>54</th>\n",
       "      <td>으아아아이이이</td>\n",
       "      <td>2025-01-10T17:46:24+09:00</td>\n",
       "      <td>ㅎㅇㅌ</td>\n",
       "      <td>5930</td>\n",
       "      <td>NaN</td>\n",
       "    </tr>\n",
       "  </tbody>\n",
       "</table>\n",
       "</div>"
      ],
      "text/plain": [
       "        닉네임                         날짜  \\\n",
       "7    삼전35만원  2025-01-11T17:26:18+09:00   \n",
       "23      세쓰봉  2025-01-11T12:12:07+09:00   \n",
       "42   우엉차우엉차  2025-01-10T21:35:48+09:00   \n",
       "52    씁쓸하구만  2025-01-10T18:03:34+09:00   \n",
       "54  으아아아이이이  2025-01-10T17:46:24+09:00   \n",
       "\n",
       "                                                  내용    종목 내용_토큰  \n",
       "7   https://youtu.be/f-8vau3NfMY?si=-dLlQD9Ph5OU1Wes  5930   NaN  \n",
       "23                                                 …  5930   NaN  \n",
       "42                                                 켁  5930   NaN  \n",
       "52                                                 .  5930   NaN  \n",
       "54                                               ㅎㅇㅌ  5930   NaN  "
      ]
     },
     "execution_count": 30,
     "metadata": {},
     "output_type": "execute_result"
    }
   ],
   "source": [
    "result2[result2['내용_토큰'].isnull()].head()"
   ]
  },
  {
   "cell_type": "code",
   "execution_count": 31,
   "metadata": {},
   "outputs": [],
   "source": [
    "# NaN 값인 행 제거\n",
    "result2 = result2.dropna(subset=['내용_토큰'])\n",
    "\n",
    "# 인덱스 재설정\n",
    "result2.reset_index(drop=True, inplace=True)"
   ]
  },
  {
   "cell_type": "code",
   "execution_count": 32,
   "metadata": {},
   "outputs": [
    {
     "name": "stdout",
     "output_type": "stream",
     "text": [
      "<class 'pandas.core.frame.DataFrame'>\n",
      "Index: 72512 entries, 0 to 74749\n",
      "Data columns (total 5 columns):\n",
      " #   Column  Non-Null Count  Dtype \n",
      "---  ------  --------------  ----- \n",
      " 0   닉네임     72512 non-null  object\n",
      " 1   날짜      72512 non-null  object\n",
      " 2   내용      72512 non-null  object\n",
      " 3   종목      72512 non-null  object\n",
      " 4   내용_토큰   72512 non-null  object\n",
      "dtypes: object(5)\n",
      "memory usage: 3.3+ MB\n"
     ]
    }
   ],
   "source": [
    "result2.info()"
   ]
  },
  {
   "cell_type": "code",
   "execution_count": 34,
   "metadata": {},
   "outputs": [
    {
     "data": {
      "text/html": [
       "<div>\n",
       "<style scoped>\n",
       "    .dataframe tbody tr th:only-of-type {\n",
       "        vertical-align: middle;\n",
       "    }\n",
       "\n",
       "    .dataframe tbody tr th {\n",
       "        vertical-align: top;\n",
       "    }\n",
       "\n",
       "    .dataframe thead th {\n",
       "        text-align: right;\n",
       "    }\n",
       "</style>\n",
       "<table border=\"1\" class=\"dataframe\">\n",
       "  <thead>\n",
       "    <tr style=\"text-align: right;\">\n",
       "      <th></th>\n",
       "      <th>닉네임</th>\n",
       "      <th>날짜</th>\n",
       "      <th>내용</th>\n",
       "      <th>종목</th>\n",
       "      <th>내용_토큰</th>\n",
       "    </tr>\n",
       "  </thead>\n",
       "  <tbody>\n",
       "    <tr>\n",
       "      <th>0</th>\n",
       "      <td>GROK</td>\n",
       "      <td>2025-01-11T22:59:18+09:00</td>\n",
       "      <td>- 디자인 변화: S25 울트라는 기존의 각진 디자인에서 둥근 모서리로 변경되었으며...</td>\n",
       "      <td>5930</td>\n",
       "      <td>디자인 변화 울트라 기존 디자인 에서 둥글다 모서리 변경 되어다 카메라 모듈 디자인...</td>\n",
       "    </tr>\n",
       "    <tr>\n",
       "      <th>1</th>\n",
       "      <td>공감아</td>\n",
       "      <td>2025-01-11T22:47:22+09:00</td>\n",
       "      <td>7만원 8만원에 물려있는게 대부분이라 7만원까지 혹여 올라도 물려있던분들은 원금 회...</td>\n",
       "      <td>5930</td>\n",
       "      <td>만원 만원 물리다 대부분 이라 만원 까지 오르다 물리다 분들 원금 회복 다시 매도 ...</td>\n",
       "    </tr>\n",
       "    <tr>\n",
       "      <th>2</th>\n",
       "      <td>곰돌이와콩이</td>\n",
       "      <td>2025-01-11T22:41:04+09:00</td>\n",
       "      <td>분할매수하기에 좋은 타점이지만.. 얘는 너무느리고 오래걸린다 얘를살바에 살게 너무많...</td>\n",
       "      <td>5930</td>\n",
       "      <td>분할 매다 좋다 타점 이지만 너무 느리다 오래 걸리다 살바 너무 많다 단점</td>\n",
       "    </tr>\n",
       "    <tr>\n",
       "      <th>3</th>\n",
       "      <td>김브래</td>\n",
       "      <td>2025-01-11T21:31:55+09:00</td>\n",
       "      <td>존버하면 오르겠죠?</td>\n",
       "      <td>5930</td>\n",
       "      <td>존버하 오르다</td>\n",
       "    </tr>\n",
       "    <tr>\n",
       "      <th>4</th>\n",
       "      <td>김보리씨</td>\n",
       "      <td>2025-01-11T21:07:54+09:00</td>\n",
       "      <td>오를 겁니다. 제가 오늘 열심히 일하고 퇴근했습니다.</td>\n",
       "      <td>5930</td>\n",
       "      <td>오르다 겁니다 오늘 열심히 하고 퇴근 하다</td>\n",
       "    </tr>\n",
       "  </tbody>\n",
       "</table>\n",
       "</div>"
      ],
      "text/plain": [
       "      닉네임                         날짜  \\\n",
       "0    GROK  2025-01-11T22:59:18+09:00   \n",
       "1     공감아  2025-01-11T22:47:22+09:00   \n",
       "2  곰돌이와콩이  2025-01-11T22:41:04+09:00   \n",
       "3     김브래  2025-01-11T21:31:55+09:00   \n",
       "4    김보리씨  2025-01-11T21:07:54+09:00   \n",
       "\n",
       "                                                  내용    종목  \\\n",
       "0  - 디자인 변화: S25 울트라는 기존의 각진 디자인에서 둥근 모서리로 변경되었으며...  5930   \n",
       "1  7만원 8만원에 물려있는게 대부분이라 7만원까지 혹여 올라도 물려있던분들은 원금 회...  5930   \n",
       "2  분할매수하기에 좋은 타점이지만.. 얘는 너무느리고 오래걸린다 얘를살바에 살게 너무많...  5930   \n",
       "3                                         존버하면 오르겠죠?  5930   \n",
       "4                      오를 겁니다. 제가 오늘 열심히 일하고 퇴근했습니다.  5930   \n",
       "\n",
       "                                               내용_토큰  \n",
       "0  디자인 변화 울트라 기존 디자인 에서 둥글다 모서리 변경 되어다 카메라 모듈 디자인...  \n",
       "1  만원 만원 물리다 대부분 이라 만원 까지 오르다 물리다 분들 원금 회복 다시 매도 ...  \n",
       "2          분할 매다 좋다 타점 이지만 너무 느리다 오래 걸리다 살바 너무 많다 단점  \n",
       "3                                            존버하 오르다  \n",
       "4                            오르다 겁니다 오늘 열심히 하고 퇴근 하다  "
      ]
     },
     "execution_count": 34,
     "metadata": {},
     "output_type": "execute_result"
    }
   ],
   "source": [
    "result2.head()"
   ]
  },
  {
   "cell_type": "code",
   "execution_count": 5,
   "metadata": {},
   "outputs": [],
   "source": [
    "# 각 열에 대해 okt.morphs(stem=True) 적용 및 문자열 변환\n",
    "result2['형용사_어간'] = result2['내용_형용사_str'].apply(\n",
    "    lambda x: ', '.join(okt.morphs(x, stem=True)) if isinstance(x, str) and x != 'NaN' else ''\n",
    ")\n",
    "\n",
    "result2['부사_어간'] = result2['내용_부사_str'].apply(\n",
    "    lambda x: ', '.join(okt.morphs(x, stem=True)) if isinstance(x, str) and x != 'NaN' else ''\n",
    ")\n",
    "\n",
    "result2['동사_어간'] = result2['내용_동사_str'].apply(\n",
    "    lambda x: ', '.join(okt.morphs(x, stem=True)) if isinstance(x, str) and x != 'NaN' else ''\n",
    ")"
   ]
  },
  {
   "cell_type": "code",
   "execution_count": null,
   "metadata": {},
   "outputs": [],
   "source": [
    "# 행별 총 긍정 점수를 계산할 파생열 추가\n",
    "row_scores = [0] * len(result2)  # 초기화\n",
    "\n",
    "for idx in range(len(result2)):  # 데이터프레임 행 반복\n",
    "    row_score = 0  # 행별 총 점수 초기화\n",
    "\n",
    "    for column in ['내용_토큰']:\n",
    "        word_list = result2.loc[idx, column]  # 각 열의 데이터 가져오기\n",
    "        print(f\"\\n행 {idx}, 열 {column} 처리 중: {word_list}\")\n",
    "        \n",
    "        if pd.isna(word_list) or word_list.strip() == \"\":  # Null 또는 빈 문자열 처리\n",
    "            print(f\"행 {idx}, 열 {column}은 결측값 또는 빈 문자열입니다. 건너뜁니다.\")\n",
    "            continue\n",
    "        \n",
    "        words = word_list.split(' ')  # 쉼표와 공백으로 구분\n",
    "        for word in words:\n",
    "            word = word.strip()  # 공백 제거\n",
    "            if word in positive_dict.index:\n",
    "                score = positive_dict.loc[word, '점수']\n",
    "                row_score += score  # 점수 합산\n",
    "                print(f\"  단어: {word}, 점수: {score}, 누적 점수: {row_score}\")\n",
    "            else:\n",
    "                print(f\"  단어: {word}는 사전에 없음\")\n",
    "\n",
    "    row_scores[idx] = row_score  # 행별 총 점수 저장\n",
    "    print(f\"행 {idx}의 총 점수: {row_score}\")\n",
    "\n",
    "# 점수 변환: 음수는 -1, 0은 0, 양수는 1\n",
    "try:\n",
    "    result2['label'] = [1 if score > 0 else -1 if score < 0 else 0 for score in row_scores]\n",
    "\n",
    "except Exception as e:\n",
    "    print(f\"점수 변환 중 에러 발생: {e}\")\n",
    "    print(f\"row_scores 내용: {row_scores}\")\n",
    "    print(f\"tmp 길이: {len(result2)}, row_scores 길이: {len(row_scores)}\")\n",
    "\n",
    "# 최종 점수 출력\n",
    "print(\"\\n행별 긍정점수:\")\n",
    "print(result2[['label']])"
   ]
  },
  {
   "cell_type": "code",
   "execution_count": 38,
   "metadata": {},
   "outputs": [
    {
     "name": "stdout",
     "output_type": "stream",
     "text": [
      "<class 'pandas.core.frame.DataFrame'>\n",
      "RangeIndex: 72512 entries, 0 to 72511\n",
      "Data columns (total 6 columns):\n",
      " #   Column  Non-Null Count  Dtype \n",
      "---  ------  --------------  ----- \n",
      " 0   닉네임     72512 non-null  object\n",
      " 1   날짜      72512 non-null  object\n",
      " 2   내용      72512 non-null  object\n",
      " 3   종목      72512 non-null  object\n",
      " 4   내용_토큰   72512 non-null  object\n",
      " 5   label   72512 non-null  int64 \n",
      "dtypes: int64(1), object(5)\n",
      "memory usage: 3.3+ MB\n"
     ]
    }
   ],
   "source": [
    "result2.info()"
   ]
  },
  {
   "cell_type": "code",
   "execution_count": 43,
   "metadata": {},
   "outputs": [
    {
     "data": {
      "text/html": [
       "<div>\n",
       "<style scoped>\n",
       "    .dataframe tbody tr th:only-of-type {\n",
       "        vertical-align: middle;\n",
       "    }\n",
       "\n",
       "    .dataframe tbody tr th {\n",
       "        vertical-align: top;\n",
       "    }\n",
       "\n",
       "    .dataframe thead th {\n",
       "        text-align: right;\n",
       "    }\n",
       "</style>\n",
       "<table border=\"1\" class=\"dataframe\">\n",
       "  <thead>\n",
       "    <tr style=\"text-align: right;\">\n",
       "      <th></th>\n",
       "      <th>닉네임</th>\n",
       "      <th>날짜</th>\n",
       "      <th>내용</th>\n",
       "      <th>종목</th>\n",
       "      <th>내용_토큰</th>\n",
       "      <th>label</th>\n",
       "    </tr>\n",
       "  </thead>\n",
       "  <tbody>\n",
       "    <tr>\n",
       "      <th>0</th>\n",
       "      <td>GROK</td>\n",
       "      <td>2025-01-11T22:59:18+09:00</td>\n",
       "      <td>- 디자인 변화: S25 울트라는 기존의 각진 디자인에서 둥근 모서리로 변경되었으며...</td>\n",
       "      <td>005930</td>\n",
       "      <td>디자인 변화 울트라 기존 디자인 에서 둥글다 모서리 변경 되어다 카메라 모듈 디자인...</td>\n",
       "      <td>1</td>\n",
       "    </tr>\n",
       "    <tr>\n",
       "      <th>1</th>\n",
       "      <td>공감아</td>\n",
       "      <td>2025-01-11T22:47:22+09:00</td>\n",
       "      <td>7만원 8만원에 물려있는게 대부분이라 7만원까지 혹여 올라도 물려있던분들은 원금 회...</td>\n",
       "      <td>005930</td>\n",
       "      <td>만원 만원 물리다 대부분 이라 만원 까지 오르다 물리다 분들 원금 회복 다시 매도 ...</td>\n",
       "      <td>0</td>\n",
       "    </tr>\n",
       "    <tr>\n",
       "      <th>2</th>\n",
       "      <td>곰돌이와콩이</td>\n",
       "      <td>2025-01-11T22:41:04+09:00</td>\n",
       "      <td>분할매수하기에 좋은 타점이지만.. 얘는 너무느리고 오래걸린다 얘를살바에 살게 너무많...</td>\n",
       "      <td>005930</td>\n",
       "      <td>분할 매다 좋다 타점 이지만 너무 느리다 오래 걸리다 살바 너무 많다 단점</td>\n",
       "      <td>1</td>\n",
       "    </tr>\n",
       "    <tr>\n",
       "      <th>3</th>\n",
       "      <td>김브래</td>\n",
       "      <td>2025-01-11T21:31:55+09:00</td>\n",
       "      <td>존버하면 오르겠죠?</td>\n",
       "      <td>005930</td>\n",
       "      <td>존버하 오르다</td>\n",
       "      <td>0</td>\n",
       "    </tr>\n",
       "    <tr>\n",
       "      <th>4</th>\n",
       "      <td>김보리씨</td>\n",
       "      <td>2025-01-11T21:07:54+09:00</td>\n",
       "      <td>오를 겁니다. 제가 오늘 열심히 일하고 퇴근했습니다.</td>\n",
       "      <td>005930</td>\n",
       "      <td>오르다 겁니다 오늘 열심히 하고 퇴근 하다</td>\n",
       "      <td>1</td>\n",
       "    </tr>\n",
       "  </tbody>\n",
       "</table>\n",
       "</div>"
      ],
      "text/plain": [
       "      닉네임                         날짜  \\\n",
       "0    GROK  2025-01-11T22:59:18+09:00   \n",
       "1     공감아  2025-01-11T22:47:22+09:00   \n",
       "2  곰돌이와콩이  2025-01-11T22:41:04+09:00   \n",
       "3     김브래  2025-01-11T21:31:55+09:00   \n",
       "4    김보리씨  2025-01-11T21:07:54+09:00   \n",
       "\n",
       "                                                  내용      종목  \\\n",
       "0  - 디자인 변화: S25 울트라는 기존의 각진 디자인에서 둥근 모서리로 변경되었으며...  005930   \n",
       "1  7만원 8만원에 물려있는게 대부분이라 7만원까지 혹여 올라도 물려있던분들은 원금 회...  005930   \n",
       "2  분할매수하기에 좋은 타점이지만.. 얘는 너무느리고 오래걸린다 얘를살바에 살게 너무많...  005930   \n",
       "3                                         존버하면 오르겠죠?  005930   \n",
       "4                      오를 겁니다. 제가 오늘 열심히 일하고 퇴근했습니다.  005930   \n",
       "\n",
       "                                               내용_토큰  label  \n",
       "0  디자인 변화 울트라 기존 디자인 에서 둥글다 모서리 변경 되어다 카메라 모듈 디자인...      1  \n",
       "1  만원 만원 물리다 대부분 이라 만원 까지 오르다 물리다 분들 원금 회복 다시 매도 ...      0  \n",
       "2          분할 매다 좋다 타점 이지만 너무 느리다 오래 걸리다 살바 너무 많다 단점      1  \n",
       "3                                            존버하 오르다      0  \n",
       "4                            오르다 겁니다 오늘 열심히 하고 퇴근 하다      1  "
      ]
     },
     "execution_count": 43,
     "metadata": {},
     "output_type": "execute_result"
    }
   ],
   "source": [
    "result2.head()"
   ]
  },
  {
   "cell_type": "code",
   "execution_count": 40,
   "metadata": {},
   "outputs": [
    {
     "data": {
      "text/plain": [
       "label\n",
       " 0    44198\n",
       "-1    15335\n",
       " 1    12979\n",
       "Name: count, dtype: int64"
      ]
     },
     "execution_count": 40,
     "metadata": {},
     "output_type": "execute_result"
    }
   ],
   "source": [
    "# 라벨 카운팅\n",
    "result2['label'].value_counts()"
   ]
  },
  {
   "cell_type": "code",
   "execution_count": 44,
   "metadata": {},
   "outputs": [],
   "source": [
    "# 라벨 추가된 df 파일 저장\n",
    "result2.to_csv('community_add_poslabel.csv', index=False, encoding='utf-8-sig')"
   ]
  },
  {
   "cell_type": "code",
   "execution_count": null,
   "metadata": {},
   "outputs": [],
   "source": []
  }
 ],
 "metadata": {
  "kernelspec": {
   "display_name": "base",
   "language": "python",
   "name": "python3"
  },
  "language_info": {
   "codemirror_mode": {
    "name": "ipython",
    "version": 3
   },
   "file_extension": ".py",
   "mimetype": "text/x-python",
   "name": "python",
   "nbconvert_exporter": "python",
   "pygments_lexer": "ipython3",
   "version": "3.12.7"
  }
 },
 "nbformat": 4,
 "nbformat_minor": 2
}
