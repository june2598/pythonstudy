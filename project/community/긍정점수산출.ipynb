{
 "cells": [
  {
   "cell_type": "code",
   "execution_count": 1,
   "metadata": {},
   "outputs": [],
   "source": [
    "import pandas as pd\n",
    "from konlpy.tag import Okt"
   ]
  },
  {
   "cell_type": "code",
   "execution_count": 2,
   "metadata": {},
   "outputs": [],
   "source": [
    "okt = Okt()"
   ]
  },
  {
   "cell_type": "code",
   "execution_count": 3,
   "metadata": {},
   "outputs": [],
   "source": [
    "# 긍정 점수 사전 읽기\n",
    "positive_dict = pd.read_csv('positive_score_dict.csv')\n",
    "positive_dict = positive_dict.drop_duplicates(subset='단어')\n",
    "positive_dict.set_index('단어', inplace=True)"
   ]
  },
  {
   "cell_type": "code",
   "execution_count": 4,
   "metadata": {},
   "outputs": [],
   "source": [
    "result2 = pd.read_csv('community_token_final.csv', low_memory=False)"
   ]
  },
  {
   "cell_type": "code",
   "execution_count": 5,
   "metadata": {},
   "outputs": [],
   "source": [
    "# 각 열에 대해 okt.morphs(stem=True) 적용 및 문자열 변환\n",
    "result2['형용사_어간'] = result2['내용_형용사_str'].apply(\n",
    "    lambda x: ', '.join(okt.morphs(x, stem=True)) if isinstance(x, str) and x != 'NaN' else ''\n",
    ")\n",
    "\n",
    "result2['부사_어간'] = result2['내용_부사_str'].apply(\n",
    "    lambda x: ', '.join(okt.morphs(x, stem=True)) if isinstance(x, str) and x != 'NaN' else ''\n",
    ")\n",
    "\n",
    "result2['동사_어간'] = result2['내용_동사_str'].apply(\n",
    "    lambda x: ', '.join(okt.morphs(x, stem=True)) if isinstance(x, str) and x != 'NaN' else ''\n",
    ")"
   ]
  },
  {
   "cell_type": "code",
   "execution_count": null,
   "metadata": {},
   "outputs": [],
   "source": [
    "# 행별 총 긍정 점수를 계산할 파생열 추가\n",
    "row_scores = [0] * len(result2)  # 초기화\n",
    "\n",
    "for idx in range(len(result2)):  # 데이터프레임 행 반복\n",
    "    row_score = 0  # 행별 총 점수 초기화\n",
    "\n",
    "    for column in ['내용_명사_str', '형용사_어간', '부사_어간', '동사_어간']:\n",
    "        word_list = result2.loc[idx, column]  # 각 열의 데이터 가져오기\n",
    "        print(f\"\\n행 {idx}, 열 {column} 처리 중: {word_list}\")\n",
    "        \n",
    "        if pd.isna(word_list) or word_list.strip() == \"\":  # Null 또는 빈 문자열 처리\n",
    "            print(f\"행 {idx}, 열 {column}은 결측값 또는 빈 문자열입니다. 건너뜁니다.\")\n",
    "            continue\n",
    "        \n",
    "        words = word_list.split(', ')  # 쉼표와 공백으로 구분\n",
    "        for word in words:\n",
    "            word = word.strip()  # 공백 제거\n",
    "            if word in positive_dict.index:\n",
    "                score = positive_dict.loc[word, '점수']\n",
    "                row_score += score  # 점수 합산\n",
    "                print(f\"  단어: {word}, 점수: {score}, 누적 점수: {row_score}\")\n",
    "            else:\n",
    "                print(f\"  단어: {word}는 사전에 없음\")\n",
    "\n",
    "    row_scores[idx] = row_score  # 행별 총 점수 저장\n",
    "    print(f\"행 {idx}의 총 점수: {row_score}\")\n",
    "\n",
    "# 점수 변환: 음수는 -1, 0은 0, 양수는 1\n",
    "try:\n",
    "    result2['긍정점수'] = [1 if score > 0 else -1 if score < 0 else 0 for score in row_scores]\n",
    "\n",
    "except Exception as e:\n",
    "    print(f\"점수 변환 중 에러 발생: {e}\")\n",
    "    print(f\"row_scores 내용: {row_scores}\")\n",
    "    print(f\"tmp 길이: {len(result2)}, row_scores 길이: {len(row_scores)}\")\n",
    "\n",
    "# 최종 점수 출력\n",
    "print(\"\\n행별 긍정점수:\")\n",
    "print(result2[['긍정점수']])"
   ]
  }
 ],
 "metadata": {
  "kernelspec": {
   "display_name": "base",
   "language": "python",
   "name": "python3"
  },
  "language_info": {
   "codemirror_mode": {
    "name": "ipython",
    "version": 3
   },
   "file_extension": ".py",
   "mimetype": "text/x-python",
   "name": "python",
   "nbconvert_exporter": "python",
   "pygments_lexer": "ipython3",
   "version": "3.12.7"
  }
 },
 "nbformat": 4,
 "nbformat_minor": 2
}
