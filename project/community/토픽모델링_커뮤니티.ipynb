{
 "cells": [
  {
   "cell_type": "markdown",
   "metadata": {},
   "source": [
    "#### 실패 : 주제별 토픽모델링 - 주제파악이 어려움"
   ]
  },
  {
   "cell_type": "code",
   "execution_count": 1,
   "metadata": {},
   "outputs": [],
   "source": [
    "import pandas as pd"
   ]
  },
  {
   "cell_type": "code",
   "execution_count": 2,
   "metadata": {},
   "outputs": [],
   "source": [
    "import FinanceDataReader as fdr"
   ]
  },
  {
   "cell_type": "code",
   "execution_count": 3,
   "metadata": {},
   "outputs": [],
   "source": [
    "from tqdm import tqdm"
   ]
  },
  {
   "cell_type": "code",
   "execution_count": 4,
   "metadata": {},
   "outputs": [],
   "source": [
    "from sklearn.feature_extraction.text import CountVectorizer, TfidfVectorizer"
   ]
  },
  {
   "cell_type": "code",
   "execution_count": 5,
   "metadata": {},
   "outputs": [],
   "source": [
    "from sklearn.decomposition import LatentDirichletAllocation"
   ]
  },
  {
   "cell_type": "code",
   "execution_count": 6,
   "metadata": {},
   "outputs": [],
   "source": [
    "import matplotlib.pyplot as plt"
   ]
  },
  {
   "cell_type": "code",
   "execution_count": 7,
   "metadata": {},
   "outputs": [],
   "source": [
    "krx_df = fdr.StockListing('KRX')"
   ]
  },
  {
   "cell_type": "code",
   "execution_count": 9,
   "metadata": {},
   "outputs": [
    {
     "data": {
      "text/html": [
       "<div>\n",
       "<style scoped>\n",
       "    .dataframe tbody tr th:only-of-type {\n",
       "        vertical-align: middle;\n",
       "    }\n",
       "\n",
       "    .dataframe tbody tr th {\n",
       "        vertical-align: top;\n",
       "    }\n",
       "\n",
       "    .dataframe thead th {\n",
       "        text-align: right;\n",
       "    }\n",
       "</style>\n",
       "<table border=\"1\" class=\"dataframe\">\n",
       "  <thead>\n",
       "    <tr style=\"text-align: right;\">\n",
       "      <th></th>\n",
       "      <th>Code</th>\n",
       "      <th>ISU_CD</th>\n",
       "      <th>Name</th>\n",
       "      <th>Market</th>\n",
       "      <th>Dept</th>\n",
       "      <th>Close</th>\n",
       "      <th>ChangeCode</th>\n",
       "      <th>Changes</th>\n",
       "      <th>ChagesRatio</th>\n",
       "      <th>Open</th>\n",
       "      <th>High</th>\n",
       "      <th>Low</th>\n",
       "      <th>Volume</th>\n",
       "      <th>Amount</th>\n",
       "      <th>Marcap</th>\n",
       "      <th>Stocks</th>\n",
       "      <th>MarketId</th>\n",
       "    </tr>\n",
       "  </thead>\n",
       "  <tbody>\n",
       "    <tr>\n",
       "      <th>0</th>\n",
       "      <td>005930</td>\n",
       "      <td>KR7005930003</td>\n",
       "      <td>삼성전자</td>\n",
       "      <td>KOSPI</td>\n",
       "      <td></td>\n",
       "      <td>53700</td>\n",
       "      <td>2</td>\n",
       "      <td>-200</td>\n",
       "      <td>-0.37</td>\n",
       "      <td>54100</td>\n",
       "      <td>54700</td>\n",
       "      <td>53500</td>\n",
       "      <td>18625025</td>\n",
       "      <td>1005085420250</td>\n",
       "      <td>320577322935000</td>\n",
       "      <td>5969782550</td>\n",
       "      <td>STK</td>\n",
       "    </tr>\n",
       "    <tr>\n",
       "      <th>1</th>\n",
       "      <td>000660</td>\n",
       "      <td>KR7000660001</td>\n",
       "      <td>SK하이닉스</td>\n",
       "      <td>KOSPI</td>\n",
       "      <td></td>\n",
       "      <td>198200</td>\n",
       "      <td>1</td>\n",
       "      <td>3200</td>\n",
       "      <td>1.64</td>\n",
       "      <td>198000</td>\n",
       "      <td>201000</td>\n",
       "      <td>197700</td>\n",
       "      <td>3620460</td>\n",
       "      <td>721291863250</td>\n",
       "      <td>144290068743000</td>\n",
       "      <td>728002365</td>\n",
       "      <td>STK</td>\n",
       "    </tr>\n",
       "  </tbody>\n",
       "</table>\n",
       "</div>"
      ],
      "text/plain": [
       "     Code        ISU_CD    Name Market Dept   Close ChangeCode  Changes  \\\n",
       "0  005930  KR7005930003    삼성전자  KOSPI        53700          2     -200   \n",
       "1  000660  KR7000660001  SK하이닉스  KOSPI       198200          1     3200   \n",
       "\n",
       "   ChagesRatio    Open    High     Low    Volume         Amount  \\\n",
       "0        -0.37   54100   54700   53500  18625025  1005085420250   \n",
       "1         1.64  198000  201000  197700   3620460   721291863250   \n",
       "\n",
       "            Marcap      Stocks MarketId  \n",
       "0  320577322935000  5969782550      STK  \n",
       "1  144290068743000   728002365      STK  "
      ]
     },
     "execution_count": 9,
     "metadata": {},
     "output_type": "execute_result"
    }
   ],
   "source": [
    "krx_df.hea"
   ]
  },
  {
   "cell_type": "code",
   "execution_count": 10,
   "metadata": {},
   "outputs": [
    {
     "data": {
      "text/html": [
       "<div>\n",
       "<style scoped>\n",
       "    .dataframe tbody tr th:only-of-type {\n",
       "        vertical-align: middle;\n",
       "    }\n",
       "\n",
       "    .dataframe tbody tr th {\n",
       "        vertical-align: top;\n",
       "    }\n",
       "\n",
       "    .dataframe thead th {\n",
       "        text-align: right;\n",
       "    }\n",
       "</style>\n",
       "<table border=\"1\" class=\"dataframe\">\n",
       "  <thead>\n",
       "    <tr style=\"text-align: right;\">\n",
       "      <th></th>\n",
       "      <th>Code</th>\n",
       "      <th>ISU_CD</th>\n",
       "      <th>Name</th>\n",
       "      <th>Market</th>\n",
       "      <th>Dept</th>\n",
       "      <th>Close</th>\n",
       "      <th>ChangeCode</th>\n",
       "      <th>Changes</th>\n",
       "      <th>ChagesRatio</th>\n",
       "      <th>Open</th>\n",
       "      <th>High</th>\n",
       "      <th>Low</th>\n",
       "      <th>Volume</th>\n",
       "      <th>Amount</th>\n",
       "      <th>Marcap</th>\n",
       "      <th>Stocks</th>\n",
       "      <th>MarketId</th>\n",
       "    </tr>\n",
       "  </thead>\n",
       "  <tbody>\n",
       "  </tbody>\n",
       "</table>\n",
       "</div>"
      ],
      "text/plain": [
       "Empty DataFrame\n",
       "Columns: [Code, ISU_CD, Name, Market, Dept, Close, ChangeCode, Changes, ChagesRatio, Open, High, Low, Volume, Amount, Marcap, Stocks, MarketId]\n",
       "Index: []"
      ]
     },
     "execution_count": 10,
     "metadata": {},
     "output_type": "execute_result"
    }
   ],
   "source": [
    "krx_df[krx_df['Code'] == '5930']"
   ]
  },
  {
   "cell_type": "code",
   "execution_count": 8,
   "metadata": {},
   "outputs": [],
   "source": [
    "community_contents = pd.read_csv('community_add_poslabel.csv')"
   ]
  },
  {
   "cell_type": "code",
   "execution_count": 9,
   "metadata": {},
   "outputs": [
    {
     "data": {
      "text/html": [
       "<div>\n",
       "<style scoped>\n",
       "    .dataframe tbody tr th:only-of-type {\n",
       "        vertical-align: middle;\n",
       "    }\n",
       "\n",
       "    .dataframe tbody tr th {\n",
       "        vertical-align: top;\n",
       "    }\n",
       "\n",
       "    .dataframe thead th {\n",
       "        text-align: right;\n",
       "    }\n",
       "</style>\n",
       "<table border=\"1\" class=\"dataframe\">\n",
       "  <thead>\n",
       "    <tr style=\"text-align: right;\">\n",
       "      <th></th>\n",
       "      <th>닉네임</th>\n",
       "      <th>날짜</th>\n",
       "      <th>내용</th>\n",
       "      <th>종목</th>\n",
       "      <th>내용_토큰</th>\n",
       "      <th>label</th>\n",
       "    </tr>\n",
       "  </thead>\n",
       "  <tbody>\n",
       "    <tr>\n",
       "      <th>0</th>\n",
       "      <td>GROK</td>\n",
       "      <td>2025-01-11T22:59:18+09:00</td>\n",
       "      <td>- 디자인 변화: S25 울트라는 기존의 각진 디자인에서 둥근 모서리로 변경되었으며...</td>\n",
       "      <td>005930</td>\n",
       "      <td>디자인 변화 울트라 기존 디자인 에서 둥글다 모서리 변경 되어다 카메라 모듈 디자인...</td>\n",
       "      <td>1</td>\n",
       "    </tr>\n",
       "    <tr>\n",
       "      <th>1</th>\n",
       "      <td>공감아</td>\n",
       "      <td>2025-01-11T22:47:22+09:00</td>\n",
       "      <td>7만원 8만원에 물려있는게 대부분이라 7만원까지 혹여 올라도 물려있던분들은 원금 회...</td>\n",
       "      <td>005930</td>\n",
       "      <td>만원 만원 물리다 대부분 이라 만원 까지 오르다 물리다 분들 원금 회복 다시 매도 ...</td>\n",
       "      <td>-2</td>\n",
       "    </tr>\n",
       "    <tr>\n",
       "      <th>2</th>\n",
       "      <td>곰돌이와콩이</td>\n",
       "      <td>2025-01-11T22:41:04+09:00</td>\n",
       "      <td>분할매수하기에 좋은 타점이지만.. 얘는 너무느리고 오래걸린다 얘를살바에 살게 너무많...</td>\n",
       "      <td>005930</td>\n",
       "      <td>분할 매다 좋다 타점 이지만 너무 느리다 오래 걸리다 살바 너무 많다 단점</td>\n",
       "      <td>1</td>\n",
       "    </tr>\n",
       "    <tr>\n",
       "      <th>3</th>\n",
       "      <td>김브래</td>\n",
       "      <td>2025-01-11T21:31:55+09:00</td>\n",
       "      <td>존버하면 오르겠죠?</td>\n",
       "      <td>005930</td>\n",
       "      <td>존버하 오르다</td>\n",
       "      <td>-2</td>\n",
       "    </tr>\n",
       "    <tr>\n",
       "      <th>4</th>\n",
       "      <td>김보리씨</td>\n",
       "      <td>2025-01-11T21:07:54+09:00</td>\n",
       "      <td>오를 겁니다. 제가 오늘 열심히 일하고 퇴근했습니다.</td>\n",
       "      <td>005930</td>\n",
       "      <td>오르다 겁니다 오늘 열심히 하고 퇴근 하다</td>\n",
       "      <td>1</td>\n",
       "    </tr>\n",
       "  </tbody>\n",
       "</table>\n",
       "</div>"
      ],
      "text/plain": [
       "      닉네임                         날짜  \\\n",
       "0    GROK  2025-01-11T22:59:18+09:00   \n",
       "1     공감아  2025-01-11T22:47:22+09:00   \n",
       "2  곰돌이와콩이  2025-01-11T22:41:04+09:00   \n",
       "3     김브래  2025-01-11T21:31:55+09:00   \n",
       "4    김보리씨  2025-01-11T21:07:54+09:00   \n",
       "\n",
       "                                                  내용      종목  \\\n",
       "0  - 디자인 변화: S25 울트라는 기존의 각진 디자인에서 둥근 모서리로 변경되었으며...  005930   \n",
       "1  7만원 8만원에 물려있는게 대부분이라 7만원까지 혹여 올라도 물려있던분들은 원금 회...  005930   \n",
       "2  분할매수하기에 좋은 타점이지만.. 얘는 너무느리고 오래걸린다 얘를살바에 살게 너무많...  005930   \n",
       "3                                         존버하면 오르겠죠?  005930   \n",
       "4                      오를 겁니다. 제가 오늘 열심히 일하고 퇴근했습니다.  005930   \n",
       "\n",
       "                                               내용_토큰  label  \n",
       "0  디자인 변화 울트라 기존 디자인 에서 둥글다 모서리 변경 되어다 카메라 모듈 디자인...      1  \n",
       "1  만원 만원 물리다 대부분 이라 만원 까지 오르다 물리다 분들 원금 회복 다시 매도 ...     -2  \n",
       "2          분할 매다 좋다 타점 이지만 너무 느리다 오래 걸리다 살바 너무 많다 단점      1  \n",
       "3                                            존버하 오르다     -2  \n",
       "4                            오르다 겁니다 오늘 열심히 하고 퇴근 하다      1  "
      ]
     },
     "execution_count": 9,
     "metadata": {},
     "output_type": "execute_result"
    }
   ],
   "source": [
    "community_contents.head()"
   ]
  },
  {
   "cell_type": "code",
   "execution_count": 15,
   "metadata": {},
   "outputs": [],
   "source": [
    "# 종목코드 자릿수손실 : 6자리 채우기\n",
    "community_contents['종목'] = community_contents['종목'].apply(\n",
    "    lambda x: f\"{x.zfill(6)}\" if len(x) < 6 else x\n",
    ")"
   ]
  },
  {
   "cell_type": "code",
   "execution_count": 10,
   "metadata": {},
   "outputs": [],
   "source": [
    "# community_contents와 krx_df를 '종목'과 'Code'를 기준으로 병합합니다.\n",
    "community_contents = community_contents.merge(\n",
    "    krx_df[['Code', 'Market']],\n",
    "    left_on='종목',\n",
    "    right_on='Code',\n",
    "    how='left'\n",
    ")\n",
    "\n",
    "# '시장' 열 이름을 변경합니다.\n",
    "community_contents.rename(columns={'Market': '시장'}, inplace=True)"
   ]
  },
  {
   "cell_type": "code",
   "execution_count": 11,
   "metadata": {},
   "outputs": [],
   "source": [
    "community_contents.drop(columns=['Code'], inplace=True)"
   ]
  },
  {
   "cell_type": "code",
   "execution_count": 12,
   "metadata": {},
   "outputs": [
    {
     "data": {
      "text/html": [
       "<div>\n",
       "<style scoped>\n",
       "    .dataframe tbody tr th:only-of-type {\n",
       "        vertical-align: middle;\n",
       "    }\n",
       "\n",
       "    .dataframe tbody tr th {\n",
       "        vertical-align: top;\n",
       "    }\n",
       "\n",
       "    .dataframe thead th {\n",
       "        text-align: right;\n",
       "    }\n",
       "</style>\n",
       "<table border=\"1\" class=\"dataframe\">\n",
       "  <thead>\n",
       "    <tr style=\"text-align: right;\">\n",
       "      <th></th>\n",
       "      <th>닉네임</th>\n",
       "      <th>날짜</th>\n",
       "      <th>내용</th>\n",
       "      <th>종목</th>\n",
       "      <th>내용_토큰</th>\n",
       "      <th>label</th>\n",
       "      <th>시장</th>\n",
       "    </tr>\n",
       "  </thead>\n",
       "  <tbody>\n",
       "    <tr>\n",
       "      <th>0</th>\n",
       "      <td>GROK</td>\n",
       "      <td>2025-01-11T22:59:18+09:00</td>\n",
       "      <td>- 디자인 변화: S25 울트라는 기존의 각진 디자인에서 둥근 모서리로 변경되었으며...</td>\n",
       "      <td>005930</td>\n",
       "      <td>디자인 변화 울트라 기존 디자인 에서 둥글다 모서리 변경 되어다 카메라 모듈 디자인...</td>\n",
       "      <td>1</td>\n",
       "      <td>KOSPI</td>\n",
       "    </tr>\n",
       "    <tr>\n",
       "      <th>1</th>\n",
       "      <td>공감아</td>\n",
       "      <td>2025-01-11T22:47:22+09:00</td>\n",
       "      <td>7만원 8만원에 물려있는게 대부분이라 7만원까지 혹여 올라도 물려있던분들은 원금 회...</td>\n",
       "      <td>005930</td>\n",
       "      <td>만원 만원 물리다 대부분 이라 만원 까지 오르다 물리다 분들 원금 회복 다시 매도 ...</td>\n",
       "      <td>-2</td>\n",
       "      <td>KOSPI</td>\n",
       "    </tr>\n",
       "    <tr>\n",
       "      <th>2</th>\n",
       "      <td>곰돌이와콩이</td>\n",
       "      <td>2025-01-11T22:41:04+09:00</td>\n",
       "      <td>분할매수하기에 좋은 타점이지만.. 얘는 너무느리고 오래걸린다 얘를살바에 살게 너무많...</td>\n",
       "      <td>005930</td>\n",
       "      <td>분할 매다 좋다 타점 이지만 너무 느리다 오래 걸리다 살바 너무 많다 단점</td>\n",
       "      <td>1</td>\n",
       "      <td>KOSPI</td>\n",
       "    </tr>\n",
       "    <tr>\n",
       "      <th>3</th>\n",
       "      <td>김브래</td>\n",
       "      <td>2025-01-11T21:31:55+09:00</td>\n",
       "      <td>존버하면 오르겠죠?</td>\n",
       "      <td>005930</td>\n",
       "      <td>존버하 오르다</td>\n",
       "      <td>-2</td>\n",
       "      <td>KOSPI</td>\n",
       "    </tr>\n",
       "    <tr>\n",
       "      <th>4</th>\n",
       "      <td>김보리씨</td>\n",
       "      <td>2025-01-11T21:07:54+09:00</td>\n",
       "      <td>오를 겁니다. 제가 오늘 열심히 일하고 퇴근했습니다.</td>\n",
       "      <td>005930</td>\n",
       "      <td>오르다 겁니다 오늘 열심히 하고 퇴근 하다</td>\n",
       "      <td>1</td>\n",
       "      <td>KOSPI</td>\n",
       "    </tr>\n",
       "  </tbody>\n",
       "</table>\n",
       "</div>"
      ],
      "text/plain": [
       "      닉네임                         날짜  \\\n",
       "0    GROK  2025-01-11T22:59:18+09:00   \n",
       "1     공감아  2025-01-11T22:47:22+09:00   \n",
       "2  곰돌이와콩이  2025-01-11T22:41:04+09:00   \n",
       "3     김브래  2025-01-11T21:31:55+09:00   \n",
       "4    김보리씨  2025-01-11T21:07:54+09:00   \n",
       "\n",
       "                                                  내용      종목  \\\n",
       "0  - 디자인 변화: S25 울트라는 기존의 각진 디자인에서 둥근 모서리로 변경되었으며...  005930   \n",
       "1  7만원 8만원에 물려있는게 대부분이라 7만원까지 혹여 올라도 물려있던분들은 원금 회...  005930   \n",
       "2  분할매수하기에 좋은 타점이지만.. 얘는 너무느리고 오래걸린다 얘를살바에 살게 너무많...  005930   \n",
       "3                                         존버하면 오르겠죠?  005930   \n",
       "4                      오를 겁니다. 제가 오늘 열심히 일하고 퇴근했습니다.  005930   \n",
       "\n",
       "                                               내용_토큰  label     시장  \n",
       "0  디자인 변화 울트라 기존 디자인 에서 둥글다 모서리 변경 되어다 카메라 모듈 디자인...      1  KOSPI  \n",
       "1  만원 만원 물리다 대부분 이라 만원 까지 오르다 물리다 분들 원금 회복 다시 매도 ...     -2  KOSPI  \n",
       "2          분할 매다 좋다 타점 이지만 너무 느리다 오래 걸리다 살바 너무 많다 단점      1  KOSPI  \n",
       "3                                            존버하 오르다     -2  KOSPI  \n",
       "4                            오르다 겁니다 오늘 열심히 하고 퇴근 하다      1  KOSPI  "
      ]
     },
     "execution_count": 12,
     "metadata": {},
     "output_type": "execute_result"
    }
   ],
   "source": [
    "community_contents.head()"
   ]
  },
  {
   "cell_type": "code",
   "execution_count": 16,
   "metadata": {},
   "outputs": [
    {
     "name": "stdout",
     "output_type": "stream",
     "text": [
      "<class 'pandas.core.frame.DataFrame'>\n",
      "RangeIndex: 77647 entries, 0 to 77646\n",
      "Data columns (total 7 columns):\n",
      " #   Column  Non-Null Count  Dtype \n",
      "---  ------  --------------  ----- \n",
      " 0   닉네임     77647 non-null  object\n",
      " 1   날짜      77647 non-null  object\n",
      " 2   내용      77647 non-null  object\n",
      " 3   종목      77647 non-null  object\n",
      " 4   내용_토큰   77647 non-null  object\n",
      " 5   label   77647 non-null  int64 \n",
      " 6   시장      77647 non-null  object\n",
      "dtypes: int64(1), object(6)\n",
      "memory usage: 4.1+ MB\n"
     ]
    }
   ],
   "source": [
    "community_contents.info()"
   ]
  },
  {
   "cell_type": "code",
   "execution_count": 14,
   "metadata": {},
   "outputs": [],
   "source": [
    "# NaN 값을 'ETF'로 채우기\n",
    "community_contents['시장'] = community_contents['시장'].fillna('ETF')"
   ]
  },
  {
   "cell_type": "code",
   "execution_count": 15,
   "metadata": {},
   "outputs": [],
   "source": [
    "community_contents.to_csv('community_add_market2.csv', index=False, encoding='utf-8-sig')"
   ]
  },
  {
   "cell_type": "code",
   "execution_count": 26,
   "metadata": {},
   "outputs": [],
   "source": [
    "# 토픽 모델링\n",
    "# 'KOSPI', 'KOSDAQ', 'ETF' 유형별 1000개 샘플링\n",
    "sample_1 = community_contents[community_contents['시장'] == 'KOSPI'].sample(n=1000, random_state=2025)\n",
    "sample_2 = community_contents[community_contents['시장'] == 'KOSDAQ'].sample(n=1000, random_state=2025)\n",
    "sample_3 = community_contents[community_contents['시장'] == 'ETF'].sample(n=1000, random_state=2025)"
   ]
  },
  {
   "cell_type": "code",
   "execution_count": 28,
   "metadata": {},
   "outputs": [],
   "source": [
    "# 샘플 통합\n",
    "total_sample = pd.concat([sample_1,sample_2,sample_3], ignore_index=True)"
   ]
  },
  {
   "cell_type": "code",
   "execution_count": null,
   "metadata": {},
   "outputs": [],
   "source": [
    "total_sample['부사_어간'].head(20)"
   ]
  },
  {
   "cell_type": "code",
   "execution_count": 38,
   "metadata": {},
   "outputs": [],
   "source": [
    "# 문자열 정리를 위한 함수 정의\n",
    "def clean_verbs(verb_string):\n",
    "    if isinstance(verb_string, str):  # 문자열인지 확인\n",
    "        return verb_string.replace(\", ,,\", \",\").replace(\", \", \",\").strip(\", \")\n",
    "    return verb_string  # 문자열이 아닐 경우 원래 값을 반환"
   ]
  },
  {
   "cell_type": "code",
   "execution_count": 43,
   "metadata": {},
   "outputs": [],
   "source": [
    "# '동사_어간' 열에 함수 적용\n",
    "total_sample['부사_어간'] = total_sample['부사_어간'].apply(clean_verbs)"
   ]
  },
  {
   "cell_type": "code",
   "execution_count": 56,
   "metadata": {},
   "outputs": [
    {
     "data": {
      "text/html": [
       "<div>\n",
       "<style scoped>\n",
       "    .dataframe tbody tr th:only-of-type {\n",
       "        vertical-align: middle;\n",
       "    }\n",
       "\n",
       "    .dataframe tbody tr th {\n",
       "        vertical-align: top;\n",
       "    }\n",
       "\n",
       "    .dataframe thead th {\n",
       "        text-align: right;\n",
       "    }\n",
       "</style>\n",
       "<table border=\"1\" class=\"dataframe\">\n",
       "  <thead>\n",
       "    <tr style=\"text-align: right;\">\n",
       "      <th></th>\n",
       "      <th>닉네임</th>\n",
       "      <th>날짜</th>\n",
       "      <th>내용</th>\n",
       "      <th>종목</th>\n",
       "      <th>내용_명사</th>\n",
       "      <th>내용_형용사</th>\n",
       "      <th>내용_부사</th>\n",
       "      <th>내용_동사</th>\n",
       "      <th>내용_명사_str</th>\n",
       "      <th>내용_형용사_str</th>\n",
       "      <th>내용_부사_str</th>\n",
       "      <th>내용_동사_str</th>\n",
       "      <th>형용사_어간</th>\n",
       "      <th>부사_어간</th>\n",
       "      <th>동사_어간</th>\n",
       "      <th>긍정점수</th>\n",
       "      <th>시장</th>\n",
       "    </tr>\n",
       "  </thead>\n",
       "  <tbody>\n",
       "    <tr>\n",
       "      <th>0</th>\n",
       "      <td>1분내인내심</td>\n",
       "      <td>2024-12-16T11:50:08+09:00</td>\n",
       "      <td>또 사줄께 내려와ㅋㅋㅋ</td>\n",
       "      <td>000660</td>\n",
       "      <td>['또']</td>\n",
       "      <td>[]</td>\n",
       "      <td>[]</td>\n",
       "      <td>['사줄께', '내려와']</td>\n",
       "      <td>또</td>\n",
       "      <td>NaN</td>\n",
       "      <td>NaN</td>\n",
       "      <td>사줄께, 내려와</td>\n",
       "      <td>NaN</td>\n",
       "      <td>NaN</td>\n",
       "      <td>사주다,내려오다</td>\n",
       "      <td>-1</td>\n",
       "      <td>KOSPI</td>\n",
       "    </tr>\n",
       "    <tr>\n",
       "      <th>1</th>\n",
       "      <td>전자공학개이</td>\n",
       "      <td>2025-01-08T09:51:18+09:00</td>\n",
       "      <td>상한가 “해줘”</td>\n",
       "      <td>003490</td>\n",
       "      <td>['상한']</td>\n",
       "      <td>[]</td>\n",
       "      <td>[]</td>\n",
       "      <td>['해줘']</td>\n",
       "      <td>상한</td>\n",
       "      <td>NaN</td>\n",
       "      <td>NaN</td>\n",
       "      <td>해줘</td>\n",
       "      <td>NaN</td>\n",
       "      <td>NaN</td>\n",
       "      <td>해주다</td>\n",
       "      <td>0</td>\n",
       "      <td>KOSPI</td>\n",
       "    </tr>\n",
       "  </tbody>\n",
       "</table>\n",
       "</div>"
      ],
      "text/plain": [
       "      닉네임                         날짜            내용      종목   내용_명사 내용_형용사  \\\n",
       "0  1분내인내심  2024-12-16T11:50:08+09:00  또 사줄께 내려와ㅋㅋㅋ  000660   ['또']     []   \n",
       "1  전자공학개이  2025-01-08T09:51:18+09:00      상한가 “해줘”  003490  ['상한']     []   \n",
       "\n",
       "  내용_부사           내용_동사 내용_명사_str 내용_형용사_str 내용_부사_str 내용_동사_str 형용사_어간 부사_어간  \\\n",
       "0    []  ['사줄께', '내려와']         또        NaN       NaN  사줄께, 내려와    NaN   NaN   \n",
       "1    []          ['해줘']        상한        NaN       NaN        해줘    NaN   NaN   \n",
       "\n",
       "      동사_어간  긍정점수     시장  \n",
       "0  사주다,내려오다    -1  KOSPI  \n",
       "1       해주다     0  KOSPI  "
      ]
     },
     "execution_count": 56,
     "metadata": {},
     "output_type": "execute_result"
    }
   ],
   "source": [
    "total_sample.head(2)"
   ]
  },
  {
   "cell_type": "code",
   "execution_count": 59,
   "metadata": {},
   "outputs": [],
   "source": [
    "tqdm.pandas()"
   ]
  },
  {
   "cell_type": "code",
   "execution_count": 60,
   "metadata": {},
   "outputs": [
    {
     "name": "stderr",
     "output_type": "stream",
     "text": [
      "100%|██████████| 3000/3000 [00:00<00:00, 177194.16it/s]\n"
     ]
    }
   ],
   "source": [
    "total_sample['내용2'] = total_sample[['내용_명사_str','형용사_어간','부사_어간','동사_어간']].fillna('').progress_apply(lambda x : ' '.join(x), axis=1)"
   ]
  },
  {
   "cell_type": "code",
   "execution_count": null,
   "metadata": {},
   "outputs": [],
   "source": [
    "total_sample.head()"
   ]
  },
  {
   "cell_type": "code",
   "execution_count": 63,
   "metadata": {},
   "outputs": [],
   "source": [
    "cvect = CountVectorizer(max_features=4000)\n",
    "tvect = TfidfVectorizer(max_features=4000)"
   ]
  },
  {
   "cell_type": "code",
   "execution_count": 64,
   "metadata": {},
   "outputs": [],
   "source": [
    "x_cvect = cvect.fit(total_sample['내용2'])\n",
    "x_tvect = tvect.fit(total_sample['내용2'])"
   ]
  },
  {
   "cell_type": "code",
   "execution_count": 65,
   "metadata": {},
   "outputs": [],
   "source": [
    "x_cvect_dim = x_cvect.transform(total_sample['내용2'])\n",
    "x_tvect_dim = x_tvect.transform(total_sample['내용2'])"
   ]
  },
  {
   "cell_type": "code",
   "execution_count": 66,
   "metadata": {},
   "outputs": [
    {
     "data": {
      "text/plain": [
       "(<3000x4000 sparse matrix of type '<class 'numpy.int64'>'\n",
       " \twith 17588 stored elements in Compressed Sparse Row format>,\n",
       " <3000x4000 sparse matrix of type '<class 'numpy.float64'>'\n",
       " \twith 17588 stored elements in Compressed Sparse Row format>)"
      ]
     },
     "execution_count": 66,
     "metadata": {},
     "output_type": "execute_result"
    }
   ],
   "source": [
    "x_cvect_dim, x_tvect_dim"
   ]
  },
  {
   "cell_type": "code",
   "execution_count": 67,
   "metadata": {},
   "outputs": [
    {
     "data": {
      "text/html": [
       "<div>\n",
       "<style scoped>\n",
       "    .dataframe tbody tr th:only-of-type {\n",
       "        vertical-align: middle;\n",
       "    }\n",
       "\n",
       "    .dataframe tbody tr th {\n",
       "        vertical-align: top;\n",
       "    }\n",
       "\n",
       "    .dataframe thead th {\n",
       "        text-align: right;\n",
       "    }\n",
       "</style>\n",
       "<table border=\"1\" class=\"dataframe\">\n",
       "  <thead>\n",
       "    <tr style=\"text-align: right;\">\n",
       "      <th></th>\n",
       "      <th>가가</th>\n",
       "      <th>가격</th>\n",
       "      <th>가결</th>\n",
       "      <th>가계</th>\n",
       "      <th>가구</th>\n",
       "      <th>가그라</th>\n",
       "      <th>가기</th>\n",
       "      <th>가까워지다</th>\n",
       "      <th>가까이</th>\n",
       "      <th>가깝다</th>\n",
       "      <th>...</th>\n",
       "      <th>히힛</th>\n",
       "      <th>힌국</th>\n",
       "      <th>힘내다</th>\n",
       "      <th>힘내핑</th>\n",
       "      <th>힘드다</th>\n",
       "      <th>힘들다</th>\n",
       "      <th>힘스</th>\n",
       "      <th>힘좀</th>\n",
       "      <th>힘주다</th>\n",
       "      <th>힘차다</th>\n",
       "    </tr>\n",
       "  </thead>\n",
       "  <tbody>\n",
       "    <tr>\n",
       "      <th>0</th>\n",
       "      <td>0</td>\n",
       "      <td>0</td>\n",
       "      <td>0</td>\n",
       "      <td>0</td>\n",
       "      <td>0</td>\n",
       "      <td>0</td>\n",
       "      <td>0</td>\n",
       "      <td>0</td>\n",
       "      <td>0</td>\n",
       "      <td>0</td>\n",
       "      <td>...</td>\n",
       "      <td>0</td>\n",
       "      <td>0</td>\n",
       "      <td>0</td>\n",
       "      <td>0</td>\n",
       "      <td>0</td>\n",
       "      <td>0</td>\n",
       "      <td>0</td>\n",
       "      <td>0</td>\n",
       "      <td>0</td>\n",
       "      <td>0</td>\n",
       "    </tr>\n",
       "    <tr>\n",
       "      <th>1</th>\n",
       "      <td>0</td>\n",
       "      <td>0</td>\n",
       "      <td>0</td>\n",
       "      <td>0</td>\n",
       "      <td>0</td>\n",
       "      <td>0</td>\n",
       "      <td>0</td>\n",
       "      <td>0</td>\n",
       "      <td>0</td>\n",
       "      <td>0</td>\n",
       "      <td>...</td>\n",
       "      <td>0</td>\n",
       "      <td>0</td>\n",
       "      <td>0</td>\n",
       "      <td>0</td>\n",
       "      <td>0</td>\n",
       "      <td>0</td>\n",
       "      <td>0</td>\n",
       "      <td>0</td>\n",
       "      <td>0</td>\n",
       "      <td>0</td>\n",
       "    </tr>\n",
       "  </tbody>\n",
       "</table>\n",
       "<p>2 rows × 4000 columns</p>\n",
       "</div>"
      ],
      "text/plain": [
       "   가가  가격  가결  가계  가구  가그라  가기  가까워지다  가까이  가깝다  ...  히힛  힌국  힘내다  힘내핑  힘드다  \\\n",
       "0   0   0   0   0   0    0   0      0    0    0  ...   0   0    0    0    0   \n",
       "1   0   0   0   0   0    0   0      0    0    0  ...   0   0    0    0    0   \n",
       "\n",
       "   힘들다  힘스  힘좀  힘주다  힘차다  \n",
       "0    0   0   0    0    0  \n",
       "1    0   0   0    0    0  \n",
       "\n",
       "[2 rows x 4000 columns]"
      ]
     },
     "metadata": {},
     "output_type": "display_data"
    },
    {
     "data": {
      "text/html": [
       "<div>\n",
       "<style scoped>\n",
       "    .dataframe tbody tr th:only-of-type {\n",
       "        vertical-align: middle;\n",
       "    }\n",
       "\n",
       "    .dataframe tbody tr th {\n",
       "        vertical-align: top;\n",
       "    }\n",
       "\n",
       "    .dataframe thead th {\n",
       "        text-align: right;\n",
       "    }\n",
       "</style>\n",
       "<table border=\"1\" class=\"dataframe\">\n",
       "  <thead>\n",
       "    <tr style=\"text-align: right;\">\n",
       "      <th></th>\n",
       "      <th>가가</th>\n",
       "      <th>가격</th>\n",
       "      <th>가결</th>\n",
       "      <th>가계</th>\n",
       "      <th>가구</th>\n",
       "      <th>가그라</th>\n",
       "      <th>가기</th>\n",
       "      <th>가까워지다</th>\n",
       "      <th>가까이</th>\n",
       "      <th>가깝다</th>\n",
       "      <th>...</th>\n",
       "      <th>히힛</th>\n",
       "      <th>힌국</th>\n",
       "      <th>힘내다</th>\n",
       "      <th>힘내핑</th>\n",
       "      <th>힘드다</th>\n",
       "      <th>힘들다</th>\n",
       "      <th>힘스</th>\n",
       "      <th>힘좀</th>\n",
       "      <th>힘주다</th>\n",
       "      <th>힘차다</th>\n",
       "    </tr>\n",
       "  </thead>\n",
       "  <tbody>\n",
       "    <tr>\n",
       "      <th>0</th>\n",
       "      <td>0.0</td>\n",
       "      <td>0.0</td>\n",
       "      <td>0.0</td>\n",
       "      <td>0.0</td>\n",
       "      <td>0.0</td>\n",
       "      <td>0.0</td>\n",
       "      <td>0.0</td>\n",
       "      <td>0.0</td>\n",
       "      <td>0.0</td>\n",
       "      <td>0.0</td>\n",
       "      <td>...</td>\n",
       "      <td>0.0</td>\n",
       "      <td>0.0</td>\n",
       "      <td>0.0</td>\n",
       "      <td>0.0</td>\n",
       "      <td>0.0</td>\n",
       "      <td>0.0</td>\n",
       "      <td>0.0</td>\n",
       "      <td>0.0</td>\n",
       "      <td>0.0</td>\n",
       "      <td>0.0</td>\n",
       "    </tr>\n",
       "    <tr>\n",
       "      <th>1</th>\n",
       "      <td>0.0</td>\n",
       "      <td>0.0</td>\n",
       "      <td>0.0</td>\n",
       "      <td>0.0</td>\n",
       "      <td>0.0</td>\n",
       "      <td>0.0</td>\n",
       "      <td>0.0</td>\n",
       "      <td>0.0</td>\n",
       "      <td>0.0</td>\n",
       "      <td>0.0</td>\n",
       "      <td>...</td>\n",
       "      <td>0.0</td>\n",
       "      <td>0.0</td>\n",
       "      <td>0.0</td>\n",
       "      <td>0.0</td>\n",
       "      <td>0.0</td>\n",
       "      <td>0.0</td>\n",
       "      <td>0.0</td>\n",
       "      <td>0.0</td>\n",
       "      <td>0.0</td>\n",
       "      <td>0.0</td>\n",
       "    </tr>\n",
       "  </tbody>\n",
       "</table>\n",
       "<p>2 rows × 4000 columns</p>\n",
       "</div>"
      ],
      "text/plain": [
       "    가가   가격   가결   가계   가구  가그라   가기  가까워지다  가까이  가깝다  ...   히힛   힌국  힘내다  \\\n",
       "0  0.0  0.0  0.0  0.0  0.0  0.0  0.0    0.0  0.0  0.0  ...  0.0  0.0  0.0   \n",
       "1  0.0  0.0  0.0  0.0  0.0  0.0  0.0    0.0  0.0  0.0  ...  0.0  0.0  0.0   \n",
       "\n",
       "   힘내핑  힘드다  힘들다   힘스   힘좀  힘주다  힘차다  \n",
       "0  0.0  0.0  0.0  0.0  0.0  0.0  0.0  \n",
       "1  0.0  0.0  0.0  0.0  0.0  0.0  0.0  \n",
       "\n",
       "[2 rows x 4000 columns]"
      ]
     },
     "metadata": {},
     "output_type": "display_data"
    }
   ],
   "source": [
    "df_x_cvect_dim = pd.DataFrame(x_cvect_dim.toarray(), columns=x_cvect.get_feature_names_out())\n",
    "display(df_x_cvect_dim.head(2))\n",
    "df_x_tvect_dim = pd.DataFrame(x_tvect_dim.toarray(), columns=x_tvect.get_feature_names_out())\n",
    "display(df_x_tvect_dim.head(2))"
   ]
  },
  {
   "cell_type": "code",
   "execution_count": 69,
   "metadata": {},
   "outputs": [],
   "source": [
    "# 토픽수\n",
    "n_components = 3\n",
    "LDA_model = LatentDirichletAllocation(n_components = n_components, random_state=2025)"
   ]
  },
  {
   "cell_type": "code",
   "execution_count": 74,
   "metadata": {},
   "outputs": [],
   "source": [
    "W = LDA_model.fit(x_cvect_dim).transform(x_cvect_dim)"
   ]
  },
  {
   "cell_type": "code",
   "execution_count": 75,
   "metadata": {},
   "outputs": [
    {
     "data": {
      "text/plain": [
       "array([[ 1.33276002, 10.01828567,  0.36309071, ...,  3.33162286,\n",
       "         0.33415702,  2.3427271 ],\n",
       "       [ 0.33413075, 25.20803142,  1.32253938, ...,  0.33425617,\n",
       "         0.33427457,  0.33390879],\n",
       "       [ 1.33310923,  1.77368291,  1.31436992, ...,  0.33412097,\n",
       "         2.33156842,  1.32336411]])"
      ]
     },
     "execution_count": 75,
     "metadata": {},
     "output_type": "execute_result"
    }
   ],
   "source": [
    "# 토픽과 연관된 단어\n",
    "H = LDA_model.components_\n",
    "\n",
    "# 토픽별 분포도 확인\n",
    "H"
   ]
  },
  {
   "cell_type": "code",
   "execution_count": 98,
   "metadata": {},
   "outputs": [],
   "source": [
    "stop_words = ['하다','되다', '보다','이다','있다',\n",
    "              '가다','오다','추다','오늘','어제',\n",
    "              '아니다','계좌','않다','들다','주식',\n",
    "              '들다', '주다','없다','이제','다시',\n",
    "              '많이','받다','같다','진짜','줍다',\n",
    "              '생각','좋다','지금'\n",
    "              ]"
   ]
  },
  {
   "cell_type": "code",
   "execution_count": 99,
   "metadata": {},
   "outputs": [],
   "source": [
    "# CountVectorizer에 불용어 추가\n",
    "cvect = CountVectorizer(max_features=4000, stop_words=stop_words)"
   ]
  },
  {
   "cell_type": "code",
   "execution_count": 100,
   "metadata": {},
   "outputs": [],
   "source": [
    "# 벡터화\n",
    "x_cvect_dim = cvect.fit_transform(total_sample['내용2'])"
   ]
  },
  {
   "cell_type": "code",
   "execution_count": 101,
   "metadata": {},
   "outputs": [],
   "source": [
    "# LDA 모델 재학습\n",
    "# LDA 모델 설정\n",
    "n_components = 3\n",
    "LDA_model = LatentDirichletAllocation(n_components=n_components, random_state=2025)"
   ]
  },
  {
   "cell_type": "code",
   "execution_count": 102,
   "metadata": {},
   "outputs": [],
   "source": [
    "# LDA 모델 학습\n",
    "W = LDA_model.fit(x_cvect_dim).transform(x_cvect_dim)"
   ]
  },
  {
   "cell_type": "code",
   "execution_count": 103,
   "metadata": {},
   "outputs": [],
   "source": [
    "# 토픽과 연관된 단어\n",
    "H = LDA_model.components_"
   ]
  },
  {
   "cell_type": "code",
   "execution_count": 104,
   "metadata": {},
   "outputs": [
    {
     "data": {
      "image/png": "[encoded data removed]",
      "text/plain": [
       "<Figure size 1000x500 with 1 Axes>"
      ]
     },
     "metadata": {},
     "output_type": "display_data"
    },
    {
     "data": {
      "image/png": "[encoded data removed]",
      "text/plain": [
       "<Figure size 1000x500 with 1 Axes>"
      ]
     },
     "metadata": {},
     "output_type": "display_data"
    },
    {
     "data": {
      "image/png": "[encoded data removed]",
      "text/plain": [
       "<Figure size 1000x500 with 1 Axes>"
      ]
     },
     "metadata": {},
     "output_type": "display_data"
    }
   ],
   "source": [
    "\n",
    "n_words = 10  # 각 주제에서 표시할 단어 수\n",
    "# 각 주제별 주요 단어를 시각화\n",
    "for topic_idx in range(n_components):\n",
    "    plt.figure(figsize=(10, 5))\n",
    "    \n",
    "    # 주제의 단어 점수 가져오기\n",
    "    topic_word = H[topic_idx]\n",
    "    \n",
    "    # 상위 n_words 개의 단어 인덱스 가져오기\n",
    "    top_word_indices = topic_word.argsort()[-n_words:][::-1]\n",
    "    \n",
    "    # 주요 단어와 해당 점수 가져오기\n",
    "    top_words = [cvect.get_feature_names_out()[i] for i in top_word_indices]\n",
    "    top_word_scores = topic_word[top_word_indices]\n",
    "    \n",
    "    # 바 차트 그리기\n",
    "    plt.barh(top_words, top_word_scores, color='skyblue')\n",
    "    plt.xlabel('점수')\n",
    "    plt.title(f'주제 {topic_idx + 1}의 주요 단어')\n",
    "    plt.gca().invert_yaxis()  # 상단에서 하단으로 표시\n",
    "    plt.show()"
   ]
  },
  {
   "cell_type": "code",
   "execution_count": null,
   "metadata": {},
   "outputs": [],
   "source": [
    "n = len(df_lda_H_cvect)"
   ]
  }
 ],
 "metadata": {
  "kernelspec": {
   "display_name": "base",
   "language": "python",
   "name": "python3"
  },
  "language_info": {
   "codemirror_mode": {
    "name": "ipython",
    "version": 3
   },
   "file_extension": ".py",
   "mimetype": "text/x-python",
   "name": "python",
   "nbconvert_exporter": "python",
   "pygments_lexer": "ipython3",
   "version": "3.12.7"
  }
 },
 "nbformat": 4,
 "nbformat_minor": 2
}
