{
 "cells": [
  {
   "cell_type": "markdown",
   "metadata": {},
   "source": [
    "업종내 종목 규모를 보여주는 함수\n",
    "\n",
    "이를 통해 해당 업종내 종목의 점유율 및 변동성(수익률)을 계산하여 변화지수를 주도하고 있는 종목 파악\n"
   ]
  },
  {
   "cell_type": "code",
   "execution_count": 1,
   "metadata": {},
   "outputs": [],
   "source": [
    "# 데이터 분석을 위한 패키지\n",
    "import numpy as np\n",
    "import pandas as pd"
   ]
  },
  {
   "cell_type": "code",
   "execution_count": 2,
   "metadata": {},
   "outputs": [],
   "source": [
    "# 시각화 패키지\n",
    "import matplotlib.pyplot as plt\n",
    "import seaborn as sns"
   ]
  },
  {
   "cell_type": "code",
   "execution_count": 3,
   "metadata": {},
   "outputs": [],
   "source": [
    "import FinanceDataReader as fdr"
   ]
  },
  {
   "cell_type": "code",
   "execution_count": 4,
   "metadata": {},
   "outputs": [],
   "source": [
    "import koreanize_matplotlib"
   ]
  },
  {
   "cell_type": "code",
   "execution_count": 5,
   "metadata": {},
   "outputs": [],
   "source": [
    "import datetime\n",
    "from dateutil.relativedelta import relativedelta"
   ]
  },
  {
   "cell_type": "code",
   "execution_count": 12,
   "metadata": {},
   "outputs": [],
   "source": [
    "import plotly.express as px"
   ]
  },
  {
   "cell_type": "code",
   "execution_count": 29,
   "metadata": {},
   "outputs": [],
   "source": [
    "from data_loader import load_sector_data"
   ]
  },
  {
   "cell_type": "code",
   "execution_count": 6,
   "metadata": {},
   "outputs": [],
   "source": [
    "# 모든 컬럼,행을 출력하도록 설정\n",
    "pd.set_option('display.max_columns', None) # None으로 설정하면 모든 컬럼 출력\n",
    "pd.set_option('display.max_rows', None) #None으로 설정하면 모든 행 출력"
   ]
  },
  {
   "cell_type": "code",
   "execution_count": null,
   "metadata": {},
   "outputs": [],
   "source": [
    "# 기존 그래프\n",
    "#   plt.figure(figsize=(10, 20))\n",
    "#   sns.barplot(y='Name', x='Volatility', data=sector_data)\n",
    "#   # 평균 변동성을 기준으로 수평선 추가\n",
    "#   plt.axvline(avg_volatility, color='red', linestyle='--', label=f'평균 변동성: {avg_volatility:.2f}')\n",
    "#   # 평균 변동성 수치 표시\n",
    "#   plt.text(avg_volatility + 0.1, 10, f'평균 변동성 : {avg_volatility:.2f}%', color='red', va='center', fontsize=10)\n",
    "#   plt.title(f'{sector} 업종 내 종목 변동성')\n",
    "#   plt.xlabel('변동성')\n",
    "#   plt.ylabel('종목명')\n",
    "#   plt.show()"
   ]
  },
  {
   "cell_type": "markdown",
   "metadata": {},
   "source": [
    "업종내 종목들의 변동성을 시각화 후 업종별로 정렬\n",
    "hist 혹은 bar 형태?"
   ]
  },
  {
   "cell_type": "code",
   "execution_count": 30,
   "metadata": {},
   "outputs": [],
   "source": [
    "# 특정 업종내 종목별 변동성 시각화\n",
    "def get_volatility_by_stock(sector, market=None) :\n",
    "  '''\n",
    "  특정 업종 내 종목별 변동성을 시각화하고, 해당 업종의 평균 변동성을 출력합니다.\n",
    "\n",
    "  Parameters:\n",
    "  sector (str): 분석할 업종의 이름.\n",
    "\n",
    "  Returns:\n",
    "  None: 이 함수는 그래프를 시각화하고, 평균 변동성 및 관련 데이터를 출력합니다.\n",
    "\n",
    "  Example:\n",
    "  >>> get_volatility_by_stock('IT서비스', 'KOSPI')\n",
    "  '''\n",
    "  # 시장 데이터 로드\n",
    "  df = sector_data = load_sector_data(market)\n",
    "  \n",
    "  sector_data = df[df['Sector'] == sector].sort_values(by='Volatility', ascending=False)\n",
    "  \n",
    "  # 해당 업종의 평균 변동성 계산\n",
    "  avg_volatility = df[df['Sector'] == sector]['Volatility'].mean()\n",
    "  \n",
    "  # Plotly를 사용한 대화형 바 차트 생성\n",
    "  fig = px.bar(sector_data, \n",
    "                    x='Volatility', \n",
    "                    y='Name', \n",
    "                    title=f'{sector} 업종 내 종목 변동성',\n",
    "                    labels={'Volatility': '변동성 (%)', 'Name': '종목명'},\n",
    "                    text='Volatility',\n",
    "                    height=1500)\n",
    "\n",
    "  fig.add_vline(x=avg_volatility, line_dash=\"dash\", line_color=\"red\", \n",
    "                  annotation_text=f'평균 변동성: {avg_volatility:.2f}%', \n",
    "                  annotation_position=\"top right\")\n",
    "\n",
    "  # 그래프 표시\n",
    "  fig.show()\n",
    "  print(f'{sector} 업종의 변동성 평균: {avg_volatility:.2f}%')\n",
    "  # display(sector_data)"
   ]
  },
  {
   "cell_type": "code",
   "execution_count": 31,
   "metadata": {},
   "outputs": [
    {
     "data": {
      "application/vnd.plotly.v1+json": {
       "config": {
        "plotlyServerURL": "https://plot.ly"
       },
       "data": [
        {
         "alignmentgroup": "True",
         "hovertemplate": "변동성 (%)=%{text}<br>종목명=%{y}<extra></extra>",
         "legendgroup": "",
         "marker": {
          "color": "#636efa",
          "pattern": {
           "shape": ""
          }
         },
         "name": "",
         "offsetgroup": "",
         "orientation": "h",
         "showlegend": false,
         "text": [
          9.2,
          7.22,
          5.25,
          3.76,
          3.7,
          2.92,
          2.81,
          2.77,
          2.75,
          2.74,
          2.23,
          2.22,
          1.57
         ],
         "textposition": "auto",
         "type": "bar",
         "x": [
          9.2,
          7.22,
          5.25,
          3.76,
          3.7,
          2.92,
          2.81,
          2.77,
          2.75,
          2.74,
          2.23,
          2.22,
          1.57
         ],
         "xaxis": "x",
         "y": [
          "신세계 I&C",
          "카카오페이",
          "유엔젤",
          "DB",
          "포스코DX",
          "아시아나IDT",
          "롯데이노베이트",
          "미래아이앤지",
          "콤텍시스템",
          "현대오토에버",
          "NHN",
          "삼성에스디에스",
          "NICE"
         ],
         "yaxis": "y"
        }
       ],
       "layout": {
        "annotations": [
         {
          "showarrow": false,
          "text": "평균 변동성: 3.78%",
          "x": 3.7800000000000007,
          "xanchor": "left",
          "xref": "x",
          "y": 1,
          "yanchor": "top",
          "yref": "y domain"
         }
        ],
        "barmode": "relative",
        "height": 1500,
        "legend": {
         "tracegroupgap": 0
        },
        "shapes": [
         {
          "line": {
           "color": "red",
           "dash": "dash"
          },
          "type": "line",
          "x0": 3.7800000000000007,
          "x1": 3.7800000000000007,
          "xref": "x",
          "y0": 0,
          "y1": 1,
          "yref": "y domain"
         }
        ],
        "template": {
         "data": {
          "bar": [
           {
            "error_x": {
             "color": "#2a3f5f"
            },
            "error_y": {
             "color": "#2a3f5f"
            },
            "marker": {
             "line": {
              "color": "white",
              "width": 0.5
             },
             "pattern": {
              "fillmode": "overlay",
              "size": 10,
              "solidity": 0.2
             }
            },
            "type": "bar"
           }
          ],
          "barpolar": [
           {
            "marker": {
             "line": {
              "color": "white",
              "width": 0.5
             },
             "pattern": {
              "fillmode": "overlay",
              "size": 10,
              "solidity": 0.2
             }
            },
            "type": "barpolar"
           }
          ],
          "carpet": [
           {
            "aaxis": {
             "endlinecolor": "#2a3f5f",
             "gridcolor": "#C8D4E3",
             "linecolor": "#C8D4E3",
             "minorgridcolor": "#C8D4E3",
             "startlinecolor": "#2a3f5f"
            },
            "baxis": {
             "endlinecolor": "#2a3f5f",
             "gridcolor": "#C8D4E3",
             "linecolor": "#C8D4E3",
             "minorgridcolor": "#C8D4E3",
             "startlinecolor": "#2a3f5f"
            },
            "type": "carpet"
           }
          ],
          "choropleth": [
           {
            "colorbar": {
             "outlinewidth": 0,
             "ticks": ""
            },
            "type": "choropleth"
           }
          ],
          "contour": [
           {
            "colorbar": {
             "outlinewidth": 0,
             "ticks": ""
            },
            "colorscale": [
             [
              0,
              "#0d0887"
             ],
             [
              0.1111111111111111,
              "#46039f"
             ],
             [
              0.2222222222222222,
              "#7201a8"
             ],
             [
              0.3333333333333333,
              "#9c179e"
             ],
             [
              0.4444444444444444,
              "#bd3786"
             ],
             [
              0.5555555555555556,
              "#d8576b"
             ],
             [
              0.6666666666666666,
              "#ed7953"
             ],
             [
              0.7777777777777778,
              "#fb9f3a"
             ],
             [
              0.8888888888888888,
              "#fdca26"
             ],
             [
              1,
              "#f0f921"
             ]
            ],
            "type": "contour"
           }
          ],
          "contourcarpet": [
           {
            "colorbar": {
             "outlinewidth": 0,
             "ticks": ""
            },
            "type": "contourcarpet"
           }
          ],
          "heatmap": [
           {
            "colorbar": {
             "outlinewidth": 0,
             "ticks": ""
            },
            "colorscale": [
             [
              0,
              "#0d0887"
             ],
             [
              0.1111111111111111,
              "#46039f"
             ],
             [
              0.2222222222222222,
              "#7201a8"
             ],
             [
              0.3333333333333333,
              "#9c179e"
             ],
             [
              0.4444444444444444,
              "#bd3786"
             ],
             [
              0.5555555555555556,
              "#d8576b"
             ],
             [
              0.6666666666666666,
              "#ed7953"
             ],
             [
              0.7777777777777778,
              "#fb9f3a"
             ],
             [
              0.8888888888888888,
              "#fdca26"
             ],
             [
              1,
              "#f0f921"
             ]
            ],
            "type": "heatmap"
           }
          ],
          "heatmapgl": [
           {
            "colorbar": {
             "outlinewidth": 0,
             "ticks": ""
            },
            "colorscale": [
             [
              0,
              "#0d0887"
             ],
             [
              0.1111111111111111,
              "#46039f"
             ],
             [
              0.2222222222222222,
              "#7201a8"
             ],
             [
              0.3333333333333333,
              "#9c179e"
             ],
             [
              0.4444444444444444,
              "#bd3786"
             ],
             [
              0.5555555555555556,
              "#d8576b"
             ],
             [
              0.6666666666666666,
              "#ed7953"
             ],
             [
              0.7777777777777778,
              "#fb9f3a"
             ],
             [
              0.8888888888888888,
              "#fdca26"
             ],
             [
              1,
              "#f0f921"
             ]
            ],
            "type": "heatmapgl"
           }
          ],
          "histogram": [
           {
            "marker": {
             "pattern": {
              "fillmode": "overlay",
              "size": 10,
              "solidity": 0.2
             }
            },
            "type": "histogram"
           }
          ],
          "histogram2d": [
           {
            "colorbar": {
             "outlinewidth": 0,
             "ticks": ""
            },
            "colorscale": [
             [
              0,
              "#0d0887"
             ],
             [
              0.1111111111111111,
              "#46039f"
             ],
             [
              0.2222222222222222,
              "#7201a8"
             ],
             [
              0.3333333333333333,
              "#9c179e"
             ],
             [
              0.4444444444444444,
              "#bd3786"
             ],
             [
              0.5555555555555556,
              "#d8576b"
             ],
             [
              0.6666666666666666,
              "#ed7953"
             ],
             [
              0.7777777777777778,
              "#fb9f3a"
             ],
             [
              0.8888888888888888,
              "#fdca26"
             ],
             [
              1,
              "#f0f921"
             ]
            ],
            "type": "histogram2d"
           }
          ],
          "histogram2dcontour": [
           {
            "colorbar": {
             "outlinewidth": 0,
             "ticks": ""
            },
            "colorscale": [
             [
              0,
              "#0d0887"
             ],
             [
              0.1111111111111111,
              "#46039f"
             ],
             [
              0.2222222222222222,
              "#7201a8"
             ],
             [
              0.3333333333333333,
              "#9c179e"
             ],
             [
              0.4444444444444444,
              "#bd3786"
             ],
             [
              0.5555555555555556,
              "#d8576b"
             ],
             [
              0.6666666666666666,
              "#ed7953"
             ],
             [
              0.7777777777777778,
              "#fb9f3a"
             ],
             [
              0.8888888888888888,
              "#fdca26"
             ],
             [
              1,
              "#f0f921"
             ]
            ],
            "type": "histogram2dcontour"
           }
          ],
          "mesh3d": [
           {
            "colorbar": {
             "outlinewidth": 0,
             "ticks": ""
            },
            "type": "mesh3d"
           }
          ],
          "parcoords": [
           {
            "line": {
             "colorbar": {
              "outlinewidth": 0,
              "ticks": ""
             }
            },
            "type": "parcoords"
           }
          ],
          "pie": [
           {
            "automargin": true,
            "type": "pie"
           }
          ],
          "scatter": [
           {
            "fillpattern": {
             "fillmode": "overlay",
             "size": 10,
             "solidity": 0.2
            },
            "type": "scatter"
           }
          ],
          "scatter3d": [
           {
            "line": {
             "colorbar": {
              "outlinewidth": 0,
              "ticks": ""
             }
            },
            "marker": {
             "colorbar": {
              "outlinewidth": 0,
              "ticks": ""
             }
            },
            "type": "scatter3d"
           }
          ],
          "scattercarpet": [
           {
            "marker": {
             "colorbar": {
              "outlinewidth": 0,
              "ticks": ""
             }
            },
            "type": "scattercarpet"
           }
          ],
          "scattergeo": [
           {
            "marker": {
             "colorbar": {
              "outlinewidth": 0,
              "ticks": ""
             }
            },
            "type": "scattergeo"
           }
          ],
          "scattergl": [
           {
            "marker": {
             "colorbar": {
              "outlinewidth": 0,
              "ticks": ""
             }
            },
            "type": "scattergl"
           }
          ],
          "scattermapbox": [
           {
            "marker": {
             "colorbar": {
              "outlinewidth": 0,
              "ticks": ""
             }
            },
            "type": "scattermapbox"
           }
          ],
          "scatterpolar": [
           {
            "marker": {
             "colorbar": {
              "outlinewidth": 0,
              "ticks": ""
             }
            },
            "type": "scatterpolar"
           }
          ],
          "scatterpolargl": [
           {
            "marker": {
             "colorbar": {
              "outlinewidth": 0,
              "ticks": ""
             }
            },
            "type": "scatterpolargl"
           }
          ],
          "scatterternary": [
           {
            "marker": {
             "colorbar": {
              "outlinewidth": 0,
              "ticks": ""
             }
            },
            "type": "scatterternary"
           }
          ],
          "surface": [
           {
            "colorbar": {
             "outlinewidth": 0,
             "ticks": ""
            },
            "colorscale": [
             [
              0,
              "#0d0887"
             ],
             [
              0.1111111111111111,
              "#46039f"
             ],
             [
              0.2222222222222222,
              "#7201a8"
             ],
             [
              0.3333333333333333,
              "#9c179e"
             ],
             [
              0.4444444444444444,
              "#bd3786"
             ],
             [
              0.5555555555555556,
              "#d8576b"
             ],
             [
              0.6666666666666666,
              "#ed7953"
             ],
             [
              0.7777777777777778,
              "#fb9f3a"
             ],
             [
              0.8888888888888888,
              "#fdca26"
             ],
             [
              1,
              "#f0f921"
             ]
            ],
            "type": "surface"
           }
          ],
          "table": [
           {
            "cells": {
             "fill": {
              "color": "#EBF0F8"
             },
             "line": {
              "color": "white"
             }
            },
            "header": {
             "fill": {
              "color": "#C8D4E3"
             },
             "line": {
              "color": "white"
             }
            },
            "type": "table"
           }
          ]
         },
         "layout": {
          "annotationdefaults": {
           "arrowcolor": "#2a3f5f",
           "arrowhead": 0,
           "arrowwidth": 1
          },
          "autotypenumbers": "strict",
          "coloraxis": {
           "colorbar": {
            "outlinewidth": 0,
            "ticks": ""
           }
          },
          "colorscale": {
           "diverging": [
            [
             0,
             "#8e0152"
            ],
            [
             0.1,
             "#c51b7d"
            ],
            [
             0.2,
             "#de77ae"
            ],
            [
             0.3,
             "#f1b6da"
            ],
            [
             0.4,
             "#fde0ef"
            ],
            [
             0.5,
             "#f7f7f7"
            ],
            [
             0.6,
             "#e6f5d0"
            ],
            [
             0.7,
             "#b8e186"
            ],
            [
             0.8,
             "#7fbc41"
            ],
            [
             0.9,
             "#4d9221"
            ],
            [
             1,
             "#276419"
            ]
           ],
           "sequential": [
            [
             0,
             "#0d0887"
            ],
            [
             0.1111111111111111,
             "#46039f"
            ],
            [
             0.2222222222222222,
             "#7201a8"
            ],
            [
             0.3333333333333333,
             "#9c179e"
            ],
            [
             0.4444444444444444,
             "#bd3786"
            ],
            [
             0.5555555555555556,
             "#d8576b"
            ],
            [
             0.6666666666666666,
             "#ed7953"
            ],
            [
             0.7777777777777778,
             "#fb9f3a"
            ],
            [
             0.8888888888888888,
             "#fdca26"
            ],
            [
             1,
             "#f0f921"
            ]
           ],
           "sequentialminus": [
            [
             0,
             "#0d0887"
            ],
            [
             0.1111111111111111,
             "#46039f"
            ],
            [
             0.2222222222222222,
             "#7201a8"
            ],
            [
             0.3333333333333333,
             "#9c179e"
            ],
            [
             0.4444444444444444,
             "#bd3786"
            ],
            [
             0.5555555555555556,
             "#d8576b"
            ],
            [
             0.6666666666666666,
             "#ed7953"
            ],
            [
             0.7777777777777778,
             "#fb9f3a"
            ],
            [
             0.8888888888888888,
             "#fdca26"
            ],
            [
             1,
             "#f0f921"
            ]
           ]
          },
          "colorway": [
           "#636efa",
           "#EF553B",
           "#00cc96",
           "#ab63fa",
           "#FFA15A",
           "#19d3f3",
           "#FF6692",
           "#B6E880",
           "#FF97FF",
           "#FECB52"
          ],
          "font": {
           "color": "#2a3f5f"
          },
          "geo": {
           "bgcolor": "white",
           "lakecolor": "white",
           "landcolor": "white",
           "showlakes": true,
           "showland": true,
           "subunitcolor": "#C8D4E3"
          },
          "hoverlabel": {
           "align": "left"
          },
          "hovermode": "closest",
          "mapbox": {
           "style": "light"
          },
          "paper_bgcolor": "white",
          "plot_bgcolor": "white",
          "polar": {
           "angularaxis": {
            "gridcolor": "#EBF0F8",
            "linecolor": "#EBF0F8",
            "ticks": ""
           },
           "bgcolor": "white",
           "radialaxis": {
            "gridcolor": "#EBF0F8",
            "linecolor": "#EBF0F8",
            "ticks": ""
           }
          },
          "scene": {
           "xaxis": {
            "backgroundcolor": "white",
            "gridcolor": "#DFE8F3",
            "gridwidth": 2,
            "linecolor": "#EBF0F8",
            "showbackground": true,
            "ticks": "",
            "zerolinecolor": "#EBF0F8"
           },
           "yaxis": {
            "backgroundcolor": "white",
            "gridcolor": "#DFE8F3",
            "gridwidth": 2,
            "linecolor": "#EBF0F8",
            "showbackground": true,
            "ticks": "",
            "zerolinecolor": "#EBF0F8"
           },
           "zaxis": {
            "backgroundcolor": "white",
            "gridcolor": "#DFE8F3",
            "gridwidth": 2,
            "linecolor": "#EBF0F8",
            "showbackground": true,
            "ticks": "",
            "zerolinecolor": "#EBF0F8"
           }
          },
          "shapedefaults": {
           "line": {
            "color": "#2a3f5f"
           }
          },
          "ternary": {
           "aaxis": {
            "gridcolor": "#DFE8F3",
            "linecolor": "#A2B1C6",
            "ticks": ""
           },
           "baxis": {
            "gridcolor": "#DFE8F3",
            "linecolor": "#A2B1C6",
            "ticks": ""
           },
           "bgcolor": "white",
           "caxis": {
            "gridcolor": "#DFE8F3",
            "linecolor": "#A2B1C6",
            "ticks": ""
           }
          },
          "title": {
           "x": 0.05
          },
          "xaxis": {
           "automargin": true,
           "gridcolor": "#EBF0F8",
           "linecolor": "#EBF0F8",
           "ticks": "",
           "title": {
            "standoff": 15
           },
           "zerolinecolor": "#EBF0F8",
           "zerolinewidth": 2
          },
          "yaxis": {
           "automargin": true,
           "gridcolor": "#EBF0F8",
           "linecolor": "#EBF0F8",
           "ticks": "",
           "title": {
            "standoff": 15
           },
           "zerolinecolor": "#EBF0F8",
           "zerolinewidth": 2
          }
         }
        },
        "title": {
         "text": "IT서비스 업종 내 종목 변동성"
        },
        "xaxis": {
         "anchor": "y",
         "domain": [
          0,
          1
         ],
         "title": {
          "text": "변동성 (%)"
         }
        },
        "yaxis": {
         "anchor": "x",
         "domain": [
          0,
          1
         ],
         "title": {
          "text": "종목명"
         }
        }
       }
      }
     },
     "metadata": {},
     "output_type": "display_data"
    },
    {
     "name": "stdout",
     "output_type": "stream",
     "text": [
      "IT서비스 업종의 변동성 평균: 3.78%\n"
     ]
    }
   ],
   "source": [
    "get_volatility_by_stock('IT서비스', market='KOSPI')"
   ]
  },
  {
   "cell_type": "code",
   "execution_count": 27,
   "metadata": {},
   "outputs": [
    {
     "data": {
      "application/vnd.plotly.v1+json": {
       "config": {
        "plotlyServerURL": "https://plot.ly"
       },
       "data": [
        {
         "alignmentgroup": "True",
         "hovertemplate": "변동성 (%)=%{text}<br>종목명=%{y}<extra></extra>",
         "legendgroup": "",
         "marker": {
          "color": "#636efa",
          "pattern": {
           "shape": ""
          }
         },
         "name": "",
         "offsetgroup": "",
         "orientation": "h",
         "showlegend": false,
         "text": [
          1.83,
          1.66,
          1.39,
          1.29,
          1.15,
          1.13,
          1.07,
          1.03,
          1.02,
          0.93,
          0.89,
          0.85,
          0.84,
          0.82,
          0.82,
          0.82,
          0.8,
          0.77,
          0.74,
          0.71,
          0.7,
          0.7,
          0.7,
          0.68,
          0.67,
          0.66,
          0.62,
          0.61,
          0.61,
          0.61,
          0.57,
          0.55,
          0.54,
          0.54,
          0.52,
          0.51,
          0.51,
          0.49,
          0.49,
          0.48,
          0.47,
          0.47,
          0.47,
          0.47,
          0.46,
          0.46,
          0.46,
          0.46,
          0.45,
          0.44,
          0.43,
          0.42,
          0.42,
          0.41,
          0.4,
          0.4,
          0.39,
          0.39,
          0.39,
          0.39,
          0.39,
          0.38,
          0.38,
          0.36,
          0.36,
          0.36,
          0.36,
          0.33,
          0.32,
          0.32,
          0.32,
          0.31,
          0.29,
          0.29,
          0.27,
          0.26,
          0.26,
          0.26,
          0.25,
          0.25,
          0.24,
          0.2,
          0.16,
          0.15,
          0.15,
          0.14,
          0.14,
          0.14,
          0.12,
          0.12,
          0.11,
          0.11,
          0.11,
          0.1,
          0.09,
          0.09,
          0.08,
          0.07,
          0.07,
          0.06,
          0.06,
          0.06,
          0.05,
          0.05,
          0.05,
          0.04,
          0.04,
          0.04,
          0.04,
          0.04,
          0.04,
          0.04,
          0.03,
          0.03,
          0.02,
          0.02,
          0.02,
          0.02,
          0.02,
          0.02,
          0.02,
          0.02,
          0.02,
          0.02,
          0.02,
          0.02,
          0.02,
          0.02,
          0.02,
          0.01,
          0.01,
          0.01,
          0.01,
          0.01,
          0.01,
          0.01,
          0.01,
          0.01,
          0.01,
          0.01,
          0.01,
          0.01,
          0.01,
          0.01,
          0.01,
          0.01,
          0.01,
          0.01,
          0.01,
          0.01,
          0.01,
          0.01,
          0.01,
          0.01,
          0.01,
          0.01,
          0.01,
          0.01,
          0.01,
          0.01,
          0.01
         ],
         "textposition": "auto",
         "type": "bar",
         "x": [
          1.83,
          1.66,
          1.39,
          1.29,
          1.15,
          1.13,
          1.07,
          1.03,
          1.02,
          0.93,
          0.89,
          0.85,
          0.84,
          0.82,
          0.82,
          0.82,
          0.8,
          0.77,
          0.74,
          0.71,
          0.7,
          0.7,
          0.7,
          0.68,
          0.67,
          0.66,
          0.62,
          0.61,
          0.61,
          0.61,
          0.57,
          0.55,
          0.54,
          0.54,
          0.52,
          0.51,
          0.51,
          0.49,
          0.49,
          0.48,
          0.47,
          0.47,
          0.47,
          0.47,
          0.46,
          0.46,
          0.46,
          0.46,
          0.45,
          0.44,
          0.43,
          0.42,
          0.42,
          0.41,
          0.4,
          0.4,
          0.39,
          0.39,
          0.39,
          0.39,
          0.39,
          0.38,
          0.38,
          0.36,
          0.36,
          0.36,
          0.36,
          0.33,
          0.32,
          0.32,
          0.32,
          0.31,
          0.29,
          0.29,
          0.27,
          0.26,
          0.26,
          0.26,
          0.25,
          0.25,
          0.24,
          0.2,
          0.16,
          0.15,
          0.15,
          0.14,
          0.14,
          0.14,
          0.12,
          0.12,
          0.11,
          0.11,
          0.11,
          0.1,
          0.09,
          0.09,
          0.08,
          0.07,
          0.07,
          0.06,
          0.06,
          0.06,
          0.05,
          0.05,
          0.05,
          0.04,
          0.04,
          0.04,
          0.04,
          0.04,
          0.04,
          0.04,
          0.03,
          0.03,
          0.02,
          0.02,
          0.02,
          0.02,
          0.02,
          0.02,
          0.02,
          0.02,
          0.02,
          0.02,
          0.02,
          0.02,
          0.02,
          0.02,
          0.02,
          0.01,
          0.01,
          0.01,
          0.01,
          0.01,
          0.01,
          0.01,
          0.01,
          0.01,
          0.01,
          0.01,
          0.01,
          0.01,
          0.01,
          0.01,
          0.01,
          0.01,
          0.01,
          0.01,
          0.01,
          0.01,
          0.01,
          0.01,
          0.01,
          0.01,
          0.01,
          0.01,
          0.01,
          0.01,
          0.01,
          0.01,
          0.01
         ],
         "xaxis": "x",
         "y": [
          "PLUS 미국단기회사채(AAA~A)",
          "RISE 국채30년레버리지(합성)",
          "ACE 미국30년국채선물레버리지(합성 H)",
          "TIGER 국고채30년스트립액티브",
          "TIGER 미국30년국채스트립액티브(합성 H)",
          "RISE KIS국고채30년Enhanced",
          "RISE 미국30년국채엔화노출(합성 H)",
          "ACE 미국30년국채엔화노출액티브(H)",
          "RISE 미국장기국채선물레버리지(합성 H)",
          "RISE 미국30년국채액티브",
          "KOSEF 국고채10년레버리지",
          "PLUS 국고채30년액티브",
          "히어로즈 국고채30년액티브",
          "KODEX 국고채30년액티브",
          "ACE 미국30년국채액티브",
          "KODEX 53-09 국고채액티브",
          "PLUS 미국채30년액티브",
          "KODEX 미국30년국채울트라선물인버스(H)",
          "SOL 미국30년국채액티브(H)",
          "KODEX 미국30년국채액티브(H)",
          "ACE 미국30년국채액티브(H)",
          "KODEX 미국30년국채타겟커버드콜(합성 H)",
          "TIGER 미국30년국채커버드콜액티브(H)",
          "KODEX 미국30년국채울트라선물(H)",
          "SOL 국고채30년액티브",
          "RISE 미국장기국채선물인버스(H)",
          "PLUS 미국장기우량회사채",
          "HANARO KAP초장기국고채",
          "KODEX iShares미국하이일드액티브",
          "RISE 미국30년국채커버드콜(합성)",
          "RISE 미국장기국채선물(H)",
          "RISE 국채선물10년인버스",
          "PLUS 일본엔화초단기국채(합성)",
          "KODEX iShares미국투자등급회사채액티브",
          "RISE 국채선물10년",
          "KODEX 미국10년국채선물",
          "RISE 미국달러SOFR금리액티브(합성)",
          "TIGER 미국달러단기채권액티브",
          "TIGER 미국채10년선물",
          "SOL 미국30년국채커버드콜(합성)",
          "히어로즈 25-09 미국채권(AA-이상)액티브",
          "ACE 미국달러단기채권액티브",
          "KODEX iShares미국인플레이션국채액티브",
          "TIGER 미국달러SOFR금리액티브(합성)",
          "KODEX 200미국채혼합",
          "KODEX 미국달러SOFR금리액티브(합성)",
          "KODEX 장기종합채권(AA-이상)액티브",
          "히어로즈 미국달러SOFR금리액티브(합성)",
          "PLUS 미국달러SOFR금리액티브(합성)",
          "RISE KP달러채권액티브",
          "RISE 미국단기투자등급회사채액티브",
          "KODEX 아시아달러채권ESG플러스액티브",
          "PLUS 국고채10년액티브",
          "TIGER 단기선진하이일드(합성 H)",
          "KODEX 국채선물10년",
          "RISE 국채선물3년",
          "ACE 국고채10년",
          "KOSEF 국고채10년",
          "RISE 국고채10년액티브",
          "PLUS 국채선물10년",
          "KODEX 국고채10년액티브",
          "RISE 국채선물5년추종인버스",
          "TIGER 미국투자등급회사채액티브(H)",
          "KODEX 국채선물10년인버스",
          "RISE 국채선물5년추종",
          "HANARO 32-10 국고채액티브",
          "SOL 국고채10년",
          "KODEX 33-06 국고채액티브",
          "WON 대한민국국고채액티브",
          "PLUS 종합채권(AA-이상)액티브",
          "ACE 미국하이일드액티브(H)",
          "파워 종합채권(AA-이상)액티브",
          "HANARO 종합채권(AA-이상)액티브",
          "KODEX 종합채권(AA-이상)액티브",
          "ACE 종합채권(AA-이상)KIS액티브",
          "히어로즈 종합채권(AA-이상)액티브",
          "KODEX 미국종합채권ESG액티브(H)",
          "TIGER 중장기국채",
          "TIGER 종합채권(AA-이상)액티브",
          "SOL 종합채권(AA-이상)액티브",
          "RISE 종합채권(A-이상)액티브",
          "HK 종합채권(AA-이상)액티브",
          "RISE 중장기국공채액티브",
          "KODEX ESG종합채권(A-이상)액티브",
          "SOL 국고채3년",
          "KODEX 국고채3년",
          "TIGER 투자등급회사채액티브",
          "RISE 국고채3년",
          "TIGER 국채3년",
          "KOSEF 국고채3년",
          "ACE 중장기국공채액티브",
          "ACE 국고채3년",
          "PLUS 국채선물3년",
          "RISE 금융채액티브",
          "KODEX 국채선물3년인버스",
          "RISE 중기우량회사채",
          "TIGER 27-04회사채(A+이상)액티브",
          "HANARO 25-12 은행채(AA+이상)액티브",
          "KODEX 26-12 회사채(AA-이상)액티브",
          "ACE 26-06 회사채(AA-이상)액티브",
          "ACE 2월만기자동연장회사채AA-이상액티브",
          "ACE 25-06 회사채(AA-이상)액티브",
          "마이티 26-09 특수채(AAA)액티브",
          "KODEX 25-11 회사채(A+이상)액티브",
          "SOL 26-12 회사채(AA-이상)액티브",
          "히어로즈 26-09 회사채(AA-이상)액티브",
          "히어로즈 단기채권ESG액티브",
          "KODEX 25-11 은행채(AA-이상)PLUS액티브",
          "PLUS 우량회사채50",
          "ACE 8월만기자동연장회사채AA-이상액티브",
          "ACE 11월만기자동연장회사채AA-이상액티브",
          "ACE 5월만기자동연장회사채AA-이상액티브",
          "BNK 26-06 특수채(AAA이상)액티브",
          "RISE 25-11 회사채(AA-이상)액티브",
          "KODEX 단기채권",
          "RISE 25-03 회사채(AA-이상)액티브",
          "WON 전단채플러스액티브",
          "TIGER 25-12 금융채(AA-이상)",
          "WON 25-09 회사채(AA-이상)액티브",
          "PLUS 국공채머니마켓액티브",
          "1Q 25-08 회사채(A+이상)액티브",
          "ACE 단기채권알파액티브",
          "PLUS 단기채권액티브",
          "RISE 머니마켓액티브",
          "KOSEF 통안채1년",
          "히어로즈 25-09 회사채(AA-이상)액티브",
          "WON 단기국공채액티브",
          "TIGER 25-10 회사채(A+이상)액티브",
          "RISE 25-06 은행채(AA+이상)액티브",
          "1Q CD금리액티브(합성)",
          "KODEX KOFR금리액티브(합성)",
          "KODEX 25-12 은행채(AAA)액티브",
          "TIGER 단기통안채",
          "RISE CD금리액티브(합성)",
          "KODEX 단기채권PLUS",
          "KODEX CD1년금리플러스액티브(합성)",
          "HANARO 단기채권액티브",
          "RISE 단기통안채",
          "SOL 초단기채권액티브",
          "TIGER 단기채권액티브",
          "TIGER KOFR금리액티브(합성)",
          "RISE 단기종합채권(AA-이상)액티브",
          "HANARO KOFR금리액티브(합성)",
          "KODEX 단기변동금리부채권액티브",
          "HANARO 머니마켓액티브",
          "TIGER CD금리투자KIS(합성)",
          "KOSEF 단기자금",
          "SOL CD금리&머니마켓액티브",
          "SOL 25-09 회사채(AA-이상)액티브",
          "SOL 머니마켓액티브",
          "ACE 단기통안채",
          "RISE 단기국공채액티브",
          "1Q 머니마켓액티브",
          "1Q 단기금융채액티브",
          "SOL KIS단기통안채",
          "RISE KOFR금리액티브(합성)",
          "ACE CD금리&초단기채권액티브",
          "PLUS 머니마켓액티브",
          "히어로즈 머니마켓액티브",
          "HANARO CD금리액티브(합성)",
          "KODEX CD금리액티브(합성)"
         ],
         "yaxis": "y"
        }
       ],
       "layout": {
        "annotations": [
         {
          "showarrow": false,
          "text": "평균 변동성: 0.32%",
          "x": 0.316583850931677,
          "xanchor": "left",
          "xref": "x",
          "y": 1,
          "yanchor": "top",
          "yref": "y domain"
         }
        ],
        "barmode": "relative",
        "height": 1500,
        "legend": {
         "tracegroupgap": 0
        },
        "shapes": [
         {
          "line": {
           "color": "red",
           "dash": "dash"
          },
          "type": "line",
          "x0": 0.316583850931677,
          "x1": 0.316583850931677,
          "xref": "x",
          "y0": 0,
          "y1": 1,
          "yref": "y domain"
         }
        ],
        "template": {
         "data": {
          "bar": [
           {
            "error_x": {
             "color": "#2a3f5f"
            },
            "error_y": {
             "color": "#2a3f5f"
            },
            "marker": {
             "line": {
              "color": "white",
              "width": 0.5
             },
             "pattern": {
              "fillmode": "overlay",
              "size": 10,
              "solidity": 0.2
             }
            },
            "type": "bar"
           }
          ],
          "barpolar": [
           {
            "marker": {
             "line": {
              "color": "white",
              "width": 0.5
             },
             "pattern": {
              "fillmode": "overlay",
              "size": 10,
              "solidity": 0.2
             }
            },
            "type": "barpolar"
           }
          ],
          "carpet": [
           {
            "aaxis": {
             "endlinecolor": "#2a3f5f",
             "gridcolor": "#C8D4E3",
             "linecolor": "#C8D4E3",
             "minorgridcolor": "#C8D4E3",
             "startlinecolor": "#2a3f5f"
            },
            "baxis": {
             "endlinecolor": "#2a3f5f",
             "gridcolor": "#C8D4E3",
             "linecolor": "#C8D4E3",
             "minorgridcolor": "#C8D4E3",
             "startlinecolor": "#2a3f5f"
            },
            "type": "carpet"
           }
          ],
          "choropleth": [
           {
            "colorbar": {
             "outlinewidth": 0,
             "ticks": ""
            },
            "type": "choropleth"
           }
          ],
          "contour": [
           {
            "colorbar": {
             "outlinewidth": 0,
             "ticks": ""
            },
            "colorscale": [
             [
              0,
              "#0d0887"
             ],
             [
              0.1111111111111111,
              "#46039f"
             ],
             [
              0.2222222222222222,
              "#7201a8"
             ],
             [
              0.3333333333333333,
              "#9c179e"
             ],
             [
              0.4444444444444444,
              "#bd3786"
             ],
             [
              0.5555555555555556,
              "#d8576b"
             ],
             [
              0.6666666666666666,
              "#ed7953"
             ],
             [
              0.7777777777777778,
              "#fb9f3a"
             ],
             [
              0.8888888888888888,
              "#fdca26"
             ],
             [
              1,
              "#f0f921"
             ]
            ],
            "type": "contour"
           }
          ],
          "contourcarpet": [
           {
            "colorbar": {
             "outlinewidth": 0,
             "ticks": ""
            },
            "type": "contourcarpet"
           }
          ],
          "heatmap": [
           {
            "colorbar": {
             "outlinewidth": 0,
             "ticks": ""
            },
            "colorscale": [
             [
              0,
              "#0d0887"
             ],
             [
              0.1111111111111111,
              "#46039f"
             ],
             [
              0.2222222222222222,
              "#7201a8"
             ],
             [
              0.3333333333333333,
              "#9c179e"
             ],
             [
              0.4444444444444444,
              "#bd3786"
             ],
             [
              0.5555555555555556,
              "#d8576b"
             ],
             [
              0.6666666666666666,
              "#ed7953"
             ],
             [
              0.7777777777777778,
              "#fb9f3a"
             ],
             [
              0.8888888888888888,
              "#fdca26"
             ],
             [
              1,
              "#f0f921"
             ]
            ],
            "type": "heatmap"
           }
          ],
          "heatmapgl": [
           {
            "colorbar": {
             "outlinewidth": 0,
             "ticks": ""
            },
            "colorscale": [
             [
              0,
              "#0d0887"
             ],
             [
              0.1111111111111111,
              "#46039f"
             ],
             [
              0.2222222222222222,
              "#7201a8"
             ],
             [
              0.3333333333333333,
              "#9c179e"
             ],
             [
              0.4444444444444444,
              "#bd3786"
             ],
             [
              0.5555555555555556,
              "#d8576b"
             ],
             [
              0.6666666666666666,
              "#ed7953"
             ],
             [
              0.7777777777777778,
              "#fb9f3a"
             ],
             [
              0.8888888888888888,
              "#fdca26"
             ],
             [
              1,
              "#f0f921"
             ]
            ],
            "type": "heatmapgl"
           }
          ],
          "histogram": [
           {
            "marker": {
             "pattern": {
              "fillmode": "overlay",
              "size": 10,
              "solidity": 0.2
             }
            },
            "type": "histogram"
           }
          ],
          "histogram2d": [
           {
            "colorbar": {
             "outlinewidth": 0,
             "ticks": ""
            },
            "colorscale": [
             [
              0,
              "#0d0887"
             ],
             [
              0.1111111111111111,
              "#46039f"
             ],
             [
              0.2222222222222222,
              "#7201a8"
             ],
             [
              0.3333333333333333,
              "#9c179e"
             ],
             [
              0.4444444444444444,
              "#bd3786"
             ],
             [
              0.5555555555555556,
              "#d8576b"
             ],
             [
              0.6666666666666666,
              "#ed7953"
             ],
             [
              0.7777777777777778,
              "#fb9f3a"
             ],
             [
              0.8888888888888888,
              "#fdca26"
             ],
             [
              1,
              "#f0f921"
             ]
            ],
            "type": "histogram2d"
           }
          ],
          "histogram2dcontour": [
           {
            "colorbar": {
             "outlinewidth": 0,
             "ticks": ""
            },
            "colorscale": [
             [
              0,
              "#0d0887"
             ],
             [
              0.1111111111111111,
              "#46039f"
             ],
             [
              0.2222222222222222,
              "#7201a8"
             ],
             [
              0.3333333333333333,
              "#9c179e"
             ],
             [
              0.4444444444444444,
              "#bd3786"
             ],
             [
              0.5555555555555556,
              "#d8576b"
             ],
             [
              0.6666666666666666,
              "#ed7953"
             ],
             [
              0.7777777777777778,
              "#fb9f3a"
             ],
             [
              0.8888888888888888,
              "#fdca26"
             ],
             [
              1,
              "#f0f921"
             ]
            ],
            "type": "histogram2dcontour"
           }
          ],
          "mesh3d": [
           {
            "colorbar": {
             "outlinewidth": 0,
             "ticks": ""
            },
            "type": "mesh3d"
           }
          ],
          "parcoords": [
           {
            "line": {
             "colorbar": {
              "outlinewidth": 0,
              "ticks": ""
             }
            },
            "type": "parcoords"
           }
          ],
          "pie": [
           {
            "automargin": true,
            "type": "pie"
           }
          ],
          "scatter": [
           {
            "fillpattern": {
             "fillmode": "overlay",
             "size": 10,
             "solidity": 0.2
            },
            "type": "scatter"
           }
          ],
          "scatter3d": [
           {
            "line": {
             "colorbar": {
              "outlinewidth": 0,
              "ticks": ""
             }
            },
            "marker": {
             "colorbar": {
              "outlinewidth": 0,
              "ticks": ""
             }
            },
            "type": "scatter3d"
           }
          ],
          "scattercarpet": [
           {
            "marker": {
             "colorbar": {
              "outlinewidth": 0,
              "ticks": ""
             }
            },
            "type": "scattercarpet"
           }
          ],
          "scattergeo": [
           {
            "marker": {
             "colorbar": {
              "outlinewidth": 0,
              "ticks": ""
             }
            },
            "type": "scattergeo"
           }
          ],
          "scattergl": [
           {
            "marker": {
             "colorbar": {
              "outlinewidth": 0,
              "ticks": ""
             }
            },
            "type": "scattergl"
           }
          ],
          "scattermapbox": [
           {
            "marker": {
             "colorbar": {
              "outlinewidth": 0,
              "ticks": ""
             }
            },
            "type": "scattermapbox"
           }
          ],
          "scatterpolar": [
           {
            "marker": {
             "colorbar": {
              "outlinewidth": 0,
              "ticks": ""
             }
            },
            "type": "scatterpolar"
           }
          ],
          "scatterpolargl": [
           {
            "marker": {
             "colorbar": {
              "outlinewidth": 0,
              "ticks": ""
             }
            },
            "type": "scatterpolargl"
           }
          ],
          "scatterternary": [
           {
            "marker": {
             "colorbar": {
              "outlinewidth": 0,
              "ticks": ""
             }
            },
            "type": "scatterternary"
           }
          ],
          "surface": [
           {
            "colorbar": {
             "outlinewidth": 0,
             "ticks": ""
            },
            "colorscale": [
             [
              0,
              "#0d0887"
             ],
             [
              0.1111111111111111,
              "#46039f"
             ],
             [
              0.2222222222222222,
              "#7201a8"
             ],
             [
              0.3333333333333333,
              "#9c179e"
             ],
             [
              0.4444444444444444,
              "#bd3786"
             ],
             [
              0.5555555555555556,
              "#d8576b"
             ],
             [
              0.6666666666666666,
              "#ed7953"
             ],
             [
              0.7777777777777778,
              "#fb9f3a"
             ],
             [
              0.8888888888888888,
              "#fdca26"
             ],
             [
              1,
              "#f0f921"
             ]
            ],
            "type": "surface"
           }
          ],
          "table": [
           {
            "cells": {
             "fill": {
              "color": "#EBF0F8"
             },
             "line": {
              "color": "white"
             }
            },
            "header": {
             "fill": {
              "color": "#C8D4E3"
             },
             "line": {
              "color": "white"
             }
            },
            "type": "table"
           }
          ]
         },
         "layout": {
          "annotationdefaults": {
           "arrowcolor": "#2a3f5f",
           "arrowhead": 0,
           "arrowwidth": 1
          },
          "autotypenumbers": "strict",
          "coloraxis": {
           "colorbar": {
            "outlinewidth": 0,
            "ticks": ""
           }
          },
          "colorscale": {
           "diverging": [
            [
             0,
             "#8e0152"
            ],
            [
             0.1,
             "#c51b7d"
            ],
            [
             0.2,
             "#de77ae"
            ],
            [
             0.3,
             "#f1b6da"
            ],
            [
             0.4,
             "#fde0ef"
            ],
            [
             0.5,
             "#f7f7f7"
            ],
            [
             0.6,
             "#e6f5d0"
            ],
            [
             0.7,
             "#b8e186"
            ],
            [
             0.8,
             "#7fbc41"
            ],
            [
             0.9,
             "#4d9221"
            ],
            [
             1,
             "#276419"
            ]
           ],
           "sequential": [
            [
             0,
             "#0d0887"
            ],
            [
             0.1111111111111111,
             "#46039f"
            ],
            [
             0.2222222222222222,
             "#7201a8"
            ],
            [
             0.3333333333333333,
             "#9c179e"
            ],
            [
             0.4444444444444444,
             "#bd3786"
            ],
            [
             0.5555555555555556,
             "#d8576b"
            ],
            [
             0.6666666666666666,
             "#ed7953"
            ],
            [
             0.7777777777777778,
             "#fb9f3a"
            ],
            [
             0.8888888888888888,
             "#fdca26"
            ],
            [
             1,
             "#f0f921"
            ]
           ],
           "sequentialminus": [
            [
             0,
             "#0d0887"
            ],
            [
             0.1111111111111111,
             "#46039f"
            ],
            [
             0.2222222222222222,
             "#7201a8"
            ],
            [
             0.3333333333333333,
             "#9c179e"
            ],
            [
             0.4444444444444444,
             "#bd3786"
            ],
            [
             0.5555555555555556,
             "#d8576b"
            ],
            [
             0.6666666666666666,
             "#ed7953"
            ],
            [
             0.7777777777777778,
             "#fb9f3a"
            ],
            [
             0.8888888888888888,
             "#fdca26"
            ],
            [
             1,
             "#f0f921"
            ]
           ]
          },
          "colorway": [
           "#636efa",
           "#EF553B",
           "#00cc96",
           "#ab63fa",
           "#FFA15A",
           "#19d3f3",
           "#FF6692",
           "#B6E880",
           "#FF97FF",
           "#FECB52"
          ],
          "font": {
           "color": "#2a3f5f"
          },
          "geo": {
           "bgcolor": "white",
           "lakecolor": "white",
           "landcolor": "white",
           "showlakes": true,
           "showland": true,
           "subunitcolor": "#C8D4E3"
          },
          "hoverlabel": {
           "align": "left"
          },
          "hovermode": "closest",
          "mapbox": {
           "style": "light"
          },
          "paper_bgcolor": "white",
          "plot_bgcolor": "white",
          "polar": {
           "angularaxis": {
            "gridcolor": "#EBF0F8",
            "linecolor": "#EBF0F8",
            "ticks": ""
           },
           "bgcolor": "white",
           "radialaxis": {
            "gridcolor": "#EBF0F8",
            "linecolor": "#EBF0F8",
            "ticks": ""
           }
          },
          "scene": {
           "xaxis": {
            "backgroundcolor": "white",
            "gridcolor": "#DFE8F3",
            "gridwidth": 2,
            "linecolor": "#EBF0F8",
            "showbackground": true,
            "ticks": "",
            "zerolinecolor": "#EBF0F8"
           },
           "yaxis": {
            "backgroundcolor": "white",
            "gridcolor": "#DFE8F3",
            "gridwidth": 2,
            "linecolor": "#EBF0F8",
            "showbackground": true,
            "ticks": "",
            "zerolinecolor": "#EBF0F8"
           },
           "zaxis": {
            "backgroundcolor": "white",
            "gridcolor": "#DFE8F3",
            "gridwidth": 2,
            "linecolor": "#EBF0F8",
            "showbackground": true,
            "ticks": "",
            "zerolinecolor": "#EBF0F8"
           }
          },
          "shapedefaults": {
           "line": {
            "color": "#2a3f5f"
           }
          },
          "ternary": {
           "aaxis": {
            "gridcolor": "#DFE8F3",
            "linecolor": "#A2B1C6",
            "ticks": ""
           },
           "baxis": {
            "gridcolor": "#DFE8F3",
            "linecolor": "#A2B1C6",
            "ticks": ""
           },
           "bgcolor": "white",
           "caxis": {
            "gridcolor": "#DFE8F3",
            "linecolor": "#A2B1C6",
            "ticks": ""
           }
          },
          "title": {
           "x": 0.05
          },
          "xaxis": {
           "automargin": true,
           "gridcolor": "#EBF0F8",
           "linecolor": "#EBF0F8",
           "ticks": "",
           "title": {
            "standoff": 15
           },
           "zerolinecolor": "#EBF0F8",
           "zerolinewidth": 2
          },
          "yaxis": {
           "automargin": true,
           "gridcolor": "#EBF0F8",
           "linecolor": "#EBF0F8",
           "ticks": "",
           "title": {
            "standoff": 15
           },
           "zerolinecolor": "#EBF0F8",
           "zerolinewidth": 2
          }
         }
        },
        "title": {
         "text": "채권 업종 내 종목 변동성"
        },
        "xaxis": {
         "anchor": "y",
         "domain": [
          0,
          1
         ],
         "title": {
          "text": "변동성 (%)"
         }
        },
        "yaxis": {
         "anchor": "x",
         "domain": [
          0,
          1
         ],
         "title": {
          "text": "종목명"
         }
        }
       }
      }
     },
     "metadata": {},
     "output_type": "display_data"
    },
    {
     "name": "stdout",
     "output_type": "stream",
     "text": [
      "채권 업종의 변동성 평균: 0.32%\n"
     ]
    },
    {
     "data": {
      "text/html": [
       "<div>\n",
       "<style scoped>\n",
       "    .dataframe tbody tr th:only-of-type {\n",
       "        vertical-align: middle;\n",
       "    }\n",
       "\n",
       "    .dataframe tbody tr th {\n",
       "        vertical-align: top;\n",
       "    }\n",
       "\n",
       "    .dataframe thead th {\n",
       "        text-align: right;\n",
       "    }\n",
       "</style>\n",
       "<table border=\"1\" class=\"dataframe\">\n",
       "  <thead>\n",
       "    <tr style=\"text-align: right;\">\n",
       "      <th></th>\n",
       "      <th>Code</th>\n",
       "      <th>Name</th>\n",
       "      <th>Volatility</th>\n",
       "      <th>TotalReturn</th>\n",
       "      <th>AvgReturn</th>\n",
       "      <th>Sector</th>\n",
       "      <th>Volume</th>\n",
       "      <th>Amount</th>\n",
       "      <th>Marcap</th>\n",
       "    </tr>\n",
       "  </thead>\n",
       "  <tbody>\n",
       "    <tr>\n",
       "      <th>436</th>\n",
       "      <td>332610</td>\n",
       "      <td>PLUS 미국단기회사채(AAA~A)</td>\n",
       "      <td>1.83</td>\n",
       "      <td>4.62</td>\n",
       "      <td>0.242622</td>\n",
       "      <td>채권</td>\n",
       "      <td>3043</td>\n",
       "      <td>401</td>\n",
       "      <td>297</td>\n",
       "    </tr>\n",
       "    <tr>\n",
       "      <th>610</th>\n",
       "      <td>451670</td>\n",
       "      <td>RISE 국채30년레버리지(합성)</td>\n",
       "      <td>1.66</td>\n",
       "      <td>-4.53</td>\n",
       "      <td>-0.214495</td>\n",
       "      <td>채권</td>\n",
       "      <td>2457</td>\n",
       "      <td>60</td>\n",
       "      <td>126</td>\n",
       "    </tr>\n",
       "    <tr>\n",
       "      <th>278</th>\n",
       "      <td>452250</td>\n",
       "      <td>ACE 미국30년국채선물레버리지(합성 H)</td>\n",
       "      <td>1.39</td>\n",
       "      <td>-12.97</td>\n",
       "      <td>-0.655559</td>\n",
       "      <td>채권</td>\n",
       "      <td>112476</td>\n",
       "      <td>627</td>\n",
       "      <td>807</td>\n",
       "    </tr>\n",
       "    <tr>\n",
       "      <th>190</th>\n",
       "      <td>451530</td>\n",
       "      <td>TIGER 국고채30년스트립액티브</td>\n",
       "      <td>1.29</td>\n",
       "      <td>-2.81</td>\n",
       "      <td>-0.127196</td>\n",
       "      <td>채권</td>\n",
       "      <td>90742</td>\n",
       "      <td>5410</td>\n",
       "      <td>1475</td>\n",
       "    </tr>\n",
       "    <tr>\n",
       "      <th>55</th>\n",
       "      <td>458250</td>\n",
       "      <td>TIGER 미국30년국채스트립액티브(합성 H)</td>\n",
       "      <td>1.15</td>\n",
       "      <td>-10.61</td>\n",
       "      <td>-0.519860</td>\n",
       "      <td>채권</td>\n",
       "      <td>177615</td>\n",
       "      <td>7035</td>\n",
       "      <td>6385</td>\n",
       "    </tr>\n",
       "    <tr>\n",
       "      <th>99</th>\n",
       "      <td>385560</td>\n",
       "      <td>RISE KIS국고채30년Enhanced</td>\n",
       "      <td>1.13</td>\n",
       "      <td>-2.62</td>\n",
       "      <td>-0.107815</td>\n",
       "      <td>채권</td>\n",
       "      <td>58659</td>\n",
       "      <td>4767</td>\n",
       "      <td>3446</td>\n",
       "    </tr>\n",
       "    <tr>\n",
       "      <th>92</th>\n",
       "      <td>472870</td>\n",
       "      <td>RISE 미국30년국채엔화노출(합성 H)</td>\n",
       "      <td>1.07</td>\n",
       "      <td>-6.50</td>\n",
       "      <td>-0.305261</td>\n",
       "      <td>채권</td>\n",
       "      <td>676209</td>\n",
       "      <td>5696</td>\n",
       "      <td>3758</td>\n",
       "    </tr>\n",
       "    <tr>\n",
       "      <th>236</th>\n",
       "      <td>476750</td>\n",
       "      <td>ACE 미국30년국채엔화노출액티브(H)</td>\n",
       "      <td>1.03</td>\n",
       "      <td>-6.91</td>\n",
       "      <td>-0.324130</td>\n",
       "      <td>채권</td>\n",
       "      <td>138141</td>\n",
       "      <td>1251</td>\n",
       "      <td>1061</td>\n",
       "    </tr>\n",
       "    <tr>\n",
       "      <th>767</th>\n",
       "      <td>267490</td>\n",
       "      <td>RISE 미국장기국채선물레버리지(합성 H)</td>\n",
       "      <td>1.02</td>\n",
       "      <td>-10.22</td>\n",
       "      <td>-0.516334</td>\n",
       "      <td>채권</td>\n",
       "      <td>4297</td>\n",
       "      <td>23</td>\n",
       "      <td>71</td>\n",
       "    </tr>\n",
       "    <tr>\n",
       "      <th>527</th>\n",
       "      <td>481340</td>\n",
       "      <td>RISE 미국30년국채액티브</td>\n",
       "      <td>0.93</td>\n",
       "      <td>-4.18</td>\n",
       "      <td>-0.194859</td>\n",
       "      <td>채권</td>\n",
       "      <td>63301</td>\n",
       "      <td>634</td>\n",
       "      <td>181</td>\n",
       "    </tr>\n",
       "    <tr>\n",
       "      <th>432</th>\n",
       "      <td>167860</td>\n",
       "      <td>KOSEF 국고채10년레버리지</td>\n",
       "      <td>0.89</td>\n",
       "      <td>-3.76</td>\n",
       "      <td>-0.211045</td>\n",
       "      <td>채권</td>\n",
       "      <td>293</td>\n",
       "      <td>32</td>\n",
       "      <td>301</td>\n",
       "    </tr>\n",
       "    <tr>\n",
       "      <th>489</th>\n",
       "      <td>451600</td>\n",
       "      <td>PLUS 국고채30년액티브</td>\n",
       "      <td>0.85</td>\n",
       "      <td>-2.03</td>\n",
       "      <td>-0.118794</td>\n",
       "      <td>채권</td>\n",
       "      <td>351</td>\n",
       "      <td>40</td>\n",
       "      <td>223</td>\n",
       "    </tr>\n",
       "    <tr>\n",
       "      <th>450</th>\n",
       "      <td>471460</td>\n",
       "      <td>히어로즈 국고채30년액티브</td>\n",
       "      <td>0.84</td>\n",
       "      <td>-2.72</td>\n",
       "      <td>-0.106173</td>\n",
       "      <td>채권</td>\n",
       "      <td>14178</td>\n",
       "      <td>906</td>\n",
       "      <td>270</td>\n",
       "    </tr>\n",
       "    <tr>\n",
       "      <th>82</th>\n",
       "      <td>439870</td>\n",
       "      <td>KODEX 국고채30년액티브</td>\n",
       "      <td>0.82</td>\n",
       "      <td>-2.00</td>\n",
       "      <td>-0.094066</td>\n",
       "      <td>채권</td>\n",
       "      <td>25934</td>\n",
       "      <td>3096</td>\n",
       "      <td>4426</td>\n",
       "    </tr>\n",
       "    <tr>\n",
       "      <th>290</th>\n",
       "      <td>476760</td>\n",
       "      <td>ACE 미국30년국채액티브</td>\n",
       "      <td>0.82</td>\n",
       "      <td>-2.01</td>\n",
       "      <td>-0.096126</td>\n",
       "      <td>채권</td>\n",
       "      <td>140090</td>\n",
       "      <td>1423</td>\n",
       "      <td>752</td>\n",
       "    </tr>\n",
       "    <tr>\n",
       "      <th>519</th>\n",
       "      <td>457700</td>\n",
       "      <td>KODEX 53-09 국고채액티브</td>\n",
       "      <td>0.82</td>\n",
       "      <td>-2.33</td>\n",
       "      <td>-0.102530</td>\n",
       "      <td>채권</td>\n",
       "      <td>30148</td>\n",
       "      <td>361</td>\n",
       "      <td>191</td>\n",
       "    </tr>\n",
       "    <tr>\n",
       "      <th>383</th>\n",
       "      <td>464470</td>\n",
       "      <td>PLUS 미국채30년액티브</td>\n",
       "      <td>0.80</td>\n",
       "      <td>-2.16</td>\n",
       "      <td>-0.083171</td>\n",
       "      <td>채권</td>\n",
       "      <td>17341</td>\n",
       "      <td>916</td>\n",
       "      <td>399</td>\n",
       "    </tr>\n",
       "    <tr>\n",
       "      <th>764</th>\n",
       "      <td>304670</td>\n",
       "      <td>KODEX 미국30년국채울트라선물인버스(H)</td>\n",
       "      <td>0.77</td>\n",
       "      <td>7.43</td>\n",
       "      <td>0.334806</td>\n",
       "      <td>채권</td>\n",
       "      <td>104</td>\n",
       "      <td>1</td>\n",
       "      <td>72</td>\n",
       "    </tr>\n",
       "    <tr>\n",
       "      <th>343</th>\n",
       "      <td>461600</td>\n",
       "      <td>SOL 미국30년국채액티브(H)</td>\n",
       "      <td>0.74</td>\n",
       "      <td>-6.32</td>\n",
       "      <td>-0.293874</td>\n",
       "      <td>채권</td>\n",
       "      <td>28103</td>\n",
       "      <td>247</td>\n",
       "      <td>499</td>\n",
       "    </tr>\n",
       "    <tr>\n",
       "      <th>107</th>\n",
       "      <td>484790</td>\n",
       "      <td>KODEX 미국30년국채액티브(H)</td>\n",
       "      <td>0.71</td>\n",
       "      <td>-6.40</td>\n",
       "      <td>-0.309794</td>\n",
       "      <td>채권</td>\n",
       "      <td>736585</td>\n",
       "      <td>6682</td>\n",
       "      <td>3110</td>\n",
       "    </tr>\n",
       "    <tr>\n",
       "      <th>19</th>\n",
       "      <td>453850</td>\n",
       "      <td>ACE 미국30년국채액티브(H)</td>\n",
       "      <td>0.70</td>\n",
       "      <td>-6.38</td>\n",
       "      <td>-0.305688</td>\n",
       "      <td>채권</td>\n",
       "      <td>2165000</td>\n",
       "      <td>16906</td>\n",
       "      <td>17990</td>\n",
       "    </tr>\n",
       "    <tr>\n",
       "      <th>71</th>\n",
       "      <td>481060</td>\n",
       "      <td>KODEX 미국30년국채타겟커버드콜(합성 H)</td>\n",
       "      <td>0.70</td>\n",
       "      <td>-5.99</td>\n",
       "      <td>-0.287973</td>\n",
       "      <td>채권</td>\n",
       "      <td>694459</td>\n",
       "      <td>6352</td>\n",
       "      <td>4874</td>\n",
       "    </tr>\n",
       "    <tr>\n",
       "      <th>31</th>\n",
       "      <td>476550</td>\n",
       "      <td>TIGER 미국30년국채커버드콜액티브(H)</td>\n",
       "      <td>0.70</td>\n",
       "      <td>-6.06</td>\n",
       "      <td>-0.285190</td>\n",
       "      <td>채권</td>\n",
       "      <td>1256177</td>\n",
       "      <td>10572</td>\n",
       "      <td>11628</td>\n",
       "    </tr>\n",
       "    <tr>\n",
       "      <th>112</th>\n",
       "      <td>304660</td>\n",
       "      <td>KODEX 미국30년국채울트라선물(H)</td>\n",
       "      <td>0.68</td>\n",
       "      <td>-6.89</td>\n",
       "      <td>-0.335303</td>\n",
       "      <td>채권</td>\n",
       "      <td>172042</td>\n",
       "      <td>1287</td>\n",
       "      <td>2927</td>\n",
       "    </tr>\n",
       "    <tr>\n",
       "      <th>639</th>\n",
       "      <td>474390</td>\n",
       "      <td>SOL 국고채30년액티브</td>\n",
       "      <td>0.67</td>\n",
       "      <td>-3.64</td>\n",
       "      <td>-0.184704</td>\n",
       "      <td>채권</td>\n",
       "      <td>11</td>\n",
       "      <td>0</td>\n",
       "      <td>110</td>\n",
       "    </tr>\n",
       "    <tr>\n",
       "      <th>842</th>\n",
       "      <td>267450</td>\n",
       "      <td>RISE 미국장기국채선물인버스(H)</td>\n",
       "      <td>0.66</td>\n",
       "      <td>5.79</td>\n",
       "      <td>0.262741</td>\n",
       "      <td>채권</td>\n",
       "      <td>20</td>\n",
       "      <td>0</td>\n",
       "      <td>56</td>\n",
       "    </tr>\n",
       "    <tr>\n",
       "      <th>408</th>\n",
       "      <td>332620</td>\n",
       "      <td>PLUS 미국장기우량회사채</td>\n",
       "      <td>0.62</td>\n",
       "      <td>-0.58</td>\n",
       "      <td>-0.018542</td>\n",
       "      <td>채권</td>\n",
       "      <td>2428</td>\n",
       "      <td>234</td>\n",
       "      <td>345</td>\n",
       "    </tr>\n",
       "    <tr>\n",
       "      <th>841</th>\n",
       "      <td>346000</td>\n",
       "      <td>HANARO KAP초장기국고채</td>\n",
       "      <td>0.61</td>\n",
       "      <td>-2.33</td>\n",
       "      <td>-0.131307</td>\n",
       "      <td>채권</td>\n",
       "      <td>81</td>\n",
       "      <td>3</td>\n",
       "      <td>56</td>\n",
       "    </tr>\n",
       "    <tr>\n",
       "      <th>406</th>\n",
       "      <td>468380</td>\n",
       "      <td>KODEX iShares미국하이일드액티브</td>\n",
       "      <td>0.61</td>\n",
       "      <td>4.44</td>\n",
       "      <td>0.183570</td>\n",
       "      <td>채권</td>\n",
       "      <td>65467</td>\n",
       "      <td>767</td>\n",
       "      <td>350</td>\n",
       "    </tr>\n",
       "    <tr>\n",
       "      <th>439</th>\n",
       "      <td>472830</td>\n",
       "      <td>RISE 미국30년국채커버드콜(합성)</td>\n",
       "      <td>0.61</td>\n",
       "      <td>0.06</td>\n",
       "      <td>0.017419</td>\n",
       "      <td>채권</td>\n",
       "      <td>26436</td>\n",
       "      <td>253</td>\n",
       "      <td>293</td>\n",
       "    </tr>\n",
       "    <tr>\n",
       "      <th>660</th>\n",
       "      <td>267440</td>\n",
       "      <td>RISE 미국장기국채선물(H)</td>\n",
       "      <td>0.57</td>\n",
       "      <td>-4.59</td>\n",
       "      <td>-0.227261</td>\n",
       "      <td>채권</td>\n",
       "      <td>2437</td>\n",
       "      <td>20</td>\n",
       "      <td>100</td>\n",
       "    </tr>\n",
       "    <tr>\n",
       "      <th>292</th>\n",
       "      <td>295020</td>\n",
       "      <td>RISE 국채선물10년인버스</td>\n",
       "      <td>0.55</td>\n",
       "      <td>2.68</td>\n",
       "      <td>0.124149</td>\n",
       "      <td>채권</td>\n",
       "      <td>84</td>\n",
       "      <td>4</td>\n",
       "      <td>729</td>\n",
       "    </tr>\n",
       "    <tr>\n",
       "      <th>657</th>\n",
       "      <td>489000</td>\n",
       "      <td>PLUS 일본엔화초단기국채(합성)</td>\n",
       "      <td>0.54</td>\n",
       "      <td>0.05</td>\n",
       "      <td>0.016307</td>\n",
       "      <td>채권</td>\n",
       "      <td>49323</td>\n",
       "      <td>494</td>\n",
       "      <td>101</td>\n",
       "    </tr>\n",
       "    <tr>\n",
       "      <th>552</th>\n",
       "      <td>468630</td>\n",
       "      <td>KODEX iShares미국투자등급회사채액티브</td>\n",
       "      <td>0.54</td>\n",
       "      <td>1.66</td>\n",
       "      <td>0.099343</td>\n",
       "      <td>채권</td>\n",
       "      <td>43265</td>\n",
       "      <td>502</td>\n",
       "      <td>164</td>\n",
       "    </tr>\n",
       "    <tr>\n",
       "      <th>798</th>\n",
       "      <td>295000</td>\n",
       "      <td>RISE 국채선물10년</td>\n",
       "      <td>0.52</td>\n",
       "      <td>-1.59</td>\n",
       "      <td>-0.104705</td>\n",
       "      <td>채권</td>\n",
       "      <td>812</td>\n",
       "      <td>44</td>\n",
       "      <td>64</td>\n",
       "    </tr>\n",
       "    <tr>\n",
       "      <th>319</th>\n",
       "      <td>308620</td>\n",
       "      <td>KODEX 미국10년국채선물</td>\n",
       "      <td>0.51</td>\n",
       "      <td>2.39</td>\n",
       "      <td>0.123693</td>\n",
       "      <td>채권</td>\n",
       "      <td>71081</td>\n",
       "      <td>853</td>\n",
       "      <td>612</td>\n",
       "    </tr>\n",
       "    <tr>\n",
       "      <th>331</th>\n",
       "      <td>455960</td>\n",
       "      <td>RISE 미국달러SOFR금리액티브(합성)</td>\n",
       "      <td>0.51</td>\n",
       "      <td>5.21</td>\n",
       "      <td>0.242126</td>\n",
       "      <td>채권</td>\n",
       "      <td>7142</td>\n",
       "      <td>85</td>\n",
       "      <td>559</td>\n",
       "    </tr>\n",
       "    <tr>\n",
       "      <th>54</th>\n",
       "      <td>329750</td>\n",
       "      <td>TIGER 미국달러단기채권액티브</td>\n",
       "      <td>0.49</td>\n",
       "      <td>5.06</td>\n",
       "      <td>0.250303</td>\n",
       "      <td>채권</td>\n",
       "      <td>1181492</td>\n",
       "      <td>15557</td>\n",
       "      <td>6442</td>\n",
       "    </tr>\n",
       "    <tr>\n",
       "      <th>186</th>\n",
       "      <td>305080</td>\n",
       "      <td>TIGER 미국채10년선물</td>\n",
       "      <td>0.49</td>\n",
       "      <td>2.58</td>\n",
       "      <td>0.132501</td>\n",
       "      <td>채권</td>\n",
       "      <td>160873</td>\n",
       "      <td>2049</td>\n",
       "      <td>1490</td>\n",
       "    </tr>\n",
       "    <tr>\n",
       "      <th>152</th>\n",
       "      <td>473330</td>\n",
       "      <td>SOL 미국30년국채커버드콜(합성)</td>\n",
       "      <td>0.48</td>\n",
       "      <td>0.46</td>\n",
       "      <td>0.044115</td>\n",
       "      <td>채권</td>\n",
       "      <td>438836</td>\n",
       "      <td>4302</td>\n",
       "      <td>1951</td>\n",
       "    </tr>\n",
       "    <tr>\n",
       "      <th>557</th>\n",
       "      <td>467620</td>\n",
       "      <td>히어로즈 25-09 미국채권(AA-이상)액티브</td>\n",
       "      <td>0.47</td>\n",
       "      <td>4.54</td>\n",
       "      <td>0.229517</td>\n",
       "      <td>채권</td>\n",
       "      <td>6376</td>\n",
       "      <td>363</td>\n",
       "      <td>159</td>\n",
       "    </tr>\n",
       "    <tr>\n",
       "      <th>582</th>\n",
       "      <td>440650</td>\n",
       "      <td>ACE 미국달러단기채권액티브</td>\n",
       "      <td>0.47</td>\n",
       "      <td>4.91</td>\n",
       "      <td>0.243284</td>\n",
       "      <td>채권</td>\n",
       "      <td>54669</td>\n",
       "      <td>655</td>\n",
       "      <td>144</td>\n",
       "    </tr>\n",
       "    <tr>\n",
       "      <th>706</th>\n",
       "      <td>468370</td>\n",
       "      <td>KODEX iShares미국인플레이션국채액티브</td>\n",
       "      <td>0.47</td>\n",
       "      <td>2.84</td>\n",
       "      <td>0.143423</td>\n",
       "      <td>채권</td>\n",
       "      <td>54091</td>\n",
       "      <td>608</td>\n",
       "      <td>83</td>\n",
       "    </tr>\n",
       "    <tr>\n",
       "      <th>62</th>\n",
       "      <td>456610</td>\n",
       "      <td>TIGER 미국달러SOFR금리액티브(합성)</td>\n",
       "      <td>0.47</td>\n",
       "      <td>4.87</td>\n",
       "      <td>0.246377</td>\n",
       "      <td>채권</td>\n",
       "      <td>52939</td>\n",
       "      <td>3157</td>\n",
       "      <td>5555</td>\n",
       "    </tr>\n",
       "    <tr>\n",
       "      <th>274</th>\n",
       "      <td>284430</td>\n",
       "      <td>KODEX 200미국채혼합</td>\n",
       "      <td>0.46</td>\n",
       "      <td>-0.04</td>\n",
       "      <td>0.036358</td>\n",
       "      <td>채권</td>\n",
       "      <td>86489</td>\n",
       "      <td>1103</td>\n",
       "      <td>838</td>\n",
       "    </tr>\n",
       "    <tr>\n",
       "      <th>80</th>\n",
       "      <td>455030</td>\n",
       "      <td>KODEX 미국달러SOFR금리액티브(합성)</td>\n",
       "      <td>0.46</td>\n",
       "      <td>5.16</td>\n",
       "      <td>0.250546</td>\n",
       "      <td>채권</td>\n",
       "      <td>1368884</td>\n",
       "      <td>16908</td>\n",
       "      <td>4499</td>\n",
       "    </tr>\n",
       "    <tr>\n",
       "      <th>188</th>\n",
       "      <td>363570</td>\n",
       "      <td>KODEX 장기종합채권(AA-이상)액티브</td>\n",
       "      <td>0.46</td>\n",
       "      <td>-1.06</td>\n",
       "      <td>-0.054743</td>\n",
       "      <td>채권</td>\n",
       "      <td>411</td>\n",
       "      <td>41</td>\n",
       "      <td>1484</td>\n",
       "    </tr>\n",
       "    <tr>\n",
       "      <th>656</th>\n",
       "      <td>460270</td>\n",
       "      <td>히어로즈 미국달러SOFR금리액티브(합성)</td>\n",
       "      <td>0.46</td>\n",
       "      <td>4.88</td>\n",
       "      <td>0.239699</td>\n",
       "      <td>채권</td>\n",
       "      <td>473</td>\n",
       "      <td>5</td>\n",
       "      <td>101</td>\n",
       "    </tr>\n",
       "    <tr>\n",
       "      <th>803</th>\n",
       "      <td>456200</td>\n",
       "      <td>PLUS 미국달러SOFR금리액티브(합성)</td>\n",
       "      <td>0.45</td>\n",
       "      <td>4.87</td>\n",
       "      <td>0.242378</td>\n",
       "      <td>채권</td>\n",
       "      <td>36</td>\n",
       "      <td>2</td>\n",
       "      <td>63</td>\n",
       "    </tr>\n",
       "    <tr>\n",
       "      <th>920</th>\n",
       "      <td>469580</td>\n",
       "      <td>RISE KP달러채권액티브</td>\n",
       "      <td>0.44</td>\n",
       "      <td>4.43</td>\n",
       "      <td>0.222699</td>\n",
       "      <td>채권</td>\n",
       "      <td>63</td>\n",
       "      <td>3</td>\n",
       "      <td>23</td>\n",
       "    </tr>\n",
       "    <tr>\n",
       "      <th>513</th>\n",
       "      <td>437350</td>\n",
       "      <td>RISE 미국단기투자등급회사채액티브</td>\n",
       "      <td>0.43</td>\n",
       "      <td>4.42</td>\n",
       "      <td>0.219314</td>\n",
       "      <td>채권</td>\n",
       "      <td>41142</td>\n",
       "      <td>506</td>\n",
       "      <td>197</td>\n",
       "    </tr>\n",
       "    <tr>\n",
       "      <th>315</th>\n",
       "      <td>437070</td>\n",
       "      <td>KODEX 아시아달러채권ESG플러스액티브</td>\n",
       "      <td>0.42</td>\n",
       "      <td>3.23</td>\n",
       "      <td>0.163994</td>\n",
       "      <td>채권</td>\n",
       "      <td>1212</td>\n",
       "      <td>74</td>\n",
       "      <td>634</td>\n",
       "    </tr>\n",
       "    <tr>\n",
       "      <th>185</th>\n",
       "      <td>461460</td>\n",
       "      <td>PLUS 국고채10년액티브</td>\n",
       "      <td>0.42</td>\n",
       "      <td>-1.62</td>\n",
       "      <td>-0.099989</td>\n",
       "      <td>채권</td>\n",
       "      <td>2892</td>\n",
       "      <td>159</td>\n",
       "      <td>1492</td>\n",
       "    </tr>\n",
       "    <tr>\n",
       "      <th>626</th>\n",
       "      <td>182490</td>\n",
       "      <td>TIGER 단기선진하이일드(합성 H)</td>\n",
       "      <td>0.41</td>\n",
       "      <td>-0.79</td>\n",
       "      <td>-0.035167</td>\n",
       "      <td>채권</td>\n",
       "      <td>1552</td>\n",
       "      <td>20</td>\n",
       "      <td>117</td>\n",
       "    </tr>\n",
       "    <tr>\n",
       "      <th>366</th>\n",
       "      <td>152380</td>\n",
       "      <td>KODEX 국채선물10년</td>\n",
       "      <td>0.40</td>\n",
       "      <td>-1.96</td>\n",
       "      <td>-0.106395</td>\n",
       "      <td>채권</td>\n",
       "      <td>13072</td>\n",
       "      <td>905</td>\n",
       "      <td>437</td>\n",
       "    </tr>\n",
       "    <tr>\n",
       "      <th>752</th>\n",
       "      <td>432600</td>\n",
       "      <td>RISE 국채선물3년</td>\n",
       "      <td>0.40</td>\n",
       "      <td>0.09</td>\n",
       "      <td>-0.009686</td>\n",
       "      <td>채권</td>\n",
       "      <td>11</td>\n",
       "      <td>0</td>\n",
       "      <td>74</td>\n",
       "    </tr>\n",
       "    <tr>\n",
       "      <th>135</th>\n",
       "      <td>365780</td>\n",
       "      <td>ACE 국고채10년</td>\n",
       "      <td>0.39</td>\n",
       "      <td>-1.50</td>\n",
       "      <td>-0.085092</td>\n",
       "      <td>채권</td>\n",
       "      <td>17336</td>\n",
       "      <td>1550</td>\n",
       "      <td>2229</td>\n",
       "    </tr>\n",
       "    <tr>\n",
       "      <th>93</th>\n",
       "      <td>148070</td>\n",
       "      <td>KOSEF 국고채10년</td>\n",
       "      <td>0.39</td>\n",
       "      <td>-1.50</td>\n",
       "      <td>-0.087954</td>\n",
       "      <td>채권</td>\n",
       "      <td>41585</td>\n",
       "      <td>4727</td>\n",
       "      <td>3726</td>\n",
       "    </tr>\n",
       "    <tr>\n",
       "      <th>241</th>\n",
       "      <td>481430</td>\n",
       "      <td>RISE 국고채10년액티브</td>\n",
       "      <td>0.39</td>\n",
       "      <td>-1.67</td>\n",
       "      <td>-0.086478</td>\n",
       "      <td>채권</td>\n",
       "      <td>108351</td>\n",
       "      <td>11454</td>\n",
       "      <td>1027</td>\n",
       "    </tr>\n",
       "    <tr>\n",
       "      <th>692</th>\n",
       "      <td>289670</td>\n",
       "      <td>PLUS 국채선물10년</td>\n",
       "      <td>0.39</td>\n",
       "      <td>-2.25</td>\n",
       "      <td>-0.108165</td>\n",
       "      <td>채권</td>\n",
       "      <td>13928</td>\n",
       "      <td>775</td>\n",
       "      <td>89</td>\n",
       "    </tr>\n",
       "    <tr>\n",
       "      <th>89</th>\n",
       "      <td>471230</td>\n",
       "      <td>KODEX 국고채10년액티브</td>\n",
       "      <td>0.39</td>\n",
       "      <td>-1.51</td>\n",
       "      <td>-0.087168</td>\n",
       "      <td>채권</td>\n",
       "      <td>90645</td>\n",
       "      <td>10137</td>\n",
       "      <td>3810</td>\n",
       "    </tr>\n",
       "    <tr>\n",
       "      <th>836</th>\n",
       "      <td>397410</td>\n",
       "      <td>RISE 국채선물5년추종인버스</td>\n",
       "      <td>0.38</td>\n",
       "      <td>1.51</td>\n",
       "      <td>0.061243</td>\n",
       "      <td>채권</td>\n",
       "      <td>7</td>\n",
       "      <td>0</td>\n",
       "      <td>57</td>\n",
       "    </tr>\n",
       "    <tr>\n",
       "      <th>197</th>\n",
       "      <td>458260</td>\n",
       "      <td>TIGER 미국투자등급회사채액티브(H)</td>\n",
       "      <td>0.38</td>\n",
       "      <td>-2.53</td>\n",
       "      <td>-0.112021</td>\n",
       "      <td>채권</td>\n",
       "      <td>241244</td>\n",
       "      <td>11688</td>\n",
       "      <td>1364</td>\n",
       "    </tr>\n",
       "    <tr>\n",
       "      <th>794</th>\n",
       "      <td>176950</td>\n",
       "      <td>KODEX 국채선물10년인버스</td>\n",
       "      <td>0.36</td>\n",
       "      <td>2.30</td>\n",
       "      <td>0.124325</td>\n",
       "      <td>채권</td>\n",
       "      <td>9</td>\n",
       "      <td>0</td>\n",
       "      <td>65</td>\n",
       "    </tr>\n",
       "    <tr>\n",
       "      <th>857</th>\n",
       "      <td>397420</td>\n",
       "      <td>RISE 국채선물5년추종</td>\n",
       "      <td>0.36</td>\n",
       "      <td>-0.61</td>\n",
       "      <td>-0.040027</td>\n",
       "      <td>채권</td>\n",
       "      <td>4</td>\n",
       "      <td>0</td>\n",
       "      <td>52</td>\n",
       "    </tr>\n",
       "    <tr>\n",
       "      <th>372</th>\n",
       "      <td>448490</td>\n",
       "      <td>HANARO 32-10 국고채액티브</td>\n",
       "      <td>0.36</td>\n",
       "      <td>-1.31</td>\n",
       "      <td>-0.069836</td>\n",
       "      <td>채권</td>\n",
       "      <td>1606</td>\n",
       "      <td>90</td>\n",
       "      <td>421</td>\n",
       "    </tr>\n",
       "    <tr>\n",
       "      <th>216</th>\n",
       "      <td>438570</td>\n",
       "      <td>SOL 국고채10년</td>\n",
       "      <td>0.36</td>\n",
       "      <td>-1.55</td>\n",
       "      <td>-0.090355</td>\n",
       "      <td>채권</td>\n",
       "      <td>3776</td>\n",
       "      <td>403</td>\n",
       "      <td>1174</td>\n",
       "    </tr>\n",
       "    <tr>\n",
       "      <th>500</th>\n",
       "      <td>457690</td>\n",
       "      <td>KODEX 33-06 국고채액티브</td>\n",
       "      <td>0.33</td>\n",
       "      <td>-1.22</td>\n",
       "      <td>-0.069672</td>\n",
       "      <td>채권</td>\n",
       "      <td>45540</td>\n",
       "      <td>498</td>\n",
       "      <td>216</td>\n",
       "    </tr>\n",
       "    <tr>\n",
       "      <th>374</th>\n",
       "      <td>426150</td>\n",
       "      <td>WON 대한민국국고채액티브</td>\n",
       "      <td>0.32</td>\n",
       "      <td>-1.59</td>\n",
       "      <td>-0.072482</td>\n",
       "      <td>채권</td>\n",
       "      <td>1618</td>\n",
       "      <td>92</td>\n",
       "      <td>421</td>\n",
       "    </tr>\n",
       "    <tr>\n",
       "      <th>116</th>\n",
       "      <td>451000</td>\n",
       "      <td>PLUS 종합채권(AA-이상)액티브</td>\n",
       "      <td>0.32</td>\n",
       "      <td>-0.48</td>\n",
       "      <td>-0.034890</td>\n",
       "      <td>채권</td>\n",
       "      <td>120</td>\n",
       "      <td>13</td>\n",
       "      <td>2651</td>\n",
       "    </tr>\n",
       "    <tr>\n",
       "      <th>819</th>\n",
       "      <td>455660</td>\n",
       "      <td>ACE 미국하이일드액티브(H)</td>\n",
       "      <td>0.32</td>\n",
       "      <td>-1.28</td>\n",
       "      <td>-0.066270</td>\n",
       "      <td>채권</td>\n",
       "      <td>13200</td>\n",
       "      <td>131</td>\n",
       "      <td>60</td>\n",
       "    </tr>\n",
       "    <tr>\n",
       "      <th>244</th>\n",
       "      <td>498180</td>\n",
       "      <td>파워 종합채권(AA-이상)액티브</td>\n",
       "      <td>0.31</td>\n",
       "      <td>-0.66</td>\n",
       "      <td>-0.038594</td>\n",
       "      <td>채권</td>\n",
       "      <td>1</td>\n",
       "      <td>0</td>\n",
       "      <td>1020</td>\n",
       "    </tr>\n",
       "    <tr>\n",
       "      <th>220</th>\n",
       "      <td>461500</td>\n",
       "      <td>HANARO 종합채권(AA-이상)액티브</td>\n",
       "      <td>0.29</td>\n",
       "      <td>-0.57</td>\n",
       "      <td>-0.033137</td>\n",
       "      <td>채권</td>\n",
       "      <td>63890</td>\n",
       "      <td>7210</td>\n",
       "      <td>1144</td>\n",
       "    </tr>\n",
       "    <tr>\n",
       "      <th>10</th>\n",
       "      <td>273130</td>\n",
       "      <td>KODEX 종합채권(AA-이상)액티브</td>\n",
       "      <td>0.29</td>\n",
       "      <td>-0.40</td>\n",
       "      <td>-0.026375</td>\n",
       "      <td>채권</td>\n",
       "      <td>143386</td>\n",
       "      <td>16673</td>\n",
       "      <td>28271</td>\n",
       "    </tr>\n",
       "    <tr>\n",
       "      <th>47</th>\n",
       "      <td>356540</td>\n",
       "      <td>ACE 종합채권(AA-이상)KIS액티브</td>\n",
       "      <td>0.27</td>\n",
       "      <td>-0.72</td>\n",
       "      <td>-0.044811</td>\n",
       "      <td>채권</td>\n",
       "      <td>5109</td>\n",
       "      <td>542</td>\n",
       "      <td>7431</td>\n",
       "    </tr>\n",
       "    <tr>\n",
       "      <th>97</th>\n",
       "      <td>454780</td>\n",
       "      <td>히어로즈 종합채권(AA-이상)액티브</td>\n",
       "      <td>0.26</td>\n",
       "      <td>-0.86</td>\n",
       "      <td>-0.037127</td>\n",
       "      <td>채권</td>\n",
       "      <td>16</td>\n",
       "      <td>1</td>\n",
       "      <td>3524</td>\n",
       "    </tr>\n",
       "    <tr>\n",
       "      <th>238</th>\n",
       "      <td>437080</td>\n",
       "      <td>KODEX 미국종합채권ESG액티브(H)</td>\n",
       "      <td>0.26</td>\n",
       "      <td>-1.68</td>\n",
       "      <td>-0.083133</td>\n",
       "      <td>채권</td>\n",
       "      <td>3851</td>\n",
       "      <td>387</td>\n",
       "      <td>1058</td>\n",
       "    </tr>\n",
       "    <tr>\n",
       "      <th>100</th>\n",
       "      <td>302190</td>\n",
       "      <td>TIGER 중장기국채</td>\n",
       "      <td>0.26</td>\n",
       "      <td>-0.86</td>\n",
       "      <td>-0.047109</td>\n",
       "      <td>채권</td>\n",
       "      <td>91512</td>\n",
       "      <td>4724</td>\n",
       "      <td>3403</td>\n",
       "    </tr>\n",
       "    <tr>\n",
       "      <th>53</th>\n",
       "      <td>451540</td>\n",
       "      <td>TIGER 종합채권(AA-이상)액티브</td>\n",
       "      <td>0.25</td>\n",
       "      <td>-0.34</td>\n",
       "      <td>-0.019353</td>\n",
       "      <td>채권</td>\n",
       "      <td>31808</td>\n",
       "      <td>1776</td>\n",
       "      <td>6479</td>\n",
       "    </tr>\n",
       "    <tr>\n",
       "      <th>43</th>\n",
       "      <td>436140</td>\n",
       "      <td>SOL 종합채권(AA-이상)액티브</td>\n",
       "      <td>0.25</td>\n",
       "      <td>-0.31</td>\n",
       "      <td>-0.018681</td>\n",
       "      <td>채권</td>\n",
       "      <td>4989</td>\n",
       "      <td>562</td>\n",
       "      <td>8328</td>\n",
       "    </tr>\n",
       "    <tr>\n",
       "      <th>25</th>\n",
       "      <td>385540</td>\n",
       "      <td>RISE 종합채권(A-이상)액티브</td>\n",
       "      <td>0.24</td>\n",
       "      <td>-0.39</td>\n",
       "      <td>-0.021174</td>\n",
       "      <td>채권</td>\n",
       "      <td>7770</td>\n",
       "      <td>840</td>\n",
       "      <td>13494</td>\n",
       "    </tr>\n",
       "    <tr>\n",
       "      <th>246</th>\n",
       "      <td>472920</td>\n",
       "      <td>HK 종합채권(AA-이상)액티브</td>\n",
       "      <td>0.20</td>\n",
       "      <td>-0.98</td>\n",
       "      <td>-0.053892</td>\n",
       "      <td>채권</td>\n",
       "      <td>1</td>\n",
       "      <td>0</td>\n",
       "      <td>1005</td>\n",
       "    </tr>\n",
       "    <tr>\n",
       "      <th>435</th>\n",
       "      <td>272570</td>\n",
       "      <td>RISE 중장기국공채액티브</td>\n",
       "      <td>0.16</td>\n",
       "      <td>-0.33</td>\n",
       "      <td>-0.014239</td>\n",
       "      <td>채권</td>\n",
       "      <td>54</td>\n",
       "      <td>5</td>\n",
       "      <td>298</td>\n",
       "    </tr>\n",
       "    <tr>\n",
       "      <th>113</th>\n",
       "      <td>439860</td>\n",
       "      <td>KODEX ESG종합채권(A-이상)액티브</td>\n",
       "      <td>0.15</td>\n",
       "      <td>0.07</td>\n",
       "      <td>0.007415</td>\n",
       "      <td>채권</td>\n",
       "      <td>11</td>\n",
       "      <td>1</td>\n",
       "      <td>2917</td>\n",
       "    </tr>\n",
       "    <tr>\n",
       "      <th>475</th>\n",
       "      <td>438560</td>\n",
       "      <td>SOL 국고채3년</td>\n",
       "      <td>0.15</td>\n",
       "      <td>0.12</td>\n",
       "      <td>-0.002599</td>\n",
       "      <td>채권</td>\n",
       "      <td>2016</td>\n",
       "      <td>204</td>\n",
       "      <td>239</td>\n",
       "    </tr>\n",
       "    <tr>\n",
       "      <th>77</th>\n",
       "      <td>114260</td>\n",
       "      <td>KODEX 국고채3년</td>\n",
       "      <td>0.14</td>\n",
       "      <td>0.00</td>\n",
       "      <td>-0.002736</td>\n",
       "      <td>채권</td>\n",
       "      <td>14310</td>\n",
       "      <td>884</td>\n",
       "      <td>4627</td>\n",
       "    </tr>\n",
       "    <tr>\n",
       "      <th>128</th>\n",
       "      <td>438330</td>\n",
       "      <td>TIGER 투자등급회사채액티브</td>\n",
       "      <td>0.14</td>\n",
       "      <td>-0.03</td>\n",
       "      <td>-0.002082</td>\n",
       "      <td>채권</td>\n",
       "      <td>10094</td>\n",
       "      <td>1158</td>\n",
       "      <td>2300</td>\n",
       "    </tr>\n",
       "    <tr>\n",
       "      <th>355</th>\n",
       "      <td>114100</td>\n",
       "      <td>RISE 국고채3년</td>\n",
       "      <td>0.14</td>\n",
       "      <td>-0.01</td>\n",
       "      <td>-0.004137</td>\n",
       "      <td>채권</td>\n",
       "      <td>325</td>\n",
       "      <td>35</td>\n",
       "      <td>459</td>\n",
       "    </tr>\n",
       "    <tr>\n",
       "      <th>266</th>\n",
       "      <td>114820</td>\n",
       "      <td>TIGER 국채3년</td>\n",
       "      <td>0.12</td>\n",
       "      <td>-0.07</td>\n",
       "      <td>-0.006348</td>\n",
       "      <td>채권</td>\n",
       "      <td>1263</td>\n",
       "      <td>135</td>\n",
       "      <td>889</td>\n",
       "    </tr>\n",
       "    <tr>\n",
       "      <th>550</th>\n",
       "      <td>114470</td>\n",
       "      <td>KOSEF 국고채3년</td>\n",
       "      <td>0.12</td>\n",
       "      <td>-0.04</td>\n",
       "      <td>-0.005042</td>\n",
       "      <td>채권</td>\n",
       "      <td>5212</td>\n",
       "      <td>575</td>\n",
       "      <td>166</td>\n",
       "    </tr>\n",
       "    <tr>\n",
       "      <th>342</th>\n",
       "      <td>272910</td>\n",
       "      <td>ACE 중장기국공채액티브</td>\n",
       "      <td>0.11</td>\n",
       "      <td>-0.52</td>\n",
       "      <td>-0.018212</td>\n",
       "      <td>채권</td>\n",
       "      <td>1</td>\n",
       "      <td>0</td>\n",
       "      <td>499</td>\n",
       "    </tr>\n",
       "    <tr>\n",
       "      <th>522</th>\n",
       "      <td>114460</td>\n",
       "      <td>ACE 국고채3년</td>\n",
       "      <td>0.11</td>\n",
       "      <td>-0.06</td>\n",
       "      <td>-0.005587</td>\n",
       "      <td>채권</td>\n",
       "      <td>278</td>\n",
       "      <td>28</td>\n",
       "      <td>186</td>\n",
       "    </tr>\n",
       "    <tr>\n",
       "      <th>778</th>\n",
       "      <td>298340</td>\n",
       "      <td>PLUS 국채선물3년</td>\n",
       "      <td>0.11</td>\n",
       "      <td>-0.19</td>\n",
       "      <td>-0.006587</td>\n",
       "      <td>채권</td>\n",
       "      <td>14</td>\n",
       "      <td>0</td>\n",
       "      <td>68</td>\n",
       "    </tr>\n",
       "    <tr>\n",
       "      <th>382</th>\n",
       "      <td>336160</td>\n",
       "      <td>RISE 금융채액티브</td>\n",
       "      <td>0.10</td>\n",
       "      <td>0.12</td>\n",
       "      <td>0.005009</td>\n",
       "      <td>채권</td>\n",
       "      <td>867</td>\n",
       "      <td>89</td>\n",
       "      <td>403</td>\n",
       "    </tr>\n",
       "    <tr>\n",
       "      <th>573</th>\n",
       "      <td>292770</td>\n",
       "      <td>KODEX 국채선물3년인버스</td>\n",
       "      <td>0.09</td>\n",
       "      <td>0.73</td>\n",
       "      <td>0.038016</td>\n",
       "      <td>채권</td>\n",
       "      <td>0</td>\n",
       "      <td>0</td>\n",
       "      <td>151</td>\n",
       "    </tr>\n",
       "    <tr>\n",
       "      <th>288</th>\n",
       "      <td>136340</td>\n",
       "      <td>RISE 중기우량회사채</td>\n",
       "      <td>0.09</td>\n",
       "      <td>0.16</td>\n",
       "      <td>0.005958</td>\n",
       "      <td>채권</td>\n",
       "      <td>1646</td>\n",
       "      <td>175</td>\n",
       "      <td>757</td>\n",
       "    </tr>\n",
       "    <tr>\n",
       "      <th>143</th>\n",
       "      <td>480260</td>\n",
       "      <td>TIGER 27-04회사채(A+이상)액티브</td>\n",
       "      <td>0.08</td>\n",
       "      <td>0.10</td>\n",
       "      <td>0.002909</td>\n",
       "      <td>채권</td>\n",
       "      <td>157273</td>\n",
       "      <td>8194</td>\n",
       "      <td>2108</td>\n",
       "    </tr>\n",
       "    <tr>\n",
       "      <th>320</th>\n",
       "      <td>489570</td>\n",
       "      <td>HANARO 25-12 은행채(AA+이상)액티브</td>\n",
       "      <td>0.07</td>\n",
       "      <td>0.15</td>\n",
       "      <td>0.009954</td>\n",
       "      <td>채권</td>\n",
       "      <td>186</td>\n",
       "      <td>1</td>\n",
       "      <td>610</td>\n",
       "    </tr>\n",
       "    <tr>\n",
       "      <th>106</th>\n",
       "      <td>473290</td>\n",
       "      <td>KODEX 26-12 회사채(AA-이상)액티브</td>\n",
       "      <td>0.07</td>\n",
       "      <td>0.14</td>\n",
       "      <td>0.009471</td>\n",
       "      <td>채권</td>\n",
       "      <td>21286</td>\n",
       "      <td>225</td>\n",
       "      <td>3147</td>\n",
       "    </tr>\n",
       "    <tr>\n",
       "      <th>187</th>\n",
       "      <td>461270</td>\n",
       "      <td>ACE 26-06 회사채(AA-이상)액티브</td>\n",
       "      <td>0.06</td>\n",
       "      <td>0.28</td>\n",
       "      <td>0.013804</td>\n",
       "      <td>채권</td>\n",
       "      <td>35648</td>\n",
       "      <td>388</td>\n",
       "      <td>1489</td>\n",
       "    </tr>\n",
       "    <tr>\n",
       "      <th>212</th>\n",
       "      <td>475260</td>\n",
       "      <td>ACE 2월만기자동연장회사채AA-이상액티브</td>\n",
       "      <td>0.06</td>\n",
       "      <td>0.34</td>\n",
       "      <td>0.016891</td>\n",
       "      <td>채권</td>\n",
       "      <td>2290</td>\n",
       "      <td>23</td>\n",
       "      <td>1184</td>\n",
       "    </tr>\n",
       "    <tr>\n",
       "      <th>251</th>\n",
       "      <td>461260</td>\n",
       "      <td>ACE 25-06 회사채(AA-이상)액티브</td>\n",
       "      <td>0.06</td>\n",
       "      <td>0.19</td>\n",
       "      <td>0.016349</td>\n",
       "      <td>채권</td>\n",
       "      <td>14382</td>\n",
       "      <td>154</td>\n",
       "      <td>987</td>\n",
       "    </tr>\n",
       "    <tr>\n",
       "      <th>239</th>\n",
       "      <td>465780</td>\n",
       "      <td>마이티 26-09 특수채(AAA)액티브</td>\n",
       "      <td>0.05</td>\n",
       "      <td>0.16</td>\n",
       "      <td>0.012054</td>\n",
       "      <td>채권</td>\n",
       "      <td>21</td>\n",
       "      <td>2</td>\n",
       "      <td>1054</td>\n",
       "    </tr>\n",
       "    <tr>\n",
       "      <th>115</th>\n",
       "      <td>467940</td>\n",
       "      <td>KODEX 25-11 회사채(A+이상)액티브</td>\n",
       "      <td>0.05</td>\n",
       "      <td>0.14</td>\n",
       "      <td>0.007024</td>\n",
       "      <td>채권</td>\n",
       "      <td>6960</td>\n",
       "      <td>74</td>\n",
       "      <td>2732</td>\n",
       "    </tr>\n",
       "    <tr>\n",
       "      <th>145</th>\n",
       "      <td>488980</td>\n",
       "      <td>SOL 26-12 회사채(AA-이상)액티브</td>\n",
       "      <td>0.05</td>\n",
       "      <td>0.18</td>\n",
       "      <td>0.012349</td>\n",
       "      <td>채권</td>\n",
       "      <td>11213</td>\n",
       "      <td>568</td>\n",
       "      <td>2095</td>\n",
       "    </tr>\n",
       "    <tr>\n",
       "      <th>272</th>\n",
       "      <td>464240</td>\n",
       "      <td>히어로즈 26-09 회사채(AA-이상)액티브</td>\n",
       "      <td>0.04</td>\n",
       "      <td>0.18</td>\n",
       "      <td>0.010585</td>\n",
       "      <td>채권</td>\n",
       "      <td>28216</td>\n",
       "      <td>1482</td>\n",
       "      <td>851</td>\n",
       "    </tr>\n",
       "    <tr>\n",
       "      <th>267</th>\n",
       "      <td>419890</td>\n",
       "      <td>히어로즈 단기채권ESG액티브</td>\n",
       "      <td>0.04</td>\n",
       "      <td>0.24</td>\n",
       "      <td>0.011665</td>\n",
       "      <td>채권</td>\n",
       "      <td>110690</td>\n",
       "      <td>11787</td>\n",
       "      <td>884</td>\n",
       "    </tr>\n",
       "    <tr>\n",
       "      <th>36</th>\n",
       "      <td>476810</td>\n",
       "      <td>KODEX 25-11 은행채(AA-이상)PLUS액티브</td>\n",
       "      <td>0.04</td>\n",
       "      <td>0.14</td>\n",
       "      <td>0.009647</td>\n",
       "      <td>채권</td>\n",
       "      <td>27557</td>\n",
       "      <td>286</td>\n",
       "      <td>9633</td>\n",
       "    </tr>\n",
       "    <tr>\n",
       "      <th>620</th>\n",
       "      <td>239660</td>\n",
       "      <td>PLUS 우량회사채50</td>\n",
       "      <td>0.04</td>\n",
       "      <td>0.16</td>\n",
       "      <td>0.008218</td>\n",
       "      <td>채권</td>\n",
       "      <td>1054</td>\n",
       "      <td>125</td>\n",
       "      <td>119</td>\n",
       "    </tr>\n",
       "    <tr>\n",
       "      <th>283</th>\n",
       "      <td>475280</td>\n",
       "      <td>ACE 8월만기자동연장회사채AA-이상액티브</td>\n",
       "      <td>0.04</td>\n",
       "      <td>0.29</td>\n",
       "      <td>0.016914</td>\n",
       "      <td>채권</td>\n",
       "      <td>662</td>\n",
       "      <td>6</td>\n",
       "      <td>791</td>\n",
       "    </tr>\n",
       "    <tr>\n",
       "      <th>262</th>\n",
       "      <td>473440</td>\n",
       "      <td>ACE 11월만기자동연장회사채AA-이상액티브</td>\n",
       "      <td>0.04</td>\n",
       "      <td>0.24</td>\n",
       "      <td>0.014354</td>\n",
       "      <td>채권</td>\n",
       "      <td>5202</td>\n",
       "      <td>54</td>\n",
       "      <td>939</td>\n",
       "    </tr>\n",
       "    <tr>\n",
       "      <th>361</th>\n",
       "      <td>475270</td>\n",
       "      <td>ACE 5월만기자동연장회사채AA-이상액티브</td>\n",
       "      <td>0.04</td>\n",
       "      <td>0.24</td>\n",
       "      <td>0.014486</td>\n",
       "      <td>채권</td>\n",
       "      <td>232</td>\n",
       "      <td>2</td>\n",
       "      <td>453</td>\n",
       "    </tr>\n",
       "    <tr>\n",
       "      <th>237</th>\n",
       "      <td>495710</td>\n",
       "      <td>BNK 26-06 특수채(AAA이상)액티브</td>\n",
       "      <td>0.03</td>\n",
       "      <td>0.19</td>\n",
       "      <td>0.010515</td>\n",
       "      <td>채권</td>\n",
       "      <td>1</td>\n",
       "      <td>0</td>\n",
       "      <td>1060</td>\n",
       "    </tr>\n",
       "    <tr>\n",
       "      <th>189</th>\n",
       "      <td>448600</td>\n",
       "      <td>RISE 25-11 회사채(AA-이상)액티브</td>\n",
       "      <td>0.03</td>\n",
       "      <td>0.24</td>\n",
       "      <td>0.011923</td>\n",
       "      <td>채권</td>\n",
       "      <td>7775</td>\n",
       "      <td>408</td>\n",
       "      <td>1475</td>\n",
       "    </tr>\n",
       "    <tr>\n",
       "      <th>51</th>\n",
       "      <td>153130</td>\n",
       "      <td>KODEX 단기채권</td>\n",
       "      <td>0.02</td>\n",
       "      <td>0.27</td>\n",
       "      <td>0.013184</td>\n",
       "      <td>채권</td>\n",
       "      <td>13114</td>\n",
       "      <td>1468</td>\n",
       "      <td>6915</td>\n",
       "    </tr>\n",
       "    <tr>\n",
       "      <th>280</th>\n",
       "      <td>464540</td>\n",
       "      <td>RISE 25-03 회사채(AA-이상)액티브</td>\n",
       "      <td>0.02</td>\n",
       "      <td>0.25</td>\n",
       "      <td>0.013824</td>\n",
       "      <td>채권</td>\n",
       "      <td>660</td>\n",
       "      <td>33</td>\n",
       "      <td>794</td>\n",
       "    </tr>\n",
       "    <tr>\n",
       "      <th>486</th>\n",
       "      <td>496020</td>\n",
       "      <td>WON 전단채플러스액티브</td>\n",
       "      <td>0.02</td>\n",
       "      <td>0.33</td>\n",
       "      <td>0.017904</td>\n",
       "      <td>채권</td>\n",
       "      <td>8071</td>\n",
       "      <td>406</td>\n",
       "      <td>227</td>\n",
       "    </tr>\n",
       "    <tr>\n",
       "      <th>32</th>\n",
       "      <td>494900</td>\n",
       "      <td>TIGER 25-12 금융채(AA-이상)</td>\n",
       "      <td>0.02</td>\n",
       "      <td>0.26</td>\n",
       "      <td>0.012917</td>\n",
       "      <td>채권</td>\n",
       "      <td>16632</td>\n",
       "      <td>838</td>\n",
       "      <td>10751</td>\n",
       "    </tr>\n",
       "    <tr>\n",
       "      <th>293</th>\n",
       "      <td>468820</td>\n",
       "      <td>WON 25-09 회사채(AA-이상)액티브</td>\n",
       "      <td>0.02</td>\n",
       "      <td>0.23</td>\n",
       "      <td>0.012076</td>\n",
       "      <td>채권</td>\n",
       "      <td>11</td>\n",
       "      <td>0</td>\n",
       "      <td>729</td>\n",
       "    </tr>\n",
       "    <tr>\n",
       "      <th>210</th>\n",
       "      <td>491230</td>\n",
       "      <td>PLUS 국공채머니마켓액티브</td>\n",
       "      <td>0.02</td>\n",
       "      <td>0.30</td>\n",
       "      <td>0.013356</td>\n",
       "      <td>채권</td>\n",
       "      <td>967</td>\n",
       "      <td>48</td>\n",
       "      <td>1201</td>\n",
       "    </tr>\n",
       "    <tr>\n",
       "      <th>221</th>\n",
       "      <td>466400</td>\n",
       "      <td>1Q 25-08 회사채(A+이상)액티브</td>\n",
       "      <td>0.02</td>\n",
       "      <td>0.26</td>\n",
       "      <td>0.012861</td>\n",
       "      <td>채권</td>\n",
       "      <td>461</td>\n",
       "      <td>49</td>\n",
       "      <td>1132</td>\n",
       "    </tr>\n",
       "    <tr>\n",
       "      <th>336</th>\n",
       "      <td>440640</td>\n",
       "      <td>ACE 단기채권알파액티브</td>\n",
       "      <td>0.02</td>\n",
       "      <td>0.29</td>\n",
       "      <td>0.014706</td>\n",
       "      <td>채권</td>\n",
       "      <td>2065</td>\n",
       "      <td>225</td>\n",
       "      <td>544</td>\n",
       "    </tr>\n",
       "    <tr>\n",
       "      <th>337</th>\n",
       "      <td>278620</td>\n",
       "      <td>PLUS 단기채권액티브</td>\n",
       "      <td>0.02</td>\n",
       "      <td>0.20</td>\n",
       "      <td>0.011911</td>\n",
       "      <td>채권</td>\n",
       "      <td>11205</td>\n",
       "      <td>1295</td>\n",
       "      <td>535</td>\n",
       "    </tr>\n",
       "    <tr>\n",
       "      <th>14</th>\n",
       "      <td>455890</td>\n",
       "      <td>RISE 머니마켓액티브</td>\n",
       "      <td>0.02</td>\n",
       "      <td>0.37</td>\n",
       "      <td>0.019192</td>\n",
       "      <td>채권</td>\n",
       "      <td>908306</td>\n",
       "      <td>48618</td>\n",
       "      <td>21557</td>\n",
       "    </tr>\n",
       "    <tr>\n",
       "      <th>379</th>\n",
       "      <td>122260</td>\n",
       "      <td>KOSEF 통안채1년</td>\n",
       "      <td>0.02</td>\n",
       "      <td>0.28</td>\n",
       "      <td>0.014109</td>\n",
       "      <td>채권</td>\n",
       "      <td>1890</td>\n",
       "      <td>194</td>\n",
       "      <td>412</td>\n",
       "    </tr>\n",
       "    <tr>\n",
       "      <th>240</th>\n",
       "      <td>489870</td>\n",
       "      <td>히어로즈 25-09 회사채(AA-이상)액티브</td>\n",
       "      <td>0.02</td>\n",
       "      <td>0.26</td>\n",
       "      <td>0.012890</td>\n",
       "      <td>채권</td>\n",
       "      <td>410</td>\n",
       "      <td>20</td>\n",
       "      <td>1050</td>\n",
       "    </tr>\n",
       "    <tr>\n",
       "      <th>395</th>\n",
       "      <td>458030</td>\n",
       "      <td>WON 단기국공채액티브</td>\n",
       "      <td>0.02</td>\n",
       "      <td>0.26</td>\n",
       "      <td>0.014622</td>\n",
       "      <td>채권</td>\n",
       "      <td>1700</td>\n",
       "      <td>90</td>\n",
       "      <td>375</td>\n",
       "    </tr>\n",
       "    <tr>\n",
       "      <th>26</th>\n",
       "      <td>453540</td>\n",
       "      <td>TIGER 25-10 회사채(A+이상)액티브</td>\n",
       "      <td>0.02</td>\n",
       "      <td>0.23</td>\n",
       "      <td>0.012490</td>\n",
       "      <td>채권</td>\n",
       "      <td>130335</td>\n",
       "      <td>7053</td>\n",
       "      <td>13018</td>\n",
       "    </tr>\n",
       "    <tr>\n",
       "      <th>168</th>\n",
       "      <td>483230</td>\n",
       "      <td>RISE 25-06 은행채(AA+이상)액티브</td>\n",
       "      <td>0.02</td>\n",
       "      <td>0.21</td>\n",
       "      <td>0.011291</td>\n",
       "      <td>채권</td>\n",
       "      <td>532</td>\n",
       "      <td>27</td>\n",
       "      <td>1720</td>\n",
       "    </tr>\n",
       "    <tr>\n",
       "      <th>86</th>\n",
       "      <td>491610</td>\n",
       "      <td>1Q CD금리액티브(합성)</td>\n",
       "      <td>0.01</td>\n",
       "      <td>0.29</td>\n",
       "      <td>0.015127</td>\n",
       "      <td>채권</td>\n",
       "      <td>15538</td>\n",
       "      <td>1568</td>\n",
       "      <td>3965</td>\n",
       "    </tr>\n",
       "    <tr>\n",
       "      <th>5</th>\n",
       "      <td>423160</td>\n",
       "      <td>KODEX KOFR금리액티브(합성)</td>\n",
       "      <td>0.01</td>\n",
       "      <td>0.27</td>\n",
       "      <td>0.013308</td>\n",
       "      <td>채권</td>\n",
       "      <td>58366</td>\n",
       "      <td>6368</td>\n",
       "      <td>42976</td>\n",
       "    </tr>\n",
       "    <tr>\n",
       "      <th>37</th>\n",
       "      <td>491080</td>\n",
       "      <td>KODEX 25-12 은행채(AAA)액티브</td>\n",
       "      <td>0.01</td>\n",
       "      <td>0.18</td>\n",
       "      <td>0.011375</td>\n",
       "      <td>채권</td>\n",
       "      <td>911</td>\n",
       "      <td>92</td>\n",
       "      <td>9577</td>\n",
       "    </tr>\n",
       "    <tr>\n",
       "      <th>46</th>\n",
       "      <td>157450</td>\n",
       "      <td>TIGER 단기통안채</td>\n",
       "      <td>0.01</td>\n",
       "      <td>0.23</td>\n",
       "      <td>0.013064</td>\n",
       "      <td>채권</td>\n",
       "      <td>14379</td>\n",
       "      <td>1570</td>\n",
       "      <td>7500</td>\n",
       "    </tr>\n",
       "    <tr>\n",
       "      <th>29</th>\n",
       "      <td>477080</td>\n",
       "      <td>RISE CD금리액티브(합성)</td>\n",
       "      <td>0.01</td>\n",
       "      <td>0.30</td>\n",
       "      <td>0.014620</td>\n",
       "      <td>채권</td>\n",
       "      <td>9020</td>\n",
       "      <td>926</td>\n",
       "      <td>11987</td>\n",
       "    </tr>\n",
       "    <tr>\n",
       "      <th>24</th>\n",
       "      <td>214980</td>\n",
       "      <td>KODEX 단기채권PLUS</td>\n",
       "      <td>0.01</td>\n",
       "      <td>0.21</td>\n",
       "      <td>0.012180</td>\n",
       "      <td>채권</td>\n",
       "      <td>358621</td>\n",
       "      <td>40541</td>\n",
       "      <td>15997</td>\n",
       "    </tr>\n",
       "    <tr>\n",
       "      <th>18</th>\n",
       "      <td>481050</td>\n",
       "      <td>KODEX CD1년금리플러스액티브(합성)</td>\n",
       "      <td>0.01</td>\n",
       "      <td>0.28</td>\n",
       "      <td>0.014423</td>\n",
       "      <td>채권</td>\n",
       "      <td>13001</td>\n",
       "      <td>13289</td>\n",
       "      <td>18025</td>\n",
       "    </tr>\n",
       "    <tr>\n",
       "      <th>879</th>\n",
       "      <td>390950</td>\n",
       "      <td>HANARO 단기채권액티브</td>\n",
       "      <td>0.01</td>\n",
       "      <td>0.23</td>\n",
       "      <td>0.011727</td>\n",
       "      <td>채권</td>\n",
       "      <td>191</td>\n",
       "      <td>20</td>\n",
       "      <td>45</td>\n",
       "    </tr>\n",
       "    <tr>\n",
       "      <th>66</th>\n",
       "      <td>196230</td>\n",
       "      <td>RISE 단기통안채</td>\n",
       "      <td>0.01</td>\n",
       "      <td>0.24</td>\n",
       "      <td>0.012525</td>\n",
       "      <td>채권</td>\n",
       "      <td>21566</td>\n",
       "      <td>2456</td>\n",
       "      <td>5296</td>\n",
       "    </tr>\n",
       "    <tr>\n",
       "      <th>75</th>\n",
       "      <td>469830</td>\n",
       "      <td>SOL 초단기채권액티브</td>\n",
       "      <td>0.01</td>\n",
       "      <td>0.32</td>\n",
       "      <td>0.016234</td>\n",
       "      <td>채권</td>\n",
       "      <td>408342</td>\n",
       "      <td>21417</td>\n",
       "      <td>4817</td>\n",
       "    </tr>\n",
       "    <tr>\n",
       "      <th>76</th>\n",
       "      <td>272580</td>\n",
       "      <td>TIGER 단기채권액티브</td>\n",
       "      <td>0.01</td>\n",
       "      <td>0.25</td>\n",
       "      <td>0.013190</td>\n",
       "      <td>채권</td>\n",
       "      <td>657694</td>\n",
       "      <td>36201</td>\n",
       "      <td>4807</td>\n",
       "    </tr>\n",
       "    <tr>\n",
       "      <th>7</th>\n",
       "      <td>449170</td>\n",
       "      <td>TIGER KOFR금리액티브(합성)</td>\n",
       "      <td>0.01</td>\n",
       "      <td>0.26</td>\n",
       "      <td>0.013026</td>\n",
       "      <td>채권</td>\n",
       "      <td>184905</td>\n",
       "      <td>19899</td>\n",
       "      <td>35156</td>\n",
       "    </tr>\n",
       "    <tr>\n",
       "      <th>258</th>\n",
       "      <td>385550</td>\n",
       "      <td>RISE 단기종합채권(AA-이상)액티브</td>\n",
       "      <td>0.01</td>\n",
       "      <td>0.24</td>\n",
       "      <td>0.012645</td>\n",
       "      <td>채권</td>\n",
       "      <td>4626</td>\n",
       "      <td>512</td>\n",
       "      <td>961</td>\n",
       "    </tr>\n",
       "    <tr>\n",
       "      <th>627</th>\n",
       "      <td>453060</td>\n",
       "      <td>HANARO KOFR금리액티브(합성)</td>\n",
       "      <td>0.01</td>\n",
       "      <td>0.20</td>\n",
       "      <td>0.010100</td>\n",
       "      <td>채권</td>\n",
       "      <td>0</td>\n",
       "      <td>0</td>\n",
       "      <td>117</td>\n",
       "    </tr>\n",
       "    <tr>\n",
       "      <th>161</th>\n",
       "      <td>273140</td>\n",
       "      <td>KODEX 단기변동금리부채권액티브</td>\n",
       "      <td>0.01</td>\n",
       "      <td>0.30</td>\n",
       "      <td>0.015299</td>\n",
       "      <td>채권</td>\n",
       "      <td>200</td>\n",
       "      <td>22</td>\n",
       "      <td>1780</td>\n",
       "    </tr>\n",
       "    <tr>\n",
       "      <th>270</th>\n",
       "      <td>486830</td>\n",
       "      <td>HANARO 머니마켓액티브</td>\n",
       "      <td>0.01</td>\n",
       "      <td>0.32</td>\n",
       "      <td>0.015748</td>\n",
       "      <td>채권</td>\n",
       "      <td>5236</td>\n",
       "      <td>266</td>\n",
       "      <td>861</td>\n",
       "    </tr>\n",
       "    <tr>\n",
       "      <th>2</th>\n",
       "      <td>357870</td>\n",
       "      <td>TIGER CD금리투자KIS(합성)</td>\n",
       "      <td>0.01</td>\n",
       "      <td>0.28</td>\n",
       "      <td>0.014438</td>\n",
       "      <td>채권</td>\n",
       "      <td>448022</td>\n",
       "      <td>24861</td>\n",
       "      <td>63279</td>\n",
       "    </tr>\n",
       "    <tr>\n",
       "      <th>243</th>\n",
       "      <td>130730</td>\n",
       "      <td>KOSEF 단기자금</td>\n",
       "      <td>0.01</td>\n",
       "      <td>0.23</td>\n",
       "      <td>0.012771</td>\n",
       "      <td>채권</td>\n",
       "      <td>6673</td>\n",
       "      <td>677</td>\n",
       "      <td>1021</td>\n",
       "    </tr>\n",
       "    <tr>\n",
       "      <th>307</th>\n",
       "      <td>497880</td>\n",
       "      <td>SOL CD금리&amp;머니마켓액티브</td>\n",
       "      <td>0.01</td>\n",
       "      <td>0.29</td>\n",
       "      <td>0.016015</td>\n",
       "      <td>채권</td>\n",
       "      <td>71090</td>\n",
       "      <td>3557</td>\n",
       "      <td>659</td>\n",
       "    </tr>\n",
       "    <tr>\n",
       "      <th>218</th>\n",
       "      <td>462540</td>\n",
       "      <td>SOL 25-09 회사채(AA-이상)액티브</td>\n",
       "      <td>0.01</td>\n",
       "      <td>0.25</td>\n",
       "      <td>0.012637</td>\n",
       "      <td>채권</td>\n",
       "      <td>603</td>\n",
       "      <td>32</td>\n",
       "      <td>1154</td>\n",
       "    </tr>\n",
       "    <tr>\n",
       "      <th>349</th>\n",
       "      <td>484890</td>\n",
       "      <td>SOL 머니마켓액티브</td>\n",
       "      <td>0.01</td>\n",
       "      <td>0.25</td>\n",
       "      <td>0.013758</td>\n",
       "      <td>채권</td>\n",
       "      <td>1543</td>\n",
       "      <td>78</td>\n",
       "      <td>490</td>\n",
       "    </tr>\n",
       "    <tr>\n",
       "      <th>178</th>\n",
       "      <td>190620</td>\n",
       "      <td>ACE 단기통안채</td>\n",
       "      <td>0.01</td>\n",
       "      <td>0.26</td>\n",
       "      <td>0.012666</td>\n",
       "      <td>채권</td>\n",
       "      <td>6571</td>\n",
       "      <td>659</td>\n",
       "      <td>1576</td>\n",
       "    </tr>\n",
       "    <tr>\n",
       "      <th>150</th>\n",
       "      <td>272560</td>\n",
       "      <td>RISE 단기국공채액티브</td>\n",
       "      <td>0.01</td>\n",
       "      <td>0.21</td>\n",
       "      <td>0.011440</td>\n",
       "      <td>채권</td>\n",
       "      <td>4477</td>\n",
       "      <td>499</td>\n",
       "      <td>1982</td>\n",
       "    </tr>\n",
       "    <tr>\n",
       "      <th>88</th>\n",
       "      <td>479080</td>\n",
       "      <td>1Q 머니마켓액티브</td>\n",
       "      <td>0.01</td>\n",
       "      <td>0.30</td>\n",
       "      <td>0.016036</td>\n",
       "      <td>채권</td>\n",
       "      <td>32234</td>\n",
       "      <td>1661</td>\n",
       "      <td>3812</td>\n",
       "    </tr>\n",
       "    <tr>\n",
       "      <th>142</th>\n",
       "      <td>463290</td>\n",
       "      <td>1Q 단기금융채액티브</td>\n",
       "      <td>0.01</td>\n",
       "      <td>0.26</td>\n",
       "      <td>0.013227</td>\n",
       "      <td>채권</td>\n",
       "      <td>23570</td>\n",
       "      <td>2498</td>\n",
       "      <td>2116</td>\n",
       "    </tr>\n",
       "    <tr>\n",
       "      <th>491</th>\n",
       "      <td>363510</td>\n",
       "      <td>SOL KIS단기통안채</td>\n",
       "      <td>0.01</td>\n",
       "      <td>0.22</td>\n",
       "      <td>0.011919</td>\n",
       "      <td>채권</td>\n",
       "      <td>691</td>\n",
       "      <td>75</td>\n",
       "      <td>221</td>\n",
       "    </tr>\n",
       "    <tr>\n",
       "      <th>126</th>\n",
       "      <td>479520</td>\n",
       "      <td>RISE KOFR금리액티브(합성)</td>\n",
       "      <td>0.01</td>\n",
       "      <td>0.26</td>\n",
       "      <td>0.013449</td>\n",
       "      <td>채권</td>\n",
       "      <td>4574</td>\n",
       "      <td>468</td>\n",
       "      <td>2347</td>\n",
       "    </tr>\n",
       "    <tr>\n",
       "      <th>123</th>\n",
       "      <td>487340</td>\n",
       "      <td>ACE CD금리&amp;초단기채권액티브</td>\n",
       "      <td>0.01</td>\n",
       "      <td>0.30</td>\n",
       "      <td>0.014987</td>\n",
       "      <td>채권</td>\n",
       "      <td>22727</td>\n",
       "      <td>2316</td>\n",
       "      <td>2405</td>\n",
       "    </tr>\n",
       "    <tr>\n",
       "      <th>101</th>\n",
       "      <td>477050</td>\n",
       "      <td>PLUS 머니마켓액티브</td>\n",
       "      <td>0.01</td>\n",
       "      <td>0.30</td>\n",
       "      <td>0.016045</td>\n",
       "      <td>채권</td>\n",
       "      <td>109328</td>\n",
       "      <td>5630</td>\n",
       "      <td>3392</td>\n",
       "    </tr>\n",
       "    <tr>\n",
       "      <th>94</th>\n",
       "      <td>476450</td>\n",
       "      <td>히어로즈 머니마켓액티브</td>\n",
       "      <td>0.01</td>\n",
       "      <td>0.26</td>\n",
       "      <td>0.013573</td>\n",
       "      <td>채권</td>\n",
       "      <td>6373</td>\n",
       "      <td>329</td>\n",
       "      <td>3598</td>\n",
       "    </tr>\n",
       "    <tr>\n",
       "      <th>619</th>\n",
       "      <td>471290</td>\n",
       "      <td>HANARO CD금리액티브(합성)</td>\n",
       "      <td>0.01</td>\n",
       "      <td>0.26</td>\n",
       "      <td>0.013480</td>\n",
       "      <td>채권</td>\n",
       "      <td>378</td>\n",
       "      <td>39</td>\n",
       "      <td>120</td>\n",
       "    </tr>\n",
       "    <tr>\n",
       "      <th>0</th>\n",
       "      <td>459580</td>\n",
       "      <td>KODEX CD금리액티브(합성)</td>\n",
       "      <td>0.01</td>\n",
       "      <td>0.29</td>\n",
       "      <td>0.014661</td>\n",
       "      <td>채권</td>\n",
       "      <td>247325</td>\n",
       "      <td>261881</td>\n",
       "      <td>91164</td>\n",
       "    </tr>\n",
       "  </tbody>\n",
       "</table>\n",
       "</div>"
      ],
      "text/plain": [
       "       Code                           Name  Volatility  TotalReturn  \\\n",
       "436  332610            PLUS 미국단기회사채(AAA~A)        1.83         4.62   \n",
       "610  451670             RISE 국채30년레버리지(합성)        1.66        -4.53   \n",
       "278  452250        ACE 미국30년국채선물레버리지(합성 H)        1.39       -12.97   \n",
       "190  451530             TIGER 국고채30년스트립액티브        1.29        -2.81   \n",
       "55   458250      TIGER 미국30년국채스트립액티브(합성 H)        1.15       -10.61   \n",
       "99   385560         RISE KIS국고채30년Enhanced        1.13        -2.62   \n",
       "92   472870         RISE 미국30년국채엔화노출(합성 H)        1.07        -6.50   \n",
       "236  476750          ACE 미국30년국채엔화노출액티브(H)        1.03        -6.91   \n",
       "767  267490        RISE 미국장기국채선물레버리지(합성 H)        1.02       -10.22   \n",
       "527  481340                RISE 미국30년국채액티브        0.93        -4.18   \n",
       "432  167860               KOSEF 국고채10년레버리지        0.89        -3.76   \n",
       "489  451600                 PLUS 국고채30년액티브        0.85        -2.03   \n",
       "450  471460                 히어로즈 국고채30년액티브        0.84        -2.72   \n",
       "82   439870                KODEX 국고채30년액티브        0.82        -2.00   \n",
       "290  476760                 ACE 미국30년국채액티브        0.82        -2.01   \n",
       "519  457700             KODEX 53-09 국고채액티브        0.82        -2.33   \n",
       "383  464470                 PLUS 미국채30년액티브        0.80        -2.16   \n",
       "764  304670       KODEX 미국30년국채울트라선물인버스(H)        0.77         7.43   \n",
       "343  461600              SOL 미국30년국채액티브(H)        0.74        -6.32   \n",
       "107  484790            KODEX 미국30년국채액티브(H)        0.71        -6.40   \n",
       "19   453850              ACE 미국30년국채액티브(H)        0.70        -6.38   \n",
       "71   481060      KODEX 미국30년국채타겟커버드콜(합성 H)        0.70        -5.99   \n",
       "31   476550        TIGER 미국30년국채커버드콜액티브(H)        0.70        -6.06   \n",
       "112  304660          KODEX 미국30년국채울트라선물(H)        0.68        -6.89   \n",
       "639  474390                  SOL 국고채30년액티브        0.67        -3.64   \n",
       "842  267450            RISE 미국장기국채선물인버스(H)        0.66         5.79   \n",
       "408  332620                 PLUS 미국장기우량회사채        0.62        -0.58   \n",
       "841  346000               HANARO KAP초장기국고채        0.61        -2.33   \n",
       "406  468380         KODEX iShares미국하이일드액티브        0.61         4.44   \n",
       "439  472830           RISE 미국30년국채커버드콜(합성)        0.61         0.06   \n",
       "660  267440               RISE 미국장기국채선물(H)        0.57        -4.59   \n",
       "292  295020                RISE 국채선물10년인버스        0.55         2.68   \n",
       "657  489000             PLUS 일본엔화초단기국채(합성)        0.54         0.05   \n",
       "552  468630      KODEX iShares미국투자등급회사채액티브        0.54         1.66   \n",
       "798  295000                   RISE 국채선물10년        0.52        -1.59   \n",
       "319  308620                KODEX 미국10년국채선물        0.51         2.39   \n",
       "331  455960         RISE 미국달러SOFR금리액티브(합성)        0.51         5.21   \n",
       "54   329750              TIGER 미국달러단기채권액티브        0.49         5.06   \n",
       "186  305080                 TIGER 미국채10년선물        0.49         2.58   \n",
       "152  473330            SOL 미국30년국채커버드콜(합성)        0.48         0.46   \n",
       "557  467620      히어로즈 25-09 미국채권(AA-이상)액티브        0.47         4.54   \n",
       "582  440650                ACE 미국달러단기채권액티브        0.47         4.91   \n",
       "706  468370      KODEX iShares미국인플레이션국채액티브        0.47         2.84   \n",
       "62   456610        TIGER 미국달러SOFR금리액티브(합성)        0.47         4.87   \n",
       "274  284430                 KODEX 200미국채혼합        0.46        -0.04   \n",
       "80   455030        KODEX 미국달러SOFR금리액티브(합성)        0.46         5.16   \n",
       "188  363570         KODEX 장기종합채권(AA-이상)액티브        0.46        -1.06   \n",
       "656  460270         히어로즈 미국달러SOFR금리액티브(합성)        0.46         4.88   \n",
       "803  456200         PLUS 미국달러SOFR금리액티브(합성)        0.45         4.87   \n",
       "920  469580                 RISE KP달러채권액티브        0.44         4.43   \n",
       "513  437350            RISE 미국단기투자등급회사채액티브        0.43         4.42   \n",
       "315  437070         KODEX 아시아달러채권ESG플러스액티브        0.42         3.23   \n",
       "185  461460                 PLUS 국고채10년액티브        0.42        -1.62   \n",
       "626  182490           TIGER 단기선진하이일드(합성 H)        0.41        -0.79   \n",
       "366  152380                  KODEX 국채선물10년        0.40        -1.96   \n",
       "752  432600                    RISE 국채선물3년        0.40         0.09   \n",
       "135  365780                     ACE 국고채10년        0.39        -1.50   \n",
       "93   148070                   KOSEF 국고채10년        0.39        -1.50   \n",
       "241  481430                 RISE 국고채10년액티브        0.39        -1.67   \n",
       "692  289670                   PLUS 국채선물10년        0.39        -2.25   \n",
       "89   471230                KODEX 국고채10년액티브        0.39        -1.51   \n",
       "836  397410               RISE 국채선물5년추종인버스        0.38         1.51   \n",
       "197  458260          TIGER 미국투자등급회사채액티브(H)        0.38        -2.53   \n",
       "794  176950               KODEX 국채선물10년인버스        0.36         2.30   \n",
       "857  397420                  RISE 국채선물5년추종        0.36        -0.61   \n",
       "372  448490            HANARO 32-10 국고채액티브        0.36        -1.31   \n",
       "216  438570                     SOL 국고채10년        0.36        -1.55   \n",
       "500  457690             KODEX 33-06 국고채액티브        0.33        -1.22   \n",
       "374  426150                 WON 대한민국국고채액티브        0.32        -1.59   \n",
       "116  451000            PLUS 종합채권(AA-이상)액티브        0.32        -0.48   \n",
       "819  455660               ACE 미국하이일드액티브(H)        0.32        -1.28   \n",
       "244  498180              파워 종합채권(AA-이상)액티브        0.31        -0.66   \n",
       "220  461500          HANARO 종합채권(AA-이상)액티브        0.29        -0.57   \n",
       "10   273130           KODEX 종합채권(AA-이상)액티브        0.29        -0.40   \n",
       "47   356540          ACE 종합채권(AA-이상)KIS액티브        0.27        -0.72   \n",
       "97   454780            히어로즈 종합채권(AA-이상)액티브        0.26        -0.86   \n",
       "238  437080          KODEX 미국종합채권ESG액티브(H)        0.26        -1.68   \n",
       "100  302190                    TIGER 중장기국채        0.26        -0.86   \n",
       "53   451540           TIGER 종합채권(AA-이상)액티브        0.25        -0.34   \n",
       "43   436140             SOL 종합채권(AA-이상)액티브        0.25        -0.31   \n",
       "25   385540             RISE 종합채권(A-이상)액티브        0.24        -0.39   \n",
       "246  472920              HK 종합채권(AA-이상)액티브        0.20        -0.98   \n",
       "435  272570                 RISE 중장기국공채액티브        0.16        -0.33   \n",
       "113  439860         KODEX ESG종합채권(A-이상)액티브        0.15         0.07   \n",
       "475  438560                      SOL 국고채3년        0.15         0.12   \n",
       "77   114260                    KODEX 국고채3년        0.14         0.00   \n",
       "128  438330               TIGER 투자등급회사채액티브        0.14        -0.03   \n",
       "355  114100                     RISE 국고채3년        0.14        -0.01   \n",
       "266  114820                     TIGER 국채3년        0.12        -0.07   \n",
       "550  114470                    KOSEF 국고채3년        0.12        -0.04   \n",
       "342  272910                  ACE 중장기국공채액티브        0.11        -0.52   \n",
       "522  114460                      ACE 국고채3년        0.11        -0.06   \n",
       "778  298340                    PLUS 국채선물3년        0.11        -0.19   \n",
       "382  336160                    RISE 금융채액티브        0.10         0.12   \n",
       "573  292770                KODEX 국채선물3년인버스        0.09         0.73   \n",
       "288  136340                   RISE 중기우량회사채        0.09         0.16   \n",
       "143  480260        TIGER 27-04회사채(A+이상)액티브        0.08         0.10   \n",
       "320  489570     HANARO 25-12 은행채(AA+이상)액티브        0.07         0.15   \n",
       "106  473290      KODEX 26-12 회사채(AA-이상)액티브        0.07         0.14   \n",
       "187  461270        ACE 26-06 회사채(AA-이상)액티브        0.06         0.28   \n",
       "212  475260        ACE 2월만기자동연장회사채AA-이상액티브        0.06         0.34   \n",
       "251  461260        ACE 25-06 회사채(AA-이상)액티브        0.06         0.19   \n",
       "239  465780          마이티 26-09 특수채(AAA)액티브        0.05         0.16   \n",
       "115  467940       KODEX 25-11 회사채(A+이상)액티브        0.05         0.14   \n",
       "145  488980        SOL 26-12 회사채(AA-이상)액티브        0.05         0.18   \n",
       "272  464240       히어로즈 26-09 회사채(AA-이상)액티브        0.04         0.18   \n",
       "267  419890                히어로즈 단기채권ESG액티브        0.04         0.24   \n",
       "36   476810  KODEX 25-11 은행채(AA-이상)PLUS액티브        0.04         0.14   \n",
       "620  239660                   PLUS 우량회사채50        0.04         0.16   \n",
       "283  475280        ACE 8월만기자동연장회사채AA-이상액티브        0.04         0.29   \n",
       "262  473440       ACE 11월만기자동연장회사채AA-이상액티브        0.04         0.24   \n",
       "361  475270        ACE 5월만기자동연장회사채AA-이상액티브        0.04         0.24   \n",
       "237  495710        BNK 26-06 특수채(AAA이상)액티브        0.03         0.19   \n",
       "189  448600       RISE 25-11 회사채(AA-이상)액티브        0.03         0.24   \n",
       "51   153130                     KODEX 단기채권        0.02         0.27   \n",
       "280  464540       RISE 25-03 회사채(AA-이상)액티브        0.02         0.25   \n",
       "486  496020                  WON 전단채플러스액티브        0.02         0.33   \n",
       "32   494900         TIGER 25-12 금융채(AA-이상)        0.02         0.26   \n",
       "293  468820        WON 25-09 회사채(AA-이상)액티브        0.02         0.23   \n",
       "210  491230                PLUS 국공채머니마켓액티브        0.02         0.30   \n",
       "221  466400          1Q 25-08 회사채(A+이상)액티브        0.02         0.26   \n",
       "336  440640                  ACE 단기채권알파액티브        0.02         0.29   \n",
       "337  278620                   PLUS 단기채권액티브        0.02         0.20   \n",
       "14   455890                   RISE 머니마켓액티브        0.02         0.37   \n",
       "379  122260                    KOSEF 통안채1년        0.02         0.28   \n",
       "240  489870       히어로즈 25-09 회사채(AA-이상)액티브        0.02         0.26   \n",
       "395  458030                   WON 단기국공채액티브        0.02         0.26   \n",
       "26   453540       TIGER 25-10 회사채(A+이상)액티브        0.02         0.23   \n",
       "168  483230       RISE 25-06 은행채(AA+이상)액티브        0.02         0.21   \n",
       "86   491610                 1Q CD금리액티브(합성)        0.01         0.29   \n",
       "5    423160            KODEX KOFR금리액티브(합성)        0.01         0.27   \n",
       "37   491080        KODEX 25-12 은행채(AAA)액티브        0.01         0.18   \n",
       "46   157450                    TIGER 단기통안채        0.01         0.23   \n",
       "29   477080               RISE CD금리액티브(합성)        0.01         0.30   \n",
       "24   214980                 KODEX 단기채권PLUS        0.01         0.21   \n",
       "18   481050         KODEX CD1년금리플러스액티브(합성)        0.01         0.28   \n",
       "879  390950                 HANARO 단기채권액티브        0.01         0.23   \n",
       "66   196230                     RISE 단기통안채        0.01         0.24   \n",
       "75   469830                   SOL 초단기채권액티브        0.01         0.32   \n",
       "76   272580                  TIGER 단기채권액티브        0.01         0.25   \n",
       "7    449170            TIGER KOFR금리액티브(합성)        0.01         0.26   \n",
       "258  385550          RISE 단기종합채권(AA-이상)액티브        0.01         0.24   \n",
       "627  453060           HANARO KOFR금리액티브(합성)        0.01         0.20   \n",
       "161  273140             KODEX 단기변동금리부채권액티브        0.01         0.30   \n",
       "270  486830                 HANARO 머니마켓액티브        0.01         0.32   \n",
       "2    357870            TIGER CD금리투자KIS(합성)        0.01         0.28   \n",
       "243  130730                     KOSEF 단기자금        0.01         0.23   \n",
       "307  497880               SOL CD금리&머니마켓액티브        0.01         0.29   \n",
       "218  462540        SOL 25-09 회사채(AA-이상)액티브        0.01         0.25   \n",
       "349  484890                    SOL 머니마켓액티브        0.01         0.25   \n",
       "178  190620                      ACE 단기통안채        0.01         0.26   \n",
       "150  272560                  RISE 단기국공채액티브        0.01         0.21   \n",
       "88   479080                     1Q 머니마켓액티브        0.01         0.30   \n",
       "142  463290                    1Q 단기금융채액티브        0.01         0.26   \n",
       "491  363510                   SOL KIS단기통안채        0.01         0.22   \n",
       "126  479520             RISE KOFR금리액티브(합성)        0.01         0.26   \n",
       "123  487340              ACE CD금리&초단기채권액티브        0.01         0.30   \n",
       "101  477050                   PLUS 머니마켓액티브        0.01         0.30   \n",
       "94   476450                   히어로즈 머니마켓액티브        0.01         0.26   \n",
       "619  471290             HANARO CD금리액티브(합성)        0.01         0.26   \n",
       "0    459580              KODEX CD금리액티브(합성)        0.01         0.29   \n",
       "\n",
       "     AvgReturn Sector   Volume  Amount  Marcap  \n",
       "436   0.242622     채권     3043     401     297  \n",
       "610  -0.214495     채권     2457      60     126  \n",
       "278  -0.655559     채권   112476     627     807  \n",
       "190  -0.127196     채권    90742    5410    1475  \n",
       "55   -0.519860     채권   177615    7035    6385  \n",
       "99   -0.107815     채권    58659    4767    3446  \n",
       "92   -0.305261     채권   676209    5696    3758  \n",
       "236  -0.324130     채권   138141    1251    1061  \n",
       "767  -0.516334     채권     4297      23      71  \n",
       "527  -0.194859     채권    63301     634     181  \n",
       "432  -0.211045     채권      293      32     301  \n",
       "489  -0.118794     채권      351      40     223  \n",
       "450  -0.106173     채권    14178     906     270  \n",
       "82   -0.094066     채권    25934    3096    4426  \n",
       "290  -0.096126     채권   140090    1423     752  \n",
       "519  -0.102530     채권    30148     361     191  \n",
       "383  -0.083171     채권    17341     916     399  \n",
       "764   0.334806     채권      104       1      72  \n",
       "343  -0.293874     채권    28103     247     499  \n",
       "107  -0.309794     채권   736585    6682    3110  \n",
       "19   -0.305688     채권  2165000   16906   17990  \n",
       "71   -0.287973     채권   694459    6352    4874  \n",
       "31   -0.285190     채권  1256177   10572   11628  \n",
       "112  -0.335303     채권   172042    1287    2927  \n",
       "639  -0.184704     채권       11       0     110  \n",
       "842   0.262741     채권       20       0      56  \n",
       "408  -0.018542     채권     2428     234     345  \n",
       "841  -0.131307     채권       81       3      56  \n",
       "406   0.183570     채권    65467     767     350  \n",
       "439   0.017419     채권    26436     253     293  \n",
       "660  -0.227261     채권     2437      20     100  \n",
       "292   0.124149     채권       84       4     729  \n",
       "657   0.016307     채권    49323     494     101  \n",
       "552   0.099343     채권    43265     502     164  \n",
       "798  -0.104705     채권      812      44      64  \n",
       "319   0.123693     채권    71081     853     612  \n",
       "331   0.242126     채권     7142      85     559  \n",
       "54    0.250303     채권  1181492   15557    6442  \n",
       "186   0.132501     채권   160873    2049    1490  \n",
       "152   0.044115     채권   438836    4302    1951  \n",
       "557   0.229517     채권     6376     363     159  \n",
       "582   0.243284     채권    54669     655     144  \n",
       "706   0.143423     채권    54091     608      83  \n",
       "62    0.246377     채권    52939    3157    5555  \n",
       "274   0.036358     채권    86489    1103     838  \n",
       "80    0.250546     채권  1368884   16908    4499  \n",
       "188  -0.054743     채권      411      41    1484  \n",
       "656   0.239699     채권      473       5     101  \n",
       "803   0.242378     채권       36       2      63  \n",
       "920   0.222699     채권       63       3      23  \n",
       "513   0.219314     채권    41142     506     197  \n",
       "315   0.163994     채권     1212      74     634  \n",
       "185  -0.099989     채권     2892     159    1492  \n",
       "626  -0.035167     채권     1552      20     117  \n",
       "366  -0.106395     채권    13072     905     437  \n",
       "752  -0.009686     채권       11       0      74  \n",
       "135  -0.085092     채권    17336    1550    2229  \n",
       "93   -0.087954     채권    41585    4727    3726  \n",
       "241  -0.086478     채권   108351   11454    1027  \n",
       "692  -0.108165     채권    13928     775      89  \n",
       "89   -0.087168     채권    90645   10137    3810  \n",
       "836   0.061243     채권        7       0      57  \n",
       "197  -0.112021     채권   241244   11688    1364  \n",
       "794   0.124325     채권        9       0      65  \n",
       "857  -0.040027     채권        4       0      52  \n",
       "372  -0.069836     채권     1606      90     421  \n",
       "216  -0.090355     채권     3776     403    1174  \n",
       "500  -0.069672     채권    45540     498     216  \n",
       "374  -0.072482     채권     1618      92     421  \n",
       "116  -0.034890     채권      120      13    2651  \n",
       "819  -0.066270     채권    13200     131      60  \n",
       "244  -0.038594     채권        1       0    1020  \n",
       "220  -0.033137     채권    63890    7210    1144  \n",
       "10   -0.026375     채권   143386   16673   28271  \n",
       "47   -0.044811     채권     5109     542    7431  \n",
       "97   -0.037127     채권       16       1    3524  \n",
       "238  -0.083133     채권     3851     387    1058  \n",
       "100  -0.047109     채권    91512    4724    3403  \n",
       "53   -0.019353     채권    31808    1776    6479  \n",
       "43   -0.018681     채권     4989     562    8328  \n",
       "25   -0.021174     채권     7770     840   13494  \n",
       "246  -0.053892     채권        1       0    1005  \n",
       "435  -0.014239     채권       54       5     298  \n",
       "113   0.007415     채권       11       1    2917  \n",
       "475  -0.002599     채권     2016     204     239  \n",
       "77   -0.002736     채권    14310     884    4627  \n",
       "128  -0.002082     채권    10094    1158    2300  \n",
       "355  -0.004137     채권      325      35     459  \n",
       "266  -0.006348     채권     1263     135     889  \n",
       "550  -0.005042     채권     5212     575     166  \n",
       "342  -0.018212     채권        1       0     499  \n",
       "522  -0.005587     채권      278      28     186  \n",
       "778  -0.006587     채권       14       0      68  \n",
       "382   0.005009     채권      867      89     403  \n",
       "573   0.038016     채권        0       0     151  \n",
       "288   0.005958     채권     1646     175     757  \n",
       "143   0.002909     채권   157273    8194    2108  \n",
       "320   0.009954     채권      186       1     610  \n",
       "106   0.009471     채권    21286     225    3147  \n",
       "187   0.013804     채권    35648     388    1489  \n",
       "212   0.016891     채권     2290      23    1184  \n",
       "251   0.016349     채권    14382     154     987  \n",
       "239   0.012054     채권       21       2    1054  \n",
       "115   0.007024     채권     6960      74    2732  \n",
       "145   0.012349     채권    11213     568    2095  \n",
       "272   0.010585     채권    28216    1482     851  \n",
       "267   0.011665     채권   110690   11787     884  \n",
       "36    0.009647     채권    27557     286    9633  \n",
       "620   0.008218     채권     1054     125     119  \n",
       "283   0.016914     채권      662       6     791  \n",
       "262   0.014354     채권     5202      54     939  \n",
       "361   0.014486     채권      232       2     453  \n",
       "237   0.010515     채권        1       0    1060  \n",
       "189   0.011923     채권     7775     408    1475  \n",
       "51    0.013184     채권    13114    1468    6915  \n",
       "280   0.013824     채권      660      33     794  \n",
       "486   0.017904     채권     8071     406     227  \n",
       "32    0.012917     채권    16632     838   10751  \n",
       "293   0.012076     채권       11       0     729  \n",
       "210   0.013356     채권      967      48    1201  \n",
       "221   0.012861     채권      461      49    1132  \n",
       "336   0.014706     채권     2065     225     544  \n",
       "337   0.011911     채권    11205    1295     535  \n",
       "14    0.019192     채권   908306   48618   21557  \n",
       "379   0.014109     채권     1890     194     412  \n",
       "240   0.012890     채권      410      20    1050  \n",
       "395   0.014622     채권     1700      90     375  \n",
       "26    0.012490     채권   130335    7053   13018  \n",
       "168   0.011291     채권      532      27    1720  \n",
       "86    0.015127     채권    15538    1568    3965  \n",
       "5     0.013308     채권    58366    6368   42976  \n",
       "37    0.011375     채권      911      92    9577  \n",
       "46    0.013064     채권    14379    1570    7500  \n",
       "29    0.014620     채권     9020     926   11987  \n",
       "24    0.012180     채권   358621   40541   15997  \n",
       "18    0.014423     채권    13001   13289   18025  \n",
       "879   0.011727     채권      191      20      45  \n",
       "66    0.012525     채권    21566    2456    5296  \n",
       "75    0.016234     채권   408342   21417    4817  \n",
       "76    0.013190     채권   657694   36201    4807  \n",
       "7     0.013026     채권   184905   19899   35156  \n",
       "258   0.012645     채권     4626     512     961  \n",
       "627   0.010100     채권        0       0     117  \n",
       "161   0.015299     채권      200      22    1780  \n",
       "270   0.015748     채권     5236     266     861  \n",
       "2     0.014438     채권   448022   24861   63279  \n",
       "243   0.012771     채권     6673     677    1021  \n",
       "307   0.016015     채권    71090    3557     659  \n",
       "218   0.012637     채권      603      32    1154  \n",
       "349   0.013758     채권     1543      78     490  \n",
       "178   0.012666     채권     6571     659    1576  \n",
       "150   0.011440     채권     4477     499    1982  \n",
       "88    0.016036     채권    32234    1661    3812  \n",
       "142   0.013227     채권    23570    2498    2116  \n",
       "491   0.011919     채권      691      75     221  \n",
       "126   0.013449     채권     4574     468    2347  \n",
       "123   0.014987     채권    22727    2316    2405  \n",
       "101   0.016045     채권   109328    5630    3392  \n",
       "94    0.013573     채권     6373     329    3598  \n",
       "619   0.013480     채권      378      39     120  \n",
       "0     0.014661     채권   247325  261881   91164  "
      ]
     },
     "metadata": {},
     "output_type": "display_data"
    }
   ],
   "source": [
    "get_volatility_by_stock('채권', market='ETF')"
   ]
  },
  {
   "cell_type": "code",
   "execution_count": 66,
   "metadata": {},
   "outputs": [
    {
     "data": {
      "image/png": "[encoded data removed]",
      "text/plain": [
       "<Figure size 1000x600 with 1 Axes>"
      ]
     },
     "metadata": {},
     "output_type": "display_data"
    },
    {
     "name": "stdout",
     "output_type": "stream",
     "text": [
      "반도체와반도체장비 업종의 변동성 평균: 3.54%\n"
     ]
    }
   ],
   "source": [
    "get_volatility_by_stock('반도체와반도체장비', new_kospi_df)"
   ]
  },
  {
   "cell_type": "code",
   "execution_count": null,
   "metadata": {},
   "outputs": [],
   "source": [
    "df = pd.read_csv('sector_by_stock_list_df.csv')"
   ]
  },
  {
   "cell_type": "code",
   "execution_count": 32,
   "metadata": {},
   "outputs": [
    {
     "data": {
      "text/html": [
       "<div>\n",
       "<style scoped>\n",
       "    .dataframe tbody tr th:only-of-type {\n",
       "        vertical-align: middle;\n",
       "    }\n",
       "\n",
       "    .dataframe tbody tr th {\n",
       "        vertical-align: top;\n",
       "    }\n",
       "\n",
       "    .dataframe thead th {\n",
       "        text-align: right;\n",
       "    }\n",
       "</style>\n",
       "<table border=\"1\" class=\"dataframe\">\n",
       "  <thead>\n",
       "    <tr style=\"text-align: right;\">\n",
       "      <th></th>\n",
       "      <th>Code</th>\n",
       "      <th>Name</th>\n",
       "      <th>Volatility</th>\n",
       "      <th>TotalReturn</th>\n",
       "      <th>AvgReturn</th>\n",
       "      <th>Sector</th>\n",
       "      <th>Volume</th>\n",
       "      <th>Amount</th>\n",
       "      <th>Marcap</th>\n",
       "    </tr>\n",
       "  </thead>\n",
       "  <tbody>\n",
       "    <tr>\n",
       "      <th>329</th>\n",
       "      <td>034310</td>\n",
       "      <td>NICE</td>\n",
       "      <td>1.579579</td>\n",
       "      <td>-0.720072</td>\n",
       "      <td>-0.030848</td>\n",
       "      <td>IT서비스</td>\n",
       "      <td>21447</td>\n",
       "      <td>237770650</td>\n",
       "      <td>409526715260</td>\n",
       "    </tr>\n",
       "    <tr>\n",
       "      <th>43</th>\n",
       "      <td>018260</td>\n",
       "      <td>삼성에스디에스</td>\n",
       "      <td>2.285538</td>\n",
       "      <td>-13.997308</td>\n",
       "      <td>-0.697982</td>\n",
       "      <td>IT서비스</td>\n",
       "      <td>147086</td>\n",
       "      <td>18643307200</td>\n",
       "      <td>9888882840000</td>\n",
       "    </tr>\n",
       "    <tr>\n",
       "      <th>884</th>\n",
       "      <td>007120</td>\n",
       "      <td>미래아이앤지</td>\n",
       "      <td>2.783828</td>\n",
       "      <td>-16.633858</td>\n",
       "      <td>-0.941619</td>\n",
       "      <td>IT서비스</td>\n",
       "      <td>77041</td>\n",
       "      <td>65405886</td>\n",
       "      <td>24460180976</td>\n",
       "    </tr>\n",
       "    <tr>\n",
       "      <th>400</th>\n",
       "      <td>012030</td>\n",
       "      <td>DB</td>\n",
       "      <td>3.889940</td>\n",
       "      <td>-6.071429</td>\n",
       "      <td>-0.385695</td>\n",
       "      <td>IT서비스</td>\n",
       "      <td>1528517</td>\n",
       "      <td>1978536238</td>\n",
       "      <td>264543721895</td>\n",
       "    </tr>\n",
       "    <tr>\n",
       "      <th>428</th>\n",
       "      <td>035510</td>\n",
       "      <td>신세계 I&amp;C</td>\n",
       "      <td>9.187633</td>\n",
       "      <td>72.696246</td>\n",
       "      <td>3.203094</td>\n",
       "      <td>IT서비스</td>\n",
       "      <td>20812289</td>\n",
       "      <td>340767102570</td>\n",
       "      <td>231776437200</td>\n",
       "    </tr>\n",
       "  </tbody>\n",
       "</table>\n",
       "</div>"
      ],
      "text/plain": [
       "       Code     Name  Volatility  TotalReturn  AvgReturn Sector    Volume  \\\n",
       "329  034310     NICE    1.579579    -0.720072  -0.030848  IT서비스     21447   \n",
       "43   018260  삼성에스디에스    2.285538   -13.997308  -0.697982  IT서비스    147086   \n",
       "884  007120   미래아이앤지    2.783828   -16.633858  -0.941619  IT서비스     77041   \n",
       "400  012030       DB    3.889940    -6.071429  -0.385695  IT서비스   1528517   \n",
       "428  035510  신세계 I&C    9.187633    72.696246   3.203094  IT서비스  20812289   \n",
       "\n",
       "           Amount         Marcap  \n",
       "329     237770650   409526715260  \n",
       "43    18643307200  9888882840000  \n",
       "884      65405886    24460180976  \n",
       "400    1978536238   264543721895  \n",
       "428  340767102570   231776437200  "
      ]
     },
     "execution_count": 32,
     "metadata": {},
     "output_type": "execute_result"
    }
   ],
   "source": [
    "new_kospi_df.sort_values(by='Sector').head()"
   ]
  },
  {
   "cell_type": "code",
   "execution_count": 71,
   "metadata": {},
   "outputs": [],
   "source": [
    "# 특정 업종내 종목별 수익률 시각화\n",
    "\n",
    "def get_return_by_stock(sector, df) :\n",
    "  '''\n",
    "  특정 업종 내 종목별 수익률을 시각화하고, 해당 업종의 평균 수익률을 표시합니다.\n",
    "\n",
    "  Parameters:\n",
    "  sector (str): 분석할 업종의 이름.\n",
    "  df (pd.DataFrame): 종목 정보를 포함하는 전처리가 완료된 데이터프레임. \n",
    "                    데이터프레임은 'Sector', 'TotalReturn', 'Name' 열을 포함해야 합니다.\n",
    "\n",
    "  Returns:\n",
    "  None: 이 함수는 그래프를 시각화하고, 평균 수익률 정보를 출력합니다.\n",
    "\n",
    "  Example:\n",
    "  >>> get_return_by_stock('IT서비스', new_kospi_df)\n",
    "  \n",
    "  '''\n",
    "  \n",
    "  sector_data = df[df['Sector'] == sector].sort_values(by='TotalReturn', ascending=False)\n",
    "   \n",
    "  plt.figure(figsize=(10, 6))\n",
    "  sns.barplot(y='Nam                                                                                                                                                                                                                                                                                                                                                                                                                                                                                                                                                                                                                                                                                                                                                                                                                                                                                                                                                                                                                                                                                                                                                                                                                                                                                                                                                                                                                                                                                                                                                                                                                                                                                                                                                                                                                                                                                                                                                                                                                                                                                                                                                                                                                                                                                                                                                                                                                                                                                                                                                                                                                                                                                                                                                                                                                                                                                                                                                                                                                                                                                                                                                                                                                                                                                                                                                                                                                                                                                                                                                                                                                                                                                                                                                                                                                                                                                                                                                                                                                                                                                                                                                                                                                                                                                                                                                                                                                                                                                                                                         e', x='TotalReturn', data=sector_data)\n",
    "  \n",
    "  # 해당 업종의 평균 수익률 계산\n",
    "  avg_total_return = df[df['Sector'] == sector]['TotalReturn'].mean()\n",
    "  \n",
    "  # 평균 수익률을 기준으로 수평선 추가\n",
    "  plt.axvline(avg_total_return, color='red', linestyle='--', label=f'평균 수익률: {avg_total_return:.2f}')\n",
    "  \n",
    "  # 평균 수익률 수치 표시\n",
    "  plt.text(avg_total_return + 0.1, 10, f'평균 수익률 : {avg_total_return:.2f}%', color='red', va='center', fontsize=10)\n",
    "  \n",
    "  plt.title(f'{sector} 업종 내 종목 수익률 평균')\n",
    "  plt.xlabel('수익률')\n",
    "  plt.ylabel('종목명')\n",
    "  plt.show()\n",
    "  \n",
    "  \n",
    "  print(f'{sector} 업종의 수익률 평균: {avg_total_return:.2f}%')\n",
    "  display(sector_data)\n",
    "  "
   ]
  },
  {
   "cell_type": "code",
   "execution_count": 72,
   "metadata": {},
   "outputs": [
    {
     "data": {
      "image/png": "[encoded data removed]",
      "text/plain": [
       "<Figure size 1000x600 with 1 Axes>"
      ]
     },
     "metadata": {},
     "output_type": "display_data"
    },
    {
     "name": "stdout",
     "output_type": "stream",
     "text": [
      "반도체와반도체장비 업종의 수익률 평균: 2.26%\n"
     ]
    },
    {
     "data": {
      "text/html": [
       "<div>\n",
       "<style scoped>\n",
       "    .dataframe tbody tr th:only-of-type {\n",
       "        vertical-align: middle;\n",
       "    }\n",
       "\n",
       "    .dataframe tbody tr th {\n",
       "        vertical-align: top;\n",
       "    }\n",
       "\n",
       "    .dataframe thead th {\n",
       "        text-align: right;\n",
       "    }\n",
       "</style>\n",
       "<table border=\"1\" class=\"dataframe\">\n",
       "  <thead>\n",
       "    <tr style=\"text-align: right;\">\n",
       "      <th></th>\n",
       "      <th>Code</th>\n",
       "      <th>Name</th>\n",
       "      <th>Volatility</th>\n",
       "      <th>TotalReturn</th>\n",
       "      <th>AvgReturn</th>\n",
       "      <th>Sector</th>\n",
       "      <th>Volume</th>\n",
       "      <th>Amount</th>\n",
       "      <th>Marcap</th>\n",
       "    </tr>\n",
       "  </thead>\n",
       "  <tbody>\n",
       "    <tr>\n",
       "      <th>338</th>\n",
       "      <td>003160</td>\n",
       "      <td>디아이</td>\n",
       "      <td>5.955740</td>\n",
       "      <td>25.522252</td>\n",
       "      <td>1.261167</td>\n",
       "      <td>반도체와반도체장비</td>\n",
       "      <td>2483535</td>\n",
       "      <td>33656565150</td>\n",
       "      <td>391106000000</td>\n",
       "    </tr>\n",
       "    <tr>\n",
       "      <th>50</th>\n",
       "      <td>042700</td>\n",
       "      <td>한미반도체</td>\n",
       "      <td>4.619404</td>\n",
       "      <td>15.076072</td>\n",
       "      <td>0.672599</td>\n",
       "      <td>반도체와반도체장비</td>\n",
       "      <td>660429</td>\n",
       "      <td>55465247700</td>\n",
       "      <td>8038306348800</td>\n",
       "    </tr>\n",
       "    <tr>\n",
       "      <th>336</th>\n",
       "      <td>195870</td>\n",
       "      <td>해성디에스</td>\n",
       "      <td>3.646385</td>\n",
       "      <td>11.190476</td>\n",
       "      <td>0.461510</td>\n",
       "      <td>반도체와반도체장비</td>\n",
       "      <td>63172</td>\n",
       "      <td>1501871400</td>\n",
       "      <td>396950000000</td>\n",
       "    </tr>\n",
       "    <tr>\n",
       "      <th>1</th>\n",
       "      <td>000660</td>\n",
       "      <td>SK하이닉스</td>\n",
       "      <td>2.346059</td>\n",
       "      <td>9.886650</td>\n",
       "      <td>0.487213</td>\n",
       "      <td>반도체와반도체장비</td>\n",
       "      <td>2643523</td>\n",
       "      <td>459886497400</td>\n",
       "      <td>127036412692500</td>\n",
       "    </tr>\n",
       "    <tr>\n",
       "      <th>156</th>\n",
       "      <td>000990</td>\n",
       "      <td>DB하이텍</td>\n",
       "      <td>4.214063</td>\n",
       "      <td>4.793388</td>\n",
       "      <td>0.133492</td>\n",
       "      <td>반도체와반도체장비</td>\n",
       "      <td>163691</td>\n",
       "      <td>5262527000</td>\n",
       "      <td>1407435239600</td>\n",
       "    </tr>\n",
       "    <tr>\n",
       "      <th>631</th>\n",
       "      <td>077500</td>\n",
       "      <td>유니퀘스트</td>\n",
       "      <td>4.261128</td>\n",
       "      <td>1.992032</td>\n",
       "      <td>0.178933</td>\n",
       "      <td>반도체와반도체장비</td>\n",
       "      <td>162635</td>\n",
       "      <td>821224685</td>\n",
       "      <td>110592522240</td>\n",
       "    </tr>\n",
       "    <tr>\n",
       "      <th>860</th>\n",
       "      <td>006200</td>\n",
       "      <td>한국전자홀딩스</td>\n",
       "      <td>1.969498</td>\n",
       "      <td>0.580552</td>\n",
       "      <td>-0.034538</td>\n",
       "      <td>반도체와반도체장비</td>\n",
       "      <td>27185</td>\n",
       "      <td>18967604</td>\n",
       "      <td>32434573248</td>\n",
       "    </tr>\n",
       "    <tr>\n",
       "      <th>539</th>\n",
       "      <td>092220</td>\n",
       "      <td>KEC</td>\n",
       "      <td>3.762751</td>\n",
       "      <td>0.387597</td>\n",
       "      <td>0.025725</td>\n",
       "      <td>반도체와반도체장비</td>\n",
       "      <td>470609</td>\n",
       "      <td>366177282</td>\n",
       "      <td>155992960557</td>\n",
       "    </tr>\n",
       "    <tr>\n",
       "      <th>0</th>\n",
       "      <td>005930</td>\n",
       "      <td>삼성전자</td>\n",
       "      <td>1.578523</td>\n",
       "      <td>0.186567</td>\n",
       "      <td>-0.036956</td>\n",
       "      <td>반도체와반도체장비</td>\n",
       "      <td>10747196</td>\n",
       "      <td>576022861800</td>\n",
       "      <td>320577322935000</td>\n",
       "    </tr>\n",
       "    <tr>\n",
       "      <th>421</th>\n",
       "      <td>011930</td>\n",
       "      <td>신성이엔지</td>\n",
       "      <td>3.816899</td>\n",
       "      <td>-1.623932</td>\n",
       "      <td>-0.150712</td>\n",
       "      <td>반도체와반도체장비</td>\n",
       "      <td>358863</td>\n",
       "      <td>416573632</td>\n",
       "      <td>236931221801</td>\n",
       "    </tr>\n",
       "    <tr>\n",
       "      <th>7</th>\n",
       "      <td>005935</td>\n",
       "      <td>삼성전자우</td>\n",
       "      <td>1.711141</td>\n",
       "      <td>-1.754386</td>\n",
       "      <td>-0.147873</td>\n",
       "      <td>반도체와반도체장비</td>\n",
       "      <td>570379</td>\n",
       "      <td>25436854550</td>\n",
       "      <td>36865324160000</td>\n",
       "    </tr>\n",
       "    <tr>\n",
       "      <th>443</th>\n",
       "      <td>029460</td>\n",
       "      <td>케이씨</td>\n",
       "      <td>2.114702</td>\n",
       "      <td>-2.524956</td>\n",
       "      <td>-0.238096</td>\n",
       "      <td>반도체와반도체장비</td>\n",
       "      <td>13446</td>\n",
       "      <td>222025310</td>\n",
       "      <td>224997130400</td>\n",
       "    </tr>\n",
       "    <tr>\n",
       "      <th>277</th>\n",
       "      <td>281820</td>\n",
       "      <td>케이씨텍</td>\n",
       "      <td>3.961664</td>\n",
       "      <td>-3.102190</td>\n",
       "      <td>-0.735715</td>\n",
       "      <td>반도체와반도체장비</td>\n",
       "      <td>41247</td>\n",
       "      <td>1083134650</td>\n",
       "      <td>553874311800</td>\n",
       "    </tr>\n",
       "    <tr>\n",
       "      <th>832</th>\n",
       "      <td>025560</td>\n",
       "      <td>미래산업</td>\n",
       "      <td>5.593080</td>\n",
       "      <td>-28.964253</td>\n",
       "      <td>-1.284351</td>\n",
       "      <td>반도체와반도체장비</td>\n",
       "      <td>461524</td>\n",
       "      <td>358934841</td>\n",
       "      <td>41588766100</td>\n",
       "    </tr>\n",
       "  </tbody>\n",
       "</table>\n",
       "</div>"
      ],
      "text/plain": [
       "       Code     Name  Volatility  TotalReturn  AvgReturn     Sector    Volume  \\\n",
       "338  003160      디아이    5.955740    25.522252   1.261167  반도체와반도체장비   2483535   \n",
       "50   042700    한미반도체    4.619404    15.076072   0.672599  반도체와반도체장비    660429   \n",
       "336  195870    해성디에스    3.646385    11.190476   0.461510  반도체와반도체장비     63172   \n",
       "1    000660   SK하이닉스    2.346059     9.886650   0.487213  반도체와반도체장비   2643523   \n",
       "156  000990    DB하이텍    4.214063     4.793388   0.133492  반도체와반도체장비    163691   \n",
       "631  077500    유니퀘스트    4.261128     1.992032   0.178933  반도체와반도체장비    162635   \n",
       "860  006200  한국전자홀딩스    1.969498     0.580552  -0.034538  반도체와반도체장비     27185   \n",
       "539  092220      KEC    3.762751     0.387597   0.025725  반도체와반도체장비    470609   \n",
       "0    005930     삼성전자    1.578523     0.186567  -0.036956  반도체와반도체장비  10747196   \n",
       "421  011930    신성이엔지    3.816899    -1.623932  -0.150712  반도체와반도체장비    358863   \n",
       "7    005935    삼성전자우    1.711141    -1.754386  -0.147873  반도체와반도체장비    570379   \n",
       "443  029460      케이씨    2.114702    -2.524956  -0.238096  반도체와반도체장비     13446   \n",
       "277  281820     케이씨텍    3.961664    -3.102190  -0.735715  반도체와반도체장비     41247   \n",
       "832  025560     미래산업    5.593080   -28.964253  -1.284351  반도체와반도체장비    461524   \n",
       "\n",
       "           Amount           Marcap  \n",
       "338   33656565150     391106000000  \n",
       "50    55465247700    8038306348800  \n",
       "336    1501871400     396950000000  \n",
       "1    459886497400  127036412692500  \n",
       "156    5262527000    1407435239600  \n",
       "631     821224685     110592522240  \n",
       "860      18967604      32434573248  \n",
       "539     366177282     155992960557  \n",
       "0    576022861800  320577322935000  \n",
       "421     416573632     236931221801  \n",
       "7     25436854550   36865324160000  \n",
       "443     222025310     224997130400  \n",
       "277    1083134650     553874311800  \n",
       "832     358934841      41588766100  "
      ]
     },
     "metadata": {},
     "output_type": "display_data"
    }
   ],
   "source": [
    "get_return_by_stock('반도체와반도체장비', new_kospi_df)"
   ]
  },
  {
   "cell_type": "code",
   "execution_count": null,
   "metadata": {},
   "outputs": [],
   "source": []
  }
 ],
 "metadata": {
  "kernelspec": {
   "display_name": "base",
   "language": "python",
   "name": "python3"
  },
  "language_info": {
   "codemirror_mode": {
    "name": "ipython",
    "version": 3
   },
   "file_extension": ".py",
   "mimetype": "text/x-python",
   "name": "python",
   "nbconvert_exporter": "python",
   "pygments_lexer": "ipython3",
   "version": "3.12.7"
  }
 },
 "nbformat": 4,
 "nbformat_minor": 2
}
