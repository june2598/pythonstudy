{
 "cells": [
  {
   "cell_type": "markdown",
   "id": "18bc929f-953b-4441-a6bb-298057286f2e",
   "metadata": {},
   "source": [
    "# 기본세팅"
   ]
  },
  {
   "cell_type": "code",
   "execution_count": 4,
   "id": "29294242-5e2b-48ed-a423-300cd70d0ea7",
   "metadata": {},
   "outputs": [],
   "source": [
    "# 데이터 분석을 위한 패키지\n",
    "import numpy as np\n",
    "import pandas as pd\n",
    "# 소수점 두자리까지 표기\n",
    "pd.options.display.float_format = '{:,.2f}'.format\n",
    "\n",
    "# 모든 컬럼,행을 출력하도록 설정\n",
    "pd.set_option('display.max_columns', None) # None으로 설정하면 모든 컬럼 출력\n",
    "pd.set_option('display.max_rows', 50) #None으로 설정하면 모든 행 출력\n",
    "\n",
    "#CSV 파일 불러오기\n",
    "df_stocks = pd.read_csv('stocks.csv')"
   ]
  },
  {
   "cell_type": "code",
   "execution_count": 7,
   "id": "6d9388de-ac4b-4651-a443-657ab08bbf72",
   "metadata": {},
   "outputs": [
    {
     "data": {
      "text/html": [
       "<div>\n",
       "<style scoped>\n",
       "    .dataframe tbody tr th:only-of-type {\n",
       "        vertical-align: middle;\n",
       "    }\n",
       "\n",
       "    .dataframe tbody tr th {\n",
       "        vertical-align: top;\n",
       "    }\n",
       "\n",
       "    .dataframe thead th {\n",
       "        text-align: right;\n",
       "    }\n",
       "</style>\n",
       "<table border=\"1\" class=\"dataframe\">\n",
       "  <thead>\n",
       "    <tr style=\"text-align: right;\">\n",
       "      <th></th>\n",
       "      <th>Code</th>\n",
       "      <th>Name</th>\n",
       "      <th>Market</th>\n",
       "      <th>Dept</th>\n",
       "      <th>Close</th>\n",
       "      <th>ChangeCode</th>\n",
       "      <th>Changes</th>\n",
       "      <th>ChagesRatio</th>\n",
       "      <th>Open</th>\n",
       "      <th>High</th>\n",
       "      <th>Low</th>\n",
       "      <th>Volume</th>\n",
       "      <th>Amount</th>\n",
       "      <th>Marcap</th>\n",
       "      <th>Stocks</th>\n",
       "      <th>MarketId</th>\n",
       "      <th>Sector</th>\n",
       "      <th>Industry</th>\n",
       "      <th>ListingDate</th>\n",
       "      <th>SettleMonth</th>\n",
       "      <th>Representative</th>\n",
       "      <th>HomePage</th>\n",
       "      <th>Region</th>\n",
       "    </tr>\n",
       "  </thead>\n",
       "  <tbody>\n",
       "    <tr>\n",
       "      <th>0</th>\n",
       "      <td>005930</td>\n",
       "      <td>삼성전자</td>\n",
       "      <td>KOSPI</td>\n",
       "      <td>NaN</td>\n",
       "      <td>54100</td>\n",
       "      <td>1</td>\n",
       "      <td>400</td>\n",
       "      <td>0.74</td>\n",
       "      <td>53900</td>\n",
       "      <td>54400</td>\n",
       "      <td>52700</td>\n",
       "      <td>22804926</td>\n",
       "      <td>1228936823600</td>\n",
       "      <td>322965235955000</td>\n",
       "      <td>5969782550</td>\n",
       "      <td>STK</td>\n",
       "      <td>통신 및 방송 장비 제조업</td>\n",
       "      <td>통신 및 방송 장비 제조(무선) 제품, 반도체 제조(메모리) 제품, 전자부품 제조(...</td>\n",
       "      <td>1975-06-11</td>\n",
       "      <td>12월</td>\n",
       "      <td>한종희</td>\n",
       "      <td>http://www.samsung.com/sec</td>\n",
       "      <td>경기도</td>\n",
       "    </tr>\n",
       "  </tbody>\n",
       "</table>\n",
       "</div>"
      ],
      "text/plain": [
       "     Code  Name Market Dept  Close  ChangeCode  Changes  ChagesRatio   Open  \\\n",
       "0  005930  삼성전자  KOSPI  NaN  54100           1      400         0.74  53900   \n",
       "\n",
       "    High    Low    Volume         Amount           Marcap      Stocks  \\\n",
       "0  54400  52700  22804926  1228936823600  322965235955000  5969782550   \n",
       "\n",
       "  MarketId          Sector                                           Industry  \\\n",
       "0      STK  통신 및 방송 장비 제조업  통신 및 방송 장비 제조(무선) 제품, 반도체 제조(메모리) 제품, 전자부품 제조(...   \n",
       "\n",
       "  ListingDate SettleMonth Representative                    HomePage Region  \n",
       "0  1975-06-11         12월            한종희  http://www.samsung.com/sec    경기도  "
      ]
     },
     "execution_count": 7,
     "metadata": {},
     "output_type": "execute_result"
    }
   ],
   "source": [
    "df_stocks.head(1)"
   ]
  },
  {
   "cell_type": "code",
   "execution_count": 10,
   "id": "81a3839c-7fbf-496b-9528-43575f02df4c",
   "metadata": {},
   "outputs": [],
   "source": [
    "new_df_stocks = df_stocks.groupby('Sector')"
   ]
  },
  {
   "cell_type": "code",
   "execution_count": 14,
   "id": "b89451c9-730a-4d43-b1d7-285ade066908",
   "metadata": {},
   "outputs": [
    {
     "data": {
      "text/plain": [
       "0       322965235955000\n",
       "1       121649195191500\n",
       "2        91377000000000\n",
       "3        68469388000000\n",
       "4        42616194868500\n",
       "             ...       \n",
       "2727        10320000000\n",
       "2776         8083796875\n",
       "2793         6967193212\n",
       "2797         6834404770\n",
       "2818         4406072000\n",
       "Name: Marcap, Length: 608, dtype: int64"
      ]
     },
     "execution_count": 14,
     "metadata": {},
     "output_type": "execute_result"
    }
   ],
   "source": [
    "df_stocks.groupby('Sector')['Marcap'].head()"
   ]
  },
  {
   "cell_type": "code",
   "execution_count": 15,
   "id": "00181374-4900-4cdf-ae43-c0f5484bd22c",
   "metadata": {},
   "outputs": [
    {
     "data": {
      "text/plain": [
       "Sector            116\n",
       "ListingDate       116\n",
       "SettleMonth       116\n",
       "Representative    116\n",
       "Region            116\n",
       "Industry          131\n",
       "HomePage          308\n",
       "Dept              960\n",
       "dtype: int64"
      ]
     },
     "execution_count": 15,
     "metadata": {},
     "output_type": "execute_result"
    }
   ],
   "source": [
    "temp = df_stocks.isna().sum(axis=0).sort_values(ascending=True)\n",
    "temp = temp[temp > 0]\n",
    "temp"
   ]
  },
  {
   "cell_type": "code",
   "execution_count": null,
   "id": "8eb7713f-e903-464a-a88b-3bca0d334696",
   "metadata": {},
   "outputs": [],
   "source": []
  }
 ],
 "metadata": {
  "kernelspec": {
   "display_name": "Python 3 (ipykernel)",
   "language": "python",
   "name": "python3"
  },
  "language_info": {
   "codemirror_mode": {
    "name": "ipython",
    "version": 3
   },
   "file_extension": ".py",
   "mimetype": "text/x-python",
   "name": "python",
   "nbconvert_exporter": "python",
   "pygments_lexer": "ipython3",
   "version": "3.12.7"
  }
 },
 "nbformat": 4,
 "nbformat_minor": 5
}
