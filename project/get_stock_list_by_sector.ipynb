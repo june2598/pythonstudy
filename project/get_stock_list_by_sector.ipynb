{
 "cells": [
  {
   "cell_type": "markdown",
   "metadata": {},
   "source": [
    "1. 네이버 증권의 업종 분류를 가져와 적용시키는 곳"
   ]
  },
  {
   "cell_type": "code",
   "execution_count": 1,
   "metadata": {},
   "outputs": [],
   "source": [
    "from bs4 import BeautifulSoup\n",
    "import pandas as pd\n",
    "import requests\n",
    "import datetime"
   ]
  },
  {
   "cell_type": "code",
   "execution_count": 5,
   "metadata": {},
   "outputs": [],
   "source": [
    "# 오늘 날짜 가져오기\n",
    "today = datetime.datetime.today()\n",
    "today = today.strftime('%Y-%m-%d')\n",
    "new_file_name = f'sector_info_df_{today}.csv'"
   ]
  },
  {
   "cell_type": "code",
   "execution_count": 9,
   "metadata": {},
   "outputs": [],
   "source": [
    "sector_df = pd.read_csv(f'../../crawling/{new_file_name}')\n"
   ]
  },
  {
   "cell_type": "code",
   "execution_count": 11,
   "metadata": {},
   "outputs": [
    {
     "data": {
      "text/html": [
       "<div>\n",
       "<style scoped>\n",
       "    .dataframe tbody tr th:only-of-type {\n",
       "        vertical-align: middle;\n",
       "    }\n",
       "\n",
       "    .dataframe tbody tr th {\n",
       "        vertical-align: top;\n",
       "    }\n",
       "\n",
       "    .dataframe thead th {\n",
       "        text-align: right;\n",
       "    }\n",
       "</style>\n",
       "<table border=\"1\" class=\"dataframe\">\n",
       "  <thead>\n",
       "    <tr style=\"text-align: right;\">\n",
       "      <th></th>\n",
       "      <th>업종코드</th>\n",
       "      <th>업종명</th>\n",
       "      <th>전일비</th>\n",
       "      <th>전체</th>\n",
       "      <th>상승</th>\n",
       "      <th>보합</th>\n",
       "      <th>하락</th>\n",
       "      <th>등락그래프</th>\n",
       "    </tr>\n",
       "  </thead>\n",
       "  <tbody>\n",
       "    <tr>\n",
       "      <th>0</th>\n",
       "      <td>281</td>\n",
       "      <td>건강관리장비와용품</td>\n",
       "      <td>+1.17%</td>\n",
       "      <td>95</td>\n",
       "      <td>27</td>\n",
       "      <td>11</td>\n",
       "      <td>57</td>\n",
       "      <td>9%</td>\n",
       "    </tr>\n",
       "  </tbody>\n",
       "</table>\n",
       "</div>"
      ],
      "text/plain": [
       "   업종코드        업종명     전일비  전체  상승  보합  하락 등락그래프\n",
       "0   281  건강관리장비와용품  +1.17%  95  27  11  57    9%"
      ]
     },
     "execution_count": 11,
     "metadata": {},
     "output_type": "execute_result"
    }
   ],
   "source": [
    "sector_df.head(1)"
   ]
  },
  {
   "cell_type": "code",
   "execution_count": 15,
   "metadata": {},
   "outputs": [],
   "source": [
    "def sector_detail_url(sector_name):\n",
    "  '''\n",
    "  업종명으로 해당업종의 상세목록을 볼수있는 url을 반환하는 함수\n",
    "  :param sector_name: 업종명\n",
    "  :return: 해당업종명에 해당하는 종목리스트를 볼수있는 주소\n",
    "  '''\n",
    "  sector_code = sector_df[sector_df['업종명'] == sector_name]['업종코드'].values[0]\n",
    "  if sector_code.size == 0:\n",
    "    print('존재하지 않는 업종입니다.')\n",
    "    return None\n",
    "  # print(type(sector_code))      #numpy.int64\n",
    "  url = f'https://finance.naver.com/sise/sise_group_detail.naver?type=upjong&no={sector_code}'\n",
    "  return url"
   ]
  },
  {
   "cell_type": "code",
   "execution_count": null,
   "metadata": {},
   "outputs": [],
   "source": [
    "sector_list = sector_df['업종명'].tolist()\n",
    "sector_list"
   ]
  },
  {
   "cell_type": "code",
   "execution_count": null,
   "metadata": {},
   "outputs": [],
   "source": [
    "# 파일의 업종명을 돌면서, 해당 업종내 종목, 코스피/코스닥 유무 분류.\n",
    "# 업종명에 접속->\n",
    "\n",
    "sector_by_stock_list = []\n",
    "\n",
    "for sector in sector_list :\n",
    "   url = sector_detail_url(sector)\n",
    "   res = requests.get(url)\n",
    "   if res.status_code != 200:\n",
    "     print('데이터를 가져오는데 실패했습니다.')\n",
    "     exit()\n",
    "  #  print(res.status_code)\n",
    "   \n",
    "   soup = BeautifulSoup(res.content, 'lxml')\n",
    "   rows = soup.select('#contentarea > div:nth-child(5) > table > tbody > tr')\n",
    "   \n",
    "   for tr in rows :\n",
    "     \n",
    "    cols = tr.find_all(\"td\")                        # BeautifulSoup 환경\n",
    "    # cols = tr.find_elements(By.TAG_NAME, \"td\")    # Selenium 환경\n",
    "    if len(cols) >= 9:\n",
    "      stock_name = cols[0].text.strip()\n",
    "      is_kosdaq = '*' in stock_name  # 별표가 있으면 True, 없으면 False\n",
    "      stock_info = {\n",
    "      '업종명': sector,  \n",
    "      '종목명':stock_name.replace('*', '').strip(),  # * 기호 제거\n",
    "      '코스닥 여부': is_kosdaq  # 코스닥 여부 추가\n",
    "      }\n",
    "      sector_by_stock_list.append(stock_info)\n",
    "\n",
    "sector_by_stock_list_df = pd.DataFrame(sector_by_stock_list)\n",
    "sector_by_stock_list_df.to_csv('sector_by_stock_list_df.csv', index=False, encoding='utf-8-sig')\n"
   ]
  },
  {
   "cell_type": "code",
   "execution_count": 23,
   "metadata": {},
   "outputs": [],
   "source": []
  }
 ],
 "metadata": {
  "kernelspec": {
   "display_name": "base",
   "language": "python",
   "name": "python3"
  },
  "language_info": {
   "codemirror_mode": {
    "name": "ipython",
    "version": 3
   },
   "file_extension": ".py",
   "mimetype": "text/x-python",
   "name": "python",
   "nbconvert_exporter": "python",
   "pygments_lexer": "ipython3",
   "version": "3.12.7"
  }
 },
 "nbformat": 4,
 "nbformat_minor": 2
}
