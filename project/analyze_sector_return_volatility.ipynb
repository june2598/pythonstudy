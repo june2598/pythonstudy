{
 "cells": [
  {
   "cell_type": "markdown",
   "metadata": {},
   "source": [
    "업종별 수익률 대비 변동성을 시각화 하여, 수익률 대비 변동성이 낮은 안정적인 종목의 인사이트를 제공하는 영역"
   ]
  },
  {
   "cell_type": "code",
   "execution_count": 42,
   "metadata": {},
   "outputs": [],
   "source": [
    "# 데이터 분석을 위한 패키지\n",
    "import numpy as np\n",
    "import pandas as pd"
   ]
  },
  {
   "cell_type": "code",
   "execution_count": 43,
   "metadata": {},
   "outputs": [],
   "source": [
    "# 시각화 패키지\n",
    "import matplotlib.pyplot as plt\n",
    "import seaborn as sns\n",
    "import plotly.express as px\n",
    "import plotly.graph_objects as go"
   ]
  },
  {
   "cell_type": "code",
   "execution_count": 44,
   "metadata": {},
   "outputs": [],
   "source": [
    "import FinanceDataReader as fdr"
   ]
  },
  {
   "cell_type": "code",
   "execution_count": 45,
   "metadata": {},
   "outputs": [],
   "source": [
    "import koreanize_matplotlib"
   ]
  },
  {
   "cell_type": "code",
   "execution_count": 46,
   "metadata": {},
   "outputs": [],
   "source": [
    "import datetime\n",
    "from dateutil.relativedelta import relativedelta"
   ]
  },
  {
   "cell_type": "code",
   "execution_count": 47,
   "metadata": {},
   "outputs": [],
   "source": [
    "from data_loader import load_sector_data"
   ]
  },
  {
   "cell_type": "code",
   "execution_count": 48,
   "metadata": {},
   "outputs": [],
   "source": [
    "# 모든 컬럼,행을 출력하도록 설정\n",
    "pd.set_option('display.max_columns', None) # None으로 설정하면 모든 컬럼 출력\n",
    "pd.set_option('display.max_rows', None) #None으로 설정하면 모든 행 출력"
   ]
  },
  {
   "cell_type": "code",
   "execution_count": 39,
   "metadata": {},
   "outputs": [],
   "source": [
    "# 회귀선의 의미 : 동일한 평균수익률을 가진 다른 업종/종목에 비해 변동성이 적어 리스크가 낮다는 인사이트를 제공할 수 있음\n",
    "# plotly는 lmplot을 직접적으로 제공하지 않기때문에, scatter기반 회귀선과, 데이터 플롯을 직접 따로 그려야함\n",
    "\n",
    "\n",
    "\n",
    "def analyze_sector_return_volatility(market=None, sector=None, month_ago=3):\n",
    "    # 데이터 로드\n",
    "    df = load_sector_data(market, month_ago=month_ago)  # 사용자 정의 데이터 로드 함수\n",
    "    \n",
    "\n",
    "    # 업종이 입력된 경우 해당 업종 내에서 필터링\n",
    "    if sector is not None:\n",
    "        if sector not in df['Sector'].unique():\n",
    "            raise ValueError(f\"'{sector}'는(은) 유효한 섹터가 아닙니다. 사용 가능한 섹터: {df['Sector'].unique()}\")\n",
    "        \n",
    "        df = df[df['Sector'] == sector]\n",
    "        \n",
    "    else :\n",
    "        # 해당 업종의 평균 수익률과 변동성 계산\n",
    "        df = df.groupby('Sector').agg({\n",
    "        'TotalReturn': 'mean',\n",
    "        'Volatility': 'mean'\n",
    "    }).reset_index().sort_values(by='TotalReturn', ascending=True)    \n",
    "    \n",
    "    if df.empty:\n",
    "        raise ValueError(\"업종별 평균 수익률과 변동성 데이터가 없습니다.\")\n",
    "    \n",
    "    # Plotly로 회귀선 데이터를 계산\n",
    "    fig = px.scatter(\n",
    "        df,\n",
    "        x='TotalReturn',\n",
    "        y='Volatility',\n",
    "        trendline='ols'\n",
    "    )\n",
    "    \n",
    "    # 회귀선 데이터를 추출\n",
    "    \n",
    "    # 다소 난해한 부분 나중에 다시보기\n",
    "    # px.get_trendline_results(fig)는 Pandas DataFrame을 반환합니다.\n",
    "\n",
    "    # 형태:\n",
    "\n",
    "    # 반환된 DataFrame은 각 회귀선에 대한 통계적 정보를 포함하고 있습니다. 일반적으로 이 DataFrame에는 다음과 같은 열이 포함됩니다:\n",
    "    #     params: 회귀선의 파라미터(절편과 기울기)와 관련된 정보.\n",
    "    #     r_value: 결정 계수(R² 값), 회귀선의 적합도를 나타냅니다.\n",
    "    #     p_value: 각 파라미터에 대한 p-값, 통계적 유의성을 나타냅니다.\n",
    "    #     stderr: 각 파라미터의 표준 오차.\n",
    "    \n",
    "    #  px.get_trendline_results(fig) 의 구조\n",
    "    #           params      r_value     p_value     stderr\n",
    "    # 0  [intercept, slope]  0.85        0.001        0.05\n",
    "    \n",
    "    # 이전에 생성한 fig 객체에서 회귀선의 결과를 가져옴 회귀선의 모델 결과를 포함하는 객체를 가져옵니다. 이 객체에는 회귀선의 절편(intercept)과 기울기(slope) 등의 정보가 포함되어 있음\n",
    "    trendline_data = px.get_trendline_results(fig).iloc[0].px_fit_results\n",
    "    \n",
    "    # trendline_data.params: 회귀선의 파라미터(절편과 기울기)를 반환합니다. 여기서 intercept는 회귀선의 y절편을 의미하고, slope는 회귀선의 기울기를 나타냅니다.\n",
    "    intercept, slope = trendline_data.params       \n",
    "\n",
    "    # 회귀선 아래/위 판별 및 색상 추가\n",
    "    df['Color'] = df.apply(\n",
    "        # 현재 행의 변동성이 회귀선에서 예측한 변동성보다 낮은지를 확인, 회귀선의 방정식은 y=mx+b 형태이므로, 여기서 intercept는 y절편, slope는 기울기, row[\"TotalReturn\"]는 x값\n",
    "        lambda row: 'Below' if row['Volatility'] < (intercept + slope * row['TotalReturn']) \\\n",
    "                            else 'Above',axis=1\n",
    "                            )\n",
    "    \n",
    "    # 회귀선 대비 아래에 있는 종목 수익률 내림차순으로 정렬한 df\n",
    "    below_regression_line_df = df[df['Color'] == 'Below'].sort_values(by='TotalReturn', ascending=False)\n",
    "\n",
    "    if sector is not None : \n",
    "        title = f'{market} 시장 {sector}업종 {month_ago}개월 수익률 대비 변동성 지수'\n",
    "        trendline_name = f'회귀선({market} 시장 {sector}업종 {month_ago}개월 수익률 대비 평균 변동성)'\n",
    "        hover_data = {'Name': True}\n",
    "    else :\n",
    "        title = f'{market} 시장 업종별 {month_ago}개월 수익률 대비 변동성 지수'\n",
    "        trendline_name = f'회귀선({market} 시장 {month_ago}개월 수익률 대비 평균 변동성)'\n",
    "        hover_data = {'Sector': True} \n",
    "        \n",
    "        \n",
    "    # 최종 Plotly 그래프 생성\n",
    "    fig = px.scatter(\n",
    "        df,\n",
    "        x='TotalReturn',\n",
    "        y='Volatility',\n",
    "        color='Color',                  # 회귀선 기준 색상 설정\n",
    "        hover_data=hover_data,\n",
    "        title=title,\n",
    "        labels={'TotalReturn': '평균 수익률', 'Volatility': '평균 변동성'},\n",
    "        template=\"plotly_white\"\n",
    "    )\n",
    "\n",
    "    # 회귀선 다시 추가\n",
    "    fig.add_trace(go.Scatter(\n",
    "        x=df['TotalReturn'],\n",
    "        y=intercept + slope * df['TotalReturn'],\n",
    "        mode=\"lines\",\n",
    "        name=trendline_name,\n",
    "        line=dict(color='black', dash='dash')\n",
    "    ))\n",
    "    \n",
    "    # 제목 가운데 정렬렬\n",
    "    fig.update_layout(\n",
    "        title_x=0.5,\n",
    "        title_font=dict(size=20, color='black', family='Arial')\n",
    "        ) \n",
    "    \n",
    "    fig.show()\n",
    "    \n",
    "    # 변동성 대비 수익률이 좋은 종목 df 반환\n",
    "    \n",
    "    recommended_df = below_regression_line_df[below_regression_line_df['TotalReturn'] > 0]\n",
    "    display(recommended_df)"
   ]
  },
  {
   "cell_type": "code",
   "execution_count": 40,
   "metadata": {},
   "outputs": [
    {
     "name": "stdout",
     "output_type": "stream",
     "text": [
      "3개월 간의 data를 불러옵니다.\n"
     ]
    },
    {
     "data": {
      "application/vnd.plotly.v1+json": {
       "config": {
        "plotlyServerURL": "https://plot.ly"
       },
       "data": [
        {
         "customdata": [
          [
           "삼성에스디에스"
          ],
          [
           "NHN"
          ],
          [
           "NICE"
          ],
          [
           "롯데이노베이트"
          ],
          [
           "DB"
          ],
          [
           "콤텍시스템"
          ]
         ],
         "hovertemplate": "Color=Below<br>평균 수익률=%{x}<br>평균 변동성=%{y}<br>Name=%{customdata[0]}<extra></extra>",
         "legendgroup": "Below",
         "marker": {
          "color": "#636efa",
          "symbol": "circle"
         },
         "mode": "markers",
         "name": "Below",
         "orientation": "v",
         "showlegend": true,
         "type": "scatter",
         "x": [
          -13.63,
          5.63,
          -2.34,
          -16.44,
          -11.99,
          -6.79
         ],
         "xaxis": "x",
         "y": [
          2.14,
          2.44,
          1.17,
          2.48,
          2.91,
          1.88
         ],
         "yaxis": "y"
        },
        {
         "customdata": [
          [
           "카카오페이"
          ],
          [
           "현대오토에버"
          ],
          [
           "포스코DX"
          ],
          [
           "신세계 I&C"
          ],
          [
           "아시아나IDT"
          ],
          [
           "유엔젤"
          ],
          [
           "미래아이앤지"
          ]
         ],
         "hovertemplate": "Color=Above<br>평균 수익률=%{x}<br>평균 변동성=%{y}<br>Name=%{customdata[0]}<extra></extra>",
         "legendgroup": "Above",
         "marker": {
          "color": "#EF553B",
          "symbol": "circle"
         },
         "mode": "markers",
         "name": "Above",
         "orientation": "v",
         "showlegend": true,
         "type": "scatter",
         "x": [
          8.4,
          -14.15,
          -33.22,
          40.92,
          -27.19,
          8.49,
          -23.01
         ],
         "xaxis": "x",
         "y": [
          4.79,
          3.1,
          3.36,
          5.54,
          4.06,
          4.43,
          2.87
         ],
         "yaxis": "y"
        },
        {
         "line": {
          "color": "black",
          "dash": "dash"
         },
         "mode": "lines",
         "name": "회귀선(KOSPI 시장 IT서비스업종 3개월 수익률 대비 평균 변동성)",
         "type": "scatter",
         "x": [
          -13.63,
          8.4,
          -14.15,
          -33.22,
          5.63,
          -2.34,
          -16.44,
          -11.99,
          40.92,
          -27.19,
          -6.79,
          8.49,
          -23.01
         ],
         "y": [
          2.9535808430721606,
          3.6186410624317373,
          2.937882644521685,
          2.362181401526354,
          3.535017966307088,
          3.2944128846776812,
          2.868750193212859,
          3.0030905461928916,
          4.600382248703796,
          2.54422012702514,
          3.160072531697649,
          3.6213580583347045,
          2.6704094922962716
         ]
        }
       ],
       "layout": {
        "legend": {
         "title": {
          "text": "Color"
         },
         "tracegroupgap": 0
        },
        "template": {
         "data": {
          "bar": [
           {
            "error_x": {
             "color": "#2a3f5f"
            },
            "error_y": {
             "color": "#2a3f5f"
            },
            "marker": {
             "line": {
              "color": "white",
              "width": 0.5
             },
             "pattern": {
              "fillmode": "overlay",
              "size": 10,
              "solidity": 0.2
             }
            },
            "type": "bar"
           }
          ],
          "barpolar": [
           {
            "marker": {
             "line": {
              "color": "white",
              "width": 0.5
             },
             "pattern": {
              "fillmode": "overlay",
              "size": 10,
              "solidity": 0.2
             }
            },
            "type": "barpolar"
           }
          ],
          "carpet": [
           {
            "aaxis": {
             "endlinecolor": "#2a3f5f",
             "gridcolor": "#C8D4E3",
             "linecolor": "#C8D4E3",
             "minorgridcolor": "#C8D4E3",
             "startlinecolor": "#2a3f5f"
            },
            "baxis": {
             "endlinecolor": "#2a3f5f",
             "gridcolor": "#C8D4E3",
             "linecolor": "#C8D4E3",
             "minorgridcolor": "#C8D4E3",
             "startlinecolor": "#2a3f5f"
            },
            "type": "carpet"
           }
          ],
          "choropleth": [
           {
            "colorbar": {
             "outlinewidth": 0,
             "ticks": ""
            },
            "type": "choropleth"
           }
          ],
          "contour": [
           {
            "colorbar": {
             "outlinewidth": 0,
             "ticks": ""
            },
            "colorscale": [
             [
              0,
              "#0d0887"
             ],
             [
              0.1111111111111111,
              "#46039f"
             ],
             [
              0.2222222222222222,
              "#7201a8"
             ],
             [
              0.3333333333333333,
              "#9c179e"
             ],
             [
              0.4444444444444444,
              "#bd3786"
             ],
             [
              0.5555555555555556,
              "#d8576b"
             ],
             [
              0.6666666666666666,
              "#ed7953"
             ],
             [
              0.7777777777777778,
              "#fb9f3a"
             ],
             [
              0.8888888888888888,
              "#fdca26"
             ],
             [
              1,
              "#f0f921"
             ]
            ],
            "type": "contour"
           }
          ],
          "contourcarpet": [
           {
            "colorbar": {
             "outlinewidth": 0,
             "ticks": ""
            },
            "type": "contourcarpet"
           }
          ],
          "heatmap": [
           {
            "colorbar": {
             "outlinewidth": 0,
             "ticks": ""
            },
            "colorscale": [
             [
              0,
              "#0d0887"
             ],
             [
              0.1111111111111111,
              "#46039f"
             ],
             [
              0.2222222222222222,
              "#7201a8"
             ],
             [
              0.3333333333333333,
              "#9c179e"
             ],
             [
              0.4444444444444444,
              "#bd3786"
             ],
             [
              0.5555555555555556,
              "#d8576b"
             ],
             [
              0.6666666666666666,
              "#ed7953"
             ],
             [
              0.7777777777777778,
              "#fb9f3a"
             ],
             [
              0.8888888888888888,
              "#fdca26"
             ],
             [
              1,
              "#f0f921"
             ]
            ],
            "type": "heatmap"
           }
          ],
          "heatmapgl": [
           {
            "colorbar": {
             "outlinewidth": 0,
             "ticks": ""
            },
            "colorscale": [
             [
              0,
              "#0d0887"
             ],
             [
              0.1111111111111111,
              "#46039f"
             ],
             [
              0.2222222222222222,
              "#7201a8"
             ],
             [
              0.3333333333333333,
              "#9c179e"
             ],
             [
              0.4444444444444444,
              "#bd3786"
             ],
             [
              0.5555555555555556,
              "#d8576b"
             ],
             [
              0.6666666666666666,
              "#ed7953"
             ],
             [
              0.7777777777777778,
              "#fb9f3a"
             ],
             [
              0.8888888888888888,
              "#fdca26"
             ],
             [
              1,
              "#f0f921"
             ]
            ],
            "type": "heatmapgl"
           }
          ],
          "histogram": [
           {
            "marker": {
             "pattern": {
              "fillmode": "overlay",
              "size": 10,
              "solidity": 0.2
             }
            },
            "type": "histogram"
           }
          ],
          "histogram2d": [
           {
            "colorbar": {
             "outlinewidth": 0,
             "ticks": ""
            },
            "colorscale": [
             [
              0,
              "#0d0887"
             ],
             [
              0.1111111111111111,
              "#46039f"
             ],
             [
              0.2222222222222222,
              "#7201a8"
             ],
             [
              0.3333333333333333,
              "#9c179e"
             ],
             [
              0.4444444444444444,
              "#bd3786"
             ],
             [
              0.5555555555555556,
              "#d8576b"
             ],
             [
              0.6666666666666666,
              "#ed7953"
             ],
             [
              0.7777777777777778,
              "#fb9f3a"
             ],
             [
              0.8888888888888888,
              "#fdca26"
             ],
             [
              1,
              "#f0f921"
             ]
            ],
            "type": "histogram2d"
           }
          ],
          "histogram2dcontour": [
           {
            "colorbar": {
             "outlinewidth": 0,
             "ticks": ""
            },
            "colorscale": [
             [
              0,
              "#0d0887"
             ],
             [
              0.1111111111111111,
              "#46039f"
             ],
             [
              0.2222222222222222,
              "#7201a8"
             ],
             [
              0.3333333333333333,
              "#9c179e"
             ],
             [
              0.4444444444444444,
              "#bd3786"
             ],
             [
              0.5555555555555556,
              "#d8576b"
             ],
             [
              0.6666666666666666,
              "#ed7953"
             ],
             [
              0.7777777777777778,
              "#fb9f3a"
             ],
             [
              0.8888888888888888,
              "#fdca26"
             ],
             [
              1,
              "#f0f921"
             ]
            ],
            "type": "histogram2dcontour"
           }
          ],
          "mesh3d": [
           {
            "colorbar": {
             "outlinewidth": 0,
             "ticks": ""
            },
            "type": "mesh3d"
           }
          ],
          "parcoords": [
           {
            "line": {
             "colorbar": {
              "outlinewidth": 0,
              "ticks": ""
             }
            },
            "type": "parcoords"
           }
          ],
          "pie": [
           {
            "automargin": true,
            "type": "pie"
           }
          ],
          "scatter": [
           {
            "fillpattern": {
             "fillmode": "overlay",
             "size": 10,
             "solidity": 0.2
            },
            "type": "scatter"
           }
          ],
          "scatter3d": [
           {
            "line": {
             "colorbar": {
              "outlinewidth": 0,
              "ticks": ""
             }
            },
            "marker": {
             "colorbar": {
              "outlinewidth": 0,
              "ticks": ""
             }
            },
            "type": "scatter3d"
           }
          ],
          "scattercarpet": [
           {
            "marker": {
             "colorbar": {
              "outlinewidth": 0,
              "ticks": ""
             }
            },
            "type": "scattercarpet"
           }
          ],
          "scattergeo": [
           {
            "marker": {
             "colorbar": {
              "outlinewidth": 0,
              "ticks": ""
             }
            },
            "type": "scattergeo"
           }
          ],
          "scattergl": [
           {
            "marker": {
             "colorbar": {
              "outlinewidth": 0,
              "ticks": ""
             }
            },
            "type": "scattergl"
           }
          ],
          "scattermapbox": [
           {
            "marker": {
             "colorbar": {
              "outlinewidth": 0,
              "ticks": ""
             }
            },
            "type": "scattermapbox"
           }
          ],
          "scatterpolar": [
           {
            "marker": {
             "colorbar": {
              "outlinewidth": 0,
              "ticks": ""
             }
            },
            "type": "scatterpolar"
           }
          ],
          "scatterpolargl": [
           {
            "marker": {
             "colorbar": {
              "outlinewidth": 0,
              "ticks": ""
             }
            },
            "type": "scatterpolargl"
           }
          ],
          "scatterternary": [
           {
            "marker": {
             "colorbar": {
              "outlinewidth": 0,
              "ticks": ""
             }
            },
            "type": "scatterternary"
           }
          ],
          "surface": [
           {
            "colorbar": {
             "outlinewidth": 0,
             "ticks": ""
            },
            "colorscale": [
             [
              0,
              "#0d0887"
             ],
             [
              0.1111111111111111,
              "#46039f"
             ],
             [
              0.2222222222222222,
              "#7201a8"
             ],
             [
              0.3333333333333333,
              "#9c179e"
             ],
             [
              0.4444444444444444,
              "#bd3786"
             ],
             [
              0.5555555555555556,
              "#d8576b"
             ],
             [
              0.6666666666666666,
              "#ed7953"
             ],
             [
              0.7777777777777778,
              "#fb9f3a"
             ],
             [
              0.8888888888888888,
              "#fdca26"
             ],
             [
              1,
              "#f0f921"
             ]
            ],
            "type": "surface"
           }
          ],
          "table": [
           {
            "cells": {
             "fill": {
              "color": "#EBF0F8"
             },
             "line": {
              "color": "white"
             }
            },
            "header": {
             "fill": {
              "color": "#C8D4E3"
             },
             "line": {
              "color": "white"
             }
            },
            "type": "table"
           }
          ]
         },
         "layout": {
          "annotationdefaults": {
           "arrowcolor": "#2a3f5f",
           "arrowhead": 0,
           "arrowwidth": 1
          },
          "autotypenumbers": "strict",
          "coloraxis": {
           "colorbar": {
            "outlinewidth": 0,
            "ticks": ""
           }
          },
          "colorscale": {
           "diverging": [
            [
             0,
             "#8e0152"
            ],
            [
             0.1,
             "#c51b7d"
            ],
            [
             0.2,
             "#de77ae"
            ],
            [
             0.3,
             "#f1b6da"
            ],
            [
             0.4,
             "#fde0ef"
            ],
            [
             0.5,
             "#f7f7f7"
            ],
            [
             0.6,
             "#e6f5d0"
            ],
            [
             0.7,
             "#b8e186"
            ],
            [
             0.8,
             "#7fbc41"
            ],
            [
             0.9,
             "#4d9221"
            ],
            [
             1,
             "#276419"
            ]
           ],
           "sequential": [
            [
             0,
             "#0d0887"
            ],
            [
             0.1111111111111111,
             "#46039f"
            ],
            [
             0.2222222222222222,
             "#7201a8"
            ],
            [
             0.3333333333333333,
             "#9c179e"
            ],
            [
             0.4444444444444444,
             "#bd3786"
            ],
            [
             0.5555555555555556,
             "#d8576b"
            ],
            [
             0.6666666666666666,
             "#ed7953"
            ],
            [
             0.7777777777777778,
             "#fb9f3a"
            ],
            [
             0.8888888888888888,
             "#fdca26"
            ],
            [
             1,
             "#f0f921"
            ]
           ],
           "sequentialminus": [
            [
             0,
             "#0d0887"
            ],
            [
             0.1111111111111111,
             "#46039f"
            ],
            [
             0.2222222222222222,
             "#7201a8"
            ],
            [
             0.3333333333333333,
             "#9c179e"
            ],
            [
             0.4444444444444444,
             "#bd3786"
            ],
            [
             0.5555555555555556,
             "#d8576b"
            ],
            [
             0.6666666666666666,
             "#ed7953"
            ],
            [
             0.7777777777777778,
             "#fb9f3a"
            ],
            [
             0.8888888888888888,
             "#fdca26"
            ],
            [
             1,
             "#f0f921"
            ]
           ]
          },
          "colorway": [
           "#636efa",
           "#EF553B",
           "#00cc96",
           "#ab63fa",
           "#FFA15A",
           "#19d3f3",
           "#FF6692",
           "#B6E880",
           "#FF97FF",
           "#FECB52"
          ],
          "font": {
           "color": "#2a3f5f"
          },
          "geo": {
           "bgcolor": "white",
           "lakecolor": "white",
           "landcolor": "white",
           "showlakes": true,
           "showland": true,
           "subunitcolor": "#C8D4E3"
          },
          "hoverlabel": {
           "align": "left"
          },
          "hovermode": "closest",
          "mapbox": {
           "style": "light"
          },
          "paper_bgcolor": "white",
          "plot_bgcolor": "white",
          "polar": {
           "angularaxis": {
            "gridcolor": "#EBF0F8",
            "linecolor": "#EBF0F8",
            "ticks": ""
           },
           "bgcolor": "white",
           "radialaxis": {
            "gridcolor": "#EBF0F8",
            "linecolor": "#EBF0F8",
            "ticks": ""
           }
          },
          "scene": {
           "xaxis": {
            "backgroundcolor": "white",
            "gridcolor": "#DFE8F3",
            "gridwidth": 2,
            "linecolor": "#EBF0F8",
            "showbackground": true,
            "ticks": "",
            "zerolinecolor": "#EBF0F8"
           },
           "yaxis": {
            "backgroundcolor": "white",
            "gridcolor": "#DFE8F3",
            "gridwidth": 2,
            "linecolor": "#EBF0F8",
            "showbackground": true,
            "ticks": "",
            "zerolinecolor": "#EBF0F8"
           },
           "zaxis": {
            "backgroundcolor": "white",
            "gridcolor": "#DFE8F3",
            "gridwidth": 2,
            "linecolor": "#EBF0F8",
            "showbackground": true,
            "ticks": "",
            "zerolinecolor": "#EBF0F8"
           }
          },
          "shapedefaults": {
           "line": {
            "color": "#2a3f5f"
           }
          },
          "ternary": {
           "aaxis": {
            "gridcolor": "#DFE8F3",
            "linecolor": "#A2B1C6",
            "ticks": ""
           },
           "baxis": {
            "gridcolor": "#DFE8F3",
            "linecolor": "#A2B1C6",
            "ticks": ""
           },
           "bgcolor": "white",
           "caxis": {
            "gridcolor": "#DFE8F3",
            "linecolor": "#A2B1C6",
            "ticks": ""
           }
          },
          "title": {
           "x": 0.05
          },
          "xaxis": {
           "automargin": true,
           "gridcolor": "#EBF0F8",
           "linecolor": "#EBF0F8",
           "ticks": "",
           "title": {
            "standoff": 15
           },
           "zerolinecolor": "#EBF0F8",
           "zerolinewidth": 2
          },
          "yaxis": {
           "automargin": true,
           "gridcolor": "#EBF0F8",
           "linecolor": "#EBF0F8",
           "ticks": "",
           "title": {
            "standoff": 15
           },
           "zerolinecolor": "#EBF0F8",
           "zerolinewidth": 2
          }
         }
        },
        "title": {
         "font": {
          "color": "black",
          "family": "Arial",
          "size": 20
         },
         "text": "KOSPI 시장 IT서비스업종 3개월 수익률 대비 변동성 지수",
         "x": 0.5
        },
        "xaxis": {
         "anchor": "y",
         "domain": [
          0,
          1
         ],
         "title": {
          "text": "평균 수익률"
         }
        },
        "yaxis": {
         "anchor": "x",
         "domain": [
          0,
          1
         ],
         "title": {
          "text": "평균 변동성"
         }
        }
       }
      }
     },
     "metadata": {},
     "output_type": "display_data"
    },
    {
     "data": {
      "text/html": [
       "<div>\n",
       "<style scoped>\n",
       "    .dataframe tbody tr th:only-of-type {\n",
       "        vertical-align: middle;\n",
       "    }\n",
       "\n",
       "    .dataframe tbody tr th {\n",
       "        vertical-align: top;\n",
       "    }\n",
       "\n",
       "    .dataframe thead th {\n",
       "        text-align: right;\n",
       "    }\n",
       "</style>\n",
       "<table border=\"1\" class=\"dataframe\">\n",
       "  <thead>\n",
       "    <tr style=\"text-align: right;\">\n",
       "      <th></th>\n",
       "      <th>Code</th>\n",
       "      <th>Name</th>\n",
       "      <th>Volatility</th>\n",
       "      <th>TotalReturn</th>\n",
       "      <th>AvgReturn</th>\n",
       "      <th>Sector</th>\n",
       "      <th>Volume</th>\n",
       "      <th>Amount</th>\n",
       "      <th>Marcap</th>\n",
       "      <th>Color</th>\n",
       "    </tr>\n",
       "  </thead>\n",
       "  <tbody>\n",
       "    <tr>\n",
       "      <th>267</th>\n",
       "      <td>181710</td>\n",
       "      <td>NHN</td>\n",
       "      <td>2.44</td>\n",
       "      <td>5.63</td>\n",
       "      <td>0.095572</td>\n",
       "      <td>IT서비스</td>\n",
       "      <td>26285</td>\n",
       "      <td>464369380</td>\n",
       "      <td>595972070950</td>\n",
       "      <td>Below</td>\n",
       "    </tr>\n",
       "  </tbody>\n",
       "</table>\n",
       "</div>"
      ],
      "text/plain": [
       "       Code Name  Volatility  TotalReturn  AvgReturn Sector  Volume  \\\n",
       "267  181710  NHN        2.44         5.63   0.095572  IT서비스   26285   \n",
       "\n",
       "        Amount        Marcap  Color  \n",
       "267  464369380  595972070950  Below  "
      ]
     },
     "metadata": {},
     "output_type": "display_data"
    }
   ],
   "source": [
    "analyze_sector_return_volatility('KOSPI','IT서비스')"
   ]
  },
  {
   "cell_type": "code",
   "execution_count": 9,
   "metadata": {},
   "outputs": [
    {
     "name": "stdout",
     "output_type": "stream",
     "text": [
      "3개월 간의 data를 불러옵니다.\n"
     ]
    },
    {
     "data": {
      "application/vnd.plotly.v1+json": {
       "config": {
        "plotlyServerURL": "https://plot.ly"
       },
       "data": [
        {
         "customdata": [
          [
           "자동차"
          ],
          [
           "석유와가스"
          ],
          [
           "전기제품"
          ],
          [
           "전기유틸리티"
          ],
          [
           "인터넷과카탈로그소매"
          ],
          [
           "가스유틸리티"
          ],
          [
           "레저용장비와제품"
          ],
          [
           "반도체와반도체장비"
          ],
          [
           "화학"
          ],
          [
           "광고"
          ],
          [
           "전자장비와기기"
          ],
          [
           "디스플레이장비및부품"
          ],
          [
           "생명과학도구및서비스"
          ],
          [
           "건강관리장비와용품"
          ],
          [
           "판매업체"
          ],
          [
           "전기장비"
          ],
          [
           "우주항공과국방"
          ],
          [
           "건축제품"
          ],
          [
           "핸드셋"
          ],
          [
           "방송과엔터테인먼트"
          ],
          [
           "건강관리업체및서비스"
          ],
          [
           "생물공학"
          ],
          [
           "제약"
          ],
          [
           "교육서비스"
          ],
          [
           "화장품"
          ],
          [
           "기계"
          ],
          [
           "가정용기기와용품"
          ],
          [
           "에너지장비및서비스"
          ],
          [
           "자동차부품"
          ],
          [
           "소프트웨어"
          ],
          [
           "IT서비스"
          ],
          [
           "건설"
          ],
          [
           "양방향미디어와서비스"
          ],
          [
           "건축자재"
          ],
          [
           "건강관리기술"
          ],
          [
           "출판"
          ],
          [
           "통신장비"
          ],
          [
           "게임엔터테인먼트"
          ],
          [
           "조선"
          ],
          [
           "식품"
          ],
          [
           "컴퓨터와주변기기"
          ],
          [
           "비철금속"
          ]
         ],
         "hovertemplate": "Color=Above<br>평균 수익률=%{x}<br>평균 변동성=%{y}<br>Sector=%{customdata[0]}<extra></extra>",
         "legendgroup": "Above",
         "marker": {
          "color": "#636efa",
          "symbol": "circle"
         },
         "mode": "markers",
         "name": "Above",
         "orientation": "v",
         "showlegend": true,
         "type": "scatter",
         "x": [
          -28.923333333333332,
          -26.276666666666667,
          -24.634821428571428,
          -23.84,
          -19.866666666666664,
          -17.33,
          -15.183333333333334,
          -12.325845070422535,
          -11.840652173913043,
          -11.74,
          -10.161538461538461,
          -10.123076923076923,
          -8.833513513513514,
          -7.875135135135135,
          -7.680000000000001,
          -7.597857142857142,
          -7.027222222222222,
          -6.466666666666665,
          -5.835737704918033,
          -4.915555555555556,
          -4.425833333333333,
          -3.9816,
          -2.624054054054054,
          -1.7461111111111114,
          -1.2956097560975617,
          -1.0583561643835617,
          -0.2926666666666667,
          0.06933333333333418,
          0.7990666666666665,
          0.8680555555555554,
          0.883048780487805,
          3.286,
          3.570769230769232,
          4.821111111111112,
          6.828333333333333,
          9.196,
          10.619574468085107,
          11.539333333333333,
          12.718461538461536,
          13.334242424242426,
          14.1585,
          48.324999999999996
         ],
         "xaxis": "x",
         "y": [
          3.5933333333333333,
          3.3266666666666667,
          3.218928571428571,
          4.07,
          4.405,
          2.79,
          3.0077777777777777,
          3.7028873239436617,
          3.0684782608695653,
          3.8623076923076924,
          3.4814102564102565,
          3.2327692307692306,
          3.918108108108108,
          3.625810810810811,
          3.6814285714285715,
          3.7135714285714285,
          3.966111111111111,
          3.45,
          3.6578688524590164,
          3.709111111111111,
          4.013333333333333,
          4.3736,
          4.822162162162162,
          3.5677777777777777,
          6.637317073170731,
          4.162465753424658,
          3.6593333333333335,
          4.1193333333333335,
          3.666,
          3.8968055555555554,
          3.6513414634146346,
          4.287714285714285,
          4.299230769230769,
          3.696666666666667,
          4.558333333333333,
          4.601999999999999,
          4.091063829787234,
          5.053333333333333,
          4.026923076923077,
          6.046666666666667,
          4.0645,
          7.201874999999999
         ],
         "yaxis": "y"
        },
        {
         "customdata": [
          [
           "다각화된통신서비스"
          ],
          [
           "복합기업"
          ],
          [
           "전자제품"
          ],
          [
           "은행"
          ],
          [
           "음료"
          ],
          [
           "백화점과일반상점"
          ],
          [
           "무선통신서비스"
          ],
          [
           "포장재"
          ],
          [
           "종이와목재"
          ],
          [
           "철강"
          ],
          [
           "증권"
          ],
          [
           "섬유,의류,신발,호화품"
          ],
          [
           "해운사"
          ],
          [
           "다각화된소비자서비스"
          ],
          [
           "가정용품"
          ],
          [
           "창업투자"
          ],
          [
           "기타금융"
          ],
          [
           "디스플레이패널"
          ],
          [
           "전문소매"
          ],
          [
           "상업서비스와공급품"
          ],
          [
           "가구"
          ],
          [
           "호텔,레스토랑,레저"
          ],
          [
           "식품과기본식료품소매"
          ],
          [
           "도로와철도운송"
          ],
          [
           "손해보험"
          ],
          [
           "운송인프라"
          ],
          [
           "항공화물운송과물류"
          ]
         ],
         "hovertemplate": "Color=Below<br>평균 수익률=%{x}<br>평균 변동성=%{y}<br>Sector=%{customdata[0]}<extra></extra>",
         "legendgroup": "Below",
         "marker": {
          "color": "#EF553B",
          "symbol": "circle"
         },
         "mode": "markers",
         "name": "Below",
         "orientation": "v",
         "showlegend": true,
         "type": "scatter",
         "x": [
          -19.58,
          -19.06,
          -12.529285714285715,
          -11.16,
          -7.416666666666667,
          -6.95,
          -6.54,
          -5.358,
          -5.315,
          -5.272105263157894,
          -4.6525,
          -4.5871875,
          -3.9800000000000004,
          -3.75,
          -3.35,
          -2.6731092436974793,
          -2.4275,
          0.38,
          0.4875,
          0.5809523809523809,
          0.7760000000000005,
          0.9711111111111111,
          1.148,
          2.5500000000000003,
          13.43,
          17.979999999999997,
          36.504999999999995
         ],
         "xaxis": "x",
         "y": [
          1.58,
          1.87,
          2.867142857142857,
          2.35,
          2.42,
          1.93,
          1.92,
          1.908,
          1.785,
          2.7821052631578946,
          1.83,
          3.2715625,
          2.02,
          1.2,
          2.17,
          1.1541176470588235,
          2.3575,
          0.69,
          2.005,
          2.632857142857143,
          2.734,
          3.0700000000000003,
          3.2399999999999998,
          1.3,
          3.2,
          3.2699999999999996,
          4.785
         ],
         "yaxis": "y"
        },
        {
         "line": {
          "color": "black",
          "dash": "dash"
         },
         "mode": "lines",
         "name": "회귀선(해당 시장의 수익률 대비 평균 변동성)",
         "type": "scatter",
         "x": [
          -28.923333333333332,
          -26.276666666666667,
          -24.634821428571428,
          -23.84,
          -19.866666666666664,
          -19.58,
          -19.06,
          -17.33,
          -15.183333333333334,
          -12.529285714285715,
          -12.325845070422535,
          -11.840652173913043,
          -11.74,
          -11.16,
          -10.161538461538461,
          -10.123076923076923,
          -8.833513513513514,
          -7.875135135135135,
          -7.680000000000001,
          -7.597857142857142,
          -7.416666666666667,
          -7.027222222222222,
          -6.95,
          -6.54,
          -6.466666666666665,
          -5.835737704918033,
          -5.358,
          -5.315,
          -5.272105263157894,
          -4.915555555555556,
          -4.6525,
          -4.5871875,
          -4.425833333333333,
          -3.9816,
          -3.9800000000000004,
          -3.75,
          -3.35,
          -2.6731092436974793,
          -2.624054054054054,
          -2.4275,
          -1.7461111111111114,
          -1.2956097560975617,
          -1.0583561643835617,
          -0.2926666666666667,
          0.06933333333333418,
          0.38,
          0.4875,
          0.5809523809523809,
          0.7760000000000005,
          0.7990666666666665,
          0.8680555555555554,
          0.883048780487805,
          0.9711111111111111,
          1.148,
          2.5500000000000003,
          3.286,
          3.570769230769232,
          4.821111111111112,
          6.828333333333333,
          9.196,
          10.619574468085107,
          11.539333333333333,
          12.718461538461536,
          13.334242424242426,
          13.43,
          14.1585,
          17.979999999999997,
          36.504999999999995,
          48.324999999999996
         ],
         "y": [
          2.3189741051302257,
          2.425121331919748,
          2.490969185386269,
          2.522846297641588,
          2.6822008245094855,
          2.69369787930029,
          2.7145530019440756,
          2.7839363907397456,
          2.870030614987167,
          2.9764738622904057,
          2.984633053787516,
          3.0040922025617447,
          3.008128959160437,
          3.0313904421092746,
          3.0714347456471933,
          3.072977284304278,
          3.12469652096463,
          3.1631332490804627,
          3.170959339802299,
          3.1742537616485014,
          3.1815205878078054,
          3.1971396486767087,
          3.2002367235137665,
          3.21668018559829,
          3.2196212926377976,
          3.244925332785459,
          3.264085483607817,
          3.2658100418264375,
          3.2675303783603127,
          3.281830162746183,
          3.292380270194722,
          3.294999693651784,
          3.3014709646804743,
          3.319287389005713,
          3.319351558613848,
          3.328575939783214,
          3.3446183418168953,
          3.3717657259306137,
          3.3737331336158594,
          3.381616131507072,
          3.408943917749169,
          3.4270117273837823,
          3.4365270211393093,
          3.4672357680276633,
          3.481754141868145,
          3.49421374078097,
          3.498525136327522,
          3.502273137993129,
          3.5100957187943145,
          3.5110208306449233,
          3.5137876993734545,
          3.514389017728816,
          3.517920846008521,
          3.5250151526856377,
          3.5812437718136896,
          3.6107617915556625,
          3.6221827477727175,
          3.6723289655827003,
          3.752830630232269,
          3.847788281603299,
          3.904882166458061,
          3.9417700201839465,
          3.9890601419737446,
          4.013756653309628,
          4.017597107129812,
          4.046814331833653,
          4.2000794302629325,
          4.943043174447782,
          5.417096154543055
         ]
        }
       ],
       "layout": {
        "legend": {
         "title": {
          "text": "Color"
         },
         "tracegroupgap": 0
        },
        "template": {
         "data": {
          "bar": [
           {
            "error_x": {
             "color": "#2a3f5f"
            },
            "error_y": {
             "color": "#2a3f5f"
            },
            "marker": {
             "line": {
              "color": "white",
              "width": 0.5
             },
             "pattern": {
              "fillmode": "overlay",
              "size": 10,
              "solidity": 0.2
             }
            },
            "type": "bar"
           }
          ],
          "barpolar": [
           {
            "marker": {
             "line": {
              "color": "white",
              "width": 0.5
             },
             "pattern": {
              "fillmode": "overlay",
              "size": 10,
              "solidity": 0.2
             }
            },
            "type": "barpolar"
           }
          ],
          "carpet": [
           {
            "aaxis": {
             "endlinecolor": "#2a3f5f",
             "gridcolor": "#C8D4E3",
             "linecolor": "#C8D4E3",
             "minorgridcolor": "#C8D4E3",
             "startlinecolor": "#2a3f5f"
            },
            "baxis": {
             "endlinecolor": "#2a3f5f",
             "gridcolor": "#C8D4E3",
             "linecolor": "#C8D4E3",
             "minorgridcolor": "#C8D4E3",
             "startlinecolor": "#2a3f5f"
            },
            "type": "carpet"
           }
          ],
          "choropleth": [
           {
            "colorbar": {
             "outlinewidth": 0,
             "ticks": ""
            },
            "type": "choropleth"
           }
          ],
          "contour": [
           {
            "colorbar": {
             "outlinewidth": 0,
             "ticks": ""
            },
            "colorscale": [
             [
              0,
              "#0d0887"
             ],
             [
              0.1111111111111111,
              "#46039f"
             ],
             [
              0.2222222222222222,
              "#7201a8"
             ],
             [
              0.3333333333333333,
              "#9c179e"
             ],
             [
              0.4444444444444444,
              "#bd3786"
             ],
             [
              0.5555555555555556,
              "#d8576b"
             ],
             [
              0.6666666666666666,
              "#ed7953"
             ],
             [
              0.7777777777777778,
              "#fb9f3a"
             ],
             [
              0.8888888888888888,
              "#fdca26"
             ],
             [
              1,
              "#f0f921"
             ]
            ],
            "type": "contour"
           }
          ],
          "contourcarpet": [
           {
            "colorbar": {
             "outlinewidth": 0,
             "ticks": ""
            },
            "type": "contourcarpet"
           }
          ],
          "heatmap": [
           {
            "colorbar": {
             "outlinewidth": 0,
             "ticks": ""
            },
            "colorscale": [
             [
              0,
              "#0d0887"
             ],
             [
              0.1111111111111111,
              "#46039f"
             ],
             [
              0.2222222222222222,
              "#7201a8"
             ],
             [
              0.3333333333333333,
              "#9c179e"
             ],
             [
              0.4444444444444444,
              "#bd3786"
             ],
             [
              0.5555555555555556,
              "#d8576b"
             ],
             [
              0.6666666666666666,
              "#ed7953"
             ],
             [
              0.7777777777777778,
              "#fb9f3a"
             ],
             [
              0.8888888888888888,
              "#fdca26"
             ],
             [
              1,
              "#f0f921"
             ]
            ],
            "type": "heatmap"
           }
          ],
          "heatmapgl": [
           {
            "colorbar": {
             "outlinewidth": 0,
             "ticks": ""
            },
            "colorscale": [
             [
              0,
              "#0d0887"
             ],
             [
              0.1111111111111111,
              "#46039f"
             ],
             [
              0.2222222222222222,
              "#7201a8"
             ],
             [
              0.3333333333333333,
              "#9c179e"
             ],
             [
              0.4444444444444444,
              "#bd3786"
             ],
             [
              0.5555555555555556,
              "#d8576b"
             ],
             [
              0.6666666666666666,
              "#ed7953"
             ],
             [
              0.7777777777777778,
              "#fb9f3a"
             ],
             [
              0.8888888888888888,
              "#fdca26"
             ],
             [
              1,
              "#f0f921"
             ]
            ],
            "type": "heatmapgl"
           }
          ],
          "histogram": [
           {
            "marker": {
             "pattern": {
              "fillmode": "overlay",
              "size": 10,
              "solidity": 0.2
             }
            },
            "type": "histogram"
           }
          ],
          "histogram2d": [
           {
            "colorbar": {
             "outlinewidth": 0,
             "ticks": ""
            },
            "colorscale": [
             [
              0,
              "#0d0887"
             ],
             [
              0.1111111111111111,
              "#46039f"
             ],
             [
              0.2222222222222222,
              "#7201a8"
             ],
             [
              0.3333333333333333,
              "#9c179e"
             ],
             [
              0.4444444444444444,
              "#bd3786"
             ],
             [
              0.5555555555555556,
              "#d8576b"
             ],
             [
              0.6666666666666666,
              "#ed7953"
             ],
             [
              0.7777777777777778,
              "#fb9f3a"
             ],
             [
              0.8888888888888888,
              "#fdca26"
             ],
             [
              1,
              "#f0f921"
             ]
            ],
            "type": "histogram2d"
           }
          ],
          "histogram2dcontour": [
           {
            "colorbar": {
             "outlinewidth": 0,
             "ticks": ""
            },
            "colorscale": [
             [
              0,
              "#0d0887"
             ],
             [
              0.1111111111111111,
              "#46039f"
             ],
             [
              0.2222222222222222,
              "#7201a8"
             ],
             [
              0.3333333333333333,
              "#9c179e"
             ],
             [
              0.4444444444444444,
              "#bd3786"
             ],
             [
              0.5555555555555556,
              "#d8576b"
             ],
             [
              0.6666666666666666,
              "#ed7953"
             ],
             [
              0.7777777777777778,
              "#fb9f3a"
             ],
             [
              0.8888888888888888,
              "#fdca26"
             ],
             [
              1,
              "#f0f921"
             ]
            ],
            "type": "histogram2dcontour"
           }
          ],
          "mesh3d": [
           {
            "colorbar": {
             "outlinewidth": 0,
             "ticks": ""
            },
            "type": "mesh3d"
           }
          ],
          "parcoords": [
           {
            "line": {
             "colorbar": {
              "outlinewidth": 0,
              "ticks": ""
             }
            },
            "type": "parcoords"
           }
          ],
          "pie": [
           {
            "automargin": true,
            "type": "pie"
           }
          ],
          "scatter": [
           {
            "fillpattern": {
             "fillmode": "overlay",
             "size": 10,
             "solidity": 0.2
            },
            "type": "scatter"
           }
          ],
          "scatter3d": [
           {
            "line": {
             "colorbar": {
              "outlinewidth": 0,
              "ticks": ""
             }
            },
            "marker": {
             "colorbar": {
              "outlinewidth": 0,
              "ticks": ""
             }
            },
            "type": "scatter3d"
           }
          ],
          "scattercarpet": [
           {
            "marker": {
             "colorbar": {
              "outlinewidth": 0,
              "ticks": ""
             }
            },
            "type": "scattercarpet"
           }
          ],
          "scattergeo": [
           {
            "marker": {
             "colorbar": {
              "outlinewidth": 0,
              "ticks": ""
             }
            },
            "type": "scattergeo"
           }
          ],
          "scattergl": [
           {
            "marker": {
             "colorbar": {
              "outlinewidth": 0,
              "ticks": ""
             }
            },
            "type": "scattergl"
           }
          ],
          "scattermapbox": [
           {
            "marker": {
             "colorbar": {
              "outlinewidth": 0,
              "ticks": ""
             }
            },
            "type": "scattermapbox"
           }
          ],
          "scatterpolar": [
           {
            "marker": {
             "colorbar": {
              "outlinewidth": 0,
              "ticks": ""
             }
            },
            "type": "scatterpolar"
           }
          ],
          "scatterpolargl": [
           {
            "marker": {
             "colorbar": {
              "outlinewidth": 0,
              "ticks": ""
             }
            },
            "type": "scatterpolargl"
           }
          ],
          "scatterternary": [
           {
            "marker": {
             "colorbar": {
              "outlinewidth": 0,
              "ticks": ""
             }
            },
            "type": "scatterternary"
           }
          ],
          "surface": [
           {
            "colorbar": {
             "outlinewidth": 0,
             "ticks": ""
            },
            "colorscale": [
             [
              0,
              "#0d0887"
             ],
             [
              0.1111111111111111,
              "#46039f"
             ],
             [
              0.2222222222222222,
              "#7201a8"
             ],
             [
              0.3333333333333333,
              "#9c179e"
             ],
             [
              0.4444444444444444,
              "#bd3786"
             ],
             [
              0.5555555555555556,
              "#d8576b"
             ],
             [
              0.6666666666666666,
              "#ed7953"
             ],
             [
              0.7777777777777778,
              "#fb9f3a"
             ],
             [
              0.8888888888888888,
              "#fdca26"
             ],
             [
              1,
              "#f0f921"
             ]
            ],
            "type": "surface"
           }
          ],
          "table": [
           {
            "cells": {
             "fill": {
              "color": "#EBF0F8"
             },
             "line": {
              "color": "white"
             }
            },
            "header": {
             "fill": {
              "color": "#C8D4E3"
             },
             "line": {
              "color": "white"
             }
            },
            "type": "table"
           }
          ]
         },
         "layout": {
          "annotationdefaults": {
           "arrowcolor": "#2a3f5f",
           "arrowhead": 0,
           "arrowwidth": 1
          },
          "autotypenumbers": "strict",
          "coloraxis": {
           "colorbar": {
            "outlinewidth": 0,
            "ticks": ""
           }
          },
          "colorscale": {
           "diverging": [
            [
             0,
             "#8e0152"
            ],
            [
             0.1,
             "#c51b7d"
            ],
            [
             0.2,
             "#de77ae"
            ],
            [
             0.3,
             "#f1b6da"
            ],
            [
             0.4,
             "#fde0ef"
            ],
            [
             0.5,
             "#f7f7f7"
            ],
            [
             0.6,
             "#e6f5d0"
            ],
            [
             0.7,
             "#b8e186"
            ],
            [
             0.8,
             "#7fbc41"
            ],
            [
             0.9,
             "#4d9221"
            ],
            [
             1,
             "#276419"
            ]
           ],
           "sequential": [
            [
             0,
             "#0d0887"
            ],
            [
             0.1111111111111111,
             "#46039f"
            ],
            [
             0.2222222222222222,
             "#7201a8"
            ],
            [
             0.3333333333333333,
             "#9c179e"
            ],
            [
             0.4444444444444444,
             "#bd3786"
            ],
            [
             0.5555555555555556,
             "#d8576b"
            ],
            [
             0.6666666666666666,
             "#ed7953"
            ],
            [
             0.7777777777777778,
             "#fb9f3a"
            ],
            [
             0.8888888888888888,
             "#fdca26"
            ],
            [
             1,
             "#f0f921"
            ]
           ],
           "sequentialminus": [
            [
             0,
             "#0d0887"
            ],
            [
             0.1111111111111111,
             "#46039f"
            ],
            [
             0.2222222222222222,
             "#7201a8"
            ],
            [
             0.3333333333333333,
             "#9c179e"
            ],
            [
             0.4444444444444444,
             "#bd3786"
            ],
            [
             0.5555555555555556,
             "#d8576b"
            ],
            [
             0.6666666666666666,
             "#ed7953"
            ],
            [
             0.7777777777777778,
             "#fb9f3a"
            ],
            [
             0.8888888888888888,
             "#fdca26"
            ],
            [
             1,
             "#f0f921"
            ]
           ]
          },
          "colorway": [
           "#636efa",
           "#EF553B",
           "#00cc96",
           "#ab63fa",
           "#FFA15A",
           "#19d3f3",
           "#FF6692",
           "#B6E880",
           "#FF97FF",
           "#FECB52"
          ],
          "font": {
           "color": "#2a3f5f"
          },
          "geo": {
           "bgcolor": "white",
           "lakecolor": "white",
           "landcolor": "white",
           "showlakes": true,
           "showland": true,
           "subunitcolor": "#C8D4E3"
          },
          "hoverlabel": {
           "align": "left"
          },
          "hovermode": "closest",
          "mapbox": {
           "style": "light"
          },
          "paper_bgcolor": "white",
          "plot_bgcolor": "white",
          "polar": {
           "angularaxis": {
            "gridcolor": "#EBF0F8",
            "linecolor": "#EBF0F8",
            "ticks": ""
           },
           "bgcolor": "white",
           "radialaxis": {
            "gridcolor": "#EBF0F8",
            "linecolor": "#EBF0F8",
            "ticks": ""
           }
          },
          "scene": {
           "xaxis": {
            "backgroundcolor": "white",
            "gridcolor": "#DFE8F3",
            "gridwidth": 2,
            "linecolor": "#EBF0F8",
            "showbackground": true,
            "ticks": "",
            "zerolinecolor": "#EBF0F8"
           },
           "yaxis": {
            "backgroundcolor": "white",
            "gridcolor": "#DFE8F3",
            "gridwidth": 2,
            "linecolor": "#EBF0F8",
            "showbackground": true,
            "ticks": "",
            "zerolinecolor": "#EBF0F8"
           },
           "zaxis": {
            "backgroundcolor": "white",
            "gridcolor": "#DFE8F3",
            "gridwidth": 2,
            "linecolor": "#EBF0F8",
            "showbackground": true,
            "ticks": "",
            "zerolinecolor": "#EBF0F8"
           }
          },
          "shapedefaults": {
           "line": {
            "color": "#2a3f5f"
           }
          },
          "ternary": {
           "aaxis": {
            "gridcolor": "#DFE8F3",
            "linecolor": "#A2B1C6",
            "ticks": ""
           },
           "baxis": {
            "gridcolor": "#DFE8F3",
            "linecolor": "#A2B1C6",
            "ticks": ""
           },
           "bgcolor": "white",
           "caxis": {
            "gridcolor": "#DFE8F3",
            "linecolor": "#A2B1C6",
            "ticks": ""
           }
          },
          "title": {
           "x": 0.05
          },
          "xaxis": {
           "automargin": true,
           "gridcolor": "#EBF0F8",
           "linecolor": "#EBF0F8",
           "ticks": "",
           "title": {
            "standoff": 15
           },
           "zerolinecolor": "#EBF0F8",
           "zerolinewidth": 2
          },
          "yaxis": {
           "automargin": true,
           "gridcolor": "#EBF0F8",
           "linecolor": "#EBF0F8",
           "ticks": "",
           "title": {
            "standoff": 15
           },
           "zerolinecolor": "#EBF0F8",
           "zerolinewidth": 2
          }
         }
        },
        "title": {
         "font": {
          "color": "black",
          "family": "Arial",
          "size": 20
         },
         "text": "업종별 수익률 대비 변동성 지수",
         "x": 0.5
        },
        "xaxis": {
         "anchor": "y",
         "domain": [
          0,
          1
         ],
         "title": {
          "text": "평균 수익률"
         }
        },
        "yaxis": {
         "anchor": "x",
         "domain": [
          0,
          1
         ],
         "title": {
          "text": "평균 변동성"
         }
        }
       }
      }
     },
     "metadata": {},
     "output_type": "display_data"
    },
    {
     "data": {
      "text/html": [
       "<div>\n",
       "<style scoped>\n",
       "    .dataframe tbody tr th:only-of-type {\n",
       "        vertical-align: middle;\n",
       "    }\n",
       "\n",
       "    .dataframe tbody tr th {\n",
       "        vertical-align: top;\n",
       "    }\n",
       "\n",
       "    .dataframe thead th {\n",
       "        text-align: right;\n",
       "    }\n",
       "</style>\n",
       "<table border=\"1\" class=\"dataframe\">\n",
       "  <thead>\n",
       "    <tr style=\"text-align: right;\">\n",
       "      <th></th>\n",
       "      <th>Sector</th>\n",
       "      <th>TotalReturn</th>\n",
       "      <th>Volatility</th>\n",
       "      <th>Color</th>\n",
       "    </tr>\n",
       "  </thead>\n",
       "  <tbody>\n",
       "    <tr>\n",
       "      <th>63</th>\n",
       "      <td>항공화물운송과물류</td>\n",
       "      <td>36.505000</td>\n",
       "      <td>4.785000</td>\n",
       "      <td>Below</td>\n",
       "    </tr>\n",
       "    <tr>\n",
       "      <th>40</th>\n",
       "      <td>운송인프라</td>\n",
       "      <td>17.980000</td>\n",
       "      <td>3.270000</td>\n",
       "      <td>Below</td>\n",
       "    </tr>\n",
       "    <tr>\n",
       "      <th>34</th>\n",
       "      <td>손해보험</td>\n",
       "      <td>13.430000</td>\n",
       "      <td>3.200000</td>\n",
       "      <td>Below</td>\n",
       "    </tr>\n",
       "    <tr>\n",
       "      <th>18</th>\n",
       "      <td>도로와철도운송</td>\n",
       "      <td>2.550000</td>\n",
       "      <td>1.300000</td>\n",
       "      <td>Below</td>\n",
       "    </tr>\n",
       "    <tr>\n",
       "      <th>36</th>\n",
       "      <td>식품과기본식료품소매</td>\n",
       "      <td>1.148000</td>\n",
       "      <td>3.240000</td>\n",
       "      <td>Below</td>\n",
       "    </tr>\n",
       "    <tr>\n",
       "      <th>66</th>\n",
       "      <td>호텔,레스토랑,레저</td>\n",
       "      <td>0.971111</td>\n",
       "      <td>3.070000</td>\n",
       "      <td>Below</td>\n",
       "    </tr>\n",
       "    <tr>\n",
       "      <th>1</th>\n",
       "      <td>가구</td>\n",
       "      <td>0.776000</td>\n",
       "      <td>2.734000</td>\n",
       "      <td>Below</td>\n",
       "    </tr>\n",
       "    <tr>\n",
       "      <th>28</th>\n",
       "      <td>상업서비스와공급품</td>\n",
       "      <td>0.580952</td>\n",
       "      <td>2.632857</td>\n",
       "      <td>Below</td>\n",
       "    </tr>\n",
       "    <tr>\n",
       "      <th>49</th>\n",
       "      <td>전문소매</td>\n",
       "      <td>0.487500</td>\n",
       "      <td>2.005000</td>\n",
       "      <td>Below</td>\n",
       "    </tr>\n",
       "    <tr>\n",
       "      <th>20</th>\n",
       "      <td>디스플레이패널</td>\n",
       "      <td>0.380000</td>\n",
       "      <td>0.690000</td>\n",
       "      <td>Below</td>\n",
       "    </tr>\n",
       "    <tr>\n",
       "      <th>15</th>\n",
       "      <td>기타금융</td>\n",
       "      <td>-2.427500</td>\n",
       "      <td>2.357500</td>\n",
       "      <td>Below</td>\n",
       "    </tr>\n",
       "    <tr>\n",
       "      <th>56</th>\n",
       "      <td>창업투자</td>\n",
       "      <td>-2.673109</td>\n",
       "      <td>1.154118</td>\n",
       "      <td>Below</td>\n",
       "    </tr>\n",
       "    <tr>\n",
       "      <th>4</th>\n",
       "      <td>가정용품</td>\n",
       "      <td>-3.350000</td>\n",
       "      <td>2.170000</td>\n",
       "      <td>Below</td>\n",
       "    </tr>\n",
       "    <tr>\n",
       "      <th>16</th>\n",
       "      <td>다각화된소비자서비스</td>\n",
       "      <td>-3.750000</td>\n",
       "      <td>1.200000</td>\n",
       "      <td>Below</td>\n",
       "    </tr>\n",
       "    <tr>\n",
       "      <th>64</th>\n",
       "      <td>해운사</td>\n",
       "      <td>-3.980000</td>\n",
       "      <td>2.020000</td>\n",
       "      <td>Below</td>\n",
       "    </tr>\n",
       "    <tr>\n",
       "      <th>32</th>\n",
       "      <td>섬유,의류,신발,호화품</td>\n",
       "      <td>-4.587187</td>\n",
       "      <td>3.271562</td>\n",
       "      <td>Below</td>\n",
       "    </tr>\n",
       "    <tr>\n",
       "      <th>55</th>\n",
       "      <td>증권</td>\n",
       "      <td>-4.652500</td>\n",
       "      <td>1.830000</td>\n",
       "      <td>Below</td>\n",
       "    </tr>\n",
       "    <tr>\n",
       "      <th>57</th>\n",
       "      <td>철강</td>\n",
       "      <td>-5.272105</td>\n",
       "      <td>2.782105</td>\n",
       "      <td>Below</td>\n",
       "    </tr>\n",
       "    <tr>\n",
       "      <th>54</th>\n",
       "      <td>종이와목재</td>\n",
       "      <td>-5.315000</td>\n",
       "      <td>1.785000</td>\n",
       "      <td>Below</td>\n",
       "    </tr>\n",
       "    <tr>\n",
       "      <th>62</th>\n",
       "      <td>포장재</td>\n",
       "      <td>-5.358000</td>\n",
       "      <td>1.908000</td>\n",
       "      <td>Below</td>\n",
       "    </tr>\n",
       "    <tr>\n",
       "      <th>22</th>\n",
       "      <td>무선통신서비스</td>\n",
       "      <td>-6.540000</td>\n",
       "      <td>1.920000</td>\n",
       "      <td>Below</td>\n",
       "    </tr>\n",
       "    <tr>\n",
       "      <th>25</th>\n",
       "      <td>백화점과일반상점</td>\n",
       "      <td>-6.950000</td>\n",
       "      <td>1.930000</td>\n",
       "      <td>Below</td>\n",
       "    </tr>\n",
       "    <tr>\n",
       "      <th>42</th>\n",
       "      <td>음료</td>\n",
       "      <td>-7.416667</td>\n",
       "      <td>2.420000</td>\n",
       "      <td>Below</td>\n",
       "    </tr>\n",
       "    <tr>\n",
       "      <th>41</th>\n",
       "      <td>은행</td>\n",
       "      <td>-11.160000</td>\n",
       "      <td>2.350000</td>\n",
       "      <td>Below</td>\n",
       "    </tr>\n",
       "    <tr>\n",
       "      <th>51</th>\n",
       "      <td>전자제품</td>\n",
       "      <td>-12.529286</td>\n",
       "      <td>2.867143</td>\n",
       "      <td>Below</td>\n",
       "    </tr>\n",
       "    <tr>\n",
       "      <th>26</th>\n",
       "      <td>복합기업</td>\n",
       "      <td>-19.060000</td>\n",
       "      <td>1.870000</td>\n",
       "      <td>Below</td>\n",
       "    </tr>\n",
       "    <tr>\n",
       "      <th>17</th>\n",
       "      <td>다각화된통신서비스</td>\n",
       "      <td>-19.580000</td>\n",
       "      <td>1.580000</td>\n",
       "      <td>Below</td>\n",
       "    </tr>\n",
       "  </tbody>\n",
       "</table>\n",
       "</div>"
      ],
      "text/plain": [
       "          Sector  TotalReturn  Volatility  Color\n",
       "63     항공화물운송과물류    36.505000    4.785000  Below\n",
       "40         운송인프라    17.980000    3.270000  Below\n",
       "34          손해보험    13.430000    3.200000  Below\n",
       "18       도로와철도운송     2.550000    1.300000  Below\n",
       "36    식품과기본식료품소매     1.148000    3.240000  Below\n",
       "66    호텔,레스토랑,레저     0.971111    3.070000  Below\n",
       "1             가구     0.776000    2.734000  Below\n",
       "28     상업서비스와공급품     0.580952    2.632857  Below\n",
       "49          전문소매     0.487500    2.005000  Below\n",
       "20       디스플레이패널     0.380000    0.690000  Below\n",
       "15          기타금융    -2.427500    2.357500  Below\n",
       "56          창업투자    -2.673109    1.154118  Below\n",
       "4           가정용품    -3.350000    2.170000  Below\n",
       "16    다각화된소비자서비스    -3.750000    1.200000  Below\n",
       "64           해운사    -3.980000    2.020000  Below\n",
       "32  섬유,의류,신발,호화품    -4.587187    3.271562  Below\n",
       "55            증권    -4.652500    1.830000  Below\n",
       "57            철강    -5.272105    2.782105  Below\n",
       "54         종이와목재    -5.315000    1.785000  Below\n",
       "62           포장재    -5.358000    1.908000  Below\n",
       "22       무선통신서비스    -6.540000    1.920000  Below\n",
       "25      백화점과일반상점    -6.950000    1.930000  Below\n",
       "42            음료    -7.416667    2.420000  Below\n",
       "41            은행   -11.160000    2.350000  Below\n",
       "51          전자제품   -12.529286    2.867143  Below\n",
       "26          복합기업   -19.060000    1.870000  Below\n",
       "17     다각화된통신서비스   -19.580000    1.580000  Below"
      ]
     },
     "metadata": {},
     "output_type": "display_data"
    }
   ],
   "source": [
    "analyze_sector_return_volatility('KOSDAQ')"
   ]
  },
  {
   "cell_type": "code",
   "execution_count": 41,
   "metadata": {},
   "outputs": [
    {
     "name": "stdout",
     "output_type": "stream",
     "text": [
      "3개월 간의 data를 불러옵니다.\n"
     ]
    },
    {
     "data": {
      "application/vnd.plotly.v1+json": {
       "config": {
        "plotlyServerURL": "https://plot.ly"
       },
       "data": [
        {
         "customdata": [
          [
           "KODEX CD금리액티브(합성)"
          ],
          [
           "TIGER CD금리투자KIS(합성)"
          ],
          [
           "KODEX KOFR금리액티브(합성)"
          ],
          [
           "TIGER KOFR금리액티브(합성)"
          ],
          [
           "KODEX 종합채권(AA-이상)액티브"
          ],
          [
           "RISE 머니마켓액티브"
          ],
          [
           "KODEX CD1년금리플러스액티브(합성)"
          ],
          [
           "KODEX 단기채권PLUS"
          ],
          [
           "RISE 종합채권(A-이상)액티브"
          ],
          [
           "TIGER 25-10 회사채(A+이상)액티브"
          ],
          [
           "TIGER 25-12 금융채(AA-이상)"
          ],
          [
           "RISE CD금리액티브(합성)"
          ],
          [
           "KODEX 25-11 은행채(AA-이상)PLUS액티브"
          ],
          [
           "KODEX 25-12 은행채(AAA)액티브"
          ],
          [
           "SOL 종합채권(AA-이상)액티브"
          ],
          [
           "TIGER 단기통안채"
          ],
          [
           "ACE 종합채권(AA-이상)KIS액티브"
          ],
          [
           "KODEX 단기채권"
          ],
          [
           "TIGER 종합채권(AA-이상)액티브"
          ],
          [
           "SOL 초단기채권액티브"
          ],
          [
           "TIGER 단기채권액티브"
          ],
          [
           "RISE 단기통안채"
          ],
          [
           "KODEX 국고채3년"
          ],
          [
           "1Q CD금리액티브(합성)"
          ],
          [
           "1Q 머니마켓액티브"
          ],
          [
           "히어로즈 머니마켓액티브"
          ],
          [
           "히어로즈 종합채권(AA-이상)액티브"
          ],
          [
           "PLUS 머니마켓액티브"
          ],
          [
           "TIGER 중장기국채"
          ],
          [
           "KODEX 26-12 회사채(AA-이상)액티브"
          ],
          [
           "KODEX ESG종합채권(A-이상)액티브"
          ],
          [
           "KODEX 25-11 회사채(A+이상)액티브"
          ],
          [
           "PLUS 종합채권(AA-이상)액티브"
          ],
          [
           "ACE CD금리&초단기채권액티브"
          ],
          [
           "RISE KOFR금리액티브(합성)"
          ],
          [
           "TIGER 투자등급회사채액티브"
          ],
          [
           "1Q 단기금융채액티브"
          ],
          [
           "TIGER 27-04회사채(A+이상)액티브"
          ],
          [
           "SOL 26-12 회사채(AA-이상)액티브"
          ],
          [
           "RISE 단기국공채액티브"
          ],
          [
           "KODEX 단기변동금리부채권액티브"
          ],
          [
           "RISE 25-06 은행채(AA+이상)액티브"
          ],
          [
           "ACE 단기통안채"
          ],
          [
           "ACE 26-06 회사채(AA-이상)액티브"
          ],
          [
           "RISE 25-11 회사채(AA-이상)액티브"
          ],
          [
           "PLUS 국공채머니마켓액티브"
          ],
          [
           "ACE 2월만기자동연장회사채AA-이상액티브"
          ],
          [
           "SOL 25-09 회사채(AA-이상)액티브"
          ],
          [
           "HANARO 종합채권(AA-이상)액티브"
          ],
          [
           "1Q 25-08 회사채(A+이상)액티브"
          ],
          [
           "KODEX 미국종합채권ESG액티브(H)"
          ],
          [
           "BNK 26-06 특수채(AAA이상)액티브"
          ],
          [
           "마이티 26-09 특수채(AAA)액티브"
          ],
          [
           "히어로즈 25-09 회사채(AA-이상)액티브"
          ],
          [
           "KOSEF 단기자금"
          ],
          [
           "파워 종합채권(AA-이상)액티브"
          ],
          [
           "HK 종합채권(AA-이상)액티브"
          ],
          [
           "ACE 25-06 회사채(AA-이상)액티브"
          ],
          [
           "RISE 단기종합채권(AA-이상)액티브"
          ],
          [
           "ACE 11월만기자동연장회사채AA-이상액티브"
          ],
          [
           "히어로즈 26-09 회사채(AA-이상)액티브"
          ],
          [
           "TIGER 국채3년"
          ],
          [
           "히어로즈 단기채권ESG액티브"
          ],
          [
           "HANARO 머니마켓액티브"
          ],
          [
           "RISE 25-03 회사채(AA-이상)액티브"
          ],
          [
           "ACE 8월만기자동연장회사채AA-이상액티브"
          ],
          [
           "RISE 중기우량회사채"
          ],
          [
           "WON 25-09 회사채(AA-이상)액티브"
          ],
          [
           "SOL CD금리&머니마켓액티브"
          ],
          [
           "HANARO 25-12 은행채(AA+이상)액티브"
          ],
          [
           "ACE 단기채권알파액티브"
          ],
          [
           "PLUS 단기채권액티브"
          ],
          [
           "ACE 중장기국공채액티브"
          ],
          [
           "SOL 머니마켓액티브"
          ],
          [
           "RISE 국고채3년"
          ],
          [
           "ACE 5월만기자동연장회사채AA-이상액티브"
          ],
          [
           "KOSEF 통안채1년"
          ],
          [
           "RISE 금융채액티브"
          ],
          [
           "WON 단기국공채액티브"
          ],
          [
           "RISE 중장기국공채액티브"
          ],
          [
           "SOL 국고채3년"
          ],
          [
           "WON 전단채플러스액티브"
          ],
          [
           "SOL KIS단기통안채"
          ],
          [
           "ACE 국고채3년"
          ],
          [
           "KOSEF 국고채3년"
          ],
          [
           "KODEX 국채선물3년인버스"
          ],
          [
           "HANARO CD금리액티브(합성)"
          ],
          [
           "PLUS 우량회사채50"
          ],
          [
           "HANARO KOFR금리액티브(합성)"
          ],
          [
           "PLUS 국채선물3년"
          ],
          [
           "HANARO 단기채권액티브"
          ]
         ],
         "hovertemplate": "Color=Below<br>평균 수익률=%{x}<br>평균 변동성=%{y}<br>Name=%{customdata[0]}<extra></extra>",
         "legendgroup": "Below",
         "marker": {
          "color": "#636efa",
          "symbol": "circle"
         },
         "mode": "markers",
         "name": "Below",
         "orientation": "v",
         "showlegend": true,
         "type": "scatter",
         "x": [
          0.79,
          0.78,
          0.78,
          0.78,
          2.26,
          0.91,
          0.78,
          0.87,
          2.42,
          0.98,
          0.76,
          0.82,
          0.97,
          0.92,
          2.27,
          0.72,
          2.28,
          0.75,
          2.39,
          0.93,
          0.82,
          0.74,
          1.38,
          0.81,
          0.87,
          0.8,
          2.32,
          0.89,
          1.63,
          1.24,
          1.59,
          0.8,
          2.27,
          0.89,
          0.78,
          1.98,
          0.84,
          1.61,
          1.49,
          0.89,
          0.71,
          0.82,
          0.78,
          1.16,
          0.9,
          0.9,
          0.82,
          0.89,
          2.5,
          0.84,
          -1.99,
          0.31,
          1.39,
          0.9,
          0.82,
          0.45,
          1.69,
          0.85,
          0.86,
          0.92,
          1.37,
          1.38,
          1.17,
          0.86,
          0.82,
          0.78,
          1.4,
          0.92,
          0.35,
          0.8,
          0.89,
          1.03,
          1.94,
          0.83,
          1.47,
          0.83,
          0.92,
          1.7,
          0.86,
          1.99,
          1.74,
          0.68,
          0.74,
          1.49,
          1.61,
          0.12,
          0.77,
          1.08,
          0.76,
          1.41,
          0.73
         ],
         "xaxis": "x",
         "y": [
          0.01,
          0.01,
          0.01,
          0.01,
          0.23,
          0.02,
          0.01,
          0.02,
          0.2,
          0.03,
          0.03,
          0.01,
          0.05,
          0.02,
          0.21,
          0.01,
          0.24,
          0.01,
          0.21,
          0.01,
          0.01,
          0.01,
          0.11,
          0.01,
          0.01,
          0.01,
          0.23,
          0.01,
          0.22,
          0.06,
          0.15,
          0.04,
          0.25,
          0.01,
          0.01,
          0.12,
          0.01,
          0.07,
          0.05,
          0.02,
          0.01,
          0.02,
          0.01,
          0.06,
          0.02,
          0.01,
          0.05,
          0.02,
          0.25,
          0.02,
          0.29,
          0.04,
          0.06,
          0.02,
          0.01,
          0.31,
          0.19,
          0.06,
          0.02,
          0.04,
          0.05,
          0.1,
          0.03,
          0.01,
          0.02,
          0.04,
          0.07,
          0.02,
          0.02,
          0.07,
          0.02,
          0.02,
          0.13,
          0.01,
          0.11,
          0.04,
          0.02,
          0.09,
          0.02,
          0.14,
          0.15,
          0.03,
          0.01,
          0.1,
          0.11,
          0.09,
          0.01,
          0.04,
          0.01,
          0.11,
          0.01
         ],
         "yaxis": "y"
        },
        {
         "customdata": [
          [
           "ACE 미국30년국채액티브(H)"
          ],
          [
           "TIGER 미국30년국채커버드콜액티브(H)"
          ],
          [
           "TIGER 미국30년국채스트립액티브(합성 H)"
          ],
          [
           "TIGER 미국달러단기채권액티브"
          ],
          [
           "TIGER 미국달러SOFR금리액티브(합성)"
          ],
          [
           "KODEX 미국30년국채타겟커버드콜(합성 H)"
          ],
          [
           "KODEX 미국달러SOFR금리액티브(합성)"
          ],
          [
           "KODEX 국고채30년액티브"
          ],
          [
           "KODEX 국고채10년액티브"
          ],
          [
           "RISE 미국30년국채엔화노출(합성 H)"
          ],
          [
           "KOSEF 국고채10년"
          ],
          [
           "RISE KIS국고채30년Enhanced"
          ],
          [
           "KODEX 미국30년국채액티브(H)"
          ],
          [
           "KODEX 미국30년국채울트라선물(H)"
          ],
          [
           "ACE 국고채10년"
          ],
          [
           "SOL 미국30년국채커버드콜(합성)"
          ],
          [
           "PLUS 국고채10년액티브"
          ],
          [
           "TIGER 미국채10년선물"
          ],
          [
           "KODEX 장기종합채권(AA-이상)액티브"
          ],
          [
           "TIGER 국고채30년스트립액티브"
          ],
          [
           "TIGER 미국투자등급회사채액티브(H)"
          ],
          [
           "SOL 국고채10년"
          ],
          [
           "ACE 미국30년국채엔화노출액티브(H)"
          ],
          [
           "RISE 국고채10년액티브"
          ],
          [
           "KODEX 200미국채혼합"
          ],
          [
           "ACE 미국30년국채선물레버리지(합성 H)"
          ],
          [
           "ACE 미국30년국채액티브"
          ],
          [
           "RISE 국채선물10년인버스"
          ],
          [
           "KODEX 아시아달러채권ESG플러스액티브"
          ],
          [
           "KODEX 미국10년국채선물"
          ],
          [
           "RISE 미국달러SOFR금리액티브(합성)"
          ],
          [
           "SOL 미국30년국채액티브(H)"
          ],
          [
           "KODEX 국채선물10년"
          ],
          [
           "WON 대한민국국고채액티브"
          ],
          [
           "HANARO 32-10 국고채액티브"
          ],
          [
           "PLUS 미국채30년액티브"
          ],
          [
           "KODEX iShares미국하이일드액티브"
          ],
          [
           "PLUS 미국장기우량회사채"
          ],
          [
           "KOSEF 국고채10년레버리지"
          ],
          [
           "PLUS 미국단기회사채(AAA~A)"
          ],
          [
           "RISE 미국30년국채커버드콜(합성)"
          ],
          [
           "히어로즈 국고채30년액티브"
          ],
          [
           "PLUS 국고채30년액티브"
          ],
          [
           "KODEX 33-06 국고채액티브"
          ],
          [
           "RISE 미국단기투자등급회사채액티브"
          ],
          [
           "KODEX 53-09 국고채액티브"
          ],
          [
           "RISE 미국30년국채액티브"
          ],
          [
           "KODEX iShares미국투자등급회사채액티브"
          ],
          [
           "히어로즈 25-09 미국채권(AA-이상)액티브"
          ],
          [
           "ACE 미국달러단기채권액티브"
          ],
          [
           "RISE 국채30년레버리지(합성)"
          ],
          [
           "TIGER 단기선진하이일드(합성 H)"
          ],
          [
           "SOL 국고채30년액티브"
          ],
          [
           "히어로즈 미국달러SOFR금리액티브(합성)"
          ],
          [
           "PLUS 일본엔화초단기국채(합성)"
          ],
          [
           "RISE 미국장기국채선물(H)"
          ],
          [
           "PLUS 국채선물10년"
          ],
          [
           "KODEX iShares미국인플레이션국채액티브"
          ],
          [
           "RISE 국채선물3년"
          ],
          [
           "RISE 미국장기국채선물레버리지(합성 H)"
          ],
          [
           "KODEX 미국30년국채울트라선물인버스(H)"
          ],
          [
           "KODEX 국채선물10년인버스"
          ],
          [
           "RISE 국채선물10년"
          ],
          [
           "PLUS 미국달러SOFR금리액티브(합성)"
          ],
          [
           "ACE 미국하이일드액티브(H)"
          ],
          [
           "HANARO KAP초장기국고채"
          ],
          [
           "RISE 국채선물5년추종인버스"
          ],
          [
           "RISE 미국장기국채선물인버스(H)"
          ],
          [
           "RISE 국채선물5년추종"
          ],
          [
           "RISE KP달러채권액티브"
          ]
         ],
         "hovertemplate": "Color=Above<br>평균 수익률=%{x}<br>평균 변동성=%{y}<br>Name=%{customdata[0]}<extra></extra>",
         "legendgroup": "Above",
         "marker": {
          "color": "#EF553B",
          "symbol": "circle"
         },
         "mode": "markers",
         "name": "Above",
         "orientation": "v",
         "showlegend": true,
         "type": "scatter",
         "x": [
          -7.58,
          -6.76,
          -11.44,
          10.06,
          10.05,
          -7.2,
          10.12,
          5.25,
          2.1,
          -6.45,
          1.95,
          6.87,
          -7.32,
          -8.1,
          1.96,
          3.05,
          1.86,
          5.5,
          3.51,
          7.87,
          -2.96,
          2.12,
          -6.79,
          2.26,
          1.22,
          -16.54,
          0.75,
          -0.64,
          7.75,
          4.88,
          9.82,
          -7.6,
          1.69,
          3.26,
          2.85,
          1.25,
          9.49,
          2.73,
          2.63,
          9.22,
          3.35,
          5.73,
          5.28,
          2.14,
          9.03,
          5.31,
          -1.48,
          5.71,
          9.03,
          9.82,
          9.54,
          -0.03,
          5.36,
          9.82,
          2.09,
          -5.82,
          1.62,
          6.32,
          0.87,
          -13.09,
          8.69,
          -0.67,
          1.65,
          10.04,
          0.45,
          3.63,
          -0.45,
          7.66,
          1.02,
          9.22
         ],
         "xaxis": "x",
         "y": [
          0.79,
          0.74,
          1.34,
          0.43,
          0.41,
          0.74,
          0.41,
          0.65,
          0.33,
          1.16,
          0.34,
          0.86,
          0.82,
          0.84,
          0.33,
          0.66,
          0.35,
          0.43,
          0.37,
          0.99,
          0.42,
          0.32,
          1.08,
          0.34,
          0.48,
          1.58,
          0.83,
          0.45,
          0.44,
          0.43,
          0.48,
          0.82,
          0.35,
          0.3,
          0.33,
          0.86,
          0.59,
          0.72,
          0.73,
          1.08,
          0.72,
          0.66,
          0.66,
          0.31,
          0.41,
          0.64,
          1.04,
          0.51,
          0.41,
          0.43,
          1.29,
          0.43,
          0.65,
          0.43,
          0.52,
          0.59,
          0.35,
          0.45,
          0.39,
          1.19,
          0.87,
          0.34,
          0.58,
          0.44,
          0.55,
          0.54,
          0.36,
          0.67,
          0.35,
          0.41
         ],
         "yaxis": "y"
        },
        {
         "line": {
          "color": "black",
          "dash": "dash"
         },
         "mode": "lines",
         "name": "회귀선(ETF 시장 채권업종 3개월 수익률 대비 평균 변동성)",
         "type": "scatter",
         "x": [
          0.79,
          0.78,
          0.78,
          0.78,
          2.26,
          0.91,
          0.78,
          -7.58,
          0.87,
          2.42,
          0.98,
          -6.76,
          0.76,
          0.82,
          0.97,
          0.92,
          2.27,
          0.72,
          2.28,
          0.75,
          -11.44,
          2.39,
          10.06,
          10.05,
          -7.2,
          0.93,
          0.82,
          0.74,
          1.38,
          10.12,
          5.25,
          0.81,
          2.1,
          0.87,
          -6.45,
          1.95,
          0.8,
          2.32,
          6.87,
          0.89,
          1.63,
          1.24,
          -7.32,
          -8.1,
          1.59,
          0.8,
          2.27,
          0.89,
          0.78,
          1.98,
          1.96,
          0.84,
          1.61,
          1.49,
          0.89,
          3.05,
          0.71,
          0.82,
          0.78,
          1.86,
          5.5,
          1.16,
          3.51,
          7.87,
          0.9,
          -2.96,
          0.9,
          2.12,
          0.82,
          0.89,
          2.5,
          0.84,
          -1.99,
          -6.79,
          0.31,
          1.39,
          0.9,
          2.26,
          0.82,
          0.45,
          1.69,
          0.85,
          0.86,
          0.92,
          1.37,
          1.38,
          1.17,
          0.86,
          1.22,
          -16.54,
          0.82,
          0.78,
          1.4,
          0.75,
          0.92,
          -0.64,
          0.35,
          7.75,
          4.88,
          0.8,
          9.82,
          0.89,
          1.03,
          -7.6,
          1.94,
          0.83,
          1.47,
          0.83,
          1.69,
          3.26,
          2.85,
          0.92,
          1.7,
          0.86,
          1.25,
          9.49,
          2.73,
          2.63,
          1.99,
          9.22,
          3.35,
          5.73,
          1.74,
          5.28,
          0.68,
          0.74,
          2.14,
          9.03,
          5.31,
          1.49,
          -1.48,
          1.61,
          5.71,
          9.03,
          0.12,
          9.82,
          9.54,
          0.77,
          1.08,
          -0.03,
          0.76,
          5.36,
          9.82,
          2.09,
          -5.82,
          1.62,
          6.32,
          0.87,
          -13.09,
          8.69,
          1.41,
          -0.67,
          1.65,
          10.04,
          0.45,
          3.63,
          -0.45,
          7.66,
          1.02,
          0.73,
          9.22
         ],
         "y": [
          0.3119682344582782,
          0.3120829755960881,
          0.3120829755960881,
          0.3120829755960881,
          0.29510128720022316,
          0.3105913408045594,
          0.3120829755960881,
          0.4080065668051631,
          0.31105030535579903,
          0.29326542899526475,
          0.30978815283989014,
          0.39859779350475144,
          0.3123124578717079,
          0.3116240110448485,
          0.30990289397770004,
          0.3104765996667495,
          0.29498654606241326,
          0.3127714224229475,
          0.29487180492460335,
          0.31242719900951776,
          0.4522966459997839,
          0.29360965240869447,
          0.2056031997085024,
          0.20571794084631229,
          0.403646403568387,
          0.3103618585289396,
          0.3116240110448485,
          0.31254194014732767,
          0.3051985073274942,
          0.20491475288164301,
          0.26079368699506356,
          0.3117387521826584,
          0.2969371454051815,
          0.31105030535579903,
          0.3950408182326446,
          0.29865826247232996,
          0.3118534933204683,
          0.29441284037336374,
          0.24220562266986,
          0.3108208230801792,
          0.3023299788822467,
          0.30680488325683275,
          0.4050232972221058,
          0.41397310597127784,
          0.30278894343348633,
          0.3118534933204683,
          0.29498654606241326,
          0.3108208230801792,
          0.3120829755960881,
          0.2983140390589003,
          0.2985435213345201,
          0.3113945287692287,
          0.3025594611578665,
          0.3039363548115853,
          0.3108208230801792,
          0.2860367373132412,
          0.3128861635607574,
          0.3116240110448485,
          0.3120829755960881,
          0.2996909327126191,
          0.25792515854981607,
          0.307722812359312,
          0.28075864497398584,
          0.23073150888887017,
          0.3107060819423693,
          0.35499616113699006,
          0.3107060819423693,
          0.2967076631295617,
          0.3116240110448485,
          0.3108208230801792,
          0.2923474998927856,
          0.3113945287692287,
          0.34386627076942994,
          0.39894201691818115,
          0.3174758090731533,
          0.3050837661896843,
          0.3107060819423693,
          0.29510128720022316,
          0.3116240110448485,
          0.31586943314381477,
          0.30164153205538735,
          0.31127978763141884,
          0.31116504649360893,
          0.3104765996667495,
          0.3053132484653041,
          0.3051985073274942,
          0.3076080712215021,
          0.31116504649360893,
          0.30703436553245256,
          0.510814626282832,
          0.3116240110448485,
          0.3120829755960881,
          0.3049690250518744,
          0.31242719900951776,
          0.3104765996667495,
          0.3283762171650937,
          0.3170168445219137,
          0.23210840254258894,
          0.2650391090940298,
          0.3118534933204683,
          0.20835698701593997,
          0.3108208230801792,
          0.3092144471508406,
          0.4082360490807829,
          0.29877300361013986,
          0.3115092699070386,
          0.3041658370872051,
          0.3115092699070386,
          0.30164153205538735,
          0.2836271734192333,
          0.28833156006943916,
          0.3104765996667495,
          0.30152679091757745,
          0.31116504649360893,
          0.3066901421190229,
          0.21214344456366663,
          0.2897084537231579,
          0.2908558651012569,
          0.2981992979210904,
          0.21524145528453387,
          0.2825945031789442,
          0.2552861123801884,
          0.30106782636633783,
          0.26044946358163384,
          0.3132303869741871,
          0.31254194014732767,
          0.2964781808539419,
          0.21742153690292196,
          0.26010524016820413,
          0.3039363548115853,
          0.3380144727411251,
          0.3025594611578665,
          0.2555155946558082,
          0.21742153690292196,
          0.3196558906915414,
          0.20835698701593997,
          0.21156973887461714,
          0.312197716733898,
          0.30864074146179116,
          0.3213770077586899,
          0.3123124578717079,
          0.25953153447915467,
          0.20835698701593997,
          0.2970518865429914,
          0.38781212655062103,
          0.3024447200200566,
          0.2485163852494044,
          0.31105030535579903,
          0.4712289337384171,
          0.2213227355884585,
          0.3048542839140645,
          0.32872044057852334,
          0.30210049660662697,
          0.20583268198412222,
          0.31586943314381477,
          0.27938175132026705,
          0.32619613554670557,
          0.23314107278287802,
          0.3093291882886505,
          0.31265668128513757,
          0.21524145528453387
         ]
        }
       ],
       "layout": {
        "legend": {
         "title": {
          "text": "Color"
         },
         "tracegroupgap": 0
        },
        "template": {
         "data": {
          "bar": [
           {
            "error_x": {
             "color": "#2a3f5f"
            },
            "error_y": {
             "color": "#2a3f5f"
            },
            "marker": {
             "line": {
              "color": "white",
              "width": 0.5
             },
             "pattern": {
              "fillmode": "overlay",
              "size": 10,
              "solidity": 0.2
             }
            },
            "type": "bar"
           }
          ],
          "barpolar": [
           {
            "marker": {
             "line": {
              "color": "white",
              "width": 0.5
             },
             "pattern": {
              "fillmode": "overlay",
              "size": 10,
              "solidity": 0.2
             }
            },
            "type": "barpolar"
           }
          ],
          "carpet": [
           {
            "aaxis": {
             "endlinecolor": "#2a3f5f",
             "gridcolor": "#C8D4E3",
             "linecolor": "#C8D4E3",
             "minorgridcolor": "#C8D4E3",
             "startlinecolor": "#2a3f5f"
            },
            "baxis": {
             "endlinecolor": "#2a3f5f",
             "gridcolor": "#C8D4E3",
             "linecolor": "#C8D4E3",
             "minorgridcolor": "#C8D4E3",
             "startlinecolor": "#2a3f5f"
            },
            "type": "carpet"
           }
          ],
          "choropleth": [
           {
            "colorbar": {
             "outlinewidth": 0,
             "ticks": ""
            },
            "type": "choropleth"
           }
          ],
          "contour": [
           {
            "colorbar": {
             "outlinewidth": 0,
             "ticks": ""
            },
            "colorscale": [
             [
              0,
              "#0d0887"
             ],
             [
              0.1111111111111111,
              "#46039f"
             ],
             [
              0.2222222222222222,
              "#7201a8"
             ],
             [
              0.3333333333333333,
              "#9c179e"
             ],
             [
              0.4444444444444444,
              "#bd3786"
             ],
             [
              0.5555555555555556,
              "#d8576b"
             ],
             [
              0.6666666666666666,
              "#ed7953"
             ],
             [
              0.7777777777777778,
              "#fb9f3a"
             ],
             [
              0.8888888888888888,
              "#fdca26"
             ],
             [
              1,
              "#f0f921"
             ]
            ],
            "type": "contour"
           }
          ],
          "contourcarpet": [
           {
            "colorbar": {
             "outlinewidth": 0,
             "ticks": ""
            },
            "type": "contourcarpet"
           }
          ],
          "heatmap": [
           {
            "colorbar": {
             "outlinewidth": 0,
             "ticks": ""
            },
            "colorscale": [
             [
              0,
              "#0d0887"
             ],
             [
              0.1111111111111111,
              "#46039f"
             ],
             [
              0.2222222222222222,
              "#7201a8"
             ],
             [
              0.3333333333333333,
              "#9c179e"
             ],
             [
              0.4444444444444444,
              "#bd3786"
             ],
             [
              0.5555555555555556,
              "#d8576b"
             ],
             [
              0.6666666666666666,
              "#ed7953"
             ],
             [
              0.7777777777777778,
              "#fb9f3a"
             ],
             [
              0.8888888888888888,
              "#fdca26"
             ],
             [
              1,
              "#f0f921"
             ]
            ],
            "type": "heatmap"
           }
          ],
          "heatmapgl": [
           {
            "colorbar": {
             "outlinewidth": 0,
             "ticks": ""
            },
            "colorscale": [
             [
              0,
              "#0d0887"
             ],
             [
              0.1111111111111111,
              "#46039f"
             ],
             [
              0.2222222222222222,
              "#7201a8"
             ],
             [
              0.3333333333333333,
              "#9c179e"
             ],
             [
              0.4444444444444444,
              "#bd3786"
             ],
             [
              0.5555555555555556,
              "#d8576b"
             ],
             [
              0.6666666666666666,
              "#ed7953"
             ],
             [
              0.7777777777777778,
              "#fb9f3a"
             ],
             [
              0.8888888888888888,
              "#fdca26"
             ],
             [
              1,
              "#f0f921"
             ]
            ],
            "type": "heatmapgl"
           }
          ],
          "histogram": [
           {
            "marker": {
             "pattern": {
              "fillmode": "overlay",
              "size": 10,
              "solidity": 0.2
             }
            },
            "type": "histogram"
           }
          ],
          "histogram2d": [
           {
            "colorbar": {
             "outlinewidth": 0,
             "ticks": ""
            },
            "colorscale": [
             [
              0,
              "#0d0887"
             ],
             [
              0.1111111111111111,
              "#46039f"
             ],
             [
              0.2222222222222222,
              "#7201a8"
             ],
             [
              0.3333333333333333,
              "#9c179e"
             ],
             [
              0.4444444444444444,
              "#bd3786"
             ],
             [
              0.5555555555555556,
              "#d8576b"
             ],
             [
              0.6666666666666666,
              "#ed7953"
             ],
             [
              0.7777777777777778,
              "#fb9f3a"
             ],
             [
              0.8888888888888888,
              "#fdca26"
             ],
             [
              1,
              "#f0f921"
             ]
            ],
            "type": "histogram2d"
           }
          ],
          "histogram2dcontour": [
           {
            "colorbar": {
             "outlinewidth": 0,
             "ticks": ""
            },
            "colorscale": [
             [
              0,
              "#0d0887"
             ],
             [
              0.1111111111111111,
              "#46039f"
             ],
             [
              0.2222222222222222,
              "#7201a8"
             ],
             [
              0.3333333333333333,
              "#9c179e"
             ],
             [
              0.4444444444444444,
              "#bd3786"
             ],
             [
              0.5555555555555556,
              "#d8576b"
             ],
             [
              0.6666666666666666,
              "#ed7953"
             ],
             [
              0.7777777777777778,
              "#fb9f3a"
             ],
             [
              0.8888888888888888,
              "#fdca26"
             ],
             [
              1,
              "#f0f921"
             ]
            ],
            "type": "histogram2dcontour"
           }
          ],
          "mesh3d": [
           {
            "colorbar": {
             "outlinewidth": 0,
             "ticks": ""
            },
            "type": "mesh3d"
           }
          ],
          "parcoords": [
           {
            "line": {
             "colorbar": {
              "outlinewidth": 0,
              "ticks": ""
             }
            },
            "type": "parcoords"
           }
          ],
          "pie": [
           {
            "automargin": true,
            "type": "pie"
           }
          ],
          "scatter": [
           {
            "fillpattern": {
             "fillmode": "overlay",
             "size": 10,
             "solidity": 0.2
            },
            "type": "scatter"
           }
          ],
          "scatter3d": [
           {
            "line": {
             "colorbar": {
              "outlinewidth": 0,
              "ticks": ""
             }
            },
            "marker": {
             "colorbar": {
              "outlinewidth": 0,
              "ticks": ""
             }
            },
            "type": "scatter3d"
           }
          ],
          "scattercarpet": [
           {
            "marker": {
             "colorbar": {
              "outlinewidth": 0,
              "ticks": ""
             }
            },
            "type": "scattercarpet"
           }
          ],
          "scattergeo": [
           {
            "marker": {
             "colorbar": {
              "outlinewidth": 0,
              "ticks": ""
             }
            },
            "type": "scattergeo"
           }
          ],
          "scattergl": [
           {
            "marker": {
             "colorbar": {
              "outlinewidth": 0,
              "ticks": ""
             }
            },
            "type": "scattergl"
           }
          ],
          "scattermapbox": [
           {
            "marker": {
             "colorbar": {
              "outlinewidth": 0,
              "ticks": ""
             }
            },
            "type": "scattermapbox"
           }
          ],
          "scatterpolar": [
           {
            "marker": {
             "colorbar": {
              "outlinewidth": 0,
              "ticks": ""
             }
            },
            "type": "scatterpolar"
           }
          ],
          "scatterpolargl": [
           {
            "marker": {
             "colorbar": {
              "outlinewidth": 0,
              "ticks": ""
             }
            },
            "type": "scatterpolargl"
           }
          ],
          "scatterternary": [
           {
            "marker": {
             "colorbar": {
              "outlinewidth": 0,
              "ticks": ""
             }
            },
            "type": "scatterternary"
           }
          ],
          "surface": [
           {
            "colorbar": {
             "outlinewidth": 0,
             "ticks": ""
            },
            "colorscale": [
             [
              0,
              "#0d0887"
             ],
             [
              0.1111111111111111,
              "#46039f"
             ],
             [
              0.2222222222222222,
              "#7201a8"
             ],
             [
              0.3333333333333333,
              "#9c179e"
             ],
             [
              0.4444444444444444,
              "#bd3786"
             ],
             [
              0.5555555555555556,
              "#d8576b"
             ],
             [
              0.6666666666666666,
              "#ed7953"
             ],
             [
              0.7777777777777778,
              "#fb9f3a"
             ],
             [
              0.8888888888888888,
              "#fdca26"
             ],
             [
              1,
              "#f0f921"
             ]
            ],
            "type": "surface"
           }
          ],
          "table": [
           {
            "cells": {
             "fill": {
              "color": "#EBF0F8"
             },
             "line": {
              "color": "white"
             }
            },
            "header": {
             "fill": {
              "color": "#C8D4E3"
             },
             "line": {
              "color": "white"
             }
            },
            "type": "table"
           }
          ]
         },
         "layout": {
          "annotationdefaults": {
           "arrowcolor": "#2a3f5f",
           "arrowhead": 0,
           "arrowwidth": 1
          },
          "autotypenumbers": "strict",
          "coloraxis": {
           "colorbar": {
            "outlinewidth": 0,
            "ticks": ""
           }
          },
          "colorscale": {
           "diverging": [
            [
             0,
             "#8e0152"
            ],
            [
             0.1,
             "#c51b7d"
            ],
            [
             0.2,
             "#de77ae"
            ],
            [
             0.3,
             "#f1b6da"
            ],
            [
             0.4,
             "#fde0ef"
            ],
            [
             0.5,
             "#f7f7f7"
            ],
            [
             0.6,
             "#e6f5d0"
            ],
            [
             0.7,
             "#b8e186"
            ],
            [
             0.8,
             "#7fbc41"
            ],
            [
             0.9,
             "#4d9221"
            ],
            [
             1,
             "#276419"
            ]
           ],
           "sequential": [
            [
             0,
             "#0d0887"
            ],
            [
             0.1111111111111111,
             "#46039f"
            ],
            [
             0.2222222222222222,
             "#7201a8"
            ],
            [
             0.3333333333333333,
             "#9c179e"
            ],
            [
             0.4444444444444444,
             "#bd3786"
            ],
            [
             0.5555555555555556,
             "#d8576b"
            ],
            [
             0.6666666666666666,
             "#ed7953"
            ],
            [
             0.7777777777777778,
             "#fb9f3a"
            ],
            [
             0.8888888888888888,
             "#fdca26"
            ],
            [
             1,
             "#f0f921"
            ]
           ],
           "sequentialminus": [
            [
             0,
             "#0d0887"
            ],
            [
             0.1111111111111111,
             "#46039f"
            ],
            [
             0.2222222222222222,
             "#7201a8"
            ],
            [
             0.3333333333333333,
             "#9c179e"
            ],
            [
             0.4444444444444444,
             "#bd3786"
            ],
            [
             0.5555555555555556,
             "#d8576b"
            ],
            [
             0.6666666666666666,
             "#ed7953"
            ],
            [
             0.7777777777777778,
             "#fb9f3a"
            ],
            [
             0.8888888888888888,
             "#fdca26"
            ],
            [
             1,
             "#f0f921"
            ]
           ]
          },
          "colorway": [
           "#636efa",
           "#EF553B",
           "#00cc96",
           "#ab63fa",
           "#FFA15A",
           "#19d3f3",
           "#FF6692",
           "#B6E880",
           "#FF97FF",
           "#FECB52"
          ],
          "font": {
           "color": "#2a3f5f"
          },
          "geo": {
           "bgcolor": "white",
           "lakecolor": "white",
           "landcolor": "white",
           "showlakes": true,
           "showland": true,
           "subunitcolor": "#C8D4E3"
          },
          "hoverlabel": {
           "align": "left"
          },
          "hovermode": "closest",
          "mapbox": {
           "style": "light"
          },
          "paper_bgcolor": "white",
          "plot_bgcolor": "white",
          "polar": {
           "angularaxis": {
            "gridcolor": "#EBF0F8",
            "linecolor": "#EBF0F8",
            "ticks": ""
           },
           "bgcolor": "white",
           "radialaxis": {
            "gridcolor": "#EBF0F8",
            "linecolor": "#EBF0F8",
            "ticks": ""
           }
          },
          "scene": {
           "xaxis": {
            "backgroundcolor": "white",
            "gridcolor": "#DFE8F3",
            "gridwidth": 2,
            "linecolor": "#EBF0F8",
            "showbackground": true,
            "ticks": "",
            "zerolinecolor": "#EBF0F8"
           },
           "yaxis": {
            "backgroundcolor": "white",
            "gridcolor": "#DFE8F3",
            "gridwidth": 2,
            "linecolor": "#EBF0F8",
            "showbackground": true,
            "ticks": "",
            "zerolinecolor": "#EBF0F8"
           },
           "zaxis": {
            "backgroundcolor": "white",
            "gridcolor": "#DFE8F3",
            "gridwidth": 2,
            "linecolor": "#EBF0F8",
            "showbackground": true,
            "ticks": "",
            "zerolinecolor": "#EBF0F8"
           }
          },
          "shapedefaults": {
           "line": {
            "color": "#2a3f5f"
           }
          },
          "ternary": {
           "aaxis": {
            "gridcolor": "#DFE8F3",
            "linecolor": "#A2B1C6",
            "ticks": ""
           },
           "baxis": {
            "gridcolor": "#DFE8F3",
            "linecolor": "#A2B1C6",
            "ticks": ""
           },
           "bgcolor": "white",
           "caxis": {
            "gridcolor": "#DFE8F3",
            "linecolor": "#A2B1C6",
            "ticks": ""
           }
          },
          "title": {
           "x": 0.05
          },
          "xaxis": {
           "automargin": true,
           "gridcolor": "#EBF0F8",
           "linecolor": "#EBF0F8",
           "ticks": "",
           "title": {
            "standoff": 15
           },
           "zerolinecolor": "#EBF0F8",
           "zerolinewidth": 2
          },
          "yaxis": {
           "automargin": true,
           "gridcolor": "#EBF0F8",
           "linecolor": "#EBF0F8",
           "ticks": "",
           "title": {
            "standoff": 15
           },
           "zerolinecolor": "#EBF0F8",
           "zerolinewidth": 2
          }
         }
        },
        "title": {
         "font": {
          "color": "black",
          "family": "Arial",
          "size": 20
         },
         "text": "ETF 시장 채권업종 3개월 수익률 대비 변동성 지수",
         "x": 0.5
        },
        "xaxis": {
         "anchor": "y",
         "domain": [
          0,
          1
         ],
         "title": {
          "text": "평균 수익률"
         }
        },
        "yaxis": {
         "anchor": "x",
         "domain": [
          0,
          1
         ],
         "title": {
          "text": "평균 변동성"
         }
        }
       }
      }
     },
     "metadata": {},
     "output_type": "display_data"
    },
    {
     "data": {
      "text/html": [
       "<div>\n",
       "<style scoped>\n",
       "    .dataframe tbody tr th:only-of-type {\n",
       "        vertical-align: middle;\n",
       "    }\n",
       "\n",
       "    .dataframe tbody tr th {\n",
       "        vertical-align: top;\n",
       "    }\n",
       "\n",
       "    .dataframe thead th {\n",
       "        text-align: right;\n",
       "    }\n",
       "</style>\n",
       "<table border=\"1\" class=\"dataframe\">\n",
       "  <thead>\n",
       "    <tr style=\"text-align: right;\">\n",
       "      <th></th>\n",
       "      <th>Code</th>\n",
       "      <th>Name</th>\n",
       "      <th>Volatility</th>\n",
       "      <th>TotalReturn</th>\n",
       "      <th>AvgReturn</th>\n",
       "      <th>Sector</th>\n",
       "      <th>Volume</th>\n",
       "      <th>Amount</th>\n",
       "      <th>Marcap</th>\n",
       "      <th>Color</th>\n",
       "    </tr>\n",
       "  </thead>\n",
       "  <tbody>\n",
       "    <tr>\n",
       "      <th>222</th>\n",
       "      <td>461500</td>\n",
       "      <td>HANARO 종합채권(AA-이상)액티브</td>\n",
       "      <td>0.25</td>\n",
       "      <td>2.50</td>\n",
       "      <td>0.042936</td>\n",
       "      <td>채권</td>\n",
       "      <td>46002</td>\n",
       "      <td>5210</td>\n",
       "      <td>1151</td>\n",
       "      <td>Below</td>\n",
       "    </tr>\n",
       "    <tr>\n",
       "      <th>25</th>\n",
       "      <td>385540</td>\n",
       "      <td>RISE 종합채권(A-이상)액티브</td>\n",
       "      <td>0.20</td>\n",
       "      <td>2.42</td>\n",
       "      <td>0.042160</td>\n",
       "      <td>채권</td>\n",
       "      <td>57689</td>\n",
       "      <td>6253</td>\n",
       "      <td>13441</td>\n",
       "      <td>Below</td>\n",
       "    </tr>\n",
       "    <tr>\n",
       "      <th>54</th>\n",
       "      <td>451540</td>\n",
       "      <td>TIGER 종합채권(AA-이상)액티브</td>\n",
       "      <td>0.21</td>\n",
       "      <td>2.39</td>\n",
       "      <td>0.042173</td>\n",
       "      <td>채권</td>\n",
       "      <td>16333</td>\n",
       "      <td>912</td>\n",
       "      <td>6487</td>\n",
       "      <td>Below</td>\n",
       "    </tr>\n",
       "    <tr>\n",
       "      <th>96</th>\n",
       "      <td>454780</td>\n",
       "      <td>히어로즈 종합채권(AA-이상)액티브</td>\n",
       "      <td>0.23</td>\n",
       "      <td>2.32</td>\n",
       "      <td>0.038327</td>\n",
       "      <td>채권</td>\n",
       "      <td>199</td>\n",
       "      <td>21</td>\n",
       "      <td>3557</td>\n",
       "      <td>Below</td>\n",
       "    </tr>\n",
       "    <tr>\n",
       "      <th>47</th>\n",
       "      <td>356540</td>\n",
       "      <td>ACE 종합채권(AA-이상)KIS액티브</td>\n",
       "      <td>0.24</td>\n",
       "      <td>2.28</td>\n",
       "      <td>0.040919</td>\n",
       "      <td>채권</td>\n",
       "      <td>4419</td>\n",
       "      <td>471</td>\n",
       "      <td>7466</td>\n",
       "      <td>Below</td>\n",
       "    </tr>\n",
       "    <tr>\n",
       "      <th>43</th>\n",
       "      <td>436140</td>\n",
       "      <td>SOL 종합채권(AA-이상)액티브</td>\n",
       "      <td>0.21</td>\n",
       "      <td>2.27</td>\n",
       "      <td>0.039899</td>\n",
       "      <td>채권</td>\n",
       "      <td>37</td>\n",
       "      <td>4</td>\n",
       "      <td>8322</td>\n",
       "      <td>Below</td>\n",
       "    </tr>\n",
       "    <tr>\n",
       "      <th>117</th>\n",
       "      <td>451000</td>\n",
       "      <td>PLUS 종합채권(AA-이상)액티브</td>\n",
       "      <td>0.25</td>\n",
       "      <td>2.27</td>\n",
       "      <td>0.042024</td>\n",
       "      <td>채권</td>\n",
       "      <td>20</td>\n",
       "      <td>2</td>\n",
       "      <td>2658</td>\n",
       "      <td>Below</td>\n",
       "    </tr>\n",
       "    <tr>\n",
       "      <th>10</th>\n",
       "      <td>273130</td>\n",
       "      <td>KODEX 종합채권(AA-이상)액티브</td>\n",
       "      <td>0.23</td>\n",
       "      <td>2.26</td>\n",
       "      <td>0.041493</td>\n",
       "      <td>채권</td>\n",
       "      <td>62394</td>\n",
       "      <td>7283</td>\n",
       "      <td>28356</td>\n",
       "      <td>Below</td>\n",
       "    </tr>\n",
       "    <tr>\n",
       "      <th>438</th>\n",
       "      <td>272570</td>\n",
       "      <td>RISE 중장기국공채액티브</td>\n",
       "      <td>0.14</td>\n",
       "      <td>1.99</td>\n",
       "      <td>0.032178</td>\n",
       "      <td>채권</td>\n",
       "      <td>29</td>\n",
       "      <td>3</td>\n",
       "      <td>298</td>\n",
       "      <td>Below</td>\n",
       "    </tr>\n",
       "    <tr>\n",
       "      <th>131</th>\n",
       "      <td>438330</td>\n",
       "      <td>TIGER 투자등급회사채액티브</td>\n",
       "      <td>0.12</td>\n",
       "      <td>1.98</td>\n",
       "      <td>0.032577</td>\n",
       "      <td>채권</td>\n",
       "      <td>7558</td>\n",
       "      <td>869</td>\n",
       "      <td>2302</td>\n",
       "      <td>Below</td>\n",
       "    </tr>\n",
       "    <tr>\n",
       "      <th>345</th>\n",
       "      <td>272910</td>\n",
       "      <td>ACE 중장기국공채액티브</td>\n",
       "      <td>0.13</td>\n",
       "      <td>1.94</td>\n",
       "      <td>0.029430</td>\n",
       "      <td>채권</td>\n",
       "      <td>303</td>\n",
       "      <td>32</td>\n",
       "      <td>501</td>\n",
       "      <td>Below</td>\n",
       "    </tr>\n",
       "    <tr>\n",
       "      <th>474</th>\n",
       "      <td>438560</td>\n",
       "      <td>SOL 국고채3년</td>\n",
       "      <td>0.15</td>\n",
       "      <td>1.74</td>\n",
       "      <td>0.028531</td>\n",
       "      <td>채권</td>\n",
       "      <td>235</td>\n",
       "      <td>23</td>\n",
       "      <td>241</td>\n",
       "      <td>Below</td>\n",
       "    </tr>\n",
       "    <tr>\n",
       "      <th>382</th>\n",
       "      <td>336160</td>\n",
       "      <td>RISE 금융채액티브</td>\n",
       "      <td>0.09</td>\n",
       "      <td>1.70</td>\n",
       "      <td>0.028752</td>\n",
       "      <td>채권</td>\n",
       "      <td>1445</td>\n",
       "      <td>148</td>\n",
       "      <td>403</td>\n",
       "      <td>Below</td>\n",
       "    </tr>\n",
       "    <tr>\n",
       "      <th>247</th>\n",
       "      <td>472920</td>\n",
       "      <td>HK 종합채권(AA-이상)액티브</td>\n",
       "      <td>0.19</td>\n",
       "      <td>1.69</td>\n",
       "      <td>0.030138</td>\n",
       "      <td>채권</td>\n",
       "      <td>0</td>\n",
       "      <td>0</td>\n",
       "      <td>1004</td>\n",
       "      <td>Below</td>\n",
       "    </tr>\n",
       "    <tr>\n",
       "      <th>101</th>\n",
       "      <td>302190</td>\n",
       "      <td>TIGER 중장기국채</td>\n",
       "      <td>0.22</td>\n",
       "      <td>1.63</td>\n",
       "      <td>0.030786</td>\n",
       "      <td>채권</td>\n",
       "      <td>15035</td>\n",
       "      <td>779</td>\n",
       "      <td>3388</td>\n",
       "      <td>Below</td>\n",
       "    </tr>\n",
       "    <tr>\n",
       "      <th>551</th>\n",
       "      <td>114470</td>\n",
       "      <td>KOSEF 국고채3년</td>\n",
       "      <td>0.11</td>\n",
       "      <td>1.61</td>\n",
       "      <td>0.026756</td>\n",
       "      <td>채권</td>\n",
       "      <td>987</td>\n",
       "      <td>109</td>\n",
       "      <td>166</td>\n",
       "      <td>Below</td>\n",
       "    </tr>\n",
       "    <tr>\n",
       "      <th>144</th>\n",
       "      <td>480260</td>\n",
       "      <td>TIGER 27-04회사채(A+이상)액티브</td>\n",
       "      <td>0.07</td>\n",
       "      <td>1.61</td>\n",
       "      <td>0.027237</td>\n",
       "      <td>채권</td>\n",
       "      <td>18005</td>\n",
       "      <td>939</td>\n",
       "      <td>2104</td>\n",
       "      <td>Below</td>\n",
       "    </tr>\n",
       "    <tr>\n",
       "      <th>112</th>\n",
       "      <td>439860</td>\n",
       "      <td>KODEX ESG종합채권(A-이상)액티브</td>\n",
       "      <td>0.15</td>\n",
       "      <td>1.59</td>\n",
       "      <td>0.025517</td>\n",
       "      <td>채권</td>\n",
       "      <td>210</td>\n",
       "      <td>23</td>\n",
       "      <td>2926</td>\n",
       "      <td>Below</td>\n",
       "    </tr>\n",
       "    <tr>\n",
       "      <th>146</th>\n",
       "      <td>488980</td>\n",
       "      <td>SOL 26-12 회사채(AA-이상)액티브</td>\n",
       "      <td>0.05</td>\n",
       "      <td>1.49</td>\n",
       "      <td>0.026255</td>\n",
       "      <td>채권</td>\n",
       "      <td>12890</td>\n",
       "      <td>654</td>\n",
       "      <td>2097</td>\n",
       "      <td>Below</td>\n",
       "    </tr>\n",
       "    <tr>\n",
       "      <th>526</th>\n",
       "      <td>114460</td>\n",
       "      <td>ACE 국고채3년</td>\n",
       "      <td>0.10</td>\n",
       "      <td>1.49</td>\n",
       "      <td>0.026690</td>\n",
       "      <td>채권</td>\n",
       "      <td>232</td>\n",
       "      <td>24</td>\n",
       "      <td>187</td>\n",
       "      <td>Below</td>\n",
       "    </tr>\n",
       "    <tr>\n",
       "      <th>357</th>\n",
       "      <td>114100</td>\n",
       "      <td>RISE 국고채3년</td>\n",
       "      <td>0.11</td>\n",
       "      <td>1.47</td>\n",
       "      <td>0.026638</td>\n",
       "      <td>채권</td>\n",
       "      <td>1949</td>\n",
       "      <td>214</td>\n",
       "      <td>460</td>\n",
       "      <td>Below</td>\n",
       "    </tr>\n",
       "    <tr>\n",
       "      <th>781</th>\n",
       "      <td>298340</td>\n",
       "      <td>PLUS 국채선물3년</td>\n",
       "      <td>0.11</td>\n",
       "      <td>1.41</td>\n",
       "      <td>0.024027</td>\n",
       "      <td>채권</td>\n",
       "      <td>11</td>\n",
       "      <td>0</td>\n",
       "      <td>68</td>\n",
       "      <td>Below</td>\n",
       "    </tr>\n",
       "    <tr>\n",
       "      <th>288</th>\n",
       "      <td>136340</td>\n",
       "      <td>RISE 중기우량회사채</td>\n",
       "      <td>0.07</td>\n",
       "      <td>1.40</td>\n",
       "      <td>0.023585</td>\n",
       "      <td>채권</td>\n",
       "      <td>2176</td>\n",
       "      <td>231</td>\n",
       "      <td>757</td>\n",
       "      <td>Below</td>\n",
       "    </tr>\n",
       "    <tr>\n",
       "      <th>239</th>\n",
       "      <td>465780</td>\n",
       "      <td>마이티 26-09 특수채(AAA)액티브</td>\n",
       "      <td>0.06</td>\n",
       "      <td>1.39</td>\n",
       "      <td>0.019777</td>\n",
       "      <td>채권</td>\n",
       "      <td>1</td>\n",
       "      <td>0</td>\n",
       "      <td>1056</td>\n",
       "      <td>Below</td>\n",
       "    </tr>\n",
       "    <tr>\n",
       "      <th>266</th>\n",
       "      <td>114820</td>\n",
       "      <td>TIGER 국채3년</td>\n",
       "      <td>0.10</td>\n",
       "      <td>1.38</td>\n",
       "      <td>0.025230</td>\n",
       "      <td>채권</td>\n",
       "      <td>3007</td>\n",
       "      <td>323</td>\n",
       "      <td>890</td>\n",
       "      <td>Below</td>\n",
       "    </tr>\n",
       "    <tr>\n",
       "      <th>78</th>\n",
       "      <td>114260</td>\n",
       "      <td>KODEX 국고채3년</td>\n",
       "      <td>0.11</td>\n",
       "      <td>1.38</td>\n",
       "      <td>0.024920</td>\n",
       "      <td>채권</td>\n",
       "      <td>49203</td>\n",
       "      <td>3043</td>\n",
       "      <td>4626</td>\n",
       "      <td>Below</td>\n",
       "    </tr>\n",
       "    <tr>\n",
       "      <th>265</th>\n",
       "      <td>464240</td>\n",
       "      <td>히어로즈 26-09 회사채(AA-이상)액티브</td>\n",
       "      <td>0.05</td>\n",
       "      <td>1.37</td>\n",
       "      <td>0.022820</td>\n",
       "      <td>채권</td>\n",
       "      <td>1345</td>\n",
       "      <td>70</td>\n",
       "      <td>921</td>\n",
       "      <td>Below</td>\n",
       "    </tr>\n",
       "    <tr>\n",
       "      <th>105</th>\n",
       "      <td>473290</td>\n",
       "      <td>KODEX 26-12 회사채(AA-이상)액티브</td>\n",
       "      <td>0.06</td>\n",
       "      <td>1.24</td>\n",
       "      <td>0.021370</td>\n",
       "      <td>채권</td>\n",
       "      <td>31768</td>\n",
       "      <td>336</td>\n",
       "      <td>3155</td>\n",
       "      <td>Below</td>\n",
       "    </tr>\n",
       "    <tr>\n",
       "      <th>269</th>\n",
       "      <td>419890</td>\n",
       "      <td>히어로즈 단기채권ESG액티브</td>\n",
       "      <td>0.03</td>\n",
       "      <td>1.17</td>\n",
       "      <td>0.019250</td>\n",
       "      <td>채권</td>\n",
       "      <td>5153</td>\n",
       "      <td>549</td>\n",
       "      <td>884</td>\n",
       "      <td>Below</td>\n",
       "    </tr>\n",
       "    <tr>\n",
       "      <th>187</th>\n",
       "      <td>461270</td>\n",
       "      <td>ACE 26-06 회사채(AA-이상)액티브</td>\n",
       "      <td>0.06</td>\n",
       "      <td>1.16</td>\n",
       "      <td>0.019243</td>\n",
       "      <td>채권</td>\n",
       "      <td>22945</td>\n",
       "      <td>250</td>\n",
       "      <td>1490</td>\n",
       "      <td>Below</td>\n",
       "    </tr>\n",
       "    <tr>\n",
       "      <th>622</th>\n",
       "      <td>239660</td>\n",
       "      <td>PLUS 우량회사채50</td>\n",
       "      <td>0.04</td>\n",
       "      <td>1.08</td>\n",
       "      <td>0.018185</td>\n",
       "      <td>채권</td>\n",
       "      <td>1796</td>\n",
       "      <td>213</td>\n",
       "      <td>119</td>\n",
       "      <td>Below</td>\n",
       "    </tr>\n",
       "    <tr>\n",
       "      <th>337</th>\n",
       "      <td>278620</td>\n",
       "      <td>PLUS 단기채권액티브</td>\n",
       "      <td>0.02</td>\n",
       "      <td>1.03</td>\n",
       "      <td>0.016942</td>\n",
       "      <td>채권</td>\n",
       "      <td>11356</td>\n",
       "      <td>1313</td>\n",
       "      <td>536</td>\n",
       "      <td>Below</td>\n",
       "    </tr>\n",
       "    <tr>\n",
       "      <th>26</th>\n",
       "      <td>453540</td>\n",
       "      <td>TIGER 25-10 회사채(A+이상)액티브</td>\n",
       "      <td>0.03</td>\n",
       "      <td>0.98</td>\n",
       "      <td>0.018108</td>\n",
       "      <td>채권</td>\n",
       "      <td>142383</td>\n",
       "      <td>7709</td>\n",
       "      <td>13030</td>\n",
       "      <td>Below</td>\n",
       "    </tr>\n",
       "    <tr>\n",
       "      <th>37</th>\n",
       "      <td>476810</td>\n",
       "      <td>KODEX 25-11 은행채(AA-이상)PLUS액티브</td>\n",
       "      <td>0.05</td>\n",
       "      <td>0.97</td>\n",
       "      <td>0.017744</td>\n",
       "      <td>채권</td>\n",
       "      <td>20296</td>\n",
       "      <td>210</td>\n",
       "      <td>9642</td>\n",
       "      <td>Below</td>\n",
       "    </tr>\n",
       "    <tr>\n",
       "      <th>71</th>\n",
       "      <td>469830</td>\n",
       "      <td>SOL 초단기채권액티브</td>\n",
       "      <td>0.01</td>\n",
       "      <td>0.93</td>\n",
       "      <td>0.015644</td>\n",
       "      <td>채권</td>\n",
       "      <td>162630</td>\n",
       "      <td>8530</td>\n",
       "      <td>4849</td>\n",
       "      <td>Below</td>\n",
       "    </tr>\n",
       "    <tr>\n",
       "      <th>264</th>\n",
       "      <td>473440</td>\n",
       "      <td>ACE 11월만기자동연장회사채AA-이상액티브</td>\n",
       "      <td>0.04</td>\n",
       "      <td>0.92</td>\n",
       "      <td>0.014391</td>\n",
       "      <td>채권</td>\n",
       "      <td>3838</td>\n",
       "      <td>40</td>\n",
       "      <td>928</td>\n",
       "      <td>Below</td>\n",
       "    </tr>\n",
       "    <tr>\n",
       "      <th>379</th>\n",
       "      <td>122260</td>\n",
       "      <td>KOSEF 통안채1년</td>\n",
       "      <td>0.02</td>\n",
       "      <td>0.92</td>\n",
       "      <td>0.015340</td>\n",
       "      <td>채권</td>\n",
       "      <td>2053</td>\n",
       "      <td>211</td>\n",
       "      <td>412</td>\n",
       "      <td>Below</td>\n",
       "    </tr>\n",
       "    <tr>\n",
       "      <th>294</th>\n",
       "      <td>468820</td>\n",
       "      <td>WON 25-09 회사채(AA-이상)액티브</td>\n",
       "      <td>0.02</td>\n",
       "      <td>0.92</td>\n",
       "      <td>0.015061</td>\n",
       "      <td>채권</td>\n",
       "      <td>2371</td>\n",
       "      <td>127</td>\n",
       "      <td>729</td>\n",
       "      <td>Below</td>\n",
       "    </tr>\n",
       "    <tr>\n",
       "      <th>38</th>\n",
       "      <td>491080</td>\n",
       "      <td>KODEX 25-12 은행채(AAA)액티브</td>\n",
       "      <td>0.02</td>\n",
       "      <td>0.92</td>\n",
       "      <td>0.014379</td>\n",
       "      <td>채권</td>\n",
       "      <td>919</td>\n",
       "      <td>93</td>\n",
       "      <td>9584</td>\n",
       "      <td>Below</td>\n",
       "    </tr>\n",
       "    <tr>\n",
       "      <th>14</th>\n",
       "      <td>455890</td>\n",
       "      <td>RISE 머니마켓액티브</td>\n",
       "      <td>0.02</td>\n",
       "      <td>0.91</td>\n",
       "      <td>0.015338</td>\n",
       "      <td>채권</td>\n",
       "      <td>449093</td>\n",
       "      <td>24026</td>\n",
       "      <td>20885</td>\n",
       "      <td>Below</td>\n",
       "    </tr>\n",
       "    <tr>\n",
       "      <th>240</th>\n",
       "      <td>489870</td>\n",
       "      <td>히어로즈 25-09 회사채(AA-이상)액티브</td>\n",
       "      <td>0.02</td>\n",
       "      <td>0.90</td>\n",
       "      <td>0.015410</td>\n",
       "      <td>채권</td>\n",
       "      <td>8</td>\n",
       "      <td>0</td>\n",
       "      <td>1051</td>\n",
       "      <td>Below</td>\n",
       "    </tr>\n",
       "    <tr>\n",
       "      <th>190</th>\n",
       "      <td>448600</td>\n",
       "      <td>RISE 25-11 회사채(AA-이상)액티브</td>\n",
       "      <td>0.02</td>\n",
       "      <td>0.90</td>\n",
       "      <td>0.014953</td>\n",
       "      <td>채권</td>\n",
       "      <td>12498</td>\n",
       "      <td>656</td>\n",
       "      <td>1476</td>\n",
       "      <td>Below</td>\n",
       "    </tr>\n",
       "    <tr>\n",
       "      <th>211</th>\n",
       "      <td>491230</td>\n",
       "      <td>PLUS 국공채머니마켓액티브</td>\n",
       "      <td>0.01</td>\n",
       "      <td>0.90</td>\n",
       "      <td>0.014883</td>\n",
       "      <td>채권</td>\n",
       "      <td>27</td>\n",
       "      <td>1</td>\n",
       "      <td>1201</td>\n",
       "      <td>Below</td>\n",
       "    </tr>\n",
       "    <tr>\n",
       "      <th>123</th>\n",
       "      <td>487340</td>\n",
       "      <td>ACE CD금리&amp;초단기채권액티브</td>\n",
       "      <td>0.01</td>\n",
       "      <td>0.89</td>\n",
       "      <td>0.015030</td>\n",
       "      <td>채권</td>\n",
       "      <td>19386</td>\n",
       "      <td>1975</td>\n",
       "      <td>2416</td>\n",
       "      <td>Below</td>\n",
       "    </tr>\n",
       "    <tr>\n",
       "      <th>336</th>\n",
       "      <td>440640</td>\n",
       "      <td>ACE 단기채권알파액티브</td>\n",
       "      <td>0.02</td>\n",
       "      <td>0.89</td>\n",
       "      <td>0.014898</td>\n",
       "      <td>채권</td>\n",
       "      <td>1688</td>\n",
       "      <td>184</td>\n",
       "      <td>544</td>\n",
       "      <td>Below</td>\n",
       "    </tr>\n",
       "    <tr>\n",
       "      <th>221</th>\n",
       "      <td>462540</td>\n",
       "      <td>SOL 25-09 회사채(AA-이상)액티브</td>\n",
       "      <td>0.02</td>\n",
       "      <td>0.89</td>\n",
       "      <td>0.014387</td>\n",
       "      <td>채권</td>\n",
       "      <td>34</td>\n",
       "      <td>1</td>\n",
       "      <td>1155</td>\n",
       "      <td>Below</td>\n",
       "    </tr>\n",
       "    <tr>\n",
       "      <th>100</th>\n",
       "      <td>477050</td>\n",
       "      <td>PLUS 머니마켓액티브</td>\n",
       "      <td>0.01</td>\n",
       "      <td>0.89</td>\n",
       "      <td>0.014953</td>\n",
       "      <td>채권</td>\n",
       "      <td>18185</td>\n",
       "      <td>936</td>\n",
       "      <td>3403</td>\n",
       "      <td>Below</td>\n",
       "    </tr>\n",
       "    <tr>\n",
       "      <th>150</th>\n",
       "      <td>272560</td>\n",
       "      <td>RISE 단기국공채액티브</td>\n",
       "      <td>0.02</td>\n",
       "      <td>0.89</td>\n",
       "      <td>0.014548</td>\n",
       "      <td>채권</td>\n",
       "      <td>5381</td>\n",
       "      <td>600</td>\n",
       "      <td>1983</td>\n",
       "      <td>Below</td>\n",
       "    </tr>\n",
       "    <tr>\n",
       "      <th>24</th>\n",
       "      <td>214980</td>\n",
       "      <td>KODEX 단기채권PLUS</td>\n",
       "      <td>0.02</td>\n",
       "      <td>0.87</td>\n",
       "      <td>0.014580</td>\n",
       "      <td>채권</td>\n",
       "      <td>15580</td>\n",
       "      <td>1762</td>\n",
       "      <td>16007</td>\n",
       "      <td>Below</td>\n",
       "    </tr>\n",
       "    <tr>\n",
       "      <th>89</th>\n",
       "      <td>479080</td>\n",
       "      <td>1Q 머니마켓액티브</td>\n",
       "      <td>0.01</td>\n",
       "      <td>0.87</td>\n",
       "      <td>0.014780</td>\n",
       "      <td>채권</td>\n",
       "      <td>57161</td>\n",
       "      <td>2945</td>\n",
       "      <td>3812</td>\n",
       "      <td>Below</td>\n",
       "    </tr>\n",
       "    <tr>\n",
       "      <th>384</th>\n",
       "      <td>458030</td>\n",
       "      <td>WON 단기국공채액티브</td>\n",
       "      <td>0.02</td>\n",
       "      <td>0.86</td>\n",
       "      <td>0.014187</td>\n",
       "      <td>채권</td>\n",
       "      <td>2576</td>\n",
       "      <td>136</td>\n",
       "      <td>402</td>\n",
       "      <td>Below</td>\n",
       "    </tr>\n",
       "    <tr>\n",
       "      <th>270</th>\n",
       "      <td>486830</td>\n",
       "      <td>HANARO 머니마켓액티브</td>\n",
       "      <td>0.01</td>\n",
       "      <td>0.86</td>\n",
       "      <td>0.014641</td>\n",
       "      <td>채권</td>\n",
       "      <td>5415</td>\n",
       "      <td>275</td>\n",
       "      <td>861</td>\n",
       "      <td>Below</td>\n",
       "    </tr>\n",
       "    <tr>\n",
       "      <th>259</th>\n",
       "      <td>385550</td>\n",
       "      <td>RISE 단기종합채권(AA-이상)액티브</td>\n",
       "      <td>0.02</td>\n",
       "      <td>0.86</td>\n",
       "      <td>0.014569</td>\n",
       "      <td>채권</td>\n",
       "      <td>2666</td>\n",
       "      <td>295</td>\n",
       "      <td>962</td>\n",
       "      <td>Below</td>\n",
       "    </tr>\n",
       "    <tr>\n",
       "      <th>253</th>\n",
       "      <td>461260</td>\n",
       "      <td>ACE 25-06 회사채(AA-이상)액티브</td>\n",
       "      <td>0.06</td>\n",
       "      <td>0.85</td>\n",
       "      <td>0.013261</td>\n",
       "      <td>채권</td>\n",
       "      <td>25439</td>\n",
       "      <td>273</td>\n",
       "      <td>987</td>\n",
       "      <td>Below</td>\n",
       "    </tr>\n",
       "    <tr>\n",
       "      <th>142</th>\n",
       "      <td>463290</td>\n",
       "      <td>1Q 단기금융채액티브</td>\n",
       "      <td>0.01</td>\n",
       "      <td>0.84</td>\n",
       "      <td>0.014053</td>\n",
       "      <td>채권</td>\n",
       "      <td>6480</td>\n",
       "      <td>686</td>\n",
       "      <td>2116</td>\n",
       "      <td>Below</td>\n",
       "    </tr>\n",
       "    <tr>\n",
       "      <th>225</th>\n",
       "      <td>466400</td>\n",
       "      <td>1Q 25-08 회사채(A+이상)액티브</td>\n",
       "      <td>0.02</td>\n",
       "      <td>0.84</td>\n",
       "      <td>0.014068</td>\n",
       "      <td>채권</td>\n",
       "      <td>459</td>\n",
       "      <td>49</td>\n",
       "      <td>1132</td>\n",
       "      <td>Below</td>\n",
       "    </tr>\n",
       "    <tr>\n",
       "      <th>360</th>\n",
       "      <td>475270</td>\n",
       "      <td>ACE 5월만기자동연장회사채AA-이상액티브</td>\n",
       "      <td>0.04</td>\n",
       "      <td>0.83</td>\n",
       "      <td>0.012909</td>\n",
       "      <td>채권</td>\n",
       "      <td>54</td>\n",
       "      <td>0</td>\n",
       "      <td>453</td>\n",
       "      <td>Below</td>\n",
       "    </tr>\n",
       "    <tr>\n",
       "      <th>348</th>\n",
       "      <td>484890</td>\n",
       "      <td>SOL 머니마켓액티브</td>\n",
       "      <td>0.01</td>\n",
       "      <td>0.83</td>\n",
       "      <td>0.013957</td>\n",
       "      <td>채권</td>\n",
       "      <td>6475</td>\n",
       "      <td>330</td>\n",
       "      <td>490</td>\n",
       "      <td>Below</td>\n",
       "    </tr>\n",
       "    <tr>\n",
       "      <th>244</th>\n",
       "      <td>130730</td>\n",
       "      <td>KOSEF 단기자금</td>\n",
       "      <td>0.01</td>\n",
       "      <td>0.82</td>\n",
       "      <td>0.013527</td>\n",
       "      <td>채권</td>\n",
       "      <td>2028</td>\n",
       "      <td>206</td>\n",
       "      <td>1021</td>\n",
       "      <td>Below</td>\n",
       "    </tr>\n",
       "    <tr>\n",
       "      <th>74</th>\n",
       "      <td>272580</td>\n",
       "      <td>TIGER 단기채권액티브</td>\n",
       "      <td>0.01</td>\n",
       "      <td>0.82</td>\n",
       "      <td>0.013835</td>\n",
       "      <td>채권</td>\n",
       "      <td>22327</td>\n",
       "      <td>1229</td>\n",
       "      <td>4807</td>\n",
       "      <td>Below</td>\n",
       "    </tr>\n",
       "    <tr>\n",
       "      <th>168</th>\n",
       "      <td>483230</td>\n",
       "      <td>RISE 25-06 은행채(AA+이상)액티브</td>\n",
       "      <td>0.02</td>\n",
       "      <td>0.82</td>\n",
       "      <td>0.013946</td>\n",
       "      <td>채권</td>\n",
       "      <td>453</td>\n",
       "      <td>23</td>\n",
       "      <td>1730</td>\n",
       "      <td>Below</td>\n",
       "    </tr>\n",
       "    <tr>\n",
       "      <th>35</th>\n",
       "      <td>477080</td>\n",
       "      <td>RISE CD금리액티브(합성)</td>\n",
       "      <td>0.01</td>\n",
       "      <td>0.82</td>\n",
       "      <td>0.013760</td>\n",
       "      <td>채권</td>\n",
       "      <td>6269</td>\n",
       "      <td>644</td>\n",
       "      <td>10064</td>\n",
       "      <td>Below</td>\n",
       "    </tr>\n",
       "    <tr>\n",
       "      <th>218</th>\n",
       "      <td>475260</td>\n",
       "      <td>ACE 2월만기자동연장회사채AA-이상액티브</td>\n",
       "      <td>0.05</td>\n",
       "      <td>0.82</td>\n",
       "      <td>0.013702</td>\n",
       "      <td>채권</td>\n",
       "      <td>2630</td>\n",
       "      <td>27</td>\n",
       "      <td>1171</td>\n",
       "      <td>Below</td>\n",
       "    </tr>\n",
       "    <tr>\n",
       "      <th>282</th>\n",
       "      <td>464540</td>\n",
       "      <td>RISE 25-03 회사채(AA-이상)액티브</td>\n",
       "      <td>0.02</td>\n",
       "      <td>0.82</td>\n",
       "      <td>0.013793</td>\n",
       "      <td>채권</td>\n",
       "      <td>3926</td>\n",
       "      <td>199</td>\n",
       "      <td>794</td>\n",
       "      <td>Below</td>\n",
       "    </tr>\n",
       "    <tr>\n",
       "      <th>86</th>\n",
       "      <td>491610</td>\n",
       "      <td>1Q CD금리액티브(합성)</td>\n",
       "      <td>0.01</td>\n",
       "      <td>0.81</td>\n",
       "      <td>0.013673</td>\n",
       "      <td>채권</td>\n",
       "      <td>2033</td>\n",
       "      <td>205</td>\n",
       "      <td>3966</td>\n",
       "      <td>Below</td>\n",
       "    </tr>\n",
       "    <tr>\n",
       "      <th>95</th>\n",
       "      <td>476450</td>\n",
       "      <td>히어로즈 머니마켓액티브</td>\n",
       "      <td>0.01</td>\n",
       "      <td>0.80</td>\n",
       "      <td>0.013447</td>\n",
       "      <td>채권</td>\n",
       "      <td>9703</td>\n",
       "      <td>501</td>\n",
       "      <td>3598</td>\n",
       "      <td>Below</td>\n",
       "    </tr>\n",
       "    <tr>\n",
       "      <th>115</th>\n",
       "      <td>467940</td>\n",
       "      <td>KODEX 25-11 회사채(A+이상)액티브</td>\n",
       "      <td>0.04</td>\n",
       "      <td>0.80</td>\n",
       "      <td>0.013284</td>\n",
       "      <td>채권</td>\n",
       "      <td>5888</td>\n",
       "      <td>63</td>\n",
       "      <td>2734</td>\n",
       "      <td>Below</td>\n",
       "    </tr>\n",
       "    <tr>\n",
       "      <th>320</th>\n",
       "      <td>489570</td>\n",
       "      <td>HANARO 25-12 은행채(AA+이상)액티브</td>\n",
       "      <td>0.07</td>\n",
       "      <td>0.80</td>\n",
       "      <td>0.014497</td>\n",
       "      <td>채권</td>\n",
       "      <td>1536</td>\n",
       "      <td>15</td>\n",
       "      <td>610</td>\n",
       "      <td>Below</td>\n",
       "    </tr>\n",
       "    <tr>\n",
       "      <th>0</th>\n",
       "      <td>459580</td>\n",
       "      <td>KODEX CD금리액티브(합성)</td>\n",
       "      <td>0.01</td>\n",
       "      <td>0.79</td>\n",
       "      <td>0.013346</td>\n",
       "      <td>채권</td>\n",
       "      <td>306572</td>\n",
       "      <td>324646</td>\n",
       "      <td>91179</td>\n",
       "      <td>Below</td>\n",
       "    </tr>\n",
       "    <tr>\n",
       "      <th>5</th>\n",
       "      <td>423160</td>\n",
       "      <td>KODEX KOFR금리액티브(합성)</td>\n",
       "      <td>0.01</td>\n",
       "      <td>0.78</td>\n",
       "      <td>0.013263</td>\n",
       "      <td>채권</td>\n",
       "      <td>39563</td>\n",
       "      <td>4317</td>\n",
       "      <td>43019</td>\n",
       "      <td>Below</td>\n",
       "    </tr>\n",
       "    <tr>\n",
       "      <th>7</th>\n",
       "      <td>449170</td>\n",
       "      <td>TIGER KOFR금리액티브(합성)</td>\n",
       "      <td>0.01</td>\n",
       "      <td>0.78</td>\n",
       "      <td>0.013291</td>\n",
       "      <td>채권</td>\n",
       "      <td>86731</td>\n",
       "      <td>9336</td>\n",
       "      <td>35166</td>\n",
       "      <td>Below</td>\n",
       "    </tr>\n",
       "    <tr>\n",
       "      <th>2</th>\n",
       "      <td>357870</td>\n",
       "      <td>TIGER CD금리투자KIS(합성)</td>\n",
       "      <td>0.01</td>\n",
       "      <td>0.78</td>\n",
       "      <td>0.013267</td>\n",
       "      <td>채권</td>\n",
       "      <td>286913</td>\n",
       "      <td>15922</td>\n",
       "      <td>63284</td>\n",
       "      <td>Below</td>\n",
       "    </tr>\n",
       "    <tr>\n",
       "      <th>179</th>\n",
       "      <td>190620</td>\n",
       "      <td>ACE 단기통안채</td>\n",
       "      <td>0.01</td>\n",
       "      <td>0.78</td>\n",
       "      <td>0.013098</td>\n",
       "      <td>채권</td>\n",
       "      <td>6007</td>\n",
       "      <td>603</td>\n",
       "      <td>1577</td>\n",
       "      <td>Below</td>\n",
       "    </tr>\n",
       "    <tr>\n",
       "      <th>127</th>\n",
       "      <td>479520</td>\n",
       "      <td>RISE KOFR금리액티브(합성)</td>\n",
       "      <td>0.01</td>\n",
       "      <td>0.78</td>\n",
       "      <td>0.013236</td>\n",
       "      <td>채권</td>\n",
       "      <td>2351</td>\n",
       "      <td>240</td>\n",
       "      <td>2347</td>\n",
       "      <td>Below</td>\n",
       "    </tr>\n",
       "    <tr>\n",
       "      <th>284</th>\n",
       "      <td>475280</td>\n",
       "      <td>ACE 8월만기자동연장회사채AA-이상액티브</td>\n",
       "      <td>0.04</td>\n",
       "      <td>0.78</td>\n",
       "      <td>0.012922</td>\n",
       "      <td>채권</td>\n",
       "      <td>1450</td>\n",
       "      <td>15</td>\n",
       "      <td>791</td>\n",
       "      <td>Below</td>\n",
       "    </tr>\n",
       "    <tr>\n",
       "      <th>19</th>\n",
       "      <td>481050</td>\n",
       "      <td>KODEX CD1년금리플러스액티브(합성)</td>\n",
       "      <td>0.01</td>\n",
       "      <td>0.78</td>\n",
       "      <td>0.013309</td>\n",
       "      <td>채권</td>\n",
       "      <td>11879</td>\n",
       "      <td>12143</td>\n",
       "      <td>18128</td>\n",
       "      <td>Below</td>\n",
       "    </tr>\n",
       "    <tr>\n",
       "      <th>619</th>\n",
       "      <td>471290</td>\n",
       "      <td>HANARO CD금리액티브(합성)</td>\n",
       "      <td>0.01</td>\n",
       "      <td>0.77</td>\n",
       "      <td>0.013110</td>\n",
       "      <td>채권</td>\n",
       "      <td>776</td>\n",
       "      <td>80</td>\n",
       "      <td>120</td>\n",
       "      <td>Below</td>\n",
       "    </tr>\n",
       "    <tr>\n",
       "      <th>31</th>\n",
       "      <td>494900</td>\n",
       "      <td>TIGER 25-12 금융채(AA-이상)</td>\n",
       "      <td>0.03</td>\n",
       "      <td>0.76</td>\n",
       "      <td>0.017040</td>\n",
       "      <td>채권</td>\n",
       "      <td>17877</td>\n",
       "      <td>901</td>\n",
       "      <td>10756</td>\n",
       "      <td>Below</td>\n",
       "    </tr>\n",
       "    <tr>\n",
       "      <th>628</th>\n",
       "      <td>453060</td>\n",
       "      <td>HANARO KOFR금리액티브(합성)</td>\n",
       "      <td>0.01</td>\n",
       "      <td>0.76</td>\n",
       "      <td>0.013028</td>\n",
       "      <td>채권</td>\n",
       "      <td>302</td>\n",
       "      <td>32</td>\n",
       "      <td>117</td>\n",
       "      <td>Below</td>\n",
       "    </tr>\n",
       "    <tr>\n",
       "      <th>52</th>\n",
       "      <td>153130</td>\n",
       "      <td>KODEX 단기채권</td>\n",
       "      <td>0.01</td>\n",
       "      <td>0.75</td>\n",
       "      <td>0.012320</td>\n",
       "      <td>채권</td>\n",
       "      <td>18528</td>\n",
       "      <td>2075</td>\n",
       "      <td>6914</td>\n",
       "      <td>Below</td>\n",
       "    </tr>\n",
       "    <tr>\n",
       "      <th>75</th>\n",
       "      <td>196230</td>\n",
       "      <td>RISE 단기통안채</td>\n",
       "      <td>0.01</td>\n",
       "      <td>0.74</td>\n",
       "      <td>0.012114</td>\n",
       "      <td>채권</td>\n",
       "      <td>4758</td>\n",
       "      <td>542</td>\n",
       "      <td>4795</td>\n",
       "      <td>Below</td>\n",
       "    </tr>\n",
       "    <tr>\n",
       "      <th>489</th>\n",
       "      <td>363510</td>\n",
       "      <td>SOL KIS단기통안채</td>\n",
       "      <td>0.01</td>\n",
       "      <td>0.74</td>\n",
       "      <td>0.012409</td>\n",
       "      <td>채권</td>\n",
       "      <td>2</td>\n",
       "      <td>0</td>\n",
       "      <td>221</td>\n",
       "      <td>Below</td>\n",
       "    </tr>\n",
       "    <tr>\n",
       "      <th>878</th>\n",
       "      <td>390950</td>\n",
       "      <td>HANARO 단기채권액티브</td>\n",
       "      <td>0.01</td>\n",
       "      <td>0.73</td>\n",
       "      <td>0.012449</td>\n",
       "      <td>채권</td>\n",
       "      <td>0</td>\n",
       "      <td>0</td>\n",
       "      <td>45</td>\n",
       "      <td>Below</td>\n",
       "    </tr>\n",
       "    <tr>\n",
       "      <th>46</th>\n",
       "      <td>157450</td>\n",
       "      <td>TIGER 단기통안채</td>\n",
       "      <td>0.01</td>\n",
       "      <td>0.72</td>\n",
       "      <td>0.012176</td>\n",
       "      <td>채권</td>\n",
       "      <td>16347</td>\n",
       "      <td>1785</td>\n",
       "      <td>7479</td>\n",
       "      <td>Below</td>\n",
       "    </tr>\n",
       "    <tr>\n",
       "      <th>164</th>\n",
       "      <td>273140</td>\n",
       "      <td>KODEX 단기변동금리부채권액티브</td>\n",
       "      <td>0.01</td>\n",
       "      <td>0.71</td>\n",
       "      <td>0.011779</td>\n",
       "      <td>채권</td>\n",
       "      <td>5700</td>\n",
       "      <td>643</td>\n",
       "      <td>1779</td>\n",
       "      <td>Below</td>\n",
       "    </tr>\n",
       "    <tr>\n",
       "      <th>488</th>\n",
       "      <td>496020</td>\n",
       "      <td>WON 전단채플러스액티브</td>\n",
       "      <td>0.03</td>\n",
       "      <td>0.68</td>\n",
       "      <td>0.022914</td>\n",
       "      <td>채권</td>\n",
       "      <td>15049</td>\n",
       "      <td>758</td>\n",
       "      <td>222</td>\n",
       "      <td>Below</td>\n",
       "    </tr>\n",
       "    <tr>\n",
       "      <th>245</th>\n",
       "      <td>498180</td>\n",
       "      <td>파워 종합채권(AA-이상)액티브</td>\n",
       "      <td>0.31</td>\n",
       "      <td>0.45</td>\n",
       "      <td>0.021363</td>\n",
       "      <td>채권</td>\n",
       "      <td>0</td>\n",
       "      <td>0</td>\n",
       "      <td>1020</td>\n",
       "      <td>Below</td>\n",
       "    </tr>\n",
       "    <tr>\n",
       "      <th>311</th>\n",
       "      <td>497880</td>\n",
       "      <td>SOL CD금리&amp;머니마켓액티브</td>\n",
       "      <td>0.02</td>\n",
       "      <td>0.35</td>\n",
       "      <td>0.016020</td>\n",
       "      <td>채권</td>\n",
       "      <td>97947</td>\n",
       "      <td>4901</td>\n",
       "      <td>659</td>\n",
       "      <td>Below</td>\n",
       "    </tr>\n",
       "    <tr>\n",
       "      <th>237</th>\n",
       "      <td>495710</td>\n",
       "      <td>BNK 26-06 특수채(AAA이상)액티브</td>\n",
       "      <td>0.04</td>\n",
       "      <td>0.31</td>\n",
       "      <td>0.015974</td>\n",
       "      <td>채권</td>\n",
       "      <td>1</td>\n",
       "      <td>0</td>\n",
       "      <td>1061</td>\n",
       "      <td>Below</td>\n",
       "    </tr>\n",
       "    <tr>\n",
       "      <th>574</th>\n",
       "      <td>292770</td>\n",
       "      <td>KODEX 국채선물3년인버스</td>\n",
       "      <td>0.09</td>\n",
       "      <td>0.12</td>\n",
       "      <td>0.002018</td>\n",
       "      <td>채권</td>\n",
       "      <td>0</td>\n",
       "      <td>0</td>\n",
       "      <td>151</td>\n",
       "      <td>Below</td>\n",
       "    </tr>\n",
       "  </tbody>\n",
       "</table>\n",
       "</div>"
      ],
      "text/plain": [
       "       Code                           Name  Volatility  TotalReturn  \\\n",
       "222  461500          HANARO 종합채권(AA-이상)액티브        0.25         2.50   \n",
       "25   385540             RISE 종합채권(A-이상)액티브        0.20         2.42   \n",
       "54   451540           TIGER 종합채권(AA-이상)액티브        0.21         2.39   \n",
       "96   454780            히어로즈 종합채권(AA-이상)액티브        0.23         2.32   \n",
       "47   356540          ACE 종합채권(AA-이상)KIS액티브        0.24         2.28   \n",
       "43   436140             SOL 종합채권(AA-이상)액티브        0.21         2.27   \n",
       "117  451000            PLUS 종합채권(AA-이상)액티브        0.25         2.27   \n",
       "10   273130           KODEX 종합채권(AA-이상)액티브        0.23         2.26   \n",
       "438  272570                 RISE 중장기국공채액티브        0.14         1.99   \n",
       "131  438330               TIGER 투자등급회사채액티브        0.12         1.98   \n",
       "345  272910                  ACE 중장기국공채액티브        0.13         1.94   \n",
       "474  438560                      SOL 국고채3년        0.15         1.74   \n",
       "382  336160                    RISE 금융채액티브        0.09         1.70   \n",
       "247  472920              HK 종합채권(AA-이상)액티브        0.19         1.69   \n",
       "101  302190                    TIGER 중장기국채        0.22         1.63   \n",
       "551  114470                    KOSEF 국고채3년        0.11         1.61   \n",
       "144  480260        TIGER 27-04회사채(A+이상)액티브        0.07         1.61   \n",
       "112  439860         KODEX ESG종합채권(A-이상)액티브        0.15         1.59   \n",
       "146  488980        SOL 26-12 회사채(AA-이상)액티브        0.05         1.49   \n",
       "526  114460                      ACE 국고채3년        0.10         1.49   \n",
       "357  114100                     RISE 국고채3년        0.11         1.47   \n",
       "781  298340                    PLUS 국채선물3년        0.11         1.41   \n",
       "288  136340                   RISE 중기우량회사채        0.07         1.40   \n",
       "239  465780          마이티 26-09 특수채(AAA)액티브        0.06         1.39   \n",
       "266  114820                     TIGER 국채3년        0.10         1.38   \n",
       "78   114260                    KODEX 국고채3년        0.11         1.38   \n",
       "265  464240       히어로즈 26-09 회사채(AA-이상)액티브        0.05         1.37   \n",
       "105  473290      KODEX 26-12 회사채(AA-이상)액티브        0.06         1.24   \n",
       "269  419890                히어로즈 단기채권ESG액티브        0.03         1.17   \n",
       "187  461270        ACE 26-06 회사채(AA-이상)액티브        0.06         1.16   \n",
       "622  239660                   PLUS 우량회사채50        0.04         1.08   \n",
       "337  278620                   PLUS 단기채권액티브        0.02         1.03   \n",
       "26   453540       TIGER 25-10 회사채(A+이상)액티브        0.03         0.98   \n",
       "37   476810  KODEX 25-11 은행채(AA-이상)PLUS액티브        0.05         0.97   \n",
       "71   469830                   SOL 초단기채권액티브        0.01         0.93   \n",
       "264  473440       ACE 11월만기자동연장회사채AA-이상액티브        0.04         0.92   \n",
       "379  122260                    KOSEF 통안채1년        0.02         0.92   \n",
       "294  468820        WON 25-09 회사채(AA-이상)액티브        0.02         0.92   \n",
       "38   491080        KODEX 25-12 은행채(AAA)액티브        0.02         0.92   \n",
       "14   455890                   RISE 머니마켓액티브        0.02         0.91   \n",
       "240  489870       히어로즈 25-09 회사채(AA-이상)액티브        0.02         0.90   \n",
       "190  448600       RISE 25-11 회사채(AA-이상)액티브        0.02         0.90   \n",
       "211  491230                PLUS 국공채머니마켓액티브        0.01         0.90   \n",
       "123  487340              ACE CD금리&초단기채권액티브        0.01         0.89   \n",
       "336  440640                  ACE 단기채권알파액티브        0.02         0.89   \n",
       "221  462540        SOL 25-09 회사채(AA-이상)액티브        0.02         0.89   \n",
       "100  477050                   PLUS 머니마켓액티브        0.01         0.89   \n",
       "150  272560                  RISE 단기국공채액티브        0.02         0.89   \n",
       "24   214980                 KODEX 단기채권PLUS        0.02         0.87   \n",
       "89   479080                     1Q 머니마켓액티브        0.01         0.87   \n",
       "384  458030                   WON 단기국공채액티브        0.02         0.86   \n",
       "270  486830                 HANARO 머니마켓액티브        0.01         0.86   \n",
       "259  385550          RISE 단기종합채권(AA-이상)액티브        0.02         0.86   \n",
       "253  461260        ACE 25-06 회사채(AA-이상)액티브        0.06         0.85   \n",
       "142  463290                    1Q 단기금융채액티브        0.01         0.84   \n",
       "225  466400          1Q 25-08 회사채(A+이상)액티브        0.02         0.84   \n",
       "360  475270        ACE 5월만기자동연장회사채AA-이상액티브        0.04         0.83   \n",
       "348  484890                    SOL 머니마켓액티브        0.01         0.83   \n",
       "244  130730                     KOSEF 단기자금        0.01         0.82   \n",
       "74   272580                  TIGER 단기채권액티브        0.01         0.82   \n",
       "168  483230       RISE 25-06 은행채(AA+이상)액티브        0.02         0.82   \n",
       "35   477080               RISE CD금리액티브(합성)        0.01         0.82   \n",
       "218  475260        ACE 2월만기자동연장회사채AA-이상액티브        0.05         0.82   \n",
       "282  464540       RISE 25-03 회사채(AA-이상)액티브        0.02         0.82   \n",
       "86   491610                 1Q CD금리액티브(합성)        0.01         0.81   \n",
       "95   476450                   히어로즈 머니마켓액티브        0.01         0.80   \n",
       "115  467940       KODEX 25-11 회사채(A+이상)액티브        0.04         0.80   \n",
       "320  489570     HANARO 25-12 은행채(AA+이상)액티브        0.07         0.80   \n",
       "0    459580              KODEX CD금리액티브(합성)        0.01         0.79   \n",
       "5    423160            KODEX KOFR금리액티브(합성)        0.01         0.78   \n",
       "7    449170            TIGER KOFR금리액티브(합성)        0.01         0.78   \n",
       "2    357870            TIGER CD금리투자KIS(합성)        0.01         0.78   \n",
       "179  190620                      ACE 단기통안채        0.01         0.78   \n",
       "127  479520             RISE KOFR금리액티브(합성)        0.01         0.78   \n",
       "284  475280        ACE 8월만기자동연장회사채AA-이상액티브        0.04         0.78   \n",
       "19   481050         KODEX CD1년금리플러스액티브(합성)        0.01         0.78   \n",
       "619  471290             HANARO CD금리액티브(합성)        0.01         0.77   \n",
       "31   494900         TIGER 25-12 금융채(AA-이상)        0.03         0.76   \n",
       "628  453060           HANARO KOFR금리액티브(합성)        0.01         0.76   \n",
       "52   153130                     KODEX 단기채권        0.01         0.75   \n",
       "75   196230                     RISE 단기통안채        0.01         0.74   \n",
       "489  363510                   SOL KIS단기통안채        0.01         0.74   \n",
       "878  390950                 HANARO 단기채권액티브        0.01         0.73   \n",
       "46   157450                    TIGER 단기통안채        0.01         0.72   \n",
       "164  273140             KODEX 단기변동금리부채권액티브        0.01         0.71   \n",
       "488  496020                  WON 전단채플러스액티브        0.03         0.68   \n",
       "245  498180              파워 종합채권(AA-이상)액티브        0.31         0.45   \n",
       "311  497880               SOL CD금리&머니마켓액티브        0.02         0.35   \n",
       "237  495710        BNK 26-06 특수채(AAA이상)액티브        0.04         0.31   \n",
       "574  292770                KODEX 국채선물3년인버스        0.09         0.12   \n",
       "\n",
       "     AvgReturn Sector  Volume  Amount  Marcap  Color  \n",
       "222   0.042936     채권   46002    5210    1151  Below  \n",
       "25    0.042160     채권   57689    6253   13441  Below  \n",
       "54    0.042173     채권   16333     912    6487  Below  \n",
       "96    0.038327     채권     199      21    3557  Below  \n",
       "47    0.040919     채권    4419     471    7466  Below  \n",
       "43    0.039899     채권      37       4    8322  Below  \n",
       "117   0.042024     채권      20       2    2658  Below  \n",
       "10    0.041493     채권   62394    7283   28356  Below  \n",
       "438   0.032178     채권      29       3     298  Below  \n",
       "131   0.032577     채권    7558     869    2302  Below  \n",
       "345   0.029430     채권     303      32     501  Below  \n",
       "474   0.028531     채권     235      23     241  Below  \n",
       "382   0.028752     채권    1445     148     403  Below  \n",
       "247   0.030138     채권       0       0    1004  Below  \n",
       "101   0.030786     채권   15035     779    3388  Below  \n",
       "551   0.026756     채권     987     109     166  Below  \n",
       "144   0.027237     채권   18005     939    2104  Below  \n",
       "112   0.025517     채권     210      23    2926  Below  \n",
       "146   0.026255     채권   12890     654    2097  Below  \n",
       "526   0.026690     채권     232      24     187  Below  \n",
       "357   0.026638     채권    1949     214     460  Below  \n",
       "781   0.024027     채권      11       0      68  Below  \n",
       "288   0.023585     채권    2176     231     757  Below  \n",
       "239   0.019777     채권       1       0    1056  Below  \n",
       "266   0.025230     채권    3007     323     890  Below  \n",
       "78    0.024920     채권   49203    3043    4626  Below  \n",
       "265   0.022820     채권    1345      70     921  Below  \n",
       "105   0.021370     채권   31768     336    3155  Below  \n",
       "269   0.019250     채권    5153     549     884  Below  \n",
       "187   0.019243     채권   22945     250    1490  Below  \n",
       "622   0.018185     채권    1796     213     119  Below  \n",
       "337   0.016942     채권   11356    1313     536  Below  \n",
       "26    0.018108     채권  142383    7709   13030  Below  \n",
       "37    0.017744     채권   20296     210    9642  Below  \n",
       "71    0.015644     채권  162630    8530    4849  Below  \n",
       "264   0.014391     채권    3838      40     928  Below  \n",
       "379   0.015340     채권    2053     211     412  Below  \n",
       "294   0.015061     채권    2371     127     729  Below  \n",
       "38    0.014379     채권     919      93    9584  Below  \n",
       "14    0.015338     채권  449093   24026   20885  Below  \n",
       "240   0.015410     채권       8       0    1051  Below  \n",
       "190   0.014953     채권   12498     656    1476  Below  \n",
       "211   0.014883     채권      27       1    1201  Below  \n",
       "123   0.015030     채권   19386    1975    2416  Below  \n",
       "336   0.014898     채권    1688     184     544  Below  \n",
       "221   0.014387     채권      34       1    1155  Below  \n",
       "100   0.014953     채권   18185     936    3403  Below  \n",
       "150   0.014548     채권    5381     600    1983  Below  \n",
       "24    0.014580     채권   15580    1762   16007  Below  \n",
       "89    0.014780     채권   57161    2945    3812  Below  \n",
       "384   0.014187     채권    2576     136     402  Below  \n",
       "270   0.014641     채권    5415     275     861  Below  \n",
       "259   0.014569     채권    2666     295     962  Below  \n",
       "253   0.013261     채권   25439     273     987  Below  \n",
       "142   0.014053     채권    6480     686    2116  Below  \n",
       "225   0.014068     채권     459      49    1132  Below  \n",
       "360   0.012909     채권      54       0     453  Below  \n",
       "348   0.013957     채권    6475     330     490  Below  \n",
       "244   0.013527     채권    2028     206    1021  Below  \n",
       "74    0.013835     채권   22327    1229    4807  Below  \n",
       "168   0.013946     채권     453      23    1730  Below  \n",
       "35    0.013760     채권    6269     644   10064  Below  \n",
       "218   0.013702     채권    2630      27    1171  Below  \n",
       "282   0.013793     채권    3926     199     794  Below  \n",
       "86    0.013673     채권    2033     205    3966  Below  \n",
       "95    0.013447     채권    9703     501    3598  Below  \n",
       "115   0.013284     채권    5888      63    2734  Below  \n",
       "320   0.014497     채권    1536      15     610  Below  \n",
       "0     0.013346     채권  306572  324646   91179  Below  \n",
       "5     0.013263     채권   39563    4317   43019  Below  \n",
       "7     0.013291     채권   86731    9336   35166  Below  \n",
       "2     0.013267     채권  286913   15922   63284  Below  \n",
       "179   0.013098     채권    6007     603    1577  Below  \n",
       "127   0.013236     채권    2351     240    2347  Below  \n",
       "284   0.012922     채권    1450      15     791  Below  \n",
       "19    0.013309     채권   11879   12143   18128  Below  \n",
       "619   0.013110     채권     776      80     120  Below  \n",
       "31    0.017040     채권   17877     901   10756  Below  \n",
       "628   0.013028     채권     302      32     117  Below  \n",
       "52    0.012320     채권   18528    2075    6914  Below  \n",
       "75    0.012114     채권    4758     542    4795  Below  \n",
       "489   0.012409     채권       2       0     221  Below  \n",
       "878   0.012449     채권       0       0      45  Below  \n",
       "46    0.012176     채권   16347    1785    7479  Below  \n",
       "164   0.011779     채권    5700     643    1779  Below  \n",
       "488   0.022914     채권   15049     758     222  Below  \n",
       "245   0.021363     채권       0       0    1020  Below  \n",
       "311   0.016020     채권   97947    4901     659  Below  \n",
       "237   0.015974     채권       1       0    1061  Below  \n",
       "574   0.002018     채권       0       0     151  Below  "
      ]
     },
     "metadata": {},
     "output_type": "display_data"
    }
   ],
   "source": [
    "analyze_sector_return_volatility('ETF','채권')"
   ]
  }
 ],
 "metadata": {
  "kernelspec": {
   "display_name": "base",
   "language": "python",
   "name": "python3"
  },
  "language_info": {
   "codemirror_mode": {
    "name": "ipython",
    "version": 3
   },
   "file_extension": ".py",
   "mimetype": "text/x-python",
   "name": "python",
   "nbconvert_exporter": "python",
   "pygments_lexer": "ipython3",
   "version": "3.12.7"
  }
 },
 "nbformat": 4,
 "nbformat_minor": 2
}
