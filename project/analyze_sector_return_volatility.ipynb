{
 "cells": [
  {
   "cell_type": "markdown",
   "metadata": {},
   "source": [
    "업종별 수익률 대비 변동성을 시각화 하여, 수익률 대비 변동성이 낮은 안정적인 종목의 인사이트를 제공하는 영역"
   ]
  },
  {
   "cell_type": "code",
   "execution_count": 1,
   "metadata": {},
   "outputs": [],
   "source": [
    "# 데이터 분석을 위한 패키지\n",
    "import numpy as np\n",
    "import pandas as pd"
   ]
  },
  {
   "cell_type": "code",
   "execution_count": 2,
   "metadata": {},
   "outputs": [],
   "source": [
    "# 시각화 패키지\n",
    "import matplotlib.pyplot as plt\n",
    "import seaborn as sns\n",
    "import plotly.express as px\n",
    "import plotly.graph_objects as go"
   ]
  },
  {
   "cell_type": "code",
   "execution_count": null,
   "metadata": {},
   "outputs": [],
   "source": [
    "import FinanceDataReader as fdr"
   ]
  },
  {
   "cell_type": "code",
   "execution_count": 3,
   "metadata": {},
   "outputs": [],
   "source": [
    "import koreanize_matplotlib"
   ]
  },
  {
   "cell_type": "code",
   "execution_count": 4,
   "metadata": {},
   "outputs": [],
   "source": [
    "import datetime\n",
    "from dateutil.relativedelta import relativedelta"
   ]
  },
  {
   "cell_type": "code",
   "execution_count": 5,
   "metadata": {},
   "outputs": [],
   "source": [
    "from data_loader import load_sector_data"
   ]
  },
  {
   "cell_type": "code",
   "execution_count": 6,
   "metadata": {},
   "outputs": [],
   "source": [
    "# 모든 컬럼,행을 출력하도록 설정\n",
    "pd.set_option('display.max_columns', None) # None으로 설정하면 모든 컬럼 출력\n",
    "pd.set_option('display.max_rows', None) #None으로 설정하면 모든 행 출력"
   ]
  },
  {
   "cell_type": "code",
   "execution_count": 7,
   "metadata": {},
   "outputs": [],
   "source": [
    "# 회귀선의 의미 : 동일한 평균수익률을 가진 다른 업종에 비해 변동성이 적어 리스크가 낮다는 인사이트를 제공할 수 있음음\n",
    "\n",
    "\n",
    "def analyze_sector_return_volatility(market=None, month_ago=3):\n",
    "    # 데이터 로드 (임의 데이터 예제)\n",
    "    df = load_sector_data(market, month_ago=month_ago)  # 사용자 정의 데이터 로드 함수\n",
    "\n",
    "    # 시장의 평균 수익률 계산\n",
    "    market_avg_return = df['TotalReturn'].mean()\n",
    "\n",
    "    # 업종별 평균 수익률과 변동성 계산\n",
    "    mean_return_by_sector = df.groupby('Sector').agg({\n",
    "        'TotalReturn': 'mean',\n",
    "        'Volatility': 'mean'\n",
    "    }).reset_index().sort_values(by='TotalReturn', ascending=True)\n",
    "\n",
    "    # Plotly로 회귀선 데이터를 계산\n",
    "    fig = px.scatter(\n",
    "        mean_return_by_sector,\n",
    "        x=\"TotalReturn\",\n",
    "        y=\"Volatility\",\n",
    "        trendline=\"ols\"\n",
    "    )\n",
    "    \n",
    "    # 회귀선 데이터를 추출\n",
    "    \n",
    "    # 이전에 생성한 fig 객체에서 회귀선의 결과를 가져옴 회귀선의 모델 결과를 포함하는 객체를 가져옵니다. 이 객체에는 회귀선의 절편(intercept)과 기울기(slope) 등의 정보가 포함되어 있음\n",
    "    trendline_data = px.get_trendline_results(fig).iloc[0].px_fit_results\n",
    "    \n",
    "    # trendline_data.params: 회귀선의 파라미터(절편과 기울기)를 반환합니다. 여기서 intercept는 회귀선의 y절편을 의미하고, slope는 회귀선의 기울기를 나타냅니다.\n",
    "    intercept, slope = trendline_data.params                                \n",
    "\n",
    "    # 회귀선 아래/위 판별 및 색상 추가\n",
    "    mean_return_by_sector['Color'] = mean_return_by_sector.apply(\n",
    "        # 현재 행의 변동성이 회귀선에서 예측한 변동성보다 낮은지를 확인, 회귀선의 방정식은 y=mx+b 형태이므로, 여기서 intercept는 y절편, slope는 기울기, row[\"TotalReturn\"]는 x값\n",
    "        lambda row: 'Below' if row['Volatility'] < (intercept + slope * row['TotalReturn']) \\\n",
    "                                            else 'Above',\n",
    "        axis=1\n",
    "    )\n",
    "    \n",
    "    # 회귀선 대비 아래에 있는 종목 수익률 내림차순으로 정렬한 df\n",
    "    below_regression_line_df = mean_return_by_sector[mean_return_by_sector['Color'] == 'Below'].sort_values(by='TotalReturn', ascending=False)\n",
    "\n",
    "    # 최종 Plotly 그래프 생성\n",
    "    fig = px.scatter(\n",
    "        mean_return_by_sector,\n",
    "        x=\"TotalReturn\",\n",
    "        y=\"Volatility\",\n",
    "        color=\"Color\",  # 회귀선 기준 색상 설정\n",
    "        hover_data={\"Sector\": True},\n",
    "        title=\"업종별 수익률 대비 변동성 지수\",\n",
    "        labels={\"TotalReturn\": \"평균 수익률\", \"Volatility\": \"평균 변동성\"},\n",
    "        template=\"plotly_white\"\n",
    "    )\n",
    "\n",
    "    # 회귀선 다시 추가\n",
    "    fig.add_trace(go.Scatter(\n",
    "        x=mean_return_by_sector[\"TotalReturn\"],\n",
    "        y=intercept + slope * mean_return_by_sector[\"TotalReturn\"],\n",
    "        mode=\"lines\",\n",
    "        name=\"회귀선(해당 시장의 수익률 대비 평균 변동성)\",\n",
    "        line=dict(color=\"black\", dash=\"dash\")\n",
    "    ))\n",
    "    \n",
    "    # 제목 가운데 정렬렬\n",
    "    fig.update_layout(\n",
    "        title_x=0.5,\n",
    "        title_font=dict(size=20, color='black', family='Arial')\n",
    "        ) \n",
    "    \n",
    "    fig.show()\n",
    "    \n",
    "    # 변동성 대비 수익률이 좋은 종목 df 반환\n",
    "    display(below_regression_line_df)"
   ]
  },
  {
   "cell_type": "code",
   "execution_count": 8,
   "metadata": {},
   "outputs": [
    {
     "name": "stdout",
     "output_type": "stream",
     "text": [
      "3개월 간의 data를 불러옵니다.\n"
     ]
    },
    {
     "data": {
      "application/vnd.plotly.v1+json": {
       "config": {
        "plotlyServerURL": "https://plot.ly"
       },
       "data": [
        {
         "customdata": [
          [
           "통신장비"
          ],
          [
           "전기제품"
          ],
          [
           "기타"
          ],
          [
           "에너지장비및서비스"
          ],
          [
           "무역회사와판매업체"
          ],
          [
           "화장품"
          ],
          [
           "복합유틸리티"
          ],
          [
           "호텔,레스토랑,레저"
          ],
          [
           "화학"
          ],
          [
           "문구류"
          ],
          [
           "전기유틸리티"
          ],
          [
           "디스플레이장비및부품"
          ],
          [
           "전자장비와기기"
          ],
          [
           "반도체와반도체장비"
          ],
          [
           "제약"
          ],
          [
           "비철금속"
          ],
          [
           "IT서비스"
          ],
          [
           "자동차부품"
          ],
          [
           "게임엔터테인먼트"
          ],
          [
           "식품"
          ],
          [
           "다각화된통신서비스"
          ],
          [
           "자동차"
          ],
          [
           "종이와목재"
          ],
          [
           "가정용품"
          ],
          [
           "식품과기본식료품소매"
          ],
          [
           "레저용장비와제품"
          ],
          [
           "건축자재"
          ],
          [
           "출판"
          ],
          [
           "교육서비스"
          ],
          [
           "가구"
          ],
          [
           "섬유,의류,신발,호화품"
          ],
          [
           "담배"
          ],
          [
           "우주항공과국방"
          ],
          [
           "방송과엔터테인먼트"
          ],
          [
           "핸드셋"
          ],
          [
           "기계"
          ],
          [
           "건설"
          ],
          [
           "판매업체"
          ],
          [
           "전기장비"
          ],
          [
           "조선"
          ],
          [
           "생물공학"
          ]
         ],
         "hovertemplate": "Color=Above<br>평균 수익률=%{x}<br>평균 변동성=%{y}<br>Sector=%{customdata[0]}<extra></extra>",
         "legendgroup": "Above",
         "marker": {
          "color": "#636efa",
          "symbol": "circle"
         },
         "mode": "markers",
         "name": "Above",
         "orientation": "v",
         "showlegend": true,
         "type": "scatter",
         "x": [
          -19.93,
          -19.523571428571426,
          -18.733333333333334,
          -17.92875,
          -14.819999999999999,
          -13.543684210526315,
          -13.46,
          -13.069999999999999,
          -12.455205479452054,
          -11.49,
          -11.39,
          -10.955,
          -10.366666666666667,
          -9.175714285714287,
          -8.27306451612903,
          -7.998461538461539,
          -6.563076923076924,
          -6.554109589041095,
          -4.537999999999999,
          -4.252407407407407,
          -3.88,
          -3.2950000000000004,
          -3.2915384615384613,
          -3.2,
          -2.76,
          -2.505,
          -1.8925806451612905,
          -0.8399999999999999,
          0.5975000000000004,
          0.7314285714285719,
          1.38734693877551,
          2.13,
          2.5075,
          2.9144444444444444,
          5.3,
          7.97076923076923,
          8.803095238095239,
          9.096666666666666,
          11.995714285714286,
          23.079090909090908,
          140.85000000000002
         ],
         "xaxis": "x",
         "y": [
          3.016666666666667,
          2.8285714285714287,
          5.38,
          3.2075,
          2.6559999999999997,
          2.6021052631578945,
          3.82,
          2.995,
          2.6101369863013697,
          2.43,
          2.5425,
          2.92,
          2.73037037037037,
          3.3228571428571425,
          2.6277419354838707,
          2.854230769230769,
          3.166923076923077,
          2.5723287671232877,
          2.9059999999999997,
          2.768148148148148,
          4.445,
          3.109166666666667,
          2.9376923076923074,
          2.855,
          3.0100000000000002,
          2.9050000000000002,
          2.774193548387097,
          3.085,
          3.2725,
          3.067142857142857,
          2.9581632653061223,
          3.11,
          4.2725,
          3.195555555555556,
          3.4,
          3.3092307692307696,
          3.7188095238095236,
          3.7966666666666664,
          3.8628571428571425,
          3.4299999999999997,
          7.07
         ],
         "yaxis": "y"
        },
        {
         "customdata": [
          [
           "전문소매"
          ],
          [
           "디스플레이패널"
          ],
          [
           "컴퓨터와주변기기"
          ],
          [
           "백화점과일반상점"
          ],
          [
           "생명보험"
          ],
          [
           "철강"
          ],
          [
           "사무용전자제품"
          ],
          [
           "도로와철도운송"
          ],
          [
           "해운사"
          ],
          [
           "건축제품"
          ],
          [
           "포장재"
          ],
          [
           "전자제품"
          ],
          [
           "증권"
          ],
          [
           "항공화물운송과물류"
          ],
          [
           "카드"
          ],
          [
           "상업서비스와공급품"
          ],
          [
           "인터넷과카탈로그소매"
          ],
          [
           "광고"
          ],
          [
           "항공사"
          ],
          [
           "석유와가스"
          ],
          [
           "운송인프라"
          ],
          [
           "손해보험"
          ],
          [
           "건강관리장비와용품"
          ],
          [
           "가스유틸리티"
          ],
          [
           "은행"
          ],
          [
           "음료"
          ],
          [
           "부동산"
          ],
          [
           "복합기업"
          ],
          [
           "가정용기기와용품"
          ],
          [
           "무선통신서비스"
          ],
          [
           "양방향미디어와서비스"
          ],
          [
           "창업투자"
          ],
          [
           "소프트웨어"
          ]
         ],
         "hovertemplate": "Color=Below<br>평균 수익률=%{x}<br>평균 변동성=%{y}<br>Sector=%{customdata[0]}<extra></extra>",
         "legendgroup": "Below",
         "marker": {
          "color": "#EF553B",
          "symbol": "circle"
         },
         "mode": "markers",
         "name": "Below",
         "orientation": "v",
         "showlegend": true,
         "type": "scatter",
         "x": [
          -13.155000000000001,
          -12.995000000000001,
          -12.856666666666664,
          -10.586428571428572,
          -8.9275,
          -8.044324324324323,
          -8.02,
          -7.398000000000001,
          -7.39,
          -7.1175,
          -5.073125,
          -4.67,
          -4.4811764705882355,
          -4.3981818181818175,
          -4.36,
          -4.1739999999999995,
          -4.08,
          -3.58,
          -3.466666666666667,
          -3.029333333333333,
          -2.966666666666667,
          -2.385,
          -2.218,
          -2.14,
          -1.722,
          -1.3399999999999999,
          -0.5489285714285709,
          0.7454166666666667,
          1.1240000000000006,
          5.805,
          6.373333333333334,
          7.46,
          14.075000000000001
         ],
         "xaxis": "x",
         "y": [
          1.47,
          1.7850000000000001,
          1.6233333333333333,
          1.9949999999999999,
          2.195,
          2.415945945945946,
          1.18,
          1.534,
          2.19125,
          2.48,
          2.14625,
          2.2725,
          1.9370588235294117,
          1.6590909090909092,
          1.55,
          2.351,
          1.51,
          1.1199999999999999,
          2.3155555555555556,
          1.5613333333333335,
          1.5366666666666664,
          2.56,
          2.066,
          1.5654545454545454,
          2.1149999999999998,
          1.8199999999999998,
          1.842142857142857,
          2.1579166666666665,
          2.088,
          1.405,
          2.8066666666666666,
          2.32,
          2.15
         ],
         "yaxis": "y"
        },
        {
         "line": {
          "color": "black",
          "dash": "dash"
         },
         "mode": "lines",
         "name": "회귀선(해당 시장의 수익률 대비 평균 변동성)",
         "type": "scatter",
         "x": [
          -19.93,
          -19.523571428571426,
          -18.733333333333334,
          -17.92875,
          -14.819999999999999,
          -13.543684210526315,
          -13.46,
          -13.155000000000001,
          -13.069999999999999,
          -12.995000000000001,
          -12.856666666666664,
          -12.455205479452054,
          -11.49,
          -11.39,
          -10.955,
          -10.586428571428572,
          -10.366666666666667,
          -9.175714285714287,
          -8.9275,
          -8.27306451612903,
          -8.044324324324323,
          -8.02,
          -7.998461538461539,
          -7.398000000000001,
          -7.39,
          -7.1175,
          -6.563076923076924,
          -6.554109589041095,
          -5.073125,
          -4.67,
          -4.537999999999999,
          -4.4811764705882355,
          -4.3981818181818175,
          -4.36,
          -4.252407407407407,
          -4.1739999999999995,
          -4.08,
          -3.88,
          -3.58,
          -3.466666666666667,
          -3.2950000000000004,
          -3.2915384615384613,
          -3.2,
          -3.029333333333333,
          -2.966666666666667,
          -2.76,
          -2.505,
          -2.385,
          -2.218,
          -2.14,
          -1.8925806451612905,
          -1.722,
          -1.3399999999999999,
          -0.8399999999999999,
          -0.5489285714285709,
          0.5975000000000004,
          0.7314285714285719,
          0.7454166666666667,
          1.1240000000000006,
          1.38734693877551,
          2.13,
          2.5075,
          2.9144444444444444,
          5.3,
          5.805,
          6.373333333333334,
          7.46,
          7.97076923076923,
          8.803095238095239,
          9.096666666666666,
          11.995714285714286,
          14.075000000000001,
          23.079090909090908,
          140.85000000000002
         ],
         "y": [
          2.184144953331665,
          2.195118876158203,
          2.2164559879691446,
          2.2381804336115447,
          2.322119371435443,
          2.3565810012533093,
          2.3588405472908516,
          2.367075810993719,
          2.369370884484682,
          2.3713959493296493,
          2.3751310689325895,
          2.385970868090552,
          2.412032250551995,
          2.4147323370119516,
          2.4264777131127624,
          2.4364294603508876,
          2.4423632217855067,
          2.4745199657681316,
          2.4812219660883805,
          2.498892289977532,
          2.505068472924929,
          2.5057252507124863,
          2.506306807796169,
          2.522519788493416,
          2.5227357954102123,
          2.530093531013594,
          2.545063433444468,
          2.5453055592165885,
          2.58529342357933,
          2.5961781471210292,
          2.599742261248172,
          2.6012765456718885,
          2.6035174730440023,
          2.6045484151468945,
          2.607453508171403,
          2.609570575962414,
          2.612108657234773,
          2.617508830154686,
          2.6256090895345556,
          2.6286691875225063,
          2.6333043359454313,
          2.6333978004767378,
          2.63586941808239,
          2.6404775656407162,
          2.6421696198222886,
          2.647749798506199,
          2.654635018979088,
          2.6578751227310358,
          2.662384267119163,
          2.664490334557929,
          2.671170871057241,
          2.6757766959605473,
          2.6860910262375812,
          2.699591458537364,
          2.707450638769023,
          2.738405201399239,
          2.742021388622395,
          2.7423990792879245,
          2.75262115661091,
          2.7597317516474975,
          2.7797840263980724,
          2.789976852784408,
          2.8009647046283983,
          2.8653767671786943,
          2.8790122038014747,
          2.8943576951822276,
          2.923698634713755,
          2.937489845555379,
          2.959963367381885,
          2.9678900497750433,
          3.0461668420046397,
          3.1023093540398783,
          3.3454275935184175,
          6.525343963649753
         ]
        }
       ],
       "layout": {
        "legend": {
         "title": {
          "text": "Color"
         },
         "tracegroupgap": 0
        },
        "template": {
         "data": {
          "bar": [
           {
            "error_x": {
             "color": "#2a3f5f"
            },
            "error_y": {
             "color": "#2a3f5f"
            },
            "marker": {
             "line": {
              "color": "white",
              "width": 0.5
             },
             "pattern": {
              "fillmode": "overlay",
              "size": 10,
              "solidity": 0.2
             }
            },
            "type": "bar"
           }
          ],
          "barpolar": [
           {
            "marker": {
             "line": {
              "color": "white",
              "width": 0.5
             },
             "pattern": {
              "fillmode": "overlay",
              "size": 10,
              "solidity": 0.2
             }
            },
            "type": "barpolar"
           }
          ],
          "carpet": [
           {
            "aaxis": {
             "endlinecolor": "#2a3f5f",
             "gridcolor": "#C8D4E3",
             "linecolor": "#C8D4E3",
             "minorgridcolor": "#C8D4E3",
             "startlinecolor": "#2a3f5f"
            },
            "baxis": {
             "endlinecolor": "#2a3f5f",
             "gridcolor": "#C8D4E3",
             "linecolor": "#C8D4E3",
             "minorgridcolor": "#C8D4E3",
             "startlinecolor": "#2a3f5f"
            },
            "type": "carpet"
           }
          ],
          "choropleth": [
           {
            "colorbar": {
             "outlinewidth": 0,
             "ticks": ""
            },
            "type": "choropleth"
           }
          ],
          "contour": [
           {
            "colorbar": {
             "outlinewidth": 0,
             "ticks": ""
            },
            "colorscale": [
             [
              0,
              "#0d0887"
             ],
             [
              0.1111111111111111,
              "#46039f"
             ],
             [
              0.2222222222222222,
              "#7201a8"
             ],
             [
              0.3333333333333333,
              "#9c179e"
             ],
             [
              0.4444444444444444,
              "#bd3786"
             ],
             [
              0.5555555555555556,
              "#d8576b"
             ],
             [
              0.6666666666666666,
              "#ed7953"
             ],
             [
              0.7777777777777778,
              "#fb9f3a"
             ],
             [
              0.8888888888888888,
              "#fdca26"
             ],
             [
              1,
              "#f0f921"
             ]
            ],
            "type": "contour"
           }
          ],
          "contourcarpet": [
           {
            "colorbar": {
             "outlinewidth": 0,
             "ticks": ""
            },
            "type": "contourcarpet"
           }
          ],
          "heatmap": [
           {
            "colorbar": {
             "outlinewidth": 0,
             "ticks": ""
            },
            "colorscale": [
             [
              0,
              "#0d0887"
             ],
             [
              0.1111111111111111,
              "#46039f"
             ],
             [
              0.2222222222222222,
              "#7201a8"
             ],
             [
              0.3333333333333333,
              "#9c179e"
             ],
             [
              0.4444444444444444,
              "#bd3786"
             ],
             [
              0.5555555555555556,
              "#d8576b"
             ],
             [
              0.6666666666666666,
              "#ed7953"
             ],
             [
              0.7777777777777778,
              "#fb9f3a"
             ],
             [
              0.8888888888888888,
              "#fdca26"
             ],
             [
              1,
              "#f0f921"
             ]
            ],
            "type": "heatmap"
           }
          ],
          "heatmapgl": [
           {
            "colorbar": {
             "outlinewidth": 0,
             "ticks": ""
            },
            "colorscale": [
             [
              0,
              "#0d0887"
             ],
             [
              0.1111111111111111,
              "#46039f"
             ],
             [
              0.2222222222222222,
              "#7201a8"
             ],
             [
              0.3333333333333333,
              "#9c179e"
             ],
             [
              0.4444444444444444,
              "#bd3786"
             ],
             [
              0.5555555555555556,
              "#d8576b"
             ],
             [
              0.6666666666666666,
              "#ed7953"
             ],
             [
              0.7777777777777778,
              "#fb9f3a"
             ],
             [
              0.8888888888888888,
              "#fdca26"
             ],
             [
              1,
              "#f0f921"
             ]
            ],
            "type": "heatmapgl"
           }
          ],
          "histogram": [
           {
            "marker": {
             "pattern": {
              "fillmode": "overlay",
              "size": 10,
              "solidity": 0.2
             }
            },
            "type": "histogram"
           }
          ],
          "histogram2d": [
           {
            "colorbar": {
             "outlinewidth": 0,
             "ticks": ""
            },
            "colorscale": [
             [
              0,
              "#0d0887"
             ],
             [
              0.1111111111111111,
              "#46039f"
             ],
             [
              0.2222222222222222,
              "#7201a8"
             ],
             [
              0.3333333333333333,
              "#9c179e"
             ],
             [
              0.4444444444444444,
              "#bd3786"
             ],
             [
              0.5555555555555556,
              "#d8576b"
             ],
             [
              0.6666666666666666,
              "#ed7953"
             ],
             [
              0.7777777777777778,
              "#fb9f3a"
             ],
             [
              0.8888888888888888,
              "#fdca26"
             ],
             [
              1,
              "#f0f921"
             ]
            ],
            "type": "histogram2d"
           }
          ],
          "histogram2dcontour": [
           {
            "colorbar": {
             "outlinewidth": 0,
             "ticks": ""
            },
            "colorscale": [
             [
              0,
              "#0d0887"
             ],
             [
              0.1111111111111111,
              "#46039f"
             ],
             [
              0.2222222222222222,
              "#7201a8"
             ],
             [
              0.3333333333333333,
              "#9c179e"
             ],
             [
              0.4444444444444444,
              "#bd3786"
             ],
             [
              0.5555555555555556,
              "#d8576b"
             ],
             [
              0.6666666666666666,
              "#ed7953"
             ],
             [
              0.7777777777777778,
              "#fb9f3a"
             ],
             [
              0.8888888888888888,
              "#fdca26"
             ],
             [
              1,
              "#f0f921"
             ]
            ],
            "type": "histogram2dcontour"
           }
          ],
          "mesh3d": [
           {
            "colorbar": {
             "outlinewidth": 0,
             "ticks": ""
            },
            "type": "mesh3d"
           }
          ],
          "parcoords": [
           {
            "line": {
             "colorbar": {
              "outlinewidth": 0,
              "ticks": ""
             }
            },
            "type": "parcoords"
           }
          ],
          "pie": [
           {
            "automargin": true,
            "type": "pie"
           }
          ],
          "scatter": [
           {
            "fillpattern": {
             "fillmode": "overlay",
             "size": 10,
             "solidity": 0.2
            },
            "type": "scatter"
           }
          ],
          "scatter3d": [
           {
            "line": {
             "colorbar": {
              "outlinewidth": 0,
              "ticks": ""
             }
            },
            "marker": {
             "colorbar": {
              "outlinewidth": 0,
              "ticks": ""
             }
            },
            "type": "scatter3d"
           }
          ],
          "scattercarpet": [
           {
            "marker": {
             "colorbar": {
              "outlinewidth": 0,
              "ticks": ""
             }
            },
            "type": "scattercarpet"
           }
          ],
          "scattergeo": [
           {
            "marker": {
             "colorbar": {
              "outlinewidth": 0,
              "ticks": ""
             }
            },
            "type": "scattergeo"
           }
          ],
          "scattergl": [
           {
            "marker": {
             "colorbar": {
              "outlinewidth": 0,
              "ticks": ""
             }
            },
            "type": "scattergl"
           }
          ],
          "scattermapbox": [
           {
            "marker": {
             "colorbar": {
              "outlinewidth": 0,
              "ticks": ""
             }
            },
            "type": "scattermapbox"
           }
          ],
          "scatterpolar": [
           {
            "marker": {
             "colorbar": {
              "outlinewidth": 0,
              "ticks": ""
             }
            },
            "type": "scatterpolar"
           }
          ],
          "scatterpolargl": [
           {
            "marker": {
             "colorbar": {
              "outlinewidth": 0,
              "ticks": ""
             }
            },
            "type": "scatterpolargl"
           }
          ],
          "scatterternary": [
           {
            "marker": {
             "colorbar": {
              "outlinewidth": 0,
              "ticks": ""
             }
            },
            "type": "scatterternary"
           }
          ],
          "surface": [
           {
            "colorbar": {
             "outlinewidth": 0,
             "ticks": ""
            },
            "colorscale": [
             [
              0,
              "#0d0887"
             ],
             [
              0.1111111111111111,
              "#46039f"
             ],
             [
              0.2222222222222222,
              "#7201a8"
             ],
             [
              0.3333333333333333,
              "#9c179e"
             ],
             [
              0.4444444444444444,
              "#bd3786"
             ],
             [
              0.5555555555555556,
              "#d8576b"
             ],
             [
              0.6666666666666666,
              "#ed7953"
             ],
             [
              0.7777777777777778,
              "#fb9f3a"
             ],
             [
              0.8888888888888888,
              "#fdca26"
             ],
             [
              1,
              "#f0f921"
             ]
            ],
            "type": "surface"
           }
          ],
          "table": [
           {
            "cells": {
             "fill": {
              "color": "#EBF0F8"
             },
             "line": {
              "color": "white"
             }
            },
            "header": {
             "fill": {
              "color": "#C8D4E3"
             },
             "line": {
              "color": "white"
             }
            },
            "type": "table"
           }
          ]
         },
         "layout": {
          "annotationdefaults": {
           "arrowcolor": "#2a3f5f",
           "arrowhead": 0,
           "arrowwidth": 1
          },
          "autotypenumbers": "strict",
          "coloraxis": {
           "colorbar": {
            "outlinewidth": 0,
            "ticks": ""
           }
          },
          "colorscale": {
           "diverging": [
            [
             0,
             "#8e0152"
            ],
            [
             0.1,
             "#c51b7d"
            ],
            [
             0.2,
             "#de77ae"
            ],
            [
             0.3,
             "#f1b6da"
            ],
            [
             0.4,
             "#fde0ef"
            ],
            [
             0.5,
             "#f7f7f7"
            ],
            [
             0.6,
             "#e6f5d0"
            ],
            [
             0.7,
             "#b8e186"
            ],
            [
             0.8,
             "#7fbc41"
            ],
            [
             0.9,
             "#4d9221"
            ],
            [
             1,
             "#276419"
            ]
           ],
           "sequential": [
            [
             0,
             "#0d0887"
            ],
            [
             0.1111111111111111,
             "#46039f"
            ],
            [
             0.2222222222222222,
             "#7201a8"
            ],
            [
             0.3333333333333333,
             "#9c179e"
            ],
            [
             0.4444444444444444,
             "#bd3786"
            ],
            [
             0.5555555555555556,
             "#d8576b"
            ],
            [
             0.6666666666666666,
             "#ed7953"
            ],
            [
             0.7777777777777778,
             "#fb9f3a"
            ],
            [
             0.8888888888888888,
             "#fdca26"
            ],
            [
             1,
             "#f0f921"
            ]
           ],
           "sequentialminus": [
            [
             0,
             "#0d0887"
            ],
            [
             0.1111111111111111,
             "#46039f"
            ],
            [
             0.2222222222222222,
             "#7201a8"
            ],
            [
             0.3333333333333333,
             "#9c179e"
            ],
            [
             0.4444444444444444,
             "#bd3786"
            ],
            [
             0.5555555555555556,
             "#d8576b"
            ],
            [
             0.6666666666666666,
             "#ed7953"
            ],
            [
             0.7777777777777778,
             "#fb9f3a"
            ],
            [
             0.8888888888888888,
             "#fdca26"
            ],
            [
             1,
             "#f0f921"
            ]
           ]
          },
          "colorway": [
           "#636efa",
           "#EF553B",
           "#00cc96",
           "#ab63fa",
           "#FFA15A",
           "#19d3f3",
           "#FF6692",
           "#B6E880",
           "#FF97FF",
           "#FECB52"
          ],
          "font": {
           "color": "#2a3f5f"
          },
          "geo": {
           "bgcolor": "white",
           "lakecolor": "white",
           "landcolor": "white",
           "showlakes": true,
           "showland": true,
           "subunitcolor": "#C8D4E3"
          },
          "hoverlabel": {
           "align": "left"
          },
          "hovermode": "closest",
          "mapbox": {
           "style": "light"
          },
          "paper_bgcolor": "white",
          "plot_bgcolor": "white",
          "polar": {
           "angularaxis": {
            "gridcolor": "#EBF0F8",
            "linecolor": "#EBF0F8",
            "ticks": ""
           },
           "bgcolor": "white",
           "radialaxis": {
            "gridcolor": "#EBF0F8",
            "linecolor": "#EBF0F8",
            "ticks": ""
           }
          },
          "scene": {
           "xaxis": {
            "backgroundcolor": "white",
            "gridcolor": "#DFE8F3",
            "gridwidth": 2,
            "linecolor": "#EBF0F8",
            "showbackground": true,
            "ticks": "",
            "zerolinecolor": "#EBF0F8"
           },
           "yaxis": {
            "backgroundcolor": "white",
            "gridcolor": "#DFE8F3",
            "gridwidth": 2,
            "linecolor": "#EBF0F8",
            "showbackground": true,
            "ticks": "",
            "zerolinecolor": "#EBF0F8"
           },
           "zaxis": {
            "backgroundcolor": "white",
            "gridcolor": "#DFE8F3",
            "gridwidth": 2,
            "linecolor": "#EBF0F8",
            "showbackground": true,
            "ticks": "",
            "zerolinecolor": "#EBF0F8"
           }
          },
          "shapedefaults": {
           "line": {
            "color": "#2a3f5f"
           }
          },
          "ternary": {
           "aaxis": {
            "gridcolor": "#DFE8F3",
            "linecolor": "#A2B1C6",
            "ticks": ""
           },
           "baxis": {
            "gridcolor": "#DFE8F3",
            "linecolor": "#A2B1C6",
            "ticks": ""
           },
           "bgcolor": "white",
           "caxis": {
            "gridcolor": "#DFE8F3",
            "linecolor": "#A2B1C6",
            "ticks": ""
           }
          },
          "title": {
           "x": 0.05
          },
          "xaxis": {
           "automargin": true,
           "gridcolor": "#EBF0F8",
           "linecolor": "#EBF0F8",
           "ticks": "",
           "title": {
            "standoff": 15
           },
           "zerolinecolor": "#EBF0F8",
           "zerolinewidth": 2
          },
          "yaxis": {
           "automargin": true,
           "gridcolor": "#EBF0F8",
           "linecolor": "#EBF0F8",
           "ticks": "",
           "title": {
            "standoff": 15
           },
           "zerolinecolor": "#EBF0F8",
           "zerolinewidth": 2
          }
         }
        },
        "title": {
         "font": {
          "color": "black",
          "family": "Arial",
          "size": 20
         },
         "text": "업종별 수익률 대비 변동성 지수",
         "x": 0.5
        },
        "xaxis": {
         "anchor": "y",
         "domain": [
          0,
          1
         ],
         "title": {
          "text": "평균 수익률"
         }
        },
        "yaxis": {
         "anchor": "x",
         "domain": [
          0,
          1
         ],
         "title": {
          "text": "평균 변동성"
         }
        }
       }
      }
     },
     "metadata": {},
     "output_type": "display_data"
    },
    {
     "data": {
      "text/html": [
       "<div>\n",
       "<style scoped>\n",
       "    .dataframe tbody tr th:only-of-type {\n",
       "        vertical-align: middle;\n",
       "    }\n",
       "\n",
       "    .dataframe tbody tr th {\n",
       "        vertical-align: top;\n",
       "    }\n",
       "\n",
       "    .dataframe thead th {\n",
       "        text-align: right;\n",
       "    }\n",
       "</style>\n",
       "<table border=\"1\" class=\"dataframe\">\n",
       "  <thead>\n",
       "    <tr style=\"text-align: right;\">\n",
       "      <th></th>\n",
       "      <th>Sector</th>\n",
       "      <th>TotalReturn</th>\n",
       "      <th>Volatility</th>\n",
       "      <th>Color</th>\n",
       "    </tr>\n",
       "  </thead>\n",
       "  <tbody>\n",
       "    <tr>\n",
       "      <th>36</th>\n",
       "      <td>소프트웨어</td>\n",
       "      <td>14.075000</td>\n",
       "      <td>2.150000</td>\n",
       "      <td>Below</td>\n",
       "    </tr>\n",
       "    <tr>\n",
       "      <th>59</th>\n",
       "      <td>창업투자</td>\n",
       "      <td>7.460000</td>\n",
       "      <td>2.320000</td>\n",
       "      <td>Below</td>\n",
       "    </tr>\n",
       "    <tr>\n",
       "      <th>40</th>\n",
       "      <td>양방향미디어와서비스</td>\n",
       "      <td>6.373333</td>\n",
       "      <td>2.806667</td>\n",
       "      <td>Below</td>\n",
       "    </tr>\n",
       "    <tr>\n",
       "      <th>20</th>\n",
       "      <td>무선통신서비스</td>\n",
       "      <td>5.805000</td>\n",
       "      <td>1.405000</td>\n",
       "      <td>Below</td>\n",
       "    </tr>\n",
       "    <tr>\n",
       "      <th>3</th>\n",
       "      <td>가정용기기와용품</td>\n",
       "      <td>1.124000</td>\n",
       "      <td>2.088000</td>\n",
       "      <td>Below</td>\n",
       "    </tr>\n",
       "    <tr>\n",
       "      <th>26</th>\n",
       "      <td>복합기업</td>\n",
       "      <td>0.745417</td>\n",
       "      <td>2.157917</td>\n",
       "      <td>Below</td>\n",
       "    </tr>\n",
       "    <tr>\n",
       "      <th>28</th>\n",
       "      <td>부동산</td>\n",
       "      <td>-0.548929</td>\n",
       "      <td>1.842143</td>\n",
       "      <td>Below</td>\n",
       "    </tr>\n",
       "    <tr>\n",
       "      <th>45</th>\n",
       "      <td>음료</td>\n",
       "      <td>-1.340000</td>\n",
       "      <td>1.820000</td>\n",
       "      <td>Below</td>\n",
       "    </tr>\n",
       "    <tr>\n",
       "      <th>44</th>\n",
       "      <td>은행</td>\n",
       "      <td>-1.722000</td>\n",
       "      <td>2.115000</td>\n",
       "      <td>Below</td>\n",
       "    </tr>\n",
       "    <tr>\n",
       "      <th>2</th>\n",
       "      <td>가스유틸리티</td>\n",
       "      <td>-2.140000</td>\n",
       "      <td>1.565455</td>\n",
       "      <td>Below</td>\n",
       "    </tr>\n",
       "    <tr>\n",
       "      <th>5</th>\n",
       "      <td>건강관리장비와용품</td>\n",
       "      <td>-2.218000</td>\n",
       "      <td>2.066000</td>\n",
       "      <td>Below</td>\n",
       "    </tr>\n",
       "    <tr>\n",
       "      <th>37</th>\n",
       "      <td>손해보험</td>\n",
       "      <td>-2.385000</td>\n",
       "      <td>2.560000</td>\n",
       "      <td>Below</td>\n",
       "    </tr>\n",
       "    <tr>\n",
       "      <th>43</th>\n",
       "      <td>운송인프라</td>\n",
       "      <td>-2.966667</td>\n",
       "      <td>1.536667</td>\n",
       "      <td>Below</td>\n",
       "    </tr>\n",
       "    <tr>\n",
       "      <th>34</th>\n",
       "      <td>석유와가스</td>\n",
       "      <td>-3.029333</td>\n",
       "      <td>1.561333</td>\n",
       "      <td>Below</td>\n",
       "    </tr>\n",
       "    <tr>\n",
       "      <th>67</th>\n",
       "      <td>항공사</td>\n",
       "      <td>-3.466667</td>\n",
       "      <td>2.315556</td>\n",
       "      <td>Below</td>\n",
       "    </tr>\n",
       "    <tr>\n",
       "      <th>10</th>\n",
       "      <td>광고</td>\n",
       "      <td>-3.580000</td>\n",
       "      <td>1.120000</td>\n",
       "      <td>Below</td>\n",
       "    </tr>\n",
       "    <tr>\n",
       "      <th>46</th>\n",
       "      <td>인터넷과카탈로그소매</td>\n",
       "      <td>-4.080000</td>\n",
       "      <td>1.510000</td>\n",
       "      <td>Below</td>\n",
       "    </tr>\n",
       "    <tr>\n",
       "      <th>31</th>\n",
       "      <td>상업서비스와공급품</td>\n",
       "      <td>-4.174000</td>\n",
       "      <td>2.351000</td>\n",
       "      <td>Below</td>\n",
       "    </tr>\n",
       "    <tr>\n",
       "      <th>62</th>\n",
       "      <td>카드</td>\n",
       "      <td>-4.360000</td>\n",
       "      <td>1.550000</td>\n",
       "      <td>Below</td>\n",
       "    </tr>\n",
       "    <tr>\n",
       "      <th>68</th>\n",
       "      <td>항공화물운송과물류</td>\n",
       "      <td>-4.398182</td>\n",
       "      <td>1.659091</td>\n",
       "      <td>Below</td>\n",
       "    </tr>\n",
       "    <tr>\n",
       "      <th>58</th>\n",
       "      <td>증권</td>\n",
       "      <td>-4.481176</td>\n",
       "      <td>1.937059</td>\n",
       "      <td>Below</td>\n",
       "    </tr>\n",
       "    <tr>\n",
       "      <th>54</th>\n",
       "      <td>전자제품</td>\n",
       "      <td>-4.670000</td>\n",
       "      <td>2.272500</td>\n",
       "      <td>Below</td>\n",
       "    </tr>\n",
       "    <tr>\n",
       "      <th>66</th>\n",
       "      <td>포장재</td>\n",
       "      <td>-5.073125</td>\n",
       "      <td>2.146250</td>\n",
       "      <td>Below</td>\n",
       "    </tr>\n",
       "    <tr>\n",
       "      <th>8</th>\n",
       "      <td>건축제품</td>\n",
       "      <td>-7.117500</td>\n",
       "      <td>2.480000</td>\n",
       "      <td>Below</td>\n",
       "    </tr>\n",
       "    <tr>\n",
       "      <th>69</th>\n",
       "      <td>해운사</td>\n",
       "      <td>-7.390000</td>\n",
       "      <td>2.191250</td>\n",
       "      <td>Below</td>\n",
       "    </tr>\n",
       "    <tr>\n",
       "      <th>16</th>\n",
       "      <td>도로와철도운송</td>\n",
       "      <td>-7.398000</td>\n",
       "      <td>1.534000</td>\n",
       "      <td>Below</td>\n",
       "    </tr>\n",
       "    <tr>\n",
       "      <th>30</th>\n",
       "      <td>사무용전자제품</td>\n",
       "      <td>-8.020000</td>\n",
       "      <td>1.180000</td>\n",
       "      <td>Below</td>\n",
       "    </tr>\n",
       "    <tr>\n",
       "      <th>60</th>\n",
       "      <td>철강</td>\n",
       "      <td>-8.044324</td>\n",
       "      <td>2.415946</td>\n",
       "      <td>Below</td>\n",
       "    </tr>\n",
       "    <tr>\n",
       "      <th>32</th>\n",
       "      <td>생명보험</td>\n",
       "      <td>-8.927500</td>\n",
       "      <td>2.195000</td>\n",
       "      <td>Below</td>\n",
       "    </tr>\n",
       "    <tr>\n",
       "      <th>25</th>\n",
       "      <td>백화점과일반상점</td>\n",
       "      <td>-10.586429</td>\n",
       "      <td>1.995000</td>\n",
       "      <td>Below</td>\n",
       "    </tr>\n",
       "    <tr>\n",
       "      <th>63</th>\n",
       "      <td>컴퓨터와주변기기</td>\n",
       "      <td>-12.856667</td>\n",
       "      <td>1.623333</td>\n",
       "      <td>Below</td>\n",
       "    </tr>\n",
       "    <tr>\n",
       "      <th>18</th>\n",
       "      <td>디스플레이패널</td>\n",
       "      <td>-12.995000</td>\n",
       "      <td>1.785000</td>\n",
       "      <td>Below</td>\n",
       "    </tr>\n",
       "    <tr>\n",
       "      <th>52</th>\n",
       "      <td>전문소매</td>\n",
       "      <td>-13.155000</td>\n",
       "      <td>1.470000</td>\n",
       "      <td>Below</td>\n",
       "    </tr>\n",
       "  </tbody>\n",
       "</table>\n",
       "</div>"
      ],
      "text/plain": [
       "        Sector  TotalReturn  Volatility  Color\n",
       "36       소프트웨어    14.075000    2.150000  Below\n",
       "59        창업투자     7.460000    2.320000  Below\n",
       "40  양방향미디어와서비스     6.373333    2.806667  Below\n",
       "20     무선통신서비스     5.805000    1.405000  Below\n",
       "3     가정용기기와용품     1.124000    2.088000  Below\n",
       "26        복합기업     0.745417    2.157917  Below\n",
       "28         부동산    -0.548929    1.842143  Below\n",
       "45          음료    -1.340000    1.820000  Below\n",
       "44          은행    -1.722000    2.115000  Below\n",
       "2       가스유틸리티    -2.140000    1.565455  Below\n",
       "5    건강관리장비와용품    -2.218000    2.066000  Below\n",
       "37        손해보험    -2.385000    2.560000  Below\n",
       "43       운송인프라    -2.966667    1.536667  Below\n",
       "34       석유와가스    -3.029333    1.561333  Below\n",
       "67         항공사    -3.466667    2.315556  Below\n",
       "10          광고    -3.580000    1.120000  Below\n",
       "46  인터넷과카탈로그소매    -4.080000    1.510000  Below\n",
       "31   상업서비스와공급품    -4.174000    2.351000  Below\n",
       "62          카드    -4.360000    1.550000  Below\n",
       "68   항공화물운송과물류    -4.398182    1.659091  Below\n",
       "58          증권    -4.481176    1.937059  Below\n",
       "54        전자제품    -4.670000    2.272500  Below\n",
       "66         포장재    -5.073125    2.146250  Below\n",
       "8         건축제품    -7.117500    2.480000  Below\n",
       "69         해운사    -7.390000    2.191250  Below\n",
       "16     도로와철도운송    -7.398000    1.534000  Below\n",
       "30     사무용전자제품    -8.020000    1.180000  Below\n",
       "60          철강    -8.044324    2.415946  Below\n",
       "32        생명보험    -8.927500    2.195000  Below\n",
       "25    백화점과일반상점   -10.586429    1.995000  Below\n",
       "63    컴퓨터와주변기기   -12.856667    1.623333  Below\n",
       "18     디스플레이패널   -12.995000    1.785000  Below\n",
       "52        전문소매   -13.155000    1.470000  Below"
      ]
     },
     "metadata": {},
     "output_type": "display_data"
    }
   ],
   "source": [
    "analyze_sector_return_volatility('KOSPI')"
   ]
  },
  {
   "cell_type": "code",
   "execution_count": 9,
   "metadata": {},
   "outputs": [
    {
     "name": "stdout",
     "output_type": "stream",
     "text": [
      "3개월 간의 data를 불러옵니다.\n"
     ]
    },
    {
     "data": {
      "application/vnd.plotly.v1+json": {
       "config": {
        "plotlyServerURL": "https://plot.ly"
       },
       "data": [
        {
         "customdata": [
          [
           "자동차"
          ],
          [
           "석유와가스"
          ],
          [
           "전기제품"
          ],
          [
           "전기유틸리티"
          ],
          [
           "인터넷과카탈로그소매"
          ],
          [
           "가스유틸리티"
          ],
          [
           "레저용장비와제품"
          ],
          [
           "반도체와반도체장비"
          ],
          [
           "화학"
          ],
          [
           "광고"
          ],
          [
           "전자장비와기기"
          ],
          [
           "디스플레이장비및부품"
          ],
          [
           "생명과학도구및서비스"
          ],
          [
           "건강관리장비와용품"
          ],
          [
           "판매업체"
          ],
          [
           "전기장비"
          ],
          [
           "우주항공과국방"
          ],
          [
           "건축제품"
          ],
          [
           "핸드셋"
          ],
          [
           "방송과엔터테인먼트"
          ],
          [
           "건강관리업체및서비스"
          ],
          [
           "생물공학"
          ],
          [
           "제약"
          ],
          [
           "교육서비스"
          ],
          [
           "화장품"
          ],
          [
           "기계"
          ],
          [
           "가정용기기와용품"
          ],
          [
           "에너지장비및서비스"
          ],
          [
           "자동차부품"
          ],
          [
           "소프트웨어"
          ],
          [
           "IT서비스"
          ],
          [
           "건설"
          ],
          [
           "양방향미디어와서비스"
          ],
          [
           "건축자재"
          ],
          [
           "건강관리기술"
          ],
          [
           "출판"
          ],
          [
           "통신장비"
          ],
          [
           "게임엔터테인먼트"
          ],
          [
           "조선"
          ],
          [
           "식품"
          ],
          [
           "컴퓨터와주변기기"
          ],
          [
           "비철금속"
          ]
         ],
         "hovertemplate": "Color=Above<br>평균 수익률=%{x}<br>평균 변동성=%{y}<br>Sector=%{customdata[0]}<extra></extra>",
         "legendgroup": "Above",
         "marker": {
          "color": "#636efa",
          "symbol": "circle"
         },
         "mode": "markers",
         "name": "Above",
         "orientation": "v",
         "showlegend": true,
         "type": "scatter",
         "x": [
          -28.923333333333332,
          -26.276666666666667,
          -24.634821428571428,
          -23.84,
          -19.866666666666664,
          -17.33,
          -15.183333333333334,
          -12.325845070422535,
          -11.840652173913043,
          -11.74,
          -10.161538461538461,
          -10.123076923076923,
          -8.833513513513514,
          -7.875135135135135,
          -7.680000000000001,
          -7.597857142857142,
          -7.027222222222222,
          -6.466666666666665,
          -5.835737704918033,
          -4.915555555555556,
          -4.425833333333333,
          -3.9816,
          -2.624054054054054,
          -1.7461111111111114,
          -1.2956097560975617,
          -1.0583561643835617,
          -0.2926666666666667,
          0.06933333333333418,
          0.7990666666666665,
          0.8680555555555554,
          0.883048780487805,
          3.286,
          3.570769230769232,
          4.821111111111112,
          6.828333333333333,
          9.196,
          10.619574468085107,
          11.539333333333333,
          12.718461538461536,
          13.334242424242426,
          14.1585,
          48.324999999999996
         ],
         "xaxis": "x",
         "y": [
          3.5933333333333333,
          3.3266666666666667,
          3.218928571428571,
          4.07,
          4.405,
          2.79,
          3.0077777777777777,
          3.7028873239436617,
          3.0684782608695653,
          3.8623076923076924,
          3.4814102564102565,
          3.2327692307692306,
          3.918108108108108,
          3.625810810810811,
          3.6814285714285715,
          3.7135714285714285,
          3.966111111111111,
          3.45,
          3.6578688524590164,
          3.709111111111111,
          4.013333333333333,
          4.3736,
          4.822162162162162,
          3.5677777777777777,
          6.637317073170731,
          4.162465753424658,
          3.6593333333333335,
          4.1193333333333335,
          3.666,
          3.8968055555555554,
          3.6513414634146346,
          4.287714285714285,
          4.299230769230769,
          3.696666666666667,
          4.558333333333333,
          4.601999999999999,
          4.091063829787234,
          5.053333333333333,
          4.026923076923077,
          6.046666666666667,
          4.0645,
          7.201874999999999
         ],
         "yaxis": "y"
        },
        {
         "customdata": [
          [
           "다각화된통신서비스"
          ],
          [
           "복합기업"
          ],
          [
           "전자제품"
          ],
          [
           "은행"
          ],
          [
           "음료"
          ],
          [
           "백화점과일반상점"
          ],
          [
           "무선통신서비스"
          ],
          [
           "포장재"
          ],
          [
           "종이와목재"
          ],
          [
           "철강"
          ],
          [
           "증권"
          ],
          [
           "섬유,의류,신발,호화품"
          ],
          [
           "해운사"
          ],
          [
           "다각화된소비자서비스"
          ],
          [
           "가정용품"
          ],
          [
           "창업투자"
          ],
          [
           "기타금융"
          ],
          [
           "디스플레이패널"
          ],
          [
           "전문소매"
          ],
          [
           "상업서비스와공급품"
          ],
          [
           "가구"
          ],
          [
           "호텔,레스토랑,레저"
          ],
          [
           "식품과기본식료품소매"
          ],
          [
           "도로와철도운송"
          ],
          [
           "손해보험"
          ],
          [
           "운송인프라"
          ],
          [
           "항공화물운송과물류"
          ]
         ],
         "hovertemplate": "Color=Below<br>평균 수익률=%{x}<br>평균 변동성=%{y}<br>Sector=%{customdata[0]}<extra></extra>",
         "legendgroup": "Below",
         "marker": {
          "color": "#EF553B",
          "symbol": "circle"
         },
         "mode": "markers",
         "name": "Below",
         "orientation": "v",
         "showlegend": true,
         "type": "scatter",
         "x": [
          -19.58,
          -19.06,
          -12.529285714285715,
          -11.16,
          -7.416666666666667,
          -6.95,
          -6.54,
          -5.358,
          -5.315,
          -5.272105263157894,
          -4.6525,
          -4.5871875,
          -3.9800000000000004,
          -3.75,
          -3.35,
          -2.6731092436974793,
          -2.4275,
          0.38,
          0.4875,
          0.5809523809523809,
          0.7760000000000005,
          0.9711111111111111,
          1.148,
          2.5500000000000003,
          13.43,
          17.979999999999997,
          36.504999999999995
         ],
         "xaxis": "x",
         "y": [
          1.58,
          1.87,
          2.867142857142857,
          2.35,
          2.42,
          1.93,
          1.92,
          1.908,
          1.785,
          2.7821052631578946,
          1.83,
          3.2715625,
          2.02,
          1.2,
          2.17,
          1.1541176470588235,
          2.3575,
          0.69,
          2.005,
          2.632857142857143,
          2.734,
          3.0700000000000003,
          3.2399999999999998,
          1.3,
          3.2,
          3.2699999999999996,
          4.785
         ],
         "yaxis": "y"
        },
        {
         "line": {
          "color": "black",
          "dash": "dash"
         },
         "mode": "lines",
         "name": "회귀선(해당 시장의 수익률 대비 평균 변동성)",
         "type": "scatter",
         "x": [
          -28.923333333333332,
          -26.276666666666667,
          -24.634821428571428,
          -23.84,
          -19.866666666666664,
          -19.58,
          -19.06,
          -17.33,
          -15.183333333333334,
          -12.529285714285715,
          -12.325845070422535,
          -11.840652173913043,
          -11.74,
          -11.16,
          -10.161538461538461,
          -10.123076923076923,
          -8.833513513513514,
          -7.875135135135135,
          -7.680000000000001,
          -7.597857142857142,
          -7.416666666666667,
          -7.027222222222222,
          -6.95,
          -6.54,
          -6.466666666666665,
          -5.835737704918033,
          -5.358,
          -5.315,
          -5.272105263157894,
          -4.915555555555556,
          -4.6525,
          -4.5871875,
          -4.425833333333333,
          -3.9816,
          -3.9800000000000004,
          -3.75,
          -3.35,
          -2.6731092436974793,
          -2.624054054054054,
          -2.4275,
          -1.7461111111111114,
          -1.2956097560975617,
          -1.0583561643835617,
          -0.2926666666666667,
          0.06933333333333418,
          0.38,
          0.4875,
          0.5809523809523809,
          0.7760000000000005,
          0.7990666666666665,
          0.8680555555555554,
          0.883048780487805,
          0.9711111111111111,
          1.148,
          2.5500000000000003,
          3.286,
          3.570769230769232,
          4.821111111111112,
          6.828333333333333,
          9.196,
          10.619574468085107,
          11.539333333333333,
          12.718461538461536,
          13.334242424242426,
          13.43,
          14.1585,
          17.979999999999997,
          36.504999999999995,
          48.324999999999996
         ],
         "y": [
          2.3189741051302257,
          2.425121331919748,
          2.490969185386269,
          2.522846297641588,
          2.6822008245094855,
          2.69369787930029,
          2.7145530019440756,
          2.7839363907397456,
          2.870030614987167,
          2.9764738622904057,
          2.984633053787516,
          3.0040922025617447,
          3.008128959160437,
          3.0313904421092746,
          3.0714347456471933,
          3.072977284304278,
          3.12469652096463,
          3.1631332490804627,
          3.170959339802299,
          3.1742537616485014,
          3.1815205878078054,
          3.1971396486767087,
          3.2002367235137665,
          3.21668018559829,
          3.2196212926377976,
          3.244925332785459,
          3.264085483607817,
          3.2658100418264375,
          3.2675303783603127,
          3.281830162746183,
          3.292380270194722,
          3.294999693651784,
          3.3014709646804743,
          3.319287389005713,
          3.319351558613848,
          3.328575939783214,
          3.3446183418168953,
          3.3717657259306137,
          3.3737331336158594,
          3.381616131507072,
          3.408943917749169,
          3.4270117273837823,
          3.4365270211393093,
          3.4672357680276633,
          3.481754141868145,
          3.49421374078097,
          3.498525136327522,
          3.502273137993129,
          3.5100957187943145,
          3.5110208306449233,
          3.5137876993734545,
          3.514389017728816,
          3.517920846008521,
          3.5250151526856377,
          3.5812437718136896,
          3.6107617915556625,
          3.6221827477727175,
          3.6723289655827003,
          3.752830630232269,
          3.847788281603299,
          3.904882166458061,
          3.9417700201839465,
          3.9890601419737446,
          4.013756653309628,
          4.017597107129812,
          4.046814331833653,
          4.2000794302629325,
          4.943043174447782,
          5.417096154543055
         ]
        }
       ],
       "layout": {
        "legend": {
         "title": {
          "text": "Color"
         },
         "tracegroupgap": 0
        },
        "template": {
         "data": {
          "bar": [
           {
            "error_x": {
             "color": "#2a3f5f"
            },
            "error_y": {
             "color": "#2a3f5f"
            },
            "marker": {
             "line": {
              "color": "white",
              "width": 0.5
             },
             "pattern": {
              "fillmode": "overlay",
              "size": 10,
              "solidity": 0.2
             }
            },
            "type": "bar"
           }
          ],
          "barpolar": [
           {
            "marker": {
             "line": {
              "color": "white",
              "width": 0.5
             },
             "pattern": {
              "fillmode": "overlay",
              "size": 10,
              "solidity": 0.2
             }
            },
            "type": "barpolar"
           }
          ],
          "carpet": [
           {
            "aaxis": {
             "endlinecolor": "#2a3f5f",
             "gridcolor": "#C8D4E3",
             "linecolor": "#C8D4E3",
             "minorgridcolor": "#C8D4E3",
             "startlinecolor": "#2a3f5f"
            },
            "baxis": {
             "endlinecolor": "#2a3f5f",
             "gridcolor": "#C8D4E3",
             "linecolor": "#C8D4E3",
             "minorgridcolor": "#C8D4E3",
             "startlinecolor": "#2a3f5f"
            },
            "type": "carpet"
           }
          ],
          "choropleth": [
           {
            "colorbar": {
             "outlinewidth": 0,
             "ticks": ""
            },
            "type": "choropleth"
           }
          ],
          "contour": [
           {
            "colorbar": {
             "outlinewidth": 0,
             "ticks": ""
            },
            "colorscale": [
             [
              0,
              "#0d0887"
             ],
             [
              0.1111111111111111,
              "#46039f"
             ],
             [
              0.2222222222222222,
              "#7201a8"
             ],
             [
              0.3333333333333333,
              "#9c179e"
             ],
             [
              0.4444444444444444,
              "#bd3786"
             ],
             [
              0.5555555555555556,
              "#d8576b"
             ],
             [
              0.6666666666666666,
              "#ed7953"
             ],
             [
              0.7777777777777778,
              "#fb9f3a"
             ],
             [
              0.8888888888888888,
              "#fdca26"
             ],
             [
              1,
              "#f0f921"
             ]
            ],
            "type": "contour"
           }
          ],
          "contourcarpet": [
           {
            "colorbar": {
             "outlinewidth": 0,
             "ticks": ""
            },
            "type": "contourcarpet"
           }
          ],
          "heatmap": [
           {
            "colorbar": {
             "outlinewidth": 0,
             "ticks": ""
            },
            "colorscale": [
             [
              0,
              "#0d0887"
             ],
             [
              0.1111111111111111,
              "#46039f"
             ],
             [
              0.2222222222222222,
              "#7201a8"
             ],
             [
              0.3333333333333333,
              "#9c179e"
             ],
             [
              0.4444444444444444,
              "#bd3786"
             ],
             [
              0.5555555555555556,
              "#d8576b"
             ],
             [
              0.6666666666666666,
              "#ed7953"
             ],
             [
              0.7777777777777778,
              "#fb9f3a"
             ],
             [
              0.8888888888888888,
              "#fdca26"
             ],
             [
              1,
              "#f0f921"
             ]
            ],
            "type": "heatmap"
           }
          ],
          "heatmapgl": [
           {
            "colorbar": {
             "outlinewidth": 0,
             "ticks": ""
            },
            "colorscale": [
             [
              0,
              "#0d0887"
             ],
             [
              0.1111111111111111,
              "#46039f"
             ],
             [
              0.2222222222222222,
              "#7201a8"
             ],
             [
              0.3333333333333333,
              "#9c179e"
             ],
             [
              0.4444444444444444,
              "#bd3786"
             ],
             [
              0.5555555555555556,
              "#d8576b"
             ],
             [
              0.6666666666666666,
              "#ed7953"
             ],
             [
              0.7777777777777778,
              "#fb9f3a"
             ],
             [
              0.8888888888888888,
              "#fdca26"
             ],
             [
              1,
              "#f0f921"
             ]
            ],
            "type": "heatmapgl"
           }
          ],
          "histogram": [
           {
            "marker": {
             "pattern": {
              "fillmode": "overlay",
              "size": 10,
              "solidity": 0.2
             }
            },
            "type": "histogram"
           }
          ],
          "histogram2d": [
           {
            "colorbar": {
             "outlinewidth": 0,
             "ticks": ""
            },
            "colorscale": [
             [
              0,
              "#0d0887"
             ],
             [
              0.1111111111111111,
              "#46039f"
             ],
             [
              0.2222222222222222,
              "#7201a8"
             ],
             [
              0.3333333333333333,
              "#9c179e"
             ],
             [
              0.4444444444444444,
              "#bd3786"
             ],
             [
              0.5555555555555556,
              "#d8576b"
             ],
             [
              0.6666666666666666,
              "#ed7953"
             ],
             [
              0.7777777777777778,
              "#fb9f3a"
             ],
             [
              0.8888888888888888,
              "#fdca26"
             ],
             [
              1,
              "#f0f921"
             ]
            ],
            "type": "histogram2d"
           }
          ],
          "histogram2dcontour": [
           {
            "colorbar": {
             "outlinewidth": 0,
             "ticks": ""
            },
            "colorscale": [
             [
              0,
              "#0d0887"
             ],
             [
              0.1111111111111111,
              "#46039f"
             ],
             [
              0.2222222222222222,
              "#7201a8"
             ],
             [
              0.3333333333333333,
              "#9c179e"
             ],
             [
              0.4444444444444444,
              "#bd3786"
             ],
             [
              0.5555555555555556,
              "#d8576b"
             ],
             [
              0.6666666666666666,
              "#ed7953"
             ],
             [
              0.7777777777777778,
              "#fb9f3a"
             ],
             [
              0.8888888888888888,
              "#fdca26"
             ],
             [
              1,
              "#f0f921"
             ]
            ],
            "type": "histogram2dcontour"
           }
          ],
          "mesh3d": [
           {
            "colorbar": {
             "outlinewidth": 0,
             "ticks": ""
            },
            "type": "mesh3d"
           }
          ],
          "parcoords": [
           {
            "line": {
             "colorbar": {
              "outlinewidth": 0,
              "ticks": ""
             }
            },
            "type": "parcoords"
           }
          ],
          "pie": [
           {
            "automargin": true,
            "type": "pie"
           }
          ],
          "scatter": [
           {
            "fillpattern": {
             "fillmode": "overlay",
             "size": 10,
             "solidity": 0.2
            },
            "type": "scatter"
           }
          ],
          "scatter3d": [
           {
            "line": {
             "colorbar": {
              "outlinewidth": 0,
              "ticks": ""
             }
            },
            "marker": {
             "colorbar": {
              "outlinewidth": 0,
              "ticks": ""
             }
            },
            "type": "scatter3d"
           }
          ],
          "scattercarpet": [
           {
            "marker": {
             "colorbar": {
              "outlinewidth": 0,
              "ticks": ""
             }
            },
            "type": "scattercarpet"
           }
          ],
          "scattergeo": [
           {
            "marker": {
             "colorbar": {
              "outlinewidth": 0,
              "ticks": ""
             }
            },
            "type": "scattergeo"
           }
          ],
          "scattergl": [
           {
            "marker": {
             "colorbar": {
              "outlinewidth": 0,
              "ticks": ""
             }
            },
            "type": "scattergl"
           }
          ],
          "scattermapbox": [
           {
            "marker": {
             "colorbar": {
              "outlinewidth": 0,
              "ticks": ""
             }
            },
            "type": "scattermapbox"
           }
          ],
          "scatterpolar": [
           {
            "marker": {
             "colorbar": {
              "outlinewidth": 0,
              "ticks": ""
             }
            },
            "type": "scatterpolar"
           }
          ],
          "scatterpolargl": [
           {
            "marker": {
             "colorbar": {
              "outlinewidth": 0,
              "ticks": ""
             }
            },
            "type": "scatterpolargl"
           }
          ],
          "scatterternary": [
           {
            "marker": {
             "colorbar": {
              "outlinewidth": 0,
              "ticks": ""
             }
            },
            "type": "scatterternary"
           }
          ],
          "surface": [
           {
            "colorbar": {
             "outlinewidth": 0,
             "ticks": ""
            },
            "colorscale": [
             [
              0,
              "#0d0887"
             ],
             [
              0.1111111111111111,
              "#46039f"
             ],
             [
              0.2222222222222222,
              "#7201a8"
             ],
             [
              0.3333333333333333,
              "#9c179e"
             ],
             [
              0.4444444444444444,
              "#bd3786"
             ],
             [
              0.5555555555555556,
              "#d8576b"
             ],
             [
              0.6666666666666666,
              "#ed7953"
             ],
             [
              0.7777777777777778,
              "#fb9f3a"
             ],
             [
              0.8888888888888888,
              "#fdca26"
             ],
             [
              1,
              "#f0f921"
             ]
            ],
            "type": "surface"
           }
          ],
          "table": [
           {
            "cells": {
             "fill": {
              "color": "#EBF0F8"
             },
             "line": {
              "color": "white"
             }
            },
            "header": {
             "fill": {
              "color": "#C8D4E3"
             },
             "line": {
              "color": "white"
             }
            },
            "type": "table"
           }
          ]
         },
         "layout": {
          "annotationdefaults": {
           "arrowcolor": "#2a3f5f",
           "arrowhead": 0,
           "arrowwidth": 1
          },
          "autotypenumbers": "strict",
          "coloraxis": {
           "colorbar": {
            "outlinewidth": 0,
            "ticks": ""
           }
          },
          "colorscale": {
           "diverging": [
            [
             0,
             "#8e0152"
            ],
            [
             0.1,
             "#c51b7d"
            ],
            [
             0.2,
             "#de77ae"
            ],
            [
             0.3,
             "#f1b6da"
            ],
            [
             0.4,
             "#fde0ef"
            ],
            [
             0.5,
             "#f7f7f7"
            ],
            [
             0.6,
             "#e6f5d0"
            ],
            [
             0.7,
             "#b8e186"
            ],
            [
             0.8,
             "#7fbc41"
            ],
            [
             0.9,
             "#4d9221"
            ],
            [
             1,
             "#276419"
            ]
           ],
           "sequential": [
            [
             0,
             "#0d0887"
            ],
            [
             0.1111111111111111,
             "#46039f"
            ],
            [
             0.2222222222222222,
             "#7201a8"
            ],
            [
             0.3333333333333333,
             "#9c179e"
            ],
            [
             0.4444444444444444,
             "#bd3786"
            ],
            [
             0.5555555555555556,
             "#d8576b"
            ],
            [
             0.6666666666666666,
             "#ed7953"
            ],
            [
             0.7777777777777778,
             "#fb9f3a"
            ],
            [
             0.8888888888888888,
             "#fdca26"
            ],
            [
             1,
             "#f0f921"
            ]
           ],
           "sequentialminus": [
            [
             0,
             "#0d0887"
            ],
            [
             0.1111111111111111,
             "#46039f"
            ],
            [
             0.2222222222222222,
             "#7201a8"
            ],
            [
             0.3333333333333333,
             "#9c179e"
            ],
            [
             0.4444444444444444,
             "#bd3786"
            ],
            [
             0.5555555555555556,
             "#d8576b"
            ],
            [
             0.6666666666666666,
             "#ed7953"
            ],
            [
             0.7777777777777778,
             "#fb9f3a"
            ],
            [
             0.8888888888888888,
             "#fdca26"
            ],
            [
             1,
             "#f0f921"
            ]
           ]
          },
          "colorway": [
           "#636efa",
           "#EF553B",
           "#00cc96",
           "#ab63fa",
           "#FFA15A",
           "#19d3f3",
           "#FF6692",
           "#B6E880",
           "#FF97FF",
           "#FECB52"
          ],
          "font": {
           "color": "#2a3f5f"
          },
          "geo": {
           "bgcolor": "white",
           "lakecolor": "white",
           "landcolor": "white",
           "showlakes": true,
           "showland": true,
           "subunitcolor": "#C8D4E3"
          },
          "hoverlabel": {
           "align": "left"
          },
          "hovermode": "closest",
          "mapbox": {
           "style": "light"
          },
          "paper_bgcolor": "white",
          "plot_bgcolor": "white",
          "polar": {
           "angularaxis": {
            "gridcolor": "#EBF0F8",
            "linecolor": "#EBF0F8",
            "ticks": ""
           },
           "bgcolor": "white",
           "radialaxis": {
            "gridcolor": "#EBF0F8",
            "linecolor": "#EBF0F8",
            "ticks": ""
           }
          },
          "scene": {
           "xaxis": {
            "backgroundcolor": "white",
            "gridcolor": "#DFE8F3",
            "gridwidth": 2,
            "linecolor": "#EBF0F8",
            "showbackground": true,
            "ticks": "",
            "zerolinecolor": "#EBF0F8"
           },
           "yaxis": {
            "backgroundcolor": "white",
            "gridcolor": "#DFE8F3",
            "gridwidth": 2,
            "linecolor": "#EBF0F8",
            "showbackground": true,
            "ticks": "",
            "zerolinecolor": "#EBF0F8"
           },
           "zaxis": {
            "backgroundcolor": "white",
            "gridcolor": "#DFE8F3",
            "gridwidth": 2,
            "linecolor": "#EBF0F8",
            "showbackground": true,
            "ticks": "",
            "zerolinecolor": "#EBF0F8"
           }
          },
          "shapedefaults": {
           "line": {
            "color": "#2a3f5f"
           }
          },
          "ternary": {
           "aaxis": {
            "gridcolor": "#DFE8F3",
            "linecolor": "#A2B1C6",
            "ticks": ""
           },
           "baxis": {
            "gridcolor": "#DFE8F3",
            "linecolor": "#A2B1C6",
            "ticks": ""
           },
           "bgcolor": "white",
           "caxis": {
            "gridcolor": "#DFE8F3",
            "linecolor": "#A2B1C6",
            "ticks": ""
           }
          },
          "title": {
           "x": 0.05
          },
          "xaxis": {
           "automargin": true,
           "gridcolor": "#EBF0F8",
           "linecolor": "#EBF0F8",
           "ticks": "",
           "title": {
            "standoff": 15
           },
           "zerolinecolor": "#EBF0F8",
           "zerolinewidth": 2
          },
          "yaxis": {
           "automargin": true,
           "gridcolor": "#EBF0F8",
           "linecolor": "#EBF0F8",
           "ticks": "",
           "title": {
            "standoff": 15
           },
           "zerolinecolor": "#EBF0F8",
           "zerolinewidth": 2
          }
         }
        },
        "title": {
         "font": {
          "color": "black",
          "family": "Arial",
          "size": 20
         },
         "text": "업종별 수익률 대비 변동성 지수",
         "x": 0.5
        },
        "xaxis": {
         "anchor": "y",
         "domain": [
          0,
          1
         ],
         "title": {
          "text": "평균 수익률"
         }
        },
        "yaxis": {
         "anchor": "x",
         "domain": [
          0,
          1
         ],
         "title": {
          "text": "평균 변동성"
         }
        }
       }
      }
     },
     "metadata": {},
     "output_type": "display_data"
    },
    {
     "data": {
      "text/html": [
       "<div>\n",
       "<style scoped>\n",
       "    .dataframe tbody tr th:only-of-type {\n",
       "        vertical-align: middle;\n",
       "    }\n",
       "\n",
       "    .dataframe tbody tr th {\n",
       "        vertical-align: top;\n",
       "    }\n",
       "\n",
       "    .dataframe thead th {\n",
       "        text-align: right;\n",
       "    }\n",
       "</style>\n",
       "<table border=\"1\" class=\"dataframe\">\n",
       "  <thead>\n",
       "    <tr style=\"text-align: right;\">\n",
       "      <th></th>\n",
       "      <th>Sector</th>\n",
       "      <th>TotalReturn</th>\n",
       "      <th>Volatility</th>\n",
       "      <th>Color</th>\n",
       "    </tr>\n",
       "  </thead>\n",
       "  <tbody>\n",
       "    <tr>\n",
       "      <th>63</th>\n",
       "      <td>항공화물운송과물류</td>\n",
       "      <td>36.505000</td>\n",
       "      <td>4.785000</td>\n",
       "      <td>Below</td>\n",
       "    </tr>\n",
       "    <tr>\n",
       "      <th>40</th>\n",
       "      <td>운송인프라</td>\n",
       "      <td>17.980000</td>\n",
       "      <td>3.270000</td>\n",
       "      <td>Below</td>\n",
       "    </tr>\n",
       "    <tr>\n",
       "      <th>34</th>\n",
       "      <td>손해보험</td>\n",
       "      <td>13.430000</td>\n",
       "      <td>3.200000</td>\n",
       "      <td>Below</td>\n",
       "    </tr>\n",
       "    <tr>\n",
       "      <th>18</th>\n",
       "      <td>도로와철도운송</td>\n",
       "      <td>2.550000</td>\n",
       "      <td>1.300000</td>\n",
       "      <td>Below</td>\n",
       "    </tr>\n",
       "    <tr>\n",
       "      <th>36</th>\n",
       "      <td>식품과기본식료품소매</td>\n",
       "      <td>1.148000</td>\n",
       "      <td>3.240000</td>\n",
       "      <td>Below</td>\n",
       "    </tr>\n",
       "    <tr>\n",
       "      <th>66</th>\n",
       "      <td>호텔,레스토랑,레저</td>\n",
       "      <td>0.971111</td>\n",
       "      <td>3.070000</td>\n",
       "      <td>Below</td>\n",
       "    </tr>\n",
       "    <tr>\n",
       "      <th>1</th>\n",
       "      <td>가구</td>\n",
       "      <td>0.776000</td>\n",
       "      <td>2.734000</td>\n",
       "      <td>Below</td>\n",
       "    </tr>\n",
       "    <tr>\n",
       "      <th>28</th>\n",
       "      <td>상업서비스와공급품</td>\n",
       "      <td>0.580952</td>\n",
       "      <td>2.632857</td>\n",
       "      <td>Below</td>\n",
       "    </tr>\n",
       "    <tr>\n",
       "      <th>49</th>\n",
       "      <td>전문소매</td>\n",
       "      <td>0.487500</td>\n",
       "      <td>2.005000</td>\n",
       "      <td>Below</td>\n",
       "    </tr>\n",
       "    <tr>\n",
       "      <th>20</th>\n",
       "      <td>디스플레이패널</td>\n",
       "      <td>0.380000</td>\n",
       "      <td>0.690000</td>\n",
       "      <td>Below</td>\n",
       "    </tr>\n",
       "    <tr>\n",
       "      <th>15</th>\n",
       "      <td>기타금융</td>\n",
       "      <td>-2.427500</td>\n",
       "      <td>2.357500</td>\n",
       "      <td>Below</td>\n",
       "    </tr>\n",
       "    <tr>\n",
       "      <th>56</th>\n",
       "      <td>창업투자</td>\n",
       "      <td>-2.673109</td>\n",
       "      <td>1.154118</td>\n",
       "      <td>Below</td>\n",
       "    </tr>\n",
       "    <tr>\n",
       "      <th>4</th>\n",
       "      <td>가정용품</td>\n",
       "      <td>-3.350000</td>\n",
       "      <td>2.170000</td>\n",
       "      <td>Below</td>\n",
       "    </tr>\n",
       "    <tr>\n",
       "      <th>16</th>\n",
       "      <td>다각화된소비자서비스</td>\n",
       "      <td>-3.750000</td>\n",
       "      <td>1.200000</td>\n",
       "      <td>Below</td>\n",
       "    </tr>\n",
       "    <tr>\n",
       "      <th>64</th>\n",
       "      <td>해운사</td>\n",
       "      <td>-3.980000</td>\n",
       "      <td>2.020000</td>\n",
       "      <td>Below</td>\n",
       "    </tr>\n",
       "    <tr>\n",
       "      <th>32</th>\n",
       "      <td>섬유,의류,신발,호화품</td>\n",
       "      <td>-4.587187</td>\n",
       "      <td>3.271562</td>\n",
       "      <td>Below</td>\n",
       "    </tr>\n",
       "    <tr>\n",
       "      <th>55</th>\n",
       "      <td>증권</td>\n",
       "      <td>-4.652500</td>\n",
       "      <td>1.830000</td>\n",
       "      <td>Below</td>\n",
       "    </tr>\n",
       "    <tr>\n",
       "      <th>57</th>\n",
       "      <td>철강</td>\n",
       "      <td>-5.272105</td>\n",
       "      <td>2.782105</td>\n",
       "      <td>Below</td>\n",
       "    </tr>\n",
       "    <tr>\n",
       "      <th>54</th>\n",
       "      <td>종이와목재</td>\n",
       "      <td>-5.315000</td>\n",
       "      <td>1.785000</td>\n",
       "      <td>Below</td>\n",
       "    </tr>\n",
       "    <tr>\n",
       "      <th>62</th>\n",
       "      <td>포장재</td>\n",
       "      <td>-5.358000</td>\n",
       "      <td>1.908000</td>\n",
       "      <td>Below</td>\n",
       "    </tr>\n",
       "    <tr>\n",
       "      <th>22</th>\n",
       "      <td>무선통신서비스</td>\n",
       "      <td>-6.540000</td>\n",
       "      <td>1.920000</td>\n",
       "      <td>Below</td>\n",
       "    </tr>\n",
       "    <tr>\n",
       "      <th>25</th>\n",
       "      <td>백화점과일반상점</td>\n",
       "      <td>-6.950000</td>\n",
       "      <td>1.930000</td>\n",
       "      <td>Below</td>\n",
       "    </tr>\n",
       "    <tr>\n",
       "      <th>42</th>\n",
       "      <td>음료</td>\n",
       "      <td>-7.416667</td>\n",
       "      <td>2.420000</td>\n",
       "      <td>Below</td>\n",
       "    </tr>\n",
       "    <tr>\n",
       "      <th>41</th>\n",
       "      <td>은행</td>\n",
       "      <td>-11.160000</td>\n",
       "      <td>2.350000</td>\n",
       "      <td>Below</td>\n",
       "    </tr>\n",
       "    <tr>\n",
       "      <th>51</th>\n",
       "      <td>전자제품</td>\n",
       "      <td>-12.529286</td>\n",
       "      <td>2.867143</td>\n",
       "      <td>Below</td>\n",
       "    </tr>\n",
       "    <tr>\n",
       "      <th>26</th>\n",
       "      <td>복합기업</td>\n",
       "      <td>-19.060000</td>\n",
       "      <td>1.870000</td>\n",
       "      <td>Below</td>\n",
       "    </tr>\n",
       "    <tr>\n",
       "      <th>17</th>\n",
       "      <td>다각화된통신서비스</td>\n",
       "      <td>-19.580000</td>\n",
       "      <td>1.580000</td>\n",
       "      <td>Below</td>\n",
       "    </tr>\n",
       "  </tbody>\n",
       "</table>\n",
       "</div>"
      ],
      "text/plain": [
       "          Sector  TotalReturn  Volatility  Color\n",
       "63     항공화물운송과물류    36.505000    4.785000  Below\n",
       "40         운송인프라    17.980000    3.270000  Below\n",
       "34          손해보험    13.430000    3.200000  Below\n",
       "18       도로와철도운송     2.550000    1.300000  Below\n",
       "36    식품과기본식료품소매     1.148000    3.240000  Below\n",
       "66    호텔,레스토랑,레저     0.971111    3.070000  Below\n",
       "1             가구     0.776000    2.734000  Below\n",
       "28     상업서비스와공급품     0.580952    2.632857  Below\n",
       "49          전문소매     0.487500    2.005000  Below\n",
       "20       디스플레이패널     0.380000    0.690000  Below\n",
       "15          기타금융    -2.427500    2.357500  Below\n",
       "56          창업투자    -2.673109    1.154118  Below\n",
       "4           가정용품    -3.350000    2.170000  Below\n",
       "16    다각화된소비자서비스    -3.750000    1.200000  Below\n",
       "64           해운사    -3.980000    2.020000  Below\n",
       "32  섬유,의류,신발,호화품    -4.587187    3.271562  Below\n",
       "55            증권    -4.652500    1.830000  Below\n",
       "57            철강    -5.272105    2.782105  Below\n",
       "54         종이와목재    -5.315000    1.785000  Below\n",
       "62           포장재    -5.358000    1.908000  Below\n",
       "22       무선통신서비스    -6.540000    1.920000  Below\n",
       "25      백화점과일반상점    -6.950000    1.930000  Below\n",
       "42            음료    -7.416667    2.420000  Below\n",
       "41            은행   -11.160000    2.350000  Below\n",
       "51          전자제품   -12.529286    2.867143  Below\n",
       "26          복합기업   -19.060000    1.870000  Below\n",
       "17     다각화된통신서비스   -19.580000    1.580000  Below"
      ]
     },
     "metadata": {},
     "output_type": "display_data"
    }
   ],
   "source": [
    "analyze_sector_return_volatility('KOSDAQ')"
   ]
  },
  {
   "cell_type": "code",
   "execution_count": 10,
   "metadata": {},
   "outputs": [
    {
     "name": "stdout",
     "output_type": "stream",
     "text": [
      "3개월 간의 data를 불러옵니다.\n"
     ]
    },
    {
     "data": {
      "application/vnd.plotly.v1+json": {
       "config": {
        "plotlyServerURL": "https://plot.ly"
       },
       "data": [
        {
         "customdata": [
          [
           "국내 시장지수"
          ],
          [
           "채권"
          ],
          [
           "기타"
          ]
         ],
         "hovertemplate": "Color=Below<br>평균 수익률=%{x}<br>평균 변동성=%{y}<br>Sector=%{customdata[0]}<extra></extra>",
         "legendgroup": "Below",
         "marker": {
          "color": "#636efa",
          "symbol": "circle"
         },
         "mode": "markers",
         "name": "Below",
         "orientation": "v",
         "showlegend": true,
         "type": "scatter",
         "x": [
          -6.233522727272727,
          1.5732298136645961,
          2.688227848101266
         ],
         "xaxis": "x",
         "y": [
          1.2829545454545455,
          0.3029813664596273,
          0.6679746835443038
         ],
         "yaxis": "y"
        },
        {
         "customdata": [
          [
           "국내 업종/테마"
          ],
          [
           "국내파생"
          ],
          [
           "원자재"
          ],
          [
           "해외주식"
          ]
         ],
         "hovertemplate": "Color=Above<br>평균 수익률=%{x}<br>평균 변동성=%{y}<br>Sector=%{customdata[0]}<extra></extra>",
         "legendgroup": "Above",
         "marker": {
          "color": "#EF553B",
          "symbol": "circle"
         },
         "mode": "markers",
         "name": "Above",
         "orientation": "v",
         "showlegend": true,
         "type": "scatter",
         "x": [
          -5.71008064516129,
          -2.642,
          -2.312777777777778,
          6.364915254237289
         ],
         "xaxis": "x",
         "y": [
          1.7729032258064517,
          2.11475,
          1.375,
          1.4779322033898306
         ],
         "yaxis": "y"
        },
        {
         "line": {
          "color": "black",
          "dash": "dash"
         },
         "mode": "lines",
         "name": "회귀선(해당 시장의 수익률 대비 평균 변동성)",
         "type": "scatter",
         "x": [
          -6.233522727272727,
          -5.71008064516129,
          -2.642,
          -2.312777777777778,
          1.5732298136645961,
          2.688227848101266,
          6.364915254237289
         ],
         "y": [
          1.5821707061883452,
          1.5530205964059982,
          1.3821614112468925,
          1.3638272645503668,
          1.1474183211795064,
          1.0853248896009375,
          0.8805728354827115
         ]
        }
       ],
       "layout": {
        "legend": {
         "title": {
          "text": "Color"
         },
         "tracegroupgap": 0
        },
        "template": {
         "data": {
          "bar": [
           {
            "error_x": {
             "color": "#2a3f5f"
            },
            "error_y": {
             "color": "#2a3f5f"
            },
            "marker": {
             "line": {
              "color": "white",
              "width": 0.5
             },
             "pattern": {
              "fillmode": "overlay",
              "size": 10,
              "solidity": 0.2
             }
            },
            "type": "bar"
           }
          ],
          "barpolar": [
           {
            "marker": {
             "line": {
              "color": "white",
              "width": 0.5
             },
             "pattern": {
              "fillmode": "overlay",
              "size": 10,
              "solidity": 0.2
             }
            },
            "type": "barpolar"
           }
          ],
          "carpet": [
           {
            "aaxis": {
             "endlinecolor": "#2a3f5f",
             "gridcolor": "#C8D4E3",
             "linecolor": "#C8D4E3",
             "minorgridcolor": "#C8D4E3",
             "startlinecolor": "#2a3f5f"
            },
            "baxis": {
             "endlinecolor": "#2a3f5f",
             "gridcolor": "#C8D4E3",
             "linecolor": "#C8D4E3",
             "minorgridcolor": "#C8D4E3",
             "startlinecolor": "#2a3f5f"
            },
            "type": "carpet"
           }
          ],
          "choropleth": [
           {
            "colorbar": {
             "outlinewidth": 0,
             "ticks": ""
            },
            "type": "choropleth"
           }
          ],
          "contour": [
           {
            "colorbar": {
             "outlinewidth": 0,
             "ticks": ""
            },
            "colorscale": [
             [
              0,
              "#0d0887"
             ],
             [
              0.1111111111111111,
              "#46039f"
             ],
             [
              0.2222222222222222,
              "#7201a8"
             ],
             [
              0.3333333333333333,
              "#9c179e"
             ],
             [
              0.4444444444444444,
              "#bd3786"
             ],
             [
              0.5555555555555556,
              "#d8576b"
             ],
             [
              0.6666666666666666,
              "#ed7953"
             ],
             [
              0.7777777777777778,
              "#fb9f3a"
             ],
             [
              0.8888888888888888,
              "#fdca26"
             ],
             [
              1,
              "#f0f921"
             ]
            ],
            "type": "contour"
           }
          ],
          "contourcarpet": [
           {
            "colorbar": {
             "outlinewidth": 0,
             "ticks": ""
            },
            "type": "contourcarpet"
           }
          ],
          "heatmap": [
           {
            "colorbar": {
             "outlinewidth": 0,
             "ticks": ""
            },
            "colorscale": [
             [
              0,
              "#0d0887"
             ],
             [
              0.1111111111111111,
              "#46039f"
             ],
             [
              0.2222222222222222,
              "#7201a8"
             ],
             [
              0.3333333333333333,
              "#9c179e"
             ],
             [
              0.4444444444444444,
              "#bd3786"
             ],
             [
              0.5555555555555556,
              "#d8576b"
             ],
             [
              0.6666666666666666,
              "#ed7953"
             ],
             [
              0.7777777777777778,
              "#fb9f3a"
             ],
             [
              0.8888888888888888,
              "#fdca26"
             ],
             [
              1,
              "#f0f921"
             ]
            ],
            "type": "heatmap"
           }
          ],
          "heatmapgl": [
           {
            "colorbar": {
             "outlinewidth": 0,
             "ticks": ""
            },
            "colorscale": [
             [
              0,
              "#0d0887"
             ],
             [
              0.1111111111111111,
              "#46039f"
             ],
             [
              0.2222222222222222,
              "#7201a8"
             ],
             [
              0.3333333333333333,
              "#9c179e"
             ],
             [
              0.4444444444444444,
              "#bd3786"
             ],
             [
              0.5555555555555556,
              "#d8576b"
             ],
             [
              0.6666666666666666,
              "#ed7953"
             ],
             [
              0.7777777777777778,
              "#fb9f3a"
             ],
             [
              0.8888888888888888,
              "#fdca26"
             ],
             [
              1,
              "#f0f921"
             ]
            ],
            "type": "heatmapgl"
           }
          ],
          "histogram": [
           {
            "marker": {
             "pattern": {
              "fillmode": "overlay",
              "size": 10,
              "solidity": 0.2
             }
            },
            "type": "histogram"
           }
          ],
          "histogram2d": [
           {
            "colorbar": {
             "outlinewidth": 0,
             "ticks": ""
            },
            "colorscale": [
             [
              0,
              "#0d0887"
             ],
             [
              0.1111111111111111,
              "#46039f"
             ],
             [
              0.2222222222222222,
              "#7201a8"
             ],
             [
              0.3333333333333333,
              "#9c179e"
             ],
             [
              0.4444444444444444,
              "#bd3786"
             ],
             [
              0.5555555555555556,
              "#d8576b"
             ],
             [
              0.6666666666666666,
              "#ed7953"
             ],
             [
              0.7777777777777778,
              "#fb9f3a"
             ],
             [
              0.8888888888888888,
              "#fdca26"
             ],
             [
              1,
              "#f0f921"
             ]
            ],
            "type": "histogram2d"
           }
          ],
          "histogram2dcontour": [
           {
            "colorbar": {
             "outlinewidth": 0,
             "ticks": ""
            },
            "colorscale": [
             [
              0,
              "#0d0887"
             ],
             [
              0.1111111111111111,
              "#46039f"
             ],
             [
              0.2222222222222222,
              "#7201a8"
             ],
             [
              0.3333333333333333,
              "#9c179e"
             ],
             [
              0.4444444444444444,
              "#bd3786"
             ],
             [
              0.5555555555555556,
              "#d8576b"
             ],
             [
              0.6666666666666666,
              "#ed7953"
             ],
             [
              0.7777777777777778,
              "#fb9f3a"
             ],
             [
              0.8888888888888888,
              "#fdca26"
             ],
             [
              1,
              "#f0f921"
             ]
            ],
            "type": "histogram2dcontour"
           }
          ],
          "mesh3d": [
           {
            "colorbar": {
             "outlinewidth": 0,
             "ticks": ""
            },
            "type": "mesh3d"
           }
          ],
          "parcoords": [
           {
            "line": {
             "colorbar": {
              "outlinewidth": 0,
              "ticks": ""
             }
            },
            "type": "parcoords"
           }
          ],
          "pie": [
           {
            "automargin": true,
            "type": "pie"
           }
          ],
          "scatter": [
           {
            "fillpattern": {
             "fillmode": "overlay",
             "size": 10,
             "solidity": 0.2
            },
            "type": "scatter"
           }
          ],
          "scatter3d": [
           {
            "line": {
             "colorbar": {
              "outlinewidth": 0,
              "ticks": ""
             }
            },
            "marker": {
             "colorbar": {
              "outlinewidth": 0,
              "ticks": ""
             }
            },
            "type": "scatter3d"
           }
          ],
          "scattercarpet": [
           {
            "marker": {
             "colorbar": {
              "outlinewidth": 0,
              "ticks": ""
             }
            },
            "type": "scattercarpet"
           }
          ],
          "scattergeo": [
           {
            "marker": {
             "colorbar": {
              "outlinewidth": 0,
              "ticks": ""
             }
            },
            "type": "scattergeo"
           }
          ],
          "scattergl": [
           {
            "marker": {
             "colorbar": {
              "outlinewidth": 0,
              "ticks": ""
             }
            },
            "type": "scattergl"
           }
          ],
          "scattermapbox": [
           {
            "marker": {
             "colorbar": {
              "outlinewidth": 0,
              "ticks": ""
             }
            },
            "type": "scattermapbox"
           }
          ],
          "scatterpolar": [
           {
            "marker": {
             "colorbar": {
              "outlinewidth": 0,
              "ticks": ""
             }
            },
            "type": "scatterpolar"
           }
          ],
          "scatterpolargl": [
           {
            "marker": {
             "colorbar": {
              "outlinewidth": 0,
              "ticks": ""
             }
            },
            "type": "scatterpolargl"
           }
          ],
          "scatterternary": [
           {
            "marker": {
             "colorbar": {
              "outlinewidth": 0,
              "ticks": ""
             }
            },
            "type": "scatterternary"
           }
          ],
          "surface": [
           {
            "colorbar": {
             "outlinewidth": 0,
             "ticks": ""
            },
            "colorscale": [
             [
              0,
              "#0d0887"
             ],
             [
              0.1111111111111111,
              "#46039f"
             ],
             [
              0.2222222222222222,
              "#7201a8"
             ],
             [
              0.3333333333333333,
              "#9c179e"
             ],
             [
              0.4444444444444444,
              "#bd3786"
             ],
             [
              0.5555555555555556,
              "#d8576b"
             ],
             [
              0.6666666666666666,
              "#ed7953"
             ],
             [
              0.7777777777777778,
              "#fb9f3a"
             ],
             [
              0.8888888888888888,
              "#fdca26"
             ],
             [
              1,
              "#f0f921"
             ]
            ],
            "type": "surface"
           }
          ],
          "table": [
           {
            "cells": {
             "fill": {
              "color": "#EBF0F8"
             },
             "line": {
              "color": "white"
             }
            },
            "header": {
             "fill": {
              "color": "#C8D4E3"
             },
             "line": {
              "color": "white"
             }
            },
            "type": "table"
           }
          ]
         },
         "layout": {
          "annotationdefaults": {
           "arrowcolor": "#2a3f5f",
           "arrowhead": 0,
           "arrowwidth": 1
          },
          "autotypenumbers": "strict",
          "coloraxis": {
           "colorbar": {
            "outlinewidth": 0,
            "ticks": ""
           }
          },
          "colorscale": {
           "diverging": [
            [
             0,
             "#8e0152"
            ],
            [
             0.1,
             "#c51b7d"
            ],
            [
             0.2,
             "#de77ae"
            ],
            [
             0.3,
             "#f1b6da"
            ],
            [
             0.4,
             "#fde0ef"
            ],
            [
             0.5,
             "#f7f7f7"
            ],
            [
             0.6,
             "#e6f5d0"
            ],
            [
             0.7,
             "#b8e186"
            ],
            [
             0.8,
             "#7fbc41"
            ],
            [
             0.9,
             "#4d9221"
            ],
            [
             1,
             "#276419"
            ]
           ],
           "sequential": [
            [
             0,
             "#0d0887"
            ],
            [
             0.1111111111111111,
             "#46039f"
            ],
            [
             0.2222222222222222,
             "#7201a8"
            ],
            [
             0.3333333333333333,
             "#9c179e"
            ],
            [
             0.4444444444444444,
             "#bd3786"
            ],
            [
             0.5555555555555556,
             "#d8576b"
            ],
            [
             0.6666666666666666,
             "#ed7953"
            ],
            [
             0.7777777777777778,
             "#fb9f3a"
            ],
            [
             0.8888888888888888,
             "#fdca26"
            ],
            [
             1,
             "#f0f921"
            ]
           ],
           "sequentialminus": [
            [
             0,
             "#0d0887"
            ],
            [
             0.1111111111111111,
             "#46039f"
            ],
            [
             0.2222222222222222,
             "#7201a8"
            ],
            [
             0.3333333333333333,
             "#9c179e"
            ],
            [
             0.4444444444444444,
             "#bd3786"
            ],
            [
             0.5555555555555556,
             "#d8576b"
            ],
            [
             0.6666666666666666,
             "#ed7953"
            ],
            [
             0.7777777777777778,
             "#fb9f3a"
            ],
            [
             0.8888888888888888,
             "#fdca26"
            ],
            [
             1,
             "#f0f921"
            ]
           ]
          },
          "colorway": [
           "#636efa",
           "#EF553B",
           "#00cc96",
           "#ab63fa",
           "#FFA15A",
           "#19d3f3",
           "#FF6692",
           "#B6E880",
           "#FF97FF",
           "#FECB52"
          ],
          "font": {
           "color": "#2a3f5f"
          },
          "geo": {
           "bgcolor": "white",
           "lakecolor": "white",
           "landcolor": "white",
           "showlakes": true,
           "showland": true,
           "subunitcolor": "#C8D4E3"
          },
          "hoverlabel": {
           "align": "left"
          },
          "hovermode": "closest",
          "mapbox": {
           "style": "light"
          },
          "paper_bgcolor": "white",
          "plot_bgcolor": "white",
          "polar": {
           "angularaxis": {
            "gridcolor": "#EBF0F8",
            "linecolor": "#EBF0F8",
            "ticks": ""
           },
           "bgcolor": "white",
           "radialaxis": {
            "gridcolor": "#EBF0F8",
            "linecolor": "#EBF0F8",
            "ticks": ""
           }
          },
          "scene": {
           "xaxis": {
            "backgroundcolor": "white",
            "gridcolor": "#DFE8F3",
            "gridwidth": 2,
            "linecolor": "#EBF0F8",
            "showbackground": true,
            "ticks": "",
            "zerolinecolor": "#EBF0F8"
           },
           "yaxis": {
            "backgroundcolor": "white",
            "gridcolor": "#DFE8F3",
            "gridwidth": 2,
            "linecolor": "#EBF0F8",
            "showbackground": true,
            "ticks": "",
            "zerolinecolor": "#EBF0F8"
           },
           "zaxis": {
            "backgroundcolor": "white",
            "gridcolor": "#DFE8F3",
            "gridwidth": 2,
            "linecolor": "#EBF0F8",
            "showbackground": true,
            "ticks": "",
            "zerolinecolor": "#EBF0F8"
           }
          },
          "shapedefaults": {
           "line": {
            "color": "#2a3f5f"
           }
          },
          "ternary": {
           "aaxis": {
            "gridcolor": "#DFE8F3",
            "linecolor": "#A2B1C6",
            "ticks": ""
           },
           "baxis": {
            "gridcolor": "#DFE8F3",
            "linecolor": "#A2B1C6",
            "ticks": ""
           },
           "bgcolor": "white",
           "caxis": {
            "gridcolor": "#DFE8F3",
            "linecolor": "#A2B1C6",
            "ticks": ""
           }
          },
          "title": {
           "x": 0.05
          },
          "xaxis": {
           "automargin": true,
           "gridcolor": "#EBF0F8",
           "linecolor": "#EBF0F8",
           "ticks": "",
           "title": {
            "standoff": 15
           },
           "zerolinecolor": "#EBF0F8",
           "zerolinewidth": 2
          },
          "yaxis": {
           "automargin": true,
           "gridcolor": "#EBF0F8",
           "linecolor": "#EBF0F8",
           "ticks": "",
           "title": {
            "standoff": 15
           },
           "zerolinecolor": "#EBF0F8",
           "zerolinewidth": 2
          }
         }
        },
        "title": {
         "font": {
          "color": "black",
          "family": "Arial",
          "size": 20
         },
         "text": "업종별 수익률 대비 변동성 지수",
         "x": 0.5
        },
        "xaxis": {
         "anchor": "y",
         "domain": [
          0,
          1
         ],
         "title": {
          "text": "평균 수익률"
         }
        },
        "yaxis": {
         "anchor": "x",
         "domain": [
          0,
          1
         ],
         "title": {
          "text": "평균 변동성"
         }
        }
       }
      }
     },
     "metadata": {},
     "output_type": "display_data"
    },
    {
     "data": {
      "text/html": [
       "<div>\n",
       "<style scoped>\n",
       "    .dataframe tbody tr th:only-of-type {\n",
       "        vertical-align: middle;\n",
       "    }\n",
       "\n",
       "    .dataframe tbody tr th {\n",
       "        vertical-align: top;\n",
       "    }\n",
       "\n",
       "    .dataframe thead th {\n",
       "        text-align: right;\n",
       "    }\n",
       "</style>\n",
       "<table border=\"1\" class=\"dataframe\">\n",
       "  <thead>\n",
       "    <tr style=\"text-align: right;\">\n",
       "      <th></th>\n",
       "      <th>Sector</th>\n",
       "      <th>TotalReturn</th>\n",
       "      <th>Volatility</th>\n",
       "      <th>Color</th>\n",
       "    </tr>\n",
       "  </thead>\n",
       "  <tbody>\n",
       "    <tr>\n",
       "      <th>3</th>\n",
       "      <td>기타</td>\n",
       "      <td>2.688228</td>\n",
       "      <td>0.667975</td>\n",
       "      <td>Below</td>\n",
       "    </tr>\n",
       "    <tr>\n",
       "      <th>5</th>\n",
       "      <td>채권</td>\n",
       "      <td>1.573230</td>\n",
       "      <td>0.302981</td>\n",
       "      <td>Below</td>\n",
       "    </tr>\n",
       "    <tr>\n",
       "      <th>0</th>\n",
       "      <td>국내 시장지수</td>\n",
       "      <td>-6.233523</td>\n",
       "      <td>1.282955</td>\n",
       "      <td>Below</td>\n",
       "    </tr>\n",
       "  </tbody>\n",
       "</table>\n",
       "</div>"
      ],
      "text/plain": [
       "    Sector  TotalReturn  Volatility  Color\n",
       "3       기타     2.688228    0.667975  Below\n",
       "5       채권     1.573230    0.302981  Below\n",
       "0  국내 시장지수    -6.233523    1.282955  Below"
      ]
     },
     "metadata": {},
     "output_type": "display_data"
    }
   ],
   "source": [
    "analyze_sector_return_volatility('ETF')"
   ]
  }
 ],
 "metadata": {
  "kernelspec": {
   "display_name": "base",
   "language": "python",
   "name": "python3"
  },
  "language_info": {
   "codemirror_mode": {
    "name": "ipython",
    "version": 3
   },
   "file_extension": ".py",
   "mimetype": "text/x-python",
   "name": "python",
   "nbconvert_exporter": "python",
   "pygments_lexer": "ipython3",
   "version": "3.12.7"
  }
 },
 "nbformat": 4,
 "nbformat_minor": 2
}
