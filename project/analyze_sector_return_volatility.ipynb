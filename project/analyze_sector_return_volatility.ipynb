{
 "cells": [
  {
   "cell_type": "code",
   "execution_count": 1,
   "metadata": {},
   "outputs": [],
   "source": [
    "# 데이터 분석을 위한 패키지\n",
    "import numpy as np\n",
    "import pandas as pd"
   ]
  },
  {
   "cell_type": "code",
   "execution_count": 2,
   "metadata": {},
   "outputs": [],
   "source": [
    "# 시각화 패키지\n",
    "import matplotlib.pyplot as plt\n",
    "import seaborn as sns\n",
    "import plotly.express as px\n",
    "import plotly.graph_objects as go"
   ]
  },
  {
   "cell_type": "code",
   "execution_count": 3,
   "metadata": {},
   "outputs": [],
   "source": [
    "import FinanceDataReader as fdr"
   ]
  },
  {
   "cell_type": "code",
   "execution_count": 4,
   "metadata": {},
   "outputs": [],
   "source": [
    "import koreanize_matplotlib"
   ]
  },
  {
   "cell_type": "code",
   "execution_count": 5,
   "metadata": {},
   "outputs": [],
   "source": [
    "import datetime\n",
    "from dateutil.relativedelta import relativedelta"
   ]
  },
  {
   "cell_type": "code",
   "execution_count": 6,
   "metadata": {},
   "outputs": [],
   "source": [
    "from data_loader import load_sector_data"
   ]
  },
  {
   "cell_type": "code",
   "execution_count": 7,
   "metadata": {},
   "outputs": [],
   "source": [
    "# 모든 컬럼,행을 출력하도록 설정\n",
    "pd.set_option('display.max_columns', None) # None으로 설정하면 모든 컬럼 출력\n",
    "pd.set_option('display.max_rows', None) #None으로 설정하면 모든 행 출력"
   ]
  },
  {
   "cell_type": "code",
   "execution_count": 10,
   "metadata": {},
   "outputs": [],
   "source": [
    "# 회귀선의 의미 : 동일한 평균수익률을 가진 다른 업종/종목에 비해 변동성이 적어 리스크가 낮다는 인사이트를 제공할 수 있음\n",
    "# plotly는 lmplot을 직접적으로 제공하지 않기때문에, scatter기반 회귀선과, 데이터 플롯을 직접 따로 그려야함\n",
    "\n",
    "\n",
    "def analyze_sector_return_volatility(market=None, sector=None, month_ago=1):\n",
    "    # 데이터 로드\n",
    "    df = load_sector_data(market, month_ago=month_ago)  # 사용자 정의 데이터 로드 함수\n",
    "    \n",
    "\n",
    "    # 업종이 입력된 경우 해당 업종 내에서 필터링\n",
    "    if sector is not None:\n",
    "        if sector not in df['Sector'].unique():\n",
    "            raise ValueError(f\"'{sector}'는(은) 유효한 섹터가 아닙니다. 사용 가능한 섹터: {df['Sector'].unique()}\")\n",
    "        \n",
    "        df = df[df['Sector'] == sector]\n",
    "        \n",
    "    else :\n",
    "        # 해당 업종의 평균 수익률과 변동성 계산\n",
    "        df = df.groupby('Sector').agg({\n",
    "        'TotalReturn': 'mean',\n",
    "        'Volatility': 'mean'\n",
    "    }).reset_index().sort_values(by='TotalReturn', ascending=True)    \n",
    "    \n",
    "    if df.empty:\n",
    "        raise ValueError(\"업종별 평균 수익률과 변동성 데이터가 없습니다.\")\n",
    "    \n",
    "    # Plotly로 회귀선 데이터를 계산\n",
    "    fig = px.scatter(\n",
    "        df,\n",
    "        x='TotalReturn',\n",
    "        y='Volatility',\n",
    "        trendline='ols'\n",
    "    )\n",
    "    \n",
    "    # 회귀선 데이터를 추출\n",
    "    \n",
    "    # 이전에 생성한 fig 객체에서 회귀선의 결과를 가져옴 회귀선의 모델 결과를 포함하는 객체를 가져옵니다. 이 객체에는 회귀선의 절편(intercept)과 기울기(slope) 등의 정보가 포함되어 있음\n",
    "    trendline_data = px.get_trendline_results(fig).iloc[0].px_fit_results\n",
    "    \n",
    "    # trendline_data.params: 회귀선의 파라미터(절편과 기울기)를 반환합니다. 여기서 intercept는 회귀선의 y절편을 의미하고, slope는 회귀선의 기울기를 나타냅니다.\n",
    "    intercept, slope = trendline_data.params  \n",
    "\n",
    "    # 회귀선 아래/위 판별 및 색상 추가\n",
    "    df['Color'] = df.apply(\n",
    "        # 현재 행의 변동성이 회귀선에서 예측한 변동성보다 낮은지를 확인, 회귀선의 방정식은 y=mx+b 형태이므로, 여기서 intercept는 y절편, slope는 기울기, row[\"TotalReturn\"]는 x값\n",
    "        lambda row: 'Below' if row['Volatility'] < (intercept + slope * row['TotalReturn']) \\\n",
    "                            else 'Above',axis=1\n",
    "                            )\n",
    "    \n",
    "    # 회귀선 대비 아래에 있는 종목 수익률 내림차순으로 정렬한 df\n",
    "    below_regression_line_df = df[df['Color'] == 'Below'].sort_values(by='TotalReturn', ascending=False)\n",
    "\n",
    "    if sector is not None : \n",
    "        title = f'{market} 시장 {sector}업종 {month_ago}개월 수익률 대비 변동성 지수'\n",
    "        trendline_name = f'회귀선({market} 시장 {sector}업종 {month_ago}개월 수익률 대비 평균 변동성)'\n",
    "        hover_data = {'Name': True}\n",
    "    else :\n",
    "        title = f'{market} 시장 업종별 {month_ago}개월 수익률 대비 변동성 지수'\n",
    "        trendline_name = f'회귀선({market} 시장 {month_ago}개월 수익률 대비 평균 변동성)'\n",
    "        hover_data = {'Sector': True} \n",
    "        \n",
    "        \n",
    "    # 최종 Plotly 그래프 생성\n",
    "    fig = px.scatter(\n",
    "        df,\n",
    "        x='TotalReturn',\n",
    "        y='Volatility',\n",
    "        color='Color',                  # 회귀선 기준 색상 설정\n",
    "        hover_data=hover_data,\n",
    "        title=title,\n",
    "        labels={'TotalReturn': '평균 수익률', 'Volatility': '평균 변동성'},\n",
    "        template=\"plotly_white\"\n",
    "    )\n",
    "\n",
    "    # 회귀선 다시 추가\n",
    "    fig.add_trace(go.Scatter(\n",
    "        x=df['TotalReturn'],\n",
    "        y=intercept + slope * df['TotalReturn'],\n",
    "        mode=\"lines\",\n",
    "        name=trendline_name,\n",
    "        line=dict(color='black', dash='dash')\n",
    "    ))\n",
    "    \n",
    "    # 제목 가운데 정렬\n",
    "    fig.update_layout(\n",
    "        title_x=0.5,\n",
    "        title_font=dict(size=20, color='black', family='Arial')\n",
    "        ) \n",
    "    \n",
    "    fig.show()\n",
    "    \n",
    "    # 변동성 대비 수익률이 좋은 종목 df 반환\n",
    "    \n",
    "    recommended_df = below_regression_line_df[below_regression_line_df['TotalReturn'] > 0]\n",
    "    display(recommended_df)"
   ]
  },
  {
   "cell_type": "code",
   "execution_count": 14,
   "metadata": {},
   "outputs": [
    {
     "name": "stdout",
     "output_type": "stream",
     "text": [
      "1개월 간의 data를 불러옵니다.\n"
     ]
    },
    {
     "data": {
      "application/vnd.plotly.v1+json": {
       "config": {
        "plotlyServerURL": "https://plot.ly"
       },
       "data": [
        {
         "customdata": [
          [
           "AK홀딩스"
          ],
          [
           "DL"
          ],
          [
           "DS단석"
          ],
          [
           "HS효성첨단소재"
          ],
          [
           "LG화학"
          ],
          [
           "LG화학우"
          ],
          [
           "OCI"
          ],
          [
           "OCI홀딩스"
          ],
          [
           "SH에너지화학"
          ],
          [
           "SKC"
          ],
          [
           "WISCOM"
          ],
          [
           "그린케미칼"
          ],
          [
           "금양"
          ],
          [
           "금호석유"
          ],
          [
           "대한유화"
          ],
          [
           "롯데케미칼"
          ],
          [
           "백광산업"
          ],
          [
           "애경케미칼"
          ],
          [
           "이수스페셜티케미컬"
          ],
          [
           "조비"
          ],
          [
           "진양산업"
          ],
          [
           "진양폴리"
          ],
          [
           "진양화학"
          ],
          [
           "코스모신소재"
          ],
          [
           "코스모화학"
          ],
          [
           "포스코퓨처엠"
          ],
          [
           "한농화성"
          ],
          [
           "한솔케미칼"
          ],
          [
           "효성화학"
          ]
         ],
         "hovertemplate": "Color=Above<br>평균 수익률=%{x}<br>평균 변동성=%{y}<br>Name=%{customdata[0]}<extra></extra>",
         "legendgroup": "Above",
         "marker": {
          "color": "#636efa",
          "symbol": "circle"
         },
         "mode": "markers",
         "name": "Above",
         "orientation": "v",
         "showlegend": true,
         "type": "scatter",
         "x": [
          -8.63,
          -2.57,
          -24.76,
          3.38,
          -4.85,
          -10.47,
          0,
          23.39,
          5.79,
          27.93,
          -15.67,
          56.29,
          0.95,
          -3.59,
          11.56,
          -3.05,
          4.79,
          3.68,
          14.24,
          -3.84,
          7.57,
          -4.99,
          17.59,
          3.05,
          22.9,
          -8.37,
          8.61,
          8.11,
          5.71
         ],
         "xaxis": "x",
         "y": [
          3.1,
          2.75,
          6.61,
          2.81,
          2.79,
          2.81,
          2.89,
          4.59,
          3.41,
          4.79,
          2.46,
          5.76,
          7.24,
          3.09,
          3.95,
          3.43,
          3.28,
          3.95,
          4.07,
          2.93,
          7.37,
          4.89,
          8.8,
          3.91,
          5.21,
          3.63,
          3.47,
          3.41,
          5.34
         ],
         "yaxis": "y"
        },
        {
         "customdata": [
          [
           "BGF"
          ],
          [
           "DL우"
          ],
          [
           "KPX케미칼"
          ],
          [
           "KPX홀딩스"
          ],
          [
           "PI첨단소재"
          ],
          [
           "SK케미칼"
          ],
          [
           "SK케미칼우"
          ],
          [
           "TKG휴켐스"
          ],
          [
           "경농"
          ],
          [
           "경인양행"
          ],
          [
           "국도화학"
          ],
          [
           "금호석유우"
          ],
          [
           "남해화학"
          ],
          [
           "대한화섬"
          ],
          [
           "동남합성"
          ],
          [
           "동방아그로"
          ],
          [
           "동성케미컬"
          ],
          [
           "롯데정밀화학"
          ],
          [
           "미원상사"
          ],
          [
           "미원에스씨"
          ],
          [
           "미원홀딩스"
          ],
          [
           "미원화학"
          ],
          [
           "미창석유"
          ],
          [
           "삼양홀딩스"
          ],
          [
           "삼양홀딩스우"
          ],
          [
           "삼영"
          ],
          [
           "삼영무역"
          ],
          [
           "성보화학"
          ],
          [
           "송원산업"
          ],
          [
           "영보화학"
          ],
          [
           "유니드"
          ],
          [
           "이수화학"
          ],
          [
           "이화산업"
          ],
          [
           "진양홀딩스"
          ],
          [
           "카프로"
          ],
          [
           "코오롱ENP"
          ],
          [
           "코오롱인더"
          ],
          [
           "코오롱인더우"
          ],
          [
           "태경케미컬"
          ],
          [
           "태광산업"
          ],
          [
           "파미셀"
          ],
          [
           "한국석유"
          ],
          [
           "한국쉘석유"
          ],
          [
           "후성"
          ]
         ],
         "hovertemplate": "Color=Below<br>평균 수익률=%{x}<br>평균 변동성=%{y}<br>Name=%{customdata[0]}<extra></extra>",
         "legendgroup": "Below",
         "marker": {
          "color": "#EF553B",
          "symbol": "circle"
         },
         "mode": "markers",
         "name": "Below",
         "orientation": "v",
         "showlegend": true,
         "type": "scatter",
         "x": [
          1.46,
          -0.73,
          0.12,
          -1.32,
          22.54,
          8.73,
          5.77,
          -5.92,
          2.83,
          3.14,
          18.83,
          -8.61,
          2.42,
          -4.05,
          13.55,
          -0.97,
          0.49,
          8.34,
          -6.94,
          2.38,
          -1.03,
          0.63,
          0.45,
          -2.71,
          -3.17,
          13.6,
          -1.01,
          -1.18,
          5.78,
          3.37,
          19.3,
          9.73,
          4.13,
          -0.65,
          0,
          5.06,
          1.47,
          -1,
          5.28,
          5.03,
          48.92,
          5.93,
          -3.63,
          5.37
         ],
         "xaxis": "x",
         "y": [
          1.41,
          1.78,
          1.41,
          1.31,
          3.56,
          2.97,
          2.62,
          1.91,
          1.1,
          1.74,
          2.27,
          1.87,
          1.65,
          1.25,
          2.02,
          0.71,
          1.64,
          2.66,
          1.33,
          0.68,
          0.85,
          1.3,
          1.48,
          1.69,
          2.11,
          3.19,
          1.14,
          0.94,
          2.42,
          1.48,
          3.32,
          2.85,
          1.82,
          1.52,
          0,
          2.46,
          2.26,
          1.45,
          1.92,
          1.02,
          3.97,
          2.12,
          2.19,
          2.79
         ],
         "yaxis": "y"
        },
        {
         "line": {
          "color": "black",
          "dash": "dash"
         },
         "mode": "lines",
         "name": "회귀선(KOSPI 시장 화학업종 1개월 수익률 대비 평균 변동성)",
         "type": "scatter",
         "x": [
          -8.63,
          1.46,
          -2.57,
          -0.73,
          -24.76,
          3.38,
          0.12,
          -1.32,
          -4.85,
          -10.47,
          0,
          23.39,
          22.54,
          5.79,
          27.93,
          8.73,
          5.77,
          -5.92,
          -15.67,
          2.83,
          3.14,
          18.83,
          56.29,
          0.95,
          -3.59,
          -8.61,
          2.42,
          11.56,
          -4.05,
          13.55,
          -0.97,
          0.49,
          8.34,
          -3.05,
          -6.94,
          2.38,
          -1.03,
          0.63,
          0.45,
          4.79,
          -2.71,
          -3.17,
          13.6,
          -1.01,
          -1.18,
          5.78,
          3.68,
          3.37,
          19.3,
          14.24,
          9.73,
          4.13,
          -3.84,
          7.57,
          -4.99,
          -0.65,
          17.59,
          0,
          3.05,
          22.9,
          5.06,
          1.47,
          -1,
          5.28,
          5.03,
          48.92,
          -8.37,
          5.93,
          -3.63,
          8.61,
          8.11,
          5.71,
          5.37
         ],
         "y": [
          2.208437914930593,
          2.674351979823906,
          2.488263408811017,
          2.573226925104743,
          1.4636218726383092,
          2.7630095620434467,
          2.612476375566519,
          2.5459831889018636,
          2.382982529925313,
          2.123474398636867,
          2.6069352766777976,
          3.6869878017377182,
          3.647738351275942,
          2.874293298058599,
          3.8966260430276725,
          3.01005022083227,
          2.873369781577145,
          2.3335743981675483,
          1.8833601134589455,
          2.737612858803474,
          2.7519273642660043,
          3.4764260439663097,
          5.206172413728799,
          2.650802309546841,
          2.4411640682568865,
          2.209361431412047,
          2.7186807709336764,
          3.1407278029579464,
          2.419923189183455,
          3.232617692862574,
          2.5621447273273006,
          2.6295614304734096,
          2.9920416494439257,
          2.466099013256132,
          2.2864750576134174,
          2.716833737970769,
          2.55937417788294,
          2.6360260458435842,
          2.6277143975105024,
          2.8281174739859214,
          2.4817987934408423,
          2.460557914367411,
          3.2349264840662078,
          2.5602976943643934,
          2.552447804272038,
          2.873831539817872,
          2.77686230926525,
          2.76254780380272,
          3.498128681280468,
          3.264479011472721,
          3.056226044904947,
          2.7976414300979546,
          2.429620112238717,
          2.956486264907964,
          2.376517914555138,
          2.5769209910305575,
          3.4191680221161898,
          2.6069352766777976,
          2.747771540099463,
          3.6643616479421057,
          2.8405849464855444,
          2.6748137380646333,
          2.5607594526051205,
          2.8507436277815335,
          2.839199671763364,
          4.865856590313168,
          2.2204436291894893,
          2.8807579134287735,
          2.4393170352939793,
          3.0045091219435482,
          2.98142120990721,
          2.8705992321327845,
          2.854899451948074
         ]
        }
       ],
       "layout": {
        "legend": {
         "title": {
          "text": "Color"
         },
         "tracegroupgap": 0
        },
        "template": {
         "data": {
          "bar": [
           {
            "error_x": {
             "color": "#2a3f5f"
            },
            "error_y": {
             "color": "#2a3f5f"
            },
            "marker": {
             "line": {
              "color": "white",
              "width": 0.5
             },
             "pattern": {
              "fillmode": "overlay",
              "size": 10,
              "solidity": 0.2
             }
            },
            "type": "bar"
           }
          ],
          "barpolar": [
           {
            "marker": {
             "line": {
              "color": "white",
              "width": 0.5
             },
             "pattern": {
              "fillmode": "overlay",
              "size": 10,
              "solidity": 0.2
             }
            },
            "type": "barpolar"
           }
          ],
          "carpet": [
           {
            "aaxis": {
             "endlinecolor": "#2a3f5f",
             "gridcolor": "#C8D4E3",
             "linecolor": "#C8D4E3",
             "minorgridcolor": "#C8D4E3",
             "startlinecolor": "#2a3f5f"
            },
            "baxis": {
             "endlinecolor": "#2a3f5f",
             "gridcolor": "#C8D4E3",
             "linecolor": "#C8D4E3",
             "minorgridcolor": "#C8D4E3",
             "startlinecolor": "#2a3f5f"
            },
            "type": "carpet"
           }
          ],
          "choropleth": [
           {
            "colorbar": {
             "outlinewidth": 0,
             "ticks": ""
            },
            "type": "choropleth"
           }
          ],
          "contour": [
           {
            "colorbar": {
             "outlinewidth": 0,
             "ticks": ""
            },
            "colorscale": [
             [
              0,
              "#0d0887"
             ],
             [
              0.1111111111111111,
              "#46039f"
             ],
             [
              0.2222222222222222,
              "#7201a8"
             ],
             [
              0.3333333333333333,
              "#9c179e"
             ],
             [
              0.4444444444444444,
              "#bd3786"
             ],
             [
              0.5555555555555556,
              "#d8576b"
             ],
             [
              0.6666666666666666,
              "#ed7953"
             ],
             [
              0.7777777777777778,
              "#fb9f3a"
             ],
             [
              0.8888888888888888,
              "#fdca26"
             ],
             [
              1,
              "#f0f921"
             ]
            ],
            "type": "contour"
           }
          ],
          "contourcarpet": [
           {
            "colorbar": {
             "outlinewidth": 0,
             "ticks": ""
            },
            "type": "contourcarpet"
           }
          ],
          "heatmap": [
           {
            "colorbar": {
             "outlinewidth": 0,
             "ticks": ""
            },
            "colorscale": [
             [
              0,
              "#0d0887"
             ],
             [
              0.1111111111111111,
              "#46039f"
             ],
             [
              0.2222222222222222,
              "#7201a8"
             ],
             [
              0.3333333333333333,
              "#9c179e"
             ],
             [
              0.4444444444444444,
              "#bd3786"
             ],
             [
              0.5555555555555556,
              "#d8576b"
             ],
             [
              0.6666666666666666,
              "#ed7953"
             ],
             [
              0.7777777777777778,
              "#fb9f3a"
             ],
             [
              0.8888888888888888,
              "#fdca26"
             ],
             [
              1,
              "#f0f921"
             ]
            ],
            "type": "heatmap"
           }
          ],
          "heatmapgl": [
           {
            "colorbar": {
             "outlinewidth": 0,
             "ticks": ""
            },
            "colorscale": [
             [
              0,
              "#0d0887"
             ],
             [
              0.1111111111111111,
              "#46039f"
             ],
             [
              0.2222222222222222,
              "#7201a8"
             ],
             [
              0.3333333333333333,
              "#9c179e"
             ],
             [
              0.4444444444444444,
              "#bd3786"
             ],
             [
              0.5555555555555556,
              "#d8576b"
             ],
             [
              0.6666666666666666,
              "#ed7953"
             ],
             [
              0.7777777777777778,
              "#fb9f3a"
             ],
             [
              0.8888888888888888,
              "#fdca26"
             ],
             [
              1,
              "#f0f921"
             ]
            ],
            "type": "heatmapgl"
           }
          ],
          "histogram": [
           {
            "marker": {
             "pattern": {
              "fillmode": "overlay",
              "size": 10,
              "solidity": 0.2
             }
            },
            "type": "histogram"
           }
          ],
          "histogram2d": [
           {
            "colorbar": {
             "outlinewidth": 0,
             "ticks": ""
            },
            "colorscale": [
             [
              0,
              "#0d0887"
             ],
             [
              0.1111111111111111,
              "#46039f"
             ],
             [
              0.2222222222222222,
              "#7201a8"
             ],
             [
              0.3333333333333333,
              "#9c179e"
             ],
             [
              0.4444444444444444,
              "#bd3786"
             ],
             [
              0.5555555555555556,
              "#d8576b"
             ],
             [
              0.6666666666666666,
              "#ed7953"
             ],
             [
              0.7777777777777778,
              "#fb9f3a"
             ],
             [
              0.8888888888888888,
              "#fdca26"
             ],
             [
              1,
              "#f0f921"
             ]
            ],
            "type": "histogram2d"
           }
          ],
          "histogram2dcontour": [
           {
            "colorbar": {
             "outlinewidth": 0,
             "ticks": ""
            },
            "colorscale": [
             [
              0,
              "#0d0887"
             ],
             [
              0.1111111111111111,
              "#46039f"
             ],
             [
              0.2222222222222222,
              "#7201a8"
             ],
             [
              0.3333333333333333,
              "#9c179e"
             ],
             [
              0.4444444444444444,
              "#bd3786"
             ],
             [
              0.5555555555555556,
              "#d8576b"
             ],
             [
              0.6666666666666666,
              "#ed7953"
             ],
             [
              0.7777777777777778,
              "#fb9f3a"
             ],
             [
              0.8888888888888888,
              "#fdca26"
             ],
             [
              1,
              "#f0f921"
             ]
            ],
            "type": "histogram2dcontour"
           }
          ],
          "mesh3d": [
           {
            "colorbar": {
             "outlinewidth": 0,
             "ticks": ""
            },
            "type": "mesh3d"
           }
          ],
          "parcoords": [
           {
            "line": {
             "colorbar": {
              "outlinewidth": 0,
              "ticks": ""
             }
            },
            "type": "parcoords"
           }
          ],
          "pie": [
           {
            "automargin": true,
            "type": "pie"
           }
          ],
          "scatter": [
           {
            "fillpattern": {
             "fillmode": "overlay",
             "size": 10,
             "solidity": 0.2
            },
            "type": "scatter"
           }
          ],
          "scatter3d": [
           {
            "line": {
             "colorbar": {
              "outlinewidth": 0,
              "ticks": ""
             }
            },
            "marker": {
             "colorbar": {
              "outlinewidth": 0,
              "ticks": ""
             }
            },
            "type": "scatter3d"
           }
          ],
          "scattercarpet": [
           {
            "marker": {
             "colorbar": {
              "outlinewidth": 0,
              "ticks": ""
             }
            },
            "type": "scattercarpet"
           }
          ],
          "scattergeo": [
           {
            "marker": {
             "colorbar": {
              "outlinewidth": 0,
              "ticks": ""
             }
            },
            "type": "scattergeo"
           }
          ],
          "scattergl": [
           {
            "marker": {
             "colorbar": {
              "outlinewidth": 0,
              "ticks": ""
             }
            },
            "type": "scattergl"
           }
          ],
          "scattermapbox": [
           {
            "marker": {
             "colorbar": {
              "outlinewidth": 0,
              "ticks": ""
             }
            },
            "type": "scattermapbox"
           }
          ],
          "scatterpolar": [
           {
            "marker": {
             "colorbar": {
              "outlinewidth": 0,
              "ticks": ""
             }
            },
            "type": "scatterpolar"
           }
          ],
          "scatterpolargl": [
           {
            "marker": {
             "colorbar": {
              "outlinewidth": 0,
              "ticks": ""
             }
            },
            "type": "scatterpolargl"
           }
          ],
          "scatterternary": [
           {
            "marker": {
             "colorbar": {
              "outlinewidth": 0,
              "ticks": ""
             }
            },
            "type": "scatterternary"
           }
          ],
          "surface": [
           {
            "colorbar": {
             "outlinewidth": 0,
             "ticks": ""
            },
            "colorscale": [
             [
              0,
              "#0d0887"
             ],
             [
              0.1111111111111111,
              "#46039f"
             ],
             [
              0.2222222222222222,
              "#7201a8"
             ],
             [
              0.3333333333333333,
              "#9c179e"
             ],
             [
              0.4444444444444444,
              "#bd3786"
             ],
             [
              0.5555555555555556,
              "#d8576b"
             ],
             [
              0.6666666666666666,
              "#ed7953"
             ],
             [
              0.7777777777777778,
              "#fb9f3a"
             ],
             [
              0.8888888888888888,
              "#fdca26"
             ],
             [
              1,
              "#f0f921"
             ]
            ],
            "type": "surface"
           }
          ],
          "table": [
           {
            "cells": {
             "fill": {
              "color": "#EBF0F8"
             },
             "line": {
              "color": "white"
             }
            },
            "header": {
             "fill": {
              "color": "#C8D4E3"
             },
             "line": {
              "color": "white"
             }
            },
            "type": "table"
           }
          ]
         },
         "layout": {
          "annotationdefaults": {
           "arrowcolor": "#2a3f5f",
           "arrowhead": 0,
           "arrowwidth": 1
          },
          "autotypenumbers": "strict",
          "coloraxis": {
           "colorbar": {
            "outlinewidth": 0,
            "ticks": ""
           }
          },
          "colorscale": {
           "diverging": [
            [
             0,
             "#8e0152"
            ],
            [
             0.1,
             "#c51b7d"
            ],
            [
             0.2,
             "#de77ae"
            ],
            [
             0.3,
             "#f1b6da"
            ],
            [
             0.4,
             "#fde0ef"
            ],
            [
             0.5,
             "#f7f7f7"
            ],
            [
             0.6,
             "#e6f5d0"
            ],
            [
             0.7,
             "#b8e186"
            ],
            [
             0.8,
             "#7fbc41"
            ],
            [
             0.9,
             "#4d9221"
            ],
            [
             1,
             "#276419"
            ]
           ],
           "sequential": [
            [
             0,
             "#0d0887"
            ],
            [
             0.1111111111111111,
             "#46039f"
            ],
            [
             0.2222222222222222,
             "#7201a8"
            ],
            [
             0.3333333333333333,
             "#9c179e"
            ],
            [
             0.4444444444444444,
             "#bd3786"
            ],
            [
             0.5555555555555556,
             "#d8576b"
            ],
            [
             0.6666666666666666,
             "#ed7953"
            ],
            [
             0.7777777777777778,
             "#fb9f3a"
            ],
            [
             0.8888888888888888,
             "#fdca26"
            ],
            [
             1,
             "#f0f921"
            ]
           ],
           "sequentialminus": [
            [
             0,
             "#0d0887"
            ],
            [
             0.1111111111111111,
             "#46039f"
            ],
            [
             0.2222222222222222,
             "#7201a8"
            ],
            [
             0.3333333333333333,
             "#9c179e"
            ],
            [
             0.4444444444444444,
             "#bd3786"
            ],
            [
             0.5555555555555556,
             "#d8576b"
            ],
            [
             0.6666666666666666,
             "#ed7953"
            ],
            [
             0.7777777777777778,
             "#fb9f3a"
            ],
            [
             0.8888888888888888,
             "#fdca26"
            ],
            [
             1,
             "#f0f921"
            ]
           ]
          },
          "colorway": [
           "#636efa",
           "#EF553B",
           "#00cc96",
           "#ab63fa",
           "#FFA15A",
           "#19d3f3",
           "#FF6692",
           "#B6E880",
           "#FF97FF",
           "#FECB52"
          ],
          "font": {
           "color": "#2a3f5f"
          },
          "geo": {
           "bgcolor": "white",
           "lakecolor": "white",
           "landcolor": "white",
           "showlakes": true,
           "showland": true,
           "subunitcolor": "#C8D4E3"
          },
          "hoverlabel": {
           "align": "left"
          },
          "hovermode": "closest",
          "mapbox": {
           "style": "light"
          },
          "paper_bgcolor": "white",
          "plot_bgcolor": "white",
          "polar": {
           "angularaxis": {
            "gridcolor": "#EBF0F8",
            "linecolor": "#EBF0F8",
            "ticks": ""
           },
           "bgcolor": "white",
           "radialaxis": {
            "gridcolor": "#EBF0F8",
            "linecolor": "#EBF0F8",
            "ticks": ""
           }
          },
          "scene": {
           "xaxis": {
            "backgroundcolor": "white",
            "gridcolor": "#DFE8F3",
            "gridwidth": 2,
            "linecolor": "#EBF0F8",
            "showbackground": true,
            "ticks": "",
            "zerolinecolor": "#EBF0F8"
           },
           "yaxis": {
            "backgroundcolor": "white",
            "gridcolor": "#DFE8F3",
            "gridwidth": 2,
            "linecolor": "#EBF0F8",
            "showbackground": true,
            "ticks": "",
            "zerolinecolor": "#EBF0F8"
           },
           "zaxis": {
            "backgroundcolor": "white",
            "gridcolor": "#DFE8F3",
            "gridwidth": 2,
            "linecolor": "#EBF0F8",
            "showbackground": true,
            "ticks": "",
            "zerolinecolor": "#EBF0F8"
           }
          },
          "shapedefaults": {
           "line": {
            "color": "#2a3f5f"
           }
          },
          "ternary": {
           "aaxis": {
            "gridcolor": "#DFE8F3",
            "linecolor": "#A2B1C6",
            "ticks": ""
           },
           "baxis": {
            "gridcolor": "#DFE8F3",
            "linecolor": "#A2B1C6",
            "ticks": ""
           },
           "bgcolor": "white",
           "caxis": {
            "gridcolor": "#DFE8F3",
            "linecolor": "#A2B1C6",
            "ticks": ""
           }
          },
          "title": {
           "x": 0.05
          },
          "xaxis": {
           "automargin": true,
           "gridcolor": "#EBF0F8",
           "linecolor": "#EBF0F8",
           "ticks": "",
           "title": {
            "standoff": 15
           },
           "zerolinecolor": "#EBF0F8",
           "zerolinewidth": 2
          },
          "yaxis": {
           "automargin": true,
           "gridcolor": "#EBF0F8",
           "linecolor": "#EBF0F8",
           "ticks": "",
           "title": {
            "standoff": 15
           },
           "zerolinecolor": "#EBF0F8",
           "zerolinewidth": 2
          }
         }
        },
        "title": {
         "font": {
          "color": "black",
          "family": "Arial",
          "size": 20
         },
         "text": "KOSPI 시장 화학업종 1개월 수익률 대비 변동성 지수",
         "x": 0.5
        },
        "xaxis": {
         "anchor": "y",
         "domain": [
          0,
          1
         ],
         "title": {
          "text": "평균 수익률"
         }
        },
        "yaxis": {
         "anchor": "x",
         "domain": [
          0,
          1
         ],
         "title": {
          "text": "평균 변동성"
         }
        }
       }
      }
     },
     "metadata": {},
     "output_type": "display_data"
    },
    {
     "data": {
      "text/html": [
       "<div>\n",
       "<style scoped>\n",
       "    .dataframe tbody tr th:only-of-type {\n",
       "        vertical-align: middle;\n",
       "    }\n",
       "\n",
       "    .dataframe tbody tr th {\n",
       "        vertical-align: top;\n",
       "    }\n",
       "\n",
       "    .dataframe thead th {\n",
       "        text-align: right;\n",
       "    }\n",
       "</style>\n",
       "<table border=\"1\" class=\"dataframe\">\n",
       "  <thead>\n",
       "    <tr style=\"text-align: right;\">\n",
       "      <th></th>\n",
       "      <th>Code</th>\n",
       "      <th>Name</th>\n",
       "      <th>Volatility</th>\n",
       "      <th>TotalReturn</th>\n",
       "      <th>Sector</th>\n",
       "      <th>Volume</th>\n",
       "      <th>Amount</th>\n",
       "      <th>Marcap</th>\n",
       "      <th>Risk</th>\n",
       "      <th>Color</th>\n",
       "    </tr>\n",
       "  </thead>\n",
       "  <tbody>\n",
       "    <tr>\n",
       "      <th>791</th>\n",
       "      <td>005690</td>\n",
       "      <td>파미셀</td>\n",
       "      <td>3.97</td>\n",
       "      <td>48.92</td>\n",
       "      <td>화학</td>\n",
       "      <td>8302</td>\n",
       "      <td>74528630</td>\n",
       "      <td>536551658160</td>\n",
       "      <td>3</td>\n",
       "      <td>Below</td>\n",
       "    </tr>\n",
       "    <tr>\n",
       "      <th>138</th>\n",
       "      <td>178920</td>\n",
       "      <td>PI첨단소재</td>\n",
       "      <td>3.56</td>\n",
       "      <td>22.54</td>\n",
       "      <td>화학</td>\n",
       "      <td>354</td>\n",
       "      <td>6657360</td>\n",
       "      <td>552086853600</td>\n",
       "      <td>3</td>\n",
       "      <td>Below</td>\n",
       "    </tr>\n",
       "    <tr>\n",
       "      <th>630</th>\n",
       "      <td>014830</td>\n",
       "      <td>유니드</td>\n",
       "      <td>3.32</td>\n",
       "      <td>19.30</td>\n",
       "      <td>화학</td>\n",
       "      <td>304</td>\n",
       "      <td>22902200</td>\n",
       "      <td>507570000000</td>\n",
       "      <td>3</td>\n",
       "      <td>Below</td>\n",
       "    </tr>\n",
       "    <tr>\n",
       "      <th>215</th>\n",
       "      <td>007690</td>\n",
       "      <td>국도화학</td>\n",
       "      <td>2.27</td>\n",
       "      <td>18.83</td>\n",
       "      <td>화학</td>\n",
       "      <td>75</td>\n",
       "      <td>2424400</td>\n",
       "      <td>293295550800</td>\n",
       "      <td>2</td>\n",
       "      <td>Below</td>\n",
       "    </tr>\n",
       "    <tr>\n",
       "      <th>469</th>\n",
       "      <td>003720</td>\n",
       "      <td>삼영</td>\n",
       "      <td>3.19</td>\n",
       "      <td>13.60</td>\n",
       "      <td>화학</td>\n",
       "      <td>275</td>\n",
       "      <td>1055120</td>\n",
       "      <td>130220000000</td>\n",
       "      <td>3</td>\n",
       "      <td>Below</td>\n",
       "    </tr>\n",
       "    <tr>\n",
       "      <th>322</th>\n",
       "      <td>023450</td>\n",
       "      <td>동남합성</td>\n",
       "      <td>2.02</td>\n",
       "      <td>13.55</td>\n",
       "      <td>화학</td>\n",
       "      <td>122</td>\n",
       "      <td>4135800</td>\n",
       "      <td>118650000000</td>\n",
       "      <td>2</td>\n",
       "      <td>Below</td>\n",
       "    </tr>\n",
       "    <tr>\n",
       "      <th>657</th>\n",
       "      <td>005950</td>\n",
       "      <td>이수화학</td>\n",
       "      <td>2.85</td>\n",
       "      <td>9.73</td>\n",
       "      <td>화학</td>\n",
       "      <td>313</td>\n",
       "      <td>2029040</td>\n",
       "      <td>146788893940</td>\n",
       "      <td>2</td>\n",
       "      <td>Below</td>\n",
       "    </tr>\n",
       "    <tr>\n",
       "      <th>171</th>\n",
       "      <td>285130</td>\n",
       "      <td>SK케미칼</td>\n",
       "      <td>2.97</td>\n",
       "      <td>8.73</td>\n",
       "      <td>화학</td>\n",
       "      <td>388</td>\n",
       "      <td>17234200</td>\n",
       "      <td>766067965200</td>\n",
       "      <td>2</td>\n",
       "      <td>Below</td>\n",
       "    </tr>\n",
       "    <tr>\n",
       "      <th>376</th>\n",
       "      <td>004000</td>\n",
       "      <td>롯데정밀화학</td>\n",
       "      <td>2.66</td>\n",
       "      <td>8.34</td>\n",
       "      <td>화학</td>\n",
       "      <td>404</td>\n",
       "      <td>16160000</td>\n",
       "      <td>1032000000000</td>\n",
       "      <td>2</td>\n",
       "      <td>Below</td>\n",
       "    </tr>\n",
       "    <tr>\n",
       "      <th>827</th>\n",
       "      <td>004090</td>\n",
       "      <td>한국석유</td>\n",
       "      <td>2.12</td>\n",
       "      <td>5.93</td>\n",
       "      <td>화학</td>\n",
       "      <td>1061</td>\n",
       "      <td>14584250</td>\n",
       "      <td>174924973600</td>\n",
       "      <td>2</td>\n",
       "      <td>Below</td>\n",
       "    </tr>\n",
       "    <tr>\n",
       "      <th>526</th>\n",
       "      <td>004430</td>\n",
       "      <td>송원산업</td>\n",
       "      <td>2.42</td>\n",
       "      <td>5.78</td>\n",
       "      <td>화학</td>\n",
       "      <td>19</td>\n",
       "      <td>213780</td>\n",
       "      <td>270000000000</td>\n",
       "      <td>2</td>\n",
       "      <td>Below</td>\n",
       "    </tr>\n",
       "    <tr>\n",
       "      <th>172</th>\n",
       "      <td>28513K</td>\n",
       "      <td>SK케미칼우</td>\n",
       "      <td>2.62</td>\n",
       "      <td>5.77</td>\n",
       "      <td>화학</td>\n",
       "      <td>0</td>\n",
       "      <td>0</td>\n",
       "      <td>42625894350</td>\n",
       "      <td>2</td>\n",
       "      <td>Below</td>\n",
       "    </tr>\n",
       "    <tr>\n",
       "      <th>953</th>\n",
       "      <td>093370</td>\n",
       "      <td>후성</td>\n",
       "      <td>2.79</td>\n",
       "      <td>5.37</td>\n",
       "      <td>화학</td>\n",
       "      <td>5108</td>\n",
       "      <td>26548010</td>\n",
       "      <td>553437502800</td>\n",
       "      <td>2</td>\n",
       "      <td>Below</td>\n",
       "    </tr>\n",
       "    <tr>\n",
       "      <th>774</th>\n",
       "      <td>006890</td>\n",
       "      <td>태경케미컬</td>\n",
       "      <td>1.92</td>\n",
       "      <td>5.28</td>\n",
       "      <td>화학</td>\n",
       "      <td>972</td>\n",
       "      <td>10610550</td>\n",
       "      <td>126092000000</td>\n",
       "      <td>2</td>\n",
       "      <td>Below</td>\n",
       "    </tr>\n",
       "    <tr>\n",
       "      <th>751</th>\n",
       "      <td>138490</td>\n",
       "      <td>코오롱ENP</td>\n",
       "      <td>2.46</td>\n",
       "      <td>5.06</td>\n",
       "      <td>화학</td>\n",
       "      <td>147</td>\n",
       "      <td>789390</td>\n",
       "      <td>204060000000</td>\n",
       "      <td>2</td>\n",
       "      <td>Below</td>\n",
       "    </tr>\n",
       "    <tr>\n",
       "      <th>775</th>\n",
       "      <td>003240</td>\n",
       "      <td>태광산업</td>\n",
       "      <td>1.02</td>\n",
       "      <td>5.03</td>\n",
       "      <td>화학</td>\n",
       "      <td>1</td>\n",
       "      <td>627000</td>\n",
       "      <td>698101800000</td>\n",
       "      <td>1</td>\n",
       "      <td>Below</td>\n",
       "    </tr>\n",
       "    <tr>\n",
       "      <th>665</th>\n",
       "      <td>000760</td>\n",
       "      <td>이화산업</td>\n",
       "      <td>1.82</td>\n",
       "      <td>4.13</td>\n",
       "      <td>화학</td>\n",
       "      <td>0</td>\n",
       "      <td>0</td>\n",
       "      <td>28924000000</td>\n",
       "      <td>2</td>\n",
       "      <td>Below</td>\n",
       "    </tr>\n",
       "    <tr>\n",
       "      <th>603</th>\n",
       "      <td>014440</td>\n",
       "      <td>영보화학</td>\n",
       "      <td>1.48</td>\n",
       "      <td>3.37</td>\n",
       "      <td>화학</td>\n",
       "      <td>216</td>\n",
       "      <td>794380</td>\n",
       "      <td>73100000000</td>\n",
       "      <td>1</td>\n",
       "      <td>Below</td>\n",
       "    </tr>\n",
       "    <tr>\n",
       "      <th>201</th>\n",
       "      <td>012610</td>\n",
       "      <td>경인양행</td>\n",
       "      <td>1.74</td>\n",
       "      <td>3.14</td>\n",
       "      <td>화학</td>\n",
       "      <td>95</td>\n",
       "      <td>264575</td>\n",
       "      <td>115901576525</td>\n",
       "      <td>2</td>\n",
       "      <td>Below</td>\n",
       "    </tr>\n",
       "    <tr>\n",
       "      <th>195</th>\n",
       "      <td>002100</td>\n",
       "      <td>경농</td>\n",
       "      <td>1.10</td>\n",
       "      <td>2.83</td>\n",
       "      <td>화학</td>\n",
       "      <td>6</td>\n",
       "      <td>54420</td>\n",
       "      <td>177069755250</td>\n",
       "      <td>1</td>\n",
       "      <td>Below</td>\n",
       "    </tr>\n",
       "    <tr>\n",
       "      <th>243</th>\n",
       "      <td>025860</td>\n",
       "      <td>남해화학</td>\n",
       "      <td>1.65</td>\n",
       "      <td>2.42</td>\n",
       "      <td>화학</td>\n",
       "      <td>79</td>\n",
       "      <td>500100</td>\n",
       "      <td>314963864620</td>\n",
       "      <td>2</td>\n",
       "      <td>Below</td>\n",
       "    </tr>\n",
       "    <tr>\n",
       "      <th>410</th>\n",
       "      <td>268280</td>\n",
       "      <td>미원에스씨</td>\n",
       "      <td>0.68</td>\n",
       "      <td>2.38</td>\n",
       "      <td>화학</td>\n",
       "      <td>1000</td>\n",
       "      <td>147200000</td>\n",
       "      <td>736000000000</td>\n",
       "      <td>1</td>\n",
       "      <td>Below</td>\n",
       "    </tr>\n",
       "    <tr>\n",
       "      <th>757</th>\n",
       "      <td>120110</td>\n",
       "      <td>코오롱인더</td>\n",
       "      <td>2.26</td>\n",
       "      <td>1.47</td>\n",
       "      <td>화학</td>\n",
       "      <td>1647</td>\n",
       "      <td>44975050</td>\n",
       "      <td>754023093400</td>\n",
       "      <td>2</td>\n",
       "      <td>Below</td>\n",
       "    </tr>\n",
       "    <tr>\n",
       "      <th>2</th>\n",
       "      <td>027410</td>\n",
       "      <td>BGF</td>\n",
       "      <td>1.41</td>\n",
       "      <td>1.46</td>\n",
       "      <td>화학</td>\n",
       "      <td>405</td>\n",
       "      <td>1412015</td>\n",
       "      <td>334051600590</td>\n",
       "      <td>1</td>\n",
       "      <td>Below</td>\n",
       "    </tr>\n",
       "    <tr>\n",
       "      <th>412</th>\n",
       "      <td>134380</td>\n",
       "      <td>미원화학</td>\n",
       "      <td>1.30</td>\n",
       "      <td>0.63</td>\n",
       "      <td>화학</td>\n",
       "      <td>1</td>\n",
       "      <td>79500</td>\n",
       "      <td>174841806000</td>\n",
       "      <td>1</td>\n",
       "      <td>Below</td>\n",
       "    </tr>\n",
       "    <tr>\n",
       "      <th>329</th>\n",
       "      <td>102260</td>\n",
       "      <td>동성케미컬</td>\n",
       "      <td>1.64</td>\n",
       "      <td>0.49</td>\n",
       "      <td>화학</td>\n",
       "      <td>25</td>\n",
       "      <td>92875</td>\n",
       "      <td>184597339520</td>\n",
       "      <td>2</td>\n",
       "      <td>Below</td>\n",
       "    </tr>\n",
       "    <tr>\n",
       "      <th>413</th>\n",
       "      <td>003650</td>\n",
       "      <td>미창석유</td>\n",
       "      <td>1.48</td>\n",
       "      <td>0.45</td>\n",
       "      <td>화학</td>\n",
       "      <td>121</td>\n",
       "      <td>10624800</td>\n",
       "      <td>152743201600</td>\n",
       "      <td>1</td>\n",
       "      <td>Below</td>\n",
       "    </tr>\n",
       "    <tr>\n",
       "      <th>91</th>\n",
       "      <td>025000</td>\n",
       "      <td>KPX케미칼</td>\n",
       "      <td>1.41</td>\n",
       "      <td>0.12</td>\n",
       "      <td>화학</td>\n",
       "      <td>1</td>\n",
       "      <td>43350</td>\n",
       "      <td>209814000000</td>\n",
       "      <td>1</td>\n",
       "      <td>Below</td>\n",
       "    </tr>\n",
       "  </tbody>\n",
       "</table>\n",
       "</div>"
      ],
      "text/plain": [
       "       Code    Name  Volatility  TotalReturn Sector  Volume     Amount  \\\n",
       "791  005690     파미셀        3.97        48.92     화학    8302   74528630   \n",
       "138  178920  PI첨단소재        3.56        22.54     화학     354    6657360   \n",
       "630  014830     유니드        3.32        19.30     화학     304   22902200   \n",
       "215  007690    국도화학        2.27        18.83     화학      75    2424400   \n",
       "469  003720      삼영        3.19        13.60     화학     275    1055120   \n",
       "322  023450    동남합성        2.02        13.55     화학     122    4135800   \n",
       "657  005950    이수화학        2.85         9.73     화학     313    2029040   \n",
       "171  285130   SK케미칼        2.97         8.73     화학     388   17234200   \n",
       "376  004000  롯데정밀화학        2.66         8.34     화학     404   16160000   \n",
       "827  004090    한국석유        2.12         5.93     화학    1061   14584250   \n",
       "526  004430    송원산업        2.42         5.78     화학      19     213780   \n",
       "172  28513K  SK케미칼우        2.62         5.77     화학       0          0   \n",
       "953  093370      후성        2.79         5.37     화학    5108   26548010   \n",
       "774  006890   태경케미컬        1.92         5.28     화학     972   10610550   \n",
       "751  138490  코오롱ENP        2.46         5.06     화학     147     789390   \n",
       "775  003240    태광산업        1.02         5.03     화학       1     627000   \n",
       "665  000760    이화산업        1.82         4.13     화학       0          0   \n",
       "603  014440    영보화학        1.48         3.37     화학     216     794380   \n",
       "201  012610    경인양행        1.74         3.14     화학      95     264575   \n",
       "195  002100      경농        1.10         2.83     화학       6      54420   \n",
       "243  025860    남해화학        1.65         2.42     화학      79     500100   \n",
       "410  268280   미원에스씨        0.68         2.38     화학    1000  147200000   \n",
       "757  120110   코오롱인더        2.26         1.47     화학    1647   44975050   \n",
       "2    027410     BGF        1.41         1.46     화학     405    1412015   \n",
       "412  134380    미원화학        1.30         0.63     화학       1      79500   \n",
       "329  102260   동성케미컬        1.64         0.49     화학      25      92875   \n",
       "413  003650    미창석유        1.48         0.45     화학     121   10624800   \n",
       "91   025000  KPX케미칼        1.41         0.12     화학       1      43350   \n",
       "\n",
       "            Marcap  Risk  Color  \n",
       "791   536551658160     3  Below  \n",
       "138   552086853600     3  Below  \n",
       "630   507570000000     3  Below  \n",
       "215   293295550800     2  Below  \n",
       "469   130220000000     3  Below  \n",
       "322   118650000000     2  Below  \n",
       "657   146788893940     2  Below  \n",
       "171   766067965200     2  Below  \n",
       "376  1032000000000     2  Below  \n",
       "827   174924973600     2  Below  \n",
       "526   270000000000     2  Below  \n",
       "172    42625894350     2  Below  \n",
       "953   553437502800     2  Below  \n",
       "774   126092000000     2  Below  \n",
       "751   204060000000     2  Below  \n",
       "775   698101800000     1  Below  \n",
       "665    28924000000     2  Below  \n",
       "603    73100000000     1  Below  \n",
       "201   115901576525     2  Below  \n",
       "195   177069755250     1  Below  \n",
       "243   314963864620     2  Below  \n",
       "410   736000000000     1  Below  \n",
       "757   754023093400     2  Below  \n",
       "2     334051600590     1  Below  \n",
       "412   174841806000     1  Below  \n",
       "329   184597339520     2  Below  \n",
       "413   152743201600     1  Below  \n",
       "91    209814000000     1  Below  "
      ]
     },
     "metadata": {},
     "output_type": "display_data"
    }
   ],
   "source": [
    "analyze_sector_return_volatility('KOSPI','화학')"
   ]
  },
  {
   "cell_type": "code",
   "execution_count": 13,
   "metadata": {},
   "outputs": [
    {
     "name": "stdout",
     "output_type": "stream",
     "text": [
      "1개월 간의 data를 불러옵니다.\n"
     ]
    },
    {
     "data": {
      "application/vnd.plotly.v1+json": {
       "config": {
        "plotlyServerURL": "https://plot.ly"
       },
       "data": [
        {
         "customdata": [
          [
           "복합유틸리티"
          ],
          [
           "담배"
          ],
          [
           "생명보험"
          ],
          [
           "소프트웨어"
          ],
          [
           "양방향미디어와서비스"
          ],
          [
           "전문소매"
          ],
          [
           "핸드셋"
          ],
          [
           "식품과기본식료품소매"
          ],
          [
           "문구류"
          ],
          [
           "상업서비스와공급품"
          ],
          [
           "기타"
          ],
          [
           "화장품"
          ],
          [
           "식품"
          ],
          [
           "손해보험"
          ],
          [
           "호텔,레스토랑,레저"
          ],
          [
           "전기제품"
          ],
          [
           "비철금속"
          ],
          [
           "건설"
          ],
          [
           "게임엔터테인먼트"
          ],
          [
           "교육서비스"
          ],
          [
           "화학"
          ],
          [
           "IT서비스"
          ],
          [
           "레저용장비와제품"
          ],
          [
           "출판"
          ],
          [
           "섬유,의류,신발,호화품"
          ],
          [
           "방송과엔터테인먼트"
          ],
          [
           "가구"
          ],
          [
           "기계"
          ],
          [
           "다각화된통신서비스"
          ],
          [
           "우주항공과국방"
          ],
          [
           "판매업체"
          ],
          [
           "자동차"
          ],
          [
           "전기장비"
          ],
          [
           "생물공학"
          ]
         ],
         "hovertemplate": "Color=Above<br>평균 수익률=%{x}<br>평균 변동성=%{y}<br>Sector=%{customdata[0]}<extra></extra>",
         "legendgroup": "Above",
         "marker": {
          "color": "#636efa",
          "symbol": "circle"
         },
         "mode": "markers",
         "name": "Above",
         "orientation": "v",
         "showlegend": true,
         "type": "scatter",
         "x": [
          -13.19,
          -9.31,
          -6.0925,
          -5.53,
          -3.9600000000000004,
          -2.8299999999999996,
          -0.6133333333333333,
          -0.43500000000000005,
          0,
          1.169,
          1.290000000000001,
          1.5826315789473684,
          1.817962962962963,
          1.923,
          2.165,
          2.9135714285714287,
          3.667307692307692,
          3.7057142857142855,
          3.9240000000000004,
          4.182499999999999,
          4.335342465753425,
          4.678461538461539,
          5.115,
          6.035,
          6.646326530612245,
          7.456666666666667,
          7.508571428571429,
          9.625769230769231,
          10.265,
          12.03625,
          13.796666666666667,
          14.478333333333333,
          15.928571428571429,
          47.27
         ],
         "xaxis": "x",
         "y": [
          4.3,
          1.29,
          2.2775,
          2.2,
          2.6966666666666668,
          1.9049999999999998,
          2.4166666666666665,
          2.12,
          2.88,
          2.4669999999999996,
          4.553333333333334,
          2.389473684210526,
          2.411851851851852,
          2.743,
          3.145,
          2.757142857142857,
          3.02,
          3.632857142857143,
          2.6439999999999997,
          2.9375,
          2.8071232876712333,
          3.3407692307692307,
          2.95,
          3.08,
          2.9238775510204085,
          3.3233333333333333,
          3.4085714285714284,
          3.194230769230769,
          4.795,
          3.625,
          3.7833333333333337,
          4.071666666666666,
          3.8771428571428572,
          10.675
         ],
         "yaxis": "y"
        },
        {
         "customdata": [
          [
           "운송인프라"
          ],
          [
           "도로와철도운송"
          ],
          [
           "광고"
          ],
          [
           "무선통신서비스"
          ],
          [
           "항공사"
          ],
          [
           "은행"
          ],
          [
           "카드"
          ],
          [
           "부동산"
          ],
          [
           "컴퓨터와주변기기"
          ],
          [
           "건축제품"
          ],
          [
           "통신장비"
          ],
          [
           "음료"
          ],
          [
           "증권"
          ],
          [
           "석유와가스"
          ],
          [
           "인터넷과카탈로그소매"
          ],
          [
           "창업투자"
          ],
          [
           "백화점과일반상점"
          ],
          [
           "철강"
          ],
          [
           "전자제품"
          ],
          [
           "포장재"
          ],
          [
           "해운사"
          ],
          [
           "사무용전자제품"
          ],
          [
           "가스유틸리티"
          ],
          [
           "디스플레이패널"
          ],
          [
           "전기유틸리티"
          ],
          [
           "건축자재"
          ],
          [
           "가정용품"
          ],
          [
           "무역회사와판매업체"
          ],
          [
           "항공화물운송과물류"
          ],
          [
           "복합기업"
          ],
          [
           "자동차부품"
          ],
          [
           "가정용기기와용품"
          ],
          [
           "종이와목재"
          ],
          [
           "전자장비와기기"
          ],
          [
           "건강관리장비와용품"
          ],
          [
           "에너지장비및서비스"
          ],
          [
           "제약"
          ],
          [
           "반도체와반도체장비"
          ],
          [
           "디스플레이장비및부품"
          ],
          [
           "조선"
          ]
         ],
         "hovertemplate": "Color=Below<br>평균 수익률=%{x}<br>평균 변동성=%{y}<br>Sector=%{customdata[0]}<extra></extra>",
         "legendgroup": "Below",
         "marker": {
          "color": "#EF553B",
          "symbol": "circle"
         },
         "mode": "markers",
         "name": "Below",
         "orientation": "v",
         "showlegend": true,
         "type": "scatter",
         "x": [
          -3.34,
          -2.304,
          -2.283333333333333,
          -1.9249999999999998,
          -0.8888888888888888,
          -0.754,
          -0.38,
          -0.23071428571428562,
          0.20999999999999966,
          0.25,
          0.2666666666666666,
          0.9622222222222224,
          1.2032352941176472,
          1.256,
          1.37,
          1.53,
          1.7735714285714288,
          1.9294594594594594,
          1.975,
          2.244375,
          2.47875,
          2.85,
          2.8572727272727274,
          3.29,
          3.4924999999999997,
          3.5,
          3.9699999999999998,
          4.9399999999999995,
          5.615454545454546,
          6.197083333333334,
          7.127808219178083,
          7.340000000000001,
          8.146923076923077,
          9.032592592592593,
          9.486,
          9.9375,
          10.008709677419354,
          22.250714285714285,
          24.307499999999997,
          25.12818181818182
         ],
         "xaxis": "x",
         "y": [
          1.6199999999999999,
          1.514,
          1.3166666666666667,
          1.295,
          1.9022222222222223,
          1.75,
          1.68,
          1.905357142857143,
          1.4400000000000002,
          2.09,
          1.7433333333333334,
          1.8988888888888888,
          1.826470588235294,
          1.7459999999999998,
          1.68,
          1.94,
          2.1464285714285714,
          2.2616216216216216,
          1.97,
          1.96125,
          2.24,
          1.35,
          1.6318181818181818,
          2.185,
          1.9575,
          2.4393548387096775,
          2.205,
          2.222,
          1.7845454545454544,
          2.290833333333333,
          2.5750684931506846,
          2.444,
          2.5900000000000003,
          2.723333333333333,
          2.286,
          2.81875,
          2.5483870967741935,
          3.3214285714285716,
          3.44,
          3.2681818181818185
         ],
         "yaxis": "y"
        },
        {
         "line": {
          "color": "black",
          "dash": "dash"
         },
         "mode": "lines",
         "name": "회귀선(KOSPI 시장 1개월 수익률 대비 평균 변동성)",
         "type": "scatter",
         "x": [
          -13.19,
          -9.31,
          -6.0925,
          -5.53,
          -3.9600000000000004,
          -3.34,
          -2.8299999999999996,
          -2.304,
          -2.283333333333333,
          -1.9249999999999998,
          -0.8888888888888888,
          -0.754,
          -0.6133333333333333,
          -0.43500000000000005,
          -0.38,
          -0.23071428571428562,
          0,
          0.20999999999999966,
          0.25,
          0.2666666666666666,
          0.9622222222222224,
          1.169,
          1.2032352941176472,
          1.256,
          1.290000000000001,
          1.37,
          1.53,
          1.5826315789473684,
          1.7735714285714288,
          1.817962962962963,
          1.923,
          1.9294594594594594,
          1.975,
          2.165,
          2.244375,
          2.47875,
          2.85,
          2.8572727272727274,
          2.9135714285714287,
          3.29,
          3.4924999999999997,
          3.5,
          3.667307692307692,
          3.7057142857142855,
          3.9240000000000004,
          3.9699999999999998,
          4.182499999999999,
          4.335342465753425,
          4.678461538461539,
          4.9399999999999995,
          5.115,
          5.615454545454546,
          6.035,
          6.197083333333334,
          6.646326530612245,
          7.127808219178083,
          7.340000000000001,
          7.456666666666667,
          7.508571428571429,
          8.146923076923077,
          9.032592592592593,
          9.486,
          9.625769230769231,
          9.9375,
          10.008709677419354,
          10.265,
          12.03625,
          13.796666666666667,
          14.478333333333333,
          15.928571428571429,
          22.250714285714285,
          24.307499999999997,
          25.12818181818182,
          47.27
         ],
         "y": [
          0.7416152927206658,
          1.1579971346913085,
          1.5032828502945415,
          1.5636474858895122,
          1.7321318910168082,
          1.7986671338059317,
          1.8533977367453718,
          1.9098453782084022,
          1.9120632196347063,
          1.950517728235947,
          2.0617078965170537,
          2.0761834851812107,
          2.0912791155344417,
          2.1104169407452917,
          2.1163192606701333,
          2.1323398433232748,
          2.1570989256054025,
          2.179635056227525,
          2.1839276525365006,
          2.185716234331907,
          2.26035971459354,
          2.282550052735217,
          2.28622401016437,
          2.2918864497072393,
          2.2955351565698687,
          2.30412034918782,
          2.321290734423723,
          2.326938887461849,
          2.3474295798051643,
          2.352193453222136,
          2.363465493159409,
          2.3641586894552504,
          2.3690458683610776,
          2.389435700828712,
          2.397953821629336,
          2.42310575312724,
          2.462946412619921,
          2.4637268846760985,
          2.469768574610972,
          2.5101649720186536,
          2.531896240832843,
          2.532701102640776,
          2.5506557122023574,
          2.554777312229794,
          2.5782026235159186,
          2.5831391092712406,
          2.605943527162674,
          2.6223458022713713,
          2.659167593897522,
          2.687234569763901,
          2.70601467861567,
          2.7597209119813773,
          2.8047443937221113,
          2.82213835168244,
          2.870348843944237,
          2.922019006923665,
          2.944790348302443,
          2.9573104208702894,
          2.9628805756045553,
          3.031385223843126,
          3.1264307661915076,
          3.17508814027899,
          3.190087462381699,
          3.223540821116553,
          3.2311826810778945,
          3.258686453396291,
          3.4487679837031218,
          3.6376869358429373,
          3.710839931275065,
          3.86647209864394,
          4.544932275978653,
          4.7656560451160725,
          4.8537274387053415,
          7.229874613737436
         ]
        }
       ],
       "layout": {
        "legend": {
         "title": {
          "text": "Color"
         },
         "tracegroupgap": 0
        },
        "template": {
         "data": {
          "bar": [
           {
            "error_x": {
             "color": "#2a3f5f"
            },
            "error_y": {
             "color": "#2a3f5f"
            },
            "marker": {
             "line": {
              "color": "white",
              "width": 0.5
             },
             "pattern": {
              "fillmode": "overlay",
              "size": 10,
              "solidity": 0.2
             }
            },
            "type": "bar"
           }
          ],
          "barpolar": [
           {
            "marker": {
             "line": {
              "color": "white",
              "width": 0.5
             },
             "pattern": {
              "fillmode": "overlay",
              "size": 10,
              "solidity": 0.2
             }
            },
            "type": "barpolar"
           }
          ],
          "carpet": [
           {
            "aaxis": {
             "endlinecolor": "#2a3f5f",
             "gridcolor": "#C8D4E3",
             "linecolor": "#C8D4E3",
             "minorgridcolor": "#C8D4E3",
             "startlinecolor": "#2a3f5f"
            },
            "baxis": {
             "endlinecolor": "#2a3f5f",
             "gridcolor": "#C8D4E3",
             "linecolor": "#C8D4E3",
             "minorgridcolor": "#C8D4E3",
             "startlinecolor": "#2a3f5f"
            },
            "type": "carpet"
           }
          ],
          "choropleth": [
           {
            "colorbar": {
             "outlinewidth": 0,
             "ticks": ""
            },
            "type": "choropleth"
           }
          ],
          "contour": [
           {
            "colorbar": {
             "outlinewidth": 0,
             "ticks": ""
            },
            "colorscale": [
             [
              0,
              "#0d0887"
             ],
             [
              0.1111111111111111,
              "#46039f"
             ],
             [
              0.2222222222222222,
              "#7201a8"
             ],
             [
              0.3333333333333333,
              "#9c179e"
             ],
             [
              0.4444444444444444,
              "#bd3786"
             ],
             [
              0.5555555555555556,
              "#d8576b"
             ],
             [
              0.6666666666666666,
              "#ed7953"
             ],
             [
              0.7777777777777778,
              "#fb9f3a"
             ],
             [
              0.8888888888888888,
              "#fdca26"
             ],
             [
              1,
              "#f0f921"
             ]
            ],
            "type": "contour"
           }
          ],
          "contourcarpet": [
           {
            "colorbar": {
             "outlinewidth": 0,
             "ticks": ""
            },
            "type": "contourcarpet"
           }
          ],
          "heatmap": [
           {
            "colorbar": {
             "outlinewidth": 0,
             "ticks": ""
            },
            "colorscale": [
             [
              0,
              "#0d0887"
             ],
             [
              0.1111111111111111,
              "#46039f"
             ],
             [
              0.2222222222222222,
              "#7201a8"
             ],
             [
              0.3333333333333333,
              "#9c179e"
             ],
             [
              0.4444444444444444,
              "#bd3786"
             ],
             [
              0.5555555555555556,
              "#d8576b"
             ],
             [
              0.6666666666666666,
              "#ed7953"
             ],
             [
              0.7777777777777778,
              "#fb9f3a"
             ],
             [
              0.8888888888888888,
              "#fdca26"
             ],
             [
              1,
              "#f0f921"
             ]
            ],
            "type": "heatmap"
           }
          ],
          "heatmapgl": [
           {
            "colorbar": {
             "outlinewidth": 0,
             "ticks": ""
            },
            "colorscale": [
             [
              0,
              "#0d0887"
             ],
             [
              0.1111111111111111,
              "#46039f"
             ],
             [
              0.2222222222222222,
              "#7201a8"
             ],
             [
              0.3333333333333333,
              "#9c179e"
             ],
             [
              0.4444444444444444,
              "#bd3786"
             ],
             [
              0.5555555555555556,
              "#d8576b"
             ],
             [
              0.6666666666666666,
              "#ed7953"
             ],
             [
              0.7777777777777778,
              "#fb9f3a"
             ],
             [
              0.8888888888888888,
              "#fdca26"
             ],
             [
              1,
              "#f0f921"
             ]
            ],
            "type": "heatmapgl"
           }
          ],
          "histogram": [
           {
            "marker": {
             "pattern": {
              "fillmode": "overlay",
              "size": 10,
              "solidity": 0.2
             }
            },
            "type": "histogram"
           }
          ],
          "histogram2d": [
           {
            "colorbar": {
             "outlinewidth": 0,
             "ticks": ""
            },
            "colorscale": [
             [
              0,
              "#0d0887"
             ],
             [
              0.1111111111111111,
              "#46039f"
             ],
             [
              0.2222222222222222,
              "#7201a8"
             ],
             [
              0.3333333333333333,
              "#9c179e"
             ],
             [
              0.4444444444444444,
              "#bd3786"
             ],
             [
              0.5555555555555556,
              "#d8576b"
             ],
             [
              0.6666666666666666,
              "#ed7953"
             ],
             [
              0.7777777777777778,
              "#fb9f3a"
             ],
             [
              0.8888888888888888,
              "#fdca26"
             ],
             [
              1,
              "#f0f921"
             ]
            ],
            "type": "histogram2d"
           }
          ],
          "histogram2dcontour": [
           {
            "colorbar": {
             "outlinewidth": 0,
             "ticks": ""
            },
            "colorscale": [
             [
              0,
              "#0d0887"
             ],
             [
              0.1111111111111111,
              "#46039f"
             ],
             [
              0.2222222222222222,
              "#7201a8"
             ],
             [
              0.3333333333333333,
              "#9c179e"
             ],
             [
              0.4444444444444444,
              "#bd3786"
             ],
             [
              0.5555555555555556,
              "#d8576b"
             ],
             [
              0.6666666666666666,
              "#ed7953"
             ],
             [
              0.7777777777777778,
              "#fb9f3a"
             ],
             [
              0.8888888888888888,
              "#fdca26"
             ],
             [
              1,
              "#f0f921"
             ]
            ],
            "type": "histogram2dcontour"
           }
          ],
          "mesh3d": [
           {
            "colorbar": {
             "outlinewidth": 0,
             "ticks": ""
            },
            "type": "mesh3d"
           }
          ],
          "parcoords": [
           {
            "line": {
             "colorbar": {
              "outlinewidth": 0,
              "ticks": ""
             }
            },
            "type": "parcoords"
           }
          ],
          "pie": [
           {
            "automargin": true,
            "type": "pie"
           }
          ],
          "scatter": [
           {
            "fillpattern": {
             "fillmode": "overlay",
             "size": 10,
             "solidity": 0.2
            },
            "type": "scatter"
           }
          ],
          "scatter3d": [
           {
            "line": {
             "colorbar": {
              "outlinewidth": 0,
              "ticks": ""
             }
            },
            "marker": {
             "colorbar": {
              "outlinewidth": 0,
              "ticks": ""
             }
            },
            "type": "scatter3d"
           }
          ],
          "scattercarpet": [
           {
            "marker": {
             "colorbar": {
              "outlinewidth": 0,
              "ticks": ""
             }
            },
            "type": "scattercarpet"
           }
          ],
          "scattergeo": [
           {
            "marker": {
             "colorbar": {
              "outlinewidth": 0,
              "ticks": ""
             }
            },
            "type": "scattergeo"
           }
          ],
          "scattergl": [
           {
            "marker": {
             "colorbar": {
              "outlinewidth": 0,
              "ticks": ""
             }
            },
            "type": "scattergl"
           }
          ],
          "scattermapbox": [
           {
            "marker": {
             "colorbar": {
              "outlinewidth": 0,
              "ticks": ""
             }
            },
            "type": "scattermapbox"
           }
          ],
          "scatterpolar": [
           {
            "marker": {
             "colorbar": {
              "outlinewidth": 0,
              "ticks": ""
             }
            },
            "type": "scatterpolar"
           }
          ],
          "scatterpolargl": [
           {
            "marker": {
             "colorbar": {
              "outlinewidth": 0,
              "ticks": ""
             }
            },
            "type": "scatterpolargl"
           }
          ],
          "scatterternary": [
           {
            "marker": {
             "colorbar": {
              "outlinewidth": 0,
              "ticks": ""
             }
            },
            "type": "scatterternary"
           }
          ],
          "surface": [
           {
            "colorbar": {
             "outlinewidth": 0,
             "ticks": ""
            },
            "colorscale": [
             [
              0,
              "#0d0887"
             ],
             [
              0.1111111111111111,
              "#46039f"
             ],
             [
              0.2222222222222222,
              "#7201a8"
             ],
             [
              0.3333333333333333,
              "#9c179e"
             ],
             [
              0.4444444444444444,
              "#bd3786"
             ],
             [
              0.5555555555555556,
              "#d8576b"
             ],
             [
              0.6666666666666666,
              "#ed7953"
             ],
             [
              0.7777777777777778,
              "#fb9f3a"
             ],
             [
              0.8888888888888888,
              "#fdca26"
             ],
             [
              1,
              "#f0f921"
             ]
            ],
            "type": "surface"
           }
          ],
          "table": [
           {
            "cells": {
             "fill": {
              "color": "#EBF0F8"
             },
             "line": {
              "color": "white"
             }
            },
            "header": {
             "fill": {
              "color": "#C8D4E3"
             },
             "line": {
              "color": "white"
             }
            },
            "type": "table"
           }
          ]
         },
         "layout": {
          "annotationdefaults": {
           "arrowcolor": "#2a3f5f",
           "arrowhead": 0,
           "arrowwidth": 1
          },
          "autotypenumbers": "strict",
          "coloraxis": {
           "colorbar": {
            "outlinewidth": 0,
            "ticks": ""
           }
          },
          "colorscale": {
           "diverging": [
            [
             0,
             "#8e0152"
            ],
            [
             0.1,
             "#c51b7d"
            ],
            [
             0.2,
             "#de77ae"
            ],
            [
             0.3,
             "#f1b6da"
            ],
            [
             0.4,
             "#fde0ef"
            ],
            [
             0.5,
             "#f7f7f7"
            ],
            [
             0.6,
             "#e6f5d0"
            ],
            [
             0.7,
             "#b8e186"
            ],
            [
             0.8,
             "#7fbc41"
            ],
            [
             0.9,
             "#4d9221"
            ],
            [
             1,
             "#276419"
            ]
           ],
           "sequential": [
            [
             0,
             "#0d0887"
            ],
            [
             0.1111111111111111,
             "#46039f"
            ],
            [
             0.2222222222222222,
             "#7201a8"
            ],
            [
             0.3333333333333333,
             "#9c179e"
            ],
            [
             0.4444444444444444,
             "#bd3786"
            ],
            [
             0.5555555555555556,
             "#d8576b"
            ],
            [
             0.6666666666666666,
             "#ed7953"
            ],
            [
             0.7777777777777778,
             "#fb9f3a"
            ],
            [
             0.8888888888888888,
             "#fdca26"
            ],
            [
             1,
             "#f0f921"
            ]
           ],
           "sequentialminus": [
            [
             0,
             "#0d0887"
            ],
            [
             0.1111111111111111,
             "#46039f"
            ],
            [
             0.2222222222222222,
             "#7201a8"
            ],
            [
             0.3333333333333333,
             "#9c179e"
            ],
            [
             0.4444444444444444,
             "#bd3786"
            ],
            [
             0.5555555555555556,
             "#d8576b"
            ],
            [
             0.6666666666666666,
             "#ed7953"
            ],
            [
             0.7777777777777778,
             "#fb9f3a"
            ],
            [
             0.8888888888888888,
             "#fdca26"
            ],
            [
             1,
             "#f0f921"
            ]
           ]
          },
          "colorway": [
           "#636efa",
           "#EF553B",
           "#00cc96",
           "#ab63fa",
           "#FFA15A",
           "#19d3f3",
           "#FF6692",
           "#B6E880",
           "#FF97FF",
           "#FECB52"
          ],
          "font": {
           "color": "#2a3f5f"
          },
          "geo": {
           "bgcolor": "white",
           "lakecolor": "white",
           "landcolor": "white",
           "showlakes": true,
           "showland": true,
           "subunitcolor": "#C8D4E3"
          },
          "hoverlabel": {
           "align": "left"
          },
          "hovermode": "closest",
          "mapbox": {
           "style": "light"
          },
          "paper_bgcolor": "white",
          "plot_bgcolor": "white",
          "polar": {
           "angularaxis": {
            "gridcolor": "#EBF0F8",
            "linecolor": "#EBF0F8",
            "ticks": ""
           },
           "bgcolor": "white",
           "radialaxis": {
            "gridcolor": "#EBF0F8",
            "linecolor": "#EBF0F8",
            "ticks": ""
           }
          },
          "scene": {
           "xaxis": {
            "backgroundcolor": "white",
            "gridcolor": "#DFE8F3",
            "gridwidth": 2,
            "linecolor": "#EBF0F8",
            "showbackground": true,
            "ticks": "",
            "zerolinecolor": "#EBF0F8"
           },
           "yaxis": {
            "backgroundcolor": "white",
            "gridcolor": "#DFE8F3",
            "gridwidth": 2,
            "linecolor": "#EBF0F8",
            "showbackground": true,
            "ticks": "",
            "zerolinecolor": "#EBF0F8"
           },
           "zaxis": {
            "backgroundcolor": "white",
            "gridcolor": "#DFE8F3",
            "gridwidth": 2,
            "linecolor": "#EBF0F8",
            "showbackground": true,
            "ticks": "",
            "zerolinecolor": "#EBF0F8"
           }
          },
          "shapedefaults": {
           "line": {
            "color": "#2a3f5f"
           }
          },
          "ternary": {
           "aaxis": {
            "gridcolor": "#DFE8F3",
            "linecolor": "#A2B1C6",
            "ticks": ""
           },
           "baxis": {
            "gridcolor": "#DFE8F3",
            "linecolor": "#A2B1C6",
            "ticks": ""
           },
           "bgcolor": "white",
           "caxis": {
            "gridcolor": "#DFE8F3",
            "linecolor": "#A2B1C6",
            "ticks": ""
           }
          },
          "title": {
           "x": 0.05
          },
          "xaxis": {
           "automargin": true,
           "gridcolor": "#EBF0F8",
           "linecolor": "#EBF0F8",
           "ticks": "",
           "title": {
            "standoff": 15
           },
           "zerolinecolor": "#EBF0F8",
           "zerolinewidth": 2
          },
          "yaxis": {
           "automargin": true,
           "gridcolor": "#EBF0F8",
           "linecolor": "#EBF0F8",
           "ticks": "",
           "title": {
            "standoff": 15
           },
           "zerolinecolor": "#EBF0F8",
           "zerolinewidth": 2
          }
         }
        },
        "title": {
         "font": {
          "color": "black",
          "family": "Arial",
          "size": 20
         },
         "text": "KOSPI 시장 업종별 1개월 수익률 대비 변동성 지수",
         "x": 0.5
        },
        "xaxis": {
         "anchor": "y",
         "domain": [
          0,
          1
         ],
         "title": {
          "text": "평균 수익률"
         }
        },
        "yaxis": {
         "anchor": "x",
         "domain": [
          0,
          1
         ],
         "title": {
          "text": "평균 변동성"
         }
        }
       }
      }
     },
     "metadata": {},
     "output_type": "display_data"
    },
    {
     "data": {
      "text/html": [
       "<div>\n",
       "<style scoped>\n",
       "    .dataframe tbody tr th:only-of-type {\n",
       "        vertical-align: middle;\n",
       "    }\n",
       "\n",
       "    .dataframe tbody tr th {\n",
       "        vertical-align: top;\n",
       "    }\n",
       "\n",
       "    .dataframe thead th {\n",
       "        text-align: right;\n",
       "    }\n",
       "</style>\n",
       "<table border=\"1\" class=\"dataframe\">\n",
       "  <thead>\n",
       "    <tr style=\"text-align: right;\">\n",
       "      <th></th>\n",
       "      <th>Sector</th>\n",
       "      <th>TotalReturn</th>\n",
       "      <th>Volatility</th>\n",
       "      <th>Color</th>\n",
       "    </tr>\n",
       "  </thead>\n",
       "  <tbody>\n",
       "    <tr>\n",
       "      <th>56</th>\n",
       "      <td>조선</td>\n",
       "      <td>25.128182</td>\n",
       "      <td>3.268182</td>\n",
       "      <td>Below</td>\n",
       "    </tr>\n",
       "    <tr>\n",
       "      <th>17</th>\n",
       "      <td>디스플레이장비및부품</td>\n",
       "      <td>24.307500</td>\n",
       "      <td>3.440000</td>\n",
       "      <td>Below</td>\n",
       "    </tr>\n",
       "    <tr>\n",
       "      <th>23</th>\n",
       "      <td>반도체와반도체장비</td>\n",
       "      <td>22.250714</td>\n",
       "      <td>3.321429</td>\n",
       "      <td>Below</td>\n",
       "    </tr>\n",
       "    <tr>\n",
       "      <th>55</th>\n",
       "      <td>제약</td>\n",
       "      <td>10.008710</td>\n",
       "      <td>2.548387</td>\n",
       "      <td>Below</td>\n",
       "    </tr>\n",
       "    <tr>\n",
       "      <th>41</th>\n",
       "      <td>에너지장비및서비스</td>\n",
       "      <td>9.937500</td>\n",
       "      <td>2.818750</td>\n",
       "      <td>Below</td>\n",
       "    </tr>\n",
       "    <tr>\n",
       "      <th>5</th>\n",
       "      <td>건강관리장비와용품</td>\n",
       "      <td>9.486000</td>\n",
       "      <td>2.286000</td>\n",
       "      <td>Below</td>\n",
       "    </tr>\n",
       "    <tr>\n",
       "      <th>53</th>\n",
       "      <td>전자장비와기기</td>\n",
       "      <td>9.032593</td>\n",
       "      <td>2.723333</td>\n",
       "      <td>Below</td>\n",
       "    </tr>\n",
       "    <tr>\n",
       "      <th>57</th>\n",
       "      <td>종이와목재</td>\n",
       "      <td>8.146923</td>\n",
       "      <td>2.590000</td>\n",
       "      <td>Below</td>\n",
       "    </tr>\n",
       "    <tr>\n",
       "      <th>3</th>\n",
       "      <td>가정용기기와용품</td>\n",
       "      <td>7.340000</td>\n",
       "      <td>2.444000</td>\n",
       "      <td>Below</td>\n",
       "    </tr>\n",
       "    <tr>\n",
       "      <th>48</th>\n",
       "      <td>자동차부품</td>\n",
       "      <td>7.127808</td>\n",
       "      <td>2.575068</td>\n",
       "      <td>Below</td>\n",
       "    </tr>\n",
       "    <tr>\n",
       "      <th>26</th>\n",
       "      <td>복합기업</td>\n",
       "      <td>6.197083</td>\n",
       "      <td>2.290833</td>\n",
       "      <td>Below</td>\n",
       "    </tr>\n",
       "    <tr>\n",
       "      <th>68</th>\n",
       "      <td>항공화물운송과물류</td>\n",
       "      <td>5.615455</td>\n",
       "      <td>1.784545</td>\n",
       "      <td>Below</td>\n",
       "    </tr>\n",
       "    <tr>\n",
       "      <th>21</th>\n",
       "      <td>무역회사와판매업체</td>\n",
       "      <td>4.940000</td>\n",
       "      <td>2.222000</td>\n",
       "      <td>Below</td>\n",
       "    </tr>\n",
       "    <tr>\n",
       "      <th>4</th>\n",
       "      <td>가정용품</td>\n",
       "      <td>3.970000</td>\n",
       "      <td>2.205000</td>\n",
       "      <td>Below</td>\n",
       "    </tr>\n",
       "    <tr>\n",
       "      <th>7</th>\n",
       "      <td>건축자재</td>\n",
       "      <td>3.500000</td>\n",
       "      <td>2.439355</td>\n",
       "      <td>Below</td>\n",
       "    </tr>\n",
       "    <tr>\n",
       "      <th>49</th>\n",
       "      <td>전기유틸리티</td>\n",
       "      <td>3.492500</td>\n",
       "      <td>1.957500</td>\n",
       "      <td>Below</td>\n",
       "    </tr>\n",
       "    <tr>\n",
       "      <th>18</th>\n",
       "      <td>디스플레이패널</td>\n",
       "      <td>3.290000</td>\n",
       "      <td>2.185000</td>\n",
       "      <td>Below</td>\n",
       "    </tr>\n",
       "    <tr>\n",
       "      <th>2</th>\n",
       "      <td>가스유틸리티</td>\n",
       "      <td>2.857273</td>\n",
       "      <td>1.631818</td>\n",
       "      <td>Below</td>\n",
       "    </tr>\n",
       "    <tr>\n",
       "      <th>30</th>\n",
       "      <td>사무용전자제품</td>\n",
       "      <td>2.850000</td>\n",
       "      <td>1.350000</td>\n",
       "      <td>Below</td>\n",
       "    </tr>\n",
       "    <tr>\n",
       "      <th>69</th>\n",
       "      <td>해운사</td>\n",
       "      <td>2.478750</td>\n",
       "      <td>2.240000</td>\n",
       "      <td>Below</td>\n",
       "    </tr>\n",
       "    <tr>\n",
       "      <th>66</th>\n",
       "      <td>포장재</td>\n",
       "      <td>2.244375</td>\n",
       "      <td>1.961250</td>\n",
       "      <td>Below</td>\n",
       "    </tr>\n",
       "    <tr>\n",
       "      <th>54</th>\n",
       "      <td>전자제품</td>\n",
       "      <td>1.975000</td>\n",
       "      <td>1.970000</td>\n",
       "      <td>Below</td>\n",
       "    </tr>\n",
       "    <tr>\n",
       "      <th>60</th>\n",
       "      <td>철강</td>\n",
       "      <td>1.929459</td>\n",
       "      <td>2.261622</td>\n",
       "      <td>Below</td>\n",
       "    </tr>\n",
       "    <tr>\n",
       "      <th>25</th>\n",
       "      <td>백화점과일반상점</td>\n",
       "      <td>1.773571</td>\n",
       "      <td>2.146429</td>\n",
       "      <td>Below</td>\n",
       "    </tr>\n",
       "    <tr>\n",
       "      <th>59</th>\n",
       "      <td>창업투자</td>\n",
       "      <td>1.530000</td>\n",
       "      <td>1.940000</td>\n",
       "      <td>Below</td>\n",
       "    </tr>\n",
       "    <tr>\n",
       "      <th>46</th>\n",
       "      <td>인터넷과카탈로그소매</td>\n",
       "      <td>1.370000</td>\n",
       "      <td>1.680000</td>\n",
       "      <td>Below</td>\n",
       "    </tr>\n",
       "    <tr>\n",
       "      <th>34</th>\n",
       "      <td>석유와가스</td>\n",
       "      <td>1.256000</td>\n",
       "      <td>1.746000</td>\n",
       "      <td>Below</td>\n",
       "    </tr>\n",
       "    <tr>\n",
       "      <th>58</th>\n",
       "      <td>증권</td>\n",
       "      <td>1.203235</td>\n",
       "      <td>1.826471</td>\n",
       "      <td>Below</td>\n",
       "    </tr>\n",
       "    <tr>\n",
       "      <th>45</th>\n",
       "      <td>음료</td>\n",
       "      <td>0.962222</td>\n",
       "      <td>1.898889</td>\n",
       "      <td>Below</td>\n",
       "    </tr>\n",
       "    <tr>\n",
       "      <th>64</th>\n",
       "      <td>통신장비</td>\n",
       "      <td>0.266667</td>\n",
       "      <td>1.743333</td>\n",
       "      <td>Below</td>\n",
       "    </tr>\n",
       "    <tr>\n",
       "      <th>8</th>\n",
       "      <td>건축제품</td>\n",
       "      <td>0.250000</td>\n",
       "      <td>2.090000</td>\n",
       "      <td>Below</td>\n",
       "    </tr>\n",
       "    <tr>\n",
       "      <th>63</th>\n",
       "      <td>컴퓨터와주변기기</td>\n",
       "      <td>0.210000</td>\n",
       "      <td>1.440000</td>\n",
       "      <td>Below</td>\n",
       "    </tr>\n",
       "  </tbody>\n",
       "</table>\n",
       "</div>"
      ],
      "text/plain": [
       "        Sector  TotalReturn  Volatility  Color\n",
       "56          조선    25.128182    3.268182  Below\n",
       "17  디스플레이장비및부품    24.307500    3.440000  Below\n",
       "23   반도체와반도체장비    22.250714    3.321429  Below\n",
       "55          제약    10.008710    2.548387  Below\n",
       "41   에너지장비및서비스     9.937500    2.818750  Below\n",
       "5    건강관리장비와용품     9.486000    2.286000  Below\n",
       "53     전자장비와기기     9.032593    2.723333  Below\n",
       "57       종이와목재     8.146923    2.590000  Below\n",
       "3     가정용기기와용품     7.340000    2.444000  Below\n",
       "48       자동차부품     7.127808    2.575068  Below\n",
       "26        복합기업     6.197083    2.290833  Below\n",
       "68   항공화물운송과물류     5.615455    1.784545  Below\n",
       "21   무역회사와판매업체     4.940000    2.222000  Below\n",
       "4         가정용품     3.970000    2.205000  Below\n",
       "7         건축자재     3.500000    2.439355  Below\n",
       "49      전기유틸리티     3.492500    1.957500  Below\n",
       "18     디스플레이패널     3.290000    2.185000  Below\n",
       "2       가스유틸리티     2.857273    1.631818  Below\n",
       "30     사무용전자제품     2.850000    1.350000  Below\n",
       "69         해운사     2.478750    2.240000  Below\n",
       "66         포장재     2.244375    1.961250  Below\n",
       "54        전자제품     1.975000    1.970000  Below\n",
       "60          철강     1.929459    2.261622  Below\n",
       "25    백화점과일반상점     1.773571    2.146429  Below\n",
       "59        창업투자     1.530000    1.940000  Below\n",
       "46  인터넷과카탈로그소매     1.370000    1.680000  Below\n",
       "34       석유와가스     1.256000    1.746000  Below\n",
       "58          증권     1.203235    1.826471  Below\n",
       "45          음료     0.962222    1.898889  Below\n",
       "64        통신장비     0.266667    1.743333  Below\n",
       "8         건축제품     0.250000    2.090000  Below\n",
       "63    컴퓨터와주변기기     0.210000    1.440000  Below"
      ]
     },
     "metadata": {},
     "output_type": "display_data"
    }
   ],
   "source": [
    "analyze_sector_return_volatility('KOSPI')"
   ]
  },
  {
   "cell_type": "code",
   "execution_count": 12,
   "metadata": {},
   "outputs": [
    {
     "name": "stdout",
     "output_type": "stream",
     "text": [
      "1개월 간의 data를 불러옵니다.\n"
     ]
    },
    {
     "data": {
      "application/vnd.plotly.v1+json": {
       "config": {
        "plotlyServerURL": "https://plot.ly"
       },
       "data": [
        {
         "customdata": [
          [
           "손해보험"
          ],
          [
           "건축제품"
          ],
          [
           "방송과엔터테인먼트"
          ],
          [
           "가구"
          ],
          [
           "호텔,레스토랑,레저"
          ],
          [
           "판매업체"
          ],
          [
           "기타금융"
          ],
          [
           "가정용기기와용품"
          ],
          [
           "건축자재"
          ],
          [
           "석유와가스"
          ],
          [
           "인터넷과카탈로그소매"
          ],
          [
           "광고"
          ],
          [
           "교육서비스"
          ],
          [
           "건설"
          ],
          [
           "컴퓨터와주변기기"
          ],
          [
           "전기제품"
          ],
          [
           "운송인프라"
          ],
          [
           "섬유,의류,신발,호화품"
          ],
          [
           "화장품"
          ],
          [
           "항공화물운송과물류"
          ],
          [
           "생물공학"
          ],
          [
           "건강관리기술"
          ],
          [
           "전기장비"
          ],
          [
           "IT서비스"
          ],
          [
           "생명과학도구및서비스"
          ],
          [
           "양방향미디어와서비스"
          ],
          [
           "소프트웨어"
          ],
          [
           "건강관리업체및서비스"
          ],
          [
           "제약"
          ],
          [
           "식품"
          ]
         ],
         "hovertemplate": "Color=Above<br>평균 수익률=%{x}<br>평균 변동성=%{y}<br>Sector=%{customdata[0]}<extra></extra>",
         "legendgroup": "Above",
         "marker": {
          "color": "#636efa",
          "symbol": "circle"
         },
         "mode": "markers",
         "name": "Above",
         "orientation": "v",
         "showlegend": true,
         "type": "scatter",
         "x": [
          -6.56,
          -1.0577777777777777,
          -0.8313333333333333,
          -0.3279999999999996,
          0.7433333333333334,
          3.0242857142857145,
          3.3499999999999996,
          3.712666666666667,
          3.8444444444444437,
          3.940000000000001,
          3.966666666666667,
          4.789230769230769,
          5.013888888888889,
          5.5845714285714285,
          5.8265,
          6.098928571428571,
          6.142857142857143,
          6.284375,
          6.621951219512195,
          7.625,
          8.08294117647059,
          8.176666666666668,
          8.194285714285714,
          8.95329268292683,
          11.325675675675676,
          11.448461538461537,
          12.404305555555556,
          16.574166666666667,
          20.596666666666668,
          28.70909090909091
         ],
         "xaxis": "x",
         "y": [
          2.13,
          3.8900000000000006,
          3.8506666666666667,
          2.756,
          2.318888888888889,
          2.967142857142857,
          2.75,
          3.380666666666667,
          3.626666666666667,
          4.248333333333333,
          2.8350000000000004,
          3.329230769230769,
          4.072777777777778,
          3.4317142857142855,
          3.6465000000000005,
          3.0835714285714286,
          3.882857142857143,
          3.56625,
          3.5714634146341466,
          4.495,
          4.134705882352941,
          4.3025,
          3.41,
          3.754268292682927,
          3.7424324324324325,
          4.226153846153846,
          4.106249999999999,
          4.6066666666666665,
          5.68018018018018,
          8.472727272727273
         ],
         "yaxis": "y"
        },
        {
         "customdata": [
          [
           "도로와철도운송"
          ],
          [
           "자동차"
          ],
          [
           "다각화된소비자서비스"
          ],
          [
           "백화점과일반상점"
          ],
          [
           "창업투자"
          ],
          [
           "디스플레이패널"
          ],
          [
           "은행"
          ],
          [
           "증권"
          ],
          [
           "다각화된통신서비스"
          ],
          [
           "무선통신서비스"
          ],
          [
           "포장재"
          ],
          [
           "복합기업"
          ],
          [
           "음료"
          ],
          [
           "철강"
          ],
          [
           "가스유틸리티"
          ],
          [
           "해운사"
          ],
          [
           "종이와목재"
          ],
          [
           "레저용장비와제품"
          ],
          [
           "전문소매"
          ],
          [
           "가정용품"
          ],
          [
           "출판"
          ],
          [
           "상업서비스와공급품"
          ],
          [
           "화학"
          ],
          [
           "우주항공과국방"
          ],
          [
           "게임엔터테인먼트"
          ],
          [
           "전자제품"
          ],
          [
           "자동차부품"
          ],
          [
           "비철금속"
          ],
          [
           "건강관리장비와용품"
          ],
          [
           "전자장비와기기"
          ],
          [
           "디스플레이장비및부품"
          ],
          [
           "에너지장비및서비스"
          ],
          [
           "조선"
          ],
          [
           "식품과기본식료품소매"
          ],
          [
           "핸드셋"
          ],
          [
           "기계"
          ],
          [
           "전기유틸리티"
          ],
          [
           "반도체와반도체장비"
          ],
          [
           "통신장비"
          ]
         ],
         "hovertemplate": "Color=Below<br>평균 수익률=%{x}<br>평균 변동성=%{y}<br>Sector=%{customdata[0]}<extra></extra>",
         "legendgroup": "Below",
         "marker": {
          "color": "#EF553B",
          "symbol": "circle"
         },
         "mode": "markers",
         "name": "Below",
         "orientation": "v",
         "showlegend": true,
         "type": "scatter",
         "x": [
          -2.43,
          -0.38000000000000017,
          0.78,
          1.5,
          1.947310924369748,
          2.28,
          2.52,
          2.785,
          3.21,
          3.6,
          3.774,
          4.45,
          4.546666666666667,
          5.052631578947368,
          6.06,
          6.13,
          6.3774999999999995,
          6.464444444444444,
          7.63,
          7.978333333333334,
          8.228,
          9.060476190476189,
          9.283478260869567,
          10.60388888888889,
          10.836,
          11.040000000000001,
          11.233733333333333,
          11.308125,
          12.328108108108108,
          12.410128205128204,
          12.909846153846154,
          12.998,
          15.086153846153847,
          16.88,
          17.76295081967213,
          17.88347222222222,
          17.9,
          23.070211267605632,
          23.642553191489363
         ],
         "xaxis": "x",
         "y": [
          1.2,
          1.8866666666666667,
          1.31,
          1.73,
          1.1332773109243697,
          0.645,
          2.2,
          1.8775,
          1.99,
          1.76,
          2.196,
          2.52,
          2.15,
          2.7531578947368422,
          2.86,
          2.013333333333333,
          1.4375,
          3.0077777777777777,
          1.4024999999999999,
          2.5533333333333332,
          3.1060000000000003,
          3.124285714285714,
          3.08804347826087,
          3.0438888888888886,
          3.4426666666666668,
          2.9978571428571428,
          3.3386666666666667,
          3.38875,
          3.531621621621621,
          3.3278205128205127,
          3.238769230769231,
          3.716666666666667,
          3.674615384615385,
          3.692,
          4.049016393442623,
          4.179305555555556,
          3.76,
          3.7741549295774646,
          4.33
         ],
         "yaxis": "y"
        },
        {
         "line": {
          "color": "black",
          "dash": "dash"
         },
         "mode": "lines",
         "name": "회귀선(KOSDAQ 시장 1개월 수익률 대비 평균 변동성)",
         "type": "scatter",
         "x": [
          -6.56,
          -2.43,
          -1.0577777777777777,
          -0.8313333333333333,
          -0.38000000000000017,
          -0.3279999999999996,
          0.7433333333333334,
          0.78,
          1.5,
          1.947310924369748,
          2.28,
          2.52,
          2.785,
          3.0242857142857145,
          3.21,
          3.3499999999999996,
          3.6,
          3.712666666666667,
          3.774,
          3.8444444444444437,
          3.940000000000001,
          3.966666666666667,
          4.45,
          4.546666666666667,
          4.789230769230769,
          5.013888888888889,
          5.052631578947368,
          5.5845714285714285,
          5.8265,
          6.06,
          6.098928571428571,
          6.13,
          6.142857142857143,
          6.284375,
          6.3774999999999995,
          6.464444444444444,
          6.621951219512195,
          7.625,
          7.63,
          7.978333333333334,
          8.08294117647059,
          8.176666666666668,
          8.194285714285714,
          8.228,
          8.95329268292683,
          9.060476190476189,
          9.283478260869567,
          10.60388888888889,
          10.836,
          11.040000000000001,
          11.233733333333333,
          11.308125,
          11.325675675675676,
          11.448461538461537,
          12.328108108108108,
          12.404305555555556,
          12.410128205128204,
          12.909846153846154,
          12.998,
          15.086153846153847,
          16.574166666666667,
          16.88,
          17.76295081967213,
          17.88347222222222,
          17.9,
          20.596666666666668,
          23.070211267605632,
          23.642553191489363,
          28.70909090909091
         ],
         "y": [
          1.414359558201057,
          1.9218943742417698,
          2.090526469428824,
          2.1183541787398537,
          2.173818435472632,
          2.180208704342878,
          2.311864628374747,
          2.3163705871935103,
          2.4048512330892278,
          2.459821176845402,
          2.5007052661429214,
          2.530198814774827,
          2.56276460805589,
          2.5921703782692482,
          2.6149927670915565,
          2.632197337126835,
          2.6629197836184035,
          2.6767653661706037,
          2.6843026063765354,
          2.692959509076826,
          2.704702310846937,
          2.7079793718060374,
          2.7673761016897367,
          2.7792554476664764,
          2.80906409831368,
          2.8366722865540526,
          2.8414333674430967,
          2.9068033417103294,
          2.936533892072313,
          2.9652286570954383,
          2.970012580906268,
          2.9738309421130773,
          2.9754109536469295,
          2.992802052821621,
          3.00424616413973,
          3.0149307483084646,
          3.0342867221847785,
          3.1575511721326572,
          3.158165621062489,
          3.2009722298407413,
          3.2138274652942718,
          3.2253453707240523,
          3.227510571714886,
          3.2316537130703207,
          3.3207847756381037,
          3.3339565339399586,
          3.361361210640637,
          3.5236261901055252,
          3.552150274870364,
          3.577219791207484,
          3.60102763907535,
          3.610169615069691,
          3.6123264138470383,
          3.627415542244477,
          3.735515120914312,
          3.7448790089223047,
          3.7455945530820447,
          3.8070047848434987,
          3.8178379921294487,
          4.074450771347948,
          4.25731234837584,
          4.2948961412505255,
          4.40340177849878,
          4.418212627862516,
          4.420243722936124,
          4.751636512425178,
          5.055609879012601,
          5.125944855538198,
          5.748570591244308
         ]
        }
       ],
       "layout": {
        "legend": {
         "title": {
          "text": "Color"
         },
         "tracegroupgap": 0
        },
        "template": {
         "data": {
          "bar": [
           {
            "error_x": {
             "color": "#2a3f5f"
            },
            "error_y": {
             "color": "#2a3f5f"
            },
            "marker": {
             "line": {
              "color": "white",
              "width": 0.5
             },
             "pattern": {
              "fillmode": "overlay",
              "size": 10,
              "solidity": 0.2
             }
            },
            "type": "bar"
           }
          ],
          "barpolar": [
           {
            "marker": {
             "line": {
              "color": "white",
              "width": 0.5
             },
             "pattern": {
              "fillmode": "overlay",
              "size": 10,
              "solidity": 0.2
             }
            },
            "type": "barpolar"
           }
          ],
          "carpet": [
           {
            "aaxis": {
             "endlinecolor": "#2a3f5f",
             "gridcolor": "#C8D4E3",
             "linecolor": "#C8D4E3",
             "minorgridcolor": "#C8D4E3",
             "startlinecolor": "#2a3f5f"
            },
            "baxis": {
             "endlinecolor": "#2a3f5f",
             "gridcolor": "#C8D4E3",
             "linecolor": "#C8D4E3",
             "minorgridcolor": "#C8D4E3",
             "startlinecolor": "#2a3f5f"
            },
            "type": "carpet"
           }
          ],
          "choropleth": [
           {
            "colorbar": {
             "outlinewidth": 0,
             "ticks": ""
            },
            "type": "choropleth"
           }
          ],
          "contour": [
           {
            "colorbar": {
             "outlinewidth": 0,
             "ticks": ""
            },
            "colorscale": [
             [
              0,
              "#0d0887"
             ],
             [
              0.1111111111111111,
              "#46039f"
             ],
             [
              0.2222222222222222,
              "#7201a8"
             ],
             [
              0.3333333333333333,
              "#9c179e"
             ],
             [
              0.4444444444444444,
              "#bd3786"
             ],
             [
              0.5555555555555556,
              "#d8576b"
             ],
             [
              0.6666666666666666,
              "#ed7953"
             ],
             [
              0.7777777777777778,
              "#fb9f3a"
             ],
             [
              0.8888888888888888,
              "#fdca26"
             ],
             [
              1,
              "#f0f921"
             ]
            ],
            "type": "contour"
           }
          ],
          "contourcarpet": [
           {
            "colorbar": {
             "outlinewidth": 0,
             "ticks": ""
            },
            "type": "contourcarpet"
           }
          ],
          "heatmap": [
           {
            "colorbar": {
             "outlinewidth": 0,
             "ticks": ""
            },
            "colorscale": [
             [
              0,
              "#0d0887"
             ],
             [
              0.1111111111111111,
              "#46039f"
             ],
             [
              0.2222222222222222,
              "#7201a8"
             ],
             [
              0.3333333333333333,
              "#9c179e"
             ],
             [
              0.4444444444444444,
              "#bd3786"
             ],
             [
              0.5555555555555556,
              "#d8576b"
             ],
             [
              0.6666666666666666,
              "#ed7953"
             ],
             [
              0.7777777777777778,
              "#fb9f3a"
             ],
             [
              0.8888888888888888,
              "#fdca26"
             ],
             [
              1,
              "#f0f921"
             ]
            ],
            "type": "heatmap"
           }
          ],
          "heatmapgl": [
           {
            "colorbar": {
             "outlinewidth": 0,
             "ticks": ""
            },
            "colorscale": [
             [
              0,
              "#0d0887"
             ],
             [
              0.1111111111111111,
              "#46039f"
             ],
             [
              0.2222222222222222,
              "#7201a8"
             ],
             [
              0.3333333333333333,
              "#9c179e"
             ],
             [
              0.4444444444444444,
              "#bd3786"
             ],
             [
              0.5555555555555556,
              "#d8576b"
             ],
             [
              0.6666666666666666,
              "#ed7953"
             ],
             [
              0.7777777777777778,
              "#fb9f3a"
             ],
             [
              0.8888888888888888,
              "#fdca26"
             ],
             [
              1,
              "#f0f921"
             ]
            ],
            "type": "heatmapgl"
           }
          ],
          "histogram": [
           {
            "marker": {
             "pattern": {
              "fillmode": "overlay",
              "size": 10,
              "solidity": 0.2
             }
            },
            "type": "histogram"
           }
          ],
          "histogram2d": [
           {
            "colorbar": {
             "outlinewidth": 0,
             "ticks": ""
            },
            "colorscale": [
             [
              0,
              "#0d0887"
             ],
             [
              0.1111111111111111,
              "#46039f"
             ],
             [
              0.2222222222222222,
              "#7201a8"
             ],
             [
              0.3333333333333333,
              "#9c179e"
             ],
             [
              0.4444444444444444,
              "#bd3786"
             ],
             [
              0.5555555555555556,
              "#d8576b"
             ],
             [
              0.6666666666666666,
              "#ed7953"
             ],
             [
              0.7777777777777778,
              "#fb9f3a"
             ],
             [
              0.8888888888888888,
              "#fdca26"
             ],
             [
              1,
              "#f0f921"
             ]
            ],
            "type": "histogram2d"
           }
          ],
          "histogram2dcontour": [
           {
            "colorbar": {
             "outlinewidth": 0,
             "ticks": ""
            },
            "colorscale": [
             [
              0,
              "#0d0887"
             ],
             [
              0.1111111111111111,
              "#46039f"
             ],
             [
              0.2222222222222222,
              "#7201a8"
             ],
             [
              0.3333333333333333,
              "#9c179e"
             ],
             [
              0.4444444444444444,
              "#bd3786"
             ],
             [
              0.5555555555555556,
              "#d8576b"
             ],
             [
              0.6666666666666666,
              "#ed7953"
             ],
             [
              0.7777777777777778,
              "#fb9f3a"
             ],
             [
              0.8888888888888888,
              "#fdca26"
             ],
             [
              1,
              "#f0f921"
             ]
            ],
            "type": "histogram2dcontour"
           }
          ],
          "mesh3d": [
           {
            "colorbar": {
             "outlinewidth": 0,
             "ticks": ""
            },
            "type": "mesh3d"
           }
          ],
          "parcoords": [
           {
            "line": {
             "colorbar": {
              "outlinewidth": 0,
              "ticks": ""
             }
            },
            "type": "parcoords"
           }
          ],
          "pie": [
           {
            "automargin": true,
            "type": "pie"
           }
          ],
          "scatter": [
           {
            "fillpattern": {
             "fillmode": "overlay",
             "size": 10,
             "solidity": 0.2
            },
            "type": "scatter"
           }
          ],
          "scatter3d": [
           {
            "line": {
             "colorbar": {
              "outlinewidth": 0,
              "ticks": ""
             }
            },
            "marker": {
             "colorbar": {
              "outlinewidth": 0,
              "ticks": ""
             }
            },
            "type": "scatter3d"
           }
          ],
          "scattercarpet": [
           {
            "marker": {
             "colorbar": {
              "outlinewidth": 0,
              "ticks": ""
             }
            },
            "type": "scattercarpet"
           }
          ],
          "scattergeo": [
           {
            "marker": {
             "colorbar": {
              "outlinewidth": 0,
              "ticks": ""
             }
            },
            "type": "scattergeo"
           }
          ],
          "scattergl": [
           {
            "marker": {
             "colorbar": {
              "outlinewidth": 0,
              "ticks": ""
             }
            },
            "type": "scattergl"
           }
          ],
          "scattermapbox": [
           {
            "marker": {
             "colorbar": {
              "outlinewidth": 0,
              "ticks": ""
             }
            },
            "type": "scattermapbox"
           }
          ],
          "scatterpolar": [
           {
            "marker": {
             "colorbar": {
              "outlinewidth": 0,
              "ticks": ""
             }
            },
            "type": "scatterpolar"
           }
          ],
          "scatterpolargl": [
           {
            "marker": {
             "colorbar": {
              "outlinewidth": 0,
              "ticks": ""
             }
            },
            "type": "scatterpolargl"
           }
          ],
          "scatterternary": [
           {
            "marker": {
             "colorbar": {
              "outlinewidth": 0,
              "ticks": ""
             }
            },
            "type": "scatterternary"
           }
          ],
          "surface": [
           {
            "colorbar": {
             "outlinewidth": 0,
             "ticks": ""
            },
            "colorscale": [
             [
              0,
              "#0d0887"
             ],
             [
              0.1111111111111111,
              "#46039f"
             ],
             [
              0.2222222222222222,
              "#7201a8"
             ],
             [
              0.3333333333333333,
              "#9c179e"
             ],
             [
              0.4444444444444444,
              "#bd3786"
             ],
             [
              0.5555555555555556,
              "#d8576b"
             ],
             [
              0.6666666666666666,
              "#ed7953"
             ],
             [
              0.7777777777777778,
              "#fb9f3a"
             ],
             [
              0.8888888888888888,
              "#fdca26"
             ],
             [
              1,
              "#f0f921"
             ]
            ],
            "type": "surface"
           }
          ],
          "table": [
           {
            "cells": {
             "fill": {
              "color": "#EBF0F8"
             },
             "line": {
              "color": "white"
             }
            },
            "header": {
             "fill": {
              "color": "#C8D4E3"
             },
             "line": {
              "color": "white"
             }
            },
            "type": "table"
           }
          ]
         },
         "layout": {
          "annotationdefaults": {
           "arrowcolor": "#2a3f5f",
           "arrowhead": 0,
           "arrowwidth": 1
          },
          "autotypenumbers": "strict",
          "coloraxis": {
           "colorbar": {
            "outlinewidth": 0,
            "ticks": ""
           }
          },
          "colorscale": {
           "diverging": [
            [
             0,
             "#8e0152"
            ],
            [
             0.1,
             "#c51b7d"
            ],
            [
             0.2,
             "#de77ae"
            ],
            [
             0.3,
             "#f1b6da"
            ],
            [
             0.4,
             "#fde0ef"
            ],
            [
             0.5,
             "#f7f7f7"
            ],
            [
             0.6,
             "#e6f5d0"
            ],
            [
             0.7,
             "#b8e186"
            ],
            [
             0.8,
             "#7fbc41"
            ],
            [
             0.9,
             "#4d9221"
            ],
            [
             1,
             "#276419"
            ]
           ],
           "sequential": [
            [
             0,
             "#0d0887"
            ],
            [
             0.1111111111111111,
             "#46039f"
            ],
            [
             0.2222222222222222,
             "#7201a8"
            ],
            [
             0.3333333333333333,
             "#9c179e"
            ],
            [
             0.4444444444444444,
             "#bd3786"
            ],
            [
             0.5555555555555556,
             "#d8576b"
            ],
            [
             0.6666666666666666,
             "#ed7953"
            ],
            [
             0.7777777777777778,
             "#fb9f3a"
            ],
            [
             0.8888888888888888,
             "#fdca26"
            ],
            [
             1,
             "#f0f921"
            ]
           ],
           "sequentialminus": [
            [
             0,
             "#0d0887"
            ],
            [
             0.1111111111111111,
             "#46039f"
            ],
            [
             0.2222222222222222,
             "#7201a8"
            ],
            [
             0.3333333333333333,
             "#9c179e"
            ],
            [
             0.4444444444444444,
             "#bd3786"
            ],
            [
             0.5555555555555556,
             "#d8576b"
            ],
            [
             0.6666666666666666,
             "#ed7953"
            ],
            [
             0.7777777777777778,
             "#fb9f3a"
            ],
            [
             0.8888888888888888,
             "#fdca26"
            ],
            [
             1,
             "#f0f921"
            ]
           ]
          },
          "colorway": [
           "#636efa",
           "#EF553B",
           "#00cc96",
           "#ab63fa",
           "#FFA15A",
           "#19d3f3",
           "#FF6692",
           "#B6E880",
           "#FF97FF",
           "#FECB52"
          ],
          "font": {
           "color": "#2a3f5f"
          },
          "geo": {
           "bgcolor": "white",
           "lakecolor": "white",
           "landcolor": "white",
           "showlakes": true,
           "showland": true,
           "subunitcolor": "#C8D4E3"
          },
          "hoverlabel": {
           "align": "left"
          },
          "hovermode": "closest",
          "mapbox": {
           "style": "light"
          },
          "paper_bgcolor": "white",
          "plot_bgcolor": "white",
          "polar": {
           "angularaxis": {
            "gridcolor": "#EBF0F8",
            "linecolor": "#EBF0F8",
            "ticks": ""
           },
           "bgcolor": "white",
           "radialaxis": {
            "gridcolor": "#EBF0F8",
            "linecolor": "#EBF0F8",
            "ticks": ""
           }
          },
          "scene": {
           "xaxis": {
            "backgroundcolor": "white",
            "gridcolor": "#DFE8F3",
            "gridwidth": 2,
            "linecolor": "#EBF0F8",
            "showbackground": true,
            "ticks": "",
            "zerolinecolor": "#EBF0F8"
           },
           "yaxis": {
            "backgroundcolor": "white",
            "gridcolor": "#DFE8F3",
            "gridwidth": 2,
            "linecolor": "#EBF0F8",
            "showbackground": true,
            "ticks": "",
            "zerolinecolor": "#EBF0F8"
           },
           "zaxis": {
            "backgroundcolor": "white",
            "gridcolor": "#DFE8F3",
            "gridwidth": 2,
            "linecolor": "#EBF0F8",
            "showbackground": true,
            "ticks": "",
            "zerolinecolor": "#EBF0F8"
           }
          },
          "shapedefaults": {
           "line": {
            "color": "#2a3f5f"
           }
          },
          "ternary": {
           "aaxis": {
            "gridcolor": "#DFE8F3",
            "linecolor": "#A2B1C6",
            "ticks": ""
           },
           "baxis": {
            "gridcolor": "#DFE8F3",
            "linecolor": "#A2B1C6",
            "ticks": ""
           },
           "bgcolor": "white",
           "caxis": {
            "gridcolor": "#DFE8F3",
            "linecolor": "#A2B1C6",
            "ticks": ""
           }
          },
          "title": {
           "x": 0.05
          },
          "xaxis": {
           "automargin": true,
           "gridcolor": "#EBF0F8",
           "linecolor": "#EBF0F8",
           "ticks": "",
           "title": {
            "standoff": 15
           },
           "zerolinecolor": "#EBF0F8",
           "zerolinewidth": 2
          },
          "yaxis": {
           "automargin": true,
           "gridcolor": "#EBF0F8",
           "linecolor": "#EBF0F8",
           "ticks": "",
           "title": {
            "standoff": 15
           },
           "zerolinecolor": "#EBF0F8",
           "zerolinewidth": 2
          }
         }
        },
        "title": {
         "font": {
          "color": "black",
          "family": "Arial",
          "size": 20
         },
         "text": "KOSDAQ 시장 업종별 1개월 수익률 대비 변동성 지수",
         "x": 0.5
        },
        "xaxis": {
         "anchor": "y",
         "domain": [
          0,
          1
         ],
         "title": {
          "text": "평균 수익률"
         }
        },
        "yaxis": {
         "anchor": "x",
         "domain": [
          0,
          1
         ],
         "title": {
          "text": "평균 변동성"
         }
        }
       }
      }
     },
     "metadata": {},
     "output_type": "display_data"
    },
    {
     "data": {
      "text/html": [
       "<div>\n",
       "<style scoped>\n",
       "    .dataframe tbody tr th:only-of-type {\n",
       "        vertical-align: middle;\n",
       "    }\n",
       "\n",
       "    .dataframe tbody tr th {\n",
       "        vertical-align: top;\n",
       "    }\n",
       "\n",
       "    .dataframe thead th {\n",
       "        text-align: right;\n",
       "    }\n",
       "</style>\n",
       "<table border=\"1\" class=\"dataframe\">\n",
       "  <thead>\n",
       "    <tr style=\"text-align: right;\">\n",
       "      <th></th>\n",
       "      <th>Sector</th>\n",
       "      <th>TotalReturn</th>\n",
       "      <th>Volatility</th>\n",
       "      <th>Color</th>\n",
       "    </tr>\n",
       "  </thead>\n",
       "  <tbody>\n",
       "    <tr>\n",
       "      <th>60</th>\n",
       "      <td>통신장비</td>\n",
       "      <td>23.642553</td>\n",
       "      <td>4.330000</td>\n",
       "      <td>Below</td>\n",
       "    </tr>\n",
       "    <tr>\n",
       "      <th>23</th>\n",
       "      <td>반도체와반도체장비</td>\n",
       "      <td>23.070211</td>\n",
       "      <td>3.774155</td>\n",
       "      <td>Below</td>\n",
       "    </tr>\n",
       "    <tr>\n",
       "      <th>46</th>\n",
       "      <td>전기유틸리티</td>\n",
       "      <td>17.900000</td>\n",
       "      <td>3.760000</td>\n",
       "      <td>Below</td>\n",
       "    </tr>\n",
       "    <tr>\n",
       "      <th>14</th>\n",
       "      <td>기계</td>\n",
       "      <td>17.883472</td>\n",
       "      <td>4.179306</td>\n",
       "      <td>Below</td>\n",
       "    </tr>\n",
       "    <tr>\n",
       "      <th>65</th>\n",
       "      <td>핸드셋</td>\n",
       "      <td>17.762951</td>\n",
       "      <td>4.049016</td>\n",
       "      <td>Below</td>\n",
       "    </tr>\n",
       "    <tr>\n",
       "      <th>36</th>\n",
       "      <td>식품과기본식료품소매</td>\n",
       "      <td>16.880000</td>\n",
       "      <td>3.692000</td>\n",
       "      <td>Below</td>\n",
       "    </tr>\n",
       "    <tr>\n",
       "      <th>53</th>\n",
       "      <td>조선</td>\n",
       "      <td>15.086154</td>\n",
       "      <td>3.674615</td>\n",
       "      <td>Below</td>\n",
       "    </tr>\n",
       "    <tr>\n",
       "      <th>38</th>\n",
       "      <td>에너지장비및서비스</td>\n",
       "      <td>12.998000</td>\n",
       "      <td>3.716667</td>\n",
       "      <td>Below</td>\n",
       "    </tr>\n",
       "    <tr>\n",
       "      <th>19</th>\n",
       "      <td>디스플레이장비및부품</td>\n",
       "      <td>12.909846</td>\n",
       "      <td>3.238769</td>\n",
       "      <td>Below</td>\n",
       "    </tr>\n",
       "    <tr>\n",
       "      <th>50</th>\n",
       "      <td>전자장비와기기</td>\n",
       "      <td>12.410128</td>\n",
       "      <td>3.327821</td>\n",
       "      <td>Below</td>\n",
       "    </tr>\n",
       "    <tr>\n",
       "      <th>7</th>\n",
       "      <td>건강관리장비와용품</td>\n",
       "      <td>12.328108</td>\n",
       "      <td>3.531622</td>\n",
       "      <td>Below</td>\n",
       "    </tr>\n",
       "    <tr>\n",
       "      <th>27</th>\n",
       "      <td>비철금속</td>\n",
       "      <td>11.308125</td>\n",
       "      <td>3.388750</td>\n",
       "      <td>Below</td>\n",
       "    </tr>\n",
       "    <tr>\n",
       "      <th>45</th>\n",
       "      <td>자동차부품</td>\n",
       "      <td>11.233733</td>\n",
       "      <td>3.338667</td>\n",
       "      <td>Below</td>\n",
       "    </tr>\n",
       "    <tr>\n",
       "      <th>51</th>\n",
       "      <td>전자제품</td>\n",
       "      <td>11.040000</td>\n",
       "      <td>2.997857</td>\n",
       "      <td>Below</td>\n",
       "    </tr>\n",
       "    <tr>\n",
       "      <th>11</th>\n",
       "      <td>게임엔터테인먼트</td>\n",
       "      <td>10.836000</td>\n",
       "      <td>3.442667</td>\n",
       "      <td>Below</td>\n",
       "    </tr>\n",
       "    <tr>\n",
       "      <th>39</th>\n",
       "      <td>우주항공과국방</td>\n",
       "      <td>10.603889</td>\n",
       "      <td>3.043889</td>\n",
       "      <td>Below</td>\n",
       "    </tr>\n",
       "    <tr>\n",
       "      <th>68</th>\n",
       "      <td>화학</td>\n",
       "      <td>9.283478</td>\n",
       "      <td>3.088043</td>\n",
       "      <td>Below</td>\n",
       "    </tr>\n",
       "    <tr>\n",
       "      <th>28</th>\n",
       "      <td>상업서비스와공급품</td>\n",
       "      <td>9.060476</td>\n",
       "      <td>3.124286</td>\n",
       "      <td>Below</td>\n",
       "    </tr>\n",
       "    <tr>\n",
       "      <th>58</th>\n",
       "      <td>출판</td>\n",
       "      <td>8.228000</td>\n",
       "      <td>3.106000</td>\n",
       "      <td>Below</td>\n",
       "    </tr>\n",
       "    <tr>\n",
       "      <th>4</th>\n",
       "      <td>가정용품</td>\n",
       "      <td>7.978333</td>\n",
       "      <td>2.553333</td>\n",
       "      <td>Below</td>\n",
       "    </tr>\n",
       "    <tr>\n",
       "      <th>49</th>\n",
       "      <td>전문소매</td>\n",
       "      <td>7.630000</td>\n",
       "      <td>1.402500</td>\n",
       "      <td>Below</td>\n",
       "    </tr>\n",
       "    <tr>\n",
       "      <th>21</th>\n",
       "      <td>레저용장비와제품</td>\n",
       "      <td>6.464444</td>\n",
       "      <td>3.007778</td>\n",
       "      <td>Below</td>\n",
       "    </tr>\n",
       "    <tr>\n",
       "      <th>54</th>\n",
       "      <td>종이와목재</td>\n",
       "      <td>6.377500</td>\n",
       "      <td>1.437500</td>\n",
       "      <td>Below</td>\n",
       "    </tr>\n",
       "    <tr>\n",
       "      <th>64</th>\n",
       "      <td>해운사</td>\n",
       "      <td>6.130000</td>\n",
       "      <td>2.013333</td>\n",
       "      <td>Below</td>\n",
       "    </tr>\n",
       "    <tr>\n",
       "      <th>2</th>\n",
       "      <td>가스유틸리티</td>\n",
       "      <td>6.060000</td>\n",
       "      <td>2.860000</td>\n",
       "      <td>Below</td>\n",
       "    </tr>\n",
       "    <tr>\n",
       "      <th>57</th>\n",
       "      <td>철강</td>\n",
       "      <td>5.052632</td>\n",
       "      <td>2.753158</td>\n",
       "      <td>Below</td>\n",
       "    </tr>\n",
       "    <tr>\n",
       "      <th>42</th>\n",
       "      <td>음료</td>\n",
       "      <td>4.546667</td>\n",
       "      <td>2.150000</td>\n",
       "      <td>Below</td>\n",
       "    </tr>\n",
       "    <tr>\n",
       "      <th>26</th>\n",
       "      <td>복합기업</td>\n",
       "      <td>4.450000</td>\n",
       "      <td>2.520000</td>\n",
       "      <td>Below</td>\n",
       "    </tr>\n",
       "    <tr>\n",
       "      <th>62</th>\n",
       "      <td>포장재</td>\n",
       "      <td>3.774000</td>\n",
       "      <td>2.196000</td>\n",
       "      <td>Below</td>\n",
       "    </tr>\n",
       "    <tr>\n",
       "      <th>22</th>\n",
       "      <td>무선통신서비스</td>\n",
       "      <td>3.600000</td>\n",
       "      <td>1.760000</td>\n",
       "      <td>Below</td>\n",
       "    </tr>\n",
       "    <tr>\n",
       "      <th>17</th>\n",
       "      <td>다각화된통신서비스</td>\n",
       "      <td>3.210000</td>\n",
       "      <td>1.990000</td>\n",
       "      <td>Below</td>\n",
       "    </tr>\n",
       "    <tr>\n",
       "      <th>55</th>\n",
       "      <td>증권</td>\n",
       "      <td>2.785000</td>\n",
       "      <td>1.877500</td>\n",
       "      <td>Below</td>\n",
       "    </tr>\n",
       "    <tr>\n",
       "      <th>41</th>\n",
       "      <td>은행</td>\n",
       "      <td>2.520000</td>\n",
       "      <td>2.200000</td>\n",
       "      <td>Below</td>\n",
       "    </tr>\n",
       "    <tr>\n",
       "      <th>20</th>\n",
       "      <td>디스플레이패널</td>\n",
       "      <td>2.280000</td>\n",
       "      <td>0.645000</td>\n",
       "      <td>Below</td>\n",
       "    </tr>\n",
       "    <tr>\n",
       "      <th>56</th>\n",
       "      <td>창업투자</td>\n",
       "      <td>1.947311</td>\n",
       "      <td>1.133277</td>\n",
       "      <td>Below</td>\n",
       "    </tr>\n",
       "    <tr>\n",
       "      <th>25</th>\n",
       "      <td>백화점과일반상점</td>\n",
       "      <td>1.500000</td>\n",
       "      <td>1.730000</td>\n",
       "      <td>Below</td>\n",
       "    </tr>\n",
       "    <tr>\n",
       "      <th>16</th>\n",
       "      <td>다각화된소비자서비스</td>\n",
       "      <td>0.780000</td>\n",
       "      <td>1.310000</td>\n",
       "      <td>Below</td>\n",
       "    </tr>\n",
       "  </tbody>\n",
       "</table>\n",
       "</div>"
      ],
      "text/plain": [
       "        Sector  TotalReturn  Volatility  Color\n",
       "60        통신장비    23.642553    4.330000  Below\n",
       "23   반도체와반도체장비    23.070211    3.774155  Below\n",
       "46      전기유틸리티    17.900000    3.760000  Below\n",
       "14          기계    17.883472    4.179306  Below\n",
       "65         핸드셋    17.762951    4.049016  Below\n",
       "36  식품과기본식료품소매    16.880000    3.692000  Below\n",
       "53          조선    15.086154    3.674615  Below\n",
       "38   에너지장비및서비스    12.998000    3.716667  Below\n",
       "19  디스플레이장비및부품    12.909846    3.238769  Below\n",
       "50     전자장비와기기    12.410128    3.327821  Below\n",
       "7    건강관리장비와용품    12.328108    3.531622  Below\n",
       "27        비철금속    11.308125    3.388750  Below\n",
       "45       자동차부품    11.233733    3.338667  Below\n",
       "51        전자제품    11.040000    2.997857  Below\n",
       "11    게임엔터테인먼트    10.836000    3.442667  Below\n",
       "39     우주항공과국방    10.603889    3.043889  Below\n",
       "68          화학     9.283478    3.088043  Below\n",
       "28   상업서비스와공급품     9.060476    3.124286  Below\n",
       "58          출판     8.228000    3.106000  Below\n",
       "4         가정용품     7.978333    2.553333  Below\n",
       "49        전문소매     7.630000    1.402500  Below\n",
       "21    레저용장비와제품     6.464444    3.007778  Below\n",
       "54       종이와목재     6.377500    1.437500  Below\n",
       "64         해운사     6.130000    2.013333  Below\n",
       "2       가스유틸리티     6.060000    2.860000  Below\n",
       "57          철강     5.052632    2.753158  Below\n",
       "42          음료     4.546667    2.150000  Below\n",
       "26        복합기업     4.450000    2.520000  Below\n",
       "62         포장재     3.774000    2.196000  Below\n",
       "22     무선통신서비스     3.600000    1.760000  Below\n",
       "17   다각화된통신서비스     3.210000    1.990000  Below\n",
       "55          증권     2.785000    1.877500  Below\n",
       "41          은행     2.520000    2.200000  Below\n",
       "20     디스플레이패널     2.280000    0.645000  Below\n",
       "56        창업투자     1.947311    1.133277  Below\n",
       "25    백화점과일반상점     1.500000    1.730000  Below\n",
       "16  다각화된소비자서비스     0.780000    1.310000  Below"
      ]
     },
     "metadata": {},
     "output_type": "display_data"
    }
   ],
   "source": [
    "analyze_sector_return_volatility('KOSDAQ')"
   ]
  },
  {
   "cell_type": "code",
   "execution_count": 41,
   "metadata": {},
   "outputs": [
    {
     "name": "stdout",
     "output_type": "stream",
     "text": [
      "3개월 간의 data를 불러옵니다.\n"
     ]
    },
    {
     "data": {
      "application/vnd.plotly.v1+json": {
       "config": {
        "plotlyServerURL": "https://plot.ly"
       },
       "data": [
        {
         "customdata": [
          [
           "KODEX CD금리액티브(합성)"
          ],
          [
           "TIGER CD금리투자KIS(합성)"
          ],
          [
           "KODEX KOFR금리액티브(합성)"
          ],
          [
           "TIGER KOFR금리액티브(합성)"
          ],
          [
           "KODEX 종합채권(AA-이상)액티브"
          ],
          [
           "RISE 머니마켓액티브"
          ],
          [
           "KODEX CD1년금리플러스액티브(합성)"
          ],
          [
           "KODEX 단기채권PLUS"
          ],
          [
           "RISE 종합채권(A-이상)액티브"
          ],
          [
           "TIGER 25-10 회사채(A+이상)액티브"
          ],
          [
           "TIGER 25-12 금융채(AA-이상)"
          ],
          [
           "RISE CD금리액티브(합성)"
          ],
          [
           "KODEX 25-11 은행채(AA-이상)PLUS액티브"
          ],
          [
           "KODEX 25-12 은행채(AAA)액티브"
          ],
          [
           "SOL 종합채권(AA-이상)액티브"
          ],
          [
           "TIGER 단기통안채"
          ],
          [
           "ACE 종합채권(AA-이상)KIS액티브"
          ],
          [
           "KODEX 단기채권"
          ],
          [
           "TIGER 종합채권(AA-이상)액티브"
          ],
          [
           "SOL 초단기채권액티브"
          ],
          [
           "TIGER 단기채권액티브"
          ],
          [
           "RISE 단기통안채"
          ],
          [
           "KODEX 국고채3년"
          ],
          [
           "1Q CD금리액티브(합성)"
          ],
          [
           "1Q 머니마켓액티브"
          ],
          [
           "히어로즈 머니마켓액티브"
          ],
          [
           "히어로즈 종합채권(AA-이상)액티브"
          ],
          [
           "PLUS 머니마켓액티브"
          ],
          [
           "TIGER 중장기국채"
          ],
          [
           "KODEX 26-12 회사채(AA-이상)액티브"
          ],
          [
           "KODEX ESG종합채권(A-이상)액티브"
          ],
          [
           "KODEX 25-11 회사채(A+이상)액티브"
          ],
          [
           "PLUS 종합채권(AA-이상)액티브"
          ],
          [
           "ACE CD금리&초단기채권액티브"
          ],
          [
           "RISE KOFR금리액티브(합성)"
          ],
          [
           "TIGER 투자등급회사채액티브"
          ],
          [
           "1Q 단기금융채액티브"
          ],
          [
           "TIGER 27-04회사채(A+이상)액티브"
          ],
          [
           "SOL 26-12 회사채(AA-이상)액티브"
          ],
          [
           "RISE 단기국공채액티브"
          ],
          [
           "KODEX 단기변동금리부채권액티브"
          ],
          [
           "RISE 25-06 은행채(AA+이상)액티브"
          ],
          [
           "ACE 단기통안채"
          ],
          [
           "ACE 26-06 회사채(AA-이상)액티브"
          ],
          [
           "RISE 25-11 회사채(AA-이상)액티브"
          ],
          [
           "PLUS 국공채머니마켓액티브"
          ],
          [
           "ACE 2월만기자동연장회사채AA-이상액티브"
          ],
          [
           "SOL 25-09 회사채(AA-이상)액티브"
          ],
          [
           "HANARO 종합채권(AA-이상)액티브"
          ],
          [
           "1Q 25-08 회사채(A+이상)액티브"
          ],
          [
           "KODEX 미국종합채권ESG액티브(H)"
          ],
          [
           "BNK 26-06 특수채(AAA이상)액티브"
          ],
          [
           "마이티 26-09 특수채(AAA)액티브"
          ],
          [
           "히어로즈 25-09 회사채(AA-이상)액티브"
          ],
          [
           "KOSEF 단기자금"
          ],
          [
           "파워 종합채권(AA-이상)액티브"
          ],
          [
           "HK 종합채권(AA-이상)액티브"
          ],
          [
           "ACE 25-06 회사채(AA-이상)액티브"
          ],
          [
           "RISE 단기종합채권(AA-이상)액티브"
          ],
          [
           "ACE 11월만기자동연장회사채AA-이상액티브"
          ],
          [
           "히어로즈 26-09 회사채(AA-이상)액티브"
          ],
          [
           "TIGER 국채3년"
          ],
          [
           "히어로즈 단기채권ESG액티브"
          ],
          [
           "HANARO 머니마켓액티브"
          ],
          [
           "RISE 25-03 회사채(AA-이상)액티브"
          ],
          [
           "ACE 8월만기자동연장회사채AA-이상액티브"
          ],
          [
           "RISE 중기우량회사채"
          ],
          [
           "WON 25-09 회사채(AA-이상)액티브"
          ],
          [
           "SOL CD금리&머니마켓액티브"
          ],
          [
           "HANARO 25-12 은행채(AA+이상)액티브"
          ],
          [
           "ACE 단기채권알파액티브"
          ],
          [
           "PLUS 단기채권액티브"
          ],
          [
           "ACE 중장기국공채액티브"
          ],
          [
           "SOL 머니마켓액티브"
          ],
          [
           "RISE 국고채3년"
          ],
          [
           "ACE 5월만기자동연장회사채AA-이상액티브"
          ],
          [
           "KOSEF 통안채1년"
          ],
          [
           "RISE 금융채액티브"
          ],
          [
           "WON 단기국공채액티브"
          ],
          [
           "RISE 중장기국공채액티브"
          ],
          [
           "SOL 국고채3년"
          ],
          [
           "WON 전단채플러스액티브"
          ],
          [
           "SOL KIS단기통안채"
          ],
          [
           "ACE 국고채3년"
          ],
          [
           "KOSEF 국고채3년"
          ],
          [
           "KODEX 국채선물3년인버스"
          ],
          [
           "HANARO CD금리액티브(합성)"
          ],
          [
           "PLUS 우량회사채50"
          ],
          [
           "HANARO KOFR금리액티브(합성)"
          ],
          [
           "PLUS 국채선물3년"
          ],
          [
           "HANARO 단기채권액티브"
          ]
         ],
         "hovertemplate": "Color=Below<br>평균 수익률=%{x}<br>평균 변동성=%{y}<br>Name=%{customdata[0]}<extra></extra>",
         "legendgroup": "Below",
         "marker": {
          "color": "#636efa",
          "symbol": "circle"
         },
         "mode": "markers",
         "name": "Below",
         "orientation": "v",
         "showlegend": true,
         "type": "scatter",
         "x": [
          0.79,
          0.78,
          0.78,
          0.78,
          2.26,
          0.91,
          0.78,
          0.87,
          2.42,
          0.98,
          0.76,
          0.82,
          0.97,
          0.92,
          2.27,
          0.72,
          2.28,
          0.75,
          2.39,
          0.93,
          0.82,
          0.74,
          1.38,
          0.81,
          0.87,
          0.8,
          2.32,
          0.89,
          1.63,
          1.24,
          1.59,
          0.8,
          2.27,
          0.89,
          0.78,
          1.98,
          0.84,
          1.61,
          1.49,
          0.89,
          0.71,
          0.82,
          0.78,
          1.16,
          0.9,
          0.9,
          0.82,
          0.89,
          2.5,
          0.84,
          -1.99,
          0.31,
          1.39,
          0.9,
          0.82,
          0.45,
          1.69,
          0.85,
          0.86,
          0.92,
          1.37,
          1.38,
          1.17,
          0.86,
          0.82,
          0.78,
          1.4,
          0.92,
          0.35,
          0.8,
          0.89,
          1.03,
          1.94,
          0.83,
          1.47,
          0.83,
          0.92,
          1.7,
          0.86,
          1.99,
          1.74,
          0.68,
          0.74,
          1.49,
          1.61,
          0.12,
          0.77,
          1.08,
          0.76,
          1.41,
          0.73
         ],
         "xaxis": "x",
         "y": [
          0.01,
          0.01,
          0.01,
          0.01,
          0.23,
          0.02,
          0.01,
          0.02,
          0.2,
          0.03,
          0.03,
          0.01,
          0.05,
          0.02,
          0.21,
          0.01,
          0.24,
          0.01,
          0.21,
          0.01,
          0.01,
          0.01,
          0.11,
          0.01,
          0.01,
          0.01,
          0.23,
          0.01,
          0.22,
          0.06,
          0.15,
          0.04,
          0.25,
          0.01,
          0.01,
          0.12,
          0.01,
          0.07,
          0.05,
          0.02,
          0.01,
          0.02,
          0.01,
          0.06,
          0.02,
          0.01,
          0.05,
          0.02,
          0.25,
          0.02,
          0.29,
          0.04,
          0.06,
          0.02,
          0.01,
          0.31,
          0.19,
          0.06,
          0.02,
          0.04,
          0.05,
          0.1,
          0.03,
          0.01,
          0.02,
          0.04,
          0.07,
          0.02,
          0.02,
          0.07,
          0.02,
          0.02,
          0.13,
          0.01,
          0.11,
          0.04,
          0.02,
          0.09,
          0.02,
          0.14,
          0.15,
          0.03,
          0.01,
          0.1,
          0.11,
          0.09,
          0.01,
          0.04,
          0.01,
          0.11,
          0.01
         ],
         "yaxis": "y"
        },
        {
         "customdata": [
          [
           "ACE 미국30년국채액티브(H)"
          ],
          [
           "TIGER 미국30년국채커버드콜액티브(H)"
          ],
          [
           "TIGER 미국30년국채스트립액티브(합성 H)"
          ],
          [
           "TIGER 미국달러단기채권액티브"
          ],
          [
           "TIGER 미국달러SOFR금리액티브(합성)"
          ],
          [
           "KODEX 미국30년국채타겟커버드콜(합성 H)"
          ],
          [
           "KODEX 미국달러SOFR금리액티브(합성)"
          ],
          [
           "KODEX 국고채30년액티브"
          ],
          [
           "KODEX 국고채10년액티브"
          ],
          [
           "RISE 미국30년국채엔화노출(합성 H)"
          ],
          [
           "KOSEF 국고채10년"
          ],
          [
           "RISE KIS국고채30년Enhanced"
          ],
          [
           "KODEX 미국30년국채액티브(H)"
          ],
          [
           "KODEX 미국30년국채울트라선물(H)"
          ],
          [
           "ACE 국고채10년"
          ],
          [
           "SOL 미국30년국채커버드콜(합성)"
          ],
          [
           "PLUS 국고채10년액티브"
          ],
          [
           "TIGER 미국채10년선물"
          ],
          [
           "KODEX 장기종합채권(AA-이상)액티브"
          ],
          [
           "TIGER 국고채30년스트립액티브"
          ],
          [
           "TIGER 미국투자등급회사채액티브(H)"
          ],
          [
           "SOL 국고채10년"
          ],
          [
           "ACE 미국30년국채엔화노출액티브(H)"
          ],
          [
           "RISE 국고채10년액티브"
          ],
          [
           "KODEX 200미국채혼합"
          ],
          [
           "ACE 미국30년국채선물레버리지(합성 H)"
          ],
          [
           "ACE 미국30년국채액티브"
          ],
          [
           "RISE 국채선물10년인버스"
          ],
          [
           "KODEX 아시아달러채권ESG플러스액티브"
          ],
          [
           "KODEX 미국10년국채선물"
          ],
          [
           "RISE 미국달러SOFR금리액티브(합성)"
          ],
          [
           "SOL 미국30년국채액티브(H)"
          ],
          [
           "KODEX 국채선물10년"
          ],
          [
           "WON 대한민국국고채액티브"
          ],
          [
           "HANARO 32-10 국고채액티브"
          ],
          [
           "PLUS 미국채30년액티브"
          ],
          [
           "KODEX iShares미국하이일드액티브"
          ],
          [
           "PLUS 미국장기우량회사채"
          ],
          [
           "KOSEF 국고채10년레버리지"
          ],
          [
           "PLUS 미국단기회사채(AAA~A)"
          ],
          [
           "RISE 미국30년국채커버드콜(합성)"
          ],
          [
           "히어로즈 국고채30년액티브"
          ],
          [
           "PLUS 국고채30년액티브"
          ],
          [
           "KODEX 33-06 국고채액티브"
          ],
          [
           "RISE 미국단기투자등급회사채액티브"
          ],
          [
           "KODEX 53-09 국고채액티브"
          ],
          [
           "RISE 미국30년국채액티브"
          ],
          [
           "KODEX iShares미국투자등급회사채액티브"
          ],
          [
           "히어로즈 25-09 미국채권(AA-이상)액티브"
          ],
          [
           "ACE 미국달러단기채권액티브"
          ],
          [
           "RISE 국채30년레버리지(합성)"
          ],
          [
           "TIGER 단기선진하이일드(합성 H)"
          ],
          [
           "SOL 국고채30년액티브"
          ],
          [
           "히어로즈 미국달러SOFR금리액티브(합성)"
          ],
          [
           "PLUS 일본엔화초단기국채(합성)"
          ],
          [
           "RISE 미국장기국채선물(H)"
          ],
          [
           "PLUS 국채선물10년"
          ],
          [
           "KODEX iShares미국인플레이션국채액티브"
          ],
          [
           "RISE 국채선물3년"
          ],
          [
           "RISE 미국장기국채선물레버리지(합성 H)"
          ],
          [
           "KODEX 미국30년국채울트라선물인버스(H)"
          ],
          [
           "KODEX 국채선물10년인버스"
          ],
          [
           "RISE 국채선물10년"
          ],
          [
           "PLUS 미국달러SOFR금리액티브(합성)"
          ],
          [
           "ACE 미국하이일드액티브(H)"
          ],
          [
           "HANARO KAP초장기국고채"
          ],
          [
           "RISE 국채선물5년추종인버스"
          ],
          [
           "RISE 미국장기국채선물인버스(H)"
          ],
          [
           "RISE 국채선물5년추종"
          ],
          [
           "RISE KP달러채권액티브"
          ]
         ],
         "hovertemplate": "Color=Above<br>평균 수익률=%{x}<br>평균 변동성=%{y}<br>Name=%{customdata[0]}<extra></extra>",
         "legendgroup": "Above",
         "marker": {
          "color": "#EF553B",
          "symbol": "circle"
         },
         "mode": "markers",
         "name": "Above",
         "orientation": "v",
         "showlegend": true,
         "type": "scatter",
         "x": [
          -7.58,
          -6.76,
          -11.44,
          10.06,
          10.05,
          -7.2,
          10.12,
          5.25,
          2.1,
          -6.45,
          1.95,
          6.87,
          -7.32,
          -8.1,
          1.96,
          3.05,
          1.86,
          5.5,
          3.51,
          7.87,
          -2.96,
          2.12,
          -6.79,
          2.26,
          1.22,
          -16.54,
          0.75,
          -0.64,
          7.75,
          4.88,
          9.82,
          -7.6,
          1.69,
          3.26,
          2.85,
          1.25,
          9.49,
          2.73,
          2.63,
          9.22,
          3.35,
          5.73,
          5.28,
          2.14,
          9.03,
          5.31,
          -1.48,
          5.71,
          9.03,
          9.82,
          9.54,
          -0.03,
          5.36,
          9.82,
          2.09,
          -5.82,
          1.62,
          6.32,
          0.87,
          -13.09,
          8.69,
          -0.67,
          1.65,
          10.04,
          0.45,
          3.63,
          -0.45,
          7.66,
          1.02,
          9.22
         ],
         "xaxis": "x",
         "y": [
          0.79,
          0.74,
          1.34,
          0.43,
          0.41,
          0.74,
          0.41,
          0.65,
          0.33,
          1.16,
          0.34,
          0.86,
          0.82,
          0.84,
          0.33,
          0.66,
          0.35,
          0.43,
          0.37,
          0.99,
          0.42,
          0.32,
          1.08,
          0.34,
          0.48,
          1.58,
          0.83,
          0.45,
          0.44,
          0.43,
          0.48,
          0.82,
          0.35,
          0.3,
          0.33,
          0.86,
          0.59,
          0.72,
          0.73,
          1.08,
          0.72,
          0.66,
          0.66,
          0.31,
          0.41,
          0.64,
          1.04,
          0.51,
          0.41,
          0.43,
          1.29,
          0.43,
          0.65,
          0.43,
          0.52,
          0.59,
          0.35,
          0.45,
          0.39,
          1.19,
          0.87,
          0.34,
          0.58,
          0.44,
          0.55,
          0.54,
          0.36,
          0.67,
          0.35,
          0.41
         ],
         "yaxis": "y"
        },
        {
         "line": {
          "color": "black",
          "dash": "dash"
         },
         "mode": "lines",
         "name": "회귀선(ETF 시장 채권업종 3개월 수익률 대비 평균 변동성)",
         "type": "scatter",
         "x": [
          0.79,
          0.78,
          0.78,
          0.78,
          2.26,
          0.91,
          0.78,
          -7.58,
          0.87,
          2.42,
          0.98,
          -6.76,
          0.76,
          0.82,
          0.97,
          0.92,
          2.27,
          0.72,
          2.28,
          0.75,
          -11.44,
          2.39,
          10.06,
          10.05,
          -7.2,
          0.93,
          0.82,
          0.74,
          1.38,
          10.12,
          5.25,
          0.81,
          2.1,
          0.87,
          -6.45,
          1.95,
          0.8,
          2.32,
          6.87,
          0.89,
          1.63,
          1.24,
          -7.32,
          -8.1,
          1.59,
          0.8,
          2.27,
          0.89,
          0.78,
          1.98,
          1.96,
          0.84,
          1.61,
          1.49,
          0.89,
          3.05,
          0.71,
          0.82,
          0.78,
          1.86,
          5.5,
          1.16,
          3.51,
          7.87,
          0.9,
          -2.96,
          0.9,
          2.12,
          0.82,
          0.89,
          2.5,
          0.84,
          -1.99,
          -6.79,
          0.31,
          1.39,
          0.9,
          2.26,
          0.82,
          0.45,
          1.69,
          0.85,
          0.86,
          0.92,
          1.37,
          1.38,
          1.17,
          0.86,
          1.22,
          -16.54,
          0.82,
          0.78,
          1.4,
          0.75,
          0.92,
          -0.64,
          0.35,
          7.75,
          4.88,
          0.8,
          9.82,
          0.89,
          1.03,
          -7.6,
          1.94,
          0.83,
          1.47,
          0.83,
          1.69,
          3.26,
          2.85,
          0.92,
          1.7,
          0.86,
          1.25,
          9.49,
          2.73,
          2.63,
          1.99,
          9.22,
          3.35,
          5.73,
          1.74,
          5.28,
          0.68,
          0.74,
          2.14,
          9.03,
          5.31,
          1.49,
          -1.48,
          1.61,
          5.71,
          9.03,
          0.12,
          9.82,
          9.54,
          0.77,
          1.08,
          -0.03,
          0.76,
          5.36,
          9.82,
          2.09,
          -5.82,
          1.62,
          6.32,
          0.87,
          -13.09,
          8.69,
          1.41,
          -0.67,
          1.65,
          10.04,
          0.45,
          3.63,
          -0.45,
          7.66,
          1.02,
          0.73,
          9.22
         ],
         "y": [
          0.3119682344582782,
          0.3120829755960881,
          0.3120829755960881,
          0.3120829755960881,
          0.29510128720022316,
          0.3105913408045594,
          0.3120829755960881,
          0.4080065668051631,
          0.31105030535579903,
          0.29326542899526475,
          0.30978815283989014,
          0.39859779350475144,
          0.3123124578717079,
          0.3116240110448485,
          0.30990289397770004,
          0.3104765996667495,
          0.29498654606241326,
          0.3127714224229475,
          0.29487180492460335,
          0.31242719900951776,
          0.4522966459997839,
          0.29360965240869447,
          0.2056031997085024,
          0.20571794084631229,
          0.403646403568387,
          0.3103618585289396,
          0.3116240110448485,
          0.31254194014732767,
          0.3051985073274942,
          0.20491475288164301,
          0.26079368699506356,
          0.3117387521826584,
          0.2969371454051815,
          0.31105030535579903,
          0.3950408182326446,
          0.29865826247232996,
          0.3118534933204683,
          0.29441284037336374,
          0.24220562266986,
          0.3108208230801792,
          0.3023299788822467,
          0.30680488325683275,
          0.4050232972221058,
          0.41397310597127784,
          0.30278894343348633,
          0.3118534933204683,
          0.29498654606241326,
          0.3108208230801792,
          0.3120829755960881,
          0.2983140390589003,
          0.2985435213345201,
          0.3113945287692287,
          0.3025594611578665,
          0.3039363548115853,
          0.3108208230801792,
          0.2860367373132412,
          0.3128861635607574,
          0.3116240110448485,
          0.3120829755960881,
          0.2996909327126191,
          0.25792515854981607,
          0.307722812359312,
          0.28075864497398584,
          0.23073150888887017,
          0.3107060819423693,
          0.35499616113699006,
          0.3107060819423693,
          0.2967076631295617,
          0.3116240110448485,
          0.3108208230801792,
          0.2923474998927856,
          0.3113945287692287,
          0.34386627076942994,
          0.39894201691818115,
          0.3174758090731533,
          0.3050837661896843,
          0.3107060819423693,
          0.29510128720022316,
          0.3116240110448485,
          0.31586943314381477,
          0.30164153205538735,
          0.31127978763141884,
          0.31116504649360893,
          0.3104765996667495,
          0.3053132484653041,
          0.3051985073274942,
          0.3076080712215021,
          0.31116504649360893,
          0.30703436553245256,
          0.510814626282832,
          0.3116240110448485,
          0.3120829755960881,
          0.3049690250518744,
          0.31242719900951776,
          0.3104765996667495,
          0.3283762171650937,
          0.3170168445219137,
          0.23210840254258894,
          0.2650391090940298,
          0.3118534933204683,
          0.20835698701593997,
          0.3108208230801792,
          0.3092144471508406,
          0.4082360490807829,
          0.29877300361013986,
          0.3115092699070386,
          0.3041658370872051,
          0.3115092699070386,
          0.30164153205538735,
          0.2836271734192333,
          0.28833156006943916,
          0.3104765996667495,
          0.30152679091757745,
          0.31116504649360893,
          0.3066901421190229,
          0.21214344456366663,
          0.2897084537231579,
          0.2908558651012569,
          0.2981992979210904,
          0.21524145528453387,
          0.2825945031789442,
          0.2552861123801884,
          0.30106782636633783,
          0.26044946358163384,
          0.3132303869741871,
          0.31254194014732767,
          0.2964781808539419,
          0.21742153690292196,
          0.26010524016820413,
          0.3039363548115853,
          0.3380144727411251,
          0.3025594611578665,
          0.2555155946558082,
          0.21742153690292196,
          0.3196558906915414,
          0.20835698701593997,
          0.21156973887461714,
          0.312197716733898,
          0.30864074146179116,
          0.3213770077586899,
          0.3123124578717079,
          0.25953153447915467,
          0.20835698701593997,
          0.2970518865429914,
          0.38781212655062103,
          0.3024447200200566,
          0.2485163852494044,
          0.31105030535579903,
          0.4712289337384171,
          0.2213227355884585,
          0.3048542839140645,
          0.32872044057852334,
          0.30210049660662697,
          0.20583268198412222,
          0.31586943314381477,
          0.27938175132026705,
          0.32619613554670557,
          0.23314107278287802,
          0.3093291882886505,
          0.31265668128513757,
          0.21524145528453387
         ]
        }
       ],
       "layout": {
        "legend": {
         "title": {
          "text": "Color"
         },
         "tracegroupgap": 0
        },
        "template": {
         "data": {
          "bar": [
           {
            "error_x": {
             "color": "#2a3f5f"
            },
            "error_y": {
             "color": "#2a3f5f"
            },
            "marker": {
             "line": {
              "color": "white",
              "width": 0.5
             },
             "pattern": {
              "fillmode": "overlay",
              "size": 10,
              "solidity": 0.2
             }
            },
            "type": "bar"
           }
          ],
          "barpolar": [
           {
            "marker": {
             "line": {
              "color": "white",
              "width": 0.5
             },
             "pattern": {
              "fillmode": "overlay",
              "size": 10,
              "solidity": 0.2
             }
            },
            "type": "barpolar"
           }
          ],
          "carpet": [
           {
            "aaxis": {
             "endlinecolor": "#2a3f5f",
             "gridcolor": "#C8D4E3",
             "linecolor": "#C8D4E3",
             "minorgridcolor": "#C8D4E3",
             "startlinecolor": "#2a3f5f"
            },
            "baxis": {
             "endlinecolor": "#2a3f5f",
             "gridcolor": "#C8D4E3",
             "linecolor": "#C8D4E3",
             "minorgridcolor": "#C8D4E3",
             "startlinecolor": "#2a3f5f"
            },
            "type": "carpet"
           }
          ],
          "choropleth": [
           {
            "colorbar": {
             "outlinewidth": 0,
             "ticks": ""
            },
            "type": "choropleth"
           }
          ],
          "contour": [
           {
            "colorbar": {
             "outlinewidth": 0,
             "ticks": ""
            },
            "colorscale": [
             [
              0,
              "#0d0887"
             ],
             [
              0.1111111111111111,
              "#46039f"
             ],
             [
              0.2222222222222222,
              "#7201a8"
             ],
             [
              0.3333333333333333,
              "#9c179e"
             ],
             [
              0.4444444444444444,
              "#bd3786"
             ],
             [
              0.5555555555555556,
              "#d8576b"
             ],
             [
              0.6666666666666666,
              "#ed7953"
             ],
             [
              0.7777777777777778,
              "#fb9f3a"
             ],
             [
              0.8888888888888888,
              "#fdca26"
             ],
             [
              1,
              "#f0f921"
             ]
            ],
            "type": "contour"
           }
          ],
          "contourcarpet": [
           {
            "colorbar": {
             "outlinewidth": 0,
             "ticks": ""
            },
            "type": "contourcarpet"
           }
          ],
          "heatmap": [
           {
            "colorbar": {
             "outlinewidth": 0,
             "ticks": ""
            },
            "colorscale": [
             [
              0,
              "#0d0887"
             ],
             [
              0.1111111111111111,
              "#46039f"
             ],
             [
              0.2222222222222222,
              "#7201a8"
             ],
             [
              0.3333333333333333,
              "#9c179e"
             ],
             [
              0.4444444444444444,
              "#bd3786"
             ],
             [
              0.5555555555555556,
              "#d8576b"
             ],
             [
              0.6666666666666666,
              "#ed7953"
             ],
             [
              0.7777777777777778,
              "#fb9f3a"
             ],
             [
              0.8888888888888888,
              "#fdca26"
             ],
             [
              1,
              "#f0f921"
             ]
            ],
            "type": "heatmap"
           }
          ],
          "heatmapgl": [
           {
            "colorbar": {
             "outlinewidth": 0,
             "ticks": ""
            },
            "colorscale": [
             [
              0,
              "#0d0887"
             ],
             [
              0.1111111111111111,
              "#46039f"
             ],
             [
              0.2222222222222222,
              "#7201a8"
             ],
             [
              0.3333333333333333,
              "#9c179e"
             ],
             [
              0.4444444444444444,
              "#bd3786"
             ],
             [
              0.5555555555555556,
              "#d8576b"
             ],
             [
              0.6666666666666666,
              "#ed7953"
             ],
             [
              0.7777777777777778,
              "#fb9f3a"
             ],
             [
              0.8888888888888888,
              "#fdca26"
             ],
             [
              1,
              "#f0f921"
             ]
            ],
            "type": "heatmapgl"
           }
          ],
          "histogram": [
           {
            "marker": {
             "pattern": {
              "fillmode": "overlay",
              "size": 10,
              "solidity": 0.2
             }
            },
            "type": "histogram"
           }
          ],
          "histogram2d": [
           {
            "colorbar": {
             "outlinewidth": 0,
             "ticks": ""
            },
            "colorscale": [
             [
              0,
              "#0d0887"
             ],
             [
              0.1111111111111111,
              "#46039f"
             ],
             [
              0.2222222222222222,
              "#7201a8"
             ],
             [
              0.3333333333333333,
              "#9c179e"
             ],
             [
              0.4444444444444444,
              "#bd3786"
             ],
             [
              0.5555555555555556,
              "#d8576b"
             ],
             [
              0.6666666666666666,
              "#ed7953"
             ],
             [
              0.7777777777777778,
              "#fb9f3a"
             ],
             [
              0.8888888888888888,
              "#fdca26"
             ],
             [
              1,
              "#f0f921"
             ]
            ],
            "type": "histogram2d"
           }
          ],
          "histogram2dcontour": [
           {
            "colorbar": {
             "outlinewidth": 0,
             "ticks": ""
            },
            "colorscale": [
             [
              0,
              "#0d0887"
             ],
             [
              0.1111111111111111,
              "#46039f"
             ],
             [
              0.2222222222222222,
              "#7201a8"
             ],
             [
              0.3333333333333333,
              "#9c179e"
             ],
             [
              0.4444444444444444,
              "#bd3786"
             ],
             [
              0.5555555555555556,
              "#d8576b"
             ],
             [
              0.6666666666666666,
              "#ed7953"
             ],
             [
              0.7777777777777778,
              "#fb9f3a"
             ],
             [
              0.8888888888888888,
              "#fdca26"
             ],
             [
              1,
              "#f0f921"
             ]
            ],
            "type": "histogram2dcontour"
           }
          ],
          "mesh3d": [
           {
            "colorbar": {
             "outlinewidth": 0,
             "ticks": ""
            },
            "type": "mesh3d"
           }
          ],
          "parcoords": [
           {
            "line": {
             "colorbar": {
              "outlinewidth": 0,
              "ticks": ""
             }
            },
            "type": "parcoords"
           }
          ],
          "pie": [
           {
            "automargin": true,
            "type": "pie"
           }
          ],
          "scatter": [
           {
            "fillpattern": {
             "fillmode": "overlay",
             "size": 10,
             "solidity": 0.2
            },
            "type": "scatter"
           }
          ],
          "scatter3d": [
           {
            "line": {
             "colorbar": {
              "outlinewidth": 0,
              "ticks": ""
             }
            },
            "marker": {
             "colorbar": {
              "outlinewidth": 0,
              "ticks": ""
             }
            },
            "type": "scatter3d"
           }
          ],
          "scattercarpet": [
           {
            "marker": {
             "colorbar": {
              "outlinewidth": 0,
              "ticks": ""
             }
            },
            "type": "scattercarpet"
           }
          ],
          "scattergeo": [
           {
            "marker": {
             "colorbar": {
              "outlinewidth": 0,
              "ticks": ""
             }
            },
            "type": "scattergeo"
           }
          ],
          "scattergl": [
           {
            "marker": {
             "colorbar": {
              "outlinewidth": 0,
              "ticks": ""
             }
            },
            "type": "scattergl"
           }
          ],
          "scattermapbox": [
           {
            "marker": {
             "colorbar": {
              "outlinewidth": 0,
              "ticks": ""
             }
            },
            "type": "scattermapbox"
           }
          ],
          "scatterpolar": [
           {
            "marker": {
             "colorbar": {
              "outlinewidth": 0,
              "ticks": ""
             }
            },
            "type": "scatterpolar"
           }
          ],
          "scatterpolargl": [
           {
            "marker": {
             "colorbar": {
              "outlinewidth": 0,
              "ticks": ""
             }
            },
            "type": "scatterpolargl"
           }
          ],
          "scatterternary": [
           {
            "marker": {
             "colorbar": {
              "outlinewidth": 0,
              "ticks": ""
             }
            },
            "type": "scatterternary"
           }
          ],
          "surface": [
           {
            "colorbar": {
             "outlinewidth": 0,
             "ticks": ""
            },
            "colorscale": [
             [
              0,
              "#0d0887"
             ],
             [
              0.1111111111111111,
              "#46039f"
             ],
             [
              0.2222222222222222,
              "#7201a8"
             ],
             [
              0.3333333333333333,
              "#9c179e"
             ],
             [
              0.4444444444444444,
              "#bd3786"
             ],
             [
              0.5555555555555556,
              "#d8576b"
             ],
             [
              0.6666666666666666,
              "#ed7953"
             ],
             [
              0.7777777777777778,
              "#fb9f3a"
             ],
             [
              0.8888888888888888,
              "#fdca26"
             ],
             [
              1,
              "#f0f921"
             ]
            ],
            "type": "surface"
           }
          ],
          "table": [
           {
            "cells": {
             "fill": {
              "color": "#EBF0F8"
             },
             "line": {
              "color": "white"
             }
            },
            "header": {
             "fill": {
              "color": "#C8D4E3"
             },
             "line": {
              "color": "white"
             }
            },
            "type": "table"
           }
          ]
         },
         "layout": {
          "annotationdefaults": {
           "arrowcolor": "#2a3f5f",
           "arrowhead": 0,
           "arrowwidth": 1
          },
          "autotypenumbers": "strict",
          "coloraxis": {
           "colorbar": {
            "outlinewidth": 0,
            "ticks": ""
           }
          },
          "colorscale": {
           "diverging": [
            [
             0,
             "#8e0152"
            ],
            [
             0.1,
             "#c51b7d"
            ],
            [
             0.2,
             "#de77ae"
            ],
            [
             0.3,
             "#f1b6da"
            ],
            [
             0.4,
             "#fde0ef"
            ],
            [
             0.5,
             "#f7f7f7"
            ],
            [
             0.6,
             "#e6f5d0"
            ],
            [
             0.7,
             "#b8e186"
            ],
            [
             0.8,
             "#7fbc41"
            ],
            [
             0.9,
             "#4d9221"
            ],
            [
             1,
             "#276419"
            ]
           ],
           "sequential": [
            [
             0,
             "#0d0887"
            ],
            [
             0.1111111111111111,
             "#46039f"
            ],
            [
             0.2222222222222222,
             "#7201a8"
            ],
            [
             0.3333333333333333,
             "#9c179e"
            ],
            [
             0.4444444444444444,
             "#bd3786"
            ],
            [
             0.5555555555555556,
             "#d8576b"
            ],
            [
             0.6666666666666666,
             "#ed7953"
            ],
            [
             0.7777777777777778,
             "#fb9f3a"
            ],
            [
             0.8888888888888888,
             "#fdca26"
            ],
            [
             1,
             "#f0f921"
            ]
           ],
           "sequentialminus": [
            [
             0,
             "#0d0887"
            ],
            [
             0.1111111111111111,
             "#46039f"
            ],
            [
             0.2222222222222222,
             "#7201a8"
            ],
            [
             0.3333333333333333,
             "#9c179e"
            ],
            [
             0.4444444444444444,
             "#bd3786"
            ],
            [
             0.5555555555555556,
             "#d8576b"
            ],
            [
             0.6666666666666666,
             "#ed7953"
            ],
            [
             0.7777777777777778,
             "#fb9f3a"
            ],
            [
             0.8888888888888888,
             "#fdca26"
            ],
            [
             1,
             "#f0f921"
            ]
           ]
          },
          "colorway": [
           "#636efa",
           "#EF553B",
           "#00cc96",
           "#ab63fa",
           "#FFA15A",
           "#19d3f3",
           "#FF6692",
           "#B6E880",
           "#FF97FF",
           "#FECB52"
          ],
          "font": {
           "color": "#2a3f5f"
          },
          "geo": {
           "bgcolor": "white",
           "lakecolor": "white",
           "landcolor": "white",
           "showlakes": true,
           "showland": true,
           "subunitcolor": "#C8D4E3"
          },
          "hoverlabel": {
           "align": "left"
          },
          "hovermode": "closest",
          "mapbox": {
           "style": "light"
          },
          "paper_bgcolor": "white",
          "plot_bgcolor": "white",
          "polar": {
           "angularaxis": {
            "gridcolor": "#EBF0F8",
            "linecolor": "#EBF0F8",
            "ticks": ""
           },
           "bgcolor": "white",
           "radialaxis": {
            "gridcolor": "#EBF0F8",
            "linecolor": "#EBF0F8",
            "ticks": ""
           }
          },
          "scene": {
           "xaxis": {
            "backgroundcolor": "white",
            "gridcolor": "#DFE8F3",
            "gridwidth": 2,
            "linecolor": "#EBF0F8",
            "showbackground": true,
            "ticks": "",
            "zerolinecolor": "#EBF0F8"
           },
           "yaxis": {
            "backgroundcolor": "white",
            "gridcolor": "#DFE8F3",
            "gridwidth": 2,
            "linecolor": "#EBF0F8",
            "showbackground": true,
            "ticks": "",
            "zerolinecolor": "#EBF0F8"
           },
           "zaxis": {
            "backgroundcolor": "white",
            "gridcolor": "#DFE8F3",
            "gridwidth": 2,
            "linecolor": "#EBF0F8",
            "showbackground": true,
            "ticks": "",
            "zerolinecolor": "#EBF0F8"
           }
          },
          "shapedefaults": {
           "line": {
            "color": "#2a3f5f"
           }
          },
          "ternary": {
           "aaxis": {
            "gridcolor": "#DFE8F3",
            "linecolor": "#A2B1C6",
            "ticks": ""
           },
           "baxis": {
            "gridcolor": "#DFE8F3",
            "linecolor": "#A2B1C6",
            "ticks": ""
           },
           "bgcolor": "white",
           "caxis": {
            "gridcolor": "#DFE8F3",
            "linecolor": "#A2B1C6",
            "ticks": ""
           }
          },
          "title": {
           "x": 0.05
          },
          "xaxis": {
           "automargin": true,
           "gridcolor": "#EBF0F8",
           "linecolor": "#EBF0F8",
           "ticks": "",
           "title": {
            "standoff": 15
           },
           "zerolinecolor": "#EBF0F8",
           "zerolinewidth": 2
          },
          "yaxis": {
           "automargin": true,
           "gridcolor": "#EBF0F8",
           "linecolor": "#EBF0F8",
           "ticks": "",
           "title": {
            "standoff": 15
           },
           "zerolinecolor": "#EBF0F8",
           "zerolinewidth": 2
          }
         }
        },
        "title": {
         "font": {
          "color": "black",
          "family": "Arial",
          "size": 20
         },
         "text": "ETF 시장 채권업종 3개월 수익률 대비 변동성 지수",
         "x": 0.5
        },
        "xaxis": {
         "anchor": "y",
         "domain": [
          0,
          1
         ],
         "title": {
          "text": "평균 수익률"
         }
        },
        "yaxis": {
         "anchor": "x",
         "domain": [
          0,
          1
         ],
         "title": {
          "text": "평균 변동성"
         }
        }
       }
      }
     },
     "metadata": {},
     "output_type": "display_data"
    },
    {
     "data": {
      "text/html": [
       "<div>\n",
       "<style scoped>\n",
       "    .dataframe tbody tr th:only-of-type {\n",
       "        vertical-align: middle;\n",
       "    }\n",
       "\n",
       "    .dataframe tbody tr th {\n",
       "        vertical-align: top;\n",
       "    }\n",
       "\n",
       "    .dataframe thead th {\n",
       "        text-align: right;\n",
       "    }\n",
       "</style>\n",
       "<table border=\"1\" class=\"dataframe\">\n",
       "  <thead>\n",
       "    <tr style=\"text-align: right;\">\n",
       "      <th></th>\n",
       "      <th>Code</th>\n",
       "      <th>Name</th>\n",
       "      <th>Volatility</th>\n",
       "      <th>TotalReturn</th>\n",
       "      <th>AvgReturn</th>\n",
       "      <th>Sector</th>\n",
       "      <th>Volume</th>\n",
       "      <th>Amount</th>\n",
       "      <th>Marcap</th>\n",
       "      <th>Color</th>\n",
       "    </tr>\n",
       "  </thead>\n",
       "  <tbody>\n",
       "    <tr>\n",
       "      <th>222</th>\n",
       "      <td>461500</td>\n",
       "      <td>HANARO 종합채권(AA-이상)액티브</td>\n",
       "      <td>0.25</td>\n",
       "      <td>2.50</td>\n",
       "      <td>0.042936</td>\n",
       "      <td>채권</td>\n",
       "      <td>46002</td>\n",
       "      <td>5210</td>\n",
       "      <td>1151</td>\n",
       "      <td>Below</td>\n",
       "    </tr>\n",
       "    <tr>\n",
       "      <th>25</th>\n",
       "      <td>385540</td>\n",
       "      <td>RISE 종합채권(A-이상)액티브</td>\n",
       "      <td>0.20</td>\n",
       "      <td>2.42</td>\n",
       "      <td>0.042160</td>\n",
       "      <td>채권</td>\n",
       "      <td>57689</td>\n",
       "      <td>6253</td>\n",
       "      <td>13441</td>\n",
       "      <td>Below</td>\n",
       "    </tr>\n",
       "    <tr>\n",
       "      <th>54</th>\n",
       "      <td>451540</td>\n",
       "      <td>TIGER 종합채권(AA-이상)액티브</td>\n",
       "      <td>0.21</td>\n",
       "      <td>2.39</td>\n",
       "      <td>0.042173</td>\n",
       "      <td>채권</td>\n",
       "      <td>16333</td>\n",
       "      <td>912</td>\n",
       "      <td>6487</td>\n",
       "      <td>Below</td>\n",
       "    </tr>\n",
       "    <tr>\n",
       "      <th>96</th>\n",
       "      <td>454780</td>\n",
       "      <td>히어로즈 종합채권(AA-이상)액티브</td>\n",
       "      <td>0.23</td>\n",
       "      <td>2.32</td>\n",
       "      <td>0.038327</td>\n",
       "      <td>채권</td>\n",
       "      <td>199</td>\n",
       "      <td>21</td>\n",
       "      <td>3557</td>\n",
       "      <td>Below</td>\n",
       "    </tr>\n",
       "    <tr>\n",
       "      <th>47</th>\n",
       "      <td>356540</td>\n",
       "      <td>ACE 종합채권(AA-이상)KIS액티브</td>\n",
       "      <td>0.24</td>\n",
       "      <td>2.28</td>\n",
       "      <td>0.040919</td>\n",
       "      <td>채권</td>\n",
       "      <td>4419</td>\n",
       "      <td>471</td>\n",
       "      <td>7466</td>\n",
       "      <td>Below</td>\n",
       "    </tr>\n",
       "    <tr>\n",
       "      <th>43</th>\n",
       "      <td>436140</td>\n",
       "      <td>SOL 종합채권(AA-이상)액티브</td>\n",
       "      <td>0.21</td>\n",
       "      <td>2.27</td>\n",
       "      <td>0.039899</td>\n",
       "      <td>채권</td>\n",
       "      <td>37</td>\n",
       "      <td>4</td>\n",
       "      <td>8322</td>\n",
       "      <td>Below</td>\n",
       "    </tr>\n",
       "    <tr>\n",
       "      <th>117</th>\n",
       "      <td>451000</td>\n",
       "      <td>PLUS 종합채권(AA-이상)액티브</td>\n",
       "      <td>0.25</td>\n",
       "      <td>2.27</td>\n",
       "      <td>0.042024</td>\n",
       "      <td>채권</td>\n",
       "      <td>20</td>\n",
       "      <td>2</td>\n",
       "      <td>2658</td>\n",
       "      <td>Below</td>\n",
       "    </tr>\n",
       "    <tr>\n",
       "      <th>10</th>\n",
       "      <td>273130</td>\n",
       "      <td>KODEX 종합채권(AA-이상)액티브</td>\n",
       "      <td>0.23</td>\n",
       "      <td>2.26</td>\n",
       "      <td>0.041493</td>\n",
       "      <td>채권</td>\n",
       "      <td>62394</td>\n",
       "      <td>7283</td>\n",
       "      <td>28356</td>\n",
       "      <td>Below</td>\n",
       "    </tr>\n",
       "    <tr>\n",
       "      <th>438</th>\n",
       "      <td>272570</td>\n",
       "      <td>RISE 중장기국공채액티브</td>\n",
       "      <td>0.14</td>\n",
       "      <td>1.99</td>\n",
       "      <td>0.032178</td>\n",
       "      <td>채권</td>\n",
       "      <td>29</td>\n",
       "      <td>3</td>\n",
       "      <td>298</td>\n",
       "      <td>Below</td>\n",
       "    </tr>\n",
       "    <tr>\n",
       "      <th>131</th>\n",
       "      <td>438330</td>\n",
       "      <td>TIGER 투자등급회사채액티브</td>\n",
       "      <td>0.12</td>\n",
       "      <td>1.98</td>\n",
       "      <td>0.032577</td>\n",
       "      <td>채권</td>\n",
       "      <td>7558</td>\n",
       "      <td>869</td>\n",
       "      <td>2302</td>\n",
       "      <td>Below</td>\n",
       "    </tr>\n",
       "    <tr>\n",
       "      <th>345</th>\n",
       "      <td>272910</td>\n",
       "      <td>ACE 중장기국공채액티브</td>\n",
       "      <td>0.13</td>\n",
       "      <td>1.94</td>\n",
       "      <td>0.029430</td>\n",
       "      <td>채권</td>\n",
       "      <td>303</td>\n",
       "      <td>32</td>\n",
       "      <td>501</td>\n",
       "      <td>Below</td>\n",
       "    </tr>\n",
       "    <tr>\n",
       "      <th>474</th>\n",
       "      <td>438560</td>\n",
       "      <td>SOL 국고채3년</td>\n",
       "      <td>0.15</td>\n",
       "      <td>1.74</td>\n",
       "      <td>0.028531</td>\n",
       "      <td>채권</td>\n",
       "      <td>235</td>\n",
       "      <td>23</td>\n",
       "      <td>241</td>\n",
       "      <td>Below</td>\n",
       "    </tr>\n",
       "    <tr>\n",
       "      <th>382</th>\n",
       "      <td>336160</td>\n",
       "      <td>RISE 금융채액티브</td>\n",
       "      <td>0.09</td>\n",
       "      <td>1.70</td>\n",
       "      <td>0.028752</td>\n",
       "      <td>채권</td>\n",
       "      <td>1445</td>\n",
       "      <td>148</td>\n",
       "      <td>403</td>\n",
       "      <td>Below</td>\n",
       "    </tr>\n",
       "    <tr>\n",
       "      <th>247</th>\n",
       "      <td>472920</td>\n",
       "      <td>HK 종합채권(AA-이상)액티브</td>\n",
       "      <td>0.19</td>\n",
       "      <td>1.69</td>\n",
       "      <td>0.030138</td>\n",
       "      <td>채권</td>\n",
       "      <td>0</td>\n",
       "      <td>0</td>\n",
       "      <td>1004</td>\n",
       "      <td>Below</td>\n",
       "    </tr>\n",
       "    <tr>\n",
       "      <th>101</th>\n",
       "      <td>302190</td>\n",
       "      <td>TIGER 중장기국채</td>\n",
       "      <td>0.22</td>\n",
       "      <td>1.63</td>\n",
       "      <td>0.030786</td>\n",
       "      <td>채권</td>\n",
       "      <td>15035</td>\n",
       "      <td>779</td>\n",
       "      <td>3388</td>\n",
       "      <td>Below</td>\n",
       "    </tr>\n",
       "    <tr>\n",
       "      <th>551</th>\n",
       "      <td>114470</td>\n",
       "      <td>KOSEF 국고채3년</td>\n",
       "      <td>0.11</td>\n",
       "      <td>1.61</td>\n",
       "      <td>0.026756</td>\n",
       "      <td>채권</td>\n",
       "      <td>987</td>\n",
       "      <td>109</td>\n",
       "      <td>166</td>\n",
       "      <td>Below</td>\n",
       "    </tr>\n",
       "    <tr>\n",
       "      <th>144</th>\n",
       "      <td>480260</td>\n",
       "      <td>TIGER 27-04회사채(A+이상)액티브</td>\n",
       "      <td>0.07</td>\n",
       "      <td>1.61</td>\n",
       "      <td>0.027237</td>\n",
       "      <td>채권</td>\n",
       "      <td>18005</td>\n",
       "      <td>939</td>\n",
       "      <td>2104</td>\n",
       "      <td>Below</td>\n",
       "    </tr>\n",
       "    <tr>\n",
       "      <th>112</th>\n",
       "      <td>439860</td>\n",
       "      <td>KODEX ESG종합채권(A-이상)액티브</td>\n",
       "      <td>0.15</td>\n",
       "      <td>1.59</td>\n",
       "      <td>0.025517</td>\n",
       "      <td>채권</td>\n",
       "      <td>210</td>\n",
       "      <td>23</td>\n",
       "      <td>2926</td>\n",
       "      <td>Below</td>\n",
       "    </tr>\n",
       "    <tr>\n",
       "      <th>146</th>\n",
       "      <td>488980</td>\n",
       "      <td>SOL 26-12 회사채(AA-이상)액티브</td>\n",
       "      <td>0.05</td>\n",
       "      <td>1.49</td>\n",
       "      <td>0.026255</td>\n",
       "      <td>채권</td>\n",
       "      <td>12890</td>\n",
       "      <td>654</td>\n",
       "      <td>2097</td>\n",
       "      <td>Below</td>\n",
       "    </tr>\n",
       "    <tr>\n",
       "      <th>526</th>\n",
       "      <td>114460</td>\n",
       "      <td>ACE 국고채3년</td>\n",
       "      <td>0.10</td>\n",
       "      <td>1.49</td>\n",
       "      <td>0.026690</td>\n",
       "      <td>채권</td>\n",
       "      <td>232</td>\n",
       "      <td>24</td>\n",
       "      <td>187</td>\n",
       "      <td>Below</td>\n",
       "    </tr>\n",
       "    <tr>\n",
       "      <th>357</th>\n",
       "      <td>114100</td>\n",
       "      <td>RISE 국고채3년</td>\n",
       "      <td>0.11</td>\n",
       "      <td>1.47</td>\n",
       "      <td>0.026638</td>\n",
       "      <td>채권</td>\n",
       "      <td>1949</td>\n",
       "      <td>214</td>\n",
       "      <td>460</td>\n",
       "      <td>Below</td>\n",
       "    </tr>\n",
       "    <tr>\n",
       "      <th>781</th>\n",
       "      <td>298340</td>\n",
       "      <td>PLUS 국채선물3년</td>\n",
       "      <td>0.11</td>\n",
       "      <td>1.41</td>\n",
       "      <td>0.024027</td>\n",
       "      <td>채권</td>\n",
       "      <td>11</td>\n",
       "      <td>0</td>\n",
       "      <td>68</td>\n",
       "      <td>Below</td>\n",
       "    </tr>\n",
       "    <tr>\n",
       "      <th>288</th>\n",
       "      <td>136340</td>\n",
       "      <td>RISE 중기우량회사채</td>\n",
       "      <td>0.07</td>\n",
       "      <td>1.40</td>\n",
       "      <td>0.023585</td>\n",
       "      <td>채권</td>\n",
       "      <td>2176</td>\n",
       "      <td>231</td>\n",
       "      <td>757</td>\n",
       "      <td>Below</td>\n",
       "    </tr>\n",
       "    <tr>\n",
       "      <th>239</th>\n",
       "      <td>465780</td>\n",
       "      <td>마이티 26-09 특수채(AAA)액티브</td>\n",
       "      <td>0.06</td>\n",
       "      <td>1.39</td>\n",
       "      <td>0.019777</td>\n",
       "      <td>채권</td>\n",
       "      <td>1</td>\n",
       "      <td>0</td>\n",
       "      <td>1056</td>\n",
       "      <td>Below</td>\n",
       "    </tr>\n",
       "    <tr>\n",
       "      <th>266</th>\n",
       "      <td>114820</td>\n",
       "      <td>TIGER 국채3년</td>\n",
       "      <td>0.10</td>\n",
       "      <td>1.38</td>\n",
       "      <td>0.025230</td>\n",
       "      <td>채권</td>\n",
       "      <td>3007</td>\n",
       "      <td>323</td>\n",
       "      <td>890</td>\n",
       "      <td>Below</td>\n",
       "    </tr>\n",
       "    <tr>\n",
       "      <th>78</th>\n",
       "      <td>114260</td>\n",
       "      <td>KODEX 국고채3년</td>\n",
       "      <td>0.11</td>\n",
       "      <td>1.38</td>\n",
       "      <td>0.024920</td>\n",
       "      <td>채권</td>\n",
       "      <td>49203</td>\n",
       "      <td>3043</td>\n",
       "      <td>4626</td>\n",
       "      <td>Below</td>\n",
       "    </tr>\n",
       "    <tr>\n",
       "      <th>265</th>\n",
       "      <td>464240</td>\n",
       "      <td>히어로즈 26-09 회사채(AA-이상)액티브</td>\n",
       "      <td>0.05</td>\n",
       "      <td>1.37</td>\n",
       "      <td>0.022820</td>\n",
       "      <td>채권</td>\n",
       "      <td>1345</td>\n",
       "      <td>70</td>\n",
       "      <td>921</td>\n",
       "      <td>Below</td>\n",
       "    </tr>\n",
       "    <tr>\n",
       "      <th>105</th>\n",
       "      <td>473290</td>\n",
       "      <td>KODEX 26-12 회사채(AA-이상)액티브</td>\n",
       "      <td>0.06</td>\n",
       "      <td>1.24</td>\n",
       "      <td>0.021370</td>\n",
       "      <td>채권</td>\n",
       "      <td>31768</td>\n",
       "      <td>336</td>\n",
       "      <td>3155</td>\n",
       "      <td>Below</td>\n",
       "    </tr>\n",
       "    <tr>\n",
       "      <th>269</th>\n",
       "      <td>419890</td>\n",
       "      <td>히어로즈 단기채권ESG액티브</td>\n",
       "      <td>0.03</td>\n",
       "      <td>1.17</td>\n",
       "      <td>0.019250</td>\n",
       "      <td>채권</td>\n",
       "      <td>5153</td>\n",
       "      <td>549</td>\n",
       "      <td>884</td>\n",
       "      <td>Below</td>\n",
       "    </tr>\n",
       "    <tr>\n",
       "      <th>187</th>\n",
       "      <td>461270</td>\n",
       "      <td>ACE 26-06 회사채(AA-이상)액티브</td>\n",
       "      <td>0.06</td>\n",
       "      <td>1.16</td>\n",
       "      <td>0.019243</td>\n",
       "      <td>채권</td>\n",
       "      <td>22945</td>\n",
       "      <td>250</td>\n",
       "      <td>1490</td>\n",
       "      <td>Below</td>\n",
       "    </tr>\n",
       "    <tr>\n",
       "      <th>622</th>\n",
       "      <td>239660</td>\n",
       "      <td>PLUS 우량회사채50</td>\n",
       "      <td>0.04</td>\n",
       "      <td>1.08</td>\n",
       "      <td>0.018185</td>\n",
       "      <td>채권</td>\n",
       "      <td>1796</td>\n",
       "      <td>213</td>\n",
       "      <td>119</td>\n",
       "      <td>Below</td>\n",
       "    </tr>\n",
       "    <tr>\n",
       "      <th>337</th>\n",
       "      <td>278620</td>\n",
       "      <td>PLUS 단기채권액티브</td>\n",
       "      <td>0.02</td>\n",
       "      <td>1.03</td>\n",
       "      <td>0.016942</td>\n",
       "      <td>채권</td>\n",
       "      <td>11356</td>\n",
       "      <td>1313</td>\n",
       "      <td>536</td>\n",
       "      <td>Below</td>\n",
       "    </tr>\n",
       "    <tr>\n",
       "      <th>26</th>\n",
       "      <td>453540</td>\n",
       "      <td>TIGER 25-10 회사채(A+이상)액티브</td>\n",
       "      <td>0.03</td>\n",
       "      <td>0.98</td>\n",
       "      <td>0.018108</td>\n",
       "      <td>채권</td>\n",
       "      <td>142383</td>\n",
       "      <td>7709</td>\n",
       "      <td>13030</td>\n",
       "      <td>Below</td>\n",
       "    </tr>\n",
       "    <tr>\n",
       "      <th>37</th>\n",
       "      <td>476810</td>\n",
       "      <td>KODEX 25-11 은행채(AA-이상)PLUS액티브</td>\n",
       "      <td>0.05</td>\n",
       "      <td>0.97</td>\n",
       "      <td>0.017744</td>\n",
       "      <td>채권</td>\n",
       "      <td>20296</td>\n",
       "      <td>210</td>\n",
       "      <td>9642</td>\n",
       "      <td>Below</td>\n",
       "    </tr>\n",
       "    <tr>\n",
       "      <th>71</th>\n",
       "      <td>469830</td>\n",
       "      <td>SOL 초단기채권액티브</td>\n",
       "      <td>0.01</td>\n",
       "      <td>0.93</td>\n",
       "      <td>0.015644</td>\n",
       "      <td>채권</td>\n",
       "      <td>162630</td>\n",
       "      <td>8530</td>\n",
       "      <td>4849</td>\n",
       "      <td>Below</td>\n",
       "    </tr>\n",
       "    <tr>\n",
       "      <th>264</th>\n",
       "      <td>473440</td>\n",
       "      <td>ACE 11월만기자동연장회사채AA-이상액티브</td>\n",
       "      <td>0.04</td>\n",
       "      <td>0.92</td>\n",
       "      <td>0.014391</td>\n",
       "      <td>채권</td>\n",
       "      <td>3838</td>\n",
       "      <td>40</td>\n",
       "      <td>928</td>\n",
       "      <td>Below</td>\n",
       "    </tr>\n",
       "    <tr>\n",
       "      <th>379</th>\n",
       "      <td>122260</td>\n",
       "      <td>KOSEF 통안채1년</td>\n",
       "      <td>0.02</td>\n",
       "      <td>0.92</td>\n",
       "      <td>0.015340</td>\n",
       "      <td>채권</td>\n",
       "      <td>2053</td>\n",
       "      <td>211</td>\n",
       "      <td>412</td>\n",
       "      <td>Below</td>\n",
       "    </tr>\n",
       "    <tr>\n",
       "      <th>294</th>\n",
       "      <td>468820</td>\n",
       "      <td>WON 25-09 회사채(AA-이상)액티브</td>\n",
       "      <td>0.02</td>\n",
       "      <td>0.92</td>\n",
       "      <td>0.015061</td>\n",
       "      <td>채권</td>\n",
       "      <td>2371</td>\n",
       "      <td>127</td>\n",
       "      <td>729</td>\n",
       "      <td>Below</td>\n",
       "    </tr>\n",
       "    <tr>\n",
       "      <th>38</th>\n",
       "      <td>491080</td>\n",
       "      <td>KODEX 25-12 은행채(AAA)액티브</td>\n",
       "      <td>0.02</td>\n",
       "      <td>0.92</td>\n",
       "      <td>0.014379</td>\n",
       "      <td>채권</td>\n",
       "      <td>919</td>\n",
       "      <td>93</td>\n",
       "      <td>9584</td>\n",
       "      <td>Below</td>\n",
       "    </tr>\n",
       "    <tr>\n",
       "      <th>14</th>\n",
       "      <td>455890</td>\n",
       "      <td>RISE 머니마켓액티브</td>\n",
       "      <td>0.02</td>\n",
       "      <td>0.91</td>\n",
       "      <td>0.015338</td>\n",
       "      <td>채권</td>\n",
       "      <td>449093</td>\n",
       "      <td>24026</td>\n",
       "      <td>20885</td>\n",
       "      <td>Below</td>\n",
       "    </tr>\n",
       "    <tr>\n",
       "      <th>240</th>\n",
       "      <td>489870</td>\n",
       "      <td>히어로즈 25-09 회사채(AA-이상)액티브</td>\n",
       "      <td>0.02</td>\n",
       "      <td>0.90</td>\n",
       "      <td>0.015410</td>\n",
       "      <td>채권</td>\n",
       "      <td>8</td>\n",
       "      <td>0</td>\n",
       "      <td>1051</td>\n",
       "      <td>Below</td>\n",
       "    </tr>\n",
       "    <tr>\n",
       "      <th>190</th>\n",
       "      <td>448600</td>\n",
       "      <td>RISE 25-11 회사채(AA-이상)액티브</td>\n",
       "      <td>0.02</td>\n",
       "      <td>0.90</td>\n",
       "      <td>0.014953</td>\n",
       "      <td>채권</td>\n",
       "      <td>12498</td>\n",
       "      <td>656</td>\n",
       "      <td>1476</td>\n",
       "      <td>Below</td>\n",
       "    </tr>\n",
       "    <tr>\n",
       "      <th>211</th>\n",
       "      <td>491230</td>\n",
       "      <td>PLUS 국공채머니마켓액티브</td>\n",
       "      <td>0.01</td>\n",
       "      <td>0.90</td>\n",
       "      <td>0.014883</td>\n",
       "      <td>채권</td>\n",
       "      <td>27</td>\n",
       "      <td>1</td>\n",
       "      <td>1201</td>\n",
       "      <td>Below</td>\n",
       "    </tr>\n",
       "    <tr>\n",
       "      <th>123</th>\n",
       "      <td>487340</td>\n",
       "      <td>ACE CD금리&amp;초단기채권액티브</td>\n",
       "      <td>0.01</td>\n",
       "      <td>0.89</td>\n",
       "      <td>0.015030</td>\n",
       "      <td>채권</td>\n",
       "      <td>19386</td>\n",
       "      <td>1975</td>\n",
       "      <td>2416</td>\n",
       "      <td>Below</td>\n",
       "    </tr>\n",
       "    <tr>\n",
       "      <th>336</th>\n",
       "      <td>440640</td>\n",
       "      <td>ACE 단기채권알파액티브</td>\n",
       "      <td>0.02</td>\n",
       "      <td>0.89</td>\n",
       "      <td>0.014898</td>\n",
       "      <td>채권</td>\n",
       "      <td>1688</td>\n",
       "      <td>184</td>\n",
       "      <td>544</td>\n",
       "      <td>Below</td>\n",
       "    </tr>\n",
       "    <tr>\n",
       "      <th>221</th>\n",
       "      <td>462540</td>\n",
       "      <td>SOL 25-09 회사채(AA-이상)액티브</td>\n",
       "      <td>0.02</td>\n",
       "      <td>0.89</td>\n",
       "      <td>0.014387</td>\n",
       "      <td>채권</td>\n",
       "      <td>34</td>\n",
       "      <td>1</td>\n",
       "      <td>1155</td>\n",
       "      <td>Below</td>\n",
       "    </tr>\n",
       "    <tr>\n",
       "      <th>100</th>\n",
       "      <td>477050</td>\n",
       "      <td>PLUS 머니마켓액티브</td>\n",
       "      <td>0.01</td>\n",
       "      <td>0.89</td>\n",
       "      <td>0.014953</td>\n",
       "      <td>채권</td>\n",
       "      <td>18185</td>\n",
       "      <td>936</td>\n",
       "      <td>3403</td>\n",
       "      <td>Below</td>\n",
       "    </tr>\n",
       "    <tr>\n",
       "      <th>150</th>\n",
       "      <td>272560</td>\n",
       "      <td>RISE 단기국공채액티브</td>\n",
       "      <td>0.02</td>\n",
       "      <td>0.89</td>\n",
       "      <td>0.014548</td>\n",
       "      <td>채권</td>\n",
       "      <td>5381</td>\n",
       "      <td>600</td>\n",
       "      <td>1983</td>\n",
       "      <td>Below</td>\n",
       "    </tr>\n",
       "    <tr>\n",
       "      <th>24</th>\n",
       "      <td>214980</td>\n",
       "      <td>KODEX 단기채권PLUS</td>\n",
       "      <td>0.02</td>\n",
       "      <td>0.87</td>\n",
       "      <td>0.014580</td>\n",
       "      <td>채권</td>\n",
       "      <td>15580</td>\n",
       "      <td>1762</td>\n",
       "      <td>16007</td>\n",
       "      <td>Below</td>\n",
       "    </tr>\n",
       "    <tr>\n",
       "      <th>89</th>\n",
       "      <td>479080</td>\n",
       "      <td>1Q 머니마켓액티브</td>\n",
       "      <td>0.01</td>\n",
       "      <td>0.87</td>\n",
       "      <td>0.014780</td>\n",
       "      <td>채권</td>\n",
       "      <td>57161</td>\n",
       "      <td>2945</td>\n",
       "      <td>3812</td>\n",
       "      <td>Below</td>\n",
       "    </tr>\n",
       "    <tr>\n",
       "      <th>384</th>\n",
       "      <td>458030</td>\n",
       "      <td>WON 단기국공채액티브</td>\n",
       "      <td>0.02</td>\n",
       "      <td>0.86</td>\n",
       "      <td>0.014187</td>\n",
       "      <td>채권</td>\n",
       "      <td>2576</td>\n",
       "      <td>136</td>\n",
       "      <td>402</td>\n",
       "      <td>Below</td>\n",
       "    </tr>\n",
       "    <tr>\n",
       "      <th>270</th>\n",
       "      <td>486830</td>\n",
       "      <td>HANARO 머니마켓액티브</td>\n",
       "      <td>0.01</td>\n",
       "      <td>0.86</td>\n",
       "      <td>0.014641</td>\n",
       "      <td>채권</td>\n",
       "      <td>5415</td>\n",
       "      <td>275</td>\n",
       "      <td>861</td>\n",
       "      <td>Below</td>\n",
       "    </tr>\n",
       "    <tr>\n",
       "      <th>259</th>\n",
       "      <td>385550</td>\n",
       "      <td>RISE 단기종합채권(AA-이상)액티브</td>\n",
       "      <td>0.02</td>\n",
       "      <td>0.86</td>\n",
       "      <td>0.014569</td>\n",
       "      <td>채권</td>\n",
       "      <td>2666</td>\n",
       "      <td>295</td>\n",
       "      <td>962</td>\n",
       "      <td>Below</td>\n",
       "    </tr>\n",
       "    <tr>\n",
       "      <th>253</th>\n",
       "      <td>461260</td>\n",
       "      <td>ACE 25-06 회사채(AA-이상)액티브</td>\n",
       "      <td>0.06</td>\n",
       "      <td>0.85</td>\n",
       "      <td>0.013261</td>\n",
       "      <td>채권</td>\n",
       "      <td>25439</td>\n",
       "      <td>273</td>\n",
       "      <td>987</td>\n",
       "      <td>Below</td>\n",
       "    </tr>\n",
       "    <tr>\n",
       "      <th>142</th>\n",
       "      <td>463290</td>\n",
       "      <td>1Q 단기금융채액티브</td>\n",
       "      <td>0.01</td>\n",
       "      <td>0.84</td>\n",
       "      <td>0.014053</td>\n",
       "      <td>채권</td>\n",
       "      <td>6480</td>\n",
       "      <td>686</td>\n",
       "      <td>2116</td>\n",
       "      <td>Below</td>\n",
       "    </tr>\n",
       "    <tr>\n",
       "      <th>225</th>\n",
       "      <td>466400</td>\n",
       "      <td>1Q 25-08 회사채(A+이상)액티브</td>\n",
       "      <td>0.02</td>\n",
       "      <td>0.84</td>\n",
       "      <td>0.014068</td>\n",
       "      <td>채권</td>\n",
       "      <td>459</td>\n",
       "      <td>49</td>\n",
       "      <td>1132</td>\n",
       "      <td>Below</td>\n",
       "    </tr>\n",
       "    <tr>\n",
       "      <th>360</th>\n",
       "      <td>475270</td>\n",
       "      <td>ACE 5월만기자동연장회사채AA-이상액티브</td>\n",
       "      <td>0.04</td>\n",
       "      <td>0.83</td>\n",
       "      <td>0.012909</td>\n",
       "      <td>채권</td>\n",
       "      <td>54</td>\n",
       "      <td>0</td>\n",
       "      <td>453</td>\n",
       "      <td>Below</td>\n",
       "    </tr>\n",
       "    <tr>\n",
       "      <th>348</th>\n",
       "      <td>484890</td>\n",
       "      <td>SOL 머니마켓액티브</td>\n",
       "      <td>0.01</td>\n",
       "      <td>0.83</td>\n",
       "      <td>0.013957</td>\n",
       "      <td>채권</td>\n",
       "      <td>6475</td>\n",
       "      <td>330</td>\n",
       "      <td>490</td>\n",
       "      <td>Below</td>\n",
       "    </tr>\n",
       "    <tr>\n",
       "      <th>244</th>\n",
       "      <td>130730</td>\n",
       "      <td>KOSEF 단기자금</td>\n",
       "      <td>0.01</td>\n",
       "      <td>0.82</td>\n",
       "      <td>0.013527</td>\n",
       "      <td>채권</td>\n",
       "      <td>2028</td>\n",
       "      <td>206</td>\n",
       "      <td>1021</td>\n",
       "      <td>Below</td>\n",
       "    </tr>\n",
       "    <tr>\n",
       "      <th>74</th>\n",
       "      <td>272580</td>\n",
       "      <td>TIGER 단기채권액티브</td>\n",
       "      <td>0.01</td>\n",
       "      <td>0.82</td>\n",
       "      <td>0.013835</td>\n",
       "      <td>채권</td>\n",
       "      <td>22327</td>\n",
       "      <td>1229</td>\n",
       "      <td>4807</td>\n",
       "      <td>Below</td>\n",
       "    </tr>\n",
       "    <tr>\n",
       "      <th>168</th>\n",
       "      <td>483230</td>\n",
       "      <td>RISE 25-06 은행채(AA+이상)액티브</td>\n",
       "      <td>0.02</td>\n",
       "      <td>0.82</td>\n",
       "      <td>0.013946</td>\n",
       "      <td>채권</td>\n",
       "      <td>453</td>\n",
       "      <td>23</td>\n",
       "      <td>1730</td>\n",
       "      <td>Below</td>\n",
       "    </tr>\n",
       "    <tr>\n",
       "      <th>35</th>\n",
       "      <td>477080</td>\n",
       "      <td>RISE CD금리액티브(합성)</td>\n",
       "      <td>0.01</td>\n",
       "      <td>0.82</td>\n",
       "      <td>0.013760</td>\n",
       "      <td>채권</td>\n",
       "      <td>6269</td>\n",
       "      <td>644</td>\n",
       "      <td>10064</td>\n",
       "      <td>Below</td>\n",
       "    </tr>\n",
       "    <tr>\n",
       "      <th>218</th>\n",
       "      <td>475260</td>\n",
       "      <td>ACE 2월만기자동연장회사채AA-이상액티브</td>\n",
       "      <td>0.05</td>\n",
       "      <td>0.82</td>\n",
       "      <td>0.013702</td>\n",
       "      <td>채권</td>\n",
       "      <td>2630</td>\n",
       "      <td>27</td>\n",
       "      <td>1171</td>\n",
       "      <td>Below</td>\n",
       "    </tr>\n",
       "    <tr>\n",
       "      <th>282</th>\n",
       "      <td>464540</td>\n",
       "      <td>RISE 25-03 회사채(AA-이상)액티브</td>\n",
       "      <td>0.02</td>\n",
       "      <td>0.82</td>\n",
       "      <td>0.013793</td>\n",
       "      <td>채권</td>\n",
       "      <td>3926</td>\n",
       "      <td>199</td>\n",
       "      <td>794</td>\n",
       "      <td>Below</td>\n",
       "    </tr>\n",
       "    <tr>\n",
       "      <th>86</th>\n",
       "      <td>491610</td>\n",
       "      <td>1Q CD금리액티브(합성)</td>\n",
       "      <td>0.01</td>\n",
       "      <td>0.81</td>\n",
       "      <td>0.013673</td>\n",
       "      <td>채권</td>\n",
       "      <td>2033</td>\n",
       "      <td>205</td>\n",
       "      <td>3966</td>\n",
       "      <td>Below</td>\n",
       "    </tr>\n",
       "    <tr>\n",
       "      <th>95</th>\n",
       "      <td>476450</td>\n",
       "      <td>히어로즈 머니마켓액티브</td>\n",
       "      <td>0.01</td>\n",
       "      <td>0.80</td>\n",
       "      <td>0.013447</td>\n",
       "      <td>채권</td>\n",
       "      <td>9703</td>\n",
       "      <td>501</td>\n",
       "      <td>3598</td>\n",
       "      <td>Below</td>\n",
       "    </tr>\n",
       "    <tr>\n",
       "      <th>115</th>\n",
       "      <td>467940</td>\n",
       "      <td>KODEX 25-11 회사채(A+이상)액티브</td>\n",
       "      <td>0.04</td>\n",
       "      <td>0.80</td>\n",
       "      <td>0.013284</td>\n",
       "      <td>채권</td>\n",
       "      <td>5888</td>\n",
       "      <td>63</td>\n",
       "      <td>2734</td>\n",
       "      <td>Below</td>\n",
       "    </tr>\n",
       "    <tr>\n",
       "      <th>320</th>\n",
       "      <td>489570</td>\n",
       "      <td>HANARO 25-12 은행채(AA+이상)액티브</td>\n",
       "      <td>0.07</td>\n",
       "      <td>0.80</td>\n",
       "      <td>0.014497</td>\n",
       "      <td>채권</td>\n",
       "      <td>1536</td>\n",
       "      <td>15</td>\n",
       "      <td>610</td>\n",
       "      <td>Below</td>\n",
       "    </tr>\n",
       "    <tr>\n",
       "      <th>0</th>\n",
       "      <td>459580</td>\n",
       "      <td>KODEX CD금리액티브(합성)</td>\n",
       "      <td>0.01</td>\n",
       "      <td>0.79</td>\n",
       "      <td>0.013346</td>\n",
       "      <td>채권</td>\n",
       "      <td>306572</td>\n",
       "      <td>324646</td>\n",
       "      <td>91179</td>\n",
       "      <td>Below</td>\n",
       "    </tr>\n",
       "    <tr>\n",
       "      <th>5</th>\n",
       "      <td>423160</td>\n",
       "      <td>KODEX KOFR금리액티브(합성)</td>\n",
       "      <td>0.01</td>\n",
       "      <td>0.78</td>\n",
       "      <td>0.013263</td>\n",
       "      <td>채권</td>\n",
       "      <td>39563</td>\n",
       "      <td>4317</td>\n",
       "      <td>43019</td>\n",
       "      <td>Below</td>\n",
       "    </tr>\n",
       "    <tr>\n",
       "      <th>7</th>\n",
       "      <td>449170</td>\n",
       "      <td>TIGER KOFR금리액티브(합성)</td>\n",
       "      <td>0.01</td>\n",
       "      <td>0.78</td>\n",
       "      <td>0.013291</td>\n",
       "      <td>채권</td>\n",
       "      <td>86731</td>\n",
       "      <td>9336</td>\n",
       "      <td>35166</td>\n",
       "      <td>Below</td>\n",
       "    </tr>\n",
       "    <tr>\n",
       "      <th>2</th>\n",
       "      <td>357870</td>\n",
       "      <td>TIGER CD금리투자KIS(합성)</td>\n",
       "      <td>0.01</td>\n",
       "      <td>0.78</td>\n",
       "      <td>0.013267</td>\n",
       "      <td>채권</td>\n",
       "      <td>286913</td>\n",
       "      <td>15922</td>\n",
       "      <td>63284</td>\n",
       "      <td>Below</td>\n",
       "    </tr>\n",
       "    <tr>\n",
       "      <th>179</th>\n",
       "      <td>190620</td>\n",
       "      <td>ACE 단기통안채</td>\n",
       "      <td>0.01</td>\n",
       "      <td>0.78</td>\n",
       "      <td>0.013098</td>\n",
       "      <td>채권</td>\n",
       "      <td>6007</td>\n",
       "      <td>603</td>\n",
       "      <td>1577</td>\n",
       "      <td>Below</td>\n",
       "    </tr>\n",
       "    <tr>\n",
       "      <th>127</th>\n",
       "      <td>479520</td>\n",
       "      <td>RISE KOFR금리액티브(합성)</td>\n",
       "      <td>0.01</td>\n",
       "      <td>0.78</td>\n",
       "      <td>0.013236</td>\n",
       "      <td>채권</td>\n",
       "      <td>2351</td>\n",
       "      <td>240</td>\n",
       "      <td>2347</td>\n",
       "      <td>Below</td>\n",
       "    </tr>\n",
       "    <tr>\n",
       "      <th>284</th>\n",
       "      <td>475280</td>\n",
       "      <td>ACE 8월만기자동연장회사채AA-이상액티브</td>\n",
       "      <td>0.04</td>\n",
       "      <td>0.78</td>\n",
       "      <td>0.012922</td>\n",
       "      <td>채권</td>\n",
       "      <td>1450</td>\n",
       "      <td>15</td>\n",
       "      <td>791</td>\n",
       "      <td>Below</td>\n",
       "    </tr>\n",
       "    <tr>\n",
       "      <th>19</th>\n",
       "      <td>481050</td>\n",
       "      <td>KODEX CD1년금리플러스액티브(합성)</td>\n",
       "      <td>0.01</td>\n",
       "      <td>0.78</td>\n",
       "      <td>0.013309</td>\n",
       "      <td>채권</td>\n",
       "      <td>11879</td>\n",
       "      <td>12143</td>\n",
       "      <td>18128</td>\n",
       "      <td>Below</td>\n",
       "    </tr>\n",
       "    <tr>\n",
       "      <th>619</th>\n",
       "      <td>471290</td>\n",
       "      <td>HANARO CD금리액티브(합성)</td>\n",
       "      <td>0.01</td>\n",
       "      <td>0.77</td>\n",
       "      <td>0.013110</td>\n",
       "      <td>채권</td>\n",
       "      <td>776</td>\n",
       "      <td>80</td>\n",
       "      <td>120</td>\n",
       "      <td>Below</td>\n",
       "    </tr>\n",
       "    <tr>\n",
       "      <th>31</th>\n",
       "      <td>494900</td>\n",
       "      <td>TIGER 25-12 금융채(AA-이상)</td>\n",
       "      <td>0.03</td>\n",
       "      <td>0.76</td>\n",
       "      <td>0.017040</td>\n",
       "      <td>채권</td>\n",
       "      <td>17877</td>\n",
       "      <td>901</td>\n",
       "      <td>10756</td>\n",
       "      <td>Below</td>\n",
       "    </tr>\n",
       "    <tr>\n",
       "      <th>628</th>\n",
       "      <td>453060</td>\n",
       "      <td>HANARO KOFR금리액티브(합성)</td>\n",
       "      <td>0.01</td>\n",
       "      <td>0.76</td>\n",
       "      <td>0.013028</td>\n",
       "      <td>채권</td>\n",
       "      <td>302</td>\n",
       "      <td>32</td>\n",
       "      <td>117</td>\n",
       "      <td>Below</td>\n",
       "    </tr>\n",
       "    <tr>\n",
       "      <th>52</th>\n",
       "      <td>153130</td>\n",
       "      <td>KODEX 단기채권</td>\n",
       "      <td>0.01</td>\n",
       "      <td>0.75</td>\n",
       "      <td>0.012320</td>\n",
       "      <td>채권</td>\n",
       "      <td>18528</td>\n",
       "      <td>2075</td>\n",
       "      <td>6914</td>\n",
       "      <td>Below</td>\n",
       "    </tr>\n",
       "    <tr>\n",
       "      <th>75</th>\n",
       "      <td>196230</td>\n",
       "      <td>RISE 단기통안채</td>\n",
       "      <td>0.01</td>\n",
       "      <td>0.74</td>\n",
       "      <td>0.012114</td>\n",
       "      <td>채권</td>\n",
       "      <td>4758</td>\n",
       "      <td>542</td>\n",
       "      <td>4795</td>\n",
       "      <td>Below</td>\n",
       "    </tr>\n",
       "    <tr>\n",
       "      <th>489</th>\n",
       "      <td>363510</td>\n",
       "      <td>SOL KIS단기통안채</td>\n",
       "      <td>0.01</td>\n",
       "      <td>0.74</td>\n",
       "      <td>0.012409</td>\n",
       "      <td>채권</td>\n",
       "      <td>2</td>\n",
       "      <td>0</td>\n",
       "      <td>221</td>\n",
       "      <td>Below</td>\n",
       "    </tr>\n",
       "    <tr>\n",
       "      <th>878</th>\n",
       "      <td>390950</td>\n",
       "      <td>HANARO 단기채권액티브</td>\n",
       "      <td>0.01</td>\n",
       "      <td>0.73</td>\n",
       "      <td>0.012449</td>\n",
       "      <td>채권</td>\n",
       "      <td>0</td>\n",
       "      <td>0</td>\n",
       "      <td>45</td>\n",
       "      <td>Below</td>\n",
       "    </tr>\n",
       "    <tr>\n",
       "      <th>46</th>\n",
       "      <td>157450</td>\n",
       "      <td>TIGER 단기통안채</td>\n",
       "      <td>0.01</td>\n",
       "      <td>0.72</td>\n",
       "      <td>0.012176</td>\n",
       "      <td>채권</td>\n",
       "      <td>16347</td>\n",
       "      <td>1785</td>\n",
       "      <td>7479</td>\n",
       "      <td>Below</td>\n",
       "    </tr>\n",
       "    <tr>\n",
       "      <th>164</th>\n",
       "      <td>273140</td>\n",
       "      <td>KODEX 단기변동금리부채권액티브</td>\n",
       "      <td>0.01</td>\n",
       "      <td>0.71</td>\n",
       "      <td>0.011779</td>\n",
       "      <td>채권</td>\n",
       "      <td>5700</td>\n",
       "      <td>643</td>\n",
       "      <td>1779</td>\n",
       "      <td>Below</td>\n",
       "    </tr>\n",
       "    <tr>\n",
       "      <th>488</th>\n",
       "      <td>496020</td>\n",
       "      <td>WON 전단채플러스액티브</td>\n",
       "      <td>0.03</td>\n",
       "      <td>0.68</td>\n",
       "      <td>0.022914</td>\n",
       "      <td>채권</td>\n",
       "      <td>15049</td>\n",
       "      <td>758</td>\n",
       "      <td>222</td>\n",
       "      <td>Below</td>\n",
       "    </tr>\n",
       "    <tr>\n",
       "      <th>245</th>\n",
       "      <td>498180</td>\n",
       "      <td>파워 종합채권(AA-이상)액티브</td>\n",
       "      <td>0.31</td>\n",
       "      <td>0.45</td>\n",
       "      <td>0.021363</td>\n",
       "      <td>채권</td>\n",
       "      <td>0</td>\n",
       "      <td>0</td>\n",
       "      <td>1020</td>\n",
       "      <td>Below</td>\n",
       "    </tr>\n",
       "    <tr>\n",
       "      <th>311</th>\n",
       "      <td>497880</td>\n",
       "      <td>SOL CD금리&amp;머니마켓액티브</td>\n",
       "      <td>0.02</td>\n",
       "      <td>0.35</td>\n",
       "      <td>0.016020</td>\n",
       "      <td>채권</td>\n",
       "      <td>97947</td>\n",
       "      <td>4901</td>\n",
       "      <td>659</td>\n",
       "      <td>Below</td>\n",
       "    </tr>\n",
       "    <tr>\n",
       "      <th>237</th>\n",
       "      <td>495710</td>\n",
       "      <td>BNK 26-06 특수채(AAA이상)액티브</td>\n",
       "      <td>0.04</td>\n",
       "      <td>0.31</td>\n",
       "      <td>0.015974</td>\n",
       "      <td>채권</td>\n",
       "      <td>1</td>\n",
       "      <td>0</td>\n",
       "      <td>1061</td>\n",
       "      <td>Below</td>\n",
       "    </tr>\n",
       "    <tr>\n",
       "      <th>574</th>\n",
       "      <td>292770</td>\n",
       "      <td>KODEX 국채선물3년인버스</td>\n",
       "      <td>0.09</td>\n",
       "      <td>0.12</td>\n",
       "      <td>0.002018</td>\n",
       "      <td>채권</td>\n",
       "      <td>0</td>\n",
       "      <td>0</td>\n",
       "      <td>151</td>\n",
       "      <td>Below</td>\n",
       "    </tr>\n",
       "  </tbody>\n",
       "</table>\n",
       "</div>"
      ],
      "text/plain": [
       "       Code                           Name  Volatility  TotalReturn  \\\n",
       "222  461500          HANARO 종합채권(AA-이상)액티브        0.25         2.50   \n",
       "25   385540             RISE 종합채권(A-이상)액티브        0.20         2.42   \n",
       "54   451540           TIGER 종합채권(AA-이상)액티브        0.21         2.39   \n",
       "96   454780            히어로즈 종합채권(AA-이상)액티브        0.23         2.32   \n",
       "47   356540          ACE 종합채권(AA-이상)KIS액티브        0.24         2.28   \n",
       "43   436140             SOL 종합채권(AA-이상)액티브        0.21         2.27   \n",
       "117  451000            PLUS 종합채권(AA-이상)액티브        0.25         2.27   \n",
       "10   273130           KODEX 종합채권(AA-이상)액티브        0.23         2.26   \n",
       "438  272570                 RISE 중장기국공채액티브        0.14         1.99   \n",
       "131  438330               TIGER 투자등급회사채액티브        0.12         1.98   \n",
       "345  272910                  ACE 중장기국공채액티브        0.13         1.94   \n",
       "474  438560                      SOL 국고채3년        0.15         1.74   \n",
       "382  336160                    RISE 금융채액티브        0.09         1.70   \n",
       "247  472920              HK 종합채권(AA-이상)액티브        0.19         1.69   \n",
       "101  302190                    TIGER 중장기국채        0.22         1.63   \n",
       "551  114470                    KOSEF 국고채3년        0.11         1.61   \n",
       "144  480260        TIGER 27-04회사채(A+이상)액티브        0.07         1.61   \n",
       "112  439860         KODEX ESG종합채권(A-이상)액티브        0.15         1.59   \n",
       "146  488980        SOL 26-12 회사채(AA-이상)액티브        0.05         1.49   \n",
       "526  114460                      ACE 국고채3년        0.10         1.49   \n",
       "357  114100                     RISE 국고채3년        0.11         1.47   \n",
       "781  298340                    PLUS 국채선물3년        0.11         1.41   \n",
       "288  136340                   RISE 중기우량회사채        0.07         1.40   \n",
       "239  465780          마이티 26-09 특수채(AAA)액티브        0.06         1.39   \n",
       "266  114820                     TIGER 국채3년        0.10         1.38   \n",
       "78   114260                    KODEX 국고채3년        0.11         1.38   \n",
       "265  464240       히어로즈 26-09 회사채(AA-이상)액티브        0.05         1.37   \n",
       "105  473290      KODEX 26-12 회사채(AA-이상)액티브        0.06         1.24   \n",
       "269  419890                히어로즈 단기채권ESG액티브        0.03         1.17   \n",
       "187  461270        ACE 26-06 회사채(AA-이상)액티브        0.06         1.16   \n",
       "622  239660                   PLUS 우량회사채50        0.04         1.08   \n",
       "337  278620                   PLUS 단기채권액티브        0.02         1.03   \n",
       "26   453540       TIGER 25-10 회사채(A+이상)액티브        0.03         0.98   \n",
       "37   476810  KODEX 25-11 은행채(AA-이상)PLUS액티브        0.05         0.97   \n",
       "71   469830                   SOL 초단기채권액티브        0.01         0.93   \n",
       "264  473440       ACE 11월만기자동연장회사채AA-이상액티브        0.04         0.92   \n",
       "379  122260                    KOSEF 통안채1년        0.02         0.92   \n",
       "294  468820        WON 25-09 회사채(AA-이상)액티브        0.02         0.92   \n",
       "38   491080        KODEX 25-12 은행채(AAA)액티브        0.02         0.92   \n",
       "14   455890                   RISE 머니마켓액티브        0.02         0.91   \n",
       "240  489870       히어로즈 25-09 회사채(AA-이상)액티브        0.02         0.90   \n",
       "190  448600       RISE 25-11 회사채(AA-이상)액티브        0.02         0.90   \n",
       "211  491230                PLUS 국공채머니마켓액티브        0.01         0.90   \n",
       "123  487340              ACE CD금리&초단기채권액티브        0.01         0.89   \n",
       "336  440640                  ACE 단기채권알파액티브        0.02         0.89   \n",
       "221  462540        SOL 25-09 회사채(AA-이상)액티브        0.02         0.89   \n",
       "100  477050                   PLUS 머니마켓액티브        0.01         0.89   \n",
       "150  272560                  RISE 단기국공채액티브        0.02         0.89   \n",
       "24   214980                 KODEX 단기채권PLUS        0.02         0.87   \n",
       "89   479080                     1Q 머니마켓액티브        0.01         0.87   \n",
       "384  458030                   WON 단기국공채액티브        0.02         0.86   \n",
       "270  486830                 HANARO 머니마켓액티브        0.01         0.86   \n",
       "259  385550          RISE 단기종합채권(AA-이상)액티브        0.02         0.86   \n",
       "253  461260        ACE 25-06 회사채(AA-이상)액티브        0.06         0.85   \n",
       "142  463290                    1Q 단기금융채액티브        0.01         0.84   \n",
       "225  466400          1Q 25-08 회사채(A+이상)액티브        0.02         0.84   \n",
       "360  475270        ACE 5월만기자동연장회사채AA-이상액티브        0.04         0.83   \n",
       "348  484890                    SOL 머니마켓액티브        0.01         0.83   \n",
       "244  130730                     KOSEF 단기자금        0.01         0.82   \n",
       "74   272580                  TIGER 단기채권액티브        0.01         0.82   \n",
       "168  483230       RISE 25-06 은행채(AA+이상)액티브        0.02         0.82   \n",
       "35   477080               RISE CD금리액티브(합성)        0.01         0.82   \n",
       "218  475260        ACE 2월만기자동연장회사채AA-이상액티브        0.05         0.82   \n",
       "282  464540       RISE 25-03 회사채(AA-이상)액티브        0.02         0.82   \n",
       "86   491610                 1Q CD금리액티브(합성)        0.01         0.81   \n",
       "95   476450                   히어로즈 머니마켓액티브        0.01         0.80   \n",
       "115  467940       KODEX 25-11 회사채(A+이상)액티브        0.04         0.80   \n",
       "320  489570     HANARO 25-12 은행채(AA+이상)액티브        0.07         0.80   \n",
       "0    459580              KODEX CD금리액티브(합성)        0.01         0.79   \n",
       "5    423160            KODEX KOFR금리액티브(합성)        0.01         0.78   \n",
       "7    449170            TIGER KOFR금리액티브(합성)        0.01         0.78   \n",
       "2    357870            TIGER CD금리투자KIS(합성)        0.01         0.78   \n",
       "179  190620                      ACE 단기통안채        0.01         0.78   \n",
       "127  479520             RISE KOFR금리액티브(합성)        0.01         0.78   \n",
       "284  475280        ACE 8월만기자동연장회사채AA-이상액티브        0.04         0.78   \n",
       "19   481050         KODEX CD1년금리플러스액티브(합성)        0.01         0.78   \n",
       "619  471290             HANARO CD금리액티브(합성)        0.01         0.77   \n",
       "31   494900         TIGER 25-12 금융채(AA-이상)        0.03         0.76   \n",
       "628  453060           HANARO KOFR금리액티브(합성)        0.01         0.76   \n",
       "52   153130                     KODEX 단기채권        0.01         0.75   \n",
       "75   196230                     RISE 단기통안채        0.01         0.74   \n",
       "489  363510                   SOL KIS단기통안채        0.01         0.74   \n",
       "878  390950                 HANARO 단기채권액티브        0.01         0.73   \n",
       "46   157450                    TIGER 단기통안채        0.01         0.72   \n",
       "164  273140             KODEX 단기변동금리부채권액티브        0.01         0.71   \n",
       "488  496020                  WON 전단채플러스액티브        0.03         0.68   \n",
       "245  498180              파워 종합채권(AA-이상)액티브        0.31         0.45   \n",
       "311  497880               SOL CD금리&머니마켓액티브        0.02         0.35   \n",
       "237  495710        BNK 26-06 특수채(AAA이상)액티브        0.04         0.31   \n",
       "574  292770                KODEX 국채선물3년인버스        0.09         0.12   \n",
       "\n",
       "     AvgReturn Sector  Volume  Amount  Marcap  Color  \n",
       "222   0.042936     채권   46002    5210    1151  Below  \n",
       "25    0.042160     채권   57689    6253   13441  Below  \n",
       "54    0.042173     채권   16333     912    6487  Below  \n",
       "96    0.038327     채권     199      21    3557  Below  \n",
       "47    0.040919     채권    4419     471    7466  Below  \n",
       "43    0.039899     채권      37       4    8322  Below  \n",
       "117   0.042024     채권      20       2    2658  Below  \n",
       "10    0.041493     채권   62394    7283   28356  Below  \n",
       "438   0.032178     채권      29       3     298  Below  \n",
       "131   0.032577     채권    7558     869    2302  Below  \n",
       "345   0.029430     채권     303      32     501  Below  \n",
       "474   0.028531     채권     235      23     241  Below  \n",
       "382   0.028752     채권    1445     148     403  Below  \n",
       "247   0.030138     채권       0       0    1004  Below  \n",
       "101   0.030786     채권   15035     779    3388  Below  \n",
       "551   0.026756     채권     987     109     166  Below  \n",
       "144   0.027237     채권   18005     939    2104  Below  \n",
       "112   0.025517     채권     210      23    2926  Below  \n",
       "146   0.026255     채권   12890     654    2097  Below  \n",
       "526   0.026690     채권     232      24     187  Below  \n",
       "357   0.026638     채권    1949     214     460  Below  \n",
       "781   0.024027     채권      11       0      68  Below  \n",
       "288   0.023585     채권    2176     231     757  Below  \n",
       "239   0.019777     채권       1       0    1056  Below  \n",
       "266   0.025230     채권    3007     323     890  Below  \n",
       "78    0.024920     채권   49203    3043    4626  Below  \n",
       "265   0.022820     채권    1345      70     921  Below  \n",
       "105   0.021370     채권   31768     336    3155  Below  \n",
       "269   0.019250     채권    5153     549     884  Below  \n",
       "187   0.019243     채권   22945     250    1490  Below  \n",
       "622   0.018185     채권    1796     213     119  Below  \n",
       "337   0.016942     채권   11356    1313     536  Below  \n",
       "26    0.018108     채권  142383    7709   13030  Below  \n",
       "37    0.017744     채권   20296     210    9642  Below  \n",
       "71    0.015644     채권  162630    8530    4849  Below  \n",
       "264   0.014391     채권    3838      40     928  Below  \n",
       "379   0.015340     채권    2053     211     412  Below  \n",
       "294   0.015061     채권    2371     127     729  Below  \n",
       "38    0.014379     채권     919      93    9584  Below  \n",
       "14    0.015338     채권  449093   24026   20885  Below  \n",
       "240   0.015410     채권       8       0    1051  Below  \n",
       "190   0.014953     채권   12498     656    1476  Below  \n",
       "211   0.014883     채권      27       1    1201  Below  \n",
       "123   0.015030     채권   19386    1975    2416  Below  \n",
       "336   0.014898     채권    1688     184     544  Below  \n",
       "221   0.014387     채권      34       1    1155  Below  \n",
       "100   0.014953     채권   18185     936    3403  Below  \n",
       "150   0.014548     채권    5381     600    1983  Below  \n",
       "24    0.014580     채권   15580    1762   16007  Below  \n",
       "89    0.014780     채권   57161    2945    3812  Below  \n",
       "384   0.014187     채권    2576     136     402  Below  \n",
       "270   0.014641     채권    5415     275     861  Below  \n",
       "259   0.014569     채권    2666     295     962  Below  \n",
       "253   0.013261     채권   25439     273     987  Below  \n",
       "142   0.014053     채권    6480     686    2116  Below  \n",
       "225   0.014068     채권     459      49    1132  Below  \n",
       "360   0.012909     채권      54       0     453  Below  \n",
       "348   0.013957     채권    6475     330     490  Below  \n",
       "244   0.013527     채권    2028     206    1021  Below  \n",
       "74    0.013835     채권   22327    1229    4807  Below  \n",
       "168   0.013946     채권     453      23    1730  Below  \n",
       "35    0.013760     채권    6269     644   10064  Below  \n",
       "218   0.013702     채권    2630      27    1171  Below  \n",
       "282   0.013793     채권    3926     199     794  Below  \n",
       "86    0.013673     채권    2033     205    3966  Below  \n",
       "95    0.013447     채권    9703     501    3598  Below  \n",
       "115   0.013284     채권    5888      63    2734  Below  \n",
       "320   0.014497     채권    1536      15     610  Below  \n",
       "0     0.013346     채권  306572  324646   91179  Below  \n",
       "5     0.013263     채권   39563    4317   43019  Below  \n",
       "7     0.013291     채권   86731    9336   35166  Below  \n",
       "2     0.013267     채권  286913   15922   63284  Below  \n",
       "179   0.013098     채권    6007     603    1577  Below  \n",
       "127   0.013236     채권    2351     240    2347  Below  \n",
       "284   0.012922     채권    1450      15     791  Below  \n",
       "19    0.013309     채권   11879   12143   18128  Below  \n",
       "619   0.013110     채권     776      80     120  Below  \n",
       "31    0.017040     채권   17877     901   10756  Below  \n",
       "628   0.013028     채권     302      32     117  Below  \n",
       "52    0.012320     채권   18528    2075    6914  Below  \n",
       "75    0.012114     채권    4758     542    4795  Below  \n",
       "489   0.012409     채권       2       0     221  Below  \n",
       "878   0.012449     채권       0       0      45  Below  \n",
       "46    0.012176     채권   16347    1785    7479  Below  \n",
       "164   0.011779     채권    5700     643    1779  Below  \n",
       "488   0.022914     채권   15049     758     222  Below  \n",
       "245   0.021363     채권       0       0    1020  Below  \n",
       "311   0.016020     채권   97947    4901     659  Below  \n",
       "237   0.015974     채권       1       0    1061  Below  \n",
       "574   0.002018     채권       0       0     151  Below  "
      ]
     },
     "metadata": {},
     "output_type": "display_data"
    }
   ],
   "source": [
    "analyze_sector_return_volatility('ETF','채권')"
   ]
  }
 ],
 "metadata": {
  "kernelspec": {
   "display_name": "base",
   "language": "python",
   "name": "python3"
  },
  "language_info": {
   "codemirror_mode": {
    "name": "ipython",
    "version": 3
   },
   "file_extension": ".py",
   "mimetype": "text/x-python",
   "name": "python",
   "nbconvert_exporter": "python",
   "pygments_lexer": "ipython3",
   "version": "3.12.7"
  }
 },
 "nbformat": 4,
 "nbformat_minor": 2
}
