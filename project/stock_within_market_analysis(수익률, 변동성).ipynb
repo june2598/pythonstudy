{
 "cells": [
  {
   "cell_type": "markdown",
   "metadata": {},
   "source": [
    "주어진 시장/업종에서 상위 n개 종목의 평균 수익률/변동성\n",
    "각 시장별 전체 n개월 평균 수익률/변동성 (상위 n개 종목 필터링)\n",
    "시장별 n개월 평균 수익률/변동성 비교 시각화 (상위 n개 종목 필터링)"
   ]
  },
  {
   "cell_type": "code",
   "execution_count": 2,
   "metadata": {},
   "outputs": [],
   "source": [
    "# 데이터 분석을 위한 패키지\n",
    "import numpy as np\n",
    "import pandas as pd"
   ]
  },
  {
   "cell_type": "code",
   "execution_count": 3,
   "metadata": {},
   "outputs": [],
   "source": [
    "# 시각화 패키지\n",
    "import matplotlib.pyplot as plt\n",
    "import seaborn as sns\n",
    "import plotly.express as px\n",
    "import plotly.graph_objects as go"
   ]
  },
  {
   "cell_type": "code",
   "execution_count": 4,
   "metadata": {},
   "outputs": [],
   "source": [
    "import FinanceDataReader as fdr"
   ]
  },
  {
   "cell_type": "code",
   "execution_count": 5,
   "metadata": {},
   "outputs": [],
   "source": [
    "import koreanize_matplotlib"
   ]
  },
  {
   "cell_type": "code",
   "execution_count": 6,
   "metadata": {},
   "outputs": [],
   "source": [
    "from data_loader import load_sector_data"
   ]
  },
  {
   "cell_type": "code",
   "execution_count": 7,
   "metadata": {},
   "outputs": [],
   "source": [
    "# 모든 컬럼,행을 출력하도록 설정\n",
    "pd.set_option('display.max_columns', None) # None으로 설정하면 모든 컬럼 출력\n",
    "pd.set_option('display.max_rows', None) #None으로 설정하면 모든 행 출력"
   ]
  },
  {
   "cell_type": "code",
   "execution_count": 8,
   "metadata": {},
   "outputs": [],
   "source": [
    "# 각 시장별 업종 리스트\n",
    "def print_sector_lists(market):\n",
    "  \n",
    "  if market in ['KOSPI', 'KOSDAQ', 'ETF'] : \n",
    "    sector_list = load_sector_data(market=market)['Sector'].unique()\n",
    "  else : \n",
    "    raise ValueError('KOSPI, KOSDAQ, ETF 중 하나의 시장을 입력해야 합니다.')\n",
    "  \n",
    "  print(f'{market} 시장의 업종 리스트 : {sector_list}')\n",
    "    "
   ]
  },
  {
   "cell_type": "code",
   "execution_count": 10,
   "metadata": {},
   "outputs": [
    {
     "name": "stdout",
     "output_type": "stream",
     "text": [
      "1개월 간의 data를 불러옵니다.\n",
      "KOSPI 시장의 업종 리스트 : ['반도체와반도체장비' '전기제품' '제약' '자동차' '은행' '양방향미디어와서비스' '조선' '자동차부품' '철강' '복합기업'\n",
      " '증권' '비철금속' '생명보험' '석유와가스' '화학' '손해보험' '우주항공과국방' '해운사' '게임엔터테인먼트' '전기장비'\n",
      " '전자제품' '담배' '전기유틸리티' '무선통신서비스' '기계' '다각화된통신서비스' '항공화물운송과물류' 'IT서비스'\n",
      " '전자장비와기기' '항공사' '방송과엔터테인먼트' '무역회사와판매업체' '화장품' '식품' '운송인프라' '가정용기기와용품'\n",
      " '디스플레이패널' '카드' '호텔,레스토랑,레저' '건설' '가스유틸리티' '에너지장비및서비스' '섬유,의류,신발,호화품'\n",
      " '상업서비스와공급품' '건축자재' '광고' '소프트웨어' '백화점과일반상점' '음료' '건강관리장비와용품' '부동산' '포장재'\n",
      " '가구' '도로와철도운송' '디스플레이장비및부품' '핸드셋' '인터넷과카탈로그소매' '종이와목재' '복합유틸리티' '기타'\n",
      " '사무용전자제품' '창업투자' '통신장비' '생물공학' '판매업체' '교육서비스' '전문소매' '출판' '건축제품'\n",
      " '컴퓨터와주변기기' '가정용품' '레저용장비와제품' '식품과기본식료품소매' '문구류']\n"
     ]
    }
   ],
   "source": [
    "print_sector_lists('KOSPI')"
   ]
  },
  {
   "cell_type": "code",
   "execution_count": 8,
   "metadata": {},
   "outputs": [],
   "source": [
    "def visualize_top_n_stocks_performance(market=None, sector=None, info=None, cnt=10) :\n",
    "  \n",
    "  \"\"\"\n",
    "  주어진 시장/업종에서 상위 n개 종목의 수익률 혹은 변동성을 시각화하는 함수.\n",
    "\n",
    "  Parameters:\n",
    "  market (str): 시각화할 시장 ('KOSPI', 'KOSDAQ', 'ETF').\n",
    "  sector (str): 필터링할 업종.\n",
    "  info (str): 상위 종목을 정렬할 기준 (예: 'Volatility' 또는 'TotalReturn', 혹은 한글로 '변동성', '수익률').\n",
    "  cnt (int): 시각화할 상위 종목의 개수 (기본값: 10).\n",
    "  \"\"\"\n",
    "  \n",
    "  # 한글로 입력한 경우에도 처리할 수 있도록 함\n",
    "  \n",
    "  if info == '변동성':\n",
    "    info = 'Volatility'\n",
    "  elif info == '수익률':\n",
    "    info = 'TotalReturn'\n",
    "  \n",
    "  df = load_sector_data(market)\n",
    "  \n",
    "  avg_info = df[info].mean()\n",
    "  \n",
    "  print(f'{market}의 평균 {info} : {avg_info:.3f} %')  \n",
    "  if sector is not None :\n",
    "    if sector not in df['Sector'].unique():\n",
    "      raise ValueError(f\"'{sector}'는(은) 유효한 섹터가 아닙니다. 사용 가능한 섹터: {df['Sector'].unique()}\")\n",
    "    df = df[df['Sector'] == sector]\n",
    "    avg_info = df[info].mean()\n",
    "    \n",
    "\n",
    "  # 4분위수 기준 (risk 매개변수)\n",
    "  # if risk == 1:\n",
    "  # 4분위수값 계산 \n",
    "    quantile = df['Volatility'].quantile([0.25, 0.5, 0.75])\n",
    "    quantile.index\n",
    "    df['Volatility'] < df[df['Volatility'] == quantile[0.25]]\n",
    "  \n",
    "  \n",
    "  # 상위 cnt개를 필터링\n",
    "  df = df.sort_values(by=info, ascending=True).head(cnt)\n",
    "    \n",
    "  # 시장별 그래프 색상 설정\n",
    "  market_colors = {\n",
    "    'KOSPI': 'skyblue',\n",
    "    'KOSDAQ': 'red',\n",
    "    'ETF': 'lightgreen'\n",
    "  }  \n",
    "  \n",
    "  color = market_colors.get(market, 'gray')   # 만일을 대비해 기본색상 지정\n",
    "  \n",
    "  if info == 'Volatility':\n",
    "    xlabel = '변동성 (%)'\n",
    "  elif info == 'TotalReturn':\n",
    "    xlabel = '수익률 (%)'    \n",
    "      \n",
    "  plt.figure(figsize=(10, 6))\n",
    "  plt.barh(df['Name'], df[info], color=color)\n",
    "  \n",
    "  if sector is not None :\n",
    "    plt.title(f'{market} {sector}업종 종목 1개월 {info} 상위 {cnt}개')\n",
    "  else :  \n",
    "    plt.title(f'{market} 종목 1개월 {info} 상위 {cnt}개')\n",
    "  \n",
    "  \n",
    "  plt.xlabel(xlabel)\n",
    "  plt.ylabel('종목명')\n",
    "  plt.grid(axis='x')\n",
    "  plt.show()\n",
    "  \n",
    "  if sector is not None : \n",
    "    print(f'{market}의 {sector} 업종 평균 {info} : {avg_info:.3f} %')\n",
    "    \n",
    "  "
   ]
  },
  {
   "cell_type": "code",
   "execution_count": 27,
   "metadata": {},
   "outputs": [],
   "source": [
    "def visualize_top_n_stocks_performance(market=None, sector=None, info='TotalReturn', month_ago=1, risk=2, cnt=10):\n",
    "    \"\"\"\n",
    "    주어진 시장/업종에서 상위 n개 종목의 수익률 혹은 변동성을 시각화하는 함수.\n",
    "    \"\"\"\n",
    "    \n",
    "    # 한글로 입력한 경우에도 처리할 수 있도록 함\n",
    "    info_mapping = {\n",
    "        '변동성': 'Volatility',\n",
    "        '수익률': 'TotalReturn'\n",
    "    }\n",
    "    \n",
    "    if info in info_mapping:\n",
    "        info = info_mapping[info]  # 한글 입력 처리\n",
    "    elif info not in info_mapping.values():  \n",
    "        raise ValueError(\"유효하지 않은 정보입니다. '변동성','수익률','Volatility', 'TotalReturn'  중 하나를 선택하세요.\")\n",
    "    \n",
    "    df = load_sector_data(market, month_ago=month_ago)\n",
    "    avg_info = df[info].mean()\n",
    "    print(f'{market}의 평균 {info} : {avg_info:.3f} %')  # 소수점 3자리 표시\n",
    "    \n",
    "    if sector is not None:\n",
    "        if sector not in df['Sector'].unique():\n",
    "            raise ValueError(f\"'{sector}'는(은) 유효한 섹터가 아닙니다. 사용 가능한 섹터: {df['Sector'].unique()}\")\n",
    "        df = df[df['Sector'] == sector]\n",
    "        avg_info_sector = df[info].mean()\n",
    "        print(f'{market}의 {sector} 업종 평균 {info} : {avg_info_sector:.3f} %')  # 소수점 3자리 표시\n",
    "    else:\n",
    "        avg_info_sector = None  # 업종 평균이 없을 경우 None으로 설정\n",
    "    \n",
    "    \n",
    "    df = df[df['Risk'] <= risk].sort_values(by=info, ascending=True).tail(cnt)\n",
    "    \n",
    "    \n",
    "    # x라벨 설정\n",
    "    if info == 'Volatility':\n",
    "        xlabel = '변동성 (%)'\n",
    "    elif info == 'TotalReturn':\n",
    "        xlabel = '수익률 (%)'\n",
    "        \n",
    "    \n",
    "    # Figure의 세로 사이즈 조정 (cnt에 따라)\n",
    "    figure_height = 400 + (cnt * 30)        \n",
    "    \n",
    "    # Plotly로 그래프 작성\n",
    "    fig = px.bar(\n",
    "        df,\n",
    "        x=info,\n",
    "        y='Name',\n",
    "        color='Risk',  # 위험도를 색상으로 사용\n",
    "        color_continuous_scale=px.colors.sequential.Reds,  # 색상 스케일 설정\n",
    "        title=f'{market} {sector if sector else \"\"}업종 종목 {month_ago}개월 {info} 상위 {cnt}개',\n",
    "        labels={info: xlabel}\n",
    "    )\n",
    "    \n",
    "    # 평균 수직선 추가\n",
    "    fig.add_shape(type='line', xref='x', yref='y',\n",
    "                  x0=avg_info, y0=-0.5, x1=avg_info, y1=len(df)-0.5,\n",
    "                  line=dict(color='blue', dash='dash'),\n",
    "                  name=f'평균 {market} {info}')\n",
    "    \n",
    "    # 평균 라벨 추가\n",
    "    fig.add_annotation(\n",
    "        x=avg_info,\n",
    "        y=len(df) - 0.5,\n",
    "        text=f'평균 {market} {info}: {avg_info:.3f} %',\n",
    "        showarrow=True,\n",
    "        arrowhead=2,\n",
    "        ax=0,\n",
    "        ay=-40,\n",
    "        font=dict(color='blue')\n",
    "    )\n",
    "    \n",
    "    if avg_info_sector is not None:\n",
    "        fig.add_shape(type='line', xref='x', yref='y',\n",
    "                      x0=avg_info_sector, y0=-0.5, x1=avg_info_sector, y1=len(df)-0.5,\n",
    "                      line=dict(color='orange', dash='dash'),\n",
    "                      name=f'평균 {sector} {info}')\n",
    "        \n",
    "        # 업종 평균 라벨 추가\n",
    "        fig.add_annotation(\n",
    "            x=avg_info_sector,\n",
    "            y=-0.5,\n",
    "            text=f'평균 {sector} {info}: {avg_info_sector:.3f} %',\n",
    "            showarrow=True,\n",
    "            arrowhead=2,\n",
    "            ax=0,\n",
    "            ay=40,\n",
    "            font=dict(color='orange')\n",
    "        )\n",
    "    \n",
    "    # 레이아웃 조정\n",
    "    fig.update_layout(\n",
    "        xaxis_title=xlabel,\n",
    "        yaxis_title='종목명',\n",
    "        showlegend=True,\n",
    "        height=figure_height  # 보려고 하는 종목 수에 따라 동적으로 높이 설정\n",
    "    )\n",
    "    \n",
    "    display(df.sort_values(by='TotalReturn', ascending=False))\n",
    "    fig.show()\n",
    "    "
   ]
  },
  {
   "cell_type": "code",
   "execution_count": 31,
   "metadata": {},
   "outputs": [
    {
     "name": "stdout",
     "output_type": "stream",
     "text": [
      "1개월 간의 data를 불러옵니다.\n",
      "KOSPI의 평균 TotalReturn : 5.311 %\n"
     ]
    },
    {
     "data": {
      "text/html": [
       "<div>\n",
       "<style scoped>\n",
       "    .dataframe tbody tr th:only-of-type {\n",
       "        vertical-align: middle;\n",
       "    }\n",
       "\n",
       "    .dataframe tbody tr th {\n",
       "        vertical-align: top;\n",
       "    }\n",
       "\n",
       "    .dataframe thead th {\n",
       "        text-align: right;\n",
       "    }\n",
       "</style>\n",
       "<table border=\"1\" class=\"dataframe\">\n",
       "  <thead>\n",
       "    <tr style=\"text-align: right;\">\n",
       "      <th></th>\n",
       "      <th>Code</th>\n",
       "      <th>Name</th>\n",
       "      <th>Volatility</th>\n",
       "      <th>TotalReturn</th>\n",
       "      <th>Sector</th>\n",
       "      <th>Volume</th>\n",
       "      <th>Amount</th>\n",
       "      <th>Marcap</th>\n",
       "      <th>Risk</th>\n",
       "    </tr>\n",
       "  </thead>\n",
       "  <tbody>\n",
       "    <tr>\n",
       "      <th>755</th>\n",
       "      <td>45014K</td>\n",
       "      <td>코오롱모빌리티그룹우</td>\n",
       "      <td>15.20</td>\n",
       "      <td>123.49</td>\n",
       "      <td>자동차</td>\n",
       "      <td>201</td>\n",
       "      <td>1417050</td>\n",
       "      <td>17315646000</td>\n",
       "      <td>3</td>\n",
       "    </tr>\n",
       "    <tr>\n",
       "      <th>341</th>\n",
       "      <td>018500</td>\n",
       "      <td>동원금속</td>\n",
       "      <td>14.09</td>\n",
       "      <td>116.31</td>\n",
       "      <td>자동차부품</td>\n",
       "      <td>69311</td>\n",
       "      <td>157638480</td>\n",
       "      <td>106133697910</td>\n",
       "      <td>3</td>\n",
       "    </tr>\n",
       "    <tr>\n",
       "      <th>59</th>\n",
       "      <td>097230</td>\n",
       "      <td>HJ중공업</td>\n",
       "      <td>9.05</td>\n",
       "      <td>106.07</td>\n",
       "      <td>건설</td>\n",
       "      <td>116254</td>\n",
       "      <td>822397000</td>\n",
       "      <td>575425281710</td>\n",
       "      <td>3</td>\n",
       "    </tr>\n",
       "    <tr>\n",
       "      <th>635</th>\n",
       "      <td>077500</td>\n",
       "      <td>유니퀘스트</td>\n",
       "      <td>7.53</td>\n",
       "      <td>78.87</td>\n",
       "      <td>반도체와반도체장비</td>\n",
       "      <td>36002</td>\n",
       "      <td>274778320</td>\n",
       "      <td>164592777240</td>\n",
       "      <td>3</td>\n",
       "    </tr>\n",
       "    <tr>\n",
       "      <th>628</th>\n",
       "      <td>008600</td>\n",
       "      <td>윌비스</td>\n",
       "      <td>11.54</td>\n",
       "      <td>76.06</td>\n",
       "      <td>섬유,의류,신발,호화품</td>\n",
       "      <td>752</td>\n",
       "      <td>567760</td>\n",
       "      <td>50763209445</td>\n",
       "      <td>3</td>\n",
       "    </tr>\n",
       "    <tr>\n",
       "      <th>540</th>\n",
       "      <td>035510</td>\n",
       "      <td>신세계 I&amp;C</td>\n",
       "      <td>9.18</td>\n",
       "      <td>69.41</td>\n",
       "      <td>IT서비스</td>\n",
       "      <td>17982</td>\n",
       "      <td>258545860</td>\n",
       "      <td>219408919800</td>\n",
       "      <td>3</td>\n",
       "    </tr>\n",
       "    <tr>\n",
       "      <th>363</th>\n",
       "      <td>003160</td>\n",
       "      <td>디아이</td>\n",
       "      <td>5.14</td>\n",
       "      <td>63.19</td>\n",
       "      <td>반도체와반도체장비</td>\n",
       "      <td>14769</td>\n",
       "      <td>246799920</td>\n",
       "      <td>470063000000</td>\n",
       "      <td>3</td>\n",
       "    </tr>\n",
       "    <tr>\n",
       "      <th>613</th>\n",
       "      <td>002630</td>\n",
       "      <td>오리엔트바이오</td>\n",
       "      <td>16.45</td>\n",
       "      <td>61.45</td>\n",
       "      <td>생물공학</td>\n",
       "      <td>644215</td>\n",
       "      <td>1218295614</td>\n",
       "      <td>228272284625</td>\n",
       "      <td>3</td>\n",
       "    </tr>\n",
       "    <tr>\n",
       "      <th>229</th>\n",
       "      <td>001210</td>\n",
       "      <td>금호전기</td>\n",
       "      <td>4.03</td>\n",
       "      <td>58.36</td>\n",
       "      <td>디스플레이장비및부품</td>\n",
       "      <td>17659</td>\n",
       "      <td>17815866</td>\n",
       "      <td>56145922833</td>\n",
       "      <td>3</td>\n",
       "    </tr>\n",
       "    <tr>\n",
       "      <th>218</th>\n",
       "      <td>083420</td>\n",
       "      <td>그린케미칼</td>\n",
       "      <td>5.76</td>\n",
       "      <td>56.29</td>\n",
       "      <td>화학</td>\n",
       "      <td>10215</td>\n",
       "      <td>70521670</td>\n",
       "      <td>166320000000</td>\n",
       "      <td>3</td>\n",
       "    </tr>\n",
       "    <tr>\n",
       "      <th>144</th>\n",
       "      <td>001380</td>\n",
       "      <td>SG글로벌</td>\n",
       "      <td>10.45</td>\n",
       "      <td>56.03</td>\n",
       "      <td>자동차부품</td>\n",
       "      <td>81729</td>\n",
       "      <td>295941250</td>\n",
       "      <td>162320556230</td>\n",
       "      <td>3</td>\n",
       "    </tr>\n",
       "    <tr>\n",
       "      <th>142</th>\n",
       "      <td>034120</td>\n",
       "      <td>SBS</td>\n",
       "      <td>10.21</td>\n",
       "      <td>56.01</td>\n",
       "      <td>방송과엔터테인먼트</td>\n",
       "      <td>18107</td>\n",
       "      <td>423944000</td>\n",
       "      <td>429461159700</td>\n",
       "      <td>3</td>\n",
       "    </tr>\n",
       "    <tr>\n",
       "      <th>505</th>\n",
       "      <td>011300</td>\n",
       "      <td>성안머티리얼스</td>\n",
       "      <td>6.21</td>\n",
       "      <td>50.87</td>\n",
       "      <td>섬유,의류,신발,호화품</td>\n",
       "      <td>6288</td>\n",
       "      <td>4737511</td>\n",
       "      <td>62593622844</td>\n",
       "      <td>3</td>\n",
       "    </tr>\n",
       "    <tr>\n",
       "      <th>791</th>\n",
       "      <td>005690</td>\n",
       "      <td>파미셀</td>\n",
       "      <td>3.97</td>\n",
       "      <td>48.92</td>\n",
       "      <td>화학</td>\n",
       "      <td>8302</td>\n",
       "      <td>74528630</td>\n",
       "      <td>536551658160</td>\n",
       "      <td>3</td>\n",
       "    </tr>\n",
       "    <tr>\n",
       "      <th>899</th>\n",
       "      <td>082740</td>\n",
       "      <td>한화엔진</td>\n",
       "      <td>4.07</td>\n",
       "      <td>47.67</td>\n",
       "      <td>조선</td>\n",
       "      <td>570295</td>\n",
       "      <td>12320971930</td>\n",
       "      <td>1856698909500</td>\n",
       "      <td>3</td>\n",
       "    </tr>\n",
       "    <tr>\n",
       "      <th>691</th>\n",
       "      <td>079900</td>\n",
       "      <td>전진건설로봇</td>\n",
       "      <td>7.22</td>\n",
       "      <td>45.36</td>\n",
       "      <td>기계</td>\n",
       "      <td>73198</td>\n",
       "      <td>2674822850</td>\n",
       "      <td>526061247250</td>\n",
       "      <td>3</td>\n",
       "    </tr>\n",
       "    <tr>\n",
       "      <th>851</th>\n",
       "      <td>042700</td>\n",
       "      <td>한미반도체</td>\n",
       "      <td>4.70</td>\n",
       "      <td>45.07</td>\n",
       "      <td>반도체와반도체장비</td>\n",
       "      <td>42491</td>\n",
       "      <td>4198488300</td>\n",
       "      <td>9545488789200</td>\n",
       "      <td>3</td>\n",
       "    </tr>\n",
       "    <tr>\n",
       "      <th>291</th>\n",
       "      <td>006345</td>\n",
       "      <td>대원전선우</td>\n",
       "      <td>13.32</td>\n",
       "      <td>44.70</td>\n",
       "      <td>전기장비</td>\n",
       "      <td>733</td>\n",
       "      <td>2954310</td>\n",
       "      <td>10537224000</td>\n",
       "      <td>3</td>\n",
       "    </tr>\n",
       "    <tr>\n",
       "      <th>177</th>\n",
       "      <td>100840</td>\n",
       "      <td>SNT에너지</td>\n",
       "      <td>7.17</td>\n",
       "      <td>44.22</td>\n",
       "      <td>기계</td>\n",
       "      <td>607</td>\n",
       "      <td>14363550</td>\n",
       "      <td>484964361350</td>\n",
       "      <td>3</td>\n",
       "    </tr>\n",
       "    <tr>\n",
       "      <th>598</th>\n",
       "      <td>085310</td>\n",
       "      <td>엔케이</td>\n",
       "      <td>3.10</td>\n",
       "      <td>42.02</td>\n",
       "      <td>기계</td>\n",
       "      <td>1271</td>\n",
       "      <td>1173133</td>\n",
       "      <td>73824633896</td>\n",
       "      <td>3</td>\n",
       "    </tr>\n",
       "    <tr>\n",
       "      <th>191</th>\n",
       "      <td>000500</td>\n",
       "      <td>가온전선</td>\n",
       "      <td>3.37</td>\n",
       "      <td>40.76</td>\n",
       "      <td>전기장비</td>\n",
       "      <td>3201</td>\n",
       "      <td>191811600</td>\n",
       "      <td>591502740000</td>\n",
       "      <td>3</td>\n",
       "    </tr>\n",
       "    <tr>\n",
       "      <th>585</th>\n",
       "      <td>010580</td>\n",
       "      <td>에스엠벡셀</td>\n",
       "      <td>4.71</td>\n",
       "      <td>39.21</td>\n",
       "      <td>자동차부품</td>\n",
       "      <td>22</td>\n",
       "      <td>29414</td>\n",
       "      <td>148743603120</td>\n",
       "      <td>3</td>\n",
       "    </tr>\n",
       "    <tr>\n",
       "      <th>351</th>\n",
       "      <td>000150</td>\n",
       "      <td>두산</td>\n",
       "      <td>3.89</td>\n",
       "      <td>38.55</td>\n",
       "      <td>복합기업</td>\n",
       "      <td>1214</td>\n",
       "      <td>354749500</td>\n",
       "      <td>4849745572500</td>\n",
       "      <td>3</td>\n",
       "    </tr>\n",
       "    <tr>\n",
       "      <th>58</th>\n",
       "      <td>329180</td>\n",
       "      <td>HD현대중공업</td>\n",
       "      <td>3.00</td>\n",
       "      <td>34.94</td>\n",
       "      <td>조선</td>\n",
       "      <td>6786</td>\n",
       "      <td>1966487000</td>\n",
       "      <td>25655430524000</td>\n",
       "      <td>2</td>\n",
       "    </tr>\n",
       "    <tr>\n",
       "      <th>900</th>\n",
       "      <td>042660</td>\n",
       "      <td>한화오션</td>\n",
       "      <td>3.87</td>\n",
       "      <td>34.43</td>\n",
       "      <td>조선</td>\n",
       "      <td>600550</td>\n",
       "      <td>25870325700</td>\n",
       "      <td>13099172593500</td>\n",
       "      <td>3</td>\n",
       "    </tr>\n",
       "    <tr>\n",
       "      <th>616</th>\n",
       "      <td>005320</td>\n",
       "      <td>온타이드</td>\n",
       "      <td>5.27</td>\n",
       "      <td>34.21</td>\n",
       "      <td>섬유,의류,신발,호화품</td>\n",
       "      <td>73270</td>\n",
       "      <td>38031994</td>\n",
       "      <td>34471960064</td>\n",
       "      <td>3</td>\n",
       "    </tr>\n",
       "    <tr>\n",
       "      <th>722</th>\n",
       "      <td>011000</td>\n",
       "      <td>진원생명과학</td>\n",
       "      <td>4.90</td>\n",
       "      <td>33.09</td>\n",
       "      <td>생물공학</td>\n",
       "      <td>76044</td>\n",
       "      <td>191219910</td>\n",
       "      <td>202898953725</td>\n",
       "      <td>3</td>\n",
       "    </tr>\n",
       "    <tr>\n",
       "      <th>113</th>\n",
       "      <td>079550</td>\n",
       "      <td>LIG넥스원</td>\n",
       "      <td>4.77</td>\n",
       "      <td>32.88</td>\n",
       "      <td>우주항공과국방</td>\n",
       "      <td>7537</td>\n",
       "      <td>1838794000</td>\n",
       "      <td>5346000000000</td>\n",
       "      <td>3</td>\n",
       "    </tr>\n",
       "    <tr>\n",
       "      <th>53</th>\n",
       "      <td>071970</td>\n",
       "      <td>HD현대마린엔진</td>\n",
       "      <td>4.07</td>\n",
       "      <td>32.27</td>\n",
       "      <td>조선</td>\n",
       "      <td>78971</td>\n",
       "      <td>1997385050</td>\n",
       "      <td>856517748750</td>\n",
       "      <td>3</td>\n",
       "    </tr>\n",
       "    <tr>\n",
       "      <th>898</th>\n",
       "      <td>012450</td>\n",
       "      <td>한화에어로스페이스</td>\n",
       "      <td>3.61</td>\n",
       "      <td>29.21</td>\n",
       "      <td>우주항공과국방</td>\n",
       "      <td>8762</td>\n",
       "      <td>3317757500</td>\n",
       "      <td>17184097697000</td>\n",
       "      <td>3</td>\n",
       "    </tr>\n",
       "  </tbody>\n",
       "</table>\n",
       "</div>"
      ],
      "text/plain": [
       "       Code        Name  Volatility  TotalReturn        Sector  Volume  \\\n",
       "755  45014K  코오롱모빌리티그룹우       15.20       123.49           자동차     201   \n",
       "341  018500        동원금속       14.09       116.31         자동차부품   69311   \n",
       "59   097230       HJ중공업        9.05       106.07            건설  116254   \n",
       "635  077500       유니퀘스트        7.53        78.87     반도체와반도체장비   36002   \n",
       "628  008600         윌비스       11.54        76.06  섬유,의류,신발,호화품     752   \n",
       "540  035510     신세계 I&C        9.18        69.41         IT서비스   17982   \n",
       "363  003160         디아이        5.14        63.19     반도체와반도체장비   14769   \n",
       "613  002630     오리엔트바이오       16.45        61.45          생물공학  644215   \n",
       "229  001210        금호전기        4.03        58.36    디스플레이장비및부품   17659   \n",
       "218  083420       그린케미칼        5.76        56.29            화학   10215   \n",
       "144  001380       SG글로벌       10.45        56.03         자동차부품   81729   \n",
       "142  034120         SBS       10.21        56.01     방송과엔터테인먼트   18107   \n",
       "505  011300     성안머티리얼스        6.21        50.87  섬유,의류,신발,호화품    6288   \n",
       "791  005690         파미셀        3.97        48.92            화학    8302   \n",
       "899  082740        한화엔진        4.07        47.67            조선  570295   \n",
       "691  079900      전진건설로봇        7.22        45.36            기계   73198   \n",
       "851  042700       한미반도체        4.70        45.07     반도체와반도체장비   42491   \n",
       "291  006345       대원전선우       13.32        44.70          전기장비     733   \n",
       "177  100840      SNT에너지        7.17        44.22            기계     607   \n",
       "598  085310         엔케이        3.10        42.02            기계    1271   \n",
       "191  000500        가온전선        3.37        40.76          전기장비    3201   \n",
       "585  010580       에스엠벡셀        4.71        39.21         자동차부품      22   \n",
       "351  000150          두산        3.89        38.55          복합기업    1214   \n",
       "58   329180     HD현대중공업        3.00        34.94            조선    6786   \n",
       "900  042660        한화오션        3.87        34.43            조선  600550   \n",
       "616  005320        온타이드        5.27        34.21  섬유,의류,신발,호화품   73270   \n",
       "722  011000      진원생명과학        4.90        33.09          생물공학   76044   \n",
       "113  079550      LIG넥스원        4.77        32.88       우주항공과국방    7537   \n",
       "53   071970    HD현대마린엔진        4.07        32.27            조선   78971   \n",
       "898  012450   한화에어로스페이스        3.61        29.21       우주항공과국방    8762   \n",
       "\n",
       "          Amount          Marcap  Risk  \n",
       "755      1417050     17315646000     3  \n",
       "341    157638480    106133697910     3  \n",
       "59     822397000    575425281710     3  \n",
       "635    274778320    164592777240     3  \n",
       "628       567760     50763209445     3  \n",
       "540    258545860    219408919800     3  \n",
       "363    246799920    470063000000     3  \n",
       "613   1218295614    228272284625     3  \n",
       "229     17815866     56145922833     3  \n",
       "218     70521670    166320000000     3  \n",
       "144    295941250    162320556230     3  \n",
       "142    423944000    429461159700     3  \n",
       "505      4737511     62593622844     3  \n",
       "791     74528630    536551658160     3  \n",
       "899  12320971930   1856698909500     3  \n",
       "691   2674822850    526061247250     3  \n",
       "851   4198488300   9545488789200     3  \n",
       "291      2954310     10537224000     3  \n",
       "177     14363550    484964361350     3  \n",
       "598      1173133     73824633896     3  \n",
       "191    191811600    591502740000     3  \n",
       "585        29414    148743603120     3  \n",
       "351    354749500   4849745572500     3  \n",
       "58    1966487000  25655430524000     2  \n",
       "900  25870325700  13099172593500     3  \n",
       "616     38031994     34471960064     3  \n",
       "722    191219910    202898953725     3  \n",
       "113   1838794000   5346000000000     3  \n",
       "53    1997385050    856517748750     3  \n",
       "898   3317757500  17184097697000     3  "
      ]
     },
     "metadata": {},
     "output_type": "display_data"
    },
    {
     "data": {
      "application/vnd.plotly.v1+json": {
       "config": {
        "plotlyServerURL": "https://plot.ly"
       },
       "data": [
        {
         "alignmentgroup": "True",
         "hovertemplate": "수익률 (%)=%{x}<br>Name=%{y}<br>Risk=%{marker.color}<extra></extra>",
         "legendgroup": "",
         "marker": {
          "color": [
           3,
           3,
           3,
           3,
           3,
           3,
           2,
           3,
           3,
           3,
           3,
           3,
           3,
           3,
           3,
           3,
           3,
           3,
           3,
           3,
           3,
           3,
           3,
           3,
           3,
           3,
           3,
           3,
           3,
           3
          ],
          "coloraxis": "coloraxis",
          "pattern": {
           "shape": ""
          }
         },
         "name": "",
         "offsetgroup": "",
         "orientation": "h",
         "showlegend": false,
         "textposition": "auto",
         "type": "bar",
         "x": [
          29.21,
          32.27,
          32.88,
          33.09,
          34.21,
          34.43,
          34.94,
          38.55,
          39.21,
          40.76,
          42.02,
          44.22,
          44.7,
          45.07,
          45.36,
          47.67,
          48.92,
          50.87,
          56.01,
          56.03,
          56.29,
          58.36,
          61.45,
          63.19,
          69.41,
          76.06,
          78.87,
          106.07,
          116.31,
          123.49
         ],
         "xaxis": "x",
         "y": [
          "한화에어로스페이스",
          "HD현대마린엔진",
          "LIG넥스원",
          "진원생명과학",
          "온타이드",
          "한화오션",
          "HD현대중공업",
          "두산",
          "에스엠벡셀",
          "가온전선",
          "엔케이",
          "SNT에너지",
          "대원전선우",
          "한미반도체",
          "전진건설로봇",
          "한화엔진",
          "파미셀",
          "성안머티리얼스",
          "SBS",
          "SG글로벌",
          "그린케미칼",
          "금호전기",
          "오리엔트바이오",
          "디아이",
          "신세계 I&C",
          "윌비스",
          "유니퀘스트",
          "HJ중공업",
          "동원금속",
          "코오롱모빌리티그룹우"
         ],
         "yaxis": "y"
        }
       ],
       "layout": {
        "annotations": [
         {
          "arrowhead": 2,
          "ax": 0,
          "ay": -40,
          "font": {
           "color": "blue"
          },
          "showarrow": true,
          "text": "평균 KOSPI TotalReturn: 5.311 %",
          "x": 5.311363163371488,
          "y": 29.5
         }
        ],
        "barmode": "relative",
        "coloraxis": {
         "colorbar": {
          "title": {
           "text": "Risk"
          }
         },
         "colorscale": [
          [
           0,
           "rgb(255,245,240)"
          ],
          [
           0.125,
           "rgb(254,224,210)"
          ],
          [
           0.25,
           "rgb(252,187,161)"
          ],
          [
           0.375,
           "rgb(252,146,114)"
          ],
          [
           0.5,
           "rgb(251,106,74)"
          ],
          [
           0.625,
           "rgb(239,59,44)"
          ],
          [
           0.75,
           "rgb(203,24,29)"
          ],
          [
           0.875,
           "rgb(165,15,21)"
          ],
          [
           1,
           "rgb(103,0,13)"
          ]
         ]
        },
        "height": 1300,
        "legend": {
         "tracegroupgap": 0
        },
        "shapes": [
         {
          "line": {
           "color": "blue",
           "dash": "dash"
          },
          "name": "평균 KOSPI TotalReturn",
          "type": "line",
          "x0": 5.311363163371488,
          "x1": 5.311363163371488,
          "xref": "x",
          "y0": -0.5,
          "y1": 29.5,
          "yref": "y"
         }
        ],
        "showlegend": true,
        "template": {
         "data": {
          "bar": [
           {
            "error_x": {
             "color": "#2a3f5f"
            },
            "error_y": {
             "color": "#2a3f5f"
            },
            "marker": {
             "line": {
              "color": "white",
              "width": 0.5
             },
             "pattern": {
              "fillmode": "overlay",
              "size": 10,
              "solidity": 0.2
             }
            },
            "type": "bar"
           }
          ],
          "barpolar": [
           {
            "marker": {
             "line": {
              "color": "white",
              "width": 0.5
             },
             "pattern": {
              "fillmode": "overlay",
              "size": 10,
              "solidity": 0.2
             }
            },
            "type": "barpolar"
           }
          ],
          "carpet": [
           {
            "aaxis": {
             "endlinecolor": "#2a3f5f",
             "gridcolor": "#C8D4E3",
             "linecolor": "#C8D4E3",
             "minorgridcolor": "#C8D4E3",
             "startlinecolor": "#2a3f5f"
            },
            "baxis": {
             "endlinecolor": "#2a3f5f",
             "gridcolor": "#C8D4E3",
             "linecolor": "#C8D4E3",
             "minorgridcolor": "#C8D4E3",
             "startlinecolor": "#2a3f5f"
            },
            "type": "carpet"
           }
          ],
          "choropleth": [
           {
            "colorbar": {
             "outlinewidth": 0,
             "ticks": ""
            },
            "type": "choropleth"
           }
          ],
          "contour": [
           {
            "colorbar": {
             "outlinewidth": 0,
             "ticks": ""
            },
            "colorscale": [
             [
              0,
              "#0d0887"
             ],
             [
              0.1111111111111111,
              "#46039f"
             ],
             [
              0.2222222222222222,
              "#7201a8"
             ],
             [
              0.3333333333333333,
              "#9c179e"
             ],
             [
              0.4444444444444444,
              "#bd3786"
             ],
             [
              0.5555555555555556,
              "#d8576b"
             ],
             [
              0.6666666666666666,
              "#ed7953"
             ],
             [
              0.7777777777777778,
              "#fb9f3a"
             ],
             [
              0.8888888888888888,
              "#fdca26"
             ],
             [
              1,
              "#f0f921"
             ]
            ],
            "type": "contour"
           }
          ],
          "contourcarpet": [
           {
            "colorbar": {
             "outlinewidth": 0,
             "ticks": ""
            },
            "type": "contourcarpet"
           }
          ],
          "heatmap": [
           {
            "colorbar": {
             "outlinewidth": 0,
             "ticks": ""
            },
            "colorscale": [
             [
              0,
              "#0d0887"
             ],
             [
              0.1111111111111111,
              "#46039f"
             ],
             [
              0.2222222222222222,
              "#7201a8"
             ],
             [
              0.3333333333333333,
              "#9c179e"
             ],
             [
              0.4444444444444444,
              "#bd3786"
             ],
             [
              0.5555555555555556,
              "#d8576b"
             ],
             [
              0.6666666666666666,
              "#ed7953"
             ],
             [
              0.7777777777777778,
              "#fb9f3a"
             ],
             [
              0.8888888888888888,
              "#fdca26"
             ],
             [
              1,
              "#f0f921"
             ]
            ],
            "type": "heatmap"
           }
          ],
          "heatmapgl": [
           {
            "colorbar": {
             "outlinewidth": 0,
             "ticks": ""
            },
            "colorscale": [
             [
              0,
              "#0d0887"
             ],
             [
              0.1111111111111111,
              "#46039f"
             ],
             [
              0.2222222222222222,
              "#7201a8"
             ],
             [
              0.3333333333333333,
              "#9c179e"
             ],
             [
              0.4444444444444444,
              "#bd3786"
             ],
             [
              0.5555555555555556,
              "#d8576b"
             ],
             [
              0.6666666666666666,
              "#ed7953"
             ],
             [
              0.7777777777777778,
              "#fb9f3a"
             ],
             [
              0.8888888888888888,
              "#fdca26"
             ],
             [
              1,
              "#f0f921"
             ]
            ],
            "type": "heatmapgl"
           }
          ],
          "histogram": [
           {
            "marker": {
             "pattern": {
              "fillmode": "overlay",
              "size": 10,
              "solidity": 0.2
             }
            },
            "type": "histogram"
           }
          ],
          "histogram2d": [
           {
            "colorbar": {
             "outlinewidth": 0,
             "ticks": ""
            },
            "colorscale": [
             [
              0,
              "#0d0887"
             ],
             [
              0.1111111111111111,
              "#46039f"
             ],
             [
              0.2222222222222222,
              "#7201a8"
             ],
             [
              0.3333333333333333,
              "#9c179e"
             ],
             [
              0.4444444444444444,
              "#bd3786"
             ],
             [
              0.5555555555555556,
              "#d8576b"
             ],
             [
              0.6666666666666666,
              "#ed7953"
             ],
             [
              0.7777777777777778,
              "#fb9f3a"
             ],
             [
              0.8888888888888888,
              "#fdca26"
             ],
             [
              1,
              "#f0f921"
             ]
            ],
            "type": "histogram2d"
           }
          ],
          "histogram2dcontour": [
           {
            "colorbar": {
             "outlinewidth": 0,
             "ticks": ""
            },
            "colorscale": [
             [
              0,
              "#0d0887"
             ],
             [
              0.1111111111111111,
              "#46039f"
             ],
             [
              0.2222222222222222,
              "#7201a8"
             ],
             [
              0.3333333333333333,
              "#9c179e"
             ],
             [
              0.4444444444444444,
              "#bd3786"
             ],
             [
              0.5555555555555556,
              "#d8576b"
             ],
             [
              0.6666666666666666,
              "#ed7953"
             ],
             [
              0.7777777777777778,
              "#fb9f3a"
             ],
             [
              0.8888888888888888,
              "#fdca26"
             ],
             [
              1,
              "#f0f921"
             ]
            ],
            "type": "histogram2dcontour"
           }
          ],
          "mesh3d": [
           {
            "colorbar": {
             "outlinewidth": 0,
             "ticks": ""
            },
            "type": "mesh3d"
           }
          ],
          "parcoords": [
           {
            "line": {
             "colorbar": {
              "outlinewidth": 0,
              "ticks": ""
             }
            },
            "type": "parcoords"
           }
          ],
          "pie": [
           {
            "automargin": true,
            "type": "pie"
           }
          ],
          "scatter": [
           {
            "fillpattern": {
             "fillmode": "overlay",
             "size": 10,
             "solidity": 0.2
            },
            "type": "scatter"
           }
          ],
          "scatter3d": [
           {
            "line": {
             "colorbar": {
              "outlinewidth": 0,
              "ticks": ""
             }
            },
            "marker": {
             "colorbar": {
              "outlinewidth": 0,
              "ticks": ""
             }
            },
            "type": "scatter3d"
           }
          ],
          "scattercarpet": [
           {
            "marker": {
             "colorbar": {
              "outlinewidth": 0,
              "ticks": ""
             }
            },
            "type": "scattercarpet"
           }
          ],
          "scattergeo": [
           {
            "marker": {
             "colorbar": {
              "outlinewidth": 0,
              "ticks": ""
             }
            },
            "type": "scattergeo"
           }
          ],
          "scattergl": [
           {
            "marker": {
             "colorbar": {
              "outlinewidth": 0,
              "ticks": ""
             }
            },
            "type": "scattergl"
           }
          ],
          "scattermapbox": [
           {
            "marker": {
             "colorbar": {
              "outlinewidth": 0,
              "ticks": ""
             }
            },
            "type": "scattermapbox"
           }
          ],
          "scatterpolar": [
           {
            "marker": {
             "colorbar": {
              "outlinewidth": 0,
              "ticks": ""
             }
            },
            "type": "scatterpolar"
           }
          ],
          "scatterpolargl": [
           {
            "marker": {
             "colorbar": {
              "outlinewidth": 0,
              "ticks": ""
             }
            },
            "type": "scatterpolargl"
           }
          ],
          "scatterternary": [
           {
            "marker": {
             "colorbar": {
              "outlinewidth": 0,
              "ticks": ""
             }
            },
            "type": "scatterternary"
           }
          ],
          "surface": [
           {
            "colorbar": {
             "outlinewidth": 0,
             "ticks": ""
            },
            "colorscale": [
             [
              0,
              "#0d0887"
             ],
             [
              0.1111111111111111,
              "#46039f"
             ],
             [
              0.2222222222222222,
              "#7201a8"
             ],
             [
              0.3333333333333333,
              "#9c179e"
             ],
             [
              0.4444444444444444,
              "#bd3786"
             ],
             [
              0.5555555555555556,
              "#d8576b"
             ],
             [
              0.6666666666666666,
              "#ed7953"
             ],
             [
              0.7777777777777778,
              "#fb9f3a"
             ],
             [
              0.8888888888888888,
              "#fdca26"
             ],
             [
              1,
              "#f0f921"
             ]
            ],
            "type": "surface"
           }
          ],
          "table": [
           {
            "cells": {
             "fill": {
              "color": "#EBF0F8"
             },
             "line": {
              "color": "white"
             }
            },
            "header": {
             "fill": {
              "color": "#C8D4E3"
             },
             "line": {
              "color": "white"
             }
            },
            "type": "table"
           }
          ]
         },
         "layout": {
          "annotationdefaults": {
           "arrowcolor": "#2a3f5f",
           "arrowhead": 0,
           "arrowwidth": 1
          },
          "autotypenumbers": "strict",
          "coloraxis": {
           "colorbar": {
            "outlinewidth": 0,
            "ticks": ""
           }
          },
          "colorscale": {
           "diverging": [
            [
             0,
             "#8e0152"
            ],
            [
             0.1,
             "#c51b7d"
            ],
            [
             0.2,
             "#de77ae"
            ],
            [
             0.3,
             "#f1b6da"
            ],
            [
             0.4,
             "#fde0ef"
            ],
            [
             0.5,
             "#f7f7f7"
            ],
            [
             0.6,
             "#e6f5d0"
            ],
            [
             0.7,
             "#b8e186"
            ],
            [
             0.8,
             "#7fbc41"
            ],
            [
             0.9,
             "#4d9221"
            ],
            [
             1,
             "#276419"
            ]
           ],
           "sequential": [
            [
             0,
             "#0d0887"
            ],
            [
             0.1111111111111111,
             "#46039f"
            ],
            [
             0.2222222222222222,
             "#7201a8"
            ],
            [
             0.3333333333333333,
             "#9c179e"
            ],
            [
             0.4444444444444444,
             "#bd3786"
            ],
            [
             0.5555555555555556,
             "#d8576b"
            ],
            [
             0.6666666666666666,
             "#ed7953"
            ],
            [
             0.7777777777777778,
             "#fb9f3a"
            ],
            [
             0.8888888888888888,
             "#fdca26"
            ],
            [
             1,
             "#f0f921"
            ]
           ],
           "sequentialminus": [
            [
             0,
             "#0d0887"
            ],
            [
             0.1111111111111111,
             "#46039f"
            ],
            [
             0.2222222222222222,
             "#7201a8"
            ],
            [
             0.3333333333333333,
             "#9c179e"
            ],
            [
             0.4444444444444444,
             "#bd3786"
            ],
            [
             0.5555555555555556,
             "#d8576b"
            ],
            [
             0.6666666666666666,
             "#ed7953"
            ],
            [
             0.7777777777777778,
             "#fb9f3a"
            ],
            [
             0.8888888888888888,
             "#fdca26"
            ],
            [
             1,
             "#f0f921"
            ]
           ]
          },
          "colorway": [
           "#636efa",
           "#EF553B",
           "#00cc96",
           "#ab63fa",
           "#FFA15A",
           "#19d3f3",
           "#FF6692",
           "#B6E880",
           "#FF97FF",
           "#FECB52"
          ],
          "font": {
           "color": "#2a3f5f"
          },
          "geo": {
           "bgcolor": "white",
           "lakecolor": "white",
           "landcolor": "white",
           "showlakes": true,
           "showland": true,
           "subunitcolor": "#C8D4E3"
          },
          "hoverlabel": {
           "align": "left"
          },
          "hovermode": "closest",
          "mapbox": {
           "style": "light"
          },
          "paper_bgcolor": "white",
          "plot_bgcolor": "white",
          "polar": {
           "angularaxis": {
            "gridcolor": "#EBF0F8",
            "linecolor": "#EBF0F8",
            "ticks": ""
           },
           "bgcolor": "white",
           "radialaxis": {
            "gridcolor": "#EBF0F8",
            "linecolor": "#EBF0F8",
            "ticks": ""
           }
          },
          "scene": {
           "xaxis": {
            "backgroundcolor": "white",
            "gridcolor": "#DFE8F3",
            "gridwidth": 2,
            "linecolor": "#EBF0F8",
            "showbackground": true,
            "ticks": "",
            "zerolinecolor": "#EBF0F8"
           },
           "yaxis": {
            "backgroundcolor": "white",
            "gridcolor": "#DFE8F3",
            "gridwidth": 2,
            "linecolor": "#EBF0F8",
            "showbackground": true,
            "ticks": "",
            "zerolinecolor": "#EBF0F8"
           },
           "zaxis": {
            "backgroundcolor": "white",
            "gridcolor": "#DFE8F3",
            "gridwidth": 2,
            "linecolor": "#EBF0F8",
            "showbackground": true,
            "ticks": "",
            "zerolinecolor": "#EBF0F8"
           }
          },
          "shapedefaults": {
           "line": {
            "color": "#2a3f5f"
           }
          },
          "ternary": {
           "aaxis": {
            "gridcolor": "#DFE8F3",
            "linecolor": "#A2B1C6",
            "ticks": ""
           },
           "baxis": {
            "gridcolor": "#DFE8F3",
            "linecolor": "#A2B1C6",
            "ticks": ""
           },
           "bgcolor": "white",
           "caxis": {
            "gridcolor": "#DFE8F3",
            "linecolor": "#A2B1C6",
            "ticks": ""
           }
          },
          "title": {
           "x": 0.05
          },
          "xaxis": {
           "automargin": true,
           "gridcolor": "#EBF0F8",
           "linecolor": "#EBF0F8",
           "ticks": "",
           "title": {
            "standoff": 15
           },
           "zerolinecolor": "#EBF0F8",
           "zerolinewidth": 2
          },
          "yaxis": {
           "automargin": true,
           "gridcolor": "#EBF0F8",
           "linecolor": "#EBF0F8",
           "ticks": "",
           "title": {
            "standoff": 15
           },
           "zerolinecolor": "#EBF0F8",
           "zerolinewidth": 2
          }
         }
        },
        "title": {
         "text": "KOSPI 업종 종목 1개월 TotalReturn 상위 30개"
        },
        "xaxis": {
         "anchor": "y",
         "domain": [
          0,
          1
         ],
         "title": {
          "text": "수익률 (%)"
         }
        },
        "yaxis": {
         "anchor": "x",
         "domain": [
          0,
          1
         ],
         "title": {
          "text": "종목명"
         }
        }
       }
      }
     },
     "metadata": {},
     "output_type": "display_data"
    }
   ],
   "source": [
    "visualize_top_n_stocks_performance(market='KOSPI', risk=3, month_ago=1, cnt=30)"
   ]
  },
  {
   "cell_type": "code",
   "execution_count": null,
   "metadata": {},
   "outputs": [],
   "source": [
    "# ETF 데이터 가져오기\n",
    "etfs = fdr.StockListing('ETF/KR')\n",
    "\n",
    "# 유효한 ETF 심볼 리스트\n",
    "valid_etfs = etfs['Symbol'].tolist()\n",
    "\n",
    "# 변동성을 저장할 리스트\n",
    "volatility_list_etf = []\n",
    "\n",
    "# 각 ETF의 데이터를 가져와 변동성 계산\n",
    "for index, row in etfs.iterrows():\n",
    "    ticker = row['Symbol']\n",
    "    if ticker not in valid_etfs:\n",
    "        print(f\"{ticker}는 유효하지 않은 심볼입니다.\")\n",
    "        continue\n",
    "    \n",
    "    try:\n",
    "        # 각 ETF의 데이터 가져오기 (3개월)\n",
    "        data_etf = fdr.DataReader(ticker, start='2023-09-01')  # 원하는 시작일 설정\n",
    "        data_etf['Returns'] = data_etf['Close'].pct_change()  # 수익률 계산\n",
    "        \n",
    "        # 변동성 계산 (표준편차)\n",
    "        volatility_etf = data_etf['Returns'].std() * 100  # 백분율로 변환\n",
    "        volatility_list_etf.append({'Symbol': ticker, 'Name': row['Name'], 'Volatility': volatility_etf})\n",
    "    except Exception as e:\n",
    "        print(f\"{ticker} 데이터 오류: {e}\")\n",
    "\n",
    "# 변동성 DataFrame 생성\n",
    "volatility_etf_df = pd.DataFrame(volatility_list_etf)\n",
    "\n",
    "# 변동성 상위 10개 ETF 추출\n",
    "top_volatility_etf = volatility_etf_df.nlargest(10, 'Volatility')\n",
    "\n",
    "# ETF 변동성 시각화\n",
    "plt.figure(figsize=(10, 6))\n",
    "plt.barh(top_volatility_etf['Name'], top_volatility_etf['Volatility'], color='lightgreen')\n",
    "plt.title('ETF 3개월 변동성 상위 10개')\n",
    "plt.xlabel('변동성 (%)')\n",
    "plt.ylabel('ETF 이름')\n",
    "plt.grid(axis='x')\n",
    "plt.show()"
   ]
  },
  {
   "cell_type": "code",
   "execution_count": 17,
   "metadata": {},
   "outputs": [],
   "source": [
    "# 전체 n개월 평균 변동성 계산\n",
    "def avg_market_volatility(cnt=None, month_ago=3) :\n",
    "    \n",
    "    market_list = ['KOSPI','KOSDAQ','ETF']\n",
    "    avg_dict = {}\n",
    "    for market in market_list :\n",
    "        df = load_sector_data(market=market, month_ago=month_ago)\n",
    "        if cnt is not None:\n",
    "            df = df.sort_values(by='Volatility', ascending=True).tail(cnt)\n",
    "            \n",
    "        avg_vol = df['Volatility'].mean()\n",
    "        avg_dict[market] = avg_vol\n",
    "    \n",
    "    return avg_dict"
   ]
  },
  {
   "cell_type": "code",
   "execution_count": 18,
   "metadata": {},
   "outputs": [],
   "source": [
    "# 시장별 평균 변동성 비교 시각화 (상위 n개 종목 필터링 가능)\n",
    "\n",
    "def visualize_market_volatility(cnt=None, month_ago=3):\n",
    "  \n",
    "    avg_dict = avg_market_volatility(cnt, month_ago=month_ago)\n",
    "\n",
    "    df = pd.DataFrame(list(avg_dict.items()), columns =['Market', 'Average Volatility'])\n",
    "    \n",
    "    if cnt is not None:\n",
    "      title = f'각 시장의 변동성 상위 {cnt}종목 평균 변동성'\n",
    "    else : \n",
    "      title = '각 시장의 평균 변동성' \n",
    "\n",
    "    # Plotly로 시각화\n",
    "    fig = px.bar(\n",
    "        df,\n",
    "        x='Market',\n",
    "        y='Average Volatility',\n",
    "        title=title,\n",
    "        labels={'Average Volatility': '평균 변동성 (%)'},\n",
    "        color='Average Volatility',\n",
    "        color_continuous_scale=px.colors.sequential.Viridis\n",
    "    )\n",
    "    \n",
    "    # 레이아웃 조정\n",
    "    fig.update_layout(\n",
    "        xaxis_title='시장',\n",
    "        yaxis_title='평균 변동성 (%)',\n",
    "        height=400\n",
    "    )\n",
    "    \n",
    "    fig.show()"
   ]
  },
  {
   "cell_type": "code",
   "execution_count": 27,
   "metadata": {},
   "outputs": [],
   "source": [
    "# 전체 n개월 평균 수익률 계산\n",
    "def avg_market_return(cnt=None, month_ago=3) :\n",
    "    \n",
    "    market_list = ['KOSPI','KOSDAQ','ETF']\n",
    "    avg_dict = {}\n",
    "    for market in market_list :\n",
    "        df = load_sector_data(market=market, month_ago=month_ago)\n",
    "        if cnt is not None:\n",
    "            df = df.sort_values(by='TotalReturn', ascending=False).head(cnt)\n",
    "            display(df)\n",
    "        avg_vol = df['TotalReturn'].mean()\n",
    "        avg_dict[market] = avg_vol\n",
    "    \n",
    "    return avg_dict"
   ]
  },
  {
   "cell_type": "code",
   "execution_count": 22,
   "metadata": {},
   "outputs": [],
   "source": [
    "# 시장별 평균 수익률 비교 시각화 (상위 n개 종목 필터링 가능)\n",
    "\n",
    "def visualize_market_return(cnt=None):\n",
    "  \n",
    "    avg_dict = avg_market_return(cnt)\n",
    "\n",
    "    df = pd.DataFrame(list(avg_dict.items()), columns =['Market', 'Average Return'])\n",
    "    \n",
    "    if cnt is not None:\n",
    "      title = f'각 시장의 상위 {cnt}종목 평균 수익률'\n",
    "    else : \n",
    "      title = '각 시장의 평균 수익률' \n",
    "\n",
    "    # Plotly로 시각화\n",
    "    fig = px.bar(\n",
    "        df,\n",
    "        x='Market',\n",
    "        y='Average Return',\n",
    "        title=title,\n",
    "        labels={'Average Return': '평균 수익률 (%)'},\n",
    "        color='Average Return',\n",
    "    )\n",
    "    \n",
    "    # 레이아웃 조정\n",
    "    fig.update_layout(\n",
    "        xaxis_title='시장',\n",
    "        yaxis_title='평균 수익률 (%)',\n",
    "        height=400\n",
    "    )\n",
    "    \n",
    "    fig.show()"
   ]
  },
  {
   "cell_type": "code",
   "execution_count": 28,
   "metadata": {},
   "outputs": [
    {
     "name": "stdout",
     "output_type": "stream",
     "text": [
      "3개월 간의 data를 불러옵니다.\n"
     ]
    },
    {
     "data": {
      "text/html": [
       "<div>\n",
       "<style scoped>\n",
       "    .dataframe tbody tr th:only-of-type {\n",
       "        vertical-align: middle;\n",
       "    }\n",
       "\n",
       "    .dataframe tbody tr th {\n",
       "        vertical-align: top;\n",
       "    }\n",
       "\n",
       "    .dataframe thead th {\n",
       "        text-align: right;\n",
       "    }\n",
       "</style>\n",
       "<table border=\"1\" class=\"dataframe\">\n",
       "  <thead>\n",
       "    <tr style=\"text-align: right;\">\n",
       "      <th></th>\n",
       "      <th>Code</th>\n",
       "      <th>Name</th>\n",
       "      <th>Volatility</th>\n",
       "      <th>TotalReturn</th>\n",
       "      <th>AvgReturn</th>\n",
       "      <th>Sector</th>\n",
       "      <th>Volume</th>\n",
       "      <th>Amount</th>\n",
       "      <th>Marcap</th>\n",
       "    </tr>\n",
       "  </thead>\n",
       "  <tbody>\n",
       "    <tr>\n",
       "      <th>462</th>\n",
       "      <td>002630</td>\n",
       "      <td>오리엔트바이오</td>\n",
       "      <td>10.94</td>\n",
       "      <td>290.22</td>\n",
       "      <td>2.844218</td>\n",
       "      <td>생물공학</td>\n",
       "      <td>66692558</td>\n",
       "      <td>123114880469</td>\n",
       "      <td>212856493975</td>\n",
       "    </tr>\n",
       "    <tr>\n",
       "      <th>680</th>\n",
       "      <td>015020</td>\n",
       "      <td>이스타코</td>\n",
       "      <td>9.80</td>\n",
       "      <td>241.81</td>\n",
       "      <td>2.513347</td>\n",
       "      <td>부동산</td>\n",
       "      <td>4808403</td>\n",
       "      <td>10428338985</td>\n",
       "      <td>92130940000</td>\n",
       "    </tr>\n",
       "    <tr>\n",
       "      <th>443</th>\n",
       "      <td>013360</td>\n",
       "      <td>일성건설</td>\n",
       "      <td>10.54</td>\n",
       "      <td>218.49</td>\n",
       "      <td>2.435820</td>\n",
       "      <td>건설</td>\n",
       "      <td>6889917</td>\n",
       "      <td>29740572035</td>\n",
       "      <td>226094122800</td>\n",
       "    </tr>\n",
       "    <tr>\n",
       "      <th>291</th>\n",
       "      <td>079900</td>\n",
       "      <td>전진건설로봇</td>\n",
       "      <td>6.69</td>\n",
       "      <td>124.14</td>\n",
       "      <td>1.646550</td>\n",
       "      <td>기계</td>\n",
       "      <td>798919</td>\n",
       "      <td>29423660300</td>\n",
       "      <td>540653792250</td>\n",
       "    </tr>\n",
       "    <tr>\n",
       "      <th>736</th>\n",
       "      <td>002410</td>\n",
       "      <td>범양건영</td>\n",
       "      <td>11.14</td>\n",
       "      <td>123.33</td>\n",
       "      <td>1.905378</td>\n",
       "      <td>건설</td>\n",
       "      <td>1119137</td>\n",
       "      <td>2885245045</td>\n",
       "      <td>70760536500</td>\n",
       "    </tr>\n",
       "    <tr>\n",
       "      <th>305</th>\n",
       "      <td>097230</td>\n",
       "      <td>HJ중공업</td>\n",
       "      <td>7.04</td>\n",
       "      <td>123.11</td>\n",
       "      <td>1.566717</td>\n",
       "      <td>건설</td>\n",
       "      <td>1022594</td>\n",
       "      <td>6048742530</td>\n",
       "      <td>490485515090</td>\n",
       "    </tr>\n",
       "    <tr>\n",
       "      <th>621</th>\n",
       "      <td>018500</td>\n",
       "      <td>동원금속</td>\n",
       "      <td>8.27</td>\n",
       "      <td>86.75</td>\n",
       "      <td>1.314449</td>\n",
       "      <td>자동차부품</td>\n",
       "      <td>28688630</td>\n",
       "      <td>73115427995</td>\n",
       "      <td>116653557835</td>\n",
       "    </tr>\n",
       "    <tr>\n",
       "      <th>903</th>\n",
       "      <td>45014K</td>\n",
       "      <td>코오롱모빌리티그룹우</td>\n",
       "      <td>8.95</td>\n",
       "      <td>83.27</td>\n",
       "      <td>1.358894</td>\n",
       "      <td>자동차</td>\n",
       "      <td>215775</td>\n",
       "      <td>1752255990</td>\n",
       "      <td>19108613600</td>\n",
       "    </tr>\n",
       "    <tr>\n",
       "      <th>316</th>\n",
       "      <td>100840</td>\n",
       "      <td>SNT에너지</td>\n",
       "      <td>5.53</td>\n",
       "      <td>77.60</td>\n",
       "      <td>1.073428</td>\n",
       "      <td>기계</td>\n",
       "      <td>449869</td>\n",
       "      <td>10090868450</td>\n",
       "      <td>459113382600</td>\n",
       "    </tr>\n",
       "    <tr>\n",
       "      <th>798</th>\n",
       "      <td>008600</td>\n",
       "      <td>윌비스</td>\n",
       "      <td>6.93</td>\n",
       "      <td>76.36</td>\n",
       "      <td>1.167479</td>\n",
       "      <td>섬유,의류,신발,호화품</td>\n",
       "      <td>1374372</td>\n",
       "      <td>1050163610</td>\n",
       "      <td>52175166264</td>\n",
       "    </tr>\n",
       "  </tbody>\n",
       "</table>\n",
       "</div>"
      ],
      "text/plain": [
       "       Code        Name  Volatility  TotalReturn  AvgReturn        Sector  \\\n",
       "462  002630     오리엔트바이오       10.94       290.22   2.844218          생물공학   \n",
       "680  015020        이스타코        9.80       241.81   2.513347           부동산   \n",
       "443  013360        일성건설       10.54       218.49   2.435820            건설   \n",
       "291  079900      전진건설로봇        6.69       124.14   1.646550            기계   \n",
       "736  002410        범양건영       11.14       123.33   1.905378            건설   \n",
       "305  097230       HJ중공업        7.04       123.11   1.566717            건설   \n",
       "621  018500        동원금속        8.27        86.75   1.314449         자동차부품   \n",
       "903  45014K  코오롱모빌리티그룹우        8.95        83.27   1.358894           자동차   \n",
       "316  100840      SNT에너지        5.53        77.60   1.073428            기계   \n",
       "798  008600         윌비스        6.93        76.36   1.167479  섬유,의류,신발,호화품   \n",
       "\n",
       "       Volume        Amount        Marcap  \n",
       "462  66692558  123114880469  212856493975  \n",
       "680   4808403   10428338985   92130940000  \n",
       "443   6889917   29740572035  226094122800  \n",
       "291    798919   29423660300  540653792250  \n",
       "736   1119137    2885245045   70760536500  \n",
       "305   1022594    6048742530  490485515090  \n",
       "621  28688630   73115427995  116653557835  \n",
       "903    215775    1752255990   19108613600  \n",
       "316    449869   10090868450  459113382600  \n",
       "798   1374372    1050163610   52175166264  "
      ]
     },
     "metadata": {},
     "output_type": "display_data"
    },
    {
     "name": "stdout",
     "output_type": "stream",
     "text": [
      "3개월 간의 data를 불러옵니다.\n"
     ]
    },
    {
     "data": {
      "text/html": [
       "<div>\n",
       "<style scoped>\n",
       "    .dataframe tbody tr th:only-of-type {\n",
       "        vertical-align: middle;\n",
       "    }\n",
       "\n",
       "    .dataframe tbody tr th {\n",
       "        vertical-align: top;\n",
       "    }\n",
       "\n",
       "    .dataframe thead th {\n",
       "        text-align: right;\n",
       "    }\n",
       "</style>\n",
       "<table border=\"1\" class=\"dataframe\">\n",
       "  <thead>\n",
       "    <tr style=\"text-align: right;\">\n",
       "      <th></th>\n",
       "      <th>Code</th>\n",
       "      <th>Name</th>\n",
       "      <th>Volatility</th>\n",
       "      <th>TotalReturn</th>\n",
       "      <th>AvgReturn</th>\n",
       "      <th>Sector</th>\n",
       "      <th>Volume</th>\n",
       "      <th>Amount</th>\n",
       "      <th>Marcap</th>\n",
       "    </tr>\n",
       "  </thead>\n",
       "  <tbody>\n",
       "    <tr>\n",
       "      <th>1642</th>\n",
       "      <td>244460</td>\n",
       "      <td>올리패스</td>\n",
       "      <td>121.10</td>\n",
       "      <td>950.66</td>\n",
       "      <td>15.748468</td>\n",
       "      <td>제약</td>\n",
       "      <td>86399</td>\n",
       "      <td>411664220</td>\n",
       "      <td>19218678210</td>\n",
       "    </tr>\n",
       "    <tr>\n",
       "      <th>1378</th>\n",
       "      <td>009620</td>\n",
       "      <td>삼보산업</td>\n",
       "      <td>67.35</td>\n",
       "      <td>784.11</td>\n",
       "      <td>9.424505</td>\n",
       "      <td>비철금속</td>\n",
       "      <td>601041</td>\n",
       "      <td>1632708605</td>\n",
       "      <td>39401670600</td>\n",
       "    </tr>\n",
       "    <tr>\n",
       "      <th>1691</th>\n",
       "      <td>051780</td>\n",
       "      <td>큐로홀딩스</td>\n",
       "      <td>113.86</td>\n",
       "      <td>576.10</td>\n",
       "      <td>14.053609</td>\n",
       "      <td>식품</td>\n",
       "      <td>43921</td>\n",
       "      <td>48249990</td>\n",
       "      <td>14665413375</td>\n",
       "    </tr>\n",
       "    <tr>\n",
       "      <th>1585</th>\n",
       "      <td>900300</td>\n",
       "      <td>오가닉티코스메틱</td>\n",
       "      <td>115.98</td>\n",
       "      <td>496.34</td>\n",
       "      <td>14.086206</td>\n",
       "      <td>화장품</td>\n",
       "      <td>305478</td>\n",
       "      <td>148585466</td>\n",
       "      <td>23867719338</td>\n",
       "    </tr>\n",
       "    <tr>\n",
       "      <th>337</th>\n",
       "      <td>065500</td>\n",
       "      <td>오리엔트정공</td>\n",
       "      <td>11.55</td>\n",
       "      <td>429.55</td>\n",
       "      <td>3.369646</td>\n",
       "      <td>자동차부품</td>\n",
       "      <td>10947635</td>\n",
       "      <td>73742665260</td>\n",
       "      <td>207598644480</td>\n",
       "    </tr>\n",
       "    <tr>\n",
       "      <th>1659</th>\n",
       "      <td>030350</td>\n",
       "      <td>드래곤플라이</td>\n",
       "      <td>50.89</td>\n",
       "      <td>399.61</td>\n",
       "      <td>6.698214</td>\n",
       "      <td>게임엔터테인먼트</td>\n",
       "      <td>164611</td>\n",
       "      <td>215708950</td>\n",
       "      <td>17957865436</td>\n",
       "    </tr>\n",
       "    <tr>\n",
       "      <th>969</th>\n",
       "      <td>062970</td>\n",
       "      <td>한국첨단소재</td>\n",
       "      <td>10.04</td>\n",
       "      <td>357.49</td>\n",
       "      <td>3.012160</td>\n",
       "      <td>통신장비</td>\n",
       "      <td>4584623</td>\n",
       "      <td>31321369370</td>\n",
       "      <td>71151228890</td>\n",
       "    </tr>\n",
       "    <tr>\n",
       "      <th>1562</th>\n",
       "      <td>025440</td>\n",
       "      <td>DH오토웨어</td>\n",
       "      <td>42.14</td>\n",
       "      <td>267.39</td>\n",
       "      <td>5.210177</td>\n",
       "      <td>자동차부품</td>\n",
       "      <td>83553</td>\n",
       "      <td>69581059</td>\n",
       "      <td>26010134280</td>\n",
       "    </tr>\n",
       "    <tr>\n",
       "      <th>368</th>\n",
       "      <td>205500</td>\n",
       "      <td>액션스퀘어</td>\n",
       "      <td>7.48</td>\n",
       "      <td>239.81</td>\n",
       "      <td>2.228073</td>\n",
       "      <td>게임엔터테인먼트</td>\n",
       "      <td>2134641</td>\n",
       "      <td>7574239020</td>\n",
       "      <td>190576200400</td>\n",
       "    </tr>\n",
       "    <tr>\n",
       "      <th>129</th>\n",
       "      <td>025950</td>\n",
       "      <td>동신건설</td>\n",
       "      <td>10.85</td>\n",
       "      <td>164.39</td>\n",
       "      <td>2.170156</td>\n",
       "      <td>건설</td>\n",
       "      <td>2200429</td>\n",
       "      <td>120760860800</td>\n",
       "      <td>455280000000</td>\n",
       "    </tr>\n",
       "  </tbody>\n",
       "</table>\n",
       "</div>"
      ],
      "text/plain": [
       "        Code      Name  Volatility  TotalReturn  AvgReturn    Sector  \\\n",
       "1642  244460      올리패스      121.10       950.66  15.748468        제약   \n",
       "1378  009620      삼보산업       67.35       784.11   9.424505      비철금속   \n",
       "1691  051780     큐로홀딩스      113.86       576.10  14.053609        식품   \n",
       "1585  900300  오가닉티코스메틱      115.98       496.34  14.086206       화장품   \n",
       "337   065500    오리엔트정공       11.55       429.55   3.369646     자동차부품   \n",
       "1659  030350    드래곤플라이       50.89       399.61   6.698214  게임엔터테인먼트   \n",
       "969   062970    한국첨단소재       10.04       357.49   3.012160      통신장비   \n",
       "1562  025440    DH오토웨어       42.14       267.39   5.210177     자동차부품   \n",
       "368   205500     액션스퀘어        7.48       239.81   2.228073  게임엔터테인먼트   \n",
       "129   025950      동신건설       10.85       164.39   2.170156        건설   \n",
       "\n",
       "        Volume        Amount        Marcap  \n",
       "1642     86399     411664220   19218678210  \n",
       "1378    601041    1632708605   39401670600  \n",
       "1691     43921      48249990   14665413375  \n",
       "1585    305478     148585466   23867719338  \n",
       "337   10947635   73742665260  207598644480  \n",
       "1659    164611     215708950   17957865436  \n",
       "969    4584623   31321369370   71151228890  \n",
       "1562     83553      69581059   26010134280  \n",
       "368    2134641    7574239020  190576200400  \n",
       "129    2200429  120760860800  455280000000  "
      ]
     },
     "metadata": {},
     "output_type": "display_data"
    },
    {
     "name": "stdout",
     "output_type": "stream",
     "text": [
      "3개월 간의 data를 불러옵니다.\n"
     ]
    },
    {
     "data": {
      "text/html": [
       "<div>\n",
       "<style scoped>\n",
       "    .dataframe tbody tr th:only-of-type {\n",
       "        vertical-align: middle;\n",
       "    }\n",
       "\n",
       "    .dataframe tbody tr th {\n",
       "        vertical-align: top;\n",
       "    }\n",
       "\n",
       "    .dataframe thead th {\n",
       "        text-align: right;\n",
       "    }\n",
       "</style>\n",
       "<table border=\"1\" class=\"dataframe\">\n",
       "  <thead>\n",
       "    <tr style=\"text-align: right;\">\n",
       "      <th></th>\n",
       "      <th>Code</th>\n",
       "      <th>Name</th>\n",
       "      <th>Volatility</th>\n",
       "      <th>TotalReturn</th>\n",
       "      <th>AvgReturn</th>\n",
       "      <th>Sector</th>\n",
       "      <th>Volume</th>\n",
       "      <th>Amount</th>\n",
       "      <th>Marcap</th>\n",
       "    </tr>\n",
       "  </thead>\n",
       "  <tbody>\n",
       "    <tr>\n",
       "      <th>258</th>\n",
       "      <td>465610</td>\n",
       "      <td>ACE 미국빅테크TOP7 Plus레버리지(합성)</td>\n",
       "      <td>2.75</td>\n",
       "      <td>53.26</td>\n",
       "      <td>0.711537</td>\n",
       "      <td>해외주식</td>\n",
       "      <td>75039</td>\n",
       "      <td>2324</td>\n",
       "      <td>963</td>\n",
       "    </tr>\n",
       "    <tr>\n",
       "      <th>51</th>\n",
       "      <td>457480</td>\n",
       "      <td>ACE 테슬라밸류체인액티브</td>\n",
       "      <td>4.05</td>\n",
       "      <td>48.65</td>\n",
       "      <td>0.720039</td>\n",
       "      <td>해외주식</td>\n",
       "      <td>3179253</td>\n",
       "      <td>56013</td>\n",
       "      <td>6918</td>\n",
       "    </tr>\n",
       "    <tr>\n",
       "      <th>571</th>\n",
       "      <td>461910</td>\n",
       "      <td>PLUS 미국테크TOP10레버리지(합성)</td>\n",
       "      <td>2.68</td>\n",
       "      <td>47.21</td>\n",
       "      <td>0.649213</td>\n",
       "      <td>해외주식</td>\n",
       "      <td>4015</td>\n",
       "      <td>121</td>\n",
       "      <td>152</td>\n",
       "    </tr>\n",
       "    <tr>\n",
       "      <th>227</th>\n",
       "      <td>465350</td>\n",
       "      <td>RISE 2차전지TOP10인버스(합성)</td>\n",
       "      <td>2.81</td>\n",
       "      <td>39.36</td>\n",
       "      <td>0.575539</td>\n",
       "      <td>국내파생</td>\n",
       "      <td>1182672</td>\n",
       "      <td>41982</td>\n",
       "      <td>1119</td>\n",
       "    </tr>\n",
       "    <tr>\n",
       "      <th>178</th>\n",
       "      <td>473460</td>\n",
       "      <td>KODEX 미국서학개미</td>\n",
       "      <td>2.17</td>\n",
       "      <td>38.52</td>\n",
       "      <td>0.554138</td>\n",
       "      <td>해외주식</td>\n",
       "      <td>999610</td>\n",
       "      <td>18900</td>\n",
       "      <td>1582</td>\n",
       "    </tr>\n",
       "    <tr>\n",
       "      <th>350</th>\n",
       "      <td>407830</td>\n",
       "      <td>에셋플러스 글로벌플랫폼액티브</td>\n",
       "      <td>1.59</td>\n",
       "      <td>37.17</td>\n",
       "      <td>0.533631</td>\n",
       "      <td>해외주식</td>\n",
       "      <td>14168</td>\n",
       "      <td>189</td>\n",
       "      <td>483</td>\n",
       "    </tr>\n",
       "    <tr>\n",
       "      <th>728</th>\n",
       "      <td>438210</td>\n",
       "      <td>PLUS 글로벌AI</td>\n",
       "      <td>1.71</td>\n",
       "      <td>33.05</td>\n",
       "      <td>0.485816</td>\n",
       "      <td>해외주식</td>\n",
       "      <td>1292</td>\n",
       "      <td>20</td>\n",
       "      <td>80</td>\n",
       "    </tr>\n",
       "    <tr>\n",
       "      <th>224</th>\n",
       "      <td>418660</td>\n",
       "      <td>TIGER 미국나스닥100레버리지(합성)</td>\n",
       "      <td>2.38</td>\n",
       "      <td>32.70</td>\n",
       "      <td>0.475356</td>\n",
       "      <td>해외주식</td>\n",
       "      <td>142595</td>\n",
       "      <td>3778</td>\n",
       "      <td>1144</td>\n",
       "    </tr>\n",
       "    <tr>\n",
       "      <th>469</th>\n",
       "      <td>461340</td>\n",
       "      <td>HANARO 글로벌생성형AI액티브</td>\n",
       "      <td>1.76</td>\n",
       "      <td>32.15</td>\n",
       "      <td>0.464460</td>\n",
       "      <td>해외주식</td>\n",
       "      <td>24566</td>\n",
       "      <td>507</td>\n",
       "      <td>249</td>\n",
       "    </tr>\n",
       "    <tr>\n",
       "      <th>400</th>\n",
       "      <td>371450</td>\n",
       "      <td>TIGER 글로벌클라우드컴퓨팅INDXX</td>\n",
       "      <td>1.48</td>\n",
       "      <td>31.43</td>\n",
       "      <td>0.440607</td>\n",
       "      <td>해외주식</td>\n",
       "      <td>12252</td>\n",
       "      <td>156</td>\n",
       "      <td>367</td>\n",
       "    </tr>\n",
       "  </tbody>\n",
       "</table>\n",
       "</div>"
      ],
      "text/plain": [
       "       Code                        Name  Volatility  TotalReturn  AvgReturn  \\\n",
       "258  465610  ACE 미국빅테크TOP7 Plus레버리지(합성)        2.75        53.26   0.711537   \n",
       "51   457480              ACE 테슬라밸류체인액티브        4.05        48.65   0.720039   \n",
       "571  461910      PLUS 미국테크TOP10레버리지(합성)        2.68        47.21   0.649213   \n",
       "227  465350       RISE 2차전지TOP10인버스(합성)        2.81        39.36   0.575539   \n",
       "178  473460                KODEX 미국서학개미        2.17        38.52   0.554138   \n",
       "350  407830             에셋플러스 글로벌플랫폼액티브        1.59        37.17   0.533631   \n",
       "728  438210                  PLUS 글로벌AI        1.71        33.05   0.485816   \n",
       "224  418660      TIGER 미국나스닥100레버리지(합성)        2.38        32.70   0.475356   \n",
       "469  461340          HANARO 글로벌생성형AI액티브        1.76        32.15   0.464460   \n",
       "400  371450       TIGER 글로벌클라우드컴퓨팅INDXX        1.48        31.43   0.440607   \n",
       "\n",
       "    Sector   Volume  Amount  Marcap  \n",
       "258   해외주식    75039    2324     963  \n",
       "51    해외주식  3179253   56013    6918  \n",
       "571   해외주식     4015     121     152  \n",
       "227   국내파생  1182672   41982    1119  \n",
       "178   해외주식   999610   18900    1582  \n",
       "350   해외주식    14168     189     483  \n",
       "728   해외주식     1292      20      80  \n",
       "224   해외주식   142595    3778    1144  \n",
       "469   해외주식    24566     507     249  \n",
       "400   해외주식    12252     156     367  "
      ]
     },
     "metadata": {},
     "output_type": "display_data"
    },
    {
     "data": {
      "application/vnd.plotly.v1+json": {
       "config": {
        "plotlyServerURL": "https://plot.ly"
       },
       "data": [
        {
         "alignmentgroup": "True",
         "hovertemplate": "Market=%{x}<br>평균 수익률 (%)=%{marker.color}<extra></extra>",
         "legendgroup": "",
         "marker": {
          "color": [
           144.50799999999998,
           466.5450000000001,
           39.349999999999994
          ],
          "coloraxis": "coloraxis",
          "pattern": {
           "shape": ""
          }
         },
         "name": "",
         "offsetgroup": "",
         "orientation": "v",
         "showlegend": false,
         "textposition": "auto",
         "type": "bar",
         "x": [
          "KOSPI",
          "KOSDAQ",
          "ETF"
         ],
         "xaxis": "x",
         "y": [
          144.50799999999998,
          466.5450000000001,
          39.349999999999994
         ],
         "yaxis": "y"
        }
       ],
       "layout": {
        "barmode": "relative",
        "coloraxis": {
         "colorbar": {
          "title": {
           "text": "평균 수익률 (%)"
          }
         },
         "colorscale": [
          [
           0,
           "#440154"
          ],
          [
           0.1111111111111111,
           "#482878"
          ],
          [
           0.2222222222222222,
           "#3e4989"
          ],
          [
           0.3333333333333333,
           "#31688e"
          ],
          [
           0.4444444444444444,
           "#26828e"
          ],
          [
           0.5555555555555556,
           "#1f9e89"
          ],
          [
           0.6666666666666666,
           "#35b779"
          ],
          [
           0.7777777777777778,
           "#6ece58"
          ],
          [
           0.8888888888888888,
           "#b5de2b"
          ],
          [
           1,
           "#fde725"
          ]
         ]
        },
        "height": 400,
        "legend": {
         "tracegroupgap": 0
        },
        "template": {
         "data": {
          "bar": [
           {
            "error_x": {
             "color": "#2a3f5f"
            },
            "error_y": {
             "color": "#2a3f5f"
            },
            "marker": {
             "line": {
              "color": "white",
              "width": 0.5
             },
             "pattern": {
              "fillmode": "overlay",
              "size": 10,
              "solidity": 0.2
             }
            },
            "type": "bar"
           }
          ],
          "barpolar": [
           {
            "marker": {
             "line": {
              "color": "white",
              "width": 0.5
             },
             "pattern": {
              "fillmode": "overlay",
              "size": 10,
              "solidity": 0.2
             }
            },
            "type": "barpolar"
           }
          ],
          "carpet": [
           {
            "aaxis": {
             "endlinecolor": "#2a3f5f",
             "gridcolor": "#C8D4E3",
             "linecolor": "#C8D4E3",
             "minorgridcolor": "#C8D4E3",
             "startlinecolor": "#2a3f5f"
            },
            "baxis": {
             "endlinecolor": "#2a3f5f",
             "gridcolor": "#C8D4E3",
             "linecolor": "#C8D4E3",
             "minorgridcolor": "#C8D4E3",
             "startlinecolor": "#2a3f5f"
            },
            "type": "carpet"
           }
          ],
          "choropleth": [
           {
            "colorbar": {
             "outlinewidth": 0,
             "ticks": ""
            },
            "type": "choropleth"
           }
          ],
          "contour": [
           {
            "colorbar": {
             "outlinewidth": 0,
             "ticks": ""
            },
            "colorscale": [
             [
              0,
              "#0d0887"
             ],
             [
              0.1111111111111111,
              "#46039f"
             ],
             [
              0.2222222222222222,
              "#7201a8"
             ],
             [
              0.3333333333333333,
              "#9c179e"
             ],
             [
              0.4444444444444444,
              "#bd3786"
             ],
             [
              0.5555555555555556,
              "#d8576b"
             ],
             [
              0.6666666666666666,
              "#ed7953"
             ],
             [
              0.7777777777777778,
              "#fb9f3a"
             ],
             [
              0.8888888888888888,
              "#fdca26"
             ],
             [
              1,
              "#f0f921"
             ]
            ],
            "type": "contour"
           }
          ],
          "contourcarpet": [
           {
            "colorbar": {
             "outlinewidth": 0,
             "ticks": ""
            },
            "type": "contourcarpet"
           }
          ],
          "heatmap": [
           {
            "colorbar": {
             "outlinewidth": 0,
             "ticks": ""
            },
            "colorscale": [
             [
              0,
              "#0d0887"
             ],
             [
              0.1111111111111111,
              "#46039f"
             ],
             [
              0.2222222222222222,
              "#7201a8"
             ],
             [
              0.3333333333333333,
              "#9c179e"
             ],
             [
              0.4444444444444444,
              "#bd3786"
             ],
             [
              0.5555555555555556,
              "#d8576b"
             ],
             [
              0.6666666666666666,
              "#ed7953"
             ],
             [
              0.7777777777777778,
              "#fb9f3a"
             ],
             [
              0.8888888888888888,
              "#fdca26"
             ],
             [
              1,
              "#f0f921"
             ]
            ],
            "type": "heatmap"
           }
          ],
          "heatmapgl": [
           {
            "colorbar": {
             "outlinewidth": 0,
             "ticks": ""
            },
            "colorscale": [
             [
              0,
              "#0d0887"
             ],
             [
              0.1111111111111111,
              "#46039f"
             ],
             [
              0.2222222222222222,
              "#7201a8"
             ],
             [
              0.3333333333333333,
              "#9c179e"
             ],
             [
              0.4444444444444444,
              "#bd3786"
             ],
             [
              0.5555555555555556,
              "#d8576b"
             ],
             [
              0.6666666666666666,
              "#ed7953"
             ],
             [
              0.7777777777777778,
              "#fb9f3a"
             ],
             [
              0.8888888888888888,
              "#fdca26"
             ],
             [
              1,
              "#f0f921"
             ]
            ],
            "type": "heatmapgl"
           }
          ],
          "histogram": [
           {
            "marker": {
             "pattern": {
              "fillmode": "overlay",
              "size": 10,
              "solidity": 0.2
             }
            },
            "type": "histogram"
           }
          ],
          "histogram2d": [
           {
            "colorbar": {
             "outlinewidth": 0,
             "ticks": ""
            },
            "colorscale": [
             [
              0,
              "#0d0887"
             ],
             [
              0.1111111111111111,
              "#46039f"
             ],
             [
              0.2222222222222222,
              "#7201a8"
             ],
             [
              0.3333333333333333,
              "#9c179e"
             ],
             [
              0.4444444444444444,
              "#bd3786"
             ],
             [
              0.5555555555555556,
              "#d8576b"
             ],
             [
              0.6666666666666666,
              "#ed7953"
             ],
             [
              0.7777777777777778,
              "#fb9f3a"
             ],
             [
              0.8888888888888888,
              "#fdca26"
             ],
             [
              1,
              "#f0f921"
             ]
            ],
            "type": "histogram2d"
           }
          ],
          "histogram2dcontour": [
           {
            "colorbar": {
             "outlinewidth": 0,
             "ticks": ""
            },
            "colorscale": [
             [
              0,
              "#0d0887"
             ],
             [
              0.1111111111111111,
              "#46039f"
             ],
             [
              0.2222222222222222,
              "#7201a8"
             ],
             [
              0.3333333333333333,
              "#9c179e"
             ],
             [
              0.4444444444444444,
              "#bd3786"
             ],
             [
              0.5555555555555556,
              "#d8576b"
             ],
             [
              0.6666666666666666,
              "#ed7953"
             ],
             [
              0.7777777777777778,
              "#fb9f3a"
             ],
             [
              0.8888888888888888,
              "#fdca26"
             ],
             [
              1,
              "#f0f921"
             ]
            ],
            "type": "histogram2dcontour"
           }
          ],
          "mesh3d": [
           {
            "colorbar": {
             "outlinewidth": 0,
             "ticks": ""
            },
            "type": "mesh3d"
           }
          ],
          "parcoords": [
           {
            "line": {
             "colorbar": {
              "outlinewidth": 0,
              "ticks": ""
             }
            },
            "type": "parcoords"
           }
          ],
          "pie": [
           {
            "automargin": true,
            "type": "pie"
           }
          ],
          "scatter": [
           {
            "fillpattern": {
             "fillmode": "overlay",
             "size": 10,
             "solidity": 0.2
            },
            "type": "scatter"
           }
          ],
          "scatter3d": [
           {
            "line": {
             "colorbar": {
              "outlinewidth": 0,
              "ticks": ""
             }
            },
            "marker": {
             "colorbar": {
              "outlinewidth": 0,
              "ticks": ""
             }
            },
            "type": "scatter3d"
           }
          ],
          "scattercarpet": [
           {
            "marker": {
             "colorbar": {
              "outlinewidth": 0,
              "ticks": ""
             }
            },
            "type": "scattercarpet"
           }
          ],
          "scattergeo": [
           {
            "marker": {
             "colorbar": {
              "outlinewidth": 0,
              "ticks": ""
             }
            },
            "type": "scattergeo"
           }
          ],
          "scattergl": [
           {
            "marker": {
             "colorbar": {
              "outlinewidth": 0,
              "ticks": ""
             }
            },
            "type": "scattergl"
           }
          ],
          "scattermapbox": [
           {
            "marker": {
             "colorbar": {
              "outlinewidth": 0,
              "ticks": ""
             }
            },
            "type": "scattermapbox"
           }
          ],
          "scatterpolar": [
           {
            "marker": {
             "colorbar": {
              "outlinewidth": 0,
              "ticks": ""
             }
            },
            "type": "scatterpolar"
           }
          ],
          "scatterpolargl": [
           {
            "marker": {
             "colorbar": {
              "outlinewidth": 0,
              "ticks": ""
             }
            },
            "type": "scatterpolargl"
           }
          ],
          "scatterternary": [
           {
            "marker": {
             "colorbar": {
              "outlinewidth": 0,
              "ticks": ""
             }
            },
            "type": "scatterternary"
           }
          ],
          "surface": [
           {
            "colorbar": {
             "outlinewidth": 0,
             "ticks": ""
            },
            "colorscale": [
             [
              0,
              "#0d0887"
             ],
             [
              0.1111111111111111,
              "#46039f"
             ],
             [
              0.2222222222222222,
              "#7201a8"
             ],
             [
              0.3333333333333333,
              "#9c179e"
             ],
             [
              0.4444444444444444,
              "#bd3786"
             ],
             [
              0.5555555555555556,
              "#d8576b"
             ],
             [
              0.6666666666666666,
              "#ed7953"
             ],
             [
              0.7777777777777778,
              "#fb9f3a"
             ],
             [
              0.8888888888888888,
              "#fdca26"
             ],
             [
              1,
              "#f0f921"
             ]
            ],
            "type": "surface"
           }
          ],
          "table": [
           {
            "cells": {
             "fill": {
              "color": "#EBF0F8"
             },
             "line": {
              "color": "white"
             }
            },
            "header": {
             "fill": {
              "color": "#C8D4E3"
             },
             "line": {
              "color": "white"
             }
            },
            "type": "table"
           }
          ]
         },
         "layout": {
          "annotationdefaults": {
           "arrowcolor": "#2a3f5f",
           "arrowhead": 0,
           "arrowwidth": 1
          },
          "autotypenumbers": "strict",
          "coloraxis": {
           "colorbar": {
            "outlinewidth": 0,
            "ticks": ""
           }
          },
          "colorscale": {
           "diverging": [
            [
             0,
             "#8e0152"
            ],
            [
             0.1,
             "#c51b7d"
            ],
            [
             0.2,
             "#de77ae"
            ],
            [
             0.3,
             "#f1b6da"
            ],
            [
             0.4,
             "#fde0ef"
            ],
            [
             0.5,
             "#f7f7f7"
            ],
            [
             0.6,
             "#e6f5d0"
            ],
            [
             0.7,
             "#b8e186"
            ],
            [
             0.8,
             "#7fbc41"
            ],
            [
             0.9,
             "#4d9221"
            ],
            [
             1,
             "#276419"
            ]
           ],
           "sequential": [
            [
             0,
             "#0d0887"
            ],
            [
             0.1111111111111111,
             "#46039f"
            ],
            [
             0.2222222222222222,
             "#7201a8"
            ],
            [
             0.3333333333333333,
             "#9c179e"
            ],
            [
             0.4444444444444444,
             "#bd3786"
            ],
            [
             0.5555555555555556,
             "#d8576b"
            ],
            [
             0.6666666666666666,
             "#ed7953"
            ],
            [
             0.7777777777777778,
             "#fb9f3a"
            ],
            [
             0.8888888888888888,
             "#fdca26"
            ],
            [
             1,
             "#f0f921"
            ]
           ],
           "sequentialminus": [
            [
             0,
             "#0d0887"
            ],
            [
             0.1111111111111111,
             "#46039f"
            ],
            [
             0.2222222222222222,
             "#7201a8"
            ],
            [
             0.3333333333333333,
             "#9c179e"
            ],
            [
             0.4444444444444444,
             "#bd3786"
            ],
            [
             0.5555555555555556,
             "#d8576b"
            ],
            [
             0.6666666666666666,
             "#ed7953"
            ],
            [
             0.7777777777777778,
             "#fb9f3a"
            ],
            [
             0.8888888888888888,
             "#fdca26"
            ],
            [
             1,
             "#f0f921"
            ]
           ]
          },
          "colorway": [
           "#636efa",
           "#EF553B",
           "#00cc96",
           "#ab63fa",
           "#FFA15A",
           "#19d3f3",
           "#FF6692",
           "#B6E880",
           "#FF97FF",
           "#FECB52"
          ],
          "font": {
           "color": "#2a3f5f"
          },
          "geo": {
           "bgcolor": "white",
           "lakecolor": "white",
           "landcolor": "white",
           "showlakes": true,
           "showland": true,
           "subunitcolor": "#C8D4E3"
          },
          "hoverlabel": {
           "align": "left"
          },
          "hovermode": "closest",
          "mapbox": {
           "style": "light"
          },
          "paper_bgcolor": "white",
          "plot_bgcolor": "white",
          "polar": {
           "angularaxis": {
            "gridcolor": "#EBF0F8",
            "linecolor": "#EBF0F8",
            "ticks": ""
           },
           "bgcolor": "white",
           "radialaxis": {
            "gridcolor": "#EBF0F8",
            "linecolor": "#EBF0F8",
            "ticks": ""
           }
          },
          "scene": {
           "xaxis": {
            "backgroundcolor": "white",
            "gridcolor": "#DFE8F3",
            "gridwidth": 2,
            "linecolor": "#EBF0F8",
            "showbackground": true,
            "ticks": "",
            "zerolinecolor": "#EBF0F8"
           },
           "yaxis": {
            "backgroundcolor": "white",
            "gridcolor": "#DFE8F3",
            "gridwidth": 2,
            "linecolor": "#EBF0F8",
            "showbackground": true,
            "ticks": "",
            "zerolinecolor": "#EBF0F8"
           },
           "zaxis": {
            "backgroundcolor": "white",
            "gridcolor": "#DFE8F3",
            "gridwidth": 2,
            "linecolor": "#EBF0F8",
            "showbackground": true,
            "ticks": "",
            "zerolinecolor": "#EBF0F8"
           }
          },
          "shapedefaults": {
           "line": {
            "color": "#2a3f5f"
           }
          },
          "ternary": {
           "aaxis": {
            "gridcolor": "#DFE8F3",
            "linecolor": "#A2B1C6",
            "ticks": ""
           },
           "baxis": {
            "gridcolor": "#DFE8F3",
            "linecolor": "#A2B1C6",
            "ticks": ""
           },
           "bgcolor": "white",
           "caxis": {
            "gridcolor": "#DFE8F3",
            "linecolor": "#A2B1C6",
            "ticks": ""
           }
          },
          "title": {
           "x": 0.05
          },
          "xaxis": {
           "automargin": true,
           "gridcolor": "#EBF0F8",
           "linecolor": "#EBF0F8",
           "ticks": "",
           "title": {
            "standoff": 15
           },
           "zerolinecolor": "#EBF0F8",
           "zerolinewidth": 2
          },
          "yaxis": {
           "automargin": true,
           "gridcolor": "#EBF0F8",
           "linecolor": "#EBF0F8",
           "ticks": "",
           "title": {
            "standoff": 15
           },
           "zerolinecolor": "#EBF0F8",
           "zerolinewidth": 2
          }
         }
        },
        "title": {
         "text": "각 시장의 상위 10종목 평균 수익률"
        },
        "xaxis": {
         "anchor": "y",
         "domain": [
          0,
          1
         ],
         "title": {
          "text": "시장"
         }
        },
        "yaxis": {
         "anchor": "x",
         "domain": [
          0,
          1
         ],
         "title": {
          "text": "평균 수익률 (%)"
         }
        }
       }
      }
     },
     "metadata": {},
     "output_type": "display_data"
    },
    {
     "data": {
      "text/plain": [
       "{'KOSPI': 144.50799999999998,\n",
       " 'KOSDAQ': 466.5450000000001,\n",
       " 'ETF': 39.349999999999994}"
      ]
     },
     "metadata": {},
     "output_type": "display_data"
    }
   ],
   "source": [
    "visualize_market_return(10)"
   ]
  },
  {
   "cell_type": "code",
   "execution_count": 118,
   "metadata": {},
   "outputs": [
    {
     "data": {
      "application/vnd.plotly.v1+json": {
       "config": {
        "plotlyServerURL": "https://plot.ly"
       },
       "data": [
        {
         "alignmentgroup": "True",
         "hovertemplate": "Market=%{x}<br>평균 변동성 (%)=%{marker.color}<extra></extra>",
         "legendgroup": "",
         "marker": {
          "color": [
           3.056534859521332,
           4.150033632286996,
           1.3643272335844996
          ],
          "coloraxis": "coloraxis",
          "pattern": {
           "shape": ""
          }
         },
         "name": "",
         "offsetgroup": "",
         "orientation": "v",
         "showlegend": false,
         "textposition": "auto",
         "type": "bar",
         "x": [
          "KOSPI",
          "KOSDAQ",
          "ETF"
         ],
         "xaxis": "x",
         "y": [
          3.056534859521332,
          4.150033632286996,
          1.3643272335844996
         ],
         "yaxis": "y"
        }
       ],
       "layout": {
        "barmode": "relative",
        "coloraxis": {
         "colorbar": {
          "title": {
           "text": "평균 변동성 (%)"
          }
         },
         "colorscale": [
          [
           0,
           "#440154"
          ],
          [
           0.1111111111111111,
           "#482878"
          ],
          [
           0.2222222222222222,
           "#3e4989"
          ],
          [
           0.3333333333333333,
           "#31688e"
          ],
          [
           0.4444444444444444,
           "#26828e"
          ],
          [
           0.5555555555555556,
           "#1f9e89"
          ],
          [
           0.6666666666666666,
           "#35b779"
          ],
          [
           0.7777777777777778,
           "#6ece58"
          ],
          [
           0.8888888888888888,
           "#b5de2b"
          ],
          [
           1,
           "#fde725"
          ]
         ]
        },
        "height": 400,
        "legend": {
         "tracegroupgap": 0
        },
        "template": {
         "data": {
          "bar": [
           {
            "error_x": {
             "color": "#2a3f5f"
            },
            "error_y": {
             "color": "#2a3f5f"
            },
            "marker": {
             "line": {
              "color": "white",
              "width": 0.5
             },
             "pattern": {
              "fillmode": "overlay",
              "size": 10,
              "solidity": 0.2
             }
            },
            "type": "bar"
           }
          ],
          "barpolar": [
           {
            "marker": {
             "line": {
              "color": "white",
              "width": 0.5
             },
             "pattern": {
              "fillmode": "overlay",
              "size": 10,
              "solidity": 0.2
             }
            },
            "type": "barpolar"
           }
          ],
          "carpet": [
           {
            "aaxis": {
             "endlinecolor": "#2a3f5f",
             "gridcolor": "#C8D4E3",
             "linecolor": "#C8D4E3",
             "minorgridcolor": "#C8D4E3",
             "startlinecolor": "#2a3f5f"
            },
            "baxis": {
             "endlinecolor": "#2a3f5f",
             "gridcolor": "#C8D4E3",
             "linecolor": "#C8D4E3",
             "minorgridcolor": "#C8D4E3",
             "startlinecolor": "#2a3f5f"
            },
            "type": "carpet"
           }
          ],
          "choropleth": [
           {
            "colorbar": {
             "outlinewidth": 0,
             "ticks": ""
            },
            "type": "choropleth"
           }
          ],
          "contour": [
           {
            "colorbar": {
             "outlinewidth": 0,
             "ticks": ""
            },
            "colorscale": [
             [
              0,
              "#0d0887"
             ],
             [
              0.1111111111111111,
              "#46039f"
             ],
             [
              0.2222222222222222,
              "#7201a8"
             ],
             [
              0.3333333333333333,
              "#9c179e"
             ],
             [
              0.4444444444444444,
              "#bd3786"
             ],
             [
              0.5555555555555556,
              "#d8576b"
             ],
             [
              0.6666666666666666,
              "#ed7953"
             ],
             [
              0.7777777777777778,
              "#fb9f3a"
             ],
             [
              0.8888888888888888,
              "#fdca26"
             ],
             [
              1,
              "#f0f921"
             ]
            ],
            "type": "contour"
           }
          ],
          "contourcarpet": [
           {
            "colorbar": {
             "outlinewidth": 0,
             "ticks": ""
            },
            "type": "contourcarpet"
           }
          ],
          "heatmap": [
           {
            "colorbar": {
             "outlinewidth": 0,
             "ticks": ""
            },
            "colorscale": [
             [
              0,
              "#0d0887"
             ],
             [
              0.1111111111111111,
              "#46039f"
             ],
             [
              0.2222222222222222,
              "#7201a8"
             ],
             [
              0.3333333333333333,
              "#9c179e"
             ],
             [
              0.4444444444444444,
              "#bd3786"
             ],
             [
              0.5555555555555556,
              "#d8576b"
             ],
             [
              0.6666666666666666,
              "#ed7953"
             ],
             [
              0.7777777777777778,
              "#fb9f3a"
             ],
             [
              0.8888888888888888,
              "#fdca26"
             ],
             [
              1,
              "#f0f921"
             ]
            ],
            "type": "heatmap"
           }
          ],
          "heatmapgl": [
           {
            "colorbar": {
             "outlinewidth": 0,
             "ticks": ""
            },
            "colorscale": [
             [
              0,
              "#0d0887"
             ],
             [
              0.1111111111111111,
              "#46039f"
             ],
             [
              0.2222222222222222,
              "#7201a8"
             ],
             [
              0.3333333333333333,
              "#9c179e"
             ],
             [
              0.4444444444444444,
              "#bd3786"
             ],
             [
              0.5555555555555556,
              "#d8576b"
             ],
             [
              0.6666666666666666,
              "#ed7953"
             ],
             [
              0.7777777777777778,
              "#fb9f3a"
             ],
             [
              0.8888888888888888,
              "#fdca26"
             ],
             [
              1,
              "#f0f921"
             ]
            ],
            "type": "heatmapgl"
           }
          ],
          "histogram": [
           {
            "marker": {
             "pattern": {
              "fillmode": "overlay",
              "size": 10,
              "solidity": 0.2
             }
            },
            "type": "histogram"
           }
          ],
          "histogram2d": [
           {
            "colorbar": {
             "outlinewidth": 0,
             "ticks": ""
            },
            "colorscale": [
             [
              0,
              "#0d0887"
             ],
             [
              0.1111111111111111,
              "#46039f"
             ],
             [
              0.2222222222222222,
              "#7201a8"
             ],
             [
              0.3333333333333333,
              "#9c179e"
             ],
             [
              0.4444444444444444,
              "#bd3786"
             ],
             [
              0.5555555555555556,
              "#d8576b"
             ],
             [
              0.6666666666666666,
              "#ed7953"
             ],
             [
              0.7777777777777778,
              "#fb9f3a"
             ],
             [
              0.8888888888888888,
              "#fdca26"
             ],
             [
              1,
              "#f0f921"
             ]
            ],
            "type": "histogram2d"
           }
          ],
          "histogram2dcontour": [
           {
            "colorbar": {
             "outlinewidth": 0,
             "ticks": ""
            },
            "colorscale": [
             [
              0,
              "#0d0887"
             ],
             [
              0.1111111111111111,
              "#46039f"
             ],
             [
              0.2222222222222222,
              "#7201a8"
             ],
             [
              0.3333333333333333,
              "#9c179e"
             ],
             [
              0.4444444444444444,
              "#bd3786"
             ],
             [
              0.5555555555555556,
              "#d8576b"
             ],
             [
              0.6666666666666666,
              "#ed7953"
             ],
             [
              0.7777777777777778,
              "#fb9f3a"
             ],
             [
              0.8888888888888888,
              "#fdca26"
             ],
             [
              1,
              "#f0f921"
             ]
            ],
            "type": "histogram2dcontour"
           }
          ],
          "mesh3d": [
           {
            "colorbar": {
             "outlinewidth": 0,
             "ticks": ""
            },
            "type": "mesh3d"
           }
          ],
          "parcoords": [
           {
            "line": {
             "colorbar": {
              "outlinewidth": 0,
              "ticks": ""
             }
            },
            "type": "parcoords"
           }
          ],
          "pie": [
           {
            "automargin": true,
            "type": "pie"
           }
          ],
          "scatter": [
           {
            "fillpattern": {
             "fillmode": "overlay",
             "size": 10,
             "solidity": 0.2
            },
            "type": "scatter"
           }
          ],
          "scatter3d": [
           {
            "line": {
             "colorbar": {
              "outlinewidth": 0,
              "ticks": ""
             }
            },
            "marker": {
             "colorbar": {
              "outlinewidth": 0,
              "ticks": ""
             }
            },
            "type": "scatter3d"
           }
          ],
          "scattercarpet": [
           {
            "marker": {
             "colorbar": {
              "outlinewidth": 0,
              "ticks": ""
             }
            },
            "type": "scattercarpet"
           }
          ],
          "scattergeo": [
           {
            "marker": {
             "colorbar": {
              "outlinewidth": 0,
              "ticks": ""
             }
            },
            "type": "scattergeo"
           }
          ],
          "scattergl": [
           {
            "marker": {
             "colorbar": {
              "outlinewidth": 0,
              "ticks": ""
             }
            },
            "type": "scattergl"
           }
          ],
          "scattermapbox": [
           {
            "marker": {
             "colorbar": {
              "outlinewidth": 0,
              "ticks": ""
             }
            },
            "type": "scattermapbox"
           }
          ],
          "scatterpolar": [
           {
            "marker": {
             "colorbar": {
              "outlinewidth": 0,
              "ticks": ""
             }
            },
            "type": "scatterpolar"
           }
          ],
          "scatterpolargl": [
           {
            "marker": {
             "colorbar": {
              "outlinewidth": 0,
              "ticks": ""
             }
            },
            "type": "scatterpolargl"
           }
          ],
          "scatterternary": [
           {
            "marker": {
             "colorbar": {
              "outlinewidth": 0,
              "ticks": ""
             }
            },
            "type": "scatterternary"
           }
          ],
          "surface": [
           {
            "colorbar": {
             "outlinewidth": 0,
             "ticks": ""
            },
            "colorscale": [
             [
              0,
              "#0d0887"
             ],
             [
              0.1111111111111111,
              "#46039f"
             ],
             [
              0.2222222222222222,
              "#7201a8"
             ],
             [
              0.3333333333333333,
              "#9c179e"
             ],
             [
              0.4444444444444444,
              "#bd3786"
             ],
             [
              0.5555555555555556,
              "#d8576b"
             ],
             [
              0.6666666666666666,
              "#ed7953"
             ],
             [
              0.7777777777777778,
              "#fb9f3a"
             ],
             [
              0.8888888888888888,
              "#fdca26"
             ],
             [
              1,
              "#f0f921"
             ]
            ],
            "type": "surface"
           }
          ],
          "table": [
           {
            "cells": {
             "fill": {
              "color": "#EBF0F8"
             },
             "line": {
              "color": "white"
             }
            },
            "header": {
             "fill": {
              "color": "#C8D4E3"
             },
             "line": {
              "color": "white"
             }
            },
            "type": "table"
           }
          ]
         },
         "layout": {
          "annotationdefaults": {
           "arrowcolor": "#2a3f5f",
           "arrowhead": 0,
           "arrowwidth": 1
          },
          "autotypenumbers": "strict",
          "coloraxis": {
           "colorbar": {
            "outlinewidth": 0,
            "ticks": ""
           }
          },
          "colorscale": {
           "diverging": [
            [
             0,
             "#8e0152"
            ],
            [
             0.1,
             "#c51b7d"
            ],
            [
             0.2,
             "#de77ae"
            ],
            [
             0.3,
             "#f1b6da"
            ],
            [
             0.4,
             "#fde0ef"
            ],
            [
             0.5,
             "#f7f7f7"
            ],
            [
             0.6,
             "#e6f5d0"
            ],
            [
             0.7,
             "#b8e186"
            ],
            [
             0.8,
             "#7fbc41"
            ],
            [
             0.9,
             "#4d9221"
            ],
            [
             1,
             "#276419"
            ]
           ],
           "sequential": [
            [
             0,
             "#0d0887"
            ],
            [
             0.1111111111111111,
             "#46039f"
            ],
            [
             0.2222222222222222,
             "#7201a8"
            ],
            [
             0.3333333333333333,
             "#9c179e"
            ],
            [
             0.4444444444444444,
             "#bd3786"
            ],
            [
             0.5555555555555556,
             "#d8576b"
            ],
            [
             0.6666666666666666,
             "#ed7953"
            ],
            [
             0.7777777777777778,
             "#fb9f3a"
            ],
            [
             0.8888888888888888,
             "#fdca26"
            ],
            [
             1,
             "#f0f921"
            ]
           ],
           "sequentialminus": [
            [
             0,
             "#0d0887"
            ],
            [
             0.1111111111111111,
             "#46039f"
            ],
            [
             0.2222222222222222,
             "#7201a8"
            ],
            [
             0.3333333333333333,
             "#9c179e"
            ],
            [
             0.4444444444444444,
             "#bd3786"
            ],
            [
             0.5555555555555556,
             "#d8576b"
            ],
            [
             0.6666666666666666,
             "#ed7953"
            ],
            [
             0.7777777777777778,
             "#fb9f3a"
            ],
            [
             0.8888888888888888,
             "#fdca26"
            ],
            [
             1,
             "#f0f921"
            ]
           ]
          },
          "colorway": [
           "#636efa",
           "#EF553B",
           "#00cc96",
           "#ab63fa",
           "#FFA15A",
           "#19d3f3",
           "#FF6692",
           "#B6E880",
           "#FF97FF",
           "#FECB52"
          ],
          "font": {
           "color": "#2a3f5f"
          },
          "geo": {
           "bgcolor": "white",
           "lakecolor": "white",
           "landcolor": "white",
           "showlakes": true,
           "showland": true,
           "subunitcolor": "#C8D4E3"
          },
          "hoverlabel": {
           "align": "left"
          },
          "hovermode": "closest",
          "mapbox": {
           "style": "light"
          },
          "paper_bgcolor": "white",
          "plot_bgcolor": "white",
          "polar": {
           "angularaxis": {
            "gridcolor": "#EBF0F8",
            "linecolor": "#EBF0F8",
            "ticks": ""
           },
           "bgcolor": "white",
           "radialaxis": {
            "gridcolor": "#EBF0F8",
            "linecolor": "#EBF0F8",
            "ticks": ""
           }
          },
          "scene": {
           "xaxis": {
            "backgroundcolor": "white",
            "gridcolor": "#DFE8F3",
            "gridwidth": 2,
            "linecolor": "#EBF0F8",
            "showbackground": true,
            "ticks": "",
            "zerolinecolor": "#EBF0F8"
           },
           "yaxis": {
            "backgroundcolor": "white",
            "gridcolor": "#DFE8F3",
            "gridwidth": 2,
            "linecolor": "#EBF0F8",
            "showbackground": true,
            "ticks": "",
            "zerolinecolor": "#EBF0F8"
           },
           "zaxis": {
            "backgroundcolor": "white",
            "gridcolor": "#DFE8F3",
            "gridwidth": 2,
            "linecolor": "#EBF0F8",
            "showbackground": true,
            "ticks": "",
            "zerolinecolor": "#EBF0F8"
           }
          },
          "shapedefaults": {
           "line": {
            "color": "#2a3f5f"
           }
          },
          "ternary": {
           "aaxis": {
            "gridcolor": "#DFE8F3",
            "linecolor": "#A2B1C6",
            "ticks": ""
           },
           "baxis": {
            "gridcolor": "#DFE8F3",
            "linecolor": "#A2B1C6",
            "ticks": ""
           },
           "bgcolor": "white",
           "caxis": {
            "gridcolor": "#DFE8F3",
            "linecolor": "#A2B1C6",
            "ticks": ""
           }
          },
          "title": {
           "x": 0.05
          },
          "xaxis": {
           "automargin": true,
           "gridcolor": "#EBF0F8",
           "linecolor": "#EBF0F8",
           "ticks": "",
           "title": {
            "standoff": 15
           },
           "zerolinecolor": "#EBF0F8",
           "zerolinewidth": 2
          },
          "yaxis": {
           "automargin": true,
           "gridcolor": "#EBF0F8",
           "linecolor": "#EBF0F8",
           "ticks": "",
           "title": {
            "standoff": 15
           },
           "zerolinecolor": "#EBF0F8",
           "zerolinewidth": 2
          }
         }
        },
        "title": {
         "text": "각 시장의 평균 변동성"
        },
        "xaxis": {
         "anchor": "y",
         "domain": [
          0,
          1
         ],
         "title": {
          "text": "시장"
         }
        },
        "yaxis": {
         "anchor": "x",
         "domain": [
          0,
          1
         ],
         "title": {
          "text": "평균 변동성 (%)"
         }
        }
       }
      }
     },
     "metadata": {},
     "output_type": "display_data"
    }
   ],
   "source": [
    "visualize_market_volatility()"
   ]
  },
  {
   "cell_type": "code",
   "execution_count": 123,
   "metadata": {},
   "outputs": [
    {
     "data": {
      "application/vnd.plotly.v1+json": {
       "config": {
        "plotlyServerURL": "https://plot.ly"
       },
       "data": [
        {
         "alignmentgroup": "True",
         "hovertemplate": "Market=%{x}<br>평균 변동성 (%)=%{marker.color}<extra></extra>",
         "legendgroup": "",
         "marker": {
          "color": [
           14.016,
           62.741,
           4.075
          ],
          "coloraxis": "coloraxis",
          "pattern": {
           "shape": ""
          }
         },
         "name": "",
         "offsetgroup": "",
         "orientation": "v",
         "showlegend": false,
         "textposition": "auto",
         "type": "bar",
         "x": [
          "KOSPI",
          "KOSDAQ",
          "ETF"
         ],
         "xaxis": "x",
         "y": [
          14.016,
          62.741,
          4.075
         ],
         "yaxis": "y"
        }
       ],
       "layout": {
        "barmode": "relative",
        "coloraxis": {
         "colorbar": {
          "title": {
           "text": "평균 변동성 (%)"
          }
         },
         "colorscale": [
          [
           0,
           "#440154"
          ],
          [
           0.1111111111111111,
           "#482878"
          ],
          [
           0.2222222222222222,
           "#3e4989"
          ],
          [
           0.3333333333333333,
           "#31688e"
          ],
          [
           0.4444444444444444,
           "#26828e"
          ],
          [
           0.5555555555555556,
           "#1f9e89"
          ],
          [
           0.6666666666666666,
           "#35b779"
          ],
          [
           0.7777777777777778,
           "#6ece58"
          ],
          [
           0.8888888888888888,
           "#b5de2b"
          ],
          [
           1,
           "#fde725"
          ]
         ]
        },
        "height": 400,
        "legend": {
         "tracegroupgap": 0
        },
        "template": {
         "data": {
          "bar": [
           {
            "error_x": {
             "color": "#2a3f5f"
            },
            "error_y": {
             "color": "#2a3f5f"
            },
            "marker": {
             "line": {
              "color": "white",
              "width": 0.5
             },
             "pattern": {
              "fillmode": "overlay",
              "size": 10,
              "solidity": 0.2
             }
            },
            "type": "bar"
           }
          ],
          "barpolar": [
           {
            "marker": {
             "line": {
              "color": "white",
              "width": 0.5
             },
             "pattern": {
              "fillmode": "overlay",
              "size": 10,
              "solidity": 0.2
             }
            },
            "type": "barpolar"
           }
          ],
          "carpet": [
           {
            "aaxis": {
             "endlinecolor": "#2a3f5f",
             "gridcolor": "#C8D4E3",
             "linecolor": "#C8D4E3",
             "minorgridcolor": "#C8D4E3",
             "startlinecolor": "#2a3f5f"
            },
            "baxis": {
             "endlinecolor": "#2a3f5f",
             "gridcolor": "#C8D4E3",
             "linecolor": "#C8D4E3",
             "minorgridcolor": "#C8D4E3",
             "startlinecolor": "#2a3f5f"
            },
            "type": "carpet"
           }
          ],
          "choropleth": [
           {
            "colorbar": {
             "outlinewidth": 0,
             "ticks": ""
            },
            "type": "choropleth"
           }
          ],
          "contour": [
           {
            "colorbar": {
             "outlinewidth": 0,
             "ticks": ""
            },
            "colorscale": [
             [
              0,
              "#0d0887"
             ],
             [
              0.1111111111111111,
              "#46039f"
             ],
             [
              0.2222222222222222,
              "#7201a8"
             ],
             [
              0.3333333333333333,
              "#9c179e"
             ],
             [
              0.4444444444444444,
              "#bd3786"
             ],
             [
              0.5555555555555556,
              "#d8576b"
             ],
             [
              0.6666666666666666,
              "#ed7953"
             ],
             [
              0.7777777777777778,
              "#fb9f3a"
             ],
             [
              0.8888888888888888,
              "#fdca26"
             ],
             [
              1,
              "#f0f921"
             ]
            ],
            "type": "contour"
           }
          ],
          "contourcarpet": [
           {
            "colorbar": {
             "outlinewidth": 0,
             "ticks": ""
            },
            "type": "contourcarpet"
           }
          ],
          "heatmap": [
           {
            "colorbar": {
             "outlinewidth": 0,
             "ticks": ""
            },
            "colorscale": [
             [
              0,
              "#0d0887"
             ],
             [
              0.1111111111111111,
              "#46039f"
             ],
             [
              0.2222222222222222,
              "#7201a8"
             ],
             [
              0.3333333333333333,
              "#9c179e"
             ],
             [
              0.4444444444444444,
              "#bd3786"
             ],
             [
              0.5555555555555556,
              "#d8576b"
             ],
             [
              0.6666666666666666,
              "#ed7953"
             ],
             [
              0.7777777777777778,
              "#fb9f3a"
             ],
             [
              0.8888888888888888,
              "#fdca26"
             ],
             [
              1,
              "#f0f921"
             ]
            ],
            "type": "heatmap"
           }
          ],
          "heatmapgl": [
           {
            "colorbar": {
             "outlinewidth": 0,
             "ticks": ""
            },
            "colorscale": [
             [
              0,
              "#0d0887"
             ],
             [
              0.1111111111111111,
              "#46039f"
             ],
             [
              0.2222222222222222,
              "#7201a8"
             ],
             [
              0.3333333333333333,
              "#9c179e"
             ],
             [
              0.4444444444444444,
              "#bd3786"
             ],
             [
              0.5555555555555556,
              "#d8576b"
             ],
             [
              0.6666666666666666,
              "#ed7953"
             ],
             [
              0.7777777777777778,
              "#fb9f3a"
             ],
             [
              0.8888888888888888,
              "#fdca26"
             ],
             [
              1,
              "#f0f921"
             ]
            ],
            "type": "heatmapgl"
           }
          ],
          "histogram": [
           {
            "marker": {
             "pattern": {
              "fillmode": "overlay",
              "size": 10,
              "solidity": 0.2
             }
            },
            "type": "histogram"
           }
          ],
          "histogram2d": [
           {
            "colorbar": {
             "outlinewidth": 0,
             "ticks": ""
            },
            "colorscale": [
             [
              0,
              "#0d0887"
             ],
             [
              0.1111111111111111,
              "#46039f"
             ],
             [
              0.2222222222222222,
              "#7201a8"
             ],
             [
              0.3333333333333333,
              "#9c179e"
             ],
             [
              0.4444444444444444,
              "#bd3786"
             ],
             [
              0.5555555555555556,
              "#d8576b"
             ],
             [
              0.6666666666666666,
              "#ed7953"
             ],
             [
              0.7777777777777778,
              "#fb9f3a"
             ],
             [
              0.8888888888888888,
              "#fdca26"
             ],
             [
              1,
              "#f0f921"
             ]
            ],
            "type": "histogram2d"
           }
          ],
          "histogram2dcontour": [
           {
            "colorbar": {
             "outlinewidth": 0,
             "ticks": ""
            },
            "colorscale": [
             [
              0,
              "#0d0887"
             ],
             [
              0.1111111111111111,
              "#46039f"
             ],
             [
              0.2222222222222222,
              "#7201a8"
             ],
             [
              0.3333333333333333,
              "#9c179e"
             ],
             [
              0.4444444444444444,
              "#bd3786"
             ],
             [
              0.5555555555555556,
              "#d8576b"
             ],
             [
              0.6666666666666666,
              "#ed7953"
             ],
             [
              0.7777777777777778,
              "#fb9f3a"
             ],
             [
              0.8888888888888888,
              "#fdca26"
             ],
             [
              1,
              "#f0f921"
             ]
            ],
            "type": "histogram2dcontour"
           }
          ],
          "mesh3d": [
           {
            "colorbar": {
             "outlinewidth": 0,
             "ticks": ""
            },
            "type": "mesh3d"
           }
          ],
          "parcoords": [
           {
            "line": {
             "colorbar": {
              "outlinewidth": 0,
              "ticks": ""
             }
            },
            "type": "parcoords"
           }
          ],
          "pie": [
           {
            "automargin": true,
            "type": "pie"
           }
          ],
          "scatter": [
           {
            "fillpattern": {
             "fillmode": "overlay",
             "size": 10,
             "solidity": 0.2
            },
            "type": "scatter"
           }
          ],
          "scatter3d": [
           {
            "line": {
             "colorbar": {
              "outlinewidth": 0,
              "ticks": ""
             }
            },
            "marker": {
             "colorbar": {
              "outlinewidth": 0,
              "ticks": ""
             }
            },
            "type": "scatter3d"
           }
          ],
          "scattercarpet": [
           {
            "marker": {
             "colorbar": {
              "outlinewidth": 0,
              "ticks": ""
             }
            },
            "type": "scattercarpet"
           }
          ],
          "scattergeo": [
           {
            "marker": {
             "colorbar": {
              "outlinewidth": 0,
              "ticks": ""
             }
            },
            "type": "scattergeo"
           }
          ],
          "scattergl": [
           {
            "marker": {
             "colorbar": {
              "outlinewidth": 0,
              "ticks": ""
             }
            },
            "type": "scattergl"
           }
          ],
          "scattermapbox": [
           {
            "marker": {
             "colorbar": {
              "outlinewidth": 0,
              "ticks": ""
             }
            },
            "type": "scattermapbox"
           }
          ],
          "scatterpolar": [
           {
            "marker": {
             "colorbar": {
              "outlinewidth": 0,
              "ticks": ""
             }
            },
            "type": "scatterpolar"
           }
          ],
          "scatterpolargl": [
           {
            "marker": {
             "colorbar": {
              "outlinewidth": 0,
              "ticks": ""
             }
            },
            "type": "scatterpolargl"
           }
          ],
          "scatterternary": [
           {
            "marker": {
             "colorbar": {
              "outlinewidth": 0,
              "ticks": ""
             }
            },
            "type": "scatterternary"
           }
          ],
          "surface": [
           {
            "colorbar": {
             "outlinewidth": 0,
             "ticks": ""
            },
            "colorscale": [
             [
              0,
              "#0d0887"
             ],
             [
              0.1111111111111111,
              "#46039f"
             ],
             [
              0.2222222222222222,
              "#7201a8"
             ],
             [
              0.3333333333333333,
              "#9c179e"
             ],
             [
              0.4444444444444444,
              "#bd3786"
             ],
             [
              0.5555555555555556,
              "#d8576b"
             ],
             [
              0.6666666666666666,
              "#ed7953"
             ],
             [
              0.7777777777777778,
              "#fb9f3a"
             ],
             [
              0.8888888888888888,
              "#fdca26"
             ],
             [
              1,
              "#f0f921"
             ]
            ],
            "type": "surface"
           }
          ],
          "table": [
           {
            "cells": {
             "fill": {
              "color": "#EBF0F8"
             },
             "line": {
              "color": "white"
             }
            },
            "header": {
             "fill": {
              "color": "#C8D4E3"
             },
             "line": {
              "color": "white"
             }
            },
            "type": "table"
           }
          ]
         },
         "layout": {
          "annotationdefaults": {
           "arrowcolor": "#2a3f5f",
           "arrowhead": 0,
           "arrowwidth": 1
          },
          "autotypenumbers": "strict",
          "coloraxis": {
           "colorbar": {
            "outlinewidth": 0,
            "ticks": ""
           }
          },
          "colorscale": {
           "diverging": [
            [
             0,
             "#8e0152"
            ],
            [
             0.1,
             "#c51b7d"
            ],
            [
             0.2,
             "#de77ae"
            ],
            [
             0.3,
             "#f1b6da"
            ],
            [
             0.4,
             "#fde0ef"
            ],
            [
             0.5,
             "#f7f7f7"
            ],
            [
             0.6,
             "#e6f5d0"
            ],
            [
             0.7,
             "#b8e186"
            ],
            [
             0.8,
             "#7fbc41"
            ],
            [
             0.9,
             "#4d9221"
            ],
            [
             1,
             "#276419"
            ]
           ],
           "sequential": [
            [
             0,
             "#0d0887"
            ],
            [
             0.1111111111111111,
             "#46039f"
            ],
            [
             0.2222222222222222,
             "#7201a8"
            ],
            [
             0.3333333333333333,
             "#9c179e"
            ],
            [
             0.4444444444444444,
             "#bd3786"
            ],
            [
             0.5555555555555556,
             "#d8576b"
            ],
            [
             0.6666666666666666,
             "#ed7953"
            ],
            [
             0.7777777777777778,
             "#fb9f3a"
            ],
            [
             0.8888888888888888,
             "#fdca26"
            ],
            [
             1,
             "#f0f921"
            ]
           ],
           "sequentialminus": [
            [
             0,
             "#0d0887"
            ],
            [
             0.1111111111111111,
             "#46039f"
            ],
            [
             0.2222222222222222,
             "#7201a8"
            ],
            [
             0.3333333333333333,
             "#9c179e"
            ],
            [
             0.4444444444444444,
             "#bd3786"
            ],
            [
             0.5555555555555556,
             "#d8576b"
            ],
            [
             0.6666666666666666,
             "#ed7953"
            ],
            [
             0.7777777777777778,
             "#fb9f3a"
            ],
            [
             0.8888888888888888,
             "#fdca26"
            ],
            [
             1,
             "#f0f921"
            ]
           ]
          },
          "colorway": [
           "#636efa",
           "#EF553B",
           "#00cc96",
           "#ab63fa",
           "#FFA15A",
           "#19d3f3",
           "#FF6692",
           "#B6E880",
           "#FF97FF",
           "#FECB52"
          ],
          "font": {
           "color": "#2a3f5f"
          },
          "geo": {
           "bgcolor": "white",
           "lakecolor": "white",
           "landcolor": "white",
           "showlakes": true,
           "showland": true,
           "subunitcolor": "#C8D4E3"
          },
          "hoverlabel": {
           "align": "left"
          },
          "hovermode": "closest",
          "mapbox": {
           "style": "light"
          },
          "paper_bgcolor": "white",
          "plot_bgcolor": "white",
          "polar": {
           "angularaxis": {
            "gridcolor": "#EBF0F8",
            "linecolor": "#EBF0F8",
            "ticks": ""
           },
           "bgcolor": "white",
           "radialaxis": {
            "gridcolor": "#EBF0F8",
            "linecolor": "#EBF0F8",
            "ticks": ""
           }
          },
          "scene": {
           "xaxis": {
            "backgroundcolor": "white",
            "gridcolor": "#DFE8F3",
            "gridwidth": 2,
            "linecolor": "#EBF0F8",
            "showbackground": true,
            "ticks": "",
            "zerolinecolor": "#EBF0F8"
           },
           "yaxis": {
            "backgroundcolor": "white",
            "gridcolor": "#DFE8F3",
            "gridwidth": 2,
            "linecolor": "#EBF0F8",
            "showbackground": true,
            "ticks": "",
            "zerolinecolor": "#EBF0F8"
           },
           "zaxis": {
            "backgroundcolor": "white",
            "gridcolor": "#DFE8F3",
            "gridwidth": 2,
            "linecolor": "#EBF0F8",
            "showbackground": true,
            "ticks": "",
            "zerolinecolor": "#EBF0F8"
           }
          },
          "shapedefaults": {
           "line": {
            "color": "#2a3f5f"
           }
          },
          "ternary": {
           "aaxis": {
            "gridcolor": "#DFE8F3",
            "linecolor": "#A2B1C6",
            "ticks": ""
           },
           "baxis": {
            "gridcolor": "#DFE8F3",
            "linecolor": "#A2B1C6",
            "ticks": ""
           },
           "bgcolor": "white",
           "caxis": {
            "gridcolor": "#DFE8F3",
            "linecolor": "#A2B1C6",
            "ticks": ""
           }
          },
          "title": {
           "x": 0.05
          },
          "xaxis": {
           "automargin": true,
           "gridcolor": "#EBF0F8",
           "linecolor": "#EBF0F8",
           "ticks": "",
           "title": {
            "standoff": 15
           },
           "zerolinecolor": "#EBF0F8",
           "zerolinewidth": 2
          },
          "yaxis": {
           "automargin": true,
           "gridcolor": "#EBF0F8",
           "linecolor": "#EBF0F8",
           "ticks": "",
           "title": {
            "standoff": 15
           },
           "zerolinecolor": "#EBF0F8",
           "zerolinewidth": 2
          }
         }
        },
        "title": {
         "text": "각 시장의 변동성 상위 10종목 평균 변동성"
        },
        "xaxis": {
         "anchor": "y",
         "domain": [
          0,
          1
         ],
         "title": {
          "text": "시장"
         }
        },
        "yaxis": {
         "anchor": "x",
         "domain": [
          0,
          1
         ],
         "title": {
          "text": "평균 변동성 (%)"
         }
        }
       }
      }
     },
     "metadata": {},
     "output_type": "display_data"
    }
   ],
   "source": [
    "# 각 시장별 변동성 상위 10종목 평균 변동성 계산\n",
    "visualize_market_volatility(10)"
   ]
  }
 ],
 "metadata": {
  "kernelspec": {
   "display_name": "base",
   "language": "python",
   "name": "python3"
  },
  "language_info": {
   "codemirror_mode": {
    "name": "ipython",
    "version": 3
   },
   "file_extension": ".py",
   "mimetype": "text/x-python",
   "name": "python",
   "nbconvert_exporter": "python",
   "pygments_lexer": "ipython3",
   "version": "3.12.7"
  }
 },
 "nbformat": 4,
 "nbformat_minor": 2
}
