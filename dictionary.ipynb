{
 "cells": [
  {
   "cell_type": "markdown",
   "metadata": {
    "id": "ssld0iHczXor"
   },
   "source": [
    "# 딕셔너리 : 키는 중복불가, 값은 중복 가능"
   ]
  },
  {
   "cell_type": "code",
   "execution_count": 1,
   "metadata": {
    "colab": {
     "base_uri": "https://localhost:8080/"
    },
    "executionInfo": {
     "elapsed": 362,
     "status": "ok",
     "timestamp": 1732764418250,
     "user": {
      "displayName": "Jimmy Lime",
      "userId": "04944447333209434111"
     },
     "user_tz": -540
    },
    "id": "yfyIY0l0zVMZ",
    "outputId": "c6ccaab4-8c40-47b0-b8e7-02ecc176ebf8"
   },
   "outputs": [
    {
     "data": {
      "text/plain": [
       "dict"
      ]
     },
     "execution_count": 1,
     "metadata": {},
     "output_type": "execute_result"
    }
   ],
   "source": [
    "d = {'name':'홍길동', 'age':20, 'gender':'man'}\n",
    "type(d)"
   ]
  },
  {
   "cell_type": "code",
   "execution_count": 16,
   "metadata": {
    "colab": {
     "base_uri": "https://localhost:8080/"
    },
    "executionInfo": {
     "elapsed": 422,
     "status": "ok",
     "timestamp": 1732765459911,
     "user": {
      "displayName": "Jimmy Lime",
      "userId": "04944447333209434111"
     },
     "user_tz": -540
    },
    "id": "WFFuhuVnzr1n",
    "outputId": "66a303d5-5c7c-4690-9db8-c8410a728bbc"
   },
   "outputs": [
    {
     "data": {
      "text/plain": [
       "dict"
      ]
     },
     "execution_count": 16,
     "metadata": {},
     "output_type": "execute_result"
    }
   ],
   "source": [
    "d2 = dict(name='홍길동',age=20,gender='man')\n",
    "type(d2)"
   ]
  },
  {
   "cell_type": "code",
   "execution_count": 3,
   "metadata": {
    "colab": {
     "base_uri": "https://localhost:8080/"
    },
    "executionInfo": {
     "elapsed": 307,
     "status": "ok",
     "timestamp": 1732764586711,
     "user": {
      "displayName": "Jimmy Lime",
      "userId": "04944447333209434111"
     },
     "user_tz": -540
    },
    "id": "HYFNqBqf0Pnk",
    "outputId": "70bdc2e8-ef02-4d57-8f08-fbe2875b492b"
   },
   "outputs": [
    {
     "name": "stdout",
     "output_type": "stream",
     "text": [
      "3\n"
     ]
    }
   ],
   "source": [
    "print(len(d2))"
   ]
  },
  {
   "cell_type": "markdown",
   "metadata": {
    "id": "PsYb8rH01rG0"
   },
   "source": [
    "- items() : 딕셔너리의 key-value 쌍을 반환\n",
    "- keys() : 딕셔너리의 key를 반환\n",
    "- values() : 딕셔너리의 value를 반환"
   ]
  },
  {
   "cell_type": "code",
   "execution_count": 4,
   "metadata": {
    "colab": {
     "base_uri": "https://localhost:8080/"
    },
    "executionInfo": {
     "elapsed": 307,
     "status": "ok",
     "timestamp": 1732764668062,
     "user": {
      "displayName": "Jimmy Lime",
      "userId": "04944447333209434111"
     },
     "user_tz": -540
    },
    "id": "FxES4sX_0U-V",
    "outputId": "c7b8ef9d-6247-4bdd-b6b6-6d134d2a35e4"
   },
   "outputs": [
    {
     "name": "stdout",
     "output_type": "stream",
     "text": [
      "key=name, value=홍길동\n",
      "key=age, value=20\n",
      "key=gender, value=man\n"
     ]
    }
   ],
   "source": [
    "for k,v in d.items() :\n",
    "  print(f'key={k}, value={v}')"
   ]
  },
  {
   "cell_type": "code",
   "execution_count": 7,
   "metadata": {
    "colab": {
     "base_uri": "https://localhost:8080/"
    },
    "executionInfo": {
     "elapsed": 4,
     "status": "ok",
     "timestamp": 1732764745291,
     "user": {
      "displayName": "Jimmy Lime",
      "userId": "04944447333209434111"
     },
     "user_tz": -540
    },
    "id": "rxYPzdPq0o1x",
    "outputId": "9c69c4de-8ad0-476e-d84e-d37b9337a224"
   },
   "outputs": [
    {
     "name": "stdout",
     "output_type": "stream",
     "text": [
      "key=name, value=홍길동\n",
      "key=age, value=20\n",
      "key=gender, value=man\n"
     ]
    }
   ],
   "source": [
    "for k in d.keys() :\n",
    "  print(f'key={k}, value={d[k]}')"
   ]
  },
  {
   "cell_type": "code",
   "execution_count": 9,
   "metadata": {
    "colab": {
     "base_uri": "https://localhost:8080/"
    },
    "executionInfo": {
     "elapsed": 321,
     "status": "ok",
     "timestamp": 1732764775094,
     "user": {
      "displayName": "Jimmy Lime",
      "userId": "04944447333209434111"
     },
     "user_tz": -540
    },
    "id": "6GRbAFCs0xJ4",
    "outputId": "b28e6baf-9d13-428b-c5d0-b524b6baca35"
   },
   "outputs": [
    {
     "name": "stdout",
     "output_type": "stream",
     "text": [
      "value=홍길동\n",
      "value=20\n",
      "value=man\n"
     ]
    }
   ],
   "source": [
    "for v in d.values() :\n",
    "  print(f'value={v}')"
   ]
  },
  {
   "cell_type": "code",
   "execution_count": 10,
   "metadata": {
    "colab": {
     "base_uri": "https://localhost:8080/"
    },
    "executionInfo": {
     "elapsed": 317,
     "status": "ok",
     "timestamp": 1732764801996,
     "user": {
      "displayName": "Jimmy Lime",
      "userId": "04944447333209434111"
     },
     "user_tz": -540
    },
    "id": "6eJEvXGv0_hF",
    "outputId": "e585e046-db84-4360-a990-a90aeefd3d60"
   },
   "outputs": [
    {
     "name": "stdout",
     "output_type": "stream",
     "text": [
      "<class 'dict_items'>\n",
      "<class 'dict_keys'>\n",
      "<class 'dict_values'>\n"
     ]
    }
   ],
   "source": [
    "print(type(d.items()))\n",
    "print(type(d.keys()))\n",
    "print(type(d.values()))"
   ]
  },
  {
   "cell_type": "markdown",
   "metadata": {
    "id": "ZgDTSAt52CPp"
   },
   "source": [
    "- get(key, default=None): key로 value를 반환"
   ]
  },
  {
   "cell_type": "code",
   "execution_count": 12,
   "metadata": {
    "colab": {
     "base_uri": "https://localhost:8080/"
    },
    "executionInfo": {
     "elapsed": 330,
     "status": "ok",
     "timestamp": 1732765116800,
     "user": {
      "displayName": "Jimmy Lime",
      "userId": "04944447333209434111"
     },
     "user_tz": -540
    },
    "id": "Xi31HKGH1_r4",
    "outputId": "6fd886d6-b77c-4d13-8c0f-9ed92844b6e4"
   },
   "outputs": [
    {
     "data": {
      "text/plain": [
       "('홍길동', '홍길동')"
      ]
     },
     "execution_count": 12,
     "metadata": {},
     "output_type": "execute_result"
    }
   ],
   "source": [
    "d.get('name'), d['name']"
   ]
  },
  {
   "cell_type": "markdown",
   "metadata": {
    "id": "HVVBWK2e23uW"
   },
   "source": [
    "- get : 키 값이 없어도 오류가 발생하지 않는다. 키값이 없을떄 default값을 지정해 반환하게 할 수 있음"
   ]
  },
  {
   "cell_type": "code",
   "execution_count": 13,
   "metadata": {
    "executionInfo": {
     "elapsed": 490,
     "status": "ok",
     "timestamp": 1732765133179,
     "user": {
      "displayName": "Jimmy Lime",
      "userId": "04944447333209434111"
     },
     "user_tz": -540
    },
    "id": "WTaC5vQG2Pld"
   },
   "outputs": [],
   "source": [
    "d.get('hobby')"
   ]
  },
  {
   "cell_type": "markdown",
   "metadata": {
    "id": "K3F_7RJ43APV"
   },
   "source": [
    "- 이방식은 키 값이 없으면 오류가 발생함"
   ]
  },
  {
   "cell_type": "code",
   "execution_count": 14,
   "metadata": {
    "colab": {
     "base_uri": "https://localhost:8080/",
     "height": 150
    },
    "executionInfo": {
     "elapsed": 314,
     "status": "error",
     "timestamp": 1732765140447,
     "user": {
      "displayName": "Jimmy Lime",
      "userId": "04944447333209434111"
     },
     "user_tz": -540
    },
    "id": "vEfr3WE72aLa",
    "outputId": "af972d9f-6cd0-4589-843d-ed5ec3c01bcb"
   },
   "outputs": [
    {
     "ename": "KeyError",
     "evalue": "'hobby'",
     "output_type": "error",
     "traceback": [
      "\u001b[0;31m---------------------------------------------------------------------------\u001b[0m",
      "\u001b[0;31mKeyError\u001b[0m                                  Traceback (most recent call last)",
      "\u001b[0;32m<ipython-input-14-2584120b4b2c>\u001b[0m in \u001b[0;36m<cell line: 1>\u001b[0;34m()\u001b[0m\n\u001b[0;32m----> 1\u001b[0;31m \u001b[0md\u001b[0m\u001b[0;34m[\u001b[0m\u001b[0;34m'hobby'\u001b[0m\u001b[0;34m]\u001b[0m\u001b[0;34m\u001b[0m\u001b[0;34m\u001b[0m\u001b[0m\n\u001b[0m",
      "\u001b[0;31mKeyError\u001b[0m: 'hobby'"
     ]
    }
   ],
   "source": [
    "d['hobby']"
   ]
  },
  {
   "cell_type": "code",
   "execution_count": 15,
   "metadata": {
    "colab": {
     "base_uri": "https://localhost:8080/",
     "height": 36
    },
    "executionInfo": {
     "elapsed": 307,
     "status": "ok",
     "timestamp": 1732765222365,
     "user": {
      "displayName": "Jimmy Lime",
      "userId": "04944447333209434111"
     },
     "user_tz": -540
    },
    "id": "D8eZPWf52cKs",
    "outputId": "23b24938-bcf3-409e-8a8f-b77a85d49d00"
   },
   "outputs": [
    {
     "data": {
      "application/vnd.google.colaboratory.intrinsic+json": {
       "type": "string"
      },
      "text/plain": [
       "'등산'"
      ]
     },
     "execution_count": 15,
     "metadata": {},
     "output_type": "execute_result"
    }
   ],
   "source": [
    "d.get('hobby','등산')"
   ]
  },
  {
   "cell_type": "markdown",
   "metadata": {
    "id": "WUh3ZS9v3al2"
   },
   "source": [
    "## 아이템 추가하기\n",
    "\n",
    "- update(other_dict) : 요소추가, 동일한 키가 없으면 추가, 동일한 키가 있으면 업데이트\n",
    "\n",
    "- dict[key] = value : 동일한 효과\n",
    "\n",
    "- setdefault(key, default=None) :\n",
    "    만약 key가 딕셔너리에 존재하면, 해당 키의 현재 값을 반환합니다.\n",
    "\n",
    "    만약 key가 존재하지 않으면, default 값을 해당 키에 저장하고 그 값을 반환합니다."
   ]
  },
  {
   "cell_type": "code",
   "execution_count": 19,
   "metadata": {
    "colab": {
     "base_uri": "https://localhost:8080/"
    },
    "executionInfo": {
     "elapsed": 329,
     "status": "ok",
     "timestamp": 1732765526752,
     "user": {
      "displayName": "Jimmy Lime",
      "userId": "04944447333209434111"
     },
     "user_tz": -540
    },
    "id": "QkIfqppd2wKo",
    "outputId": "5ea43fa2-044c-4bae-cf23-9e2faa82c723"
   },
   "outputs": [
    {
     "data": {
      "text/plain": [
       "{'name': '홍길순',\n",
       " 'age': 20,\n",
       " 'gender': 'man',\n",
       " 'region': '울산',\n",
       " 'tel': '010-1234-5678'}"
      ]
     },
     "execution_count": 19,
     "metadata": {},
     "output_type": "execute_result"
    }
   ],
   "source": [
    "d = {'name':'홍길동', 'age':20, 'gender':'man'}\n",
    "d.update({'name':'홍길순','region':'울산', 'tel':'010-1234-5678'})\n",
    "d"
   ]
  },
  {
   "cell_type": "code",
   "execution_count": 21,
   "metadata": {
    "colab": {
     "base_uri": "https://localhost:8080/"
    },
    "executionInfo": {
     "elapsed": 323,
     "status": "ok",
     "timestamp": 1732765592449,
     "user": {
      "displayName": "Jimmy Lime",
      "userId": "04944447333209434111"
     },
     "user_tz": -540
    },
    "id": "N6JbdfEt3vEX",
    "outputId": "8173c607-8f9a-4a33-fc63-d8e34204cd87"
   },
   "outputs": [
    {
     "data": {
      "text/plain": [
       "{'name': '홍길동', 'age': 20, 'gender': 'man', 'region': '울산'}"
      ]
     },
     "execution_count": 21,
     "metadata": {},
     "output_type": "execute_result"
    }
   ],
   "source": [
    "d = {'name':'홍길동', 'age':20, 'gender':'man'}\n",
    "d['region']='울산'\n",
    "d"
   ]
  },
  {
   "cell_type": "markdown",
   "metadata": {
    "id": "QqSKNAjYGJsD"
   },
   "source": [
    "- pop(key, default=None) : 키에 대한 값을 반환하고 해당 아이템을 삭제, 키가 없으면 default값을 반환\n",
    "\n",
    "- popitem() : 딕셔너리의 마지막 아이템을 반환하고, 삭제"
   ]
  },
  {
   "cell_type": "code",
   "execution_count": 24,
   "metadata": {
    "colab": {
     "base_uri": "https://localhost:8080/"
    },
    "executionInfo": {
     "elapsed": 290,
     "status": "ok",
     "timestamp": 1732769525113,
     "user": {
      "displayName": "Jimmy Lime",
      "userId": "04944447333209434111"
     },
     "user_tz": -540
    },
    "id": "-UscwdVMFqGP",
    "outputId": "b2d4d182-b12c-4617-c573-dbefd1147583"
   },
   "outputs": [
    {
     "name": "stdout",
     "output_type": "stream",
     "text": [
      "man\n",
      "{'name': '홍길동', 'age': 20}\n"
     ]
    }
   ],
   "source": [
    "d = {'name':'홍길동', 'age':20, 'gender':'man'}\n",
    "removedItem = d.pop('gender')\n",
    "print(removedItem)\n",
    "print(d)"
   ]
  },
  {
   "cell_type": "code",
   "execution_count": 25,
   "metadata": {
    "colab": {
     "base_uri": "https://localhost:8080/"
    },
    "executionInfo": {
     "elapsed": 308,
     "status": "ok",
     "timestamp": 1732769620113,
     "user": {
      "displayName": "Jimmy Lime",
      "userId": "04944447333209434111"
     },
     "user_tz": -540
    },
    "id": "ZXm6aOcfHKoP",
    "outputId": "b3d09fcc-b6b1-4b48-b189-67f3367f2b58"
   },
   "outputs": [
    {
     "name": "stdout",
     "output_type": "stream",
     "text": [
      "'gender2'\n",
      "['__cause__', '__class__', '__context__', '__delattr__', '__dict__', '__dir__', '__doc__', '__eq__', '__format__', '__ge__', '__getattribute__', '__gt__', '__hash__', '__init__', '__init_subclass__', '__le__', '__lt__', '__ne__', '__new__', '__reduce__', '__reduce_ex__', '__repr__', '__setattr__', '__setstate__', '__sizeof__', '__str__', '__subclasshook__', '__suppress_context__', '__traceback__', 'args', 'with_traceback']\n"
     ]
    }
   ],
   "source": [
    "try :\n",
    "  removedItem = d.pop('gender2')\n",
    "except KeyError as err :\n",
    "  print(err)\n",
    "  print(dir(err))"
   ]
  },
  {
   "cell_type": "code",
   "execution_count": 26,
   "metadata": {
    "colab": {
     "base_uri": "https://localhost:8080/"
    },
    "executionInfo": {
     "elapsed": 320,
     "status": "ok",
     "timestamp": 1732769697042,
     "user": {
      "displayName": "Jimmy Lime",
      "userId": "04944447333209434111"
     },
     "user_tz": -540
    },
    "id": "Dq9dr3fuHh1t",
    "outputId": "0802aac4-3c8d-46e8-b930-a68fbdb3b912"
   },
   "outputs": [
    {
     "name": "stdout",
     "output_type": "stream",
     "text": [
      "('gender', 'man')\n",
      "{'name': '홍길동', 'age': 20}\n"
     ]
    }
   ],
   "source": [
    "d = {'name':'홍길동', 'age':20, 'gender':'man'}\n",
    "removed_item = d.popitem()\n",
    "print(removed_item)\n",
    "print(d)"
   ]
  },
  {
   "cell_type": "markdown",
   "metadata": {
    "id": "8pAPfQg-IFTP"
   },
   "source": []
  },
  {
   "cell_type": "code",
   "execution_count": 27,
   "metadata": {
    "colab": {
     "base_uri": "https://localhost:8080/",
     "height": 36
    },
    "executionInfo": {
     "elapsed": 316,
     "status": "ok",
     "timestamp": 1732770049474,
     "user": {
      "displayName": "Jimmy Lime",
      "userId": "04944447333209434111"
     },
     "user_tz": -540
    },
    "id": "w8YXc1_MH0iJ",
    "outputId": "93bc3a37-9c6a-4d65-fe42-6e631c557b82"
   },
   "outputs": [
    {
     "data": {
      "application/vnd.google.colaboratory.intrinsic+json": {
       "type": "string"
      },
      "text/plain": [
       "'홍길동'"
      ]
     },
     "execution_count": 27,
     "metadata": {},
     "output_type": "execute_result"
    }
   ],
   "source": [
    "d = {'name':'홍길동', 'age':20, 'gender':'man'}\n",
    "d.setdefault('name','홍길순') # 키가 존재하면 해당 키의 값을 반환"
   ]
  },
  {
   "cell_type": "code",
   "execution_count": 30,
   "metadata": {
    "colab": {
     "base_uri": "https://localhost:8080/"
    },
    "executionInfo": {
     "elapsed": 316,
     "status": "ok",
     "timestamp": 1732770128440,
     "user": {
      "displayName": "Jimmy Lime",
      "userId": "04944447333209434111"
     },
     "user_tz": -540
    },
    "id": "j-G-VVtLJKqX",
    "outputId": "550430a2-e4d2-4932-f695-fd6f0cb64377"
   },
   "outputs": [
    {
     "data": {
      "text/plain": [
       "{'name': '홍길동', 'age': 20, 'gender': 'man', 'region': '울산'}"
      ]
     },
     "execution_count": 30,
     "metadata": {},
     "output_type": "execute_result"
    }
   ],
   "source": [
    "d = {'name':'홍길동', 'age':20, 'gender':'man'}\n",
    "d.setdefault('region','울산') # 키가 존재하지 않으면 키와 default값을 쌍으로 하여 추가\n",
    "d"
   ]
  },
  {
   "cell_type": "code",
   "execution_count": null,
   "metadata": {
    "id": "p0_dg-b-JQRg"
   },
   "outputs": [],
   "source": []
  }
 ],
 "metadata": {
  "colab": {
   "authorship_tag": "ABX9TyPKzseC0/CzwbuMaeetmPtK",
   "provenance": []
  },
  "kernelspec": {
   "display_name": "Python 3 (ipykernel)",
   "language": "python",
   "name": "python3"
  },
  "language_info": {
   "codemirror_mode": {
    "name": "ipython",
    "version": 3
   },
   "file_extension": ".py",
   "mimetype": "text/x-python",
   "name": "python",
   "nbconvert_exporter": "python",
   "pygments_lexer": "ipython3",
   "version": "3.12.7"
  }
 },
 "nbformat": 4,
 "nbformat_minor": 4
}
