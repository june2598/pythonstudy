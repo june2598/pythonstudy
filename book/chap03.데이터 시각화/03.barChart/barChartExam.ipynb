{
 "cells": [
  {
   "cell_type": "code",
   "execution_count": 1,
   "metadata": {},
   "outputs": [],
   "source": [
    "import numpy as np\n",
    "import pandas as pd\n",
    "import matplotlib.pyplot as plt"
   ]
  },
  {
   "cell_type": "code",
   "execution_count": 2,
   "metadata": {},
   "outputs": [],
   "source": [
    "plt.rc('font', family='Malgun Gothic')\n",
    "filename = './../../data/주요발생국가주간동향(4월2째주).csv'"
   ]
  },
  {
   "cell_type": "code",
   "execution_count": 3,
   "metadata": {},
   "outputs": [
    {
     "data": {
      "text/plain": [
       "Index(['4월06일', '4월07일', '4월08일', '4월09일', '4월10일', '4월11일', '4월12일'], dtype='object')"
      ]
     },
     "execution_count": 3,
     "metadata": {},
     "output_type": "execute_result"
    }
   ],
   "source": [
    "data = pd.read_csv(filename, index_col='국가')\n",
    "data.columns"
   ]
  },
  {
   "cell_type": "code",
   "execution_count": 5,
   "metadata": {},
   "outputs": [
    {
     "data": {
      "text/plain": [
       "국가\n",
       "미국      335524\n",
       "스페인     130709\n",
       "이탈리아    128948\n",
       "독일      100024\n",
       "프랑스      70478\n",
       "중국       81708\n",
       "영국       47806\n",
       "이란       58226\n",
       "스위스      21104\n",
       "한국       10284\n",
       "Name: 4월06일, dtype: int64"
      ]
     },
     "execution_count": 5,
     "metadata": {},
     "output_type": "execute_result"
    }
   ],
   "source": [
    "chartdata = data['4월06일']\n",
    "chartdata"
   ]
  },
  {
   "cell_type": "code",
   "execution_count": 6,
   "metadata": {},
   "outputs": [
    {
     "data": {
      "text/plain": [
       "pandas.core.series.Series"
      ]
     },
     "execution_count": 6,
     "metadata": {},
     "output_type": "execute_result"
    }
   ],
   "source": [
    "type(chartdata) # Series"
   ]
  },
  {
   "cell_type": "code",
   "execution_count": 7,
   "metadata": {},
   "outputs": [],
   "source": [
    "# plt.bar() 메소드를 사용한 막대 그래프\n",
    "def MakeBarChart01(x, y, color, xlabel, ylabel, title):\n",
    "    plt.figure()\n",
    "    plt.bar(x, y, color=color, alpha=0.7)\n",
    "\n",
    "    plt.xlabel(xlabel)\n",
    "    plt.ylabel(ylabel)\n",
    "    plt.title(title)\n",
    "    # plt.grid(True)\n",
    "\n",
    "    YTICKS_INTERVAL = 50000\n",
    "    \n",
    "    # y축 눈금 지정\n",
    "    maxlim = (int(y.max() / YTICKS_INTERVAL) + 1) * YTICKS_INTERVAL\n",
    "    print(maxlim)\n",
    "\n",
    "    values = np.arange(0, maxlim + 1, YTICKS_INTERVAL)\n",
    "\n",
    "    plt.yticks(values, ['%s' % format(val, ',') for val in values])\n",
    "\n",
    "    # 그래프 위에 건수와 비율 구하기\n",
    "    ratio = 100 * y / y.sum()\n",
    "    print(ratio)\n",
    "    \n",
    "\n",
    "    plt.rc('font', size=6)\n",
    "    for idx in range(y.size):\n",
    "        value = format(y[idx], ',') + '건'  # 예시 : 60건\n",
    "        ratioval = '%.1f%%' % (ratio[idx])  # 예시 : 20.0%\n",
    "        # 그래프의 위에 \"건수\" 표시\n",
    "        plt.text(x=idx, y=y[idx] + 1, s=value, horizontalalignment='center')\n",
    "        # 그래프의 중간에 비율 표시\n",
    "        plt.text(x=idx, y=y[idx] / 2, s=ratioval, horizontalalignment='center')\n",
    "\n",
    "    # 평균 값을 수평선으로 그리기\n",
    "    meanval = y.mean()\n",
    "    print(meanval)\n",
    "\n",
    "    average = '평균 : %d건' % meanval\n",
    "    plt.axhline(y=meanval, color='r', linewidth=1, linestyle='dashed')\n",
    "    plt.text(x=y.size - 1, y=meanval + 200, s=average, horizontalalignment='center')\n",
    "\n",
    "# def MakeBarChart01"
   ]
  },
  {
   "cell_type": "markdown",
   "metadata": {},
   "source": [
    "그래프에 대한 색상을 지정하는 리스트입니다.\n",
    "예시에서 \"w\"는 흰색이라서 제외하도록 합니다."
   ]
  },
  {
   "cell_type": "code",
   "execution_count": 8,
   "metadata": {},
   "outputs": [],
   "source": [
    "colors = ['b', 'g', 'r', 'c', 'm', 'y', 'k']\n",
    "mycolor = colors[0:len(chartdata)]"
   ]
  },
  {
   "cell_type": "markdown",
   "metadata": {},
   "source": [
    "데이터 프레임을 이용하여 막대 그래프를 그려 주는 함수를 호출합니다."
   ]
  },
  {
   "cell_type": "code",
   "execution_count": 9,
   "metadata": {
    "scrolled": true
   },
   "outputs": [
    {
     "name": "stdout",
     "output_type": "stream",
     "text": [
      "350000\n",
      "국가\n",
      "미국      34.069888\n",
      "스페인     13.272496\n",
      "이탈리아    13.093680\n",
      "독일      10.156670\n",
      "프랑스      7.156500\n",
      "중국       8.296820\n",
      "영국       4.854332\n",
      "이란       5.912403\n",
      "스위스      2.142949\n",
      "한국       1.044261\n",
      "Name: 4월06일, dtype: float64\n",
      "98481.1\n"
     ]
    },
    {
     "name": "stderr",
     "output_type": "stream",
     "text": [
      "C:\\Users\\hydrl\\AppData\\Local\\Temp\\ipykernel_18752\\925911797.py:28: FutureWarning: Series.__getitem__ treating keys as positions is deprecated. In a future version, integer keys will always be treated as labels (consistent with DataFrame behavior). To access a value by position, use `ser.iloc[pos]`\n",
      "  value = format(y[idx], ',') + '건'  # 예시 : 60건\n",
      "C:\\Users\\hydrl\\AppData\\Local\\Temp\\ipykernel_18752\\925911797.py:29: FutureWarning: Series.__getitem__ treating keys as positions is deprecated. In a future version, integer keys will always be treated as labels (consistent with DataFrame behavior). To access a value by position, use `ser.iloc[pos]`\n",
      "  ratioval = '%.1f%%' % (ratio[idx])  # 예시 : 20.0%\n",
      "C:\\Users\\hydrl\\AppData\\Local\\Temp\\ipykernel_18752\\925911797.py:31: FutureWarning: Series.__getitem__ treating keys as positions is deprecated. In a future version, integer keys will always be treated as labels (consistent with DataFrame behavior). To access a value by position, use `ser.iloc[pos]`\n",
      "  plt.text(x=idx, y=y[idx] + 1, s=value, horizontalalignment='center')\n",
      "C:\\Users\\hydrl\\AppData\\Local\\Temp\\ipykernel_18752\\925911797.py:33: FutureWarning: Series.__getitem__ treating keys as positions is deprecated. In a future version, integer keys will always be treated as labels (consistent with DataFrame behavior). To access a value by position, use `ser.iloc[pos]`\n",
      "  plt.text(x=idx, y=y[idx] / 2, s=ratioval, horizontalalignment='center')\n"
     ]
    },
    {
     "data": {
      "image/png": "[encoded data removed]",
      "text/plain": [
       "<Figure size 640x480 with 1 Axes>"
      ]
     },
     "metadata": {},
     "output_type": "display_data"
    }
   ],
   "source": [
    "MakeBarChart01(x=chartdata.index, y=chartdata, color=mycolor, xlabel='국가명', \n",
    "               ylabel='발생건수', title='국가별 코로나 발생 건수')"
   ]
  },
  {
   "cell_type": "code",
   "execution_count": 10,
   "metadata": {},
   "outputs": [],
   "source": [
    "# 데이터 프레임을 사용하여 막대 그래프를 그려 주는 함수입니다.\n",
    "def MakeBarChart02(chartdata, rotation, title, ylim=None, stacked=False, yticks_interval = 10000):\n",
    "    plt.figure()\n",
    "    # 범례에 제목을 넣으려면 plot() 메소드의 legend 옵션을 사용해야 합니다.\n",
    "    chartdata.plot(kind='bar', rot=rotation, title=title, legend=True, stacked=stacked)\n",
    "\n",
    "    plt.legend(loc='best')\n",
    "\n",
    "    print(chartdata)\n",
    "\n",
    "    if stacked == False :\n",
    "        # max(chartdata.max())은 항목들 값 중에서 최대 값을 의미합니다.\n",
    "        maxlim = (int(max(chartdata.max()) / yticks_interval) + 1) * yticks_interval\n",
    "        # print(maxlim)\n",
    "        values = np.arange(0, maxlim + 1, yticks_interval)\n",
    "        plt.yticks(values, ['%s' % format(val, ',') for val in values])\n",
    "    else : # 누적 막대 그래프\n",
    "        # 국가별 누적 합인 chartdata.sum(axis=1))의 최대 값에 대한 연산이 이루어 져야 합니다.\n",
    "        maxlim = (int(max(chartdata.sum(axis=1)) / yticks_interval) + 1) * yticks_interval\n",
    "        # print(maxlim)\n",
    "        values = np.arange(0, maxlim + 1, yticks_interval)\n",
    "        plt.yticks(values, ['%s' % format(val, ',') for val in values])\n",
    "\n",
    "    # y축의 상하한 값이 주어 지는 경우에만 설정합니다.\n",
    "    if ylim != None :\n",
    "        plt.ylim(ylim)\n",
    "\n",
    "# def MakeBarChart02"
   ]
  },
  {
   "cell_type": "markdown",
   "metadata": {},
   "source": [
    "이번 예시에서는 특정 국가별 특정 일자에 대한 다변량 막대 그래프를 그려 보고자 합니다."
   ]
  },
  {
   "cell_type": "code",
   "execution_count": 11,
   "metadata": {},
   "outputs": [
    {
     "data": {
      "text/plain": [
       "Index(['4월06일', '4월07일', '4월08일', '4월09일', '4월10일', '4월11일', '4월12일'], dtype='object')"
      ]
     },
     "execution_count": 11,
     "metadata": {},
     "output_type": "execute_result"
    }
   ],
   "source": [
    "data = pd.read_csv(filename, index_col='국가')\n",
    "data.columns"
   ]
  },
  {
   "cell_type": "code",
   "execution_count": 12,
   "metadata": {},
   "outputs": [
    {
     "data": {
      "text/html": [
       "<div>\n",
       "<style scoped>\n",
       "    .dataframe tbody tr th:only-of-type {\n",
       "        vertical-align: middle;\n",
       "    }\n",
       "\n",
       "    .dataframe tbody tr th {\n",
       "        vertical-align: top;\n",
       "    }\n",
       "\n",
       "    .dataframe thead th {\n",
       "        text-align: right;\n",
       "    }\n",
       "</style>\n",
       "<table border=\"1\" class=\"dataframe\">\n",
       "  <thead>\n",
       "    <tr style=\"text-align: right;\">\n",
       "      <th>일자</th>\n",
       "      <th>4월06일</th>\n",
       "      <th>4월07일</th>\n",
       "      <th>4월08일</th>\n",
       "    </tr>\n",
       "    <tr>\n",
       "      <th>국가명</th>\n",
       "      <th></th>\n",
       "      <th></th>\n",
       "      <th></th>\n",
       "    </tr>\n",
       "  </thead>\n",
       "  <tbody>\n",
       "    <tr>\n",
       "      <th>프랑스</th>\n",
       "      <td>70478</td>\n",
       "      <td>74390</td>\n",
       "      <td>78167</td>\n",
       "    </tr>\n",
       "    <tr>\n",
       "      <th>중국</th>\n",
       "      <td>81708</td>\n",
       "      <td>81740</td>\n",
       "      <td>81802</td>\n",
       "    </tr>\n",
       "    <tr>\n",
       "      <th>영국</th>\n",
       "      <td>47806</td>\n",
       "      <td>51608</td>\n",
       "      <td>55242</td>\n",
       "    </tr>\n",
       "    <tr>\n",
       "      <th>이란</th>\n",
       "      <td>58226</td>\n",
       "      <td>60500</td>\n",
       "      <td>62589</td>\n",
       "    </tr>\n",
       "  </tbody>\n",
       "</table>\n",
       "</div>"
      ],
      "text/plain": [
       "일자   4월06일  4월07일  4월08일\n",
       "국가명                     \n",
       "프랑스  70478  74390  78167\n",
       "중국   81708  81740  81802\n",
       "영국   47806  51608  55242\n",
       "이란   58226  60500  62589"
      ]
     },
     "execution_count": 12,
     "metadata": {},
     "output_type": "execute_result"
    }
   ],
   "source": [
    "COUNTRY = ['프랑스', '중국', '영국', '이란']\n",
    "WHEN = ['4월06일', '4월07일', '4월08일']\n",
    "data = data.loc[COUNTRY, WHEN]\n",
    "data.index.name = '국가명'\n",
    "data.columns.name = '일자'\n",
    "data"
   ]
  },
  {
   "cell_type": "code",
   "execution_count": 13,
   "metadata": {},
   "outputs": [
    {
     "name": "stdout",
     "output_type": "stream",
     "text": [
      "일자   4월06일  4월07일  4월08일\n",
      "국가명                     \n",
      "프랑스  70478  74390  78167\n",
      "중국   81708  81740  81802\n",
      "영국   47806  51608  55242\n",
      "이란   58226  60500  62589\n"
     ]
    },
    {
     "data": {
      "text/plain": [
       "<Figure size 640x480 with 0 Axes>"
      ]
     },
     "metadata": {},
     "output_type": "display_data"
    },
    {
     "data": {
      "image/png": "[encoded data removed]",
      "text/plain": [
       "<Figure size 640x480 with 1 Axes>"
      ]
     },
     "metadata": {},
     "output_type": "display_data"
    }
   ],
   "source": [
    "MakeBarChart02(chartdata=data, rotation=0, title='국가별 일별 발생 건수' )"
   ]
  },
  {
   "cell_type": "code",
   "execution_count": 14,
   "metadata": {},
   "outputs": [
    {
     "data": {
      "text/html": [
       "<div>\n",
       "<style scoped>\n",
       "    .dataframe tbody tr th:only-of-type {\n",
       "        vertical-align: middle;\n",
       "    }\n",
       "\n",
       "    .dataframe tbody tr th {\n",
       "        vertical-align: top;\n",
       "    }\n",
       "\n",
       "    .dataframe thead th {\n",
       "        text-align: right;\n",
       "    }\n",
       "</style>\n",
       "<table border=\"1\" class=\"dataframe\">\n",
       "  <thead>\n",
       "    <tr style=\"text-align: right;\">\n",
       "      <th>국가명</th>\n",
       "      <th>프랑스</th>\n",
       "      <th>중국</th>\n",
       "      <th>영국</th>\n",
       "      <th>이란</th>\n",
       "    </tr>\n",
       "    <tr>\n",
       "      <th>일자</th>\n",
       "      <th></th>\n",
       "      <th></th>\n",
       "      <th></th>\n",
       "      <th></th>\n",
       "    </tr>\n",
       "  </thead>\n",
       "  <tbody>\n",
       "    <tr>\n",
       "      <th>4월06일</th>\n",
       "      <td>70478</td>\n",
       "      <td>81708</td>\n",
       "      <td>47806</td>\n",
       "      <td>58226</td>\n",
       "    </tr>\n",
       "    <tr>\n",
       "      <th>4월07일</th>\n",
       "      <td>74390</td>\n",
       "      <td>81740</td>\n",
       "      <td>51608</td>\n",
       "      <td>60500</td>\n",
       "    </tr>\n",
       "    <tr>\n",
       "      <th>4월08일</th>\n",
       "      <td>78167</td>\n",
       "      <td>81802</td>\n",
       "      <td>55242</td>\n",
       "      <td>62589</td>\n",
       "    </tr>\n",
       "  </tbody>\n",
       "</table>\n",
       "</div>"
      ],
      "text/plain": [
       "국가명      프랑스     중국     영국     이란\n",
       "일자                               \n",
       "4월06일  70478  81708  47806  58226\n",
       "4월07일  74390  81740  51608  60500\n",
       "4월08일  78167  81802  55242  62589"
      ]
     },
     "execution_count": 14,
     "metadata": {},
     "output_type": "execute_result"
    }
   ],
   "source": [
    "# 전치 프레임을 그래프로 그려 보기\n",
    "dataT = data.T\n",
    "dataT"
   ]
  },
  {
   "cell_type": "code",
   "execution_count": 15,
   "metadata": {},
   "outputs": [
    {
     "name": "stdout",
     "output_type": "stream",
     "text": [
      "국가명      프랑스     중국     영국     이란\n",
      "일자                               \n",
      "4월06일  70478  81708  47806  58226\n",
      "4월07일  74390  81740  51608  60500\n",
      "4월08일  78167  81802  55242  62589\n"
     ]
    },
    {
     "data": {
      "text/plain": [
       "<Figure size 640x480 with 0 Axes>"
      ]
     },
     "metadata": {},
     "output_type": "display_data"
    },
    {
     "data": {
      "image/png": "[encoded data removed]",
      "text/plain": [
       "<Figure size 640x480 with 1 Axes>"
      ]
     },
     "metadata": {},
     "output_type": "display_data"
    }
   ],
   "source": [
    "MakeBarChart02(chartdata=dataT, rotation=0, title='일별 국가별 발생 건수')"
   ]
  },
  {
   "cell_type": "code",
   "execution_count": 16,
   "metadata": {},
   "outputs": [
    {
     "name": "stdout",
     "output_type": "stream",
     "text": [
      "일자   4월06일  4월07일  4월08일\n",
      "국가명                     \n",
      "프랑스  70478  74390  78167\n",
      "중국   81708  81740  81802\n",
      "영국   47806  51608  55242\n",
      "이란   58226  60500  62589\n"
     ]
    },
    {
     "data": {
      "text/plain": [
       "<Figure size 640x480 with 0 Axes>"
      ]
     },
     "metadata": {},
     "output_type": "display_data"
    },
    {
     "data": {
      "image/png": "[encoded data removed]",
      "text/plain": [
       "<Figure size 640x480 with 1 Axes>"
      ]
     },
     "metadata": {},
     "output_type": "display_data"
    }
   ],
   "source": [
    "ymax = dataT.sum(axis=1)\n",
    "ymaxlimit = ymax.max() + 10\n",
    "\n",
    "MakeBarChart02(chartdata=data, rotation=0, title='국가별 일별 발생 건수(누적)', \n",
    "               ylim=[0, ymaxlimit], stacked=True, yticks_interval=50000)"
   ]
  },
  {
   "cell_type": "code",
   "execution_count": 17,
   "metadata": {},
   "outputs": [
    {
     "data": {
      "text/plain": [
       "['프랑스', '중국', '영국']"
      ]
     },
     "execution_count": 17,
     "metadata": {},
     "output_type": "execute_result"
    }
   ],
   "source": [
    "data = pd.read_csv(filename, index_col='국가')\n",
    "three = [item for item in data.index if item in ['프랑스', '영국', '중국']]\n",
    "three"
   ]
  },
  {
   "cell_type": "code",
   "execution_count": 18,
   "metadata": {
    "scrolled": true
   },
   "outputs": [
    {
     "data": {
      "text/html": [
       "<div>\n",
       "<style scoped>\n",
       "    .dataframe tbody tr th:only-of-type {\n",
       "        vertical-align: middle;\n",
       "    }\n",
       "\n",
       "    .dataframe tbody tr th {\n",
       "        vertical-align: top;\n",
       "    }\n",
       "\n",
       "    .dataframe thead th {\n",
       "        text-align: right;\n",
       "    }\n",
       "</style>\n",
       "<table border=\"1\" class=\"dataframe\">\n",
       "  <thead>\n",
       "    <tr style=\"text-align: right;\">\n",
       "      <th></th>\n",
       "      <th>4월06일</th>\n",
       "      <th>4월07일</th>\n",
       "      <th>4월08일</th>\n",
       "      <th>4월09일</th>\n",
       "      <th>4월10일</th>\n",
       "      <th>4월11일</th>\n",
       "      <th>4월12일</th>\n",
       "    </tr>\n",
       "    <tr>\n",
       "      <th>국가</th>\n",
       "      <th></th>\n",
       "      <th></th>\n",
       "      <th></th>\n",
       "      <th></th>\n",
       "      <th></th>\n",
       "      <th></th>\n",
       "      <th></th>\n",
       "    </tr>\n",
       "  </thead>\n",
       "  <tbody>\n",
       "    <tr>\n",
       "      <th>프랑스</th>\n",
       "      <td>70478</td>\n",
       "      <td>74390</td>\n",
       "      <td>78167</td>\n",
       "      <td>82048</td>\n",
       "      <td>86334</td>\n",
       "      <td>90276</td>\n",
       "      <td>93790</td>\n",
       "    </tr>\n",
       "    <tr>\n",
       "      <th>중국</th>\n",
       "      <td>81708</td>\n",
       "      <td>81740</td>\n",
       "      <td>81802</td>\n",
       "      <td>81865</td>\n",
       "      <td>81907</td>\n",
       "      <td>81953</td>\n",
       "      <td>82052</td>\n",
       "    </tr>\n",
       "    <tr>\n",
       "      <th>영국</th>\n",
       "      <td>47806</td>\n",
       "      <td>51608</td>\n",
       "      <td>55242</td>\n",
       "      <td>60733</td>\n",
       "      <td>65077</td>\n",
       "      <td>73758</td>\n",
       "      <td>78991</td>\n",
       "    </tr>\n",
       "  </tbody>\n",
       "</table>\n",
       "</div>"
      ],
      "text/plain": [
       "     4월06일  4월07일  4월08일  4월09일  4월10일  4월11일  4월12일\n",
       "국가                                                  \n",
       "프랑스  70478  74390  78167  82048  86334  90276  93790\n",
       "중국   81708  81740  81802  81865  81907  81953  82052\n",
       "영국   47806  51608  55242  60733  65077  73758  78991"
      ]
     },
     "execution_count": 18,
     "metadata": {},
     "output_type": "execute_result"
    }
   ],
   "source": [
    "data = data.loc[three]\n",
    "data"
   ]
  },
  {
   "cell_type": "code",
   "execution_count": 19,
   "metadata": {},
   "outputs": [
    {
     "data": {
      "text/plain": [
       "['4월06일', '4월07일', '4월08일', '4월09일', '4월10일', '4월11일', '4월12일']"
      ]
     },
     "execution_count": 19,
     "metadata": {},
     "output_type": "execute_result"
    }
   ],
   "source": [
    "column_names = data.columns.tolist()\n",
    "column_names"
   ]
  },
  {
   "cell_type": "code",
   "execution_count": 20,
   "metadata": {},
   "outputs": [
    {
     "data": {
      "text/plain": [
       "{'프랑스': array([70478, 74390, 78167, 82048, 86334, 90276, 93790], dtype=int64),\n",
       " '중국': array([81708, 81740, 81802, 81865, 81907, 81953, 82052], dtype=int64),\n",
       " '영국': array([47806, 51608, 55242, 60733, 65077, 73758, 78991], dtype=int64)}"
      ]
     },
     "execution_count": 20,
     "metadata": {},
     "output_type": "execute_result"
    }
   ],
   "source": [
    "# 국가별 numpy 배열을 저장하고 있는 사전\n",
    "chartdata = {}\n",
    "\n",
    "for row in data.index:\n",
    "    # data.loc[row])\n",
    "    # type(row))\n",
    "    chartdata[row] = data.loc[row].values\n",
    "\n",
    "chartdata"
   ]
  },
  {
   "cell_type": "code",
   "execution_count": 38,
   "metadata": {},
   "outputs": [
    {
     "name": "stdout",
     "output_type": "stream",
     "text": [
      "\u001b[1;31mSignature:\u001b[0m\n",
      "\u001b[0mdata\u001b[0m\u001b[1;33m.\u001b[0m\u001b[0mcumsum\u001b[0m\u001b[1;33m(\u001b[0m\u001b[1;33m\n",
      "\u001b[0m    \u001b[0maxis\u001b[0m\u001b[1;33m:\u001b[0m \u001b[1;34m'Axis | None'\u001b[0m \u001b[1;33m=\u001b[0m \u001b[1;32mNone\u001b[0m\u001b[1;33m,\u001b[0m\u001b[1;33m\n",
      "\u001b[0m    \u001b[0mskipna\u001b[0m\u001b[1;33m:\u001b[0m \u001b[1;34m'bool'\u001b[0m \u001b[1;33m=\u001b[0m \u001b[1;32mTrue\u001b[0m\u001b[1;33m,\u001b[0m\u001b[1;33m\n",
      "\u001b[0m    \u001b[1;33m*\u001b[0m\u001b[0margs\u001b[0m\u001b[1;33m,\u001b[0m\u001b[1;33m\n",
      "\u001b[0m    \u001b[1;33m**\u001b[0m\u001b[0mkwargs\u001b[0m\u001b[1;33m,\u001b[0m\u001b[1;33m\n",
      "\u001b[0m\u001b[1;33m)\u001b[0m\u001b[1;33m\u001b[0m\u001b[1;33m\u001b[0m\u001b[0m\n",
      "\u001b[1;31mDocstring:\u001b[0m\n",
      "Return cumulative sum over a DataFrame or Series axis.\n",
      "\n",
      "Returns a DataFrame or Series of the same size containing the cumulative\n",
      "sum.\n",
      "\n",
      "Parameters\n",
      "----------\n",
      "axis : {0 or 'index', 1 or 'columns'}, default 0\n",
      "    The index or the name of the axis. 0 is equivalent to None or 'index'.\n",
      "    For `Series` this parameter is unused and defaults to 0.\n",
      "skipna : bool, default True\n",
      "    Exclude NA/null values. If an entire row/column is NA, the result\n",
      "    will be NA.\n",
      "*args, **kwargs\n",
      "    Additional keywords have no effect but might be accepted for\n",
      "    compatibility with NumPy.\n",
      "\n",
      "Returns\n",
      "-------\n",
      "Series or DataFrame\n",
      "    Return cumulative sum of Series or DataFrame.\n",
      "\n",
      "See Also\n",
      "--------\n",
      "core.window.expanding.Expanding.sum : Similar functionality\n",
      "    but ignores ``NaN`` values.\n",
      "DataFrame.sum : Return the sum over\n",
      "    DataFrame axis.\n",
      "DataFrame.cummax : Return cumulative maximum over DataFrame axis.\n",
      "DataFrame.cummin : Return cumulative minimum over DataFrame axis.\n",
      "DataFrame.cumsum : Return cumulative sum over DataFrame axis.\n",
      "DataFrame.cumprod : Return cumulative product over DataFrame axis.\n",
      "\n",
      "Examples\n",
      "--------\n",
      "**Series**\n",
      "\n",
      ">>> s = pd.Series([2, np.nan, 5, -1, 0])\n",
      ">>> s\n",
      "0    2.0\n",
      "1    NaN\n",
      "2    5.0\n",
      "3   -1.0\n",
      "4    0.0\n",
      "dtype: float64\n",
      "\n",
      "By default, NA values are ignored.\n",
      "\n",
      ">>> s.cumsum()\n",
      "0    2.0\n",
      "1    NaN\n",
      "2    7.0\n",
      "3    6.0\n",
      "4    6.0\n",
      "dtype: float64\n",
      "\n",
      "To include NA values in the operation, use ``skipna=False``\n",
      "\n",
      ">>> s.cumsum(skipna=False)\n",
      "0    2.0\n",
      "1    NaN\n",
      "2    NaN\n",
      "3    NaN\n",
      "4    NaN\n",
      "dtype: float64\n",
      "\n",
      "**DataFrame**\n",
      "\n",
      ">>> df = pd.DataFrame([[2.0, 1.0],\n",
      "...                    [3.0, np.nan],\n",
      "...                    [1.0, 0.0]],\n",
      "...                   columns=list('AB'))\n",
      ">>> df\n",
      "     A    B\n",
      "0  2.0  1.0\n",
      "1  3.0  NaN\n",
      "2  1.0  0.0\n",
      "\n",
      "By default, iterates over rows and finds the sum\n",
      "in each column. This is equivalent to ``axis=None`` or ``axis='index'``.\n",
      "\n",
      ">>> df.cumsum()\n",
      "     A    B\n",
      "0  2.0  1.0\n",
      "1  5.0  NaN\n",
      "2  6.0  1.0\n",
      "\n",
      "To iterate over columns and find the sum in each row,\n",
      "use ``axis=1``\n",
      "\n",
      ">>> df.cumsum(axis=1)\n",
      "     A    B\n",
      "0  2.0  3.0\n",
      "1  3.0  NaN\n",
      "2  1.0  1.0\n",
      "\u001b[1;31mFile:\u001b[0m      d:\\kdt\\anaconda3\\lib\\site-packages\\pandas\\core\\frame.py\n",
      "\u001b[1;31mType:\u001b[0m      method"
     ]
    }
   ],
   "source": [
    "data.cumsum?"
   ]
  },
  {
   "cell_type": "code",
   "execution_count": 21,
   "metadata": {},
   "outputs": [],
   "source": [
    "def MakeBarChart03(chartdata, column_names):\n",
    "    labels = list(chartdata.keys())\n",
    "    \n",
    "    # chartdata의 값을 리스트로 변환한 후 NumPy 배열로 변환하여 data 변수에 저장\n",
    "    data = np.array(list(chartdata.values()))\n",
    "    \n",
    "    #cumsum() 데이터프레임 또는 시리즈의 축을 따라 누적 합계를 반환하는 함수\n",
    "    \n",
    "    data_cum = data.cumsum(axis=1)\n",
    "    category_colors = plt.get_cmap('RdYlGn')(\n",
    "        np.linspace(0.15, 0.85, data.shape[1]))\n",
    "\n",
    "    fig, ax = plt.subplots(figsize=(9.2, 5))\n",
    "    \n",
    "    # invert_yaxis() : 현재 플롯의 Y축을 반전시킨다. 이를 통해 Y축의 값이 높은 쪽에서 낮은 쪽으로 표시되도록 할 수 있다.\n",
    "    ax.invert_yaxis()\n",
    "    \n",
    "    # set_visible(False) : 해당 축을 보이지 않도록 설정\n",
    "    ax.xaxis.set_visible(False)\n",
    "    \n",
    "    # X축의 범위를 0에서 데이터의 각 행의 총합의 최대값으로 설정\n",
    "    ax.set_xlim(0, np.sum(data, axis=1).max())\n",
    "\n",
    "    for i, (colname, color) in enumerate(zip(column_names, category_colors)):\n",
    "        widths = data[:, i]\n",
    "        starts = data_cum[:, i] - widths\n",
    "        ax.barh(labels, widths, left=starts, height=0.5,\n",
    "                label=colname, color=color)\n",
    "        \n",
    "        # 바에 표시할 텍스트의 위치를 결정하기 위해 중심 계산\n",
    "        xcenters = starts + widths / 2\n",
    "\n",
    "        r, g, b, _ = color\n",
    "        text_color = 'white' if r * g * b < 0.5 else 'darkgrey'\n",
    "        for y, (x, c) in enumerate(zip(xcenters, widths)):\n",
    "            ax.text(x, y, str(int(c)), ha='center', va='center',\n",
    "                    color=text_color)\n",
    "    ax.legend(ncol=len(column_names), bbox_to_anchor=(0, 1),\n",
    "              loc='lower left', fontsize='small')\n",
    "\n",
    "\n",
    "    return fig, ax\n",
    "# end def MakeBarChart03"
   ]
  },
  {
   "cell_type": "code",
   "execution_count": 22,
   "metadata": {
    "scrolled": true
   },
   "outputs": [
    {
     "data": {
      "text/plain": [
       "(<Figure size 920x500 with 1 Axes>, <Axes: >)"
      ]
     },
     "execution_count": 22,
     "metadata": {},
     "output_type": "execute_result"
    },
    {
     "data": {
      "image/png": "[encoded data removed]",
      "text/plain": [
       "<Figure size 920x500 with 1 Axes>"
      ]
     },
     "metadata": {},
     "output_type": "display_data"
    }
   ],
   "source": [
    "MakeBarChart03(chartdata, column_names)"
   ]
  },
  {
   "cell_type": "code",
   "execution_count": 23,
   "metadata": {},
   "outputs": [],
   "source": [
    "def MakeBarChart04(chartdata, suptitle):\n",
    "    fig, axes = plt.subplots(nrows=2, ncols=1)  # 2행 1열\n",
    "\n",
    "    chartdata.plot(kind='bar', ax=axes[0], rot=0, alpha=0.7)\n",
    "\n",
    "    # color='m'은 자홍색\n",
    "    chartdata.plot(kind='barh', ax=axes[1], color='m', alpha=0.7)\n",
    "\n",
    "    fig.suptitle(suptitle)  # sup : super\n",
    "\n",
    "# end def MakeBarChart04"
   ]
  },
  {
   "cell_type": "code",
   "execution_count": 24,
   "metadata": {},
   "outputs": [
    {
     "data": {
      "text/html": [
       "<div>\n",
       "<style scoped>\n",
       "    .dataframe tbody tr th:only-of-type {\n",
       "        vertical-align: middle;\n",
       "    }\n",
       "\n",
       "    .dataframe tbody tr th {\n",
       "        vertical-align: top;\n",
       "    }\n",
       "\n",
       "    .dataframe thead th {\n",
       "        text-align: right;\n",
       "    }\n",
       "</style>\n",
       "<table border=\"1\" class=\"dataframe\">\n",
       "  <thead>\n",
       "    <tr style=\"text-align: right;\">\n",
       "      <th>국가</th>\n",
       "      <th>미국</th>\n",
       "    </tr>\n",
       "  </thead>\n",
       "  <tbody>\n",
       "    <tr>\n",
       "      <th>4월06일</th>\n",
       "      <td>335524</td>\n",
       "    </tr>\n",
       "    <tr>\n",
       "      <th>4월07일</th>\n",
       "      <td>364723</td>\n",
       "    </tr>\n",
       "    <tr>\n",
       "      <th>4월08일</th>\n",
       "      <td>387547</td>\n",
       "    </tr>\n",
       "    <tr>\n",
       "      <th>4월09일</th>\n",
       "      <td>424945</td>\n",
       "    </tr>\n",
       "    <tr>\n",
       "      <th>4월10일</th>\n",
       "      <td>461437</td>\n",
       "    </tr>\n",
       "    <tr>\n",
       "      <th>4월11일</th>\n",
       "      <td>495535</td>\n",
       "    </tr>\n",
       "    <tr>\n",
       "      <th>4월12일</th>\n",
       "      <td>524903</td>\n",
       "    </tr>\n",
       "  </tbody>\n",
       "</table>\n",
       "</div>"
      ],
      "text/plain": [
       "국가         미국\n",
       "4월06일  335524\n",
       "4월07일  364723\n",
       "4월08일  387547\n",
       "4월09일  424945\n",
       "4월10일  461437\n",
       "4월11일  495535\n",
       "4월12일  524903"
      ]
     },
     "execution_count": 24,
     "metadata": {},
     "output_type": "execute_result"
    }
   ],
   "source": [
    "data = pd.read_csv(filename, index_col='국가')\n",
    "only_usa = [item for item in data.index if item in ['미국']]\n",
    "\n",
    "data = data.loc[only_usa].T\n",
    "data"
   ]
  },
  {
   "cell_type": "code",
   "execution_count": 25,
   "metadata": {},
   "outputs": [
    {
     "data": {
      "image/png": "[encoded data removed]",
      "text/plain": [
       "<Figure size 640x480 with 2 Axes>"
      ]
     },
     "metadata": {},
     "output_type": "display_data"
    }
   ],
   "source": [
    "MakeBarChart04(chartdata=data, suptitle='서브 플로팅')"
   ]
  },
  {
   "cell_type": "code",
   "execution_count": 26,
   "metadata": {},
   "outputs": [
    {
     "data": {
      "text/plain": [
       "Index(['4월06일', '4월07일', '4월08일', '4월09일', '4월10일', '4월11일', '4월12일'], dtype='object')"
      ]
     },
     "execution_count": 26,
     "metadata": {},
     "output_type": "execute_result"
    }
   ],
   "source": [
    "# 엑셀처럼 Table이 존재하는 Bar Chart 그리기\n",
    "data = pd.read_csv(filename, index_col='국가')\n",
    "data.columns"
   ]
  },
  {
   "cell_type": "code",
   "execution_count": 27,
   "metadata": {},
   "outputs": [
    {
     "data": {
      "text/html": [
       "<div>\n",
       "<style scoped>\n",
       "    .dataframe tbody tr th:only-of-type {\n",
       "        vertical-align: middle;\n",
       "    }\n",
       "\n",
       "    .dataframe tbody tr th {\n",
       "        vertical-align: top;\n",
       "    }\n",
       "\n",
       "    .dataframe thead th {\n",
       "        text-align: right;\n",
       "    }\n",
       "</style>\n",
       "<table border=\"1\" class=\"dataframe\">\n",
       "  <thead>\n",
       "    <tr style=\"text-align: right;\">\n",
       "      <th></th>\n",
       "      <th>4월06일</th>\n",
       "      <th>4월07일</th>\n",
       "      <th>4월08일</th>\n",
       "      <th>4월09일</th>\n",
       "      <th>4월10일</th>\n",
       "    </tr>\n",
       "    <tr>\n",
       "      <th>국가</th>\n",
       "      <th></th>\n",
       "      <th></th>\n",
       "      <th></th>\n",
       "      <th></th>\n",
       "      <th></th>\n",
       "    </tr>\n",
       "  </thead>\n",
       "  <tbody>\n",
       "    <tr>\n",
       "      <th>스페인</th>\n",
       "      <td>130709</td>\n",
       "      <td>135032</td>\n",
       "      <td>140510</td>\n",
       "      <td>146690</td>\n",
       "      <td>152446</td>\n",
       "    </tr>\n",
       "    <tr>\n",
       "      <th>프랑스</th>\n",
       "      <td>70478</td>\n",
       "      <td>74390</td>\n",
       "      <td>78167</td>\n",
       "      <td>82048</td>\n",
       "      <td>86334</td>\n",
       "    </tr>\n",
       "    <tr>\n",
       "      <th>중국</th>\n",
       "      <td>81708</td>\n",
       "      <td>81740</td>\n",
       "      <td>81802</td>\n",
       "      <td>81865</td>\n",
       "      <td>81907</td>\n",
       "    </tr>\n",
       "    <tr>\n",
       "      <th>영국</th>\n",
       "      <td>47806</td>\n",
       "      <td>51608</td>\n",
       "      <td>55242</td>\n",
       "      <td>60733</td>\n",
       "      <td>65077</td>\n",
       "    </tr>\n",
       "    <tr>\n",
       "      <th>이란</th>\n",
       "      <td>58226</td>\n",
       "      <td>60500</td>\n",
       "      <td>62589</td>\n",
       "      <td>64586</td>\n",
       "      <td>66220</td>\n",
       "    </tr>\n",
       "  </tbody>\n",
       "</table>\n",
       "</div>"
      ],
      "text/plain": [
       "      4월06일   4월07일   4월08일   4월09일   4월10일\n",
       "국가                                         \n",
       "스페인  130709  135032  140510  146690  152446\n",
       "프랑스   70478   74390   78167   82048   86334\n",
       "중국    81708   81740   81802   81865   81907\n",
       "영국    47806   51608   55242   60733   65077\n",
       "이란    58226   60500   62589   64586   66220"
      ]
     },
     "execution_count": 27,
     "metadata": {},
     "output_type": "execute_result"
    }
   ],
   "source": [
    "COUNTRY = ['스페인', '프랑스', '중국', '영국', '이란']\n",
    "WHEN = ['4월06일', '4월07일', '4월08일', '4월09일', '4월10일']\n",
    "data = data.loc[COUNTRY, WHEN]\n",
    "data"
   ]
  },
  {
   "cell_type": "code",
   "execution_count": 28,
   "metadata": {},
   "outputs": [
    {
     "data": {
      "text/plain": [
       "['스페인', '프랑스', '중국', '영국', '이란']"
      ]
     },
     "execution_count": 28,
     "metadata": {},
     "output_type": "execute_result"
    }
   ],
   "source": [
    "# rows : 테이블에 보이는 행 색인 내용\n",
    "rows = [x for x in data.index]\n",
    "rows"
   ]
  },
  {
   "cell_type": "code",
   "execution_count": 29,
   "metadata": {},
   "outputs": [
    {
     "data": {
      "text/plain": [
       "['4월06일', '4월07일', '4월08일', '4월09일', '4월10일']"
      ]
     },
     "execution_count": 29,
     "metadata": {},
     "output_type": "execute_result"
    }
   ],
   "source": [
    "# columns : 테이블에 보이는 열 색인 내용\n",
    "columns = [x for x in data.columns]\n",
    "columns"
   ]
  },
  {
   "cell_type": "code",
   "execution_count": 30,
   "metadata": {},
   "outputs": [
    {
     "data": {
      "text/plain": [
       "152446"
      ]
     },
     "execution_count": 30,
     "metadata": {},
     "output_type": "execute_result"
    }
   ],
   "source": [
    "max(data.max())"
   ]
  },
  {
   "cell_type": "code",
   "execution_count": 31,
   "metadata": {},
   "outputs": [
    {
     "data": {
      "text/plain": [
       "5"
      ]
     },
     "execution_count": 31,
     "metadata": {},
     "output_type": "execute_result"
    }
   ],
   "source": [
    "n_rows = len(data) # 행 수\n",
    "n_rows"
   ]
  },
  {
   "cell_type": "code",
   "execution_count": 32,
   "metadata": {},
   "outputs": [
    {
     "data": {
      "text/plain": [
       "array([0.3, 1.3, 2.3, 3.3, 4.3])"
      ]
     },
     "execution_count": 32,
     "metadata": {},
     "output_type": "execute_result"
    }
   ],
   "source": [
    "LEFT_MARGIN = 0.3\n",
    "index = np.arange(len(columns)) + LEFT_MARGIN\n",
    "index"
   ]
  },
  {
   "cell_type": "code",
   "execution_count": 33,
   "metadata": {},
   "outputs": [
    {
     "data": {
      "text/plain": [
       "array([0., 0., 0., 0., 0.])"
      ]
     },
     "execution_count": 33,
     "metadata": {},
     "output_type": "execute_result"
    }
   ],
   "source": [
    "bar_width = 1 - 2 * LEFT_MARGIN # 막대 그래프의 너비\n",
    "\n",
    "# Initialize the vertical-offset for the stacked bar chart.\n",
    "y_offset = np.zeros(len(columns))\n",
    "y_offset"
   ]
  },
  {
   "cell_type": "code",
   "execution_count": 34,
   "metadata": {},
   "outputs": [
    {
     "name": "stdout",
     "output_type": "stream",
     "text": [
      "[130709, 135032, 140510, 146690, 152446]\n",
      "[130709. 135032. 140510. 146690. 152446.]\n",
      "[70478, 74390, 78167, 82048, 86334]\n",
      "[201187. 209422. 218677. 228738. 238780.]\n",
      "[81708, 81740, 81802, 81865, 81907]\n",
      "[282895. 291162. 300479. 310603. 320687.]\n",
      "[47806, 51608, 55242, 60733, 65077]\n",
      "[330701. 342770. 355721. 371336. 385764.]\n",
      "[58226, 60500, 62589, 64586, 66220]\n",
      "[388927. 403270. 418310. 435922. 451984.]\n"
     ]
    },
    {
     "data": {
      "text/plain": [
       "Text(0.5, 1.0, '테이블이 있는 막대 그래프')"
      ]
     },
     "execution_count": 34,
     "metadata": {},
     "output_type": "execute_result"
    },
    {
     "data": {
      "image/png": "[encoded data removed]",
      "text/plain": [
       "<Figure size 1000x600 with 1 Axes>"
      ]
     },
     "metadata": {},
     "output_type": "display_data"
    }
   ],
   "source": [
    "# Plot bars and create text labels for the table\n",
    "cell_text = [] # 표에 들어 가는 텍스트 내용\n",
    "plt.figure(figsize=(10, 6))\n",
    "\n",
    "for row in data.index:\n",
    "    # print(data[row])\n",
    "    chartdata = data.loc[row].tolist()\n",
    "    print(chartdata)\n",
    "\n",
    "    # bottom\n",
    "    plt.bar(index, chartdata, bar_width, bottom=y_offset, label=row)\n",
    "\n",
    "    # y_offset에는 열 단위로 누적된 값이 들어 갑니다.\n",
    "    y_offset = y_offset + chartdata\n",
    "    # y_offset = chartdata\n",
    "    print(y_offset)\n",
    "\n",
    "    cell_text.append([format(x, ',') for x in chartdata])\n",
    "    # cell_text.append([format(x, ',') for x in y_offset])\n",
    "# end for\n",
    "\n",
    "the_table = plt.table(cellText=cell_text, rowLabels=rows, colLabels=columns, loc='bottom')\n",
    "\n",
    "plt.legend(loc='best')\n",
    "# Adjust layout to make room for the table:\n",
    "plt.subplots_adjust(left=0.2, bottom=0.2)\n",
    "\n",
    "plt.ylabel(\"발생 건수\")\n",
    "\n",
    "# values : y축의 눈금의 상한 값과 간격 지정하기\n",
    "YTICKS_INTERVAL = 50000 # 단위 눈금 간격\n",
    "maxlim = (int(y_offset.max()/YTICKS_INTERVAL)+1)*YTICKS_INTERVAL\n",
    "maxlim\n",
    "\n",
    "values = np.arange(0, maxlim, YTICKS_INTERVAL)\n",
    "\n",
    "plt.yticks(values, ['%s' % format(val, ',') for val in values])\n",
    "plt.xticks([])\n",
    "plt.title('테이블이 있는 막대 그래프')"
   ]
  },
  {
   "cell_type": "code",
   "execution_count": 35,
   "metadata": {},
   "outputs": [
    {
     "data": {
      "text/plain": [
       "['이란', '영국', '중국', '프랑스', '스페인']"
      ]
     },
     "execution_count": 35,
     "metadata": {},
     "output_type": "execute_result"
    }
   ],
   "source": [
    "cell_text.reverse()\n",
    "rows = [rows[idx] for idx in range(len(rows) - 1, -1, -1) ]\n",
    "rows"
   ]
  },
  {
   "cell_type": "code",
   "execution_count": 36,
   "metadata": {},
   "outputs": [
    {
     "data": {
      "text/plain": [
       "['b', 'g', 'r', 'c', 'm', 'y', 'k']"
      ]
     },
     "execution_count": 36,
     "metadata": {},
     "output_type": "execute_result"
    }
   ],
   "source": [
    "colors"
   ]
  },
  {
   "cell_type": "code",
   "execution_count": 37,
   "metadata": {},
   "outputs": [
    {
     "data": {
      "text/plain": [
       "[['58,226', '60,500', '62,589', '64,586', '66,220'],\n",
       " ['47,806', '51,608', '55,242', '60,733', '65,077'],\n",
       " ['81,708', '81,740', '81,802', '81,865', '81,907'],\n",
       " ['70,478', '74,390', '78,167', '82,048', '86,334'],\n",
       " ['130,709', '135,032', '140,510', '146,690', '152,446']]"
      ]
     },
     "execution_count": 37,
     "metadata": {},
     "output_type": "execute_result"
    }
   ],
   "source": [
    "cell_text"
   ]
  },
  {
   "cell_type": "code",
   "execution_count": null,
   "metadata": {},
   "outputs": [],
   "source": []
  },
  {
   "cell_type": "code",
   "execution_count": null,
   "metadata": {},
   "outputs": [],
   "source": []
  },
  {
   "cell_type": "code",
   "execution_count": null,
   "metadata": {},
   "outputs": [],
   "source": []
  }
 ],
 "metadata": {
  "kernelspec": {
   "display_name": "base",
   "language": "python",
   "name": "python3"
  },
  "language_info": {
   "codemirror_mode": {
    "name": "ipython",
    "version": 3
   },
   "file_extension": ".py",
   "mimetype": "text/x-python",
   "name": "python",
   "nbconvert_exporter": "python",
   "pygments_lexer": "ipython3",
   "version": "3.12.7"
  }
 },
 "nbformat": 4,
 "nbformat_minor": 4
}
