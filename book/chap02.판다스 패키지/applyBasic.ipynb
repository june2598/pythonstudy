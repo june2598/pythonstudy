{
 "cells": [
  {
   "cell_type": "code",
   "execution_count": 13,
   "metadata": {},
   "outputs": [],
   "source": [
    "import pandas as pd"
   ]
  },
  {
   "cell_type": "code",
   "execution_count": 14,
   "metadata": {},
   "outputs": [
    {
     "data": {
      "text/html": [
       "<div>\n",
       "<style scoped>\n",
       "    .dataframe tbody tr th:only-of-type {\n",
       "        vertical-align: middle;\n",
       "    }\n",
       "\n",
       "    .dataframe tbody tr th {\n",
       "        vertical-align: top;\n",
       "    }\n",
       "\n",
       "    .dataframe thead th {\n",
       "        text-align: right;\n",
       "    }\n",
       "</style>\n",
       "<table border=\"1\" class=\"dataframe\">\n",
       "  <thead>\n",
       "    <tr style=\"text-align: right;\">\n",
       "      <th></th>\n",
       "      <th>kor</th>\n",
       "      <th>eng</th>\n",
       "    </tr>\n",
       "    <tr>\n",
       "      <th>id</th>\n",
       "      <th></th>\n",
       "      <th></th>\n",
       "    </tr>\n",
       "  </thead>\n",
       "  <tbody>\n",
       "    <tr>\n",
       "      <th>김철수</th>\n",
       "      <td>60</td>\n",
       "      <td>70</td>\n",
       "    </tr>\n",
       "    <tr>\n",
       "      <th>홍길동</th>\n",
       "      <td>70</td>\n",
       "      <td>75</td>\n",
       "    </tr>\n",
       "    <tr>\n",
       "      <th>박영희</th>\n",
       "      <td>80</td>\n",
       "      <td>80</td>\n",
       "    </tr>\n",
       "  </tbody>\n",
       "</table>\n",
       "</div>"
      ],
      "text/plain": [
       "     kor  eng\n",
       "id           \n",
       "김철수   60   70\n",
       "홍길동   70   75\n",
       "박영희   80   80"
      ]
     },
     "execution_count": 14,
     "metadata": {},
     "output_type": "execute_result"
    }
   ],
   "source": [
    "filename = './../data/memberInfo.csv'\n",
    "df = pd.read_csv(filename, index_col='id')\n",
    "df\n",
    "\n",
    "#눈에보이는건 인덱스 '이름', 물리적인 인덱스 번호는 기본적으로 보이지 않음\n",
    "# df = pd.read_csv(filename)\n",
    "# df"
   ]
  },
  {
   "cell_type": "code",
   "execution_count": 15,
   "metadata": {},
   "outputs": [
    {
     "data": {
      "text/plain": [
       "Index(['kor', 'eng'], dtype='object')"
      ]
     },
     "execution_count": 15,
     "metadata": {},
     "output_type": "execute_result"
    }
   ],
   "source": [
    "df.columns"
   ]
  },
  {
   "cell_type": "code",
   "execution_count": 16,
   "metadata": {},
   "outputs": [
    {
     "data": {
      "text/plain": [
       "pandas.core.indexes.base.Index"
      ]
     },
     "execution_count": 16,
     "metadata": {},
     "output_type": "execute_result"
    }
   ],
   "source": [
    "type(df.index)"
   ]
  },
  {
   "cell_type": "code",
   "execution_count": 17,
   "metadata": {},
   "outputs": [
    {
     "data": {
      "text/plain": [
       "Index(['김철수', '홍길동', '박영희'], dtype='object', name='id')"
      ]
     },
     "execution_count": 17,
     "metadata": {},
     "output_type": "execute_result"
    }
   ],
   "source": [
    "df.index"
   ]
  },
  {
   "cell_type": "code",
   "execution_count": 18,
   "metadata": {},
   "outputs": [
    {
     "data": {
      "text/plain": [
       "numpy.ndarray"
      ]
     },
     "execution_count": 18,
     "metadata": {},
     "output_type": "execute_result"
    }
   ],
   "source": [
    "type(df.values)"
   ]
  },
  {
   "cell_type": "code",
   "execution_count": 19,
   "metadata": {},
   "outputs": [
    {
     "data": {
      "text/plain": [
       "array([[60, 70],\n",
       "       [70, 75],\n",
       "       [80, 80]], dtype=int64)"
      ]
     },
     "execution_count": 19,
     "metadata": {},
     "output_type": "execute_result"
    }
   ],
   "source": [
    "df.values"
   ]
  },
  {
   "cell_type": "code",
   "execution_count": 20,
   "metadata": {},
   "outputs": [
    {
     "name": "stdout",
     "output_type": "stream",
     "text": [
      "시리즈와 apply 메서드\n"
     ]
    }
   ],
   "source": [
    "print('시리즈와 apply 메서드')"
   ]
  },
  {
   "cell_type": "code",
   "execution_count": 21,
   "metadata": {},
   "outputs": [
    {
     "name": "stdout",
     "output_type": "stream",
     "text": [
      "일반적인 산술 연산\n"
     ]
    },
    {
     "data": {
      "text/plain": [
       "id\n",
       "김철수    65\n",
       "홍길동    75\n",
       "박영희    85\n",
       "Name: kor, dtype: int64"
      ]
     },
     "execution_count": 21,
     "metadata": {},
     "output_type": "execute_result"
    }
   ],
   "source": [
    "print( '일반적인 산술 연산' )\n",
    "df['kor'] + 5"
   ]
  },
  {
   "cell_type": "code",
   "execution_count": 22,
   "metadata": {},
   "outputs": [],
   "source": [
    "def plus5(x):\n",
    "    return x + 5"
   ]
  },
  {
   "cell_type": "code",
   "execution_count": 23,
   "metadata": {},
   "outputs": [
    {
     "name": "stdout",
     "output_type": "stream",
     "text": [
      "apply 함수를 적용한 결과\n"
     ]
    },
    {
     "data": {
      "text/plain": [
       "id\n",
       "김철수    65\n",
       "홍길동    75\n",
       "박영희    85\n",
       "Name: kor, dtype: int64"
      ]
     },
     "execution_count": 23,
     "metadata": {},
     "output_type": "execute_result"
    }
   ],
   "source": [
    "print('apply 함수를 적용한 결과')\n",
    "sq = df['kor'].apply(plus5) \n",
    "sq"
   ]
  },
  {
   "cell_type": "code",
   "execution_count": 24,
   "metadata": {},
   "outputs": [],
   "source": [
    "def gob(x, n):\n",
    "    return n * x"
   ]
  },
  {
   "cell_type": "code",
   "execution_count": 25,
   "metadata": {},
   "outputs": [
    {
     "data": {
      "text/plain": [
       "id\n",
       "김철수    120\n",
       "홍길동    140\n",
       "박영희    160\n",
       "Name: kor, dtype: int64"
      ]
     },
     "execution_count": 25,
     "metadata": {},
     "output_type": "execute_result"
    }
   ],
   "source": [
    "ex = df['kor'].apply(gob, n=2) \n",
    "ex"
   ]
  },
  {
   "cell_type": "code",
   "execution_count": 26,
   "metadata": {},
   "outputs": [
    {
     "data": {
      "text/plain": [
       "id\n",
       "김철수    180\n",
       "홍길동    210\n",
       "박영희    240\n",
       "Name: kor, dtype: int64"
      ]
     },
     "execution_count": 26,
     "metadata": {},
     "output_type": "execute_result"
    }
   ],
   "source": [
    "ex = df['kor'].apply(gob, n=3) \n",
    "ex"
   ]
  },
  {
   "cell_type": "code",
   "execution_count": 11,
   "metadata": {},
   "outputs": [],
   "source": [
    "# 매개변수가 단일값이 input이 아님. (series)\n",
    "def applyByColumn(col):\n",
    "    mysum = 0\n",
    "    for item in col:\n",
    "        mysum += item\n",
    "    return mysum / df.shape[0]\n",
    "\n",
    "#df.shape[0] : 행의 갯수"
   ]
  },
  {
   "cell_type": "code",
   "execution_count": 12,
   "metadata": {},
   "outputs": [
    {
     "data": {
      "text/plain": [
       "kor    70.0\n",
       "eng    75.0\n",
       "dtype: float64"
      ]
     },
     "execution_count": 12,
     "metadata": {},
     "output_type": "execute_result"
    }
   ],
   "source": [
    "# 데이터프레임 대상으로 apply를 적용할땐 축이 등장\n",
    "# apply는 series단위\n",
    "\n",
    "df.apply(applyByColumn, axis = 0)"
   ]
  },
  {
   "cell_type": "code",
   "execution_count": 13,
   "metadata": {},
   "outputs": [],
   "source": [
    "def applyByRow(row):\n",
    "    mysum = 0\n",
    "    for item in row:\n",
    "        mysum += item\n",
    "    return mysum / df.shape[1] \n",
    "\n",
    "#df.shape[1] : 열의 갯수"
   ]
  },
  {
   "cell_type": "code",
   "execution_count": 14,
   "metadata": {},
   "outputs": [
    {
     "data": {
      "text/plain": [
       "id\n",
       "김철수    65.0\n",
       "홍길동    72.5\n",
       "박영희    80.0\n",
       "dtype: float64"
      ]
     },
     "execution_count": 14,
     "metadata": {},
     "output_type": "execute_result"
    }
   ],
   "source": [
    "df.apply(applyByRow, axis = 1)"
   ]
  },
  {
   "cell_type": "code",
   "execution_count": 27,
   "metadata": {},
   "outputs": [
    {
     "data": {
      "text/plain": [
       "\u001b[1;31mSignature:\u001b[0m \u001b[0mdf\u001b[0m\u001b[1;33m.\u001b[0m\u001b[0mmap\u001b[0m\u001b[1;33m(\u001b[0m\u001b[0mfunc\u001b[0m\u001b[1;33m:\u001b[0m \u001b[1;34m'PythonFuncType'\u001b[0m\u001b[1;33m,\u001b[0m \u001b[0mna_action\u001b[0m\u001b[1;33m:\u001b[0m \u001b[1;34m'str | None'\u001b[0m \u001b[1;33m=\u001b[0m \u001b[1;32mNone\u001b[0m\u001b[1;33m,\u001b[0m \u001b[1;33m**\u001b[0m\u001b[0mkwargs\u001b[0m\u001b[1;33m)\u001b[0m \u001b[1;33m->\u001b[0m \u001b[1;34m'DataFrame'\u001b[0m\u001b[1;33m\u001b[0m\u001b[1;33m\u001b[0m\u001b[0m\n",
       "\u001b[1;31mDocstring:\u001b[0m\n",
       "Apply a function to a Dataframe elementwise.\n",
       "\n",
       ".. versionadded:: 2.1.0\n",
       "\n",
       "   DataFrame.applymap was deprecated and renamed to DataFrame.map.\n",
       "\n",
       "This method applies a function that accepts and returns a scalar\n",
       "to every element of a DataFrame.\n",
       "\n",
       "Parameters\n",
       "----------\n",
       "func : callable\n",
       "    Python function, returns a single value from a single value.\n",
       "na_action : {None, 'ignore'}, default None\n",
       "    If 'ignore', propagate NaN values, without passing them to func.\n",
       "**kwargs\n",
       "    Additional keyword arguments to pass as keywords arguments to\n",
       "    `func`.\n",
       "\n",
       "Returns\n",
       "-------\n",
       "DataFrame\n",
       "    Transformed DataFrame.\n",
       "\n",
       "See Also\n",
       "--------\n",
       "DataFrame.apply : Apply a function along input axis of DataFrame.\n",
       "DataFrame.replace: Replace values given in `to_replace` with `value`.\n",
       "Series.map : Apply a function elementwise on a Series.\n",
       "\n",
       "Examples\n",
       "--------\n",
       ">>> df = pd.DataFrame([[1, 2.12], [3.356, 4.567]])\n",
       ">>> df\n",
       "       0      1\n",
       "0  1.000  2.120\n",
       "1  3.356  4.567\n",
       "\n",
       ">>> df.map(lambda x: len(str(x)))\n",
       "   0  1\n",
       "0  3  4\n",
       "1  5  5\n",
       "\n",
       "Like Series.map, NA values can be ignored:\n",
       "\n",
       ">>> df_copy = df.copy()\n",
       ">>> df_copy.iloc[0, 0] = pd.NA\n",
       ">>> df_copy.map(lambda x: len(str(x)), na_action='ignore')\n",
       "     0  1\n",
       "0  NaN  4\n",
       "1  5.0  5\n",
       "\n",
       "It is also possible to use `map` with functions that are not\n",
       "`lambda` functions:\n",
       "\n",
       ">>> df.map(round, ndigits=1)\n",
       "     0    1\n",
       "0  1.0  2.1\n",
       "1  3.4  4.6\n",
       "\n",
       "Note that a vectorized version of `func` often exists, which will\n",
       "be much faster. You could square each number elementwise.\n",
       "\n",
       ">>> df.map(lambda x: x**2)\n",
       "           0          1\n",
       "0   1.000000   4.494400\n",
       "1  11.262736  20.857489\n",
       "\n",
       "But it's better to avoid map in that case.\n",
       "\n",
       ">>> df ** 2\n",
       "           0          1\n",
       "0   1.000000   4.494400\n",
       "1  11.262736  20.857489\n",
       "\u001b[1;31mFile:\u001b[0m      d:\\kdt\\anaconda3\\lib\\site-packages\\pandas\\core\\frame.py\n",
       "\u001b[1;31mType:\u001b[0m      method"
      ]
     },
     "metadata": {},
     "output_type": "display_data"
    }
   ],
   "source": [
    "df.map?"
   ]
  },
  {
   "cell_type": "code",
   "execution_count": 28,
   "metadata": {},
   "outputs": [
    {
     "data": {
      "text/html": [
       "<div>\n",
       "<style scoped>\n",
       "    .dataframe tbody tr th:only-of-type {\n",
       "        vertical-align: middle;\n",
       "    }\n",
       "\n",
       "    .dataframe tbody tr th {\n",
       "        vertical-align: top;\n",
       "    }\n",
       "\n",
       "    .dataframe thead th {\n",
       "        text-align: right;\n",
       "    }\n",
       "</style>\n",
       "<table border=\"1\" class=\"dataframe\">\n",
       "  <thead>\n",
       "    <tr style=\"text-align: right;\">\n",
       "      <th></th>\n",
       "      <th>kor</th>\n",
       "      <th>eng</th>\n",
       "    </tr>\n",
       "    <tr>\n",
       "      <th>id</th>\n",
       "      <th></th>\n",
       "      <th></th>\n",
       "    </tr>\n",
       "  </thead>\n",
       "  <tbody>\n",
       "    <tr>\n",
       "      <th>김철수</th>\n",
       "      <td>60</td>\n",
       "      <td>70</td>\n",
       "    </tr>\n",
       "    <tr>\n",
       "      <th>홍길동</th>\n",
       "      <td>70</td>\n",
       "      <td>75</td>\n",
       "    </tr>\n",
       "    <tr>\n",
       "      <th>박영희</th>\n",
       "      <td>80</td>\n",
       "      <td>80</td>\n",
       "    </tr>\n",
       "  </tbody>\n",
       "</table>\n",
       "</div>"
      ],
      "text/plain": [
       "     kor  eng\n",
       "id           \n",
       "김철수   60   70\n",
       "홍길동   70   75\n",
       "박영희   80   80"
      ]
     },
     "execution_count": 28,
     "metadata": {},
     "output_type": "execute_result"
    }
   ],
   "source": [
    "df"
   ]
  },
  {
   "cell_type": "code",
   "execution_count": 30,
   "metadata": {},
   "outputs": [],
   "source": [
    "#map은 모든 단일요소에 각각 적용되기때문에 axis가 필요없다."
   ]
  },
  {
   "cell_type": "code",
   "execution_count": 29,
   "metadata": {},
   "outputs": [
    {
     "data": {
      "text/html": [
       "<div>\n",
       "<style scoped>\n",
       "    .dataframe tbody tr th:only-of-type {\n",
       "        vertical-align: middle;\n",
       "    }\n",
       "\n",
       "    .dataframe tbody tr th {\n",
       "        vertical-align: top;\n",
       "    }\n",
       "\n",
       "    .dataframe thead th {\n",
       "        text-align: right;\n",
       "    }\n",
       "</style>\n",
       "<table border=\"1\" class=\"dataframe\">\n",
       "  <thead>\n",
       "    <tr style=\"text-align: right;\">\n",
       "      <th></th>\n",
       "      <th>kor</th>\n",
       "      <th>eng</th>\n",
       "    </tr>\n",
       "    <tr>\n",
       "      <th>id</th>\n",
       "      <th></th>\n",
       "      <th></th>\n",
       "    </tr>\n",
       "  </thead>\n",
       "  <tbody>\n",
       "    <tr>\n",
       "      <th>김철수</th>\n",
       "      <td>120</td>\n",
       "      <td>140</td>\n",
       "    </tr>\n",
       "    <tr>\n",
       "      <th>홍길동</th>\n",
       "      <td>140</td>\n",
       "      <td>150</td>\n",
       "    </tr>\n",
       "    <tr>\n",
       "      <th>박영희</th>\n",
       "      <td>160</td>\n",
       "      <td>160</td>\n",
       "    </tr>\n",
       "  </tbody>\n",
       "</table>\n",
       "</div>"
      ],
      "text/plain": [
       "     kor  eng\n",
       "id           \n",
       "김철수  120  140\n",
       "홍길동  140  150\n",
       "박영희  160  160"
      ]
     },
     "execution_count": 29,
     "metadata": {},
     "output_type": "execute_result"
    }
   ],
   "source": [
    "df.map(lambda x : x * 2)"
   ]
  }
 ],
 "metadata": {
  "anaconda-cloud": {},
  "kernelspec": {
   "display_name": "Python 3 (ipykernel)",
   "language": "python",
   "name": "python3"
  },
  "language_info": {
   "codemirror_mode": {
    "name": "ipython",
    "version": 3
   },
   "file_extension": ".py",
   "mimetype": "text/x-python",
   "name": "python",
   "nbconvert_exporter": "python",
   "pygments_lexer": "ipython3",
   "version": "3.12.7"
  }
 },
 "nbformat": 4,
 "nbformat_minor": 4
}
