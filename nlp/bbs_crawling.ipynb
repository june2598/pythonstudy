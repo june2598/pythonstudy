{
 "cells": [
  {
   "cell_type": "code",
   "execution_count": 58,
   "metadata": {},
   "outputs": [],
   "source": [
    "from selenium import webdriver\n",
    "from selenium.webdriver.chrome.options import Options\n",
    "from selenium.webdriver.common.by import By\n",
    "from selenium.webdriver.support.ui import WebDriverWait\n",
    "from selenium.webdriver.support import expected_conditions as EC\n",
    "import pandas as pd\n",
    "from bs4 import BeautifulSoup\n",
    "from selenium.common.exceptions import NoSuchElementException"
   ]
  },
  {
   "cell_type": "code",
   "execution_count": 59,
   "metadata": {},
   "outputs": [],
   "source": [
    "url = 'https://finance.naver.com/sise/etf.naver'"
   ]
  },
  {
   "cell_type": "code",
   "execution_count": 60,
   "metadata": {},
   "outputs": [],
   "source": [
    "# 브라우저 종료 방지 옵션\n",
    "chrome_options = Options()\n",
    "chrome_options.add_experimental_option('detach', True)\n",
    "\n",
    "driver = webdriver.Chrome(options=chrome_options)"
   ]
  },
  {
   "cell_type": "code",
   "execution_count": 61,
   "metadata": {},
   "outputs": [],
   "source": [
    "driver.get(url)\n",
    "driver.implicitly_wait(2)\n",
    "soup = BeautifulSoup(driver.page_source, 'lxml')"
   ]
  },
  {
   "cell_type": "code",
   "execution_count": 62,
   "metadata": {},
   "outputs": [],
   "source": [
    "etf_name = 'SOL 조선TOP3플러스'\n",
    "start_date = '2024.08.01' # input('시작일을 입력하세요 (YYYY.MM.DD): ')\n",
    "end_date = '2025.01.09' # input('종료일을 입력하세요 (YYYY.MM.DD): ')"
   ]
  },
  {
   "cell_type": "code",
   "execution_count": 63,
   "metadata": {},
   "outputs": [
    {
     "data": {
      "text/plain": [
       "'https://finance.naver.com/item/main.naver?code=466920'"
      ]
     },
     "execution_count": 63,
     "metadata": {},
     "output_type": "execute_result"
    }
   ],
   "source": [
    "# ETF 종목 페이지 URL 가져오기기\n",
    "detail_url = 'https://finance.naver.com' + soup.select_one('#etfItemTable').find('a', string=etf_name).attrs['href']\n",
    "detail_url"
   ]
  },
  {
   "cell_type": "code",
   "execution_count": 64,
   "metadata": {},
   "outputs": [
    {
     "data": {
      "text/plain": [
       "'https://finance.naver.com/item/board.naver?code=466920'"
      ]
     },
     "execution_count": 64,
     "metadata": {},
     "output_type": "execute_result"
    }
   ],
   "source": [
    "# ETF 종목 토론실 링크 주소 가져오기\n",
    "discussion_bbs_url = detail_url.replace('main', 'board')\n",
    "discussion_bbs_url"
   ]
  },
  {
   "cell_type": "code",
   "execution_count": 65,
   "metadata": {},
   "outputs": [
    {
     "data": {
      "text/plain": [
       "(Timestamp('2024-08-01 00:00:00'), Timestamp('2025-01-09 00:00:00'))"
      ]
     },
     "execution_count": 65,
     "metadata": {},
     "output_type": "execute_result"
    }
   ],
   "source": [
    "# 날짜 형식 변환\n",
    "start_date = pd.to_datetime(start_date, format='%Y.%m.%d')\n",
    "end_date = pd.to_datetime(end_date, format='%Y.%m.%d')\n",
    "\n",
    "start_date, end_date"
   ]
  },
  {
   "cell_type": "code",
   "execution_count": 66,
   "metadata": {},
   "outputs": [],
   "source": [
    "post_links = []         # 게시글 제목 url\n",
    "post_date = []          # 게시글 작성일\n",
    "post_title = []         # 게시글 제목\n",
    "post_view_count = []    # 게시글 조회수\n",
    "post_empathy = []       # 공감\n",
    "post_dislike = []       # 비공감\n",
    "post_contents = []      # 게시글 내용용"
   ]
  },
  {
   "cell_type": "code",
   "execution_count": 67,
   "metadata": {},
   "outputs": [],
   "source": [
    "# 페이지 번호 초기화\n",
    "page_number = 1\n",
    "stop = False"
   ]
  },
  {
   "cell_type": "code",
   "execution_count": 68,
   "metadata": {},
   "outputs": [],
   "source": [
    "while not stop:\n",
    "  current_page_url = f\"{discussion_bbs_url}&page={page_number}\"\n",
    "  driver.get(current_page_url)\n",
    "  # 게시글 요소 가져오기\n",
    "  trs = driver.find_elements(By.CSS_SELECTOR, '#content > div.section.inner_sub > table.type2 > tbody > tr')\n",
    "  if len(trs) <= 4:  # 게시글이 없는 경우 종료\n",
    "    print(\"더 이상 게시글이 없습니다.\")\n",
    "    stop = True\n",
    "  # td 요소가 6개인 trs 필터링\n",
    "  post_rows = [tr for tr in trs if len(tr.find_elements(By.TAG_NAME, 'td')) == 6]\n",
    "  for tr in post_rows:\n",
    "      cols = tr.find_elements(By.TAG_NAME, \"td\")\n",
    "\n",
    "      # 2024-12-17 추가 : '클린봇이 이용자 보호를 위해 숨긴 게시글입니다.' 게시글의 경우 td 안에 a 태그가 없기때문에, 이 조건으로 거르기 전에는 에러가 발생했었음\n",
    "      if len(cols[1].find_elements(By.TAG_NAME, \"a\")) > 0:                        # 2024-12-17 추가한 조건\n",
    "        # 제목목\n",
    "        title_ele = cols[1].find_element(By.TAG_NAME, \"a\")\n",
    "        # 날짜 추출 (YYYY.MM.DD HH:MM)\n",
    "        post_date_str = cols[0].text.strip()\n",
    "        # 문자열을 날짜 타입으로 변경\n",
    "        post_date_obj = pd.to_datetime(post_date_str, format='%Y.%m.%d %H:%M')\n",
    "\n",
    "        # 날짜 필터링\n",
    "        if start_date <= post_date_obj <= end_date:\n",
    "          post_date.append(post_date_str)                         # 날짜\n",
    "          post_title.append(title_ele.get_attribute('title'))     # 게시글 제목\n",
    "          post_view_count.append(cols[3].text.strip())            # 조회수\n",
    "          post_empathy.append(cols[4].text.strip())               # 공감\n",
    "          post_dislike.append(cols[5].text.strip())               # 비공감\n",
    "          post_links.append(title_ele.get_attribute('href'))      # 게시글 본문을 찾기위한 링크\n",
    "\n",
    "      else:           # td가 정상적으로 6개 존재하지만 a태그가 없는 tr -> 클린봇이 차단한 게시글이라는 것을 파악함\n",
    "        continue\n",
    "  # 마지막 게시글의 작성날짜 확인\n",
    "  last_post_date_str = post_rows[-1].find_elements(By.TAG_NAME, \"td\")[0].text.strip()\n",
    "  last_post_date_obj = pd.to_datetime(last_post_date_str, format='%Y.%m.%d %H:%M')\n",
    "  # 현재 페이지가 마지막 페이지 인지 확인\n",
    "  try:\n",
    "    # 마지막 페이지 에서는 맨끝 버튼이 없는 점을 이용\n",
    "    driver.find_element(By.CSS_SELECTOR,\n",
    "                        '#content > div.section.inner_sub > table.tbl_pagination > tbody > tr > td:nth-child(2) > table > tbody > tr > td.pgRR')\n",
    "    # 마지막 페이지가 아닐 경우, 시작일 보다 현재 페이지의 마지막 글 작성 날짜가 미래 라면, 페이지 +1\n",
    "    if start_date <= last_post_date_obj:\n",
    "      page_number += 1\n",
    "    else:\n",
    "      stop = True\n",
    "  except NoSuchElementException:\n",
    "    # 마지막 페이지인 경우\n",
    "    print(\"현재 페이지가 마지막 페이지 입니다.\")\n",
    "    stop = True\n",
    "  except Exception as e:\n",
    "    # 다른 예외가 발생한 경우\n",
    "    print(f\"예상치 못한 오류 발생: {e}\")"
   ]
  },
  {
   "cell_type": "code",
   "execution_count": 69,
   "metadata": {},
   "outputs": [],
   "source": [
    "# 게시글 본문 수집\n",
    "for post_link in post_links:\n",
    "  driver.get(post_link)\n",
    "  WebDriverWait(driver, 10).until(EC.presence_of_element_located((By.CSS_SELECTOR, \"#body\")))\n",
    "  post_soup = BeautifulSoup(driver.page_source, 'html.parser')\n",
    "\n",
    "  # 본문 내용 정리\n",
    "  body_content = post_soup.select_one(\"#body\")\n",
    "  if body_content:\n",
    "    post_contents.append(body_content.text.strip().replace('\\n', ' '))\n",
    "  else:\n",
    "    post_contents.append(\"본문 없음\")"
   ]
  },
  {
   "cell_type": "code",
   "execution_count": 70,
   "metadata": {},
   "outputs": [],
   "source": [
    "post_infos = {\n",
    "    '날짜': post_date,\n",
    "    '제목': post_title,\n",
    "    '조회수': post_view_count,\n",
    "    '공감': post_empathy,\n",
    "    '비공감': post_dislike,\n",
    "    '본문': post_contents\n",
    "}"
   ]
  },
  {
   "cell_type": "code",
   "execution_count": 71,
   "metadata": {},
   "outputs": [
    {
     "name": "stdout",
     "output_type": "stream",
     "text": [
      "                  날짜                      제목   조회수  공감 비공감  \\\n",
      "0   2025.01.08 19:36          평단들  어떻게 대시나요?   291   4   2   \n",
      "1   2025.01.08 14:44   1만주 16,500 부근 전량 매도..   423   3   2   \n",
      "2   2025.01.08 09:06                냅두믄 천국간다   484   2   1   \n",
      "3   2025.01.05 20:36           조선 산업 분석글입니다.  1273   2   4   \n",
      "4   2025.01.02 14:02                올해 대장etf  2197   9   1   \n",
      "..               ...                     ...   ...  ..  ..   \n",
      "83  2024.08.05 16:58  12440매수 후 5분 기분 좋았습니다.  2062   2   0   \n",
      "84  2024.08.05 13:48               본전에서 팔았다…   828   3   0   \n",
      "85  2024.08.05 11:18                  미친거아녀?  1072   3   0   \n",
      "86  2024.08.01 13:19                가는넘만 간다.  1329   1   3   \n",
      "87  2024.08.01 11:36                이거밖에는...  1398  12   0   \n",
      "\n",
      "                                                   본문  \n",
      "0   평단 9171 수량 9200주  오늘 종가 수익률 +80.55%  1년만에 이렇게나...  \n",
      "1   저번달 초중순 13,000 밑으로 한창 떨어질때 허겁지겁 주워담은거 오늘 한번에 털...  \n",
      "2                                              헤으응...  \n",
      "3       https://blog.naver.com/ke2p_goin/223715391096  \n",
      "4                                            2만원은 가야지  \n",
      "..                                                ...  \n",
      "83  5시간 공포와 좌절의 시간을 느꼈네요  힘들 내세요 국내조선 200조원치 수주 잔고...  \n",
      "84                               ㅜㅜ 내수익15%가 하루만에…떠이ㅜㅜ  \n",
      "85                                                  헐  \n",
      "86                                                 가자  \n",
      "87                                 지금 국장에는 이거 밖에 없어 ㅋ  \n",
      "\n",
      "[88 rows x 6 columns]\n"
     ]
    }
   ],
   "source": [
    "post_df = pd.DataFrame(post_infos)\n",
    "print(post_df)"
   ]
  },
  {
   "cell_type": "code",
   "execution_count": 72,
   "metadata": {},
   "outputs": [],
   "source": [
    "post_df.to_csv(f'etf_discussion_posts_{etf_name}.csv', index=False, encoding='utf-8-sig')"
   ]
  },
  {
   "cell_type": "code",
   "execution_count": 73,
   "metadata": {},
   "outputs": [],
   "source": [
    "# 드라이버 종료\n",
    "driver.quit()"
   ]
  },
  {
   "cell_type": "code",
   "execution_count": 74,
   "metadata": {},
   "outputs": [
    {
     "data": {
      "text/plain": [
       "(88, 6)"
      ]
     },
     "execution_count": 74,
     "metadata": {},
     "output_type": "execute_result"
    }
   ],
   "source": [
    "post_df.shape"
   ]
  }
 ],
 "metadata": {
  "kernelspec": {
   "display_name": "base",
   "language": "python",
   "name": "python3"
  },
  "language_info": {
   "codemirror_mode": {
    "name": "ipython",
    "version": 3
   },
   "file_extension": ".py",
   "mimetype": "text/x-python",
   "name": "python",
   "nbconvert_exporter": "python",
   "pygments_lexer": "ipython3",
   "version": "3.12.7"
  }
 },
 "nbformat": 4,
 "nbformat_minor": 2
}
