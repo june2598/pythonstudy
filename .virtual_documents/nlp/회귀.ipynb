


import numpy as np
from sklearn import linear_model


# Training Data Set
x_data = np.array([1,2,5,8,10]).reshape(-1,1)       # 2차원 nparray로 변환
t_data = np.array([5,15,68,80,95]).reshape(5,1)


print(x_data.shape, t_data.shape)
print(x_data.ndim, t_data.ndim)         # ndim : 차원 확인


# model
sklearn_model = linear_model.LinearRegression()


# 학습진행
sklearn_model.fit(x_data,t_data)


# 예측
sklearn_result = sklearn_model.predict(np.array([[7]]))
print(sklearn_result)


import pandas as pd
import matplotlib.pyplot as plt


df = pd.DataFrame({
    '공부시간(x)':[1,2,3,4,5,7,8,10,12,13,14,15,18,20,25,28,30],
    '시험점수(t)':[5,7,20,31,40,44,46,49,60,62,70,80,85,91,92,97,98]
})


df


# 데이터 분포
plt.scatter(df['공부시간(x)'],df['시험점수(t)'])

plt.plot(df['공부시간(x)'],df['시험점수(t)'], color='r')

plt.plot(df['공부시간(x)'],df['공부시간(x)']*2 + 3, color='g')
plt.plot(df['공부시간(x)'],df['공부시간(x)']*5 - 7, color='b')
plt.plot(df['공부시간(x)'],df['공부시간(x)']*1 + 8, color='y')
plt.plot(df['공부시간(x)'],df['공부시간(x)']*4 -10, color='c')








import numpy as np
from tensorflow.keras.models import Sequential



