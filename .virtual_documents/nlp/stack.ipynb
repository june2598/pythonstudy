import pandas as pd
import numpy as np



# 예시 데이터 생성
data = np.random.rand(10, 10)  # 10x10 랜덤 데이터
df = pd.DataFrame(data, columns=[f'Col{i}' for i in range(10)], index=[f'Row{i}' for i in range(10)])




df


df.stack()


# 데이터프레임의 상위 10개 값 추출
top_n = 10
top_values = df.stack().nlargest(top_n)


top_values


# 상위 10개 값의 인덱스와 컬럼 추출
indices = top_values.index  # MultiIndex 형태로 (행, 열) 쌍
rows = indices.get_level_values(0)  # 행 인덱스
cols = indices.get_level_values(1)  # 열 인덱스



type(rows),type(cols)


list(zip(rows.tolist(),cols.tolist()))



# 결과 출력
print("상위 10개 값:")
print(top_values)
print("\n행 인덱스:")
print(rows)
print("\n열 인덱스:")
print(cols)


top_values


top_values.unstack()


top_values.unstack()



