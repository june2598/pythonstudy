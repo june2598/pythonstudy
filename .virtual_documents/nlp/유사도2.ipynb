import pandas as pd
import numpy as np


# 모든 컬럼을 출력하도록 설정
pd.set_option('display.max_columns', None)  # None으로 설정하면 모든 컬럼 출력 default:20
# 모든 행을 출력하도록 설정
pd.set_option('display.max_rows', 10)  # None으로 설정하면 모든 행 출력 default:50
# 모든 열의 최대 너비를 설정
pd.set_option('display.max_colwidth', None) # None으로 설정하면 모든 내용을 출력 default:60


import seaborn as sns
import matplotlib.pyplot as plt
import koreanize_matplotlib
from wordcloud import WordCloud


# 정규표현식
import re


# 날짜는 파이썬 표준라이브러리 datetime 사용
import datetime


import matplotlib.font_manager as fm
# 원하는 폰트 경로 설정
font_path = "C:/Windows/Fonts/malgun.ttf" # 예시 경로
font_prop = fm.FontProperties(fname=font_path)

plt.rc('font', family=font_prop.get_name())


# 오늘 날짜 구하기
today = datetime.datetime.today()
print(today)
today = today.strftime('%Y-%m-%d')
today


df = pd.read_csv(f'../stock/news_preprocessed_{today}.csv')
df.head(1)


from sklearn.feature_extraction.text import CountVectorizer,TfidfVectorizer


cvect = CountVectorizer()
cvect_dtm = cvect.fit_transform(df['제목_명사'])
cvect_dtm


tvect = TfidfVectorizer()
tvect_dtm = tvect.fit_transform(df['제목_명사'])
tvect_dtm





from sklearn.metrics.pairwise import cosine_similarity


cosine_similarity?


cosine_matrix = cosine_similarity(tvect_dtm, tvect_dtm)
cosine_matrix


cosine_matrix[x]


cosine_matrix.shape


sns.heatmap(cosine_matrix, cmap='Blues_r')


df.shape, cosine_matrix.shape


pd.DataFrame(cosine_matrix).style.background_gradient(cmap='Blues_r')


# 첫번째 문서와 유사도가 높은 문서 상위 10개 추출
pd.DataFrame(cosine_matrix).loc[1].nlargest(10)


df_cosine = df[['제목','제목_명사']].copy()
df_cosine['유사도_1'] = pd.DataFrame(cosine_matrix)[1]
df_cosine.nlargest(10, columns='유사도_1')


# 0번 문서와 유사도가 낮은 순
df_cosine.nsmallest(10,'유사도_1')





def find_similarity(idx, n=5) :
    ''' 유사도가 높은 문서를 반환 '''
    # df_cosine['언론사'] = df['언론사'].copy()
    df_cosine = df[['제목','제목_명사']].copy()
    df_cosine[f'유사도_{idx}'] = pd.DataFrame(cosine_matrix)[idx]
    return df_cosine.nlargest(n, columns=f'유사도_{idx}')








from sklearn.metrics.pairwise import euclidean_distances


ed_similarity = euclidean_distances(tvect_dtm,tvect_dtm)


# 최소, 최대값 확인
ed_similarity.min(), ed_similarity.max()


ed_matrix = 1 - (ed_similarity / ed_similarity.max())


# 높은게 유사도가 높음
sns.heatmap(ed_matrix, cmap='Blues_r')





def find_ed_similarity(idx, n=5) :
    ''' 유사도가 높은 문서를 반환 '''
    df_ed = df[['제목','제목_명사']].copy()
    df_ed[f'유사도_{idx}'] = pd.DataFrame(ed_matrix)[idx]
    return df_ed.nlargest(n, columns=f'유사도_{idx}')


find_ed_similarity(31)





from sklearn.metrics.pairwise import pairwise_distances


pairwise_distances?


jd_similarity = pairwise_distances(tvect_dtm.toarray(),tvect_dtm.toarray(), metric='jaccard')
jd_similarity


jd_similarity.min(), jd_similarity.max()


sns.heatmap(1 - jd_similarity, cmap='Blues_r')


df_cosine_matrix = pd.DataFrame(cosine_matrix)
df_cosine_matrix


rows = df_cosine_matrix.stack().nlargest(150).index.get_level_values(0)
cols = df_cosine_matrix.stack().nlargest(150).index.get_level_values(1)


for row,col in zip(rows,cols) :
    # 대각선은 1로 고정이므로 이부분은 스킵
    if row == col :
        continue
    print(row,col)


find_similarity(11)


# 0.5 이상의 값의 인덱스 찾기
indices = np.argwhere((df_cosine_matrix >= 0.5) & (df_cosine_matrix < 1))

# 결과 출력
for row, col in indices:
    print(f'행: {row}, 열: {col}')



