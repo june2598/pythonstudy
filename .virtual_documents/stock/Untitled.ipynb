


# 데이터 분석을 위한 패키지
import numpy as np
import pandas as pd
# 소수점 두자리까지 표기
pd.options.display.float_format = '{:,.2f}'.format

# 모든 컬럼,행을 출력하도록 설정
pd.set_option('display.max_columns', None) # None으로 설정하면 모든 컬럼 출력
pd.set_option('display.max_rows', 50) #None으로 설정하면 모든 행 출력

#CSV 파일 불러오기
df_stocks = pd.read_csv('stocks.csv')


df_stocks.head(1)


new_df_stocks = df_stocks.groupby('Sector')


df_stocks.groupby('Sector')['Marcap'].head()


temp = df_stocks.isna().sum(axis=0).sort_values(ascending=True)
temp = temp[temp > 0]
temp



