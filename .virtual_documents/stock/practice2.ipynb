# 데이터 분석을 위한 패키지
import numpy as np
import pandas as pd


# 시각화 패키지
import matplotlib.pyplot as plt
import seaborn as sns


import koreanize_matplotlib


# 모든 컬럼,행을 출력하도록 설정
pd.set_option('display.max_columns', None) # None으로 설정하면 모든 컬럼 출력
pd.set_option('display.max_rows', 50) #None으로 설정하면 모든 행 출력


pd.options.display.float_format = '{:,.3f}'.format


import FinanceDataReader as fdr


df_stocks = pd.read_csv('stocks.csv')


df_stocks.head(1)





df_stocks[df_stocks['Name'] == '삼성전자'][['Code','Name','Close']]


fdr.DataReader('005930','2024-08')


samsung_df = fdr.DataReader('005930','2024-08')


# 삼성전자의 변동률을 일정기간 동안 평준화
samsung_df['Change'].mean() * 100


df_stocks[df_stocks['Name'] == '삼성전자'][['Name','Code']]


df_stocks[df_stocks['Name'] == '삼성전자']['Code']


# 투자자가 투자했던 종목
def my_invested_stocks(names) :
    return df_stocks[df_stocks['Name'] == name]['Code'].values


# 투자자가 투자했던 종목
def my_invested_stocks(names):
    # names가 리스트인지 확인하고, 리스트가 아닐 경우 리스트로 변환
    if not isinstance(names, list):
        names = [names]
        
    # 주어진 이름들에 해당하는 종목 코드 반환
    return df_stocks[df_stocks['Name'].isin(names)]['Code'].values


my_invested_stocks(['삼성전자','고려아연'])[0]





# 투자자의 성향을 파악
def classify_investor_type(codelist) : 
    코드리스트를 0부터 순회하면서 fdr.DataReader에 넣음
    기간은 기간별로 조회가능(1개월, 4개월, 1년) , 선택가능하게
    avg_change = fdr.DataReader('005930','2024-08')['Change'].mean()*100
    avg_change의 합을 종목수로 나눠서 투자자가 투자한 평균 변동률을 계산
    고변동 (예: +10% 이상)
    중고변동 (예: +5% ~ +10%)
    중저변동 (예: -5% ~ +5%)
    저변동 (예: -5% 이하)
    넷중 하나의 카테고리 반환



    
    


# 투자자의 성향을 파악
# codelist : 본인이 사전에 투자했던 종목, period : 분석 기간 (단기-1개월 중기-4개월 장기-12개월)
def classify_investor_type(codelist, period) :
    #특정 기간에 따르주식 데이터 수집
    avg_changes = []
    for code in codelist:
        data = fdr.DataReader(code, period)
        avg_change = data['Change'].mean() * 100 # 평균 변동률 계산
        avg_changes.append(avg_change)

    overall_avg_change = sum(avg_changes) / len(avg_changes)

    if overall_avg_change >= 10 :
        return 1
    elif overall_avg_change >= 5:
        return 2
    elif overall_avg_change >= -5:
        return 3
    else : 
        return 4


# 성향을 기반으로 추천

def recommend_stocks(invester_type) : 
    recommendations = {
        # 목록을 편성할때, 분석기간의 30% 기간안에, 주가가 오른항목만 편성?
        # 혹은 내려가고 있어도 그게 저점일수 있으니까?
        # 이부분은 좀더 주식에 대한 학습이 필요할듯
        고변동 목록(invester_type == 1) : []
        중고변동 목록(invester_type == 2) : []
        중저변동 목록(invester_type == 3) : []
        저변동 목록(invester_type == 4) : []       
    }

    return recommendations.get(타입, 목록)



fdr.DataReader('005930','2024-08')['Change'].mean()*100


def my_invested_stocks(name) :
    my_stocks = df_stocks[df_stocks['Name'] == name][['Name','Close']]
    
    
    
