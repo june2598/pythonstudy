import requests
from bs4 import BeautifulSoup
import re
import pandas as pd


news_rss = requests.get('https://www.mk.co.kr/rss/50200011/')
news_rss


news_rss.content
news_rss.text


news_rss_soup = BeautifulSoup(news_rss.content,'xml')


title_list = news_rss_soup.select('item > title')
title_list = [title.text for title in title_list]
title_list


link_list = news_rss_soup.select('item > link')
link_list = [link.text for link in link_list]
link_list


news_data = []
news_datetime = []
for link in link_list :
    news_res = requests.get(link)
    news_content_soup = BeautifulSoup(news_res.content, 'lxml')
    news_content = news_content_soup.select_one('.news_cnt_detail_wrap')
    news_data.append(news_content.text)
    news_datetime.append(news_content_soup.select_one('.time_area .registration dd').text)

print(news_data)
print(news_datetime)


len(news_data)


len(news_datetime)


type(news_data)


[item for item in news_data if re.search(r'\S',item)]


#### 일시, 제목, 내용, 
news_df = pd.DataFrame({
    '일시' : news_datetime,
    '제목' : title_list,
    '내용' : news_data
})



news_df.head()


news_df.to_csv('news.csv', index=False)
