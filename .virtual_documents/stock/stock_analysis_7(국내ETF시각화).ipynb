# 데이터 분석 패키지
import numpy as np
import pandas as pd


# 모든 컬럼을 출력하도록 설정
pd.set_option('display.max_columns', None)  # None으로 설정하면 모든 컬럼 출력
# 모든 행을 출력하도록 설정
pd.set_option('display.max_rows', 30)  # None으로 설정하면 모든 행 출력


# 시각화 패키지
import seaborn as sns
import matplotlib.pyplot as plt


# matplotlib 한글지원 패키지
import koreanize_matplotlib


# 날짜는 파이썬 표준라이브러리 datetime 사용
import datetime
# 오늘 날짜 구하기
today = datetime.datetime.today()
today = today.strftime('%Y-%m-%d')
today = '2024-12-19'


df_etfs = pd.read_csv(f'new_etf_{today}.csv')


df_etfs.shape


df_etfs.head(1)


df_etfs.info()


# 결측치 확인
df_etfs.isna().sum()


# 결측치의 비율확인
df_etfs.isna().mean()*100


plt.figure(figsize=(5,3))
sns.heatmap(df_etfs.isna())


df_etfs.describe(include='O')


df_etfs.describe(include=np.int64)


# subset 범주형 변수에 대해서
# df_cat = df_etfs[['CategoryName','Brand','RiseFall']]
df_cat = df_etfs.select_dtypes(include=[np.object_,np.bool_]).drop(['Symbol','Name'], axis=1).assign(RiseFall=df_etfs['RiseFall'])
# df_cat['RiseFall'] = df_etfs['RiseFall']
display(df_cat.head(1))

cat_var = df_cat.columns
cat_var_cnt = len(cat_var)


df_etfs.select_dtypes(np.bool_)


# 수치형 변수에 대해서
# df_num = df_etfs[['Price','Change','Volume','Amount','MarCap']]
df_num = df_etfs.select_dtypes(include=[np.number]).drop(['Category','RiseFall'],axis=1)
df_num.head(1)

num_var = df_num.columns
num_var_cnt = len(num_var)





df_etfs['CategoryName'].value_counts().index


sns.countplot(data=df_cat,y='CategoryName', order=df_etfs['CategoryName'].value_counts().index, palette='Blues_r')
plt.show()

plt.figure(figsize=(10,10))
sns.countplot(data=df_cat,y='Brand',order=df_etfs['Brand'].value_counts().index, palette='Blues_r')

# plt.gca()는 Matplotlib의 함수로, "Get Current Axes"의 약자입니다. 이 함수를 사용하면 현재 활성화된 Axes 객체를 반환합니다. 
# 즉, 현재 그림에서 가장 최근에 생성된 Axes(좌표축)에 대한 참조를 가져올 수 있습니다.
ax = plt.gca()

plt.show()
sns.countplot(data=df_cat,x='RiseFall')
plt.show()


# 범주형변수 두개, 그에대한 countplot , 관측치에 대한 갯수를 새는건 countplot
sns.countplot(data=df_cat,y='CategoryName', order=df_etfs['CategoryName'].value_counts().index, palette='Blues_r',hue='인버스')
plt.show()

plt.figure(figsize=(10,10))
sns.countplot(data=df_cat,y='Brand',order=df_etfs['Brand'].value_counts().index, palette='Blues_r',hue='인버스')

# plt.gca()는 Matplotlib의 함수로, "Get Current Axes"의 약자입니다. 이 함수를 사용하면 현재 활성화된 Axes 객체를 반환합니다. 
# 즉, 현재 그림에서 가장 최근에 생성된 Axes(좌표축)에 대한 참조를 가져올 수 있습니다.
ax = plt.gca()

plt.show()
sns.countplot(data=df_cat,x='RiseFall',hue='인버스')
plt.show()


# estimator : 기술통계 함수들이 올수있음 : sum, np.mean 등
sns.barplot(data=df_etfs,x='CategoryName', y='MarCap',estimator=np.mean)
plt.show()

plt.figure(figsize=(10,10))
sns.barplot(data=df_etfs,y='Brand', x='MarCap',estimator=np.mean)

# plt.gca()는 Matplotlib의 함수로, "Get Current Axes"의 약자입니다. 이 함수를 사용하면 현재 활성화된 Axes 객체를 반환합니다. 
# 즉, 현재 그림에서 가장 최근에 생성된 Axes(좌표축)에 대한 참조를 가져올 수 있습니다.
ax = plt.gca()

plt.show()
sns.barplot(data=df_etfs,x='RiseFall',y='MarCap',estimator=np.mean)
plt.show()


# 카테고리별 Brand 수 
# piechart가 더 보기좋을거같은느낌 -> 저녁에 해보기기
g = sns.FacetGrid(data=df_etfs, col='CategoryName', col_wrap=2, height=4, aspect=2)
g.map(sns.countplot, 'Brand')
plt.subplots_adjust(hspace=0.3)
plt.show()



# 카테고리별 상승/하락 건수수
g = sns.FacetGrid(data=df_etfs, col='CategoryName', height=4,aspect=0.5,sharex=False)
g.map(sns.countplot, 'RiseFall')
plt.subplots_adjust(hspace=0.5)
plt.show()


df_etfs['CategoryName'].sort_values().unique()


order = df_etfs['CategoryName'].value_counts().index.to_list()


df_etfs.groupby(['Brand','CategoryName']).size().sort_values(ascending=False).reset_index().head(20)


# 브랜드별 카테고리수
# sharex : default값이 True -> x축을 공유함 -> 맨밑에 하나만 x 라벨이 표기됨
g = sns.FacetGrid(data=df_etfs, col='Brand', col_wrap=2, height=4, aspect=2,sharex=False, sharey=False, hue='CategoryName', palette='Blues_r')
# map_dataframe을 쓰면 축 변수를 사용해서 y축에 내가 놓고싶은 변수를 지정할 수 있음
# g.map_dataframe(sns.countplot, y='CategoryName', order=['국내 시장지수', '국내 업종/테마', '국내파생','원자재', '채권', '해외주식','기타'])

g.map_dataframe(sns.countplot, y='CategoryName',order=order)
plt.subplots_adjust(hspace=0.5, wspace=0.1)
plt.show()


# 브랜드별 카테고리 수
g = sns.FacetGrid(data=df_etfs.query('Brand=="KODEX"'), col='Brand',col_wrap=2,height=4,aspect=2,sharex=False, sharey=False,hue='CategoryName', palette='Blues_r')
# g.map_dataframe(sns.countplot, y='CategoryName' ,order=['국내 시장지수', '국내 업종/테마', '국내파생', '원자재', '채권', '해외주식', '기타'])      
# g.map_dataframe(sns.countplot, y='CategoryName', order=order )     
# 각 브랜드에 대해 카테고리의 빈도에 따라 정렬
# def plot_count(data, **kwargs):
#     order = data['CategoryName'].value_counts().index.tolist()  # 브랜드별 카테고리 순서 정의
#     sns.countplot(data=data, y='CategoryName', order=order, **kwargs)
# g.map_dataframe(plot_count)    

    
for ax, (brand, group) in zip(g.axes.flat, df_etfs.groupby('Brand')):
    order = group['CategoryName'].value_counts().index.tolist()  # 브랜드별 카테고리 순서 정의
    sns.countplot(data=group, y='CategoryName', ax=ax, order=order)

plt.subplots_adjust(hspace=0.5,wspace=0.3)
plt.show()


# 카테고리별 브랜드 수
# pie안에 pie차트?
g = sns.FacetGrid(data=df_etfs, col='CategoryName', col_wrap=1, height=4, aspect=5,sharex=False, sharey=False)
g.map(sns.countplot, 'Brand', order=df_etfs['Brand'].sort_values())
plt.subplots_adjust(hspace=0.5)
plt.show()








# subset 범주형 변수에 대해서
# df_cat = df_etfs[['CategoryName','Brand','RiseFall']]
df_cat = df_etfs.select_dtypes(include=[np.object_,np.bool_]).drop(['Symbol','Name'], axis=1).assign(RiseFall=df_etfs['RiseFall'])
# df_cat = df_etfs.select_dtypes(exclude=[np.number]).drop(['Symbol','Name'], axis=1).assign(RiseFall=df_etfs['RiseFall'])

# df_cat['RiseFall'] = df_etfs['RiseFall']
display(df_cat.head(1))

cat_var = df_cat.columns
cat_var_cnt = len(cat_var)


# 모든 수치형 변수간 상관관계
# 범위 : -1~1
# 양수 : 양의 상관관계 (같은 방향으로 움직임)
# 음수 : 음의 상관관계 (반대 방향으로로 움직임)
# 0 : 상관관계가 없다.

tmp = df_num.corr()
display(tmp)
# triu : 상단을 제거
sns.heatmap(tmp, cmap='Blues', annot=True, fmt='.1f', mask=np.triu(np.ones_like(tmp,dtype=bool)))
plt.show()

# tril : 하단을 제거
sns.heatmap(tmp, cmap='Blues', annot=True, fmt='.1f', mask=np.tril(np.ones_like(tmp,dtype=bool)))
plt.show()




df_num


df_etfs.sort_values('MarCap',ascending=False).head(1)
# df_etfs['MarCap'].idxmax()


sns.histplot(data=df_num, x='MarCap', bins=50)


sns.boxplot(data=df_num, y='EarningRate')


sns.ecdfplot(data=df_num, x='EarningRate')
# ecdfplot : 일단 오름차순으로 자동정렬해줌
# x축 : EarningRate , y축: 총건수를 비중으로 나타낸것
sns.rugplot(data=df_num, x='EarningRate')



sns.ecdfplot(data=df_num, x='MarCap')
plt.xlim(3000,20000) # x축의 최소값 최대값 설정
plt.xticks(ticks=range(3000,20000,3000)) # x축의 눈금 설정


sns.ecdfplot(data=df_num, y='MarCap')



sns.histplot(data=df_num, x='EarningRate', kde=True)
sns.rugplot(data=df_num, x='EarningRate')


q3 = df_num['EarningRate'].quantile(0.75)
q1 = df_num['EarningRate'].quantile(0.25)
irq = q3- q1

upper = q3 + 1.5 * irq
lower = q1 - 1.5 * irq
print(upper,lower)


# 3개월 수익률 상한치 이상인 etf 종목
tmp = df_etfs[df_etfs['EarningRate'] >= upper]
tmp.to_excel('3개월 수익률 상한치 이상인 etf종목.xlsx')


g = sns.FacetGrid(data=df_etfs, col='CategoryName',col_wrap=1, height=5,aspect=4, sharex=False)
g.map(sns.stripplot,'Brand','EarningRate')


# 컬럼별로 고유값 개수 확인하기
df_etfs.nunique()


# 특정 컬럼 타입에 대해 서브 데이터 프레임 추출
display(df_etfs.select_dtypes(np.object_))
# 범주형 컬럼의 고유값 갯수
display(df_etfs.select_dtypes(np.object_).nunique())


# 카테고리 별 빈도수
df_etfs['CategoryName'].value_counts()


print(df_etfs.query("CategoryName == '해외주식'")['EarningRate'].max())
print(df_etfs.query("CategoryName == '해외주식'")['EarningRate'].min())
print(df_etfs.query("CategoryName == '국내 업종/테마'")['EarningRate'].max())
print(df_etfs.query("CategoryName == '국내 업종/테마'")['EarningRate'].min())
print(df_etfs.query("CategoryName == '국내 시장지수'")['EarningRate'].max())
print(df_etfs.query("CategoryName == '국내 시장지수'")['EarningRate'].min())
print(df_etfs.query("CategoryName == '원자재'")['EarningRate'].max())
print(df_etfs.query("CategoryName == '원자재'")['EarningRate'].min())


# ETF 카테고리의 3개월 수익율 최소,최대 구하기
def get_earningrage_minmax(cate_name):
    earningrate = df_etfs.query("CategoryName == @cate_name")['EarningRate']
    return earningrate.min(),earningrate.max()


for cate_name in df_etfs['CategoryName'].unique() :
    # print(cate_name)
    min, max = get_earningrage_minmax(cate_name)
    print(f'{cate_name} : {min}, {max}')


df_etfs['CategoryName'].value_counts().sort_values(ascending=True).plot(kind='barh',figsize=(5,3),title='ETF 카테고리 빈도수')


sns.countplot?


plt.figure(figsize=(5,3))
sns.countplot(data=df_etfs.sort_values(by='CategoryName',ascending=False) , y='CategoryName')
plt.show()





pd.crosstab(df_etfs['인버스'],df_etfs['CategoryName'])


pd.crosstab(df_etfs['레버리지'],df_etfs['CategoryName'])


pd.crosstab(df_etfs['헤지'],df_etfs['CategoryName'])


plt.figure(figsize=(5,3))
sns.countplot(data=df_etfs, y='CategoryName', hue='레버리지')


plt.figure(figsize=(8,5))
sns.countplot(data=df_etfs, y='Brand', hue='레버리지')


# 수치형 변수로 히스토그램 그리기

tmp = df_etfs.select_dtypes(np.number).drop(['Symbol','Category','RiseFall'],axis=1)
tmp


cols = tmp.columns.tolist()
cols


tmp.plot?


tmp.hist(figsize=(8,8),bins=20)
plt.tight_layout()





# 서브영역에 개별 차트 그리기

# figure영역 크기 지정
plt.figure(figsize=(10,10))

# 서브플롯 생성
rows , cols = (3 , 3)
fig, axes = plt.subplots(nrows=rows, ncols=cols)

# 컬럼리스트
column_list = tmp.columns.tolist()
idx = 0
stop = False
for i in range(rows):
    for j in range(cols) :
        column_name = column_list[idx]  # 컬럼명
        tmp[column_name].plot(kind='hist',ax=axes[i][j],bins=50) # 영역에 차트 그리기
        axes[i][j].set_title(f'히스토그램 of {column_name}') # 영역 제목
        axes[i][j].set_xlabel(column_name) # x축 라벨
        axes[i][j].set_ylabel('빈도') # y축 라벨
        idx += 1
        if idx == len(column_list) :
            stop = True
            break # 안쪽 루프 종료
    if stop :
        break # 바깥쪽 루프 종료
        
plt.tight_layout() # 서브플롯의 간격 조정
plt.show() # 차트 그리기


df_etfs.columns


# 각 브랜드별 3개월 수익률의 평균값
# df_etfs.groupby('Brand')['EarningRate'].mean()
df_etfs.groupby('Brand')['EarningRate'].agg('mean').sort_values(ascending=False)


df_etfs.query('Brand=="에셋플러스"')[['Name','EarningRate','Category']]
