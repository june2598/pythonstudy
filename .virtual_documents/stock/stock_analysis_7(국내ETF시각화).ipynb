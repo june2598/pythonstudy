# 데이터 분석을 위한 패키지
import numpy as np
import pandas as pd


# 시각화 패키지
import matplotlib.pyplot as plt
import seaborn as sns


import koreanize_matplotlib


# 모든 컬럼,행을 출력하도록 설정
pd.set_option('display.max_columns', None) # None으로 설정하면 모든 컬럼 출력
pd.set_option('display.max_rows', 50) #None으로 설정하면 모든 행 출력


# 날짜는 파이썬 표준 라이브러리 datetime 사용
import datetime
# 오늘 날짜 가져오기
today = datetime.datetime.today()
today = today.strftime('%Y-%m-%d')
today


pd.options.display.float_format = '{:,.2f}'.format


new_file_name = f'new_etf_{today}.csv'
new_file_name


df_etfs = pd.read_csv(new_file_name)


df_etfs.shape


df_etfs.head()


df_etfs.info()


df_etfs.isna().sum()


# 결측치의 비율 확인
df_etfs.isna().mean()*100


df_etfs.isna()


plt.figsize=(5,5)
sns.heatmap(df_etfs.isna())


df_etfs.describe(include='O')


df_etfs.describe(include=np.bool_)


# 컬럼별로 고유값의 갯수를 확인
df_etfs.nunique()
# df_etfs['Category'].nunique()


# 특정 타입의 컬럼만 보기
# df_etfs.select_dtypes(np.number)

# 특정컬럼 타입에 대해 서브 데이터 프레임 추출
# display(df_etfs.select_dtypes(np.object_))

# pd.DataFram(df_etfs.select_dtypes(np.object_).value_counts())

# 특정 타입 컬럼의 고유값 갯수를 확인
# display(df_etfs.select_dtypes(np.object_).nunique())


# 카테고리 별 빈도수
df_etfs['CategoryName'].value_counts()


print(df_etfs.query("CategoryName == '해외주식'")['EarningRate'].max())
print(df_etfs.query("CategoryName == '국내 업종/테마'")['EarningRate'].max())
print(df_etfs.query("CategoryName == '원자재'")['EarningRate'].max())
print(df_etfs.query("CategoryName == '국내 시장지수'")['EarningRate'].max())
print(df_etfs.query("CategoryName == '해외주식'")['EarningRate'].min())
print(df_etfs.query("CategoryName == '국내 업종/테마'")['EarningRate'].min())
print(df_etfs.query("CategoryName == '원자재'")['EarningRate'].min())
print(df_etfs.query("CategoryName == '국내 시장지수'")['EarningRate'].min())


# query 메서드에서 변수의 값을 사용하려면, @ 기호를 사용해야
def get_earningrage_minmax(cate_name) :
    earningrate = df_etfs.query("CategoryName == @cate_name")['EarningRate']
    return earningrate.min(),earningrate.max()


for cate_name in df_etfs['CategoryName'].unique() :
    # print(cate_name)
    min, max = get_earningrage_minmax(cate_name)
    print(f'{cate_name} : {min}%, {max}%')


df_etfs.query("CategoryName == '해외주식'").sort_values('EarningRate', ascending=False).head(1)


df_etfs['CategoryName'].value_counts().sort_values(ascending=True).plot(kind='barh', figsize=(5,3), title='ETF 카테고리 빈도수')


category_counts = df_etfs['CategoryName'].value_counts().sort_values(ascending=False)

# 정렬된 카테고리 이름을 인덱스로 하는 데이터프레임 생성
sorted_categories = category_counts.index
sns.countplot(data=df_etfs, y='CategoryName', order=sorted_categories)


sorted_categories


plt.figure(figsize=(5,3))
sns.countplot(data=df_etfs,y='CategoryName')


sns.countplot?





pd.crosstab(df_etfs['인버스'],df_etfs['CategoryName'])


pd.crosstab(df_etfs['헤지'],df_etfs['CategoryName'])


pd.crosstab(df_etfs['레버리지'],df_etfs['CategoryName'])


plt.figure(figsize=(5,3))
sns.countplot(data=df_etfs, y='CategoryName', hue='인버스')


plt.figure(figsize=(5,10))
sns.countplot(data=df_etfs, y='Brand', hue='레버리지')





# 수치형 변수로 히스토그램 그리기

tmp = df_etfs.select_dtypes(np.number).drop(['Symbol','Category','RiseFall'], axis=1)
tmp


cols = tmp.columns.tolist()


tmp.plot?


tmp[cols].plot(kind='hist')


tmp.hist(figsize=(8,10), bins=20)
#레이아웃 안겹치게 정돈
plt.tight_layout()





# 서브영역에 개별 차트 그리기

# figure 영역 크기 지정
# plt.figure(figsize=(10,10))  # 두번지정할 필요가 없음

# 서브플롯 생성 fig : 도화지, axes : 영역
rows , cols = (3, 3)
fig, axes = plt.subplots(nrows=rows, ncols=cols, figsize=(10,10))  # 여기에서 도화지 크기 지정

column_list = tmp.columns.tolist()
idx = 0
stop = False
for i in range(rows):
    for j in range(cols):
        column_name = column_list[idx] #컬럼명
        tmp[columns[idx]].plot(kind='hist', ax=axes[i][j], bins=50) #영역에 차트 그리기
        axes[i][j].set_title(f'히스토그램 of {column_name}') #영역 제목
        axes[i][j].set_xlabel(column_name) # x 라벨
        axes[i][j].set_ylabel('빈도')      # y 라벨
        idx += 1
        if idx == len(columns) :
            stop =True
            break
    if stop :
        break

plt.tight_layout()
plt.show()


columns[0]


# figure 영역 크기 지정
fig, axes = plt.subplots(nrows=3, ncols=3, figsize=(10, 10))

# 서브플롯에 개별 차트 그리기
for idx, column in enumerate(tmp.columns):
    # if idx < 9:  # 9개 이하의 열에 대해서만 플롯
        ax = axes[idx // 3, idx % 3]  # 2D 인덱스를 사용하여 서브플롯 선택
        tmp[column].plot(kind='hist', ax=ax)
        ax.set_title(f'히스토그램 of {column}')
        ax.set_xlabel(column)
        ax.set_ylabel('빈도')

# 남은 서브플롯은 비워두기 (9개 초과 시)
# for j in range(idx + 1, 9):
#     axes[j // 3, j % 3].axis('off')  # 비활성화
plt.tight_layout()
plt.show()


# 각 브랜드 별 3개월 수익률의 평균값

df_etfs.groupby('Brand')['EarningRate'].mean().sort_values(ascending=False)
# df_etfs.groupby('Brand')['EarningRate'].agg('mean')


df_etfs.query('Brand=="에셋플러스"')[['Name','EarningRate','CategoryName']].sort_values('EarningRate', ascending=False)



