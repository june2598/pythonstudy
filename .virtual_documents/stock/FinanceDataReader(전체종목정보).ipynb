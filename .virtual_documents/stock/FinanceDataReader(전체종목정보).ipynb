#FinanceDada/FinanceDataReader: Financial data reader


# FinanceData 설치
# ! : prompt환경의 명령을 실행
# !pip install finance-datareader


# 라이브러리 불러오기
import FinanceDataReader as fdr


# 날짜는 파이썬 표준 라이브러리 datetime 사용
import datetime
# 오늘 날짜 가져오기
today = datetime.datetime.today()
today = today.strftime('%Y-%m-%d')
today


# 버전확인
fdr.__version__





# 패키지 내용 확인
dir(fdr)


# 함수, method 사용 방법을 알고 싶을때
# help(fdr.StockListing)
fdr.StockListing?


stocks = fdr.StockListing('KRX')
stocks_desc = fdr.StockListing('KRX-DESC')








stocks.shape, stocks_desc.shape


#행수
stocks.shape[0], stocks_desc.shape[0]


# 데이터프레임의 처음,마지막 n행보기, 매개값이 없으면 5행
display(stocks.head(1))
display(stocks_desc.head(1))
#close : 종가 , open: 시작가 low : 최저가 High : 최고가, volume : 발행수 Amount : 시가총액


# import pandas as pd

# # 여러 종목 데이터 가져오기
# tickers = ['005930', '000660', '207940']  # 삼성전자, SK하이닉스, 삼성바이오로직스
# data = {ticker: fdr.DataReader(ticker, '2023-01-01', '2023-12-01')['Close'] for ticker in tickers}

# # 데이터프레임으로 변환
# df_comparison = pd.DataFrame(data)

# # 시각화
# plt.figure(figsize=(12, 6))
# df_comparison.plot()
# plt.title('Stock Price Comparison')
# plt.xlabel('Date')
# plt.ylabel('Price')
# plt.legend(tickers)
# plt.show()


stocks = fdr.StockListing('KRX')

stocks_desc = fdr.StockListing('KRX-DESC')





# 데이터 프레임의 행과 열의 수를 튜플로 반환
stocks.shape, stocks_desc.shape


#행 수
stocks.shape[0], stocks_desc.shape[0]


# 데이터프레임의 처음(head), 마지막(tail) n행보기, 매개값이 없으면 default는 5행
display(stocks.head(1))
display(stocks_desc.head(1))


display(stocks.tail(1))
display(stocks_desc.tail(1))


# 데이터 프레임에 대한 기본 정보(행 수, 컬럼수, 각 컬럼의 데이터타입, 결측치 확인)
stocks.info()


# 요약 통계량 제공, 매개값이 없으면 숫자 컬럼만 제공
# count : nan값을 제외한 컬럼 데이터수
# mean : 평균
# std : 표준 편차
# min,max : 최소,최대값
# 사분위수 : 값의 범위를 4분위로 나눈 수. 50%는 값이 두개라면 그 둘을 평균낸다.
stocks.describe()


stocks[stocks['Name'] != '삼성전자']['Marcap'].plot(kind='box')
# stocks['Marcap'].plot(kind='box')


stocks.describe?


# 문자열 컬럼(범주형)에 대한 요약 통계
# count : 컬럼값의 수(nan값은 제외)
# unique : 중복되지 않는 값의 종류(컬럼의 고유값 갯수)
# top : 최빈값(가장 빈번하게 나타나는 값), 모든 컬럼이 unique하다면 최상단 항목이 표시됨
# freq : 최빈값의 빈도

stocks.describe(include='O')


# 고유값의 목록 확인
print(stocks['ChangeCode'].unique())
print(type(stocks['ChangeCode'].unique()))


# 고유값의 목록,갯수 확인
print(stocks['ChangeCode'].value_counts())
print(type(stocks['ChangeCode'].value_counts()))


# 데이터 프레임의 컬럼 메타정보
stocks.columns


# 데이터 프레임의 컬럼의 인덱스 메타정보
stocks.index


# 컬럼 제거 : 필요없는 행이나 열을 제거
new_stocks = stocks.drop('ISU_CD', axis=1)
new_stocks_desc = stocks_desc.drop(['Name', 'Market'], axis=1)
print(new_stocks.columns)
print(new_stocks_desc.columns)


display(new_stocks_desc)


display(new_stocks)


stocks_columns = ['Code', 'Name', 'Market', 'Close',
       'Changes', 'ChagesRatio', 'Open', 'High', 'Low', 'Volume', 'Amount',
       'Marcap', 'Stocks', 'MarketId'] 


stocks_desc_columns = ['Code','Sector', 'Industry', 'ListingDate',
       'SettleMonth', 'Representative', 'HomePage', 'Region']


stocks_desc.columns


stocks_desc = stocks_desc[stocks_desc_columns]


stocks = stocks[stocks_columns]





import pandas as pd


pd.merge?


#new_stocks join new_stocks_desc

new_stocks = pd.merge(new_stocks,new_stocks_desc)


new_stocks.shape


new_stocks.head(1)


new_stocks_desc.head(1)





file_name = f'stocks_{today}.xlsx'
file_name


new_stocks.to_excel(file_name, index=False)


# 엑셀로 저장하기
print(new_stocks.shape)
new_stocks.to_excel('stocks.xlsx',index=False)


df = pd.read_excel('stocks.xlsx')


df.shape


new_stocks.shape





# CSV파일로 저장하기
new_stocks.to_csv('stocks.csv',index=False)





# 삼성전자 주식 데이터 가져오기
# 데이터 가져오는 문법 : fdr.DataReader('Code' , '시작기간', '끝기간')
df = fdr.DataReader('005930', '2024-11-01', '2024-12-04')
print(df)


# KOSPI 지수 데이터 가져오기
df_kospi = fdr.DataReader('KOSPI', '2023-01-01', '2023-12-01')
print(df_kospi)


# 원/달러 환율 데이터 가져오기
df_usd_krw = fdr.DataReader('USD/KRW', '2023-01-01', '2023-12-01')
print(df_usd_krw)





import matplotlib.pyplot as plt

# 삼성전자 데이터 가져오기
df_samsung = fdr.DataReader('005930', '2023-01-01', '2023-12-01')

# 거래량 시각화
plt.figure(figsize=(12, 6))
plt.plot(df_samsung['Volume'], label='Volume', color='blue')
plt.title('Samsung Electronics Volume')
plt.xlabel('Date')
plt.ylabel('Volume')
plt.legend()
plt.show()








# 특정 날짜의 삼성전자 데이터 조회
date = '2023-05-01'
samsung_data_on_date = fdr.DataReader('005930','2023-01-01', '2023-12-01')
print(samsung_data_on_date)





# 삼성전자 주식 데이터 가져오기
df_samsung = fdr.DataReader('005930', '2023-01-01', '2023-12-01')

# 변동률 계산
df_samsung['Returns'] = df_samsung['Close'].pct_change() * 100
print(df_samsung[['Close', 'Returns']])
