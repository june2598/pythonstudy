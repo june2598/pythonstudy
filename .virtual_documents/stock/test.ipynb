


def sum(x,y) :
    ''' 두개의 입력을 받아 합계를 구하는 함수
        parameter : x 정수, y 정수
        return value : x와 y의 합계
    '''
    return x + y


sum?
