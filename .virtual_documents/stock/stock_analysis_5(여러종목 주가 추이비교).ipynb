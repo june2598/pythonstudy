


# 데이터 분석을 위한 패키지
import numpy as np
import pandas as pd


# 시각화 패키지
import matplotlib.pyplot as plt
import seaborn as sns


import koreanize_matplotlib


# 모든 컬럼,행을 출력하도록 설정
pd.set_option('display.max_columns', None) # None으로 설정하면 모든 컬럼 출력
pd.set_option('display.max_rows', 50) #None으로 설정하면 모든 행 출력


pd.options.display.float_format = '{:,.2f}'.format


import FinanceDataReader as fdr











#CSV 파일 불러오기
df_stocks = pd.read_csv('stocks.csv')


df_stocks.shape


df_stocks.columns


df_stocks.head(1)


# 상장일을 문자타입 -> 날짜타입
df_stocks['ListingDate'] = pd.to_datetime(df_stocks['ListingDate'])


# 타입 바뀌었는지 확인
df_stocks['ListingDate'].dtype
df_stocks.info()


# 날짜 정보 확인
# df_stocks['ListingDate'].dt.dayofweek      # 0(월)~6(일)
# df_stocks['ListingDate'].dt.year           # 년
# df_stocks['ListingDate'].dt.month          # 월
# df_stocks['ListingDate'].dt.day            # 일


# 시가총액 상위 10개종목의 코드
top10_codes = df_stocks.sort_values(by='Marcap', ascending=False).head(10)[['Code','Name']]


top10_codes 


top10_codes.values


# tolist() : numpy array => list
top10_codes.values.tolist()





# 2차원 numpy 배열 => 딕셔너리로 변환 
# case1) 리스트 컴프리헨션 => 딕셔너리
# dict_top10_codes = { ele[0] : ele[1] for ele in top10_codes.values }

# case2) zip : iterable 객체의 동일 인덱스에 있는 요소들을 묶어서 튜플로 반환
# arr1, arr2 = top10_codes.values[:,0], top10_codes.values[:,1]
# dict_top10_codes = dict(zip(arr1,arr2))

# case3) tolist : numpy의 ndarray => python list로 변환
dict_top10_codes = dict(top10_codes.values.tolist())


dict_top10_codes





# fdr.DataReader('005930','2024')





# enumerate : 순서(idx), 와 value

item_dict = {}
for key, value in dict_top10_codes.items() : 
    item_dict[value] = fdr.DataReader(key,'2024')['Close']

print(len(item_dict))
    # print(idx, code)


item_dict['NAVER']


item_dict





# case1)
df = pd.DataFrame(item_dict)
df


# case2)
# 종목의 종가를 열축으로 병합하기
df = pd.concat(item_dict.values(),axis=1)
# 컬럼명 수정
df = df.set_axis(dict_top10_codes.values(),axis=1)
df





df.plot(figsize=(15,6), secondary_y='삼성바이오로직스')
# df[['삼성전자','SK하이닉스']].plot(figsize=(15,6), secondary_y='삼성바이오로직스')





df['삼성전자']


df['삼성전자'] / df['삼성전자'].iloc[0] - 1


(df['삼성전자'] / df['삼성전자'].iloc[0] - 1)


# 2024년 1월 2일 기준 현시점 수익률
((df / df.iloc[0] - 1).iloc[-1].sort_values(ascending=False)*100).round(2) 


tmp = (df / df.iloc[0] - 1).iloc[-1].sort_values(ascending=False)


tmp.map(lambda x : f'{(x * 100) : .2f}%')


# pd.options.display.float_format : pandas 라이브러리에서 출력되는 부동소수점 숫자의 형식을 설정하는 옵션
# pd.options.display.float_format = '{:,.2f}'.format





tmp2 = df / df.iloc[0] - 1


tmp2.plot(figsize=(15,10))


tmp2[['KB금융','NAVER']].plot(figsize=(15,10), secondary_y='NAVER')



