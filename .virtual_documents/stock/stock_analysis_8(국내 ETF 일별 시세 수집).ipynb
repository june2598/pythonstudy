# 데이터 분석을 위한 패키지
import numpy as np
import pandas as pd


# 시각화 패키지
import matplotlib.pyplot as plt
import seaborn as sns
import plotly.express as px


import koreanize_matplotlib


# 모든 컬럼,행을 출력하도록 설정
pd.set_option('display.max_columns', None) # None으로 설정하면 모든 컬럼 출력
pd.set_option('display.max_rows', 50) #None으로 설정하면 모든 행 출력


pd.options.display.float_format = '{:,.2f}'.format


import FinanceDataReader as fdr


etfs = fdr.StockListing('ETF/KR') # 한국 ETF 전 종목


etfs.shape


etfs.head()


# 407830
# df = fdr.DataReader('KS11', '2022-01-01', '2022-12-31')







df = fdr.DataReader('407830')



df.shape


df.head()





df = df.reset_index()
df.head(1)


fig = px.line(df,x='Date', y='Close',title='일별 시세 추이')
fig.show()


# 전체 수익률 계산식
# 이 식은 특정 기간의 시작 가격(data['Close'].iloc[0])과 종료 가격(data['Close'].iloc[-1])을 이용하여 전체 수익률을 계산합니다.
# 결과는 해당 기간 동안의 총 수익률(%)을 나타냅니다.
# 주로 투자 성과를 평가할 때 사용됩니다.

# total_return = (data['Close'].iloc[-1] - data['Close'].iloc[0]) / data['Close'].iloc[0] * 100


# 일자별 수익률 추이
# 이 식은 각 시점의 종가를 시작 시점의 종가로 나누고, 1을 빼서 수익률을 계산합니다.
# 결과는 각 시점에서의 수익률을 나타내며, 이는 누적 수익률을 구하는 데 유용합니다.
# 이 방법은 종가 변화를 통해 각 날짜의 상대적인 수익률을 파악하는 데 적합합니다.
# 수익율 계산식 : 일자별 종가 / 수익율계산 시작일 

df['return_rate']=df['Close'] / df['Close'].iloc[0] - 1
df['return_rate']


fig = px.line(df,x='Date', y='return_rate',title='일별 시세 추이')
fig.update_xaxes(rangeslider_visible=True)
fig.show()





import plotly.graph_objects as go

fig = go.Figure(data=[go.Candlestick(x=df['Date'],
                open=df['Open'],
                high=df['High'],
                low=df['Low'],
                close=df['Close'])])

fig.update_xaxes(rangeslider_visible=False)
fig.show()


fig = go.Figure(data=[go.Ohlc(x=df['Date'],
                open=df['Open'],
                high=df['High'],
                low=df['Low'],
                close=df['Close'])])

fig.update_xaxes(rangeslider_visible=False)
fig.show()


# areaport 그리기
px.area(df['return_rate'])


#barchart 그리기
px.bar(df['return_rate'])


# scatterplot 그리기

px.scatter(df, x='Close', y='return_rate')


# boxplot 그리기

px.box(df['return_rate'])


# violinplot 그리기

px.violin(df['return_rate'])


# histogram 그리기

px.histogram(df['return_rate'], nbins=50)





# !pip uninstall kaleido


# !pip install --force-reinstall kaleido==0.1.0post1


# !pip install --force-reinstall kaleido==0.2.1


fig = px.histogram(df['return_rate'], nbins=50)
# fig.write_html('histogram.html')
# fig.write_image('histogram.png')
fig.write_image('histogram.pdf')
