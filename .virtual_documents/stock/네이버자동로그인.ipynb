# 셀레니움 브라우저의 동작을 자동화하는 패키지
from selenium import webdriver
from selenium.webdriver.chrome.options import Options
from selenium.webdriver.common.by import By
from selenium.webdriver.common.keys import Keys


!pip install pyperclip


import pyperclip


# # 브라우저 종료 방지 옵션
chrome_options = Options()
chrome_options.add_experimental_option('detach',True)

# # 웹 드라이버를 이용한 브라우저 제어
driver = webdriver.Chrome(options=chrome_options)

driver.implicitly_wait(1)


driver.get('http://www.naver.com')


driver.find_element(By.CSS_SELECTOR,'#account > div > a').click()


myid = 'hydrlisk20'


mypw = 'duddnjs816!'


# driver.find_element(By.CSS_SELECTOR,'#id').send_keys(myid)
# driver.find_element(By.CSS_SELECTOR,'#pw').send_keys(mypw)
# driver.find_element(By.CSS_SELECTOR,'#log\.login').click()


pyperclip.copy(myid)
driver.find_element(By.CSS_SELECTOR,'#id').send_keys(Keys.CONTROL,'v')


pyperclip.copy(mypw)
driver.find_element(By.CSS_SELECTOR,'#pw').send_keys(Keys.CONTROL,'v')


driver.find_element(By.CSS_SELECTOR,'#log\\.login').click()



