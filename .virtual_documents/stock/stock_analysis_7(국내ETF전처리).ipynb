# 데이터 분석을 위한 패키지
import numpy as np
import pandas as pd


# 시각화 패키지
import matplotlib.pyplot as plt
import seaborn as sns


import koreanize_matplotlib


# 모든 컬럼,행을 출력하도록 설정
pd.set_option('display.max_columns', None) # None으로 설정하면 모든 컬럼 출력
pd.set_option('display.max_rows', 50) #None으로 설정하면 모든 행 출력


pd.options.display.float_format = '{:,.2f}'.format


# 날짜는 파이썬 표준 라이브러리 datetime 사용
import datetime
# 오늘 날짜 가져오기
today = datetime.datetime.today()
today = today.strftime('%Y-%m-%d')
today


file_name = f'etf_{today}.csv'
file_name


df_etfs = pd.read_csv(file_name)


df_etfs.shape


df_etfs.head()


df_etfs.info()


# 거래량 상위 10개
df_etfs.sort_values('Volume', ascending=False).head(10)

# 등락율 기준 상위 10개

# 거래량 상위 10개
df_etfs.sort_values('ChangeRate', ascending=False).head(10)


# 파생열 추가 CategoryName
# df_etfs['CategoryName'] = df_etfs['Category']


# 파생열 추가 CategoryName
df_etfs['CategoryName'] = df_etfs['Category']

# Category코드를 코드명으로 변경
# 1. 국내 시장지수 2. 국내 업종/테마 3. 국내파생 4. 해외주식 5. 원자재 6. 채권 7. 기타
category_decode = ['국내 시장지수','국내 업종/테마' ,'국내파생' ,'해외주식','원자재','채권','기타']
df_etfs['CategoryName'] = df_etfs['CategoryName'].replace([i+1 for i in range(7)],category_decode)


df_etfs.head(5)


df_etfs.columns.tolist()


columns = ['Symbol',
 'Category',
 'CategoryName',
 'Name',
 'Price',
 'RiseFall',
 'Change',
 'ChangeRate',
 'NAV',
 'EarningRate',
 'Volume',
 'Amount',
 'MarCap'
 ]


df_etfs








columns = ['Symbol','Category','CategoryName','Name','Price','RiseFall','Change','ChangeRate','NAV','EarningRate','Volume','Amount','MarCap']

# case1) 열 재배치
df_etfs = df_etfs[columns]

# case2) reindex 메소드 사용
# df_etfs = df_etfs.reindex(columns = columns)

# case3) insert('삽입위치','열이름', 값) 메소드
# df_etfs.insert(2, 'CategoryName',df_etfs.pop('CategoryName'))
df_etfs


df_etfs['Name']





# df_etfs['Name'].str.split(' ').str[0]
df_etfs['Brand'] = df_etfs['Name'].str.split(' ').map(lambda list:list[0])


df_etfs


# 브랜드별 차지 비중 보기
# df['컬럼명'].value_counts() : 
df_etfs['Brand'].value_counts(normalize=True).map(lambda x:f'{x*100:.2f}%')


# 상위 10개 pie 그래프
df_etfs['Brand'].value_counts(normalize=True).sort_values(ascending=False).head(10).plot(kind='pie', autopct='%1.1f%%')
plt.title('브랜드 비중')





# 인버스 상품 가져오기
df_etfs[df_etfs['Name'].str.contains('인버스')].head(3)


# 주가가 떨어질 경우 오히려 수익을 얻는 펀드를 인버스 펀드나 리버스 펀드라고 합니다.
# 인버스상품과, 아닌것의 비율 구하기
df_etfs['인버스'] = df_etfs['Name'].str.contains('인버스')
df_etfs['인버스'].value_counts(normalize=True)*100


# 레버리지 ETF 선물 등 파생상품에 투자해 지수보다 높은 수익을 추구하는 ETF
# 레버리지 상품과 아닌 상품의 비율 구하기
df_etfs['레버리지'] = df_etfs['Name'].str.contains('레버리지')
df_etfs['레버리지'].value_counts(normalize=True)*100


# 헤지 상품과 아닌 상품의 비율 구하기
df_etfs['헤지'] = df_etfs['Name'].str.endswith('(H)')
df_etfs['헤지'].value_counts(normalize=True)*100


df_etfs.head()


df_etfs[df_etfs['레버리지']]


new_file_name = f'new_etf_{today}.csv'
new_file_name


df_etfs.to_csv(new_file_name, index=False)



