# 데이터 분석을 위한 패키지
import numpy as np
import pandas as pd


# 시각화 패키지
import matplotlib.pyplot as plt
import seaborn as sns


import koreanize_matplotlib


#CSV 파일 불러오기
df_stocks = pd.read_csv('stocks.csv')


# 모든 컬럼,행을 출력하도록 설정
pd.set_option('display.max_columns', None) # None으로 설정하면 모든 컬럼 출력
pd.set_option('display.max_rows', 50) #None으로 설정하면 모든 행 출력


stocks_columns = {'Code':'종목코드', 'Name':'종목명', 'Market':'시장', 'Dept':'부서(한국거래소)', 'Close':'종가', 'ChangeCode':'등락기호','Changes':'전일대비', 
                     'ChagesRatio':'전일대비 등락률', 'Open':'시가','High':'고가', 'Low':'저가', 'Volume':'거래량', 'Amount':'거래대금', 'Marcap':'시가총액', 
                     'Stocks':'주식발행수', 'MarketId':'시장기호', 'Sector':'업종', 'Industry':'주요제품', 'ListingDate':'상장일', 
                     'SettleMonth':'결산월', 'Representative':'대표자명','HomePage':'홈페이지', 'Region':'지역'} 


df_stocks.rename(columns = stocks_columns, inplace = True)


df_stocks.head(1)








# 행 추출방법

# case1) loc : 인덱스명
# df_stocks.loc[df_stocks['ChagesRatio'] == 30]
# df_stocks.loc[df_stocks['ChagesRatio'] == 30[['Name','Sector']]
# df_stocks.loc[df_stocks['ChagesRatio'] == 30, ['Name','Sector']]

# case2) iloc : 인덱스번호
# indices = df_stocks.index[df_stocks['ChagesRatio'] == 30]
# df_stocks.iloc[indices]
# df_stocks.iloc[df_stocks.index[df_stocks['ChagesRatio'] == 30]][['Name','Sector']]
# df_stocks.iloc[df_stocks.index[df_stocks['ChagesRatio'] == 30], [1,16]]

# case3) query
# df_stocks.query('ChagesRatio == 30')[['Name','Sector']]

# case4) [] : 대괄호 접근
# df_stocks[df_stocks['ChagesRatio'] == 30][['Name', 'Sector']]


# 컬럼(column) = 변수(variable) = 피처(feature)
# 변수에서 중복되지 않은 값 가져오기
df_stocks['지역'].unique()


df_stocks['시장'].unique()


# 서울 특별시 소재지를 두고있는 종목

# loc
# seoul_df_stocks = df_stocks.loc[df_stocks['지역'] == '서울특별시']
# seoul_df_stocks

# query
# seoul_df_stocks = df_stocks.query('지역 == "서울특별시"')
# seoul_df_stocks

# 대괄호 접근
seoul_df_stocks = df_stocks[df_stocks['지역'] == '서울특별시']
seoul_df_stocks


# 서울 특별시 소재지를 두고있는 KOSPI 종목
kospi_df_stocks = seoul_df_stocks[seoul_df_stocks['시장'] == 'KOSPI']

# 의 종목명과 업종
kospi_df_stocks[['종목명','업종']]





# case1) '-'를 구분자로 하여 년도만 추출

day = '2024-12-09'
day.split('-')[0]     # ['2024','12','09']

# 없는 열을 추가하면 파생열을 새로 생성
df_stocks['상장년도'] = df_stocks['상장일'].str.split('-').str[0]
df_stocks.head(2)


dir(df_stocks['상장일'].dt)


# case2) 문자열로 표현된 날짜를 날짜 타입으로 변경후 년도만 추출
# 문자열을 날짜형식으로 변환
df_stocks['상장일'] = pd.to_datetime(df_stocks['상장일'])
# df_stocks.info()
# df_stocks['상장일'].dtype
df_stocks['상장일'].dt.year
df_stocks['상장년도2'] = df_stocks['상장일'].dt.year
# df_stocks['상장일'].dt.month
# df_stocks['상장일'].dt.day



df_stocks.head(1)


len(df_stocks[df_stocks['상장년도'] == '2024'][['종목명','업종','시가총액','주식발행수']])
df_stocks[df_stocks['상장년도'] == '2024'][['종목명','업종','시가총액','주식발행수']].head(2)


len(df_stocks[df_stocks['상장년도2'] == 2024][['종목명','업종','시가총액','주식발행수']])
df_stocks[df_stocks['상장년도2'] == 2024][['종목명','업종','시가총액','주식발행수']].head(2)


# 문자열로 표시된 날짜
# date_str = "1975-06-11"

# 년도 추출
# year = date_str[:4]


# '상장일'을 날짜 형식으로 변환 (원본을 수정함)
df_stocks['상장일'] = pd.to_datetime(df_stocks['상장일'], format='%Y-%m-%d')


# 2024년에 상장한 종목
df_stocks_2024 = df_stocks[df_stocks['상장일'].dt.year == 2024]
df_stocks_2024



# 2024년에 상장한 종목의 종목명,업종,시가총액,주식발행수
df_stocks_2024[['종목명','업종','시가총액','주식발행수']]


df_stocks_2024.sort_values('주식발행수', ascending=False)[['종목명','주식발행수']].head(20).plot(kind='barh')





# KOSPI 시장이면서, 거래량이 0이 아닌곳
df_stocks[(df_stocks['시장'] == 'KOSPI') & (df_stocks['거래량'] != 0)]





df_stocks[(df_stocks['시장'] == 'KOSPI') & (df_stocks['거래량'] != 0)].sort_values('거래량', ascending=False).head(3)[['종목명','업종','거래량']]


df_stocks[(df_stocks['시장'] == 'KOSPI') & (df_stocks['거래량'] != 0)].sort_values('거래량', ascending=False).tail(3)[['종목명','업종','거래량']]





# case1)

# to.frame : series => dataframe
# value_counts(하나의 컬럼)
df_stocks['상장년도'].value_counts().to_frame().reset_index()

# df_stocks['상장년도'].value_counts().to_frame().set_index('상장년도')



# case 2)
df_stocks.groupby('상장년도').size()
# df_stocks.groupby('상장년도').agg('size')


# 1956년에 상장한 종목
df_stocks[df_stocks['상장년도']== '1956']['종목명']


# 오름차순 정렬 (values)
df_stocks.groupby(['상장년도','시장']).agg('size').sort_values(ascending=False)


# 올해의
df_stocks.query('상장년도 == "2024"').groupby(['상장년도','시장']).agg('size').sort_values(ascending=False)





df_stocks['시장'].value_counts()


# 각 시장별 상장년도
pd.crosstab(df_stocks['시장'],df_stocks['상장년도'])


pd.crosstab(df_stocks['시장'],df_stocks['지역'])


# 각 시장별 지역
crosstab = pd.crosstab(df_stocks['시장'],df_stocks['지역'])
# annot : 수치를 보여줌, fmt='d' : 정수로 
plt.figure(figsize=(10,4))
# heatmap
sns.heatmap(crosstab, annot=True, cmap='Blues', fmt='d')
plt.title('시장별 지역 빈도수')
plt.xlabel('지역')
plt.ylabel('시장')
plt.show()





# df_stocks[(df_stocks['시장'] == 'KOSDAQ') & ((df_stocks['지역'] == '홍콩') | (df_stocks['지역'] == '일본'))]['종목명']

cond1 = (df_stocks['지역'] == '홍콩') | (df_stocks['지역'] == '일본')
cond2 = (df_stocks['시장'] == 'KOSDAQ')

df_stocks[cond1 & cond2][['지역','종목명','홈페이지']].sort_values('지역')

