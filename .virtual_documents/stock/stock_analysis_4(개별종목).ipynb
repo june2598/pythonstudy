# 데이터 분석을 위한 패키지
import numpy as np
import pandas as pd


# 시각화 패키지
import matplotlib.pyplot as plt
import seaborn as sns


import koreanize_matplotlib


# 모든 컬럼,행을 출력하도록 설정
pd.set_option('display.max_columns', None) # None으로 설정하면 모든 컬럼 출력
pd.set_option('display.max_rows', 50) #None으로 설정하면 모든 행 출력





import FinanceDataReader as fdr


#CSV 파일 불러오기
df_stocks = pd.read_csv('stocks.csv')


df_stocks.shape

















# 종목명으로 일별 시세 받아오는 함수

def get_daily_price(name,start,end=None) :
    return fdr.DataReader(find_code_by_name(name),start,end)


type(find_code_by_name('삼성전자'))


df_samsung = get_daily_price('삼성전자','2024-01-01')


df_samsung.shape


df_samsung


# 삼성전자 일별 시세 가져오기
# df = fdr.DataReader('005930', '2024-01-01')
# df_stock = fdr.DataReader('005930')

df_samsung = get_daily_price('삼성전자')


df_samsung.shape


df_samsung.head(3)


df_samsung.tail(3)


df_samsung['Close'].plot(kind='line',figsize=(10,6))


# 2축그래프 - 단위가 크게 다른 경우 y축의 단위를 서로 다르게줘서 가독성있는 그래프 제공
# secondary_y : 두번째 y축
df_samsung[['Open','High','Low','Close','Volume']].plot(kind='line',secondary_y='Volume', figsize=(15,5))


df_samsung[['Open','High','Low','Close','Volume']].plot(kind='line', subplots=True, figsize=(10,10))



