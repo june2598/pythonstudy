# 데이터 분석을 위한 패키지
import numpy as np
import pandas as pd


# 시각화 패키지
import matplotlib.pyplot as plt
import seaborn as sns


# 한글 지원 라이브러리 설치
# !pip install koreanize-matplotlib


# 한글 지원
import koreanize_matplotlib


# 자릿수 최적화 (소숫점 두자리)
pd.options.display.float_format = '{:,.2f}'.format


pd.set_option?


# 모든 컬럼,행을 출력하도록 설정
pd.set_option('display.max_columns', None) # None으로 설정하면 모든 컬럼 출력 default: 20

pd.set_option('display.max_rows', 30) #None으로 설정하면 모든 행 출력 default: 60


# pd.set_option('display.width', 1000) #원하는 폭으로 설정





#엑셀 파일 불러오기
# df_stocks = pd.read_excel('stocks.xlsx')
#CSV 파일 불러오기
df_stocks = pd.read_csv('stocks.csv')


df_stocks.shape


df_stocks


df_stocks.head(1)


df_stocks.info()





df_stocks.isna().sum()[df_stocks.isna().sum() > 0].sort_values(ascending=True)


temp = df_stocks.isna().sum(axis=0).sort_values(ascending=False)
temp = temp[temp > 0]
temp



temp.plot?


# print(df_stocks.isna().sum(axis=0).sort_values(ascending=True))

#그래프로 시각화
# df_stocks.isna().sum(axis=0).sort_values(ascending=False).plot()

#king : 그래프 종류 

plt.figure(figsize=(5,3)) # 너비 10인치 높이 5인치
temp.plot(kind='barh')


# 요약 기술 통계
df_stocks.isna().sum(axis=0).sort_values(ascending=True).plot()

#std : 표준편차


df_stocks.columns





stocks_columns = {'Code':'종목코드', 'Name':'종목명', 'Market':'시장', 'Dept':'부서(한국거래소)', 'Close':'종가', 'ChangeCode':'등락기호','Changes':'전일대비', 
                     'ChagesRatio':'전일대비 등락률', 'Open':'시가','High':'고가', 'Low':'저가', 'Volume':'거래량', 'Amount':'거래대금', 'Marcap':'시가총액', 
                     'Stocks':'주식발행수', 'MarketId':'시장기호', 'Sector':'업종', 'Industry':'주요제품', 'ListingDate':'상장일', 
                     'SettleMonth':'결산월', 'Representative':'대표자명','HomePage':'홈페이지', 'Region':'지역'} 


# 컬럼명 변경
# inplace 매개변수 : 데이터프레임 원본을 수정하려면 True, 복사본을 반환받으려면 False
df_stocks.rename(columns = stocks_columns, inplace = True)


df_stocks.head(1)


#범주형 데이터 기술 통계
df_stocks.describe(include='O')


# 중복 제거한 값(유니크한)의 목록
print(df_stocks['시장'].value_counts())


print(df_stocks['부서(한국거래소)'].value_counts())


print(df_stocks['시장기호'].value_counts())


df_stocks.plot?


plt.figure(figsize=(8,6))
print(df_stocks['지역'].value_counts())
df_stocks['지역'].value_counts().sort_values().plot(kind='pie', autopct='%1.1f%%', startangle=90)
plt.title('지역별 비중') # 제목추가
plt.ylabel('') # 축 라벨 제거
plt.show() # 차트 표시


print(df_stocks['업종'].value_counts())


#상위 20개 업종
print(df_stocks['업종'].value_counts().sort_values(ascending=False).head(20))
tmp = df_stocks['업종'].value_counts().sort_values(ascending=True).tail(20)
tmp.plot(kind='barh',  title='상위 20개 업종')
