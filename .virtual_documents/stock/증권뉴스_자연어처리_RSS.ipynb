import pandas as pd
import numpy as np


# 시각화 패키지
import matplotlib.pyplot as plt
import seaborn as sns
import koreanize_matplotlib
from wordcloud import WordCloud


# 모든 컬럼,행을 출력하도록 설정
pd.set_option('display.max_columns', None) # None으로 설정하면 모든 컬럼 출력
pd.set_option('display.max_rows', 50) #None으로 설정하면 모든 행 출력
pd.set_option('display.max_colwidth', None) #None으로 설정하면 모든 내용을 출력


# 정규화
import re


# 날짜는 파이썬 표준 라이브러리 datetime 사용
import datetime
# 오늘 날짜 가져오기
today = datetime.datetime.today()
today = today.strftime('%Y-%m-%d')
today


df = pd.read_csv(f'news_{today}.csv')
df.head(2)


df.shape


df.info()


df.describe()


df['작성일시'].value_counts().sort_values(ascending=False).head().index


df[df.duplicated(subset='작성일시')].sort_values(by='작성일시')


df.duplicated().describe()





# 제목,내용 길이
df['제목_길이'] = df['제목'].str.len()
df['내용_길이'] = df['내용'].str.len()


# 제목,내용 토큰 갯수
df['제목_토큰_갯수'] = df['제목'].str.split().str.len()
df['내용_토큰_갯수'] = df['내용'].str.split().str.len()


df[['제목_길이','제목_토큰_갯수','내용_길이','내용_토큰_갯수']].describe()


df.hist(bins=10)


df[df['제목_길이'] == df['제목_길이'].max()]['제목'].values





# 제목을 하나의 문자열로 만들기
news_title = ' '.join(df['제목'])
news_title[:100]


WordCloud?


def display_word_cloud(str, max_words=30, width=1200,height=600) : 

    # r스트링 쓰는이유 : \ 를 특별한 의미로 해석하지말고 평범한 하나의 문자로 해석하게 하기위함
    font_path = r'C:\Windows\Fonts\malgun.ttf'
    stopwords = ['코스피','코스닥','종목','ETF','주식','주가','올해','내년','상장','시총','상승','하락','국내','해외','외국인','투자','서학','동학','소식에','기대감','기업','시장','목표가']
    word_cloud = WordCloud(font_path = font_path,
              width=width,
              height=height,
              stopwords=stopwords,
              background_color='white',
              min_word_length = 2,
              max_words = max_words,
              random_state=2024).generate(str)
    plt.imshow(word_cloud)
    plt.show()
    return word_cloud


display_word_cloud(news_title)


tmp_str = ''.join(df[df['제목'].str.contains('이수페타시스')]['내용'])
tmp_word_cloud = display_word_cloud(tmp_str,50)


tmp_str = ''.join(df[df['제목'].str.contains('고려아연')]['내용'])
tmp_word_cloud = display_word_cloud(tmp_str,50)


tmp_word_cloud.words_


tmp_str = ''.join(df[df['제목'].str.contains('엔비디아')]['내용'])
tmp_word_cloud = display_word_cloud(tmp_str,50)


tmp_str = ''.join(df[df['제목'].str.contains('테슬라')]['내용'])
tmp_word_cloud = display_word_cloud(tmp_str,50)


tmp_word_cloud.words_





# !pip install pecab


# from pecab import PeCab


# pecab = PeCab()


# pecab.nouns('아버지가 방에 들어가신다 주말 여행 영남권')


# pecab.nouns(tmp_str)


# 프로세스 진행과정을 보여줌

from tqdm import tqdm
tqdm.pandas()
# df['제목_명사'] = df['제목'].progress_map(lambda x : ' '.join(pecab.nouns(x)))


# df['내용_명사'] = df['내용'].progress_map(lambda x : ' '.join(pecab.nouns(x)))








from konlpy.tag import Okt


okt = Okt()


dir(okt)


txt = '아버지 방에 들어가신다'
okt.morphs(txt)


okt.pos(txt)


okt.nouns(txt)


df['제목_명사'] = df['제목'].progress_map(lambda x : ' '.join(okt.nouns(x)))


str = ''.join(df['제목_명사'])

dwc = display_word_cloud(str,100)


dwc.words_


okt.tagset?


from sklearn.feature_extraction.text import CountVectorizer


cvect = CountVectorizer()


X = cvect.fit_transform(df['제목'])


tmp = pd.DataFrame(X.toarray(), columns=cvect.get_feature_names_out())



