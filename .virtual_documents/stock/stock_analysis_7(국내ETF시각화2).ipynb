# 데이터 분석 패키지
import numpy as np
import pandas as pd


# 모든 컬럼을 출력하도록 설정
pd.set_option('display.max_columns', None)  # None으로 설정하면 모든 컬럼 출력
# 모든 행을 출력하도록 설정
pd.set_option('display.max_rows', 30)  # None으로 설정하면 모든 행 출력


# 시각화 패키지
import seaborn as sns
import matplotlib.pyplot as plt


# matplotlib 한글지원 패키지
import koreanize_matplotlib


# 날짜는 파이썬 표준라이브러리 datetime 사용
import datetime
# 오늘 날짜 구하기
today = datetime.datetime.today()
today = today.strftime('%Y-%m-%d')
# today = '2024-12-19'


df_etfs = pd.read_csv(f'new_etf_{today}.csv')


df_etfs.shape


df_etfs.head(1)





# 수치형 변수만 선별
df_num_vars = df_etfs.select_dtypes(np.number).drop(['Category','RiseFall'], axis=1)
df_num_vars.head(2)


# 수치형 변수 가져오기
df_num_vars.columns


# 수치형 변수 리스트 만들기
num_cols = df_num_vars.columns.tolist()


# 수치형 변수 히스토그램으로 시각화


# case1) 단일변수
df_etfs[num_cols[0]].plot(kind='hist', bins=30, figsize=(4,2))
plt.title(f'{num_cols[0]}의 히스토그램')
plt.xlabel(num_cols[0])
plt.show()

# case2) 단일변수
df_etfs[num_cols[1]].plot.hist(bins=30, figsize=(4,2))
plt.title(f'{num_cols[1]}의 히스토그램')
plt.show()

# case3) 복수변수
df_etfs[num_cols].hist()
plt.tight_layout()
plt.show()



# # 모든 수치형 변수를 히스토그램으로 시각화 - matplolib의 plot기능 사용
fig, axes = plt.subplots(2, 4, figsize=(10, 6))
idx = 0
for i in range(2):
    for j in range(4):
        if idx < len(num_cols):  # num_cols의 길이를 초과하지 않도록 확인
            col = num_cols[idx]
            axes[i][j].hist(df_etfs[col],bins=30)
            axes[i][j].set_title(col)
            idx += 1
plt.show()


# fig, axes = plt.subplots(2, 4, figsize=(10, 8))         
# # 각 수치형 변수에 대해 히스토그램 생성
# for i, col in enumerate(num_cols):
#     row = i // 4  # 행 인덱스 계산
#     col_idx = i % 4  # 열 인덱스 계산
#     df_etfs[col].plot.hist(ax=axes[row, col_idx], bins=30)
#     axes[row, col_idx].set_title(col)
#     # axes[row, col_idx].legend()


# plt.show()


# wide-fomr = long-form 변환

# case1)
# pd.melt(df_etfs[num_cols])

# case2)
tmp = df_etfs[num_cols].melt()
tmp


# # 모든 수치형 변수를 히스토그램으로 시각화 - seaborn의 plot기능 사용

# case1) 단일변수
plt.figure(figsize=(4,3))
sns.histplot(data=df_etfs['Price'], bins=30, kde=True,alpha=0.7)
plt.title('Price 의 히스토그램')
plt.xlabel('Price')
plt.show()

# case2) 모든 변수

g = sns.FacetGrid(data=df_etfs[num_cols].melt(),  col='variable', col_wrap=4, height=4, sharex=False, sharey=False)
g.map_dataframe(sns.histplot,bins=30, kde=True)
g.map_dataframe(sns.rugplot)

plt.show()


g = sns.FacetGrid(data=df_etfs[num_cols].melt(),  col='variable', col_wrap=4, height=4, sharex=False, sharey=False)
g.map_dataframe(sns.ecdfplot)
plt.show()


df_etfs[num_cols].head(2)


df_num_vars[num_cols].hist(figsize=(10,10), bins=50)
plt.show()





dir(df_num_vars[num_cols])


def findAttr( module, txt) :
  import re
  data_list = dir(module)
  pattern = re.compile(rf'{txt}')

  matches = [item for item in data_list if pattern.search(item)]
  return matches
  
findAttr(df_num_vars[num_cols], 'area')


df_etfs.head(3)



# df_melted = df_num_vars.melt(var_name='Variable', value_name='Value')


tmp = pd.melt(df_num_vars)
g= sns.FacetGrid(data=tmp, col='variable', height=4,aspect=1.2, col_wrap=4, sharex=False, sharey=False, palette='Blues_r')
g.map(sns.histplot, 'value', bins=30 , kde=True, color='blue')
g.map(sns.rugplot, 'value',color='red')



g= sns.FacetGrid(data=tmp, col='variable', col_wrap=4, height=4,aspect=1.2, sharex=False, sharey=False, palette='Blues_r')
g.map(sns.ecdfplot, 'value')






# 수치형 변수의 스케일 조정 파생열 추가

for col in num_cols:
  # 표준화
  df_etfs[f'{col}_z_score'] = (df_etfs[col] - df_etfs[col].mean()) / df_etfs[col].std()
  # 정규화  
  df_etfs[f'{col}_norm'] = (df_etfs[col] - df_etfs[col].min()) / (df_etfs[col].max() - df_etfs[col].min())


df_etfs.head(1)


df_etfs.filter(regex=f'(_norm)$',axis=1).head()


# 수치형변수를 표준화 변환 후, 히스토그램 시각화
df_etfs.filter(regex=f'(_z_score)$',axis=1).hist(figsize=(10,6), bins=30)
plt.tight_layout()
plt.show()


# 수치형변수를 정규화 변환 후, 히스토그램 시각화
df_etfs.filter(regex=f'(_norm)$',axis=1).hist(figsize=(10,6), bins=30)
plt.tight_layout()
plt.show()


tmp = pd.melt(df_etfs.filter(regex=f'(_norm)$',axis=1))
g = sns.FacetGrid(data=tmp, col='variable',col_wrap=3, height=4, aspect=1.2, sharex=False)
g.map_dataframe(sns.kdeplot, x='value')


g = sns.FacetGrid(data=df_etfs.filter(regex=f'(_norm)$',axis=1).melt(), height=4, aspect=3, hue='variable')
g.map_dataframe(sns.kdeplot)


g = sns.FacetGrid(data=df_etfs.filter(regex=f'(_norm)$',axis=1), height=4, aspect=3)
g.map_dataframe(sns.kdeplot)


df_etfs.filter(regex=f'(_norm)$').plot(kind='kde',figsize=(20,10))
plt.legend(fontsize=15)
plt.show()





tmp.head(1)


tmp = pd.melt(df_etfs.filter(regex=f'(_norm)$',axis=1))
g = sns.FacetGrid(data=tmp, col='variable',col_wrap=3, aspect=1.2, height=4,sharex=False)
g.map_dataframe(sns.kdeplot, x='value')


tmp = pd.melt(df_etfs.filter(regex=f'(_z_score)$',axis=1))
g = sns.FacetGrid(data=tmp, col='variable',col_wrap=3, aspect=1.2, height=4,sharex=False)
g.map_dataframe(sns.kdeplot, x='value')


# price_z_score = (df_etfs['Price'] - df_etfs['Price'].mean()) / df_etfs['Price'].std()
# price_norm = (df_etfs['Price'] - df_etfs['Price'].min()) / (df_etfs['Price'].max() - df_etfs['Price'].min())

# nav_z_score = (df_etfs['NAV'] - df_etfs['NAV'].mean()) / df_etfs['NAV'].std()
# nav_norm = (df_etfs['NAV'] - df_etfs['NAV'].min()) / (df_etfs['NAV'].max() - df_etfs['NAV'].min())




price_norm.plot(kind='kde')


df_num_vars['Volume'].plot(kind='box')


df_num_vars[num_cols].scatter(figsize=(10,10), bins=50)
plt.show()


df_num_vars[num_cols].hist(figsize=(10,10), bins=50)
plt.show()





# 수치 변수간의 상관계수
df_etfs[num_cols].corr().style.background_gradient(cmap='Greens')


# 수치형 변수간의 상관계수 시각화
plt.figure(figsize=(6,4))

sns.heatmap(df_etfs[num_cols].corr(), annot=True, fmt='.1f',cmap='coolwarm',linewidths=0.5)
plt.title('수치형 변수간의 상관계수 시각화')
plt.show()

# sns.heatmap(tmp, cmap='Blues', annot=True, fmt='.1f', mask=np.triu(np.ones_like(tmp,dtype=bool)))


# 수치형 변수 2개간의 관계 시각화 scaaterplot
plt.figure(figsize=(6,4))
sns.scatterplot(data=df_etfs, x='Volume', y='Amount')


# 수치형 변수 2개간의 관계 시각화 lmplot => scatterplot + 회귀선
plt.figure(figsize=(6,4))
sns.lmplot(data=df_etfs, x='Volume', y='Amount')
plt.show()


# 수치형 변수 2개간의 관계 시각화 lineplot
plt.figure(figsize=(6,4))
sns.lineplot(data=df_etfs, x='Volume', y='Amount')
plt.show()


plt.figure(figsize=(3,2))
sns.relplot(data=df_etfs[num_cols],  x='Volume', y='Amount')
plt.show()


# 수치형변수에 대해 대각선에 histogram, 대각선 상하단에 주어진 데이터프레임의 모든 수치형 변수 조합에 대해 scatterplot을 그립니다.

sns.pairplot(data=df_etfs[num_cols])
plt.show()


# 수치형 변수에 대해 대각선, 대각선 상하단에 플롯을 지정하여 시각화
g = sns.PairGrid(data=df_etfs[num_cols])
# 각 서브플롯에 산점도를 그리기
g.map_diag(sns.histplot)  # 대각선에 히스토그램
g.map_upper(sns.scatterplot)  # 대각선 상단에 산점도
g.map_lower(sns.kdeplot) # 대학선 하단에 kde
plt.show()






# 브랜드에 대한 3개월 수익률의 평균 시각화
# 이 방법을 추천(아래 처럼 따로 구해서 그릴필요가없음) 
g = sns.barplot(data=df_etfs, y='Brand', x='EarningRate',estimator=np.mean)
type(g)
g.set_title('브랜드별 평균 3개월 수익률')

# 브랜드에 대한 3개월 수익률의 평균을 groupby로 직접 구하기
brand_3month_mean = df_etfs.groupby(['Brand']).agg({'EarningRate':'mean'})
brand_3month_mean






# 브랜드에 대한 3개월 수익률의 평균을 groupby로 직접 구한후 dataframe의 plot기능 사용
brand_3month_mean.sort_values(by='EarningRate').plot.barh(title='3개월 수익률 상한치 이상인 etf종목.xlsx', figsize=(10,8))
plt.show()



# 브랜드에 대한 3개월 수익률의 평균 시각화
plt.figure(figsize=(10,8))

# errorbar : 표준편차
g = sns.barplot(data=df_etfs, y='Brand', x='EarningRate',hue='레버리지',errorbar='sd',estimator=np.mean)
type(g)
g.set_title('브랜드별 평균 3개월 수익률')
plt.show()


g = df_etfs.groupby(['Brand','레버리지']).agg({'EarningRate':'mean'})
type(g)

g.style.background_gradient(cmap='Greens')

# 멀티인덱스


import re
matches = [item for item in df_etfs.Name.tolist() if re.compile(r'\d{1}X').search(item)]
matches



# 브랜드별 레버리지/비 레버리지 상품 3개월 수익률에 대한 boxplot 시각화
plt.figure(figsize=(10,12))
sns.boxplot(data=df_etfs, x='EarningRate',y='Brand', hue='레버리지')


# 브랜드별 레버리지/비 레버리지 상품 3개월 수익률에 대한 violinplot 시각화
plt.figure(figsize=(10,20))
sns.violinplot(data=df_etfs, x='EarningRate',y='Brand', hue='레버리지')


g = sns.FacetGrid(data=df_etfs, col='Brand', col_wrap=3, height=4, sharex=False, sharey=False)
g.map_dataframe(sns.violinplot,  x='EarningRate', hue='인버스',  palette='viridis',split=True)

# 범례표시
g.add_legend(title='인버스')
plt.show()


# 브랜드별 카테고리별 3개월 수익률 stripplot 시각화

g = sns.FacetGrid(data=df_etfs, col='Brand', col_wrap=3, height=4, sharex=False, sharey=False)
g.map_dataframe(sns.stripplot,  y='CategoryName', x='EarningRate', size=1)     # size 단위 : point, 1point = 약 1/72 인치

plt.show()





df_etfs.groupby(['Brand','레버리지'])['EarningRate'].describe().style.background_gradient(cmap='Greens')


df_etfs.query('레버리지== True').groupby(['Brand','레버리지'])['EarningRate'].describe().style.background_gradient(cmap='Greens')





df_plus = df_etfs[df_etfs['Brand'] == 'PLUS']
df_plus


sns.barplot(data=df_plus, x='Brand', y='EarningRate',estimator=np.mean)
plt.show()


sns.boxplot(data=df_plus, x='Brand', y='EarningRate')
plt.show()


sns.boxenplot(data=df_plus, x='Brand', y='EarningRate')
plt.show()


df_plus['EarningRate'].hist(bins=30)
sns.histplot(data=df_plus, x='EarningRate',bins=30)
plt.show()
sns.kdeplot(data=df_plus, x='EarningRate',fill=True)
plt.show()


sns.violinplot(data=df_plus, y='EarningRate', x='Brand', inner= 'quartile', cut=6)


sns.violinplot(data=df_plus, y='EarningRate', x='Brand', hue='레버리지', inner= 'quartile', cut=3, split=True)


sns.violinplot(data=df_plus, y='EarningRate', x='Brand', hue='인버스', inner= 'quartile', cut=3, split=True)





fig, axes = plt.subplots(ncols=3,figsize=(10,6))
sns.boxplot(data=df_plus, x='Brand', y='EarningRate', ax=axes[0])
sns.boxenplot(data=df_plus, x='Brand', y='EarningRate', ax=axes[1])
sns.violinplot(data=df_plus, x='Brand', y='EarningRate', ax=axes[2])
plt.tight_layout()
plt.show()





sns.barplot(data=df_etfs, x='Volume', y='Brand', estimator=np.mean)
plt.show()


sns.countplot(data=df_etfs, y='Brand')
plt.show()


sns.barplot(data=df_etfs, x='MarCap', y='Brand', estimator=np.mean)


df_etfs['Brand'].unique()


sns.barplot(data=df_etfs[df_etfs['Brand'].isin(['KODEX', 'TIGER', 'RISE', 'ACE','SOL'])], x='Volume', y='Brand', estimator=np.mean)
plt.show()


sns.boxplot(data=df_etfs[df_etfs['Brand'].isin(['KODEX', 'TIGER', 'RISE', 'ACE','SOL'])], x='Volume', y='Brand')
plt.show()





sns.countplot(data=df_etfs, y='CategoryName')
plt.show()


sns.barplot(data=df_etfs, x='Volume', y='CategoryName')
plt.show()


sns.barplot(data=df_etfs, x='Amount', y='CategoryName')
plt.show()


sns.barplot(data=df_etfs, x='MarCap', y='CategoryName')
plt.show()


sns.barplot(data=df_etfs, x='EarningRate', y='CategoryName')
plt.show()





categories = df_etfs['CategoryName'].unique().tolist()
len(categories)


categories


sns.countplot?


# 카테고리별 브랜드별 빈도수 시각화 하기 : CategoryName,Brand
# case1) subplot 생성해서 시각화(axes레벨)

fig, axes = plt.subplots(2,4, figsize=(15, 10))

for idx, category in enumerate(categories):
    row = idx // 4
    col = idx % 4
    sns.countplot(data=df_etfs[df_etfs['CategoryName'] == category], y='Brand', ax=axes[row, col])
    axes[row, col].set_title(category)
    axes[row, col].set_xlabel('빈도')
    axes[row, col].set_ylabel('브랜드')
    
# 레이아웃 조정
plt.tight_layout()
plt.show()


# 카테고리별 브랜드별 빈도수 시각화 하기 : CategoryName,Brand
# case2) catplot
g = sns.catplot(data=df_etfs, y='Brand', col='CategoryName',col_wrap=2, hue='CategoryName', height=10, kind='count',sharex=False)
g.set_xlabels("빈도")
g.set_ylabels("브랜드")
plt.tight_layout()
plt.show()


sns.catplot?


sns.FacetGrid?


df_etfs[['CategoryName','Brand']]


tmp = df_etfs[['CategoryName', 'Brand']]
tmp.head()


# 카테고리별 브랜드별 빈도수 시각화 하기 : CategoryName,Brand
# FacetGrid 사용

plt.figure(figsize=(15, 15))
g = sns.FacetGrid(data=tmp, col='CategoryName', col_wrap=2, height=6, aspect=1.5, sharex=False, sharey=False)

# 각 서브플롯에 데이터 추가
g.map_dataframe(sns.countplot, y='Brand')
plt.show()

