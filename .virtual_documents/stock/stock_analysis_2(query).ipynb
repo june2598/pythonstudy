# 데이터 분석을 위한 패키지
import numpy as np
import pandas as pd


pd.options.display.float_format = '{:,.2f}'.format


# 모든 컬럼,행을 출력하도록 설정
pd.set_option('display.max_columns', None) # None으로 설정하면 모든 컬럼 출력

pd.set_option('display.max_rows', 50) #None으로 설정하면 모든 행 출력


#CSV 파일 불러오기
df_stocks = pd.read_csv('stocks.csv')


df_stocks.head(1)


df_stocks.index[df_stocks['ChagesRatio'] == 30]





# 행 추출방법

# case1) loc : 인덱스명
# df_stocks.loc[df_stocks['ChagesRatio'] == 30]

# case2) iloc : 인덱스번호
# indices = df_stocks.index[df_stocks['ChagesRatio'] == 30]
# df_stocks.iloc[indices]

# case3) query
# df_stocks.query('ChagesRatio == 30')

# case4) [] : 대괄호 접근
# df_stocks[df_stocks['ChagesRatio'] == 30]







# 행 추출방법

# case1) loc : 인덱스명
# df_stocks.loc[df_stocks['ChagesRatio'] == 30]

# case2) iloc : 인덱스번호
# indices = df_stocks.index[df_stocks['ChagesRatio'] == 30]
# df_stocks.iloc[indices]

# case3) query
# df_stocks.query('ChagesRatio == 30')

# case4) [] : 대괄호 접근
# df_stocks[df_stocks['ChagesRatio'] == 30]




df_stocks.describe()


df_stocks.sort_values('ChagesRatio', ascending=False).head(30)['Name']


type(df_stocks.groupby('Sector')['Marcap'].sum().reset_index())


df_stocks.groupby('Sector')['Marcap'].head()


df_stocks.groupby('Sector')['Marcap'].idxmax()


type(df_stocks.groupby('Sector')['Marcap'].sum())


# 산업별 시가총액 상위목록

# 산업별 시가 총액 합계 계산
df_stocks.groupby('Sector')['Marcap'].sum().reset_index()

# 각 산업별로 시가총액이 가장 높은 기업
top_industries = df_stocks.loc[df_stocks.groupby('Sector')['Marcap'].idxmax()]
top_industries



df_stocks.head(1)
