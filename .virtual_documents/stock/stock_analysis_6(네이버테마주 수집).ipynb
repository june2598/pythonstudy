# 데이터 분석을 위한 패키지
import numpy as np
import pandas as pd


# 시각화 패키지
import matplotlib.pyplot as plt
import seaborn as sns


import koreanize_matplotlib


!pip install html5lib


# 모든 컬럼,행을 출력하도록 설정
pd.set_option('display.max_columns', None) # None으로 설정하면 모든 컬럼 출력
pd.set_option('display.max_rows', 50) #None으로 설정하면 모든 행 출력


pd.options.display.float_format = '{:,.2f}'.format


# 2차전지 테마주 네이버 증권 url
url = 'https://finance.naver.com/sise/sise_group_detail.naver?type=theme&no=64'


table = pd.read_html(url, encoding = 'cp949')


len(table)


table[0]


table[1]


table[2]


type(table[2])


df = table[2]


# 결측치 확인
df.isna().sum()


df.shape


df.dropna?


# 모든 행, 모든열이 NaN인 
df = df.dropna(how='all', axis=0).dropna(how='all', axis=1)


df.info()


# 수치형 컬럼의 기술 통계 요약
df.describe()


# 범주형 컬럼의 기술 통계 요약
df.describe(include='O')


# 종목명.1 컬럼 제거
df = df.drop('종목명.1',axis=1)


df.head(1)


# 특정 테마주 거래량 상위 20종목
df[['종목명','거래량']].sort_values('거래량').tail(20).set_index('종목명').plot(kind='barh', figsize=(8,6))



