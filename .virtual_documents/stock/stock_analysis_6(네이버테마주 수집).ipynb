# 데이터 분석을 위한 패키지
import numpy as np
import pandas as pd


# 시각화 패키지
import matplotlib.pyplot as plt
import seaborn as sns


import koreanize_matplotlib


import html5lib


# pd.read_html 함수 내에서 사용하는 패키지 설치
# !pip install html5lib


# html5lib : html 구문해석기


# 모든 컬럼,행을 출력하도록 설정
pd.set_option('display.max_columns', None) # None으로 설정하면 모든 컬럼 출력
pd.set_option('display.max_rows', 50) #None으로 설정하면 모든 행 출력


pd.options.display.float_format = '{:,.2f}'.format


# 2차전지 테마주 네이버 증권 url
url = 'https://finance.naver.com/sise/sise_group_detail.naver?type=theme&no=64'


# 웹페이지 내에서 table 태그를 데이터프레임으로 변환해서 리스트에 개별요소로 저장
table = pd.read_html(url, encoding = 'cp949')
type(table)


len(table)


table[0]


table[1]


table[2]


type(table[2])


df = table[2]


# 결측치 확인
df.isna().sum()


df.shape


df.dropna?


# 모든 행, 모든열이 NaN인 행,열제거
df = df.dropna(how='all', axis=0).dropna(how='all', axis=1)


df.info()


# 수치형 컬럼의 기술 통계 요약
df.describe()


# 범주형 컬럼의 기술 통계 요약
df.describe(include='O')


# 종목명.1 컬럼 제거
df = df.drop('종목명.1',axis=1)


df.head(1)


# 특정 테마주 종목별 거래량 상위 20종목 바 차트를 이용해 시각화
df[['종목명','거래량']].sort_values('거래량').tail(20).set_index('종목명').plot(kind='barh', figsize=(8,6))





# 종목명 별 거래량 오름차순
df[['종목명','거래량']].sort_values('거래량')


# 종목명별 거래량 오름차순 후 상위 20개 가져오기
df[['종목명','거래량']].sort_values('거래량').tail(20)


# 그 후 종목명을 인덱스로 이동하기 (차트의 x축을 설정하기 위함)
df[['종목명','거래량']].sort_values('거래량').tail(20).set_index('종목명')


# barh차트 그리기
df[['종목명','거래량']].sort_values('거래량').tail(20).set_index('종목명').plot(kind='barh', figsize=(8,6))



