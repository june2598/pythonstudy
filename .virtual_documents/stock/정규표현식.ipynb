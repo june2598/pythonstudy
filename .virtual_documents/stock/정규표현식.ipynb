import re


text = 'Hello, world!'
match_result = re.match(r'Hello',text)
if match_result :
    print(match_result.group()) # 문자열의 시작부분에서 패턴 매치되는 '첫' 문자열 반환 (중간에 껴있는건 못찾음 ex:world)
    print(match_result.start()) # 패턴 매치되는 문자열의 시작 위치
    print(match_result.end())   # 패턴 매치되는 문자열의 끝 위치
    print(match_result.span())  # 패턴 매치되는 문자열의 시작,끝 위치를 튜플로 반환
print(match_result)




type(re.match(r'Hello',text))
re.match?


# match와 search의 차이
search_result = re.search(r'world',text)
if match_result :
    print(search_result.group()) # 문자열 중 패턴 매치되는 '첫' 문자열 반환 (world도 찾음)
    print(search_result.start()) # 패턴 매치되는 문자열의 시작 위치
    print(search_result.end())   # 패턴 매치되는 문자열의 끝 위치
    print(search_result.span())  # 패턴 매치되는 문자열의 시작,끝 위치를 튜플로 반환

print(search_result)





import re
text = "The rain in Spain falls mainly in the plain. ain"
matches = re.findall(r"\bain" , text) # ain 으로 시작하는 문자열 : ain
print(matches)
matches = re.findall(r"ain\b" , text) # ain 으로 끝나는 문자열 : rain, Spain, plain, ain
print(matches)



import re

text = "The rain in Spain falls mainly in the plain."

matches = re.finditer(r"\bain", text)
for match in matches :
    print(match.group(),match.span())

matches = re.finditer(r"ain\b", text)
for match in matches :
    print(match.group(),match.span())



text = "I have apples and oranges. apples apples APPLES"
# 'apples'를 'bananas'로 대체
result = re.sub(r"apples", "bananas", text)  # 전부 다바꿈
print(result)

result = re.sub(r"apples", "bananas", text, count=2) # 앞에서부터 두개만 바꿈 (default = 0 -> 다바꿈)
print(result)

# flags=re.I // re.IGNORECASE: 대소문자를 구분하지 않고 패턴 매칭
# flags=re.M // re.MULTILINE : 문자열의 각 줄의 시작(^)과 끝($)을 기준으로 매칭 
# flags=re.S // re.DOTALL: 메타문자가 줄 바꿈 문자(\n)을 포함한 모든 문자와 매칭
result = re.sub(r"apples", "bananas", text, flags=re.I) # 앞에서부터 두개만 바꿈 (default = 0 -> 다바꿈)
print(result)

result = re.sub(r"apples", "bananas", text, flags=re.M)
print(result)


re.sub?





import re
text = "apple, orange; banana; grape, kiwi"
# 쉼표(,)와 세미콜론(;)을 구분자로 사용하여 문자열 분할
# 엄격하기 때문에 공백도 가져오는것을 확인할 수 있다.
result = re.split(r"[;,]", text)
print(result)

# 문자열 공백 제거
# case1)
result = list(map(lambda ele : ele.strip(), result))

# case2)
# result = [ ele.strip() for ele in result ]
print(result)


import re
text = "apple, orange; banana; grape, kiwi"
# 정규표현식을 컴파일하여 패턴객체로 저장
pattern = re.compile(r"[;,]")
# 쉼표(,)와 세미콜론(;)을 구분자로 사용하여 문자열 분할
# 엄격하기 때문에 공백도 가져오는것을 확인할 수 있다.

# case1)
# result = re.split(pattern, text)
# case2)
result = pattern.split(text)

print(result)

# 문자열 공백 제거
# case1)
result = list(map(lambda ele : ele.strip(), result))

# case2)
# result = [ ele.strip() for ele in result ]
print(result)





text = 'Hello World! hello World!'

# 정규표현식 컴파일을 해서 쓸땐, 컴파일 시점에 플래그를 줘야함
pattern = re.compile(r'hello', flags=re.I)

# flags=re.I // re.IGNORECASE: 대소문자를 구분하지 않고 패턴 매칭
matches = pattern.findall(text)
print(matches) 


re.findall?


text = '''first line
second line
third line'''

# flags=re.M // re.MULTILINE : 문자열의 각 줄의 시작(^)과 끝($)을 기준으로 매칭 

pattern = re.compile(r'$',flags=re.M)

matches = pattern.sub(':end',text)
print(matches)



# text= 'Hello\nWorld'
text= '''Hello
World'''
# flags=re.S // re.DOTALL: 메타문자가 줄 바꿈 문자(\n)을 포함한 모든 문자와 매칭
pattern = re.compile(r'.',re.S)
matches = pattern.sub('X',text)
print(matches)
print(len(matches))


text = 'John Doe, Jane Doe'
# 이름과 성을 그룹으로 묶음
pattern = r"(\w+) (\w+)"
# pattern = r"(\w+) (\w+)"

matches = re.findall(pattern, text)
for match in matches :
    print(match)
print(matches)
# 출력: [('John', 'Doe'), ('Jane', 'Doe')]



text = 'John Doe, Jane Doe'
# 이름과 성을 그룹으로 묶음
pattern = r"(\w+) (\w+)"
# pattern = r"(\w+) (\w+)"

matches = re.finditer(pattern, text)
for match in matches :
    print(match.group())        #match 객체
    print(match.group(1))
    print(match.group(2))
print(matches)
# 출력: [('John', 'Doe'), ('Jane', 'Doe')]



text = 'apple pie, apple tart, cherry pie'
# 'apple' 또는 'cherry'를 비캡처 그룹으로 묶음
pattern = r'(?:apple|cherry) (pie|tart)'
matches = re.findall(pattern, text)
print(matches)
# 출력: ['pie', 'tart', 'pie']


text = "abcabcabc"
pattern = r"a.*c" # 탐욕 매칭
match = re.search(pattern, text)
print(match.group()) # 출력: abcabcabc


text = "abcabcabc"
pattern = r"a.*?c" # 비탐욕 매칭
match = re.search(pattern, text)
print(match.group()) # 출력: abc





text = "Visit our website at http://example.com or http://sample.com"

pattern = re.compile(r'http://[^ ]+(?=\.com)')

matches = pattern.findall(text)
print(matches)


text = 'testing test pool tested tester'
pattern = re.compile(r'test(?!ing)')
matches = pattern.findall(text)
print(matches)


text = 'The price is $5.99 for the first item and $10 for the second.'
pattern = re.compile(r'(?<=\$)\d+(\.\d+)?')
matches = pattern.findall(text)
print(matches)



text = 'The cake is not good but the pie is very good'
pattern = re.compile(r'(?<!not\s)good')
matches = pattern.findall(text)
print(matches)





import re
text = "aaabbbccc"
pattern = r"a*"
# 'a'가 0회 이상 반복되는 부분 찾기
matches = re.findall(pattern, text)
print(matches) # 출력: ['aaa', '', '']

# 첫 번째 빈 문자열: 'aaa' 다음에 나타나는 부분에서 'a'가 없으므로 첫 번째 빈 문자열.
# 두 번째 빈 문자열: 첫 번째 'b' 다음, 'a'가 없으므로 두 번째 빈 문자열.
# 세 번째 빈 문자열: 두 번째 'b' 다음, 또 다시 'a'가 없으므로 세 번째 빈 문자열.
# 네 번째 빈 문자열: 첫 번째 'c' 다음, 'a'가 없으므로 네 번째 빈 문자열.
# 다섯 번째 빈 문자열: 두 번째 'c' 다음, 또 다시 'a'가 없으므로 다섯 번째 빈 문자열.
# 여섯 번째 빈 문자열: 문자열의 끝에서 'a'가 없으므로 여섯 번째 빈 문자열.
# 일곱 번째 빈 문자열: 문자열의 끝에서 'a'가 없으므로 일곱 번째 빈 문자열.


import re
text = "Hello World! Htllo Hzllo"
pattern = r"H.llo"
# 'H'와 'llo' 사이에 임의의 문자 찾기
matches = re.findall(pattern, text)
print(matches) # 출력: ['Hello']


import re
text = "color colour"
pattern = r"colou?r"
# 'u'가 0회 또는 1회 나타나는 부분 찾기
matches = re.findall(pattern, text)
print(matches) # 출력: ['color', 'colour']


import re
text = '''first linesecond linethird line'''
pattern = re.compile(r'$', flags=re.M)
matches = pattern.sub(':end',text)
print(matches)
#결과



import re
text = 'Hello\nWorld'
pattern = re.compile(r'.', re.S)
matches = pattern.sub('X',text)
print(matches)


import re
text = 'John Doe, Jane Doe'
# 이름과 성을 그룹으로 묶음
pattern = r"(\w+) (\w+)"
matches = re.findall(pattern, text)
print(matches)
# 출력: [('John', 'Doe'), ('Jane', 'Doe')]



pattern = r"(?:\w+) (\w+)"
matches = re.findall(pattern, text)
print(matches)


text = "abcabcabc"
pattern = r"a.*c" # 탐욕 매칭
match = re.search(pattern, text)
print(match.group()) # 출력: abcabcabc


pattern = r"a.*?c" # 비탐욕 매칭
match = re.search(pattern, text)
print(match.group()) # 출력: abc


text = 'The price is $5.99 for the first item and $10 for the second.'
pattern = re.compile(r'(?<=\$)\d+(\.\d+)?')
matches = pattern.findall(text)
print(matches)


text = '''Visit out website at http://example.com or
http://sample.com'''
pattern = re.compile(r'http://[^ ]+(?=\.com)')
matches = pattern.findall(text)
print(matches)


pattern = re.compile(r'http://[^ ]+(?!\.com)')
matches = pattern.findall(text)
print(matches)

# 실제로 re.findall()은 패턴에 맞는 부분을 찾으려 할 때, http://example.com과 http://sample.com에서 [^ ]+ 부분은 http://example.com과 http://sample.com으로 일치합니다.
# 그러나 부정형 전방탐색 (?!\.com)이 작동하기 전에 이미 [^ ]+가 URL을 매칭하여 결과에 포함됩니다.
# 이로 인해 두 URL이 결과로 포함된 것입니다.
# + 앞의 문자가 1번 이상 반복되는 부분과 일치


text = 'testing test pool tested tester'
pattern = re.compile(r'test(?!ing)')
matches = pattern.findall(text)
print(matches)
# 출력: ['test', 'test', 'test']


text = 'The price is $5.99 for the first item and $10 for the second.'
pattern = re.compile(r'(?<=\$)\d+(\.\d+)?')
matches = pattern.findall(text)
print(matches)



text = 'The cake is not good but the pie is very good'
pattern = re.compile(r'(?<!not\s)good')
matches = pattern.findall(text)
print(matches)



