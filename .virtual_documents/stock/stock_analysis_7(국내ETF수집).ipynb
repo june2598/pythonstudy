# 데이터 분석을 위한 패키지
import numpy as np
import pandas as pd


# 시각화 패키지
import matplotlib.pyplot as plt
import seaborn as sns


import koreanize_matplotlib


# 모든 컬럼,행을 출력하도록 설정
pd.set_option('display.max_columns', None) # None으로 설정하면 모든 컬럼 출력
pd.set_option('display.max_rows', 50) #None으로 설정하면 모든 행 출력


pd.options.display.float_format = '{:,.2f}'.format


import FinanceDataReader as fdr


etfs = fdr.StockListing('ETF/KR') # 한국 ETF 전 종목


etfs.shape


etfs.head(2)





etfs.info()


etfs.info()


etfs['RiseFall'].value_counts()


etfs.query('RiseFall == "3"')


etfs.info()


etfs.describe()


etfs.describe(include='O')


# 날짜는 파이썬 표준 라이브러리 datetime 사용
import datetime
# 오늘 날짜 가져오기
today = datetime.datetime.today()
today = today.strftime('%Y-%m-%d')
today


file_name = f'etf_{today}.csv'
file_name


etfs.to_csv(file_name, index=False)


etfs.query('Category in (2,4)')



