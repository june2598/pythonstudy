


import seaborn as sns
import matplotlib.pylab as plt
import koreanize_matplotlib
import numpy as np
import pandas as pd


df_titanic = sns.load_dataset('titanic')
df_titanic.head(2)





sns.countplot(data=df_titanic, x='alive')
plt.title('생존 여부 별 사람 수')
plt.show()





sns.histplot(data=df_titanic['age'])
plt.title('승객들의 연령 분포')
plt.show()








sns.lineplot(data=df_titanic, x = 'age', y = 'survived')





sns.scatterplot(data=df_titanic, x ='age', y = 'fare', hue='survived')
plt.title('승객 연령/요금 상관관계')
plt.show()





sns.boxplot(data=df_titanic, x='class', y ='age')
plt.title('클래스별 승객의 연령 분포')
plt.show()





tmp = df_titanic['class'].value_counts()
tmp


plt.figure(figsize=(8, 8))
plt.pie(tmp, labels=tmp.index, autopct='%1.1f%%')

centre_circle = plt.Circle((0, 0), 0.5, fc='white')
fig = plt.gcf()
fig.gca().add_artist(centre_circle)

plt.title('각 클래스별 승객 수')
plt.show()





df = df_titanic.groupby(['class', 'survived'],observed=True).size().unstack(fill_value=0)
df


df.plot(kind='bar', stacked=True, ax=plt.gca())
plt.show()





# 연령을 10세 단위로 구분하여 새로운 열 추가
df_titanic['age_range'] = (df_titanic['age'] // 10) * 10
df_titanic.head()


# 각 연령대와 생존 여부에 따른 승객 수 집계
bubble_data = df_titanic.groupby(['age_range', 'fare', 'survived']).size().reset_index(name='count')

# 버블 차트 생성
plt.figure(figsize=(10, 6))
sns.scatterplot(data=bubble_data,x='age_range', y='fare',  size='count', hue='survived', sizes=(100, 600))
plt.title('연령대/요금 버블차트')
plt.xlabel('연령대')
plt.ylabel('Fare')


# 그래프 표시
plt.show()





df4 = df_titanic.groupby('embark_town',observed=True).size()
df4


# 시각화
plt.figure(figsize=(8, 8))
plt.pie(df4, labels=df4.index, autopct='%1.1f%%')

plt.title('탑승 항구별 승객 분포')
plt.show()





# 클래스별 인원
g = df_titanic.groupby('class',observed='True').size()

# 클래스별 생존자 수 집계
g2 = df_titanic.groupby('class', observed=True).agg({'survived': 'sum'})
g2 = pd.Series(g2['survived'])


# 클래스 별 생존률 계산
survival_rate = (g2 / g) * 100
survival_rate


# 시리즈를 데이터프레임으로
survival_df = pd.DataFrame(survival_rate)
survival_df.rename(columns={0: 'survival_rate'}, inplace=True)


survival_df


# 시각화
sns.heatmap(data=survival_df)
plt.title('클래스별 생존률')
plt.show()


# 성별간 인구 집계
g3 = df_titanic.groupby('sex',observed='True').size()
# 성별간 생존자 수 계산
g4 = df_titanic.groupby('sex', observed=True).agg({'survived': 'sum'})
g4 = pd.Series(g4['survived'])

# 성별 생존률 계산
survival_rate_sex = (g4 / g3) * 100
survival_sex_df = pd.DataFrame(survival_rate_sex)
survival_sex_df.rename(columns={0: 'survival_rate'}, inplace=True)

# 시각화
sns.heatmap(data=survival_sex_df)
plt.title('성별 생존률')
plt.show()







sns.pairplot(data=df_titanic[['age','pclass','fare','survived']])
plt.show()





sns.violinplot(data=df_titanic, x='class', y='fare', hue='sex', split=True)

plt.title('클래스와 성별에 따른 요금 분포')
plt.show()





# 연령, 요금, 생존 여부에 따라 집계
new_df = df_titanic.groupby(['age','fare'], observed=True).size().reset_index(name='counts')

# 연령을 10세 단위로 구분하여 새로운 열 추가
new_df['age_range'] = (new_df['age'] // 10) * 10


# 연령대별 평균 요금
avg_fare_by_age_range = new_df.groupby('age_range', observed=True).agg({'fare':'mean'})


sns.lineplot(data=avg_fare_by_age_range)
plt.title('연령대별 평균 요금 변화')
plt.xlabel('연령대')
plt.ylabel('평균 요금')
plt.show()





# 인구집계
tmp14 = df_titanic.groupby(['class','sex','age_range'],observed='True').size()
tmp14.info()


# 각 클래스별, 성별, 연령대별 생존자
tmp15 = df_titanic.groupby(['class','sex','age_range'],observed=True).agg({'survived': 'sum'})
tmp15 = pd.Series(tmp15['survived'])
tmp15


tmp15.info()


# 생존률 계산
survival_rate = (tmp15 / tmp14) * 100
survival_rate


# dataFrame 변환후 columns 재작명

survival_rate_df = pd.DataFrame(survival_rate)
survival_rate_df.rename(columns={0: 'survival_rate'}, inplace=True)
survival_rate_df


survival_rate_df = survival_rate_df.reset_index()


fig, axes = plt.subplots(3,1, figsize=(10, 17))

plt.suptitle('클래스 별 남성과 여성 승객의 연령대별 생존율')

# First Class
sns.barplot(data=survival_rate_df[survival_rate_df['class'] == 'First'], x='age_range', y='survival_rate', hue='sex', ax=axes[0])
axes[0].set_title('First Class')
axes[0].set_xlabel('연령대')
axes[0].set_ylabel('생존률')

# Second Class
sns.barplot(data=survival_rate_df[survival_rate_df['class'] == 'Second'], x='age_range', y='survival_rate', hue='sex', ax=axes[1])
axes[1].set_title('Second Class')
axes[1].set_xlabel('연령대')
axes[1].set_ylabel('생존률')
# Third Class
sns.barplot(data=survival_rate_df[survival_rate_df['class'] == 'Third'], x='age_range', y='survival_rate', hue='sex', ax=axes[2])
axes[2].set_title('Third Class')
axes[2].set_xlabel('연령대')
axes[2].set_ylabel('생존률')
plt.tight_layout()
plt.show()
