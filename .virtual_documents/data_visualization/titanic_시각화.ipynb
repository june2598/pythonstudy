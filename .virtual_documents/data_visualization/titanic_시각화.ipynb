


import seaborn as sns
import matplotlib.pylab as plt
import koreanize_matplotlib
import numpy as np
import pandas as pd



df_titanic = sns.load_dataset('titanic')
df_titanic.head(2)


df_titanic.info()
# category 타입? => 명확하게 범주형 타입


df_titanic.describe()


# 수치형 변수가 아닌것
df_titanic.describe(exclude=np.number)


# 변수별로 결측치

df_titanic.isna().sum()


print(df_titanic['survived'].value_counts())
print(df_titanic['survived'].value_counts(normalize=True) * 100)


# 클래스 별 승객 수
print(df_titanic['class'].unique())
print(df_titanic['class'].value_counts())
print(df_titanic['class'].value_counts(normalize=True)*100)


# 성별 생존율
df_titanic.groupby('sex').agg({'survived':'mean'})*100


# 나이 분포 - histplot

sns.histplot(data=df_titanic['age']
sns.histplot(data=df_titanic['age'], bins=20, kde=True)
sns.rugplot(data=df_titanic['age'])
plt.title('나이 분포')
plt.xlabel('나이')
plt.ylabel('빈도')
plt.show()


# 나이 분포 - kdeplot
# bw_adjust(대역폭 - bandwidth) : 수치가 적을수록 거칠게, 클수록 완만하게 표현 (0~1)
sns.kdeplot(data=df_titanic['age'])
sns.kdeplot(data=df_titanic['age'],bw_adjust=.5)
sns.kdeplot(data=df_titanic['age'],bw_adjust=.3)
plt.title('나이 분포')
plt.xlabel('나이')
plt.ylabel('빈도')
plt.show()


# 나이 분포 - ecdfplot
sns.ecdfplot(data=df_titanic['age'])
plt.title('나이 분포')
plt.xlabel('나이')
plt.ylabel('빈도')
plt.show()


# 클래스별 평균 운임
# observed=True: 관찰된 값만 그룹화에 포함합니다. 즉, 실제 데이터에 존재하는 카테고리만 반환됩니다.
# observed=False: 모든 카테고리를 포함하여 그룹화합니다. 존재하지 않는 카테고리도 포함됩니다.

df_titanic.groupby('class', observed=True).agg({'fare':'mean'})


# 승객 나이의 중앙값과 평균
print(df_titanic['age'].median())
print(df_titanic['age'].mean())

# df_titanic['age'].describe()


# deck 열은 타이타닉 데이터에서 각 승객이 탑승한 갑판을 나타냅니다. 타이타닉 호는 여러 개의 갑판으로 구성되어 있으며, 이 갑판은 승객의 클래스와 위치에 따라 다릅니다.
# deck 열의 세부 정보:

# 갑판 명칭: 갑판은 일반적으로 A, B, C, D, E, F, G 등으로 표기됩니다. 각 갑판은 특정 클래스의 승객이 탑승하는 위치를 나타냅니다.
# 결측값: 많은 승객에 대해 deck 정보가 결측값(NaN)일 수 있습니다. 이는 해당 승객의 갑판 정보가 기록되지 않았음을 의미합니다.
# 승객 분포: 승객의 클래스에 따라 특정 갑판에 더 많은 승객이 있을 수 있습니다. 예를 들어, 1등급 승객은 보통 높은 갑판에 위치합니다.


df_titanic[df_titanic['fare'] == df_titanic['fare'].max()]


# 각 클래스별 생존자 수
df_titanic.groupby('class').agg({'survived':'sum'})



# 각 클래스 별 생존자 수 - 막대 그래프
# barplot은 estimator의 default값이 'mean' 입니다.

sns.barplot(data=df_titanic, x='class', y='survived',estimator=np.sum, errorbar=None, hue='sex')





# 사용자 정의 색상 팔레트

custom_palette = {
    'man': 'blue',
    'woman': 'pink',
    'child': 'green'
}


g = sns.FacetGrid(data=df_titanic, col='sex', row='embarked',  sharex=False, sharey=False)
g.map_dataframe(sns.barplot, x='class', y='survived', hue='who', palette=custom_palette, estimator=np.sum, errorbar=None)

# 그래프 제목 및 레이블 설정

g.set_axis_labels('Class','Survived')
g.set_titles(col_template='Sex: {col_name}', row_template='Embarked: {row_name}')
g.add_legend()


# 전체 figure 제목 추가
plt.suptitle('성별/승선항구별 각 클래스 생존자 수 - 막대그래프')
plt.tight_layout()

plt.show()



# 나이와 운임간의 관계표현 - scatterplot
# 나이와 운임관의 상관관계가 있을까?
# 실제 데이터 분석할때 본인이 가설을 세우고, 그걸 확인하는 과정이 필요 할 수 있음

sns.scatterplot(data=df_titanic, x='age', y='fare',hue='sex')
plt.show()

# 상관관계가 딱히 있어보이지 않음


# 나이와 운임간의 관계표현 - regplot
sns.regplot(data=df_titanic, x='age', y='fare')
plt.show()


# 모든 수치형 변수간의 상관관계 - 상관계수 구하기 corr : -1~1 사이
tmp = df_titanic.select_dtypes(np.number).corr()
tmp.style.background_gradient()




sns.heatmap(data=tmp, annot=True,fmt='.2f',cmap='Greens')
plt.title('수치형 변수 상관관계 분석')
plt.show()



# 각 클래스에 따른 운임 평균 - barplot

sns.barplot(data=df_titanic, x='class', y='fare', errorbar = None, hue = 'sex', palette='Blues')


# 각 클래스에 따른 운임 평균 - lineplot
# estimator 의 default : mean
# x축이 범주형이기때문에 별로 어울리지 않는듯?

sns.lineplot(data=df_titanic, x='class', y='fare', errorbar = None, hue = '', palette='Blues')
plt.show()


# 각 클래스별 나이 분포 - boxplot

sns.boxplot(data=df_titanic, x = 'class', y = 'age')


# 각 클래스별 나이 분포 - violinplot

sns.violinplot(data=df_titanic, x = 'class', y = 'age', hue='alone', split=True, palette='Set1')
plt.title('클래스별 나이분포')
plt.show()


# 탑승객 분포

# 성별 분포

sns.countplot(data=df_titanic, x = 'sex')
plt.title('성별 분포')
plt.show()

sns.countplot(data=df_titanic, x = 'alone')
plt.title('Alone 분포')
plt.show()

sns.countplot(data=df_titanic, x = 'adult_male')
plt.title('성인남성 분포')
plt.show()


# age, fare, survived 변수간의 관계 표현 - pairplot
# 대각선(diag_kind) : histplot
# 대각선 위아래(kind) : scatterplot
sns.pairplot(data=df_titanic[['age','fare','survived']],kind='reg', diag_kind='kde')
plt.show()


# age, fare, survived 변수간의 관계 표현 - PairGrid
g = sns.PairGrid(data=df_titanic[['age','fare','survived']])
g.map_diag(sns.histplot, kde=True)
g.map_lower(sns.scatterplot)
g.map_upper(sns.regplot)
plt.suptitle('age, fare, survived 변수간의 관계 표현')
plt.tight_layout()
plt.show()


# 나이에 따른 운임
sns.jointplot(data=df_titanic, x = 'age', y = 'fare')


# 성별에 따른 나이 분포
# jitter : 데이터 포인트들 사이의 겹침을 줄이기 위해 사용, 데이터 포인트가 많을때
sns.stripplot(data=df_titanic, x='sex', y='age', hue='sex', palette='Greens',legend=True, jitter=True)
plt.title('성별에 따른 나이 분포')
plt.show()
sns.swarmplot(data=df_titanic, x='sex', y='age', hue='sex', palette='Greens',legend=True)
plt.title('성별에 따른 나이 분포')
plt.show()



sns.jointplot?








# 연령대 계산

df_titanic['age'].min(), df_titanic['age'].max()


age_bins = np.arange(0, 91, 10)
age_bins


df_titanic['age_bin'] = pd.cut(df_titanic['age'], bins=age_bins, labels= np.arange(0,81,10))
df_titanic.head(2)


df_titanic.info()


pd.cut(np.array([1, 7, 5, 4, 6, 3]), 3, labels=["bad", "medium", "good"])
# ['bad', 'good', 'medium', 'medium', 'good', 'bad']
# Categories (3, object): ['bad' < 'medium' < 'good']


pd.cut(np.array([1, 7, 5, 4, 6, 3]), 3, labels=["bad", "medium", "good"])


age_bins = np.arange(0, 91, 10)
df_titanic['age_bin'] = pd.cut(df_titanic['age'], bins=age_bins, labels= np.arange(0, 81, 10))
# df_titanic['age_bin'] = pd.cut(df_titanic['age'], bins=age_bins)

# 연령대별 생존자 수 계산
age_bin_survived = df_titanic.groupby('age_bin').agg({'survived':'sum'}).reset_index()
# age_bin_survived['age_bin'] = age_bin_survived['age_bin'].astype(np.str_)  # 연령대 구간을 문자열로 변환

# 선 그래프 그리기
plt.figure(figsize=(8, 6))
sns.lineplot(data=age_bin_survived, x='age_bin', y='survived', marker='o')  # x와 y 인자 명확하게 지정
plt.title('연령대별 생존자 수')
plt.xlabel('연령대')
plt.ylabel('생존자 수')
plt.xticks(rotation=45)  # x축 라벨 회전
plt.show()


# 도넛차트

tmp = df_titanic['class'].value_counts()
plt.figure(figsize=(8, 8))
plt.pie(tmp, labels=tmp.index, autopct='%1.1f%%', wedgeprops={'width': 0.5})

plt.title('각 클래스별 승객 수')
plt.show()


pd.crosstab(df_titanic['class'],df_titanic['survived'])
df_titanic.pivot_table(index='class', columns='survived', values='fare', aggfunc='count')


survival_class = df_titanic.pivot_table(index='class', columns='survived', values='fare', aggfunc='count')
survival_class.plot.bar(stacked=True)



passenger_counts = df_titanic['pclass'].value_counts()

df_titanic['passenger_count'] = df_titanic['pclass'].map(passenger_counts)

sns.scatterplot(data=df_titanic, x='age_bin', y='fare', size='passenger_count', sizes=(20, 200), hue='survived',style='survived')

plt.show()


df_titanic.groupby('embark_town',observed=True).size()


df4=df_titanic['embark_town'].value_counts()


plt.figure(figsize=(8, 8))
plt.pie(df4, labels=df4.index, autopct='%1.1f%%')

plt.title('탑승 항구별 승객 분포')
plt.show()



