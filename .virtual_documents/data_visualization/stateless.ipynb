# 데이터 분석을 위한 패키지
import numpy as np
import pandas as pd


# 시각화 패키지
import matplotlib.pyplot as plt
import seaborn as sns


import koreanize_matplotlib


# 모든 컬럼,행을 출력하도록 설정
pd.set_option('display.max_columns', None) # None으로 설정하면 모든 컬럼 출력
pd.set_option('display.max_rows', None) #None으로 설정하면 모든 행 출력





plt.subplots?


fig, ax = plt.subplots(figsize=(6,4))
ax.plot([1,2,3,4], [1,4,2,3])
ax.set_title('제목')
ax.set_xlabel('X축 라벨')
ax.set_ylabel('Y축 라벨')
plt.show()





fig, axes = plt.subplots(2,2, figsize=(6,4))
axes[1][0].plot([1,2,3,4], [1,4,2,3])
axes[1][0].set_title('제목')
axes[1][0].set_xlabel('X축 라벨')
axes[1][0].set_ylabel('Y축 라벨')

axes[0][1].scatter([1,2,3,4], [1,4,2,3])
axes[0][1].set_title('제목')
axes[0][1].set_xlabel('X축 라벨')
axes[0][1].set_ylabel('Y축 라벨')

axes[0][0].barh([1,2,3,4], [1,4,2,3])
axes[0][0].set_title('제목')
axes[0][0].set_xlabel('X축 라벨')
axes[0][0].set_ylabel('Y축 라벨')

axes[1][1].hist([1,1,2,2,2,3,4,4,4], bins=2)
axes[1][1].set_title('제목')
axes[1][1].set_xlabel('X축 라벨')
axes[1][1].set_ylabel('Y축 라벨')

plt.tight_layout()
plt.show()






import random

random.seed(1)
data = {
  '국어':random.sample(range(60,100+1),5),
  '영어':random.sample(range(60,100+1),5),
  '수학':random.sample(range(60,100+1),5),
}
data


df = pd.DataFrame(data=data, index=['홍1','홍2','홍3','홍4','홍5',])
df


df.plot()


fig, axes = plt.subplots(2,2)
fig.suptitle = '점수 분석'
df['국어'].plot(ax=axes[0][0],kind='line')
df['수학'].plot(ax=axes[1][0],kind='bar', rot=0)
df['영어'].plot(ax=axes[1][1],kind='hist', bins=3)
df.plot(x='영어', y='수학', ax=axes[0][1],kind='scatter')

axes[0][0].set_title('국어')
axes[0][0].set_xlabel('이름')
axes[0][0].set_ylabel('점수')

axes[1][0].set_title('수학')
axes[1][0].set_xlabel('이름')
axes[1][0].set_ylabel('점수')

axes[1][1].set_title('영어')
axes[1][1].set_xlabel('점수')
axes[1][1].set_ylabel('빈도')

axes[0][1].set_title('영어/수학 상관관계')


plt.tight_layout()
plt.show()





plt.gcf(), plt.gca()


sns.lineplot(data,x=df.index, y='수학')
# sns.lineplot(data,x='국어', y='수학')


df = df.reset_index().rename(columns={'index':'이름'})
df.index.values


fig, axes = plt.subplots(2,2)
sns.barplot(data=df,x='이름', y='국어', ax=axes[0][0])
sns.scatterplot(data=df,x='영어', y='수학', ax=axes[0][1])
sns.boxplot(data=df,y='영어', ax=axes[1][0])
sns.violinplot(data=df,y='영어', ax=axes[1][1])
sns.heatmap(data=df.drop('이름',axis=1), ax=axes[1][0])

plt.tight_layout()
plt.show()


sns.relplot(data=df)


sns.catplot(data=df)


sns.displot(data=df)
