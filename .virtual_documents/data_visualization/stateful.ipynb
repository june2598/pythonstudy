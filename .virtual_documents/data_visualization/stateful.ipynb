# 데이터 분석을 위한 패키지
import numpy as np
import pandas as pd


# 시각화 패키지
import matplotlib.pyplot as plt
import seaborn as sns


import koreanize_matplotlib


# 모든 컬럼,행을 출력하도록 설정
pd.set_option('display.max_columns', None) # None으로 설정하면 모든 컬럼 출력
pd.set_option('display.max_rows', None) #None으로 설정하면 모든 행 출력





print(plt.gcf())
print(plt.gca())


plt.plot([1,2,3,4,],[1,4,3,2])
plt.title('제목')
plt.xlabel('X축 라벨')
plt.ylabel('Y축 라벨')
plt.show()


plt.subplot(2,2,1) # 2행 2열 첫번째
plt.plot([1,2,3,4],[1,4,2,3])
plt.title('제목')
plt.xlabel('X축 라벨')
plt.ylabel('Y축 라벨')

plt.subplot(2,2,2) # 2행 2열 두번째
plt.bar([1,2,3,4],[1,4,2,3])
plt.title('제목')
plt.xlabel('X축 라벨')
plt.ylabel('Y축 라벨')

plt.subplot(2,2,3) # 2행 2열 두번째
plt.scatter([1,2,3,4],[1,4,2,3])
plt.title('제목')
plt.xlabel('X축 라벨')
plt.ylabel('Y축 라벨')

plt.subplot(2,2,4) # 2행 2열 두번째
plt.barh([1,2,3,4],[1,4,2,3])
plt.title('제목')
plt.xlabel('X축 라벨')
plt.ylabel('Y축 라벨')

plt.tight_layout()
plt.show()
