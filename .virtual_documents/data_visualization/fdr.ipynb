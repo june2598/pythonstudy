# 데이터 분석을 위한 패키지
import numpy as np
import pandas as pd


# 모든 컬럼,행을 출력하도록 설정
pd.set_option('display.max_columns', None) # None으로 설정하면 모든 컬럼 출력
pd.set_option('display.max_rows', None) #None으로 설정하면 모든 행 출력


import FinanceDataReader as fdr


df = fdr.DataReader('KS11')


df.head()



stocks = fdr.StockListing('KOSPI')


stocks.head(10)



