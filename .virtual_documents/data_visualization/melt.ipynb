# 데이터 분석을 위한 패키지
import numpy as np
import pandas as pd


# 시각화 패키지
import matplotlib.pyplot as plt
import seaborn as sns


import koreanize_matplotlib


# 모든 컬럼,행을 출력하도록 설정
pd.set_option('display.max_columns', None) # None으로 설정하면 모든 컬럼 출력
pd.set_option('display.max_rows', None) #None으로 설정하면 모든 행 출력


import random

random.seed(1)
data = {
  '국어':random.sample(range(60,100+1),5),
  '수학':random.sample(range(60,100+1),5),
  '영어':random.sample(range(60,100+1),5),
}
data


df = pd.DataFrame(data=data, index=['홍1','홍2','홍3','홍4','홍5'])
df


df = df.reset_index()



df = df.rename(columns={'index':'이름'})
df





melted_df = df.melt(id_vars=['이름'],value_vars=['국어','수학','영어'],var_name='과목',value_name='점수')
melted_df


pivoted_df = melted_df.pivot(index='이름',columns='과목',values='점수').reset_index()
pivoted_df.columns.name = ''
pivoted_df


melted_df.pivot(index='이름',columns='과목',values='점수').reset_index().columns.name


melted_df.pivot(index='이름',columns='과목',values='점수').reset_index().rename_axis(None,axis=1)





sns.relplot(data=df, x='과목',y='점수')


# sns.relplot(data=melted_df, x='이름',y='점수', hue='과목',col='이름', col_wrap=3)
sns.relplot(data=melted_df, x='과목',y='점수', col='이름', col_wrap=3, kind='scatter')

plt.tight_layout()
plt.show()


type(g)


# hue는 Seaborn의 시각화 함수에서 데이터의 특정 변수를 기준으로 색상을 다르게 하여 시각화하는 옵션입니다. 
# 즉, hue를 사용하면 같은 그래프 내에서 데이터의 카테고리를 구분할 수 있게 됩니다.

g = sns.displot(data=melted_df, x='점수',col='과목', col_wrap=3)
g.fig.suptitle('점수 분포')

# top : 0- 서브플롯의 상단이 그림의 가장 위쪽에 위치, 1- 서브플롯의 상단이 그림의 가장 아래쪽에 위치치
plt.subplots_adjust(top=0.9,hspace=0.4)  # 제목과 서브플롯의 간격 조정
# plt.tight_layout()
plt.show()


fig, axes = plt.subplots(2,2, figsize=(10, 8))
fig.suptitle('과목별 점수 분포')

def ploting(subject,row,col):
  sns.histplot(data=melted_df.query('과목 == @subject'), x='점수', ax=axes[row][col])


rows,cols = axes.shape
subjects = melted_df['과목'].unique()
idx = 0
stop = False
for row in range(rows) : 
  for col in range(cols) :
    ploting(subjects[idx],row,col)
    axes[row][col].set_title(subjects[idx])
    idx += 1
    if idx == len(subjects):
      stop = True
      break
  if stop:
    break    

    # ploting_by_subject('영어',0,1)
    # ploting_by_subject('수학',1,0)
        
# axes[0][0].set_title('국어')
# axes[0][1].set_title('영어')
# axes[1][0].set_title('수학')

plt.subplots_adjust(top=0.9,hspace=0.5,wspace=0.4)
plt.show()


sns.catplot?
# estimator='mean' =>디폴트가 평균



sns.catplot(data=melted_df,x='과목',y='점수',col='이름',col_wrap=3, kind='box')


sns.catplot(data=melted_df,x='과목',y='점수', kind='violin')


# seaborn.FacetGrid는 데이터의 여러 하위 집합(subset)을 사용하여 여러 개의 그래프를 그릴 수 있는 유용한 도구입니다. 
# 이를 통해 데이터의 특정 변수에 따라 그래프를 나누어 시각화할 수 있습니다. 주로 데이터의 분포나 관계를 한눈에 비교할 수 있도록 해줍니다.

g = sns.FacetGrid(data=melted_df, col='과목',col_wrap=3,height=5)
g.map(sns.histplot, '점수',bins=10,kde=True)
plt.show()


g = sns.FacetGrid(data=df, col='이름',col_wrap=3,height=5)
g.map(sns.scatterplot, '국어','영어')
plt.show()


g = sns.FacetGrid(data=melted_df, col='과목',col_wrap=3,height=5)
g.map(sns.lineplot, '이름','점수')
plt.show()


g = sns.FacetGrid(data=melted_df, col='과목',col_wrap=3,height=5)
g.map(sns.boxplot, '점수')
plt.show()


# sns에서 제일 강력함, 영역별로 한꺼번에 뿌려냄

g = sns.FacetGrid(data=melted_df, col='이름',col_wrap=3,height=5)
g.map(sns.violinplot, '점수')
plt.show()


plt.figure(figsize=(10,8))
g = sns.FacetGrid(data=melted_df, col='과목', col_wrap=3)
g.map(sns.barplot,'이름','점수')
plt.show()



g = sns.FacetGrid(data=df)
g.map(sns.scatterplot,'국어','수학')
plt.show()


# aspect : 가로:세로 비율
g = sns.FacetGrid(data=melted_df, col='이름', col_wrap=3,hue='과목', height=5,aspect=1.2)
g.map(sns.swarmplot,'점수','과목')
plt.legend()
plt.show() 
