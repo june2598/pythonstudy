import FinanceDataReader as fdr


stocks1 = fdr.StockListing('KOSPI') # KOSPI: 5,897 종목
stocks2 = fdr.StockListing('KOSDAQ-DESC') # KOSDAQ: 1,609 종목


stocks1.head()


stocks2.info()


stocks1.head()


stocks1.info()


stocks3 = fdr.StockListing('KOSPI')
stocks3.head(2)


from marcap import marcap_data


df = marcap_data('2024-12-02', '2024-12-22', code='005930')
df['']


df1 = marcap_data('2024-12-03')
df1


df2 = marcap_data('2021-01-22')
df2





def marcap_data(start, end=None, code=None):
  '''
  지정한 기간 데이터 가져오기
  :param datetime start: 시작일
  :param datetime end: 종료일 (지정하지 않으면 시작일과 동일)
  :param str code: 종목코드 (지정하지 않으면 모든 종목)
  :return: DataFrame
  '''
  start = pd.to_datetime(start)
  end = start if end==None else pd.to_datetime(end)
  df_list = []

  dtypes={'Code':np.str_, 'Name':np.str_, 
          'Open':np.int64, 'High':np.int64, 'Low':np.int64, 'Close':np.int64, 'Volume':np.int64, 'Amount':np.int64,
          'Changes':np.int64, 'ChangeCode':np.str_, 'ChagesRatio':np.float64, 'Marcap':np.int64, 'Stocks':np.int64,
          'MarketId':np.str_, 'Market':np.str_, 'Dept':np.str_,
          'Rank':np.int64}
    
  for year in range(start.year, end.year + 1):
    try:
      csv_file = 'marcap/data/marcap-%s.csv.gz' % (year)
      df = pd.read_csv(csv_file, dtype=dtypes, parse_dates=['Date'])
      df_list.append(df)
    except Exception as e:
      print(e)
      pass
  df_merged = pd.concat(df_list)
  df_merged = df_merged[(start <= df_merged['Date']) & (df_merged['Date'] <= end)]  
  df_merged = df_merged.sort_values(['Date','Rank'])
  if code:
    df_merged = df_merged[code == df_merged['Code']]  
  df_merged.set_index('Date', inplace=True)
  return df_merged[df_merged['Volume'] > 0]
