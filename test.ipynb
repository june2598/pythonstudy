{
 "cells": [
  {
   "cell_type": "markdown",
   "id": "15092221-1c97-459e-8e91-868a1570762e",
   "metadata": {},
   "source": [
    "### 단축키\n",
    "\n",
    "- ESC를 눌러 단축키 활성화\n",
    "- A : 위에 세 셀 생성\n",
    "- B : 아레에 세 셀 생성\n",
    "- D , D : 선택한 셀 삭제\n",
    "- Y : 셀을 코드로 변경\n",
    "- M : 셀을 마크다운으로 변경\n",
    "- Z : 실행취소"
   ]
  },
  {
   "cell_type": "code",
   "execution_count": 1,
   "id": "5adca7ca-e763-4983-8fb1-9cdbab804bcb",
   "metadata": {},
   "outputs": [
    {
     "name": "stdout",
     "output_type": "stream",
     "text": [
      "hello world\n"
     ]
    }
   ],
   "source": [
    "print('hello world')"
   ]
  },
  {
   "cell_type": "markdown",
   "id": "6049fe8e-f7c9-4f51-bbac-1cb3b55b4b3e",
   "metadata": {},
   "source": [
    "1+1"
   ]
  }
 ],
 "metadata": {
  "kernelspec": {
   "display_name": "Python 3 (ipykernel)",
   "language": "python",
   "name": "python3"
  },
  "language_info": {
   "codemirror_mode": {
    "name": "ipython",
    "version": 3
   },
   "file_extension": ".py",
   "mimetype": "text/x-python",
   "name": "python",
   "nbconvert_exporter": "python",
   "pygments_lexer": "ipython3",
   "version": "3.12.7"
  }
 },
 "nbformat": 4,
 "nbformat_minor": 5
}
