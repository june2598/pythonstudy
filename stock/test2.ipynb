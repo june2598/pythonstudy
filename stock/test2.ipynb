{
 "cells": [
  {
   "cell_type": "code",
   "execution_count": 5,
   "id": "f15ff689-50ac-4ab3-9e28-aab3d6a97ac8",
   "metadata": {},
   "outputs": [],
   "source": [
    "# http 요청 응답, html 구문 분석\n",
    "import requests\n",
    "from bs4 import BeautifulSoup\n",
    "import re"
   ]
  },
  {
   "cell_type": "code",
   "execution_count": 6,
   "id": "3fff93fe-ebfe-4311-a4eb-b1d4580a9d76",
   "metadata": {},
   "outputs": [],
   "source": [
    "# 셀레니움 브라우저의 동작을 자동화하는 패키지\n",
    "from selenium import webdriver\n",
    "from selenium.webdriver.chrome.options import Options\n",
    "from selenium.webdriver.common.by import By"
   ]
  },
  {
   "cell_type": "code",
   "execution_count": 7,
   "id": "0493d10e-44c2-48c3-bb08-1f2bd277cb91",
   "metadata": {},
   "outputs": [],
   "source": [
    "# 데이터 분석 패키지\n",
    "import pandas as pd"
   ]
  },
  {
   "cell_type": "code",
   "execution_count": 8,
   "id": "fa835917-f6eb-4c32-8778-77f3634874fb",
   "metadata": {},
   "outputs": [],
   "source": [
    "url = 'https://finance.naver.com/sise/sise_group.naver?type=upjong'"
   ]
  },
  {
   "cell_type": "code",
   "execution_count": 9,
   "id": "9d6ebedd-fb34-44fd-867e-c716baedae59",
   "metadata": {},
   "outputs": [],
   "source": [
    "# # 브라우저 종료 방지 옵션\n",
    "chrome_options = Options()\n",
    "chrome_options.add_experimental_option('detach',True)\n",
    "\n",
    "# # 웹 드라이버를 이용한 브라우저 제어\n",
    "driver = webdriver.Chrome(options=chrome_options)\n",
    "\n",
    "driver.implicitly_wait(1)"
   ]
  },
  {
   "cell_type": "code",
   "execution_count": 10,
   "id": "fcd97440-f247-4222-a1b3-c3fd9fa6429d",
   "metadata": {},
   "outputs": [],
   "source": [
    "driver.get(url)"
   ]
  },
  {
   "cell_type": "code",
   "execution_count": 11,
   "id": "1c6a9cb0-18a3-420a-aae5-0807eed5175f",
   "metadata": {},
   "outputs": [],
   "source": [
    "soup = BeautifulSoup(driver.page_source, 'html.parser')"
   ]
  },
  {
   "cell_type": "code",
   "execution_count": 34,
   "id": "8e436903-6e42-4dee-8851-5aa60e8de191",
   "metadata": {},
   "outputs": [
    {
     "data": {
      "text/plain": [
       "'100%'"
      ]
     },
     "execution_count": 34,
     "metadata": {},
     "output_type": "execute_result"
    }
   ],
   "source": [
    "# selenium은 브라우저를 조작하는것이기 때문에, 브라우저에 보이지 않는 건 가져올 수 없음\n",
    "# 이럴땐 Beautifulsoup 으로 html에서 접근하는 방식이 옳다\n",
    "soup.select_one('#contentarea_left > table > tbody > tr:nth-child(4) > td.tc > div > div > span').text"
   ]
  },
  {
   "cell_type": "code",
   "execution_count": 32,
   "id": "e2347c26-2ac9-4d5a-9965-4febed172dcb",
   "metadata": {},
   "outputs": [
    {
     "data": {
      "text/plain": [
       "['100%',\n",
       " '100%',\n",
       " '100%',\n",
       " '100%',\n",
       " '100%',\n",
       " '100%',\n",
       " '100%',\n",
       " '100%',\n",
       " '100%',\n",
       " '100%',\n",
       " '100%',\n",
       " '100%',\n",
       " '100%',\n",
       " '100%',\n",
       " '100%']"
      ]
     },
     "execution_count": 32,
     "metadata": {},
     "output_type": "execute_result"
    }
   ],
   "source": [
    "pattern = re.compile(r'100%')\n",
    "pattern.findall(driver.page_source)"
   ]
  },
  {
   "cell_type": "code",
   "execution_count": 16,
   "id": "db8260ba-75fd-4f5c-ba6e-e9ee338499eb",
   "metadata": {},
   "outputs": [],
   "source": [
    "ele = driver.find_element(By.CSS_SELECTOR, '#contentarea_left > table > tbody > tr:nth-child(4) > td.tc > div > div > span')"
   ]
  },
  {
   "cell_type": "code",
   "execution_count": 18,
   "id": "4d6863e4-7723-4b06-9f01-299b934c5560",
   "metadata": {},
   "outputs": [
    {
     "data": {
      "text/plain": [
       "''"
      ]
     },
     "execution_count": 18,
     "metadata": {},
     "output_type": "execute_result"
    }
   ],
   "source": [
    "ele.text"
   ]
  },
  {
   "cell_type": "code",
   "execution_count": null,
   "id": "1abf208e-cc0a-4527-b00e-182ea79d1fc2",
   "metadata": {
    "scrolled": true
   },
   "outputs": [],
   "source": [
    "from selenium.webdriver.support.ui import WebDriverWait\n",
    "from selenium.webdriver.support import expected_conditions as EC\n",
    "wait = WebDriverWait(driver, 3)\n",
    "element = wait.until(\n",
    "EC.presence_of_element_located((By.CSS_SELECTOR,'#contentarea_left > table > tbody > tr:nth-child(4) > td.tc > div > div > span'))\n",
    ")"
   ]
  },
  {
   "cell_type": "code",
   "execution_count": 35,
   "id": "357620f2-f813-4f12-8304-ceee5c6ae331",
   "metadata": {},
   "outputs": [
    {
     "data": {
      "text/plain": [
       "'100%'"
      ]
     },
     "execution_count": 35,
     "metadata": {},
     "output_type": "execute_result"
    }
   ],
   "source": [
    "driver.execute_script(\"return document.querySelector('#contentarea_left > table > tbody > tr:nth-child(4) > td.tc > div > div > span').textContent\")"
   ]
  },
  {
   "cell_type": "code",
   "execution_count": null,
   "id": "96b82e74-a6b7-4d5f-9bc1-29e87a5524d0",
   "metadata": {},
   "outputs": [],
   "source": []
  }
 ],
 "metadata": {
  "kernelspec": {
   "display_name": "Python 3 (ipykernel)",
   "language": "python",
   "name": "python3"
  },
  "language_info": {
   "codemirror_mode": {
    "name": "ipython",
    "version": 3
   },
   "file_extension": ".py",
   "mimetype": "text/x-python",
   "name": "python",
   "nbconvert_exporter": "python",
   "pygments_lexer": "ipython3",
   "version": "3.12.7"
  }
 },
 "nbformat": 4,
 "nbformat_minor": 5
}
