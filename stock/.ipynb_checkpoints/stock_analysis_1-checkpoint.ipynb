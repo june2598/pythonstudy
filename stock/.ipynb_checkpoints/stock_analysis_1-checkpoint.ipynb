{
 "cells": [
  {
   "cell_type": "code",
   "execution_count": 1,
   "id": "e2406a78-377a-4eb0-8ac2-9a2edf13d120",
   "metadata": {},
   "outputs": [],
   "source": [
    "# 데이터 분석을 위한 패키지\n",
    "import numpy as np\n",
    "import pandas as pd\n"
   ]
  },
  {
   "cell_type": "code",
   "execution_count": 2,
   "id": "91e583f1-817f-4a61-b8b7-1fc4d815cef7",
   "metadata": {},
   "outputs": [],
   "source": [
    "# 시각화 패키지\n",
    "import matplotlib.pyplot as plt\n",
    "import seaborn as sns"
   ]
  },
  {
   "cell_type": "code",
   "execution_count": 96,
   "id": "6d508b62-b1e0-4f76-ad68-6c88d9932e8b",
   "metadata": {},
   "outputs": [],
   "source": [
    "#matplotlib 한글깨짐 방지\n",
    "# plt.rc('font', family='Malgun Gothic')"
   ]
  },
  {
   "cell_type": "code",
   "execution_count": 3,
   "id": "7526514a-4527-45c4-a6ac-53e94b9cb0d8",
   "metadata": {},
   "outputs": [
    {
     "name": "stdout",
     "output_type": "stream",
     "text": [
      "Collecting koreanize-matplotlib\n",
      "  Downloading koreanize_matplotlib-0.1.1-py3-none-any.whl.metadata (992 bytes)\n",
      "Requirement already satisfied: matplotlib in d:\\kdt\\anaconda3\\lib\\site-packages (from koreanize-matplotlib) (3.9.2)\n",
      "Requirement already satisfied: contourpy>=1.0.1 in d:\\kdt\\anaconda3\\lib\\site-packages (from matplotlib->koreanize-matplotlib) (1.2.0)\n",
      "Requirement already satisfied: cycler>=0.10 in d:\\kdt\\anaconda3\\lib\\site-packages (from matplotlib->koreanize-matplotlib) (0.11.0)\n",
      "Requirement already satisfied: fonttools>=4.22.0 in d:\\kdt\\anaconda3\\lib\\site-packages (from matplotlib->koreanize-matplotlib) (4.51.0)\n",
      "Requirement already satisfied: kiwisolver>=1.3.1 in d:\\kdt\\anaconda3\\lib\\site-packages (from matplotlib->koreanize-matplotlib) (1.4.4)\n",
      "Requirement already satisfied: numpy>=1.23 in d:\\kdt\\anaconda3\\lib\\site-packages (from matplotlib->koreanize-matplotlib) (1.26.4)\n",
      "Requirement already satisfied: packaging>=20.0 in d:\\kdt\\anaconda3\\lib\\site-packages (from matplotlib->koreanize-matplotlib) (24.1)\n",
      "Requirement already satisfied: pillow>=8 in d:\\kdt\\anaconda3\\lib\\site-packages (from matplotlib->koreanize-matplotlib) (10.4.0)\n",
      "Requirement already satisfied: pyparsing>=2.3.1 in d:\\kdt\\anaconda3\\lib\\site-packages (from matplotlib->koreanize-matplotlib) (3.1.2)\n",
      "Requirement already satisfied: python-dateutil>=2.7 in d:\\kdt\\anaconda3\\lib\\site-packages (from matplotlib->koreanize-matplotlib) (2.9.0.post0)\n",
      "Requirement already satisfied: six>=1.5 in d:\\kdt\\anaconda3\\lib\\site-packages (from python-dateutil>=2.7->matplotlib->koreanize-matplotlib) (1.16.0)\n",
      "Downloading koreanize_matplotlib-0.1.1-py3-none-any.whl (7.9 MB)\n",
      "   ---------------------------------------- 0.0/7.9 MB ? eta -:--:--\n",
      "   -- ------------------------------------- 0.5/7.9 MB 3.4 MB/s eta 0:00:03\n",
      "   ------- -------------------------------- 1.6/7.9 MB 4.0 MB/s eta 0:00:02\n",
      "   ---------- ----------------------------- 2.1/7.9 MB 3.9 MB/s eta 0:00:02\n",
      "   ------------- -------------------------- 2.6/7.9 MB 3.4 MB/s eta 0:00:02\n",
      "   ----------------- ---------------------- 3.4/7.9 MB 3.5 MB/s eta 0:00:02\n",
      "   --------------------- ------------------ 4.2/7.9 MB 3.5 MB/s eta 0:00:02\n",
      "   ------------------------- -------------- 5.0/7.9 MB 3.6 MB/s eta 0:00:01\n",
      "   ----------------------------- ---------- 5.8/7.9 MB 3.6 MB/s eta 0:00:01\n",
      "   -------------------------------- ------- 6.6/7.9 MB 3.5 MB/s eta 0:00:01\n",
      "   ------------------------------------ --- 7.3/7.9 MB 3.5 MB/s eta 0:00:01\n",
      "   ---------------------------------------- 7.9/7.9 MB 3.5 MB/s eta 0:00:00\n",
      "Installing collected packages: koreanize-matplotlib\n",
      "Successfully installed koreanize-matplotlib-0.1.1\n"
     ]
    }
   ],
   "source": [
    "# 한글 지원 라이브러리 설치\n",
    "!pip install koreanize-matplotlib"
   ]
  },
  {
   "cell_type": "code",
   "execution_count": 4,
   "id": "80876c56-a42f-4646-a215-009352d104d8",
   "metadata": {},
   "outputs": [],
   "source": [
    "import koreanize_matplotlib"
   ]
  },
  {
   "cell_type": "code",
   "execution_count": null,
   "id": "61eb0617-59f7-4f1a-a841-192f7b37acce",
   "metadata": {},
   "outputs": [],
   "source": [
    "pd.options.display.float_format = '{:,.2f}'.format"
   ]
  },
  {
   "cell_type": "code",
   "execution_count": null,
   "id": "a7185dd1-3dc1-4df9-b50e-af3270ee235d",
   "metadata": {},
   "outputs": [],
   "source": [
    "pd.set_option?"
   ]
  },
  {
   "cell_type": "code",
   "execution_count": 6,
   "id": "118bbb53-b378-4e4c-98d2-19d19b32ab94",
   "metadata": {},
   "outputs": [],
   "source": [
    "# 모든 컬럼,행을 출력하도록 설정\n",
    "pd.set_option('display.max_columns', None) # None으로 설정하면 모든 컬럼 출력 default: 20\n",
    "\n",
    "pd.set_option('display.max_rows', 30) #None으로 설정하면 모든 행 출력 default: 60"
   ]
  },
  {
   "cell_type": "code",
   "execution_count": 70,
   "id": "3712c0d5-5245-44eb-a83f-47567bafb791",
   "metadata": {},
   "outputs": [],
   "source": [
    "#pd.set_option('display.width', 1000) #원하는 폭으로 설정"
   ]
  },
  {
   "cell_type": "markdown",
   "id": "21da9247-4a7f-4761-a1e9-9423b44cb8f0",
   "metadata": {},
   "source": [
    "#### 외부파일을 데이터 프레임으로 로딩하기"
   ]
  },
  {
   "cell_type": "code",
   "execution_count": 7,
   "id": "a0718029-8034-44e4-8db4-a74a23dbadd5",
   "metadata": {},
   "outputs": [],
   "source": [
    "#엑셀 파일 불러오기\n",
    "# df_stocks = pd.read_excel('stocks.xlsx')\n",
    "#CSV 파일 불러오기\n",
    "df_stocks = pd.read_csv('stocks.csv')"
   ]
  },
  {
   "cell_type": "code",
   "execution_count": 8,
   "id": "d9c14170-89fe-47a7-bf2f-d60762d3797c",
   "metadata": {},
   "outputs": [
    {
     "data": {
      "text/plain": [
       "(2855, 23)"
      ]
     },
     "execution_count": 8,
     "metadata": {},
     "output_type": "execute_result"
    }
   ],
   "source": [
    "df_stocks.shape"
   ]
  },
  {
   "cell_type": "code",
   "execution_count": null,
   "id": "1c3eccfc-cd6a-44c1-952d-6293f5f97133",
   "metadata": {},
   "outputs": [],
   "source": [
    "df_stocks"
   ]
  },
  {
   "cell_type": "code",
   "execution_count": 9,
   "id": "d2c37ee1-29de-4098-bfa2-2ae962b1cbdf",
   "metadata": {},
   "outputs": [
    {
     "data": {
      "text/html": [
       "<div>\n",
       "<style scoped>\n",
       "    .dataframe tbody tr th:only-of-type {\n",
       "        vertical-align: middle;\n",
       "    }\n",
       "\n",
       "    .dataframe tbody tr th {\n",
       "        vertical-align: top;\n",
       "    }\n",
       "\n",
       "    .dataframe thead th {\n",
       "        text-align: right;\n",
       "    }\n",
       "</style>\n",
       "<table border=\"1\" class=\"dataframe\">\n",
       "  <thead>\n",
       "    <tr style=\"text-align: right;\">\n",
       "      <th></th>\n",
       "      <th>Code</th>\n",
       "      <th>Name</th>\n",
       "      <th>Market</th>\n",
       "      <th>Dept</th>\n",
       "      <th>Close</th>\n",
       "      <th>ChangeCode</th>\n",
       "      <th>Changes</th>\n",
       "      <th>ChagesRatio</th>\n",
       "      <th>Open</th>\n",
       "      <th>High</th>\n",
       "      <th>Low</th>\n",
       "      <th>Volume</th>\n",
       "      <th>Amount</th>\n",
       "      <th>Marcap</th>\n",
       "      <th>Stocks</th>\n",
       "      <th>MarketId</th>\n",
       "      <th>Sector</th>\n",
       "      <th>Industry</th>\n",
       "      <th>ListingDate</th>\n",
       "      <th>SettleMonth</th>\n",
       "      <th>Representative</th>\n",
       "      <th>HomePage</th>\n",
       "      <th>Region</th>\n",
       "    </tr>\n",
       "  </thead>\n",
       "  <tbody>\n",
       "    <tr>\n",
       "      <th>0</th>\n",
       "      <td>005930</td>\n",
       "      <td>삼성전자</td>\n",
       "      <td>KOSPI</td>\n",
       "      <td>NaN</td>\n",
       "      <td>54200</td>\n",
       "      <td>1</td>\n",
       "      <td>100</td>\n",
       "      <td>0.18</td>\n",
       "      <td>53500</td>\n",
       "      <td>54600</td>\n",
       "      <td>53300</td>\n",
       "      <td>12640887</td>\n",
       "      <td>681039484000</td>\n",
       "      <td>323562214210000</td>\n",
       "      <td>5969782550</td>\n",
       "      <td>STK</td>\n",
       "      <td>통신 및 방송 장비 제조업</td>\n",
       "      <td>통신 및 방송 장비 제조(무선) 제품, 반도체 제조(메모리) 제품, 전자부품 제조(...</td>\n",
       "      <td>1975-06-11</td>\n",
       "      <td>12월</td>\n",
       "      <td>한종희</td>\n",
       "      <td>http://www.samsung.com/sec</td>\n",
       "      <td>경기도</td>\n",
       "    </tr>\n",
       "  </tbody>\n",
       "</table>\n",
       "</div>"
      ],
      "text/plain": [
       "     Code  Name Market Dept  Close  ChangeCode  Changes  ChagesRatio   Open  \\\n",
       "0  005930  삼성전자  KOSPI  NaN  54200           1      100         0.18  53500   \n",
       "\n",
       "    High    Low    Volume        Amount           Marcap      Stocks MarketId  \\\n",
       "0  54600  53300  12640887  681039484000  323562214210000  5969782550      STK   \n",
       "\n",
       "           Sector                                           Industry  \\\n",
       "0  통신 및 방송 장비 제조업  통신 및 방송 장비 제조(무선) 제품, 반도체 제조(메모리) 제품, 전자부품 제조(...   \n",
       "\n",
       "  ListingDate SettleMonth Representative                    HomePage Region  \n",
       "0  1975-06-11         12월            한종희  http://www.samsung.com/sec    경기도  "
      ]
     },
     "execution_count": 9,
     "metadata": {},
     "output_type": "execute_result"
    }
   ],
   "source": [
    "df_stocks.head(1)"
   ]
  },
  {
   "cell_type": "code",
   "execution_count": 10,
   "id": "7b843a0d-7d75-4733-90f7-f9c7128b537f",
   "metadata": {},
   "outputs": [
    {
     "name": "stdout",
     "output_type": "stream",
     "text": [
      "<class 'pandas.core.frame.DataFrame'>\n",
      "RangeIndex: 2855 entries, 0 to 2854\n",
      "Data columns (total 23 columns):\n",
      " #   Column          Non-Null Count  Dtype  \n",
      "---  ------          --------------  -----  \n",
      " 0   Code            2855 non-null   object \n",
      " 1   Name            2855 non-null   object \n",
      " 2   Market          2855 non-null   object \n",
      " 3   Dept            1896 non-null   object \n",
      " 4   Close           2855 non-null   int64  \n",
      " 5   ChangeCode      2855 non-null   int64  \n",
      " 6   Changes         2855 non-null   int64  \n",
      " 7   ChagesRatio     2855 non-null   float64\n",
      " 8   Open            2855 non-null   int64  \n",
      " 9   High            2855 non-null   int64  \n",
      " 10  Low             2855 non-null   int64  \n",
      " 11  Volume          2855 non-null   int64  \n",
      " 12  Amount          2855 non-null   int64  \n",
      " 13  Marcap          2855 non-null   int64  \n",
      " 14  Stocks          2855 non-null   int64  \n",
      " 15  MarketId        2855 non-null   object \n",
      " 16  Sector          2739 non-null   object \n",
      " 17  Industry        2724 non-null   object \n",
      " 18  ListingDate     2739 non-null   object \n",
      " 19  SettleMonth     2739 non-null   object \n",
      " 20  Representative  2739 non-null   object \n",
      " 21  HomePage        2547 non-null   object \n",
      " 22  Region          2739 non-null   object \n",
      "dtypes: float64(1), int64(10), object(12)\n",
      "memory usage: 513.1+ KB\n"
     ]
    }
   ],
   "source": [
    "df_stocks.info()"
   ]
  },
  {
   "cell_type": "markdown",
   "id": "d49503bf-e732-467b-bb43-c2c7f1afb8de",
   "metadata": {},
   "source": [
    "#### 결측치 확인"
   ]
  },
  {
   "cell_type": "code",
   "execution_count": 11,
   "id": "423899e3-5871-46a2-a3f1-b9e7dc175220",
   "metadata": {},
   "outputs": [
    {
     "data": {
      "text/html": [
       "<div>\n",
       "<style scoped>\n",
       "    .dataframe tbody tr th:only-of-type {\n",
       "        vertical-align: middle;\n",
       "    }\n",
       "\n",
       "    .dataframe tbody tr th {\n",
       "        vertical-align: top;\n",
       "    }\n",
       "\n",
       "    .dataframe thead th {\n",
       "        text-align: right;\n",
       "    }\n",
       "</style>\n",
       "<table border=\"1\" class=\"dataframe\">\n",
       "  <thead>\n",
       "    <tr style=\"text-align: right;\">\n",
       "      <th></th>\n",
       "      <th>Code</th>\n",
       "      <th>Name</th>\n",
       "      <th>Market</th>\n",
       "      <th>Dept</th>\n",
       "      <th>Close</th>\n",
       "      <th>ChangeCode</th>\n",
       "      <th>Changes</th>\n",
       "      <th>ChagesRatio</th>\n",
       "      <th>Open</th>\n",
       "      <th>High</th>\n",
       "      <th>Low</th>\n",
       "      <th>Volume</th>\n",
       "      <th>Amount</th>\n",
       "      <th>Marcap</th>\n",
       "      <th>Stocks</th>\n",
       "      <th>MarketId</th>\n",
       "      <th>Sector</th>\n",
       "      <th>Industry</th>\n",
       "      <th>ListingDate</th>\n",
       "      <th>SettleMonth</th>\n",
       "      <th>Representative</th>\n",
       "      <th>HomePage</th>\n",
       "      <th>Region</th>\n",
       "    </tr>\n",
       "  </thead>\n",
       "  <tbody>\n",
       "    <tr>\n",
       "      <th>0</th>\n",
       "      <td>False</td>\n",
       "      <td>False</td>\n",
       "      <td>False</td>\n",
       "      <td>True</td>\n",
       "      <td>False</td>\n",
       "      <td>False</td>\n",
       "      <td>False</td>\n",
       "      <td>False</td>\n",
       "      <td>False</td>\n",
       "      <td>False</td>\n",
       "      <td>False</td>\n",
       "      <td>False</td>\n",
       "      <td>False</td>\n",
       "      <td>False</td>\n",
       "      <td>False</td>\n",
       "      <td>False</td>\n",
       "      <td>False</td>\n",
       "      <td>False</td>\n",
       "      <td>False</td>\n",
       "      <td>False</td>\n",
       "      <td>False</td>\n",
       "      <td>False</td>\n",
       "      <td>False</td>\n",
       "    </tr>\n",
       "    <tr>\n",
       "      <th>1</th>\n",
       "      <td>False</td>\n",
       "      <td>False</td>\n",
       "      <td>False</td>\n",
       "      <td>True</td>\n",
       "      <td>False</td>\n",
       "      <td>False</td>\n",
       "      <td>False</td>\n",
       "      <td>False</td>\n",
       "      <td>False</td>\n",
       "      <td>False</td>\n",
       "      <td>False</td>\n",
       "      <td>False</td>\n",
       "      <td>False</td>\n",
       "      <td>False</td>\n",
       "      <td>False</td>\n",
       "      <td>False</td>\n",
       "      <td>False</td>\n",
       "      <td>False</td>\n",
       "      <td>False</td>\n",
       "      <td>False</td>\n",
       "      <td>False</td>\n",
       "      <td>False</td>\n",
       "      <td>False</td>\n",
       "    </tr>\n",
       "    <tr>\n",
       "      <th>2</th>\n",
       "      <td>False</td>\n",
       "      <td>False</td>\n",
       "      <td>False</td>\n",
       "      <td>True</td>\n",
       "      <td>False</td>\n",
       "      <td>False</td>\n",
       "      <td>False</td>\n",
       "      <td>False</td>\n",
       "      <td>False</td>\n",
       "      <td>False</td>\n",
       "      <td>False</td>\n",
       "      <td>False</td>\n",
       "      <td>False</td>\n",
       "      <td>False</td>\n",
       "      <td>False</td>\n",
       "      <td>False</td>\n",
       "      <td>False</td>\n",
       "      <td>False</td>\n",
       "      <td>False</td>\n",
       "      <td>False</td>\n",
       "      <td>False</td>\n",
       "      <td>True</td>\n",
       "      <td>False</td>\n",
       "    </tr>\n",
       "    <tr>\n",
       "      <th>3</th>\n",
       "      <td>False</td>\n",
       "      <td>False</td>\n",
       "      <td>False</td>\n",
       "      <td>True</td>\n",
       "      <td>False</td>\n",
       "      <td>False</td>\n",
       "      <td>False</td>\n",
       "      <td>False</td>\n",
       "      <td>False</td>\n",
       "      <td>False</td>\n",
       "      <td>False</td>\n",
       "      <td>False</td>\n",
       "      <td>False</td>\n",
       "      <td>False</td>\n",
       "      <td>False</td>\n",
       "      <td>False</td>\n",
       "      <td>False</td>\n",
       "      <td>False</td>\n",
       "      <td>False</td>\n",
       "      <td>False</td>\n",
       "      <td>False</td>\n",
       "      <td>False</td>\n",
       "      <td>False</td>\n",
       "    </tr>\n",
       "    <tr>\n",
       "      <th>4</th>\n",
       "      <td>False</td>\n",
       "      <td>False</td>\n",
       "      <td>False</td>\n",
       "      <td>True</td>\n",
       "      <td>False</td>\n",
       "      <td>False</td>\n",
       "      <td>False</td>\n",
       "      <td>False</td>\n",
       "      <td>False</td>\n",
       "      <td>False</td>\n",
       "      <td>False</td>\n",
       "      <td>False</td>\n",
       "      <td>False</td>\n",
       "      <td>False</td>\n",
       "      <td>False</td>\n",
       "      <td>False</td>\n",
       "      <td>False</td>\n",
       "      <td>False</td>\n",
       "      <td>False</td>\n",
       "      <td>False</td>\n",
       "      <td>False</td>\n",
       "      <td>False</td>\n",
       "      <td>False</td>\n",
       "    </tr>\n",
       "    <tr>\n",
       "      <th>...</th>\n",
       "      <td>...</td>\n",
       "      <td>...</td>\n",
       "      <td>...</td>\n",
       "      <td>...</td>\n",
       "      <td>...</td>\n",
       "      <td>...</td>\n",
       "      <td>...</td>\n",
       "      <td>...</td>\n",
       "      <td>...</td>\n",
       "      <td>...</td>\n",
       "      <td>...</td>\n",
       "      <td>...</td>\n",
       "      <td>...</td>\n",
       "      <td>...</td>\n",
       "      <td>...</td>\n",
       "      <td>...</td>\n",
       "      <td>...</td>\n",
       "      <td>...</td>\n",
       "      <td>...</td>\n",
       "      <td>...</td>\n",
       "      <td>...</td>\n",
       "      <td>...</td>\n",
       "      <td>...</td>\n",
       "    </tr>\n",
       "    <tr>\n",
       "      <th>2850</th>\n",
       "      <td>False</td>\n",
       "      <td>False</td>\n",
       "      <td>False</td>\n",
       "      <td>False</td>\n",
       "      <td>False</td>\n",
       "      <td>False</td>\n",
       "      <td>False</td>\n",
       "      <td>False</td>\n",
       "      <td>False</td>\n",
       "      <td>False</td>\n",
       "      <td>False</td>\n",
       "      <td>False</td>\n",
       "      <td>False</td>\n",
       "      <td>False</td>\n",
       "      <td>False</td>\n",
       "      <td>False</td>\n",
       "      <td>False</td>\n",
       "      <td>False</td>\n",
       "      <td>False</td>\n",
       "      <td>False</td>\n",
       "      <td>False</td>\n",
       "      <td>False</td>\n",
       "      <td>False</td>\n",
       "    </tr>\n",
       "    <tr>\n",
       "      <th>2851</th>\n",
       "      <td>False</td>\n",
       "      <td>False</td>\n",
       "      <td>False</td>\n",
       "      <td>False</td>\n",
       "      <td>False</td>\n",
       "      <td>False</td>\n",
       "      <td>False</td>\n",
       "      <td>False</td>\n",
       "      <td>False</td>\n",
       "      <td>False</td>\n",
       "      <td>False</td>\n",
       "      <td>False</td>\n",
       "      <td>False</td>\n",
       "      <td>False</td>\n",
       "      <td>False</td>\n",
       "      <td>False</td>\n",
       "      <td>False</td>\n",
       "      <td>False</td>\n",
       "      <td>False</td>\n",
       "      <td>False</td>\n",
       "      <td>False</td>\n",
       "      <td>False</td>\n",
       "      <td>False</td>\n",
       "    </tr>\n",
       "    <tr>\n",
       "      <th>2852</th>\n",
       "      <td>False</td>\n",
       "      <td>False</td>\n",
       "      <td>False</td>\n",
       "      <td>False</td>\n",
       "      <td>False</td>\n",
       "      <td>False</td>\n",
       "      <td>False</td>\n",
       "      <td>False</td>\n",
       "      <td>False</td>\n",
       "      <td>False</td>\n",
       "      <td>False</td>\n",
       "      <td>False</td>\n",
       "      <td>False</td>\n",
       "      <td>False</td>\n",
       "      <td>False</td>\n",
       "      <td>False</td>\n",
       "      <td>False</td>\n",
       "      <td>False</td>\n",
       "      <td>False</td>\n",
       "      <td>False</td>\n",
       "      <td>False</td>\n",
       "      <td>False</td>\n",
       "      <td>False</td>\n",
       "    </tr>\n",
       "    <tr>\n",
       "      <th>2853</th>\n",
       "      <td>False</td>\n",
       "      <td>False</td>\n",
       "      <td>False</td>\n",
       "      <td>False</td>\n",
       "      <td>False</td>\n",
       "      <td>False</td>\n",
       "      <td>False</td>\n",
       "      <td>False</td>\n",
       "      <td>False</td>\n",
       "      <td>False</td>\n",
       "      <td>False</td>\n",
       "      <td>False</td>\n",
       "      <td>False</td>\n",
       "      <td>False</td>\n",
       "      <td>False</td>\n",
       "      <td>False</td>\n",
       "      <td>False</td>\n",
       "      <td>False</td>\n",
       "      <td>False</td>\n",
       "      <td>False</td>\n",
       "      <td>False</td>\n",
       "      <td>False</td>\n",
       "      <td>False</td>\n",
       "    </tr>\n",
       "    <tr>\n",
       "      <th>2854</th>\n",
       "      <td>False</td>\n",
       "      <td>False</td>\n",
       "      <td>False</td>\n",
       "      <td>False</td>\n",
       "      <td>False</td>\n",
       "      <td>False</td>\n",
       "      <td>False</td>\n",
       "      <td>False</td>\n",
       "      <td>False</td>\n",
       "      <td>False</td>\n",
       "      <td>False</td>\n",
       "      <td>False</td>\n",
       "      <td>False</td>\n",
       "      <td>False</td>\n",
       "      <td>False</td>\n",
       "      <td>False</td>\n",
       "      <td>False</td>\n",
       "      <td>False</td>\n",
       "      <td>False</td>\n",
       "      <td>False</td>\n",
       "      <td>False</td>\n",
       "      <td>False</td>\n",
       "      <td>False</td>\n",
       "    </tr>\n",
       "  </tbody>\n",
       "</table>\n",
       "<p>2855 rows × 23 columns</p>\n",
       "</div>"
      ],
      "text/plain": [
       "       Code   Name  Market   Dept  Close  ChangeCode  Changes  ChagesRatio  \\\n",
       "0     False  False   False   True  False       False    False        False   \n",
       "1     False  False   False   True  False       False    False        False   \n",
       "2     False  False   False   True  False       False    False        False   \n",
       "3     False  False   False   True  False       False    False        False   \n",
       "4     False  False   False   True  False       False    False        False   \n",
       "...     ...    ...     ...    ...    ...         ...      ...          ...   \n",
       "2850  False  False   False  False  False       False    False        False   \n",
       "2851  False  False   False  False  False       False    False        False   \n",
       "2852  False  False   False  False  False       False    False        False   \n",
       "2853  False  False   False  False  False       False    False        False   \n",
       "2854  False  False   False  False  False       False    False        False   \n",
       "\n",
       "       Open   High    Low  Volume  Amount  Marcap  Stocks  MarketId  Sector  \\\n",
       "0     False  False  False   False   False   False   False     False   False   \n",
       "1     False  False  False   False   False   False   False     False   False   \n",
       "2     False  False  False   False   False   False   False     False   False   \n",
       "3     False  False  False   False   False   False   False     False   False   \n",
       "4     False  False  False   False   False   False   False     False   False   \n",
       "...     ...    ...    ...     ...     ...     ...     ...       ...     ...   \n",
       "2850  False  False  False   False   False   False   False     False   False   \n",
       "2851  False  False  False   False   False   False   False     False   False   \n",
       "2852  False  False  False   False   False   False   False     False   False   \n",
       "2853  False  False  False   False   False   False   False     False   False   \n",
       "2854  False  False  False   False   False   False   False     False   False   \n",
       "\n",
       "      Industry  ListingDate  SettleMonth  Representative  HomePage  Region  \n",
       "0        False        False        False           False     False   False  \n",
       "1        False        False        False           False     False   False  \n",
       "2        False        False        False           False      True   False  \n",
       "3        False        False        False           False     False   False  \n",
       "4        False        False        False           False     False   False  \n",
       "...        ...          ...          ...             ...       ...     ...  \n",
       "2850     False        False        False           False     False   False  \n",
       "2851     False        False        False           False     False   False  \n",
       "2852     False        False        False           False     False   False  \n",
       "2853     False        False        False           False     False   False  \n",
       "2854     False        False        False           False     False   False  \n",
       "\n",
       "[2855 rows x 23 columns]"
      ]
     },
     "execution_count": 11,
     "metadata": {},
     "output_type": "execute_result"
    }
   ],
   "source": [
    "df_stocks.isna()"
   ]
  },
  {
   "cell_type": "code",
   "execution_count": 13,
   "id": "2abfc650-f080-4d77-b8e8-00b96fca17ca",
   "metadata": {},
   "outputs": [
    {
     "data": {
      "text/plain": [
       "Sector            116\n",
       "ListingDate       116\n",
       "SettleMonth       116\n",
       "Representative    116\n",
       "Region            116\n",
       "Industry          131\n",
       "HomePage          308\n",
       "Dept              959\n",
       "dtype: int64"
      ]
     },
     "execution_count": 13,
     "metadata": {},
     "output_type": "execute_result"
    }
   ],
   "source": [
    "temp = df_stocks.isna().sum(axis=0).sort_values(ascending=True)\n",
    "temp = temp[temp > 0]\n",
    "temp\n"
   ]
  },
  {
   "cell_type": "code",
   "execution_count": null,
   "id": "bad7c734-5d37-45d1-95b7-a7a3e5f130ff",
   "metadata": {},
   "outputs": [],
   "source": [
    "temp.plot?"
   ]
  },
  {
   "cell_type": "code",
   "execution_count": 14,
   "id": "9ace024c-b9bc-4345-b05d-c109057c1493",
   "metadata": {},
   "outputs": [
    {
     "data": {
      "text/plain": [
       "<Axes: >"
      ]
     },
     "execution_count": 14,
     "metadata": {},
     "output_type": "execute_result"
    },
    {
     "data": {
      "image/png": "[encoded data removed]",
      "text/plain": [
       "<Figure size 500x300 with 1 Axes>"
      ]
     },
     "metadata": {},
     "output_type": "display_data"
    }
   ],
   "source": [
    "# print(df_stocks.isna().sum(axis=0).sort_values(ascending=True))\n",
    "\n",
    "#그래프로 시각화\n",
    "# df_stocks.isna().sum(axis=0).sort_values(ascending=False).plot()\n",
    "\n",
    "#king : 그래프 종류 \n",
    "\n",
    "plt.figure(figsize=(5,3)) # 너비 10인치 높이 5인치\n",
    "temp.plot(kind='barh')"
   ]
  },
  {
   "cell_type": "code",
   "execution_count": 15,
   "id": "a2f5003b-6c0a-4d09-acfb-5b990ff1c16e",
   "metadata": {},
   "outputs": [
    {
     "data": {
      "text/plain": [
       "<Axes: >"
      ]
     },
     "execution_count": 15,
     "metadata": {},
     "output_type": "execute_result"
    },
    {
     "data": {
      "image/png": "[encoded data removed]",
      "text/plain": [
       "<Figure size 640x480 with 1 Axes>"
      ]
     },
     "metadata": {},
     "output_type": "display_data"
    }
   ],
   "source": [
    "# 요약 기술 통계\n",
    "df_stocks.isna().sum(axis=0).sort_values(ascending=True).plot()\n",
    "\n",
    "#std : 표준편차"
   ]
  },
  {
   "cell_type": "code",
   "execution_count": 80,
   "id": "92a98101-db88-425e-8356-2c50a91a11ee",
   "metadata": {},
   "outputs": [
    {
     "data": {
      "text/plain": [
       "Index(['Code', 'Name', 'Market', 'Dept', 'Close', 'ChangeCode', 'Changes',\n",
       "       'ChagesRatio', 'Open', 'High', 'Low', 'Volume', 'Amount', 'Marcap',\n",
       "       'Stocks', 'MarketId', 'Sector', 'Industry', 'ListingDate',\n",
       "       'SettleMonth', 'Representative', 'HomePage', 'Region'],\n",
       "      dtype='object')"
      ]
     },
     "execution_count": 80,
     "metadata": {},
     "output_type": "execute_result"
    }
   ],
   "source": [
    "df_stocks.columns"
   ]
  },
  {
   "cell_type": "markdown",
   "id": "26f21817-ee03-46d3-89db-382ae982d065",
   "metadata": {},
   "source": [
    "#### 컬럼명 변경"
   ]
  },
  {
   "cell_type": "code",
   "execution_count": 81,
   "id": "1efbe3da-0859-486b-9aae-97ac7cf56080",
   "metadata": {},
   "outputs": [],
   "source": [
    "stocks_columns = {'Code':'종목코드', 'Name':'종목명', 'Market':'시장', 'Dept':'부서(한국거래소)', 'Close':'종가', 'ChangeCode':'등락기호','Changes':'전일대비', \n",
    "                     'ChagesRatio':'전일대비 등락률', 'Open':'시가','High':'고가', 'Low':'저가', 'Volume':'거래량', 'Amount':'거래대금', 'Marcap':'시가총액(백만원)', \n",
    "                     'Stocks':'주식발행수', 'MarketId':'시장기호', 'Sector':'업종', 'Industry':'주요제품', 'ListingDate':'상장일', \n",
    "                     'SettleMonth':'결산월', 'Representative':'대표자명','HomePage':'홈페이지', 'Region':'지역'} "
   ]
  },
  {
   "cell_type": "code",
   "execution_count": 85,
   "id": "d2dc2043-eb3e-40d8-93a1-4ab49dc7fe2c",
   "metadata": {},
   "outputs": [],
   "source": [
    "# 컬럼명 변경\n",
    "df_stocks.rename(columns = stocks_columns, inplace = True)"
   ]
  },
  {
   "cell_type": "code",
   "execution_count": null,
   "id": "de7f323a-455a-4d59-aeb4-07de98bd9a60",
   "metadata": {},
   "outputs": [],
   "source": [
    "df_stocks.head(1)"
   ]
  },
  {
   "cell_type": "code",
   "execution_count": 87,
   "id": "bbcbe312-dadf-4f8d-a984-87e165b6b801",
   "metadata": {},
   "outputs": [
    {
     "data": {
      "text/html": [
       "<div>\n",
       "<style scoped>\n",
       "    .dataframe tbody tr th:only-of-type {\n",
       "        vertical-align: middle;\n",
       "    }\n",
       "\n",
       "    .dataframe tbody tr th {\n",
       "        vertical-align: top;\n",
       "    }\n",
       "\n",
       "    .dataframe thead th {\n",
       "        text-align: right;\n",
       "    }\n",
       "</style>\n",
       "<table border=\"1\" class=\"dataframe\">\n",
       "  <thead>\n",
       "    <tr style=\"text-align: right;\">\n",
       "      <th></th>\n",
       "      <th>종목코드</th>\n",
       "      <th>종목명</th>\n",
       "      <th>시장</th>\n",
       "      <th>부서(한국거래소)</th>\n",
       "      <th>시장기호</th>\n",
       "      <th>업종</th>\n",
       "      <th>주요제품</th>\n",
       "      <th>결산월</th>\n",
       "      <th>대표자명</th>\n",
       "      <th>홈페이지</th>\n",
       "      <th>지역</th>\n",
       "    </tr>\n",
       "  </thead>\n",
       "  <tbody>\n",
       "    <tr>\n",
       "      <th>count</th>\n",
       "      <td>2856</td>\n",
       "      <td>2856</td>\n",
       "      <td>2856</td>\n",
       "      <td>1896</td>\n",
       "      <td>2856</td>\n",
       "      <td>2740</td>\n",
       "      <td>2725</td>\n",
       "      <td>2740</td>\n",
       "      <td>2740</td>\n",
       "      <td>2548</td>\n",
       "      <td>2740</td>\n",
       "    </tr>\n",
       "    <tr>\n",
       "      <th>unique</th>\n",
       "      <td>2856</td>\n",
       "      <td>2856</td>\n",
       "      <td>4</td>\n",
       "      <td>9</td>\n",
       "      <td>3</td>\n",
       "      <td>160</td>\n",
       "      <td>2527</td>\n",
       "      <td>10</td>\n",
       "      <td>2607</td>\n",
       "      <td>2528</td>\n",
       "      <td>22</td>\n",
       "    </tr>\n",
       "    <tr>\n",
       "      <th>top</th>\n",
       "      <td>005930</td>\n",
       "      <td>삼성전자</td>\n",
       "      <td>KOSDAQ</td>\n",
       "      <td>우량기업부</td>\n",
       "      <td>KSQ</td>\n",
       "      <td>소프트웨어 개발 및 공급업</td>\n",
       "      <td>기업인수합병</td>\n",
       "      <td>12월</td>\n",
       "      <td>김종현</td>\n",
       "      <td>http://www.maeil.com</td>\n",
       "      <td>서울특별시</td>\n",
       "    </tr>\n",
       "    <tr>\n",
       "      <th>freq</th>\n",
       "      <td>1</td>\n",
       "      <td>1</td>\n",
       "      <td>1728</td>\n",
       "      <td>530</td>\n",
       "      <td>1776</td>\n",
       "      <td>185</td>\n",
       "      <td>53</td>\n",
       "      <td>2680</td>\n",
       "      <td>5</td>\n",
       "      <td>2</td>\n",
       "      <td>1108</td>\n",
       "    </tr>\n",
       "  </tbody>\n",
       "</table>\n",
       "</div>"
      ],
      "text/plain": [
       "          종목코드   종목명      시장 부서(한국거래소)  시장기호              업종    주요제품   결산월  \\\n",
       "count     2856  2856    2856      1896  2856            2740    2725  2740   \n",
       "unique    2856  2856       4         9     3             160    2527    10   \n",
       "top     005930  삼성전자  KOSDAQ     우량기업부   KSQ  소프트웨어 개발 및 공급업  기업인수합병   12월   \n",
       "freq         1     1    1728       530  1776             185      53  2680   \n",
       "\n",
       "        대표자명                  홈페이지     지역  \n",
       "count   2740                  2548   2740  \n",
       "unique  2607                  2528     22  \n",
       "top      김종현  http://www.maeil.com  서울특별시  \n",
       "freq       5                     2   1108  "
      ]
     },
     "execution_count": 87,
     "metadata": {},
     "output_type": "execute_result"
    }
   ],
   "source": [
    "#범주형 데이터 기술 통계\n",
    "df_stocks.describe(include='O')"
   ]
  },
  {
   "cell_type": "code",
   "execution_count": 91,
   "id": "e2ae796c-d49a-4d63-ad27-2c52ede04b2e",
   "metadata": {},
   "outputs": [
    {
     "name": "stdout",
     "output_type": "stream",
     "text": [
      "시장\n",
      "KOSDAQ           1728\n",
      "KOSPI             960\n",
      "KONEX             120\n",
      "KOSDAQ GLOBAL      48\n",
      "Name: count, dtype: int64\n"
     ]
    }
   ],
   "source": [
    "print(df_stocks['시장'].value_counts())"
   ]
  },
  {
   "cell_type": "code",
   "execution_count": 92,
   "id": "e930da9c-6944-4ff8-b5d0-6137d678689c",
   "metadata": {},
   "outputs": [
    {
     "name": "stdout",
     "output_type": "stream",
     "text": [
      "부서(한국거래소)\n",
      "우량기업부              530\n",
      "중견기업부              487\n",
      "벤처기업부              302\n",
      "기술성장기업부            234\n",
      "일반기업부              120\n",
      "SPAC(소속부없음)         99\n",
      "관리종목(소속부없음)         60\n",
      "투자주의환기종목(소속부없음)     45\n",
      "외국기업(소속부없음)         19\n",
      "Name: count, dtype: int64\n"
     ]
    }
   ],
   "source": [
    "print(df_stocks['부서(한국거래소)'].value_counts())\n"
   ]
  },
  {
   "cell_type": "code",
   "execution_count": 93,
   "id": "23f0b336-19e8-4bb0-9a20-312a2c3621cc",
   "metadata": {},
   "outputs": [
    {
     "name": "stdout",
     "output_type": "stream",
     "text": [
      "시장기호\n",
      "KSQ    1776\n",
      "STK     960\n",
      "KNX     120\n",
      "Name: count, dtype: int64\n"
     ]
    }
   ],
   "source": [
    "print(df_stocks['시장기호'].value_counts())"
   ]
  },
  {
   "cell_type": "code",
   "execution_count": 98,
   "id": "3470ed73-6a88-438e-9be3-cb6a380699c9",
   "metadata": {},
   "outputs": [
    {
     "name": "stdout",
     "output_type": "stream",
     "text": [
      "지역\n",
      "서울특별시      1108\n",
      "경기도         787\n",
      "충청남도        108\n",
      "경상남도         95\n",
      "인천광역시        94\n",
      "충청북도         93\n",
      "부산광역시        82\n",
      "경상북도         73\n",
      "대전광역시        62\n",
      "대구광역시        57\n",
      "전북특별자치도      36\n",
      "울산광역시        29\n",
      "강원특별자치도      29\n",
      "전라남도         24\n",
      "광주광역시        21\n",
      "세종특별자치시      13\n",
      "홍콩            8\n",
      "제주특별자치도       7\n",
      "미국            6\n",
      "케이맨 제도        5\n",
      "일본            2\n",
      "싱가포르          1\n",
      "Name: count, dtype: int64\n"
     ]
    },
    {
     "data": {
      "text/plain": [
       "<Axes: ylabel='count'>"
      ]
     },
     "execution_count": 98,
     "metadata": {},
     "output_type": "execute_result"
    },
    {
     "data": {
      "image/png": "[encoded data removed]",
      "text/plain": [
       "<Figure size 640x480 with 1 Axes>"
      ]
     },
     "metadata": {},
     "output_type": "display_data"
    }
   ],
   "source": [
    "print(df_stocks['지역'].value_counts())\n",
    "df_stocks['지역'].value_counts().sort_values().plot(kind='pie')"
   ]
  },
  {
   "cell_type": "code",
   "execution_count": null,
   "id": "a3c0f3e3-18e4-4caa-a42e-30e8fd1c2b9e",
   "metadata": {},
   "outputs": [],
   "source": [
    "print(df_stocks['업종'].value_counts())"
   ]
  },
  {
   "cell_type": "code",
   "execution_count": 112,
   "id": "c6168d5e-3a03-4986-8954-814c4b290cee",
   "metadata": {},
   "outputs": [
    {
     "name": "stdout",
     "output_type": "stream",
     "text": [
      "업종\n",
      "소프트웨어 개발 및 공급업                       185\n",
      "특수 목적용 기계 제조업                        168\n",
      "전자부품 제조업                             130\n",
      "금융 지원 서비스업                           119\n",
      "의약품 제조업                              104\n",
      "기타 금융업                               102\n",
      "자동차 신품 부품 제조업                        101\n",
      "기타 화학제품 제조업                          100\n",
      "반도체 제조업                               74\n",
      "자연과학 및 공학 연구개발업                       71\n",
      "의료용 기기 제조업                            67\n",
      "통신 및 방송 장비 제조업                        64\n",
      "1차 철강 제조업                             62\n",
      "기초 화학물질 제조업                           51\n",
      "일반 목적용 기계 제조업                         48\n",
      "플라스틱제품 제조업                            45\n",
      "기초 의약물질 제조업                           44\n",
      "기타 전문 도매업                             42\n",
      "컴퓨터 프로그래밍, 시스템 통합 및 관리업               41\n",
      "전동기, 발전기 및 전기 변환 · 공급 · 제어 장치 제조업     39\n",
      "Name: count, dtype: int64\n"
     ]
    },
    {
     "data": {
      "text/plain": [
       "<Axes: title={'center': '상위 20개 업종'}, ylabel='업종'>"
      ]
     },
     "execution_count": 112,
     "metadata": {},
     "output_type": "execute_result"
    },
    {
     "data": {
      "image/png": "[encoded data removed]",
      "text/plain": [
       "<Figure size 640x480 with 1 Axes>"
      ]
     },
     "metadata": {},
     "output_type": "display_data"
    }
   ],
   "source": [
    "#상위 20개 업종\n",
    "print(df_stocks['업종'].value_counts().sort_values(ascending=False).head(20))\n",
    "tmp = df_stocks['업종'].value_counts().sort_values(ascending=True).tail(20)\n",
    "tmp.plot(kind='barh',  title='상위 20개 업종')"
   ]
  }
 ],
 "metadata": {
  "kernelspec": {
   "display_name": "Python 3 (ipykernel)",
   "language": "python",
   "name": "python3"
  },
  "language_info": {
   "codemirror_mode": {
    "name": "ipython",
    "version": 3
   },
   "file_extension": ".py",
   "mimetype": "text/x-python",
   "name": "python",
   "nbconvert_exporter": "python",
   "pygments_lexer": "ipython3",
   "version": "3.12.7"
  }
 },
 "nbformat": 4,
 "nbformat_minor": 5
}
