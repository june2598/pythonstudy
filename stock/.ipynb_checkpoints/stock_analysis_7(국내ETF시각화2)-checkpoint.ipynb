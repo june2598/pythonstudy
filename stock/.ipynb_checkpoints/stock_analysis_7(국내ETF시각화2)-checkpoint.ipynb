{
 "cells": [
  {
   "cell_type": "code",
   "execution_count": 1,
   "metadata": {},
   "outputs": [],
   "source": [
    "# 데이터 분석 패키지\n",
    "import numpy as np\n",
    "import pandas as pd"
   ]
  },
  {
   "cell_type": "code",
   "execution_count": 2,
   "metadata": {},
   "outputs": [],
   "source": [
    "# 모든 컬럼을 출력하도록 설정\n",
    "pd.set_option('display.max_columns', None)  # None으로 설정하면 모든 컬럼 출력\n",
    "# 모든 행을 출력하도록 설정\n",
    "pd.set_option('display.max_rows', 30)  # None으로 설정하면 모든 행 출력"
   ]
  },
  {
   "cell_type": "code",
   "execution_count": 3,
   "metadata": {},
   "outputs": [],
   "source": [
    "# 시각화 패키지\n",
    "import seaborn as sns\n",
    "import matplotlib.pyplot as plt"
   ]
  },
  {
   "cell_type": "code",
   "execution_count": 4,
   "metadata": {},
   "outputs": [],
   "source": [
    "# matplotlib 한글지원 패키지\n",
    "import koreanize_matplotlib"
   ]
  },
  {
   "cell_type": "code",
   "execution_count": 5,
   "metadata": {},
   "outputs": [],
   "source": [
    "# 날짜는 파이썬 표준라이브러리 datetime 사용\n",
    "import datetime\n",
    "# 오늘 날짜 구하기\n",
    "today = datetime.datetime.today()\n",
    "today = today.strftime('%Y-%m-%d')\n",
    "today = '2024-12-19'"
   ]
  },
  {
   "cell_type": "code",
   "execution_count": 6,
   "metadata": {},
   "outputs": [],
   "source": [
    "df_etfs = pd.read_csv(f'new_etf_{today}.csv')"
   ]
  },
  {
   "cell_type": "code",
   "execution_count": 7,
   "metadata": {},
   "outputs": [
    {
     "data": {
      "text/plain": [
       "(930, 17)"
      ]
     },
     "execution_count": 7,
     "metadata": {},
     "output_type": "execute_result"
    }
   ],
   "source": [
    "df_etfs.shape"
   ]
  },
  {
   "cell_type": "code",
   "execution_count": 8,
   "metadata": {},
   "outputs": [
    {
     "data": {
      "text/html": [
       "<div>\n",
       "<style scoped>\n",
       "    .dataframe tbody tr th:only-of-type {\n",
       "        vertical-align: middle;\n",
       "    }\n",
       "\n",
       "    .dataframe tbody tr th {\n",
       "        vertical-align: top;\n",
       "    }\n",
       "\n",
       "    .dataframe thead th {\n",
       "        text-align: right;\n",
       "    }\n",
       "</style>\n",
       "<table border=\"1\" class=\"dataframe\">\n",
       "  <thead>\n",
       "    <tr style=\"text-align: right;\">\n",
       "      <th></th>\n",
       "      <th>Symbol</th>\n",
       "      <th>Category</th>\n",
       "      <th>CategoryName</th>\n",
       "      <th>Name</th>\n",
       "      <th>Price</th>\n",
       "      <th>RiseFall</th>\n",
       "      <th>Change</th>\n",
       "      <th>ChangeRate</th>\n",
       "      <th>NAV</th>\n",
       "      <th>EarningRate</th>\n",
       "      <th>Volume</th>\n",
       "      <th>Amount</th>\n",
       "      <th>MarCap</th>\n",
       "      <th>Brand</th>\n",
       "      <th>인버스</th>\n",
       "      <th>레버리지</th>\n",
       "      <th>헤지</th>\n",
       "    </tr>\n",
       "  </thead>\n",
       "  <tbody>\n",
       "    <tr>\n",
       "      <th>0</th>\n",
       "      <td>459580</td>\n",
       "      <td>6</td>\n",
       "      <td>채권</td>\n",
       "      <td>KODEX CD금리액티브(합성)</td>\n",
       "      <td>1057560</td>\n",
       "      <td>2</td>\n",
       "      <td>300</td>\n",
       "      <td>0.03</td>\n",
       "      <td>1057346.0</td>\n",
       "      <td>0.8398</td>\n",
       "      <td>289552</td>\n",
       "      <td>306219</td>\n",
       "      <td>95099</td>\n",
       "      <td>KODEX</td>\n",
       "      <td>False</td>\n",
       "      <td>False</td>\n",
       "      <td>False</td>\n",
       "    </tr>\n",
       "  </tbody>\n",
       "</table>\n",
       "</div>"
      ],
      "text/plain": [
       "   Symbol  Category CategoryName               Name    Price  RiseFall  \\\n",
       "0  459580         6           채권  KODEX CD금리액티브(합성)  1057560         2   \n",
       "\n",
       "   Change  ChangeRate        NAV  EarningRate  Volume  Amount  MarCap  Brand  \\\n",
       "0     300        0.03  1057346.0       0.8398  289552  306219   95099  KODEX   \n",
       "\n",
       "     인버스   레버리지     헤지  \n",
       "0  False  False  False  "
      ]
     },
     "execution_count": 8,
     "metadata": {},
     "output_type": "execute_result"
    }
   ],
   "source": [
    "df_etfs.head(1)"
   ]
  },
  {
   "cell_type": "markdown",
   "metadata": {},
   "source": [
    "#### 수치형 변수로 히스토그램 그리기"
   ]
  },
  {
   "cell_type": "code",
   "execution_count": 13,
   "metadata": {},
   "outputs": [
    {
     "data": {
      "text/html": [
       "<div>\n",
       "<style scoped>\n",
       "    .dataframe tbody tr th:only-of-type {\n",
       "        vertical-align: middle;\n",
       "    }\n",
       "\n",
       "    .dataframe tbody tr th {\n",
       "        vertical-align: top;\n",
       "    }\n",
       "\n",
       "    .dataframe thead th {\n",
       "        text-align: right;\n",
       "    }\n",
       "</style>\n",
       "<table border=\"1\" class=\"dataframe\">\n",
       "  <thead>\n",
       "    <tr style=\"text-align: right;\">\n",
       "      <th></th>\n",
       "      <th>Price</th>\n",
       "      <th>Change</th>\n",
       "      <th>ChangeRate</th>\n",
       "      <th>NAV</th>\n",
       "      <th>EarningRate</th>\n",
       "      <th>Volume</th>\n",
       "      <th>Amount</th>\n",
       "      <th>MarCap</th>\n",
       "    </tr>\n",
       "  </thead>\n",
       "  <tbody>\n",
       "    <tr>\n",
       "      <th>0</th>\n",
       "      <td>1057560</td>\n",
       "      <td>300</td>\n",
       "      <td>0.03</td>\n",
       "      <td>1057346.0</td>\n",
       "      <td>0.8398</td>\n",
       "      <td>289552</td>\n",
       "      <td>306219</td>\n",
       "      <td>95099</td>\n",
       "    </tr>\n",
       "    <tr>\n",
       "      <th>1</th>\n",
       "      <td>55425</td>\n",
       "      <td>15</td>\n",
       "      <td>0.03</td>\n",
       "      <td>55424.0</td>\n",
       "      <td>0.8187</td>\n",
       "      <td>218161</td>\n",
       "      <td>12090</td>\n",
       "      <td>68508</td>\n",
       "    </tr>\n",
       "    <tr>\n",
       "      <th>2</th>\n",
       "      <td>21195</td>\n",
       "      <td>-465</td>\n",
       "      <td>-2.15</td>\n",
       "      <td>21193.0</td>\n",
       "      <td>17.1444</td>\n",
       "      <td>4928789</td>\n",
       "      <td>104522</td>\n",
       "      <td>64136</td>\n",
       "    </tr>\n",
       "    <tr>\n",
       "      <th>3</th>\n",
       "      <td>32330</td>\n",
       "      <td>-750</td>\n",
       "      <td>-2.27</td>\n",
       "      <td>32414.0</td>\n",
       "      <td>-3.7589</td>\n",
       "      <td>3830187</td>\n",
       "      <td>123991</td>\n",
       "      <td>55462</td>\n",
       "    </tr>\n",
       "    <tr>\n",
       "      <th>4</th>\n",
       "      <td>108975</td>\n",
       "      <td>15</td>\n",
       "      <td>0.01</td>\n",
       "      <td>108965.0</td>\n",
       "      <td>0.8328</td>\n",
       "      <td>44974</td>\n",
       "      <td>4900</td>\n",
       "      <td>43609</td>\n",
       "    </tr>\n",
       "    <tr>\n",
       "      <th>...</th>\n",
       "      <td>...</td>\n",
       "      <td>...</td>\n",
       "      <td>...</td>\n",
       "      <td>...</td>\n",
       "      <td>...</td>\n",
       "      <td>...</td>\n",
       "      <td>...</td>\n",
       "      <td>...</td>\n",
       "    </tr>\n",
       "    <tr>\n",
       "      <th>925</th>\n",
       "      <td>5260</td>\n",
       "      <td>-30</td>\n",
       "      <td>-0.57</td>\n",
       "      <td>5254.0</td>\n",
       "      <td>-7.8398</td>\n",
       "      <td>60</td>\n",
       "      <td>0</td>\n",
       "      <td>16</td>\n",
       "    </tr>\n",
       "    <tr>\n",
       "      <th>926</th>\n",
       "      <td>1951</td>\n",
       "      <td>-144</td>\n",
       "      <td>-6.87</td>\n",
       "      <td>1948.0</td>\n",
       "      <td>-1.1793</td>\n",
       "      <td>47674</td>\n",
       "      <td>93</td>\n",
       "      <td>16</td>\n",
       "    </tr>\n",
       "    <tr>\n",
       "      <th>927</th>\n",
       "      <td>6445</td>\n",
       "      <td>-60</td>\n",
       "      <td>-0.92</td>\n",
       "      <td>6457.0</td>\n",
       "      <td>-3.7010</td>\n",
       "      <td>126</td>\n",
       "      <td>0</td>\n",
       "      <td>15</td>\n",
       "    </tr>\n",
       "    <tr>\n",
       "      <th>928</th>\n",
       "      <td>16440</td>\n",
       "      <td>-390</td>\n",
       "      <td>-2.32</td>\n",
       "      <td>16424.0</td>\n",
       "      <td>29.4117</td>\n",
       "      <td>23</td>\n",
       "      <td>0</td>\n",
       "      <td>10</td>\n",
       "    </tr>\n",
       "    <tr>\n",
       "      <th>929</th>\n",
       "      <td>6440</td>\n",
       "      <td>-200</td>\n",
       "      <td>-3.01</td>\n",
       "      <td>6489.0</td>\n",
       "      <td>11.2227</td>\n",
       "      <td>3166</td>\n",
       "      <td>20</td>\n",
       "      <td>9</td>\n",
       "    </tr>\n",
       "  </tbody>\n",
       "</table>\n",
       "<p>930 rows × 8 columns</p>\n",
       "</div>"
      ],
      "text/plain": [
       "       Price  Change  ChangeRate        NAV  EarningRate   Volume  Amount  \\\n",
       "0    1057560     300        0.03  1057346.0       0.8398   289552  306219   \n",
       "1      55425      15        0.03    55424.0       0.8187   218161   12090   \n",
       "2      21195    -465       -2.15    21193.0      17.1444  4928789  104522   \n",
       "3      32330    -750       -2.27    32414.0      -3.7589  3830187  123991   \n",
       "4     108975      15        0.01   108965.0       0.8328    44974    4900   \n",
       "..       ...     ...         ...        ...          ...      ...     ...   \n",
       "925     5260     -30       -0.57     5254.0      -7.8398       60       0   \n",
       "926     1951    -144       -6.87     1948.0      -1.1793    47674      93   \n",
       "927     6445     -60       -0.92     6457.0      -3.7010      126       0   \n",
       "928    16440    -390       -2.32    16424.0      29.4117       23       0   \n",
       "929     6440    -200       -3.01     6489.0      11.2227     3166      20   \n",
       "\n",
       "     MarCap  \n",
       "0     95099  \n",
       "1     68508  \n",
       "2     64136  \n",
       "3     55462  \n",
       "4     43609  \n",
       "..      ...  \n",
       "925      16  \n",
       "926      16  \n",
       "927      15  \n",
       "928      10  \n",
       "929       9  \n",
       "\n",
       "[930 rows x 8 columns]"
      ]
     },
     "execution_count": 13,
     "metadata": {},
     "output_type": "execute_result"
    }
   ],
   "source": [
    "# 수치형 변수만 선별\n",
    "df_num_vars = df_etfs.select_dtypes(np.number).drop(['Category','RiseFall'], axis=1)\n",
    "df_num_vars"
   ]
  },
  {
   "cell_type": "code",
   "execution_count": 15,
   "metadata": {},
   "outputs": [
    {
     "data": {
      "text/plain": [
       "Index(['Price', 'Change', 'ChangeRate', 'NAV', 'EarningRate', 'Volume',\n",
       "       'Amount', 'MarCap'],\n",
       "      dtype='object')"
      ]
     },
     "execution_count": 15,
     "metadata": {},
     "output_type": "execute_result"
    }
   ],
   "source": [
    "df_num_vars.columns"
   ]
  },
  {
   "cell_type": "code",
   "execution_count": 21,
   "metadata": {},
   "outputs": [],
   "source": [
    "num_cols = df_num_vars.columns.tolist()"
   ]
  },
  {
   "cell_type": "code",
   "execution_count": 22,
   "metadata": {},
   "outputs": [
    {
     "data": {
      "text/plain": [
       "<Axes: ylabel='Frequency'>"
      ]
     },
     "execution_count": 22,
     "metadata": {},
     "output_type": "execute_result"
    },
    {
     "data": {
      "image/png": "[encoded data removed]",
      "text/plain": [
       "<Figure size 640x480 with 1 Axes>"
      ]
     },
     "metadata": {},
     "output_type": "display_data"
    }
   ],
   "source": [
    "df_num_vars[num_cols].plot(kind='hist')"
   ]
  },
  {
   "cell_type": "code",
   "execution_count": 27,
   "metadata": {},
   "outputs": [
    {
     "data": {
      "image/png": "[encoded data removed]",
      "text/plain": [
       "<Figure size 1000x1000 with 9 Axes>"
      ]
     },
     "metadata": {},
     "output_type": "display_data"
    }
   ],
   "source": [
    "df_num_vars[num_cols].hist(figsize=(10,10), bins=50)\n",
    "plt.show()"
   ]
  },
  {
   "cell_type": "markdown",
   "metadata": {},
   "source": [
    "#### 데이터 프레임에서 지원하는 플로팅\n",
    "- 범주형 + 수치형\n",
    "  - 'line' : line plot (default)\n",
    "  - 'bar' : vertical bar plot\n",
    "  - 'barh' : horizontal bar plot\n",
    "  - 'box' : boxplot\n",
    "  - 'area' : area plot\n",
    "  - 'pie' : pie plot\n",
    "\n",
    "- 수치형 변수\n",
    "  - 'hist' : histogram\n",
    "  - 'kde' : Kernel Density Estimation plot\n",
    "  - 'density' : same as 'kde'\n",
    "\n",
    "- 수치형변수 + 수치형변수  \n",
    "  - 'scatter' : scatter plot (DataFrame only)\n",
    "  - 'hexbin' : hexbin plot (DataFrame only)"
   ]
  },
  {
   "cell_type": "code",
   "execution_count": null,
   "metadata": {},
   "outputs": [],
   "source": [
    "dir(df_num_vars[num_cols])"
   ]
  },
  {
   "cell_type": "code",
   "execution_count": 52,
   "metadata": {},
   "outputs": [
    {
     "data": {
      "text/plain": [
       "[]"
      ]
     },
     "execution_count": 52,
     "metadata": {},
     "output_type": "execute_result"
    }
   ],
   "source": [
    "def findAttr( module, txt) :\n",
    "  import re\n",
    "  data_list = dir(module)\n",
    "  pattern = re.compile(rf'{txt}')\n",
    "\n",
    "  matches = [item for item in data_list if pattern.search(item)]\n",
    "  return matches\n",
    "  \n",
    "findAttr(df_num_vars[num_cols], 'area')"
   ]
  },
  {
   "cell_type": "code",
   "execution_count": null,
   "metadata": {},
   "outputs": [],
   "source": [
    "sns.FacetGrid(data=df_num_vars)"
   ]
  },
  {
   "cell_type": "code",
   "execution_count": 54,
   "metadata": {},
   "outputs": [
    {
     "data": {
      "text/plain": [
       "<Axes: >"
      ]
     },
     "execution_count": 54,
     "metadata": {},
     "output_type": "execute_result"
    },
    {
     "data": {
      "image/png": "[encoded data removed]",
      "text/plain": [
       "<Figure size 640x480 with 1 Axes>"
      ]
     },
     "metadata": {},
     "output_type": "display_data"
    }
   ],
   "source": [
    "df_num_vars['Volume'].plot(kind='box')"
   ]
  },
  {
   "cell_type": "code",
   "execution_count": null,
   "metadata": {},
   "outputs": [],
   "source": [
    "df_num_vars[num_cols].scatter(figsize=(10,10), bins=50)\n",
    "plt.show()"
   ]
  },
  {
   "cell_type": "code",
   "execution_count": null,
   "metadata": {},
   "outputs": [],
   "source": [
    "df_num_vars[num_cols].hist(figsize=(10,10), bins=50)\n",
    "plt.show()"
   ]
  }
 ],
 "metadata": {
  "kernelspec": {
   "display_name": "base",
   "language": "python",
   "name": "python3"
  },
  "language_info": {
   "codemirror_mode": {
    "name": "ipython",
    "version": 3
   },
   "file_extension": ".py",
   "mimetype": "text/x-python",
   "name": "python",
   "nbconvert_exporter": "python",
   "pygments_lexer": "ipython3",
   "version": "3.12.7"
  }
 },
 "nbformat": 4,
 "nbformat_minor": 2
}
