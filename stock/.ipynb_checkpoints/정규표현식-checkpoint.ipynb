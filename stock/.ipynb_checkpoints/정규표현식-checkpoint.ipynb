{
 "cells": [
  {
   "cell_type": "code",
   "execution_count": 1,
   "id": "3e705e93-091e-4241-8989-8ced42f397ac",
   "metadata": {},
   "outputs": [],
   "source": [
    "import re"
   ]
  },
  {
   "cell_type": "code",
   "execution_count": 14,
   "id": "ec72aef6-9aa4-48c8-b015-8e01435dffaf",
   "metadata": {},
   "outputs": [
    {
     "name": "stdout",
     "output_type": "stream",
     "text": [
      "Hello\n",
      "0\n",
      "5\n",
      "(0, 5)\n",
      "<re.Match object; span=(0, 5), match='Hello'>\n"
     ]
    }
   ],
   "source": [
    "text = 'Hello, world!'\n",
    "match_result = re.match(r'Hello',text)\n",
    "if match_result :\n",
    "    print(match_result.group()) # 문자열의 시작부분에서 패턴 매치되는 '첫' 문자열 반환 (중간에 껴있는건 못찾음 ex:world)\n",
    "    print(match_result.start()) # 패턴 매치되는 문자열의 시작 위치\n",
    "    print(match_result.end())   # 패턴 매치되는 문자열의 끝 위치\n",
    "    print(match_result.span())  # 패턴 매치되는 문자열의 시작,끝 위치를 튜플로 반환\n",
    "print(match_result)\n",
    "\n"
   ]
  },
  {
   "cell_type": "code",
   "execution_count": null,
   "id": "288de5a8-a6c7-4be8-b36e-5af6ff65b208",
   "metadata": {},
   "outputs": [],
   "source": [
    "type(re.match(r'Hello',text))\n",
    "re.match?"
   ]
  },
  {
   "cell_type": "code",
   "execution_count": 15,
   "id": "9f0ef4ba-9f85-4c0c-acf5-c89d97546664",
   "metadata": {},
   "outputs": [
    {
     "name": "stdout",
     "output_type": "stream",
     "text": [
      "world\n",
      "7\n",
      "12\n",
      "(7, 12)\n",
      "<re.Match object; span=(7, 12), match='world'>\n"
     ]
    }
   ],
   "source": [
    "# match와 search의 차이\n",
    "search_result = re.search(r'world',text)\n",
    "if match_result :\n",
    "    print(search_result.group()) # 문자열 중 패턴 매치되는 '첫' 문자열 반환 (world도 찾음)\n",
    "    print(search_result.start()) # 패턴 매치되는 문자열의 시작 위치\n",
    "    print(search_result.end())   # 패턴 매치되는 문자열의 끝 위치\n",
    "    print(search_result.span())  # 패턴 매치되는 문자열의 시작,끝 위치를 튜플로 반환\n",
    "\n",
    "print(search_result)"
   ]
  },
  {
   "cell_type": "markdown",
   "id": "b9011cd1-dace-493d-8989-26a360c845a9",
   "metadata": {},
   "source": [
    "- \\b : 단어 경계를 나타내는 메타문자\n",
    "- 특정 위치에서 단어의 시작 또는 끝을 나타내주며, 주로 단어가 다른 문자(ex:공백,구두점,숫자 등)와 구분되는 지점을 의미"
   ]
  },
  {
   "cell_type": "code",
   "execution_count": 23,
   "id": "19ca1b6f-77a6-4f02-8bd2-e4c5aa3dabb1",
   "metadata": {},
   "outputs": [
    {
     "name": "stdout",
     "output_type": "stream",
     "text": [
      "['ain']\n",
      "['ain', 'ain', 'ain', 'ain']\n"
     ]
    }
   ],
   "source": [
    "import re\n",
    "text = \"The rain in Spain falls mainly in the plain. ain\"\n",
    "matches = re.findall(r\"\\bain\" , text) # ain 으로 시작하는 문자열 : ain\n",
    "print(matches)\n",
    "matches = re.findall(r\"ain\\b\" , text) # ain 으로 끝나는 문자열 : rain, Spain, plain, ain\n",
    "print(matches)\n"
   ]
  },
  {
   "cell_type": "code",
   "execution_count": 29,
   "id": "88e0206e-9953-4da5-9f7b-1d0feec8eca0",
   "metadata": {},
   "outputs": [],
   "source": [
    "import re\n",
    "text = \"The rain in Spain falls mainly in the plain.\"\n",
    "matches = re.finditer(r\"\\bain\", text)\n",
    "for match in matches:\n",
    "    print(match.group(),match.span())\n"
   ]
  },
  {
   "cell_type": "code",
   "execution_count": null,
   "id": "cbc0a7f0-fe1f-46b8-b58f-f03e836b74ef",
   "metadata": {},
   "outputs": [],
   "source": []
  }
 ],
 "metadata": {
  "kernelspec": {
   "display_name": "Python 3 (ipykernel)",
   "language": "python",
   "name": "python3"
  },
  "language_info": {
   "codemirror_mode": {
    "name": "ipython",
    "version": 3
   },
   "file_extension": ".py",
   "mimetype": "text/x-python",
   "name": "python",
   "nbconvert_exporter": "python",
   "pygments_lexer": "ipython3",
   "version": "3.12.7"
  }
 },
 "nbformat": 4,
 "nbformat_minor": 5
}
