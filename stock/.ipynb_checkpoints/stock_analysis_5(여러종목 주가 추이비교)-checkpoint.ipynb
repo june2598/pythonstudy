{
 "cells": [
  {
   "cell_type": "markdown",
   "id": "2f600bc3-d0f0-4cd9-937c-b10977a53637",
   "metadata": {},
   "source": [
    "## 국내 시가총액 상위 10개 종목의 2024년도 주가 추이 비교하기"
   ]
  },
  {
   "cell_type": "code",
   "execution_count": 79,
   "id": "afb03ab9-2de0-424a-b7a2-56ec34039707",
   "metadata": {},
   "outputs": [],
   "source": [
    "# 데이터 분석을 위한 패키지\n",
    "import numpy as np\n",
    "import pandas as pd"
   ]
  },
  {
   "cell_type": "code",
   "execution_count": 80,
   "id": "0192419a-080d-4701-a1ee-e358cf48d333",
   "metadata": {},
   "outputs": [],
   "source": [
    "# 시각화 패키지\n",
    "import matplotlib.pyplot as plt\n",
    "import seaborn as sns"
   ]
  },
  {
   "cell_type": "code",
   "execution_count": 81,
   "id": "e8ff7856-ec91-4d59-bf55-b7262e6b5f5e",
   "metadata": {},
   "outputs": [],
   "source": [
    "import koreanize_matplotlib"
   ]
  },
  {
   "cell_type": "code",
   "execution_count": 82,
   "id": "ba3640a5-3ec7-4c73-ab39-6ded446038c3",
   "metadata": {},
   "outputs": [],
   "source": [
    "# 모든 컬럼,행을 출력하도록 설정\n",
    "pd.set_option('display.max_columns', None) # None으로 설정하면 모든 컬럼 출력\n",
    "pd.set_option('display.max_rows', 50) #None으로 설정하면 모든 행 출력"
   ]
  },
  {
   "cell_type": "code",
   "execution_count": 83,
   "id": "a2b5ac14-e08e-45c2-81b0-5d19ef352519",
   "metadata": {},
   "outputs": [],
   "source": [
    "pd.options.display.float_format = '{:,.2f}'.format"
   ]
  },
  {
   "cell_type": "code",
   "execution_count": 84,
   "id": "e72277a5-fa71-4879-9b29-dab629d51eca",
   "metadata": {},
   "outputs": [],
   "source": [
    "import FinanceDataReader as fdr"
   ]
  },
  {
   "cell_type": "markdown",
   "id": "3b1d2a6f-a9ec-4fe3-844a-e0d87e5ea7e5",
   "metadata": {},
   "source": [
    "### 개별종목 시세 가져오기"
   ]
  },
  {
   "cell_type": "markdown",
   "id": "db19614d-5e07-4413-a448-473998f9c35e",
   "metadata": {},
   "source": [
    "#### 1) 종목 정보 가져오기"
   ]
  },
  {
   "cell_type": "code",
   "execution_count": 85,
   "id": "0506b212-ab6e-4cd8-8fd8-06039694a406",
   "metadata": {},
   "outputs": [],
   "source": [
    "#CSV 파일 불러오기\n",
    "df_stocks = pd.read_csv('stocks.csv')"
   ]
  },
  {
   "cell_type": "code",
   "execution_count": 103,
   "id": "f6c21931-4831-4fb6-a54d-339ef337caee",
   "metadata": {},
   "outputs": [
    {
     "data": {
      "text/plain": [
       "(2855, 23)"
      ]
     },
     "execution_count": 103,
     "metadata": {},
     "output_type": "execute_result"
    }
   ],
   "source": [
    "df_stocks.shape"
   ]
  },
  {
   "cell_type": "code",
   "execution_count": 104,
   "id": "f8282afe-ddb8-4a9e-9362-0e3838702399",
   "metadata": {},
   "outputs": [
    {
     "data": {
      "text/plain": [
       "Index(['Code', 'Name', 'Market', 'Dept', 'Close', 'ChangeCode', 'Changes',\n",
       "       'ChagesRatio', 'Open', 'High', 'Low', 'Volume', 'Amount', 'Marcap',\n",
       "       'Stocks', 'MarketId', 'Sector', 'Industry', 'ListingDate',\n",
       "       'SettleMonth', 'Representative', 'HomePage', 'Region'],\n",
       "      dtype='object')"
      ]
     },
     "execution_count": 104,
     "metadata": {},
     "output_type": "execute_result"
    }
   ],
   "source": [
    "df_stocks.columns"
   ]
  },
  {
   "cell_type": "code",
   "execution_count": 105,
   "id": "8315e723-0182-4bc9-8b0a-4353f5e17ceb",
   "metadata": {},
   "outputs": [
    {
     "data": {
      "text/html": [
       "<div>\n",
       "<style scoped>\n",
       "    .dataframe tbody tr th:only-of-type {\n",
       "        vertical-align: middle;\n",
       "    }\n",
       "\n",
       "    .dataframe tbody tr th {\n",
       "        vertical-align: top;\n",
       "    }\n",
       "\n",
       "    .dataframe thead th {\n",
       "        text-align: right;\n",
       "    }\n",
       "</style>\n",
       "<table border=\"1\" class=\"dataframe\">\n",
       "  <thead>\n",
       "    <tr style=\"text-align: right;\">\n",
       "      <th></th>\n",
       "      <th>Code</th>\n",
       "      <th>Name</th>\n",
       "      <th>Market</th>\n",
       "      <th>Dept</th>\n",
       "      <th>Close</th>\n",
       "      <th>ChangeCode</th>\n",
       "      <th>Changes</th>\n",
       "      <th>ChagesRatio</th>\n",
       "      <th>Open</th>\n",
       "      <th>High</th>\n",
       "      <th>Low</th>\n",
       "      <th>Volume</th>\n",
       "      <th>Amount</th>\n",
       "      <th>Marcap</th>\n",
       "      <th>Stocks</th>\n",
       "      <th>MarketId</th>\n",
       "      <th>Sector</th>\n",
       "      <th>Industry</th>\n",
       "      <th>ListingDate</th>\n",
       "      <th>SettleMonth</th>\n",
       "      <th>Representative</th>\n",
       "      <th>HomePage</th>\n",
       "      <th>Region</th>\n",
       "    </tr>\n",
       "  </thead>\n",
       "  <tbody>\n",
       "    <tr>\n",
       "      <th>0</th>\n",
       "      <td>005930</td>\n",
       "      <td>삼성전자</td>\n",
       "      <td>KOSPI</td>\n",
       "      <td>NaN</td>\n",
       "      <td>53900</td>\n",
       "      <td>1</td>\n",
       "      <td>500</td>\n",
       "      <td>0.94</td>\n",
       "      <td>54500</td>\n",
       "      <td>54500</td>\n",
       "      <td>53700</td>\n",
       "      <td>16788212</td>\n",
       "      <td>906959515200</td>\n",
       "      <td>321771279445000</td>\n",
       "      <td>5969782550</td>\n",
       "      <td>STK</td>\n",
       "      <td>통신 및 방송 장비 제조업</td>\n",
       "      <td>통신 및 방송 장비 제조(무선) 제품, 반도체 제조(메모리) 제품, 전자부품 제조(...</td>\n",
       "      <td>1975-06-11</td>\n",
       "      <td>12월</td>\n",
       "      <td>한종희</td>\n",
       "      <td>http://www.samsung.com/sec</td>\n",
       "      <td>경기도</td>\n",
       "    </tr>\n",
       "  </tbody>\n",
       "</table>\n",
       "</div>"
      ],
      "text/plain": [
       "     Code  Name Market Dept  Close  ChangeCode  Changes  ChagesRatio   Open  \\\n",
       "0  005930  삼성전자  KOSPI  NaN  53900           1      500         0.94  54500   \n",
       "\n",
       "    High    Low    Volume        Amount           Marcap      Stocks MarketId  \\\n",
       "0  54500  53700  16788212  906959515200  321771279445000  5969782550      STK   \n",
       "\n",
       "           Sector                                           Industry  \\\n",
       "0  통신 및 방송 장비 제조업  통신 및 방송 장비 제조(무선) 제품, 반도체 제조(메모리) 제품, 전자부품 제조(...   \n",
       "\n",
       "  ListingDate SettleMonth Representative                    HomePage Region  \n",
       "0  1975-06-11         12월            한종희  http://www.samsung.com/sec    경기도  "
      ]
     },
     "execution_count": 105,
     "metadata": {},
     "output_type": "execute_result"
    }
   ],
   "source": [
    "df_stocks.head(1)"
   ]
  },
  {
   "cell_type": "code",
   "execution_count": 106,
   "id": "d76d958d-999b-4551-8f48-46c3481fc4bf",
   "metadata": {},
   "outputs": [],
   "source": [
    "# 상장일을 문자타입 -> 날짜타입\n",
    "df_stocks['ListingDate'] = pd.to_datetime(df_stocks['ListingDate'])"
   ]
  },
  {
   "cell_type": "code",
   "execution_count": 107,
   "id": "840395ab-d40b-4861-bbc9-28be3bc23cc4",
   "metadata": {},
   "outputs": [
    {
     "name": "stdout",
     "output_type": "stream",
     "text": [
      "<class 'pandas.core.frame.DataFrame'>\n",
      "RangeIndex: 2855 entries, 0 to 2854\n",
      "Data columns (total 23 columns):\n",
      " #   Column          Non-Null Count  Dtype         \n",
      "---  ------          --------------  -----         \n",
      " 0   Code            2855 non-null   object        \n",
      " 1   Name            2855 non-null   object        \n",
      " 2   Market          2855 non-null   object        \n",
      " 3   Dept            1896 non-null   object        \n",
      " 4   Close           2855 non-null   int64         \n",
      " 5   ChangeCode      2855 non-null   int64         \n",
      " 6   Changes         2855 non-null   int64         \n",
      " 7   ChagesRatio     2855 non-null   float64       \n",
      " 8   Open            2855 non-null   int64         \n",
      " 9   High            2855 non-null   int64         \n",
      " 10  Low             2855 non-null   int64         \n",
      " 11  Volume          2855 non-null   int64         \n",
      " 12  Amount          2855 non-null   int64         \n",
      " 13  Marcap          2855 non-null   int64         \n",
      " 14  Stocks          2855 non-null   int64         \n",
      " 15  MarketId        2855 non-null   object        \n",
      " 16  Sector          2739 non-null   object        \n",
      " 17  Industry        2724 non-null   object        \n",
      " 18  ListingDate     2739 non-null   datetime64[ns]\n",
      " 19  SettleMonth     2739 non-null   object        \n",
      " 20  Representative  2739 non-null   object        \n",
      " 21  HomePage        2547 non-null   object        \n",
      " 22  Region          2739 non-null   object        \n",
      "dtypes: datetime64[ns](1), float64(1), int64(10), object(11)\n",
      "memory usage: 513.1+ KB\n"
     ]
    }
   ],
   "source": [
    "# 타입 바뀌었는지 확인\n",
    "df_stocks['ListingDate'].dtype\n",
    "df_stocks.info()"
   ]
  },
  {
   "cell_type": "raw",
   "id": "046541f0-d6e3-4689-94ca-3fc2113987df",
   "metadata": {},
   "source": [
    "# 날짜 정보 확인\n",
    "# df_stocks['ListingDate'].dt.dayofweek      # 0(월)~6(일)\n",
    "# df_stocks['ListingDate'].dt.year           # 년\n",
    "# df_stocks['ListingDate'].dt.month          # 월\n",
    "# df_stocks['ListingDate'].dt.day            # 일"
   ]
  },
  {
   "cell_type": "code",
   "execution_count": 108,
   "id": "066b8f6d-359a-4f22-bb40-deab0bac87ca",
   "metadata": {},
   "outputs": [],
   "source": [
    "# 시가총액 상위 10개종목의 코드\n",
    "top10_codes = df_stocks.sort_values(by='Marcap', ascending=False).head(10)[['Code','Name']]"
   ]
  },
  {
   "cell_type": "code",
   "execution_count": 109,
   "id": "b2c61329-f720-4f77-ad93-8ba83dd245fc",
   "metadata": {},
   "outputs": [
    {
     "data": {
      "text/html": [
       "<div>\n",
       "<style scoped>\n",
       "    .dataframe tbody tr th:only-of-type {\n",
       "        vertical-align: middle;\n",
       "    }\n",
       "\n",
       "    .dataframe tbody tr th {\n",
       "        vertical-align: top;\n",
       "    }\n",
       "\n",
       "    .dataframe thead th {\n",
       "        text-align: right;\n",
       "    }\n",
       "</style>\n",
       "<table border=\"1\" class=\"dataframe\">\n",
       "  <thead>\n",
       "    <tr style=\"text-align: right;\">\n",
       "      <th></th>\n",
       "      <th>Code</th>\n",
       "      <th>Name</th>\n",
       "    </tr>\n",
       "  </thead>\n",
       "  <tbody>\n",
       "    <tr>\n",
       "      <th>0</th>\n",
       "      <td>005930</td>\n",
       "      <td>삼성전자</td>\n",
       "    </tr>\n",
       "    <tr>\n",
       "      <th>1</th>\n",
       "      <td>000660</td>\n",
       "      <td>SK하이닉스</td>\n",
       "    </tr>\n",
       "    <tr>\n",
       "      <th>2</th>\n",
       "      <td>373220</td>\n",
       "      <td>LG에너지솔루션</td>\n",
       "    </tr>\n",
       "    <tr>\n",
       "      <th>3</th>\n",
       "      <td>207940</td>\n",
       "      <td>삼성바이오로직스</td>\n",
       "    </tr>\n",
       "    <tr>\n",
       "      <th>4</th>\n",
       "      <td>005380</td>\n",
       "      <td>현대차</td>\n",
       "    </tr>\n",
       "    <tr>\n",
       "      <th>5</th>\n",
       "      <td>068270</td>\n",
       "      <td>셀트리온</td>\n",
       "    </tr>\n",
       "    <tr>\n",
       "      <th>6</th>\n",
       "      <td>000270</td>\n",
       "      <td>기아</td>\n",
       "    </tr>\n",
       "    <tr>\n",
       "      <th>7</th>\n",
       "      <td>005935</td>\n",
       "      <td>삼성전자우</td>\n",
       "    </tr>\n",
       "    <tr>\n",
       "      <th>8</th>\n",
       "      <td>105560</td>\n",
       "      <td>KB금융</td>\n",
       "    </tr>\n",
       "    <tr>\n",
       "      <th>9</th>\n",
       "      <td>035420</td>\n",
       "      <td>NAVER</td>\n",
       "    </tr>\n",
       "  </tbody>\n",
       "</table>\n",
       "</div>"
      ],
      "text/plain": [
       "     Code      Name\n",
       "0  005930      삼성전자\n",
       "1  000660    SK하이닉스\n",
       "2  373220  LG에너지솔루션\n",
       "3  207940  삼성바이오로직스\n",
       "4  005380       현대차\n",
       "5  068270      셀트리온\n",
       "6  000270        기아\n",
       "7  005935     삼성전자우\n",
       "8  105560      KB금융\n",
       "9  035420     NAVER"
      ]
     },
     "execution_count": 109,
     "metadata": {},
     "output_type": "execute_result"
    }
   ],
   "source": [
    "top10_codes "
   ]
  },
  {
   "cell_type": "code",
   "execution_count": 110,
   "id": "84bc0149-f2e0-4b07-acf1-710bd73bb6bb",
   "metadata": {},
   "outputs": [
    {
     "data": {
      "text/plain": [
       "array([['005930', '삼성전자'],\n",
       "       ['000660', 'SK하이닉스'],\n",
       "       ['373220', 'LG에너지솔루션'],\n",
       "       ['207940', '삼성바이오로직스'],\n",
       "       ['005380', '현대차'],\n",
       "       ['068270', '셀트리온'],\n",
       "       ['000270', '기아'],\n",
       "       ['005935', '삼성전자우'],\n",
       "       ['105560', 'KB금융'],\n",
       "       ['035420', 'NAVER']], dtype=object)"
      ]
     },
     "execution_count": 110,
     "metadata": {},
     "output_type": "execute_result"
    }
   ],
   "source": [
    "top10_codes.values"
   ]
  },
  {
   "cell_type": "code",
   "execution_count": 111,
   "id": "9637228e-e9d2-4160-b25a-ad737d8b4cfb",
   "metadata": {},
   "outputs": [
    {
     "data": {
      "text/plain": [
       "[['005930', '삼성전자'],\n",
       " ['000660', 'SK하이닉스'],\n",
       " ['373220', 'LG에너지솔루션'],\n",
       " ['207940', '삼성바이오로직스'],\n",
       " ['005380', '현대차'],\n",
       " ['068270', '셀트리온'],\n",
       " ['000270', '기아'],\n",
       " ['005935', '삼성전자우'],\n",
       " ['105560', 'KB금융'],\n",
       " ['035420', 'NAVER']]"
      ]
     },
     "execution_count": 111,
     "metadata": {},
     "output_type": "execute_result"
    }
   ],
   "source": [
    "# tolist() : numpy array => list\n",
    "top10_codes.values.tolist()"
   ]
  },
  {
   "cell_type": "markdown",
   "id": "41f1fd93-7bd1-42e8-be66-fb034c497302",
   "metadata": {},
   "source": [
    "##### zip() 함수\n",
    "zip() 함수는 파이썬에서 여러 iterable(반복 가능한 객체)을 동시에 순회할 수 있도록 해주는 내장 함수입니다. \n",
    "주로 두 개 이상의 리스트나 튜플을 묶어서 각 요소를 쌍으로 만들 때 사용됩니다.\n",
    "\n",
    "- 두 개의 리스트 생성\n",
    "list1 = [1, 2, 3]\n",
    "list2 = ['a', 'b', 'c']\n",
    "\n",
    "- zip() 사용\n",
    "zipped = zip(list1, list2)\n",
    "\n",
    "- 결과를 리스트로 변환하여 출력\n",
    "result = list(zipped)\n",
    "print(result)\n",
    "\n",
    "출력 결과\n",
    "[(1, 'a'), (2, 'b'), (3, 'c')]"
   ]
  },
  {
   "cell_type": "code",
   "execution_count": 131,
   "id": "ee76bc6c-0048-49f6-87e7-9e2d5c117b02",
   "metadata": {},
   "outputs": [],
   "source": [
    "# 2차원 numpy 배열 => 딕셔너리로 변환 \n",
    "# case1) 리스트 컴프리헨션 => 딕셔너리\n",
    "# dict_top10_codes = { ele[0] : ele[1] for ele in top10_codes.values }\n",
    "\n",
    "# case2) zip : iterable 객체의 동일 인덱스에 있는 요소들을 묶어서 튜플로 반환\n",
    "# arr1, arr2 = top10_codes.values[:,0], top10_codes.values[:,1]\n",
    "# dict_top10_codes = dict(zip(arr1,arr2))\n",
    "\n",
    "# case3) tolist : numpy의 ndarray => python list로 변환\n",
    "dict_top10_codes = dict(top10_codes.values.tolist())"
   ]
  },
  {
   "cell_type": "code",
   "execution_count": null,
   "id": "7638b612-d521-49a2-b835-cfcf32a80c70",
   "metadata": {},
   "outputs": [],
   "source": [
    "dict_top10_codes"
   ]
  },
  {
   "cell_type": "markdown",
   "id": "9c60d05d-f6a2-4b20-b578-32995d293a11",
   "metadata": {},
   "source": [
    "#### 2. 종목 시세 가져오기"
   ]
  },
  {
   "cell_type": "code",
   "execution_count": null,
   "id": "ae050ac9-6d47-46d0-9d62-639b9a4590ba",
   "metadata": {},
   "outputs": [],
   "source": [
    "# fdr.DataReader('005930','2024')"
   ]
  },
  {
   "cell_type": "markdown",
   "id": "d2d56345-dfb0-43a9-bd1b-e49aa2c6ae86",
   "metadata": {},
   "source": [
    "시가총액 상위 10개 종목의 이름을 키로 종가추이를 값으로 하는 딕셔너리 생성"
   ]
  },
  {
   "cell_type": "code",
   "execution_count": 139,
   "id": "b5800173-4ff8-48cc-91c5-e3ad004479da",
   "metadata": {},
   "outputs": [
    {
     "name": "stdout",
     "output_type": "stream",
     "text": [
      "10\n"
     ]
    }
   ],
   "source": [
    "# enumerate : 순서(idx), 와 value\n",
    "\n",
    "item_dict = {}\n",
    "for key, value in dict_top10_codes.items() : \n",
    "    item_dict[value] = fdr.DataReader(key,'2020')['Close']\n",
    "\n",
    "print(len(item_dict))\n",
    "    # print(idx, code)"
   ]
  },
  {
   "cell_type": "code",
   "execution_count": 140,
   "id": "4d7aa06c-eafd-41de-918a-f6a966a312b6",
   "metadata": {},
   "outputs": [
    {
     "data": {
      "text/plain": [
       "Date\n",
       "2020-01-02    182500\n",
       "2020-01-03    181500\n",
       "2020-01-06    180500\n",
       "2020-01-07    187000\n",
       "2020-01-08    183000\n",
       "               ...  \n",
       "2024-12-04    202500\n",
       "2024-12-05    204000\n",
       "2024-12-06    204500\n",
       "2024-12-09    201500\n",
       "2024-12-10    209000\n",
       "Name: Close, Length: 1218, dtype: int64"
      ]
     },
     "execution_count": 140,
     "metadata": {},
     "output_type": "execute_result"
    }
   ],
   "source": [
    "item_dict['NAVER']"
   ]
  },
  {
   "cell_type": "code",
   "execution_count": 141,
   "id": "253cabd9-5471-4057-b97a-570f16449cfb",
   "metadata": {},
   "outputs": [
    {
     "data": {
      "text/plain": [
       "{'삼성전자': Date\n",
       " 2020-01-02    55200\n",
       " 2020-01-03    55500\n",
       " 2020-01-06    55500\n",
       " 2020-01-07    55800\n",
       " 2020-01-08    56800\n",
       "               ...  \n",
       " 2024-12-04    53100\n",
       " 2024-12-05    53700\n",
       " 2024-12-06    54100\n",
       " 2024-12-09    53400\n",
       " 2024-12-10    54000\n",
       " Name: Close, Length: 1218, dtype: int64,\n",
       " 'SK하이닉스': Date\n",
       " 2020-01-02     94700\n",
       " 2020-01-03     94500\n",
       " 2020-01-06     94300\n",
       " 2020-01-07     94000\n",
       " 2020-01-08     97400\n",
       "                ...  \n",
       " 2024-12-04    168000\n",
       " 2024-12-05    173000\n",
       " 2024-12-06    167100\n",
       " 2024-12-09    168900\n",
       " 2024-12-10    170400\n",
       " Name: Close, Length: 1218, dtype: int64,\n",
       " 'LG에너지솔루션': Date\n",
       " 2022-01-27    505000\n",
       " 2022-01-28    450000\n",
       " 2022-02-03    477000\n",
       " 2022-02-04    504000\n",
       " 2022-02-07    548000\n",
       "                ...  \n",
       " 2024-12-04    389000\n",
       " 2024-12-05    382000\n",
       " 2024-12-06    390500\n",
       " 2024-12-09    387500\n",
       " 2024-12-10    385000\n",
       " Name: Close, Length: 704, dtype: int64,\n",
       " '삼성바이오로직스': Date\n",
       " 2020-01-02    423485\n",
       " 2020-01-03    417061\n",
       " 2020-01-06    407178\n",
       " 2020-01-07    414096\n",
       " 2020-01-08    403719\n",
       "                ...  \n",
       " 2024-12-04    961000\n",
       " 2024-12-05    964000\n",
       " 2024-12-06    962000\n",
       " 2024-12-09    953000\n",
       " 2024-12-10    959000\n",
       " Name: Close, Length: 1218, dtype: int64,\n",
       " '현대차': Date\n",
       " 2020-01-02    118000\n",
       " 2020-01-03    116000\n",
       " 2020-01-06    116000\n",
       " 2020-01-07    115500\n",
       " 2020-01-08    112000\n",
       "                ...  \n",
       " 2024-12-04    209000\n",
       " 2024-12-05    204500\n",
       " 2024-12-06    203500\n",
       " 2024-12-09    201000\n",
       " 2024-12-10    210500\n",
       " Name: Close, Length: 1218, dtype: int64,\n",
       " '셀트리온': Date\n",
       " 2020-01-02    167118\n",
       " 2020-01-03    164796\n",
       " 2020-01-06    160619\n",
       " 2020-01-07    165261\n",
       " 2020-01-08    160619\n",
       "                ...  \n",
       " 2024-12-04    183000\n",
       " 2024-12-05    181000\n",
       " 2024-12-06    180100\n",
       " 2024-12-09    175100\n",
       " 2024-12-10    182100\n",
       " Name: Close, Length: 1218, dtype: int64,\n",
       " '기아': Date\n",
       " 2020-01-02    42500\n",
       " 2020-01-03    42000\n",
       " 2020-01-06    41900\n",
       " 2020-01-07    42050\n",
       " 2020-01-08    41300\n",
       "               ...  \n",
       " 2024-12-04    98100\n",
       " 2024-12-05    94000\n",
       " 2024-12-06    94800\n",
       " 2024-12-09    92000\n",
       " 2024-12-10    95800\n",
       " Name: Close, Length: 1218, dtype: int64,\n",
       " '삼성전자우': Date\n",
       " 2020-01-02    45600\n",
       " 2020-01-03    45650\n",
       " 2020-01-06    45700\n",
       " 2020-01-07    46300\n",
       " 2020-01-08    46700\n",
       "               ...  \n",
       " 2024-12-04    45350\n",
       " 2024-12-05    45550\n",
       " 2024-12-06    45500\n",
       " 2024-12-09    44800\n",
       " 2024-12-10    45200\n",
       " Name: Close, Length: 1218, dtype: int64,\n",
       " 'KB금융': Date\n",
       " 2020-01-02    46550\n",
       " 2020-01-03    47150\n",
       " 2020-01-06    46600\n",
       " 2020-01-07    47000\n",
       " 2020-01-08    46150\n",
       "               ...  \n",
       " 2024-12-04    95400\n",
       " 2024-12-05    85800\n",
       " 2024-12-06    85300\n",
       " 2024-12-09    82800\n",
       " 2024-12-10    83300\n",
       " Name: Close, Length: 1218, dtype: int64,\n",
       " 'NAVER': Date\n",
       " 2020-01-02    182500\n",
       " 2020-01-03    181500\n",
       " 2020-01-06    180500\n",
       " 2020-01-07    187000\n",
       " 2020-01-08    183000\n",
       "                ...  \n",
       " 2024-12-04    202500\n",
       " 2024-12-05    204000\n",
       " 2024-12-06    204500\n",
       " 2024-12-09    201500\n",
       " 2024-12-10    209000\n",
       " Name: Close, Length: 1218, dtype: int64}"
      ]
     },
     "execution_count": 141,
     "metadata": {},
     "output_type": "execute_result"
    }
   ],
   "source": [
    "item_dict"
   ]
  },
  {
   "cell_type": "code",
   "execution_count": 142,
   "id": "f74ff252-bede-43dd-820c-c52c2ba93740",
   "metadata": {},
   "outputs": [
    {
     "data": {
      "text/html": [
       "<div>\n",
       "<style scoped>\n",
       "    .dataframe tbody tr th:only-of-type {\n",
       "        vertical-align: middle;\n",
       "    }\n",
       "\n",
       "    .dataframe tbody tr th {\n",
       "        vertical-align: top;\n",
       "    }\n",
       "\n",
       "    .dataframe thead th {\n",
       "        text-align: right;\n",
       "    }\n",
       "</style>\n",
       "<table border=\"1\" class=\"dataframe\">\n",
       "  <thead>\n",
       "    <tr style=\"text-align: right;\">\n",
       "      <th></th>\n",
       "      <th>삼성전자</th>\n",
       "      <th>SK하이닉스</th>\n",
       "      <th>LG에너지솔루션</th>\n",
       "      <th>삼성바이오로직스</th>\n",
       "      <th>현대차</th>\n",
       "      <th>셀트리온</th>\n",
       "      <th>기아</th>\n",
       "      <th>삼성전자우</th>\n",
       "      <th>KB금융</th>\n",
       "      <th>NAVER</th>\n",
       "    </tr>\n",
       "    <tr>\n",
       "      <th>Date</th>\n",
       "      <th></th>\n",
       "      <th></th>\n",
       "      <th></th>\n",
       "      <th></th>\n",
       "      <th></th>\n",
       "      <th></th>\n",
       "      <th></th>\n",
       "      <th></th>\n",
       "      <th></th>\n",
       "      <th></th>\n",
       "    </tr>\n",
       "  </thead>\n",
       "  <tbody>\n",
       "    <tr>\n",
       "      <th>2020-01-02</th>\n",
       "      <td>55200</td>\n",
       "      <td>94700</td>\n",
       "      <td>NaN</td>\n",
       "      <td>423485</td>\n",
       "      <td>118000</td>\n",
       "      <td>167118</td>\n",
       "      <td>42500</td>\n",
       "      <td>45600</td>\n",
       "      <td>46550</td>\n",
       "      <td>182500</td>\n",
       "    </tr>\n",
       "    <tr>\n",
       "      <th>2020-01-03</th>\n",
       "      <td>55500</td>\n",
       "      <td>94500</td>\n",
       "      <td>NaN</td>\n",
       "      <td>417061</td>\n",
       "      <td>116000</td>\n",
       "      <td>164796</td>\n",
       "      <td>42000</td>\n",
       "      <td>45650</td>\n",
       "      <td>47150</td>\n",
       "      <td>181500</td>\n",
       "    </tr>\n",
       "    <tr>\n",
       "      <th>2020-01-06</th>\n",
       "      <td>55500</td>\n",
       "      <td>94300</td>\n",
       "      <td>NaN</td>\n",
       "      <td>407178</td>\n",
       "      <td>116000</td>\n",
       "      <td>160619</td>\n",
       "      <td>41900</td>\n",
       "      <td>45700</td>\n",
       "      <td>46600</td>\n",
       "      <td>180500</td>\n",
       "    </tr>\n",
       "    <tr>\n",
       "      <th>2020-01-07</th>\n",
       "      <td>55800</td>\n",
       "      <td>94000</td>\n",
       "      <td>NaN</td>\n",
       "      <td>414096</td>\n",
       "      <td>115500</td>\n",
       "      <td>165261</td>\n",
       "      <td>42050</td>\n",
       "      <td>46300</td>\n",
       "      <td>47000</td>\n",
       "      <td>187000</td>\n",
       "    </tr>\n",
       "    <tr>\n",
       "      <th>2020-01-08</th>\n",
       "      <td>56800</td>\n",
       "      <td>97400</td>\n",
       "      <td>NaN</td>\n",
       "      <td>403719</td>\n",
       "      <td>112000</td>\n",
       "      <td>160619</td>\n",
       "      <td>41300</td>\n",
       "      <td>46700</td>\n",
       "      <td>46150</td>\n",
       "      <td>183000</td>\n",
       "    </tr>\n",
       "    <tr>\n",
       "      <th>...</th>\n",
       "      <td>...</td>\n",
       "      <td>...</td>\n",
       "      <td>...</td>\n",
       "      <td>...</td>\n",
       "      <td>...</td>\n",
       "      <td>...</td>\n",
       "      <td>...</td>\n",
       "      <td>...</td>\n",
       "      <td>...</td>\n",
       "      <td>...</td>\n",
       "    </tr>\n",
       "    <tr>\n",
       "      <th>2024-12-04</th>\n",
       "      <td>53100</td>\n",
       "      <td>168000</td>\n",
       "      <td>389,000.00</td>\n",
       "      <td>961000</td>\n",
       "      <td>209000</td>\n",
       "      <td>183000</td>\n",
       "      <td>98100</td>\n",
       "      <td>45350</td>\n",
       "      <td>95400</td>\n",
       "      <td>202500</td>\n",
       "    </tr>\n",
       "    <tr>\n",
       "      <th>2024-12-05</th>\n",
       "      <td>53700</td>\n",
       "      <td>173000</td>\n",
       "      <td>382,000.00</td>\n",
       "      <td>964000</td>\n",
       "      <td>204500</td>\n",
       "      <td>181000</td>\n",
       "      <td>94000</td>\n",
       "      <td>45550</td>\n",
       "      <td>85800</td>\n",
       "      <td>204000</td>\n",
       "    </tr>\n",
       "    <tr>\n",
       "      <th>2024-12-06</th>\n",
       "      <td>54100</td>\n",
       "      <td>167100</td>\n",
       "      <td>390,500.00</td>\n",
       "      <td>962000</td>\n",
       "      <td>203500</td>\n",
       "      <td>180100</td>\n",
       "      <td>94800</td>\n",
       "      <td>45500</td>\n",
       "      <td>85300</td>\n",
       "      <td>204500</td>\n",
       "    </tr>\n",
       "    <tr>\n",
       "      <th>2024-12-09</th>\n",
       "      <td>53400</td>\n",
       "      <td>168900</td>\n",
       "      <td>387,500.00</td>\n",
       "      <td>953000</td>\n",
       "      <td>201000</td>\n",
       "      <td>175100</td>\n",
       "      <td>92000</td>\n",
       "      <td>44800</td>\n",
       "      <td>82800</td>\n",
       "      <td>201500</td>\n",
       "    </tr>\n",
       "    <tr>\n",
       "      <th>2024-12-10</th>\n",
       "      <td>54000</td>\n",
       "      <td>170400</td>\n",
       "      <td>385,000.00</td>\n",
       "      <td>959000</td>\n",
       "      <td>210500</td>\n",
       "      <td>182100</td>\n",
       "      <td>95800</td>\n",
       "      <td>45200</td>\n",
       "      <td>83300</td>\n",
       "      <td>209000</td>\n",
       "    </tr>\n",
       "  </tbody>\n",
       "</table>\n",
       "<p>1218 rows × 10 columns</p>\n",
       "</div>"
      ],
      "text/plain": [
       "             삼성전자  SK하이닉스   LG에너지솔루션  삼성바이오로직스     현대차    셀트리온     기아  삼성전자우  \\\n",
       "Date                                                                           \n",
       "2020-01-02  55200   94700        NaN    423485  118000  167118  42500  45600   \n",
       "2020-01-03  55500   94500        NaN    417061  116000  164796  42000  45650   \n",
       "2020-01-06  55500   94300        NaN    407178  116000  160619  41900  45700   \n",
       "2020-01-07  55800   94000        NaN    414096  115500  165261  42050  46300   \n",
       "2020-01-08  56800   97400        NaN    403719  112000  160619  41300  46700   \n",
       "...           ...     ...        ...       ...     ...     ...    ...    ...   \n",
       "2024-12-04  53100  168000 389,000.00    961000  209000  183000  98100  45350   \n",
       "2024-12-05  53700  173000 382,000.00    964000  204500  181000  94000  45550   \n",
       "2024-12-06  54100  167100 390,500.00    962000  203500  180100  94800  45500   \n",
       "2024-12-09  53400  168900 387,500.00    953000  201000  175100  92000  44800   \n",
       "2024-12-10  54000  170400 385,000.00    959000  210500  182100  95800  45200   \n",
       "\n",
       "             KB금융   NAVER  \n",
       "Date                       \n",
       "2020-01-02  46550  182500  \n",
       "2020-01-03  47150  181500  \n",
       "2020-01-06  46600  180500  \n",
       "2020-01-07  47000  187000  \n",
       "2020-01-08  46150  183000  \n",
       "...           ...     ...  \n",
       "2024-12-04  95400  202500  \n",
       "2024-12-05  85800  204000  \n",
       "2024-12-06  85300  204500  \n",
       "2024-12-09  82800  201500  \n",
       "2024-12-10  83300  209000  \n",
       "\n",
       "[1218 rows x 10 columns]"
      ]
     },
     "execution_count": 142,
     "metadata": {},
     "output_type": "execute_result"
    }
   ],
   "source": [
    "# case1)\n",
    "df = pd.DataFrame(item_dict)\n",
    "df"
   ]
  },
  {
   "cell_type": "code",
   "execution_count": 143,
   "id": "1434354d-4a2a-40c1-9909-da94bc01b2c6",
   "metadata": {},
   "outputs": [
    {
     "data": {
      "text/html": [
       "<div>\n",
       "<style scoped>\n",
       "    .dataframe tbody tr th:only-of-type {\n",
       "        vertical-align: middle;\n",
       "    }\n",
       "\n",
       "    .dataframe tbody tr th {\n",
       "        vertical-align: top;\n",
       "    }\n",
       "\n",
       "    .dataframe thead th {\n",
       "        text-align: right;\n",
       "    }\n",
       "</style>\n",
       "<table border=\"1\" class=\"dataframe\">\n",
       "  <thead>\n",
       "    <tr style=\"text-align: right;\">\n",
       "      <th></th>\n",
       "      <th>삼성전자</th>\n",
       "      <th>SK하이닉스</th>\n",
       "      <th>LG에너지솔루션</th>\n",
       "      <th>삼성바이오로직스</th>\n",
       "      <th>현대차</th>\n",
       "      <th>셀트리온</th>\n",
       "      <th>기아</th>\n",
       "      <th>삼성전자우</th>\n",
       "      <th>KB금융</th>\n",
       "      <th>NAVER</th>\n",
       "    </tr>\n",
       "    <tr>\n",
       "      <th>Date</th>\n",
       "      <th></th>\n",
       "      <th></th>\n",
       "      <th></th>\n",
       "      <th></th>\n",
       "      <th></th>\n",
       "      <th></th>\n",
       "      <th></th>\n",
       "      <th></th>\n",
       "      <th></th>\n",
       "      <th></th>\n",
       "    </tr>\n",
       "  </thead>\n",
       "  <tbody>\n",
       "    <tr>\n",
       "      <th>2020-01-02</th>\n",
       "      <td>55200</td>\n",
       "      <td>94700</td>\n",
       "      <td>NaN</td>\n",
       "      <td>423485</td>\n",
       "      <td>118000</td>\n",
       "      <td>167118</td>\n",
       "      <td>42500</td>\n",
       "      <td>45600</td>\n",
       "      <td>46550</td>\n",
       "      <td>182500</td>\n",
       "    </tr>\n",
       "    <tr>\n",
       "      <th>2020-01-03</th>\n",
       "      <td>55500</td>\n",
       "      <td>94500</td>\n",
       "      <td>NaN</td>\n",
       "      <td>417061</td>\n",
       "      <td>116000</td>\n",
       "      <td>164796</td>\n",
       "      <td>42000</td>\n",
       "      <td>45650</td>\n",
       "      <td>47150</td>\n",
       "      <td>181500</td>\n",
       "    </tr>\n",
       "    <tr>\n",
       "      <th>2020-01-06</th>\n",
       "      <td>55500</td>\n",
       "      <td>94300</td>\n",
       "      <td>NaN</td>\n",
       "      <td>407178</td>\n",
       "      <td>116000</td>\n",
       "      <td>160619</td>\n",
       "      <td>41900</td>\n",
       "      <td>45700</td>\n",
       "      <td>46600</td>\n",
       "      <td>180500</td>\n",
       "    </tr>\n",
       "    <tr>\n",
       "      <th>2020-01-07</th>\n",
       "      <td>55800</td>\n",
       "      <td>94000</td>\n",
       "      <td>NaN</td>\n",
       "      <td>414096</td>\n",
       "      <td>115500</td>\n",
       "      <td>165261</td>\n",
       "      <td>42050</td>\n",
       "      <td>46300</td>\n",
       "      <td>47000</td>\n",
       "      <td>187000</td>\n",
       "    </tr>\n",
       "    <tr>\n",
       "      <th>2020-01-08</th>\n",
       "      <td>56800</td>\n",
       "      <td>97400</td>\n",
       "      <td>NaN</td>\n",
       "      <td>403719</td>\n",
       "      <td>112000</td>\n",
       "      <td>160619</td>\n",
       "      <td>41300</td>\n",
       "      <td>46700</td>\n",
       "      <td>46150</td>\n",
       "      <td>183000</td>\n",
       "    </tr>\n",
       "    <tr>\n",
       "      <th>...</th>\n",
       "      <td>...</td>\n",
       "      <td>...</td>\n",
       "      <td>...</td>\n",
       "      <td>...</td>\n",
       "      <td>...</td>\n",
       "      <td>...</td>\n",
       "      <td>...</td>\n",
       "      <td>...</td>\n",
       "      <td>...</td>\n",
       "      <td>...</td>\n",
       "    </tr>\n",
       "    <tr>\n",
       "      <th>2024-12-04</th>\n",
       "      <td>53100</td>\n",
       "      <td>168000</td>\n",
       "      <td>389,000.00</td>\n",
       "      <td>961000</td>\n",
       "      <td>209000</td>\n",
       "      <td>183000</td>\n",
       "      <td>98100</td>\n",
       "      <td>45350</td>\n",
       "      <td>95400</td>\n",
       "      <td>202500</td>\n",
       "    </tr>\n",
       "    <tr>\n",
       "      <th>2024-12-05</th>\n",
       "      <td>53700</td>\n",
       "      <td>173000</td>\n",
       "      <td>382,000.00</td>\n",
       "      <td>964000</td>\n",
       "      <td>204500</td>\n",
       "      <td>181000</td>\n",
       "      <td>94000</td>\n",
       "      <td>45550</td>\n",
       "      <td>85800</td>\n",
       "      <td>204000</td>\n",
       "    </tr>\n",
       "    <tr>\n",
       "      <th>2024-12-06</th>\n",
       "      <td>54100</td>\n",
       "      <td>167100</td>\n",
       "      <td>390,500.00</td>\n",
       "      <td>962000</td>\n",
       "      <td>203500</td>\n",
       "      <td>180100</td>\n",
       "      <td>94800</td>\n",
       "      <td>45500</td>\n",
       "      <td>85300</td>\n",
       "      <td>204500</td>\n",
       "    </tr>\n",
       "    <tr>\n",
       "      <th>2024-12-09</th>\n",
       "      <td>53400</td>\n",
       "      <td>168900</td>\n",
       "      <td>387,500.00</td>\n",
       "      <td>953000</td>\n",
       "      <td>201000</td>\n",
       "      <td>175100</td>\n",
       "      <td>92000</td>\n",
       "      <td>44800</td>\n",
       "      <td>82800</td>\n",
       "      <td>201500</td>\n",
       "    </tr>\n",
       "    <tr>\n",
       "      <th>2024-12-10</th>\n",
       "      <td>54000</td>\n",
       "      <td>170400</td>\n",
       "      <td>385,000.00</td>\n",
       "      <td>959000</td>\n",
       "      <td>210500</td>\n",
       "      <td>182100</td>\n",
       "      <td>95800</td>\n",
       "      <td>45200</td>\n",
       "      <td>83300</td>\n",
       "      <td>209000</td>\n",
       "    </tr>\n",
       "  </tbody>\n",
       "</table>\n",
       "<p>1218 rows × 10 columns</p>\n",
       "</div>"
      ],
      "text/plain": [
       "             삼성전자  SK하이닉스   LG에너지솔루션  삼성바이오로직스     현대차    셀트리온     기아  삼성전자우  \\\n",
       "Date                                                                           \n",
       "2020-01-02  55200   94700        NaN    423485  118000  167118  42500  45600   \n",
       "2020-01-03  55500   94500        NaN    417061  116000  164796  42000  45650   \n",
       "2020-01-06  55500   94300        NaN    407178  116000  160619  41900  45700   \n",
       "2020-01-07  55800   94000        NaN    414096  115500  165261  42050  46300   \n",
       "2020-01-08  56800   97400        NaN    403719  112000  160619  41300  46700   \n",
       "...           ...     ...        ...       ...     ...     ...    ...    ...   \n",
       "2024-12-04  53100  168000 389,000.00    961000  209000  183000  98100  45350   \n",
       "2024-12-05  53700  173000 382,000.00    964000  204500  181000  94000  45550   \n",
       "2024-12-06  54100  167100 390,500.00    962000  203500  180100  94800  45500   \n",
       "2024-12-09  53400  168900 387,500.00    953000  201000  175100  92000  44800   \n",
       "2024-12-10  54000  170400 385,000.00    959000  210500  182100  95800  45200   \n",
       "\n",
       "             KB금융   NAVER  \n",
       "Date                       \n",
       "2020-01-02  46550  182500  \n",
       "2020-01-03  47150  181500  \n",
       "2020-01-06  46600  180500  \n",
       "2020-01-07  47000  187000  \n",
       "2020-01-08  46150  183000  \n",
       "...           ...     ...  \n",
       "2024-12-04  95400  202500  \n",
       "2024-12-05  85800  204000  \n",
       "2024-12-06  85300  204500  \n",
       "2024-12-09  82800  201500  \n",
       "2024-12-10  83300  209000  \n",
       "\n",
       "[1218 rows x 10 columns]"
      ]
     },
     "execution_count": 143,
     "metadata": {},
     "output_type": "execute_result"
    }
   ],
   "source": [
    "# case2)\n",
    "# 종목의 종가를 열축으로 병합하기\n",
    "df = pd.concat(item_dict.values(),axis=1)\n",
    "# 컬럼명 수정\n",
    "df = df.set_axis(dict_top10_codes.values(),axis=1)\n",
    "df"
   ]
  },
  {
   "cell_type": "code",
   "execution_count": 145,
   "id": "df362c60-740f-4af9-8cc3-3d97dc3ae4f7",
   "metadata": {},
   "outputs": [
    {
     "data": {
      "text/plain": [
       "<Axes: xlabel='Date'>"
      ]
     },
     "execution_count": 145,
     "metadata": {},
     "output_type": "execute_result"
    },
    {
     "data": {
      "image/png": "[encoded data removed]",
      "text/plain": [
       "<Figure size 1500x600 with 1 Axes>"
      ]
     },
     "metadata": {},
     "output_type": "display_data"
    }
   ],
   "source": [
    "df[['삼성전자','SK하이닉스']].plot(figsize=(15,6), secondary_y='삼성바이오로직스')"
   ]
  },
  {
   "cell_type": "code",
   "execution_count": null,
   "id": "75f4e811-234d-46a3-8114-c6bdd2a9275d",
   "metadata": {},
   "outputs": [],
   "source": [
    "item_dict"
   ]
  },
  {
   "cell_type": "code",
   "execution_count": null,
   "id": "6d26103b-2511-4654-9d6c-b0642ca45eb5",
   "metadata": {},
   "outputs": [],
   "source": [
    "fdr.DataReader('005930','2024')"
   ]
  },
  {
   "cell_type": "code",
   "execution_count": 26,
   "id": "ed6dc4d2-0606-4778-a3da-e44705275483",
   "metadata": {},
   "outputs": [
    {
     "data": {
      "text/plain": [
       "'0.9.94'"
      ]
     },
     "execution_count": 26,
     "metadata": {},
     "output_type": "execute_result"
    }
   ],
   "source": [
    "fdr.__version__"
   ]
  },
  {
   "cell_type": "code",
   "execution_count": null,
   "id": "c50f7090-3322-474b-9ef9-8b5e3e29688d",
   "metadata": {},
   "outputs": [],
   "source": [
    "df_stocks.head(10)"
   ]
  },
  {
   "cell_type": "code",
   "execution_count": null,
   "id": "ce30dfb0-3a32-4817-a06c-c261ffc9e87c",
   "metadata": {},
   "outputs": [],
   "source": []
  }
 ],
 "metadata": {
  "kernelspec": {
   "display_name": "Python 3 (ipykernel)",
   "language": "python",
   "name": "python3"
  },
  "language_info": {
   "codemirror_mode": {
    "name": "ipython",
    "version": 3
   },
   "file_extension": ".py",
   "mimetype": "text/x-python",
   "name": "python",
   "nbconvert_exporter": "python",
   "pygments_lexer": "ipython3",
   "version": "3.12.7"
  }
 },
 "nbformat": 4,
 "nbformat_minor": 5
}
