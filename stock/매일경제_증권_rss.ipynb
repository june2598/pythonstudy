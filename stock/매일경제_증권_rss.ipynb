{
 "cells": [
  {
   "cell_type": "code",
   "execution_count": 42,
   "id": "05d9c253-f1b8-4139-a299-a98f0e5fafd4",
   "metadata": {},
   "outputs": [],
   "source": [
    "import requests\n",
    "from bs4 import BeautifulSoup\n",
    "import re\n",
    "import pandas as pd"
   ]
  },
  {
   "cell_type": "code",
   "execution_count": 6,
   "id": "ec941321-eda0-4675-a320-0e40f731ca48",
   "metadata": {},
   "outputs": [
    {
     "data": {
      "text/plain": [
       "<Response [200]>"
      ]
     },
     "execution_count": 6,
     "metadata": {},
     "output_type": "execute_result"
    }
   ],
   "source": [
    "news_rss = requests.get('https://www.mk.co.kr/rss/50200011/')\n",
    "news_rss"
   ]
  },
  {
   "cell_type": "code",
   "execution_count": null,
   "id": "8ad7eff9-abb9-469b-9460-b37219550103",
   "metadata": {},
   "outputs": [],
   "source": [
    "news_rss.content\n",
    "news_rss.text"
   ]
  },
  {
   "cell_type": "code",
   "execution_count": 9,
   "id": "8896cb1b-3bac-423c-8cc0-4ce7e6e2a9fe",
   "metadata": {},
   "outputs": [],
   "source": [
    "news_rss_soup = BeautifulSoup(news_rss.content,'xml')"
   ]
  },
  {
   "cell_type": "code",
   "execution_count": null,
   "id": "b4cbe43b-2de6-4f7d-9ff7-7973535bace6",
   "metadata": {},
   "outputs": [],
   "source": [
    "title_list = news_rss_soup.select('item > title')\n",
    "title_list = [title.text for title in title_list]\n",
    "title_list"
   ]
  },
  {
   "cell_type": "code",
   "execution_count": null,
   "id": "1fee53c1-d5b2-4bba-9db9-a544102ce0ad",
   "metadata": {},
   "outputs": [],
   "source": [
    "link_list = news_rss_soup.select('item > link')\n",
    "link_list = [link.text for link in link_list]\n",
    "link_list"
   ]
  },
  {
   "cell_type": "code",
   "execution_count": null,
   "id": "0bf24441-0a65-4d16-b3eb-0954a92321b1",
   "metadata": {},
   "outputs": [],
   "source": [
    "news_data = []\n",
    "news_datetime = []\n",
    "for link in link_list :\n",
    "    news_res = requests.get(link)\n",
    "    news_content_soup = BeautifulSoup(news_res.content, 'lxml')\n",
    "    news_content = news_content_soup.select_one('.news_cnt_detail_wrap')\n",
    "    news_data.append(news_content.text)\n",
    "    news_datetime.append(news_content_soup.select_one('.time_area .registration dd').text)\n",
    "\n",
    "print(news_data)\n",
    "print(news_datetime)"
   ]
  },
  {
   "cell_type": "code",
   "execution_count": 31,
   "id": "be858687-5e87-42f1-84ce-78606853452d",
   "metadata": {},
   "outputs": [
    {
     "data": {
      "text/plain": [
       "50"
      ]
     },
     "execution_count": 31,
     "metadata": {},
     "output_type": "execute_result"
    }
   ],
   "source": [
    "len(news_data)"
   ]
  },
  {
   "cell_type": "code",
   "execution_count": 41,
   "id": "d65d3b73-84e9-4aa8-b29c-82c5e293d126",
   "metadata": {},
   "outputs": [
    {
     "data": {
      "text/plain": [
       "50"
      ]
     },
     "execution_count": 41,
     "metadata": {},
     "output_type": "execute_result"
    }
   ],
   "source": [
    "len(news_datetime)"
   ]
  },
  {
   "cell_type": "code",
   "execution_count": 32,
   "id": "7b013fde-7b2e-46bb-a2c3-8d3bfa21869f",
   "metadata": {},
   "outputs": [
    {
     "data": {
      "text/plain": [
       "list"
      ]
     },
     "execution_count": 32,
     "metadata": {},
     "output_type": "execute_result"
    }
   ],
   "source": [
    "type(news_data)"
   ]
  },
  {
   "cell_type": "code",
   "execution_count": null,
   "id": "0fdd0ac2-880d-40d5-b583-d9d5c661ebe8",
   "metadata": {},
   "outputs": [],
   "source": [
    "[item for item in news_data if re.search(r'\\S',item)]"
   ]
  },
  {
   "cell_type": "code",
   "execution_count": 48,
   "id": "29d5d02c-3b8f-4e30-b3a6-8a7bd49ef179",
   "metadata": {},
   "outputs": [],
   "source": [
    "#### 일시, 제목, 내용, \n",
    "news_df = pd.DataFrame({\n",
    "    '일시' : news_datetime,\n",
    "    '제목' : title_list,\n",
    "    '내용' : news_data\n",
    "})\n"
   ]
  },
  {
   "cell_type": "code",
   "execution_count": 49,
   "id": "35a273f9-1c8f-4d48-97ba-8d8368a7bbf2",
   "metadata": {},
   "outputs": [
    {
     "data": {
      "text/html": [
       "<div>\n",
       "<style scoped>\n",
       "    .dataframe tbody tr th:only-of-type {\n",
       "        vertical-align: middle;\n",
       "    }\n",
       "\n",
       "    .dataframe tbody tr th {\n",
       "        vertical-align: top;\n",
       "    }\n",
       "\n",
       "    .dataframe thead th {\n",
       "        text-align: right;\n",
       "    }\n",
       "</style>\n",
       "<table border=\"1\" class=\"dataframe\">\n",
       "  <thead>\n",
       "    <tr style=\"text-align: right;\">\n",
       "      <th></th>\n",
       "      <th>일시</th>\n",
       "      <th>제목</th>\n",
       "      <th>내용</th>\n",
       "    </tr>\n",
       "  </thead>\n",
       "  <tbody>\n",
       "    <tr>\n",
       "      <th>0</th>\n",
       "      <td>2024-12-26 09:24:12</td>\n",
       "      <td>바이오니아 자회사 에이스바이옴, 中 프리미엄 해외 직구 플랫폼 티몰 입점…현지 시장...</td>\n",
       "      <td>\\n      사진 확대    [사진제공 = 바이오니아]  바이오니아 자회사 에이스...</td>\n",
       "    </tr>\n",
       "    <tr>\n",
       "      <th>1</th>\n",
       "      <td>2024-12-26 08:30:34</td>\n",
       "      <td>“LG이노텍, 내년 아이폰 출시 전까지 숨고르기 돌입”…목표가↓</td>\n",
       "      <td>\\n      사진 확대    LG이노텍 로고. [사진 출처 = LG이노텍]  대신...</td>\n",
       "    </tr>\n",
       "    <tr>\n",
       "      <th>2</th>\n",
       "      <td>2024-12-26 08:29:34</td>\n",
       "      <td>“씨앤씨인터내셔널, 해외 고객사 다변화에 초점…내년 성과 나타날 전망”</td>\n",
       "      <td>\\n      사진 확대    씨앤씨인터내셔널 CI. [사진 = 씨앤씨인터내셔널] ...</td>\n",
       "    </tr>\n",
       "    <tr>\n",
       "      <th>3</th>\n",
       "      <td>2024-12-26 06:42:22</td>\n",
       "      <td>“동학개미들은 죽 쑤는데”…외국인 올 코스피 수익률 11%, 뭘 샀길래</td>\n",
       "      <td>\\n      사진 확대      올해 순매수 톱10 종목 분석외국인 전력기기·바이...</td>\n",
       "    </tr>\n",
       "    <tr>\n",
       "      <th>4</th>\n",
       "      <td>2024-12-26 06:00:00</td>\n",
       "      <td>2025년 자산시장 전략은 본연의 맛 싱글몰트 [매일 돈이 보이는 습관 M+]</td>\n",
       "      <td>\\n펀드매니저들은 매년 이맘때면 한 해의 운용 성과를 되돌아보고 내년을 전망하는데 ...</td>\n",
       "    </tr>\n",
       "  </tbody>\n",
       "</table>\n",
       "</div>"
      ],
      "text/plain": [
       "                    일시                                                 제목  \\\n",
       "0  2024-12-26 09:24:12  바이오니아 자회사 에이스바이옴, 中 프리미엄 해외 직구 플랫폼 티몰 입점…현지 시장...   \n",
       "1  2024-12-26 08:30:34                “LG이노텍, 내년 아이폰 출시 전까지 숨고르기 돌입”…목표가↓   \n",
       "2  2024-12-26 08:29:34            “씨앤씨인터내셔널, 해외 고객사 다변화에 초점…내년 성과 나타날 전망”   \n",
       "3  2024-12-26 06:42:22            “동학개미들은 죽 쑤는데”…외국인 올 코스피 수익률 11%, 뭘 샀길래   \n",
       "4  2024-12-26 06:00:00        2025년 자산시장 전략은 본연의 맛 싱글몰트 [매일 돈이 보이는 습관 M+]   \n",
       "\n",
       "                                                  내용  \n",
       "0  \\n      사진 확대    [사진제공 = 바이오니아]  바이오니아 자회사 에이스...  \n",
       "1  \\n      사진 확대    LG이노텍 로고. [사진 출처 = LG이노텍]  대신...  \n",
       "2  \\n      사진 확대    씨앤씨인터내셔널 CI. [사진 = 씨앤씨인터내셔널] ...  \n",
       "3  \\n      사진 확대      올해 순매수 톱10 종목 분석외국인 전력기기·바이...  \n",
       "4  \\n펀드매니저들은 매년 이맘때면 한 해의 운용 성과를 되돌아보고 내년을 전망하는데 ...  "
      ]
     },
     "execution_count": 49,
     "metadata": {},
     "output_type": "execute_result"
    }
   ],
   "source": [
    "news_df.head()"
   ]
  },
  {
   "cell_type": "code",
   "execution_count": 50,
   "id": "2f14f57e-923d-45f2-b6e0-af4de6f23598",
   "metadata": {},
   "outputs": [],
   "source": [
    "news_df.to_csv('news.csv', index=False)"
   ]
  }
 ],
 "metadata": {
  "kernelspec": {
   "display_name": "Python 3 (ipykernel)",
   "language": "python",
   "name": "python3"
  },
  "language_info": {
   "codemirror_mode": {
    "name": "ipython",
    "version": 3
   },
   "file_extension": ".py",
   "mimetype": "text/x-python",
   "name": "python",
   "nbconvert_exporter": "python",
   "pygments_lexer": "ipython3",
   "version": "3.12.7"
  }
 },
 "nbformat": 4,
 "nbformat_minor": 5
}
