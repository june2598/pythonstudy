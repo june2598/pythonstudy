{
 "cells": [
  {
   "cell_type": "code",
   "execution_count": 1,
   "id": "d2d4a0c3-9fca-4b7b-bd01-994794ca7b99",
   "metadata": {},
   "outputs": [],
   "source": [
    "# 데이터 분석을 위한 패키지\n",
    "import numpy as np\n",
    "import pandas as pd"
   ]
  },
  {
   "cell_type": "code",
   "execution_count": 2,
   "id": "f1ee610e-4b1f-42fd-9c57-2fcc90583df0",
   "metadata": {},
   "outputs": [],
   "source": [
    "# 시각화 패키지\n",
    "import matplotlib.pyplot as plt\n",
    "import seaborn as sns"
   ]
  },
  {
   "cell_type": "code",
   "execution_count": 3,
   "id": "6f3a022d-7347-4a5b-b129-39553c8b4326",
   "metadata": {},
   "outputs": [],
   "source": [
    "import koreanize_matplotlib"
   ]
  },
  {
   "cell_type": "code",
   "execution_count": 6,
   "id": "f488a7eb-fc3f-4aa7-8fcb-b78ab4713099",
   "metadata": {},
   "outputs": [],
   "source": [
    "import html5lib"
   ]
  },
  {
   "cell_type": "code",
   "execution_count": null,
   "id": "36a229fc-5b37-47da-b301-d75cdc960e0e",
   "metadata": {},
   "outputs": [],
   "source": [
    "# pd.read_html 함수 내에서 사용하는 패키지 설치\n",
    "# !pip install html5lib"
   ]
  },
  {
   "cell_type": "code",
   "execution_count": 7,
   "id": "588c743a-3038-4702-a96b-10cdfae0da93",
   "metadata": {},
   "outputs": [
    {
     "data": {
      "text/plain": [
       "\u001b[1;31mType:\u001b[0m        module\n",
       "\u001b[1;31mString form:\u001b[0m <module 'html5lib' from 'D:\\\\kdt\\\\anaconda3\\\\Lib\\\\site-packages\\\\html5lib\\\\__init__.py'>\n",
       "\u001b[1;31mFile:\u001b[0m        d:\\kdt\\anaconda3\\lib\\site-packages\\html5lib\\__init__.py\n",
       "\u001b[1;31mDocstring:\u001b[0m  \n",
       "HTML parsing library based on the `WHATWG HTML specification\n",
       "<https://whatwg.org/html>`_. The parser is designed to be compatible with\n",
       "existing HTML found in the wild and implements well-defined error recovery that\n",
       "is largely compatible with modern desktop web browsers.\n",
       "\n",
       "Example usage::\n",
       "\n",
       "    import html5lib\n",
       "    with open(\"my_document.html\", \"rb\") as f:\n",
       "        tree = html5lib.parse(f)\n",
       "\n",
       "For convenience, this module re-exports the following names:\n",
       "\n",
       "* :func:`~.html5parser.parse`\n",
       "* :func:`~.html5parser.parseFragment`\n",
       "* :class:`~.html5parser.HTMLParser`\n",
       "* :func:`~.treebuilders.getTreeBuilder`\n",
       "* :func:`~.treewalkers.getTreeWalker`\n",
       "* :func:`~.serializer.serialize`"
      ]
     },
     "metadata": {},
     "output_type": "display_data"
    }
   ],
   "source": [
    "# html5lib : html 구문해석기"
   ]
  },
  {
   "cell_type": "code",
   "execution_count": 4,
   "id": "8e5a876f-676b-422b-bc9e-195694a92be2",
   "metadata": {},
   "outputs": [],
   "source": [
    "# 모든 컬럼,행을 출력하도록 설정\n",
    "pd.set_option('display.max_columns', None) # None으로 설정하면 모든 컬럼 출력\n",
    "pd.set_option('display.max_rows', 50) #None으로 설정하면 모든 행 출력"
   ]
  },
  {
   "cell_type": "code",
   "execution_count": 29,
   "id": "1e17ae7e-656e-45aa-8479-d3ddf9dcb302",
   "metadata": {},
   "outputs": [],
   "source": [
    "pd.options.display.float_format = '{:,.2f}'.format"
   ]
  },
  {
   "cell_type": "code",
   "execution_count": 9,
   "id": "bd1aacdf-a26f-4450-8951-6d165302ed8a",
   "metadata": {},
   "outputs": [],
   "source": [
    "# 2차전지 테마주 네이버 증권 url\n",
    "url = 'https://finance.naver.com/sise/sise_group_detail.naver?type=theme&no=64'"
   ]
  },
  {
   "cell_type": "code",
   "execution_count": 10,
   "id": "653a6300-d738-48be-827b-42f5cb18336d",
   "metadata": {},
   "outputs": [
    {
     "name": "stderr",
     "output_type": "stream",
     "text": [
      "D:\\kdt\\anaconda3\\Lib\\site-packages\\bs4\\__init__.py:228: UserWarning: You provided Unicode markup but also provided a value for from_encoding. Your from_encoding will be ignored.\n",
      "  warnings.warn(\"You provided Unicode markup but also provided a value for from_encoding. Your from_encoding will be ignored.\")\n"
     ]
    },
    {
     "data": {
      "text/plain": [
       "list"
      ]
     },
     "execution_count": 10,
     "metadata": {},
     "output_type": "execute_result"
    }
   ],
   "source": [
    "# 웹페이지 내에서 table 태그를 데이터프레임으로 변환해서 리스트에 개별요소로 저장\n",
    "table = pd.read_html(url, encoding = 'cp949')\n",
    "type(table)"
   ]
  },
  {
   "cell_type": "code",
   "execution_count": 13,
   "id": "83afb272-c5d7-46d8-b70e-8be7c1a8e7c9",
   "metadata": {},
   "outputs": [
    {
     "data": {
      "text/plain": [
       "3"
      ]
     },
     "execution_count": 13,
     "metadata": {},
     "output_type": "execute_result"
    }
   ],
   "source": [
    "len(table)"
   ]
  },
  {
   "cell_type": "code",
   "execution_count": 11,
   "id": "ccc546fb-f46e-4bf4-b19d-82f5f04bd13a",
   "metadata": {},
   "outputs": [
    {
     "data": {
      "text/html": [
       "<div>\n",
       "<style scoped>\n",
       "    .dataframe tbody tr th:only-of-type {\n",
       "        vertical-align: middle;\n",
       "    }\n",
       "\n",
       "    .dataframe tbody tr th {\n",
       "        vertical-align: top;\n",
       "    }\n",
       "\n",
       "    .dataframe thead tr th {\n",
       "        text-align: left;\n",
       "    }\n",
       "</style>\n",
       "<table border=\"1\" class=\"dataframe\">\n",
       "  <thead>\n",
       "    <tr>\n",
       "      <th></th>\n",
       "      <th>업종명</th>\n",
       "      <th>전일대비</th>\n",
       "      <th colspan=\"4\" halign=\"left\">전일대비 등락현황</th>\n",
       "      <th>등락그래프</th>\n",
       "    </tr>\n",
       "    <tr>\n",
       "      <th></th>\n",
       "      <th>업종명</th>\n",
       "      <th>전일대비</th>\n",
       "      <th>전체</th>\n",
       "      <th>상승</th>\n",
       "      <th>보합</th>\n",
       "      <th>하락</th>\n",
       "      <th>등락그래프</th>\n",
       "    </tr>\n",
       "  </thead>\n",
       "  <tbody>\n",
       "    <tr>\n",
       "      <th>0</th>\n",
       "      <td>NaN</td>\n",
       "      <td>NaN</td>\n",
       "      <td>NaN</td>\n",
       "      <td>NaN</td>\n",
       "      <td>NaN</td>\n",
       "      <td>NaN</td>\n",
       "      <td>NaN</td>\n",
       "    </tr>\n",
       "    <tr>\n",
       "      <th>1</th>\n",
       "      <td>2차전지  테마 개요</td>\n",
       "      <td>+3.81%</td>\n",
       "      <td>138.0</td>\n",
       "      <td>133.0</td>\n",
       "      <td>0.0</td>\n",
       "      <td>5.0</td>\n",
       "      <td>29%</td>\n",
       "    </tr>\n",
       "    <tr>\n",
       "      <th>2</th>\n",
       "      <td>NaN</td>\n",
       "      <td>NaN</td>\n",
       "      <td>NaN</td>\n",
       "      <td>NaN</td>\n",
       "      <td>NaN</td>\n",
       "      <td>NaN</td>\n",
       "      <td>NaN</td>\n",
       "    </tr>\n",
       "    <tr>\n",
       "      <th>3</th>\n",
       "      <td>NaN</td>\n",
       "      <td>NaN</td>\n",
       "      <td>NaN</td>\n",
       "      <td>NaN</td>\n",
       "      <td>NaN</td>\n",
       "      <td>NaN</td>\n",
       "      <td>NaN</td>\n",
       "    </tr>\n",
       "  </tbody>\n",
       "</table>\n",
       "</div>"
      ],
      "text/plain": [
       "           업종명    전일대비 전일대비 등락현황                  등락그래프\n",
       "           업종명    전일대비        전체     상승   보합   하락 등락그래프\n",
       "0          NaN     NaN       NaN    NaN  NaN  NaN   NaN\n",
       "1  2차전지  테마 개요  +3.81%     138.0  133.0  0.0  5.0   29%\n",
       "2          NaN     NaN       NaN    NaN  NaN  NaN   NaN\n",
       "3          NaN     NaN       NaN    NaN  NaN  NaN   NaN"
      ]
     },
     "execution_count": 11,
     "metadata": {},
     "output_type": "execute_result"
    }
   ],
   "source": [
    "table[0]"
   ]
  },
  {
   "cell_type": "code",
   "execution_count": 12,
   "id": "27ed25a4-edb7-4390-b2ce-66b39d2d4025",
   "metadata": {},
   "outputs": [
    {
     "data": {
      "text/html": [
       "<div>\n",
       "<style scoped>\n",
       "    .dataframe tbody tr th:only-of-type {\n",
       "        vertical-align: middle;\n",
       "    }\n",
       "\n",
       "    .dataframe tbody tr th {\n",
       "        vertical-align: top;\n",
       "    }\n",
       "\n",
       "    .dataframe thead th {\n",
       "        text-align: right;\n",
       "    }\n",
       "</style>\n",
       "<table border=\"1\" class=\"dataframe\">\n",
       "  <thead>\n",
       "    <tr style=\"text-align: right;\">\n",
       "      <th></th>\n",
       "      <th>0</th>\n",
       "      <th>1</th>\n",
       "      <th>2</th>\n",
       "      <th>3</th>\n",
       "      <th>4</th>\n",
       "      <th>5</th>\n",
       "    </tr>\n",
       "  </thead>\n",
       "  <tbody>\n",
       "    <tr>\n",
       "      <th>0</th>\n",
       "      <td>거래량</td>\n",
       "      <td>매수호가</td>\n",
       "      <td>거래대금(백만)</td>\n",
       "      <td>시가총액(억)</td>\n",
       "      <td>영업이익(억)</td>\n",
       "      <td>PER(배)</td>\n",
       "    </tr>\n",
       "    <tr>\n",
       "      <th>1</th>\n",
       "      <td>시가</td>\n",
       "      <td>매도호가</td>\n",
       "      <td>전일거래량</td>\n",
       "      <td>자산총계(억)</td>\n",
       "      <td>영업이익증가율</td>\n",
       "      <td>ROE(%)</td>\n",
       "    </tr>\n",
       "    <tr>\n",
       "      <th>2</th>\n",
       "      <td>고가</td>\n",
       "      <td>매수총잔량</td>\n",
       "      <td>외국인비율</td>\n",
       "      <td>부채총계(억)</td>\n",
       "      <td>당기순이익(억)</td>\n",
       "      <td>ROA(%)</td>\n",
       "    </tr>\n",
       "    <tr>\n",
       "      <th>3</th>\n",
       "      <td>저가</td>\n",
       "      <td>매도총잔량</td>\n",
       "      <td>상장주식수(천주)</td>\n",
       "      <td>매출액(억)</td>\n",
       "      <td>주당순이익(원)</td>\n",
       "      <td>PBR(배)</td>\n",
       "    </tr>\n",
       "    <tr>\n",
       "      <th>4</th>\n",
       "      <td>NaN</td>\n",
       "      <td>NaN</td>\n",
       "      <td>NaN</td>\n",
       "      <td>매출액증가율</td>\n",
       "      <td>보통주배당금(원)</td>\n",
       "      <td>유보율(%)</td>\n",
       "    </tr>\n",
       "  </tbody>\n",
       "</table>\n",
       "</div>"
      ],
      "text/plain": [
       "     0      1          2        3          4       5\n",
       "0  거래량   매수호가   거래대금(백만)  시가총액(억)    영업이익(억)  PER(배)\n",
       "1   시가   매도호가      전일거래량  자산총계(억)    영업이익증가율  ROE(%)\n",
       "2   고가  매수총잔량      외국인비율  부채총계(억)   당기순이익(억)  ROA(%)\n",
       "3   저가  매도총잔량  상장주식수(천주)   매출액(억)   주당순이익(원)  PBR(배)\n",
       "4  NaN    NaN        NaN   매출액증가율  보통주배당금(원)  유보율(%)"
      ]
     },
     "execution_count": 12,
     "metadata": {},
     "output_type": "execute_result"
    }
   ],
   "source": [
    "table[1]"
   ]
  },
  {
   "cell_type": "code",
   "execution_count": 13,
   "id": "5b3c04ab-e371-4126-ac06-5a07ff89f28c",
   "metadata": {},
   "outputs": [
    {
     "data": {
      "text/html": [
       "<div>\n",
       "<style scoped>\n",
       "    .dataframe tbody tr th:only-of-type {\n",
       "        vertical-align: middle;\n",
       "    }\n",
       "\n",
       "    .dataframe tbody tr th {\n",
       "        vertical-align: top;\n",
       "    }\n",
       "\n",
       "    .dataframe thead th {\n",
       "        text-align: right;\n",
       "    }\n",
       "</style>\n",
       "<table border=\"1\" class=\"dataframe\">\n",
       "  <thead>\n",
       "    <tr style=\"text-align: right;\">\n",
       "      <th></th>\n",
       "      <th>종목명</th>\n",
       "      <th>종목명.1</th>\n",
       "      <th>현재가</th>\n",
       "      <th>전일비</th>\n",
       "      <th>등락률</th>\n",
       "      <th>매수호가</th>\n",
       "      <th>매도호가</th>\n",
       "      <th>거래량</th>\n",
       "      <th>거래대금</th>\n",
       "      <th>전일거래량</th>\n",
       "      <th>토론실</th>\n",
       "      <th>Unnamed: 11</th>\n",
       "    </tr>\n",
       "  </thead>\n",
       "  <tbody>\n",
       "    <tr>\n",
       "      <th>0</th>\n",
       "      <td>NaN</td>\n",
       "      <td>NaN</td>\n",
       "      <td>NaN</td>\n",
       "      <td>NaN</td>\n",
       "      <td>NaN</td>\n",
       "      <td>NaN</td>\n",
       "      <td>NaN</td>\n",
       "      <td>NaN</td>\n",
       "      <td>NaN</td>\n",
       "      <td>NaN</td>\n",
       "      <td>NaN</td>\n",
       "      <td>NaN</td>\n",
       "    </tr>\n",
       "    <tr>\n",
       "      <th>1</th>\n",
       "      <td>신성델타테크 *</td>\n",
       "      <td>테마 편입 사유</td>\n",
       "      <td>96100.0</td>\n",
       "      <td>상승  16,500</td>\n",
       "      <td>+20.73%</td>\n",
       "      <td>90500.0</td>\n",
       "      <td>90700.0</td>\n",
       "      <td>735695.0</td>\n",
       "      <td>67062.0</td>\n",
       "      <td>449486.0</td>\n",
       "      <td>NaN</td>\n",
       "      <td>NaN</td>\n",
       "    </tr>\n",
       "    <tr>\n",
       "      <th>2</th>\n",
       "      <td>에스코넥 *</td>\n",
       "      <td>테마 편입 사유</td>\n",
       "      <td>639.0</td>\n",
       "      <td>상승  93</td>\n",
       "      <td>+17.03%</td>\n",
       "      <td>564.0</td>\n",
       "      <td>565.0</td>\n",
       "      <td>598491.0</td>\n",
       "      <td>368.0</td>\n",
       "      <td>305612.0</td>\n",
       "      <td>NaN</td>\n",
       "      <td>NaN</td>\n",
       "    </tr>\n",
       "    <tr>\n",
       "      <th>3</th>\n",
       "      <td>파워로직스 *</td>\n",
       "      <td>테마 편입 사유</td>\n",
       "      <td>5980.0</td>\n",
       "      <td>상승  780</td>\n",
       "      <td>+15.00%</td>\n",
       "      <td>5690.0</td>\n",
       "      <td>5700.0</td>\n",
       "      <td>627353.0</td>\n",
       "      <td>3621.0</td>\n",
       "      <td>186155.0</td>\n",
       "      <td>NaN</td>\n",
       "      <td>NaN</td>\n",
       "    </tr>\n",
       "    <tr>\n",
       "      <th>4</th>\n",
       "      <td>신성에스티 *</td>\n",
       "      <td>테마 편입 사유</td>\n",
       "      <td>27350.0</td>\n",
       "      <td>상승  3,450</td>\n",
       "      <td>+14.44%</td>\n",
       "      <td>25600.0</td>\n",
       "      <td>25700.0</td>\n",
       "      <td>112729.0</td>\n",
       "      <td>3011.0</td>\n",
       "      <td>42481.0</td>\n",
       "      <td>NaN</td>\n",
       "      <td>NaN</td>\n",
       "    </tr>\n",
       "    <tr>\n",
       "      <th>...</th>\n",
       "      <td>...</td>\n",
       "      <td>...</td>\n",
       "      <td>...</td>\n",
       "      <td>...</td>\n",
       "      <td>...</td>\n",
       "      <td>...</td>\n",
       "      <td>...</td>\n",
       "      <td>...</td>\n",
       "      <td>...</td>\n",
       "      <td>...</td>\n",
       "      <td>...</td>\n",
       "      <td>...</td>\n",
       "    </tr>\n",
       "    <tr>\n",
       "      <th>136</th>\n",
       "      <td>LG화학</td>\n",
       "      <td>테마 편입 사유</td>\n",
       "      <td>266000.0</td>\n",
       "      <td>하락  2,000</td>\n",
       "      <td>-0.75%</td>\n",
       "      <td>267000.0</td>\n",
       "      <td>267500.0</td>\n",
       "      <td>54531.0</td>\n",
       "      <td>14579.0</td>\n",
       "      <td>436988.0</td>\n",
       "      <td>NaN</td>\n",
       "      <td>NaN</td>\n",
       "    </tr>\n",
       "    <tr>\n",
       "      <th>137</th>\n",
       "      <td>자이글 *</td>\n",
       "      <td>테마 편입 사유</td>\n",
       "      <td>5040.0</td>\n",
       "      <td>하락  80</td>\n",
       "      <td>-1.56%</td>\n",
       "      <td>5160.0</td>\n",
       "      <td>5170.0</td>\n",
       "      <td>44818.0</td>\n",
       "      <td>228.0</td>\n",
       "      <td>278272.0</td>\n",
       "      <td>NaN</td>\n",
       "      <td>NaN</td>\n",
       "    </tr>\n",
       "    <tr>\n",
       "      <th>138</th>\n",
       "      <td>고려아연</td>\n",
       "      <td>테마 편입 사유</td>\n",
       "      <td>1440000.0</td>\n",
       "      <td>하락  92,000</td>\n",
       "      <td>-6.01%</td>\n",
       "      <td>1461000.0</td>\n",
       "      <td>1462000.0</td>\n",
       "      <td>15132.0</td>\n",
       "      <td>22136.0</td>\n",
       "      <td>109717.0</td>\n",
       "      <td>NaN</td>\n",
       "      <td>NaN</td>\n",
       "    </tr>\n",
       "    <tr>\n",
       "      <th>139</th>\n",
       "      <td>NaN</td>\n",
       "      <td>NaN</td>\n",
       "      <td>NaN</td>\n",
       "      <td>NaN</td>\n",
       "      <td>NaN</td>\n",
       "      <td>NaN</td>\n",
       "      <td>NaN</td>\n",
       "      <td>NaN</td>\n",
       "      <td>NaN</td>\n",
       "      <td>NaN</td>\n",
       "      <td>NaN</td>\n",
       "      <td>NaN</td>\n",
       "    </tr>\n",
       "    <tr>\n",
       "      <th>140</th>\n",
       "      <td>NaN</td>\n",
       "      <td>NaN</td>\n",
       "      <td>NaN</td>\n",
       "      <td>NaN</td>\n",
       "      <td>NaN</td>\n",
       "      <td>NaN</td>\n",
       "      <td>NaN</td>\n",
       "      <td>NaN</td>\n",
       "      <td>NaN</td>\n",
       "      <td>NaN</td>\n",
       "      <td>NaN</td>\n",
       "      <td>NaN</td>\n",
       "    </tr>\n",
       "  </tbody>\n",
       "</table>\n",
       "<p>141 rows × 12 columns</p>\n",
       "</div>"
      ],
      "text/plain": [
       "          종목명     종목명.1        현재가         전일비      등락률       매수호가       매도호가  \\\n",
       "0         NaN       NaN        NaN         NaN      NaN        NaN        NaN   \n",
       "1    신성델타테크 *  테마 편입 사유    96100.0  상승  16,500  +20.73%    90500.0    90700.0   \n",
       "2      에스코넥 *  테마 편입 사유      639.0      상승  93  +17.03%      564.0      565.0   \n",
       "3     파워로직스 *  테마 편입 사유     5980.0     상승  780  +15.00%     5690.0     5700.0   \n",
       "4     신성에스티 *  테마 편입 사유    27350.0   상승  3,450  +14.44%    25600.0    25700.0   \n",
       "..        ...       ...        ...         ...      ...        ...        ...   \n",
       "136      LG화학  테마 편입 사유   266000.0   하락  2,000   -0.75%   267000.0   267500.0   \n",
       "137     자이글 *  테마 편입 사유     5040.0      하락  80   -1.56%     5160.0     5170.0   \n",
       "138      고려아연  테마 편입 사유  1440000.0  하락  92,000   -6.01%  1461000.0  1462000.0   \n",
       "139       NaN       NaN        NaN         NaN      NaN        NaN        NaN   \n",
       "140       NaN       NaN        NaN         NaN      NaN        NaN        NaN   \n",
       "\n",
       "          거래량     거래대금     전일거래량  토론실  Unnamed: 11  \n",
       "0         NaN      NaN       NaN  NaN          NaN  \n",
       "1    735695.0  67062.0  449486.0  NaN          NaN  \n",
       "2    598491.0    368.0  305612.0  NaN          NaN  \n",
       "3    627353.0   3621.0  186155.0  NaN          NaN  \n",
       "4    112729.0   3011.0   42481.0  NaN          NaN  \n",
       "..        ...      ...       ...  ...          ...  \n",
       "136   54531.0  14579.0  436988.0  NaN          NaN  \n",
       "137   44818.0    228.0  278272.0  NaN          NaN  \n",
       "138   15132.0  22136.0  109717.0  NaN          NaN  \n",
       "139       NaN      NaN       NaN  NaN          NaN  \n",
       "140       NaN      NaN       NaN  NaN          NaN  \n",
       "\n",
       "[141 rows x 12 columns]"
      ]
     },
     "execution_count": 13,
     "metadata": {},
     "output_type": "execute_result"
    }
   ],
   "source": [
    "table[2]"
   ]
  },
  {
   "cell_type": "code",
   "execution_count": 14,
   "id": "65cdf310-6594-4303-8e06-0be28ffbb56d",
   "metadata": {},
   "outputs": [
    {
     "data": {
      "text/plain": [
       "pandas.core.frame.DataFrame"
      ]
     },
     "execution_count": 14,
     "metadata": {},
     "output_type": "execute_result"
    }
   ],
   "source": [
    "type(table[2])"
   ]
  },
  {
   "cell_type": "code",
   "execution_count": 16,
   "id": "d3049de7-91f6-41b7-9403-a5fa6e27083a",
   "metadata": {},
   "outputs": [],
   "source": [
    "df = table[2]"
   ]
  },
  {
   "cell_type": "code",
   "execution_count": 22,
   "id": "352907ac-638f-4757-b720-07dfe0d202d7",
   "metadata": {},
   "outputs": [
    {
     "data": {
      "text/plain": [
       "종목명      0\n",
       "종목명.1    0\n",
       "현재가      0\n",
       "전일비      0\n",
       "등락률      0\n",
       "매수호가     0\n",
       "매도호가     0\n",
       "거래량      0\n",
       "거래대금     0\n",
       "전일거래량    0\n",
       "dtype: int64"
      ]
     },
     "execution_count": 22,
     "metadata": {},
     "output_type": "execute_result"
    }
   ],
   "source": [
    "# 결측치 확인\n",
    "df.isna().sum()"
   ]
  },
  {
   "cell_type": "code",
   "execution_count": 23,
   "id": "97cfca18-39e4-4fae-bace-6fb1b03cb0c3",
   "metadata": {},
   "outputs": [
    {
     "data": {
      "text/plain": [
       "(138, 10)"
      ]
     },
     "execution_count": 23,
     "metadata": {},
     "output_type": "execute_result"
    }
   ],
   "source": [
    "df.shape"
   ]
  },
  {
   "cell_type": "code",
   "execution_count": null,
   "id": "bb7b8595-3c67-4474-a22a-61f42902bd69",
   "metadata": {},
   "outputs": [],
   "source": [
    "df.dropna?"
   ]
  },
  {
   "cell_type": "code",
   "execution_count": 18,
   "id": "8721ce7d-6795-43dd-9205-ce144d9cb412",
   "metadata": {},
   "outputs": [],
   "source": [
    "# 모든 행, 모든열이 NaN인 행,열제거\n",
    "df = df.dropna(how='all', axis=0).dropna(how='all', axis=1)"
   ]
  },
  {
   "cell_type": "code",
   "execution_count": 27,
   "id": "ad1eeaae-a9ec-4688-aa75-dc7acf36b61e",
   "metadata": {},
   "outputs": [
    {
     "name": "stdout",
     "output_type": "stream",
     "text": [
      "<class 'pandas.core.frame.DataFrame'>\n",
      "Index: 138 entries, 1 to 138\n",
      "Data columns (total 10 columns):\n",
      " #   Column  Non-Null Count  Dtype  \n",
      "---  ------  --------------  -----  \n",
      " 0   종목명     138 non-null    object \n",
      " 1   종목명.1   138 non-null    object \n",
      " 2   현재가     138 non-null    float64\n",
      " 3   전일비     138 non-null    object \n",
      " 4   등락률     138 non-null    object \n",
      " 5   매수호가    138 non-null    float64\n",
      " 6   매도호가    138 non-null    float64\n",
      " 7   거래량     138 non-null    float64\n",
      " 8   거래대금    138 non-null    float64\n",
      " 9   전일거래량   138 non-null    float64\n",
      "dtypes: float64(6), object(4)\n",
      "memory usage: 11.9+ KB\n"
     ]
    }
   ],
   "source": [
    "df.info()"
   ]
  },
  {
   "cell_type": "code",
   "execution_count": 28,
   "id": "86921968-0f32-46ff-86a4-8530993b50e8",
   "metadata": {},
   "outputs": [
    {
     "data": {
      "text/html": [
       "<div>\n",
       "<style scoped>\n",
       "    .dataframe tbody tr th:only-of-type {\n",
       "        vertical-align: middle;\n",
       "    }\n",
       "\n",
       "    .dataframe tbody tr th {\n",
       "        vertical-align: top;\n",
       "    }\n",
       "\n",
       "    .dataframe thead th {\n",
       "        text-align: right;\n",
       "    }\n",
       "</style>\n",
       "<table border=\"1\" class=\"dataframe\">\n",
       "  <thead>\n",
       "    <tr style=\"text-align: right;\">\n",
       "      <th></th>\n",
       "      <th>현재가</th>\n",
       "      <th>매수호가</th>\n",
       "      <th>매도호가</th>\n",
       "      <th>거래량</th>\n",
       "      <th>거래대금</th>\n",
       "      <th>전일거래량</th>\n",
       "    </tr>\n",
       "  </thead>\n",
       "  <tbody>\n",
       "    <tr>\n",
       "      <th>count</th>\n",
       "      <td>1.380000e+02</td>\n",
       "      <td>1.380000e+02</td>\n",
       "      <td>1.380000e+02</td>\n",
       "      <td>1.380000e+02</td>\n",
       "      <td>138.000000</td>\n",
       "      <td>1.380000e+02</td>\n",
       "    </tr>\n",
       "    <tr>\n",
       "      <th>mean</th>\n",
       "      <td>3.973578e+04</td>\n",
       "      <td>3.957203e+04</td>\n",
       "      <td>3.966401e+04</td>\n",
       "      <td>8.409317e+04</td>\n",
       "      <td>2274.905797</td>\n",
       "      <td>2.849091e+05</td>\n",
       "    </tr>\n",
       "    <tr>\n",
       "      <th>std</th>\n",
       "      <td>1.330861e+05</td>\n",
       "      <td>1.346775e+05</td>\n",
       "      <td>1.347828e+05</td>\n",
       "      <td>3.319710e+05</td>\n",
       "      <td>7237.596617</td>\n",
       "      <td>9.371593e+05</td>\n",
       "    </tr>\n",
       "    <tr>\n",
       "      <th>min</th>\n",
       "      <td>4.030000e+02</td>\n",
       "      <td>3.920000e+02</td>\n",
       "      <td>3.970000e+02</td>\n",
       "      <td>2.100000e+02</td>\n",
       "      <td>1.000000</td>\n",
       "      <td>9.060000e+03</td>\n",
       "    </tr>\n",
       "    <tr>\n",
       "      <th>25%</th>\n",
       "      <td>3.858750e+03</td>\n",
       "      <td>3.763750e+03</td>\n",
       "      <td>3.802500e+03</td>\n",
       "      <td>9.228000e+03</td>\n",
       "      <td>55.750000</td>\n",
       "      <td>4.459900e+04</td>\n",
       "    </tr>\n",
       "    <tr>\n",
       "      <th>50%</th>\n",
       "      <td>7.615000e+03</td>\n",
       "      <td>7.535000e+03</td>\n",
       "      <td>7.555000e+03</td>\n",
       "      <td>2.174100e+04</td>\n",
       "      <td>184.000000</td>\n",
       "      <td>1.089390e+05</td>\n",
       "    </tr>\n",
       "    <tr>\n",
       "      <th>75%</th>\n",
       "      <td>2.418750e+04</td>\n",
       "      <td>2.351250e+04</td>\n",
       "      <td>2.366250e+04</td>\n",
       "      <td>5.457150e+04</td>\n",
       "      <td>651.500000</td>\n",
       "      <td>2.451975e+05</td>\n",
       "    </tr>\n",
       "    <tr>\n",
       "      <th>max</th>\n",
       "      <td>1.440000e+06</td>\n",
       "      <td>1.461000e+06</td>\n",
       "      <td>1.462000e+06</td>\n",
       "      <td>3.660941e+06</td>\n",
       "      <td>67062.000000</td>\n",
       "      <td>9.543639e+06</td>\n",
       "    </tr>\n",
       "  </tbody>\n",
       "</table>\n",
       "</div>"
      ],
      "text/plain": [
       "                현재가          매수호가          매도호가           거래량          거래대금  \\\n",
       "count  1.380000e+02  1.380000e+02  1.380000e+02  1.380000e+02    138.000000   \n",
       "mean   3.973578e+04  3.957203e+04  3.966401e+04  8.409317e+04   2274.905797   \n",
       "std    1.330861e+05  1.346775e+05  1.347828e+05  3.319710e+05   7237.596617   \n",
       "min    4.030000e+02  3.920000e+02  3.970000e+02  2.100000e+02      1.000000   \n",
       "25%    3.858750e+03  3.763750e+03  3.802500e+03  9.228000e+03     55.750000   \n",
       "50%    7.615000e+03  7.535000e+03  7.555000e+03  2.174100e+04    184.000000   \n",
       "75%    2.418750e+04  2.351250e+04  2.366250e+04  5.457150e+04    651.500000   \n",
       "max    1.440000e+06  1.461000e+06  1.462000e+06  3.660941e+06  67062.000000   \n",
       "\n",
       "              전일거래량  \n",
       "count  1.380000e+02  \n",
       "mean   2.849091e+05  \n",
       "std    9.371593e+05  \n",
       "min    9.060000e+03  \n",
       "25%    4.459900e+04  \n",
       "50%    1.089390e+05  \n",
       "75%    2.451975e+05  \n",
       "max    9.543639e+06  "
      ]
     },
     "execution_count": 28,
     "metadata": {},
     "output_type": "execute_result"
    }
   ],
   "source": [
    "# 수치형 컬럼의 기술 통계 요약\n",
    "df.describe()"
   ]
  },
  {
   "cell_type": "code",
   "execution_count": 29,
   "id": "570037f7-a4cb-4ff2-b15e-4cd26bf84aaf",
   "metadata": {},
   "outputs": [
    {
     "data": {
      "text/html": [
       "<div>\n",
       "<style scoped>\n",
       "    .dataframe tbody tr th:only-of-type {\n",
       "        vertical-align: middle;\n",
       "    }\n",
       "\n",
       "    .dataframe tbody tr th {\n",
       "        vertical-align: top;\n",
       "    }\n",
       "\n",
       "    .dataframe thead th {\n",
       "        text-align: right;\n",
       "    }\n",
       "</style>\n",
       "<table border=\"1\" class=\"dataframe\">\n",
       "  <thead>\n",
       "    <tr style=\"text-align: right;\">\n",
       "      <th></th>\n",
       "      <th>종목명</th>\n",
       "      <th>종목명.1</th>\n",
       "      <th>전일비</th>\n",
       "      <th>등락률</th>\n",
       "    </tr>\n",
       "  </thead>\n",
       "  <tbody>\n",
       "    <tr>\n",
       "      <th>count</th>\n",
       "      <td>138</td>\n",
       "      <td>138</td>\n",
       "      <td>138</td>\n",
       "      <td>138</td>\n",
       "    </tr>\n",
       "    <tr>\n",
       "      <th>unique</th>\n",
       "      <td>138</td>\n",
       "      <td>1</td>\n",
       "      <td>95</td>\n",
       "      <td>126</td>\n",
       "    </tr>\n",
       "    <tr>\n",
       "      <th>top</th>\n",
       "      <td>신성델타테크 *</td>\n",
       "      <td>테마 편입 사유</td>\n",
       "      <td>상승  750</td>\n",
       "      <td>+3.20%</td>\n",
       "    </tr>\n",
       "    <tr>\n",
       "      <th>freq</th>\n",
       "      <td>1</td>\n",
       "      <td>138</td>\n",
       "      <td>5</td>\n",
       "      <td>2</td>\n",
       "    </tr>\n",
       "  </tbody>\n",
       "</table>\n",
       "</div>"
      ],
      "text/plain": [
       "             종목명     종목명.1      전일비     등락률\n",
       "count        138       138      138     138\n",
       "unique       138         1       95     126\n",
       "top     신성델타테크 *  테마 편입 사유  상승  750  +3.20%\n",
       "freq           1       138        5       2"
      ]
     },
     "execution_count": 29,
     "metadata": {},
     "output_type": "execute_result"
    }
   ],
   "source": [
    "# 범주형 컬럼의 기술 통계 요약\n",
    "df.describe(include='O')"
   ]
  },
  {
   "cell_type": "code",
   "execution_count": 30,
   "id": "66927cfa-8894-45e6-8d57-029d9a5f21e0",
   "metadata": {},
   "outputs": [],
   "source": [
    "# 종목명.1 컬럼 제거\n",
    "df = df.drop('종목명.1',axis=1)"
   ]
  },
  {
   "cell_type": "code",
   "execution_count": 31,
   "id": "02221fe4-9c88-4ec8-8bef-7f6a8d13053a",
   "metadata": {},
   "outputs": [
    {
     "data": {
      "text/html": [
       "<div>\n",
       "<style scoped>\n",
       "    .dataframe tbody tr th:only-of-type {\n",
       "        vertical-align: middle;\n",
       "    }\n",
       "\n",
       "    .dataframe tbody tr th {\n",
       "        vertical-align: top;\n",
       "    }\n",
       "\n",
       "    .dataframe thead th {\n",
       "        text-align: right;\n",
       "    }\n",
       "</style>\n",
       "<table border=\"1\" class=\"dataframe\">\n",
       "  <thead>\n",
       "    <tr style=\"text-align: right;\">\n",
       "      <th></th>\n",
       "      <th>종목명</th>\n",
       "      <th>현재가</th>\n",
       "      <th>전일비</th>\n",
       "      <th>등락률</th>\n",
       "      <th>매수호가</th>\n",
       "      <th>매도호가</th>\n",
       "      <th>거래량</th>\n",
       "      <th>거래대금</th>\n",
       "      <th>전일거래량</th>\n",
       "    </tr>\n",
       "  </thead>\n",
       "  <tbody>\n",
       "    <tr>\n",
       "      <th>1</th>\n",
       "      <td>신성델타테크 *</td>\n",
       "      <td>96100.0</td>\n",
       "      <td>상승  16,500</td>\n",
       "      <td>+20.73%</td>\n",
       "      <td>90500.0</td>\n",
       "      <td>90700.0</td>\n",
       "      <td>735695.0</td>\n",
       "      <td>67062.0</td>\n",
       "      <td>449486.0</td>\n",
       "    </tr>\n",
       "  </tbody>\n",
       "</table>\n",
       "</div>"
      ],
      "text/plain": [
       "        종목명      현재가         전일비      등락률     매수호가     매도호가       거래량  \\\n",
       "1  신성델타테크 *  96100.0  상승  16,500  +20.73%  90500.0  90700.0  735695.0   \n",
       "\n",
       "      거래대금     전일거래량  \n",
       "1  67062.0  449486.0  "
      ]
     },
     "execution_count": 31,
     "metadata": {},
     "output_type": "execute_result"
    }
   ],
   "source": [
    "df.head(1)"
   ]
  },
  {
   "cell_type": "code",
   "execution_count": 32,
   "id": "41653b25-f12b-4b4d-a123-ddd026650ddb",
   "metadata": {},
   "outputs": [
    {
     "data": {
      "text/plain": [
       "<Axes: ylabel='종목명'>"
      ]
     },
     "execution_count": 32,
     "metadata": {},
     "output_type": "execute_result"
    },
    {
     "data": {
      "image/png": "[encoded data removed]",
      "text/plain": [
       "<Figure size 800x600 with 1 Axes>"
      ]
     },
     "metadata": {},
     "output_type": "display_data"
    }
   ],
   "source": [
    "# 특정 테마주 종목별 거래량 상위 20종목 바 차트를 이용해 시각화\n",
    "df[['종목명','거래량']].sort_values('거래량').tail(20).set_index('종목명').plot(kind='barh', figsize=(8,6))"
   ]
  },
  {
   "cell_type": "markdown",
   "id": "f67acd25-28e1-45c2-bf34-7244f5537e68",
   "metadata": {},
   "source": [
    "#### 종목명별 거래량 오름차순"
   ]
  },
  {
   "cell_type": "code",
   "execution_count": null,
   "id": "2bc84e03-a208-4c28-a382-d0b9c9fdb8ea",
   "metadata": {},
   "outputs": [],
   "source": [
    "# 종목명 별 거래량 오름차순\n",
    "df[['종목명','거래량']].sort_values('거래량')"
   ]
  },
  {
   "cell_type": "code",
   "execution_count": null,
   "id": "a090be46-071f-4827-9c57-b4a01495c8c9",
   "metadata": {},
   "outputs": [],
   "source": [
    "# 종목명별 거래량 오름차순 후 상위 20개 가져오기\n",
    "df[['종목명','거래량']].sort_values('거래량').tail(20)"
   ]
  },
  {
   "cell_type": "code",
   "execution_count": null,
   "id": "f2f033d4-e0ac-4cd3-b37c-c2f602ad87c2",
   "metadata": {},
   "outputs": [],
   "source": [
    "# 그 후 종목명을 인덱스로 이동하기 (차트의 x축을 설정하기 위함)\n",
    "df[['종목명','거래량']].sort_values('거래량').tail(20).set_index('종목명')"
   ]
  },
  {
   "cell_type": "code",
   "execution_count": 35,
   "id": "8fc1b691-57e1-422c-a6e2-61c24187a235",
   "metadata": {},
   "outputs": [
    {
     "data": {
      "text/plain": [
       "<Axes: ylabel='종목명'>"
      ]
     },
     "execution_count": 35,
     "metadata": {},
     "output_type": "execute_result"
    },
    {
     "data": {
      "image/png": "[encoded data removed]",
      "text/plain": [
       "<Figure size 800x600 with 1 Axes>"
      ]
     },
     "metadata": {},
     "output_type": "display_data"
    }
   ],
   "source": [
    "# barh차트 그리기\n",
    "df[['종목명','거래량']].sort_values('거래량').tail(20).set_index('종목명').plot(kind='barh', figsize=(8,6))"
   ]
  },
  {
   "cell_type": "code",
   "execution_count": null,
   "id": "afe3a7a6-1b23-4c59-bdfe-3ee0d6c0d61d",
   "metadata": {},
   "outputs": [],
   "source": []
  }
 ],
 "metadata": {
  "kernelspec": {
   "display_name": "Python 3 (ipykernel)",
   "language": "python",
   "name": "python3"
  },
  "language_info": {
   "codemirror_mode": {
    "name": "ipython",
    "version": 3
   },
   "file_extension": ".py",
   "mimetype": "text/x-python",
   "name": "python",
   "nbconvert_exporter": "python",
   "pygments_lexer": "ipython3",
   "version": "3.12.7"
  }
 },
 "nbformat": 4,
 "nbformat_minor": 5
}
