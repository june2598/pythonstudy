{
 "cells": [
  {
   "cell_type": "code",
   "execution_count": 1,
   "id": "e10a6dd3-a296-4237-9349-0eac44207d19",
   "metadata": {},
   "outputs": [],
   "source": [
    "import pandas as pd\n",
    "import numpy as np"
   ]
  },
  {
   "cell_type": "code",
   "execution_count": 2,
   "id": "e2263beb-a1d7-439f-ab05-8e709bc914dd",
   "metadata": {},
   "outputs": [],
   "source": [
    "# 시각화 패키지\n",
    "import matplotlib.pyplot as plt\n",
    "import seaborn as sns\n",
    "import koreanize_matplotlib\n",
    "from wordcloud import WordCloud"
   ]
  },
  {
   "cell_type": "code",
   "execution_count": 3,
   "id": "359cca6c-4659-412f-b864-075c5d11f10a",
   "metadata": {},
   "outputs": [],
   "source": [
    "# 모든 컬럼,행을 출력하도록 설정\n",
    "pd.set_option('display.max_columns', None) # None으로 설정하면 모든 컬럼 출력\n",
    "pd.set_option('display.max_rows', 50) #None으로 설정하면 모든 행 출력\n",
    "\n",
    "# 모든 열의 최대 너비를 설정\n",
    "pd.set_option('display.max_colwidth', None) #None으로 설정하면 모든 내용을 출력"
   ]
  },
  {
   "cell_type": "code",
   "execution_count": 4,
   "id": "0c92e032-66ba-4662-a2a5-6f6e0e4c8b91",
   "metadata": {},
   "outputs": [],
   "source": [
    "# 정규화\n",
    "import re"
   ]
  },
  {
   "cell_type": "code",
   "execution_count": 5,
   "id": "7676e190-42ed-4a71-8a6c-f2018c74b434",
   "metadata": {},
   "outputs": [
    {
     "name": "stdout",
     "output_type": "stream",
     "text": [
      "2024-12-27 16:48:40.029683\n"
     ]
    },
    {
     "data": {
      "text/plain": [
       "'2024-12-27'"
      ]
     },
     "execution_count": 5,
     "metadata": {},
     "output_type": "execute_result"
    }
   ],
   "source": [
    "# 날짜는 파이썬 표준 라이브러리 datetime 사용\n",
    "import datetime\n",
    "# 오늘 날짜 가져오기\n",
    "today = datetime.datetime.today()\n",
    "print(today)\n",
    "today = today.strftime('%Y-%m-%d')\n",
    "today"
   ]
  },
  {
   "cell_type": "code",
   "execution_count": 6,
   "id": "67be9202-2cdf-4e83-a63d-f7124d5ecd2e",
   "metadata": {},
   "outputs": [
    {
     "data": {
      "text/html": [
       "<div>\n",
       "<style scoped>\n",
       "    .dataframe tbody tr th:only-of-type {\n",
       "        vertical-align: middle;\n",
       "    }\n",
       "\n",
       "    .dataframe tbody tr th {\n",
       "        vertical-align: top;\n",
       "    }\n",
       "\n",
       "    .dataframe thead th {\n",
       "        text-align: right;\n",
       "    }\n",
       "</style>\n",
       "<table border=\"1\" class=\"dataframe\">\n",
       "  <thead>\n",
       "    <tr style=\"text-align: right;\">\n",
       "      <th></th>\n",
       "      <th>언론사</th>\n",
       "      <th>제목</th>\n",
       "      <th>내용</th>\n",
       "      <th>작성일시</th>\n",
       "    </tr>\n",
       "  </thead>\n",
       "  <tbody>\n",
       "    <tr>\n",
       "      <th>0</th>\n",
       "      <td>매일경제</td>\n",
       "      <td>‘오징어게임2’ 외신 혹평에...테마주 동반 폭락</td>\n",
       "      <td>\\n      사진 확대    ‘오징어 게임2’. 제공|넷플릭스  전 세계적 기대작 넷플릭스 ‘오징어 게임2’가 공개된 다음 날인 27일 장 초반 관련 종목들이 급락하고 있다.이날 오전 9시 20분 현재 아티스트스튜디오(200350)가 26.68% 급락 중이며, 아티스트유나이티드(321820)도 23.98% 하락하고 있다.아티스트스튜디오와 아티스트유나이티드는 시즌1에 이어 ‘오징어게임2’에서도 주연을 맡은 배우 이정재가 대주주로 있는 기업이다.또 ‘오징어게임2’의 영상 특수효과를 맡은 위지윅스튜디오(299900)는 20.00% 하락했고, 덱스터(206560)는 18.59% 내려 거래되고 있다.‘오징어게임’ 제작사인 싸이런픽쳐스에 투자한 쇼박스(086980)도 14.97% 급락을 면치 못하고 있다.지난 2021년 9월 공개돼 전 세계적으로 폭발적인 인기를 얻었던 ‘오징어 게임’의 후속작인 ‘오징어 게임2’는 지난 26일 오후 5시(한국시간) 넷플릭스를 통해 공개됐다.큰 기대 속에 베일을 벗은 ‘오징어게임2’에 대해 해외 주요 매체들은 “이야기가 정체돼있다’”, “날카로움을 잃었다”, “재미도 기발함도 없다”는 등 첫 시즌에 비해 실망스럽다는 반응을 보이고 있다.국내 시청자들도 대체로 시즌1만 못하다는 반응을 보이고 있으며 특히 그룹 빅뱅 출신 탑(최승현)의 오글거리는 연기에 혹평을 보내고 있다.시즌2에 이어지는 ‘오징어게임3’가 내년에 공개된다.\\n</td>\n",
       "      <td>2024-12-27 09:38:05</td>\n",
       "    </tr>\n",
       "  </tbody>\n",
       "</table>\n",
       "</div>"
      ],
      "text/plain": [
       "    언론사                           제목  \\\n",
       "0  매일경제  ‘오징어게임2’ 외신 혹평에...테마주 동반 폭락   \n",
       "\n",
       "                                                                                                                                                                                                                                                                                                                                                                                                                                                                                                                                                                                                                                                                                                                                     내용  \\\n",
       "0  \\n      사진 확대    ‘오징어 게임2’. 제공|넷플릭스  전 세계적 기대작 넷플릭스 ‘오징어 게임2’가 공개된 다음 날인 27일 장 초반 관련 종목들이 급락하고 있다.이날 오전 9시 20분 현재 아티스트스튜디오(200350)가 26.68% 급락 중이며, 아티스트유나이티드(321820)도 23.98% 하락하고 있다.아티스트스튜디오와 아티스트유나이티드는 시즌1에 이어 ‘오징어게임2’에서도 주연을 맡은 배우 이정재가 대주주로 있는 기업이다.또 ‘오징어게임2’의 영상 특수효과를 맡은 위지윅스튜디오(299900)는 20.00% 하락했고, 덱스터(206560)는 18.59% 내려 거래되고 있다.‘오징어게임’ 제작사인 싸이런픽쳐스에 투자한 쇼박스(086980)도 14.97% 급락을 면치 못하고 있다.지난 2021년 9월 공개돼 전 세계적으로 폭발적인 인기를 얻었던 ‘오징어 게임’의 후속작인 ‘오징어 게임2’는 지난 26일 오후 5시(한국시간) 넷플릭스를 통해 공개됐다.큰 기대 속에 베일을 벗은 ‘오징어게임2’에 대해 해외 주요 매체들은 “이야기가 정체돼있다’”, “날카로움을 잃었다”, “재미도 기발함도 없다”는 등 첫 시즌에 비해 실망스럽다는 반응을 보이고 있다.국내 시청자들도 대체로 시즌1만 못하다는 반응을 보이고 있으며 특히 그룹 빅뱅 출신 탑(최승현)의 오글거리는 연기에 혹평을 보내고 있다.시즌2에 이어지는 ‘오징어게임3’가 내년에 공개된다.\\n   \n",
       "\n",
       "                  작성일시  \n",
       "0  2024-12-27 09:38:05  "
      ]
     },
     "execution_count": 6,
     "metadata": {},
     "output_type": "execute_result"
    }
   ],
   "source": [
    "df = pd.read_csv(f'news_{today}.csv')\n",
    "df.head(1)"
   ]
  },
  {
   "cell_type": "markdown",
   "id": "b8d0b34a-d13e-4be9-9797-aed1d24efed6",
   "metadata": {},
   "source": [
    "#### CountVectorizer\n",
    "\n",
    "\n",
    "- 텍스트 데이터 전처리 도구로, 주로 텍스트 데이터를 수치형 데이터로 변환하는 데 사용\n",
    "- 단어의 빈도를 계산하여 문서-단어 행렬(Document-Term Matrix)을 생성\n",
    "\n",
    "1. 토큰화(Tokenization):\n",
    "    - 기본적으로 CountVectorizer는 공백을 기준으로 단어를 나눔\n",
    "2. 정규 표현식 사용:\n",
    "    - token_pattern 매개변수를 사용하여 정규 표현식을 정의할 수 있음. 이를 통해 특정 패턴에 맞는 단어만 추출\n",
    "3. 불용어 제거:\n",
    "    - stop_words 매개변수를 사용하여 불용어(의미가 없는 단어)를 제거\n",
    "4. n-그램(n-grams):\n",
    "    - ngram_range 매개변수를 사용하여 단어의 n-그램을 생성할 수 있음. 예를 들어, ngram_range=(1, 2)로 설정하면 단어와 2-그램(두 단어 조합)을 모두 포함\n",
    "5. 소문자 변환:\n",
    "    - 기본적으로 CountVectorizer는 모든 단어를 소문자로 변환하여 대소문자를 구분하지 않음\n"
   ]
  },
  {
   "cell_type": "code",
   "execution_count": 10,
   "id": "acbbe94e-4549-4cf8-b233-d22d03461d63",
   "metadata": {},
   "outputs": [
    {
     "data": {
      "text/plain": [
       "0              ‘오징어게임2’ 외신 혹평에...테마주 동반 폭락\n",
       "1        주가는 뒷걸음질인데 외국인은 산다?…‘게임주’에 쏠리는 시선\n",
       "2       두산에너빌리티, 국제핵비확산협력센터와 원전 수출 사업지원 협약\n",
       "3           “삼성전자, ‘이것’ 갖춰야 주가 반등 가능”…목표가↓\n",
       "4     “SOOP, 내년도 실적에 주목해야 할 때…서서히 매수 관점으로”\n",
       "                      ...                 \n",
       "95            코스피·코스닥 상승 출발…원·달러 환율 1458원대\n",
       "96           젠큐릭스, 자회사 지분 팔아 현금 확보 소식에 '上'\n",
       "97    \"TKG휴켐스, 내년 상반기까지 실적 반등 어려워…목표가↓\"-DB\n",
       "98     국내 정세불안, 항공업 영향 제한적 …\"대한항공 최선호주\"-한국\n",
       "99     \"중국 경기 부양 의지 확인…화장품·섬유의복 저점 매수 나서야\"\n",
       "Name: 제목, Length: 100, dtype: object"
      ]
     },
     "execution_count": 10,
     "metadata": {},
     "output_type": "execute_result"
    }
   ],
   "source": [
    "corpus = df['제목']\n",
    "corpus"
   ]
  },
  {
   "cell_type": "code",
   "execution_count": 11,
   "id": "797ba85e-7737-48e5-bde3-66ff4cad86ba",
   "metadata": {},
   "outputs": [],
   "source": [
    "from sklearn.feature_extraction.text import CountVectorizer"
   ]
  },
  {
   "cell_type": "code",
   "execution_count": 12,
   "id": "7ac70255-b7cd-46fb-ad45-eebd9160330f",
   "metadata": {},
   "outputs": [
    {
     "data": {
      "text/plain": [
       "\u001b[1;31mInit signature:\u001b[0m\n",
       "\u001b[0mCountVectorizer\u001b[0m\u001b[1;33m(\u001b[0m\u001b[1;33m\n",
       "\u001b[0m    \u001b[1;33m*\u001b[0m\u001b[1;33m,\u001b[0m\u001b[1;33m\n",
       "\u001b[0m    \u001b[0minput\u001b[0m\u001b[1;33m=\u001b[0m\u001b[1;34m'content'\u001b[0m\u001b[1;33m,\u001b[0m\u001b[1;33m\n",
       "\u001b[0m    \u001b[0mencoding\u001b[0m\u001b[1;33m=\u001b[0m\u001b[1;34m'utf-8'\u001b[0m\u001b[1;33m,\u001b[0m\u001b[1;33m\n",
       "\u001b[0m    \u001b[0mdecode_error\u001b[0m\u001b[1;33m=\u001b[0m\u001b[1;34m'strict'\u001b[0m\u001b[1;33m,\u001b[0m\u001b[1;33m\n",
       "\u001b[0m    \u001b[0mstrip_accents\u001b[0m\u001b[1;33m=\u001b[0m\u001b[1;32mNone\u001b[0m\u001b[1;33m,\u001b[0m\u001b[1;33m\n",
       "\u001b[0m    \u001b[0mlowercase\u001b[0m\u001b[1;33m=\u001b[0m\u001b[1;32mTrue\u001b[0m\u001b[1;33m,\u001b[0m\u001b[1;33m\n",
       "\u001b[0m    \u001b[0mpreprocessor\u001b[0m\u001b[1;33m=\u001b[0m\u001b[1;32mNone\u001b[0m\u001b[1;33m,\u001b[0m\u001b[1;33m\n",
       "\u001b[0m    \u001b[0mtokenizer\u001b[0m\u001b[1;33m=\u001b[0m\u001b[1;32mNone\u001b[0m\u001b[1;33m,\u001b[0m\u001b[1;33m\n",
       "\u001b[0m    \u001b[0mstop_words\u001b[0m\u001b[1;33m=\u001b[0m\u001b[1;32mNone\u001b[0m\u001b[1;33m,\u001b[0m\u001b[1;33m\n",
       "\u001b[0m    \u001b[0mtoken_pattern\u001b[0m\u001b[1;33m=\u001b[0m\u001b[1;34m'(?u)\\\\b\\\\w\\\\w+\\\\b'\u001b[0m\u001b[1;33m,\u001b[0m\u001b[1;33m\n",
       "\u001b[0m    \u001b[0mngram_range\u001b[0m\u001b[1;33m=\u001b[0m\u001b[1;33m(\u001b[0m\u001b[1;36m1\u001b[0m\u001b[1;33m,\u001b[0m \u001b[1;36m1\u001b[0m\u001b[1;33m)\u001b[0m\u001b[1;33m,\u001b[0m\u001b[1;33m\n",
       "\u001b[0m    \u001b[0manalyzer\u001b[0m\u001b[1;33m=\u001b[0m\u001b[1;34m'word'\u001b[0m\u001b[1;33m,\u001b[0m\u001b[1;33m\n",
       "\u001b[0m    \u001b[0mmax_df\u001b[0m\u001b[1;33m=\u001b[0m\u001b[1;36m1.0\u001b[0m\u001b[1;33m,\u001b[0m\u001b[1;33m\n",
       "\u001b[0m    \u001b[0mmin_df\u001b[0m\u001b[1;33m=\u001b[0m\u001b[1;36m1\u001b[0m\u001b[1;33m,\u001b[0m\u001b[1;33m\n",
       "\u001b[0m    \u001b[0mmax_features\u001b[0m\u001b[1;33m=\u001b[0m\u001b[1;32mNone\u001b[0m\u001b[1;33m,\u001b[0m\u001b[1;33m\n",
       "\u001b[0m    \u001b[0mvocabulary\u001b[0m\u001b[1;33m=\u001b[0m\u001b[1;32mNone\u001b[0m\u001b[1;33m,\u001b[0m\u001b[1;33m\n",
       "\u001b[0m    \u001b[0mbinary\u001b[0m\u001b[1;33m=\u001b[0m\u001b[1;32mFalse\u001b[0m\u001b[1;33m,\u001b[0m\u001b[1;33m\n",
       "\u001b[0m    \u001b[0mdtype\u001b[0m\u001b[1;33m=\u001b[0m\u001b[1;33m<\u001b[0m\u001b[1;32mclass\u001b[0m \u001b[1;34m'numpy.int64'\u001b[0m\u001b[1;33m>\u001b[0m\u001b[1;33m,\u001b[0m\u001b[1;33m\n",
       "\u001b[0m\u001b[1;33m)\u001b[0m\u001b[1;33m\u001b[0m\u001b[1;33m\u001b[0m\u001b[0m\n",
       "\u001b[1;31mDocstring:\u001b[0m     \n",
       "Convert a collection of text documents to a matrix of token counts.\n",
       "\n",
       "This implementation produces a sparse representation of the counts using\n",
       "scipy.sparse.csr_matrix.\n",
       "\n",
       "If you do not provide an a-priori dictionary and you do not use an analyzer\n",
       "that does some kind of feature selection then the number of features will\n",
       "be equal to the vocabulary size found by analyzing the data.\n",
       "\n",
       "For an efficiency comparison of the different feature extractors, see\n",
       ":ref:`sphx_glr_auto_examples_text_plot_hashing_vs_dict_vectorizer.py`.\n",
       "\n",
       "Read more in the :ref:`User Guide <text_feature_extraction>`.\n",
       "\n",
       "Parameters\n",
       "----------\n",
       "input : {'filename', 'file', 'content'}, default='content'\n",
       "    - If `'filename'`, the sequence passed as an argument to fit is\n",
       "      expected to be a list of filenames that need reading to fetch\n",
       "      the raw content to analyze.\n",
       "\n",
       "    - If `'file'`, the sequence items must have a 'read' method (file-like\n",
       "      object) that is called to fetch the bytes in memory.\n",
       "\n",
       "    - If `'content'`, the input is expected to be a sequence of items that\n",
       "      can be of type string or byte.\n",
       "\n",
       "encoding : str, default='utf-8'\n",
       "    If bytes or files are given to analyze, this encoding is used to\n",
       "    decode.\n",
       "\n",
       "decode_error : {'strict', 'ignore', 'replace'}, default='strict'\n",
       "    Instruction on what to do if a byte sequence is given to analyze that\n",
       "    contains characters not of the given `encoding`. By default, it is\n",
       "    'strict', meaning that a UnicodeDecodeError will be raised. Other\n",
       "    values are 'ignore' and 'replace'.\n",
       "\n",
       "strip_accents : {'ascii', 'unicode'} or callable, default=None\n",
       "    Remove accents and perform other character normalization\n",
       "    during the preprocessing step.\n",
       "    'ascii' is a fast method that only works on characters that have\n",
       "    a direct ASCII mapping.\n",
       "    'unicode' is a slightly slower method that works on any characters.\n",
       "    None (default) means no character normalization is performed.\n",
       "\n",
       "    Both 'ascii' and 'unicode' use NFKD normalization from\n",
       "    :func:`unicodedata.normalize`.\n",
       "\n",
       "lowercase : bool, default=True\n",
       "    Convert all characters to lowercase before tokenizing.\n",
       "\n",
       "preprocessor : callable, default=None\n",
       "    Override the preprocessing (strip_accents and lowercase) stage while\n",
       "    preserving the tokenizing and n-grams generation steps.\n",
       "    Only applies if ``analyzer`` is not callable.\n",
       "\n",
       "tokenizer : callable, default=None\n",
       "    Override the string tokenization step while preserving the\n",
       "    preprocessing and n-grams generation steps.\n",
       "    Only applies if ``analyzer == 'word'``.\n",
       "\n",
       "stop_words : {'english'}, list, default=None\n",
       "    If 'english', a built-in stop word list for English is used.\n",
       "    There are several known issues with 'english' and you should\n",
       "    consider an alternative (see :ref:`stop_words`).\n",
       "\n",
       "    If a list, that list is assumed to contain stop words, all of which\n",
       "    will be removed from the resulting tokens.\n",
       "    Only applies if ``analyzer == 'word'``.\n",
       "\n",
       "    If None, no stop words will be used. In this case, setting `max_df`\n",
       "    to a higher value, such as in the range (0.7, 1.0), can automatically detect\n",
       "    and filter stop words based on intra corpus document frequency of terms.\n",
       "\n",
       "token_pattern : str or None, default=r\"(?u)\\\\b\\\\w\\\\w+\\\\b\"\n",
       "    Regular expression denoting what constitutes a \"token\", only used\n",
       "    if ``analyzer == 'word'``. The default regexp select tokens of 2\n",
       "    or more alphanumeric characters (punctuation is completely ignored\n",
       "    and always treated as a token separator).\n",
       "\n",
       "    If there is a capturing group in token_pattern then the\n",
       "    captured group content, not the entire match, becomes the token.\n",
       "    At most one capturing group is permitted.\n",
       "\n",
       "ngram_range : tuple (min_n, max_n), default=(1, 1)\n",
       "    The lower and upper boundary of the range of n-values for different\n",
       "    word n-grams or char n-grams to be extracted. All values of n such\n",
       "    such that min_n <= n <= max_n will be used. For example an\n",
       "    ``ngram_range`` of ``(1, 1)`` means only unigrams, ``(1, 2)`` means\n",
       "    unigrams and bigrams, and ``(2, 2)`` means only bigrams.\n",
       "    Only applies if ``analyzer`` is not callable.\n",
       "\n",
       "analyzer : {'word', 'char', 'char_wb'} or callable, default='word'\n",
       "    Whether the feature should be made of word n-gram or character\n",
       "    n-grams.\n",
       "    Option 'char_wb' creates character n-grams only from text inside\n",
       "    word boundaries; n-grams at the edges of words are padded with space.\n",
       "\n",
       "    If a callable is passed it is used to extract the sequence of features\n",
       "    out of the raw, unprocessed input.\n",
       "\n",
       "    .. versionchanged:: 0.21\n",
       "\n",
       "    Since v0.21, if ``input`` is ``filename`` or ``file``, the data is\n",
       "    first read from the file and then passed to the given callable\n",
       "    analyzer.\n",
       "\n",
       "max_df : float in range [0.0, 1.0] or int, default=1.0\n",
       "    When building the vocabulary ignore terms that have a document\n",
       "    frequency strictly higher than the given threshold (corpus-specific\n",
       "    stop words).\n",
       "    If float, the parameter represents a proportion of documents, integer\n",
       "    absolute counts.\n",
       "    This parameter is ignored if vocabulary is not None.\n",
       "\n",
       "min_df : float in range [0.0, 1.0] or int, default=1\n",
       "    When building the vocabulary ignore terms that have a document\n",
       "    frequency strictly lower than the given threshold. This value is also\n",
       "    called cut-off in the literature.\n",
       "    If float, the parameter represents a proportion of documents, integer\n",
       "    absolute counts.\n",
       "    This parameter is ignored if vocabulary is not None.\n",
       "\n",
       "max_features : int, default=None\n",
       "    If not None, build a vocabulary that only consider the top\n",
       "    `max_features` ordered by term frequency across the corpus.\n",
       "    Otherwise, all features are used.\n",
       "\n",
       "    This parameter is ignored if vocabulary is not None.\n",
       "\n",
       "vocabulary : Mapping or iterable, default=None\n",
       "    Either a Mapping (e.g., a dict) where keys are terms and values are\n",
       "    indices in the feature matrix, or an iterable over terms. If not\n",
       "    given, a vocabulary is determined from the input documents. Indices\n",
       "    in the mapping should not be repeated and should not have any gap\n",
       "    between 0 and the largest index.\n",
       "\n",
       "binary : bool, default=False\n",
       "    If True, all non zero counts are set to 1. This is useful for discrete\n",
       "    probabilistic models that model binary events rather than integer\n",
       "    counts.\n",
       "\n",
       "dtype : dtype, default=np.int64\n",
       "    Type of the matrix returned by fit_transform() or transform().\n",
       "\n",
       "Attributes\n",
       "----------\n",
       "vocabulary_ : dict\n",
       "    A mapping of terms to feature indices.\n",
       "\n",
       "fixed_vocabulary_ : bool\n",
       "    True if a fixed vocabulary of term to indices mapping\n",
       "    is provided by the user.\n",
       "\n",
       "See Also\n",
       "--------\n",
       "HashingVectorizer : Convert a collection of text documents to a\n",
       "    matrix of token counts.\n",
       "\n",
       "TfidfVectorizer : Convert a collection of raw documents to a matrix\n",
       "    of TF-IDF features.\n",
       "\n",
       "Examples\n",
       "--------\n",
       ">>> from sklearn.feature_extraction.text import CountVectorizer\n",
       ">>> corpus = [\n",
       "...     'This is the first document.',\n",
       "...     'This document is the second document.',\n",
       "...     'And this is the third one.',\n",
       "...     'Is this the first document?',\n",
       "... ]\n",
       ">>> vectorizer = CountVectorizer()\n",
       ">>> X = vectorizer.fit_transform(corpus)\n",
       ">>> vectorizer.get_feature_names_out()\n",
       "array(['and', 'document', 'first', 'is', 'one', 'second', 'the', 'third',\n",
       "       'this'], ...)\n",
       ">>> print(X.toarray())\n",
       "[[0 1 1 1 0 0 1 0 1]\n",
       " [0 2 0 1 0 1 1 0 1]\n",
       " [1 0 0 1 1 0 1 1 1]\n",
       " [0 1 1 1 0 0 1 0 1]]\n",
       ">>> vectorizer2 = CountVectorizer(analyzer='word', ngram_range=(2, 2))\n",
       ">>> X2 = vectorizer2.fit_transform(corpus)\n",
       ">>> vectorizer2.get_feature_names_out()\n",
       "array(['and this', 'document is', 'first document', 'is the', 'is this',\n",
       "       'second document', 'the first', 'the second', 'the third', 'third one',\n",
       "       'this document', 'this is', 'this the'], ...)\n",
       " >>> print(X2.toarray())\n",
       " [[0 0 1 1 0 0 1 0 0 0 0 1 0]\n",
       " [0 1 0 1 0 1 0 1 0 0 1 0 0]\n",
       " [1 0 0 1 0 0 0 0 1 1 0 1 0]\n",
       " [0 0 1 0 1 0 1 0 0 0 0 0 1]]\n",
       "\u001b[1;31mFile:\u001b[0m           d:\\kdt\\anaconda3\\lib\\site-packages\\sklearn\\feature_extraction\\text.py\n",
       "\u001b[1;31mType:\u001b[0m           type\n",
       "\u001b[1;31mSubclasses:\u001b[0m     TfidfVectorizer"
      ]
     },
     "metadata": {},
     "output_type": "display_data"
    }
   ],
   "source": [
    "CountVectorizer?"
   ]
  },
  {
   "cell_type": "markdown",
   "id": "84d3836d-ebef-41ad-aa58-2fbc448a11fa",
   "metadata": {},
   "source": [
    "\n",
    "#### 매개 변수\n",
    "\n",
    "- analyzer : 단어, 문자 단위의 벡터화 방법 정의\n",
    "- ngram_range : BOW 단위 수 (1, 3) 이라면 1개~3개까지 토큰을 묶어서 벡터화\n",
    "- max_df : 어휘를 작성할 때 문서 빈도가 주어진 임계값보다 높은 용어(말뭉치 관련 불용어)는 제외 (기본값=1.0)\n",
    "  - max_df = 0.90 : 문서의 90% 이상에 나타나는 단어 제외\n",
    "  - max_df = 10 : 10개 이상의 문서에 나타나는 단어 제외\n",
    "- min_df : 어휘를 작성할 때 문서 빈도가 주어진 임계값보다 낮은 용어는 제외합니다. 컷오프라고도 합니다.(기본값=1.0)\n",
    "  - min_df = 0.01 : 문서의 1% 미만으로 나타나는 단어 제외\n",
    "  - min_df = 10 : 문서에 10개 미만으로 나타나는 단어 제외\n",
    "- stop_words : 불용어 정의\n",
    "- max_features : 벡터라이저가 학습할 어휘의 양을 제한, corpus중 빈도가 가장 높은 순으로 해당 개수만큼만 추출\n"
   ]
  },
  {
   "cell_type": "code",
   "execution_count": 13,
   "id": "76c5c635-69ad-440a-8c7e-be0db6fd7b00",
   "metadata": {},
   "outputs": [],
   "source": [
    "# 공백을 중심으로 토큰화하고, 빈도수 확인\n",
    "cvect = CountVectorizer(max_df=5,min_df=2, ngram_range=(1,2))"
   ]
  },
  {
   "cell_type": "markdown",
   "id": "c3bb24f8-d207-4ce1-bec2-5bb12200c02d",
   "metadata": {},
   "source": [
    "#### fit, transform, fit_transfrom의 차이점\n",
    "- fit(): 원시 문서에 있는 모든 토큰의 어휘 사전을 배웁니다.\n",
    "- transform(): 문서를 문서 용어 매트릭스로 변환합니다. transform 이후엔 매트릭스로 변환되어 숫자형태로 변경됩니다.\n",
    "- fit_transform(): 어휘 사전을 배우고 문서 용어 매트릭스를 반환합니다.\n",
    "fit 다음에 변환이 오는 것과 동일하지만 더 효율적으로 구현됩니다.\n"
   ]
  },
  {
   "cell_type": "code",
   "execution_count": 14,
   "id": "b76fa02f-dc96-4354-9867-df0d464985d5",
   "metadata": {},
   "outputs": [
    {
     "data": {
      "text/plain": [
       "<100x115 sparse matrix of type '<class 'numpy.int64'>'\n",
       "\twith 268 stored elements in Compressed Sparse Row format>"
      ]
     },
     "execution_count": 14,
     "metadata": {},
     "output_type": "execute_result"
    }
   ],
   "source": [
    "X = cvect.fit_transform(corpus)\n",
    "X"
   ]
  },
  {
   "cell_type": "code",
   "execution_count": 15,
   "id": "40a514c0-6936-4ee0-bacd-50fcd8c2a7eb",
   "metadata": {},
   "outputs": [
    {
     "data": {
      "text/plain": [
       "{'오징어게임2': 59,\n",
       " '혹평에': 109,\n",
       " '테마주': 95,\n",
       " '혹평에 테마주': 110,\n",
       " '주가는': 80,\n",
       " '외국인은': 62,\n",
       " '게임주': 15,\n",
       " '삼성전자': 45,\n",
       " '주가': 78,\n",
       " '반등': 40,\n",
       " '목표가': 39,\n",
       " '주가 반등': 79,\n",
       " '알리': 55,\n",
       " 'g마켓': 6,\n",
       " '키워': 94,\n",
       " '현대차': 108,\n",
       " '단독': 28,\n",
       " '신세계': 53,\n",
       " '맞손': 37,\n",
       " '규모': 20,\n",
       " '단독 신세계': 29,\n",
       " '젠큐릭스': 74,\n",
       " '넵튠': 25,\n",
       " 'hd현대중공업': 7,\n",
       " '대신': 32,\n",
       " '프리미엄': 101,\n",
       " '독자노선': 34,\n",
       " '전기차': 70,\n",
       " '수혜': 51,\n",
       " '매도': 38,\n",
       " 'jkl파트너스': 8,\n",
       " '8000억': 3,\n",
       " '펀드': 100,\n",
       " '설립': 47,\n",
       " 'jkl파트너스 8000억': 9,\n",
       " '외국인': 61,\n",
       " '자금': 67,\n",
       " '지마켓': 85,\n",
       " '김병환': 23,\n",
       " '밸류업': 42,\n",
       " '김병환 밸류업': 24,\n",
       " '합작': 106,\n",
       " '체결': 87,\n",
       " '주식': 82,\n",
       " '초고수는': 88,\n",
       " '지금': 84,\n",
       " '주식 초고수는': 83,\n",
       " '초고수는 지금': 89,\n",
       " '올해': 60,\n",
       " '가장': 13,\n",
       " '종목은': 76,\n",
       " '엔비디아': 58,\n",
       " '종목은 엔비디아': 77,\n",
       " '강세': 14,\n",
       " '대신파이낸셜그룹': 33,\n",
       " '괴산군': 19,\n",
       " '성금': 48,\n",
       " '전달': 71,\n",
       " '성금 전달': 49,\n",
       " '금융위': 21,\n",
       " '러브콜': 35,\n",
       " '받은': 41,\n",
       " '토스증권': 96,\n",
       " 'mbk': 10,\n",
       " '고려아연': 17,\n",
       " 'mbk 고려아연': 11,\n",
       " '이정재': 65,\n",
       " '3년째': 2,\n",
       " '다시': 27,\n",
       " '하락': 102,\n",
       " '전환': 73,\n",
       " '하락 전환': 103,\n",
       " 'mk시그널': 12,\n",
       " '공급': 18,\n",
       " '소식에': 50,\n",
       " '한화오션': 105,\n",
       " 'etf': 5,\n",
       " '상장': 46,\n",
       " '이후': 66,\n",
       " '시장': 52,\n",
       " '본격화': 43,\n",
       " '획득': 114,\n",
       " '자회사': 68,\n",
       " '해외': 107,\n",
       " '출시': 91,\n",
       " '고객사': 16,\n",
       " '전망': 72,\n",
       " 'cj대한통운': 4,\n",
       " '이마트': 63,\n",
       " '투자': 97,\n",
       " '조정': 75,\n",
       " '장중': 69,\n",
       " '환율 장중': 113,\n",
       " '주목': 81,\n",
       " '실적': 54,\n",
       " '알리바바와': 56,\n",
       " '어려워': 57,\n",
       " '한국': 104,\n",
       " '산타랠리': 44,\n",
       " '혼조': 111,\n",
       " '최고가': 90,\n",
       " '뉴욕증시': 26,\n",
       " '마켓pro': 36,\n",
       " '트럼프': 98,\n",
       " '2기': 1,\n",
       " '기회': 22,\n",
       " '트럼프 2기': 99,\n",
       " '1460원': 0,\n",
       " '확보': 112,\n",
       " '이어': 64,\n",
       " '코스닥 상장': 92,\n",
       " '달러': 30,\n",
       " '달러 환율': 31,\n",
       " '코스피 코스닥': 93,\n",
       " '지분': 86}"
      ]
     },
     "execution_count": 15,
     "metadata": {},
     "output_type": "execute_result"
    }
   ],
   "source": [
    "# 단어사전 확인\n",
    "# 단어사전은 {'단어' : 인덱스번호 }\n",
    "cvect.vocabulary_"
   ]
  },
  {
   "cell_type": "code",
   "execution_count": 16,
   "id": "bf4e457f-a118-4971-8a02-83eb20f70a84",
   "metadata": {},
   "outputs": [
    {
     "data": {
      "text/plain": [
       "array([[0, 0, 0, ..., 0, 0, 0],\n",
       "       [0, 0, 0, ..., 0, 0, 0],\n",
       "       [0, 0, 0, ..., 0, 0, 0],\n",
       "       ...,\n",
       "       [0, 0, 0, ..., 0, 0, 0],\n",
       "       [0, 0, 0, ..., 0, 0, 0],\n",
       "       [0, 0, 0, ..., 0, 0, 0]], dtype=int64)"
      ]
     },
     "execution_count": 16,
     "metadata": {},
     "output_type": "execute_result"
    }
   ],
   "source": [
    "X.toarray()"
   ]
  },
  {
   "cell_type": "code",
   "execution_count": 17,
   "id": "956e0c45-540d-476c-847a-6bff1d52a12d",
   "metadata": {},
   "outputs": [
    {
     "data": {
      "text/plain": [
       "array(['1460원', '2기', '3년째', '8000억', 'cj대한통운', 'etf', 'g마켓', 'hd현대중공업',\n",
       "       'jkl파트너스', 'jkl파트너스 8000억', 'mbk', 'mbk 고려아연', 'mk시그널', '가장', '강세',\n",
       "       '게임주', '고객사', '고려아연', '공급', '괴산군', '규모', '금융위', '기회', '김병환',\n",
       "       '김병환 밸류업', '넵튠', '뉴욕증시', '다시', '단독', '단독 신세계', '달러', '달러 환율', '대신',\n",
       "       '대신파이낸셜그룹', '독자노선', '러브콜', '마켓pro', '맞손', '매도', '목표가', '반등', '받은',\n",
       "       '밸류업', '본격화', '산타랠리', '삼성전자', '상장', '설립', '성금', '성금 전달', '소식에',\n",
       "       '수혜', '시장', '신세계', '실적', '알리', '알리바바와', '어려워', '엔비디아', '오징어게임2',\n",
       "       '올해', '외국인', '외국인은', '이마트', '이어', '이정재', '이후', '자금', '자회사', '장중',\n",
       "       '전기차', '전달', '전망', '전환', '젠큐릭스', '조정', '종목은', '종목은 엔비디아', '주가',\n",
       "       '주가 반등', '주가는', '주목', '주식', '주식 초고수는', '지금', '지마켓', '지분', '체결',\n",
       "       '초고수는', '초고수는 지금', '최고가', '출시', '코스닥 상장', '코스피 코스닥', '키워', '테마주',\n",
       "       '토스증권', '투자', '트럼프', '트럼프 2기', '펀드', '프리미엄', '하락', '하락 전환', '한국',\n",
       "       '한화오션', '합작', '해외', '현대차', '혹평에', '혹평에 테마주', '혼조', '확보', '환율 장중',\n",
       "       '획득'], dtype=object)"
      ]
     },
     "execution_count": 17,
     "metadata": {},
     "output_type": "execute_result"
    }
   ],
   "source": [
    "cvect.get_feature_names_out()"
   ]
  },
  {
   "cell_type": "code",
   "execution_count": 18,
   "id": "75d1a9b7-8dc5-484a-a987-208507102c9d",
   "metadata": {},
   "outputs": [
    {
     "data": {
      "text/plain": [
       "115"
      ]
     },
     "execution_count": 18,
     "metadata": {},
     "output_type": "execute_result"
    }
   ],
   "source": [
    "cvect.get_feature_names_out().size"
   ]
  },
  {
   "cell_type": "code",
   "execution_count": 19,
   "id": "466ce37a-9366-41b3-94d5-42bf70c02c1b",
   "metadata": {},
   "outputs": [],
   "source": [
    "# n번 등장한 단어는 n, 아닌 단어는 0\n",
    "tmp = pd.DataFrame(X.toarray(), columns = cvect.get_feature_names_out())"
   ]
  },
  {
   "cell_type": "code",
   "execution_count": 20,
   "id": "f58cf761-0ca0-4cac-9100-1ab739eb8331",
   "metadata": {},
   "outputs": [
    {
     "data": {
      "text/html": [
       "<div>\n",
       "<style scoped>\n",
       "    .dataframe tbody tr th:only-of-type {\n",
       "        vertical-align: middle;\n",
       "    }\n",
       "\n",
       "    .dataframe tbody tr th {\n",
       "        vertical-align: top;\n",
       "    }\n",
       "\n",
       "    .dataframe thead th {\n",
       "        text-align: right;\n",
       "    }\n",
       "</style>\n",
       "<table border=\"1\" class=\"dataframe\">\n",
       "  <thead>\n",
       "    <tr style=\"text-align: right;\">\n",
       "      <th></th>\n",
       "      <th>1460원</th>\n",
       "      <th>2기</th>\n",
       "      <th>3년째</th>\n",
       "      <th>8000억</th>\n",
       "      <th>cj대한통운</th>\n",
       "      <th>etf</th>\n",
       "      <th>g마켓</th>\n",
       "      <th>hd현대중공업</th>\n",
       "      <th>jkl파트너스</th>\n",
       "      <th>jkl파트너스 8000억</th>\n",
       "      <th>mbk</th>\n",
       "      <th>mbk 고려아연</th>\n",
       "      <th>mk시그널</th>\n",
       "      <th>가장</th>\n",
       "      <th>강세</th>\n",
       "      <th>게임주</th>\n",
       "      <th>고객사</th>\n",
       "      <th>고려아연</th>\n",
       "      <th>공급</th>\n",
       "      <th>괴산군</th>\n",
       "      <th>규모</th>\n",
       "      <th>금융위</th>\n",
       "      <th>기회</th>\n",
       "      <th>김병환</th>\n",
       "      <th>김병환 밸류업</th>\n",
       "      <th>넵튠</th>\n",
       "      <th>뉴욕증시</th>\n",
       "      <th>다시</th>\n",
       "      <th>단독</th>\n",
       "      <th>단독 신세계</th>\n",
       "      <th>달러</th>\n",
       "      <th>달러 환율</th>\n",
       "      <th>대신</th>\n",
       "      <th>대신파이낸셜그룹</th>\n",
       "      <th>독자노선</th>\n",
       "      <th>러브콜</th>\n",
       "      <th>마켓pro</th>\n",
       "      <th>맞손</th>\n",
       "      <th>매도</th>\n",
       "      <th>목표가</th>\n",
       "      <th>반등</th>\n",
       "      <th>받은</th>\n",
       "      <th>밸류업</th>\n",
       "      <th>본격화</th>\n",
       "      <th>산타랠리</th>\n",
       "      <th>삼성전자</th>\n",
       "      <th>상장</th>\n",
       "      <th>설립</th>\n",
       "      <th>성금</th>\n",
       "      <th>성금 전달</th>\n",
       "      <th>소식에</th>\n",
       "      <th>수혜</th>\n",
       "      <th>시장</th>\n",
       "      <th>신세계</th>\n",
       "      <th>실적</th>\n",
       "      <th>알리</th>\n",
       "      <th>알리바바와</th>\n",
       "      <th>어려워</th>\n",
       "      <th>엔비디아</th>\n",
       "      <th>오징어게임2</th>\n",
       "      <th>올해</th>\n",
       "      <th>외국인</th>\n",
       "      <th>외국인은</th>\n",
       "      <th>이마트</th>\n",
       "      <th>이어</th>\n",
       "      <th>이정재</th>\n",
       "      <th>이후</th>\n",
       "      <th>자금</th>\n",
       "      <th>자회사</th>\n",
       "      <th>장중</th>\n",
       "      <th>전기차</th>\n",
       "      <th>전달</th>\n",
       "      <th>전망</th>\n",
       "      <th>전환</th>\n",
       "      <th>젠큐릭스</th>\n",
       "      <th>조정</th>\n",
       "      <th>종목은</th>\n",
       "      <th>종목은 엔비디아</th>\n",
       "      <th>주가</th>\n",
       "      <th>주가 반등</th>\n",
       "      <th>주가는</th>\n",
       "      <th>주목</th>\n",
       "      <th>주식</th>\n",
       "      <th>주식 초고수는</th>\n",
       "      <th>지금</th>\n",
       "      <th>지마켓</th>\n",
       "      <th>지분</th>\n",
       "      <th>체결</th>\n",
       "      <th>초고수는</th>\n",
       "      <th>초고수는 지금</th>\n",
       "      <th>최고가</th>\n",
       "      <th>출시</th>\n",
       "      <th>코스닥 상장</th>\n",
       "      <th>코스피 코스닥</th>\n",
       "      <th>키워</th>\n",
       "      <th>테마주</th>\n",
       "      <th>토스증권</th>\n",
       "      <th>투자</th>\n",
       "      <th>트럼프</th>\n",
       "      <th>트럼프 2기</th>\n",
       "      <th>펀드</th>\n",
       "      <th>프리미엄</th>\n",
       "      <th>하락</th>\n",
       "      <th>하락 전환</th>\n",
       "      <th>한국</th>\n",
       "      <th>한화오션</th>\n",
       "      <th>합작</th>\n",
       "      <th>해외</th>\n",
       "      <th>현대차</th>\n",
       "      <th>혹평에</th>\n",
       "      <th>혹평에 테마주</th>\n",
       "      <th>혼조</th>\n",
       "      <th>확보</th>\n",
       "      <th>환율 장중</th>\n",
       "      <th>획득</th>\n",
       "    </tr>\n",
       "  </thead>\n",
       "  <tbody>\n",
       "    <tr>\n",
       "      <th>0</th>\n",
       "      <td>0</td>\n",
       "      <td>0</td>\n",
       "      <td>0</td>\n",
       "      <td>0</td>\n",
       "      <td>0</td>\n",
       "      <td>0</td>\n",
       "      <td>0</td>\n",
       "      <td>0</td>\n",
       "      <td>0</td>\n",
       "      <td>0</td>\n",
       "      <td>0</td>\n",
       "      <td>0</td>\n",
       "      <td>0</td>\n",
       "      <td>0</td>\n",
       "      <td>0</td>\n",
       "      <td>0</td>\n",
       "      <td>0</td>\n",
       "      <td>0</td>\n",
       "      <td>0</td>\n",
       "      <td>0</td>\n",
       "      <td>0</td>\n",
       "      <td>0</td>\n",
       "      <td>0</td>\n",
       "      <td>0</td>\n",
       "      <td>0</td>\n",
       "      <td>0</td>\n",
       "      <td>0</td>\n",
       "      <td>0</td>\n",
       "      <td>0</td>\n",
       "      <td>0</td>\n",
       "      <td>0</td>\n",
       "      <td>0</td>\n",
       "      <td>0</td>\n",
       "      <td>0</td>\n",
       "      <td>0</td>\n",
       "      <td>0</td>\n",
       "      <td>0</td>\n",
       "      <td>0</td>\n",
       "      <td>0</td>\n",
       "      <td>0</td>\n",
       "      <td>0</td>\n",
       "      <td>0</td>\n",
       "      <td>0</td>\n",
       "      <td>0</td>\n",
       "      <td>0</td>\n",
       "      <td>0</td>\n",
       "      <td>0</td>\n",
       "      <td>0</td>\n",
       "      <td>0</td>\n",
       "      <td>0</td>\n",
       "      <td>0</td>\n",
       "      <td>0</td>\n",
       "      <td>0</td>\n",
       "      <td>0</td>\n",
       "      <td>0</td>\n",
       "      <td>0</td>\n",
       "      <td>0</td>\n",
       "      <td>0</td>\n",
       "      <td>0</td>\n",
       "      <td>1</td>\n",
       "      <td>0</td>\n",
       "      <td>0</td>\n",
       "      <td>0</td>\n",
       "      <td>0</td>\n",
       "      <td>0</td>\n",
       "      <td>0</td>\n",
       "      <td>0</td>\n",
       "      <td>0</td>\n",
       "      <td>0</td>\n",
       "      <td>0</td>\n",
       "      <td>0</td>\n",
       "      <td>0</td>\n",
       "      <td>0</td>\n",
       "      <td>0</td>\n",
       "      <td>0</td>\n",
       "      <td>0</td>\n",
       "      <td>0</td>\n",
       "      <td>0</td>\n",
       "      <td>0</td>\n",
       "      <td>0</td>\n",
       "      <td>0</td>\n",
       "      <td>0</td>\n",
       "      <td>0</td>\n",
       "      <td>0</td>\n",
       "      <td>0</td>\n",
       "      <td>0</td>\n",
       "      <td>0</td>\n",
       "      <td>0</td>\n",
       "      <td>0</td>\n",
       "      <td>0</td>\n",
       "      <td>0</td>\n",
       "      <td>0</td>\n",
       "      <td>0</td>\n",
       "      <td>0</td>\n",
       "      <td>0</td>\n",
       "      <td>1</td>\n",
       "      <td>0</td>\n",
       "      <td>0</td>\n",
       "      <td>0</td>\n",
       "      <td>0</td>\n",
       "      <td>0</td>\n",
       "      <td>0</td>\n",
       "      <td>0</td>\n",
       "      <td>0</td>\n",
       "      <td>0</td>\n",
       "      <td>0</td>\n",
       "      <td>0</td>\n",
       "      <td>0</td>\n",
       "      <td>0</td>\n",
       "      <td>1</td>\n",
       "      <td>1</td>\n",
       "      <td>0</td>\n",
       "      <td>0</td>\n",
       "      <td>0</td>\n",
       "      <td>0</td>\n",
       "    </tr>\n",
       "    <tr>\n",
       "      <th>1</th>\n",
       "      <td>0</td>\n",
       "      <td>0</td>\n",
       "      <td>0</td>\n",
       "      <td>0</td>\n",
       "      <td>0</td>\n",
       "      <td>0</td>\n",
       "      <td>0</td>\n",
       "      <td>0</td>\n",
       "      <td>0</td>\n",
       "      <td>0</td>\n",
       "      <td>0</td>\n",
       "      <td>0</td>\n",
       "      <td>0</td>\n",
       "      <td>0</td>\n",
       "      <td>0</td>\n",
       "      <td>1</td>\n",
       "      <td>0</td>\n",
       "      <td>0</td>\n",
       "      <td>0</td>\n",
       "      <td>0</td>\n",
       "      <td>0</td>\n",
       "      <td>0</td>\n",
       "      <td>0</td>\n",
       "      <td>0</td>\n",
       "      <td>0</td>\n",
       "      <td>0</td>\n",
       "      <td>0</td>\n",
       "      <td>0</td>\n",
       "      <td>0</td>\n",
       "      <td>0</td>\n",
       "      <td>0</td>\n",
       "      <td>0</td>\n",
       "      <td>0</td>\n",
       "      <td>0</td>\n",
       "      <td>0</td>\n",
       "      <td>0</td>\n",
       "      <td>0</td>\n",
       "      <td>0</td>\n",
       "      <td>0</td>\n",
       "      <td>0</td>\n",
       "      <td>0</td>\n",
       "      <td>0</td>\n",
       "      <td>0</td>\n",
       "      <td>0</td>\n",
       "      <td>0</td>\n",
       "      <td>0</td>\n",
       "      <td>0</td>\n",
       "      <td>0</td>\n",
       "      <td>0</td>\n",
       "      <td>0</td>\n",
       "      <td>0</td>\n",
       "      <td>0</td>\n",
       "      <td>0</td>\n",
       "      <td>0</td>\n",
       "      <td>0</td>\n",
       "      <td>0</td>\n",
       "      <td>0</td>\n",
       "      <td>0</td>\n",
       "      <td>0</td>\n",
       "      <td>0</td>\n",
       "      <td>0</td>\n",
       "      <td>0</td>\n",
       "      <td>1</td>\n",
       "      <td>0</td>\n",
       "      <td>0</td>\n",
       "      <td>0</td>\n",
       "      <td>0</td>\n",
       "      <td>0</td>\n",
       "      <td>0</td>\n",
       "      <td>0</td>\n",
       "      <td>0</td>\n",
       "      <td>0</td>\n",
       "      <td>0</td>\n",
       "      <td>0</td>\n",
       "      <td>0</td>\n",
       "      <td>0</td>\n",
       "      <td>0</td>\n",
       "      <td>0</td>\n",
       "      <td>0</td>\n",
       "      <td>0</td>\n",
       "      <td>1</td>\n",
       "      <td>0</td>\n",
       "      <td>0</td>\n",
       "      <td>0</td>\n",
       "      <td>0</td>\n",
       "      <td>0</td>\n",
       "      <td>0</td>\n",
       "      <td>0</td>\n",
       "      <td>0</td>\n",
       "      <td>0</td>\n",
       "      <td>0</td>\n",
       "      <td>0</td>\n",
       "      <td>0</td>\n",
       "      <td>0</td>\n",
       "      <td>0</td>\n",
       "      <td>0</td>\n",
       "      <td>0</td>\n",
       "      <td>0</td>\n",
       "      <td>0</td>\n",
       "      <td>0</td>\n",
       "      <td>0</td>\n",
       "      <td>0</td>\n",
       "      <td>0</td>\n",
       "      <td>0</td>\n",
       "      <td>0</td>\n",
       "      <td>0</td>\n",
       "      <td>0</td>\n",
       "      <td>0</td>\n",
       "      <td>0</td>\n",
       "      <td>0</td>\n",
       "      <td>0</td>\n",
       "      <td>0</td>\n",
       "      <td>0</td>\n",
       "      <td>0</td>\n",
       "      <td>0</td>\n",
       "    </tr>\n",
       "  </tbody>\n",
       "</table>\n",
       "</div>"
      ],
      "text/plain": [
       "   1460원  2기  3년째  8000억  cj대한통운  etf  g마켓  hd현대중공업  jkl파트너스  jkl파트너스 8000억  \\\n",
       "0      0   0    0      0       0    0    0        0        0              0   \n",
       "1      0   0    0      0       0    0    0        0        0              0   \n",
       "\n",
       "   mbk  mbk 고려아연  mk시그널  가장  강세  게임주  고객사  고려아연  공급  괴산군  규모  금융위  기회  김병환  \\\n",
       "0    0         0      0   0   0    0    0     0   0    0   0    0   0    0   \n",
       "1    0         0      0   0   0    1    0     0   0    0   0    0   0    0   \n",
       "\n",
       "   김병환 밸류업  넵튠  뉴욕증시  다시  단독  단독 신세계  달러  달러 환율  대신  대신파이낸셜그룹  독자노선  러브콜  \\\n",
       "0        0   0     0   0   0       0   0      0   0         0     0    0   \n",
       "1        0   0     0   0   0       0   0      0   0         0     0    0   \n",
       "\n",
       "   마켓pro  맞손  매도  목표가  반등  받은  밸류업  본격화  산타랠리  삼성전자  상장  설립  성금  성금 전달  소식에  \\\n",
       "0      0   0   0    0   0   0    0    0     0     0   0   0   0      0    0   \n",
       "1      0   0   0    0   0   0    0    0     0     0   0   0   0      0    0   \n",
       "\n",
       "   수혜  시장  신세계  실적  알리  알리바바와  어려워  엔비디아  오징어게임2  올해  외국인  외국인은  이마트  이어  이정재  \\\n",
       "0   0   0    0   0   0      0    0     0       1   0    0     0    0   0    0   \n",
       "1   0   0    0   0   0      0    0     0       0   0    0     1    0   0    0   \n",
       "\n",
       "   이후  자금  자회사  장중  전기차  전달  전망  전환  젠큐릭스  조정  종목은  종목은 엔비디아  주가  주가 반등  주가는  \\\n",
       "0   0   0    0   0    0   0   0   0     0   0    0         0   0      0    0   \n",
       "1   0   0    0   0    0   0   0   0     0   0    0         0   0      0    1   \n",
       "\n",
       "   주목  주식  주식 초고수는  지금  지마켓  지분  체결  초고수는  초고수는 지금  최고가  출시  코스닥 상장  코스피 코스닥  \\\n",
       "0   0   0        0   0    0   0   0     0        0    0   0       0        0   \n",
       "1   0   0        0   0    0   0   0     0        0    0   0       0        0   \n",
       "\n",
       "   키워  테마주  토스증권  투자  트럼프  트럼프 2기  펀드  프리미엄  하락  하락 전환  한국  한화오션  합작  해외  현대차  \\\n",
       "0   0    1     0   0    0       0   0     0   0      0   0     0   0   0    0   \n",
       "1   0    0     0   0    0       0   0     0   0      0   0     0   0   0    0   \n",
       "\n",
       "   혹평에  혹평에 테마주  혼조  확보  환율 장중  획득  \n",
       "0    1        1   0   0      0   0  \n",
       "1    0        0   0   0      0   0  "
      ]
     },
     "execution_count": 20,
     "metadata": {},
     "output_type": "execute_result"
    }
   ],
   "source": [
    "tmp.head(2)"
   ]
  },
  {
   "cell_type": "code",
   "execution_count": 21,
   "id": "57c741ff-41c0-47a6-bc6f-1db28507c622",
   "metadata": {},
   "outputs": [
    {
     "data": {
      "text/plain": [
       "목표가     5\n",
       "삼성전자    4\n",
       "3년째     4\n",
       "밸류업     4\n",
       "주가      4\n",
       "       ..\n",
       "본격화     2\n",
       "받은      2\n",
       "매도      2\n",
       "맞손      2\n",
       "획득      2\n",
       "Length: 115, dtype: int64"
      ]
     },
     "execution_count": 21,
     "metadata": {},
     "output_type": "execute_result"
    }
   ],
   "source": [
    "tmp.sum().sort_values(ascending=False)"
   ]
  },
  {
   "cell_type": "code",
   "execution_count": 22,
   "id": "1454b0a6-a283-4f5d-9820-163d246a59fc",
   "metadata": {},
   "outputs": [],
   "source": [
    "# 모델을 받아서 변환후 문서-어휘 행렬로 반환하는 함수\n",
    "\n",
    "def display_transform_dtm(cvect, corpus) : \n",
    "    '''\n",
    "    모델을 받아 변환하고 문서-어휘 행렬을 반환하는 함수\n",
    "    '''\n",
    "\n",
    "    X = cvect.fit_transform(corpus)\n",
    "    dtm = X.toarray()\n",
    "    df_dtm = pd.DataFrame(dtm, columns = cvect.get_feature_names_out()).style.background_gradient()\n",
    "    return df_dtm\n"
   ]
  },
  {
   "cell_type": "code",
   "execution_count": null,
   "id": "e0c92ba1-dfb0-41ac-bcd9-71f5ec9f3aa0",
   "metadata": {},
   "outputs": [],
   "source": [
    "display_transform_dtm(cvect, corpus)"
   ]
  },
  {
   "cell_type": "code",
   "execution_count": null,
   "id": "f8e61110-2dcd-4ce3-af1a-35577472a941",
   "metadata": {},
   "outputs": [],
   "source": [
    "# ngram_range(2,3)\n",
    "cvect = CountVectorizer(ngram_range=(2,3))\n",
    "display_transform_dtm(cvect, corpus)"
   ]
  },
  {
   "cell_type": "markdown",
   "id": "7a4f82aa-5dd1-46d4-812f-1943ea90aed4",
   "metadata": {},
   "source": [
    "#### TF- IDF(Term Frequency-Inverse Document Frequency)\n",
    "- TF : 특정한 단어가 문서 내에 얼마나 자주 등장하는지를 나타내는 값. 자주 등장하는 단어는 중요도가 높다고 가정, 문서군에 자주 사용 되는경우 DF라고 함 \n",
    "- IDF : 특정 단어가 전체 문서 집합에서 얼마나 중요한지를 평가. 자주 등장하는 단어는 중요도가 낮고, 드물게 등장하는 단어는 중요도가 높다고 가정\n",
    "- TF-IDF : TF와 IDF를 곱한값\n",
    "- 가중치를 주는개념\n",
    "\n",
    "#### TfidfVectorizer\n",
    "- CountVectorizer와 TfidfTransformer를 합쳐놓은 것\n",
    "- 문서 모음을 TF-IDF 매트릭스로 변환\n",
    "- "
   ]
  },
  {
   "cell_type": "code",
   "execution_count": 25,
   "id": "65744ab7-86db-486f-816a-353e4b4720e7",
   "metadata": {},
   "outputs": [],
   "source": [
    "from sklearn.feature_extraction.text import TfidfVectorizer"
   ]
  },
  {
   "cell_type": "code",
   "execution_count": 26,
   "id": "1fc14cd3-39ab-488c-be18-5685629e3709",
   "metadata": {},
   "outputs": [
    {
     "data": {
      "text/plain": [
       "<100x613 sparse matrix of type '<class 'numpy.float64'>'\n",
       "\twith 780 stored elements in Compressed Sparse Row format>"
      ]
     },
     "execution_count": 26,
     "metadata": {},
     "output_type": "execute_result"
    }
   ],
   "source": [
    "tfidfvect = TfidfVectorizer()\n",
    "X = tfidfvect.fit(corpus).transform(corpus)  # tfidfvect.fit_transform(corpus)와 동일\n",
    "X"
   ]
  },
  {
   "cell_type": "code",
   "execution_count": 27,
   "id": "b67d4e1e-da07-444d-9416-d227096d892d",
   "metadata": {},
   "outputs": [
    {
     "data": {
      "text/plain": [
       "array([[0., 0., 0., ..., 0., 0., 0.],\n",
       "       [0., 0., 0., ..., 0., 0., 0.],\n",
       "       [0., 0., 0., ..., 0., 0., 0.],\n",
       "       ...,\n",
       "       [0., 0., 0., ..., 0., 0., 0.],\n",
       "       [0., 0., 0., ..., 0., 0., 0.],\n",
       "       [0., 0., 0., ..., 0., 0., 0.]])"
      ]
     },
     "execution_count": 27,
     "metadata": {},
     "output_type": "execute_result"
    }
   ],
   "source": [
    "# 문서에 토큰이 더 많이 나타날수록 가중치는 더 커진다 TF\n",
    "# 그러나 토큰이 여러문서에 많이 표시될수록 가중치는 감소 IDF\n",
    "dtm = X.toarray()\n",
    "dtm"
   ]
  },
  {
   "cell_type": "code",
   "execution_count": null,
   "id": "5df81f88-eadb-4b14-adc2-5738b7c481aa",
   "metadata": {},
   "outputs": [],
   "source": [
    "display_transform_dtm(tfidfvect, corpus)"
   ]
  },
  {
   "cell_type": "code",
   "execution_count": null,
   "id": "d62eace5-7a6f-4894-9e85-19bea6017f11",
   "metadata": {},
   "outputs": [],
   "source": [
    "tfidfvect.idf_"
   ]
  },
  {
   "cell_type": "code",
   "execution_count": null,
   "id": "9baa4870-3592-4237-a529-66c38169cced",
   "metadata": {},
   "outputs": [],
   "source": [
    "vocab = tfidfvect.get_feature_names_out()\n",
    "idf_dict = dict(zip(vocab, tfidfvect.idf_))\n",
    "idf_dict"
   ]
  },
  {
   "cell_type": "code",
   "execution_count": null,
   "id": "40db7de0-128d-46de-a76a-aeacf48bd3f7",
   "metadata": {},
   "outputs": [],
   "source": [
    "pd.Series(idf_dict).nlargest(30).to_frame().style.background_gradient()"
   ]
  },
  {
   "cell_type": "code",
   "execution_count": 36,
   "id": "3034569f-1db4-4c9f-ac8f-7f69a36f6e0e",
   "metadata": {},
   "outputs": [
    {
     "data": {
      "text/plain": [
       "<Axes: >"
      ]
     },
     "execution_count": 36,
     "metadata": {},
     "output_type": "execute_result"
    },
    {
     "data": {
      "image/png": "[encoded data removed]",
      "text/plain": [
       "<Figure size 640x480 with 1 Axes>"
      ]
     },
     "metadata": {},
     "output_type": "display_data"
    }
   ],
   "source": [
    "pd.Series(idf_dict).nsmallest(30).to_frame().plot.barh()"
   ]
  },
  {
   "cell_type": "code",
   "execution_count": null,
   "id": "4ba6db77-c9f8-47ff-9398-b5feec442aff",
   "metadata": {},
   "outputs": [],
   "source": [
    "tfidfvect = TfidfVectorizer(ngram_range=(3,4), max_df = 0.9, min_df = 1)\n",
    "display_transform_dtm(tfidfvect, corpus)"
   ]
  },
  {
   "cell_type": "markdown",
   "id": "77eab63f-fd3b-4f4a-abba-de9ab13dd681",
   "metadata": {},
   "source": [
    "#### 문제\n",
    "- 금일 증권 뉴스를 수집하여 CountVectorizer(빈도), TfidfVectorizer(중요도)를 사용하여 상위 키워드 30개를 각각 워드 클라우드로 시각화해서 비교해보기\n",
    "\n",
    "- WordCloud().generate_from_frequencies({어휘:값})\n",
    "\n",
    "- 고려사항 : 전처리(형태소추출, 불용어처리 등)"
   ]
  },
  {
   "cell_type": "code",
   "execution_count": 37,
   "id": "da362bec-08e7-4422-b1c8-6aed3fae3460",
   "metadata": {},
   "outputs": [
    {
     "data": {
      "text/html": [
       "<div>\n",
       "<style scoped>\n",
       "    .dataframe tbody tr th:only-of-type {\n",
       "        vertical-align: middle;\n",
       "    }\n",
       "\n",
       "    .dataframe tbody tr th {\n",
       "        vertical-align: top;\n",
       "    }\n",
       "\n",
       "    .dataframe thead th {\n",
       "        text-align: right;\n",
       "    }\n",
       "</style>\n",
       "<table border=\"1\" class=\"dataframe\">\n",
       "  <thead>\n",
       "    <tr style=\"text-align: right;\">\n",
       "      <th></th>\n",
       "      <th>언론사</th>\n",
       "      <th>제목</th>\n",
       "      <th>내용</th>\n",
       "      <th>작성일시</th>\n",
       "    </tr>\n",
       "  </thead>\n",
       "  <tbody>\n",
       "    <tr>\n",
       "      <th>0</th>\n",
       "      <td>매일경제</td>\n",
       "      <td>‘오징어게임2’ 외신 혹평에...테마주 동반 폭락</td>\n",
       "      <td>\\n      사진 확대    ‘오징어 게임2’. 제공|넷플릭스  전 세계적 기대작 넷플릭스 ‘오징어 게임2’가 공개된 다음 날인 27일 장 초반 관련 종목들이 급락하고 있다.이날 오전 9시 20분 현재 아티스트스튜디오(200350)가 26.68% 급락 중이며, 아티스트유나이티드(321820)도 23.98% 하락하고 있다.아티스트스튜디오와 아티스트유나이티드는 시즌1에 이어 ‘오징어게임2’에서도 주연을 맡은 배우 이정재가 대주주로 있는 기업이다.또 ‘오징어게임2’의 영상 특수효과를 맡은 위지윅스튜디오(299900)는 20.00% 하락했고, 덱스터(206560)는 18.59% 내려 거래되고 있다.‘오징어게임’ 제작사인 싸이런픽쳐스에 투자한 쇼박스(086980)도 14.97% 급락을 면치 못하고 있다.지난 2021년 9월 공개돼 전 세계적으로 폭발적인 인기를 얻었던 ‘오징어 게임’의 후속작인 ‘오징어 게임2’는 지난 26일 오후 5시(한국시간) 넷플릭스를 통해 공개됐다.큰 기대 속에 베일을 벗은 ‘오징어게임2’에 대해 해외 주요 매체들은 “이야기가 정체돼있다’”, “날카로움을 잃었다”, “재미도 기발함도 없다”는 등 첫 시즌에 비해 실망스럽다는 반응을 보이고 있다.국내 시청자들도 대체로 시즌1만 못하다는 반응을 보이고 있으며 특히 그룹 빅뱅 출신 탑(최승현)의 오글거리는 연기에 혹평을 보내고 있다.시즌2에 이어지는 ‘오징어게임3’가 내년에 공개된다.\\n</td>\n",
       "      <td>2024-12-27 09:38:05</td>\n",
       "    </tr>\n",
       "  </tbody>\n",
       "</table>\n",
       "</div>"
      ],
      "text/plain": [
       "    언론사                           제목  \\\n",
       "0  매일경제  ‘오징어게임2’ 외신 혹평에...테마주 동반 폭락   \n",
       "\n",
       "                                                                                                                                                                                                                                                                                                                                                                                                                                                                                                                                                                                                                                                                                                                                     내용  \\\n",
       "0  \\n      사진 확대    ‘오징어 게임2’. 제공|넷플릭스  전 세계적 기대작 넷플릭스 ‘오징어 게임2’가 공개된 다음 날인 27일 장 초반 관련 종목들이 급락하고 있다.이날 오전 9시 20분 현재 아티스트스튜디오(200350)가 26.68% 급락 중이며, 아티스트유나이티드(321820)도 23.98% 하락하고 있다.아티스트스튜디오와 아티스트유나이티드는 시즌1에 이어 ‘오징어게임2’에서도 주연을 맡은 배우 이정재가 대주주로 있는 기업이다.또 ‘오징어게임2’의 영상 특수효과를 맡은 위지윅스튜디오(299900)는 20.00% 하락했고, 덱스터(206560)는 18.59% 내려 거래되고 있다.‘오징어게임’ 제작사인 싸이런픽쳐스에 투자한 쇼박스(086980)도 14.97% 급락을 면치 못하고 있다.지난 2021년 9월 공개돼 전 세계적으로 폭발적인 인기를 얻었던 ‘오징어 게임’의 후속작인 ‘오징어 게임2’는 지난 26일 오후 5시(한국시간) 넷플릭스를 통해 공개됐다.큰 기대 속에 베일을 벗은 ‘오징어게임2’에 대해 해외 주요 매체들은 “이야기가 정체돼있다’”, “날카로움을 잃었다”, “재미도 기발함도 없다”는 등 첫 시즌에 비해 실망스럽다는 반응을 보이고 있다.국내 시청자들도 대체로 시즌1만 못하다는 반응을 보이고 있으며 특히 그룹 빅뱅 출신 탑(최승현)의 오글거리는 연기에 혹평을 보내고 있다.시즌2에 이어지는 ‘오징어게임3’가 내년에 공개된다.\\n   \n",
       "\n",
       "                  작성일시  \n",
       "0  2024-12-27 09:38:05  "
      ]
     },
     "execution_count": 37,
     "metadata": {},
     "output_type": "execute_result"
    }
   ],
   "source": [
    "df.head(1)"
   ]
  },
  {
   "cell_type": "code",
   "execution_count": null,
   "id": "bd613421-6b85-4f9f-b1ac-597b0d0bc165",
   "metadata": {},
   "outputs": [],
   "source": [
    "def display_word_cloud(str, max_words=30, width=1200,height=600) : \n",
    "\n",
    "    # r스트링 쓰는이유 : \\ 를 특별한 의미로 해석하지말고 평범한 하나의 문자로 해석하게 하기위함\n",
    "    font_path = r'C:\\Windows\\Fonts\\malgun.ttf'\n",
    "    stopwords = ['코스피','코스닥','종목','ETF','주식','주가','올해','내년','상장','시총','상승','하락','국내','해외','외국인','투자','서학','동학','소식에','기대감','기업','시장','목표가']\n",
    "    word_cloud = WordCloud(font_path = font_path,\n",
    "              width=width,\n",
    "              height=height,\n",
    "              stopwords=stopwords,\n",
    "              background_color='white',\n",
    "              min_word_length = 2,\n",
    "              max_words = max_words,\n",
    "              random_state=2024).generate(str)\n",
    "    plt.imshow(word_cloud)\n",
    "    plt.show()\n",
    "    return word_cloud"
   ]
  },
  {
   "cell_type": "code",
   "execution_count": null,
   "id": "d5837bfd-8253-4265-ad98-274aa2e7b844",
   "metadata": {},
   "outputs": [],
   "source": [
    "corpus_content = df['내용']\n",
    "corpus_content"
   ]
  },
  {
   "cell_type": "code",
   "execution_count": 95,
   "id": "846c71d7-5e21-433c-af00-0a323421b66b",
   "metadata": {},
   "outputs": [],
   "source": [
    "# 공백을 중심으로 토큰화하고, 빈도수 확인\n",
    "stop_words = ['fi'] \n",
    "cvect_content = CountVectorizer(max_df=5,min_df=2, ngram_range=(1,2),stop_words=stop_words)"
   ]
  },
  {
   "cell_type": "code",
   "execution_count": 96,
   "id": "9a69fd00-7d60-480b-99fe-36c36010f4e8",
   "metadata": {},
   "outputs": [
    {
     "data": {
      "text/html": [
       "<style>#sk-container-id-4 {\n",
       "  /* Definition of color scheme common for light and dark mode */\n",
       "  --sklearn-color-text: black;\n",
       "  --sklearn-color-line: gray;\n",
       "  /* Definition of color scheme for unfitted estimators */\n",
       "  --sklearn-color-unfitted-level-0: #fff5e6;\n",
       "  --sklearn-color-unfitted-level-1: #f6e4d2;\n",
       "  --sklearn-color-unfitted-level-2: #ffe0b3;\n",
       "  --sklearn-color-unfitted-level-3: chocolate;\n",
       "  /* Definition of color scheme for fitted estimators */\n",
       "  --sklearn-color-fitted-level-0: #f0f8ff;\n",
       "  --sklearn-color-fitted-level-1: #d4ebff;\n",
       "  --sklearn-color-fitted-level-2: #b3dbfd;\n",
       "  --sklearn-color-fitted-level-3: cornflowerblue;\n",
       "\n",
       "  /* Specific color for light theme */\n",
       "  --sklearn-color-text-on-default-background: var(--sg-text-color, var(--theme-code-foreground, var(--jp-content-font-color1, black)));\n",
       "  --sklearn-color-background: var(--sg-background-color, var(--theme-background, var(--jp-layout-color0, white)));\n",
       "  --sklearn-color-border-box: var(--sg-text-color, var(--theme-code-foreground, var(--jp-content-font-color1, black)));\n",
       "  --sklearn-color-icon: #696969;\n",
       "\n",
       "  @media (prefers-color-scheme: dark) {\n",
       "    /* Redefinition of color scheme for dark theme */\n",
       "    --sklearn-color-text-on-default-background: var(--sg-text-color, var(--theme-code-foreground, var(--jp-content-font-color1, white)));\n",
       "    --sklearn-color-background: var(--sg-background-color, var(--theme-background, var(--jp-layout-color0, #111)));\n",
       "    --sklearn-color-border-box: var(--sg-text-color, var(--theme-code-foreground, var(--jp-content-font-color1, white)));\n",
       "    --sklearn-color-icon: #878787;\n",
       "  }\n",
       "}\n",
       "\n",
       "#sk-container-id-4 {\n",
       "  color: var(--sklearn-color-text);\n",
       "}\n",
       "\n",
       "#sk-container-id-4 pre {\n",
       "  padding: 0;\n",
       "}\n",
       "\n",
       "#sk-container-id-4 input.sk-hidden--visually {\n",
       "  border: 0;\n",
       "  clip: rect(1px 1px 1px 1px);\n",
       "  clip: rect(1px, 1px, 1px, 1px);\n",
       "  height: 1px;\n",
       "  margin: -1px;\n",
       "  overflow: hidden;\n",
       "  padding: 0;\n",
       "  position: absolute;\n",
       "  width: 1px;\n",
       "}\n",
       "\n",
       "#sk-container-id-4 div.sk-dashed-wrapped {\n",
       "  border: 1px dashed var(--sklearn-color-line);\n",
       "  margin: 0 0.4em 0.5em 0.4em;\n",
       "  box-sizing: border-box;\n",
       "  padding-bottom: 0.4em;\n",
       "  background-color: var(--sklearn-color-background);\n",
       "}\n",
       "\n",
       "#sk-container-id-4 div.sk-container {\n",
       "  /* jupyter's `normalize.less` sets `[hidden] { display: none; }`\n",
       "     but bootstrap.min.css set `[hidden] { display: none !important; }`\n",
       "     so we also need the `!important` here to be able to override the\n",
       "     default hidden behavior on the sphinx rendered scikit-learn.org.\n",
       "     See: https://github.com/scikit-learn/scikit-learn/issues/21755 */\n",
       "  display: inline-block !important;\n",
       "  position: relative;\n",
       "}\n",
       "\n",
       "#sk-container-id-4 div.sk-text-repr-fallback {\n",
       "  display: none;\n",
       "}\n",
       "\n",
       "div.sk-parallel-item,\n",
       "div.sk-serial,\n",
       "div.sk-item {\n",
       "  /* draw centered vertical line to link estimators */\n",
       "  background-image: linear-gradient(var(--sklearn-color-text-on-default-background), var(--sklearn-color-text-on-default-background));\n",
       "  background-size: 2px 100%;\n",
       "  background-repeat: no-repeat;\n",
       "  background-position: center center;\n",
       "}\n",
       "\n",
       "/* Parallel-specific style estimator block */\n",
       "\n",
       "#sk-container-id-4 div.sk-parallel-item::after {\n",
       "  content: \"\";\n",
       "  width: 100%;\n",
       "  border-bottom: 2px solid var(--sklearn-color-text-on-default-background);\n",
       "  flex-grow: 1;\n",
       "}\n",
       "\n",
       "#sk-container-id-4 div.sk-parallel {\n",
       "  display: flex;\n",
       "  align-items: stretch;\n",
       "  justify-content: center;\n",
       "  background-color: var(--sklearn-color-background);\n",
       "  position: relative;\n",
       "}\n",
       "\n",
       "#sk-container-id-4 div.sk-parallel-item {\n",
       "  display: flex;\n",
       "  flex-direction: column;\n",
       "}\n",
       "\n",
       "#sk-container-id-4 div.sk-parallel-item:first-child::after {\n",
       "  align-self: flex-end;\n",
       "  width: 50%;\n",
       "}\n",
       "\n",
       "#sk-container-id-4 div.sk-parallel-item:last-child::after {\n",
       "  align-self: flex-start;\n",
       "  width: 50%;\n",
       "}\n",
       "\n",
       "#sk-container-id-4 div.sk-parallel-item:only-child::after {\n",
       "  width: 0;\n",
       "}\n",
       "\n",
       "/* Serial-specific style estimator block */\n",
       "\n",
       "#sk-container-id-4 div.sk-serial {\n",
       "  display: flex;\n",
       "  flex-direction: column;\n",
       "  align-items: center;\n",
       "  background-color: var(--sklearn-color-background);\n",
       "  padding-right: 1em;\n",
       "  padding-left: 1em;\n",
       "}\n",
       "\n",
       "\n",
       "/* Toggleable style: style used for estimator/Pipeline/ColumnTransformer box that is\n",
       "clickable and can be expanded/collapsed.\n",
       "- Pipeline and ColumnTransformer use this feature and define the default style\n",
       "- Estimators will overwrite some part of the style using the `sk-estimator` class\n",
       "*/\n",
       "\n",
       "/* Pipeline and ColumnTransformer style (default) */\n",
       "\n",
       "#sk-container-id-4 div.sk-toggleable {\n",
       "  /* Default theme specific background. It is overwritten whether we have a\n",
       "  specific estimator or a Pipeline/ColumnTransformer */\n",
       "  background-color: var(--sklearn-color-background);\n",
       "}\n",
       "\n",
       "/* Toggleable label */\n",
       "#sk-container-id-4 label.sk-toggleable__label {\n",
       "  cursor: pointer;\n",
       "  display: block;\n",
       "  width: 100%;\n",
       "  margin-bottom: 0;\n",
       "  padding: 0.5em;\n",
       "  box-sizing: border-box;\n",
       "  text-align: center;\n",
       "}\n",
       "\n",
       "#sk-container-id-4 label.sk-toggleable__label-arrow:before {\n",
       "  /* Arrow on the left of the label */\n",
       "  content: \"▸\";\n",
       "  float: left;\n",
       "  margin-right: 0.25em;\n",
       "  color: var(--sklearn-color-icon);\n",
       "}\n",
       "\n",
       "#sk-container-id-4 label.sk-toggleable__label-arrow:hover:before {\n",
       "  color: var(--sklearn-color-text);\n",
       "}\n",
       "\n",
       "/* Toggleable content - dropdown */\n",
       "\n",
       "#sk-container-id-4 div.sk-toggleable__content {\n",
       "  max-height: 0;\n",
       "  max-width: 0;\n",
       "  overflow: hidden;\n",
       "  text-align: left;\n",
       "  /* unfitted */\n",
       "  background-color: var(--sklearn-color-unfitted-level-0);\n",
       "}\n",
       "\n",
       "#sk-container-id-4 div.sk-toggleable__content.fitted {\n",
       "  /* fitted */\n",
       "  background-color: var(--sklearn-color-fitted-level-0);\n",
       "}\n",
       "\n",
       "#sk-container-id-4 div.sk-toggleable__content pre {\n",
       "  margin: 0.2em;\n",
       "  border-radius: 0.25em;\n",
       "  color: var(--sklearn-color-text);\n",
       "  /* unfitted */\n",
       "  background-color: var(--sklearn-color-unfitted-level-0);\n",
       "}\n",
       "\n",
       "#sk-container-id-4 div.sk-toggleable__content.fitted pre {\n",
       "  /* unfitted */\n",
       "  background-color: var(--sklearn-color-fitted-level-0);\n",
       "}\n",
       "\n",
       "#sk-container-id-4 input.sk-toggleable__control:checked~div.sk-toggleable__content {\n",
       "  /* Expand drop-down */\n",
       "  max-height: 200px;\n",
       "  max-width: 100%;\n",
       "  overflow: auto;\n",
       "}\n",
       "\n",
       "#sk-container-id-4 input.sk-toggleable__control:checked~label.sk-toggleable__label-arrow:before {\n",
       "  content: \"▾\";\n",
       "}\n",
       "\n",
       "/* Pipeline/ColumnTransformer-specific style */\n",
       "\n",
       "#sk-container-id-4 div.sk-label input.sk-toggleable__control:checked~label.sk-toggleable__label {\n",
       "  color: var(--sklearn-color-text);\n",
       "  background-color: var(--sklearn-color-unfitted-level-2);\n",
       "}\n",
       "\n",
       "#sk-container-id-4 div.sk-label.fitted input.sk-toggleable__control:checked~label.sk-toggleable__label {\n",
       "  background-color: var(--sklearn-color-fitted-level-2);\n",
       "}\n",
       "\n",
       "/* Estimator-specific style */\n",
       "\n",
       "/* Colorize estimator box */\n",
       "#sk-container-id-4 div.sk-estimator input.sk-toggleable__control:checked~label.sk-toggleable__label {\n",
       "  /* unfitted */\n",
       "  background-color: var(--sklearn-color-unfitted-level-2);\n",
       "}\n",
       "\n",
       "#sk-container-id-4 div.sk-estimator.fitted input.sk-toggleable__control:checked~label.sk-toggleable__label {\n",
       "  /* fitted */\n",
       "  background-color: var(--sklearn-color-fitted-level-2);\n",
       "}\n",
       "\n",
       "#sk-container-id-4 div.sk-label label.sk-toggleable__label,\n",
       "#sk-container-id-4 div.sk-label label {\n",
       "  /* The background is the default theme color */\n",
       "  color: var(--sklearn-color-text-on-default-background);\n",
       "}\n",
       "\n",
       "/* On hover, darken the color of the background */\n",
       "#sk-container-id-4 div.sk-label:hover label.sk-toggleable__label {\n",
       "  color: var(--sklearn-color-text);\n",
       "  background-color: var(--sklearn-color-unfitted-level-2);\n",
       "}\n",
       "\n",
       "/* Label box, darken color on hover, fitted */\n",
       "#sk-container-id-4 div.sk-label.fitted:hover label.sk-toggleable__label.fitted {\n",
       "  color: var(--sklearn-color-text);\n",
       "  background-color: var(--sklearn-color-fitted-level-2);\n",
       "}\n",
       "\n",
       "/* Estimator label */\n",
       "\n",
       "#sk-container-id-4 div.sk-label label {\n",
       "  font-family: monospace;\n",
       "  font-weight: bold;\n",
       "  display: inline-block;\n",
       "  line-height: 1.2em;\n",
       "}\n",
       "\n",
       "#sk-container-id-4 div.sk-label-container {\n",
       "  text-align: center;\n",
       "}\n",
       "\n",
       "/* Estimator-specific */\n",
       "#sk-container-id-4 div.sk-estimator {\n",
       "  font-family: monospace;\n",
       "  border: 1px dotted var(--sklearn-color-border-box);\n",
       "  border-radius: 0.25em;\n",
       "  box-sizing: border-box;\n",
       "  margin-bottom: 0.5em;\n",
       "  /* unfitted */\n",
       "  background-color: var(--sklearn-color-unfitted-level-0);\n",
       "}\n",
       "\n",
       "#sk-container-id-4 div.sk-estimator.fitted {\n",
       "  /* fitted */\n",
       "  background-color: var(--sklearn-color-fitted-level-0);\n",
       "}\n",
       "\n",
       "/* on hover */\n",
       "#sk-container-id-4 div.sk-estimator:hover {\n",
       "  /* unfitted */\n",
       "  background-color: var(--sklearn-color-unfitted-level-2);\n",
       "}\n",
       "\n",
       "#sk-container-id-4 div.sk-estimator.fitted:hover {\n",
       "  /* fitted */\n",
       "  background-color: var(--sklearn-color-fitted-level-2);\n",
       "}\n",
       "\n",
       "/* Specification for estimator info (e.g. \"i\" and \"?\") */\n",
       "\n",
       "/* Common style for \"i\" and \"?\" */\n",
       "\n",
       ".sk-estimator-doc-link,\n",
       "a:link.sk-estimator-doc-link,\n",
       "a:visited.sk-estimator-doc-link {\n",
       "  float: right;\n",
       "  font-size: smaller;\n",
       "  line-height: 1em;\n",
       "  font-family: monospace;\n",
       "  background-color: var(--sklearn-color-background);\n",
       "  border-radius: 1em;\n",
       "  height: 1em;\n",
       "  width: 1em;\n",
       "  text-decoration: none !important;\n",
       "  margin-left: 1ex;\n",
       "  /* unfitted */\n",
       "  border: var(--sklearn-color-unfitted-level-1) 1pt solid;\n",
       "  color: var(--sklearn-color-unfitted-level-1);\n",
       "}\n",
       "\n",
       ".sk-estimator-doc-link.fitted,\n",
       "a:link.sk-estimator-doc-link.fitted,\n",
       "a:visited.sk-estimator-doc-link.fitted {\n",
       "  /* fitted */\n",
       "  border: var(--sklearn-color-fitted-level-1) 1pt solid;\n",
       "  color: var(--sklearn-color-fitted-level-1);\n",
       "}\n",
       "\n",
       "/* On hover */\n",
       "div.sk-estimator:hover .sk-estimator-doc-link:hover,\n",
       ".sk-estimator-doc-link:hover,\n",
       "div.sk-label-container:hover .sk-estimator-doc-link:hover,\n",
       ".sk-estimator-doc-link:hover {\n",
       "  /* unfitted */\n",
       "  background-color: var(--sklearn-color-unfitted-level-3);\n",
       "  color: var(--sklearn-color-background);\n",
       "  text-decoration: none;\n",
       "}\n",
       "\n",
       "div.sk-estimator.fitted:hover .sk-estimator-doc-link.fitted:hover,\n",
       ".sk-estimator-doc-link.fitted:hover,\n",
       "div.sk-label-container:hover .sk-estimator-doc-link.fitted:hover,\n",
       ".sk-estimator-doc-link.fitted:hover {\n",
       "  /* fitted */\n",
       "  background-color: var(--sklearn-color-fitted-level-3);\n",
       "  color: var(--sklearn-color-background);\n",
       "  text-decoration: none;\n",
       "}\n",
       "\n",
       "/* Span, style for the box shown on hovering the info icon */\n",
       ".sk-estimator-doc-link span {\n",
       "  display: none;\n",
       "  z-index: 9999;\n",
       "  position: relative;\n",
       "  font-weight: normal;\n",
       "  right: .2ex;\n",
       "  padding: .5ex;\n",
       "  margin: .5ex;\n",
       "  width: min-content;\n",
       "  min-width: 20ex;\n",
       "  max-width: 50ex;\n",
       "  color: var(--sklearn-color-text);\n",
       "  box-shadow: 2pt 2pt 4pt #999;\n",
       "  /* unfitted */\n",
       "  background: var(--sklearn-color-unfitted-level-0);\n",
       "  border: .5pt solid var(--sklearn-color-unfitted-level-3);\n",
       "}\n",
       "\n",
       ".sk-estimator-doc-link.fitted span {\n",
       "  /* fitted */\n",
       "  background: var(--sklearn-color-fitted-level-0);\n",
       "  border: var(--sklearn-color-fitted-level-3);\n",
       "}\n",
       "\n",
       ".sk-estimator-doc-link:hover span {\n",
       "  display: block;\n",
       "}\n",
       "\n",
       "/* \"?\"-specific style due to the `<a>` HTML tag */\n",
       "\n",
       "#sk-container-id-4 a.estimator_doc_link {\n",
       "  float: right;\n",
       "  font-size: 1rem;\n",
       "  line-height: 1em;\n",
       "  font-family: monospace;\n",
       "  background-color: var(--sklearn-color-background);\n",
       "  border-radius: 1rem;\n",
       "  height: 1rem;\n",
       "  width: 1rem;\n",
       "  text-decoration: none;\n",
       "  /* unfitted */\n",
       "  color: var(--sklearn-color-unfitted-level-1);\n",
       "  border: var(--sklearn-color-unfitted-level-1) 1pt solid;\n",
       "}\n",
       "\n",
       "#sk-container-id-4 a.estimator_doc_link.fitted {\n",
       "  /* fitted */\n",
       "  border: var(--sklearn-color-fitted-level-1) 1pt solid;\n",
       "  color: var(--sklearn-color-fitted-level-1);\n",
       "}\n",
       "\n",
       "/* On hover */\n",
       "#sk-container-id-4 a.estimator_doc_link:hover {\n",
       "  /* unfitted */\n",
       "  background-color: var(--sklearn-color-unfitted-level-3);\n",
       "  color: var(--sklearn-color-background);\n",
       "  text-decoration: none;\n",
       "}\n",
       "\n",
       "#sk-container-id-4 a.estimator_doc_link.fitted:hover {\n",
       "  /* fitted */\n",
       "  background-color: var(--sklearn-color-fitted-level-3);\n",
       "}\n",
       "</style><div id=\"sk-container-id-4\" class=\"sk-top-container\"><div class=\"sk-text-repr-fallback\"><pre>CountVectorizer(max_df=5, min_df=2, ngram_range=(1, 2), stop_words=[&#x27;fi&#x27;])</pre><b>In a Jupyter environment, please rerun this cell to show the HTML representation or trust the notebook. <br />On GitHub, the HTML representation is unable to render, please try loading this page with nbviewer.org.</b></div><div class=\"sk-container\" hidden><div class=\"sk-item\"><div class=\"sk-estimator  sk-toggleable\"><input class=\"sk-toggleable__control sk-hidden--visually\" id=\"sk-estimator-id-4\" type=\"checkbox\" checked><label for=\"sk-estimator-id-4\" class=\"sk-toggleable__label  sk-toggleable__label-arrow \">&nbsp;&nbsp;CountVectorizer<a class=\"sk-estimator-doc-link \" rel=\"noreferrer\" target=\"_blank\" href=\"https://scikit-learn.org/1.5/modules/generated/sklearn.feature_extraction.text.CountVectorizer.html\">?<span>Documentation for CountVectorizer</span></a><span class=\"sk-estimator-doc-link \">i<span>Not fitted</span></span></label><div class=\"sk-toggleable__content \"><pre>CountVectorizer(max_df=5, min_df=2, ngram_range=(1, 2), stop_words=[&#x27;fi&#x27;])</pre></div> </div></div></div></div>"
      ],
      "text/plain": [
       "CountVectorizer(max_df=5, min_df=2, ngram_range=(1, 2), stop_words=['fi'])"
      ]
     },
     "execution_count": 96,
     "metadata": {},
     "output_type": "execute_result"
    }
   ],
   "source": [
    "cvect_content"
   ]
  },
  {
   "cell_type": "code",
   "execution_count": 97,
   "id": "eed507aa-aa37-4d67-b5c7-d767d356a48b",
   "metadata": {},
   "outputs": [],
   "source": [
    "X_content = cvect_content.fit_transform(corpus_content)"
   ]
  },
  {
   "cell_type": "code",
   "execution_count": null,
   "id": "49fb472a-0fe7-4e34-bc7a-c076fc887c91",
   "metadata": {},
   "outputs": [],
   "source": [
    "cvect_content.vocabulary_"
   ]
  },
  {
   "cell_type": "code",
   "execution_count": 43,
   "id": "0d56ce2e-d4fa-47c9-bf59-0b4bd8801f45",
   "metadata": {},
   "outputs": [],
   "source": [
    " cvect_content_list = cvect_content.get_feature_names_out()"
   ]
  },
  {
   "cell_type": "code",
   "execution_count": 108,
   "id": "60e13184-d5e4-4d4c-bbb9-e67086b176fc",
   "metadata": {},
   "outputs": [],
   "source": [
    "# 모델을 받아서 변환후 문서-어휘 행렬로 반환하는 함수\n",
    "\n",
    "def display_transform_dtm(cvect, corpus) : \n",
    "    '''\n",
    "    모델을 받아 변환하고 문서-어휘 행렬을 반환하는 함수\n",
    "    '''\n",
    "\n",
    "    X = cvect.fit_transform(corpus)\n",
    "    print(cvect.get_feature_names_out())  # 어휘사전 출력\n",
    "    dtm = X.toarray()\n",
    "    df_dtm = pd.DataFrame(dtm, columns = cvect.get_feature_names_out())\n",
    "    return df_dtm"
   ]
  },
  {
   "cell_type": "code",
   "execution_count": 99,
   "id": "16694835-32fd-46bc-9dac-5fc0dbf38c5c",
   "metadata": {},
   "outputs": [
    {
     "name": "stdout",
     "output_type": "stream",
     "text": [
      "['01' '01 3조4400억원에' '02' ... '힘을' '힘입어 12월' '힘입어 24일']\n"
     ]
    }
   ],
   "source": [
    "df_dtm_content = display_transform_dtm(cvect_content, corpus_content)"
   ]
  },
  {
   "cell_type": "code",
   "execution_count": 100,
   "id": "69aee70c-3947-4a86-bafd-3f97bba4dde6",
   "metadata": {},
   "outputs": [
    {
     "data": {
      "text/plain": [
       "pandas.core.frame.DataFrame"
      ]
     },
     "execution_count": 100,
     "metadata": {},
     "output_type": "execute_result"
    }
   ],
   "source": [
    "type(df_dtm_content)"
   ]
  },
  {
   "cell_type": "code",
   "execution_count": 101,
   "id": "1e183cbf-c470-4b89-b561-fedf8ada401b",
   "metadata": {},
   "outputs": [],
   "source": [
    "dtm_top_30_dict = dict(df_dtm_content.sum().sort_values(ascending=False).head(30))"
   ]
  },
  {
   "cell_type": "code",
   "execution_count": 102,
   "id": "0be033bc-b83d-432d-998c-7816760138d1",
   "metadata": {},
   "outputs": [
    {
     "data": {
      "text/plain": [
       "{'외국인': 25,\n",
       " '11번가': 21,\n",
       " '전기차': 20,\n",
       " '고려아연': 17,\n",
       " 'mk시그널': 16,\n",
       " '상장한': 15,\n",
       " '기아': 13,\n",
       " '신세계그룹': 12,\n",
       " '오징어': 12,\n",
       " '환율이': 12,\n",
       " '전자상거래': 12,\n",
       " '인도': 12,\n",
       " '종가': 11,\n",
       " '전기차 충전기': 11,\n",
       " '원화값이': 11,\n",
       " '온라인': 11,\n",
       " '충전기': 11,\n",
       " '토스증권': 11,\n",
       " '선박': 11,\n",
       " '부동산': 11,\n",
       " '신세계': 10,\n",
       " '성장': 10,\n",
       " '유지': 10,\n",
       " '방안을': 10,\n",
       " '달러당': 10,\n",
       " '기업에': 10,\n",
       " '경영권': 10,\n",
       " '순매수했다': 10,\n",
       " '세제': 10,\n",
       " '해양': 10}"
      ]
     },
     "execution_count": 102,
     "metadata": {},
     "output_type": "execute_result"
    }
   ],
   "source": [
    "dtm_top_30_dict"
   ]
  },
  {
   "cell_type": "code",
   "execution_count": 103,
   "id": "ae644bd7-1892-4fd4-9f0f-123422943ef3",
   "metadata": {},
   "outputs": [
    {
     "data": {
      "image/png": "[encoded data removed]",
      "text/plain": [
       "<Figure size 640x480 with 1 Axes>"
      ]
     },
     "metadata": {},
     "output_type": "display_data"
    }
   ],
   "source": [
    "word_cloud = WordCloud(font_path=r'C:\\Windows\\Fonts\\malgun.ttf',\n",
    "                       width=800,\n",
    "                       height=400,\n",
    "                       background_color='white',\n",
    "                       min_word_length = 2,\n",
    "                       random_state=2024)\n",
    "word_cloud.generate_from_frequencies(dtm_top_30_dict)\n",
    "plt.imshow(word_cloud)\n",
    "plt.show()"
   ]
  },
  {
   "cell_type": "code",
   "execution_count": 72,
   "id": "39028d0f-9ad7-4097-941c-32778e3db861",
   "metadata": {},
   "outputs": [],
   "source": [
    "from konlpy.tag import Okt\n",
    "okt = Okt()"
   ]
  },
  {
   "cell_type": "code",
   "execution_count": 73,
   "id": "171cc491-7793-4e07-b600-0348e4c4bc49",
   "metadata": {},
   "outputs": [],
   "source": [
    "from tqdm import tqdm\n",
    "tqdm.pandas()"
   ]
  },
  {
   "cell_type": "code",
   "execution_count": 74,
   "id": "3e5b195a-738d-4d92-b7dd-66a8b71529b2",
   "metadata": {},
   "outputs": [
    {
     "name": "stderr",
     "output_type": "stream",
     "text": [
      "100%|██████████| 100/100 [00:07<00:00, 12.99it/s]\n"
     ]
    }
   ],
   "source": [
    "df['내용_명사'] = df['내용'].progress_map(lambda x : ' '.join(okt.nouns(x)))"
   ]
  },
  {
   "cell_type": "code",
   "execution_count": null,
   "id": "0f47f90c-2093-41dd-a460-582a2b2e881b",
   "metadata": {},
   "outputs": [],
   "source": [
    "corpus_content_nouns = df['내용_명사']\n",
    "corpus_content_nouns"
   ]
  },
  {
   "cell_type": "code",
   "execution_count": 76,
   "id": "c33fcc64-84d3-4525-b4cc-59a9555925a3",
   "metadata": {},
   "outputs": [],
   "source": [
    "cvect_content_nouns = CountVectorizer(max_df=5,min_df=2, ngram_range=(1,2))"
   ]
  },
  {
   "cell_type": "code",
   "execution_count": 78,
   "id": "d2f5a621-d01c-4da2-86f9-1f6f86fdbb2e",
   "metadata": {},
   "outputs": [
    {
     "data": {
      "text/plain": [
       "<100x3123 sparse matrix of type '<class 'numpy.int64'>'\n",
       "\twith 7896 stored elements in Compressed Sparse Row format>"
      ]
     },
     "execution_count": 78,
     "metadata": {},
     "output_type": "execute_result"
    }
   ],
   "source": [
    "X_content_nouns = cvect_content_nouns.fit_transform(corpus_content_nouns)\n",
    "X_content_nouns"
   ]
  },
  {
   "cell_type": "code",
   "execution_count": 79,
   "id": "4e366be5-e8a0-4435-b02f-a548007644b3",
   "metadata": {},
   "outputs": [
    {
     "name": "stdout",
     "output_type": "stream",
     "text": [
      "['가격 경쟁' '가격 경쟁력' '가격 교란' ... '흐름 전망' '흑자' '흥행']\n"
     ]
    }
   ],
   "source": [
    "df_dtm_content_nouns = display_transform_dtm(cvect_content_nouns, corpus_content_nouns)"
   ]
  },
  {
   "cell_type": "code",
   "execution_count": null,
   "id": "aa675658-bb16-4004-935a-5c0e757beb7f",
   "metadata": {},
   "outputs": [],
   "source": [
    "df_dtm_content_nouns"
   ]
  },
  {
   "cell_type": "code",
   "execution_count": 81,
   "id": "00450bda-8bb5-475f-9414-7e64c7cd4856",
   "metadata": {},
   "outputs": [],
   "source": [
    "dtm_nouns_top_30_dict = dict(df_dtm_content_nouns.sum().sort_values(ascending=False).head(30))"
   ]
  },
  {
   "cell_type": "code",
   "execution_count": 83,
   "id": "ae0a0d2c-c923-4bac-aaa5-56d59a5f42df",
   "metadata": {},
   "outputs": [
    {
     "data": {
      "text/plain": [
       "{'아티스트': 29,\n",
       " '시그널': 28,\n",
       " '번가': 28,\n",
       " '오징어': 27,\n",
       " '오징어 게임': 27,\n",
       " '고려아연': 25,\n",
       " '외국인 투자자': 25,\n",
       " '전기차': 24,\n",
       " '세제': 23,\n",
       " '아티스트 유나이티드': 18,\n",
       " '현대차 기아': 18,\n",
       " '스퀘어': 18,\n",
       " '유나이티드': 18,\n",
       " '매각': 17,\n",
       " '커뮤니티': 17,\n",
       " '인도': 16,\n",
       " '시즌': 16,\n",
       " '간담': 15,\n",
       " '통운': 15,\n",
       " '세제 지원': 15,\n",
       " '휴맥스': 15,\n",
       " '신규 상장': 15,\n",
       " '메모리': 15,\n",
       " '부동산': 14,\n",
       " '투자자 매수': 14,\n",
       " '부채': 14,\n",
       " '위원장': 14,\n",
       " '확산': 14,\n",
       " '토스': 14,\n",
       " '감사': 14}"
      ]
     },
     "execution_count": 83,
     "metadata": {},
     "output_type": "execute_result"
    }
   ],
   "source": [
    "dtm_nouns_top_30_dict"
   ]
  },
  {
   "cell_type": "code",
   "execution_count": 82,
   "id": "3609ab33-91a8-40a4-9c82-119bdc9a1543",
   "metadata": {},
   "outputs": [
    {
     "data": {
      "image/png": "[encoded data removed]",
      "text/plain": [
       "<Figure size 640x480 with 1 Axes>"
      ]
     },
     "metadata": {},
     "output_type": "display_data"
    }
   ],
   "source": [
    "# 오늘자 기사 \n",
    "word_cloud = WordCloud(font_path=r'C:\\Windows\\Fonts\\malgun.ttf',\n",
    "                       width=800,\n",
    "                       height=400,\n",
    "                       background_color='white',\n",
    "                       min_word_length = 2,\n",
    "                       random_state=2024)\n",
    "word_cloud.generate_from_frequencies(dtm_nouns_top_30_dict)\n",
    "plt.imshow(word_cloud)\n",
    "plt.show()"
   ]
  },
  {
   "cell_type": "code",
   "execution_count": 104,
   "id": "8bbbc88c-5a3b-4af7-ab78-18cb68f3d58c",
   "metadata": {},
   "outputs": [],
   "source": [
    "tfidfvect = TfidfVectorizer()\n",
    "X_tfidf_content = tfidfvect.fit_transform(corpus_content)"
   ]
  },
  {
   "cell_type": "code",
   "execution_count": 105,
   "id": "139747bf-59b8-4314-bc46-7ec1fa0d140a",
   "metadata": {},
   "outputs": [],
   "source": [
    "dtm_tfidf_content = X_tfidf_content.toarray()"
   ]
  },
  {
   "cell_type": "code",
   "execution_count": 110,
   "id": "8706a3f2-6325-4a42-a1dd-1f1c900028c8",
   "metadata": {},
   "outputs": [
    {
     "name": "stdout",
     "output_type": "stream",
     "text": [
      "['00' '000원' '000원에' ... '힘쓰고' '힘을' '힘입어']\n"
     ]
    }
   ],
   "source": [
    "df_dtm_tfidf_content= display_transform_dtm(tfidfvect, corpus_content)"
   ]
  },
  {
   "cell_type": "code",
   "execution_count": null,
   "id": "982a335c-3133-4567-972c-43b9ae031621",
   "metadata": {},
   "outputs": [],
   "source": [
    "df_dtm_tfidf_content"
   ]
  },
  {
   "cell_type": "code",
   "execution_count": 112,
   "id": "33ed963d-9ff3-4d4a-862b-eea7a9e3edc9",
   "metadata": {},
   "outputs": [],
   "source": [
    "df_dtm_tfidf_content_top_30_dict = dict(df_dtm_tfidf_content.sum().sort_values(ascending=False).head(30))"
   ]
  },
  {
   "cell_type": "code",
   "execution_count": 114,
   "id": "534b79cc-6a64-4d3e-ac7e-2cc05db9904f",
   "metadata": {},
   "outputs": [
    {
     "data": {
      "text/plain": [
       "{'있다': 4.158274574444082,\n",
       " '것으로': 2.4694590321964047,\n",
       " '대비': 2.147463507193408,\n",
       " '밸류업': 2.068703496241403,\n",
       " '국내': 2.014401789016581,\n",
       " '사진': 1.982455991044553,\n",
       " '지난': 1.892754548179447,\n",
       " '통해': 1.8037285786674218,\n",
       " '내년': 1.7341871038653665,\n",
       " '올해': 1.7146976372076321,\n",
       " '미국': 1.7034153120943074,\n",
       " '26일': 1.676623496833461,\n",
       " '확대': 1.6530927339972448,\n",
       " '기업': 1.6044398385802914,\n",
       " '이후': 1.5837060847455218,\n",
       " '글로벌': 1.5400772388880077,\n",
       " '이라고': 1.5172714180666556,\n",
       " '기자': 1.5128727399459487,\n",
       " '연구원은': 1.4921992232396906,\n",
       " '했다': 1.4389437694042173,\n",
       " '코스닥': 1.4288699535585456,\n",
       " '있는': 1.4090509426096978,\n",
       " '이날': 1.4006328332771305,\n",
       " '오른': 1.368852651845429,\n",
       " '투자': 1.3660957322883882,\n",
       " 'com': 1.3413455616044414,\n",
       " 'hankyung': 1.3413455616044414,\n",
       " '기준': 1.3262273090350576,\n",
       " '현재': 1.2965344041479412,\n",
       " '주가가': 1.2657595104824921}"
      ]
     },
     "execution_count": 114,
     "metadata": {},
     "output_type": "execute_result"
    }
   ],
   "source": [
    "df_dtm_tfidf_content_top_30_dict"
   ]
  },
  {
   "cell_type": "code",
   "execution_count": 113,
   "id": "9d742525-d24e-442a-a3f9-e76f5e38b10f",
   "metadata": {},
   "outputs": [
    {
     "data": {
      "image/png": "[encoded data removed]",
      "text/plain": [
       "<Figure size 640x480 with 1 Axes>"
      ]
     },
     "metadata": {},
     "output_type": "display_data"
    }
   ],
   "source": [
    "word_cloud = WordCloud(font_path=r'C:\\Windows\\Fonts\\malgun.ttf',\n",
    "                       width=800,\n",
    "                       height=400,\n",
    "                       background_color='white',\n",
    "                       min_word_length = 2,\n",
    "                       random_state=2024)\n",
    "word_cloud.generate_from_frequencies(df_dtm_tfidf_content_top_30_dict)\n",
    "plt.imshow(word_cloud)\n",
    "plt.show()"
   ]
  },
  {
   "cell_type": "code",
   "execution_count": null,
   "id": "bf89c675-5091-4b89-aa7d-0274bc2cb76e",
   "metadata": {},
   "outputs": [],
   "source": [
    "vocab = tfidfvect.get_feature_names_out()\n",
    "idf_dict = dict(zip(vocab, tfidfvect.idf_))\n",
    "idf_dict"
   ]
  },
  {
   "cell_type": "code",
   "execution_count": 107,
   "id": "a00561d8-ba4a-41c6-9dee-1451204c8e98",
   "metadata": {},
   "outputs": [
    {
     "ename": "AttributeError",
     "evalue": "'dict' object has no attribute 'head'",
     "output_type": "error",
     "traceback": [
      "\u001b[1;31m---------------------------------------------------------------------------\u001b[0m",
      "\u001b[1;31mAttributeError\u001b[0m                            Traceback (most recent call last)",
      "Cell \u001b[1;32mIn[107], line 1\u001b[0m\n\u001b[1;32m----> 1\u001b[0m idf_dict\u001b[38;5;241m.\u001b[39mhead(\u001b[38;5;241m30\u001b[39m)\n",
      "\u001b[1;31mAttributeError\u001b[0m: 'dict' object has no attribute 'head'"
     ]
    }
   ],
   "source": [
    "idf_dict.head(30)"
   ]
  }
 ],
 "metadata": {
  "kernelspec": {
   "display_name": "Python 3 (ipykernel)",
   "language": "python",
   "name": "python3"
  },
  "language_info": {
   "codemirror_mode": {
    "name": "ipython",
    "version": 3
   },
   "file_extension": ".py",
   "mimetype": "text/x-python",
   "name": "python",
   "nbconvert_exporter": "python",
   "pygments_lexer": "ipython3",
   "version": "3.12.7"
  }
 },
 "nbformat": 4,
 "nbformat_minor": 5
}
