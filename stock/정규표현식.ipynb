{
 "cells": [
  {
   "cell_type": "code",
   "execution_count": 1,
   "id": "3e705e93-091e-4241-8989-8ced42f397ac",
   "metadata": {},
   "outputs": [],
   "source": [
    "import re"
   ]
  },
  {
   "cell_type": "code",
   "execution_count": 2,
   "id": "ec72aef6-9aa4-48c8-b015-8e01435dffaf",
   "metadata": {},
   "outputs": [
    {
     "name": "stdout",
     "output_type": "stream",
     "text": [
      "Hello\n",
      "0\n",
      "5\n",
      "(0, 5)\n",
      "<re.Match object; span=(0, 5), match='Hello'>\n"
     ]
    }
   ],
   "source": [
    "text = 'Hello, world!'\n",
    "match_result = re.match(r'Hello',text)\n",
    "if match_result :\n",
    "    print(match_result.group()) # 문자열의 시작부분에서 패턴 매치되는 '첫' 문자열 반환 (중간에 껴있는건 못찾음 ex:world)\n",
    "    print(match_result.start()) # 패턴 매치되는 문자열의 시작 위치\n",
    "    print(match_result.end())   # 패턴 매치되는 문자열의 끝 위치\n",
    "    print(match_result.span())  # 패턴 매치되는 문자열의 시작,끝 위치를 튜플로 반환\n",
    "print(match_result)\n",
    "\n"
   ]
  },
  {
   "cell_type": "code",
   "execution_count": null,
   "id": "288de5a8-a6c7-4be8-b36e-5af6ff65b208",
   "metadata": {},
   "outputs": [],
   "source": [
    "type(re.match(r'Hello',text))\n",
    "re.match?"
   ]
  },
  {
   "cell_type": "code",
   "execution_count": 3,
   "id": "9f0ef4ba-9f85-4c0c-acf5-c89d97546664",
   "metadata": {},
   "outputs": [
    {
     "name": "stdout",
     "output_type": "stream",
     "text": [
      "world\n",
      "7\n",
      "12\n",
      "(7, 12)\n",
      "<re.Match object; span=(7, 12), match='world'>\n"
     ]
    }
   ],
   "source": [
    "# match와 search의 차이\n",
    "search_result = re.search(r'world',text)\n",
    "if match_result :\n",
    "    print(search_result.group()) # 문자열 중 패턴 매치되는 '첫' 문자열 반환 (world도 찾음)\n",
    "    print(search_result.start()) # 패턴 매치되는 문자열의 시작 위치\n",
    "    print(search_result.end())   # 패턴 매치되는 문자열의 끝 위치\n",
    "    print(search_result.span())  # 패턴 매치되는 문자열의 시작,끝 위치를 튜플로 반환\n",
    "\n",
    "print(search_result)"
   ]
  },
  {
   "cell_type": "markdown",
   "id": "b9011cd1-dace-493d-8989-26a360c845a9",
   "metadata": {},
   "source": [
    "- \\b : 단어 경계를 나타내는 메타문자\n",
    "- 특정 위치에서 단어의 시작 또는 끝을 나타내주며, 주로 단어가 다른 문자(ex:공백,구두점,숫자 등)와 구분되는 지점을 의미"
   ]
  },
  {
   "cell_type": "code",
   "execution_count": null,
   "id": "19ca1b6f-77a6-4f02-8bd2-e4c5aa3dabb1",
   "metadata": {},
   "outputs": [],
   "source": [
    "import re\n",
    "text = \"The rain in Spain falls mainly in the plain. ain\"\n",
    "matches = re.findall(r\"\\bain\" , text) # ain 으로 시작하는 문자열 : ain\n",
    "print(matches)\n",
    "matches = re.findall(r\"ain\\b\" , text) # ain 으로 끝나는 문자열 : rain, Spain, plain, ain\n",
    "print(matches)\n"
   ]
  },
  {
   "cell_type": "code",
   "execution_count": null,
   "id": "88e0206e-9953-4da5-9f7b-1d0feec8eca0",
   "metadata": {},
   "outputs": [],
   "source": [
    "import re\n",
    "\n",
    "text = \"The rain in Spain falls mainly in the plain.\"\n",
    "\n",
    "matches = re.finditer(r\"\\bain\", text)\n",
    "for match in matches :\n",
    "    print(match.group(),match.span())\n",
    "\n",
    "matches = re.finditer(r\"ain\\b\", text)\n",
    "for match in matches :\n",
    "    print(match.group(),match.span())\n"
   ]
  },
  {
   "cell_type": "code",
   "execution_count": 4,
   "id": "34fc2714-4d71-401c-afb6-e506b4a8b203",
   "metadata": {},
   "outputs": [
    {
     "name": "stdout",
     "output_type": "stream",
     "text": [
      "I have bananas and oranges. bananas bananas APPLES\n",
      "I have bananas and oranges. bananas apples APPLES\n",
      "I have bananas and oranges. bananas bananas bananas\n",
      "I have bananas and oranges. bananas bananas APPLES\n"
     ]
    }
   ],
   "source": [
    "text = \"I have apples and oranges. apples apples APPLES\"\n",
    "# 'apples'를 'bananas'로 대체\n",
    "result = re.sub(r\"apples\", \"bananas\", text)  # 전부 다바꿈\n",
    "print(result)\n",
    "\n",
    "result = re.sub(r\"apples\", \"bananas\", text, count=2) # 앞에서부터 두개만 바꿈 (default = 0 -> 다바꿈)\n",
    "print(result)\n",
    "\n",
    "# flags=re.I // re.IGNORECASE: 대소문자를 구분하지 않고 패턴 매칭\n",
    "# flags=re.M // re.MULTILINE : 문자열의 각 줄의 시작(^)과 끝($)을 기준으로 매칭 \n",
    "# flags=re.S // re.DOTALL: 메타문자가 줄 바꿈 문자(\\n)을 포함한 모든 문자와 매칭\n",
    "result = re.sub(r\"apples\", \"bananas\", text, flags=re.I) # 앞에서부터 두개만 바꿈 (default = 0 -> 다바꿈)\n",
    "print(result)\n",
    "\n",
    "result = re.sub(r\"apples\", \"bananas\", text, flags=re.M)\n",
    "print(result)"
   ]
  },
  {
   "cell_type": "code",
   "execution_count": null,
   "id": "54fcc67a-f885-444f-a37e-f3b691d7ff5b",
   "metadata": {},
   "outputs": [],
   "source": [
    "re.sub?"
   ]
  },
  {
   "cell_type": "markdown",
   "id": "3a96a3bf-f631-4552-a1a4-1c2d60ed88b2",
   "metadata": {},
   "source": [
    "#### 문자 열 내 공백 제거\n",
    "- strip() : 문자열의 앞뒤 공백제거 (타 플랫폼의 trim()과 같음)\n",
    "- lstrip() : 문자열의 왼쪽 공백 제거\n",
    "- rstrip() : 문자열의 오른쪽 공백 제거"
   ]
  },
  {
   "cell_type": "code",
   "execution_count": 73,
   "id": "1ceb2e65-fdee-461b-a1ca-61c8be7632a8",
   "metadata": {},
   "outputs": [
    {
     "name": "stdout",
     "output_type": "stream",
     "text": [
      "['apple', ' orange', ' banana', ' grape', ' kiwi']\n",
      "['apple', 'orange', 'banana', 'grape', 'kiwi']\n"
     ]
    }
   ],
   "source": [
    "import re\n",
    "text = \"apple, orange; banana; grape, kiwi\"\n",
    "# 쉼표(,)와 세미콜론(;)을 구분자로 사용하여 문자열 분할\n",
    "# 엄격하기 때문에 공백도 가져오는것을 확인할 수 있다.\n",
    "result = re.split(r\"[;,]\", text)\n",
    "print(result)\n",
    "\n",
    "# 문자열 공백 제거\n",
    "# case1)\n",
    "result = list(map(lambda ele : ele.strip(), result))\n",
    "\n",
    "# case2)\n",
    "# result = [ ele.strip() for ele in result ]\n",
    "print(result)"
   ]
  },
  {
   "cell_type": "code",
   "execution_count": 75,
   "id": "7388c320-c950-4605-b669-eb436bbfe380",
   "metadata": {},
   "outputs": [
    {
     "name": "stdout",
     "output_type": "stream",
     "text": [
      "['apple', ' orange', ' banana', ' grape', ' kiwi']\n",
      "['apple', 'orange', 'banana', 'grape', 'kiwi']\n"
     ]
    }
   ],
   "source": [
    "import re\n",
    "text = \"apple, orange; banana; grape, kiwi\"\n",
    "# 정규표현식을 컴파일하여 패턴객체로 저장\n",
    "pattern = re.compile(r\"[;,]\")\n",
    "# 쉼표(,)와 세미콜론(;)을 구분자로 사용하여 문자열 분할\n",
    "# 엄격하기 때문에 공백도 가져오는것을 확인할 수 있다.\n",
    "\n",
    "# case1)\n",
    "# result = re.split(pattern, text)\n",
    "# case2)\n",
    "result = pattern.split(text)\n",
    "\n",
    "print(result)\n",
    "\n",
    "# 문자열 공백 제거\n",
    "# case1)\n",
    "result = list(map(lambda ele : ele.strip(), result))\n",
    "\n",
    "# case2)\n",
    "# result = [ ele.strip() for ele in result ]\n",
    "print(result)"
   ]
  },
  {
   "cell_type": "markdown",
   "id": "6669cf23-79dd-4d3d-93f5-fb3945a60700",
   "metadata": {},
   "source": [
    "#### 정규표현식 플래그\n",
    "- flags=re.I // re.IGNORECASE: 대소문자를 구분하지 않고 패턴 매칭\n",
    "- flags=re.M // re.MULTILINE : 문자열의 각 줄의 시작(^)과 끝($)을 기준으로 매칭 \n",
    "- flags=re.S // re.DOTALL: 메타문자가 줄 바꿈 문자(\\n)을 포함한 모든 문자와 매칭\n"
   ]
  },
  {
   "cell_type": "code",
   "execution_count": 84,
   "id": "487704d7-222a-4ae8-9a63-774d5579cd06",
   "metadata": {},
   "outputs": [
    {
     "name": "stdout",
     "output_type": "stream",
     "text": [
      "['Hello', 'hello']\n"
     ]
    }
   ],
   "source": [
    "text = 'Hello World! hello World!'\n",
    "\n",
    "# 정규표현식 컴파일을 해서 쓸땐, 컴파일 시점에 플래그를 줘야함\n",
    "pattern = re.compile(r'hello', flags=re.I)\n",
    "\n",
    "# flags=re.I // re.IGNORECASE: 대소문자를 구분하지 않고 패턴 매칭\n",
    "matches = pattern.findall(text)\n",
    "print(matches) "
   ]
  },
  {
   "cell_type": "code",
   "execution_count": null,
   "id": "34c27d81-eb57-4fac-8fcd-3d5cfb3ac90d",
   "metadata": {},
   "outputs": [],
   "source": [
    "re.findall?"
   ]
  },
  {
   "cell_type": "code",
   "execution_count": 96,
   "id": "9cabd4c2-ffec-46a5-a4ce-8f9d03fa50e9",
   "metadata": {},
   "outputs": [
    {
     "name": "stdout",
     "output_type": "stream",
     "text": [
      "first line:end\n",
      "second line:end\n",
      "third line:end\n"
     ]
    }
   ],
   "source": [
    "text = '''first line\n",
    "second line\n",
    "third line'''\n",
    "\n",
    "# flags=re.M // re.MULTILINE : 문자열의 각 줄의 시작(^)과 끝($)을 기준으로 매칭 \n",
    "\n",
    "pattern = re.compile(r'$',flags=re.M)\n",
    "\n",
    "matches = pattern.sub(':end',text)\n",
    "print(matches)"
   ]
  },
  {
   "cell_type": "code",
   "execution_count": 101,
   "id": "a55da617-8a53-48b5-9ca2-d38dce5a296b",
   "metadata": {},
   "outputs": [
    {
     "name": "stdout",
     "output_type": "stream",
     "text": [
      "XXXXXXXXXXX\n",
      "11\n"
     ]
    }
   ],
   "source": [
    "\n",
    "# text= 'Hello\\nWorld'\n",
    "text= '''Hello\n",
    "World'''\n",
    "# flags=re.S // re.DOTALL: 메타문자가 줄 바꿈 문자(\\n)을 포함한 모든 문자와 매칭\n",
    "pattern = re.compile(r'.',re.S)\n",
    "matches = pattern.sub('X',text)\n",
    "print(matches)\n",
    "print(len(matches))"
   ]
  },
  {
   "cell_type": "code",
   "execution_count": 110,
   "id": "b6107e65-e5e6-4a8f-8b7e-cf72cfd8a1ff",
   "metadata": {},
   "outputs": [
    {
     "name": "stdout",
     "output_type": "stream",
     "text": [
      "John\n",
      "Jane\n",
      "[('John', 'Doe'), ('Jane', 'Doe')]\n"
     ]
    }
   ],
   "source": [
    "text = 'John Doe, Jane Doe'\n",
    "# 이름과 성을 그룹으로 묶음\n",
    "pattern = r\"(\\w+) (\\w+)\"\n",
    "# pattern = r\"(\\w+) (\\w+)\"\n",
    "\n",
    "matches = re.findall(pattern, text)\n",
    "for match in matches :\n",
    "    print(match)\n",
    "print(matches)\n",
    "# 출력: [('John', 'Doe'), ('Jane', 'Doe')]\n"
   ]
  },
  {
   "cell_type": "code",
   "execution_count": 113,
   "id": "8b6e81af-bb8c-44ef-93db-bbf7ef340a1c",
   "metadata": {},
   "outputs": [
    {
     "name": "stdout",
     "output_type": "stream",
     "text": [
      "John Doe\n",
      "John\n",
      "Doe\n",
      "Jane Doe\n",
      "Jane\n",
      "Doe\n",
      "<callable_iterator object at 0x0000025D362DAD10>\n"
     ]
    }
   ],
   "source": [
    "text = 'John Doe, Jane Doe'\n",
    "# 이름과 성을 그룹으로 묶음\n",
    "pattern = r\"(\\w+) (\\w+)\"\n",
    "# pattern = r\"(\\w+) (\\w+)\"\n",
    "\n",
    "matches = re.finditer(pattern, text)\n",
    "for match in matches :\n",
    "    print(match.group())        #match 객체\n",
    "    print(match.group(1))\n",
    "    print(match.group(2))\n",
    "print(matches)\n",
    "# 출력: [('John', 'Doe'), ('Jane', 'Doe')]\n"
   ]
  },
  {
   "cell_type": "code",
   "execution_count": 117,
   "id": "5106e850-7b67-400f-9658-1ded1692863f",
   "metadata": {},
   "outputs": [
    {
     "name": "stdout",
     "output_type": "stream",
     "text": [
      "['pie', 'tart', 'pie']\n"
     ]
    }
   ],
   "source": [
    "text = 'apple pie, apple tart, cherry pie'\n",
    "# 'apple' 또는 'cherry'를 비캡처 그룹으로 묶음\n",
    "pattern = r'(?:apple|cherry) (pie|tart)'\n",
    "matches = re.findall(pattern, text)\n",
    "print(matches)\n",
    "# 출력: ['pie', 'tart', 'pie']"
   ]
  },
  {
   "cell_type": "code",
   "execution_count": 120,
   "id": "92ed53f2-2cf7-47a7-b067-f675208c7bd8",
   "metadata": {},
   "outputs": [
    {
     "name": "stdout",
     "output_type": "stream",
     "text": [
      "abcabcabc\n"
     ]
    }
   ],
   "source": [
    "text = \"abcabcabc\"\n",
    "pattern = r\"a.*c\" # 탐욕 매칭\n",
    "match = re.search(pattern, text)\n",
    "print(match.group()) # 출력: abcabcabc"
   ]
  },
  {
   "cell_type": "code",
   "execution_count": 119,
   "id": "05bb571a-f111-429a-bfb5-e77282a1e599",
   "metadata": {},
   "outputs": [
    {
     "name": "stdout",
     "output_type": "stream",
     "text": [
      "abc\n"
     ]
    }
   ],
   "source": [
    "text = \"abcabcabc\"\n",
    "pattern = r\"a.*?c\" # 비탐욕 매칭\n",
    "match = re.search(pattern, text)\n",
    "print(match.group()) # 출력: abc"
   ]
  },
  {
   "cell_type": "markdown",
   "id": "abfd7541-6deb-4f20-ad6e-145c5a9abe0c",
   "metadata": {},
   "source": [
    "#### 전방 & 후방탐색\n",
    "\n",
    "- 양의 전방 탐색\n",
    "    - 특정 패턴이 뒤에 오는 경우를 찾음\n",
    "    - 예를 들어, X(?=Y)는 ＇Y＇가 뒤따르는 ＇X＇를 찾지만,＇Y'는 결과에 포함시키지 않음\n",
    "- 음의 전방 탐색(Negative Lookahead) (?!)\n",
    "    - 특정 패턴이 뒤에 오지 않는 경우를 찾음\n",
    "    - 예를 들어, X(?!Y)는 ＇Y＇가 뒤따르지 않는 ＇X＇를 찾음\n",
    "\n",
    "\n",
    "- 양의 후방 탐색 (Positive Lookbehind)(?<=)\n",
    "    - 특정 패턴이 앞에 오는 경우를 찾습니다.\n",
    "    - 예를 들어, (?<=Y)X는 'Y'가 앞서는 'X'를 찾지만, 'Y'는 결과에 포함시키지 않는다.\n",
    "\n",
    "- 음의 후방 탐색 (Negative Lookbehind) (?<!)\n",
    "    - 특정 패턴이 앞에 오지 않는 경우를 찾는다.\n",
    "    - 예를 들어, (?<!Y)X는 ＇Y＇가 앞서지 않는 ＇X＇를 찾는다."
   ]
  },
  {
   "cell_type": "code",
   "execution_count": 124,
   "id": "102503fb-3238-41b2-9eeb-c0456f3b457d",
   "metadata": {},
   "outputs": [
    {
     "name": "stdout",
     "output_type": "stream",
     "text": [
      "['http://example', 'http://sample']\n"
     ]
    }
   ],
   "source": [
    "text = \"Visit our website at http://example.com or http://sample.com\"\n",
    "\n",
    "pattern = re.compile(r'http://[^ ]+(?=\\.com)')\n",
    "\n",
    "matches = pattern.findall(text)\n",
    "print(matches)"
   ]
  },
  {
   "cell_type": "code",
   "execution_count": 125,
   "id": "e829f16e-b9ff-4366-bfd7-e9a9f866f2a0",
   "metadata": {},
   "outputs": [
    {
     "name": "stdout",
     "output_type": "stream",
     "text": [
      "['test', 'test', 'test']\n"
     ]
    }
   ],
   "source": [
    "text = 'testing test pool tested tester'\n",
    "pattern = re.compile(r'test(?!ing)')\n",
    "matches = pattern.findall(text)\n",
    "print(matches)"
   ]
  },
  {
   "cell_type": "code",
   "execution_count": 128,
   "id": "d5041a4b-7572-48d4-a662-859e38b5d623",
   "metadata": {},
   "outputs": [
    {
     "name": "stdout",
     "output_type": "stream",
     "text": [
      "['.99', '']\n"
     ]
    }
   ],
   "source": [
    "text = 'The price is $5.99 for the first item and $10 for the second.'\n",
    "pattern = re.compile(r'(?<=\\$)\\d+(\\.\\d+)?')\n",
    "matches = pattern.findall(text)\n",
    "print(matches)\n"
   ]
  },
  {
   "cell_type": "code",
   "execution_count": 129,
   "id": "6cb8a49b-b276-4588-96d4-01f54f71df04",
   "metadata": {},
   "outputs": [
    {
     "name": "stdout",
     "output_type": "stream",
     "text": [
      "['good']\n"
     ]
    }
   ],
   "source": [
    "text = 'The cake is not good but the pie is very good'\n",
    "pattern = re.compile(r'(?<!not\\s)good')\n",
    "matches = pattern.findall(text)\n",
    "print(matches)"
   ]
  },
  {
   "cell_type": "code",
   "execution_count": null,
   "id": "23fde029-6964-45f5-85ea-bf51a55f9ff3",
   "metadata": {},
   "outputs": [],
   "source": []
  },
  {
   "cell_type": "code",
   "execution_count": 5,
   "id": "a2670507-2876-46ea-8882-875a45e46239",
   "metadata": {},
   "outputs": [
    {
     "name": "stdout",
     "output_type": "stream",
     "text": [
      "['aaa', '', '', '', '', '', '', '']\n"
     ]
    }
   ],
   "source": [
    "import re\n",
    "text = \"aaabbbccc\"\n",
    "pattern = r\"a*\"\n",
    "# 'a'가 0회 이상 반복되는 부분 찾기\n",
    "matches = re.findall(pattern, text)\n",
    "print(matches) # 출력: ['aaa', '', '']\n",
    "\n",
    "# 첫 번째 빈 문자열: 'aaa' 다음에 나타나는 부분에서 'a'가 없으므로 첫 번째 빈 문자열.\n",
    "# 두 번째 빈 문자열: 첫 번째 'b' 다음, 'a'가 없으므로 두 번째 빈 문자열.\n",
    "# 세 번째 빈 문자열: 두 번째 'b' 다음, 또 다시 'a'가 없으므로 세 번째 빈 문자열.\n",
    "# 네 번째 빈 문자열: 첫 번째 'c' 다음, 'a'가 없으므로 네 번째 빈 문자열.\n",
    "# 다섯 번째 빈 문자열: 두 번째 'c' 다음, 또 다시 'a'가 없으므로 다섯 번째 빈 문자열.\n",
    "# 여섯 번째 빈 문자열: 문자열의 끝에서 'a'가 없으므로 여섯 번째 빈 문자열.\n",
    "# 일곱 번째 빈 문자열: 문자열의 끝에서 'a'가 없으므로 일곱 번째 빈 문자열."
   ]
  },
  {
   "cell_type": "code",
   "execution_count": 7,
   "id": "e23159d1-b601-4f6b-a342-e5023a8458b7",
   "metadata": {},
   "outputs": [
    {
     "name": "stdout",
     "output_type": "stream",
     "text": [
      "['Hello', 'Htllo', 'Hzllo']\n"
     ]
    }
   ],
   "source": [
    "import re\n",
    "text = \"Hello World! Htllo Hzllo\"\n",
    "pattern = r\"H.llo\"\n",
    "# 'H'와 'llo' 사이에 임의의 문자 찾기\n",
    "matches = re.findall(pattern, text)\n",
    "print(matches) # 출력: ['Hello']"
   ]
  },
  {
   "cell_type": "code",
   "execution_count": 8,
   "id": "02cd1823-bb40-48ca-8293-4db07589200f",
   "metadata": {},
   "outputs": [
    {
     "name": "stdout",
     "output_type": "stream",
     "text": [
      "['color', 'colour']\n"
     ]
    }
   ],
   "source": [
    "import re\n",
    "text = \"color colour\"\n",
    "pattern = r\"colou?r\"\n",
    "# 'u'가 0회 또는 1회 나타나는 부분 찾기\n",
    "matches = re.findall(pattern, text)\n",
    "print(matches) # 출력: ['color', 'colour']"
   ]
  },
  {
   "cell_type": "code",
   "execution_count": 9,
   "id": "8d5193c0-6fd3-45a0-9c90-227a99018e08",
   "metadata": {},
   "outputs": [
    {
     "name": "stdout",
     "output_type": "stream",
     "text": [
      "first linesecond linethird line:end\n"
     ]
    },
    {
     "data": {
      "text/plain": [
       "['Hello', 'hello']"
      ]
     },
     "execution_count": 9,
     "metadata": {},
     "output_type": "execute_result"
    }
   ],
   "source": [
    "import re\n",
    "text = '''first linesecond linethird line'''\n",
    "pattern = re.compile(r'$', flags=re.M)\n",
    "matches = pattern.sub(':end',text)\n",
    "print(matches)\n",
    "#결과\n"
   ]
  },
  {
   "cell_type": "code",
   "execution_count": 11,
   "id": "a2e6c158-3ef6-42f9-8c5f-c2c6e94f0f17",
   "metadata": {},
   "outputs": [
    {
     "name": "stdout",
     "output_type": "stream",
     "text": [
      "XXXXXXXXXXX\n"
     ]
    }
   ],
   "source": [
    "import re\n",
    "text = 'Hello\\nWorld'\n",
    "pattern = re.compile(r'.', re.S)\n",
    "matches = pattern.sub('X',text)\n",
    "print(matches)"
   ]
  },
  {
   "cell_type": "code",
   "execution_count": 12,
   "id": "1f6f8e42-9806-4646-9698-153ac897f1c0",
   "metadata": {},
   "outputs": [
    {
     "name": "stdout",
     "output_type": "stream",
     "text": [
      "[('John', 'Doe'), ('Jane', 'Doe')]\n"
     ]
    }
   ],
   "source": [
    "import re\n",
    "text = 'John Doe, Jane Doe'\n",
    "# 이름과 성을 그룹으로 묶음\n",
    "pattern = r\"(\\w+) (\\w+)\"\n",
    "matches = re.findall(pattern, text)\n",
    "print(matches)\n",
    "# 출력: [('John', 'Doe'), ('Jane', 'Doe')]\n"
   ]
  },
  {
   "cell_type": "code",
   "execution_count": 13,
   "id": "8dfa7089-4686-4e8c-8ac2-77faec83db83",
   "metadata": {},
   "outputs": [
    {
     "name": "stdout",
     "output_type": "stream",
     "text": [
      "['Doe', 'Doe']\n"
     ]
    }
   ],
   "source": [
    "pattern = r\"(?:\\w+) (\\w+)\"\n",
    "matches = re.findall(pattern, text)\n",
    "print(matches)"
   ]
  },
  {
   "cell_type": "code",
   "execution_count": 14,
   "id": "be38a8ed-0a0c-438d-93bd-3b92ff8a2362",
   "metadata": {},
   "outputs": [
    {
     "name": "stdout",
     "output_type": "stream",
     "text": [
      "abcabcabc\n"
     ]
    }
   ],
   "source": [
    "text = \"abcabcabc\"\n",
    "pattern = r\"a.*c\" # 탐욕 매칭\n",
    "match = re.search(pattern, text)\n",
    "print(match.group()) # 출력: abcabcabc"
   ]
  },
  {
   "cell_type": "code",
   "execution_count": 15,
   "id": "410ba4bc-5863-4843-b2b8-614000bf695a",
   "metadata": {},
   "outputs": [
    {
     "name": "stdout",
     "output_type": "stream",
     "text": [
      "abc\n"
     ]
    }
   ],
   "source": [
    "pattern = r\"a.*?c\" # 비탐욕 매칭\n",
    "match = re.search(pattern, text)\n",
    "print(match.group()) # 출력: abc"
   ]
  },
  {
   "cell_type": "code",
   "execution_count": 17,
   "id": "1a55d107-9e48-4430-883f-5f5aac09d656",
   "metadata": {},
   "outputs": [
    {
     "name": "stdout",
     "output_type": "stream",
     "text": [
      "['.99', '']\n"
     ]
    }
   ],
   "source": [
    "text = 'The price is $5.99 for the first item and $10 for the second.'\n",
    "pattern = re.compile(r'(?<=\\$)\\d+(\\.\\d+)?')\n",
    "matches = pattern.findall(text)\n",
    "print(matches)"
   ]
  },
  {
   "cell_type": "code",
   "execution_count": 18,
   "id": "9a4d0f90-28a2-46f9-80ca-c0ae6f3faf90",
   "metadata": {},
   "outputs": [
    {
     "name": "stdout",
     "output_type": "stream",
     "text": [
      "['http://example', 'http://sample']\n"
     ]
    }
   ],
   "source": [
    "text = '''Visit out website at http://example.com or\n",
    "http://sample.com'''\n",
    "pattern = re.compile(r'http://[^ ]+(?=\\.com)')\n",
    "matches = pattern.findall(text)\n",
    "print(matches)"
   ]
  },
  {
   "cell_type": "code",
   "execution_count": 22,
   "id": "8353af32-1957-4e20-aaeb-d86071ddbfb4",
   "metadata": {},
   "outputs": [
    {
     "name": "stdout",
     "output_type": "stream",
     "text": [
      "['http://example.com', 'http://sample.com']\n"
     ]
    }
   ],
   "source": [
    "pattern = re.compile(r'http://[^ ]+(?!\\.com)')\n",
    "matches = pattern.findall(text)\n",
    "print(matches)\n",
    "\n",
    "# 실제로 re.findall()은 패턴에 맞는 부분을 찾으려 할 때, http://example.com과 http://sample.com에서 [^ ]+ 부분은 http://example.com과 http://sample.com으로 일치합니다.\n",
    "# 그러나 부정형 전방탐색 (?!\\.com)이 작동하기 전에 이미 [^ ]+가 URL을 매칭하여 결과에 포함됩니다.\n",
    "# 이로 인해 두 URL이 결과로 포함된 것입니다.\n",
    "# + 앞의 문자가 1번 이상 반복되는 부분과 일치"
   ]
  },
  {
   "cell_type": "code",
   "execution_count": 23,
   "id": "10d5fa76-c37d-4871-a777-18100b2caa82",
   "metadata": {},
   "outputs": [
    {
     "name": "stdout",
     "output_type": "stream",
     "text": [
      "['test', 'test', 'test']\n"
     ]
    }
   ],
   "source": [
    "text = 'testing test pool tested tester'\n",
    "pattern = re.compile(r'test(?!ing)')\n",
    "matches = pattern.findall(text)\n",
    "print(matches)\n",
    "# 출력: ['test', 'test', 'test']"
   ]
  },
  {
   "cell_type": "code",
   "execution_count": 25,
   "id": "73bb0b06-99e2-4dc8-8371-228506b858f8",
   "metadata": {
    "scrolled": true
   },
   "outputs": [
    {
     "name": "stdout",
     "output_type": "stream",
     "text": [
      "['.99', '']\n"
     ]
    }
   ],
   "source": [
    "text = 'The price is $5.99 for the first item and $10 for the second.'\n",
    "pattern = re.compile(r'(?<=\\$)\\d+(\\.\\d+)?')\n",
    "matches = pattern.findall(text)\n",
    "print(matches)\n"
   ]
  },
  {
   "cell_type": "code",
   "execution_count": 26,
   "id": "a7e7925b-b8c6-47ab-9083-bda8c0aac938",
   "metadata": {},
   "outputs": [
    {
     "name": "stdout",
     "output_type": "stream",
     "text": [
      "['good']\n"
     ]
    }
   ],
   "source": [
    "text = 'The cake is not good but the pie is very good'\n",
    "pattern = re.compile(r'(?<!not\\s)good')\n",
    "matches = pattern.findall(text)\n",
    "print(matches)"
   ]
  },
  {
   "cell_type": "code",
   "execution_count": null,
   "id": "674c079d-65b0-462f-83a3-90e00f8700cc",
   "metadata": {},
   "outputs": [],
   "source": []
  }
 ],
 "metadata": {
  "kernelspec": {
   "display_name": "Python 3 (ipykernel)",
   "language": "python",
   "name": "python3"
  },
  "language_info": {
   "codemirror_mode": {
    "name": "ipython",
    "version": 3
   },
   "file_extension": ".py",
   "mimetype": "text/x-python",
   "name": "python",
   "nbconvert_exporter": "python",
   "pygments_lexer": "ipython3",
   "version": "3.12.7"
  }
 },
 "nbformat": 4,
 "nbformat_minor": 5
}
