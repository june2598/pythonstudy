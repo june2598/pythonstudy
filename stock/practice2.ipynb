{
 "cells": [
  {
   "cell_type": "code",
   "execution_count": 1,
   "id": "cfd411cb-dda4-45a0-928e-9874523c4a9a",
   "metadata": {},
   "outputs": [],
   "source": [
    "# 데이터 분석을 위한 패키지\n",
    "import numpy as np\n",
    "import pandas as pd"
   ]
  },
  {
   "cell_type": "code",
   "execution_count": 2,
   "id": "927afd06-696c-4623-b15f-cde771c0e8d2",
   "metadata": {},
   "outputs": [],
   "source": [
    "# 시각화 패키지\n",
    "import matplotlib.pyplot as plt\n",
    "import seaborn as sns"
   ]
  },
  {
   "cell_type": "code",
   "execution_count": 3,
   "id": "22c7ac93-f5bc-434c-a9c2-74346c5be676",
   "metadata": {},
   "outputs": [],
   "source": [
    "import koreanize_matplotlib"
   ]
  },
  {
   "cell_type": "code",
   "execution_count": 4,
   "id": "3e1b41f6-ffe6-40eb-8c04-42872cc4a1b2",
   "metadata": {},
   "outputs": [],
   "source": [
    "# 모든 컬럼,행을 출력하도록 설정\n",
    "pd.set_option('display.max_columns', None) # None으로 설정하면 모든 컬럼 출력\n",
    "pd.set_option('display.max_rows', 50) #None으로 설정하면 모든 행 출력"
   ]
  },
  {
   "cell_type": "code",
   "execution_count": 5,
   "id": "5911a8e5-3036-4fb5-bfb8-83100a0700fc",
   "metadata": {},
   "outputs": [],
   "source": [
    "pd.options.display.float_format = '{:,.3f}'.format"
   ]
  },
  {
   "cell_type": "code",
   "execution_count": 6,
   "id": "155285be-5a88-402f-93e1-59046d6439e1",
   "metadata": {},
   "outputs": [],
   "source": [
    "import FinanceDataReader as fdr"
   ]
  },
  {
   "cell_type": "code",
   "execution_count": 7,
   "id": "5d1180b0-7513-43a6-9d57-d2ffaf87a3fc",
   "metadata": {},
   "outputs": [
    {
     "data": {
      "text/html": [
       "<div>\n",
       "<style scoped>\n",
       "    .dataframe tbody tr th:only-of-type {\n",
       "        vertical-align: middle;\n",
       "    }\n",
       "\n",
       "    .dataframe tbody tr th {\n",
       "        vertical-align: top;\n",
       "    }\n",
       "\n",
       "    .dataframe thead th {\n",
       "        text-align: right;\n",
       "    }\n",
       "</style>\n",
       "<table border=\"1\" class=\"dataframe\">\n",
       "  <thead>\n",
       "    <tr style=\"text-align: right;\">\n",
       "      <th></th>\n",
       "      <th>Symbol</th>\n",
       "      <th>Category</th>\n",
       "      <th>Name</th>\n",
       "      <th>Price</th>\n",
       "      <th>RiseFall</th>\n",
       "      <th>Change</th>\n",
       "      <th>ChangeRate</th>\n",
       "      <th>NAV</th>\n",
       "      <th>EarningRate</th>\n",
       "      <th>Volume</th>\n",
       "      <th>Amount</th>\n",
       "      <th>MarCap</th>\n",
       "    </tr>\n",
       "  </thead>\n",
       "  <tbody>\n",
       "    <tr>\n",
       "      <th>0</th>\n",
       "      <td>459580</td>\n",
       "      <td>6</td>\n",
       "      <td>KODEX CD금리액티브(합성)</td>\n",
       "      <td>1056985</td>\n",
       "      <td>2</td>\n",
       "      <td>95</td>\n",
       "      <td>0.010</td>\n",
       "      <td>1,057,017.000</td>\n",
       "      <td>0.825</td>\n",
       "      <td>172270</td>\n",
       "      <td>182087</td>\n",
       "      <td>93049</td>\n",
       "    </tr>\n",
       "    <tr>\n",
       "      <th>1</th>\n",
       "      <td>357870</td>\n",
       "      <td>6</td>\n",
       "      <td>TIGER CD금리투자KIS(합성)</td>\n",
       "      <td>55400</td>\n",
       "      <td>2</td>\n",
       "      <td>5</td>\n",
       "      <td>0.010</td>\n",
       "      <td>55,395.000</td>\n",
       "      <td>0.810</td>\n",
       "      <td>92283</td>\n",
       "      <td>5112</td>\n",
       "      <td>69345</td>\n",
       "    </tr>\n",
       "    <tr>\n",
       "      <th>2</th>\n",
       "      <td>360750</td>\n",
       "      <td>4</td>\n",
       "      <td>TIGER 미국S&amp;P500</td>\n",
       "      <td>21620</td>\n",
       "      <td>5</td>\n",
       "      <td>-55</td>\n",
       "      <td>-0.250</td>\n",
       "      <td>21,600.000</td>\n",
       "      <td>17.067</td>\n",
       "      <td>2679260</td>\n",
       "      <td>57912</td>\n",
       "      <td>62784</td>\n",
       "    </tr>\n",
       "    <tr>\n",
       "      <th>3</th>\n",
       "      <td>069500</td>\n",
       "      <td>1</td>\n",
       "      <td>KODEX 200</td>\n",
       "      <td>33130</td>\n",
       "      <td>2</td>\n",
       "      <td>160</td>\n",
       "      <td>0.490</td>\n",
       "      <td>33,163.000</td>\n",
       "      <td>-3.869</td>\n",
       "      <td>2392871</td>\n",
       "      <td>78862</td>\n",
       "      <td>56404</td>\n",
       "    </tr>\n",
       "    <tr>\n",
       "      <th>4</th>\n",
       "      <td>423160</td>\n",
       "      <td>6</td>\n",
       "      <td>KODEX KOFR금리액티브(합성)</td>\n",
       "      <td>108935</td>\n",
       "      <td>2</td>\n",
       "      <td>25</td>\n",
       "      <td>0.020</td>\n",
       "      <td>108,925.000</td>\n",
       "      <td>0.800</td>\n",
       "      <td>22584</td>\n",
       "      <td>2460</td>\n",
       "      <td>44412</td>\n",
       "    </tr>\n",
       "    <tr>\n",
       "      <th>...</th>\n",
       "      <td>...</td>\n",
       "      <td>...</td>\n",
       "      <td>...</td>\n",
       "      <td>...</td>\n",
       "      <td>...</td>\n",
       "      <td>...</td>\n",
       "      <td>...</td>\n",
       "      <td>...</td>\n",
       "      <td>...</td>\n",
       "      <td>...</td>\n",
       "      <td>...</td>\n",
       "      <td>...</td>\n",
       "    </tr>\n",
       "    <tr>\n",
       "      <th>925</th>\n",
       "      <td>407310</td>\n",
       "      <td>1</td>\n",
       "      <td>HANARO 200 TOP10</td>\n",
       "      <td>8005</td>\n",
       "      <td>2</td>\n",
       "      <td>20</td>\n",
       "      <td>0.250</td>\n",
       "      <td>8,017.000</td>\n",
       "      <td>-3.271</td>\n",
       "      <td>568</td>\n",
       "      <td>4</td>\n",
       "      <td>16</td>\n",
       "    </tr>\n",
       "    <tr>\n",
       "      <th>926</th>\n",
       "      <td>227550</td>\n",
       "      <td>2</td>\n",
       "      <td>TIGER 200 산업재</td>\n",
       "      <td>6655</td>\n",
       "      <td>2</td>\n",
       "      <td>145</td>\n",
       "      <td>2.230</td>\n",
       "      <td>6,663.000</td>\n",
       "      <td>-2.763</td>\n",
       "      <td>81</td>\n",
       "      <td>0</td>\n",
       "      <td>16</td>\n",
       "    </tr>\n",
       "    <tr>\n",
       "      <th>927</th>\n",
       "      <td>407300</td>\n",
       "      <td>2</td>\n",
       "      <td>HANARO Fn골프테마</td>\n",
       "      <td>5315</td>\n",
       "      <td>2</td>\n",
       "      <td>65</td>\n",
       "      <td>1.240</td>\n",
       "      <td>5,334.000</td>\n",
       "      <td>-7.244</td>\n",
       "      <td>69</td>\n",
       "      <td>0</td>\n",
       "      <td>16</td>\n",
       "    </tr>\n",
       "    <tr>\n",
       "      <th>928</th>\n",
       "      <td>429990</td>\n",
       "      <td>7</td>\n",
       "      <td>SOL 한국형글로벌플랫폼&amp;메타버스액티브</td>\n",
       "      <td>17015</td>\n",
       "      <td>2</td>\n",
       "      <td>90</td>\n",
       "      <td>0.530</td>\n",
       "      <td>16,959.000</td>\n",
       "      <td>32.072</td>\n",
       "      <td>6</td>\n",
       "      <td>0</td>\n",
       "      <td>10</td>\n",
       "    </tr>\n",
       "    <tr>\n",
       "      <th>929</th>\n",
       "      <td>427110</td>\n",
       "      <td>2</td>\n",
       "      <td>RISE 창업투자회사</td>\n",
       "      <td>6655</td>\n",
       "      <td>2</td>\n",
       "      <td>160</td>\n",
       "      <td>2.460</td>\n",
       "      <td>6,739.000</td>\n",
       "      <td>8.703</td>\n",
       "      <td>526</td>\n",
       "      <td>3</td>\n",
       "      <td>9</td>\n",
       "    </tr>\n",
       "  </tbody>\n",
       "</table>\n",
       "<p>930 rows × 12 columns</p>\n",
       "</div>"
      ],
      "text/plain": [
       "     Symbol  Category                   Name    Price RiseFall  Change  \\\n",
       "0    459580         6      KODEX CD금리액티브(합성)  1056985        2      95   \n",
       "1    357870         6    TIGER CD금리투자KIS(합성)    55400        2       5   \n",
       "2    360750         4         TIGER 미국S&P500    21620        5     -55   \n",
       "3    069500         1              KODEX 200    33130        2     160   \n",
       "4    423160         6    KODEX KOFR금리액티브(합성)   108935        2      25   \n",
       "..      ...       ...                    ...      ...      ...     ...   \n",
       "925  407310         1       HANARO 200 TOP10     8005        2      20   \n",
       "926  227550         2          TIGER 200 산업재     6655        2     145   \n",
       "927  407300         2          HANARO Fn골프테마     5315        2      65   \n",
       "928  429990         7  SOL 한국형글로벌플랫폼&메타버스액티브    17015        2      90   \n",
       "929  427110         2            RISE 창업투자회사     6655        2     160   \n",
       "\n",
       "     ChangeRate           NAV  EarningRate   Volume  Amount  MarCap  \n",
       "0         0.010 1,057,017.000        0.825   172270  182087   93049  \n",
       "1         0.010    55,395.000        0.810    92283    5112   69345  \n",
       "2        -0.250    21,600.000       17.067  2679260   57912   62784  \n",
       "3         0.490    33,163.000       -3.869  2392871   78862   56404  \n",
       "4         0.020   108,925.000        0.800    22584    2460   44412  \n",
       "..          ...           ...          ...      ...     ...     ...  \n",
       "925       0.250     8,017.000       -3.271      568       4      16  \n",
       "926       2.230     6,663.000       -2.763       81       0      16  \n",
       "927       1.240     5,334.000       -7.244       69       0      16  \n",
       "928       0.530    16,959.000       32.072        6       0      10  \n",
       "929       2.460     6,739.000        8.703      526       3       9  \n",
       "\n",
       "[930 rows x 12 columns]"
      ]
     },
     "execution_count": 7,
     "metadata": {},
     "output_type": "execute_result"
    }
   ],
   "source": [
    "fdr.StockListing('ETF/KR')"
   ]
  },
  {
   "cell_type": "code",
   "execution_count": 8,
   "id": "da68854d-164a-4a9f-892d-584e2fc36377",
   "metadata": {},
   "outputs": [],
   "source": [
    "df_stocks = pd.read_csv('stocks.csv')"
   ]
  },
  {
   "cell_type": "code",
   "execution_count": 98,
   "id": "0e7567c7-6d44-40cd-bf79-c55e4bd933cc",
   "metadata": {},
   "outputs": [
    {
     "data": {
      "text/html": [
       "<div>\n",
       "<style scoped>\n",
       "    .dataframe tbody tr th:only-of-type {\n",
       "        vertical-align: middle;\n",
       "    }\n",
       "\n",
       "    .dataframe tbody tr th {\n",
       "        vertical-align: top;\n",
       "    }\n",
       "\n",
       "    .dataframe thead th {\n",
       "        text-align: right;\n",
       "    }\n",
       "</style>\n",
       "<table border=\"1\" class=\"dataframe\">\n",
       "  <thead>\n",
       "    <tr style=\"text-align: right;\">\n",
       "      <th></th>\n",
       "      <th>Code</th>\n",
       "      <th>Name</th>\n",
       "      <th>Market</th>\n",
       "      <th>Dept</th>\n",
       "      <th>Close</th>\n",
       "      <th>ChangeCode</th>\n",
       "      <th>Changes</th>\n",
       "      <th>ChagesRatio</th>\n",
       "      <th>Open</th>\n",
       "      <th>High</th>\n",
       "      <th>Low</th>\n",
       "      <th>Volume</th>\n",
       "      <th>Amount</th>\n",
       "      <th>Marcap</th>\n",
       "      <th>Stocks</th>\n",
       "      <th>MarketId</th>\n",
       "      <th>Sector</th>\n",
       "      <th>Industry</th>\n",
       "      <th>ListingDate</th>\n",
       "      <th>SettleMonth</th>\n",
       "      <th>Representative</th>\n",
       "      <th>HomePage</th>\n",
       "      <th>Region</th>\n",
       "    </tr>\n",
       "  </thead>\n",
       "  <tbody>\n",
       "    <tr>\n",
       "      <th>0</th>\n",
       "      <td>005930</td>\n",
       "      <td>삼성전자</td>\n",
       "      <td>KOSPI</td>\n",
       "      <td>NaN</td>\n",
       "      <td>53900</td>\n",
       "      <td>1</td>\n",
       "      <td>500</td>\n",
       "      <td>0.940</td>\n",
       "      <td>54500</td>\n",
       "      <td>54500</td>\n",
       "      <td>53700</td>\n",
       "      <td>16788212</td>\n",
       "      <td>906959515200</td>\n",
       "      <td>321771279445000</td>\n",
       "      <td>5969782550</td>\n",
       "      <td>STK</td>\n",
       "      <td>통신 및 방송 장비 제조업</td>\n",
       "      <td>통신 및 방송 장비 제조(무선) 제품, 반도체 제조(메모리) 제품, 전자부품 제조(...</td>\n",
       "      <td>1975-06-11</td>\n",
       "      <td>12월</td>\n",
       "      <td>한종희</td>\n",
       "      <td>http://www.samsung.com/sec</td>\n",
       "      <td>경기도</td>\n",
       "    </tr>\n",
       "  </tbody>\n",
       "</table>\n",
       "</div>"
      ],
      "text/plain": [
       "     Code  Name Market Dept  Close  ChangeCode  Changes  ChagesRatio   Open  \\\n",
       "0  005930  삼성전자  KOSPI  NaN  53900           1      500        0.940  54500   \n",
       "\n",
       "    High    Low    Volume        Amount           Marcap      Stocks MarketId  \\\n",
       "0  54500  53700  16788212  906959515200  321771279445000  5969782550      STK   \n",
       "\n",
       "           Sector                                           Industry  \\\n",
       "0  통신 및 방송 장비 제조업  통신 및 방송 장비 제조(무선) 제품, 반도체 제조(메모리) 제품, 전자부품 제조(...   \n",
       "\n",
       "  ListingDate SettleMonth Representative                    HomePage Region  \n",
       "0  1975-06-11         12월            한종희  http://www.samsung.com/sec    경기도  "
      ]
     },
     "execution_count": 98,
     "metadata": {},
     "output_type": "execute_result"
    }
   ],
   "source": [
    "df_stocks.head(1)"
   ]
  },
  {
   "cell_type": "markdown",
   "id": "dbbd088e-8d4d-4d93-83a2-49d8a14cb29b",
   "metadata": {},
   "source": [
    "지금 내가 투자한 종목들의 성격에따라 투자자의 성향을 파악한뒤,(공격적인 투자인지, 보수적인 투자인지) -> 그에따른 종목추천을 하는방법을 찾기\n",
    "\n",
    "1. 내가 투자한종목을 입력 받기\n",
    "2. 내가 투자한 종목들의 변동률을 일정기간동안 평준화\n",
    "   2-1 : 일정기간 - 단기투자, 중기투자, 장기투자에 따라 다르게\n",
    "   2-2 : 단기투자 : 1개월 / 중기투자 : 4개월 / 장기투자 : 1년\n",
    "4. 투자자의 성향파악 : 투자한 종목들의 변동률이 일정 이상이면 하이리스크 하이리턴형, 변동률이 낮으면 로우리스크 로우리턴형\n",
    "5. 종목추천 : 변동률을 일정구간(4구간)으로 나눠서 투자자의 성향을 나눔\n",
    "6. 각구간별로 데이터를 나눠놓음\n",
    "7. 나눠놓은 데이터를 앞에서 분석한 성향에 따라 추천"
   ]
  },
  {
   "cell_type": "code",
   "execution_count": 18,
   "id": "48d65607-8600-4c3f-88ee-63542f7b2ec0",
   "metadata": {},
   "outputs": [
    {
     "data": {
      "text/html": [
       "<div>\n",
       "<style scoped>\n",
       "    .dataframe tbody tr th:only-of-type {\n",
       "        vertical-align: middle;\n",
       "    }\n",
       "\n",
       "    .dataframe tbody tr th {\n",
       "        vertical-align: top;\n",
       "    }\n",
       "\n",
       "    .dataframe thead th {\n",
       "        text-align: right;\n",
       "    }\n",
       "</style>\n",
       "<table border=\"1\" class=\"dataframe\">\n",
       "  <thead>\n",
       "    <tr style=\"text-align: right;\">\n",
       "      <th></th>\n",
       "      <th>Code</th>\n",
       "      <th>Name</th>\n",
       "      <th>Close</th>\n",
       "    </tr>\n",
       "  </thead>\n",
       "  <tbody>\n",
       "    <tr>\n",
       "      <th>0</th>\n",
       "      <td>005930</td>\n",
       "      <td>삼성전자</td>\n",
       "      <td>53900</td>\n",
       "    </tr>\n",
       "  </tbody>\n",
       "</table>\n",
       "</div>"
      ],
      "text/plain": [
       "     Code  Name  Close\n",
       "0  005930  삼성전자  53900"
      ]
     },
     "execution_count": 18,
     "metadata": {},
     "output_type": "execute_result"
    }
   ],
   "source": [
    "df_stocks[df_stocks['Name'] == '삼성전자'][['Code','Name','Close']]"
   ]
  },
  {
   "cell_type": "code",
   "execution_count": null,
   "id": "7ca7fb05-82d4-45e7-a5ee-6b742f5bc5fe",
   "metadata": {},
   "outputs": [],
   "source": [
    "fdr.DataReader('005930','2024-08')"
   ]
  },
  {
   "cell_type": "code",
   "execution_count": 37,
   "id": "89dc916d-f249-4020-b355-29ab9b099c54",
   "metadata": {},
   "outputs": [],
   "source": [
    "samsung_df = fdr.DataReader('005930','2024-08')"
   ]
  },
  {
   "cell_type": "code",
   "execution_count": null,
   "id": "cd8d35a1-a2e3-491b-a236-f8a68c3c91e5",
   "metadata": {},
   "outputs": [],
   "source": [
    "# 삼성전자의 변동률을 일정기간 동안 평준화\n",
    "samsung_df['Change'].mean() * 100"
   ]
  },
  {
   "cell_type": "code",
   "execution_count": 75,
   "id": "14f6706a-38c4-4042-b20a-b3104662a113",
   "metadata": {},
   "outputs": [
    {
     "data": {
      "text/html": [
       "<div>\n",
       "<style scoped>\n",
       "    .dataframe tbody tr th:only-of-type {\n",
       "        vertical-align: middle;\n",
       "    }\n",
       "\n",
       "    .dataframe tbody tr th {\n",
       "        vertical-align: top;\n",
       "    }\n",
       "\n",
       "    .dataframe thead th {\n",
       "        text-align: right;\n",
       "    }\n",
       "</style>\n",
       "<table border=\"1\" class=\"dataframe\">\n",
       "  <thead>\n",
       "    <tr style=\"text-align: right;\">\n",
       "      <th></th>\n",
       "      <th>Name</th>\n",
       "      <th>Code</th>\n",
       "    </tr>\n",
       "  </thead>\n",
       "  <tbody>\n",
       "    <tr>\n",
       "      <th>0</th>\n",
       "      <td>삼성전자</td>\n",
       "      <td>005930</td>\n",
       "    </tr>\n",
       "  </tbody>\n",
       "</table>\n",
       "</div>"
      ],
      "text/plain": [
       "   Name    Code\n",
       "0  삼성전자  005930"
      ]
     },
     "execution_count": 75,
     "metadata": {},
     "output_type": "execute_result"
    }
   ],
   "source": [
    "df_stocks[df_stocks['Name'] == '삼성전자'][['Name','Code']]"
   ]
  },
  {
   "cell_type": "code",
   "execution_count": 77,
   "id": "48155d6e-4c8c-4a13-b30a-e559977a0f42",
   "metadata": {},
   "outputs": [
    {
     "data": {
      "text/plain": [
       "0    005930\n",
       "Name: Code, dtype: object"
      ]
     },
     "execution_count": 77,
     "metadata": {},
     "output_type": "execute_result"
    }
   ],
   "source": [
    "df_stocks[df_stocks['Name'] == '삼성전자']['Code']"
   ]
  },
  {
   "cell_type": "code",
   "execution_count": 83,
   "id": "15aa69b3-0e5f-4f10-82f6-fdeae3ca19a2",
   "metadata": {},
   "outputs": [],
   "source": [
    "# 투자자가 투자했던 종목\n",
    "def my_invested_stocks(names) :\n",
    "    return df_stocks[df_stocks['Name'] == name]['Code'].values"
   ]
  },
  {
   "cell_type": "code",
   "execution_count": 97,
   "id": "ba013fad-b878-4f95-8ed6-b05cc7330532",
   "metadata": {},
   "outputs": [],
   "source": [
    "# 투자자가 투자했던 종목\n",
    "def my_invested_stocks(names):\n",
    "    # names가 리스트인지 확인하고, 리스트가 아닐 경우 리스트로 변환\n",
    "    if not isinstance(names, list):\n",
    "        names = [names]\n",
    "        \n",
    "    # 주어진 이름들에 해당하는 종목 코드 반환\n",
    "    return df_stocks[df_stocks['Name'].isin(names)]['Code'].values"
   ]
  },
  {
   "cell_type": "code",
   "execution_count": 92,
   "id": "fd3112da-a091-45d3-b88a-0d2806442a83",
   "metadata": {},
   "outputs": [
    {
     "data": {
      "text/plain": [
       "'005930'"
      ]
     },
     "execution_count": 92,
     "metadata": {},
     "output_type": "execute_result"
    }
   ],
   "source": [
    "my_invested_stocks(['삼성전자','고려아연'])[0]"
   ]
  },
  {
   "cell_type": "code",
   "execution_count": null,
   "id": "e597025b-8aef-4c1c-a01c-b41f92a56c8e",
   "metadata": {},
   "outputs": [],
   "source": [
    "# 종목을 고변동, 중고변동, 중저변동, 저변동성으로 나누기\n",
    "# 1개월, 4개월, 12개월단위로 3가지의 데이터 프레임이 필요\n",
    "# 그 중에서 특정 분류기준에 따라 상위 몇개를 보여주는방식\n",
    "# 시가총액, 규모 , 평균 거래량 등을 고려해볼 수 있을듯"
   ]
  },
  {
   "cell_type": "code",
   "execution_count": null,
   "id": "1b6a6921-611c-4251-bf82-628285e97f07",
   "metadata": {},
   "outputs": [],
   "source": [
    "# 투자자의 성향을 파악\n",
    "def classify_investor_type(codelist) : \n",
    "    코드리스트를 0부터 순회하면서 fdr.DataReader에 넣음\n",
    "    기간은 기간별로 조회가능(1개월, 4개월, 1년) , 선택가능하게\n",
    "    avg_change = fdr.DataReader('005930','2024-08')['Change'].mean()*100\n",
    "    avg_change의 합을 종목수로 나눠서 투자자가 투자한 평균 변동률을 계산\n",
    "    고변동 (예: +10% 이상)\n",
    "    중고변동 (예: +5% ~ +10%)\n",
    "    평균변동 (예: -5% ~ +5%)\n",
    "    저변동 (예: -5% 이하)\n",
    "    넷중 하나의 카테고리 반환\n"
   ]
  },
  {
   "cell_type": "code",
   "execution_count": 101,
   "id": "c7c4fb53-922b-46ee-8d73-ea1cf8ef1e0e",
   "metadata": {},
   "outputs": [],
   "source": [
    "# 투자자의 성향을 파악\n",
    "# codelist : 본인이 사전에 투자했던 종목, period : 분석 기간 (단기-1개월 중기-4개월 장기-12개월)\n",
    "def classify_investor_type(codelist, period) :\n",
    "    #특정 기간에 따르주식 데이터 수집\n",
    "    avg_changes = []\n",
    "    for code in codelist:\n",
    "        data = fdr.DataReader(code, period)\n",
    "        avg_change = data['Change'].mean() * 100 # 평균 변동률 계산\n",
    "        avg_changes.append(avg_change)\n",
    "\n",
    "    overall_avg_change = sum(avg_changes) / len(avg_changes)\n",
    "\n",
    "    if overall_avg_change >= 10 :\n",
    "        return 1\n",
    "    elif overall_avg_change >= 5:\n",
    "        return 2\n",
    "    elif overall_avg_change >= -5:\n",
    "        return 3\n",
    "    else : \n",
    "        return 4"
   ]
  },
  {
   "cell_type": "code",
   "execution_count": null,
   "id": "9085f810-aef2-473d-b7c1-8cd2ce9ae230",
   "metadata": {},
   "outputs": [],
   "source": [
    "# 성향을 기반으로 추천\n",
    "\n",
    "def recommend_stocks(invester_type) : \n",
    "    recommendations = {\n",
    "        # 목록을 편성할때, 분석기간의 30% 기간안에, 주가가 오른항목만 편성?\n",
    "        # 혹은 내려가고 있어도 그게 저점일수 있으니까?\n",
    "        # 이부분은 좀더 주식에 대한 학습이 필요할듯\n",
    "        고변동 목록(invester_type == 1) : []\n",
    "        중고변동 목록(invester_type == 2) : []\n",
    "        중저변동 목록(invester_type == 3) : []\n",
    "        저변동 목록(invester_type == 4) : []  \n",
    "\n",
    "        # 여기에서 특정 Sector 별로 목록을 구분하는 함수가 필요\n",
    "        # 변동성 목록중에 본인이 선호하는 Sector의 목록을 추릴수 있게\n",
    "\n",
    "        # 정렬 기준은 시가총액/평균거래량/거래대금 등\n",
    "\n",
    "    }\n",
    "\n",
    "    # 최종적으로 본인의 투자성향에 맞는, 본인이 선호하는 섹터의 상위 목록을 반환\n",
    "    # 그 반환된 목록의 plot과 정보를 시각화까지\n",
    "    return recommendations.get(타입, 목록)\n"
   ]
  },
  {
   "cell_type": "code",
   "execution_count": 96,
   "id": "ca7f9e95-a44e-4b9c-9c7e-52ac05cdb437",
   "metadata": {},
   "outputs": [
    {
     "data": {
      "text/plain": [
       "-0.47526723853894254"
      ]
     },
     "execution_count": 96,
     "metadata": {},
     "output_type": "execute_result"
    }
   ],
   "source": [
    "fdr.DataReader('005930','2024-08')['Change'].mean()*100"
   ]
  },
  {
   "cell_type": "code",
   "execution_count": null,
   "id": "f6138a64-6a63-4690-a792-7a381a3b4968",
   "metadata": {},
   "outputs": [],
   "source": [
    "def my_invested_stocks(name) :\n",
    "    my_stocks = df_stocks[df_stocks['Name'] == name][['Name','Close']]\n",
    "    \n",
    "    \n",
    "    "
   ]
  }
 ],
 "metadata": {
  "kernelspec": {
   "display_name": "Python 3 (ipykernel)",
   "language": "python",
   "name": "python3"
  },
  "language_info": {
   "codemirror_mode": {
    "name": "ipython",
    "version": 3
   },
   "file_extension": ".py",
   "mimetype": "text/x-python",
   "name": "python",
   "nbconvert_exporter": "python",
   "pygments_lexer": "ipython3",
   "version": "3.12.7"
  }
 },
 "nbformat": 4,
 "nbformat_minor": 5
}
