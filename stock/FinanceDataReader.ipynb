{
 "cells": [
  {
   "cell_type": "code",
   "execution_count": 66,
   "id": "0f9e9910-dcd0-481a-a3f1-2f4f04a97f61",
   "metadata": {},
   "outputs": [],
   "source": [
    "#FinanceDada/FinanceDataReader: Financial data reader"
   ]
  },
  {
   "cell_type": "code",
   "execution_count": 67,
   "id": "3c608791-dfa9-4644-a9d6-b2de5440214a",
   "metadata": {},
   "outputs": [],
   "source": [
    "# FinanceData 설치\n",
    "# ! : prompt환경의 명령을 실행\n",
    "# !pip install finance-datareader"
   ]
  },
  {
   "cell_type": "code",
   "execution_count": 1,
   "id": "a60b863b-cb14-4c4b-a781-604e1fefaf1f",
   "metadata": {},
   "outputs": [],
   "source": [
    "# 라이브러리 불러오기\n",
    "import FinanceDataReader as fdr"
   ]
  },
  {
   "cell_type": "code",
   "execution_count": 2,
   "id": "c0b45184-247b-4a79-8c91-738cc48f4d76",
   "metadata": {},
   "outputs": [
    {
     "data": {
      "text/plain": [
       "'0.9.94'"
      ]
     },
     "execution_count": 2,
     "metadata": {},
     "output_type": "execute_result"
    }
   ],
   "source": [
    "# 버전확인\n",
    "fdr.__version__"
   ]
  },
  {
   "cell_type": "markdown",
   "id": "01ac5d10-51c9-489b-9192-7b73a8e504de",
   "metadata": {},
   "source": [
    "## 한국거래소 상장종목 전체 가져오기"
   ]
  },
  {
   "cell_type": "code",
   "execution_count": 70,
   "id": "ec115677-6b04-48f7-9d10-867854703edb",
   "metadata": {},
   "outputs": [
    {
     "data": {
      "text/plain": [
       "['DataReader',\n",
       " 'EtfListing',\n",
       " 'SnapDataReader',\n",
       " 'StockListing',\n",
       " '__all__',\n",
       " '__builtins__',\n",
       " '__cached__',\n",
       " '__doc__',\n",
       " '__file__',\n",
       " '__loader__',\n",
       " '__name__',\n",
       " '__package__',\n",
       " '__path__',\n",
       " '__spec__',\n",
       " '__version__',\n",
       " '_utils',\n",
       " 'chart',\n",
       " 'data',\n",
       " 'ecos',\n",
       " 'fred',\n",
       " 'investing',\n",
       " 'krx',\n",
       " 'nasdaq',\n",
       " 'naver',\n",
       " 'plot',\n",
       " 'wikipedia',\n",
       " 'yahoo']"
      ]
     },
     "execution_count": 70,
     "metadata": {},
     "output_type": "execute_result"
    }
   ],
   "source": [
    "# 패키지 내용 확인\n",
    "dir(fdr)"
   ]
  },
  {
   "cell_type": "code",
   "execution_count": 71,
   "id": "536564c5-c25e-472e-8350-d6a7b41767a5",
   "metadata": {},
   "outputs": [
    {
     "data": {
      "text/plain": [
       "\u001b[1;31mSignature:\u001b[0m \u001b[0mfdr\u001b[0m\u001b[1;33m.\u001b[0m\u001b[0mStockListing\u001b[0m\u001b[1;33m(\u001b[0m\u001b[0mmarket\u001b[0m\u001b[1;33m:\u001b[0m \u001b[0mstr\u001b[0m\u001b[1;33m,\u001b[0m \u001b[0mstart\u001b[0m\u001b[1;33m=\u001b[0m\u001b[1;32mNone\u001b[0m\u001b[1;33m,\u001b[0m \u001b[0mend\u001b[0m\u001b[1;33m=\u001b[0m\u001b[1;32mNone\u001b[0m\u001b[1;33m)\u001b[0m \u001b[1;33m->\u001b[0m \u001b[0mpandas\u001b[0m\u001b[1;33m.\u001b[0m\u001b[0mcore\u001b[0m\u001b[1;33m.\u001b[0m\u001b[0mframe\u001b[0m\u001b[1;33m.\u001b[0m\u001b[0mDataFrame\u001b[0m\u001b[1;33m\u001b[0m\u001b[1;33m\u001b[0m\u001b[0m\n",
       "\u001b[1;31mDocstring:\u001b[0m\n",
       "read stock list of stock exchanges\n",
       "* market: 'KRX', 'KOSPI', 'KOSDAQ', 'KONEX', 'KRX-MARCAP', \n",
       "        'KRX-DESC', 'KOSPI-DESC', 'KOSDAQ-DESC', 'KONEX-DESC',\n",
       "        'KRX-DELISTING', 'KRX-ADMINISTRATIVE', 'KRX-MARCAP',\n",
       "        'NASDAQ', 'NYSE', 'AMEX', 'SSE', 'SZSE', 'HKEX', 'TSE', 'HOSE',\n",
       "        'S&P500',\n",
       "        'ETF/KR',\n",
       "\u001b[1;31mFile:\u001b[0m      d:\\kdt\\anaconda3\\lib\\site-packages\\financedatareader\\data.py\n",
       "\u001b[1;31mType:\u001b[0m      function"
      ]
     },
     "metadata": {},
     "output_type": "display_data"
    }
   ],
   "source": [
    "# 함수, method 사용 방법을 알고 싶을때\n",
    "# help(fdr.StockListing)\n",
    "fdr.StockListing?"
   ]
  },
  {
   "cell_type": "code",
   "execution_count": 29,
   "id": "944a3361-237e-4aa6-90a4-2e5b82c7069c",
   "metadata": {},
   "outputs": [],
   "source": [
    "stocks = fdr.StockListing('KRX')\n",
    "stocks_desc = fdr.StockListing('KRX-DESC')"
   ]
  },
  {
   "cell_type": "markdown",
   "id": "1921db32-01ed-4202-996d-b250434583bb",
   "metadata": {},
   "source": [
    "#### column 목차 범례\n",
    "\n",
    "Close:\n",
    "\n",
    "    마지막 거래 가격. 주식이 거래된 마지막 가격을 나타냅니다.\n",
    "\n",
    "ChangeCode:\n",
    "\n",
    "    주식의 고유 코드. 각 주식을 식별하기 위한 코드로, 보통 ISIN(국제 증권 식별 번호) 형식입니다.\n",
    "Changes:\n",
    "\n",
    "    주식의 이름. 해당 주식의 기업 이름을 나타냅니다.\n",
    "ChagesRatio:\n",
    "\n",
    "    주식의 가격 변동률을 백분율로 표현한 것입니다.\n",
    "Open:\n",
    "\n",
    "    시가. 해당 거래일의 첫 거래 가격을 나타냅니다.\n",
    "High:\n",
    "\n",
    "    고가. 해당 거래일 동안 기록된 최고 가격을 나타냅니다.\n",
    "Low:\n",
    "\n",
    "    저가. 해당 거래일 동안 기록된 최저 가격을 나타냅니다.\n",
    "Volume:\n",
    "\n",
    "    거래량. 해당 거래일 동안 거래된 주식의 총 수량을 나타냅니다.\n",
    "Amount:\n",
    "\n",
    "    거래대금. 해당 거래일 동안의 총 거래 금액을 나타냅니다.\n",
    "Marcap:\n",
    "\n",
    "    시가총액. 해당 기업의 전체 시장 가치를 나타내며, 주가와 발행 주식 수를 곱하여 계산됩니다.\n",
    "Stocks:\n",
    "\n",
    "    유통 주식 수. 현재 시장에서 거래 가능한 주식의 총 수량을 나타냅니다.\n",
    "MarketId:\n",
    "\n",
    "    주식의 종류를 나타내는 식별자. 일반적으로 'STK'는 일반 주식을 의미합니다."
   ]
  },
  {
   "cell_type": "markdown",
   "id": "31fb16dd-d0d4-4e98-971e-06638e7562e1",
   "metadata": {},
   "source": [
    "#### 데이터 구조 확인"
   ]
  },
  {
   "cell_type": "code",
   "execution_count": 30,
   "id": "201dfa60-957e-4b39-beee-f33e951d0715",
   "metadata": {},
   "outputs": [
    {
     "data": {
      "text/plain": [
       "((2855, 17), (2855, 10))"
      ]
     },
     "execution_count": 30,
     "metadata": {},
     "output_type": "execute_result"
    }
   ],
   "source": [
    "stocks.shape, stocks_desc.shape"
   ]
  },
  {
   "cell_type": "code",
   "execution_count": 6,
   "id": "3ef506fb-f9d9-4e8b-858e-eb7e5a0ad29b",
   "metadata": {},
   "outputs": [
    {
     "data": {
      "text/plain": [
       "(2855, 2855)"
      ]
     },
     "execution_count": 6,
     "metadata": {},
     "output_type": "execute_result"
    }
   ],
   "source": [
    "#행수\n",
    "stocks.shape[0], stocks_desc.shape[0]"
   ]
  },
  {
   "cell_type": "code",
   "execution_count": 7,
   "id": "c8c01caa-9c90-4768-b161-5738614aa322",
   "metadata": {},
   "outputs": [
    {
     "data": {
      "text/html": [
       "<div>\n",
       "<style scoped>\n",
       "    .dataframe tbody tr th:only-of-type {\n",
       "        vertical-align: middle;\n",
       "    }\n",
       "\n",
       "    .dataframe tbody tr th {\n",
       "        vertical-align: top;\n",
       "    }\n",
       "\n",
       "    .dataframe thead th {\n",
       "        text-align: right;\n",
       "    }\n",
       "</style>\n",
       "<table border=\"1\" class=\"dataframe\">\n",
       "  <thead>\n",
       "    <tr style=\"text-align: right;\">\n",
       "      <th></th>\n",
       "      <th>Code</th>\n",
       "      <th>ISU_CD</th>\n",
       "      <th>Name</th>\n",
       "      <th>Market</th>\n",
       "      <th>Dept</th>\n",
       "      <th>Close</th>\n",
       "      <th>ChangeCode</th>\n",
       "      <th>Changes</th>\n",
       "      <th>ChagesRatio</th>\n",
       "      <th>Open</th>\n",
       "      <th>High</th>\n",
       "      <th>Low</th>\n",
       "      <th>Volume</th>\n",
       "      <th>Amount</th>\n",
       "      <th>Marcap</th>\n",
       "      <th>Stocks</th>\n",
       "      <th>MarketId</th>\n",
       "    </tr>\n",
       "  </thead>\n",
       "  <tbody>\n",
       "    <tr>\n",
       "      <th>0</th>\n",
       "      <td>005930</td>\n",
       "      <td>KR7005930003</td>\n",
       "      <td>삼성전자</td>\n",
       "      <td>KOSPI</td>\n",
       "      <td></td>\n",
       "      <td>54400</td>\n",
       "      <td>1</td>\n",
       "      <td>300</td>\n",
       "      <td>0.55</td>\n",
       "      <td>53500</td>\n",
       "      <td>54500</td>\n",
       "      <td>53300</td>\n",
       "      <td>10123122</td>\n",
       "      <td>544165158800</td>\n",
       "      <td>324756170720000</td>\n",
       "      <td>5969782550</td>\n",
       "      <td>STK</td>\n",
       "    </tr>\n",
       "  </tbody>\n",
       "</table>\n",
       "</div>"
      ],
      "text/plain": [
       "     Code        ISU_CD  Name Market Dept  Close ChangeCode  Changes  \\\n",
       "0  005930  KR7005930003  삼성전자  KOSPI       54400          1      300   \n",
       "\n",
       "   ChagesRatio   Open   High    Low    Volume        Amount           Marcap  \\\n",
       "0         0.55  53500  54500  53300  10123122  544165158800  324756170720000   \n",
       "\n",
       "       Stocks MarketId  \n",
       "0  5969782550      STK  "
      ]
     },
     "metadata": {},
     "output_type": "display_data"
    },
    {
     "data": {
      "text/html": [
       "<div>\n",
       "<style scoped>\n",
       "    .dataframe tbody tr th:only-of-type {\n",
       "        vertical-align: middle;\n",
       "    }\n",
       "\n",
       "    .dataframe tbody tr th {\n",
       "        vertical-align: top;\n",
       "    }\n",
       "\n",
       "    .dataframe thead th {\n",
       "        text-align: right;\n",
       "    }\n",
       "</style>\n",
       "<table border=\"1\" class=\"dataframe\">\n",
       "  <thead>\n",
       "    <tr style=\"text-align: right;\">\n",
       "      <th></th>\n",
       "      <th>Code</th>\n",
       "      <th>Name</th>\n",
       "      <th>Market</th>\n",
       "      <th>Sector</th>\n",
       "      <th>Industry</th>\n",
       "      <th>ListingDate</th>\n",
       "      <th>SettleMonth</th>\n",
       "      <th>Representative</th>\n",
       "      <th>HomePage</th>\n",
       "      <th>Region</th>\n",
       "    </tr>\n",
       "  </thead>\n",
       "  <tbody>\n",
       "    <tr>\n",
       "      <th>0</th>\n",
       "      <td>060310</td>\n",
       "      <td>3S</td>\n",
       "      <td>KOSDAQ</td>\n",
       "      <td>측정, 시험, 항해, 제어 및 기타 정밀기기 제조업; 광학기기 제외</td>\n",
       "      <td>반도체 웨이퍼 캐리어</td>\n",
       "      <td>2002-04-23</td>\n",
       "      <td>03월</td>\n",
       "      <td>김세완</td>\n",
       "      <td>http://www.3sref.com</td>\n",
       "      <td>서울특별시</td>\n",
       "    </tr>\n",
       "  </tbody>\n",
       "</table>\n",
       "</div>"
      ],
      "text/plain": [
       "     Code Name  Market                                 Sector     Industry  \\\n",
       "0  060310   3S  KOSDAQ  측정, 시험, 항해, 제어 및 기타 정밀기기 제조업; 광학기기 제외  반도체 웨이퍼 캐리어   \n",
       "\n",
       "  ListingDate SettleMonth Representative              HomePage Region  \n",
       "0  2002-04-23         03월            김세완  http://www.3sref.com  서울특별시  "
      ]
     },
     "metadata": {},
     "output_type": "display_data"
    }
   ],
   "source": [
    "# 데이터프레임의 처음,마지막 n행보기, 매개값이 없으면 5행\n",
    "display(stocks.head(1))\n",
    "display(stocks_desc.head(1))\n",
    "#close : 종가 , open: 시작가 low : 최저가 High : 최고가, volume : 발행수 Amount : 시가총액"
   ]
  },
  {
   "cell_type": "markdown",
   "id": "caadeeae-5960-4145-9ad7-74980d8a84fd",
   "metadata": {},
   "source": [
    "### 주식 데이터 가져오기"
   ]
  },
  {
   "cell_type": "code",
   "execution_count": null,
   "id": "0110eb7f-deb5-45cb-a3c2-01d14de93472",
   "metadata": {},
   "outputs": [],
   "source": [
    "# 삼성전자 주식 데이터 가져오기\n",
    "# 데이터 가져오는 문법 : fdr.DataReader('Code' , '시작기간', '끝기간')\n",
    "df = fdr.DataReader('005930', '2024-11-01', '2024-12-04')\n",
    "print(df)"
   ]
  },
  {
   "cell_type": "code",
   "execution_count": null,
   "id": "079fd5c6-f9b5-4346-b67b-5724687fdadb",
   "metadata": {},
   "outputs": [],
   "source": [
    "# KOSPI 지수 데이터 가져오기\n",
    "df_kospi = fdr.DataReader('KOSPI', '2023-01-01', '2023-12-01')\n",
    "print(df_kospi)"
   ]
  },
  {
   "cell_type": "code",
   "execution_count": null,
   "id": "7258b79a-4e73-4690-9043-7951aa9eac4c",
   "metadata": {},
   "outputs": [],
   "source": [
    "# 원/달러 환율 데이터 가져오기\n",
    "df_usd_krw = fdr.DataReader('USD/KRW', '2023-01-01', '2023-12-01')\n",
    "print(df_usd_krw)"
   ]
  },
  {
   "cell_type": "markdown",
   "id": "9d5bbef1-8854-4cb9-b30b-c2d26f7dc6e4",
   "metadata": {},
   "source": [
    "### 특정 기간의 거래량 분석\n",
    "\n",
    "- 거래량을 분석하여 특정 주식의 트렌드를 파악하기"
   ]
  },
  {
   "cell_type": "code",
   "execution_count": null,
   "id": "af16d314-3456-4c10-a218-92f84b59d128",
   "metadata": {},
   "outputs": [],
   "source": [
    "import matplotlib.pyplot as plt\n",
    "\n",
    "# 삼성전자 데이터 가져오기\n",
    "df_samsung = fdr.DataReader('005930', '2023-01-01', '2023-12-01')\n",
    "\n",
    "# 거래량 시각화\n",
    "plt.figure(figsize=(12, 6))\n",
    "plt.plot(df_samsung['Volume'], label='Volume', color='blue')\n",
    "plt.title('Samsung Electronics Volume')\n",
    "plt.xlabel('Date')\n",
    "plt.ylabel('Volume')\n",
    "plt.legend()\n",
    "plt.show()"
   ]
  },
  {
   "cell_type": "markdown",
   "id": "33219c1b-0baf-4c83-8124-f22af23c01bb",
   "metadata": {},
   "source": [
    "### 여러 종목의 데이터 비교\n",
    "\n",
    "- 여러 종목의 주식 데이터를 가져와서 비교"
   ]
  },
  {
   "cell_type": "code",
   "execution_count": null,
   "id": "5b24a7a7-343a-49e9-b5d7-7f74c3ea68f5",
   "metadata": {
    "scrolled": true
   },
   "outputs": [],
   "source": [
    "import pandas as pd\n",
    "\n",
    "# 여러 종목 데이터 가져오기\n",
    "tickers = ['005930', '000660', '207940']  # 삼성전자, SK하이닉스, 삼성바이오로직스\n",
    "data = {ticker: fdr.DataReader(ticker, '2023-01-01', '2023-12-01')['Close'] for ticker in tickers}\n",
    "\n",
    "# 데이터프레임으로 변환\n",
    "df_comparison = pd.DataFrame(data)\n",
    "\n",
    "# 시각화\n",
    "plt.figure(figsize=(12, 6))\n",
    "df_comparison.plot()\n",
    "plt.title('Stock Price Comparison')\n",
    "plt.xlabel('Date')\n",
    "plt.ylabel('Price')\n",
    "plt.legend(tickers)\n",
    "plt.show()"
   ]
  },
  {
   "cell_type": "markdown",
   "id": "5edd9e97-64e6-437a-b96a-9cd533eca6b9",
   "metadata": {},
   "source": [
    "### 특정 날짜의 주식 데이터 조회\n",
    "\n",
    "- 특정 날짜의 주식 데이터를 조회하는 방법"
   ]
  },
  {
   "cell_type": "code",
   "execution_count": null,
   "id": "1e05b62a-eede-4887-9889-accb7cd17a29",
   "metadata": {},
   "outputs": [],
   "source": [
    "# 특정 날짜의 삼성전자 데이터 조회\n",
    "date = '2023-05-01'\n",
    "samsung_data_on_date = fdr.DataReader('005930','2023-01-01', '2023-12-01')\n",
    "print(samsung_data_on_date)"
   ]
  },
  {
   "cell_type": "markdown",
   "id": "fdc7ba9e-2a5d-4f36-938f-ea7b12a753e5",
   "metadata": {},
   "source": [
    "##### 주식의 변동률 계산\n",
    "\n",
    "특정 기간동안 변동률을 계산하여 주식의 성과를 평가"
   ]
  },
  {
   "cell_type": "code",
   "execution_count": null,
   "id": "4ef3aa1f-0708-4ce5-8841-43afc71a37f2",
   "metadata": {},
   "outputs": [],
   "source": [
    "# 삼성전자 주식 데이터 가져오기\n",
    "df_samsung = fdr.DataReader('005930', '2023-01-01', '2023-12-01')\n",
    "\n",
    "# 변동률 계산\n",
    "df_samsung['Returns'] = df_samsung['Close'].pct_change() * 100\n",
    "print(df_samsung[['Close', 'Returns']])"
   ]
  },
  {
   "cell_type": "code",
   "execution_count": 82,
   "id": "fcb90e95-9c0d-4cbb-be85-7df8da3855fa",
   "metadata": {},
   "outputs": [],
   "source": [
    "stocks = fdr.StockListing('KRX')\n",
    "\n",
    "stocks_desc = fdr.StockListing('KRX-DESC')"
   ]
  },
  {
   "cell_type": "markdown",
   "id": "545a95f9-3d56-49f8-b07c-815cce2d02d7",
   "metadata": {},
   "source": [
    "#### 데이터 구조 확인"
   ]
  },
  {
   "cell_type": "code",
   "execution_count": 28,
   "id": "fe62010e-017b-4953-b68f-3afe52d8cff3",
   "metadata": {},
   "outputs": [
    {
     "data": {
      "text/plain": [
       "((2855, 17), (2855, 10))"
      ]
     },
     "execution_count": 28,
     "metadata": {},
     "output_type": "execute_result"
    }
   ],
   "source": [
    "# 데이터 프레임의 행과 열의 수를 튜플로 반환\n",
    "stocks.shape, stocks_desc.shape"
   ]
  },
  {
   "cell_type": "code",
   "execution_count": 31,
   "id": "6a8e17ca-be94-46a0-a2ba-731b4095756c",
   "metadata": {},
   "outputs": [
    {
     "data": {
      "text/plain": [
       "(2855, 2855)"
      ]
     },
     "execution_count": 31,
     "metadata": {},
     "output_type": "execute_result"
    }
   ],
   "source": [
    "#행 수\n",
    "stocks.shape[0], stocks_desc.shape[0]"
   ]
  },
  {
   "cell_type": "code",
   "execution_count": 85,
   "id": "18679a7c-709d-40bc-9bd9-aa5dd1c7318e",
   "metadata": {},
   "outputs": [
    {
     "data": {
      "text/html": [
       "<div>\n",
       "<style scoped>\n",
       "    .dataframe tbody tr th:only-of-type {\n",
       "        vertical-align: middle;\n",
       "    }\n",
       "\n",
       "    .dataframe tbody tr th {\n",
       "        vertical-align: top;\n",
       "    }\n",
       "\n",
       "    .dataframe thead th {\n",
       "        text-align: right;\n",
       "    }\n",
       "</style>\n",
       "<table border=\"1\" class=\"dataframe\">\n",
       "  <thead>\n",
       "    <tr style=\"text-align: right;\">\n",
       "      <th></th>\n",
       "      <th>Code</th>\n",
       "      <th>ISU_CD</th>\n",
       "      <th>Name</th>\n",
       "      <th>Market</th>\n",
       "      <th>Dept</th>\n",
       "      <th>Close</th>\n",
       "      <th>ChangeCode</th>\n",
       "      <th>Changes</th>\n",
       "      <th>ChagesRatio</th>\n",
       "      <th>Open</th>\n",
       "      <th>High</th>\n",
       "      <th>Low</th>\n",
       "      <th>Volume</th>\n",
       "      <th>Amount</th>\n",
       "      <th>Marcap</th>\n",
       "      <th>Stocks</th>\n",
       "      <th>MarketId</th>\n",
       "    </tr>\n",
       "  </thead>\n",
       "  <tbody>\n",
       "    <tr>\n",
       "      <th>0</th>\n",
       "      <td>005930</td>\n",
       "      <td>KR7005930003</td>\n",
       "      <td>삼성전자</td>\n",
       "      <td>KOSPI</td>\n",
       "      <td></td>\n",
       "      <td>54100</td>\n",
       "      <td>1</td>\n",
       "      <td>400</td>\n",
       "      <td>0.74</td>\n",
       "      <td>53900</td>\n",
       "      <td>54400</td>\n",
       "      <td>52700</td>\n",
       "      <td>22804926</td>\n",
       "      <td>1228936823600</td>\n",
       "      <td>322965235955000</td>\n",
       "      <td>5969782550</td>\n",
       "      <td>STK</td>\n",
       "    </tr>\n",
       "  </tbody>\n",
       "</table>\n",
       "</div>"
      ],
      "text/plain": [
       "     Code        ISU_CD  Name Market Dept  Close ChangeCode  Changes  \\\n",
       "0  005930  KR7005930003  삼성전자  KOSPI       54100          1      400   \n",
       "\n",
       "   ChagesRatio   Open   High    Low    Volume         Amount           Marcap  \\\n",
       "0         0.74  53900  54400  52700  22804926  1228936823600  322965235955000   \n",
       "\n",
       "       Stocks MarketId  \n",
       "0  5969782550      STK  "
      ]
     },
     "metadata": {},
     "output_type": "display_data"
    },
    {
     "data": {
      "text/html": [
       "<div>\n",
       "<style scoped>\n",
       "    .dataframe tbody tr th:only-of-type {\n",
       "        vertical-align: middle;\n",
       "    }\n",
       "\n",
       "    .dataframe tbody tr th {\n",
       "        vertical-align: top;\n",
       "    }\n",
       "\n",
       "    .dataframe thead th {\n",
       "        text-align: right;\n",
       "    }\n",
       "</style>\n",
       "<table border=\"1\" class=\"dataframe\">\n",
       "  <thead>\n",
       "    <tr style=\"text-align: right;\">\n",
       "      <th></th>\n",
       "      <th>Code</th>\n",
       "      <th>Name</th>\n",
       "      <th>Market</th>\n",
       "      <th>Sector</th>\n",
       "      <th>Industry</th>\n",
       "      <th>ListingDate</th>\n",
       "      <th>SettleMonth</th>\n",
       "      <th>Representative</th>\n",
       "      <th>HomePage</th>\n",
       "      <th>Region</th>\n",
       "    </tr>\n",
       "  </thead>\n",
       "  <tbody>\n",
       "    <tr>\n",
       "      <th>0</th>\n",
       "      <td>060310</td>\n",
       "      <td>3S</td>\n",
       "      <td>KOSDAQ</td>\n",
       "      <td>측정, 시험, 항해, 제어 및 기타 정밀기기 제조업; 광학기기 제외</td>\n",
       "      <td>반도체 웨이퍼 캐리어</td>\n",
       "      <td>2002-04-23</td>\n",
       "      <td>03월</td>\n",
       "      <td>김세완</td>\n",
       "      <td>http://www.3sref.com</td>\n",
       "      <td>서울특별시</td>\n",
       "    </tr>\n",
       "  </tbody>\n",
       "</table>\n",
       "</div>"
      ],
      "text/plain": [
       "     Code Name  Market                                 Sector     Industry  \\\n",
       "0  060310   3S  KOSDAQ  측정, 시험, 항해, 제어 및 기타 정밀기기 제조업; 광학기기 제외  반도체 웨이퍼 캐리어   \n",
       "\n",
       "  ListingDate SettleMonth Representative              HomePage Region  \n",
       "0  2002-04-23         03월            김세완  http://www.3sref.com  서울특별시  "
      ]
     },
     "metadata": {},
     "output_type": "display_data"
    }
   ],
   "source": [
    "# 데이터프레임의 처음(head), 마지막(tail) n행보기, 매개값이 없으면 default는 5행\n",
    "display(stocks.head(1))\n",
    "display(stocks_desc.head(1))"
   ]
  },
  {
   "cell_type": "code",
   "execution_count": 86,
   "id": "553a82d5-a890-4d81-996f-628391498739",
   "metadata": {},
   "outputs": [
    {
     "data": {
      "text/html": [
       "<div>\n",
       "<style scoped>\n",
       "    .dataframe tbody tr th:only-of-type {\n",
       "        vertical-align: middle;\n",
       "    }\n",
       "\n",
       "    .dataframe tbody tr th {\n",
       "        vertical-align: top;\n",
       "    }\n",
       "\n",
       "    .dataframe thead th {\n",
       "        text-align: right;\n",
       "    }\n",
       "</style>\n",
       "<table border=\"1\" class=\"dataframe\">\n",
       "  <thead>\n",
       "    <tr style=\"text-align: right;\">\n",
       "      <th></th>\n",
       "      <th>Code</th>\n",
       "      <th>ISU_CD</th>\n",
       "      <th>Name</th>\n",
       "      <th>Market</th>\n",
       "      <th>Dept</th>\n",
       "      <th>Close</th>\n",
       "      <th>ChangeCode</th>\n",
       "      <th>Changes</th>\n",
       "      <th>ChagesRatio</th>\n",
       "      <th>Open</th>\n",
       "      <th>High</th>\n",
       "      <th>Low</th>\n",
       "      <th>Volume</th>\n",
       "      <th>Amount</th>\n",
       "      <th>Marcap</th>\n",
       "      <th>Stocks</th>\n",
       "      <th>MarketId</th>\n",
       "    </tr>\n",
       "  </thead>\n",
       "  <tbody>\n",
       "    <tr>\n",
       "      <th>2855</th>\n",
       "      <td>419700</td>\n",
       "      <td>KR7419700000</td>\n",
       "      <td>이브이파킹서비스</td>\n",
       "      <td>KONEX</td>\n",
       "      <td>일반기업부</td>\n",
       "      <td>3</td>\n",
       "      <td>2</td>\n",
       "      <td>-1</td>\n",
       "      <td>-25.0</td>\n",
       "      <td>4</td>\n",
       "      <td>4</td>\n",
       "      <td>2</td>\n",
       "      <td>2675272</td>\n",
       "      <td>7991664</td>\n",
       "      <td>51799998</td>\n",
       "      <td>17266666</td>\n",
       "      <td>KNX</td>\n",
       "    </tr>\n",
       "  </tbody>\n",
       "</table>\n",
       "</div>"
      ],
      "text/plain": [
       "        Code        ISU_CD      Name Market   Dept Close ChangeCode  Changes  \\\n",
       "2855  419700  KR7419700000  이브이파킹서비스  KONEX  일반기업부     3          2       -1   \n",
       "\n",
       "      ChagesRatio  Open  High  Low   Volume   Amount    Marcap    Stocks  \\\n",
       "2855        -25.0     4     4    2  2675272  7991664  51799998  17266666   \n",
       "\n",
       "     MarketId  \n",
       "2855      KNX  "
      ]
     },
     "metadata": {},
     "output_type": "display_data"
    },
    {
     "data": {
      "text/html": [
       "<div>\n",
       "<style scoped>\n",
       "    .dataframe tbody tr th:only-of-type {\n",
       "        vertical-align: middle;\n",
       "    }\n",
       "\n",
       "    .dataframe tbody tr th {\n",
       "        vertical-align: top;\n",
       "    }\n",
       "\n",
       "    .dataframe thead th {\n",
       "        text-align: right;\n",
       "    }\n",
       "</style>\n",
       "<table border=\"1\" class=\"dataframe\">\n",
       "  <thead>\n",
       "    <tr style=\"text-align: right;\">\n",
       "      <th></th>\n",
       "      <th>Code</th>\n",
       "      <th>Name</th>\n",
       "      <th>Market</th>\n",
       "      <th>Sector</th>\n",
       "      <th>Industry</th>\n",
       "      <th>ListingDate</th>\n",
       "      <th>SettleMonth</th>\n",
       "      <th>Representative</th>\n",
       "      <th>HomePage</th>\n",
       "      <th>Region</th>\n",
       "    </tr>\n",
       "  </thead>\n",
       "  <tbody>\n",
       "    <tr>\n",
       "      <th>2855</th>\n",
       "      <td>238490</td>\n",
       "      <td>힘스</td>\n",
       "      <td>KOSDAQ</td>\n",
       "      <td>특수 목적용 기계 제조업</td>\n",
       "      <td>OLED Mask 인장기, OLED Mask 검사기 등</td>\n",
       "      <td>2017-07-20</td>\n",
       "      <td>12월</td>\n",
       "      <td>김주환</td>\n",
       "      <td>http://www.hims.co.kr</td>\n",
       "      <td>인천광역시</td>\n",
       "    </tr>\n",
       "  </tbody>\n",
       "</table>\n",
       "</div>"
      ],
      "text/plain": [
       "        Code Name  Market         Sector                        Industry  \\\n",
       "2855  238490   힘스  KOSDAQ  특수 목적용 기계 제조업  OLED Mask 인장기, OLED Mask 검사기 등   \n",
       "\n",
       "     ListingDate SettleMonth Representative               HomePage Region  \n",
       "2855  2017-07-20         12월            김주환  http://www.hims.co.kr  인천광역시  "
      ]
     },
     "metadata": {},
     "output_type": "display_data"
    }
   ],
   "source": [
    "display(stocks.tail(1))\n",
    "display(stocks_desc.tail(1))"
   ]
  },
  {
   "cell_type": "code",
   "execution_count": 87,
   "id": "15869a82-3331-41e7-9ebd-58535787b1d8",
   "metadata": {},
   "outputs": [
    {
     "name": "stdout",
     "output_type": "stream",
     "text": [
      "<class 'pandas.core.frame.DataFrame'>\n",
      "RangeIndex: 2856 entries, 0 to 2855\n",
      "Data columns (total 17 columns):\n",
      " #   Column       Non-Null Count  Dtype  \n",
      "---  ------       --------------  -----  \n",
      " 0   Code         2856 non-null   object \n",
      " 1   ISU_CD       2856 non-null   object \n",
      " 2   Name         2856 non-null   object \n",
      " 3   Market       2856 non-null   object \n",
      " 4   Dept         2856 non-null   object \n",
      " 5   Close        2856 non-null   object \n",
      " 6   ChangeCode   2856 non-null   object \n",
      " 7   Changes      2856 non-null   int64  \n",
      " 8   ChagesRatio  2856 non-null   float64\n",
      " 9   Open         2856 non-null   int64  \n",
      " 10  High         2856 non-null   int64  \n",
      " 11  Low          2856 non-null   int64  \n",
      " 12  Volume       2856 non-null   int64  \n",
      " 13  Amount       2856 non-null   int64  \n",
      " 14  Marcap       2856 non-null   int64  \n",
      " 15  Stocks       2856 non-null   int64  \n",
      " 16  MarketId     2856 non-null   object \n",
      "dtypes: float64(1), int64(8), object(8)\n",
      "memory usage: 379.4+ KB\n"
     ]
    }
   ],
   "source": [
    "# 데이터 프레임에 대한 기본 정보(행 수, 컬럼수, 각 컬럼의 데이터타입, 결측치 확인)\n",
    "stocks.info()"
   ]
  },
  {
   "cell_type": "code",
   "execution_count": 88,
   "id": "d7790fd5-6528-42dd-8bfe-a144ce410518",
   "metadata": {},
   "outputs": [
    {
     "data": {
      "text/html": [
       "<div>\n",
       "<style scoped>\n",
       "    .dataframe tbody tr th:only-of-type {\n",
       "        vertical-align: middle;\n",
       "    }\n",
       "\n",
       "    .dataframe tbody tr th {\n",
       "        vertical-align: top;\n",
       "    }\n",
       "\n",
       "    .dataframe thead th {\n",
       "        text-align: right;\n",
       "    }\n",
       "</style>\n",
       "<table border=\"1\" class=\"dataframe\">\n",
       "  <thead>\n",
       "    <tr style=\"text-align: right;\">\n",
       "      <th></th>\n",
       "      <th>Changes</th>\n",
       "      <th>ChagesRatio</th>\n",
       "      <th>Open</th>\n",
       "      <th>High</th>\n",
       "      <th>Low</th>\n",
       "      <th>Volume</th>\n",
       "      <th>Amount</th>\n",
       "      <th>Marcap</th>\n",
       "      <th>Stocks</th>\n",
       "    </tr>\n",
       "  </thead>\n",
       "  <tbody>\n",
       "    <tr>\n",
       "      <th>count</th>\n",
       "      <td>2856.000000</td>\n",
       "      <td>2856.000000</td>\n",
       "      <td>2.856000e+03</td>\n",
       "      <td>2.856000e+03</td>\n",
       "      <td>2.856000e+03</td>\n",
       "      <td>2.856000e+03</td>\n",
       "      <td>2.856000e+03</td>\n",
       "      <td>2.856000e+03</td>\n",
       "      <td>2.856000e+03</td>\n",
       "    </tr>\n",
       "    <tr>\n",
       "      <th>mean</th>\n",
       "      <td>-252.238095</td>\n",
       "      <td>-1.340434</td>\n",
       "      <td>1.735008e+04</td>\n",
       "      <td>1.772746e+04</td>\n",
       "      <td>1.658957e+04</td>\n",
       "      <td>5.309376e+05</td>\n",
       "      <td>6.083800e+09</td>\n",
       "      <td>8.130226e+11</td>\n",
       "      <td>4.186027e+07</td>\n",
       "    </tr>\n",
       "    <tr>\n",
       "      <th>std</th>\n",
       "      <td>3615.763860</td>\n",
       "      <td>3.899823</td>\n",
       "      <td>5.960333e+04</td>\n",
       "      <td>6.369783e+04</td>\n",
       "      <td>5.402176e+04</td>\n",
       "      <td>2.191043e+06</td>\n",
       "      <td>3.565243e+10</td>\n",
       "      <td>7.277021e+12</td>\n",
       "      <td>1.327892e+08</td>\n",
       "    </tr>\n",
       "    <tr>\n",
       "      <th>min</th>\n",
       "      <td>-187000.000000</td>\n",
       "      <td>-29.930000</td>\n",
       "      <td>0.000000e+00</td>\n",
       "      <td>0.000000e+00</td>\n",
       "      <td>0.000000e+00</td>\n",
       "      <td>0.000000e+00</td>\n",
       "      <td>0.000000e+00</td>\n",
       "      <td>5.180000e+07</td>\n",
       "      <td>2.000000e+05</td>\n",
       "    </tr>\n",
       "    <tr>\n",
       "      <th>25%</th>\n",
       "      <td>-200.000000</td>\n",
       "      <td>-3.060000</td>\n",
       "      <td>2.000000e+03</td>\n",
       "      <td>2.015000e+03</td>\n",
       "      <td>1.970750e+03</td>\n",
       "      <td>2.497900e+04</td>\n",
       "      <td>1.015650e+08</td>\n",
       "      <td>4.137168e+10</td>\n",
       "      <td>1.017354e+07</td>\n",
       "    </tr>\n",
       "    <tr>\n",
       "      <th>50%</th>\n",
       "      <td>-50.000000</td>\n",
       "      <td>-1.280000</td>\n",
       "      <td>4.677500e+03</td>\n",
       "      <td>4.797500e+03</td>\n",
       "      <td>4.445000e+03</td>\n",
       "      <td>9.306500e+04</td>\n",
       "      <td>4.239842e+08</td>\n",
       "      <td>8.954548e+10</td>\n",
       "      <td>1.977295e+07</td>\n",
       "    </tr>\n",
       "    <tr>\n",
       "      <th>75%</th>\n",
       "      <td>0.000000</td>\n",
       "      <td>0.000000</td>\n",
       "      <td>1.266750e+04</td>\n",
       "      <td>1.288250e+04</td>\n",
       "      <td>1.211000e+04</td>\n",
       "      <td>2.738850e+05</td>\n",
       "      <td>1.842106e+09</td>\n",
       "      <td>2.277213e+11</td>\n",
       "      <td>4.189457e+07</td>\n",
       "    </tr>\n",
       "    <tr>\n",
       "      <th>max</th>\n",
       "      <td>8800.000000</td>\n",
       "      <td>30.000000</td>\n",
       "      <td>2.124000e+06</td>\n",
       "      <td>2.407000e+06</td>\n",
       "      <td>1.736000e+06</td>\n",
       "      <td>3.784488e+07</td>\n",
       "      <td>1.228937e+12</td>\n",
       "      <td>3.229652e+14</td>\n",
       "      <td>5.969783e+09</td>\n",
       "    </tr>\n",
       "  </tbody>\n",
       "</table>\n",
       "</div>"
      ],
      "text/plain": [
       "             Changes  ChagesRatio          Open          High           Low  \\\n",
       "count    2856.000000  2856.000000  2.856000e+03  2.856000e+03  2.856000e+03   \n",
       "mean     -252.238095    -1.340434  1.735008e+04  1.772746e+04  1.658957e+04   \n",
       "std      3615.763860     3.899823  5.960333e+04  6.369783e+04  5.402176e+04   \n",
       "min   -187000.000000   -29.930000  0.000000e+00  0.000000e+00  0.000000e+00   \n",
       "25%      -200.000000    -3.060000  2.000000e+03  2.015000e+03  1.970750e+03   \n",
       "50%       -50.000000    -1.280000  4.677500e+03  4.797500e+03  4.445000e+03   \n",
       "75%         0.000000     0.000000  1.266750e+04  1.288250e+04  1.211000e+04   \n",
       "max      8800.000000    30.000000  2.124000e+06  2.407000e+06  1.736000e+06   \n",
       "\n",
       "             Volume        Amount        Marcap        Stocks  \n",
       "count  2.856000e+03  2.856000e+03  2.856000e+03  2.856000e+03  \n",
       "mean   5.309376e+05  6.083800e+09  8.130226e+11  4.186027e+07  \n",
       "std    2.191043e+06  3.565243e+10  7.277021e+12  1.327892e+08  \n",
       "min    0.000000e+00  0.000000e+00  5.180000e+07  2.000000e+05  \n",
       "25%    2.497900e+04  1.015650e+08  4.137168e+10  1.017354e+07  \n",
       "50%    9.306500e+04  4.239842e+08  8.954548e+10  1.977295e+07  \n",
       "75%    2.738850e+05  1.842106e+09  2.277213e+11  4.189457e+07  \n",
       "max    3.784488e+07  1.228937e+12  3.229652e+14  5.969783e+09  "
      ]
     },
     "execution_count": 88,
     "metadata": {},
     "output_type": "execute_result"
    }
   ],
   "source": [
    "# 요약 통계량 제공, 매개값이 없으면 숫자 컬럼만 제공\n",
    "# count : nan값을 제외한 컬럼 데이터수\n",
    "# mean : 평균\n",
    "# std : 표준 편차\n",
    "# min,max : 최소,최대값\n",
    "# 사분위수 : 값의 범위를 4분위로 나눈 수. 50%는 값이 두개라면 그 둘을 평균낸다.\n",
    "stocks.describe()"
   ]
  },
  {
   "cell_type": "code",
   "execution_count": 12,
   "id": "38b619f8-09ca-4758-8868-016f24c7a346",
   "metadata": {},
   "outputs": [
    {
     "data": {
      "text/plain": [
       "<Axes: >"
      ]
     },
     "execution_count": 12,
     "metadata": {},
     "output_type": "execute_result"
    },
    {
     "data": {
      "image/png": "[encoded data removed]",
      "text/plain": [
       "<Figure size 640x480 with 1 Axes>"
      ]
     },
     "metadata": {},
     "output_type": "display_data"
    }
   ],
   "source": [
    "# stocks['Marcap'].plot(kind='box')"
   ]
  },
  {
   "cell_type": "code",
   "execution_count": null,
   "id": "5eae9711-67dd-4241-8b3b-7b11a71d91b1",
   "metadata": {},
   "outputs": [],
   "source": [
    "stocks.describe?"
   ]
  },
  {
   "cell_type": "code",
   "execution_count": 90,
   "id": "709e518b-dc8f-4f9a-bcc0-58352cff57f2",
   "metadata": {},
   "outputs": [
    {
     "data": {
      "text/html": [
       "<div>\n",
       "<style scoped>\n",
       "    .dataframe tbody tr th:only-of-type {\n",
       "        vertical-align: middle;\n",
       "    }\n",
       "\n",
       "    .dataframe tbody tr th {\n",
       "        vertical-align: top;\n",
       "    }\n",
       "\n",
       "    .dataframe thead th {\n",
       "        text-align: right;\n",
       "    }\n",
       "</style>\n",
       "<table border=\"1\" class=\"dataframe\">\n",
       "  <thead>\n",
       "    <tr style=\"text-align: right;\">\n",
       "      <th></th>\n",
       "      <th>Code</th>\n",
       "      <th>ISU_CD</th>\n",
       "      <th>Name</th>\n",
       "      <th>Market</th>\n",
       "      <th>Dept</th>\n",
       "      <th>Close</th>\n",
       "      <th>ChangeCode</th>\n",
       "      <th>MarketId</th>\n",
       "    </tr>\n",
       "  </thead>\n",
       "  <tbody>\n",
       "    <tr>\n",
       "      <th>count</th>\n",
       "      <td>2856</td>\n",
       "      <td>2856</td>\n",
       "      <td>2856</td>\n",
       "      <td>2856</td>\n",
       "      <td>2856</td>\n",
       "      <td>2856</td>\n",
       "      <td>2856</td>\n",
       "      <td>2856</td>\n",
       "    </tr>\n",
       "    <tr>\n",
       "      <th>unique</th>\n",
       "      <td>2856</td>\n",
       "      <td>2856</td>\n",
       "      <td>2856</td>\n",
       "      <td>4</td>\n",
       "      <td>10</td>\n",
       "      <td>1997</td>\n",
       "      <td>6</td>\n",
       "      <td>3</td>\n",
       "    </tr>\n",
       "    <tr>\n",
       "      <th>top</th>\n",
       "      <td>005930</td>\n",
       "      <td>KR7005930003</td>\n",
       "      <td>삼성전자</td>\n",
       "      <td>KOSDAQ</td>\n",
       "      <td></td>\n",
       "      <td>2000</td>\n",
       "      <td>2</td>\n",
       "      <td>KSQ</td>\n",
       "    </tr>\n",
       "    <tr>\n",
       "      <th>freq</th>\n",
       "      <td>1</td>\n",
       "      <td>1</td>\n",
       "      <td>1</td>\n",
       "      <td>1728</td>\n",
       "      <td>960</td>\n",
       "      <td>11</td>\n",
       "      <td>2013</td>\n",
       "      <td>1776</td>\n",
       "    </tr>\n",
       "  </tbody>\n",
       "</table>\n",
       "</div>"
      ],
      "text/plain": [
       "          Code        ISU_CD  Name  Market  Dept Close ChangeCode MarketId\n",
       "count     2856          2856  2856    2856  2856  2856       2856     2856\n",
       "unique    2856          2856  2856       4    10  1997          6        3\n",
       "top     005930  KR7005930003  삼성전자  KOSDAQ        2000          2      KSQ\n",
       "freq         1             1     1    1728   960    11       2013     1776"
      ]
     },
     "execution_count": 90,
     "metadata": {},
     "output_type": "execute_result"
    }
   ],
   "source": [
    "# 문자열 컬럼(범주형)에 대한 요약 통계\n",
    "# count : 컬럼값의 수(nan값은 제외)\n",
    "# unique : 중복되지 않는 값의 종류(컬럼의 고유값 갯수)\n",
    "# top : 최빈값(가장 빈번하게 나타나는 값), 모든 컬럼이 unique하다면 최상단 항목이 표시됨\n",
    "# freq : 최빈값의 빈도\n",
    "\n",
    "stocks.describe(include='O')"
   ]
  },
  {
   "cell_type": "code",
   "execution_count": 91,
   "id": "4c8a7867-8f49-48c4-824c-a865eb5790a2",
   "metadata": {},
   "outputs": [
    {
     "name": "stdout",
     "output_type": "stream",
     "text": [
      "['1' '2' '3' '0' '5' '4']\n",
      "<class 'numpy.ndarray'>\n"
     ]
    }
   ],
   "source": [
    "# 고유값의 목록 확인\n",
    "print(stocks['ChangeCode'].unique())\n",
    "print(type(stocks['ChangeCode'].unique()))"
   ]
  },
  {
   "cell_type": "code",
   "execution_count": 15,
   "id": "b83ca339-67dc-4a23-ad7b-eaad3d3ee07a",
   "metadata": {},
   "outputs": [
    {
     "name": "stdout",
     "output_type": "stream",
     "text": [
      "ChangeCode\n",
      "2    2427\n",
      "1     219\n",
      "0     152\n",
      "3      49\n",
      "4       5\n",
      "5       3\n",
      "Name: count, dtype: int64\n",
      "<class 'pandas.core.series.Series'>\n"
     ]
    }
   ],
   "source": [
    "# 고유값의 목록,갯수 확인\n",
    "print(stocks['ChangeCode'].value_counts())\n",
    "print(type(stocks['ChangeCode'].value_counts()))"
   ]
  },
  {
   "cell_type": "code",
   "execution_count": 93,
   "id": "aa2a3135-281f-4d28-acba-89dc3a39f0a8",
   "metadata": {},
   "outputs": [
    {
     "data": {
      "text/plain": [
       "Index(['Code', 'ISU_CD', 'Name', 'Market', 'Dept', 'Close', 'ChangeCode',\n",
       "       'Changes', 'ChagesRatio', 'Open', 'High', 'Low', 'Volume', 'Amount',\n",
       "       'Marcap', 'Stocks', 'MarketId'],\n",
       "      dtype='object')"
      ]
     },
     "execution_count": 93,
     "metadata": {},
     "output_type": "execute_result"
    }
   ],
   "source": [
    "# 데이터 프레임의 컬럼 메타정보\n",
    "stocks.columns"
   ]
  },
  {
   "cell_type": "code",
   "execution_count": 16,
   "id": "dbc55273-114a-4a42-9607-02fc9c12b4c2",
   "metadata": {},
   "outputs": [
    {
     "data": {
      "text/plain": [
       "RangeIndex(start=0, stop=2855, step=1)"
      ]
     },
     "execution_count": 16,
     "metadata": {},
     "output_type": "execute_result"
    }
   ],
   "source": [
    "# 데이터 프레임의 컬럼의 인덱스 메타정보\n",
    "stocks.index"
   ]
  },
  {
   "cell_type": "code",
   "execution_count": 32,
   "id": "03b646b6-f964-4cb6-a1a9-406ca80a96e7",
   "metadata": {},
   "outputs": [
    {
     "name": "stdout",
     "output_type": "stream",
     "text": [
      "Index(['Code', 'Name', 'Market', 'Dept', 'Close', 'ChangeCode', 'Changes',\n",
      "       'ChagesRatio', 'Open', 'High', 'Low', 'Volume', 'Amount', 'Marcap',\n",
      "       'Stocks', 'MarketId'],\n",
      "      dtype='object')\n",
      "Index(['Code', 'Sector', 'Industry', 'ListingDate', 'SettleMonth',\n",
      "       'Representative', 'HomePage', 'Region'],\n",
      "      dtype='object')\n"
     ]
    }
   ],
   "source": [
    "# 컬럼 제거 : 필요없는 행이나 열을 제거\n",
    "new_stocks = stocks.drop('ISU_CD', axis=1)\n",
    "new_stocks_desc = stocks_desc.drop(['Name', 'Market'], axis=1)\n",
    "print(new_stocks.columns)\n",
    "print(new_stocks_desc.columns)"
   ]
  },
  {
   "cell_type": "code",
   "execution_count": null,
   "id": "1fd48a93-90bf-42d5-ab22-1271ca0f28b5",
   "metadata": {},
   "outputs": [],
   "source": [
    "display(new_stocks_desc)"
   ]
  },
  {
   "cell_type": "code",
   "execution_count": null,
   "id": "ba327203-fd63-4657-8c07-f07452ef87ab",
   "metadata": {},
   "outputs": [],
   "source": [
    "display(new_stocks)"
   ]
  },
  {
   "cell_type": "code",
   "execution_count": 100,
   "id": "6dbf28a4-8601-48f0-ab9c-02122966c3e0",
   "metadata": {},
   "outputs": [],
   "source": [
    "stocks_columns = ['Code', 'Name', 'Market', 'Close',\n",
    "       'Changes', 'ChagesRatio', 'Open', 'High', 'Low', 'Volume', 'Amount',\n",
    "       'Marcap', 'Stocks', 'MarketId'] "
   ]
  },
  {
   "cell_type": "code",
   "execution_count": 101,
   "id": "faa01fcd-39aa-4d91-bacf-0c549bfca852",
   "metadata": {},
   "outputs": [],
   "source": [
    "stocks_desc_columns = ['Code','Sector', 'Industry', 'ListingDate',\n",
    "       'SettleMonth', 'Representative', 'HomePage', 'Region']"
   ]
  },
  {
   "cell_type": "code",
   "execution_count": 102,
   "id": "6907dbbb-74e1-4696-b8b3-6abdd8fbccc4",
   "metadata": {},
   "outputs": [
    {
     "data": {
      "text/plain": [
       "Index(['Code', 'Name', 'Market', 'Sector', 'Industry', 'ListingDate',\n",
       "       'SettleMonth', 'Representative', 'HomePage', 'Region'],\n",
       "      dtype='object')"
      ]
     },
     "execution_count": 102,
     "metadata": {},
     "output_type": "execute_result"
    }
   ],
   "source": [
    "stocks_desc.columns"
   ]
  },
  {
   "cell_type": "code",
   "execution_count": 103,
   "id": "8f67ec48-7fcf-4af4-8595-967dc3db1dee",
   "metadata": {},
   "outputs": [],
   "source": [
    "stocks_desc = stocks_desc[stocks_desc_columns]"
   ]
  },
  {
   "cell_type": "code",
   "execution_count": 104,
   "id": "23747c5e-3249-4442-b449-06d530be5ad4",
   "metadata": {},
   "outputs": [],
   "source": [
    "stocks = stocks[stocks_columns]"
   ]
  },
  {
   "cell_type": "markdown",
   "id": "060001aa-f2c5-4e07-b919-da90d9a520cc",
   "metadata": {},
   "source": [
    "#### 2개의 데이터 프레임 합치기\n",
    "\n",
    "- merge : 가로방향으로 열 추가"
   ]
  },
  {
   "cell_type": "code",
   "execution_count": 18,
   "id": "1e5fd410-708a-4f18-8525-c7aea5f8bf0c",
   "metadata": {},
   "outputs": [],
   "source": [
    "import pandas as pd"
   ]
  },
  {
   "cell_type": "code",
   "execution_count": null,
   "id": "7a849fef-05c2-4b31-8f86-d6ea52b907d1",
   "metadata": {},
   "outputs": [],
   "source": [
    "pd.merge?"
   ]
  },
  {
   "cell_type": "code",
   "execution_count": 33,
   "id": "5da77f54-b2ea-4db2-b0da-f5bf627c6d50",
   "metadata": {},
   "outputs": [],
   "source": [
    "#new_stocks join new_stocks_desc\n",
    "\n",
    "new_stocks = pd.merge(new_stocks,new_stocks_desc)"
   ]
  },
  {
   "cell_type": "code",
   "execution_count": 34,
   "id": "1909a4f3-f883-45c5-8de8-7af031798769",
   "metadata": {},
   "outputs": [
    {
     "data": {
      "text/plain": [
       "(2855, 23)"
      ]
     },
     "execution_count": 34,
     "metadata": {},
     "output_type": "execute_result"
    }
   ],
   "source": [
    "new_stocks.shape"
   ]
  },
  {
   "cell_type": "code",
   "execution_count": 108,
   "id": "cf236748-1ff6-4d5e-833b-706c9a2744eb",
   "metadata": {},
   "outputs": [
    {
     "data": {
      "text/html": [
       "<div>\n",
       "<style scoped>\n",
       "    .dataframe tbody tr th:only-of-type {\n",
       "        vertical-align: middle;\n",
       "    }\n",
       "\n",
       "    .dataframe tbody tr th {\n",
       "        vertical-align: top;\n",
       "    }\n",
       "\n",
       "    .dataframe thead th {\n",
       "        text-align: right;\n",
       "    }\n",
       "</style>\n",
       "<table border=\"1\" class=\"dataframe\">\n",
       "  <thead>\n",
       "    <tr style=\"text-align: right;\">\n",
       "      <th></th>\n",
       "      <th>Code</th>\n",
       "      <th>Name</th>\n",
       "      <th>Market</th>\n",
       "      <th>Dept</th>\n",
       "      <th>Close</th>\n",
       "      <th>ChangeCode</th>\n",
       "      <th>Changes</th>\n",
       "      <th>ChagesRatio</th>\n",
       "      <th>Open</th>\n",
       "      <th>High</th>\n",
       "      <th>...</th>\n",
       "      <th>Marcap</th>\n",
       "      <th>Stocks</th>\n",
       "      <th>MarketId</th>\n",
       "      <th>Sector</th>\n",
       "      <th>Industry</th>\n",
       "      <th>ListingDate</th>\n",
       "      <th>SettleMonth</th>\n",
       "      <th>Representative</th>\n",
       "      <th>HomePage</th>\n",
       "      <th>Region</th>\n",
       "    </tr>\n",
       "  </thead>\n",
       "  <tbody>\n",
       "    <tr>\n",
       "      <th>0</th>\n",
       "      <td>005930</td>\n",
       "      <td>삼성전자</td>\n",
       "      <td>KOSPI</td>\n",
       "      <td></td>\n",
       "      <td>54100</td>\n",
       "      <td>1</td>\n",
       "      <td>400</td>\n",
       "      <td>0.74</td>\n",
       "      <td>53900</td>\n",
       "      <td>54400</td>\n",
       "      <td>...</td>\n",
       "      <td>322965235955000</td>\n",
       "      <td>5969782550</td>\n",
       "      <td>STK</td>\n",
       "      <td>통신 및 방송 장비 제조업</td>\n",
       "      <td>통신 및 방송 장비 제조(무선) 제품, 반도체 제조(메모리) 제품, 전자부품 제조(...</td>\n",
       "      <td>1975-06-11</td>\n",
       "      <td>12월</td>\n",
       "      <td>한종희</td>\n",
       "      <td>http://www.samsung.com/sec</td>\n",
       "      <td>경기도</td>\n",
       "    </tr>\n",
       "  </tbody>\n",
       "</table>\n",
       "<p>1 rows × 23 columns</p>\n",
       "</div>"
      ],
      "text/plain": [
       "     Code  Name Market Dept  Close ChangeCode  Changes  ChagesRatio   Open  \\\n",
       "0  005930  삼성전자  KOSPI       54100          1      400         0.74  53900   \n",
       "\n",
       "    High  ...           Marcap      Stocks  MarketId          Sector  \\\n",
       "0  54400  ...  322965235955000  5969782550       STK  통신 및 방송 장비 제조업   \n",
       "\n",
       "                                            Industry ListingDate SettleMonth  \\\n",
       "0  통신 및 방송 장비 제조(무선) 제품, 반도체 제조(메모리) 제품, 전자부품 제조(...  1975-06-11         12월   \n",
       "\n",
       "  Representative                    HomePage Region  \n",
       "0            한종희  http://www.samsung.com/sec    경기도  \n",
       "\n",
       "[1 rows x 23 columns]"
      ]
     },
     "execution_count": 108,
     "metadata": {},
     "output_type": "execute_result"
    }
   ],
   "source": [
    "new_stocks.head(1)"
   ]
  },
  {
   "cell_type": "code",
   "execution_count": 109,
   "id": "b7c3ef86-dde3-4abc-8a40-b7901165976e",
   "metadata": {},
   "outputs": [
    {
     "data": {
      "text/html": [
       "<div>\n",
       "<style scoped>\n",
       "    .dataframe tbody tr th:only-of-type {\n",
       "        vertical-align: middle;\n",
       "    }\n",
       "\n",
       "    .dataframe tbody tr th {\n",
       "        vertical-align: top;\n",
       "    }\n",
       "\n",
       "    .dataframe thead th {\n",
       "        text-align: right;\n",
       "    }\n",
       "</style>\n",
       "<table border=\"1\" class=\"dataframe\">\n",
       "  <thead>\n",
       "    <tr style=\"text-align: right;\">\n",
       "      <th></th>\n",
       "      <th>Code</th>\n",
       "      <th>Sector</th>\n",
       "      <th>Industry</th>\n",
       "      <th>ListingDate</th>\n",
       "      <th>SettleMonth</th>\n",
       "      <th>Representative</th>\n",
       "      <th>HomePage</th>\n",
       "      <th>Region</th>\n",
       "    </tr>\n",
       "  </thead>\n",
       "  <tbody>\n",
       "    <tr>\n",
       "      <th>0</th>\n",
       "      <td>060310</td>\n",
       "      <td>측정, 시험, 항해, 제어 및 기타 정밀기기 제조업; 광학기기 제외</td>\n",
       "      <td>반도체 웨이퍼 캐리어</td>\n",
       "      <td>2002-04-23</td>\n",
       "      <td>03월</td>\n",
       "      <td>김세완</td>\n",
       "      <td>http://www.3sref.com</td>\n",
       "      <td>서울특별시</td>\n",
       "    </tr>\n",
       "  </tbody>\n",
       "</table>\n",
       "</div>"
      ],
      "text/plain": [
       "     Code                                 Sector     Industry ListingDate  \\\n",
       "0  060310  측정, 시험, 항해, 제어 및 기타 정밀기기 제조업; 광학기기 제외  반도체 웨이퍼 캐리어  2002-04-23   \n",
       "\n",
       "  SettleMonth Representative              HomePage Region  \n",
       "0         03월            김세완  http://www.3sref.com  서울특별시  "
      ]
     },
     "execution_count": 109,
     "metadata": {},
     "output_type": "execute_result"
    }
   ],
   "source": [
    "new_stocks_desc.head(1)"
   ]
  },
  {
   "cell_type": "markdown",
   "id": "c31d17a9-5f1c-4076-9983-a527bfb18541",
   "metadata": {},
   "source": [
    "#### 엑셀로 저장하기"
   ]
  },
  {
   "cell_type": "code",
   "execution_count": 36,
   "id": "b9f5eb78-49df-4336-9acc-054decbac29a",
   "metadata": {},
   "outputs": [
    {
     "name": "stdout",
     "output_type": "stream",
     "text": [
      "(2855, 23)\n"
     ]
    }
   ],
   "source": [
    "# 엑셀로 저장하기\n",
    "print(new_stocks.shape)\n",
    "new_stocks.to_excel('stocks.xlsx',index=False)"
   ]
  },
  {
   "cell_type": "code",
   "execution_count": 111,
   "id": "db05514c-f810-4eed-aae3-133a4eef5dcc",
   "metadata": {},
   "outputs": [],
   "source": [
    "df = pd.read_excel('stocks.xlsx')"
   ]
  },
  {
   "cell_type": "code",
   "execution_count": 112,
   "id": "eeedc482-7101-4b12-b43d-a63b3c0be235",
   "metadata": {},
   "outputs": [
    {
     "data": {
      "text/plain": [
       "(2856, 23)"
      ]
     },
     "execution_count": 112,
     "metadata": {},
     "output_type": "execute_result"
    }
   ],
   "source": [
    "df.shape"
   ]
  },
  {
   "cell_type": "code",
   "execution_count": 113,
   "id": "de925002-72d7-4e98-a65c-2ec194e7346b",
   "metadata": {},
   "outputs": [
    {
     "data": {
      "text/plain": [
       "(2856, 23)"
      ]
     },
     "execution_count": 113,
     "metadata": {},
     "output_type": "execute_result"
    }
   ],
   "source": [
    "new_stocks.shape"
   ]
  },
  {
   "cell_type": "markdown",
   "id": "f0f088b3-6640-4005-a58f-a1ea1f98a7dd",
   "metadata": {},
   "source": [
    "#### CSV로 저장하기"
   ]
  },
  {
   "cell_type": "code",
   "execution_count": 35,
   "id": "2c41afa0-6795-4981-84b9-485244fca480",
   "metadata": {},
   "outputs": [],
   "source": [
    "# CSV파일로 저장하기\n",
    "new_stocks.to_csv('stocks.csv',index=False)"
   ]
  }
 ],
 "metadata": {
  "kernelspec": {
   "display_name": "Python 3 (ipykernel)",
   "language": "python",
   "name": "python3"
  },
  "language_info": {
   "codemirror_mode": {
    "name": "ipython",
    "version": 3
   },
   "file_extension": ".py",
   "mimetype": "text/x-python",
   "name": "python",
   "nbconvert_exporter": "python",
   "pygments_lexer": "ipython3",
   "version": "3.12.7"
  }
 },
 "nbformat": 4,
 "nbformat_minor": 5
}
