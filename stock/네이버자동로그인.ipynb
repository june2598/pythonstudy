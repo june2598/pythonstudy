{
 "cells": [
  {
   "cell_type": "code",
   "execution_count": 18,
   "id": "f1e96e5b-9a11-4e96-942c-2d98ef3883ea",
   "metadata": {},
   "outputs": [],
   "source": [
    "# 셀레니움 브라우저의 동작을 자동화하는 패키지\n",
    "from selenium import webdriver\n",
    "from selenium.webdriver.chrome.options import Options\n",
    "from selenium.webdriver.common.by import By\n",
    "from selenium.webdriver.common.keys import Keys"
   ]
  },
  {
   "cell_type": "code",
   "execution_count": null,
   "id": "ed43474f-3e51-4d15-9c58-99403cfe895d",
   "metadata": {},
   "outputs": [],
   "source": [
    "!pip install pyperclip"
   ]
  },
  {
   "cell_type": "code",
   "execution_count": 16,
   "id": "9ac25b9c-8adb-4beb-8fbb-d0f52c50e515",
   "metadata": {},
   "outputs": [],
   "source": [
    "import pyperclip"
   ]
  },
  {
   "cell_type": "code",
   "execution_count": 4,
   "id": "c39e1124-f9db-4355-a2ce-6f64cc4dbd38",
   "metadata": {},
   "outputs": [],
   "source": [
    "# # 브라우저 종료 방지 옵션\n",
    "chrome_options = Options()\n",
    "chrome_options.add_experimental_option('detach',True)\n",
    "\n",
    "# # 웹 드라이버를 이용한 브라우저 제어\n",
    "driver = webdriver.Chrome(options=chrome_options)\n",
    "\n",
    "driver.implicitly_wait(1)"
   ]
  },
  {
   "cell_type": "code",
   "execution_count": 5,
   "id": "f37bdb42-0421-43ab-b34d-d1a5776a4849",
   "metadata": {},
   "outputs": [],
   "source": [
    "driver.get('http://www.naver.com')"
   ]
  },
  {
   "cell_type": "code",
   "execution_count": 6,
   "id": "5e960c79-edb3-477f-b0f6-262161f99922",
   "metadata": {},
   "outputs": [],
   "source": [
    "driver.find_element(By.CSS_SELECTOR,'#account > div > a').click()"
   ]
  },
  {
   "cell_type": "code",
   "execution_count": 11,
   "id": "78b3b738-7652-48ef-b211-0f0053b90888",
   "metadata": {},
   "outputs": [],
   "source": [
    "myid = 'hydrlisk20'"
   ]
  },
  {
   "cell_type": "code",
   "execution_count": 12,
   "id": "fa4f7d06-5fd8-4f3b-92d6-4ddf1eee6209",
   "metadata": {},
   "outputs": [],
   "source": [
    "mypw = 'duddnjs816!'"
   ]
  },
  {
   "cell_type": "code",
   "execution_count": null,
   "id": "89425ec1-566c-437d-abd0-43d7ca520dfd",
   "metadata": {},
   "outputs": [],
   "source": [
    "# driver.find_element(By.CSS_SELECTOR,'#id').send_keys(myid)\n",
    "# driver.find_element(By.CSS_SELECTOR,'#pw').send_keys(mypw)\n",
    "# driver.find_element(By.CSS_SELECTOR,'#log\\.login').click()"
   ]
  },
  {
   "cell_type": "code",
   "execution_count": 23,
   "id": "0e599502-6d34-4a2e-9daa-ce996cb51840",
   "metadata": {},
   "outputs": [],
   "source": [
    "pyperclip.copy(myid)\n",
    "driver.find_element(By.CSS_SELECTOR,'#id').send_keys(Keys.CONTROL,'v')"
   ]
  },
  {
   "cell_type": "code",
   "execution_count": 24,
   "id": "3004fcfe-8b6f-4f95-9892-3ce7033bd5da",
   "metadata": {},
   "outputs": [],
   "source": [
    "pyperclip.copy(mypw)\n",
    "driver.find_element(By.CSS_SELECTOR,'#pw').send_keys(Keys.CONTROL,'v')"
   ]
  },
  {
   "cell_type": "code",
   "execution_count": 25,
   "id": "875047f8-c12f-495d-96f2-fc6004dc4001",
   "metadata": {},
   "outputs": [],
   "source": [
    "driver.find_element(By.CSS_SELECTOR,'#log\\\\.login').click()"
   ]
  },
  {
   "cell_type": "code",
   "execution_count": null,
   "id": "ba04ccba-2032-4d4e-a8ef-84f4fda421b1",
   "metadata": {},
   "outputs": [],
   "source": []
  }
 ],
 "metadata": {
  "kernelspec": {
   "display_name": "Python 3 (ipykernel)",
   "language": "python",
   "name": "python3"
  },
  "language_info": {
   "codemirror_mode": {
    "name": "ipython",
    "version": 3
   },
   "file_extension": ".py",
   "mimetype": "text/x-python",
   "name": "python",
   "nbconvert_exporter": "python",
   "pygments_lexer": "ipython3",
   "version": "3.12.7"
  }
 },
 "nbformat": 4,
 "nbformat_minor": 5
}
