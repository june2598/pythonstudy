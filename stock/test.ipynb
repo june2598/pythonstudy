{
 "cells": [
  {
   "cell_type": "markdown",
   "id": "dce6384e-eaaa-4aec-89f9-d9c46fc47d78",
   "metadata": {},
   "source": [
    "### 정의한 함수 Docstring 작성하는 방법"
   ]
  },
  {
   "cell_type": "code",
   "execution_count": 2,
   "id": "02232b10-6940-47ec-9a4f-a5b24156ee24",
   "metadata": {},
   "outputs": [],
   "source": [
    "def sum(x,y) :\n",
    "    ''' 두개의 입력을 받아 합계를 구하는 함수\n",
    "        parameter : x 정수, y 정수\n",
    "        return value : x와 y의 합계\n",
    "    '''\n",
    "    return x + y"
   ]
  },
  {
   "cell_type": "code",
   "execution_count": 3,
   "id": "5f247d19-50c6-4ad6-b9c2-b7a716327839",
   "metadata": {},
   "outputs": [
    {
     "data": {
      "text/plain": [
       "\u001b[1;31mSignature:\u001b[0m \u001b[0msum\u001b[0m\u001b[1;33m(\u001b[0m\u001b[0mx\u001b[0m\u001b[1;33m,\u001b[0m \u001b[0my\u001b[0m\u001b[1;33m)\u001b[0m\u001b[1;33m\u001b[0m\u001b[1;33m\u001b[0m\u001b[0m\n",
       "\u001b[1;31mDocstring:\u001b[0m\n",
       "두개의 입력을 받아 합계를 구하는 함수\n",
       "parameter : x 정수, y 정수\n",
       "return value : x와 y의 합계\n",
       "\u001b[1;31mFile:\u001b[0m      c:\\users\\hydrl\\appdata\\local\\temp\\ipykernel_14504\\1517754105.py\n",
       "\u001b[1;31mType:\u001b[0m      function"
      ]
     },
     "metadata": {},
     "output_type": "display_data"
    }
   ],
   "source": [
    "sum?"
   ]
  }
 ],
 "metadata": {
  "kernelspec": {
   "display_name": "Python 3 (ipykernel)",
   "language": "python",
   "name": "python3"
  },
  "language_info": {
   "codemirror_mode": {
    "name": "ipython",
    "version": 3
   },
   "file_extension": ".py",
   "mimetype": "text/x-python",
   "name": "python",
   "nbconvert_exporter": "python",
   "pygments_lexer": "ipython3",
   "version": "3.12.7"
  }
 },
 "nbformat": 4,
 "nbformat_minor": 5
}
