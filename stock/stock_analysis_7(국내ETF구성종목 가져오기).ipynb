{
 "cells": [
  {
   "cell_type": "code",
   "execution_count": 137,
   "id": "09819a5f-3293-4809-9b0e-85d3962879af",
   "metadata": {},
   "outputs": [],
   "source": [
    "# http 요청 응답, html 구문 분석\n",
    "import requests\n",
    "from bs4 import BeautifulSoup\n",
    "import re"
   ]
  },
  {
   "cell_type": "code",
   "execution_count": 138,
   "id": "da664043-5011-45e9-b993-21e27aeb5b21",
   "metadata": {},
   "outputs": [],
   "source": [
    "# 셀레니움 브라우저의 동작을 자동화하는 패키지\n",
    "from selenium import webdriver\n",
    "from selenium.webdriver.chrome.options import Options\n",
    "from selenium.webdriver.common.by import By"
   ]
  },
  {
   "cell_type": "code",
   "execution_count": 139,
   "id": "a14c4e1e-1ca3-4eb4-a60c-d4140b03db73",
   "metadata": {},
   "outputs": [],
   "source": [
    "# 데이터 분석 패키지\n",
    "import pandas as pd"
   ]
  },
  {
   "cell_type": "code",
   "execution_count": 178,
   "id": "6a6ce581-05ee-4143-9b37-b58f9d338c43",
   "metadata": {},
   "outputs": [
    {
     "name": "stdin",
     "output_type": "stream",
     "text": [
      "ETF상품명을 입력하세요 KODEX 단기채권PLUS\n"
     ]
    },
    {
     "name": "stdout",
     "output_type": "stream",
     "text": [
      "KODEX 단기채권PLUS\n"
     ]
    }
   ],
   "source": [
    "etf_name = input('ETF상품명을 입력하세요')\n",
    "print(etf_name)"
   ]
  },
  {
   "cell_type": "code",
   "execution_count": 140,
   "id": "705ef27c-e991-4ea5-a6ba-e0cf700e81d7",
   "metadata": {},
   "outputs": [],
   "source": [
    "url = 'https://finance.naver.com/sise/etf.naver'\n",
    "# res = requests.get(url)\n",
    "# res.status_code"
   ]
  },
  {
   "cell_type": "code",
   "execution_count": null,
   "id": "572fd699-e808-4e87-9429-dffbfe7beb5a",
   "metadata": {},
   "outputs": [],
   "source": [
    "# 동적으로 요소가 생성되므로 찾고자 하는 정보를 찾을 수 없음\n",
    "pattern = re.compile(r'')\n",
    "pattern.search(res.text)"
   ]
  },
  {
   "cell_type": "code",
   "execution_count": 141,
   "id": "d8a10d5f-ca6c-41fd-99a6-c33dd9d3d53b",
   "metadata": {},
   "outputs": [],
   "source": [
    "# # 브라우저 종료 방지 옵션\n",
    "chrome_options = Options()\n",
    "chrome_options.add_experimental_option('detach',True)\n",
    "\n",
    "# # 웹 드라이버를 이용한 브라우저 제어\n",
    "driver = webdriver.Chrome(options=chrome_options)"
   ]
  },
  {
   "cell_type": "code",
   "execution_count": 142,
   "id": "f9fc1090-134d-4f37-8631-7ca6363dab9c",
   "metadata": {},
   "outputs": [],
   "source": [
    "driver.get(url)\n",
    "# 페이지가 모두 로드될때 까지 최대 2초대기\n",
    "\n",
    "# Selenium을 사용하여 웹 페이지에서 데이터를 수집할 때, 요청 사이에 텀(지연 시간)을 두는 것은 좋은 습관입니다. 이는 여러 가지 이유로 유용합니다:\n",
    "# 이유\n",
    "#  서버에 대한 부담 감소:\n",
    "#  요청을 너무 빠르게 보내면 서버에 과부하를 일으킬 수 있습니다. 이는 서버가 IP를 차단하거나 요청을 제한할 수 있는 원인이 될 수 있습니다.\n",
    "#  동적 콘텐츠 로딩:\n",
    "#  웹 페이지의 콘텐츠가 JavaScript로 동적으로 로드되는 경우, 페이지가 완전히 로드될 때까지 기다리지 않으면 필요한 데이터를 가져오지 못할 수 있습니다.\n",
    "#  디버깅:\n",
    "#  코드의 실행 속도가 너무 빠르면, 디버깅이 어려울 수 있습니다. 텀을 두면 각 단계의 결과를 쉽게 확인할 수 있습니다.\n",
    "\n",
    "driver.implicitly_wait(2)"
   ]
  },
  {
   "cell_type": "code",
   "execution_count": 143,
   "id": "fb4cfb0e-3013-4e9d-b251-90b4e30924ee",
   "metadata": {},
   "outputs": [],
   "source": [
    "soup = BeautifulSoup(driver.page_source, 'html.parser')"
   ]
  },
  {
   "cell_type": "code",
   "execution_count": 167,
   "id": "a8aed2aa-b925-483b-a3a7-66b744b0201b",
   "metadata": {},
   "outputs": [],
   "source": [
    "# etf_name = 'KODEX 단기채권PLUS'"
   ]
  },
  {
   "cell_type": "code",
   "execution_count": 168,
   "id": "ce52a2b6-30b6-4fcd-8637-71fd68a8d84b",
   "metadata": {},
   "outputs": [
    {
     "data": {
      "text/plain": [
       "'KODEX 단기채권PLUS'"
      ]
     },
     "execution_count": 168,
     "metadata": {},
     "output_type": "execute_result"
    }
   ],
   "source": [
    "etf_name"
   ]
  },
  {
   "cell_type": "code",
   "execution_count": 179,
   "id": "9f277b80-a73d-423d-9af2-7163cdef36af",
   "metadata": {},
   "outputs": [],
   "source": [
    "detail_url = 'https://finance.naver.com' + soup.select_one('#etfItemTable').find('a',string=etf_name).attrs['href']"
   ]
  },
  {
   "cell_type": "code",
   "execution_count": 180,
   "id": "358a4a28-c835-46b9-901b-3dc20dfda9d1",
   "metadata": {},
   "outputs": [
    {
     "data": {
      "text/plain": [
       "'https://finance.naver.com/item/main.naver?code=214980'"
      ]
     },
     "execution_count": 180,
     "metadata": {},
     "output_type": "execute_result"
    }
   ],
   "source": [
    "detail_url"
   ]
  },
  {
   "cell_type": "code",
   "execution_count": 171,
   "id": "71e11d08-dc60-4a96-9f39-df1f96b58f73",
   "metadata": {},
   "outputs": [],
   "source": [
    "driver.get(detail_url)"
   ]
  },
  {
   "cell_type": "code",
   "execution_count": 172,
   "id": "bd49817d-241a-48e9-97ba-1f09a18c2bc8",
   "metadata": {},
   "outputs": [
    {
     "data": {
      "text/plain": [
       "17"
      ]
     },
     "execution_count": 172,
     "metadata": {},
     "output_type": "execute_result"
    }
   ],
   "source": [
    "trs = driver.find_elements(By.CSS_SELECTOR,'#content > div.section.etf_asset > table > tbody > tr')\n",
    "len(trs)"
   ]
  },
  {
   "cell_type": "code",
   "execution_count": 173,
   "id": "028680dd-e23a-456b-9ee8-e206818485ba",
   "metadata": {},
   "outputs": [
    {
     "name": "stdout",
     "output_type": "stream",
     "text": [
      "10\n",
      "[['국민은행4408이표일(03)1.5-22', '-', '-'], ['농업금융채권(은행)2023-06이2Y-B', '-', '-'], ['부산은행2024-01이1A-22', '-', '-'], ['부산은행2024-04이1A-05', '-', '-'], ['부산은행2024-07이1A-03', '-', '-'], ['부산은행2024-12이11M-12', '-', '-'], ['부산은행2024-12이1A-10', '-', '-'], ['산업금융채권24신이0106-0312-1', '-', '-'], ['산업금융채권24신이0106-0823-2', '-', '-'], ['신한금융지주146-1', '-', '-']]\n"
     ]
    }
   ],
   "source": [
    "filtered_rows = []\n",
    "\n",
    "for tr in trs[1:]:\n",
    "    # tr 내의 모든 td 요소 찾기\n",
    "    tds = tr.find_elements(By.CSS_SELECTOR, 'td')\n",
    "\n",
    "    # 'blank' 클래스가 포함된 td가 있거나, td가 없거나, 클래스명이 'division_line'인 td가 존재하는 경우 제외\n",
    "    if all ('blank' not in td.get_attribute('class') and \n",
    "            'division_line' not in td.get_attribute('class') for td in tds) :\n",
    "        # print([td.text for td in tr.find_elements(By.CSS_SELECTOR,'td')])\n",
    "  \n",
    "        filtered_rows.append([td.text for td in tr.find_elements(By.CSS_SELECTOR,'td')])\n",
    "\n",
    "print(len(filtered_rows))\n",
    "print(filtered_rows)"
   ]
  },
  {
   "cell_type": "code",
   "execution_count": 174,
   "id": "5b84da9f-2fb7-4c27-a51c-fe942392fa0c",
   "metadata": {},
   "outputs": [
    {
     "data": {
      "text/plain": [
       "['구성종목(구성자산)', '주식수(계약수)', '구성비중']"
      ]
     },
     "execution_count": 174,
     "metadata": {},
     "output_type": "execute_result"
    }
   ],
   "source": [
    "columns = [td.text for td in trs[0].find_elements(By.CSS_SELECTOR,'th')]\n",
    "columns"
   ]
  },
  {
   "cell_type": "code",
   "execution_count": 175,
   "id": "4a6ed111-4c9e-4113-ab98-634cda3ef89c",
   "metadata": {},
   "outputs": [],
   "source": [
    "df = pd.DataFrame(filtered_rows,columns=columns)"
   ]
  },
  {
   "cell_type": "code",
   "execution_count": 176,
   "id": "f180aeee-9511-41df-bfdb-ac27bc5d6c8c",
   "metadata": {},
   "outputs": [
    {
     "data": {
      "text/html": [
       "<div>\n",
       "<style scoped>\n",
       "    .dataframe tbody tr th:only-of-type {\n",
       "        vertical-align: middle;\n",
       "    }\n",
       "\n",
       "    .dataframe tbody tr th {\n",
       "        vertical-align: top;\n",
       "    }\n",
       "\n",
       "    .dataframe thead th {\n",
       "        text-align: right;\n",
       "    }\n",
       "</style>\n",
       "<table border=\"1\" class=\"dataframe\">\n",
       "  <thead>\n",
       "    <tr style=\"text-align: right;\">\n",
       "      <th></th>\n",
       "      <th>구성종목(구성자산)</th>\n",
       "      <th>주식수(계약수)</th>\n",
       "      <th>구성비중</th>\n",
       "    </tr>\n",
       "  </thead>\n",
       "  <tbody>\n",
       "    <tr>\n",
       "      <th>0</th>\n",
       "      <td>국민은행4408이표일(03)1.5-22</td>\n",
       "      <td>-</td>\n",
       "      <td>-</td>\n",
       "    </tr>\n",
       "    <tr>\n",
       "      <th>1</th>\n",
       "      <td>농업금융채권(은행)2023-06이2Y-B</td>\n",
       "      <td>-</td>\n",
       "      <td>-</td>\n",
       "    </tr>\n",
       "    <tr>\n",
       "      <th>2</th>\n",
       "      <td>부산은행2024-01이1A-22</td>\n",
       "      <td>-</td>\n",
       "      <td>-</td>\n",
       "    </tr>\n",
       "    <tr>\n",
       "      <th>3</th>\n",
       "      <td>부산은행2024-04이1A-05</td>\n",
       "      <td>-</td>\n",
       "      <td>-</td>\n",
       "    </tr>\n",
       "    <tr>\n",
       "      <th>4</th>\n",
       "      <td>부산은행2024-07이1A-03</td>\n",
       "      <td>-</td>\n",
       "      <td>-</td>\n",
       "    </tr>\n",
       "    <tr>\n",
       "      <th>5</th>\n",
       "      <td>부산은행2024-12이11M-12</td>\n",
       "      <td>-</td>\n",
       "      <td>-</td>\n",
       "    </tr>\n",
       "    <tr>\n",
       "      <th>6</th>\n",
       "      <td>부산은행2024-12이1A-10</td>\n",
       "      <td>-</td>\n",
       "      <td>-</td>\n",
       "    </tr>\n",
       "    <tr>\n",
       "      <th>7</th>\n",
       "      <td>산업금융채권24신이0106-0312-1</td>\n",
       "      <td>-</td>\n",
       "      <td>-</td>\n",
       "    </tr>\n",
       "    <tr>\n",
       "      <th>8</th>\n",
       "      <td>산업금융채권24신이0106-0823-2</td>\n",
       "      <td>-</td>\n",
       "      <td>-</td>\n",
       "    </tr>\n",
       "    <tr>\n",
       "      <th>9</th>\n",
       "      <td>신한금융지주146-1</td>\n",
       "      <td>-</td>\n",
       "      <td>-</td>\n",
       "    </tr>\n",
       "  </tbody>\n",
       "</table>\n",
       "</div>"
      ],
      "text/plain": [
       "               구성종목(구성자산) 주식수(계약수) 구성비중\n",
       "0   국민은행4408이표일(03)1.5-22        -    -\n",
       "1  농업금융채권(은행)2023-06이2Y-B        -    -\n",
       "2       부산은행2024-01이1A-22        -    -\n",
       "3       부산은행2024-04이1A-05        -    -\n",
       "4       부산은행2024-07이1A-03        -    -\n",
       "5      부산은행2024-12이11M-12        -    -\n",
       "6       부산은행2024-12이1A-10        -    -\n",
       "7   산업금융채권24신이0106-0312-1        -    -\n",
       "8   산업금융채권24신이0106-0823-2        -    -\n",
       "9             신한금융지주146-1        -    -"
      ]
     },
     "execution_count": 176,
     "metadata": {},
     "output_type": "execute_result"
    }
   ],
   "source": [
    "df"
   ]
  },
  {
   "cell_type": "code",
   "execution_count": null,
   "id": "07fc6201-d50f-4bc2-98e8-d2da22bac8b7",
   "metadata": {},
   "outputs": [],
   "source": [
    "driver.quit()"
   ]
  }
 ],
 "metadata": {
  "kernelspec": {
   "display_name": "Python 3 (ipykernel)",
   "language": "python",
   "name": "python3"
  },
  "language_info": {
   "codemirror_mode": {
    "name": "ipython",
    "version": 3
   },
   "file_extension": ".py",
   "mimetype": "text/x-python",
   "name": "python",
   "nbconvert_exporter": "python",
   "pygments_lexer": "ipython3",
   "version": "3.12.7"
  }
 },
 "nbformat": 4,
 "nbformat_minor": 5
}
