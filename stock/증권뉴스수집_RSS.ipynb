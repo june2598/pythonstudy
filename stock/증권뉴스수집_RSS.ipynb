{
 "cells": [
  {
   "cell_type": "code",
   "execution_count": 35,
   "id": "02798793-960a-4ece-9283-651ee1440b5d",
   "metadata": {},
   "outputs": [],
   "source": [
    "import requests\n",
    "from bs4 import BeautifulSoup\n",
    "import re\n",
    "import pandas as pd\n",
    "import numpy as np"
   ]
  },
  {
   "cell_type": "code",
   "execution_count": 36,
   "id": "2543859d-20f7-4b83-b6ed-55d0b0fd9fa4",
   "metadata": {},
   "outputs": [],
   "source": [
    "news_rss_url = {\n",
    "    '매일경제': 'https://www.mk.co.kr/rss/50200011/',\n",
    "    '한국경제': 'https://www.hankyung.com/feed/finance'\n",
    "}"
   ]
  },
  {
   "cell_type": "code",
   "execution_count": 37,
   "id": "ed9f448a-bbf0-4ef1-9e66-0145c66c7272",
   "metadata": {},
   "outputs": [],
   "source": [
    "class Article :\n",
    "    def __init__(self, *, media, datetime, title, content) :\n",
    "        self.media = media\n",
    "        self.datetime = datetime\n",
    "        self.title = title\n",
    "        self.content = content\n",
    "\n",
    "    # def __repr__(self):\n",
    "    #     return f\"Article(media='{self.media}', datetime='{self.datetime}', title='{self.title}', content='{self.content}'\"\n"
   ]
  },
  {
   "cell_type": "markdown",
   "id": "d782a4b4-9828-48a1-92d0-fe1bf3bfb418",
   "metadata": {},
   "source": [
    "requests.get으로 요청했을 때 res.content가 b''로 나타나는 경우는 여러 가지 이유가 있을 수 있습니다. 특히, 해당 웹사이트가 특정 조건을 충족하지 않으면 콘텐츠를 제공하지 않도록 설정되어 있을 수 있습니다. 다음은 가능한 원인과 해결 방법입니다.\n",
    "\n",
    "차단된 요청:\n",
    "웹사이트에서 봇이나 스크래퍼의 접근을 차단할 수 있습니다. 이 경우, User-Agent 헤더를 추가하여 요청을 브라우저에서 보낸 것처럼 보이게 해야 할 수 있습니다."
   ]
  },
  {
   "cell_type": "code",
   "execution_count": 98,
   "id": "9c5ce620-2c45-480f-a6a0-1fb00ee94549",
   "metadata": {},
   "outputs": [],
   "source": [
    "\n",
    "\n",
    "\n",
    "def get_news_rss(media,url) :\n",
    "\n",
    "    article_list = []\n",
    "    title_list = []      # 기사 제목 목록\n",
    "    link_list = []       # 기사 링크 목록\n",
    "    news_data = []       # 기사 본문 목록\n",
    "    news_datetime = []   # 기사 작성일시 목록\n",
    "\n",
    "    headers = {\n",
    "    'User-Agent': 'Mozilla/5.0 (Windows NT 10.0; Win64; x64) AppleWebKit/537.36 (KHTML, like Gecko) Chrome/131.0.0.0 Safari/537.36'\n",
    "    }\n",
    "    news_rss = requests.get(url, headers=headers)\n",
    "    news_rss_soup = BeautifulSoup(news_rss.content,'xml')\n",
    "\n",
    "    # 기사 제목 수집\n",
    "    title_list = news_rss_soup.select('item > title')\n",
    "    title_list = [title.text for title in title_list]\n",
    "\n",
    "    # 기사 상세링크 수집\n",
    "    link_list = news_rss_soup.select('item > link')\n",
    "    link_list = [link.text for link in link_list]\n",
    "\n",
    "    # 기사 내용, 기사 작성일시 수집\n",
    "    for link in link_list :\n",
    "        news_res = requests.get(link, headers=headers)\n",
    "        news_content_soup = BeautifulSoup(news_res.content, 'lxml')\n",
    "\n",
    "        if media == '매일경제' :\n",
    "            news_content = news_content_soup.select_one('.news_cnt_detail_wrap')\n",
    "            news_data.append(news_content.text)\n",
    "            news_datetime.append(news_content_soup.select_one('.time_area .registration dd').text)\n",
    "\n",
    "        elif media == '한국경제' : \n",
    "            news_content = news_content_soup.select_one('#articletxt')\n",
    "            if news_content:\n",
    "                news_data.append(news_content.text)\n",
    "                datetime_element = news_content_soup.select_one('.datetime > .item > .txt-date')\n",
    "                news_datetime.append(datetime_element.text)\n",
    "            else:\n",
    "                print(link)\n",
    "                continue\n",
    "         \n",
    "        # 기사 목록\n",
    "    for item in zip(title_list, news_data, news_datetime) : \n",
    "        article = Article(media = media, title = item[0], content=item[1], datetime = item[2])\n",
    "        article_list.append(article)\n",
    "    return article_list\n"
   ]
  },
  {
   "cell_type": "code",
   "execution_count": 99,
   "id": "589f581d-9954-4496-b24d-7bdb23a9cdf4",
   "metadata": {},
   "outputs": [
    {
     "name": "stdout",
     "output_type": "stream",
     "text": [
      "매일경제 https://www.mk.co.kr/rss/50200011/\n",
      "한국경제 https://www.hankyung.com/feed/finance\n",
      "2\n"
     ]
    }
   ],
   "source": [
    "# 모든 언론사 기사 합치기\n",
    "\n",
    "all_article_list=[]\n",
    "for media,url in news_rss_url.items():\n",
    "    print(media,url)\n",
    "    list_data = get_news_rss(media, url)\n",
    "    all_article_list.append(list_data)\n",
    "print(len(all_article_list))"
   ]
  },
  {
   "cell_type": "code",
   "execution_count": 100,
   "id": "dac9e57c-348c-4cd3-8f9e-e50b3d159132",
   "metadata": {},
   "outputs": [
    {
     "name": "stdout",
     "output_type": "stream",
     "text": [
      "100\n",
      "<class 'list'>\n"
     ]
    }
   ],
   "source": [
    "result = np.array(all_article_list).flatten().tolist()\n",
    "print(len(result))\n",
    "print(type(result))"
   ]
  },
  {
   "cell_type": "code",
   "execution_count": 102,
   "id": "8d1051ae-9209-4a05-a285-17dc020c5b72",
   "metadata": {},
   "outputs": [],
   "source": [
    "data = {\n",
    "    '언론사': [article.media for article in result ],\n",
    "    '제목': [article.title for article in result ],\n",
    "    '내용': [article.content for article in result ],\n",
    "    '작성일시': [article.datetime for article in result ],    \n",
    "}"
   ]
  },
  {
   "cell_type": "code",
   "execution_count": 103,
   "id": "96a4d25d-8038-401d-8aa7-8e1c3d8df04b",
   "metadata": {},
   "outputs": [
    {
     "data": {
      "text/html": [
       "<div>\n",
       "<style scoped>\n",
       "    .dataframe tbody tr th:only-of-type {\n",
       "        vertical-align: middle;\n",
       "    }\n",
       "\n",
       "    .dataframe tbody tr th {\n",
       "        vertical-align: top;\n",
       "    }\n",
       "\n",
       "    .dataframe thead th {\n",
       "        text-align: right;\n",
       "    }\n",
       "</style>\n",
       "<table border=\"1\" class=\"dataframe\">\n",
       "  <thead>\n",
       "    <tr style=\"text-align: right;\">\n",
       "      <th></th>\n",
       "      <th>언론사</th>\n",
       "      <th>제목</th>\n",
       "      <th>내용</th>\n",
       "      <th>작성일시</th>\n",
       "    </tr>\n",
       "  </thead>\n",
       "  <tbody>\n",
       "    <tr>\n",
       "      <th>0</th>\n",
       "      <td>매일경제</td>\n",
       "      <td>토스증권 커뮤니티서 가장 많은 관심 받은 종목은 ‘엔비디아’…2·3위는?</td>\n",
       "      <td>\\n      사진 확대    토스증권 2024년 커뮤니티 결산 이미지. [사진 출...</td>\n",
       "      <td>2024-12-26 14:00:29</td>\n",
       "    </tr>\n",
       "    <tr>\n",
       "      <th>1</th>\n",
       "      <td>매일경제</td>\n",
       "      <td>같은 조선株여도 갈린 초고수의 선택…삼성重은 매수·현대重은 매도 [주식 초고수는 지금]</td>\n",
       "      <td>\\n주식 투사 수익률 상위 1% 초고수들은 26일 오전 9시 30분 기준 HD현대일...</td>\n",
       "      <td>2024-12-26 13:52:54</td>\n",
       "    </tr>\n",
       "    <tr>\n",
       "      <th>2</th>\n",
       "      <td>매일경제</td>\n",
       "      <td>“美 대선 등 대내외 불확실성 높았던 한 해”…코스닥 공모 금액도 3년째 줄어</td>\n",
       "      <td>\\n      사진 확대    한국거래소 황소상. [사진 제공 = 한국거래소]  코...</td>\n",
       "      <td>2024-12-26 13:52:14</td>\n",
       "    </tr>\n",
       "  </tbody>\n",
       "</table>\n",
       "</div>"
      ],
      "text/plain": [
       "    언론사                                                제목  \\\n",
       "0  매일경제          토스증권 커뮤니티서 가장 많은 관심 받은 종목은 ‘엔비디아’…2·3위는?   \n",
       "1  매일경제  같은 조선株여도 갈린 초고수의 선택…삼성重은 매수·현대重은 매도 [주식 초고수는 지금]   \n",
       "2  매일경제       “美 대선 등 대내외 불확실성 높았던 한 해”…코스닥 공모 금액도 3년째 줄어   \n",
       "\n",
       "                                                  내용                 작성일시  \n",
       "0  \\n      사진 확대    토스증권 2024년 커뮤니티 결산 이미지. [사진 출...  2024-12-26 14:00:29  \n",
       "1  \\n주식 투사 수익률 상위 1% 초고수들은 26일 오전 9시 30분 기준 HD현대일...  2024-12-26 13:52:54  \n",
       "2  \\n      사진 확대    한국거래소 황소상. [사진 제공 = 한국거래소]  코...  2024-12-26 13:52:14  "
      ]
     },
     "execution_count": 103,
     "metadata": {},
     "output_type": "execute_result"
    }
   ],
   "source": [
    "df = pd.DataFrame(data)\n",
    "df.head(3)"
   ]
  },
  {
   "cell_type": "code",
   "execution_count": 104,
   "id": "603e6bba-42e2-4465-9559-1806476cbab6",
   "metadata": {},
   "outputs": [
    {
     "data": {
      "text/plain": [
       "'2024-12-26'"
      ]
     },
     "execution_count": 104,
     "metadata": {},
     "output_type": "execute_result"
    }
   ],
   "source": [
    "# 날짜는 파이썬 표준 라이브러리 datetime 사용\n",
    "import datetime\n",
    "# 오늘 날짜 가져오기\n",
    "today = datetime.datetime.today()\n",
    "today = today.strftime('%Y-%m-%d')\n",
    "today"
   ]
  },
  {
   "cell_type": "code",
   "execution_count": 105,
   "id": "11779f6f-fa38-4f6c-aafe-793d42802d0a",
   "metadata": {},
   "outputs": [
    {
     "data": {
      "text/plain": [
       "'news_2024-12-26.csv'"
      ]
     },
     "execution_count": 105,
     "metadata": {},
     "output_type": "execute_result"
    }
   ],
   "source": [
    "file_name = f'news_{today}.csv'\n",
    "file_name"
   ]
  },
  {
   "cell_type": "code",
   "execution_count": 106,
   "id": "9f35b7c2-3047-4115-9b49-d3056fcbdd13",
   "metadata": {},
   "outputs": [],
   "source": [
    "df.to_csv(file_name,index=False)"
   ]
  },
  {
   "cell_type": "code",
   "execution_count": null,
   "id": "4c750a64-d852-4c64-92fd-eaac61ce784c",
   "metadata": {},
   "outputs": [],
   "source": []
  }
 ],
 "metadata": {
  "kernelspec": {
   "display_name": "Python 3 (ipykernel)",
   "language": "python",
   "name": "python3"
  },
  "language_info": {
   "codemirror_mode": {
    "name": "ipython",
    "version": 3
   },
   "file_extension": ".py",
   "mimetype": "text/x-python",
   "name": "python",
   "nbconvert_exporter": "python",
   "pygments_lexer": "ipython3",
   "version": "3.12.7"
  }
 },
 "nbformat": 4,
 "nbformat_minor": 5
}
