{
 "cells": [
  {
   "cell_type": "code",
   "execution_count": 1,
   "id": "02798793-960a-4ece-9283-651ee1440b5d",
   "metadata": {},
   "outputs": [],
   "source": [
    "import requests\n",
    "from bs4 import BeautifulSoup\n",
    "import re\n",
    "import pandas as pd\n",
    "import numpy as np"
   ]
  },
  {
   "cell_type": "code",
   "execution_count": 2,
   "id": "2543859d-20f7-4b83-b6ed-55d0b0fd9fa4",
   "metadata": {},
   "outputs": [],
   "source": [
    "#\n",
    "\n",
    "news_rss_url = {\n",
    "    '매일경제': 'https://www.mk.co.kr/rss/50200011/',\n",
    "    '한국경제': 'https://www.hankyung.com/feed/finance'\n",
    "}"
   ]
  },
  {
   "cell_type": "code",
   "execution_count": 3,
   "id": "ed9f448a-bbf0-4ef1-9e66-0145c66c7272",
   "metadata": {},
   "outputs": [],
   "source": [
    "# 기사 한건의 정보를 저장하기위한 자료구조\n",
    "class Article :\n",
    "    def __init__(self, *, media, datetime, title, content) :\n",
    "        self.media = media                    # 언론사\n",
    "        self.datetime = datetime              # 작성일시\n",
    "        self.title = title                    # 뉴스제목\n",
    "        self.content = content                # 뉴스내용\n",
    "\n",
    "    # def __repr__(self):\n",
    "    #     return f\"Article(media='{self.media}', datetime='{self.datetime}', title='{self.title}', content='{self.content}'\"\n"
   ]
  },
  {
   "cell_type": "markdown",
   "id": "d782a4b4-9828-48a1-92d0-fe1bf3bfb418",
   "metadata": {},
   "source": [
    "requests.get으로 요청했을 때 res.content가 b''로 나타나는 경우는 여러 가지 이유가 있을 수 있습니다. 특히, 해당 웹사이트가 특정 조건을 충족하지 않으면 콘텐츠를 제공하지 않도록 설정되어 있을 수 있습니다. 다음은 가능한 원인과 해결 방법입니다.\n",
    "\n",
    "차단된 요청:\n",
    "웹사이트에서 봇이나 스크래퍼의 접근을 차단할 수 있습니다. 이 경우, User-Agent 헤더를 추가하여 요청을 브라우저에서 보낸 것처럼 보이게 해야 할 수 있습니다."
   ]
  },
  {
   "cell_type": "code",
   "execution_count": 4,
   "id": "9c5ce620-2c45-480f-a6a0-1fb00ee94549",
   "metadata": {},
   "outputs": [],
   "source": [
    "\n",
    "\n",
    "\n",
    "def get_news_rss(media,url) :\n",
    "    '''Docstring\n",
    "    매개변수 : media-언론사명, url - 언론사의 rss url\n",
    "    반환값 : 기사를 요소로 갖는 목록\n",
    "    '''\n",
    "\n",
    "    article_list = []\n",
    "    title_list = []      # 기사 제목 목록\n",
    "    link_list = []       # 기사 링크 목록\n",
    "    news_data = []       # 기사 본문 목록\n",
    "    news_datetime = []   # 기사 작성일시 목록\n",
    "\n",
    "    # 웹사이트에서 봇이나 스크래퍼의 접근을 차단하는 경우 존재 - User-Agent 헤더를 추가해 요청을 브라우저에서 보낸것처럼 보이게 함\n",
    "    headers = {\n",
    "    'User-Agent': 'Mozilla/5.0 (Windows NT 10.0; Win64; x64) AppleWebKit/537.36 (KHTML, like Gecko) Chrome/131.0.0.0 Safari/537.36'\n",
    "    }\n",
    "    \n",
    "    news_rss = requests.get(url, headers=headers)\n",
    "    if news_rss.status_code != 200 :\n",
    "        raise Exception('응답오류 발생')\n",
    "\n",
    "    news_rss_soup = BeautifulSoup(news_rss.content,'xml')\n",
    "\n",
    "    # 기사 제목 수집\n",
    "    title_list = news_rss_soup.select('item > title')\n",
    "    title_list = [title.text for title in title_list]\n",
    "\n",
    "    # 기사 상세링크 수집\n",
    "    link_list = news_rss_soup.select('item > link')\n",
    "    link_list = [link.text for link in link_list]\n",
    "\n",
    "    # 기사 내용, 기사 작성일시 수집\n",
    "    for link in link_list :\n",
    "        news_res = requests.get(link, headers=headers)\n",
    "        news_content_soup = BeautifulSoup(news_res.content, 'lxml')\n",
    "        try :\n",
    "            if media == '매일경제' :\n",
    "                news_content = news_content_soup.select_one('.news_cnt_detail_wrap')\n",
    "                news_data.append(news_content.text)\n",
    "                news_datetime.append(news_content_soup.select_one('.time_area .registration dd').text)\n",
    "    \n",
    "            elif media == '한국경제' : \n",
    "                news_content = news_content_soup.select_one('#articletxt')\n",
    "                if news_content:\n",
    "                    news_data.append(news_content.text)\n",
    "                    datetime_element = news_content_soup.select_one('.datetime > .item > .txt-date')\n",
    "                    news_datetime.append(datetime_element.text)\n",
    "        except Exception as e:\n",
    "            print(len(news_data),link)\n",
    "            print(e)\n",
    "         \n",
    "        # 기사 목록\n",
    "    for item in zip(title_list, news_data, news_datetime) : \n",
    "        article = Article(media = media, title = item[0], content=item[1], datetime = item[2])\n",
    "        article_list.append(article)\n",
    "    return article_list\n"
   ]
  },
  {
   "cell_type": "code",
   "execution_count": 5,
   "id": "589f581d-9954-4496-b24d-7bdb23a9cdf4",
   "metadata": {},
   "outputs": [
    {
     "name": "stdout",
     "output_type": "stream",
     "text": [
      "매일경제 https://www.mk.co.kr/rss/50200011/\n",
      "한국경제 https://www.hankyung.com/feed/finance\n",
      "2\n"
     ]
    }
   ],
   "source": [
    "# 모든 언론사 기사 합치기\n",
    "\n",
    "all_article_list=[]\n",
    "for media,url in news_rss_url.items():\n",
    "    print(media,url)\n",
    "    list_data = get_news_rss(media, url)\n",
    "    all_article_list.append(list_data)\n",
    "print(len(all_article_list))"
   ]
  },
  {
   "cell_type": "code",
   "execution_count": 6,
   "id": "dac9e57c-348c-4cd3-8f9e-e50b3d159132",
   "metadata": {},
   "outputs": [
    {
     "name": "stdout",
     "output_type": "stream",
     "text": [
      "100\n",
      "<class 'list'>\n"
     ]
    }
   ],
   "source": [
    "# n차원 리스트 -> 배열로 flatten() - 평탄하게\n",
    "result = np.array(all_article_list).flatten().tolist()\n",
    "print(len(result))\n",
    "print(type(result))"
   ]
  },
  {
   "cell_type": "code",
   "execution_count": 7,
   "id": "8d1051ae-9209-4a05-a285-17dc020c5b72",
   "metadata": {},
   "outputs": [],
   "source": [
    "data = {\n",
    "    '언론사': [article.media for article in result ],\n",
    "    '제목': [article.title for article in result ],\n",
    "    '내용': [article.content for article in result ],\n",
    "    '작성일시': [article.datetime for article in result ],    \n",
    "}"
   ]
  },
  {
   "cell_type": "code",
   "execution_count": 8,
   "id": "96a4d25d-8038-401d-8aa7-8e1c3d8df04b",
   "metadata": {},
   "outputs": [
    {
     "data": {
      "text/html": [
       "<div>\n",
       "<style scoped>\n",
       "    .dataframe tbody tr th:only-of-type {\n",
       "        vertical-align: middle;\n",
       "    }\n",
       "\n",
       "    .dataframe tbody tr th {\n",
       "        vertical-align: top;\n",
       "    }\n",
       "\n",
       "    .dataframe thead th {\n",
       "        text-align: right;\n",
       "    }\n",
       "</style>\n",
       "<table border=\"1\" class=\"dataframe\">\n",
       "  <thead>\n",
       "    <tr style=\"text-align: right;\">\n",
       "      <th></th>\n",
       "      <th>언론사</th>\n",
       "      <th>제목</th>\n",
       "      <th>내용</th>\n",
       "      <th>작성일시</th>\n",
       "    </tr>\n",
       "  </thead>\n",
       "  <tbody>\n",
       "    <tr>\n",
       "      <th>0</th>\n",
       "      <td>매일경제</td>\n",
       "      <td>‘오징어게임2’ 외신 혹평에...테마주 동반 폭락</td>\n",
       "      <td>\\n      사진 확대    ‘오징어 게임2’. 제공|넷플릭스  전 세계적 기대작...</td>\n",
       "      <td>2024-12-27 09:38:05</td>\n",
       "    </tr>\n",
       "    <tr>\n",
       "      <th>1</th>\n",
       "      <td>매일경제</td>\n",
       "      <td>주가는 뒷걸음질인데 외국인은 산다?…‘게임주’에 쏠리는 시선</td>\n",
       "      <td>\\n      사진 확대    독일에서 열린 게임쇼 ‘게임스컴’ 부스의 크래프톤 로...</td>\n",
       "      <td>2024-12-27 09:00:51</td>\n",
       "    </tr>\n",
       "    <tr>\n",
       "      <th>2</th>\n",
       "      <td>매일경제</td>\n",
       "      <td>두산에너빌리티, 국제핵비확산협력센터와 원전 수출 사업지원 협약</td>\n",
       "      <td>\\n 원전, SMR 해외시장 진출 관련 정책 개발 환경 조성        사진 확대...</td>\n",
       "      <td>2024-12-27 08:39:43</td>\n",
       "    </tr>\n",
       "  </tbody>\n",
       "</table>\n",
       "</div>"
      ],
      "text/plain": [
       "    언론사                                  제목  \\\n",
       "0  매일경제         ‘오징어게임2’ 외신 혹평에...테마주 동반 폭락   \n",
       "1  매일경제   주가는 뒷걸음질인데 외국인은 산다?…‘게임주’에 쏠리는 시선   \n",
       "2  매일경제  두산에너빌리티, 국제핵비확산협력센터와 원전 수출 사업지원 협약   \n",
       "\n",
       "                                                  내용                 작성일시  \n",
       "0  \\n      사진 확대    ‘오징어 게임2’. 제공|넷플릭스  전 세계적 기대작...  2024-12-27 09:38:05  \n",
       "1  \\n      사진 확대    독일에서 열린 게임쇼 ‘게임스컴’ 부스의 크래프톤 로...  2024-12-27 09:00:51  \n",
       "2  \\n 원전, SMR 해외시장 진출 관련 정책 개발 환경 조성        사진 확대...  2024-12-27 08:39:43  "
      ]
     },
     "execution_count": 8,
     "metadata": {},
     "output_type": "execute_result"
    }
   ],
   "source": [
    "df = pd.DataFrame(data)\n",
    "df.head(3)"
   ]
  },
  {
   "cell_type": "code",
   "execution_count": 9,
   "id": "603e6bba-42e2-4465-9559-1806476cbab6",
   "metadata": {},
   "outputs": [
    {
     "data": {
      "text/plain": [
       "'2024-12-27'"
      ]
     },
     "execution_count": 9,
     "metadata": {},
     "output_type": "execute_result"
    }
   ],
   "source": [
    "# 날짜는 파이썬 표준 라이브러리 datetime 사용\n",
    "import datetime\n",
    "# 오늘 날짜 가져오기\n",
    "today = datetime.datetime.today()\n",
    "today = today.strftime('%Y-%m-%d')\n",
    "today"
   ]
  },
  {
   "cell_type": "code",
   "execution_count": 10,
   "id": "11779f6f-fa38-4f6c-aafe-793d42802d0a",
   "metadata": {},
   "outputs": [
    {
     "data": {
      "text/plain": [
       "'news_2024-12-27.csv'"
      ]
     },
     "execution_count": 10,
     "metadata": {},
     "output_type": "execute_result"
    }
   ],
   "source": [
    "file_name = f'news_{today}.csv'\n",
    "file_name"
   ]
  },
  {
   "cell_type": "code",
   "execution_count": 11,
   "id": "9f35b7c2-3047-4115-9b49-d3056fcbdd13",
   "metadata": {},
   "outputs": [],
   "source": [
    "df.to_csv(file_name,index=False)"
   ]
  },
  {
   "cell_type": "code",
   "execution_count": null,
   "id": "46fc9554-fd36-4c24-8b68-df60077e6a37",
   "metadata": {},
   "outputs": [],
   "source": []
  }
 ],
 "metadata": {
  "kernelspec": {
   "display_name": "Python 3 (ipykernel)",
   "language": "python",
   "name": "python3"
  },
  "language_info": {
   "codemirror_mode": {
    "name": "ipython",
    "version": 3
   },
   "file_extension": ".py",
   "mimetype": "text/x-python",
   "name": "python",
   "nbconvert_exporter": "python",
   "pygments_lexer": "ipython3",
   "version": "3.12.7"
  }
 },
 "nbformat": 4,
 "nbformat_minor": 5
}
